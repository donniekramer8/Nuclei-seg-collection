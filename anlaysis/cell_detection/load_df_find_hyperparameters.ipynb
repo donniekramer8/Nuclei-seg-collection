{
 "cells": [
  {
   "cell_type": "code",
   "execution_count": 1,
   "metadata": {
    "collapsed": true,
    "ExecuteTime": {
     "end_time": "2023-12-14T15:52:46.838941300Z",
     "start_time": "2023-12-14T15:52:46.377029200Z"
    }
   },
   "outputs": [],
   "source": [
    "import sys\n",
    "sys.path.insert(1, r'C:\\Users\\Donald\\PycharmProjects\\monkey_nuc_segment\\stardist\\monkey')\n",
    "from scoring_for_donald import TileSetScorer, ScoringSubroutine"
   ]
  },
  {
   "cell_type": "code",
   "execution_count": 2,
   "outputs": [],
   "source": [
    "from __future__ import print_function, unicode_literals, absolute_import, division\n",
    "import sys\n",
    "import numpy as np\n",
    "import matplotlib\n",
    "import json\n",
    "matplotlib.rcParams[\"image.interpolation\"] = 'nearest'\n",
    "import matplotlib.pyplot as plt\n",
    "import os\n",
    "from PIL import Image\n",
    "import tensorflow as tf\n",
    "from glob import glob\n",
    "from tqdm import tqdm\n",
    "from tifffile import imread\n",
    "import struct\n",
    "import pandas as pd\n",
    "import cv2\n",
    "from csbdeep.utils import Path, normalize\n",
    "from glob import glob\n",
    "\n",
    "from stardist import fill_label_holes, random_label_cmap, calculate_extents, gputools_available\n",
    "from stardist.models import Config2D, StarDist2D, StarDistData2D"
   ],
   "metadata": {
    "collapsed": false,
    "ExecuteTime": {
     "end_time": "2023-12-14T15:52:49.961753Z",
     "start_time": "2023-12-14T15:52:46.838941300Z"
    }
   }
  },
  {
   "cell_type": "code",
   "execution_count": 3,
   "outputs": [],
   "source": [
    "def load_model(model_path: str) -> StarDist2D:\n",
    "    # Load StarDist model weights, configurations, and thresholds\n",
    "    with open(model_path + '\\\\config.json', 'r') as f:\n",
    "        config = json.load(f)\n",
    "    with open(model_path + '\\\\thresholds.json', 'r') as f:\n",
    "        thresh = json.load(f)\n",
    "    model = StarDist2D(config=Config2D(**config), basedir=model_path, name='offshoot_model')\n",
    "    model.thresholds = thresh\n",
    "    print('Overriding defaults:', model.thresholds, '\\n')\n",
    "    model.load_weights(model_path + '\\\\weights_best.h5')\n",
    "    return model"
   ],
   "metadata": {
    "collapsed": false,
    "ExecuteTime": {
     "end_time": "2023-12-14T15:52:49.976647600Z",
     "start_time": "2023-12-14T15:52:49.962694Z"
    }
   }
  },
  {
   "cell_type": "code",
   "execution_count": 4,
   "outputs": [],
   "source": [
    "# load tile images and masks\n",
    "pthHE = r'\\\\10.99.68.178\\andreex\\data\\Stardist\\Testing\\monkey\\tiles'\n",
    "pthmasks = r'\\\\10.99.68.178\\andreex\\data\\Stardist\\Testing\\monkey\\qupath\\ground_truth\\masks'\n",
    "\n",
    "HE_tiles_pths = sorted(glob(os.path.join(pthHE,'*.tif')))\n",
    "mask_tiles_pths = sorted(glob(os.path.join(pthmasks,'*.tif')))\n",
    "\n",
    "HE_tiles = list(map(imread,HE_tiles_pths))\n",
    "mask_tiles = list(map(imread,mask_tiles_pths))\n",
    "\n",
    "HE_tiles_default = [normalize(x) for x in HE_tiles]  # just divide by 255 to get into (0,1) range\n",
    "mask_tiles_default = [fill_label_holes(y) for y in mask_tiles]  # fills holes in annotations if there are any\n",
    "\n",
    "HE_tiles = [x/255 for x in HE_tiles]  # just divide by 255 to get into (0,1) range\n",
    "mask_tiles = [fill_label_holes(y) for y in mask_tiles]  # fills holes in annotations if there are any"
   ],
   "metadata": {
    "collapsed": false,
    "ExecuteTime": {
     "end_time": "2023-12-14T15:52:57.309600300Z",
     "start_time": "2023-12-14T15:52:49.978640500Z"
    }
   }
  },
  {
   "cell_type": "code",
   "execution_count": 6,
   "outputs": [],
   "source": [
    "pth_pickle = r'\\\\10.99.68.178\\andreex\\data\\Stardist\\hyperparameter_testing_12_13_data\\results_FINAL.pkl'\n",
    "df = pd.read_pickle(pth_pickle)"
   ],
   "metadata": {
    "collapsed": false,
    "ExecuteTime": {
     "end_time": "2023-12-14T15:53:06.945516100Z",
     "start_time": "2023-12-14T15:53:06.785314Z"
    }
   }
  },
  {
   "cell_type": "code",
   "execution_count": 8,
   "outputs": [
    {
     "data": {
      "text/plain": "96"
     },
     "execution_count": 8,
     "metadata": {},
     "output_type": "execute_result"
    }
   ],
   "source": [
    "len(df)"
   ],
   "metadata": {
    "collapsed": false,
    "ExecuteTime": {
     "end_time": "2023-12-14T15:53:19.587354900Z",
     "start_time": "2023-12-14T15:53:19.540564900Z"
    }
   }
  },
  {
   "cell_type": "code",
   "execution_count": 9,
   "outputs": [
    {
     "data": {
      "text/plain": "5"
     },
     "execution_count": 9,
     "metadata": {},
     "output_type": "execute_result"
    }
   ],
   "source": [
    "len(df[0])"
   ],
   "metadata": {
    "collapsed": false,
    "ExecuteTime": {
     "end_time": "2023-12-14T15:53:25.931675300Z",
     "start_time": "2023-12-14T15:53:25.927688700Z"
    }
   }
  },
  {
   "cell_type": "code",
   "execution_count": 12,
   "outputs": [
    {
     "data": {
      "text/plain": "   Organ   TP  FP   FN        AP    Recall  Precision        F1  Tau  \\\n0   eyes  338  23  101  0.731602  0.769932   0.936288  0.845000  0.5   \n1   bone  113  13   53  0.631285  0.680723   0.896825  0.773973  0.5   \n2  liver  284  26   88  0.713568  0.763441   0.916129  0.832845  0.5   \n3   ears  268  52  112  0.620370  0.705263   0.837500  0.765714  0.5   \n4  brain  847  88  273  0.701159  0.756250   0.905882  0.824331  0.5   \n\n                                           pth_model  \n0  monkey_12_12_2023_lr_0.0005_epochs_100_pt_10_g...  \n1  monkey_12_12_2023_lr_0.0005_epochs_100_pt_10_g...  \n2  monkey_12_12_2023_lr_0.0005_epochs_100_pt_10_g...  \n3  monkey_12_12_2023_lr_0.0005_epochs_100_pt_10_g...  \n4  monkey_12_12_2023_lr_0.0005_epochs_100_pt_10_g...  ",
      "text/html": "<div>\n<style scoped>\n    .dataframe tbody tr th:only-of-type {\n        vertical-align: middle;\n    }\n\n    .dataframe tbody tr th {\n        vertical-align: top;\n    }\n\n    .dataframe thead th {\n        text-align: right;\n    }\n</style>\n<table border=\"1\" class=\"dataframe\">\n  <thead>\n    <tr style=\"text-align: right;\">\n      <th></th>\n      <th>Organ</th>\n      <th>TP</th>\n      <th>FP</th>\n      <th>FN</th>\n      <th>AP</th>\n      <th>Recall</th>\n      <th>Precision</th>\n      <th>F1</th>\n      <th>Tau</th>\n      <th>pth_model</th>\n    </tr>\n  </thead>\n  <tbody>\n    <tr>\n      <th>0</th>\n      <td>eyes</td>\n      <td>338</td>\n      <td>23</td>\n      <td>101</td>\n      <td>0.731602</td>\n      <td>0.769932</td>\n      <td>0.936288</td>\n      <td>0.845000</td>\n      <td>0.5</td>\n      <td>monkey_12_12_2023_lr_0.0005_epochs_100_pt_10_g...</td>\n    </tr>\n    <tr>\n      <th>1</th>\n      <td>bone</td>\n      <td>113</td>\n      <td>13</td>\n      <td>53</td>\n      <td>0.631285</td>\n      <td>0.680723</td>\n      <td>0.896825</td>\n      <td>0.773973</td>\n      <td>0.5</td>\n      <td>monkey_12_12_2023_lr_0.0005_epochs_100_pt_10_g...</td>\n    </tr>\n    <tr>\n      <th>2</th>\n      <td>liver</td>\n      <td>284</td>\n      <td>26</td>\n      <td>88</td>\n      <td>0.713568</td>\n      <td>0.763441</td>\n      <td>0.916129</td>\n      <td>0.832845</td>\n      <td>0.5</td>\n      <td>monkey_12_12_2023_lr_0.0005_epochs_100_pt_10_g...</td>\n    </tr>\n    <tr>\n      <th>3</th>\n      <td>ears</td>\n      <td>268</td>\n      <td>52</td>\n      <td>112</td>\n      <td>0.620370</td>\n      <td>0.705263</td>\n      <td>0.837500</td>\n      <td>0.765714</td>\n      <td>0.5</td>\n      <td>monkey_12_12_2023_lr_0.0005_epochs_100_pt_10_g...</td>\n    </tr>\n    <tr>\n      <th>4</th>\n      <td>brain</td>\n      <td>847</td>\n      <td>88</td>\n      <td>273</td>\n      <td>0.701159</td>\n      <td>0.756250</td>\n      <td>0.905882</td>\n      <td>0.824331</td>\n      <td>0.5</td>\n      <td>monkey_12_12_2023_lr_0.0005_epochs_100_pt_10_g...</td>\n    </tr>\n  </tbody>\n</table>\n</div>"
     },
     "execution_count": 12,
     "metadata": {},
     "output_type": "execute_result"
    }
   ],
   "source": [
    "df[0][0].head()"
   ],
   "metadata": {
    "collapsed": false,
    "ExecuteTime": {
     "end_time": "2023-12-14T15:53:39.739046900Z",
     "start_time": "2023-12-14T15:53:39.727089400Z"
    }
   }
  },
  {
   "cell_type": "code",
   "execution_count": 13,
   "outputs": [],
   "source": [
    "def mean_avg_precision(df):\n",
    "    MAP = 0\n",
    "\n",
    "    for i in range(len(df)):\n",
    "        row = df.iloc[i]\n",
    "\n",
    "        MAP += row['AP']\n",
    "\n",
    "    MAP = MAP/len(df)\n",
    "\n",
    "    return MAP"
   ],
   "metadata": {
    "collapsed": false,
    "ExecuteTime": {
     "end_time": "2023-12-14T16:00:10.769856300Z",
     "start_time": "2023-12-14T16:00:10.747929400Z"
    }
   }
  },
  {
   "cell_type": "code",
   "execution_count": 15,
   "outputs": [],
   "source": [
    "model_mAPs = []\n",
    "for df_list in df:\n",
    "    mAPs = []\n",
    "    for df in df_list:\n",
    "        if type(df) != int:\n",
    "            # print(df.iloc[0]['Tau'])\n",
    "            #df.head()\n",
    "            mAP = mean_avg_precision(df)\n",
    "            # print(mAP)\n",
    "            mAPs.append(mAP)\n",
    "        else:\n",
    "            mAPs.append(0)\n",
    "    model_mAPs.append(mAPs)"
   ],
   "metadata": {
    "collapsed": false,
    "ExecuteTime": {
     "end_time": "2023-12-14T16:00:20.351033800Z",
     "start_time": "2023-12-14T16:00:20.225453800Z"
    }
   }
  },
  {
   "cell_type": "code",
   "execution_count": 16,
   "outputs": [
    {
     "data": {
      "text/plain": "[0.6497455474443673,\n 0.5766752438649796,\n 0.4533550150533056,\n 0.27279020411182797,\n 0.04932570569300726]"
     },
     "execution_count": 16,
     "metadata": {},
     "output_type": "execute_result"
    }
   ],
   "source": [
    "model_mAPs[0]"
   ],
   "metadata": {
    "collapsed": false,
    "ExecuteTime": {
     "end_time": "2023-12-14T16:00:26.144705600Z",
     "start_time": "2023-12-14T16:00:26.118792200Z"
    }
   }
  },
  {
   "cell_type": "code",
   "execution_count": 18,
   "outputs": [],
   "source": [
    "taus = [0.5,0.6,0.7,0.8,0.9]"
   ],
   "metadata": {
    "collapsed": false,
    "ExecuteTime": {
     "end_time": "2023-12-14T16:00:46.535223400Z",
     "start_time": "2023-12-14T16:00:46.523263700Z"
    }
   }
  },
  {
   "cell_type": "code",
   "execution_count": 19,
   "outputs": [
    {
     "data": {
      "text/plain": "<Figure size 640x480 with 1 Axes>",
      "image/png": "[encoded data removed]"
     },
     "metadata": {},
     "output_type": "display_data"
    }
   ],
   "source": [
    "plt.plot(taus, model_mAPs[0], marker='o', linestyle='-')\n",
    "\n",
    "# Adding labels and title\n",
    "plt.xlabel('Tau')\n",
    "plt.ylabel('Accuracy: mAP')\n",
    "plt.title('Accuracy of some model')\n",
    "plt.xticks(taus)\n",
    "plt.ylim(0, 1)\n",
    "plt.grid('on')\n",
    "\n",
    "# Display the plot\n",
    "plt.show()"
   ],
   "metadata": {
    "collapsed": false,
    "ExecuteTime": {
     "end_time": "2023-12-14T16:00:46.856852Z",
     "start_time": "2023-12-14T16:00:46.759860800Z"
    }
   }
  },
  {
   "cell_type": "code",
   "execution_count": 21,
   "outputs": [
    {
     "data": {
      "text/plain": "[[0.6497455474443673,\n  0.5766752438649796,\n  0.4533550150533056,\n  0.27279020411182797,\n  0.04932570569300726],\n [0.6474682934117701,\n  0.5737838326820074,\n  0.4524243366434354,\n  0.2635759192890016,\n  0.031821769237044974],\n [0.641020398339668,\n  0.5642556614971083,\n  0.44809664326075715,\n  0.26449014004350296,\n  0.03779779041544386],\n [0.64502660271505,\n  0.5693088756168806,\n  0.4548439048436756,\n  0.2562886939117379,\n  0.03808546611855219],\n [0.6468098383022293,\n  0.5684510930778914,\n  0.4481990923943563,\n  0.2647719056227213,\n  0.040105395971536666],\n [0.6393892458895107,\n  0.568579430937665,\n  0.44884579559536963,\n  0.26246777790328985,\n  0.03537693365673645],\n [0.6332431840382917,\n  0.5637387482728005,\n  0.44245287320964394,\n  0.255027879278478,\n  0.03296641127129512],\n [0.6157881276502943,\n  0.5330664534455867,\n  0.4163726564918866,\n  0.2361593300549824,\n  0.03461129225250334],\n [0.6443463297348132,\n  0.5732712715815814,\n  0.46089788795307346,\n  0.27598753270995086,\n  0.04361772256970507],\n [0.6470655663161171,\n  0.5806347944331213,\n  0.4586390409843838,\n  0.2710223507242488,\n  0.040320170599721074],\n [0.6280000799893105,\n  0.5624479880171412,\n  0.4475268928490039,\n  0.2635825234122927,\n  0.03961738899553045],\n [0.6209946336703906,\n  0.5584983996956485,\n  0.44929201486649395,\n  0.27162032118934026,\n  0.03742816771436663],\n [0.6210568731350425,\n  0.5548833065579416,\n  0.44055475626732116,\n  0.24936394809741005,\n  0.030367014009729326],\n [0.6159222683705037,\n  0.5511371480977338,\n  0.43731114402209664,\n  0.24672364779498063,\n  0.03121330279978474],\n [0.6437751411066147,\n  0.569808097174407,\n  0.4476329201126239,\n  0.26448343500811516,\n  0.03359195486978673],\n [0.6333174337946029,\n  0.5671070927869074,\n  0.45243058231746797,\n  0.2678492978252052,\n  0.03530884067147096],\n [0.622094813094591,\n  0.5564518402471326,\n  0.44841369072777804,\n  0.2567231436726415,\n  0.03090979895238549],\n [0.6253551726820754,\n  0.5454990454828683,\n  0.4146340619326458,\n  0.2227554056130911,\n  0.02200229595956954],\n [0.6486874315516898,\n  0.5739015482959952,\n  0.4462625189808129,\n  0.25317967239558264,\n  0.03415958937323931],\n [0.6284995445441152,\n  0.5655548317590313,\n  0.4440203926993277,\n  0.261386234647665,\n  0.03680761439919252],\n [0.6259310902616422,\n  0.5411007445068295,\n  0.40376644609428114,\n  0.2207143722759743,\n  0.023796225509076875],\n [0.612833865777229,\n  0.5522399122662244,\n  0.43829003786411286,\n  0.24098735178706607,\n  0.025552214117816753],\n [0.6345409452746518,\n  0.566132935927065,\n  0.4483932412688903,\n  0.26183176941852626,\n  0.03049730951864433],\n [0.6097800337274585,\n  0.5458136085934892,\n  0.42479268177018553,\n  0.23479147730170752,\n  0.02133318287228694],\n [0.66304605396671,\n  0.5874635156252478,\n  0.474165327050398,\n  0.2738052284469133,\n  0.03296516029696507],\n [0.6176429521201744,\n  0.5544435426276901,\n  0.4481965146890473,\n  0.2630727369974054,\n  0.03633795572286115],\n [0.6616700725329057,\n  0.580527771219456,\n  0.4488719154922144,\n  0.2402575227273911,\n  0.020370413640106187],\n [0.6413889498028675,\n  0.5666570071510851,\n  0.44979010926184854,\n  0.2430675996338287,\n  0.02331677947900091],\n [0.6514833426406158,\n  0.5845690577830319,\n  0.47334704998642396,\n  0.2669444276998867,\n  0.03299446913403989],\n [0.6388857642526087,\n  0.5598190148074359,\n  0.4353566217223243,\n  0.23863020998505888,\n  0.029284037235260792],\n [0.6499933529578674,\n  0.5758629701752508,\n  0.45340311738503436,\n  0.2602512025732514,\n  0.02921761102735963],\n [0.6465421763687608,\n  0.571939204595423,\n  0.45170833488651646,\n  0.2579568974338144,\n  0.03429661004742195],\n [0.6604425452175473,\n  0.5823447607564475,\n  0.462016695159373,\n  0.2665071517711312,\n  0.03431317959040302],\n [0.6426109837621585,\n  0.5645101219402177,\n  0.44011479325401526,\n  0.23801694967989961,\n  0.025951527562113302],\n [0.6550014626478528,\n  0.5906081394180818,\n  0.47108858499654965,\n  0.2717982851251446,\n  0.037618087965617567],\n [0.6348787778093022,\n  0.5580546331370045,\n  0.4440133897856117,\n  0.2519535537794338,\n  0.027076190954294452],\n [0.6102988617203752,\n  0.5414748283659957,\n  0.42721585224475384,\n  0.2498594085184622,\n  0.04214715511617916],\n [0.632201252910399,\n  0.5599727890915898,\n  0.44692094446598096,\n  0.24999469670673405,\n  0.027605782850965075],\n [0.6297985986654798,\n  0.5594578109570619,\n  0.4463981055520833,\n  0.25317045999237464,\n  0.02826649002304418],\n [0.6528521592342585,\n  0.5791757543919367,\n  0.4588048059733104,\n  0.2754767444390319,\n  0.04297695256320728],\n [0.6622550218559431,\n  0.5911165634917219,\n  0.4679371945161191,\n  0.2818643935075125,\n  0.040305406398221645],\n [0.630622309933606,\n  0.5596921419812501,\n  0.44308136801981635,\n  0.25637395225565635,\n  0.03636838818793046],\n [0.6314651084393292,\n  0.5705289008665532,\n  0.4661511607136072,\n  0.2757199728195242,\n  0.032878571187147064],\n [0.6419571301198517,\n  0.5681592535427391,\n  0.44219596138052303,\n  0.23817326945542203,\n  0.022750535599035008],\n [0.650689928875326,\n  0.5742386894478574,\n  0.4532363082681692,\n  0.2503317937871631,\n  0.027064661940207367],\n [0.6499124525167538,\n  0.5786757601408133,\n  0.4574625068827364,\n  0.25231829029929964,\n  0.02705549482937095],\n [0.6264437571024477,\n  0.557756274153964,\n  0.44437683023114544,\n  0.2633246602046999,\n  0.04143646905542121],\n [0.6203452737127872,\n  0.5507563354301315,\n  0.44425162186594813,\n  0.26093180012223227,\n  0.034818044671845724],\n [0.6450350738548053,\n  0.572825231578072,\n  0.4506632398335875,\n  0.2515118378972959,\n  0.034998166041109814],\n [0.6398432407581629,\n  0.5604317462680826,\n  0.43537877828916416,\n  0.24300207024130094,\n  0.03284765758805195],\n [0.6361457820996258,\n  0.5611798127696268,\n  0.43339340247698616,\n  0.2550536636928585,\n  0.03814889452172772],\n [0.6312254299366649,\n  0.5541975017804402,\n  0.42834522090484406,\n  0.22915132755008058,\n  0.03022320186707574],\n [0.6292712869163175,\n  0.554248978836382,\n  0.4284280012400666,\n  0.23540464062292202,\n  0.030033975357471175],\n [0.6267424190827547,\n  0.5592894847658242,\n  0.43809944297442927,\n  0.24906140941151025,\n  0.026696194084439982],\n [0.6479946694329897,\n  0.561664899367993,\n  0.42790810698286846,\n  0.21502147732673232,\n  0.01945171291544059],\n [0.6306864065947566,\n  0.5497484689096573,\n  0.42305800416224393,\n  0.2257831565426078,\n  0.0259406711907437],\n [0.6119869231601268,\n  0.5417407713667213,\n  0.4224515313940852,\n  0.2191062128244416,\n  0.01823869898460614],\n [0.6407369517292124,\n  0.5673246985557843,\n  0.4403375430086981,\n  0.2543451110845353,\n  0.032065165449556794],\n [0.621324816468861,\n  0.5565374835336845,\n  0.44879018814350496,\n  0.26417275444018845,\n  0.03649772121629596],\n [0.6220492747428329,\n  0.5354930280225492,\n  0.4162829336563565,\n  0.23283420919905606,\n  0.03145917982990421],\n [0.6466482018358767,\n  0.5757839845547593,\n  0.4557013589621549,\n  0.2567083890899874,\n  0.030858095895877242],\n [0.609696327729087,\n  0.5329314717801368,\n  0.4110444900368667,\n  0.21422836663854516,\n  0.020271727178019717],\n [0.6314508732278467,\n  0.5544277167346597,\n  0.4249189398060974,\n  0.24308859975957978,\n  0.03420376779597238],\n [0.5916001042825515,\n  0.526393417873034,\n  0.4245554886417419,\n  0.23982517858232402,\n  0.027739127694272663],\n [0.637979284963703,\n  0.5671032862962966,\n  0.4461943466805084,\n  0.2493472995245174,\n  0.031091618516815023],\n [0.6048743686519992,\n  0.521779162756407,\n  0.4024794448801983,\n  0.1926581871134553,\n  0.019884969332339044],\n [0.601092141443641,\n  0.530865978133747,\n  0.41762563602040953,\n  0.23561981743040922,\n  0.032116961625494066],\n [0.6545221333716359,\n  0.5706917990420943,\n  0.4430250943844301,\n  0.2574598688791304,\n  0.039766107401450194],\n [0.6505729300671479,\n  0.5767312723685158,\n  0.4476628175549323,\n  0.22574180444617667,\n  0.020512768967295644],\n [0.6419425891019485,\n  0.5566210629064721,\n  0.4246547904724203,\n  0.22836424149414244,\n  0.02920179615688519],\n [0.6179453581022994,\n  0.5386379791904933,\n  0.4279643261406827,\n  0.24371462803991562,\n  0.031026245478399436],\n [0.6437409395395673,\n  0.557040535933578,\n  0.4180531794109169,\n  0.21264151126981087,\n  0.02153168904666417],\n [0.6073710216319933,\n  0.5221934055380639,\n  0.4108848800987116,\n  0.2145540561114105,\n  0.02310267913391643],\n [0.007738266393916934, 0, 0, 0, 0],\n [0.008506340534337657, 0, 0, 0, 0],\n [0.013060860133132065, 0.0033391917131068787, 0, 0, 0],\n [0.01014922588877909, 0, 0, 0, 0],\n [0.5880653128820599,\n  0.4863843110125298,\n  0.34357100733730433,\n  0.14026951278437863,\n  0],\n [0.571433910900428,\n  0.5041843535924045,\n  0.3833429617558675,\n  0.19568800138078066,\n  0.016861540097371053],\n [0.008594044465666625, 0.002130676997298566, 0, 0, 0],\n [0.5994924066343649,\n  0.5236320819089529,\n  0.3991027933631747,\n  0.21424492146517396,\n  0.022487244950052727],\n [0.519176935690265,\n  0.37946996006727646,\n  0.21155775991009976,\n  0.05060232967267129,\n  0],\n [0.6099161885226588,\n  0.5202934760419063,\n  0.38608640565946795,\n  0.19669910722005596,\n  0.02025884074074175],\n [0.602186053983878,\n  0.5184403877207523,\n  0.3979263009765551,\n  0.207551142558612,\n  0.020870495873892732],\n [0.6035569183006613,\n  0.526494117538756,\n  0.39565094390651506,\n  0.19989450476576467,\n  0.015379809062287078],\n [0.548920411664783,\n  0.4644205405279789,\n  0.3288944815160832,\n  0.14756695492116104,\n  0],\n [0.008269027053626163, 0, 0, 0, 0],\n [0.008561380854179788, 0, 0, 0, 0],\n [0.5913170697917446,\n  0.5132601911566181,\n  0.37331120735331924,\n  0.16694094405586504,\n  0.012492453147267603],\n [0.007693394808757957, 0, 0, 0, 0],\n [0.008414602992882448, 0, 0, 0, 0],\n [0.007751016531416839, 0, 0, 0, 0],\n [0.6082730853075774,\n  0.5203849316237611,\n  0.39824946086578805,\n  0.20210371839707766,\n  0.019320089174565822],\n [0.007206201160279759, 0.001831157852462864, 0, 0, 0],\n [0.6065689824541981,\n  0.5277106015134937,\n  0.40070965074341264,\n  0.20191741445655845,\n  0.022763089862459285],\n [0.0084490941216384, 0, 0, 0, 0]]"
     },
     "execution_count": 21,
     "metadata": {},
     "output_type": "execute_result"
    }
   ],
   "source": [
    "model_mAPs"
   ],
   "metadata": {
    "collapsed": false,
    "ExecuteTime": {
     "end_time": "2023-12-14T16:01:07.757591400Z",
     "start_time": "2023-12-14T16:01:07.745631100Z"
    }
   }
  },
  {
   "cell_type": "code",
   "execution_count": 23,
   "outputs": [],
   "source": [
    "model_pths = r'\\\\10.99.68.178\\andreex\\data\\Stardist\\12_12_hyperparameter_models'\n",
    "pths = os.listdir(model_pths)\n",
    "pths = [\"\".join([model_pths, '\\\\', pth]) for pth in pths if 'monkey' in pth]"
   ],
   "metadata": {
    "collapsed": false,
    "ExecuteTime": {
     "end_time": "2023-12-14T16:01:25.844616100Z",
     "start_time": "2023-12-14T16:01:25.735642400Z"
    }
   }
  },
  {
   "cell_type": "code",
   "execution_count": 24,
   "outputs": [
    {
     "name": "stdout",
     "output_type": "stream",
     "text": [
      "\\\\10.99.68.178\\andreex\\data\\Stardist\\12_12_hyperparameter_models\\monkey_12_12_2023_lr_0.0005_epochs_100_pt_10_gaus_ratio_0\n",
      "Area under the curve: 0.16523560895988007\n",
      "Mean value on curve: 0.40037834323349764\n",
      "\n",
      "\\\\10.99.68.178\\andreex\\data\\Stardist\\12_12_hyperparameter_models\\monkey_12_12_2023_lr_0.0005_epochs_100_pt_10_gaus_ratio_0.1\n",
      "Area under the curve: 0.1629429119938852\n",
      "Mean value on curve: 0.39381483025265196\n",
      "\n",
      "\\\\10.99.68.178\\andreex\\data\\Stardist\\12_12_hyperparameter_models\\monkey_12_12_2023_lr_0.0005_epochs_100_pt_20_gaus_ratio_0\n",
      "Area under the curve: 0.16162515391789242\n",
      "Mean value on curve: 0.39113212671129605\n",
      "\n",
      "\\\\10.99.68.178\\andreex\\data\\Stardist\\12_12_hyperparameter_models\\monkey_12_12_2023_lr_0.0005_epochs_100_pt_20_gaus_ratio_0.1\n",
      "Area under the curve: 0.16219975087890953\n",
      "Mean value on curve: 0.3927107086411793\n",
      "\n",
      "\\\\10.99.68.178\\andreex\\data\\Stardist\\12_12_hyperparameter_models\\monkey_12_12_2023_lr_0.0005_epochs_100_pt_30_gaus_ratio_0\n",
      "Area under the curve: 0.1624879708231852\n",
      "Mean value on curve: 0.39366746507374706\n",
      "\n",
      "\\\\10.99.68.178\\andreex\\data\\Stardist\\12_12_hyperparameter_models\\monkey_12_12_2023_lr_0.0005_epochs_100_pt_30_gaus_ratio_0.1\n",
      "Area under the curve: 0.16172760942094483\n",
      "Mean value on curve: 0.39093183679651433\n",
      "\n",
      "\\\\10.99.68.178\\andreex\\data\\Stardist\\12_12_hyperparameter_models\\monkey_12_12_2023_lr_0.0005_epochs_100_pt_40_gaus_ratio_0\n",
      "Area under the curve: 0.15943242984157158\n",
      "Mean value on curve: 0.38548581921410185\n",
      "\n",
      "\\\\10.99.68.178\\andreex\\data\\Stardist\\12_12_hyperparameter_models\\monkey_12_12_2023_lr_0.0005_epochs_100_pt_40_gaus_ratio_0.1\n",
      "Area under the curve: 0.15107981499438547\n",
      "Mean value on curve: 0.3671995719790507\n",
      "\n",
      "\\\\10.99.68.178\\andreex\\data\\Stardist\\12_12_hyperparameter_models\\monkey_12_12_2023_lr_0.0005_epochs_200_pt_10_gaus_ratio_0\n",
      "Area under the curve: 0.16541387183968648\n",
      "Mean value on curve: 0.3996241489098248\n",
      "\n",
      "\\\\10.99.68.178\\andreex\\data\\Stardist\\12_12_hyperparameter_models\\monkey_12_12_2023_lr_0.0005_epochs_200_pt_10_gaus_ratio_0.1\n",
      "Area under the curve: 0.16539890545996733\n",
      "Mean value on curve: 0.3995363846115184\n",
      "\n",
      "\\\\10.99.68.178\\andreex\\data\\Stardist\\12_12_hyperparameter_models\\monkey_12_12_2023_lr_0.0005_epochs_200_pt_20_gaus_ratio_0\n",
      "Area under the curve: 0.16073661387708582\n",
      "Mean value on curve: 0.3882349746526558\n",
      "\n",
      "\\\\10.99.68.178\\andreex\\data\\Stardist\\12_12_hyperparameter_models\\monkey_12_12_2023_lr_0.0005_epochs_200_pt_20_gaus_ratio_0.1\n",
      "Area under the curve: 0.16086221364438616\n",
      "Mean value on curve: 0.387566707427248\n",
      "\n",
      "\\\\10.99.68.178\\andreex\\data\\Stardist\\12_12_hyperparameter_models\\monkey_12_12_2023_lr_0.0005_epochs_200_pt_30_gaus_ratio_0\n",
      "Area under the curve: 0.1570513954495059\n",
      "Mean value on curve: 0.37924517961348897\n",
      "\n",
      "\\\\10.99.68.178\\andreex\\data\\Stardist\\12_12_hyperparameter_models\\monkey_12_12_2023_lr_0.0005_epochs_200_pt_30_gaus_ratio_0.1\n",
      "Area under the curve: 0.15587397254999555\n",
      "Mean value on curve: 0.3764615022170199\n",
      "\n",
      "\\\\10.99.68.178\\andreex\\data\\Stardist\\12_12_hyperparameter_models\\monkey_12_12_2023_lr_0.0005_epochs_200_pt_40_gaus_ratio_0\n",
      "Area under the curve: 0.16206080002833467\n",
      "Mean value on curve: 0.39185830965430946\n",
      "\n",
      "\\\\10.99.68.178\\andreex\\data\\Stardist\\12_12_hyperparameter_models\\monkey_12_12_2023_lr_0.0005_epochs_200_pt_40_gaus_ratio_0.1\n",
      "Area under the curve: 0.16217001101626177\n",
      "Mean value on curve: 0.39120264947913086\n",
      "\n",
      "\\\\10.99.68.178\\andreex\\data\\Stardist\\12_12_hyperparameter_models\\monkey_12_12_2023_lr_0.0005_epochs_400_pt_10_gaus_ratio_0\n",
      "Area under the curve: 0.15880909806710403\n",
      "Mean value on curve: 0.38291865733890573\n",
      "\n",
      "\\\\10.99.68.178\\andreex\\data\\Stardist\\12_12_hyperparameter_models\\monkey_12_12_2023_lr_0.0005_epochs_400_pt_10_gaus_ratio_0.1\n",
      "Area under the curve: 0.15065672473494277\n",
      "Mean value on curve: 0.3660491963340501\n",
      "\n",
      "\\\\10.99.68.178\\andreex\\data\\Stardist\\12_12_hyperparameter_models\\monkey_12_12_2023_lr_0.0005_epochs_400_pt_20_gaus_ratio_0\n",
      "Area under the curve: 0.16147672501348553\n",
      "Mean value on curve: 0.391238152119464\n",
      "\n",
      "\\\\10.99.68.178\\andreex\\data\\Stardist\\12_12_hyperparameter_models\\monkey_12_12_2023_lr_0.0005_epochs_400_pt_20_gaus_ratio_0.1\n",
      "Area under the curve: 0.16036150385776776\n",
      "Mean value on curve: 0.3872537236098663\n",
      "\n",
      "\\\\10.99.68.178\\andreex\\data\\Stardist\\12_12_hyperparameter_models\\monkey_12_12_2023_lr_0.0005_epochs_400_pt_30_gaus_ratio_0\n",
      "Area under the curve: 0.14904452207624444\n",
      "Mean value on curve: 0.36306177572956083\n",
      "\n",
      "\\\\10.99.68.178\\andreex\\data\\Stardist\\12_12_hyperparameter_models\\monkey_12_12_2023_lr_0.0005_epochs_400_pt_30_gaus_ratio_0.1\n",
      "Area under the curve: 0.1550710341864926\n",
      "Mean value on curve: 0.3739806763624898\n",
      "\n",
      "\\\\10.99.68.178\\andreex\\data\\Stardist\\12_12_hyperparameter_models\\monkey_12_12_2023_lr_0.0005_epochs_400_pt_40_gaus_ratio_0\n",
      "Area under the curve: 0.160887707401113\n",
      "Mean value on curve: 0.38827924028155547\n",
      "\n",
      "\\\\10.99.68.178\\andreex\\data\\Stardist\\12_12_hyperparameter_models\\monkey_12_12_2023_lr_0.0005_epochs_400_pt_40_gaus_ratio_0.1\n",
      "Area under the curve: 0.1520954375965255\n",
      "Mean value on curve: 0.3673021968530255\n",
      "\n",
      "\\\\10.99.68.178\\andreex\\data\\Stardist\\12_12_hyperparameter_models\\monkey_12_12_2023_lr_0.001_epochs_100_pt_10_gaus_ratio_0\n",
      "Area under the curve: 0.16834396782543967\n",
      "Mean value on curve: 0.4062890570772468\n",
      "\n",
      "\\\\10.99.68.178\\andreex\\data\\Stardist\\12_12_hyperparameter_models\\monkey_12_12_2023_lr_0.001_epochs_100_pt_10_gaus_ratio_0.1\n",
      "Area under the curve: 0.1592703248235661\n",
      "Mean value on curve: 0.3839387404314357\n",
      "\n",
      "\\\\10.99.68.178\\andreex\\data\\Stardist\\12_12_hyperparameter_models\\monkey_12_12_2023_lr_0.001_epochs_100_pt_20_gaus_ratio_0\n",
      "Area under the curve: 0.16106774525255677\n",
      "Mean value on curve: 0.3903395391224147\n",
      "\n",
      "\\\\10.99.68.178\\andreex\\data\\Stardist\\12_12_hyperparameter_models\\monkey_12_12_2023_lr_0.001_epochs_100_pt_20_gaus_ratio_0.1\n",
      "Area under the curve: 0.15918675806876967\n",
      "Mean value on curve: 0.3848440890657262\n",
      "\n",
      "\\\\10.99.68.178\\andreex\\data\\Stardist\\12_12_hyperparameter_models\\monkey_12_12_2023_lr_0.001_epochs_100_pt_30_gaus_ratio_0\n",
      "Area under the curve: 0.16670994413566706\n",
      "Mean value on curve: 0.4018676694487997\n",
      "\n",
      "\\\\10.99.68.178\\andreex\\data\\Stardist\\12_12_hyperparameter_models\\monkey_12_12_2023_lr_0.001_epochs_100_pt_30_gaus_ratio_0.1\n",
      "Area under the curve: 0.1567890747258754\n",
      "Mean value on curve: 0.38039512960053773\n",
      "\n",
      "\\\\10.99.68.178\\andreex\\data\\Stardist\\12_12_hyperparameter_models\\monkey_12_12_2023_lr_0.001_epochs_100_pt_40_gaus_ratio_0\n",
      "Area under the curve: 0.16291227721261503\n",
      "Mean value on curve: 0.39374565082375274\n",
      "\n",
      "\\\\10.99.68.178\\andreex\\data\\Stardist\\12_12_hyperparameter_models\\monkey_12_12_2023_lr_0.001_epochs_100_pt_40_gaus_ratio_0.1\n",
      "Area under the curve: 0.16220238301238454\n",
      "Mean value on curve: 0.3924886446663874\n",
      "\n",
      "\\\\10.99.68.178\\andreex\\data\\Stardist\\12_12_hyperparameter_models\\monkey_12_12_2023_lr_0.001_epochs_200_pt_10_gaus_ratio_0\n",
      "Area under the curve: 0.16582464700909272\n",
      "Mean value on curve: 0.4011248664989804\n",
      "\n",
      "\\\\10.99.68.178\\andreex\\data\\Stardist\\12_12_hyperparameter_models\\monkey_12_12_2023_lr_0.001_epochs_200_pt_10_gaus_ratio_0.1\n",
      "Area under the curve: 0.15769231205362683\n",
      "Mean value on curve: 0.38224087523968087\n",
      "\n",
      "\\\\10.99.68.178\\andreex\\data\\Stardist\\12_12_hyperparameter_models\\monkey_12_12_2023_lr_0.001_epochs_200_pt_20_gaus_ratio_0\n",
      "Area under the curve: 0.1679804784846511\n",
      "Mean value on curve: 0.40522291203064925\n",
      "\n",
      "\\\\10.99.68.178\\andreex\\data\\Stardist\\12_12_hyperparameter_models\\monkey_12_12_2023_lr_0.001_epochs_200_pt_20_gaus_ratio_0.1\n",
      "Area under the curve: 0.15849990610838485\n",
      "Mean value on curve: 0.3831953090931294\n",
      "\n",
      "\\\\10.99.68.178\\andreex\\data\\Stardist\\12_12_hyperparameter_models\\monkey_12_12_2023_lr_0.001_epochs_200_pt_30_gaus_ratio_0\n",
      "Area under the curve: 0.15447730975474888\n",
      "Mean value on curve: 0.3741992211931532\n",
      "\n",
      "\\\\10.99.68.178\\andreex\\data\\Stardist\\12_12_hyperparameter_models\\monkey_12_12_2023_lr_0.001_epochs_200_pt_30_gaus_ratio_0.1\n",
      "Area under the curve: 0.1586791948144987\n",
      "Mean value on curve: 0.38333909320513376\n",
      "\n",
      "\\\\10.99.68.178\\andreex\\data\\Stardist\\12_12_hyperparameter_models\\monkey_12_12_2023_lr_0.001_epochs_200_pt_40_gaus_ratio_0\n",
      "Area under the curve: 0.15880589208457818\n",
      "Mean value on curve: 0.3834182930380088\n",
      "\n",
      "\\\\10.99.68.178\\andreex\\data\\Stardist\\12_12_hyperparameter_models\\monkey_12_12_2023_lr_0.001_epochs_200_pt_40_gaus_ratio_0.1\n",
      "Area under the curve: 0.16613718607030117\n",
      "Mean value on curve: 0.401857283320349\n",
      "\n",
      "\\\\10.99.68.178\\andreex\\data\\Stardist\\12_12_hyperparameter_models\\monkey_12_12_2023_lr_0.001_epochs_400_pt_10_gaus_ratio_0\n",
      "Area under the curve: 0.1692198365642436\n",
      "Mean value on curve: 0.4086957159539037\n",
      "\n",
      "\\\\10.99.68.178\\andreex\\data\\Stardist\\12_12_hyperparameter_models\\monkey_12_12_2023_lr_0.001_epochs_400_pt_10_gaus_ratio_0.1\n",
      "Area under the curve: 0.15926428113174912\n",
      "Mean value on curve: 0.3852276320756518\n",
      "\n",
      "\\\\10.99.68.178\\andreex\\data\\Stardist\\12_12_hyperparameter_models\\monkey_12_12_2023_lr_0.001_epochs_400_pt_20_gaus_ratio_0\n",
      "Area under the curve: 0.16445718742129226\n",
      "Mean value on curve: 0.39534874280523213\n",
      "\n",
      "\\\\10.99.68.178\\andreex\\data\\Stardist\\12_12_hyperparameter_models\\monkey_12_12_2023_lr_0.001_epochs_400_pt_20_gaus_ratio_0.1\n",
      "Area under the curve: 0.15808823172381276\n",
      "Mean value on curve: 0.3826472300195142\n",
      "\n",
      "\\\\10.99.68.178\\andreex\\data\\Stardist\\12_12_hyperparameter_models\\monkey_12_12_2023_lr_0.001_epochs_400_pt_30_gaus_ratio_0\n",
      "Area under the curve: 0.16166840869109564\n",
      "Mean value on curve: 0.3911122764637446\n",
      "\n",
      "\\\\10.99.68.178\\andreex\\data\\Stardist\\12_12_hyperparameter_models\\monkey_12_12_2023_lr_0.001_epochs_400_pt_30_gaus_ratio_0.1\n",
      "Area under the curve: 0.16269405309959117\n",
      "Mean value on curve: 0.3930849009337948\n",
      "\n",
      "\\\\10.99.68.178\\andreex\\data\\Stardist\\12_12_hyperparameter_models\\monkey_12_12_2023_lr_0.001_epochs_400_pt_40_gaus_ratio_0\n",
      "Area under the curve: 0.1599397877668744\n",
      "Mean value on curve: 0.38666759814953566\n",
      "\n",
      "\\\\10.99.68.178\\andreex\\data\\Stardist\\12_12_hyperparameter_models\\monkey_12_12_2023_lr_0.001_epochs_400_pt_40_gaus_ratio_0.1\n",
      "Area under the curve: 0.15835214166106285\n",
      "Mean value on curve: 0.38222061516058903\n",
      "\n",
      "\\\\10.99.68.178\\andreex\\data\\Stardist\\12_12_hyperparameter_models\\monkey_12_12_2023_lr_0.003_epochs_100_pt_10_gaus_ratio_0\n",
      "Area under the curve: 0.1615016929256913\n",
      "Mean value on curve: 0.3910067098409741\n",
      "\n",
      "\\\\10.99.68.178\\andreex\\data\\Stardist\\12_12_hyperparameter_models\\monkey_12_12_2023_lr_0.003_epochs_100_pt_10_gaus_ratio_0.1\n",
      "Area under the curve: 0.1575158043971655\n",
      "Mean value on curve: 0.3823006986289525\n",
      "\n",
      "\\\\10.99.68.178\\andreex\\data\\Stardist\\12_12_hyperparameter_models\\monkey_12_12_2023_lr_0.003_epochs_100_pt_20_gaus_ratio_0\n",
      "Area under the curve: 0.1586774217250148\n",
      "Mean value on curve: 0.384784311112165\n",
      "\n",
      "\\\\10.99.68.178\\andreex\\data\\Stardist\\12_12_hyperparameter_models\\monkey_12_12_2023_lr_0.003_epochs_100_pt_20_gaus_ratio_0.1\n",
      "Area under the curve: 0.1542418366137235\n",
      "Mean value on curve: 0.3746285364078211\n",
      "\n",
      "\\\\10.99.68.178\\andreex\\data\\Stardist\\12_12_hyperparameter_models\\monkey_12_12_2023_lr_0.003_epochs_100_pt_30_gaus_ratio_0\n",
      "Area under the curve: 0.15477342518362652\n",
      "Mean value on curve: 0.3754773765946319\n",
      "\n",
      "\\\\10.99.68.178\\andreex\\data\\Stardist\\12_12_hyperparameter_models\\monkey_12_12_2023_lr_0.003_epochs_100_pt_30_gaus_ratio_0.1\n",
      "Area under the curve: 0.15731696437353612\n",
      "Mean value on curve: 0.3799777900637917\n",
      "\n",
      "\\\\10.99.68.178\\andreex\\data\\Stardist\\12_12_hyperparameter_models\\monkey_12_12_2023_lr_0.003_epochs_100_pt_40_gaus_ratio_0\n",
      "Area under the curve: 0.15383176748518088\n",
      "Mean value on curve: 0.3744081732052048\n",
      "\n",
      "\\\\10.99.68.178\\andreex\\data\\Stardist\\12_12_hyperparameter_models\\monkey_12_12_2023_lr_0.003_epochs_100_pt_40_gaus_ratio_0.1\n",
      "Area under the curve: 0.15269031685072593\n",
      "Mean value on curve: 0.3710433414800019\n",
      "\n",
      "\\\\10.99.68.178\\andreex\\data\\Stardist\\12_12_hyperparameter_models\\monkey_12_12_2023_lr_0.003_epochs_200_pt_10_gaus_ratio_0\n",
      "Area under the curve: 0.14984113266576143\n",
      "Mean value on curve: 0.3627048275459962\n",
      "\n",
      "\\\\10.99.68.178\\andreex\\data\\Stardist\\12_12_hyperparameter_models\\monkey_12_12_2023_lr_0.003_epochs_200_pt_10_gaus_ratio_0.1\n",
      "Area under the curve: 0.15984084112384023\n",
      "Mean value on curve: 0.38696189396555736\n",
      "\n",
      "\\\\10.99.68.178\\andreex\\data\\Stardist\\12_12_hyperparameter_models\\monkey_12_12_2023_lr_0.003_epochs_200_pt_20_gaus_ratio_0\n",
      "Area under the curve: 0.15984116949599564\n",
      "Mean value on curve: 0.385464592760507\n",
      "\n",
      "\\\\10.99.68.178\\andreex\\data\\Stardist\\12_12_hyperparameter_models\\monkey_12_12_2023_lr_0.003_epochs_200_pt_20_gaus_ratio_0.1\n",
      "Area under the curve: 0.15113643981643302\n",
      "Mean value on curve: 0.36762372509013974\n",
      "\n",
      "\\\\10.99.68.178\\andreex\\data\\Stardist\\12_12_hyperparameter_models\\monkey_12_12_2023_lr_0.003_epochs_200_pt_30_gaus_ratio_0\n",
      "Area under the curve: 0.16269468814727786\n",
      "Mean value on curve: 0.39314000606773114\n",
      "\n",
      "\\\\10.99.68.178\\andreex\\data\\Stardist\\12_12_hyperparameter_models\\monkey_12_12_2023_lr_0.003_epochs_200_pt_30_gaus_ratio_0.1\n",
      "Area under the curve: 0.1473188355909102\n",
      "Mean value on curve: 0.35763447667253107\n",
      "\n",
      "\\\\10.99.68.178\\andreex\\data\\Stardist\\12_12_hyperparameter_models\\monkey_12_12_2023_lr_0.003_epochs_200_pt_40_gaus_ratio_0\n",
      "Area under the curve: 0.15552625768122463\n",
      "Mean value on curve: 0.3776179794648312\n",
      "\n",
      "\\\\10.99.68.178\\andreex\\data\\Stardist\\12_12_hyperparameter_models\\monkey_12_12_2023_lr_0.003_epochs_200_pt_40_gaus_ratio_0.1\n",
      "Area under the curve: 0.15004437010855118\n",
      "Mean value on curve: 0.36202266341478484\n",
      "\n",
      "\\\\10.99.68.178\\andreex\\data\\Stardist\\12_12_hyperparameter_models\\monkey_12_12_2023_lr_0.003_epochs_400_pt_10_gaus_ratio_0\n",
      "Area under the curve: 0.15971803842415813\n",
      "Mean value on curve: 0.38634316719636813\n",
      "\n",
      "\\\\10.99.68.178\\andreex\\data\\Stardist\\12_12_hyperparameter_models\\monkey_12_12_2023_lr_0.003_epochs_400_pt_10_gaus_ratio_0.1\n",
      "Area under the curve: 0.14292964637422298\n",
      "Mean value on curve: 0.3483352265468798\n",
      "\n",
      "\\\\10.99.68.178\\andreex\\data\\Stardist\\12_12_hyperparameter_models\\monkey_12_12_2023_lr_0.003_epochs_400_pt_20_gaus_ratio_0\n",
      "Area under the curve: 0.15007159831191333\n",
      "Mean value on curve: 0.36346410693074016\n",
      "\n",
      "\\\\10.99.68.178\\andreex\\data\\Stardist\\12_12_hyperparameter_models\\monkey_12_12_2023_lr_0.003_epochs_400_pt_20_gaus_ratio_0.1\n",
      "Area under the curve: 0.1618320882692198\n",
      "Mean value on curve: 0.39309300061574814\n",
      "\n",
      "\\\\10.99.68.178\\andreex\\data\\Stardist\\12_12_hyperparameter_models\\monkey_12_12_2023_lr_0.003_epochs_400_pt_30_gaus_ratio_0\n",
      "Area under the curve: 0.15856787438868467\n",
      "Mean value on curve: 0.38424431868081366\n",
      "\n",
      "\\\\10.99.68.178\\andreex\\data\\Stardist\\12_12_hyperparameter_models\\monkey_12_12_2023_lr_0.003_epochs_400_pt_30_gaus_ratio_0.1\n",
      "Area under the curve: 0.15452122875024515\n",
      "Mean value on curve: 0.3761568960263737\n",
      "\n",
      "\\\\10.99.68.178\\andreex\\data\\Stardist\\12_12_hyperparameter_models\\monkey_12_12_2023_lr_0.003_epochs_400_pt_40_gaus_ratio_0\n",
      "Area under the curve: 0.1534802735161441\n",
      "Mean value on curve: 0.37185770739035806\n",
      "\n",
      "\\\\10.99.68.178\\andreex\\data\\Stardist\\12_12_hyperparameter_models\\monkey_12_12_2023_lr_0.003_epochs_400_pt_40_gaus_ratio_0.1\n",
      "Area under the curve: 0.15203715409074217\n",
      "Mean value on curve: 0.37060157104010744\n",
      "\n",
      "\\\\10.99.68.178\\andreex\\data\\Stardist\\12_12_hyperparameter_models\\monkey_12_12_2023_lr_0.005_epochs_100_pt_10_gaus_ratio_0\n",
      "Area under the curve: 0.1462869192131141\n",
      "Mean value on curve: 0.35562120850281914\n",
      "\n",
      "\\\\10.99.68.178\\andreex\\data\\Stardist\\12_12_hyperparameter_models\\monkey_12_12_2023_lr_0.005_epochs_100_pt_10_gaus_ratio_0.1\n",
      "Area under the curve: 0.00038691331969584663\n",
      "Mean value on curve: 0.001547653278783387\n",
      "\n",
      "\\\\10.99.68.178\\andreex\\data\\Stardist\\12_12_hyperparameter_models\\monkey_12_12_2023_lr_0.005_epochs_100_pt_20_gaus_ratio_0\n",
      "Area under the curve: 0.00042531702671688276\n",
      "Mean value on curve: 0.0017012681068675315\n",
      "\n",
      "\\\\10.99.68.178\\andreex\\data\\Stardist\\12_12_hyperparameter_models\\monkey_12_12_2023_lr_0.005_epochs_100_pt_20_gaus_ratio_0.1\n",
      "Area under the curve: 0.0009869621779672907\n",
      "Mean value on curve: 0.0032800103692477885\n",
      "\n",
      "\\\\10.99.68.178\\andreex\\data\\Stardist\\12_12_hyperparameter_models\\monkey_12_12_2023_lr_0.005_epochs_100_pt_30_gaus_ratio_0\n",
      "Area under the curve: 0.0005074612944389544\n",
      "Mean value on curve: 0.002029845177755818\n",
      "\n",
      "\\\\10.99.68.178\\andreex\\data\\Stardist\\12_12_hyperparameter_models\\monkey_12_12_2023_lr_0.005_epochs_100_pt_30_gaus_ratio_0.1\n",
      "Area under the curve: 0.12642574875752427\n",
      "Mean value on curve: 0.31165802880325455\n",
      "\n",
      "\\\\10.99.68.178\\andreex\\data\\Stardist\\12_12_hyperparameter_models\\monkey_12_12_2023_lr_0.005_epochs_100_pt_40_gaus_ratio_0\n",
      "Area under the curve: 0.1377363042227952\n",
      "Mean value on curve: 0.33430215354537035\n",
      "\n",
      "\\\\10.99.68.178\\andreex\\data\\Stardist\\12_12_hyperparameter_models\\monkey_12_12_2023_lr_0.005_epochs_100_pt_40_gaus_ratio_0.1\n",
      "Area under the curve: 0.0006427699230131878\n",
      "Mean value on curve: 0.0021449442925930385\n",
      "\n",
      "\\\\10.99.68.178\\andreex\\data\\Stardist\\12_12_hyperparameter_models\\monkey_12_12_2023_lr_0.005_epochs_200_pt_10_gaus_ratio_0\n",
      "Area under the curve: 0.14479696225295105\n",
      "Mean value on curve: 0.3517918896643439\n",
      "\n",
      "\\\\10.99.68.178\\andreex\\data\\Stardist\\12_12_hyperparameter_models\\monkey_12_12_2023_lr_0.005_epochs_200_pt_10_gaus_ratio_0.1\n",
      "Area under the curve: 0.090121851749518\n",
      "Mean value on curve: 0.2321613970680625\n",
      "\n",
      "\\\\10.99.68.178\\andreex\\data\\Stardist\\12_12_hyperparameter_models\\monkey_12_12_2023_lr_0.005_epochs_200_pt_20_gaus_ratio_0\n",
      "Area under the curve: 0.14181665035531305\n",
      "Mean value on curve: 0.34665080363696615\n",
      "\n",
      "\\\\10.99.68.178\\andreex\\data\\Stardist\\12_12_hyperparameter_models\\monkey_12_12_2023_lr_0.005_epochs_200_pt_20_gaus_ratio_0.1\n",
      "Area under the curve: 0.1435446106184805\n",
      "Mean value on curve: 0.34939487622273807\n",
      "\n",
      "\\\\10.99.68.178\\andreex\\data\\Stardist\\12_12_hyperparameter_models\\monkey_12_12_2023_lr_0.005_epochs_200_pt_30_gaus_ratio_0\n",
      "Area under the curve: 0.14315079298925096\n",
      "Mean value on curve: 0.3481952587147968\n",
      "\n",
      "\\\\10.99.68.178\\andreex\\data\\Stardist\\12_12_hyperparameter_models\\monkey_12_12_2023_lr_0.005_epochs_200_pt_30_gaus_ratio_0.1\n",
      "Area under the curve: 0.12153421827976148\n",
      "Mean value on curve: 0.29796047772600126\n",
      "\n",
      "\\\\10.99.68.178\\andreex\\data\\Stardist\\12_12_hyperparameter_models\\monkey_12_12_2023_lr_0.005_epochs_200_pt_40_gaus_ratio_0\n",
      "Area under the curve: 0.00041345135268130805\n",
      "Mean value on curve: 0.0016538054107252324\n",
      "\n",
      "\\\\10.99.68.178\\andreex\\data\\Stardist\\12_12_hyperparameter_models\\monkey_12_12_2023_lr_0.005_epochs_200_pt_40_gaus_ratio_0.1\n",
      "Area under the curve: 0.0004280690427089893\n",
      "Mean value on curve: 0.0017122761708359576\n",
      "\n",
      "\\\\10.99.68.178\\andreex\\data\\Stardist\\12_12_hyperparameter_models\\monkey_12_12_2023_lr_0.005_epochs_400_pt_10_gaus_ratio_0\n",
      "Area under the curve: 0.13554171040353086\n",
      "Mean value on curve: 0.33146437310096294\n",
      "\n",
      "\\\\10.99.68.178\\andreex\\data\\Stardist\\12_12_hyperparameter_models\\monkey_12_12_2023_lr_0.005_epochs_400_pt_10_gaus_ratio_0.1\n",
      "Area under the curve: 0.00038466974043789776\n",
      "Mean value on curve: 0.0015386789617515915\n",
      "\n",
      "\\\\10.99.68.178\\andreex\\data\\Stardist\\12_12_hyperparameter_models\\monkey_12_12_2023_lr_0.005_epochs_400_pt_20_gaus_ratio_0\n",
      "Area under the curve: 0.0004207301496441223\n",
      "Mean value on curve: 0.0016829205985764897\n",
      "\n",
      "\\\\10.99.68.178\\andreex\\data\\Stardist\\12_12_hyperparameter_models\\monkey_12_12_2023_lr_0.005_epochs_400_pt_20_gaus_ratio_0.1\n",
      "Area under the curve: 0.00038755082657084184\n",
      "Mean value on curve: 0.0015502033062833678\n",
      "\n",
      "\\\\10.99.68.178\\andreex\\data\\Stardist\\12_12_hyperparameter_models\\monkey_12_12_2023_lr_0.005_epochs_400_pt_30_gaus_ratio_0\n",
      "Area under the curve: 0.14345346981276985\n",
      "Mean value on curve: 0.349666257073754\n",
      "\n",
      "\\\\10.99.68.178\\andreex\\data\\Stardist\\12_12_hyperparameter_models\\monkey_12_12_2023_lr_0.005_epochs_400_pt_30_gaus_ratio_0.1\n",
      "Area under the curve: 0.0005434258432602742\n",
      "Mean value on curve: 0.0018074718025485245\n",
      "\n",
      "\\\\10.99.68.178\\andreex\\data\\Stardist\\12_12_hyperparameter_models\\monkey_12_12_2023_lr_0.005_epochs_400_pt_40_gaus_ratio_0\n",
      "Area under the curve: 0.14450037028717935\n",
      "Mean value on curve: 0.3519339478060245\n",
      "\n",
      "\\\\10.99.68.178\\andreex\\data\\Stardist\\12_12_hyperparameter_models\\monkey_12_12_2023_lr_0.005_epochs_400_pt_40_gaus_ratio_0.1\n",
      "Area under the curve: 0.0004224547060819199\n",
      "Mean value on curve: 0.00168981882432768\n",
      "\n"
     ]
    }
   ],
   "source": [
    "import numpy as np\n",
    "from scipy import integrate\n",
    "\n",
    "aucs = []\n",
    "means=[]\n",
    "\n",
    "for i, mAPs in enumerate(model_mAPs):\n",
    "    print(pths[i])\n",
    "    if mAPs != 0:\n",
    "        area_under_curve = integrate.trapz(mAPs, taus)\n",
    "        mean = np.mean(mAPs)\n",
    "    else:\n",
    "        area_under_curve = 0\n",
    "        mean = 0\n",
    "    print(f\"Area under the curve: {area_under_curve}\")\n",
    "    aucs.append(area_under_curve)\n",
    "    print(f'Mean value on curve: {mean}\\n')\n",
    "    means.append(mean)"
   ],
   "metadata": {
    "collapsed": false,
    "ExecuteTime": {
     "end_time": "2023-12-14T16:01:25.931535600Z",
     "start_time": "2023-12-14T16:01:25.893543700Z"
    }
   }
  },
  {
   "cell_type": "code",
   "execution_count": 25,
   "outputs": [
    {
     "data": {
      "text/plain": "[0.0015386789617515915,\n 0.001547653278783387,\n 0.0015502033062833678,\n 0.0016538054107252324,\n 0.0016829205985764897,\n 0.00168981882432768,\n 0.0017012681068675315,\n 0.0017122761708359576,\n 0.0018074718025485245,\n 0.002029845177755818,\n 0.0021449442925930385,\n 0.0032800103692477885,\n 0.2321613970680625,\n 0.29796047772600126,\n 0.31165802880325455,\n 0.33146437310096294,\n 0.33430215354537035,\n 0.34665080363696615,\n 0.3481952587147968,\n 0.3483352265468798,\n 0.34939487622273807,\n 0.349666257073754,\n 0.3517918896643439,\n 0.3519339478060245,\n 0.35562120850281914,\n 0.35763447667253107,\n 0.36202266341478484,\n 0.3627048275459962,\n 0.36306177572956083,\n 0.36346410693074016,\n 0.3660491963340501,\n 0.3671995719790507,\n 0.3673021968530255,\n 0.36762372509013974,\n 0.37060157104010744,\n 0.3710433414800019,\n 0.37185770739035806,\n 0.3739806763624898,\n 0.3741992211931532,\n 0.3744081732052048,\n 0.3746285364078211,\n 0.3754773765946319,\n 0.3761568960263737,\n 0.3764615022170199,\n 0.3776179794648312,\n 0.37924517961348897,\n 0.3799777900637917,\n 0.38039512960053773,\n 0.38222061516058903,\n 0.38224087523968087,\n 0.3823006986289525,\n 0.3826472300195142,\n 0.38291865733890573,\n 0.3831953090931294,\n 0.38333909320513376,\n 0.3834182930380088,\n 0.3839387404314357,\n 0.38424431868081366,\n 0.384784311112165,\n 0.3848440890657262,\n 0.3852276320756518,\n 0.385464592760507,\n 0.38548581921410185,\n 0.38634316719636813,\n 0.38666759814953566,\n 0.38696189396555736,\n 0.3872537236098663,\n 0.387566707427248,\n 0.3882349746526558,\n 0.38827924028155547,\n 0.3903395391224147,\n 0.39093183679651433,\n 0.3910067098409741,\n 0.3911122764637446,\n 0.39113212671129605,\n 0.39120264947913086,\n 0.391238152119464,\n 0.39185830965430946,\n 0.3924886446663874,\n 0.3927107086411793,\n 0.3930849009337948,\n 0.39309300061574814,\n 0.39314000606773114,\n 0.39366746507374706,\n 0.39374565082375274,\n 0.39381483025265196,\n 0.39534874280523213,\n 0.3995363846115184,\n 0.3996241489098248,\n 0.40037834323349764,\n 0.4011248664989804,\n 0.401857283320349,\n 0.4018676694487997,\n 0.40522291203064925,\n 0.4062890570772468,\n 0.4086957159539037]"
     },
     "execution_count": 25,
     "metadata": {},
     "output_type": "execute_result"
    }
   ],
   "source": [
    "sorted(means)"
   ],
   "metadata": {
    "collapsed": false,
    "ExecuteTime": {
     "end_time": "2023-12-14T16:01:46.940691200Z",
     "start_time": "2023-12-14T16:01:46.915740900Z"
    }
   }
  },
  {
   "cell_type": "code",
   "execution_count": 26,
   "outputs": [
    {
     "data": {
      "text/plain": "[0.00038466974043789776,\n 0.00038691331969584663,\n 0.00038755082657084184,\n 0.00041345135268130805,\n 0.0004207301496441223,\n 0.0004224547060819199,\n 0.00042531702671688276,\n 0.0004280690427089893,\n 0.0005074612944389544,\n 0.0005434258432602742,\n 0.0006427699230131878,\n 0.0009869621779672907,\n 0.090121851749518,\n 0.12153421827976148,\n 0.12642574875752427,\n 0.13554171040353086,\n 0.1377363042227952,\n 0.14181665035531305,\n 0.14292964637422298,\n 0.14315079298925096,\n 0.14345346981276985,\n 0.1435446106184805,\n 0.14450037028717935,\n 0.14479696225295105,\n 0.1462869192131141,\n 0.1473188355909102,\n 0.14904452207624444,\n 0.14984113266576143,\n 0.15004437010855118,\n 0.15007159831191333,\n 0.15065672473494277,\n 0.15107981499438547,\n 0.15113643981643302,\n 0.15203715409074217,\n 0.1520954375965255,\n 0.15269031685072593,\n 0.1534802735161441,\n 0.15383176748518088,\n 0.1542418366137235,\n 0.15447730975474888,\n 0.15452122875024515,\n 0.15477342518362652,\n 0.1550710341864926,\n 0.15552625768122463,\n 0.15587397254999555,\n 0.1567890747258754,\n 0.1570513954495059,\n 0.15731696437353612,\n 0.1575158043971655,\n 0.15769231205362683,\n 0.15808823172381276,\n 0.15835214166106285,\n 0.15849990610838485,\n 0.15856787438868467,\n 0.1586774217250148,\n 0.1586791948144987,\n 0.15880589208457818,\n 0.15880909806710403,\n 0.15918675806876967,\n 0.15926428113174912,\n 0.1592703248235661,\n 0.15943242984157158,\n 0.15971803842415813,\n 0.15984084112384023,\n 0.15984116949599564,\n 0.1599397877668744,\n 0.16036150385776776,\n 0.16073661387708582,\n 0.16086221364438616,\n 0.160887707401113,\n 0.16106774525255677,\n 0.16147672501348553,\n 0.1615016929256913,\n 0.16162515391789242,\n 0.16166840869109564,\n 0.16172760942094483,\n 0.1618320882692198,\n 0.16206080002833467,\n 0.16217001101626177,\n 0.16219975087890953,\n 0.16220238301238454,\n 0.1624879708231852,\n 0.16269405309959117,\n 0.16269468814727786,\n 0.16291227721261503,\n 0.1629429119938852,\n 0.16445718742129226,\n 0.16523560895988007,\n 0.16539890545996733,\n 0.16541387183968648,\n 0.16582464700909272,\n 0.16613718607030117,\n 0.16670994413566706,\n 0.1679804784846511,\n 0.16834396782543967,\n 0.1692198365642436]"
     },
     "execution_count": 26,
     "metadata": {},
     "output_type": "execute_result"
    }
   ],
   "source": [
    "sorted(aucs)"
   ],
   "metadata": {
    "collapsed": false,
    "ExecuteTime": {
     "end_time": "2023-12-14T16:02:14.902518600Z",
     "start_time": "2023-12-14T16:02:14.888565300Z"
    }
   }
  },
  {
   "cell_type": "code",
   "execution_count": 27,
   "outputs": [
    {
     "data": {
      "text/plain": "'\\\\\\\\10.99.68.178\\\\andreex\\\\data\\\\Stardist\\\\12_12_hyperparameter_models\\\\monkey_12_12_2023_lr_0.001_epochs_400_pt_10_gaus_ratio_0'"
     },
     "execution_count": 27,
     "metadata": {},
     "output_type": "execute_result"
    }
   ],
   "source": [
    "ind = np.argmax(means)\n",
    "pths[ind]"
   ],
   "metadata": {
    "collapsed": false,
    "ExecuteTime": {
     "end_time": "2023-12-14T16:03:03.972725Z",
     "start_time": "2023-12-14T16:03:03.958058200Z"
    }
   }
  },
  {
   "cell_type": "code",
   "execution_count": null,
   "outputs": [],
   "source": [
    "# check old model to see score"
   ],
   "metadata": {
    "collapsed": false
   }
  },
  {
   "cell_type": "code",
   "execution_count": 37,
   "outputs": [
    {
     "data": {
      "text/plain": "[0.6361457820996258,\n 0.5611798127696268,\n 0.43339340247698616,\n 0.2550536636928585,\n 0.03814889452172772]"
     },
     "execution_count": 37,
     "metadata": {},
     "output_type": "execute_result"
    }
   ],
   "source": [
    "model_mAPs[50]"
   ],
   "metadata": {
    "collapsed": false,
    "ExecuteTime": {
     "end_time": "2023-12-14T16:16:35.985524800Z",
     "start_time": "2023-12-14T16:16:35.976555100Z"
    }
   }
  },
  {
   "cell_type": "code",
   "execution_count": 31,
   "outputs": [
    {
     "data": {
      "text/plain": "[0.6622550218559431,\n 0.5911165634917219,\n 0.4679371945161191,\n 0.2818643935075125,\n 0.040305406398221645]"
     },
     "execution_count": 31,
     "metadata": {},
     "output_type": "execute_result"
    }
   ],
   "source": [
    "model_mAPs[ind]"
   ],
   "metadata": {
    "collapsed": false,
    "ExecuteTime": {
     "end_time": "2023-12-14T16:15:45.566186400Z",
     "start_time": "2023-12-14T16:15:45.535602800Z"
    }
   }
  },
  {
   "cell_type": "code",
   "execution_count": 28,
   "outputs": [
    {
     "data": {
      "text/plain": "<Figure size 640x480 with 1 Axes>",
      "image/png": "[encoded data removed]"
     },
     "metadata": {},
     "output_type": "display_data"
    }
   ],
   "source": [
    "plt.plot(taus, model_mAPs[ind], marker='o', linestyle='-')\n",
    "\n",
    "# Adding labels and title\n",
    "plt.xlabel('Tau')\n",
    "plt.ylabel('Accuracy: mAP')\n",
    "plt.title('Accuracy of some model')\n",
    "plt.xticks(taus)\n",
    "plt.ylim(0, 1)\n",
    "plt.grid('on')\n",
    "\n",
    "# Display the plot\n",
    "plt.show()"
   ],
   "metadata": {
    "collapsed": false,
    "ExecuteTime": {
     "end_time": "2023-12-14T16:14:59.279169100Z",
     "start_time": "2023-12-14T16:14:59.204419700Z"
    }
   }
  },
  {
   "cell_type": "code",
   "execution_count": null,
   "outputs": [],
   "source": [],
   "metadata": {
    "collapsed": false
   }
  }
 ],
 "metadata": {
  "kernelspec": {
   "display_name": "Python 3",
   "language": "python",
   "name": "python3"
  },
  "language_info": {
   "codemirror_mode": {
    "name": "ipython",
    "version": 2
   },
   "file_extension": ".py",
   "mimetype": "text/x-python",
   "name": "python",
   "nbconvert_exporter": "python",
   "pygments_lexer": "ipython2",
   "version": "2.7.6"
  }
 },
 "nbformat": 4,
 "nbformat_minor": 0
}
