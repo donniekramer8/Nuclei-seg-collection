{
 "cells": [
  {
   "cell_type": "code",
   "execution_count": 2,
   "id": "initial_id",
   "metadata": {
    "collapsed": true,
    "ExecuteTime": {
     "end_time": "2024-03-20T19:23:58.312460800Z",
     "start_time": "2024-03-20T19:23:58.306461Z"
    }
   },
   "outputs": [
    {
     "name": "stdout",
     "output_type": "stream",
     "text": [
      "22\n"
     ]
    }
   ],
   "source": [
    "colnames = ['reg_centroid_x',\n",
    "'reg_centroid_y',\n",
    "'Centroid_x',\n",
    "'Centroid_y',\n",
    "'Area',\n",
    "'Perimeter',\n",
    "'Circularity',\n",
    "'Aspect Ratio',\n",
    "'compactness',\n",
    "'eccentricity',\n",
    "'extent',\n",
    "'form_factor',\n",
    "'maximum_radius',\n",
    "'mean_radius',\n",
    "'median_radius',\n",
    "'minor_axis_length',\n",
    "'major_axis_length',\n",
    "'orientation_degrees',\n",
    "'r_mean_intensity_norm',\n",
    "'g_mean_intensity_norm',\n",
    "'b_mean_intensity_norm',\n",
    "'slide_num']\n",
    "\n",
    "print(len(colnames))"
   ]
  },
  {
   "cell_type": "code",
   "outputs": [],
   "source": [],
   "metadata": {
    "collapsed": false
   },
   "id": "ce537640fad26130"
  }
 ],
 "metadata": {
  "kernelspec": {
   "display_name": "Python 3",
   "language": "python",
   "name": "python3"
  },
  "language_info": {
   "codemirror_mode": {
    "name": "ipython",
    "version": 2
   },
   "file_extension": ".py",
   "mimetype": "text/x-python",
   "name": "python",
   "nbconvert_exporter": "python",
   "pygments_lexer": "ipython2",
   "version": "2.7.6"
  }
 },
 "nbformat": 4,
 "nbformat_minor": 5
}
