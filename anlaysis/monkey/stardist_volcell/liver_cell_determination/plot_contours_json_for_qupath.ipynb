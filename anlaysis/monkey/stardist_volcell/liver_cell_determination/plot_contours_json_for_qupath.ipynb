{
 "cells": [
  {
   "cell_type": "code",
   "execution_count": 2,
   "id": "initial_id",
   "metadata": {
    "collapsed": true,
    "ExecuteTime": {
     "end_time": "2024-03-27T18:39:15.579827600Z",
     "start_time": "2024-03-27T18:39:15.567630200Z"
    }
   },
   "outputs": [],
   "source": [
    "from tifffile import imread\n",
    "import os\n",
    "from matplotlib import pyplot as plt\n",
    "import json\n",
    "import geojson\n",
    "from scipy.io import loadmat\n",
    "import h5py\n",
    "import numpy as np"
   ]
  },
  {
   "cell_type": "code",
   "outputs": [],
   "source": [
    "# pth_WSI_segmentations = r'\\\\10.99.68.178\\andreex\\data\\Stardist\\PDAC model\\maybe_all_tiles_donald\\test_WSI\\StarDist_2_9_24\\json'\n",
    "#pth_WSI_segmentations = r'\\\\10.99.68.178\\andre\\Eduarda PDAC\\immune_cell_pipeline\\star_dist_Donald_model\\StarDist_1_29_23\\json'\n",
    "\n",
    "pth_WSI_segmentations = r'\\\\10.162.80.16\\Andre_expansion\\data\\monkey_fetus\\Stardist\\liver_cell_annotations\\jsons'\n",
    "#npdi_im_path = r'\\\\10.162.80.16\\Andre_expansion\\data\\PDAC purity\\NDPI\\pdac purity'"
   ],
   "metadata": {
    "collapsed": false,
    "ExecuteTime": {
     "end_time": "2024-03-27T18:39:15.870514700Z",
     "start_time": "2024-03-27T18:39:15.867514600Z"
    }
   },
   "id": "46338febac5b93c3",
   "execution_count": 3
  },
  {
   "cell_type": "code",
   "outputs": [
    {
     "name": "stdout",
     "output_type": "stream",
     "text": [
      "['\\\\\\\\10.162.80.16\\\\Andre_expansion\\\\data\\\\monkey_fetus\\\\Stardist\\\\liver_cell_annotations\\\\jsons\\\\monkey_fetus_40_0466.json', '\\\\\\\\10.162.80.16\\\\Andre_expansion\\\\data\\\\monkey_fetus\\\\Stardist\\\\liver_cell_annotations\\\\jsons\\\\monkey_fetus_40_0552.json', '\\\\\\\\10.162.80.16\\\\Andre_expansion\\\\data\\\\monkey_fetus\\\\Stardist\\\\liver_cell_annotations\\\\jsons\\\\monkey_fetus_40_0642.json']\n"
     ]
    }
   ],
   "source": [
    "json_pth_list = sorted([os.path.join(pth_WSI_segmentations,file) for file in os.listdir(pth_WSI_segmentations) if file.endswith(\".json\")])\n",
    "print(json_pth_list)"
   ],
   "metadata": {
    "collapsed": false,
    "ExecuteTime": {
     "end_time": "2024-03-27T18:39:16.214758200Z",
     "start_time": "2024-03-27T18:39:16.197568300Z"
    }
   },
   "id": "824325fef43797ae",
   "execution_count": 4
  },
  {
   "cell_type": "code",
   "outputs": [],
   "source": [
    "def get_ds_data(segmentation_data, ds):\n",
    "    data_list = []\n",
    "    for data in segmentation_data:\n",
    "        centroid = data['centroid'][0]\n",
    "        contour = data['contour'][0]\n",
    "    \n",
    "        #print(centroid)\n",
    "        #print(contour)\n",
    "        \n",
    "        ds_centroid = [int(c/ds) for c in centroid]\n",
    "        ds_contour = [[value / ds for value in sublist] for sublist in contour]\n",
    "        ds_contour = [[round(x,2), round(y,2)] for x, y in zip(ds_contour[0], ds_contour[1])]\n",
    "        #ds_contour = ds_contour[0:-1:4]  # make shape have 8 points instead of 32\n",
    "        \n",
    "        #print(ds_centroid)\n",
    "        #print(ds_contour)\n",
    "        \n",
    "        dat = [ds_centroid, ds_contour]\n",
    "        data_list.append(dat)\n",
    "    return data_list"
   ],
   "metadata": {
    "collapsed": false,
    "ExecuteTime": {
     "end_time": "2024-03-27T18:39:19.313566300Z",
     "start_time": "2024-03-27T18:39:19.311566200Z"
    }
   },
   "id": "1ac25708a229fc85",
   "execution_count": 5
  },
  {
   "cell_type": "code",
   "outputs": [
    {
     "data": {
      "text/plain": "'\\\\\\\\10.162.80.16\\\\Andre_expansion\\\\data\\\\monkey_fetus\\\\Stardist\\\\liver_cell_annotations\\\\jsons\\\\monkey_fetus_40_0466.json'"
     },
     "execution_count": 7,
     "metadata": {},
     "output_type": "execute_result"
    }
   ],
   "source": [
    "json_pth_list[0]"
   ],
   "metadata": {
    "collapsed": false,
    "ExecuteTime": {
     "end_time": "2024-03-27T18:39:25.483725Z",
     "start_time": "2024-03-27T18:39:25.475725Z"
    }
   },
   "id": "8ccd2b1a45968d90",
   "execution_count": 7
  },
  {
   "cell_type": "code",
   "outputs": [
    {
     "name": "stdout",
     "output_type": "stream",
     "text": [
      "0 / 3\n",
      "monkey_fetus_40_0466.json\n",
      "Finished \\\\10.162.80.16\\Andre_expansion\\data\\monkey_fetus\\Stardist\\StarDist_12_25_23\\downsampled_jsons\\32_polys_20x\\monkey_fetus_40_0466.geojson\n"
     ]
    }
   ],
   "source": [
    "# out_pth = r'\\\\10.99.68.178\\andreex\\data\\Stardist\\PDAC model\\maybe_all_tiles_donald\\test_WSI\\StarDist_2_9_24\\json\\partial_jsons'\n",
    "\n",
    "out_pth = r'\\\\10.162.80.16\\Andre_expansion\\data\\monkey_fetus\\Stardist\\StarDist_12_25_23\\downsampled_jsons\\32_polys_20x'\n",
    "\n",
    "# ds_amt = 4 # 2.5x\n",
    "# ds_amt = 2/0.4416  # 5x\n",
    "# ds_amt = 1/0.4416 # 10x\n",
    "ds_amt = 1 # 20x\n",
    "\n",
    "# for p, file in enumerate(json_pth_list):\n",
    "for p, file in enumerate([json_pth_list[0]]):\n",
    "    nm = file.split('\\\\')[-1]\n",
    "    new_fn = os.path.join(out_pth, nm[:-5] + '.geojson')\n",
    "    print(f'{p} / {len(json_pth_list)}')\n",
    "    print(nm)\n",
    "    \n",
    "    if not os.path.exists(new_fn):\n",
    "    \n",
    "        segmentation_data = json.load(open(file))\n",
    "        \n",
    "        data_list = get_ds_data(segmentation_data, ds_amt)\n",
    "    \n",
    "        GEOdata = []\n",
    "        \n",
    "        for j, (centroid, contour) in enumerate(data_list):\n",
    "            \n",
    "            #if j == 100000:\n",
    "            #    break\n",
    "            \n",
    "            centroid = [centroid[0] + 0, centroid[1] + 0]\n",
    "            # xy coordinates are swapped, so I reverse them here with xy[::-1]\n",
    "            # note: add 1 to coords to fix 0 indexing vs 1 index offset\n",
    "            contour = [[coord+0 for coord in xy[::-1]] for xy in contour]  # Convert coordinates to integers\n",
    "            contour.append(contour[0]) # stardist doesn't close the circle, needed for qupath\n",
    "        \n",
    "            # Create a new dictionary for each contour\n",
    "            dict_data = {\n",
    "                \"type\": \"Feature\",\n",
    "                \"id\": \"PathCellObject\",\n",
    "                \"geometry\": {\n",
    "                    \"type\": \"Polygon\",\n",
    "                    \"coordinates\": [contour]\n",
    "                },\n",
    "                \"properties\": {\n",
    "                    'objectType': 'annotation',\n",
    "                    'classification': {'name': 'Nuclei', 'color': [97, 214, 59]}\n",
    "                }\n",
    "            }\n",
    "        \n",
    "            GEOdata.append(dict_data)\n",
    "        \n",
    "        with open(new_fn,'w') as outfile:\n",
    "            geojson.dump(GEOdata,outfile)\n",
    "        print('Finished',new_fn)\n",
    "    \n",
    "    else:\n",
    "        print(f'skipping {new_fn}')"
   ],
   "metadata": {
    "collapsed": false,
    "ExecuteTime": {
     "end_time": "2024-03-27T18:42:53.223481800Z",
     "start_time": "2024-03-27T18:39:38.274890700Z"
    }
   },
   "id": "17954b97009f1737",
   "execution_count": 9
  },
  {
   "cell_type": "code",
   "outputs": [],
   "source": [],
   "metadata": {
    "collapsed": false
   },
   "id": "42c73fee0db3df2a"
  }
 ],
 "metadata": {
  "kernelspec": {
   "display_name": "Python 3",
   "language": "python",
   "name": "python3"
  },
  "language_info": {
   "codemirror_mode": {
    "name": "ipython",
    "version": 2
   },
   "file_extension": ".py",
   "mimetype": "text/x-python",
   "name": "python",
   "nbconvert_exporter": "python",
   "pygments_lexer": "ipython2",
   "version": "2.7.6"
  }
 },
 "nbformat": 4,
 "nbformat_minor": 5
}
