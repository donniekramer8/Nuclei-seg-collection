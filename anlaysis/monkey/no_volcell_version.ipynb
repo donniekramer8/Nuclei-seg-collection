{
 "cells": [
  {
   "cell_type": "code",
   "execution_count": 1,
   "id": "initial_id",
   "metadata": {
    "collapsed": true,
    "ExecuteTime": {
     "end_time": "2024-02-15T21:05:26.167424700Z",
     "start_time": "2024-02-15T21:05:25.814413700Z"
    }
   },
   "outputs": [],
   "source": [
    "import os\n",
    "import numpy as np\n",
    "from scipy.io import loadmat\n",
    "import h5py\n",
    "import matplotlib.pyplot as plt"
   ]
  },
  {
   "cell_type": "code",
   "outputs": [],
   "source": [
    "pth_aligned_xy = r'\\\\10.162.80.16\\Andre_expansion\\data\\monkey_fetus\\Stardist\\StarDist_12_25_23\\mat\\mat_aligned_2_5x_xy_cropped'\n",
    "pth_vols = r'\\\\10.162.80.16\\Andre_expansion\\data\\monkey_fetus\\final_vols\\stardist_files\\backup\\vols_with_stardist_volcell.mat'"
   ],
   "metadata": {
    "collapsed": false,
    "ExecuteTime": {
     "end_time": "2024-02-15T21:05:26.182424100Z",
     "start_time": "2024-02-15T21:05:26.167424700Z"
    }
   },
   "id": "e13812c896f3a7f2",
   "execution_count": 2
  },
  {
   "cell_type": "code",
   "outputs": [
    {
     "name": "stdout",
     "output_type": "stream",
     "text": [
      "['\\\\\\\\10.162.80.16\\\\Andre_expansion\\\\data\\\\monkey_fetus\\\\Stardist\\\\StarDist_12_25_23\\\\mat\\\\mat_aligned_2_5x_xy_cropped\\\\monkey_fetus_40_0001.mat', '\\\\\\\\10.162.80.16\\\\Andre_expansion\\\\data\\\\monkey_fetus\\\\Stardist\\\\StarDist_12_25_23\\\\mat\\\\mat_aligned_2_5x_xy_cropped\\\\monkey_fetus_40_0002.mat', '\\\\\\\\10.162.80.16\\\\Andre_expansion\\\\data\\\\monkey_fetus\\\\Stardist\\\\StarDist_12_25_23\\\\mat\\\\mat_aligned_2_5x_xy_cropped\\\\monkey_fetus_40_0003.mat', '\\\\\\\\10.162.80.16\\\\Andre_expansion\\\\data\\\\monkey_fetus\\\\Stardist\\\\StarDist_12_25_23\\\\mat\\\\mat_aligned_2_5x_xy_cropped\\\\monkey_fetus_40_0004.mat', '\\\\\\\\10.162.80.16\\\\Andre_expansion\\\\data\\\\monkey_fetus\\\\Stardist\\\\StarDist_12_25_23\\\\mat\\\\mat_aligned_2_5x_xy_cropped\\\\monkey_fetus_40_0005.mat']\n"
     ]
    }
   ],
   "source": [
    "xy_aligned_files = os.listdir(pth_aligned_xy)\n",
    "\n",
    "xy = sorted([os.path.join(pth_aligned_xy, i) for i in xy_aligned_files if i.endswith('.mat')])\n",
    "\n",
    "print(xy[:5])"
   ],
   "metadata": {
    "collapsed": false,
    "ExecuteTime": {
     "end_time": "2024-02-15T21:05:26.306424600Z",
     "start_time": "2024-02-15T21:05:26.183424800Z"
    }
   },
   "id": "2f3068c9b709cb2a",
   "execution_count": 3
  },
  {
   "cell_type": "code",
   "outputs": [],
   "source": [
    "def load_var_from_mat(mat_file_name, varname):\n",
    "\n",
    "    try:\n",
    "        data = loadmat(mat_file_name)\n",
    "\n",
    "        var = data[varname]\n",
    "    except:\n",
    "        data = h5py.File(mat_file_name, 'r')\n",
    "\n",
    "        var = data[varname][()]\n",
    "\n",
    "    return var"
   ],
   "metadata": {
    "collapsed": false,
    "ExecuteTime": {
     "end_time": "2024-02-15T21:05:26.334424600Z",
     "start_time": "2024-02-15T21:05:26.307424500Z"
    }
   },
   "id": "314dcdf49ba46443",
   "execution_count": 4
  },
  {
   "cell_type": "code",
   "outputs": [],
   "source": [
    "volfinal = load_var_from_mat(pth_vols, 'volfinal')\n",
    "volfinal = np.transpose(volfinal, (2, 1, 0))\n",
    "print(np.shape(volfinal))"
   ],
   "metadata": {
    "collapsed": false,
    "is_executing": true,
    "ExecuteTime": {
     "start_time": "2024-02-15T21:05:26.323424600Z"
    }
   },
   "id": "bf85fab51cb036ad",
   "execution_count": null
  },
  {
   "cell_type": "code",
   "outputs": [],
   "source": [
    "from matplotlib.colors import ListedColormap\n",
    "\n",
    "cmap_pth = r\"\\\\10.99.68.178\\andreex\\students\\Donald Monkey fetus\\codes\\monkey\\new_cmap_10_16.mat\"\n",
    "cmap_var = load_var_from_mat(cmap_pth, \"cmap\")\n",
    "noise_color = np.array([0, 0, 0]).reshape(1,3)\n",
    "cmap_var = np.concatenate([noise_color, cmap_var], axis=0)/255\n",
    "#cmap_var = cmap_var/255\n",
    "\n",
    "cmap_var = ListedColormap(cmap_var)\n",
    "cmap_var"
   ],
   "metadata": {
    "collapsed": false,
    "is_executing": true
   },
   "id": "1865578c61a53740",
   "execution_count": null
  },
  {
   "cell_type": "code",
   "outputs": [],
   "source": [
    "i = 500\n",
    "\n",
    "im = volfinal[:,:,i]\n",
    "\n",
    "plt.imshow(im, cmap=cmap_var, interpolation='none')\n",
    "plt.show()"
   ],
   "metadata": {
    "collapsed": false,
    "is_executing": true
   },
   "id": "76cedbb2199e3957",
   "execution_count": null
  },
  {
   "cell_type": "code",
   "outputs": [],
   "source": [
    "plt.imshow(im, cmap=\"grey\")"
   ],
   "metadata": {
    "collapsed": false,
    "is_executing": true
   },
   "id": "5143dd8a65d1b60a",
   "execution_count": null
  },
  {
   "cell_type": "code",
   "outputs": [],
   "source": [
    "i = 1000\n",
    "\n",
    "im = volfinal[:,:,i]\n",
    "\n",
    "\n",
    "\n",
    "print(xy[i])\n",
    "plt.imshow(im, cmap=\"grey\")\n",
    "coords = np.transpose(np.array(load_var_from_mat(xy[i], \"xy\")))\n",
    "plt.scatter(coords[:,0], coords[:,1], c='r', s=0.01)\n",
    "plt.show()"
   ],
   "metadata": {
    "collapsed": false,
    "is_executing": true
   },
   "id": "2e42d251dd732e98",
   "execution_count": null
  },
  {
   "cell_type": "code",
   "outputs": [],
   "source": [
    "volcell = load_var_from_mat(pth_vols, 'volcell')\n",
    "volcell = np.transpose(volcell, (2, 1, 0))"
   ],
   "metadata": {
    "collapsed": false,
    "is_executing": true
   },
   "id": "914d83d2281a67ca",
   "execution_count": null
  },
  {
   "cell_type": "code",
   "outputs": [],
   "source": [
    "plt.imshow(im, cmap=\"grey\")\n",
    "plt.show()"
   ],
   "metadata": {
    "collapsed": false,
    "is_executing": true
   },
   "id": "fe6d70c27a822b5a",
   "execution_count": null
  },
  {
   "cell_type": "code",
   "outputs": [],
   "source": [
    "coords_v = volcell[:,:,i]\n",
    "plt.imshow(coords_v, cmap='grey')"
   ],
   "metadata": {
    "collapsed": false,
    "is_executing": true
   },
   "id": "2414e9e1c41deda5",
   "execution_count": null
  },
  {
   "cell_type": "code",
   "outputs": [],
   "source": [
    "reg_xy = r'\\\\10.162.80.16\\Andre_expansion\\data\\monkey_fetus\\Stardist\\StarDist_12_25_23\\donald_stardist_aligned_centroids_2_5x\\monkey_fetus_40_0001.mat'\n",
    "\n",
    "xye = load_var_from_mat(reg_xy, 'xye')\n",
    "xyr = load_var_from_mat(reg_xy, 'xyr')"
   ],
   "metadata": {
    "collapsed": false,
    "is_executing": true
   },
   "id": "65b279c07a50934c",
   "execution_count": null
  },
  {
   "cell_type": "code",
   "outputs": [],
   "source": [
    "m1_path = r'\\\\10.99.68.178\\andreex\\data\\monkey fetus\\gestational 40\\mat files\\Monkey_MODEL1_6_21_2023.mat'\n",
    "rr = load_var_from_mat(m1_path, 'rr')/2"
   ],
   "metadata": {
    "collapsed": false,
    "is_executing": true
   },
   "id": "62992b701a5c0e15",
   "execution_count": null
  },
  {
   "cell_type": "code",
   "outputs": [],
   "source": [
    "rr"
   ],
   "metadata": {
    "collapsed": false,
    "is_executing": true
   },
   "id": "a178e0965bbb87c4",
   "execution_count": null
  },
  {
   "cell_type": "code",
   "outputs": [],
   "source": [
    "xye[:5,:]"
   ],
   "metadata": {
    "collapsed": false,
    "is_executing": true
   },
   "id": "d09d11764d9e0fd3",
   "execution_count": null
  },
  {
   "cell_type": "code",
   "outputs": [],
   "source": [
    "xye_adj = np.transpose(np.array([xyr[:,0] - rr[0], xyr[:,1] - rr[1]]))\n",
    "xye_adj[:5,:]"
   ],
   "metadata": {
    "collapsed": false,
    "is_executing": true
   },
   "id": "c24d325d909a51ef",
   "execution_count": null
  },
  {
   "cell_type": "code",
   "outputs": [],
   "source": [
    "filtered_arr = xye_adj[(xye_adj[:,0] > 0) & (xye_adj[:,1] > 0)]\n",
    "filtered_arr[0:5,:]"
   ],
   "metadata": {
    "collapsed": false,
    "is_executing": true
   },
   "id": "6e99bfadb7fa1a82",
   "execution_count": null
  },
  {
   "cell_type": "code",
   "outputs": [],
   "source": [
    "xye_adj.shape"
   ],
   "metadata": {
    "collapsed": false,
    "is_executing": true
   },
   "id": "8c7a5b3b00594635",
   "execution_count": null
  },
  {
   "cell_type": "code",
   "outputs": [],
   "source": [
    "i = 0\n",
    "\n",
    "im = volfinal[:,:,i]\n",
    "\n",
    "\n",
    "\n",
    "print(xy[i])\n",
    "plt.imshow(im, cmap=\"grey\")\n",
    "coords = filtered_arr\n",
    "plt.scatter(coords[:,0], coords[:,1], c='r', s=0.01)\n",
    "plt.show()"
   ],
   "metadata": {
    "collapsed": false,
    "is_executing": true
   },
   "id": "2e8f8b20d31846e4",
   "execution_count": null
  },
  {
   "cell_type": "code",
   "outputs": [],
   "source": [
    "i = 0\n",
    "\n",
    "im = volfinal[:,:,i]\n",
    "\n",
    "\n",
    "\n",
    "print(xy[i])\n",
    "plt.imshow(im, cmap=\"grey\")\n",
    "coords = np.array(xye)\n",
    "plt.scatter(coords[:,0], coords[:,1], c='r', s=0.01)\n",
    "plt.show()"
   ],
   "metadata": {
    "collapsed": false,
    "is_executing": true
   },
   "id": "4a49985aa61ec657",
   "execution_count": null
  },
  {
   "cell_type": "code",
   "outputs": [],
   "source": [
    "coords = np.array(xye)\n",
    "plt.scatter(coords[:,0], coords[:,1], c='r', s=0.01)\n",
    "plt.show()"
   ],
   "metadata": {
    "collapsed": false,
    "is_executing": true
   },
   "id": "22f56a0d5b7b93fb",
   "execution_count": null
  },
  {
   "cell_type": "code",
   "outputs": [],
   "source": [
    "coords = np.array(xyr)\n",
    "plt.scatter(coords[:,0], coords[:,1], c='r', s=0.01)\n",
    "plt.show()"
   ],
   "metadata": {
    "collapsed": false,
    "is_executing": true
   },
   "id": "ff111c79c74fa1d0",
   "execution_count": null
  },
  {
   "cell_type": "code",
   "outputs": [],
   "source": [],
   "metadata": {
    "collapsed": false,
    "is_executing": true
   },
   "id": "3f228eb03073a904"
  }
 ],
 "metadata": {
  "kernelspec": {
   "display_name": "Python 3",
   "language": "python",
   "name": "python3"
  },
  "language_info": {
   "codemirror_mode": {
    "name": "ipython",
    "version": 2
   },
   "file_extension": ".py",
   "mimetype": "text/x-python",
   "name": "python",
   "nbconvert_exporter": "python",
   "pygments_lexer": "ipython2",
   "version": "2.7.6"
  }
 },
 "nbformat": 4,
 "nbformat_minor": 5
}
