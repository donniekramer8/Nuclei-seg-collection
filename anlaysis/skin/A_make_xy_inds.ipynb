{
 "cells": [
  {
   "cell_type": "code",
   "execution_count": 2,
   "id": "initial_id",
   "metadata": {
    "ExecuteTime": {
     "end_time": "2024-08-28T20:24:39.284606200Z",
     "start_time": "2024-08-28T20:24:38.745584100Z"
    },
    "collapsed": true
   },
   "outputs": [],
   "source": [
    "import os\n",
    "import pickle\n",
    "import matplotlib.pyplot as plt\n",
    "from scipy.io import loadmat\n",
    "import h5py\n",
    "import pandas as pd\n",
    "import numpy as np"
   ]
  },
  {
   "cell_type": "code",
   "execution_count": 3,
   "id": "5b95051b1b7b9038",
   "metadata": {
    "ExecuteTime": {
     "end_time": "2024-08-28T20:24:39.299268800Z",
     "start_time": "2024-08-28T20:24:39.285605200Z"
    },
    "collapsed": false
   },
   "outputs": [],
   "source": [
    "def load_var_from_mat(mat_file_name, varname):\n",
    "\n",
    "    try:\n",
    "        data = loadmat(mat_file_name)\n",
    "\n",
    "        var = data[varname]\n",
    "    except:\n",
    "        data = h5py.File(mat_file_name, 'r')\n",
    "\n",
    "        var = data[varname][()]\n",
    "\n",
    "    return var"
   ]
  },
  {
   "cell_type": "markdown",
   "id": "58c6f2f3a6fcd6c9",
   "metadata": {
    "collapsed": false
   },
   "source": [
    "Load pickled files"
   ]
  },
  {
   "cell_type": "code",
   "execution_count": 4,
   "id": "429f42c6ed2130fd",
   "metadata": {
    "ExecuteTime": {
     "end_time": "2024-08-28T20:28:56.636148Z",
     "start_time": "2024-08-28T20:28:56.602147600Z"
    },
    "collapsed": false
   },
   "outputs": [
    {
     "data": {
      "text/html": [
       "<div>\n",
       "<style scoped>\n",
       "    .dataframe tbody tr th:only-of-type {\n",
       "        vertical-align: middle;\n",
       "    }\n",
       "\n",
       "    .dataframe tbody tr th {\n",
       "        vertical-align: top;\n",
       "    }\n",
       "\n",
       "    .dataframe thead th {\n",
       "        text-align: right;\n",
       "    }\n",
       "</style>\n",
       "<table border=\"1\" class=\"dataframe\">\n",
       "  <thead>\n",
       "    <tr style=\"text-align: right;\">\n",
       "      <th></th>\n",
       "      <th>Centroid_x</th>\n",
       "      <th>Centroid_y</th>\n",
       "      <th>Area</th>\n",
       "      <th>Perimeter</th>\n",
       "      <th>Circularity</th>\n",
       "      <th>Aspect Ratio</th>\n",
       "      <th>compactness</th>\n",
       "      <th>eccentricity</th>\n",
       "      <th>extent</th>\n",
       "      <th>form_factor</th>\n",
       "      <th>...</th>\n",
       "      <th>minor_axis_length</th>\n",
       "      <th>major_axis_length</th>\n",
       "      <th>orientation_degrees</th>\n",
       "      <th>r_mean_intensity</th>\n",
       "      <th>g_mean_intensity</th>\n",
       "      <th>b_mean_intensity</th>\n",
       "      <th>r_std</th>\n",
       "      <th>g_std</th>\n",
       "      <th>b_std</th>\n",
       "      <th>slide_num</th>\n",
       "    </tr>\n",
       "  </thead>\n",
       "  <tbody>\n",
       "    <tr>\n",
       "      <th>0</th>\n",
       "      <td>26.0</td>\n",
       "      <td>2546.0</td>\n",
       "      <td>32.755787</td>\n",
       "      <td>23.065393</td>\n",
       "      <td>0.773706</td>\n",
       "      <td>1.346598</td>\n",
       "      <td>16.241785</td>\n",
       "      <td>0.669722</td>\n",
       "      <td>0.755858</td>\n",
       "      <td>1.292480</td>\n",
       "      <td>...</td>\n",
       "      <td>5.672896</td>\n",
       "      <td>7.639109</td>\n",
       "      <td>2838.977539</td>\n",
       "      <td>-1.000000</td>\n",
       "      <td>-1.000000</td>\n",
       "      <td>-1.000000</td>\n",
       "      <td>-1.000000</td>\n",
       "      <td>-1.000000</td>\n",
       "      <td>-1.000000</td>\n",
       "      <td>1.0</td>\n",
       "    </tr>\n",
       "    <tr>\n",
       "      <th>1</th>\n",
       "      <td>10696.0</td>\n",
       "      <td>2836.0</td>\n",
       "      <td>31.859758</td>\n",
       "      <td>22.474060</td>\n",
       "      <td>0.792664</td>\n",
       "      <td>1.114196</td>\n",
       "      <td>15.853333</td>\n",
       "      <td>0.440997</td>\n",
       "      <td>0.755481</td>\n",
       "      <td>1.261568</td>\n",
       "      <td>...</td>\n",
       "      <td>6.152174</td>\n",
       "      <td>6.854725</td>\n",
       "      <td>2568.238525</td>\n",
       "      <td>157.070007</td>\n",
       "      <td>162.360001</td>\n",
       "      <td>150.309998</td>\n",
       "      <td>18.476179</td>\n",
       "      <td>18.762468</td>\n",
       "      <td>17.544033</td>\n",
       "      <td>1.0</td>\n",
       "    </tr>\n",
       "    <tr>\n",
       "      <th>2</th>\n",
       "      <td>7594.0</td>\n",
       "      <td>3174.0</td>\n",
       "      <td>80.244316</td>\n",
       "      <td>32.975887</td>\n",
       "      <td>0.927323</td>\n",
       "      <td>1.223945</td>\n",
       "      <td>13.551229</td>\n",
       "      <td>0.576595</td>\n",
       "      <td>0.775400</td>\n",
       "      <td>1.078373</td>\n",
       "      <td>...</td>\n",
       "      <td>9.195245</td>\n",
       "      <td>11.254475</td>\n",
       "      <td>6230.223633</td>\n",
       "      <td>179.160004</td>\n",
       "      <td>149.800003</td>\n",
       "      <td>174.559998</td>\n",
       "      <td>29.639322</td>\n",
       "      <td>25.206373</td>\n",
       "      <td>29.020210</td>\n",
       "      <td>1.0</td>\n",
       "    </tr>\n",
       "    <tr>\n",
       "      <th>3</th>\n",
       "      <td>13996.0</td>\n",
       "      <td>2966.0</td>\n",
       "      <td>168.054489</td>\n",
       "      <td>46.918358</td>\n",
       "      <td>0.959344</td>\n",
       "      <td>1.195339</td>\n",
       "      <td>13.098919</td>\n",
       "      <td>0.547841</td>\n",
       "      <td>0.774833</td>\n",
       "      <td>1.042379</td>\n",
       "      <td>...</td>\n",
       "      <td>13.470244</td>\n",
       "      <td>16.101509</td>\n",
       "      <td>3107.450439</td>\n",
       "      <td>129.470001</td>\n",
       "      <td>89.550003</td>\n",
       "      <td>140.559998</td>\n",
       "      <td>30.121778</td>\n",
       "      <td>21.071230</td>\n",
       "      <td>32.122669</td>\n",
       "      <td>1.0</td>\n",
       "    </tr>\n",
       "    <tr>\n",
       "      <th>4</th>\n",
       "      <td>13016.0</td>\n",
       "      <td>3860.0</td>\n",
       "      <td>142.747437</td>\n",
       "      <td>43.225521</td>\n",
       "      <td>0.960059</td>\n",
       "      <td>1.140258</td>\n",
       "      <td>13.089171</td>\n",
       "      <td>0.480500</td>\n",
       "      <td>0.776511</td>\n",
       "      <td>1.041603</td>\n",
       "      <td>...</td>\n",
       "      <td>12.697223</td>\n",
       "      <td>14.478109</td>\n",
       "      <td>2969.409668</td>\n",
       "      <td>147.660004</td>\n",
       "      <td>91.989998</td>\n",
       "      <td>144.320007</td>\n",
       "      <td>31.731400</td>\n",
       "      <td>19.703716</td>\n",
       "      <td>30.633913</td>\n",
       "      <td>1.0</td>\n",
       "    </tr>\n",
       "  </tbody>\n",
       "</table>\n",
       "<p>5 rows × 23 columns</p>\n",
       "</div>"
      ],
      "text/plain": [
       "   Centroid_x  Centroid_y        Area  Perimeter  Circularity  Aspect Ratio  \\\n",
       "0        26.0      2546.0   32.755787  23.065393     0.773706      1.346598   \n",
       "1     10696.0      2836.0   31.859758  22.474060     0.792664      1.114196   \n",
       "2      7594.0      3174.0   80.244316  32.975887     0.927323      1.223945   \n",
       "3     13996.0      2966.0  168.054489  46.918358     0.959344      1.195339   \n",
       "4     13016.0      3860.0  142.747437  43.225521     0.960059      1.140258   \n",
       "\n",
       "   compactness  eccentricity    extent  form_factor  ...  minor_axis_length  \\\n",
       "0    16.241785      0.669722  0.755858     1.292480  ...           5.672896   \n",
       "1    15.853333      0.440997  0.755481     1.261568  ...           6.152174   \n",
       "2    13.551229      0.576595  0.775400     1.078373  ...           9.195245   \n",
       "3    13.098919      0.547841  0.774833     1.042379  ...          13.470244   \n",
       "4    13.089171      0.480500  0.776511     1.041603  ...          12.697223   \n",
       "\n",
       "   major_axis_length  orientation_degrees  r_mean_intensity  g_mean_intensity  \\\n",
       "0           7.639109          2838.977539         -1.000000         -1.000000   \n",
       "1           6.854725          2568.238525        157.070007        162.360001   \n",
       "2          11.254475          6230.223633        179.160004        149.800003   \n",
       "3          16.101509          3107.450439        129.470001         89.550003   \n",
       "4          14.478109          2969.409668        147.660004         91.989998   \n",
       "\n",
       "   b_mean_intensity      r_std      g_std      b_std  slide_num  \n",
       "0         -1.000000  -1.000000  -1.000000  -1.000000        1.0  \n",
       "1        150.309998  18.476179  18.762468  17.544033        1.0  \n",
       "2        174.559998  29.639322  25.206373  29.020210        1.0  \n",
       "3        140.559998  30.121778  21.071230  32.122669        1.0  \n",
       "4        144.320007  31.731400  19.703716  30.633913        1.0  \n",
       "\n",
       "[5 rows x 23 columns]"
      ]
     },
     "execution_count": 4,
     "metadata": {},
     "output_type": "execute_result"
    }
   ],
   "source": [
    "pth = r'\\\\10.162.80.16\\Andre_expansion\\data\\Skin Lymphedema\\L0001_diseased_150\\StarDist_9_17_2024_pdac\\stardist_feature_df_pickles\\L001_diseased_0001.pkl'\n",
    "with open(pth, 'rb') as f:\n",
    "    df = pickle.load(f)\n",
    "    \n",
    "df.head()"
   ]
  },
  {
   "cell_type": "code",
   "execution_count": 5,
   "id": "1831702194a6b73d",
   "metadata": {
    "ExecuteTime": {
     "end_time": "2024-03-14T15:43:37.869742200Z",
     "start_time": "2024-03-14T15:43:37.793386100Z"
    },
    "collapsed": false
   },
   "outputs": [],
   "source": [
    "pickled_features_path = r'\\\\10.162.80.16\\Andre_expansion\\data\\Skin Lymphedema\\L0001_diseased_150\\StarDist_9_17_2024_pdac\\stardist_feature_df_pickles'\n",
    "features_list = os.listdir(pickled_features_path)\n",
    "features_list = sorted([os.path.join(pickled_features_path,f) for k,f in enumerate(features_list) if f.endswith('.pkl')])"
   ]
  },
  {
   "cell_type": "code",
   "execution_count": 6,
   "id": "518d24b8d1c103f6",
   "metadata": {
    "ExecuteTime": {
     "end_time": "2024-03-14T15:44:38.537055800Z",
     "start_time": "2024-03-14T15:44:38.471029900Z"
    },
    "collapsed": false
   },
   "outputs": [],
   "source": [
    "from scipy.io import savemat"
   ]
  },
  {
   "cell_type": "markdown",
   "id": "da36d0e6",
   "metadata": {},
   "source": [
    "save df with downsampled/cropped (not cropped here) coordinates as outpth"
   ]
  },
  {
   "cell_type": "code",
   "execution_count": 24,
   "id": "aea346fbca008ac5",
   "metadata": {
    "ExecuteTime": {
     "end_time": "2024-03-14T16:09:21.833171500Z",
     "start_time": "2024-03-14T15:48:03.389034700Z"
    },
    "collapsed": false
   },
   "outputs": [
    {
     "name": "stdout",
     "output_type": "stream",
     "text": [
      "\\\\10.162.80.16\\Andre_expansion\\data\\Skin Lymphedema\\L0001_diseased_150\\StarDist_9_17_2024_pdac\\stardist_feature_df_pickles\\xy_inds\\L001_diseased_0001.mat\n",
      "\\\\10.162.80.16\\Andre_expansion\\data\\Skin Lymphedema\\L0001_diseased_150\\StarDist_9_17_2024_pdac\\stardist_feature_df_pickles\\xy_inds\\L001_diseased_0003.mat\n",
      "\\\\10.162.80.16\\Andre_expansion\\data\\Skin Lymphedema\\L0001_diseased_150\\StarDist_9_17_2024_pdac\\stardist_feature_df_pickles\\xy_inds\\L001_diseased_0005.mat\n",
      "\\\\10.162.80.16\\Andre_expansion\\data\\Skin Lymphedema\\L0001_diseased_150\\StarDist_9_17_2024_pdac\\stardist_feature_df_pickles\\xy_inds\\L001_diseased_0007.mat\n",
      "\\\\10.162.80.16\\Andre_expansion\\data\\Skin Lymphedema\\L0001_diseased_150\\StarDist_9_17_2024_pdac\\stardist_feature_df_pickles\\xy_inds\\L001_diseased_0009.mat\n",
      "\\\\10.162.80.16\\Andre_expansion\\data\\Skin Lymphedema\\L0001_diseased_150\\StarDist_9_17_2024_pdac\\stardist_feature_df_pickles\\xy_inds\\L001_diseased_0011.mat\n",
      "\\\\10.162.80.16\\Andre_expansion\\data\\Skin Lymphedema\\L0001_diseased_150\\StarDist_9_17_2024_pdac\\stardist_feature_df_pickles\\xy_inds\\L001_diseased_0013.mat\n",
      "\\\\10.162.80.16\\Andre_expansion\\data\\Skin Lymphedema\\L0001_diseased_150\\StarDist_9_17_2024_pdac\\stardist_feature_df_pickles\\xy_inds\\L001_diseased_0015.mat\n",
      "\\\\10.162.80.16\\Andre_expansion\\data\\Skin Lymphedema\\L0001_diseased_150\\StarDist_9_17_2024_pdac\\stardist_feature_df_pickles\\xy_inds\\L001_diseased_0017.mat\n",
      "\\\\10.162.80.16\\Andre_expansion\\data\\Skin Lymphedema\\L0001_diseased_150\\StarDist_9_17_2024_pdac\\stardist_feature_df_pickles\\xy_inds\\L001_diseased_0019.mat\n",
      "\\\\10.162.80.16\\Andre_expansion\\data\\Skin Lymphedema\\L0001_diseased_150\\StarDist_9_17_2024_pdac\\stardist_feature_df_pickles\\xy_inds\\L001_diseased_0021.mat\n",
      "\\\\10.162.80.16\\Andre_expansion\\data\\Skin Lymphedema\\L0001_diseased_150\\StarDist_9_17_2024_pdac\\stardist_feature_df_pickles\\xy_inds\\L001_diseased_0023.mat\n",
      "\\\\10.162.80.16\\Andre_expansion\\data\\Skin Lymphedema\\L0001_diseased_150\\StarDist_9_17_2024_pdac\\stardist_feature_df_pickles\\xy_inds\\L001_diseased_0025.mat\n",
      "\\\\10.162.80.16\\Andre_expansion\\data\\Skin Lymphedema\\L0001_diseased_150\\StarDist_9_17_2024_pdac\\stardist_feature_df_pickles\\xy_inds\\L001_diseased_0027.mat\n",
      "\\\\10.162.80.16\\Andre_expansion\\data\\Skin Lymphedema\\L0001_diseased_150\\StarDist_9_17_2024_pdac\\stardist_feature_df_pickles\\xy_inds\\L001_diseased_0029.mat\n",
      "\\\\10.162.80.16\\Andre_expansion\\data\\Skin Lymphedema\\L0001_diseased_150\\StarDist_9_17_2024_pdac\\stardist_feature_df_pickles\\xy_inds\\L001_diseased_0031.mat\n",
      "\\\\10.162.80.16\\Andre_expansion\\data\\Skin Lymphedema\\L0001_diseased_150\\StarDist_9_17_2024_pdac\\stardist_feature_df_pickles\\xy_inds\\L001_diseased_0033.mat\n",
      "\\\\10.162.80.16\\Andre_expansion\\data\\Skin Lymphedema\\L0001_diseased_150\\StarDist_9_17_2024_pdac\\stardist_feature_df_pickles\\xy_inds\\L001_diseased_0035.mat\n",
      "\\\\10.162.80.16\\Andre_expansion\\data\\Skin Lymphedema\\L0001_diseased_150\\StarDist_9_17_2024_pdac\\stardist_feature_df_pickles\\xy_inds\\L001_diseased_0037.mat\n",
      "\\\\10.162.80.16\\Andre_expansion\\data\\Skin Lymphedema\\L0001_diseased_150\\StarDist_9_17_2024_pdac\\stardist_feature_df_pickles\\xy_inds\\L001_diseased_0039.mat\n",
      "\\\\10.162.80.16\\Andre_expansion\\data\\Skin Lymphedema\\L0001_diseased_150\\StarDist_9_17_2024_pdac\\stardist_feature_df_pickles\\xy_inds\\L001_diseased_0041.mat\n",
      "\\\\10.162.80.16\\Andre_expansion\\data\\Skin Lymphedema\\L0001_diseased_150\\StarDist_9_17_2024_pdac\\stardist_feature_df_pickles\\xy_inds\\L001_diseased_0043.mat\n",
      "\\\\10.162.80.16\\Andre_expansion\\data\\Skin Lymphedema\\L0001_diseased_150\\StarDist_9_17_2024_pdac\\stardist_feature_df_pickles\\xy_inds\\L001_diseased_0045.mat\n",
      "\\\\10.162.80.16\\Andre_expansion\\data\\Skin Lymphedema\\L0001_diseased_150\\StarDist_9_17_2024_pdac\\stardist_feature_df_pickles\\xy_inds\\L001_diseased_0047.mat\n",
      "\\\\10.162.80.16\\Andre_expansion\\data\\Skin Lymphedema\\L0001_diseased_150\\StarDist_9_17_2024_pdac\\stardist_feature_df_pickles\\xy_inds\\L001_diseased_0049.mat\n",
      "\\\\10.162.80.16\\Andre_expansion\\data\\Skin Lymphedema\\L0001_diseased_150\\StarDist_9_17_2024_pdac\\stardist_feature_df_pickles\\xy_inds\\L001_diseased_0051.mat\n",
      "\\\\10.162.80.16\\Andre_expansion\\data\\Skin Lymphedema\\L0001_diseased_150\\StarDist_9_17_2024_pdac\\stardist_feature_df_pickles\\xy_inds\\L001_diseased_0053.mat\n",
      "\\\\10.162.80.16\\Andre_expansion\\data\\Skin Lymphedema\\L0001_diseased_150\\StarDist_9_17_2024_pdac\\stardist_feature_df_pickles\\xy_inds\\L001_diseased_0055.mat\n",
      "\\\\10.162.80.16\\Andre_expansion\\data\\Skin Lymphedema\\L0001_diseased_150\\StarDist_9_17_2024_pdac\\stardist_feature_df_pickles\\xy_inds\\L001_diseased_0057.mat\n",
      "\\\\10.162.80.16\\Andre_expansion\\data\\Skin Lymphedema\\L0001_diseased_150\\StarDist_9_17_2024_pdac\\stardist_feature_df_pickles\\xy_inds\\L001_diseased_0059.mat\n",
      "\\\\10.162.80.16\\Andre_expansion\\data\\Skin Lymphedema\\L0001_diseased_150\\StarDist_9_17_2024_pdac\\stardist_feature_df_pickles\\xy_inds\\L001_diseased_0061.mat\n",
      "\\\\10.162.80.16\\Andre_expansion\\data\\Skin Lymphedema\\L0001_diseased_150\\StarDist_9_17_2024_pdac\\stardist_feature_df_pickles\\xy_inds\\L001_diseased_0063.mat\n",
      "\\\\10.162.80.16\\Andre_expansion\\data\\Skin Lymphedema\\L0001_diseased_150\\StarDist_9_17_2024_pdac\\stardist_feature_df_pickles\\xy_inds\\L001_diseased_0065.mat\n",
      "\\\\10.162.80.16\\Andre_expansion\\data\\Skin Lymphedema\\L0001_diseased_150\\StarDist_9_17_2024_pdac\\stardist_feature_df_pickles\\xy_inds\\L001_diseased_0067.mat\n",
      "\\\\10.162.80.16\\Andre_expansion\\data\\Skin Lymphedema\\L0001_diseased_150\\StarDist_9_17_2024_pdac\\stardist_feature_df_pickles\\xy_inds\\L001_diseased_0069.mat\n",
      "\\\\10.162.80.16\\Andre_expansion\\data\\Skin Lymphedema\\L0001_diseased_150\\StarDist_9_17_2024_pdac\\stardist_feature_df_pickles\\xy_inds\\L001_diseased_0071.mat\n",
      "\\\\10.162.80.16\\Andre_expansion\\data\\Skin Lymphedema\\L0001_diseased_150\\StarDist_9_17_2024_pdac\\stardist_feature_df_pickles\\xy_inds\\L001_diseased_0073.mat\n",
      "\\\\10.162.80.16\\Andre_expansion\\data\\Skin Lymphedema\\L0001_diseased_150\\StarDist_9_17_2024_pdac\\stardist_feature_df_pickles\\xy_inds\\L001_diseased_0075.mat\n",
      "\\\\10.162.80.16\\Andre_expansion\\data\\Skin Lymphedema\\L0001_diseased_150\\StarDist_9_17_2024_pdac\\stardist_feature_df_pickles\\xy_inds\\L001_diseased_0077.mat\n",
      "\\\\10.162.80.16\\Andre_expansion\\data\\Skin Lymphedema\\L0001_diseased_150\\StarDist_9_17_2024_pdac\\stardist_feature_df_pickles\\xy_inds\\L001_diseased_0079.mat\n",
      "\\\\10.162.80.16\\Andre_expansion\\data\\Skin Lymphedema\\L0001_diseased_150\\StarDist_9_17_2024_pdac\\stardist_feature_df_pickles\\xy_inds\\L001_diseased_0081.mat\n",
      "\\\\10.162.80.16\\Andre_expansion\\data\\Skin Lymphedema\\L0001_diseased_150\\StarDist_9_17_2024_pdac\\stardist_feature_df_pickles\\xy_inds\\L001_diseased_0083.mat\n",
      "\\\\10.162.80.16\\Andre_expansion\\data\\Skin Lymphedema\\L0001_diseased_150\\StarDist_9_17_2024_pdac\\stardist_feature_df_pickles\\xy_inds\\L001_diseased_0085.mat\n",
      "\\\\10.162.80.16\\Andre_expansion\\data\\Skin Lymphedema\\L0001_diseased_150\\StarDist_9_17_2024_pdac\\stardist_feature_df_pickles\\xy_inds\\L001_diseased_0087.mat\n",
      "\\\\10.162.80.16\\Andre_expansion\\data\\Skin Lymphedema\\L0001_diseased_150\\StarDist_9_17_2024_pdac\\stardist_feature_df_pickles\\xy_inds\\L001_diseased_0089.mat\n",
      "\\\\10.162.80.16\\Andre_expansion\\data\\Skin Lymphedema\\L0001_diseased_150\\StarDist_9_17_2024_pdac\\stardist_feature_df_pickles\\xy_inds\\L001_diseased_0091.mat\n",
      "\\\\10.162.80.16\\Andre_expansion\\data\\Skin Lymphedema\\L0001_diseased_150\\StarDist_9_17_2024_pdac\\stardist_feature_df_pickles\\xy_inds\\L001_diseased_0093.mat\n",
      "\\\\10.162.80.16\\Andre_expansion\\data\\Skin Lymphedema\\L0001_diseased_150\\StarDist_9_17_2024_pdac\\stardist_feature_df_pickles\\xy_inds\\L001_diseased_0095.mat\n",
      "\\\\10.162.80.16\\Andre_expansion\\data\\Skin Lymphedema\\L0001_diseased_150\\StarDist_9_17_2024_pdac\\stardist_feature_df_pickles\\xy_inds\\L001_diseased_0097.mat\n",
      "\\\\10.162.80.16\\Andre_expansion\\data\\Skin Lymphedema\\L0001_diseased_150\\StarDist_9_17_2024_pdac\\stardist_feature_df_pickles\\xy_inds\\L001_diseased_0099.mat\n",
      "\\\\10.162.80.16\\Andre_expansion\\data\\Skin Lymphedema\\L0001_diseased_150\\StarDist_9_17_2024_pdac\\stardist_feature_df_pickles\\xy_inds\\L001_diseased_0101.mat\n",
      "\\\\10.162.80.16\\Andre_expansion\\data\\Skin Lymphedema\\L0001_diseased_150\\StarDist_9_17_2024_pdac\\stardist_feature_df_pickles\\xy_inds\\L001_diseased_0103.mat\n",
      "\\\\10.162.80.16\\Andre_expansion\\data\\Skin Lymphedema\\L0001_diseased_150\\StarDist_9_17_2024_pdac\\stardist_feature_df_pickles\\xy_inds\\L001_diseased_0105.mat\n",
      "\\\\10.162.80.16\\Andre_expansion\\data\\Skin Lymphedema\\L0001_diseased_150\\StarDist_9_17_2024_pdac\\stardist_feature_df_pickles\\xy_inds\\L001_diseased_0107.mat\n",
      "\\\\10.162.80.16\\Andre_expansion\\data\\Skin Lymphedema\\L0001_diseased_150\\StarDist_9_17_2024_pdac\\stardist_feature_df_pickles\\xy_inds\\L001_diseased_0109.mat\n",
      "\\\\10.162.80.16\\Andre_expansion\\data\\Skin Lymphedema\\L0001_diseased_150\\StarDist_9_17_2024_pdac\\stardist_feature_df_pickles\\xy_inds\\L001_diseased_0111.mat\n",
      "\\\\10.162.80.16\\Andre_expansion\\data\\Skin Lymphedema\\L0001_diseased_150\\StarDist_9_17_2024_pdac\\stardist_feature_df_pickles\\xy_inds\\L001_diseased_0113.mat\n",
      "\\\\10.162.80.16\\Andre_expansion\\data\\Skin Lymphedema\\L0001_diseased_150\\StarDist_9_17_2024_pdac\\stardist_feature_df_pickles\\xy_inds\\L001_diseased_0115.mat\n",
      "\\\\10.162.80.16\\Andre_expansion\\data\\Skin Lymphedema\\L0001_diseased_150\\StarDist_9_17_2024_pdac\\stardist_feature_df_pickles\\xy_inds\\L001_diseased_0117.mat\n",
      "\\\\10.162.80.16\\Andre_expansion\\data\\Skin Lymphedema\\L0001_diseased_150\\StarDist_9_17_2024_pdac\\stardist_feature_df_pickles\\xy_inds\\L001_diseased_0119.mat\n",
      "\\\\10.162.80.16\\Andre_expansion\\data\\Skin Lymphedema\\L0001_diseased_150\\StarDist_9_17_2024_pdac\\stardist_feature_df_pickles\\xy_inds\\L001_diseased_0121.mat\n",
      "\\\\10.162.80.16\\Andre_expansion\\data\\Skin Lymphedema\\L0001_diseased_150\\StarDist_9_17_2024_pdac\\stardist_feature_df_pickles\\xy_inds\\L001_diseased_0123.mat\n",
      "\\\\10.162.80.16\\Andre_expansion\\data\\Skin Lymphedema\\L0001_diseased_150\\StarDist_9_17_2024_pdac\\stardist_feature_df_pickles\\xy_inds\\L001_diseased_0125.mat\n",
      "\\\\10.162.80.16\\Andre_expansion\\data\\Skin Lymphedema\\L0001_diseased_150\\StarDist_9_17_2024_pdac\\stardist_feature_df_pickles\\xy_inds\\L001_diseased_0127.mat\n",
      "\\\\10.162.80.16\\Andre_expansion\\data\\Skin Lymphedema\\L0001_diseased_150\\StarDist_9_17_2024_pdac\\stardist_feature_df_pickles\\xy_inds\\L001_diseased_0129.mat\n",
      "\\\\10.162.80.16\\Andre_expansion\\data\\Skin Lymphedema\\L0001_diseased_150\\StarDist_9_17_2024_pdac\\stardist_feature_df_pickles\\xy_inds\\L001_diseased_0131.mat\n",
      "\\\\10.162.80.16\\Andre_expansion\\data\\Skin Lymphedema\\L0001_diseased_150\\StarDist_9_17_2024_pdac\\stardist_feature_df_pickles\\xy_inds\\L001_diseased_0133.mat\n",
      "\\\\10.162.80.16\\Andre_expansion\\data\\Skin Lymphedema\\L0001_diseased_150\\StarDist_9_17_2024_pdac\\stardist_feature_df_pickles\\xy_inds\\L001_diseased_0135.mat\n",
      "\\\\10.162.80.16\\Andre_expansion\\data\\Skin Lymphedema\\L0001_diseased_150\\StarDist_9_17_2024_pdac\\stardist_feature_df_pickles\\xy_inds\\L001_diseased_0137.mat\n",
      "\\\\10.162.80.16\\Andre_expansion\\data\\Skin Lymphedema\\L0001_diseased_150\\StarDist_9_17_2024_pdac\\stardist_feature_df_pickles\\xy_inds\\L001_diseased_0139.mat\n",
      "\\\\10.162.80.16\\Andre_expansion\\data\\Skin Lymphedema\\L0001_diseased_150\\StarDist_9_17_2024_pdac\\stardist_feature_df_pickles\\xy_inds\\L001_diseased_0141.mat\n",
      "\\\\10.162.80.16\\Andre_expansion\\data\\Skin Lymphedema\\L0001_diseased_150\\StarDist_9_17_2024_pdac\\stardist_feature_df_pickles\\xy_inds\\L001_diseased_0143.mat\n",
      "\\\\10.162.80.16\\Andre_expansion\\data\\Skin Lymphedema\\L0001_diseased_150\\StarDist_9_17_2024_pdac\\stardist_feature_df_pickles\\xy_inds\\L001_diseased_0145.mat\n",
      "\\\\10.162.80.16\\Andre_expansion\\data\\Skin Lymphedema\\L0001_diseased_150\\StarDist_9_17_2024_pdac\\stardist_feature_df_pickles\\xy_inds\\L001_diseased_0147.mat\n",
      "\\\\10.162.80.16\\Andre_expansion\\data\\Skin Lymphedema\\L0001_diseased_150\\StarDist_9_17_2024_pdac\\stardist_feature_df_pickles\\xy_inds\\L001_diseased_0149.mat\n",
      "\\\\10.162.80.16\\Andre_expansion\\data\\Skin Lymphedema\\L0001_diseased_150\\StarDist_9_17_2024_pdac\\stardist_feature_df_pickles\\xy_inds\\L001_diseased_0151.mat\n",
      "\\\\10.162.80.16\\Andre_expansion\\data\\Skin Lymphedema\\L0001_diseased_150\\StarDist_9_17_2024_pdac\\stardist_feature_df_pickles\\xy_inds\\L001_diseased_0153.mat\n",
      "\\\\10.162.80.16\\Andre_expansion\\data\\Skin Lymphedema\\L0001_diseased_150\\StarDist_9_17_2024_pdac\\stardist_feature_df_pickles\\xy_inds\\L001_diseased_0155.mat\n",
      "\\\\10.162.80.16\\Andre_expansion\\data\\Skin Lymphedema\\L0001_diseased_150\\StarDist_9_17_2024_pdac\\stardist_feature_df_pickles\\xy_inds\\L001_diseased_0157.mat\n",
      "\\\\10.162.80.16\\Andre_expansion\\data\\Skin Lymphedema\\L0001_diseased_150\\StarDist_9_17_2024_pdac\\stardist_feature_df_pickles\\xy_inds\\L001_diseased_0159.mat\n",
      "\\\\10.162.80.16\\Andre_expansion\\data\\Skin Lymphedema\\L0001_diseased_150\\StarDist_9_17_2024_pdac\\stardist_feature_df_pickles\\xy_inds\\L001_diseased_0161.mat\n",
      "\\\\10.162.80.16\\Andre_expansion\\data\\Skin Lymphedema\\L0001_diseased_150\\StarDist_9_17_2024_pdac\\stardist_feature_df_pickles\\xy_inds\\L001_diseased_0163.mat\n",
      "\\\\10.162.80.16\\Andre_expansion\\data\\Skin Lymphedema\\L0001_diseased_150\\StarDist_9_17_2024_pdac\\stardist_feature_df_pickles\\xy_inds\\L001_diseased_0165.mat\n",
      "\\\\10.162.80.16\\Andre_expansion\\data\\Skin Lymphedema\\L0001_diseased_150\\StarDist_9_17_2024_pdac\\stardist_feature_df_pickles\\xy_inds\\L001_diseased_0167.mat\n",
      "\\\\10.162.80.16\\Andre_expansion\\data\\Skin Lymphedema\\L0001_diseased_150\\StarDist_9_17_2024_pdac\\stardist_feature_df_pickles\\xy_inds\\L001_diseased_0169.mat\n",
      "\\\\10.162.80.16\\Andre_expansion\\data\\Skin Lymphedema\\L0001_diseased_150\\StarDist_9_17_2024_pdac\\stardist_feature_df_pickles\\xy_inds\\L001_diseased_0171.mat\n",
      "\\\\10.162.80.16\\Andre_expansion\\data\\Skin Lymphedema\\L0001_diseased_150\\StarDist_9_17_2024_pdac\\stardist_feature_df_pickles\\xy_inds\\L001_diseased_0173.mat\n",
      "\\\\10.162.80.16\\Andre_expansion\\data\\Skin Lymphedema\\L0001_diseased_150\\StarDist_9_17_2024_pdac\\stardist_feature_df_pickles\\xy_inds\\L001_diseased_0175.mat\n",
      "\\\\10.162.80.16\\Andre_expansion\\data\\Skin Lymphedema\\L0001_diseased_150\\StarDist_9_17_2024_pdac\\stardist_feature_df_pickles\\xy_inds\\L001_diseased_0177.mat\n",
      "\\\\10.162.80.16\\Andre_expansion\\data\\Skin Lymphedema\\L0001_diseased_150\\StarDist_9_17_2024_pdac\\stardist_feature_df_pickles\\xy_inds\\L001_diseased_0179.mat\n",
      "\\\\10.162.80.16\\Andre_expansion\\data\\Skin Lymphedema\\L0001_diseased_150\\StarDist_9_17_2024_pdac\\stardist_feature_df_pickles\\xy_inds\\L001_diseased_0181.mat\n",
      "\\\\10.162.80.16\\Andre_expansion\\data\\Skin Lymphedema\\L0001_diseased_150\\StarDist_9_17_2024_pdac\\stardist_feature_df_pickles\\xy_inds\\L001_diseased_0183.mat\n",
      "\\\\10.162.80.16\\Andre_expansion\\data\\Skin Lymphedema\\L0001_diseased_150\\StarDist_9_17_2024_pdac\\stardist_feature_df_pickles\\xy_inds\\L001_diseased_0185.mat\n",
      "\\\\10.162.80.16\\Andre_expansion\\data\\Skin Lymphedema\\L0001_diseased_150\\StarDist_9_17_2024_pdac\\stardist_feature_df_pickles\\xy_inds\\L001_diseased_0187.mat\n",
      "\\\\10.162.80.16\\Andre_expansion\\data\\Skin Lymphedema\\L0001_diseased_150\\StarDist_9_17_2024_pdac\\stardist_feature_df_pickles\\xy_inds\\L001_diseased_0189.mat\n",
      "\\\\10.162.80.16\\Andre_expansion\\data\\Skin Lymphedema\\L0001_diseased_150\\StarDist_9_17_2024_pdac\\stardist_feature_df_pickles\\xy_inds\\L001_diseased_0191.mat\n",
      "\\\\10.162.80.16\\Andre_expansion\\data\\Skin Lymphedema\\L0001_diseased_150\\StarDist_9_17_2024_pdac\\stardist_feature_df_pickles\\xy_inds\\L001_diseased_0193.mat\n",
      "\\\\10.162.80.16\\Andre_expansion\\data\\Skin Lymphedema\\L0001_diseased_150\\StarDist_9_17_2024_pdac\\stardist_feature_df_pickles\\xy_inds\\L001_diseased_0195.mat\n",
      "\\\\10.162.80.16\\Andre_expansion\\data\\Skin Lymphedema\\L0001_diseased_150\\StarDist_9_17_2024_pdac\\stardist_feature_df_pickles\\xy_inds\\L001_diseased_0197.mat\n",
      "\\\\10.162.80.16\\Andre_expansion\\data\\Skin Lymphedema\\L0001_diseased_150\\StarDist_9_17_2024_pdac\\stardist_feature_df_pickles\\xy_inds\\L001_diseased_0199.mat\n",
      "\\\\10.162.80.16\\Andre_expansion\\data\\Skin Lymphedema\\L0001_diseased_150\\StarDist_9_17_2024_pdac\\stardist_feature_df_pickles\\xy_inds\\L001_diseased_0201.mat\n",
      "\\\\10.162.80.16\\Andre_expansion\\data\\Skin Lymphedema\\L0001_diseased_150\\StarDist_9_17_2024_pdac\\stardist_feature_df_pickles\\xy_inds\\L001_diseased_0203.mat\n",
      "\\\\10.162.80.16\\Andre_expansion\\data\\Skin Lymphedema\\L0001_diseased_150\\StarDist_9_17_2024_pdac\\stardist_feature_df_pickles\\xy_inds\\L001_diseased_0205.mat\n",
      "\\\\10.162.80.16\\Andre_expansion\\data\\Skin Lymphedema\\L0001_diseased_150\\StarDist_9_17_2024_pdac\\stardist_feature_df_pickles\\xy_inds\\L001_diseased_0207.mat\n",
      "\\\\10.162.80.16\\Andre_expansion\\data\\Skin Lymphedema\\L0001_diseased_150\\StarDist_9_17_2024_pdac\\stardist_feature_df_pickles\\xy_inds\\L001_diseased_0209.mat\n",
      "\\\\10.162.80.16\\Andre_expansion\\data\\Skin Lymphedema\\L0001_diseased_150\\StarDist_9_17_2024_pdac\\stardist_feature_df_pickles\\xy_inds\\L001_diseased_0211.mat\n",
      "\\\\10.162.80.16\\Andre_expansion\\data\\Skin Lymphedema\\L0001_diseased_150\\StarDist_9_17_2024_pdac\\stardist_feature_df_pickles\\xy_inds\\L001_diseased_0213.mat\n",
      "\\\\10.162.80.16\\Andre_expansion\\data\\Skin Lymphedema\\L0001_diseased_150\\StarDist_9_17_2024_pdac\\stardist_feature_df_pickles\\xy_inds\\L001_diseased_0215.mat\n",
      "\\\\10.162.80.16\\Andre_expansion\\data\\Skin Lymphedema\\L0001_diseased_150\\StarDist_9_17_2024_pdac\\stardist_feature_df_pickles\\xy_inds\\L001_diseased_0217.mat\n",
      "\\\\10.162.80.16\\Andre_expansion\\data\\Skin Lymphedema\\L0001_diseased_150\\StarDist_9_17_2024_pdac\\stardist_feature_df_pickles\\xy_inds\\L001_diseased_0219.mat\n",
      "\\\\10.162.80.16\\Andre_expansion\\data\\Skin Lymphedema\\L0001_diseased_150\\StarDist_9_17_2024_pdac\\stardist_feature_df_pickles\\xy_inds\\L001_diseased_0221.mat\n",
      "\\\\10.162.80.16\\Andre_expansion\\data\\Skin Lymphedema\\L0001_diseased_150\\StarDist_9_17_2024_pdac\\stardist_feature_df_pickles\\xy_inds\\L001_diseased_0223.mat\n",
      "\\\\10.162.80.16\\Andre_expansion\\data\\Skin Lymphedema\\L0001_diseased_150\\StarDist_9_17_2024_pdac\\stardist_feature_df_pickles\\xy_inds\\L001_diseased_0225.mat\n",
      "\\\\10.162.80.16\\Andre_expansion\\data\\Skin Lymphedema\\L0001_diseased_150\\StarDist_9_17_2024_pdac\\stardist_feature_df_pickles\\xy_inds\\L001_diseased_0227.mat\n",
      "\\\\10.162.80.16\\Andre_expansion\\data\\Skin Lymphedema\\L0001_diseased_150\\StarDist_9_17_2024_pdac\\stardist_feature_df_pickles\\xy_inds\\L001_diseased_0229.mat\n",
      "\\\\10.162.80.16\\Andre_expansion\\data\\Skin Lymphedema\\L0001_diseased_150\\StarDist_9_17_2024_pdac\\stardist_feature_df_pickles\\xy_inds\\L001_diseased_0231.mat\n",
      "\\\\10.162.80.16\\Andre_expansion\\data\\Skin Lymphedema\\L0001_diseased_150\\StarDist_9_17_2024_pdac\\stardist_feature_df_pickles\\xy_inds\\L001_diseased_0233.mat\n",
      "\\\\10.162.80.16\\Andre_expansion\\data\\Skin Lymphedema\\L0001_diseased_150\\StarDist_9_17_2024_pdac\\stardist_feature_df_pickles\\xy_inds\\L001_diseased_0235.mat\n",
      "\\\\10.162.80.16\\Andre_expansion\\data\\Skin Lymphedema\\L0001_diseased_150\\StarDist_9_17_2024_pdac\\stardist_feature_df_pickles\\xy_inds\\L001_diseased_0237.mat\n",
      "\\\\10.162.80.16\\Andre_expansion\\data\\Skin Lymphedema\\L0001_diseased_150\\StarDist_9_17_2024_pdac\\stardist_feature_df_pickles\\xy_inds\\L001_diseased_0239.mat\n",
      "\\\\10.162.80.16\\Andre_expansion\\data\\Skin Lymphedema\\L0001_diseased_150\\StarDist_9_17_2024_pdac\\stardist_feature_df_pickles\\xy_inds\\L001_diseased_0241.mat\n",
      "\\\\10.162.80.16\\Andre_expansion\\data\\Skin Lymphedema\\L0001_diseased_150\\StarDist_9_17_2024_pdac\\stardist_feature_df_pickles\\xy_inds\\L001_diseased_0243.mat\n",
      "\\\\10.162.80.16\\Andre_expansion\\data\\Skin Lymphedema\\L0001_diseased_150\\StarDist_9_17_2024_pdac\\stardist_feature_df_pickles\\xy_inds\\L001_diseased_0245.mat\n",
      "\\\\10.162.80.16\\Andre_expansion\\data\\Skin Lymphedema\\L0001_diseased_150\\StarDist_9_17_2024_pdac\\stardist_feature_df_pickles\\xy_inds\\L001_diseased_0247.mat\n",
      "\\\\10.162.80.16\\Andre_expansion\\data\\Skin Lymphedema\\L0001_diseased_150\\StarDist_9_17_2024_pdac\\stardist_feature_df_pickles\\xy_inds\\L001_diseased_0249.mat\n",
      "\\\\10.162.80.16\\Andre_expansion\\data\\Skin Lymphedema\\L0001_diseased_150\\StarDist_9_17_2024_pdac\\stardist_feature_df_pickles\\xy_inds\\L001_diseased_0251.mat\n",
      "\\\\10.162.80.16\\Andre_expansion\\data\\Skin Lymphedema\\L0001_diseased_150\\StarDist_9_17_2024_pdac\\stardist_feature_df_pickles\\xy_inds\\L001_diseased_0253.mat\n",
      "\\\\10.162.80.16\\Andre_expansion\\data\\Skin Lymphedema\\L0001_diseased_150\\StarDist_9_17_2024_pdac\\stardist_feature_df_pickles\\xy_inds\\L001_diseased_0255.mat\n",
      "\\\\10.162.80.16\\Andre_expansion\\data\\Skin Lymphedema\\L0001_diseased_150\\StarDist_9_17_2024_pdac\\stardist_feature_df_pickles\\xy_inds\\L001_diseased_0257.mat\n",
      "\\\\10.162.80.16\\Andre_expansion\\data\\Skin Lymphedema\\L0001_diseased_150\\StarDist_9_17_2024_pdac\\stardist_feature_df_pickles\\xy_inds\\L001_diseased_0259.mat\n",
      "\\\\10.162.80.16\\Andre_expansion\\data\\Skin Lymphedema\\L0001_diseased_150\\StarDist_9_17_2024_pdac\\stardist_feature_df_pickles\\xy_inds\\L001_diseased_0261.mat\n",
      "\\\\10.162.80.16\\Andre_expansion\\data\\Skin Lymphedema\\L0001_diseased_150\\StarDist_9_17_2024_pdac\\stardist_feature_df_pickles\\xy_inds\\L001_diseased_0263.mat\n",
      "\\\\10.162.80.16\\Andre_expansion\\data\\Skin Lymphedema\\L0001_diseased_150\\StarDist_9_17_2024_pdac\\stardist_feature_df_pickles\\xy_inds\\L001_diseased_0265.mat\n",
      "\\\\10.162.80.16\\Andre_expansion\\data\\Skin Lymphedema\\L0001_diseased_150\\StarDist_9_17_2024_pdac\\stardist_feature_df_pickles\\xy_inds\\L001_diseased_0267.mat\n",
      "\\\\10.162.80.16\\Andre_expansion\\data\\Skin Lymphedema\\L0001_diseased_150\\StarDist_9_17_2024_pdac\\stardist_feature_df_pickles\\xy_inds\\L001_diseased_0269.mat\n",
      "\\\\10.162.80.16\\Andre_expansion\\data\\Skin Lymphedema\\L0001_diseased_150\\StarDist_9_17_2024_pdac\\stardist_feature_df_pickles\\xy_inds\\L001_diseased_0271.mat\n",
      "\\\\10.162.80.16\\Andre_expansion\\data\\Skin Lymphedema\\L0001_diseased_150\\StarDist_9_17_2024_pdac\\stardist_feature_df_pickles\\xy_inds\\L001_diseased_0273.mat\n",
      "\\\\10.162.80.16\\Andre_expansion\\data\\Skin Lymphedema\\L0001_diseased_150\\StarDist_9_17_2024_pdac\\stardist_feature_df_pickles\\xy_inds\\L001_diseased_0275.mat\n",
      "\\\\10.162.80.16\\Andre_expansion\\data\\Skin Lymphedema\\L0001_diseased_150\\StarDist_9_17_2024_pdac\\stardist_feature_df_pickles\\xy_inds\\L001_diseased_0277.mat\n",
      "\\\\10.162.80.16\\Andre_expansion\\data\\Skin Lymphedema\\L0001_diseased_150\\StarDist_9_17_2024_pdac\\stardist_feature_df_pickles\\xy_inds\\L001_diseased_0279.mat\n",
      "\\\\10.162.80.16\\Andre_expansion\\data\\Skin Lymphedema\\L0001_diseased_150\\StarDist_9_17_2024_pdac\\stardist_feature_df_pickles\\xy_inds\\L001_diseased_0281.mat\n",
      "\\\\10.162.80.16\\Andre_expansion\\data\\Skin Lymphedema\\L0001_diseased_150\\StarDist_9_17_2024_pdac\\stardist_feature_df_pickles\\xy_inds\\L001_diseased_0283.mat\n",
      "\\\\10.162.80.16\\Andre_expansion\\data\\Skin Lymphedema\\L0001_diseased_150\\StarDist_9_17_2024_pdac\\stardist_feature_df_pickles\\xy_inds\\L001_diseased_0285.mat\n",
      "\\\\10.162.80.16\\Andre_expansion\\data\\Skin Lymphedema\\L0001_diseased_150\\StarDist_9_17_2024_pdac\\stardist_feature_df_pickles\\xy_inds\\L001_diseased_0287.mat\n"
     ]
    }
   ],
   "source": [
    "pix_res = 0.4416\n",
    "\n",
    "outpth = os.path.join(pickled_features_path,'xy_inds')\n",
    "if not os.path.exists(outpth):\n",
    "    os.mkdir(outpth)\n",
    "\n",
    "\n",
    "for i in range(len(features_list)):\n",
    "    with open(features_list[i], 'rb') as file:\n",
    "        features = pickle.load(file)\n",
    "    \n",
    "    nm = os.path.basename(features_list[i][:-4])\n",
    "    \n",
    "    downsize2_5x = 4/pix_res\n",
    "    # downsize5x = 2/pix_res\n",
    "\n",
    "    x_offset = 0\n",
    "    y_offset = 0\n",
    "    \n",
    "    x = features['Centroid_x']\n",
    "    y = features['Centroid_y']\n",
    "    \n",
    "    inds = x.index.tolist()  # save ids\n",
    "    \n",
    "    x = (features['Centroid_x'] - y_offset) /downsize2_5x\n",
    "    y = (features['Centroid_y'] - x_offset) /downsize2_5x\n",
    "    \n",
    "    xy_1 = list(zip(x, y))\n",
    "    \n",
    "    # xy_filtered_with_indices = [(index, [x, y]) for index, (x, y) in enumerate(xy_1) if 0 <= x < (crop_d[2] - crop_d[0]) and 0 <= y < (crop_d[3] - crop_d[1])]\n",
    "    xy_filtered_with_indices = xy_1\n",
    "    \n",
    "    inds = [index for index, _ in xy_filtered_with_indices]\n",
    "    xy = np.array([coordinates for coordinates in xy_filtered_with_indices])\n",
    "    \n",
    "    # save adjusted mat xy coords and inds of df\n",
    "    outfile = os.path.join(outpth, f'{nm}.mat')\n",
    "    print(outfile)\n",
    "    savemat(outfile, {'xy': xy, 'inds': inds})"
   ]
  },
  {
   "cell_type": "code",
   "execution_count": 25,
   "id": "801f61cc",
   "metadata": {},
   "outputs": [
    {
     "data": {
      "text/plain": [
       "<matplotlib.collections.PathCollection at 0x17993770940>"
      ]
     },
     "execution_count": 25,
     "metadata": {},
     "output_type": "execute_result"
    },
    {
     "data": {
      "image/png": "[encoded data removed]",
      "text/plain": [
       "<Figure size 640x480 with 1 Axes>"
      ]
     },
     "metadata": {},
     "output_type": "display_data"
    }
   ],
   "source": [
    "plt.scatter(features['Centroid_x'], features['Centroid_y'])"
   ]
  },
  {
   "cell_type": "code",
   "execution_count": 26,
   "id": "291f0282ba6aeb0c",
   "metadata": {
    "ExecuteTime": {
     "end_time": "2024-03-12T00:20:01.149190300Z",
     "start_time": "2024-03-12T00:20:01.114190700Z"
    },
    "collapsed": false
   },
   "outputs": [
    {
     "data": {
      "text/plain": [
       "<matplotlib.collections.PathCollection at 0x179934529d0>"
      ]
     },
     "execution_count": 26,
     "metadata": {},
     "output_type": "execute_result"
    },
    {
     "data": {
      "image/png": "[encoded data removed]",
      "text/plain": [
       "<Figure size 640x480 with 1 Axes>"
      ]
     },
     "metadata": {},
     "output_type": "display_data"
    }
   ],
   "source": [
    "plt.scatter(xy[:,0],xy[:,1])"
   ]
  },
  {
   "cell_type": "code",
   "execution_count": 34,
   "id": "9dc0a53072a69b8",
   "metadata": {
    "ExecuteTime": {
     "end_time": "2024-03-12T00:20:01.221190400Z",
     "start_time": "2024-03-12T00:20:01.127190500Z"
    },
    "collapsed": false
   },
   "outputs": [
    {
     "name": "stdout",
     "output_type": "stream",
     "text": [
      "0 870\n",
      "7 0\n",
      "8 0\n",
      "9 0\n",
      "10 0\n",
      "11 0\n",
      "13 0\n",
      "17 0\n",
      "18 0\n",
      "19 0\n",
      "20 0\n",
      "21 0\n",
      "22 0\n",
      "23 0\n",
      "24 0\n",
      "26 0\n",
      "27 0\n",
      "28 0\n",
      "31 0\n",
      "33 0\n",
      "34 0\n",
      "35 0\n",
      "36 0\n",
      "37 0\n",
      "38 0\n",
      "39 0\n",
      "50 0\n",
      "51 0\n",
      "52 0\n",
      "53 0\n",
      "54 0\n",
      "55 0\n",
      "56 0\n",
      "60 0\n",
      "61 0\n",
      "62 0\n",
      "65 0\n",
      "66 0\n",
      "72 0\n",
      "73 0\n",
      "74 0\n",
      "75 0\n",
      "80 0\n",
      "82 0\n",
      "84 0\n",
      "85 0\n",
      "86 0\n",
      "87 0\n",
      "88 0\n",
      "89 0\n",
      "91 0\n",
      "870\n"
     ]
    }
   ],
   "source": [
    "total = 0\n",
    "for key in np.unique(new_im):\n",
    "    num = len(np.array([point for point in xy if new_im[int(point[1]), int(point[0])] == key]))\n",
    "    print(key, num)\n",
    "    total += num\n",
    "print(total)"
   ]
  },
  {
   "cell_type": "code",
   "execution_count": 48,
   "id": "9180ca376e55fa02",
   "metadata": {
    "ExecuteTime": {
     "end_time": "2024-03-12T00:49:31.578129300Z",
     "start_time": "2024-03-12T00:49:31.512130100Z"
    },
    "collapsed": false
   },
   "outputs": [
    {
     "data": {
      "text/plain": [
       "110691"
      ]
     },
     "execution_count": 48,
     "metadata": {},
     "output_type": "execute_result"
    }
   ],
   "source": [
    "len(xy_class_w_ind)"
   ]
  },
  {
   "cell_type": "code",
   "execution_count": null,
   "id": "e15e41820bb01de5",
   "metadata": {
    "collapsed": false
   },
   "outputs": [],
   "source": [
    "len()"
   ]
  },
  {
   "cell_type": "code",
   "execution_count": 46,
   "id": "bf3d04886453c1e2",
   "metadata": {
    "ExecuteTime": {
     "end_time": "2024-03-12T00:49:08.194845800Z",
     "start_time": "2024-03-12T00:48:59.855571500Z"
    },
    "collapsed": false
   },
   "outputs": [
    {
     "name": "stderr",
     "output_type": "stream",
     "text": [
      "C:\\Users\\Donald\\AppData\\Local\\Temp\\ipykernel_40004\\3604808688.py:9: VisibleDeprecationWarning: Creating an ndarray from ragged nested sequences (which is a list-or-tuple of lists-or-tuples-or ndarrays with different lengths or shapes) is deprecated. If you meant to do this, you must specify 'dtype=object' when creating the ndarray.\n",
      "  xy_class_w_ind = np.array([(index, point) for index, point in zip(inds, xy) if new_im[int(point[1]), int(point[0])] == lab])\n"
     ]
    },
    {
     "data": {
      "image/png": "[encoded data removed]",
      "text/plain": [
       "<Figure size 640x480 with 1 Axes>"
      ]
     },
     "metadata": {},
     "output_type": "display_data"
    }
   ],
   "source": [
    "im = im_stack[i]\n",
    "new_im = np.vectorize(label_mapping.get)(im)\n",
    "\n",
    "plt.imshow(new_im, cmap=cmap_var, interpolation='none')\n",
    "\n",
    "lab = 18\n",
    "\n",
    "#xy_class = np.array([point for point in xy if new_im[int(point[1]), int(point[0])] == lab])\n",
    "xy_class_w_ind = np.array([(index, point) for index, point in zip(inds, xy) if new_im[int(point[1]), int(point[0])] == lab])\n",
    "\n",
    "inds_class = [index for index, _ in xy_class_w_ind]\n",
    "xy_class = np.array([coordinates for _, coordinates in xy_class_w_ind])\n",
    "\n",
    "plt.scatter(xy_class[:,0], xy_class[:,1], c='y', marker='+', s=1)\n",
    "#plt.gca().invert_yaxis()\n",
    "\n",
    "plt.show()"
   ]
  },
  {
   "cell_type": "code",
   "execution_count": 47,
   "id": "159376b21952404e",
   "metadata": {
    "ExecuteTime": {
     "end_time": "2024-03-12T00:49:15.985954200Z",
     "start_time": "2024-03-12T00:49:15.889953900Z"
    },
    "collapsed": false
   },
   "outputs": [
    {
     "data": {
      "image/png": "[encoded data removed]",
      "text/plain": [
       "<Figure size 640x480 with 1 Axes>"
      ]
     },
     "metadata": {},
     "output_type": "display_data"
    }
   ],
   "source": [
    "test = features.iloc[inds_class]\n",
    "plt.scatter(test['Centroid_x'], test['Centroid_y'], c='b', marker='+', s=1)\n",
    "plt.gca().invert_yaxis()\n",
    "plt.show()"
   ]
  },
  {
   "cell_type": "code",
   "execution_count": null,
   "id": "8b9acaa9bddc326f",
   "metadata": {
    "ExecuteTime": {
     "start_time": "2024-03-12T00:20:02.059228Z"
    },
    "collapsed": false
   },
   "outputs": [],
   "source": [
    "plt.scatter(xy_class[:,0], xy_class[:,1], c='y', marker='+', s=1)\n",
    "plt.gca().invert_yaxis()\n",
    "plt.show()"
   ]
  },
  {
   "cell_type": "code",
   "execution_count": null,
   "id": "ab5f9a725f370705",
   "metadata": {
    "ExecuteTime": {
     "start_time": "2024-03-12T00:20:02.060228Z"
    },
    "collapsed": false
   },
   "outputs": [],
   "source": [
    "features.iloc[inds_class]"
   ]
  },
  {
   "cell_type": "code",
   "execution_count": null,
   "id": "c7c901845217c93d",
   "metadata": {
    "ExecuteTime": {
     "start_time": "2024-03-12T00:20:02.061228100Z"
    },
    "collapsed": false
   },
   "outputs": [],
   "source": [
    "def get_class_inds(label, xy, inds, new_im):\n",
    "    xy_class_w_ind = np.array([(index, point) for index, point in zip(inds, xy) if new_im[int(point[1]), int(point[0])] == label])\n",
    "    \n",
    "    inds_class = [index for index, _ in xy_class_w_ind]\n",
    "    xy_class = np.array([coordinates for _, coordinates in xy_class_w_ind])\n",
    "    \n",
    "    return inds_class, xy_class"
   ]
  },
  {
   "cell_type": "code",
   "execution_count": null,
   "id": "75e4f98e7fa7e964",
   "metadata": {
    "ExecuteTime": {
     "start_time": "2024-03-12T00:20:02.061228100Z"
    },
    "collapsed": false
   },
   "outputs": [],
   "source": [
    "inds_18, xy_18 = get_class_inds(18, xy, inds, new_im)\n",
    "df_18 = features.iloc[inds_18]\n",
    "plt.scatter(df_18['Centroid_x'], df_18['Centroid_y'], c='b', marker='+', s=1)\n",
    "plt.gca().invert_yaxis()\n",
    "plt.show()"
   ]
  },
  {
   "cell_type": "code",
   "execution_count": null,
   "id": "e220f8328f0f4c69",
   "metadata": {
    "ExecuteTime": {
     "start_time": "2024-03-12T00:20:02.062228Z"
    },
    "collapsed": false
   },
   "outputs": [],
   "source": [
    "inds_20, xy_20 = get_class_inds(20, xy, inds, new_im)\n",
    "df_20 = features.iloc[inds_20]\n",
    "plt.scatter(df_20['Centroid_x'], df_20['Centroid_y'], c='b', marker='+', s=1)\n",
    "plt.gca().invert_yaxis()\n",
    "\n",
    "plt.show()"
   ]
  },
  {
   "cell_type": "code",
   "execution_count": null,
   "id": "44d34dbb8c2b5b3b",
   "metadata": {
    "ExecuteTime": {
     "start_time": "2024-03-12T00:20:02.063228Z"
    },
    "collapsed": false
   },
   "outputs": [],
   "source": [
    "plt.imshow(new_im, cmap=cmap_var, interpolation='none')\n",
    "plt.show()"
   ]
  },
  {
   "cell_type": "code",
   "execution_count": null,
   "id": "f04fa12f6b7fa2ab",
   "metadata": {
    "ExecuteTime": {
     "start_time": "2024-03-12T00:20:02.064227900Z"
    },
    "collapsed": false
   },
   "outputs": [],
   "source": [
    "ventricular = df_18.drop(columns=['Centroid_x', 'Centroid_y'])\n",
    "ventricular.dropna(inplace=True)\n",
    "subventricular = df_20.drop(columns=['Centroid_x', 'Centroid_y'])\n",
    "subventricular.dropna(inplace=True)"
   ]
  },
  {
   "cell_type": "code",
   "execution_count": null,
   "id": "9b7cdd141dd0c82a",
   "metadata": {
    "ExecuteTime": {
     "start_time": "2024-03-12T00:20:02.064227900Z"
    },
    "collapsed": false
   },
   "outputs": [],
   "source": [
    "ventricular.head()"
   ]
  },
  {
   "cell_type": "code",
   "execution_count": null,
   "id": "538cf04c94a9a81b",
   "metadata": {
    "ExecuteTime": {
     "start_time": "2024-03-12T00:20:02.065228100Z"
    },
    "collapsed": false
   },
   "outputs": [],
   "source": [
    "subventricular.head()"
   ]
  },
  {
   "cell_type": "code",
   "execution_count": null,
   "id": "cebb14e2ac076f19",
   "metadata": {
    "ExecuteTime": {
     "start_time": "2024-03-12T00:20:02.065228100Z"
    },
    "collapsed": false
   },
   "outputs": [],
   "source": [
    "print(subventricular.columns.tolist())"
   ]
  },
  {
   "cell_type": "code",
   "execution_count": null,
   "id": "71d89b04396ee3b4",
   "metadata": {
    "ExecuteTime": {
     "start_time": "2024-03-12T00:20:02.066227900Z"
    },
    "collapsed": false
   },
   "outputs": [],
   "source": [
    "plt.figure(figsize=(8, 5))\n",
    "\n",
    "feature = 'Area'\n",
    "\n",
    "plt.hist(ventricular[feature], bins=20, color='skyblue', label='Ventricular', edgecolor='black')\n",
    "plt.hist(subventricular[feature], bins=20, color='salmon', alpha=0.5, label='Subventricular', edgecolor='black')\n",
    "\n",
    "plt.title(f'Distribution of {feature}')\n",
    "plt.xlabel(f'{feature}')\n",
    "plt.ylabel('Frequency')\n",
    "plt.legend()  \n",
    "plt.grid(True)\n",
    "plt.show()"
   ]
  },
  {
   "cell_type": "code",
   "execution_count": null,
   "id": "6193fcb755549f81",
   "metadata": {
    "ExecuteTime": {
     "start_time": "2024-03-12T00:20:02.066227900Z"
    },
    "collapsed": false
   },
   "outputs": [],
   "source": [
    "plt.scatter(ventricular['Area'],ventricular['b_mean_intensity'], label='Ventricular', s=0.1)\n",
    "plt.scatter(subventricular['Area'],subventricular['b_mean_intensity'], label='Subventricular', s=0.1, c='r')\n",
    "# plt.legend()  \n",
    "plt.xlabel(f'Area')\n",
    "plt.ylabel('Mean Blue Intensity')"
   ]
  },
  {
   "cell_type": "code",
   "execution_count": null,
   "id": "c244b66501584072",
   "metadata": {
    "ExecuteTime": {
     "start_time": "2024-03-12T00:20:02.067227900Z"
    },
    "collapsed": false
   },
   "outputs": [],
   "source": [
    "inds_18, xy_18 = get_class_inds(18, xy, inds, new_im)\n",
    "df_18 = features.iloc[inds_18]"
   ]
  },
  {
   "cell_type": "code",
   "execution_count": null,
   "id": "81047b1890939434",
   "metadata": {
    "ExecuteTime": {
     "start_time": "2024-03-12T00:20:02.067227900Z"
    },
    "collapsed": false
   },
   "outputs": [],
   "source": [
    "for lab in new_labels:\n",
    "    print(lab)"
   ]
  },
  {
   "cell_type": "code",
   "execution_count": null,
   "id": "77c6af979fca2e27",
   "metadata": {
    "ExecuteTime": {
     "start_time": "2024-03-11T23:38:43.699774400Z"
    },
    "collapsed": false
   },
   "outputs": [],
   "source": []
  },
  {
   "cell_type": "code",
   "execution_count": null,
   "id": "8754915295adf344",
   "metadata": {
    "ExecuteTime": {
     "start_time": "2024-03-11T23:38:43.700774100Z"
    },
    "collapsed": false
   },
   "outputs": [],
   "source": []
  },
  {
   "cell_type": "code",
   "execution_count": null,
   "id": "b6b2af1c4dea6d6c",
   "metadata": {
    "ExecuteTime": {
     "start_time": "2024-03-11T23:38:43.700774100Z"
    },
    "collapsed": false
   },
   "outputs": [],
   "source": [
    "df_label_dict = {}  # only with stuff\n",
    "\n",
    "for key in np.unique(new_im):\n",
    "    num = len(np.array([point for point in xy if new_im[int(point[1]), int(point[0])] == key]))\n",
    "    inds_key, xy_key = get_class_inds(key, xy, inds, new_im)\n",
    "    df_key = features.iloc[inds_key]\n",
    "    print(key, num)\n",
    "    \n",
    "    # plt.scatter(df_key['Centroid_x'], df_key['Centroid_y'], c='b', marker='+', s=1)\n",
    "    # plt.gca().invert_yaxis()\n",
    "    # plt.show()\n",
    "    \n",
    "    df_label_dict[key] = df_key"
   ]
  },
  {
   "cell_type": "code",
   "execution_count": null,
   "id": "522e65fada6c7f34",
   "metadata": {
    "ExecuteTime": {
     "start_time": "2024-03-11T23:38:43.701774300Z"
    },
    "collapsed": false
   },
   "outputs": [],
   "source": [
    "df_label_dict_1000 = {}  #filter dict such that only classes with over 1000 cells remain\n",
    "for key, value in df_label_dict.items():\n",
    "    if len(value) > 1000:\n",
    "        cls = classes[key]\n",
    "        print(cls)\n",
    "        df_label_dict_1000[cls] = value"
   ]
  },
  {
   "cell_type": "code",
   "execution_count": null,
   "id": "3d548f4970e95c63",
   "metadata": {
    "ExecuteTime": {
     "start_time": "2024-03-11T23:38:43.701774300Z"
    },
    "collapsed": false
   },
   "outputs": [],
   "source": [
    "print(len(df_label_dict_1000))\n",
    "print(len(df_label_dict))"
   ]
  },
  {
   "cell_type": "code",
   "execution_count": null,
   "id": "1cd10f30f401f502",
   "metadata": {
    "ExecuteTime": {
     "start_time": "2024-03-11T23:38:43.702774100Z"
    },
    "collapsed": false
   },
   "outputs": [],
   "source": [
    "valid_keys"
   ]
  },
  {
   "cell_type": "code",
   "execution_count": null,
   "id": "6c25093defd0fe3a",
   "metadata": {
    "ExecuteTime": {
     "start_time": "2024-03-11T23:38:43.702774100Z"
    },
    "collapsed": false
   },
   "outputs": [],
   "source": [
    "valid_keys = list(df_label_dict_1000.keys())\n",
    "key1 = 'bone_Limbs'\n",
    "key2 = 'bone_Ribs'\n",
    "test1 = df_label_dict_1000[key1]\n",
    "test2 = df_label_dict_1000[key2]\n",
    "\n",
    "plt.scatter(test1['Area'],test1['g_mean_intensity'], label=key1, s=0.5)\n",
    "plt.scatter(test2['Area'],test2['g_mean_intensity'], label=key2, s=0.5, c='r')\n",
    "plt.legend(markerscale=10)  \n",
    "plt.xlabel(f'Area')\n",
    "plt.ylabel('Mean Blue Intensity')"
   ]
  },
  {
   "cell_type": "code",
   "execution_count": null,
   "id": "2feb34f801a0f764",
   "metadata": {
    "ExecuteTime": {
     "start_time": "2024-03-11T23:38:43.703774800Z"
    },
    "collapsed": false
   },
   "outputs": [],
   "source": [
    "plt.scatter(test1['Centroid_x'], test1['Centroid_y'], c='b', marker='+', s=1)\n",
    "plt.gca().invert_yaxis()\n",
    "\n",
    "plt.show()"
   ]
  },
  {
   "cell_type": "code",
   "execution_count": null,
   "id": "5d5364f11f64d5c8",
   "metadata": {
    "ExecuteTime": {
     "start_time": "2024-03-11T23:38:43.704774200Z"
    },
    "collapsed": false
   },
   "outputs": [],
   "source": [
    "noise = ['noise_Noise']  # 0 \n",
    "adrenal = ['adrenal_Stroma', 'adrenal_Cortex', 'adrenal_FetalZone', 'adrenal_Endothelial', 'adrenal_Cells',\n",
    "           'adrenal_Noise']  # 1, 2, 3, 4, 5, 6\n",
    "thymus = ['thymus_Thymus']  # 15\n",
    "bladder = [\n",
    "    'bladder_bladder']  # 16  # WRONG, should be bladder = ['Bladder'], there is no bladder in this first try, i messed up\n",
    "skull = ['skull_skull']\n",
    "\n",
    "bone = ['bone_ECM', 'bone_Limbs', 'bone_Spine', 'bone_Ribs', 'bone_Notochord', 'bone_Hyoid',\n",
    "        'bone_Pharyngeal']  # 101, 102, 103, 104, 105, 106, 107\n",
    "brain = ['brain_Non_tissue', 'brain_Ventricular', 'brain_Stroma', 'brain_Subventricular', 'brain_Marginal_Layer',\n",
    "         'brain_Intermediate', 'brain_Cortical_Plate', 'brain_Choroid_Plexus', 'brain_Pituitary', 'brain_Neural_Canal',\n",
    "         'brain_Ganglion', 'brain_Nerve']  # 201, 202, 203, 204, 205, 206, 207, 208, 209, 210, 211, 212\n",
    "ear = ['ear_Cochlea', 'ear_Nontissue', 'ear_Nerve', 'ear_Semicircular_Canals',\n",
    "       'ear_Cochlear_Ducts']  # 301, 302, 303, 304, 305\n",
    "ecm = ['ecm_Skin_Epithelium', 'ecm_Mesoderm', 'ecm_Blood_Vessels', 'ecm_Noise', 'ecm_Muscle',\n",
    "       'ecm_Condensed_Mesenchyme']  # 401, 402, 403, 404, 405, 406\n",
    "eye = ['eye_RPE', 'eye_Outer_retina', 'eye_Inner_retina', 'eye_Lens_epithelium', 'eye_Lens_fibers', 'eye_Nerve',\n",
    "       'eye_Vasculature', 'eye_Non_tissue', 'eye_ECM', 'eye_BP']  # 501, 502, 503, 504, 505, 506, 507, 508, 509, 510\n",
    "gi = ['gi_Esophagus', 'gi_Stomach', 'gi_Small_Intestines', 'gi_Large_Intestines', 'gi_ECM', 'gi_Nontissue',\n",
    "      'gi_Ducts']  # 601, 602, 603, 604, 605, 606, 607\n",
    "gonads = ['gonads_CondensedMesenchyme', 'gonads_Endothelial', 'gonads_Noise']  # 701, 702, 703\n",
    "heart = ['heart_Ventricular_Myocardium', 'heart_Atria', 'heart_Trabeculae', 'heart_Valves', 'heart_Large_Vessel',\n",
    "         'heart_Noise', 'heart_ECM']  # 801, 802, 803, 804, 805, 806, 807\n",
    "kidney = ['kidney_uretericTree', 'kidney_renalVesicle', 'kidney_condensedMesenchyme', 'kidney_looseStroma',\n",
    "          'kidney_nonTissue']  # 901, 902, 903, 904, 905\n",
    "liver = ['liver_blood_vessels', 'liver_Liver_ECM', 'liver_Noise', 'liver_Stroma',\n",
    "         'liver_Gallbladder']  # 1001, 1002, 1003, 1004, 1005\n",
    "lungs = ['lungs_bronchioles', 'lungs_vasculature', 'lungs_nontissue', 'lungs_collagen']  # 1101, 1102, 1103, 1104\n",
    "mesokidney = ['mesokidney_Glomerulus', 'mesokidney_Mesonephric_Tubule', 'mesokidney_Bowman_Capsule',\n",
    "              'mesokidney_Mesonephric_Duct', 'mesokidney_ECM', 'mesokidney_Paramesonephric_Duct',\n",
    "              'mesokidney_nontissue']  # 1201, 1202, 1203, 1204, 1205, 1206, 1207\n",
    "thyroid = ['thyroid_Lobe', 'thyroid_Isthmus', 'thyroid_ECM',\n",
    "           'thyroid_Noise']  # 1301, 1302, 1303, 1304 # don't have bc I typed [15,16] instead of [15,17], need to run code for 5 hours again now\n",
    "\n",
    "classes = noise + adrenal + thymus + bladder + skull + bone + brain + ear + ecm + eye + gi + gonads + heart + kidney + liver + lungs + mesokidney + thyroid\n",
    "print(classes)\n",
    "print(len(classes))"
   ]
  },
  {
   "cell_type": "code",
   "execution_count": null,
   "id": "e5d902a6260159ed",
   "metadata": {
    "ExecuteTime": {
     "start_time": "2024-03-11T23:38:43.704774200Z"
    },
    "collapsed": false
   },
   "outputs": [],
   "source": [
    "for i,j in zip(old_labels, classes):\n",
    "    print(i, j)"
   ]
  },
  {
   "cell_type": "code",
   "execution_count": null,
   "id": "d5390dcaf84494e3",
   "metadata": {
    "ExecuteTime": {
     "start_time": "2024-03-11T23:38:43.705774200Z"
    },
    "collapsed": false
   },
   "outputs": [],
   "source": []
  },
  {
   "cell_type": "code",
   "execution_count": null,
   "id": "6ce172066d7e2919",
   "metadata": {
    "ExecuteTime": {
     "start_time": "2024-03-11T23:38:43.705774200Z"
    },
    "collapsed": false
   },
   "outputs": [],
   "source": []
  },
  {
   "cell_type": "code",
   "execution_count": null,
   "id": "52e988d7eaa6dbe",
   "metadata": {
    "ExecuteTime": {
     "start_time": "2024-03-11T23:38:43.706774600Z"
    },
    "collapsed": false
   },
   "outputs": [],
   "source": [
    "from sklearn.decomposition import PCA\n",
    "\n",
    "combined_df = pd.concat([ventricular, bone_limbs], axis=0)\n",
    "pca = PCA(n_components=2)\n",
    "pca_result = pca.fit_transform(combined_df)\n",
    "\n",
    "plt.figure(figsize=(8, 6))\n",
    "plt.scatter(pca_result[:, 0], pca_result[:, 1], alpha=0.7)\n",
    "plt.title('PCA Scatterplot')\n",
    "plt.xlabel('Principal Component 1')\n",
    "plt.ylabel('Principal Component 2')\n",
    "plt.grid(True)\n",
    "plt.show()"
   ]
  },
  {
   "cell_type": "code",
   "execution_count": null,
   "id": "443a99a2bf397d11",
   "metadata": {
    "ExecuteTime": {
     "start_time": "2024-03-11T23:38:43.706774600Z"
    },
    "collapsed": false
   },
   "outputs": [],
   "source": [
    "combined_df"
   ]
  },
  {
   "cell_type": "code",
   "execution_count": null,
   "id": "25e66bf71bce6c6d",
   "metadata": {
    "ExecuteTime": {
     "start_time": "2024-03-11T23:38:43.707774200Z"
    },
    "collapsed": false
   },
   "outputs": [],
   "source": []
  }
 ],
 "metadata": {
  "kernelspec": {
   "display_name": "Python 3",
   "language": "python",
   "name": "python3"
  },
  "language_info": {
   "codemirror_mode": {
    "name": "ipython",
    "version": 3
   },
   "file_extension": ".py",
   "mimetype": "text/x-python",
   "name": "python",
   "nbconvert_exporter": "python",
   "pygments_lexer": "ipython3",
   "version": "3.9.18"
  }
 },
 "nbformat": 4,
 "nbformat_minor": 5
}
