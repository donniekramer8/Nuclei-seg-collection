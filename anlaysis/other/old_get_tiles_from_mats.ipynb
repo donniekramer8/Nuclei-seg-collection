{
 "cells": [
  {
   "cell_type": "code",
   "execution_count": 1,
   "outputs": [],
   "source": [
    "import os\n",
    "from PIL import Image\n",
    "import numpy as np\n",
    "\n",
    "openslide_path = r'C:\\Users\\Donald\\Documents\\openslide-win64-20230414\\bin'\n",
    "# openslide_path = r'C:\\Users\\Andre\\Documents\\openslide-win64-20230414\\bin'\n",
    "\n",
    "os.environ['PATH'] = openslide_path + \";\" + os.environ['PATH']\n",
    "# from openslide import OpenSlide\n",
    "\n",
    "\n",
    "if hasattr(os, 'add_dll_directory'):\n",
    "    # Python >= 3.8 on Windows\n",
    "    with os.add_dll_directory(openslide_path):\n",
    "        import openslide\n",
    "else:\n",
    "    import openslide\n",
    "from openslide import OpenSlide"
   ],
   "metadata": {
    "collapsed": false,
    "ExecuteTime": {
     "end_time": "2024-02-26T21:09:02.797237700Z",
     "start_time": "2024-02-26T21:09:02.718238200Z"
    }
   }
  },
  {
   "cell_type": "markdown",
   "source": [
    "You need to do get crop data before running this code. I use a matlab function I made with the 2.5x or 10x tiff images.\n",
    "\n",
    "Function is here: \\\\10.99.68.178\\andreex\\students\\Donald Monkey fetus\\codes\\monkey\\crop1024_monkey.m"
   ],
   "metadata": {
    "collapsed": false
   }
  },
  {
   "cell_type": "code",
   "execution_count": 2,
   "outputs": [],
   "source": [
    "pth = r'\\\\10.162.80.16\\Andre_expansion\\data\\PDAC purity\\NDPI\\pdac purity'\n",
    "pth_mat = r'\\\\10.162.80.16\\Andre_expansion\\data\\PDAC purity\\old technical assessment\\new_tif_images\\2_5x\\cropped_tile\\matfiles'"
   ],
   "metadata": {
    "collapsed": false,
    "ExecuteTime": {
     "end_time": "2024-02-26T21:09:03.247237200Z",
     "start_time": "2024-02-26T21:09:03.235237300Z"
    }
   }
  },
  {
   "cell_type": "code",
   "execution_count": 7,
   "outputs": [],
   "source": [
    "# Get a list of MAT files and their base names (without extensions)\n",
    "mat_files = [os.path.splitext(file)[0] for file in os.listdir(pth_mat) if file.endswith('.mat')]\n",
    "slide_names = [file.split('.')[0] for file in mat_files]\n",
    "\n",
    "# Get a list of NDPI images and their base names (without extensions)\n",
    "ndpi_files = [os.path.splitext(file)[0] for file in os.listdir(pth) if file.endswith('.ndpi')]\n",
    "\n",
    "# Find the matching files based on their base names\n",
    "matching_files = set(slide_names).intersection(ndpi_files)\n",
    "\n",
    "WSIs = sorted([filename + '.ndpi' for filename in matching_files])\n",
    "\n",
    "crop_mats = sorted([filename + '.mat' for filename in mat_files])"
   ],
   "metadata": {
    "collapsed": false,
    "ExecuteTime": {
     "end_time": "2024-02-26T21:09:28.116346100Z",
     "start_time": "2024-02-26T21:09:28.109346200Z"
    }
   }
  },
  {
   "cell_type": "code",
   "execution_count": 8,
   "outputs": [
    {
     "data": {
      "text/plain": "['PD_14_1F.mat',\n 'PD_23_4O.mat',\n 'PD_29_3M.mat',\n 'PD_30_3D.mat',\n 'PD_34_3L.mat',\n 'PD_36_5O.mat',\n 'PD_38_9R.mat',\n 'PD_44_7HH.mat',\n 'PD_45_4M.mat',\n 'PD_6_3P_AMP.mat']"
     },
     "execution_count": 8,
     "metadata": {},
     "output_type": "execute_result"
    }
   ],
   "source": [
    "crop_mats"
   ],
   "metadata": {
    "collapsed": false,
    "ExecuteTime": {
     "end_time": "2024-02-26T21:09:28.383349300Z",
     "start_time": "2024-02-26T21:09:28.365349500Z"
    }
   }
  },
  {
   "cell_type": "code",
   "execution_count": 9,
   "outputs": [
    {
     "data": {
      "text/plain": "['PD_14_1F.ndpi',\n 'PD_23_4O.ndpi',\n 'PD_29_3M.ndpi',\n 'PD_30_3D.ndpi',\n 'PD_34_3L.ndpi',\n 'PD_36_5O.ndpi',\n 'PD_38_9R.ndpi',\n 'PD_44_7HH.ndpi',\n 'PD_45_4M.ndpi',\n 'PD_6_3P_AMP.ndpi']"
     },
     "execution_count": 9,
     "metadata": {},
     "output_type": "execute_result"
    }
   ],
   "source": [
    "WSIs"
   ],
   "metadata": {
    "collapsed": false,
    "ExecuteTime": {
     "end_time": "2024-02-26T21:09:28.862353500Z",
     "start_time": "2024-02-26T21:09:28.849354700Z"
    }
   }
  },
  {
   "cell_type": "code",
   "outputs": [
    {
     "data": {
      "text/plain": "10"
     },
     "execution_count": 10,
     "metadata": {},
     "output_type": "execute_result"
    }
   ],
   "source": [
    "len(WSIs)"
   ],
   "metadata": {
    "collapsed": false,
    "ExecuteTime": {
     "end_time": "2024-02-26T21:09:29.268366700Z",
     "start_time": "2024-02-26T21:09:29.250366Z"
    }
   },
   "execution_count": 10
  },
  {
   "cell_type": "code",
   "execution_count": 11,
   "outputs": [],
   "source": [
    "res20x=0.4416\n",
    "res2_5x=4\n",
    "\n",
    "ratio = res2_5x/res20x\n",
    "\n",
    "\n",
    "outpth = r'\\\\10.99.68.178\\andreex\\data\\Stardist\\PDAC model\\maybe_all_tiles_donald\\testing_tiles_2_26'\n",
    "if not os.path.exists(outpth):\n",
    "    os.mkdir(outpth)"
   ],
   "metadata": {
    "collapsed": false,
    "ExecuteTime": {
     "end_time": "2024-02-26T21:12:21.687661400Z",
     "start_time": "2024-02-26T21:12:21.673661500Z"
    }
   }
  },
  {
   "cell_type": "code",
   "execution_count": 12,
   "outputs": [
    {
     "name": "stdout",
     "output_type": "stream",
     "text": [
      "9.057971014492754\n"
     ]
    }
   ],
   "source": [
    "print(ratio)"
   ],
   "metadata": {
    "collapsed": false,
    "ExecuteTime": {
     "end_time": "2024-02-26T21:12:22.417228700Z",
     "start_time": "2024-02-26T21:12:22.408228700Z"
    }
   }
  },
  {
   "cell_type": "code",
   "execution_count": 13,
   "outputs": [
    {
     "data": {
      "text/plain": "['PD_14_1F.mat',\n 'PD_23_4O.mat',\n 'PD_29_3M.mat',\n 'PD_30_3D.mat',\n 'PD_34_3L.mat',\n 'PD_36_5O.mat',\n 'PD_38_9R.mat',\n 'PD_44_7HH.mat',\n 'PD_45_4M.mat',\n 'PD_6_3P_AMP.mat']"
     },
     "execution_count": 13,
     "metadata": {},
     "output_type": "execute_result"
    }
   ],
   "source": [
    "crop_mats"
   ],
   "metadata": {
    "collapsed": false,
    "ExecuteTime": {
     "end_time": "2024-02-26T21:12:25.736377200Z",
     "start_time": "2024-02-26T21:12:25.724376400Z"
    }
   }
  },
  {
   "cell_type": "code",
   "execution_count": 14,
   "outputs": [
    {
     "data": {
      "text/plain": "['PD_14_1F.ndpi',\n 'PD_23_4O.ndpi',\n 'PD_29_3M.ndpi',\n 'PD_30_3D.ndpi',\n 'PD_34_3L.ndpi',\n 'PD_36_5O.ndpi',\n 'PD_38_9R.ndpi',\n 'PD_44_7HH.ndpi',\n 'PD_45_4M.ndpi',\n 'PD_6_3P_AMP.ndpi']"
     },
     "execution_count": 14,
     "metadata": {},
     "output_type": "execute_result"
    }
   ],
   "source": [
    "WSIs"
   ],
   "metadata": {
    "collapsed": false,
    "ExecuteTime": {
     "end_time": "2024-02-26T21:12:26.496387300Z",
     "start_time": "2024-02-26T21:12:26.489387600Z"
    }
   }
  },
  {
   "cell_type": "code",
   "execution_count": 17,
   "outputs": [
    {
     "name": "stdout",
     "output_type": "stream",
     "text": [
      "Skipping cropping for PD_14_1F.ndpi (1/10)... Already exists\n",
      "Skipping cropping for PD_23_4O.ndpi (2/10)... Already exists\n",
      "Skipping cropping for PD_29_3M.ndpi (3/10)... Already exists\n",
      "Skipping cropping for PD_30_3D.ndpi (4/10)... Already exists\n",
      "Skipping cropping for PD_34_3L.ndpi (5/10)... Already exists\n",
      "Skipping cropping for PD_36_5O.ndpi (6/10)... Already exists\n",
      "Skipping cropping for PD_38_9R.ndpi (7/10)... Already exists\n",
      "Cropping PD_44_7HH.ndpi (8/10)\n",
      "31042\n",
      "15937\n",
      "512\n",
      "512\n",
      "Cropping PD_45_4M.ndpi (9/10)\n",
      "46990\n",
      "37557\n",
      "512\n",
      "512\n",
      "Skipping cropping for PD_6_3P_AMP.ndpi (10/10)... Already exists\n"
     ]
    }
   ],
   "source": [
    "from scipy.io import loadmat\n",
    "\n",
    "file_format = '.tif'\n",
    "\n",
    "for i, file in enumerate(crop_mats):\n",
    "    mat_file_name = os.path.join(pth_mat, file)\n",
    "\n",
    "    WSI_path = os.path.join(pth, WSIs[i])\n",
    "\n",
    "    f_out_name = f'{os.path.join(os.path.join(outpth,crop_mats[i][:-4]))}{file_format}'\n",
    "\n",
    "    if os.path.exists(f_out_name):\n",
    "        print(f'Skipping cropping for {WSIs[i]} ({i+1}/{len(crop_mats)})... Already exists')\n",
    "\n",
    "    else:\n",
    "        print(f'Cropping {WSIs[i]} ({i+1}/{len(crop_mats)})')\n",
    "\n",
    "        # print(mat_file_name)\n",
    "        # print(WSI_path)\n",
    "\n",
    "        WSI_slide = openslide.OpenSlide(WSI_path)\n",
    "\n",
    "        wsi_width, wsi_height = WSI_slide.level_dimensions[0]\n",
    "\n",
    "        data = loadmat(mat_file_name)\n",
    "\n",
    "        # crop_width = int(data['crop_width']*ratio)\n",
    "        # crop_height = int(data['crop_height']*ratio)\n",
    "\n",
    "\n",
    "        crop_width = 512\n",
    "        crop_height = 512\n",
    "        crop_x = int(data['crop_x']*ratio)\n",
    "        crop_y = int(data['crop_y']*ratio)\n",
    "\n",
    "        lower_x = crop_x\n",
    "        upper_y = crop_y\n",
    "        upper_x = crop_x + crop_width\n",
    "        lower_y = crop_y - crop_height\n",
    "\n",
    "        print(crop_x)\n",
    "        print(crop_y)\n",
    "        print(crop_width)\n",
    "        print(crop_height)\n",
    "\n",
    "        region = WSI_slide.read_region((crop_x, crop_y), 0, (crop_width, crop_height)) # level = 0 in middle\n",
    "        region_image = Image.new('RGB', region.size)\n",
    "        region_image.paste(region, (0, 0))\n",
    "\n",
    "        region_image.save(f_out_name)\n",
    "        WSI_slide.close()\n"
   ],
   "metadata": {
    "collapsed": false,
    "ExecuteTime": {
     "end_time": "2024-02-26T21:16:28.025587100Z",
     "start_time": "2024-02-26T21:16:27.214888500Z"
    }
   }
  },
  {
   "cell_type": "code",
   "execution_count": 38,
   "outputs": [
    {
     "data": {
      "text/plain": "19818"
     },
     "execution_count": 38,
     "metadata": {},
     "output_type": "execute_result"
    }
   ],
   "source": [
    "crop_x\n"
   ],
   "metadata": {
    "collapsed": false,
    "ExecuteTime": {
     "end_time": "2023-11-13T20:58:24.890346700Z",
     "start_time": "2023-11-13T20:58:24.872346900Z"
    }
   }
  },
  {
   "cell_type": "code",
   "execution_count": 39,
   "outputs": [
    {
     "data": {
      "text/plain": "20134"
     },
     "execution_count": 39,
     "metadata": {},
     "output_type": "execute_result"
    }
   ],
   "source": [
    "crop_y"
   ],
   "metadata": {
    "collapsed": false,
    "ExecuteTime": {
     "end_time": "2023-11-13T20:58:30.680416500Z",
     "start_time": "2023-11-13T20:58:30.659416400Z"
    }
   }
  },
  {
   "cell_type": "markdown",
   "source": [],
   "metadata": {
    "collapsed": false
   }
  }
 ],
 "metadata": {
  "kernelspec": {
   "display_name": "Python 3",
   "language": "python",
   "name": "python3"
  },
  "language_info": {
   "codemirror_mode": {
    "name": "ipython",
    "version": 2
   },
   "file_extension": ".py",
   "mimetype": "text/x-python",
   "name": "python",
   "nbconvert_exporter": "python",
   "pygments_lexer": "ipython2",
   "version": "2.7.6"
  }
 },
 "nbformat": 4,
 "nbformat_minor": 0
}
