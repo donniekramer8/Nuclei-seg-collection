{
 "cells": [
  {
   "cell_type": "code",
   "execution_count": 1,
   "metadata": {
    "collapsed": true,
    "ExecuteTime": {
     "end_time": "2024-08-27T16:03:34.786259400Z",
     "start_time": "2024-08-27T16:03:34.495275500Z"
    }
   },
   "outputs": [],
   "source": [
    "import pandas as pd\n",
    "import numpy as np\n",
    "from scipy.io import savemat\n",
    "import os\n",
    "import pickle"
   ]
  },
  {
   "cell_type": "code",
   "execution_count": 4,
   "outputs": [],
   "source": [
    "#src = r\"\\\\10.99.68.178\\andreex\\data\\monkey fetus\\gestational 40\\hovernet_out\\df\"\n",
    "#dfs = sorted([_ for _ in os.listdir(src) if _.endswith('pkl')])\n",
    "\n",
    "#src = r'\\\\10.162.80.16\\Andre_expansion\\data\\monkey_fetus\\Stardist\\StarDist_12_25_23\\stardist_feature_df_pickles'\n",
    "src = r'\\\\10.162.80.16\\Andre_expansion\\data\\monkey_fetus\\Stardist\\StarDist_12_25_23\\dfs_fixed_centroids_3_14'\n",
    "src = r'\\\\10.162.80.16\\Andre_expansion\\data\\monkey_fetus\\Stardist\\StarDist_12_25_23\\8_27_24_stdev_color_features_python'\n",
    "dfs = sorted([_ for _ in os.listdir(src) if _.endswith('.pkl')])"
   ],
   "metadata": {
    "collapsed": false,
    "ExecuteTime": {
     "end_time": "2024-08-27T16:04:25.308782200Z",
     "start_time": "2024-08-27T16:04:25.293780900Z"
    }
   }
  },
  {
   "cell_type": "code",
   "execution_count": 5,
   "outputs": [
    {
     "name": "stdout",
     "output_type": "stream",
     "text": [
      "['monkey_fetus_40_0402.pkl']\n"
     ]
    }
   ],
   "source": [
    "print(dfs)"
   ],
   "metadata": {
    "collapsed": false,
    "ExecuteTime": {
     "end_time": "2024-08-27T16:04:27.070509700Z",
     "start_time": "2024-08-27T16:04:27.059604100Z"
    }
   }
  },
  {
   "cell_type": "code",
   "execution_count": 22,
   "outputs": [
    {
     "name": "stdout",
     "output_type": "stream",
     "text": [
      "Saving: monkey_fetus_40_0402.pkl\n",
      "\\\\10.162.80.16\\Andre_expansion\\data\\monkey_fetus\\Stardist\\StarDist_12_25_23\\mat\\monkey_fetus_40_0402.mat\n"
     ]
    }
   ],
   "source": [
    "for dfnm in dfs:\n",
    "    print(\"Saving: {}\".format(dfnm))\n",
    "    dst = os.path.join(*[os.path.dirname(src),'mat',dfnm.replace('pkl','mat')])\n",
    "    dst0 = os.path.join(src, 'mat') # delete\n",
    "    #os.mkdir(dst0)\n",
    "    dst1 = os.path.join(dst0, dfnm.replace('pkl','mat'))\n",
    "    if os.path.exists(dst):\n",
    "        print(\"mat already exists, skipping the file ID {}\".format(dfnm))\n",
    "        continue\n",
    "        \n",
    "    with open(os.path.join(src, dfnm), 'rb') as f:\n",
    "        df = pickle.load(f)\n",
    "\n",
    "    # df = pd.read_pickle(os.path.join(src,dfnm))\n",
    "    # df = df[['Centroid_x', 'Centroid_y']]\n",
    "    col_names = df.columns.tolist()\n",
    "    df = [_ for _ in df.to_numpy()]\n",
    "    df = np.array(df)\n",
    "    print(dst)\n",
    "    \n",
    "    savemat(dst1, {'features':df, 'feature_names':col_names})"
   ],
   "metadata": {
    "collapsed": false,
    "pycharm": {
     "is_executing": true
    },
    "ExecuteTime": {
     "end_time": "2024-08-27T16:09:02.923915200Z",
     "start_time": "2024-08-27T16:09:01.260372100Z"
    }
   }
  },
  {
   "cell_type": "code",
   "outputs": [
    {
     "ename": "NameError",
     "evalue": "name 'dst1' is not defined",
     "output_type": "error",
     "traceback": [
      "\u001B[1;31m---------------------------------------------------------------------------\u001B[0m",
      "\u001B[1;31mNameError\u001B[0m                                 Traceback (most recent call last)",
      "Cell \u001B[1;32mIn[14], line 1\u001B[0m\n\u001B[1;32m----> 1\u001B[0m \u001B[43mdst1\u001B[49m\n",
      "\u001B[1;31mNameError\u001B[0m: name 'dst1' is not defined"
     ]
    }
   ],
   "source": [
    "dst1"
   ],
   "metadata": {
    "collapsed": false,
    "ExecuteTime": {
     "end_time": "2024-08-27T16:07:30.993011Z",
     "start_time": "2024-08-27T16:07:30.967010900Z"
    }
   },
   "execution_count": 14
  },
  {
   "cell_type": "code",
   "outputs": [
    {
     "data": {
      "text/plain": "'\\\\\\\\10.162.80.16\\\\Andre_expansion\\\\data\\\\monkey_fetus\\\\Stardist\\\\StarDist_12_25_23\\\\8_27_24_stdev_color_features_python\\\\mat\\\\monkey_fetus_40_0402.pkl'"
     },
     "execution_count": 19,
     "metadata": {},
     "output_type": "execute_result"
    }
   ],
   "source": [
    "dst1"
   ],
   "metadata": {
    "collapsed": false,
    "ExecuteTime": {
     "end_time": "2024-08-27T16:07:54.571353300Z",
     "start_time": "2024-08-27T16:07:54.560345500Z"
    }
   },
   "execution_count": 19
  },
  {
   "cell_type": "code",
   "outputs": [
    {
     "data": {
      "text/plain": "array([[1.26400000e+03, 1.30600000e+03, 3.18132477e+01, ...,\n        1.97034187e+01, 2.13018913e+01, 1.00000000e+00],\n       [3.80000000e+01, 1.84200000e+03, 5.99470291e+01, ...,\n        2.19008942e+01, 2.44108829e+01, 1.00000000e+00],\n       [2.22800000e+03, 6.34000000e+02, 4.45468903e+01, ...,\n        2.15370770e+01, 2.33112278e+01, 1.00000000e+00],\n       ...,\n       [3.49820000e+04, 2.86060000e+04, 3.11098900e+01, ...,\n        1.85300541e+01, 2.00294113e+01, 1.00000000e+00],\n       [3.67140000e+04, 3.06260000e+04, 3.59638062e+01, ...,\n        1.94806385e+01, 2.08747234e+01, 1.00000000e+00],\n       [3.71960000e+04, 3.08500000e+04, 2.29742279e+01, ...,\n        1.58463745e+01, 1.73214130e+01, 1.00000000e+00]], dtype=float32)"
     },
     "execution_count": 20,
     "metadata": {},
     "output_type": "execute_result"
    }
   ],
   "source": [
    "df"
   ],
   "metadata": {
    "collapsed": false,
    "ExecuteTime": {
     "end_time": "2024-08-27T16:08:09.150308Z",
     "start_time": "2024-08-27T16:08:09.142306700Z"
    }
   },
   "execution_count": 20
  },
  {
   "cell_type": "code",
   "outputs": [],
   "source": [],
   "metadata": {
    "collapsed": false
   }
  }
 ],
 "metadata": {
  "kernelspec": {
   "display_name": "Python 3",
   "language": "python",
   "name": "python3"
  },
  "language_info": {
   "codemirror_mode": {
    "name": "ipython",
    "version": 2
   },
   "file_extension": ".py",
   "mimetype": "text/x-python",
   "name": "python",
   "nbconvert_exporter": "python",
   "pygments_lexer": "ipython2",
   "version": "2.7.6"
  }
 },
 "nbformat": 4,
 "nbformat_minor": 0
}
