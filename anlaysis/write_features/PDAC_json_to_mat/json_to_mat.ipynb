{
 "cells": [
  {
   "cell_type": "code",
   "outputs": [],
   "source": [
    "import os\n",
    "import pandas as pd\n",
    "import numpy as np\n",
    "import json"
   ],
   "metadata": {
    "collapsed": false,
    "ExecuteTime": {
     "end_time": "2024-04-15T02:00:26.193902800Z",
     "start_time": "2024-04-15T02:00:25.980834Z"
    }
   },
   "id": "fc98db7e72498659",
   "execution_count": 1
  },
  {
   "cell_type": "code",
   "outputs": [],
   "source": [
    "json_files = r'\\\\10.162.80.16\\Andre_expansion\\data\\PDAC purity\\NDPI\\pdac purity\\StarDist_2_23_24\\ndpi images\\cropped_nucl_seg'\n",
    "jsons = [os.path.join(json_files, x) for x in os.listdir(json_files) if x.endswith('json')]"
   ],
   "metadata": {
    "collapsed": false,
    "ExecuteTime": {
     "end_time": "2024-04-15T02:00:39.255175400Z",
     "start_time": "2024-04-15T02:00:39.244175500Z"
    }
   },
   "id": "62d6b84a6965911e",
   "execution_count": 6
  },
  {
   "cell_type": "code",
   "outputs": [
    {
     "data": {
      "text/plain": "['\\\\\\\\10.162.80.16\\\\Andre_expansion\\\\data\\\\PDAC purity\\\\NDPI\\\\pdac purity\\\\StarDist_2_23_24\\\\ndpi images\\\\cropped_nucl_seg\\\\PD_14_1F_cropped.json',\n '\\\\\\\\10.162.80.16\\\\Andre_expansion\\\\data\\\\PDAC purity\\\\NDPI\\\\pdac purity\\\\StarDist_2_23_24\\\\ndpi images\\\\cropped_nucl_seg\\\\PD_23_4O_cropped.json',\n '\\\\\\\\10.162.80.16\\\\Andre_expansion\\\\data\\\\PDAC purity\\\\NDPI\\\\pdac purity\\\\StarDist_2_23_24\\\\ndpi images\\\\cropped_nucl_seg\\\\PD_29_3M_cropped.json',\n '\\\\\\\\10.162.80.16\\\\Andre_expansion\\\\data\\\\PDAC purity\\\\NDPI\\\\pdac purity\\\\StarDist_2_23_24\\\\ndpi images\\\\cropped_nucl_seg\\\\PD_30_3D_cropped.json',\n '\\\\\\\\10.162.80.16\\\\Andre_expansion\\\\data\\\\PDAC purity\\\\NDPI\\\\pdac purity\\\\StarDist_2_23_24\\\\ndpi images\\\\cropped_nucl_seg\\\\PD_34_3L_cropped.json',\n '\\\\\\\\10.162.80.16\\\\Andre_expansion\\\\data\\\\PDAC purity\\\\NDPI\\\\pdac purity\\\\StarDist_2_23_24\\\\ndpi images\\\\cropped_nucl_seg\\\\PD_36_5O_cropped.json',\n '\\\\\\\\10.162.80.16\\\\Andre_expansion\\\\data\\\\PDAC purity\\\\NDPI\\\\pdac purity\\\\StarDist_2_23_24\\\\ndpi images\\\\cropped_nucl_seg\\\\PD_38_9R_cropped.json',\n '\\\\\\\\10.162.80.16\\\\Andre_expansion\\\\data\\\\PDAC purity\\\\NDPI\\\\pdac purity\\\\StarDist_2_23_24\\\\ndpi images\\\\cropped_nucl_seg\\\\PD_44_7HH_cropped.json',\n '\\\\\\\\10.162.80.16\\\\Andre_expansion\\\\data\\\\PDAC purity\\\\NDPI\\\\pdac purity\\\\StarDist_2_23_24\\\\ndpi images\\\\cropped_nucl_seg\\\\PD_45_4M_cropped.json',\n '\\\\\\\\10.162.80.16\\\\Andre_expansion\\\\data\\\\PDAC purity\\\\NDPI\\\\pdac purity\\\\StarDist_2_23_24\\\\ndpi images\\\\cropped_nucl_seg\\\\PD_6_3P_AMP_cropped.json']"
     },
     "execution_count": 7,
     "metadata": {},
     "output_type": "execute_result"
    }
   ],
   "source": [
    "jsons"
   ],
   "metadata": {
    "collapsed": false,
    "ExecuteTime": {
     "end_time": "2024-04-15T02:00:39.457452500Z",
     "start_time": "2024-04-15T02:00:39.449452700Z"
    }
   },
   "id": "3bfad8ded3ac1f42",
   "execution_count": 7
  },
  {
   "cell_type": "code",
   "outputs": [],
   "source": [
    "# functions to adjust format of contours list\n",
    "\n",
    "def fix_contours(contours):\n",
    "    contours_fixed = []\n",
    "    for polygon in contours:\n",
    "        print(polygon)\n",
    "        coords = np.array([list(zip(x,y)) for x,y in [polygon[0]]], dtype=np.int32)\n",
    "        contours_fixed.append(coords)\n",
    "    contours_fixed = np.array(contours_fixed)\n",
    "    return contours_fixed\n",
    "\n",
    "\n",
    "def adjust_contours(contour, crop_x, crop_y):\n",
    "\n",
    "    for i, xy in enumerate(contour):\n",
    "        x = xy[0] - crop_x\n",
    "        y = xy[1] - crop_y\n",
    "        \n",
    "        \n",
    "        contour[i] = [x, y]\n",
    "    return contour"
   ],
   "metadata": {
    "collapsed": false,
    "ExecuteTime": {
     "end_time": "2024-04-15T02:00:40.092450500Z",
     "start_time": "2024-04-15T02:00:40.081450200Z"
    }
   },
   "id": "a181cf02ac284db2",
   "execution_count": 8
  },
  {
   "cell_type": "code",
   "outputs": [],
   "source": [
    "import cv2\n",
    "\n",
    "def cntarea(cnt):\n",
    "    cnt = np.array(cnt).astype(np.float32)\n",
    "    area = cv2.contourArea(cnt)\n",
    "    return area"
   ],
   "metadata": {
    "collapsed": false,
    "ExecuteTime": {
     "end_time": "2024-04-15T02:00:41.272334300Z",
     "start_time": "2024-04-15T02:00:41.260333800Z"
    }
   },
   "id": "409f01ad88ab0a9c",
   "execution_count": 9
  },
  {
   "cell_type": "code",
   "outputs": [
    {
     "data": {
      "text/plain": "array([[424.12381114, 423.16800059, 422.11184825, 421.65799083,\n        421.24063243, 421.67556895, 421.25576915, 421.21267833,\n        421.2062086 , 421.54495372, 421.19986095, 421.87283458,\n        422.42288341, 423.54177989, 424.27700938, 425.12771739,\n        426.00137462, 426.75808849, 427.92581309, 428.52456798,\n        429.60708751, 429.64969005, 430.3143629 , 430.37771739,\n        430.10891856, 429.43618907, 429.35354747, 428.42740001,\n        427.89285411, 426.87527599, 426.09317149, 425.12771739],\n       [ 75.25792572,  74.9422519 ,  74.72447846,  73.68077729,\n         72.80821869,  71.64098237,  70.9813144 ,  70.21105072,\n         69.43102143,  68.72691987,  67.58653901,  66.95616791,\n         66.16295502,  66.38243744,  65.9344394 ,  65.60851166,\n         65.8184726 ,  66.27501557,  66.02330658,  66.81432221,\n         67.2181308 ,  68.33800385,  69.17931244,  70.21105072,\n         71.20177338,  71.99571869,  73.03478119,  73.51085541,\n         74.34947846,  74.43004487,  75.06481049,  75.29308197]])"
     },
     "execution_count": 13,
     "metadata": {},
     "output_type": "execute_result"
    }
   ],
   "source": [
    "contour"
   ],
   "metadata": {
    "collapsed": false,
    "ExecuteTime": {
     "end_time": "2024-04-15T02:02:59.359183600Z",
     "start_time": "2024-04-15T02:02:59.350183500Z"
    }
   },
   "id": "bb0424af4df1ecbf",
   "execution_count": 13
  },
  {
   "cell_type": "code",
   "outputs": [
    {
     "name": "stdout",
     "output_type": "stream",
     "text": [
      "\\\\10.162.80.16\\Andre_expansion\\data\\PDAC purity\\NDPI\\pdac purity\\StarDist_2_23_24\\ndpi images\\cropped_nucl_seg\\PD_14_1F_cropped.json\n",
      "\\\\10.162.80.16\\Andre_expansion\\data\\PDAC purity\\NDPI\\pdac purity\\StarDist_2_23_24\\ndpi images\\cropped_nucl_seg\\PD_23_4O_cropped.json\n",
      "\\\\10.162.80.16\\Andre_expansion\\data\\PDAC purity\\NDPI\\pdac purity\\StarDist_2_23_24\\ndpi images\\cropped_nucl_seg\\PD_29_3M_cropped.json\n",
      "\\\\10.162.80.16\\Andre_expansion\\data\\PDAC purity\\NDPI\\pdac purity\\StarDist_2_23_24\\ndpi images\\cropped_nucl_seg\\PD_30_3D_cropped.json\n",
      "\\\\10.162.80.16\\Andre_expansion\\data\\PDAC purity\\NDPI\\pdac purity\\StarDist_2_23_24\\ndpi images\\cropped_nucl_seg\\PD_34_3L_cropped.json\n",
      "\\\\10.162.80.16\\Andre_expansion\\data\\PDAC purity\\NDPI\\pdac purity\\StarDist_2_23_24\\ndpi images\\cropped_nucl_seg\\PD_36_5O_cropped.json\n",
      "\\\\10.162.80.16\\Andre_expansion\\data\\PDAC purity\\NDPI\\pdac purity\\StarDist_2_23_24\\ndpi images\\cropped_nucl_seg\\PD_38_9R_cropped.json\n",
      "\\\\10.162.80.16\\Andre_expansion\\data\\PDAC purity\\NDPI\\pdac purity\\StarDist_2_23_24\\ndpi images\\cropped_nucl_seg\\PD_44_7HH_cropped.json\n",
      "\\\\10.162.80.16\\Andre_expansion\\data\\PDAC purity\\NDPI\\pdac purity\\StarDist_2_23_24\\ndpi images\\cropped_nucl_seg\\PD_45_4M_cropped.json\n",
      "\\\\10.162.80.16\\Andre_expansion\\data\\PDAC purity\\NDPI\\pdac purity\\StarDist_2_23_24\\ndpi images\\cropped_nucl_seg\\PD_6_3P_AMP_cropped.json\n"
     ]
    }
   ],
   "source": [
    "outpth= r'\\\\10.162.80.16\\Andre_expansion\\data\\PDAC purity\\NDPI\\pdac purity\\StarDist_2_23_24\\ndpi images\\cropped_nucl_seg\\pkl'\n",
    "\n",
    "for i, json_f_name in enumerate(jsons):\n",
    "    \n",
    "    nm = json_f_name.split('\\\\')[-1].split('.')[0]\n",
    "    \n",
    "    outnm = os.path.join(outpth, f'{nm}.pkl')\n",
    "    \n",
    "    if not os.path.exists(outnm):\n",
    "        \n",
    "        print(json_f_name)\n",
    "        \n",
    "        try:\n",
    "            segmentation_data = json.load(open(json_f_name))\n",
    "        except:\n",
    "            print(f'error reading json... Skipping {json_f_name}')\n",
    "            continue\n",
    "    \n",
    "        # centroids = [nuc['centroid'][0] for nuc in segmentation_data]\n",
    "        centroids = [nuc['centroid'] for nuc in segmentation_data]\n",
    "        contours = [nuc['contour'] for nuc in segmentation_data]\n",
    "        contours_fixed = np.array(contours)#fix_contours(contours)\n",
    "        centroids_np = np.array(centroids)  # for other formatting\n",
    "        contours_np = np.array(contours)\n",
    "    \n",
    "        np_centroids = np.array(centroids)\n",
    "        \n",
    "        areas = []\n",
    "        \n",
    "        for j in range(len(contours_fixed)):\n",
    "            \n",
    "            centroid = centroids[j]\n",
    "            contour = contours_np[j]#.transpose()  # used for other stuff, too lazy to make formatting the same\n",
    "            \n",
    "            cent_x = np_centroids[j,0]\n",
    "            cent_y = np_centroids[j,1]\n",
    "            \n",
    "            area = cntarea(contour)\n",
    "            areas.append(area)\n",
    "            \n",
    "        dat = {\n",
    "            'Centroid_x': np_centroids[:,1],\n",
    "            'Centroid_y': np_centroids[:,0],\n",
    "            'Area': areas,\n",
    "        }\n",
    "    \n",
    "        df = pd.DataFrame(dat).astype(np.float32)  # save a little space with float16 type -> Edit 2 months later, this did not save time.\n",
    "        \n",
    "        df.to_pickle(outnm)\n",
    "        #break\n",
    "    else:\n",
    "        print('skipping')"
   ],
   "metadata": {
    "collapsed": false,
    "ExecuteTime": {
     "end_time": "2024-04-15T02:05:23.491089800Z",
     "start_time": "2024-04-15T02:03:09.172886700Z"
    }
   },
   "id": "11063ea0d77376bc",
   "execution_count": 14
  },
  {
   "cell_type": "code",
   "outputs": [
    {
     "data": {
      "text/plain": "    Centroid_x  Centroid_y       Area\n0  5433.200195   86.961052  92.210693\n1  5515.200195   72.961052  85.487488\n2  5563.200195   78.961052  93.862411\n3  5585.200195   76.961052  96.084427\n4  5651.200195  108.961052  97.945976",
      "text/html": "<div>\n<style scoped>\n    .dataframe tbody tr th:only-of-type {\n        vertical-align: middle;\n    }\n\n    .dataframe tbody tr th {\n        vertical-align: top;\n    }\n\n    .dataframe thead th {\n        text-align: right;\n    }\n</style>\n<table border=\"1\" class=\"dataframe\">\n  <thead>\n    <tr style=\"text-align: right;\">\n      <th></th>\n      <th>Centroid_x</th>\n      <th>Centroid_y</th>\n      <th>Area</th>\n    </tr>\n  </thead>\n  <tbody>\n    <tr>\n      <th>0</th>\n      <td>5433.200195</td>\n      <td>86.961052</td>\n      <td>92.210693</td>\n    </tr>\n    <tr>\n      <th>1</th>\n      <td>5515.200195</td>\n      <td>72.961052</td>\n      <td>85.487488</td>\n    </tr>\n    <tr>\n      <th>2</th>\n      <td>5563.200195</td>\n      <td>78.961052</td>\n      <td>93.862411</td>\n    </tr>\n    <tr>\n      <th>3</th>\n      <td>5585.200195</td>\n      <td>76.961052</td>\n      <td>96.084427</td>\n    </tr>\n    <tr>\n      <th>4</th>\n      <td>5651.200195</td>\n      <td>108.961052</td>\n      <td>97.945976</td>\n    </tr>\n  </tbody>\n</table>\n</div>"
     },
     "execution_count": 15,
     "metadata": {},
     "output_type": "execute_result"
    }
   ],
   "source": [
    "df.head()"
   ],
   "metadata": {
    "collapsed": false,
    "ExecuteTime": {
     "end_time": "2024-04-15T02:05:56.781098300Z",
     "start_time": "2024-04-15T02:05:56.761098400Z"
    }
   },
   "id": "8828a22a3d053be2",
   "execution_count": 15
  },
  {
   "cell_type": "code",
   "outputs": [],
   "source": [
    "src = outpth\n",
    "dfs = sorted([_ for _ in os.listdir(src) if _.endswith('.pkl')])"
   ],
   "metadata": {
    "collapsed": false,
    "ExecuteTime": {
     "end_time": "2024-04-15T02:05:58.116382300Z",
     "start_time": "2024-04-15T02:05:58.104382600Z"
    }
   },
   "id": "677103373d160128",
   "execution_count": 16
  },
  {
   "cell_type": "code",
   "outputs": [
    {
     "name": "stdout",
     "output_type": "stream",
     "text": [
      "10\n",
      "['PD_14_1F_cropped.pkl', 'PD_23_4O_cropped.pkl', 'PD_29_3M_cropped.pkl', 'PD_30_3D_cropped.pkl', 'PD_34_3L_cropped.pkl', 'PD_36_5O_cropped.pkl', 'PD_38_9R_cropped.pkl', 'PD_44_7HH_cropped.pkl', 'PD_45_4M_cropped.pkl', 'PD_6_3P_AMP_cropped.pkl']\n"
     ]
    }
   ],
   "source": [
    "print(len(dfs))\n",
    "print(dfs)"
   ],
   "metadata": {
    "collapsed": false,
    "ExecuteTime": {
     "end_time": "2024-04-15T02:05:58.726150600Z",
     "start_time": "2024-04-15T02:05:58.708150700Z"
    }
   },
   "id": "4370abd028207c6",
   "execution_count": 17
  },
  {
   "cell_type": "code",
   "outputs": [],
   "source": [
    "import pickle\n",
    "from scipy.io import savemat"
   ],
   "metadata": {
    "collapsed": false,
    "ExecuteTime": {
     "end_time": "2024-04-15T02:05:59.980754300Z",
     "start_time": "2024-04-15T02:05:59.901713300Z"
    }
   },
   "id": "f2b3cbf5ebca209a",
   "execution_count": 18
  },
  {
   "cell_type": "code",
   "outputs": [
    {
     "name": "stdout",
     "output_type": "stream",
     "text": [
      "Saving: PD_14_1F_cropped.pkl\n",
      "\\\\10.162.80.16\\Andre_expansion\\data\\PDAC purity\\NDPI\\pdac purity\\StarDist_2_23_24\\ndpi images\\cropped_nucl_seg\\mat\\PD_14_1F_cropped.mat\n",
      "Saving: PD_23_4O_cropped.pkl\n",
      "\\\\10.162.80.16\\Andre_expansion\\data\\PDAC purity\\NDPI\\pdac purity\\StarDist_2_23_24\\ndpi images\\cropped_nucl_seg\\mat\\PD_23_4O_cropped.mat\n",
      "Saving: PD_29_3M_cropped.pkl\n",
      "\\\\10.162.80.16\\Andre_expansion\\data\\PDAC purity\\NDPI\\pdac purity\\StarDist_2_23_24\\ndpi images\\cropped_nucl_seg\\mat\\PD_29_3M_cropped.mat\n",
      "Saving: PD_30_3D_cropped.pkl\n",
      "\\\\10.162.80.16\\Andre_expansion\\data\\PDAC purity\\NDPI\\pdac purity\\StarDist_2_23_24\\ndpi images\\cropped_nucl_seg\\mat\\PD_30_3D_cropped.mat\n",
      "Saving: PD_34_3L_cropped.pkl\n",
      "\\\\10.162.80.16\\Andre_expansion\\data\\PDAC purity\\NDPI\\pdac purity\\StarDist_2_23_24\\ndpi images\\cropped_nucl_seg\\mat\\PD_34_3L_cropped.mat\n",
      "Saving: PD_36_5O_cropped.pkl\n",
      "\\\\10.162.80.16\\Andre_expansion\\data\\PDAC purity\\NDPI\\pdac purity\\StarDist_2_23_24\\ndpi images\\cropped_nucl_seg\\mat\\PD_36_5O_cropped.mat\n",
      "Saving: PD_38_9R_cropped.pkl\n",
      "\\\\10.162.80.16\\Andre_expansion\\data\\PDAC purity\\NDPI\\pdac purity\\StarDist_2_23_24\\ndpi images\\cropped_nucl_seg\\mat\\PD_38_9R_cropped.mat\n",
      "Saving: PD_44_7HH_cropped.pkl\n",
      "\\\\10.162.80.16\\Andre_expansion\\data\\PDAC purity\\NDPI\\pdac purity\\StarDist_2_23_24\\ndpi images\\cropped_nucl_seg\\mat\\PD_44_7HH_cropped.mat\n",
      "Saving: PD_45_4M_cropped.pkl\n",
      "\\\\10.162.80.16\\Andre_expansion\\data\\PDAC purity\\NDPI\\pdac purity\\StarDist_2_23_24\\ndpi images\\cropped_nucl_seg\\mat\\PD_45_4M_cropped.mat\n",
      "Saving: PD_6_3P_AMP_cropped.pkl\n",
      "\\\\10.162.80.16\\Andre_expansion\\data\\PDAC purity\\NDPI\\pdac purity\\StarDist_2_23_24\\ndpi images\\cropped_nucl_seg\\mat\\PD_6_3P_AMP_cropped.mat\n"
     ]
    }
   ],
   "source": [
    "for dfnm in dfs:\n",
    "    print(\"Saving: {}\".format(dfnm))\n",
    "    dst = os.path.join(*[os.path.dirname(src),'mat',dfnm.replace('pkl','mat')])\n",
    "    if os.path.exists(dst):\n",
    "        print(\"mat already exists, skipping the file ID {}\".format(dfnm))\n",
    "        continue\n",
    "        \n",
    "    with open(os.path.join(src, dfnm), 'rb') as f:\n",
    "        df = pickle.load(f)\n",
    "\n",
    "    # df = pd.read_pickle(os.path.join(src,dfnm))\n",
    "    # df = df[['Centroid_x', 'Centroid_y']]\n",
    "    col_names = df.columns.tolist()\n",
    "    df = [_ for _ in df.to_numpy()]\n",
    "    df = np.array(df)\n",
    "    print(dst)\n",
    "    \n",
    "    savemat(dst, {'xy':df})"
   ],
   "metadata": {
    "collapsed": false,
    "ExecuteTime": {
     "end_time": "2024-04-15T02:06:03.861685900Z",
     "start_time": "2024-04-15T02:06:01.003918300Z"
    }
   },
   "id": "dca0668259a1cc16",
   "execution_count": 19
  },
  {
   "cell_type": "code",
   "outputs": [],
   "source": [],
   "metadata": {
    "collapsed": false
   },
   "id": "dd8b712b94eca0c8"
  }
 ],
 "metadata": {
  "kernelspec": {
   "display_name": "Python 3",
   "language": "python",
   "name": "python3"
  },
  "language_info": {
   "codemirror_mode": {
    "name": "ipython",
    "version": 2
   },
   "file_extension": ".py",
   "mimetype": "text/x-python",
   "name": "python",
   "nbconvert_exporter": "python",
   "pygments_lexer": "ipython2",
   "version": "2.7.6"
  }
 },
 "nbformat": 4,
 "nbformat_minor": 5
}
