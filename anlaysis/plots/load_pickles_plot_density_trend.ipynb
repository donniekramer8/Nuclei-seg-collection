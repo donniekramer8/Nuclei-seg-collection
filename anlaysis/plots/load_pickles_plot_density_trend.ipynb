{
 "cells": [
  {
   "cell_type": "code",
   "execution_count": 1,
   "id": "initial_id",
   "metadata": {
    "collapsed": true,
    "ExecuteTime": {
     "end_time": "2024-02-05T20:41:23.491647300Z",
     "start_time": "2024-02-05T20:41:23.141711900Z"
    }
   },
   "outputs": [],
   "source": [
    "import pickle\n",
    "import numpy as np\n",
    "import matplotlib.pyplot as plt"
   ]
  },
  {
   "cell_type": "code",
   "outputs": [],
   "source": [
    "pth_pickle = r'\\\\10.162.80.16\\Andre_expansion\\data\\monkey_fetus\\cell_density_validation\\cell_class_dict_counts_v2.pkl'\n",
    "\n",
    "with open(pth_pickle, 'rb') as file:\n",
    "    combined_im_stack = pickle.load(file)"
   ],
   "metadata": {
    "collapsed": false,
    "ExecuteTime": {
     "end_time": "2024-02-05T20:41:24.522225900Z",
     "start_time": "2024-02-05T20:41:24.473221900Z"
    }
   },
   "id": "5a1b53b47162a672",
   "execution_count": 2
  },
  {
   "cell_type": "code",
   "outputs": [],
   "source": [
    "pth_pickle = r'\\\\10.162.80.16\\Andre_expansion\\data\\monkey_fetus\\cell_density_validation\\cell_class_dict_counts_v2.pkl'\n",
    "\n",
    "with open(pth_pickle, 'rb') as file:\n",
    "    combined_im_stack = pickle.load(file)"
   ],
   "metadata": {
    "collapsed": false
   },
   "id": "6e6e18b1e66b2303"
  },
  {
   "cell_type": "code",
   "outputs": [],
   "source": [
    "noise = ['noise_Noise'] # 0 \n",
    "adrenal = ['adrenal_Stroma', 'adrenal_Cortex', 'adrenal_FetalZone', 'adrenal_Endothelial', 'adrenal_Cells', 'adrenal_Noise'] # 1, 2, 3, 4, 5, 6\n",
    "thymus = ['thymus_Thymus'] # 15\n",
    "bladder = ['bladder_bladder'] # 16  # WRONG, should be bladder = ['Bladder'], there is no bladder in this first try, i messed up\n",
    "\n",
    "bone = ['bone_ECM', 'bone_Limbs', 'bone_Spine', 'bone_Ribs', 'bone_Notochord', 'bone_Hyoid', 'bone_Pharyngeal'] # 101, 102, 103, 104, 105, 106, 107\n",
    "brain = ['brain_Non_tissue', 'brain_Ventricular', 'brain_Stroma', 'brain_Subventricular', 'brain_Marginal_Layer', 'brain_Intermediate', 'brain_Cortical_Plate', 'brain_Choroid_Plexus', 'brain_Pituitary', 'brain_Neural_Canal', 'brain_Ganglion', 'brain_Nerve'] # 201, 202, 203, 204, 205, 206, 207, 208, 209, 210, 211, 212\n",
    "ear = ['ear_Cochlea', 'ear_Nontissue', 'ear_Nerve', 'ear_Semicircular_Canals', 'ear_Cochlear_Ducts'] # 301, 302, 303, 304, 305\n",
    "ecm = ['ecm_Skin_Epithelium', 'ecm_Mesoderm', 'ecm_Blood_Vessels', 'ecm_Noise', 'ecm_Muscle', 'ecm_Condensed_Mesenchyme'] # 401, 402, 403, 404, 405, 406\n",
    "eye = ['eye_RPE', 'eye_Outer_retina', 'eye_Inner_retina', 'eye_Lens_epithelium', 'eye_Lens_fibers', 'eye_Nerve', 'eye_Vasculature', 'eye_Non_tissue', 'eye_ECM', 'eye_BP'] # 501, 502, 503, 504, 505, 506, 507, 508, 509, 510\n",
    "gi = ['gi_Esophagus', 'gi_Stomach', 'gi_Small_Intestines', 'gi_Large_Intestines', 'gi_ECM', 'gi_Nontissue', 'gi_Ducts'] # 601, 602, 603, 604, 605, 606, 607\n",
    "gonads = ['gonads_CondensedMesenchyme', 'gonads_Endothelial', 'gonads_Noise'] # 701, 702, 703\n",
    "heart = ['heart_Ventricular_Myocardium', 'heart_Atria', 'heart_Trabeculae', 'heart_Valves', 'heart_Large_Vessel', 'heart_Noise', 'heart_ECM'] # 801, 802, 803, 804, 805, 806, 807\n",
    "kidney = ['kidney_uretericTree', 'kidney_renalVesicle', 'kidney_condensedMesenchyme', 'kidney_looseStroma', 'kidney_nonTissue'] # 901, 902, 903, 904, 905\n",
    "liver = ['liver_blood_vessels', 'liver_Liver_ECM', 'liver_Noise', 'liver_Stroma', 'liver_Gallbladder'] # 1001, 1002, 1003, 1004, 1005\n",
    "lungs = ['lungs_bronchioles', 'lungs_vasculature', 'lungs_nontissue', 'lungs_collagen'] # 1101, 1102, 1103, 1104\n",
    "mesokidney = ['mesokidney_Glomerulus', 'mesokidney_Mesonephric_Tubule', 'mesokidney_Bowman_Capsule', 'mesokidney_Mesonephric_Duct', 'mesokidney_ECM', 'mesokidney_Paramesonephric_Duct', 'mesokidney_nontissue'] # 1201, 1202, 1203, 1204, 1205, 1206, 1207\n",
    "thyroid = ['thyroid_Lobe', 'thyroid_Isthmus', 'thyroid_ECM', 'thyroid_Noise'] # 1301, 1302, 1303, 1304 # don't have bc I typed [15,16] instead of [15,17], need to run code for 5 hours again now\n",
    "\n",
    "classes = noise + adrenal + thymus + bladder + bone + brain + ear + ecm + eye + gi + gonads + heart + kidney + liver + lungs + mesokidney + thyroid\n",
    "print(classes)\n",
    "print(len(classes))"
   ],
   "metadata": {
    "collapsed": false
   },
   "id": "795e2b511264a35"
  }
 ],
 "metadata": {
  "kernelspec": {
   "display_name": "Python 3",
   "language": "python",
   "name": "python3"
  },
  "language_info": {
   "codemirror_mode": {
    "name": "ipython",
    "version": 2
   },
   "file_extension": ".py",
   "mimetype": "text/x-python",
   "name": "python",
   "nbconvert_exporter": "python",
   "pygments_lexer": "ipython2",
   "version": "2.7.6"
  }
 },
 "nbformat": 4,
 "nbformat_minor": 5
}
