{
 "cells": [
  {
   "cell_type": "code",
   "execution_count": 15,
   "metadata": {
    "collapsed": true,
    "ExecuteTime": {
     "end_time": "2024-03-29T20:41:04.095817900Z",
     "start_time": "2024-03-29T20:41:04.052029800Z"
    }
   },
   "outputs": [],
   "source": [
    "import sys\n",
    "sys.path.insert(1, r'C:\\Users\\Donald\\PycharmProjects\\monkey_nuc_segment\\stardist\\monkey')\n",
    "from functions import TileSetScorer, ScoringSubroutine\n",
    "#from scoring_for_donald import TileSetScorer, ScoringSubroutine"
   ]
  },
  {
   "cell_type": "code",
   "execution_count": 16,
   "metadata": {
    "collapsed": false,
    "ExecuteTime": {
     "end_time": "2024-03-29T20:41:06.912233Z",
     "start_time": "2024-03-29T20:41:06.904813700Z"
    }
   },
   "outputs": [],
   "source": [
    "from __future__ import print_function, unicode_literals, absolute_import, division\n",
    "import sys\n",
    "import numpy as np\n",
    "import matplotlib\n",
    "import json\n",
    "matplotlib.rcParams[\"image.interpolation\"] = 'nearest'\n",
    "import matplotlib.pyplot as plt\n",
    "import os\n",
    "from PIL import Image\n",
    "import tensorflow as tf\n",
    "from glob import glob\n",
    "from tqdm import tqdm\n",
    "from tifffile import imread\n",
    "import struct\n",
    "import pandas as pd\n",
    "import cv2\n",
    "from csbdeep.utils import Path, normalize\n",
    "from glob import glob\n",
    "\n",
    "from stardist import fill_label_holes, random_label_cmap, calculate_extents, gputools_available\n",
    "from stardist.models import Config2D, StarDist2D, StarDistData2D"
   ]
  },
  {
   "cell_type": "code",
   "execution_count": 17,
   "metadata": {
    "collapsed": false,
    "ExecuteTime": {
     "end_time": "2024-03-29T20:41:07.139831800Z",
     "start_time": "2024-03-29T20:41:07.117665700Z"
    }
   },
   "outputs": [],
   "source": [
    "def load_model(model_path: str) -> StarDist2D:\n",
    "    # Load StarDist model weights, configurations, and thresholds\n",
    "    with open(model_path + '\\\\config.json', 'r') as f:\n",
    "        config = json.load(f)\n",
    "    with open(model_path + '\\\\thresholds.json', 'r') as f:\n",
    "        thresh = json.load(f)\n",
    "    model = StarDist2D(config=Config2D(**config), basedir=model_path, name='offshoot_model')\n",
    "    model.thresholds = thresh\n",
    "    print('Overriding defaults:', model.thresholds, '\\n')\n",
    "    model.load_weights(model_path + '\\\\weights_best.h5')\n",
    "    return model"
   ]
  },
  {
   "cell_type": "code",
   "execution_count": 18,
   "metadata": {
    "collapsed": false,
    "ExecuteTime": {
     "end_time": "2024-03-29T20:41:08.543343500Z",
     "start_time": "2024-03-29T20:41:07.477575400Z"
    }
   },
   "outputs": [
    {
     "name": "stdout",
     "output_type": "stream",
     "text": [
      "Using default values: prob_thresh=0.5, nms_thresh=0.4.\n",
      "Overriding defaults: Thresholds(prob=0.6883699162882626, nms=0.3) \n"
     ]
    }
   ],
   "source": [
    "model = load_model(r'\\\\10.99.68.178\\andreex\\data\\Stardist\\12_12_hyperparameter_models\\monkey_12_12_2023_lr_0.001_epochs_400_pt_10_gaus_ratio_0')"
   ]
  },
  {
   "cell_type": "code",
   "execution_count": 19,
   "metadata": {
    "collapsed": false,
    "ExecuteTime": {
     "end_time": "2024-03-29T20:41:11.590969300Z",
     "start_time": "2024-03-29T20:41:08.545344100Z"
    }
   },
   "outputs": [],
   "source": [
    "# load tile images and masks\n",
    "pthHE = r'\\\\10.99.68.178\\andreex\\data\\Stardist\\Testing\\monkey\\tiles'\n",
    "pthmasks = r'\\\\10.99.68.178\\andreex\\data\\Stardist\\Testing\\monkey\\qupath\\ground_truth\\masks'\n",
    "\n",
    "HE_tiles_pths = sorted(glob(os.path.join(pthHE,'*.tif')))\n",
    "mask_tiles_pths = sorted(glob(os.path.join(pthmasks,'*.tif')))\n",
    "\n",
    "HE_tiles = list(map(imread,HE_tiles_pths))\n",
    "mask_tiles = list(map(imread,mask_tiles_pths))\n",
    "\n",
    "HE_tiles_default = [normalize(x) for x in HE_tiles]  # just divide by 255 to get into (0,1) range\n",
    "mask_tiles_default = [fill_label_holes(y) for y in mask_tiles]  # fills holes in annotations if there are any\n",
    "\n",
    "HE_tiles = [x/255 for x in HE_tiles]  # just divide by 255 to get into (0,1) range\n",
    "mask_tiles = [fill_label_holes(y) for y in mask_tiles]  # fills holes in annotations if there are any"
   ]
  },
  {
   "cell_type": "code",
   "execution_count": 20,
   "metadata": {
    "collapsed": false,
    "ExecuteTime": {
     "end_time": "2024-03-29T20:41:11.606969100Z",
     "start_time": "2024-03-29T20:41:11.591969100Z"
    }
   },
   "outputs": [],
   "source": [
    "def get_predictions(model):\n",
    "    mask_val_pred = [model.predict_instances(x, n_tiles=model._guess_n_tiles(x), show_tile_progress=False)[0]\n",
    "              for x in tqdm(HE_tiles)]\n",
    "\n",
    "    return mask_val_pred"
   ]
  },
  {
   "cell_type": "code",
   "execution_count": 21,
   "metadata": {
    "collapsed": false,
    "ExecuteTime": {
     "end_time": "2024-03-29T20:41:37.220787500Z",
     "start_time": "2024-03-29T20:41:11.607969200Z"
    }
   },
   "outputs": [
    {
     "name": "stderr",
     "output_type": "stream",
     "text": [
      "100%|██████████| 36/36 [00:01<00:00, 18.53it/s]\n"
     ]
    }
   ],
   "source": [
    "# variables for plotting and stuff\n",
    "nms = [os.path.basename(file) for file in HE_tiles_pths]\n",
    "\n",
    "taus = [0.5, 0.6, 0.7, 0.8, 0.9]\n",
    "\n",
    "\n",
    "\n",
    "predictions = get_predictions(model)\n",
    "\n",
    "scores = []\n",
    "\n",
    "for tau in taus:\n",
    "    score = TileSetScorer(nms, mask_tiles, predictions, [tau])\n",
    "    scores.append(score)\n",
    "\n",
    "results = [score.score_set() for score in scores]"
   ]
  },
  {
   "cell_type": "code",
   "execution_count": 22,
   "metadata": {
    "ExecuteTime": {
     "end_time": "2024-03-29T20:41:37.235527200Z",
     "start_time": "2024-03-29T20:41:37.221787600Z"
    }
   },
   "outputs": [
    {
     "data": {
      "text/plain": "                             Image  Tau       IoU   TP  FP  FN  Precision  \\\n0   monkey_fetus_40_0272_eyes1.tif  0.5  0.756306  170  16  28   0.913978   \n1    monkey_fetus_40_0273_bone.tif  0.5  0.721545   40   6  16   0.869565   \n2   monkey_fetus_40_0281_eyes2.tif  0.5  0.691126  170  15  71   0.918919   \n3  monkey_fetus_40_0308_liver1.tif  0.5  0.813713  144   6  11   0.960000   \n4   monkey_fetus_40_0323_ears1.tif  0.5  0.690478  180  54  52   0.769231   \n\n     Recall  Avg Precision  F1 Score  Seg Quality  Pan Quality  \n0  0.858586       0.794393  0.885417     0.825047     0.730511  \n1  0.714286       0.645161  0.784314     0.789210     0.618988  \n2  0.705394       0.664062  0.798122     0.764678     0.610306  \n3  0.929032       0.894410  0.944262     0.844399     0.797334  \n4  0.775862       0.629371  0.772532     0.732129     0.565593  ",
      "text/html": "<div>\n<style scoped>\n    .dataframe tbody tr th:only-of-type {\n        vertical-align: middle;\n    }\n\n    .dataframe tbody tr th {\n        vertical-align: top;\n    }\n\n    .dataframe thead th {\n        text-align: right;\n    }\n</style>\n<table border=\"1\" class=\"dataframe\">\n  <thead>\n    <tr style=\"text-align: right;\">\n      <th></th>\n      <th>Image</th>\n      <th>Tau</th>\n      <th>IoU</th>\n      <th>TP</th>\n      <th>FP</th>\n      <th>FN</th>\n      <th>Precision</th>\n      <th>Recall</th>\n      <th>Avg Precision</th>\n      <th>F1 Score</th>\n      <th>Seg Quality</th>\n      <th>Pan Quality</th>\n    </tr>\n  </thead>\n  <tbody>\n    <tr>\n      <th>0</th>\n      <td>monkey_fetus_40_0272_eyes1.tif</td>\n      <td>0.5</td>\n      <td>0.756306</td>\n      <td>170</td>\n      <td>16</td>\n      <td>28</td>\n      <td>0.913978</td>\n      <td>0.858586</td>\n      <td>0.794393</td>\n      <td>0.885417</td>\n      <td>0.825047</td>\n      <td>0.730511</td>\n    </tr>\n    <tr>\n      <th>1</th>\n      <td>monkey_fetus_40_0273_bone.tif</td>\n      <td>0.5</td>\n      <td>0.721545</td>\n      <td>40</td>\n      <td>6</td>\n      <td>16</td>\n      <td>0.869565</td>\n      <td>0.714286</td>\n      <td>0.645161</td>\n      <td>0.784314</td>\n      <td>0.789210</td>\n      <td>0.618988</td>\n    </tr>\n    <tr>\n      <th>2</th>\n      <td>monkey_fetus_40_0281_eyes2.tif</td>\n      <td>0.5</td>\n      <td>0.691126</td>\n      <td>170</td>\n      <td>15</td>\n      <td>71</td>\n      <td>0.918919</td>\n      <td>0.705394</td>\n      <td>0.664062</td>\n      <td>0.798122</td>\n      <td>0.764678</td>\n      <td>0.610306</td>\n    </tr>\n    <tr>\n      <th>3</th>\n      <td>monkey_fetus_40_0308_liver1.tif</td>\n      <td>0.5</td>\n      <td>0.813713</td>\n      <td>144</td>\n      <td>6</td>\n      <td>11</td>\n      <td>0.960000</td>\n      <td>0.929032</td>\n      <td>0.894410</td>\n      <td>0.944262</td>\n      <td>0.844399</td>\n      <td>0.797334</td>\n    </tr>\n    <tr>\n      <th>4</th>\n      <td>monkey_fetus_40_0323_ears1.tif</td>\n      <td>0.5</td>\n      <td>0.690478</td>\n      <td>180</td>\n      <td>54</td>\n      <td>52</td>\n      <td>0.769231</td>\n      <td>0.775862</td>\n      <td>0.629371</td>\n      <td>0.772532</td>\n      <td>0.732129</td>\n      <td>0.565593</td>\n    </tr>\n  </tbody>\n</table>\n</div>"
     },
     "execution_count": 22,
     "metadata": {},
     "output_type": "execute_result"
    }
   ],
   "source": [
    "results[0].head()"
   ]
  },
  {
   "cell_type": "code",
   "execution_count": 23,
   "metadata": {
    "collapsed": false,
    "ExecuteTime": {
     "end_time": "2024-03-29T20:41:37.267212300Z",
     "start_time": "2024-03-29T20:41:37.236525600Z"
    }
   },
   "outputs": [],
   "source": [
    "def find_first_unique_indices(lst):\n",
    "    unique_indices = {}\n",
    "    result = []\n",
    "\n",
    "    for i, value in enumerate(lst):\n",
    "        if value not in unique_indices:\n",
    "            unique_indices[value] = i\n",
    "\n",
    "    for value in lst:\n",
    "        result.append(unique_indices[value])\n",
    "\n",
    "    return result"
   ]
  },
  {
   "cell_type": "code",
   "execution_count": 24,
   "metadata": {
    "collapsed": false,
    "ExecuteTime": {
     "end_time": "2024-03-29T20:41:37.282813600Z",
     "start_time": "2024-03-29T20:41:37.269100900Z"
    }
   },
   "outputs": [],
   "source": [
    "def get_f1(tp, fp, fn):\n",
    "    precision = tp / (tp + fp)\n",
    "    recall = tp / (tp + fn)\n",
    "    avg_precision = tp / (tp + fp + fn)\n",
    "    f1 = 2 * precision * recall / (precision + recall)\n",
    "    return precision, recall, avg_precision, f1"
   ]
  },
  {
   "cell_type": "code",
   "execution_count": 25,
   "metadata": {
    "collapsed": false,
    "ExecuteTime": {
     "end_time": "2024-03-29T20:41:37.299336700Z",
     "start_time": "2024-03-29T20:41:37.286813500Z"
    }
   },
   "outputs": [],
   "source": [
    "def get_organ_f1(result):\n",
    "    names = result['Image']\n",
    "\n",
    "    names = [name.split(\".\")[0][21:] for name in names]\n",
    "\n",
    "    for i in range(len(names)):\n",
    "        #if len(names[i]) > 6:\n",
    "        names[i] = names[i][:2]\n",
    "\n",
    "    result_list = find_first_unique_indices(names)\n",
    "\n",
    "    f1_scores = result['F1 Score']\n",
    "\n",
    "    seen = []\n",
    "    names = []\n",
    "\n",
    "    raw_vals = result[['Image', 'TP', 'FP', 'FN', 'Avg Precision']]\n",
    "\n",
    "    TPs = [0 for _ in range(len(raw_vals))]\n",
    "    FPs = [0 for _ in range(len(raw_vals))]\n",
    "    FNs = [0 for _ in range(len(raw_vals))]\n",
    "    APs = [0 for _ in range(len(raw_vals))]\n",
    "\n",
    "    for i in range(len(raw_vals)):\n",
    "        row = raw_vals.iloc[i]\n",
    "        num = result_list[i]\n",
    "        if num not in seen:\n",
    "            names.append(raw_vals['Image'][i])\n",
    "            seen.append(num)\n",
    "\n",
    "        TPs[num] += row['TP']\n",
    "        FPs[num] += row['FP']\n",
    "        FNs[num] += row['FN']\n",
    "        APs[num] += row['Avg Precision']\n",
    "\n",
    "    organ_names = []\n",
    "    for i in range(len(names)):\n",
    "        nm = names[i][21:-4]\n",
    "        if nm[-1] == '1':\n",
    "            nm = nm[:-1]\n",
    "        organ_names.append(nm)\n",
    "\n",
    "    TPs = [val for val in TPs if val != 0]\n",
    "    FPs = [val for val in FPs if val != 0]\n",
    "    FNs = [val for val in FNs if val != 0]\n",
    "    APs = [val for val in APs if val != 0]\n",
    "\n",
    "    if [len(organ_names), len(TPs), len(FPs), len(FNs)] != [len(organ_names), len(organ_names), len(organ_names), len(organ_names)]:\n",
    "        print('skipped')\n",
    "        return 0\n",
    "\n",
    "    new_df = pd.DataFrame({'Organ': organ_names, 'TP': TPs, 'FP': FPs, 'FN': FNs, 'AP': APs})\n",
    "\n",
    "    precisions = []\n",
    "    recalls = []\n",
    "    f1s = []\n",
    "    APs = []\n",
    "\n",
    "    for i in range(len(new_df)):\n",
    "        row = new_df.iloc[i]\n",
    "\n",
    "        tp = row['TP']\n",
    "        fp = row['FP']\n",
    "        fn = row['FN']\n",
    "\n",
    "        precision, recall, avg_precision, f1 = get_f1(tp, fp, fn)\n",
    "        precisions.append(precision)\n",
    "        recalls.append(recall)\n",
    "        f1s.append(f1)\n",
    "        APs.append(avg_precision)\n",
    "\n",
    "    new_df['Recall'] = recalls\n",
    "    new_df['Precision'] = precisions\n",
    "    new_df['F1'] = f1s\n",
    "    new_df['AP'] = APs\n",
    "\n",
    "    return new_df"
   ]
  },
  {
   "cell_type": "code",
   "execution_count": 26,
   "metadata": {
    "ExecuteTime": {
     "end_time": "2024-03-29T20:41:37.314109Z",
     "start_time": "2024-03-29T20:41:37.311108900Z"
    }
   },
   "outputs": [],
   "source": [
    "dfs = []\n",
    "for result in results:\n",
    "    df = get_organ_f1(result)\n",
    "    dfs.append(df)"
   ]
  },
  {
   "cell_type": "code",
   "execution_count": 27,
   "metadata": {
    "ExecuteTime": {
     "end_time": "2024-03-29T20:41:37.329812200Z",
     "start_time": "2024-03-29T20:41:37.315109Z"
    }
   },
   "outputs": [
    {
     "data": {
      "text/plain": "   Organ   TP  FP   FN        AP    Recall  Precision        F1\n0   eyes  340  31   99  0.723404  0.774487   0.916442  0.839506\n1   bone  117  11   49  0.661017  0.704819   0.914062  0.795918\n2  liver  293  26   79  0.736181  0.787634   0.918495  0.848046\n3   ears  274  70  106  0.608889  0.721053   0.796512  0.756906\n4  brain  869  96  252  0.714051  0.775201   0.900518  0.833174",
      "text/html": "<div>\n<style scoped>\n    .dataframe tbody tr th:only-of-type {\n        vertical-align: middle;\n    }\n\n    .dataframe tbody tr th {\n        vertical-align: top;\n    }\n\n    .dataframe thead th {\n        text-align: right;\n    }\n</style>\n<table border=\"1\" class=\"dataframe\">\n  <thead>\n    <tr style=\"text-align: right;\">\n      <th></th>\n      <th>Organ</th>\n      <th>TP</th>\n      <th>FP</th>\n      <th>FN</th>\n      <th>AP</th>\n      <th>Recall</th>\n      <th>Precision</th>\n      <th>F1</th>\n    </tr>\n  </thead>\n  <tbody>\n    <tr>\n      <th>0</th>\n      <td>eyes</td>\n      <td>340</td>\n      <td>31</td>\n      <td>99</td>\n      <td>0.723404</td>\n      <td>0.774487</td>\n      <td>0.916442</td>\n      <td>0.839506</td>\n    </tr>\n    <tr>\n      <th>1</th>\n      <td>bone</td>\n      <td>117</td>\n      <td>11</td>\n      <td>49</td>\n      <td>0.661017</td>\n      <td>0.704819</td>\n      <td>0.914062</td>\n      <td>0.795918</td>\n    </tr>\n    <tr>\n      <th>2</th>\n      <td>liver</td>\n      <td>293</td>\n      <td>26</td>\n      <td>79</td>\n      <td>0.736181</td>\n      <td>0.787634</td>\n      <td>0.918495</td>\n      <td>0.848046</td>\n    </tr>\n    <tr>\n      <th>3</th>\n      <td>ears</td>\n      <td>274</td>\n      <td>70</td>\n      <td>106</td>\n      <td>0.608889</td>\n      <td>0.721053</td>\n      <td>0.796512</td>\n      <td>0.756906</td>\n    </tr>\n    <tr>\n      <th>4</th>\n      <td>brain</td>\n      <td>869</td>\n      <td>96</td>\n      <td>252</td>\n      <td>0.714051</td>\n      <td>0.775201</td>\n      <td>0.900518</td>\n      <td>0.833174</td>\n    </tr>\n  </tbody>\n</table>\n</div>"
     },
     "execution_count": 27,
     "metadata": {},
     "output_type": "execute_result"
    }
   ],
   "source": [
    "dfs[0].head()"
   ]
  },
  {
   "cell_type": "code",
   "execution_count": 28,
   "metadata": {
    "ExecuteTime": {
     "end_time": "2024-03-29T20:41:37.352812300Z",
     "start_time": "2024-03-29T20:41:37.330812200Z"
    }
   },
   "outputs": [],
   "source": [
    "def bulk_f1(df):    \n",
    "    tp = 0\n",
    "    fp = 0\n",
    "    fn = 0\n",
    "\n",
    "    for i in range(len(df)):\n",
    "        row = df.iloc[i]\n",
    "\n",
    "        tp += row['TP']\n",
    "        fp += row['FP']\n",
    "        fn += row['FN']\n",
    "\n",
    "    #print(tp)\n",
    "    #print(fp)\n",
    "    #print(fn)\n",
    "\n",
    "    precision, recall, avg_precision, f1 = get_f1(tp, fp, fn)\n",
    "\n",
    "    return f1"
   ]
  },
  {
   "cell_type": "code",
   "execution_count": 29,
   "metadata": {
    "ExecuteTime": {
     "end_time": "2024-03-29T20:41:37.360053Z",
     "start_time": "2024-03-29T20:41:37.346812Z"
    }
   },
   "outputs": [],
   "source": [
    "def mean_avg_precision(df):    \n",
    "    MAP = 0\n",
    "\n",
    "    for i in range(len(df)):\n",
    "        row = df.iloc[i]\n",
    "\n",
    "        MAP += row['AP']\n",
    "\n",
    "    MAP = MAP/len(df)\n",
    "\n",
    "    return MAP"
   ]
  },
  {
   "cell_type": "code",
   "execution_count": 30,
   "metadata": {
    "ExecuteTime": {
     "end_time": "2024-03-29T20:41:37.375793300Z",
     "start_time": "2024-03-29T20:41:37.364052800Z"
    }
   },
   "outputs": [],
   "source": [
    "f1s = []\n",
    "for df in dfs:\n",
    "    f1 = bulk_f1(df)\n",
    "    f1s.append(f1)"
   ]
  },
  {
   "cell_type": "code",
   "execution_count": 31,
   "metadata": {
    "ExecuteTime": {
     "end_time": "2024-03-29T20:41:37.391884300Z",
     "start_time": "2024-03-29T20:41:37.375793300Z"
    }
   },
   "outputs": [],
   "source": [
    "mAPs = []\n",
    "for df in dfs:\n",
    "    mAP = mean_avg_precision(df)\n",
    "    mAPs.append(mAP)"
   ]
  },
  {
   "cell_type": "code",
   "execution_count": 32,
   "metadata": {
    "ExecuteTime": {
     "end_time": "2024-03-29T20:41:37.407685Z",
     "start_time": "2024-03-29T20:41:37.392884700Z"
    }
   },
   "outputs": [
    {
     "name": "stdout",
     "output_type": "stream",
     "text": [
      "[0.5, 0.6, 0.7, 0.8, 0.9]\n",
      "[0.6622550218559431, 0.5911165634917219, 0.4679371945161191, 0.2818643935075125, 0.040305406398221645]\n"
     ]
    }
   ],
   "source": [
    "print(taus)\n",
    "print(mAPs)"
   ]
  },
  {
   "cell_type": "code",
   "execution_count": 33,
   "metadata": {
    "ExecuteTime": {
     "end_time": "2024-03-29T20:41:37.423274300Z",
     "start_time": "2024-03-29T20:41:37.408415600Z"
    }
   },
   "outputs": [
    {
     "name": "stdout",
     "output_type": "stream",
     "text": [
      "[0.5, 0.6, 0.7, 0.8, 0.9]\n",
      "[0.7909595431512908, 0.7355046240450342, 0.6261862634711276, 0.42355022922866564, 0.07431834633636289]\n"
     ]
    }
   ],
   "source": [
    "print(taus)\n",
    "print(f1s)"
   ]
  },
  {
   "cell_type": "code",
   "execution_count": 34,
   "metadata": {
    "ExecuteTime": {
     "end_time": "2024-03-29T20:41:37.582179200Z",
     "start_time": "2024-03-29T20:41:37.424274200Z"
    }
   },
   "outputs": [
    {
     "data": {
      "text/plain": "<Figure size 640x480 with 1 Axes>",
      "image/png": "[encoded data removed]"
     },
     "metadata": {},
     "output_type": "display_data"
    }
   ],
   "source": [
    "plt.plot(taus, f1s, marker='o', linestyle='-')\n",
    "\n",
    "# Adding labels and title\n",
    "plt.xlabel('Tau')\n",
    "plt.ylabel('Accuracy: F1 Score')\n",
    "plt.title('Accuracy of our model')\n",
    "plt.xticks(taus)\n",
    "plt.ylim(0, 1)\n",
    "plt.grid('on')\n",
    "\n",
    "# Display the plot\n",
    "plt.show()"
   ]
  },
  {
   "cell_type": "code",
   "execution_count": 35,
   "metadata": {
    "ExecuteTime": {
     "end_time": "2024-03-29T20:41:37.661671100Z",
     "start_time": "2024-03-29T20:41:37.582179200Z"
    }
   },
   "outputs": [
    {
     "data": {
      "text/plain": "<Figure size 640x480 with 1 Axes>",
      "image/png": "[encoded data removed]"
     },
     "metadata": {},
     "output_type": "display_data"
    }
   ],
   "source": [
    "plt.plot(taus, mAPs, marker='o', linestyle='-')\n",
    "\n",
    "# Adding labels and title\n",
    "plt.xlabel('Tau')\n",
    "plt.ylabel('Accuracy: mAP')\n",
    "plt.title('Accuracy of old model')\n",
    "plt.xticks(taus)\n",
    "plt.ylim(0, 1)\n",
    "plt.grid('on')\n",
    "\n",
    "# Display the plot\n",
    "plt.show()"
   ]
  },
  {
   "cell_type": "code",
   "execution_count": null,
   "metadata": {
    "ExecuteTime": {
     "end_time": "2023-12-14T21:05:37.546916800Z",
     "start_time": "2023-12-14T21:05:37.466898200Z"
    }
   },
   "outputs": [
    {
     "name": "stdout",
     "output_type": "stream",
     "text": [
      "Area under the curve: 0.1692198365642436\n"
     ]
    }
   ],
   "source": [
    "import numpy as np\n",
    "from scipy import integrate\n",
    "\n",
    "area_under_curve = integrate.trapz(mAPs, taus)\n",
    "\n",
    "print(f\"Area under the curve: {area_under_curve}\")"
   ]
  },
  {
   "cell_type": "code",
   "execution_count": null,
   "metadata": {
    "ExecuteTime": {
     "end_time": "2023-12-14T21:05:37.547913500Z",
     "start_time": "2023-12-14T21:05:37.482844600Z"
    }
   },
   "outputs": [
    {
     "data": {
      "text/plain": [
       "0.4086957159539037"
      ]
     },
     "execution_count": 23,
     "metadata": {},
     "output_type": "execute_result"
    }
   ],
   "source": [
    "np.mean(mAPs)"
   ]
  },
  {
   "cell_type": "code",
   "execution_count": null,
   "metadata": {
    "ExecuteTime": {
     "end_time": "2023-12-14T21:05:37.547913500Z",
     "start_time": "2023-12-14T21:05:37.523993100Z"
    }
   },
   "outputs": [],
   "source": []
  }
 ],
 "metadata": {
  "kernelspec": {
   "display_name": "Python 3",
   "language": "python",
   "name": "python3"
  },
  "language_info": {
   "codemirror_mode": {
    "name": "ipython",
    "version": 3
   },
   "file_extension": ".py",
   "mimetype": "text/x-python",
   "name": "python",
   "nbconvert_exporter": "python",
   "pygments_lexer": "ipython3",
   "version": "3.9.18"
  }
 },
 "nbformat": 4,
 "nbformat_minor": 0
}
