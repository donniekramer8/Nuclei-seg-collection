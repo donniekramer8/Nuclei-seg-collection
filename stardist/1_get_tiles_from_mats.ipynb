{
 "cells": [
  {
   "cell_type": "code",
   "execution_count": 1,
   "outputs": [
    {
     "ename": "FileNotFoundError",
     "evalue": "[WinError 3] The system cannot find the path specified: 'C:\\\\Users\\\\Donald\\\\Documents\\\\openslide-win64-20230414\\\\bin'",
     "output_type": "error",
     "traceback": [
      "\u001B[1;31m---------------------------------------------------------------------------\u001B[0m",
      "\u001B[1;31mFileNotFoundError\u001B[0m                         Traceback (most recent call last)",
      "Cell \u001B[1;32mIn[1], line 13\u001B[0m\n\u001B[0;32m      8\u001B[0m \u001B[38;5;66;03m# from openslide import OpenSlide\u001B[39;00m\n\u001B[0;32m     11\u001B[0m \u001B[38;5;28;01mif\u001B[39;00m \u001B[38;5;28mhasattr\u001B[39m(os, \u001B[38;5;124m'\u001B[39m\u001B[38;5;124madd_dll_directory\u001B[39m\u001B[38;5;124m'\u001B[39m):\n\u001B[0;32m     12\u001B[0m     \u001B[38;5;66;03m# Python >= 3.8 on Windows\u001B[39;00m\n\u001B[1;32m---> 13\u001B[0m     \u001B[38;5;28;01mwith\u001B[39;00m \u001B[43mos\u001B[49m\u001B[38;5;241;43m.\u001B[39;49m\u001B[43madd_dll_directory\u001B[49m\u001B[43m(\u001B[49m\u001B[43mopenslide_path\u001B[49m\u001B[43m)\u001B[49m:\n\u001B[0;32m     14\u001B[0m         \u001B[38;5;28;01mimport\u001B[39;00m \u001B[38;5;21;01mopenslide\u001B[39;00m\n\u001B[0;32m     15\u001B[0m \u001B[38;5;28;01melse\u001B[39;00m:\n",
      "File \u001B[1;32m~\\anaconda3\\envs\\stardist_gpu\\lib\\os.py:1111\u001B[0m, in \u001B[0;36madd_dll_directory\u001B[1;34m(path)\u001B[0m\n\u001B[0;32m   1101\u001B[0m \u001B[38;5;250m\u001B[39m\u001B[38;5;124;03m\"\"\"Add a path to the DLL search path.\u001B[39;00m\n\u001B[0;32m   1102\u001B[0m \n\u001B[0;32m   1103\u001B[0m \u001B[38;5;124;03mThis search path is used when resolving dependencies for imported\u001B[39;00m\n\u001B[1;32m   (...)\u001B[0m\n\u001B[0;32m   1108\u001B[0m \u001B[38;5;124;03musing it in a with statement.\u001B[39;00m\n\u001B[0;32m   1109\u001B[0m \u001B[38;5;124;03m\"\"\"\u001B[39;00m\n\u001B[0;32m   1110\u001B[0m \u001B[38;5;28;01mimport\u001B[39;00m \u001B[38;5;21;01mnt\u001B[39;00m\n\u001B[1;32m-> 1111\u001B[0m cookie \u001B[38;5;241m=\u001B[39m \u001B[43mnt\u001B[49m\u001B[38;5;241;43m.\u001B[39;49m\u001B[43m_add_dll_directory\u001B[49m\u001B[43m(\u001B[49m\u001B[43mpath\u001B[49m\u001B[43m)\u001B[49m\n\u001B[0;32m   1112\u001B[0m \u001B[38;5;28;01mreturn\u001B[39;00m _AddedDllDirectory(\n\u001B[0;32m   1113\u001B[0m     path,\n\u001B[0;32m   1114\u001B[0m     cookie,\n\u001B[0;32m   1115\u001B[0m     nt\u001B[38;5;241m.\u001B[39m_remove_dll_directory\n\u001B[0;32m   1116\u001B[0m )\n",
      "\u001B[1;31mFileNotFoundError\u001B[0m: [WinError 3] The system cannot find the path specified: 'C:\\\\Users\\\\Donald\\\\Documents\\\\openslide-win64-20230414\\\\bin'"
     ]
    }
   ],
   "source": [
    "import os\n",
    "from PIL import Image\n",
    "import numpy as np\n",
    "\n",
    "openslide_path = r'C:\\Users\\Donald\\Documents\\openslide-win64-20230414\\bin'\n",
    "\n",
    "os.environ['PATH'] = openslide_path + \";\" + os.environ['PATH']\n",
    "# from openslide import OpenSlide\n",
    "\n",
    "\n",
    "if hasattr(os, 'add_dll_directory'):\n",
    "    # Python >= 3.8 on Windows\n",
    "    with os.add_dll_directory(openslide_path):\n",
    "        import openslide\n",
    "else:\n",
    "    import openslide\n",
    "from openslide import OpenSlide"
   ],
   "metadata": {
    "collapsed": false,
    "ExecuteTime": {
     "end_time": "2023-10-31T15:33:19.589122900Z",
     "start_time": "2023-10-31T15:33:19.197799800Z"
    }
   }
  },
  {
   "cell_type": "markdown",
   "source": [
    "You need to do get crop data before running this code. I use a matlab function I made with the 2.5x or 10x tiff images.\n",
    "\n",
    "Function is here: \\\\10.99.68.178\\andreex\\students\\Donald Monkey fetus\\codes\\monkey\\crop1024_monkey.m"
   ],
   "metadata": {
    "collapsed": false
   }
  },
  {
   "cell_type": "code",
   "execution_count": 3,
   "outputs": [],
   "source": [
    "pth = r'\\\\10.99.68.178\\andreex\\data\\monkey fetus\\gestational 40\\1024tiles'  # path of ndpi files\n",
    "\n",
    "pth_mat = r'\\\\10.99.68.178\\andreex\\data\\monkey fetus\\gestational 40\\1024tiles\\10x\\matfiles'  # path .mat files with crop data (got from matlab file)\n",
    "\n",
    "crop_mats = [_ for _ in os.listdir(pth_mat) if _.endswith('mat')]\n",
    "WSIs = [_ for _ in os.listdir(pth) if _.endswith('ndpi')]"
   ],
   "metadata": {
    "collapsed": false,
    "ExecuteTime": {
     "end_time": "2023-10-24T21:23:49.234546700Z",
     "start_time": "2023-10-24T21:23:49.184490300Z"
    }
   }
  },
  {
   "cell_type": "code",
   "execution_count": 4,
   "outputs": [
    {
     "data": {
      "text/plain": "['crop_monkey_fetus_40_0105_ecm.mat',\n 'crop_monkey_fetus_40_0271_eye.mat',\n 'crop_monkey_fetus_40_0400_spinalcord.mat',\n 'crop_monkey_fetus_40_0420_brain.mat',\n 'crop_monkey_fetus_40_0432_bone.mat',\n 'crop_monkey_fetus_40_0450_heart.mat',\n 'crop_monkey_fetus_40_0730_kidney.mat']"
     },
     "execution_count": 4,
     "metadata": {},
     "output_type": "execute_result"
    }
   ],
   "source": [
    "crop_mats"
   ],
   "metadata": {
    "collapsed": false,
    "ExecuteTime": {
     "end_time": "2023-10-24T21:23:50.879894600Z",
     "start_time": "2023-10-24T21:23:50.867894900Z"
    }
   }
  },
  {
   "cell_type": "code",
   "execution_count": 5,
   "outputs": [
    {
     "data": {
      "text/plain": "['monkey_fetus_40_0105_ecm.ndpi',\n 'monkey_fetus_40_0271_eye.ndpi',\n 'monkey_fetus_40_0400_spinalcord.ndpi',\n 'monkey_fetus_40_0420_brain.ndpi',\n 'monkey_fetus_40_0432_bone.ndpi',\n 'monkey_fetus_40_0450_heart.ndpi',\n 'monkey_fetus_40_0730_kidney.ndpi']"
     },
     "execution_count": 5,
     "metadata": {},
     "output_type": "execute_result"
    }
   ],
   "source": [
    "WSIs"
   ],
   "metadata": {
    "collapsed": false,
    "ExecuteTime": {
     "end_time": "2023-10-24T21:23:52.368002600Z",
     "start_time": "2023-10-24T21:23:52.352002500Z"
    }
   }
  },
  {
   "cell_type": "code",
   "execution_count": 7,
   "outputs": [],
   "source": [
    "res20x=0.4416\n",
    "res10x=1\n",
    "\n",
    "ratio = res10x/res20x\n",
    "\n",
    "outpth = os.path.join(pth,'tiles256')\n",
    "if not os.path.exists(outpth):\n",
    "    os.mkdir(outpth)"
   ],
   "metadata": {
    "collapsed": false,
    "ExecuteTime": {
     "end_time": "2023-10-24T21:24:01.251788700Z",
     "start_time": "2023-10-24T21:24:01.228739800Z"
    }
   }
  },
  {
   "cell_type": "code",
   "execution_count": 16,
   "outputs": [
    {
     "name": "stdout",
     "output_type": "stream",
     "text": [
      "Cropping monkey_fetus_40_0105_ecm.ndpi (1/7)\n",
      "Cropping monkey_fetus_40_0271_eye.ndpi (2/7)\n",
      "Cropping monkey_fetus_40_0400_spinalcord.ndpi (3/7)\n",
      "Cropping monkey_fetus_40_0420_brain.ndpi (4/7)\n",
      "Cropping monkey_fetus_40_0432_bone.ndpi (5/7)\n",
      "Cropping monkey_fetus_40_0450_heart.ndpi (6/7)\n",
      "Cropping monkey_fetus_40_0730_kidney.ndpi (7/7)\n"
     ]
    }
   ],
   "source": [
    "from scipy.io import loadmat\n",
    "\n",
    "file_format = '.png'\n",
    "\n",
    "for i, file in enumerate(crop_mats):\n",
    "    mat_file_name = os.path.join(pth_mat, file)\n",
    "\n",
    "    WSI_path = os.path.join(pth, WSIs[i])\n",
    "\n",
    "    f_out_name = f'{os.path.join(os.path.join(outpth,WSIs[i][:-5]))}{file_format}'\n",
    "\n",
    "    if os.path.exists(f_out_name):\n",
    "        print(f'Skipping cropping for {WSIs[i]} ({i+1}/{len(crop_mats)})... Already exists')\n",
    "\n",
    "    else:\n",
    "        print(f'Cropping {WSIs[i]} ({i+1}/{len(crop_mats)})')\n",
    "\n",
    "        # print(mat_file_name)\n",
    "        # print(WSI_path)\n",
    "\n",
    "        WSI_slide = openslide.OpenSlide(WSI_path)\n",
    "\n",
    "        wsi_width, wsi_height = WSI_slide.level_dimensions[0]\n",
    "\n",
    "        data = loadmat(mat_file_name)\n",
    "\n",
    "        # crop_width = int(data['crop_width']*ratio)\n",
    "        # crop_height = int(data['crop_height']*ratio)\n",
    "\n",
    "        offset = 1024/4 + 1024/8\n",
    "\n",
    "        crop_width = 256\n",
    "        crop_height = 256\n",
    "        crop_x = int(data['crop_x']*ratio + offset)\n",
    "        crop_y = int(data['crop_y']*ratio)\n",
    "\n",
    "        lower_x = crop_x\n",
    "        upper_y = crop_y\n",
    "        upper_x = crop_x + crop_width\n",
    "        lower_y = crop_y - crop_height\n",
    "\n",
    "        # print(crop_x)\n",
    "        # print(crop_y)\n",
    "        # print(crop_width)\n",
    "        # print(crop_height)\n",
    "\n",
    "        region = WSI_slide.read_region((crop_x, crop_y), 0, (crop_width, crop_height)) # level = 0 in middle\n",
    "        region_image = Image.new('RGB', region.size)\n",
    "        region_image.paste(region, (0, 0))\n",
    "\n",
    "        region_image.save(f_out_name)\n",
    "        WSI_slide.close()\n"
   ],
   "metadata": {
    "collapsed": false,
    "ExecuteTime": {
     "end_time": "2023-10-26T16:28:43.704592200Z",
     "start_time": "2023-10-26T16:28:35.501978Z"
    }
   }
  },
  {
   "cell_type": "markdown",
   "source": [],
   "metadata": {
    "collapsed": false
   }
  }
 ],
 "metadata": {
  "kernelspec": {
   "display_name": "Python 3",
   "language": "python",
   "name": "python3"
  },
  "language_info": {
   "codemirror_mode": {
    "name": "ipython",
    "version": 2
   },
   "file_extension": ".py",
   "mimetype": "text/x-python",
   "name": "python",
   "nbconvert_exporter": "python",
   "pygments_lexer": "ipython2",
   "version": "2.7.6"
  }
 },
 "nbformat": 4,
 "nbformat_minor": 0
}
