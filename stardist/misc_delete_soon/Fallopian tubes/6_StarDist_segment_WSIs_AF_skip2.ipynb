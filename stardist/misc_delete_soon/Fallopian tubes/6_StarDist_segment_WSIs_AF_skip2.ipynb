{
 "cells": [
  {
   "cell_type": "code",
   "execution_count": 1,
   "metadata": {
    "id": "gykQyKIgf78K",
    "ExecuteTime": {
     "end_time": "2024-01-05T10:24:36.279670500Z",
     "start_time": "2024-01-05T10:24:32.778500500Z"
    }
   },
   "outputs": [],
   "source": [
    "import numpy as np\n",
    "import matplotlib.pyplot as plt\n",
    "\n",
    "from tifffile import imread, imwrite\n",
    "from csbdeep.utils import Path, normalize\n",
    "from csbdeep.utils.tf import keras_import\n",
    "keras = keras_import()\n",
    "\n",
    "from stardist import export_imagej_rois, random_label_cmap\n",
    "from stardist.models import StarDist2D\n",
    "import tensorflow as tf\n",
    "\n",
    "np.random.seed(0)\n",
    "cmap = random_label_cmap()"
   ]
  },
  {
   "cell_type": "code",
   "execution_count": 2,
   "outputs": [
    {
     "name": "stdout",
     "output_type": "stream",
     "text": [
      "GPU is available\n",
      "2.10.1\n"
     ]
    }
   ],
   "source": [
    "if tf.config.list_physical_devices('GPU'):\n",
    "    print(\"GPU is available\")\n",
    "else:\n",
    "    print(\"GPU is not available\")\n",
    "\n",
    "print(tf.__version__)"
   ],
   "metadata": {
    "collapsed": false,
    "ExecuteTime": {
     "end_time": "2024-01-05T10:24:36.351437300Z",
     "start_time": "2024-01-05T10:24:36.279670500Z"
    }
   }
  },
  {
   "cell_type": "code",
   "execution_count": 3,
   "outputs": [],
   "source": [
    "import os\n",
    "from glob import glob\n",
    "\n",
    "# CHANGE PATH\n",
    "\n",
    "pths = [r'\\\\10.162.80.16\\Andre\\data\\Ashleigh fallopian tube\\fallopian tubes\\AJER376',\n",
    "        r'\\\\10.162.80.16\\Andre\\data\\Ashleigh fallopian tube\\fallopian tubes\\AJGB283',\n",
    "        r'\\\\10.162.80.16\\Andre\\data\\Ashleigh fallopian tube\\fallopian tubes\\AJF232',\n",
    "        r'\\\\10.162.80.16\\Andre\\data\\Ashleigh fallopian tube\\fallopian tubes\\AJLC170']\n",
    "\n",
    "# pth = r'\\\\10.99.68.178\\andreex\\data\\monkey fetus\\gestational 40'  # path of ndpi files\n",
    "WSIs = [glob(f'{pth}\\*.ndpi') for pth in pths]"
   ],
   "metadata": {
    "collapsed": false,
    "ExecuteTime": {
     "end_time": "2024-01-05T10:24:36.738797200Z",
     "start_time": "2024-01-05T10:24:36.339912200Z"
    }
   }
  },
  {
   "cell_type": "code",
   "execution_count": 4,
   "outputs": [
    {
     "data": {
      "text/plain": "4"
     },
     "execution_count": 4,
     "metadata": {},
     "output_type": "execute_result"
    }
   ],
   "source": [
    "len(WSIs)"
   ],
   "metadata": {
    "collapsed": false,
    "ExecuteTime": {
     "end_time": "2024-01-05T10:24:36.763997800Z",
     "start_time": "2024-01-05T10:24:36.739800Z"
    }
   }
  },
  {
   "cell_type": "code",
   "execution_count": 5,
   "outputs": [
    {
     "data": {
      "text/plain": "300"
     },
     "execution_count": 5,
     "metadata": {},
     "output_type": "execute_result"
    }
   ],
   "source": [
    "len(WSIs[1])"
   ],
   "metadata": {
    "collapsed": false,
    "ExecuteTime": {
     "end_time": "2024-01-05T10:24:36.814716600Z",
     "start_time": "2024-01-05T10:24:36.757486500Z"
    }
   }
  },
  {
   "cell_type": "code",
   "execution_count": 6,
   "outputs": [
    {
     "data": {
      "text/plain": "[['\\\\\\\\10.162.80.16\\\\Andre\\\\data\\\\Ashleigh fallopian tube\\\\fallopian tubes\\\\AJER376\\\\fallopian_tubes_AJER376_001.ndpi',\n  '\\\\\\\\10.162.80.16\\\\Andre\\\\data\\\\Ashleigh fallopian tube\\\\fallopian tubes\\\\AJER376\\\\fallopian_tubes_AJER376_003.ndpi',\n  '\\\\\\\\10.162.80.16\\\\Andre\\\\data\\\\Ashleigh fallopian tube\\\\fallopian tubes\\\\AJER376\\\\fallopian_tubes_AJER376_009.ndpi',\n  '\\\\\\\\10.162.80.16\\\\Andre\\\\data\\\\Ashleigh fallopian tube\\\\fallopian tubes\\\\AJER376\\\\fallopian_tubes_AJER376_013.ndpi',\n  '\\\\\\\\10.162.80.16\\\\Andre\\\\data\\\\Ashleigh fallopian tube\\\\fallopian tubes\\\\AJER376\\\\fallopian_tubes_AJER376_015.ndpi',\n  '\\\\\\\\10.162.80.16\\\\Andre\\\\data\\\\Ashleigh fallopian tube\\\\fallopian tubes\\\\AJER376\\\\fallopian_tubes_AJER376_017.ndpi',\n  '\\\\\\\\10.162.80.16\\\\Andre\\\\data\\\\Ashleigh fallopian tube\\\\fallopian tubes\\\\AJER376\\\\fallopian_tubes_AJER376_019.ndpi',\n  '\\\\\\\\10.162.80.16\\\\Andre\\\\data\\\\Ashleigh fallopian tube\\\\fallopian tubes\\\\AJER376\\\\fallopian_tubes_AJER376_021.ndpi',\n  '\\\\\\\\10.162.80.16\\\\Andre\\\\data\\\\Ashleigh fallopian tube\\\\fallopian tubes\\\\AJER376\\\\fallopian_tubes_AJER376_023.ndpi',\n  '\\\\\\\\10.162.80.16\\\\Andre\\\\data\\\\Ashleigh fallopian tube\\\\fallopian tubes\\\\AJER376\\\\fallopian_tubes_AJER376_025.ndpi',\n  '\\\\\\\\10.162.80.16\\\\Andre\\\\data\\\\Ashleigh fallopian tube\\\\fallopian tubes\\\\AJER376\\\\fallopian_tubes_AJER376_027.ndpi',\n  '\\\\\\\\10.162.80.16\\\\Andre\\\\data\\\\Ashleigh fallopian tube\\\\fallopian tubes\\\\AJER376\\\\fallopian_tubes_AJER376_029.ndpi',\n  '\\\\\\\\10.162.80.16\\\\Andre\\\\data\\\\Ashleigh fallopian tube\\\\fallopian tubes\\\\AJER376\\\\fallopian_tubes_AJER376_031.ndpi',\n  '\\\\\\\\10.162.80.16\\\\Andre\\\\data\\\\Ashleigh fallopian tube\\\\fallopian tubes\\\\AJER376\\\\fallopian_tubes_AJER376_033.ndpi',\n  '\\\\\\\\10.162.80.16\\\\Andre\\\\data\\\\Ashleigh fallopian tube\\\\fallopian tubes\\\\AJER376\\\\fallopian_tubes_AJER376_035.ndpi',\n  '\\\\\\\\10.162.80.16\\\\Andre\\\\data\\\\Ashleigh fallopian tube\\\\fallopian tubes\\\\AJER376\\\\fallopian_tubes_AJER376_037.ndpi',\n  '\\\\\\\\10.162.80.16\\\\Andre\\\\data\\\\Ashleigh fallopian tube\\\\fallopian tubes\\\\AJER376\\\\fallopian_tubes_AJER376_039.ndpi',\n  '\\\\\\\\10.162.80.16\\\\Andre\\\\data\\\\Ashleigh fallopian tube\\\\fallopian tubes\\\\AJER376\\\\fallopian_tubes_AJER376_041.ndpi',\n  '\\\\\\\\10.162.80.16\\\\Andre\\\\data\\\\Ashleigh fallopian tube\\\\fallopian tubes\\\\AJER376\\\\fallopian_tubes_AJER376_043.ndpi',\n  '\\\\\\\\10.162.80.16\\\\Andre\\\\data\\\\Ashleigh fallopian tube\\\\fallopian tubes\\\\AJER376\\\\fallopian_tubes_AJER376_045.ndpi',\n  '\\\\\\\\10.162.80.16\\\\Andre\\\\data\\\\Ashleigh fallopian tube\\\\fallopian tubes\\\\AJER376\\\\fallopian_tubes_AJER376_047.ndpi',\n  '\\\\\\\\10.162.80.16\\\\Andre\\\\data\\\\Ashleigh fallopian tube\\\\fallopian tubes\\\\AJER376\\\\fallopian_tubes_AJER376_053.ndpi',\n  '\\\\\\\\10.162.80.16\\\\Andre\\\\data\\\\Ashleigh fallopian tube\\\\fallopian tubes\\\\AJER376\\\\fallopian_tubes_AJER376_055.ndpi',\n  '\\\\\\\\10.162.80.16\\\\Andre\\\\data\\\\Ashleigh fallopian tube\\\\fallopian tubes\\\\AJER376\\\\fallopian_tubes_AJER376_057.ndpi',\n  '\\\\\\\\10.162.80.16\\\\Andre\\\\data\\\\Ashleigh fallopian tube\\\\fallopian tubes\\\\AJER376\\\\fallopian_tubes_AJER376_059.ndpi',\n  '\\\\\\\\10.162.80.16\\\\Andre\\\\data\\\\Ashleigh fallopian tube\\\\fallopian tubes\\\\AJER376\\\\fallopian_tubes_AJER376_061.ndpi',\n  '\\\\\\\\10.162.80.16\\\\Andre\\\\data\\\\Ashleigh fallopian tube\\\\fallopian tubes\\\\AJER376\\\\fallopian_tubes_AJER376_063.ndpi',\n  '\\\\\\\\10.162.80.16\\\\Andre\\\\data\\\\Ashleigh fallopian tube\\\\fallopian tubes\\\\AJER376\\\\fallopian_tubes_AJER376_065.ndpi',\n  '\\\\\\\\10.162.80.16\\\\Andre\\\\data\\\\Ashleigh fallopian tube\\\\fallopian tubes\\\\AJER376\\\\fallopian_tubes_AJER376_067.ndpi',\n  '\\\\\\\\10.162.80.16\\\\Andre\\\\data\\\\Ashleigh fallopian tube\\\\fallopian tubes\\\\AJER376\\\\fallopian_tubes_AJER376_069.ndpi',\n  '\\\\\\\\10.162.80.16\\\\Andre\\\\data\\\\Ashleigh fallopian tube\\\\fallopian tubes\\\\AJER376\\\\fallopian_tubes_AJER376_071.ndpi',\n  '\\\\\\\\10.162.80.16\\\\Andre\\\\data\\\\Ashleigh fallopian tube\\\\fallopian tubes\\\\AJER376\\\\fallopian_tubes_AJER376_073.ndpi',\n  '\\\\\\\\10.162.80.16\\\\Andre\\\\data\\\\Ashleigh fallopian tube\\\\fallopian tubes\\\\AJER376\\\\fallopian_tubes_AJER376_075.ndpi',\n  '\\\\\\\\10.162.80.16\\\\Andre\\\\data\\\\Ashleigh fallopian tube\\\\fallopian tubes\\\\AJER376\\\\fallopian_tubes_AJER376_077.ndpi',\n  '\\\\\\\\10.162.80.16\\\\Andre\\\\data\\\\Ashleigh fallopian tube\\\\fallopian tubes\\\\AJER376\\\\fallopian_tubes_AJER376_079.ndpi',\n  '\\\\\\\\10.162.80.16\\\\Andre\\\\data\\\\Ashleigh fallopian tube\\\\fallopian tubes\\\\AJER376\\\\fallopian_tubes_AJER376_081.ndpi',\n  '\\\\\\\\10.162.80.16\\\\Andre\\\\data\\\\Ashleigh fallopian tube\\\\fallopian tubes\\\\AJER376\\\\fallopian_tubes_AJER376_083.ndpi',\n  '\\\\\\\\10.162.80.16\\\\Andre\\\\data\\\\Ashleigh fallopian tube\\\\fallopian tubes\\\\AJER376\\\\fallopian_tubes_AJER376_085.ndpi',\n  '\\\\\\\\10.162.80.16\\\\Andre\\\\data\\\\Ashleigh fallopian tube\\\\fallopian tubes\\\\AJER376\\\\fallopian_tubes_AJER376_087.ndpi',\n  '\\\\\\\\10.162.80.16\\\\Andre\\\\data\\\\Ashleigh fallopian tube\\\\fallopian tubes\\\\AJER376\\\\fallopian_tubes_AJER376_089.ndpi',\n  '\\\\\\\\10.162.80.16\\\\Andre\\\\data\\\\Ashleigh fallopian tube\\\\fallopian tubes\\\\AJER376\\\\fallopian_tubes_AJER376_091.ndpi',\n  '\\\\\\\\10.162.80.16\\\\Andre\\\\data\\\\Ashleigh fallopian tube\\\\fallopian tubes\\\\AJER376\\\\fallopian_tubes_AJER376_093.ndpi',\n  '\\\\\\\\10.162.80.16\\\\Andre\\\\data\\\\Ashleigh fallopian tube\\\\fallopian tubes\\\\AJER376\\\\fallopian_tubes_AJER376_095.ndpi',\n  '\\\\\\\\10.162.80.16\\\\Andre\\\\data\\\\Ashleigh fallopian tube\\\\fallopian tubes\\\\AJER376\\\\fallopian_tubes_AJER376_097.ndpi',\n  '\\\\\\\\10.162.80.16\\\\Andre\\\\data\\\\Ashleigh fallopian tube\\\\fallopian tubes\\\\AJER376\\\\fallopian_tubes_AJER376_099.ndpi',\n  '\\\\\\\\10.162.80.16\\\\Andre\\\\data\\\\Ashleigh fallopian tube\\\\fallopian tubes\\\\AJER376\\\\fallopian_tubes_AJER376_101.ndpi',\n  '\\\\\\\\10.162.80.16\\\\Andre\\\\data\\\\Ashleigh fallopian tube\\\\fallopian tubes\\\\AJER376\\\\fallopian_tubes_AJER376_103.ndpi',\n  '\\\\\\\\10.162.80.16\\\\Andre\\\\data\\\\Ashleigh fallopian tube\\\\fallopian tubes\\\\AJER376\\\\fallopian_tubes_AJER376_105.ndpi',\n  '\\\\\\\\10.162.80.16\\\\Andre\\\\data\\\\Ashleigh fallopian tube\\\\fallopian tubes\\\\AJER376\\\\fallopian_tubes_AJER376_107.ndpi',\n  '\\\\\\\\10.162.80.16\\\\Andre\\\\data\\\\Ashleigh fallopian tube\\\\fallopian tubes\\\\AJER376\\\\fallopian_tubes_AJER376_109.ndpi',\n  '\\\\\\\\10.162.80.16\\\\Andre\\\\data\\\\Ashleigh fallopian tube\\\\fallopian tubes\\\\AJER376\\\\fallopian_tubes_AJER376_111.ndpi',\n  '\\\\\\\\10.162.80.16\\\\Andre\\\\data\\\\Ashleigh fallopian tube\\\\fallopian tubes\\\\AJER376\\\\fallopian_tubes_AJER376_113.ndpi',\n  '\\\\\\\\10.162.80.16\\\\Andre\\\\data\\\\Ashleigh fallopian tube\\\\fallopian tubes\\\\AJER376\\\\fallopian_tubes_AJER376_115.ndpi',\n  '\\\\\\\\10.162.80.16\\\\Andre\\\\data\\\\Ashleigh fallopian tube\\\\fallopian tubes\\\\AJER376\\\\fallopian_tubes_AJER376_117.ndpi',\n  '\\\\\\\\10.162.80.16\\\\Andre\\\\data\\\\Ashleigh fallopian tube\\\\fallopian tubes\\\\AJER376\\\\fallopian_tubes_AJER376_119.ndpi',\n  '\\\\\\\\10.162.80.16\\\\Andre\\\\data\\\\Ashleigh fallopian tube\\\\fallopian tubes\\\\AJER376\\\\fallopian_tubes_AJER376_121.ndpi',\n  '\\\\\\\\10.162.80.16\\\\Andre\\\\data\\\\Ashleigh fallopian tube\\\\fallopian tubes\\\\AJER376\\\\fallopian_tubes_AJER376_123.ndpi',\n  '\\\\\\\\10.162.80.16\\\\Andre\\\\data\\\\Ashleigh fallopian tube\\\\fallopian tubes\\\\AJER376\\\\fallopian_tubes_AJER376_125.ndpi',\n  '\\\\\\\\10.162.80.16\\\\Andre\\\\data\\\\Ashleigh fallopian tube\\\\fallopian tubes\\\\AJER376\\\\fallopian_tubes_AJER376_127.ndpi',\n  '\\\\\\\\10.162.80.16\\\\Andre\\\\data\\\\Ashleigh fallopian tube\\\\fallopian tubes\\\\AJER376\\\\fallopian_tubes_AJER376_129.ndpi',\n  '\\\\\\\\10.162.80.16\\\\Andre\\\\data\\\\Ashleigh fallopian tube\\\\fallopian tubes\\\\AJER376\\\\fallopian_tubes_AJER376_131.ndpi',\n  '\\\\\\\\10.162.80.16\\\\Andre\\\\data\\\\Ashleigh fallopian tube\\\\fallopian tubes\\\\AJER376\\\\fallopian_tubes_AJER376_133.ndpi',\n  '\\\\\\\\10.162.80.16\\\\Andre\\\\data\\\\Ashleigh fallopian tube\\\\fallopian tubes\\\\AJER376\\\\fallopian_tubes_AJER376_135.ndpi',\n  '\\\\\\\\10.162.80.16\\\\Andre\\\\data\\\\Ashleigh fallopian tube\\\\fallopian tubes\\\\AJER376\\\\fallopian_tubes_AJER376_137.ndpi',\n  '\\\\\\\\10.162.80.16\\\\Andre\\\\data\\\\Ashleigh fallopian tube\\\\fallopian tubes\\\\AJER376\\\\fallopian_tubes_AJER376_139.ndpi',\n  '\\\\\\\\10.162.80.16\\\\Andre\\\\data\\\\Ashleigh fallopian tube\\\\fallopian tubes\\\\AJER376\\\\fallopian_tubes_AJER376_141.ndpi',\n  '\\\\\\\\10.162.80.16\\\\Andre\\\\data\\\\Ashleigh fallopian tube\\\\fallopian tubes\\\\AJER376\\\\fallopian_tubes_AJER376_143.ndpi',\n  '\\\\\\\\10.162.80.16\\\\Andre\\\\data\\\\Ashleigh fallopian tube\\\\fallopian tubes\\\\AJER376\\\\fallopian_tubes_AJER376_145.ndpi',\n  '\\\\\\\\10.162.80.16\\\\Andre\\\\data\\\\Ashleigh fallopian tube\\\\fallopian tubes\\\\AJER376\\\\fallopian_tubes_AJER376_147.ndpi',\n  '\\\\\\\\10.162.80.16\\\\Andre\\\\data\\\\Ashleigh fallopian tube\\\\fallopian tubes\\\\AJER376\\\\fallopian_tubes_AJER376_149.ndpi',\n  '\\\\\\\\10.162.80.16\\\\Andre\\\\data\\\\Ashleigh fallopian tube\\\\fallopian tubes\\\\AJER376\\\\fallopian_tubes_AJER376_151.ndpi',\n  '\\\\\\\\10.162.80.16\\\\Andre\\\\data\\\\Ashleigh fallopian tube\\\\fallopian tubes\\\\AJER376\\\\fallopian_tubes_AJER376_153.ndpi',\n  '\\\\\\\\10.162.80.16\\\\Andre\\\\data\\\\Ashleigh fallopian tube\\\\fallopian tubes\\\\AJER376\\\\fallopian_tubes_AJER376_155.ndpi',\n  '\\\\\\\\10.162.80.16\\\\Andre\\\\data\\\\Ashleigh fallopian tube\\\\fallopian tubes\\\\AJER376\\\\fallopian_tubes_AJER376_157.ndpi',\n  '\\\\\\\\10.162.80.16\\\\Andre\\\\data\\\\Ashleigh fallopian tube\\\\fallopian tubes\\\\AJER376\\\\fallopian_tubes_AJER376_159.ndpi',\n  '\\\\\\\\10.162.80.16\\\\Andre\\\\data\\\\Ashleigh fallopian tube\\\\fallopian tubes\\\\AJER376\\\\fallopian_tubes_AJER376_161.ndpi',\n  '\\\\\\\\10.162.80.16\\\\Andre\\\\data\\\\Ashleigh fallopian tube\\\\fallopian tubes\\\\AJER376\\\\fallopian_tubes_AJER376_163.ndpi',\n  '\\\\\\\\10.162.80.16\\\\Andre\\\\data\\\\Ashleigh fallopian tube\\\\fallopian tubes\\\\AJER376\\\\fallopian_tubes_AJER376_165.ndpi',\n  '\\\\\\\\10.162.80.16\\\\Andre\\\\data\\\\Ashleigh fallopian tube\\\\fallopian tubes\\\\AJER376\\\\fallopian_tubes_AJER376_167.ndpi',\n  '\\\\\\\\10.162.80.16\\\\Andre\\\\data\\\\Ashleigh fallopian tube\\\\fallopian tubes\\\\AJER376\\\\fallopian_tubes_AJER376_169.ndpi',\n  '\\\\\\\\10.162.80.16\\\\Andre\\\\data\\\\Ashleigh fallopian tube\\\\fallopian tubes\\\\AJER376\\\\fallopian_tubes_AJER376_171.ndpi',\n  '\\\\\\\\10.162.80.16\\\\Andre\\\\data\\\\Ashleigh fallopian tube\\\\fallopian tubes\\\\AJER376\\\\fallopian_tubes_AJER376_173.ndpi',\n  '\\\\\\\\10.162.80.16\\\\Andre\\\\data\\\\Ashleigh fallopian tube\\\\fallopian tubes\\\\AJER376\\\\fallopian_tubes_AJER376_175.ndpi',\n  '\\\\\\\\10.162.80.16\\\\Andre\\\\data\\\\Ashleigh fallopian tube\\\\fallopian tubes\\\\AJER376\\\\fallopian_tubes_AJER376_177.ndpi',\n  '\\\\\\\\10.162.80.16\\\\Andre\\\\data\\\\Ashleigh fallopian tube\\\\fallopian tubes\\\\AJER376\\\\fallopian_tubes_AJER376_179.ndpi',\n  '\\\\\\\\10.162.80.16\\\\Andre\\\\data\\\\Ashleigh fallopian tube\\\\fallopian tubes\\\\AJER376\\\\fallopian_tubes_AJER376_181.ndpi',\n  '\\\\\\\\10.162.80.16\\\\Andre\\\\data\\\\Ashleigh fallopian tube\\\\fallopian tubes\\\\AJER376\\\\fallopian_tubes_AJER376_183.ndpi',\n  '\\\\\\\\10.162.80.16\\\\Andre\\\\data\\\\Ashleigh fallopian tube\\\\fallopian tubes\\\\AJER376\\\\fallopian_tubes_AJER376_185.ndpi',\n  '\\\\\\\\10.162.80.16\\\\Andre\\\\data\\\\Ashleigh fallopian tube\\\\fallopian tubes\\\\AJER376\\\\fallopian_tubes_AJER376_187.ndpi',\n  '\\\\\\\\10.162.80.16\\\\Andre\\\\data\\\\Ashleigh fallopian tube\\\\fallopian tubes\\\\AJER376\\\\fallopian_tubes_AJER376_189.ndpi',\n  '\\\\\\\\10.162.80.16\\\\Andre\\\\data\\\\Ashleigh fallopian tube\\\\fallopian tubes\\\\AJER376\\\\fallopian_tubes_AJER376_191.ndpi',\n  '\\\\\\\\10.162.80.16\\\\Andre\\\\data\\\\Ashleigh fallopian tube\\\\fallopian tubes\\\\AJER376\\\\fallopian_tubes_AJER376_193.ndpi',\n  '\\\\\\\\10.162.80.16\\\\Andre\\\\data\\\\Ashleigh fallopian tube\\\\fallopian tubes\\\\AJER376\\\\fallopian_tubes_AJER376_195.ndpi',\n  '\\\\\\\\10.162.80.16\\\\Andre\\\\data\\\\Ashleigh fallopian tube\\\\fallopian tubes\\\\AJER376\\\\fallopian_tubes_AJER376_197.ndpi',\n  '\\\\\\\\10.162.80.16\\\\Andre\\\\data\\\\Ashleigh fallopian tube\\\\fallopian tubes\\\\AJER376\\\\fallopian_tubes_AJER376_199.ndpi',\n  '\\\\\\\\10.162.80.16\\\\Andre\\\\data\\\\Ashleigh fallopian tube\\\\fallopian tubes\\\\AJER376\\\\fallopian_tubes_AJER376_201.ndpi',\n  '\\\\\\\\10.162.80.16\\\\Andre\\\\data\\\\Ashleigh fallopian tube\\\\fallopian tubes\\\\AJER376\\\\fallopian_tubes_AJER376_203.ndpi',\n  '\\\\\\\\10.162.80.16\\\\Andre\\\\data\\\\Ashleigh fallopian tube\\\\fallopian tubes\\\\AJER376\\\\fallopian_tubes_AJER376_205.ndpi',\n  '\\\\\\\\10.162.80.16\\\\Andre\\\\data\\\\Ashleigh fallopian tube\\\\fallopian tubes\\\\AJER376\\\\fallopian_tubes_AJER376_207.ndpi',\n  '\\\\\\\\10.162.80.16\\\\Andre\\\\data\\\\Ashleigh fallopian tube\\\\fallopian tubes\\\\AJER376\\\\fallopian_tubes_AJER376_209.ndpi',\n  '\\\\\\\\10.162.80.16\\\\Andre\\\\data\\\\Ashleigh fallopian tube\\\\fallopian tubes\\\\AJER376\\\\fallopian_tubes_AJER376_211.ndpi',\n  '\\\\\\\\10.162.80.16\\\\Andre\\\\data\\\\Ashleigh fallopian tube\\\\fallopian tubes\\\\AJER376\\\\fallopian_tubes_AJER376_213.ndpi',\n  '\\\\\\\\10.162.80.16\\\\Andre\\\\data\\\\Ashleigh fallopian tube\\\\fallopian tubes\\\\AJER376\\\\fallopian_tubes_AJER376_215.ndpi',\n  '\\\\\\\\10.162.80.16\\\\Andre\\\\data\\\\Ashleigh fallopian tube\\\\fallopian tubes\\\\AJER376\\\\fallopian_tubes_AJER376_217.ndpi',\n  '\\\\\\\\10.162.80.16\\\\Andre\\\\data\\\\Ashleigh fallopian tube\\\\fallopian tubes\\\\AJER376\\\\fallopian_tubes_AJER376_219.ndpi',\n  '\\\\\\\\10.162.80.16\\\\Andre\\\\data\\\\Ashleigh fallopian tube\\\\fallopian tubes\\\\AJER376\\\\fallopian_tubes_AJER376_221.ndpi',\n  '\\\\\\\\10.162.80.16\\\\Andre\\\\data\\\\Ashleigh fallopian tube\\\\fallopian tubes\\\\AJER376\\\\fallopian_tubes_AJER376_223.ndpi',\n  '\\\\\\\\10.162.80.16\\\\Andre\\\\data\\\\Ashleigh fallopian tube\\\\fallopian tubes\\\\AJER376\\\\fallopian_tubes_AJER376_225.ndpi',\n  '\\\\\\\\10.162.80.16\\\\Andre\\\\data\\\\Ashleigh fallopian tube\\\\fallopian tubes\\\\AJER376\\\\fallopian_tubes_AJER376_227.ndpi',\n  '\\\\\\\\10.162.80.16\\\\Andre\\\\data\\\\Ashleigh fallopian tube\\\\fallopian tubes\\\\AJER376\\\\fallopian_tubes_AJER376_229.ndpi',\n  '\\\\\\\\10.162.80.16\\\\Andre\\\\data\\\\Ashleigh fallopian tube\\\\fallopian tubes\\\\AJER376\\\\fallopian_tubes_AJER376_231.ndpi',\n  '\\\\\\\\10.162.80.16\\\\Andre\\\\data\\\\Ashleigh fallopian tube\\\\fallopian tubes\\\\AJER376\\\\fallopian_tubes_AJER376_233.ndpi',\n  '\\\\\\\\10.162.80.16\\\\Andre\\\\data\\\\Ashleigh fallopian tube\\\\fallopian tubes\\\\AJER376\\\\fallopian_tubes_AJER376_235.ndpi',\n  '\\\\\\\\10.162.80.16\\\\Andre\\\\data\\\\Ashleigh fallopian tube\\\\fallopian tubes\\\\AJER376\\\\fallopian_tubes_AJER376_237.ndpi',\n  '\\\\\\\\10.162.80.16\\\\Andre\\\\data\\\\Ashleigh fallopian tube\\\\fallopian tubes\\\\AJER376\\\\fallopian_tubes_AJER376_239.ndpi',\n  '\\\\\\\\10.162.80.16\\\\Andre\\\\data\\\\Ashleigh fallopian tube\\\\fallopian tubes\\\\AJER376\\\\fallopian_tubes_AJER376_243.ndpi',\n  '\\\\\\\\10.162.80.16\\\\Andre\\\\data\\\\Ashleigh fallopian tube\\\\fallopian tubes\\\\AJER376\\\\fallopian_tubes_AJER376_245.ndpi',\n  '\\\\\\\\10.162.80.16\\\\Andre\\\\data\\\\Ashleigh fallopian tube\\\\fallopian tubes\\\\AJER376\\\\fallopian_tubes_AJER376_249.ndpi',\n  '\\\\\\\\10.162.80.16\\\\Andre\\\\data\\\\Ashleigh fallopian tube\\\\fallopian tubes\\\\AJER376\\\\fallopian_tubes_AJER376_251.ndpi',\n  '\\\\\\\\10.162.80.16\\\\Andre\\\\data\\\\Ashleigh fallopian tube\\\\fallopian tubes\\\\AJER376\\\\fallopian_tubes_AJER376_253.ndpi',\n  '\\\\\\\\10.162.80.16\\\\Andre\\\\data\\\\Ashleigh fallopian tube\\\\fallopian tubes\\\\AJER376\\\\fallopian_tubes_AJER376_255.ndpi',\n  '\\\\\\\\10.162.80.16\\\\Andre\\\\data\\\\Ashleigh fallopian tube\\\\fallopian tubes\\\\AJER376\\\\fallopian_tubes_AJER376_257.ndpi',\n  '\\\\\\\\10.162.80.16\\\\Andre\\\\data\\\\Ashleigh fallopian tube\\\\fallopian tubes\\\\AJER376\\\\fallopian_tubes_AJER376_259.ndpi',\n  '\\\\\\\\10.162.80.16\\\\Andre\\\\data\\\\Ashleigh fallopian tube\\\\fallopian tubes\\\\AJER376\\\\fallopian_tubes_AJER376_261.ndpi',\n  '\\\\\\\\10.162.80.16\\\\Andre\\\\data\\\\Ashleigh fallopian tube\\\\fallopian tubes\\\\AJER376\\\\fallopian_tubes_AJER376_263.ndpi',\n  '\\\\\\\\10.162.80.16\\\\Andre\\\\data\\\\Ashleigh fallopian tube\\\\fallopian tubes\\\\AJER376\\\\fallopian_tubes_AJER376_265.ndpi',\n  '\\\\\\\\10.162.80.16\\\\Andre\\\\data\\\\Ashleigh fallopian tube\\\\fallopian tubes\\\\AJER376\\\\fallopian_tubes_AJER376_267.ndpi',\n  '\\\\\\\\10.162.80.16\\\\Andre\\\\data\\\\Ashleigh fallopian tube\\\\fallopian tubes\\\\AJER376\\\\fallopian_tubes_AJER376_271.ndpi',\n  '\\\\\\\\10.162.80.16\\\\Andre\\\\data\\\\Ashleigh fallopian tube\\\\fallopian tubes\\\\AJER376\\\\fallopian_tubes_AJER376_273.ndpi',\n  '\\\\\\\\10.162.80.16\\\\Andre\\\\data\\\\Ashleigh fallopian tube\\\\fallopian tubes\\\\AJER376\\\\fallopian_tubes_AJER376_275.ndpi',\n  '\\\\\\\\10.162.80.16\\\\Andre\\\\data\\\\Ashleigh fallopian tube\\\\fallopian tubes\\\\AJER376\\\\fallopian_tubes_AJER376_277.ndpi',\n  '\\\\\\\\10.162.80.16\\\\Andre\\\\data\\\\Ashleigh fallopian tube\\\\fallopian tubes\\\\AJER376\\\\fallopian_tubes_AJER376_279.ndpi',\n  '\\\\\\\\10.162.80.16\\\\Andre\\\\data\\\\Ashleigh fallopian tube\\\\fallopian tubes\\\\AJER376\\\\fallopian_tubes_AJER376_281.ndpi',\n  '\\\\\\\\10.162.80.16\\\\Andre\\\\data\\\\Ashleigh fallopian tube\\\\fallopian tubes\\\\AJER376\\\\fallopian_tubes_AJER376_283.ndpi',\n  '\\\\\\\\10.162.80.16\\\\Andre\\\\data\\\\Ashleigh fallopian tube\\\\fallopian tubes\\\\AJER376\\\\fallopian_tubes_AJER376_285.ndpi',\n  '\\\\\\\\10.162.80.16\\\\Andre\\\\data\\\\Ashleigh fallopian tube\\\\fallopian tubes\\\\AJER376\\\\fallopian_tubes_AJER376_287.ndpi',\n  '\\\\\\\\10.162.80.16\\\\Andre\\\\data\\\\Ashleigh fallopian tube\\\\fallopian tubes\\\\AJER376\\\\fallopian_tubes_AJER376_289.ndpi',\n  '\\\\\\\\10.162.80.16\\\\Andre\\\\data\\\\Ashleigh fallopian tube\\\\fallopian tubes\\\\AJER376\\\\fallopian_tubes_AJER376_291.ndpi',\n  '\\\\\\\\10.162.80.16\\\\Andre\\\\data\\\\Ashleigh fallopian tube\\\\fallopian tubes\\\\AJER376\\\\fallopian_tubes_AJER376_293.ndpi',\n  '\\\\\\\\10.162.80.16\\\\Andre\\\\data\\\\Ashleigh fallopian tube\\\\fallopian tubes\\\\AJER376\\\\fallopian_tubes_AJER376_295.ndpi',\n  '\\\\\\\\10.162.80.16\\\\Andre\\\\data\\\\Ashleigh fallopian tube\\\\fallopian tubes\\\\AJER376\\\\fallopian_tubes_AJER376_297.ndpi',\n  '\\\\\\\\10.162.80.16\\\\Andre\\\\data\\\\Ashleigh fallopian tube\\\\fallopian tubes\\\\AJER376\\\\fallopian_tubes_AJER376_299.ndpi',\n  '\\\\\\\\10.162.80.16\\\\Andre\\\\data\\\\Ashleigh fallopian tube\\\\fallopian tubes\\\\AJER376\\\\fallopian_tubes_AJER376_301.ndpi',\n  '\\\\\\\\10.162.80.16\\\\Andre\\\\data\\\\Ashleigh fallopian tube\\\\fallopian tubes\\\\AJER376\\\\fallopian_tubes_AJER376_303.ndpi',\n  '\\\\\\\\10.162.80.16\\\\Andre\\\\data\\\\Ashleigh fallopian tube\\\\fallopian tubes\\\\AJER376\\\\fallopian_tubes_AJER376_305.ndpi',\n  '\\\\\\\\10.162.80.16\\\\Andre\\\\data\\\\Ashleigh fallopian tube\\\\fallopian tubes\\\\AJER376\\\\fallopian_tubes_AJER376_307.ndpi',\n  '\\\\\\\\10.162.80.16\\\\Andre\\\\data\\\\Ashleigh fallopian tube\\\\fallopian tubes\\\\AJER376\\\\fallopian_tubes_AJER376_309.ndpi',\n  '\\\\\\\\10.162.80.16\\\\Andre\\\\data\\\\Ashleigh fallopian tube\\\\fallopian tubes\\\\AJER376\\\\fallopian_tubes_AJER376_311.ndpi',\n  '\\\\\\\\10.162.80.16\\\\Andre\\\\data\\\\Ashleigh fallopian tube\\\\fallopian tubes\\\\AJER376\\\\fallopian_tubes_AJER376_313.ndpi',\n  '\\\\\\\\10.162.80.16\\\\Andre\\\\data\\\\Ashleigh fallopian tube\\\\fallopian tubes\\\\AJER376\\\\fallopian_tubes_AJER376_315.ndpi',\n  '\\\\\\\\10.162.80.16\\\\Andre\\\\data\\\\Ashleigh fallopian tube\\\\fallopian tubes\\\\AJER376\\\\fallopian_tubes_AJER376_317.ndpi',\n  '\\\\\\\\10.162.80.16\\\\Andre\\\\data\\\\Ashleigh fallopian tube\\\\fallopian tubes\\\\AJER376\\\\fallopian_tubes_AJER376_319.ndpi',\n  '\\\\\\\\10.162.80.16\\\\Andre\\\\data\\\\Ashleigh fallopian tube\\\\fallopian tubes\\\\AJER376\\\\fallopian_tubes_AJER376_321.ndpi',\n  '\\\\\\\\10.162.80.16\\\\Andre\\\\data\\\\Ashleigh fallopian tube\\\\fallopian tubes\\\\AJER376\\\\fallopian_tubes_AJER376_323.ndpi',\n  '\\\\\\\\10.162.80.16\\\\Andre\\\\data\\\\Ashleigh fallopian tube\\\\fallopian tubes\\\\AJER376\\\\fallopian_tubes_AJER376_325.ndpi',\n  '\\\\\\\\10.162.80.16\\\\Andre\\\\data\\\\Ashleigh fallopian tube\\\\fallopian tubes\\\\AJER376\\\\fallopian_tubes_AJER376_327.ndpi',\n  '\\\\\\\\10.162.80.16\\\\Andre\\\\data\\\\Ashleigh fallopian tube\\\\fallopian tubes\\\\AJER376\\\\fallopian_tubes_AJER376_329.ndpi',\n  '\\\\\\\\10.162.80.16\\\\Andre\\\\data\\\\Ashleigh fallopian tube\\\\fallopian tubes\\\\AJER376\\\\fallopian_tubes_AJER376_331.ndpi',\n  '\\\\\\\\10.162.80.16\\\\Andre\\\\data\\\\Ashleigh fallopian tube\\\\fallopian tubes\\\\AJER376\\\\fallopian_tubes_AJER376_333.ndpi',\n  '\\\\\\\\10.162.80.16\\\\Andre\\\\data\\\\Ashleigh fallopian tube\\\\fallopian tubes\\\\AJER376\\\\fallopian_tubes_AJER376_335.ndpi',\n  '\\\\\\\\10.162.80.16\\\\Andre\\\\data\\\\Ashleigh fallopian tube\\\\fallopian tubes\\\\AJER376\\\\fallopian_tubes_AJER376_337.ndpi',\n  '\\\\\\\\10.162.80.16\\\\Andre\\\\data\\\\Ashleigh fallopian tube\\\\fallopian tubes\\\\AJER376\\\\fallopian_tubes_AJER376_339.ndpi',\n  '\\\\\\\\10.162.80.16\\\\Andre\\\\data\\\\Ashleigh fallopian tube\\\\fallopian tubes\\\\AJER376\\\\fallopian_tubes_AJER376_341.ndpi',\n  '\\\\\\\\10.162.80.16\\\\Andre\\\\data\\\\Ashleigh fallopian tube\\\\fallopian tubes\\\\AJER376\\\\fallopian_tubes_AJER376_345.ndpi',\n  '\\\\\\\\10.162.80.16\\\\Andre\\\\data\\\\Ashleigh fallopian tube\\\\fallopian tubes\\\\AJER376\\\\fallopian_tubes_AJER376_347.ndpi',\n  '\\\\\\\\10.162.80.16\\\\Andre\\\\data\\\\Ashleigh fallopian tube\\\\fallopian tubes\\\\AJER376\\\\fallopian_tubes_AJER376_349.ndpi',\n  '\\\\\\\\10.162.80.16\\\\Andre\\\\data\\\\Ashleigh fallopian tube\\\\fallopian tubes\\\\AJER376\\\\fallopian_tubes_AJER376_351.ndpi',\n  '\\\\\\\\10.162.80.16\\\\Andre\\\\data\\\\Ashleigh fallopian tube\\\\fallopian tubes\\\\AJER376\\\\fallopian_tubes_AJER376_353.ndpi',\n  '\\\\\\\\10.162.80.16\\\\Andre\\\\data\\\\Ashleigh fallopian tube\\\\fallopian tubes\\\\AJER376\\\\fallopian_tubes_AJER376_355.ndpi',\n  '\\\\\\\\10.162.80.16\\\\Andre\\\\data\\\\Ashleigh fallopian tube\\\\fallopian tubes\\\\AJER376\\\\fallopian_tubes_AJER376_357.ndpi',\n  '\\\\\\\\10.162.80.16\\\\Andre\\\\data\\\\Ashleigh fallopian tube\\\\fallopian tubes\\\\AJER376\\\\fallopian_tubes_AJER376_359.ndpi',\n  '\\\\\\\\10.162.80.16\\\\Andre\\\\data\\\\Ashleigh fallopian tube\\\\fallopian tubes\\\\AJER376\\\\fallopian_tubes_AJER376_361.ndpi',\n  '\\\\\\\\10.162.80.16\\\\Andre\\\\data\\\\Ashleigh fallopian tube\\\\fallopian tubes\\\\AJER376\\\\fallopian_tubes_AJER376_363.ndpi',\n  '\\\\\\\\10.162.80.16\\\\Andre\\\\data\\\\Ashleigh fallopian tube\\\\fallopian tubes\\\\AJER376\\\\fallopian_tubes_AJER376_365.ndpi',\n  '\\\\\\\\10.162.80.16\\\\Andre\\\\data\\\\Ashleigh fallopian tube\\\\fallopian tubes\\\\AJER376\\\\fallopian_tubes_AJER376_367.ndpi',\n  '\\\\\\\\10.162.80.16\\\\Andre\\\\data\\\\Ashleigh fallopian tube\\\\fallopian tubes\\\\AJER376\\\\fallopian_tubes_AJER376_369.ndpi',\n  '\\\\\\\\10.162.80.16\\\\Andre\\\\data\\\\Ashleigh fallopian tube\\\\fallopian tubes\\\\AJER376\\\\fallopian_tubes_AJER376_371.ndpi',\n  '\\\\\\\\10.162.80.16\\\\Andre\\\\data\\\\Ashleigh fallopian tube\\\\fallopian tubes\\\\AJER376\\\\fallopian_tubes_AJER376_373.ndpi',\n  '\\\\\\\\10.162.80.16\\\\Andre\\\\data\\\\Ashleigh fallopian tube\\\\fallopian tubes\\\\AJER376\\\\fallopian_tubes_AJER376_375.ndpi',\n  '\\\\\\\\10.162.80.16\\\\Andre\\\\data\\\\Ashleigh fallopian tube\\\\fallopian tubes\\\\AJER376\\\\fallopian_tubes_AJER376_377.ndpi',\n  '\\\\\\\\10.162.80.16\\\\Andre\\\\data\\\\Ashleigh fallopian tube\\\\fallopian tubes\\\\AJER376\\\\fallopian_tubes_AJER376_379.ndpi',\n  '\\\\\\\\10.162.80.16\\\\Andre\\\\data\\\\Ashleigh fallopian tube\\\\fallopian tubes\\\\AJER376\\\\fallopian_tubes_AJER376_381.ndpi',\n  '\\\\\\\\10.162.80.16\\\\Andre\\\\data\\\\Ashleigh fallopian tube\\\\fallopian tubes\\\\AJER376\\\\fallopian_tubes_AJER376_383.ndpi',\n  '\\\\\\\\10.162.80.16\\\\Andre\\\\data\\\\Ashleigh fallopian tube\\\\fallopian tubes\\\\AJER376\\\\fallopian_tubes_AJER376_385.ndpi',\n  '\\\\\\\\10.162.80.16\\\\Andre\\\\data\\\\Ashleigh fallopian tube\\\\fallopian tubes\\\\AJER376\\\\fallopian_tubes_AJER376_387.ndpi',\n  '\\\\\\\\10.162.80.16\\\\Andre\\\\data\\\\Ashleigh fallopian tube\\\\fallopian tubes\\\\AJER376\\\\fallopian_tubes_AJER376_389.ndpi',\n  '\\\\\\\\10.162.80.16\\\\Andre\\\\data\\\\Ashleigh fallopian tube\\\\fallopian tubes\\\\AJER376\\\\fallopian_tubes_AJER376_391.ndpi',\n  '\\\\\\\\10.162.80.16\\\\Andre\\\\data\\\\Ashleigh fallopian tube\\\\fallopian tubes\\\\AJER376\\\\fallopian_tubes_AJER376_393.ndpi',\n  '\\\\\\\\10.162.80.16\\\\Andre\\\\data\\\\Ashleigh fallopian tube\\\\fallopian tubes\\\\AJER376\\\\fallopian_tubes_AJER376_395.ndpi',\n  '\\\\\\\\10.162.80.16\\\\Andre\\\\data\\\\Ashleigh fallopian tube\\\\fallopian tubes\\\\AJER376\\\\fallopian_tubes_AJER376_397.ndpi',\n  '\\\\\\\\10.162.80.16\\\\Andre\\\\data\\\\Ashleigh fallopian tube\\\\fallopian tubes\\\\AJER376\\\\fallopian_tubes_AJER376_399.ndpi',\n  '\\\\\\\\10.162.80.16\\\\Andre\\\\data\\\\Ashleigh fallopian tube\\\\fallopian tubes\\\\AJER376\\\\fallopian_tubes_AJER376_401.ndpi',\n  '\\\\\\\\10.162.80.16\\\\Andre\\\\data\\\\Ashleigh fallopian tube\\\\fallopian tubes\\\\AJER376\\\\fallopian_tubes_AJER376_403.ndpi',\n  '\\\\\\\\10.162.80.16\\\\Andre\\\\data\\\\Ashleigh fallopian tube\\\\fallopian tubes\\\\AJER376\\\\fallopian_tubes_AJER376_407.ndpi',\n  '\\\\\\\\10.162.80.16\\\\Andre\\\\data\\\\Ashleigh fallopian tube\\\\fallopian tubes\\\\AJER376\\\\fallopian_tubes_AJER376_409.ndpi',\n  '\\\\\\\\10.162.80.16\\\\Andre\\\\data\\\\Ashleigh fallopian tube\\\\fallopian tubes\\\\AJER376\\\\fallopian_tubes_AJER376_411.ndpi',\n  '\\\\\\\\10.162.80.16\\\\Andre\\\\data\\\\Ashleigh fallopian tube\\\\fallopian tubes\\\\AJER376\\\\fallopian_tubes_AJER376_413.ndpi',\n  '\\\\\\\\10.162.80.16\\\\Andre\\\\data\\\\Ashleigh fallopian tube\\\\fallopian tubes\\\\AJER376\\\\fallopian_tubes_AJER376_415.ndpi',\n  '\\\\\\\\10.162.80.16\\\\Andre\\\\data\\\\Ashleigh fallopian tube\\\\fallopian tubes\\\\AJER376\\\\fallopian_tubes_AJER376_417.ndpi',\n  '\\\\\\\\10.162.80.16\\\\Andre\\\\data\\\\Ashleigh fallopian tube\\\\fallopian tubes\\\\AJER376\\\\fallopian_tubes_AJER376_419.ndpi',\n  '\\\\\\\\10.162.80.16\\\\Andre\\\\data\\\\Ashleigh fallopian tube\\\\fallopian tubes\\\\AJER376\\\\fallopian_tubes_AJER376_421.ndpi',\n  '\\\\\\\\10.162.80.16\\\\Andre\\\\data\\\\Ashleigh fallopian tube\\\\fallopian tubes\\\\AJER376\\\\fallopian_tubes_AJER376_423.ndpi',\n  '\\\\\\\\10.162.80.16\\\\Andre\\\\data\\\\Ashleigh fallopian tube\\\\fallopian tubes\\\\AJER376\\\\fallopian_tubes_AJER376_425.ndpi',\n  '\\\\\\\\10.162.80.16\\\\Andre\\\\data\\\\Ashleigh fallopian tube\\\\fallopian tubes\\\\AJER376\\\\fallopian_tubes_AJER376_427.ndpi',\n  '\\\\\\\\10.162.80.16\\\\Andre\\\\data\\\\Ashleigh fallopian tube\\\\fallopian tubes\\\\AJER376\\\\fallopian_tubes_AJER376_429.ndpi',\n  '\\\\\\\\10.162.80.16\\\\Andre\\\\data\\\\Ashleigh fallopian tube\\\\fallopian tubes\\\\AJER376\\\\fallopian_tubes_AJER376_431.ndpi',\n  '\\\\\\\\10.162.80.16\\\\Andre\\\\data\\\\Ashleigh fallopian tube\\\\fallopian tubes\\\\AJER376\\\\fallopian_tubes_AJER376_433.ndpi',\n  '\\\\\\\\10.162.80.16\\\\Andre\\\\data\\\\Ashleigh fallopian tube\\\\fallopian tubes\\\\AJER376\\\\fallopian_tubes_AJER376_435.ndpi',\n  '\\\\\\\\10.162.80.16\\\\Andre\\\\data\\\\Ashleigh fallopian tube\\\\fallopian tubes\\\\AJER376\\\\fallopian_tubes_AJER376_437.ndpi',\n  '\\\\\\\\10.162.80.16\\\\Andre\\\\data\\\\Ashleigh fallopian tube\\\\fallopian tubes\\\\AJER376\\\\fallopian_tubes_AJER376_439.ndpi',\n  '\\\\\\\\10.162.80.16\\\\Andre\\\\data\\\\Ashleigh fallopian tube\\\\fallopian tubes\\\\AJER376\\\\fallopian_tubes_AJER376_441.ndpi',\n  '\\\\\\\\10.162.80.16\\\\Andre\\\\data\\\\Ashleigh fallopian tube\\\\fallopian tubes\\\\AJER376\\\\fallopian_tubes_AJER376_443.ndpi',\n  '\\\\\\\\10.162.80.16\\\\Andre\\\\data\\\\Ashleigh fallopian tube\\\\fallopian tubes\\\\AJER376\\\\fallopian_tubes_AJER376_445.ndpi',\n  '\\\\\\\\10.162.80.16\\\\Andre\\\\data\\\\Ashleigh fallopian tube\\\\fallopian tubes\\\\AJER376\\\\fallopian_tubes_AJER376_447.ndpi',\n  '\\\\\\\\10.162.80.16\\\\Andre\\\\data\\\\Ashleigh fallopian tube\\\\fallopian tubes\\\\AJER376\\\\fallopian_tubes_AJER376_449.ndpi',\n  '\\\\\\\\10.162.80.16\\\\Andre\\\\data\\\\Ashleigh fallopian tube\\\\fallopian tubes\\\\AJER376\\\\fallopian_tubes_AJER376_451.ndpi',\n  '\\\\\\\\10.162.80.16\\\\Andre\\\\data\\\\Ashleigh fallopian tube\\\\fallopian tubes\\\\AJER376\\\\fallopian_tubes_AJER376_453.ndpi',\n  '\\\\\\\\10.162.80.16\\\\Andre\\\\data\\\\Ashleigh fallopian tube\\\\fallopian tubes\\\\AJER376\\\\fallopian_tubes_AJER376_455.ndpi',\n  '\\\\\\\\10.162.80.16\\\\Andre\\\\data\\\\Ashleigh fallopian tube\\\\fallopian tubes\\\\AJER376\\\\fallopian_tubes_AJER376_457.ndpi',\n  '\\\\\\\\10.162.80.16\\\\Andre\\\\data\\\\Ashleigh fallopian tube\\\\fallopian tubes\\\\AJER376\\\\fallopian_tubes_AJER376_459.ndpi',\n  '\\\\\\\\10.162.80.16\\\\Andre\\\\data\\\\Ashleigh fallopian tube\\\\fallopian tubes\\\\AJER376\\\\fallopian_tubes_AJER376_461.ndpi',\n  '\\\\\\\\10.162.80.16\\\\Andre\\\\data\\\\Ashleigh fallopian tube\\\\fallopian tubes\\\\AJER376\\\\fallopian_tubes_AJER376_463.ndpi',\n  '\\\\\\\\10.162.80.16\\\\Andre\\\\data\\\\Ashleigh fallopian tube\\\\fallopian tubes\\\\AJER376\\\\fallopian_tubes_AJER376_465.ndpi',\n  '\\\\\\\\10.162.80.16\\\\Andre\\\\data\\\\Ashleigh fallopian tube\\\\fallopian tubes\\\\AJER376\\\\fallopian_tubes_AJER376_467.ndpi',\n  '\\\\\\\\10.162.80.16\\\\Andre\\\\data\\\\Ashleigh fallopian tube\\\\fallopian tubes\\\\AJER376\\\\fallopian_tubes_AJER376_469.ndpi',\n  '\\\\\\\\10.162.80.16\\\\Andre\\\\data\\\\Ashleigh fallopian tube\\\\fallopian tubes\\\\AJER376\\\\fallopian_tubes_AJER376_471.ndpi',\n  '\\\\\\\\10.162.80.16\\\\Andre\\\\data\\\\Ashleigh fallopian tube\\\\fallopian tubes\\\\AJER376\\\\fallopian_tubes_AJER376_473.ndpi',\n  '\\\\\\\\10.162.80.16\\\\Andre\\\\data\\\\Ashleigh fallopian tube\\\\fallopian tubes\\\\AJER376\\\\fallopian_tubes_AJER376_475.ndpi',\n  '\\\\\\\\10.162.80.16\\\\Andre\\\\data\\\\Ashleigh fallopian tube\\\\fallopian tubes\\\\AJER376\\\\fallopian_tubes_AJER376_477.ndpi',\n  '\\\\\\\\10.162.80.16\\\\Andre\\\\data\\\\Ashleigh fallopian tube\\\\fallopian tubes\\\\AJER376\\\\fallopian_tubes_AJER376_479.ndpi',\n  '\\\\\\\\10.162.80.16\\\\Andre\\\\data\\\\Ashleigh fallopian tube\\\\fallopian tubes\\\\AJER376\\\\fallopian_tubes_AJER376_481.ndpi',\n  '\\\\\\\\10.162.80.16\\\\Andre\\\\data\\\\Ashleigh fallopian tube\\\\fallopian tubes\\\\AJER376\\\\fallopian_tubes_AJER376_483.ndpi',\n  '\\\\\\\\10.162.80.16\\\\Andre\\\\data\\\\Ashleigh fallopian tube\\\\fallopian tubes\\\\AJER376\\\\fallopian_tubes_AJER376_485.ndpi',\n  '\\\\\\\\10.162.80.16\\\\Andre\\\\data\\\\Ashleigh fallopian tube\\\\fallopian tubes\\\\AJER376\\\\fallopian_tubes_AJER376_487.ndpi',\n  '\\\\\\\\10.162.80.16\\\\Andre\\\\data\\\\Ashleigh fallopian tube\\\\fallopian tubes\\\\AJER376\\\\fallopian_tubes_AJER376_489.ndpi',\n  '\\\\\\\\10.162.80.16\\\\Andre\\\\data\\\\Ashleigh fallopian tube\\\\fallopian tubes\\\\AJER376\\\\fallopian_tubes_AJER376_491.ndpi',\n  '\\\\\\\\10.162.80.16\\\\Andre\\\\data\\\\Ashleigh fallopian tube\\\\fallopian tubes\\\\AJER376\\\\fallopian_tubes_AJER376_493.ndpi',\n  '\\\\\\\\10.162.80.16\\\\Andre\\\\data\\\\Ashleigh fallopian tube\\\\fallopian tubes\\\\AJER376\\\\fallopian_tubes_AJER376_495.ndpi',\n  '\\\\\\\\10.162.80.16\\\\Andre\\\\data\\\\Ashleigh fallopian tube\\\\fallopian tubes\\\\AJER376\\\\fallopian_tubes_AJER376_497.ndpi',\n  '\\\\\\\\10.162.80.16\\\\Andre\\\\data\\\\Ashleigh fallopian tube\\\\fallopian tubes\\\\AJER376\\\\fallopian_tubes_AJER376_501.ndpi',\n  '\\\\\\\\10.162.80.16\\\\Andre\\\\data\\\\Ashleigh fallopian tube\\\\fallopian tubes\\\\AJER376\\\\fallopian_tubes_AJER376_503.ndpi',\n  '\\\\\\\\10.162.80.16\\\\Andre\\\\data\\\\Ashleigh fallopian tube\\\\fallopian tubes\\\\AJER376\\\\fallopian_tubes_AJER376_505.ndpi',\n  '\\\\\\\\10.162.80.16\\\\Andre\\\\data\\\\Ashleigh fallopian tube\\\\fallopian tubes\\\\AJER376\\\\fallopian_tubes_AJER376_507.ndpi',\n  '\\\\\\\\10.162.80.16\\\\Andre\\\\data\\\\Ashleigh fallopian tube\\\\fallopian tubes\\\\AJER376\\\\fallopian_tubes_AJER376_509.ndpi',\n  '\\\\\\\\10.162.80.16\\\\Andre\\\\data\\\\Ashleigh fallopian tube\\\\fallopian tubes\\\\AJER376\\\\fallopian_tubes_AJER376_511.ndpi',\n  '\\\\\\\\10.162.80.16\\\\Andre\\\\data\\\\Ashleigh fallopian tube\\\\fallopian tubes\\\\AJER376\\\\fallopian_tubes_AJER376_513.ndpi',\n  '\\\\\\\\10.162.80.16\\\\Andre\\\\data\\\\Ashleigh fallopian tube\\\\fallopian tubes\\\\AJER376\\\\fallopian_tubes_AJER376_515.ndpi',\n  '\\\\\\\\10.162.80.16\\\\Andre\\\\data\\\\Ashleigh fallopian tube\\\\fallopian tubes\\\\AJER376\\\\fallopian_tubes_AJER376_519.ndpi',\n  '\\\\\\\\10.162.80.16\\\\Andre\\\\data\\\\Ashleigh fallopian tube\\\\fallopian tubes\\\\AJER376\\\\fallopian_tubes_AJER376_521.ndpi',\n  '\\\\\\\\10.162.80.16\\\\Andre\\\\data\\\\Ashleigh fallopian tube\\\\fallopian tubes\\\\AJER376\\\\fallopian_tubes_AJER376_523.ndpi',\n  '\\\\\\\\10.162.80.16\\\\Andre\\\\data\\\\Ashleigh fallopian tube\\\\fallopian tubes\\\\AJER376\\\\fallopian_tubes_AJER376_525.ndpi',\n  '\\\\\\\\10.162.80.16\\\\Andre\\\\data\\\\Ashleigh fallopian tube\\\\fallopian tubes\\\\AJER376\\\\fallopian_tubes_AJER376_527.ndpi',\n  '\\\\\\\\10.162.80.16\\\\Andre\\\\data\\\\Ashleigh fallopian tube\\\\fallopian tubes\\\\AJER376\\\\fallopian_tubes_AJER376_529.ndpi',\n  '\\\\\\\\10.162.80.16\\\\Andre\\\\data\\\\Ashleigh fallopian tube\\\\fallopian tubes\\\\AJER376\\\\fallopian_tubes_AJER376_531.ndpi',\n  '\\\\\\\\10.162.80.16\\\\Andre\\\\data\\\\Ashleigh fallopian tube\\\\fallopian tubes\\\\AJER376\\\\fallopian_tubes_AJER376_533.ndpi',\n  '\\\\\\\\10.162.80.16\\\\Andre\\\\data\\\\Ashleigh fallopian tube\\\\fallopian tubes\\\\AJER376\\\\fallopian_tubes_AJER376_535.ndpi',\n  '\\\\\\\\10.162.80.16\\\\Andre\\\\data\\\\Ashleigh fallopian tube\\\\fallopian tubes\\\\AJER376\\\\fallopian_tubes_AJER376_537.ndpi',\n  '\\\\\\\\10.162.80.16\\\\Andre\\\\data\\\\Ashleigh fallopian tube\\\\fallopian tubes\\\\AJER376\\\\fallopian_tubes_AJER376_539.ndpi',\n  '\\\\\\\\10.162.80.16\\\\Andre\\\\data\\\\Ashleigh fallopian tube\\\\fallopian tubes\\\\AJER376\\\\fallopian_tubes_AJER376_541.ndpi',\n  '\\\\\\\\10.162.80.16\\\\Andre\\\\data\\\\Ashleigh fallopian tube\\\\fallopian tubes\\\\AJER376\\\\fallopian_tubes_AJER376_543.ndpi',\n  '\\\\\\\\10.162.80.16\\\\Andre\\\\data\\\\Ashleigh fallopian tube\\\\fallopian tubes\\\\AJER376\\\\fallopian_tubes_AJER376_545.ndpi',\n  '\\\\\\\\10.162.80.16\\\\Andre\\\\data\\\\Ashleigh fallopian tube\\\\fallopian tubes\\\\AJER376\\\\fallopian_tubes_AJER376_547.ndpi',\n  '\\\\\\\\10.162.80.16\\\\Andre\\\\data\\\\Ashleigh fallopian tube\\\\fallopian tubes\\\\AJER376\\\\fallopian_tubes_AJER376_549.ndpi',\n  '\\\\\\\\10.162.80.16\\\\Andre\\\\data\\\\Ashleigh fallopian tube\\\\fallopian tubes\\\\AJER376\\\\fallopian_tubes_AJER376_551.ndpi',\n  '\\\\\\\\10.162.80.16\\\\Andre\\\\data\\\\Ashleigh fallopian tube\\\\fallopian tubes\\\\AJER376\\\\fallopian_tubes_AJER376_553.ndpi',\n  '\\\\\\\\10.162.80.16\\\\Andre\\\\data\\\\Ashleigh fallopian tube\\\\fallopian tubes\\\\AJER376\\\\fallopian_tubes_AJER376_555.ndpi',\n  '\\\\\\\\10.162.80.16\\\\Andre\\\\data\\\\Ashleigh fallopian tube\\\\fallopian tubes\\\\AJER376\\\\fallopian_tubes_AJER376_559.ndpi',\n  '\\\\\\\\10.162.80.16\\\\Andre\\\\data\\\\Ashleigh fallopian tube\\\\fallopian tubes\\\\AJER376\\\\fallopian_tubes_AJER376_561.ndpi',\n  '\\\\\\\\10.162.80.16\\\\Andre\\\\data\\\\Ashleigh fallopian tube\\\\fallopian tubes\\\\AJER376\\\\fallopian_tubes_AJER376_563.ndpi',\n  '\\\\\\\\10.162.80.16\\\\Andre\\\\data\\\\Ashleigh fallopian tube\\\\fallopian tubes\\\\AJER376\\\\fallopian_tubes_AJER376_565.ndpi',\n  '\\\\\\\\10.162.80.16\\\\Andre\\\\data\\\\Ashleigh fallopian tube\\\\fallopian tubes\\\\AJER376\\\\fallopian_tubes_AJER376_567.ndpi',\n  '\\\\\\\\10.162.80.16\\\\Andre\\\\data\\\\Ashleigh fallopian tube\\\\fallopian tubes\\\\AJER376\\\\fallopian_tubes_AJER376_569.ndpi',\n  '\\\\\\\\10.162.80.16\\\\Andre\\\\data\\\\Ashleigh fallopian tube\\\\fallopian tubes\\\\AJER376\\\\fallopian_tubes_AJER376_571.ndpi',\n  '\\\\\\\\10.162.80.16\\\\Andre\\\\data\\\\Ashleigh fallopian tube\\\\fallopian tubes\\\\AJER376\\\\fallopian_tubes_AJER376_573.ndpi',\n  '\\\\\\\\10.162.80.16\\\\Andre\\\\data\\\\Ashleigh fallopian tube\\\\fallopian tubes\\\\AJER376\\\\fallopian_tubes_AJER376_575.ndpi',\n  '\\\\\\\\10.162.80.16\\\\Andre\\\\data\\\\Ashleigh fallopian tube\\\\fallopian tubes\\\\AJER376\\\\fallopian_tubes_AJER376_577.ndpi',\n  '\\\\\\\\10.162.80.16\\\\Andre\\\\data\\\\Ashleigh fallopian tube\\\\fallopian tubes\\\\AJER376\\\\fallopian_tubes_AJER376_579.ndpi',\n  '\\\\\\\\10.162.80.16\\\\Andre\\\\data\\\\Ashleigh fallopian tube\\\\fallopian tubes\\\\AJER376\\\\fallopian_tubes_AJER376_581.ndpi',\n  '\\\\\\\\10.162.80.16\\\\Andre\\\\data\\\\Ashleigh fallopian tube\\\\fallopian tubes\\\\AJER376\\\\fallopian_tubes_AJER376_583.ndpi',\n  '\\\\\\\\10.162.80.16\\\\Andre\\\\data\\\\Ashleigh fallopian tube\\\\fallopian tubes\\\\AJER376\\\\fallopian_tubes_AJER376_585.ndpi',\n  '\\\\\\\\10.162.80.16\\\\Andre\\\\data\\\\Ashleigh fallopian tube\\\\fallopian tubes\\\\AJER376\\\\fallopian_tubes_AJER376_587.ndpi',\n  '\\\\\\\\10.162.80.16\\\\Andre\\\\data\\\\Ashleigh fallopian tube\\\\fallopian tubes\\\\AJER376\\\\fallopian_tubes_AJER376_589.ndpi',\n  '\\\\\\\\10.162.80.16\\\\Andre\\\\data\\\\Ashleigh fallopian tube\\\\fallopian tubes\\\\AJER376\\\\fallopian_tubes_AJER376_591.ndpi',\n  '\\\\\\\\10.162.80.16\\\\Andre\\\\data\\\\Ashleigh fallopian tube\\\\fallopian tubes\\\\AJER376\\\\fallopian_tubes_AJER376_593.ndpi',\n  '\\\\\\\\10.162.80.16\\\\Andre\\\\data\\\\Ashleigh fallopian tube\\\\fallopian tubes\\\\AJER376\\\\fallopian_tubes_AJER376_595.ndpi',\n  '\\\\\\\\10.162.80.16\\\\Andre\\\\data\\\\Ashleigh fallopian tube\\\\fallopian tubes\\\\AJER376\\\\fallopian_tubes_AJER376_597.ndpi',\n  '\\\\\\\\10.162.80.16\\\\Andre\\\\data\\\\Ashleigh fallopian tube\\\\fallopian tubes\\\\AJER376\\\\fallopian_tubes_AJER376_599.ndpi',\n  '\\\\\\\\10.162.80.16\\\\Andre\\\\data\\\\Ashleigh fallopian tube\\\\fallopian tubes\\\\AJER376\\\\fallopian_tubes_AJER376_601.ndpi'],\n ['\\\\\\\\10.162.80.16\\\\Andre\\\\data\\\\Ashleigh fallopian tube\\\\fallopian tubes\\\\AJGB283\\\\fallopian_tubes_AJGB283_029.ndpi',\n  '\\\\\\\\10.162.80.16\\\\Andre\\\\data\\\\Ashleigh fallopian tube\\\\fallopian tubes\\\\AJGB283\\\\fallopian_tubes_AJGB283_031.ndpi',\n  '\\\\\\\\10.162.80.16\\\\Andre\\\\data\\\\Ashleigh fallopian tube\\\\fallopian tubes\\\\AJGB283\\\\fallopian_tubes_AJGB283_033.ndpi',\n  '\\\\\\\\10.162.80.16\\\\Andre\\\\data\\\\Ashleigh fallopian tube\\\\fallopian tubes\\\\AJGB283\\\\fallopian_tubes_AJGB283_035.ndpi',\n  '\\\\\\\\10.162.80.16\\\\Andre\\\\data\\\\Ashleigh fallopian tube\\\\fallopian tubes\\\\AJGB283\\\\fallopian_tubes_AJGB283_037.ndpi',\n  '\\\\\\\\10.162.80.16\\\\Andre\\\\data\\\\Ashleigh fallopian tube\\\\fallopian tubes\\\\AJGB283\\\\fallopian_tubes_AJGB283_039.ndpi',\n  '\\\\\\\\10.162.80.16\\\\Andre\\\\data\\\\Ashleigh fallopian tube\\\\fallopian tubes\\\\AJGB283\\\\fallopian_tubes_AJGB283_041.ndpi',\n  '\\\\\\\\10.162.80.16\\\\Andre\\\\data\\\\Ashleigh fallopian tube\\\\fallopian tubes\\\\AJGB283\\\\fallopian_tubes_AJGB283_043.ndpi',\n  '\\\\\\\\10.162.80.16\\\\Andre\\\\data\\\\Ashleigh fallopian tube\\\\fallopian tubes\\\\AJGB283\\\\fallopian_tubes_AJGB283_045.ndpi',\n  '\\\\\\\\10.162.80.16\\\\Andre\\\\data\\\\Ashleigh fallopian tube\\\\fallopian tubes\\\\AJGB283\\\\fallopian_tubes_AJGB283_047.ndpi',\n  '\\\\\\\\10.162.80.16\\\\Andre\\\\data\\\\Ashleigh fallopian tube\\\\fallopian tubes\\\\AJGB283\\\\fallopian_tubes_AJGB283_049.ndpi',\n  '\\\\\\\\10.162.80.16\\\\Andre\\\\data\\\\Ashleigh fallopian tube\\\\fallopian tubes\\\\AJGB283\\\\fallopian_tubes_AJGB283_051.ndpi',\n  '\\\\\\\\10.162.80.16\\\\Andre\\\\data\\\\Ashleigh fallopian tube\\\\fallopian tubes\\\\AJGB283\\\\fallopian_tubes_AJGB283_053.ndpi',\n  '\\\\\\\\10.162.80.16\\\\Andre\\\\data\\\\Ashleigh fallopian tube\\\\fallopian tubes\\\\AJGB283\\\\fallopian_tubes_AJGB283_055.ndpi',\n  '\\\\\\\\10.162.80.16\\\\Andre\\\\data\\\\Ashleigh fallopian tube\\\\fallopian tubes\\\\AJGB283\\\\fallopian_tubes_AJGB283_057.ndpi',\n  '\\\\\\\\10.162.80.16\\\\Andre\\\\data\\\\Ashleigh fallopian tube\\\\fallopian tubes\\\\AJGB283\\\\fallopian_tubes_AJGB283_059.ndpi',\n  '\\\\\\\\10.162.80.16\\\\Andre\\\\data\\\\Ashleigh fallopian tube\\\\fallopian tubes\\\\AJGB283\\\\fallopian_tubes_AJGB283_061.ndpi',\n  '\\\\\\\\10.162.80.16\\\\Andre\\\\data\\\\Ashleigh fallopian tube\\\\fallopian tubes\\\\AJGB283\\\\fallopian_tubes_AJGB283_063.ndpi',\n  '\\\\\\\\10.162.80.16\\\\Andre\\\\data\\\\Ashleigh fallopian tube\\\\fallopian tubes\\\\AJGB283\\\\fallopian_tubes_AJGB283_065.ndpi',\n  '\\\\\\\\10.162.80.16\\\\Andre\\\\data\\\\Ashleigh fallopian tube\\\\fallopian tubes\\\\AJGB283\\\\fallopian_tubes_AJGB283_067.ndpi',\n  '\\\\\\\\10.162.80.16\\\\Andre\\\\data\\\\Ashleigh fallopian tube\\\\fallopian tubes\\\\AJGB283\\\\fallopian_tubes_AJGB283_069.ndpi',\n  '\\\\\\\\10.162.80.16\\\\Andre\\\\data\\\\Ashleigh fallopian tube\\\\fallopian tubes\\\\AJGB283\\\\fallopian_tubes_AJGB283_071.ndpi',\n  '\\\\\\\\10.162.80.16\\\\Andre\\\\data\\\\Ashleigh fallopian tube\\\\fallopian tubes\\\\AJGB283\\\\fallopian_tubes_AJGB283_073.ndpi',\n  '\\\\\\\\10.162.80.16\\\\Andre\\\\data\\\\Ashleigh fallopian tube\\\\fallopian tubes\\\\AJGB283\\\\fallopian_tubes_AJGB283_075.ndpi',\n  '\\\\\\\\10.162.80.16\\\\Andre\\\\data\\\\Ashleigh fallopian tube\\\\fallopian tubes\\\\AJGB283\\\\fallopian_tubes_AJGB283_077.ndpi',\n  '\\\\\\\\10.162.80.16\\\\Andre\\\\data\\\\Ashleigh fallopian tube\\\\fallopian tubes\\\\AJGB283\\\\fallopian_tubes_AJGB283_079.ndpi',\n  '\\\\\\\\10.162.80.16\\\\Andre\\\\data\\\\Ashleigh fallopian tube\\\\fallopian tubes\\\\AJGB283\\\\fallopian_tubes_AJGB283_081.ndpi',\n  '\\\\\\\\10.162.80.16\\\\Andre\\\\data\\\\Ashleigh fallopian tube\\\\fallopian tubes\\\\AJGB283\\\\fallopian_tubes_AJGB283_083.ndpi',\n  '\\\\\\\\10.162.80.16\\\\Andre\\\\data\\\\Ashleigh fallopian tube\\\\fallopian tubes\\\\AJGB283\\\\fallopian_tubes_AJGB283_085.ndpi',\n  '\\\\\\\\10.162.80.16\\\\Andre\\\\data\\\\Ashleigh fallopian tube\\\\fallopian tubes\\\\AJGB283\\\\fallopian_tubes_AJGB283_087.ndpi',\n  '\\\\\\\\10.162.80.16\\\\Andre\\\\data\\\\Ashleigh fallopian tube\\\\fallopian tubes\\\\AJGB283\\\\fallopian_tubes_AJGB283_089.ndpi',\n  '\\\\\\\\10.162.80.16\\\\Andre\\\\data\\\\Ashleigh fallopian tube\\\\fallopian tubes\\\\AJGB283\\\\fallopian_tubes_AJGB283_091.ndpi',\n  '\\\\\\\\10.162.80.16\\\\Andre\\\\data\\\\Ashleigh fallopian tube\\\\fallopian tubes\\\\AJGB283\\\\fallopian_tubes_AJGB283_093.ndpi',\n  '\\\\\\\\10.162.80.16\\\\Andre\\\\data\\\\Ashleigh fallopian tube\\\\fallopian tubes\\\\AJGB283\\\\fallopian_tubes_AJGB283_095.ndpi',\n  '\\\\\\\\10.162.80.16\\\\Andre\\\\data\\\\Ashleigh fallopian tube\\\\fallopian tubes\\\\AJGB283\\\\fallopian_tubes_AJGB283_097.ndpi',\n  '\\\\\\\\10.162.80.16\\\\Andre\\\\data\\\\Ashleigh fallopian tube\\\\fallopian tubes\\\\AJGB283\\\\fallopian_tubes_AJGB283_099.ndpi',\n  '\\\\\\\\10.162.80.16\\\\Andre\\\\data\\\\Ashleigh fallopian tube\\\\fallopian tubes\\\\AJGB283\\\\fallopian_tubes_AJGB283_101.ndpi',\n  '\\\\\\\\10.162.80.16\\\\Andre\\\\data\\\\Ashleigh fallopian tube\\\\fallopian tubes\\\\AJGB283\\\\fallopian_tubes_AJGB283_103.ndpi',\n  '\\\\\\\\10.162.80.16\\\\Andre\\\\data\\\\Ashleigh fallopian tube\\\\fallopian tubes\\\\AJGB283\\\\fallopian_tubes_AJGB283_105.ndpi',\n  '\\\\\\\\10.162.80.16\\\\Andre\\\\data\\\\Ashleigh fallopian tube\\\\fallopian tubes\\\\AJGB283\\\\fallopian_tubes_AJGB283_107.ndpi',\n  '\\\\\\\\10.162.80.16\\\\Andre\\\\data\\\\Ashleigh fallopian tube\\\\fallopian tubes\\\\AJGB283\\\\fallopian_tubes_AJGB283_109.ndpi',\n  '\\\\\\\\10.162.80.16\\\\Andre\\\\data\\\\Ashleigh fallopian tube\\\\fallopian tubes\\\\AJGB283\\\\fallopian_tubes_AJGB283_111.ndpi',\n  '\\\\\\\\10.162.80.16\\\\Andre\\\\data\\\\Ashleigh fallopian tube\\\\fallopian tubes\\\\AJGB283\\\\fallopian_tubes_AJGB283_113.ndpi',\n  '\\\\\\\\10.162.80.16\\\\Andre\\\\data\\\\Ashleigh fallopian tube\\\\fallopian tubes\\\\AJGB283\\\\fallopian_tubes_AJGB283_115.ndpi',\n  '\\\\\\\\10.162.80.16\\\\Andre\\\\data\\\\Ashleigh fallopian tube\\\\fallopian tubes\\\\AJGB283\\\\fallopian_tubes_AJGB283_117.ndpi',\n  '\\\\\\\\10.162.80.16\\\\Andre\\\\data\\\\Ashleigh fallopian tube\\\\fallopian tubes\\\\AJGB283\\\\fallopian_tubes_AJGB283_119.ndpi',\n  '\\\\\\\\10.162.80.16\\\\Andre\\\\data\\\\Ashleigh fallopian tube\\\\fallopian tubes\\\\AJGB283\\\\fallopian_tubes_AJGB283_121.ndpi',\n  '\\\\\\\\10.162.80.16\\\\Andre\\\\data\\\\Ashleigh fallopian tube\\\\fallopian tubes\\\\AJGB283\\\\fallopian_tubes_AJGB283_123.ndpi',\n  '\\\\\\\\10.162.80.16\\\\Andre\\\\data\\\\Ashleigh fallopian tube\\\\fallopian tubes\\\\AJGB283\\\\fallopian_tubes_AJGB283_125.ndpi',\n  '\\\\\\\\10.162.80.16\\\\Andre\\\\data\\\\Ashleigh fallopian tube\\\\fallopian tubes\\\\AJGB283\\\\fallopian_tubes_AJGB283_127.ndpi',\n  '\\\\\\\\10.162.80.16\\\\Andre\\\\data\\\\Ashleigh fallopian tube\\\\fallopian tubes\\\\AJGB283\\\\fallopian_tubes_AJGB283_129.ndpi',\n  '\\\\\\\\10.162.80.16\\\\Andre\\\\data\\\\Ashleigh fallopian tube\\\\fallopian tubes\\\\AJGB283\\\\fallopian_tubes_AJGB283_131.ndpi',\n  '\\\\\\\\10.162.80.16\\\\Andre\\\\data\\\\Ashleigh fallopian tube\\\\fallopian tubes\\\\AJGB283\\\\fallopian_tubes_AJGB283_133.ndpi',\n  '\\\\\\\\10.162.80.16\\\\Andre\\\\data\\\\Ashleigh fallopian tube\\\\fallopian tubes\\\\AJGB283\\\\fallopian_tubes_AJGB283_135.ndpi',\n  '\\\\\\\\10.162.80.16\\\\Andre\\\\data\\\\Ashleigh fallopian tube\\\\fallopian tubes\\\\AJGB283\\\\fallopian_tubes_AJGB283_137.ndpi',\n  '\\\\\\\\10.162.80.16\\\\Andre\\\\data\\\\Ashleigh fallopian tube\\\\fallopian tubes\\\\AJGB283\\\\fallopian_tubes_AJGB283_139.ndpi',\n  '\\\\\\\\10.162.80.16\\\\Andre\\\\data\\\\Ashleigh fallopian tube\\\\fallopian tubes\\\\AJGB283\\\\fallopian_tubes_AJGB283_141.ndpi',\n  '\\\\\\\\10.162.80.16\\\\Andre\\\\data\\\\Ashleigh fallopian tube\\\\fallopian tubes\\\\AJGB283\\\\fallopian_tubes_AJGB283_143.ndpi',\n  '\\\\\\\\10.162.80.16\\\\Andre\\\\data\\\\Ashleigh fallopian tube\\\\fallopian tubes\\\\AJGB283\\\\fallopian_tubes_AJGB283_145.ndpi',\n  '\\\\\\\\10.162.80.16\\\\Andre\\\\data\\\\Ashleigh fallopian tube\\\\fallopian tubes\\\\AJGB283\\\\fallopian_tubes_AJGB283_147.ndpi',\n  '\\\\\\\\10.162.80.16\\\\Andre\\\\data\\\\Ashleigh fallopian tube\\\\fallopian tubes\\\\AJGB283\\\\fallopian_tubes_AJGB283_149.ndpi',\n  '\\\\\\\\10.162.80.16\\\\Andre\\\\data\\\\Ashleigh fallopian tube\\\\fallopian tubes\\\\AJGB283\\\\fallopian_tubes_AJGB283_151.ndpi',\n  '\\\\\\\\10.162.80.16\\\\Andre\\\\data\\\\Ashleigh fallopian tube\\\\fallopian tubes\\\\AJGB283\\\\fallopian_tubes_AJGB283_153.ndpi',\n  '\\\\\\\\10.162.80.16\\\\Andre\\\\data\\\\Ashleigh fallopian tube\\\\fallopian tubes\\\\AJGB283\\\\fallopian_tubes_AJGB283_155.ndpi',\n  '\\\\\\\\10.162.80.16\\\\Andre\\\\data\\\\Ashleigh fallopian tube\\\\fallopian tubes\\\\AJGB283\\\\fallopian_tubes_AJGB283_157.ndpi',\n  '\\\\\\\\10.162.80.16\\\\Andre\\\\data\\\\Ashleigh fallopian tube\\\\fallopian tubes\\\\AJGB283\\\\fallopian_tubes_AJGB283_159.ndpi',\n  '\\\\\\\\10.162.80.16\\\\Andre\\\\data\\\\Ashleigh fallopian tube\\\\fallopian tubes\\\\AJGB283\\\\fallopian_tubes_AJGB283_161.ndpi',\n  '\\\\\\\\10.162.80.16\\\\Andre\\\\data\\\\Ashleigh fallopian tube\\\\fallopian tubes\\\\AJGB283\\\\fallopian_tubes_AJGB283_163.ndpi',\n  '\\\\\\\\10.162.80.16\\\\Andre\\\\data\\\\Ashleigh fallopian tube\\\\fallopian tubes\\\\AJGB283\\\\fallopian_tubes_AJGB283_165.ndpi',\n  '\\\\\\\\10.162.80.16\\\\Andre\\\\data\\\\Ashleigh fallopian tube\\\\fallopian tubes\\\\AJGB283\\\\fallopian_tubes_AJGB283_167.ndpi',\n  '\\\\\\\\10.162.80.16\\\\Andre\\\\data\\\\Ashleigh fallopian tube\\\\fallopian tubes\\\\AJGB283\\\\fallopian_tubes_AJGB283_169.ndpi',\n  '\\\\\\\\10.162.80.16\\\\Andre\\\\data\\\\Ashleigh fallopian tube\\\\fallopian tubes\\\\AJGB283\\\\fallopian_tubes_AJGB283_171.ndpi',\n  '\\\\\\\\10.162.80.16\\\\Andre\\\\data\\\\Ashleigh fallopian tube\\\\fallopian tubes\\\\AJGB283\\\\fallopian_tubes_AJGB283_173.ndpi',\n  '\\\\\\\\10.162.80.16\\\\Andre\\\\data\\\\Ashleigh fallopian tube\\\\fallopian tubes\\\\AJGB283\\\\fallopian_tubes_AJGB283_175.ndpi',\n  '\\\\\\\\10.162.80.16\\\\Andre\\\\data\\\\Ashleigh fallopian tube\\\\fallopian tubes\\\\AJGB283\\\\fallopian_tubes_AJGB283_177.ndpi',\n  '\\\\\\\\10.162.80.16\\\\Andre\\\\data\\\\Ashleigh fallopian tube\\\\fallopian tubes\\\\AJGB283\\\\fallopian_tubes_AJGB283_179.ndpi',\n  '\\\\\\\\10.162.80.16\\\\Andre\\\\data\\\\Ashleigh fallopian tube\\\\fallopian tubes\\\\AJGB283\\\\fallopian_tubes_AJGB283_181.ndpi',\n  '\\\\\\\\10.162.80.16\\\\Andre\\\\data\\\\Ashleigh fallopian tube\\\\fallopian tubes\\\\AJGB283\\\\fallopian_tubes_AJGB283_183.ndpi',\n  '\\\\\\\\10.162.80.16\\\\Andre\\\\data\\\\Ashleigh fallopian tube\\\\fallopian tubes\\\\AJGB283\\\\fallopian_tubes_AJGB283_185.ndpi',\n  '\\\\\\\\10.162.80.16\\\\Andre\\\\data\\\\Ashleigh fallopian tube\\\\fallopian tubes\\\\AJGB283\\\\fallopian_tubes_AJGB283_187.ndpi',\n  '\\\\\\\\10.162.80.16\\\\Andre\\\\data\\\\Ashleigh fallopian tube\\\\fallopian tubes\\\\AJGB283\\\\fallopian_tubes_AJGB283_189.ndpi',\n  '\\\\\\\\10.162.80.16\\\\Andre\\\\data\\\\Ashleigh fallopian tube\\\\fallopian tubes\\\\AJGB283\\\\fallopian_tubes_AJGB283_191.ndpi',\n  '\\\\\\\\10.162.80.16\\\\Andre\\\\data\\\\Ashleigh fallopian tube\\\\fallopian tubes\\\\AJGB283\\\\fallopian_tubes_AJGB283_193.ndpi',\n  '\\\\\\\\10.162.80.16\\\\Andre\\\\data\\\\Ashleigh fallopian tube\\\\fallopian tubes\\\\AJGB283\\\\fallopian_tubes_AJGB283_195.ndpi',\n  '\\\\\\\\10.162.80.16\\\\Andre\\\\data\\\\Ashleigh fallopian tube\\\\fallopian tubes\\\\AJGB283\\\\fallopian_tubes_AJGB283_197.ndpi',\n  '\\\\\\\\10.162.80.16\\\\Andre\\\\data\\\\Ashleigh fallopian tube\\\\fallopian tubes\\\\AJGB283\\\\fallopian_tubes_AJGB283_199.ndpi',\n  '\\\\\\\\10.162.80.16\\\\Andre\\\\data\\\\Ashleigh fallopian tube\\\\fallopian tubes\\\\AJGB283\\\\fallopian_tubes_AJGB283_201.ndpi',\n  '\\\\\\\\10.162.80.16\\\\Andre\\\\data\\\\Ashleigh fallopian tube\\\\fallopian tubes\\\\AJGB283\\\\fallopian_tubes_AJGB283_203.ndpi',\n  '\\\\\\\\10.162.80.16\\\\Andre\\\\data\\\\Ashleigh fallopian tube\\\\fallopian tubes\\\\AJGB283\\\\fallopian_tubes_AJGB283_205.ndpi',\n  '\\\\\\\\10.162.80.16\\\\Andre\\\\data\\\\Ashleigh fallopian tube\\\\fallopian tubes\\\\AJGB283\\\\fallopian_tubes_AJGB283_207.ndpi',\n  '\\\\\\\\10.162.80.16\\\\Andre\\\\data\\\\Ashleigh fallopian tube\\\\fallopian tubes\\\\AJGB283\\\\fallopian_tubes_AJGB283_209.ndpi',\n  '\\\\\\\\10.162.80.16\\\\Andre\\\\data\\\\Ashleigh fallopian tube\\\\fallopian tubes\\\\AJGB283\\\\fallopian_tubes_AJGB283_211.ndpi',\n  '\\\\\\\\10.162.80.16\\\\Andre\\\\data\\\\Ashleigh fallopian tube\\\\fallopian tubes\\\\AJGB283\\\\fallopian_tubes_AJGB283_213.ndpi',\n  '\\\\\\\\10.162.80.16\\\\Andre\\\\data\\\\Ashleigh fallopian tube\\\\fallopian tubes\\\\AJGB283\\\\fallopian_tubes_AJGB283_215.ndpi',\n  '\\\\\\\\10.162.80.16\\\\Andre\\\\data\\\\Ashleigh fallopian tube\\\\fallopian tubes\\\\AJGB283\\\\fallopian_tubes_AJGB283_217.ndpi',\n  '\\\\\\\\10.162.80.16\\\\Andre\\\\data\\\\Ashleigh fallopian tube\\\\fallopian tubes\\\\AJGB283\\\\fallopian_tubes_AJGB283_219.ndpi',\n  '\\\\\\\\10.162.80.16\\\\Andre\\\\data\\\\Ashleigh fallopian tube\\\\fallopian tubes\\\\AJGB283\\\\fallopian_tubes_AJGB283_221.ndpi',\n  '\\\\\\\\10.162.80.16\\\\Andre\\\\data\\\\Ashleigh fallopian tube\\\\fallopian tubes\\\\AJGB283\\\\fallopian_tubes_AJGB283_223.ndpi',\n  '\\\\\\\\10.162.80.16\\\\Andre\\\\data\\\\Ashleigh fallopian tube\\\\fallopian tubes\\\\AJGB283\\\\fallopian_tubes_AJGB283_225.ndpi',\n  '\\\\\\\\10.162.80.16\\\\Andre\\\\data\\\\Ashleigh fallopian tube\\\\fallopian tubes\\\\AJGB283\\\\fallopian_tubes_AJGB283_227.ndpi',\n  '\\\\\\\\10.162.80.16\\\\Andre\\\\data\\\\Ashleigh fallopian tube\\\\fallopian tubes\\\\AJGB283\\\\fallopian_tubes_AJGB283_229.ndpi',\n  '\\\\\\\\10.162.80.16\\\\Andre\\\\data\\\\Ashleigh fallopian tube\\\\fallopian tubes\\\\AJGB283\\\\fallopian_tubes_AJGB283_231.ndpi',\n  '\\\\\\\\10.162.80.16\\\\Andre\\\\data\\\\Ashleigh fallopian tube\\\\fallopian tubes\\\\AJGB283\\\\fallopian_tubes_AJGB283_233.ndpi',\n  '\\\\\\\\10.162.80.16\\\\Andre\\\\data\\\\Ashleigh fallopian tube\\\\fallopian tubes\\\\AJGB283\\\\fallopian_tubes_AJGB283_235.ndpi',\n  '\\\\\\\\10.162.80.16\\\\Andre\\\\data\\\\Ashleigh fallopian tube\\\\fallopian tubes\\\\AJGB283\\\\fallopian_tubes_AJGB283_237.ndpi',\n  '\\\\\\\\10.162.80.16\\\\Andre\\\\data\\\\Ashleigh fallopian tube\\\\fallopian tubes\\\\AJGB283\\\\fallopian_tubes_AJGB283_239.ndpi',\n  '\\\\\\\\10.162.80.16\\\\Andre\\\\data\\\\Ashleigh fallopian tube\\\\fallopian tubes\\\\AJGB283\\\\fallopian_tubes_AJGB283_241.ndpi',\n  '\\\\\\\\10.162.80.16\\\\Andre\\\\data\\\\Ashleigh fallopian tube\\\\fallopian tubes\\\\AJGB283\\\\fallopian_tubes_AJGB283_243.ndpi',\n  '\\\\\\\\10.162.80.16\\\\Andre\\\\data\\\\Ashleigh fallopian tube\\\\fallopian tubes\\\\AJGB283\\\\fallopian_tubes_AJGB283_245.ndpi',\n  '\\\\\\\\10.162.80.16\\\\Andre\\\\data\\\\Ashleigh fallopian tube\\\\fallopian tubes\\\\AJGB283\\\\fallopian_tubes_AJGB283_247.ndpi',\n  '\\\\\\\\10.162.80.16\\\\Andre\\\\data\\\\Ashleigh fallopian tube\\\\fallopian tubes\\\\AJGB283\\\\fallopian_tubes_AJGB283_249.ndpi',\n  '\\\\\\\\10.162.80.16\\\\Andre\\\\data\\\\Ashleigh fallopian tube\\\\fallopian tubes\\\\AJGB283\\\\fallopian_tubes_AJGB283_251.ndpi',\n  '\\\\\\\\10.162.80.16\\\\Andre\\\\data\\\\Ashleigh fallopian tube\\\\fallopian tubes\\\\AJGB283\\\\fallopian_tubes_AJGB283_253.ndpi',\n  '\\\\\\\\10.162.80.16\\\\Andre\\\\data\\\\Ashleigh fallopian tube\\\\fallopian tubes\\\\AJGB283\\\\fallopian_tubes_AJGB283_255.ndpi',\n  '\\\\\\\\10.162.80.16\\\\Andre\\\\data\\\\Ashleigh fallopian tube\\\\fallopian tubes\\\\AJGB283\\\\fallopian_tubes_AJGB283_257.ndpi',\n  '\\\\\\\\10.162.80.16\\\\Andre\\\\data\\\\Ashleigh fallopian tube\\\\fallopian tubes\\\\AJGB283\\\\fallopian_tubes_AJGB283_259.ndpi',\n  '\\\\\\\\10.162.80.16\\\\Andre\\\\data\\\\Ashleigh fallopian tube\\\\fallopian tubes\\\\AJGB283\\\\fallopian_tubes_AJGB283_261.ndpi',\n  '\\\\\\\\10.162.80.16\\\\Andre\\\\data\\\\Ashleigh fallopian tube\\\\fallopian tubes\\\\AJGB283\\\\fallopian_tubes_AJGB283_263.ndpi',\n  '\\\\\\\\10.162.80.16\\\\Andre\\\\data\\\\Ashleigh fallopian tube\\\\fallopian tubes\\\\AJGB283\\\\fallopian_tubes_AJGB283_265.ndpi',\n  '\\\\\\\\10.162.80.16\\\\Andre\\\\data\\\\Ashleigh fallopian tube\\\\fallopian tubes\\\\AJGB283\\\\fallopian_tubes_AJGB283_267.ndpi',\n  '\\\\\\\\10.162.80.16\\\\Andre\\\\data\\\\Ashleigh fallopian tube\\\\fallopian tubes\\\\AJGB283\\\\fallopian_tubes_AJGB283_269.ndpi',\n  '\\\\\\\\10.162.80.16\\\\Andre\\\\data\\\\Ashleigh fallopian tube\\\\fallopian tubes\\\\AJGB283\\\\fallopian_tubes_AJGB283_271.ndpi',\n  '\\\\\\\\10.162.80.16\\\\Andre\\\\data\\\\Ashleigh fallopian tube\\\\fallopian tubes\\\\AJGB283\\\\fallopian_tubes_AJGB283_273.ndpi',\n  '\\\\\\\\10.162.80.16\\\\Andre\\\\data\\\\Ashleigh fallopian tube\\\\fallopian tubes\\\\AJGB283\\\\fallopian_tubes_AJGB283_275.ndpi',\n  '\\\\\\\\10.162.80.16\\\\Andre\\\\data\\\\Ashleigh fallopian tube\\\\fallopian tubes\\\\AJGB283\\\\fallopian_tubes_AJGB283_277.ndpi',\n  '\\\\\\\\10.162.80.16\\\\Andre\\\\data\\\\Ashleigh fallopian tube\\\\fallopian tubes\\\\AJGB283\\\\fallopian_tubes_AJGB283_279.ndpi',\n  '\\\\\\\\10.162.80.16\\\\Andre\\\\data\\\\Ashleigh fallopian tube\\\\fallopian tubes\\\\AJGB283\\\\fallopian_tubes_AJGB283_281.ndpi',\n  '\\\\\\\\10.162.80.16\\\\Andre\\\\data\\\\Ashleigh fallopian tube\\\\fallopian tubes\\\\AJGB283\\\\fallopian_tubes_AJGB283_283.ndpi',\n  '\\\\\\\\10.162.80.16\\\\Andre\\\\data\\\\Ashleigh fallopian tube\\\\fallopian tubes\\\\AJGB283\\\\fallopian_tubes_AJGB283_285.ndpi',\n  '\\\\\\\\10.162.80.16\\\\Andre\\\\data\\\\Ashleigh fallopian tube\\\\fallopian tubes\\\\AJGB283\\\\fallopian_tubes_AJGB283_287.ndpi',\n  '\\\\\\\\10.162.80.16\\\\Andre\\\\data\\\\Ashleigh fallopian tube\\\\fallopian tubes\\\\AJGB283\\\\fallopian_tubes_AJGB283_289.ndpi',\n  '\\\\\\\\10.162.80.16\\\\Andre\\\\data\\\\Ashleigh fallopian tube\\\\fallopian tubes\\\\AJGB283\\\\fallopian_tubes_AJGB283_291.ndpi',\n  '\\\\\\\\10.162.80.16\\\\Andre\\\\data\\\\Ashleigh fallopian tube\\\\fallopian tubes\\\\AJGB283\\\\fallopian_tubes_AJGB283_293.ndpi',\n  '\\\\\\\\10.162.80.16\\\\Andre\\\\data\\\\Ashleigh fallopian tube\\\\fallopian tubes\\\\AJGB283\\\\fallopian_tubes_AJGB283_295.ndpi',\n  '\\\\\\\\10.162.80.16\\\\Andre\\\\data\\\\Ashleigh fallopian tube\\\\fallopian tubes\\\\AJGB283\\\\fallopian_tubes_AJGB283_297.ndpi',\n  '\\\\\\\\10.162.80.16\\\\Andre\\\\data\\\\Ashleigh fallopian tube\\\\fallopian tubes\\\\AJGB283\\\\fallopian_tubes_AJGB283_299.ndpi',\n  '\\\\\\\\10.162.80.16\\\\Andre\\\\data\\\\Ashleigh fallopian tube\\\\fallopian tubes\\\\AJGB283\\\\fallopian_tubes_AJGB283_301.ndpi',\n  '\\\\\\\\10.162.80.16\\\\Andre\\\\data\\\\Ashleigh fallopian tube\\\\fallopian tubes\\\\AJGB283\\\\fallopian_tubes_AJGB283_303.ndpi',\n  '\\\\\\\\10.162.80.16\\\\Andre\\\\data\\\\Ashleigh fallopian tube\\\\fallopian tubes\\\\AJGB283\\\\fallopian_tubes_AJGB283_305.ndpi',\n  '\\\\\\\\10.162.80.16\\\\Andre\\\\data\\\\Ashleigh fallopian tube\\\\fallopian tubes\\\\AJGB283\\\\fallopian_tubes_AJGB283_307.ndpi',\n  '\\\\\\\\10.162.80.16\\\\Andre\\\\data\\\\Ashleigh fallopian tube\\\\fallopian tubes\\\\AJGB283\\\\fallopian_tubes_AJGB283_309.ndpi',\n  '\\\\\\\\10.162.80.16\\\\Andre\\\\data\\\\Ashleigh fallopian tube\\\\fallopian tubes\\\\AJGB283\\\\fallopian_tubes_AJGB283_311.ndpi',\n  '\\\\\\\\10.162.80.16\\\\Andre\\\\data\\\\Ashleigh fallopian tube\\\\fallopian tubes\\\\AJGB283\\\\fallopian_tubes_AJGB283_313.ndpi',\n  '\\\\\\\\10.162.80.16\\\\Andre\\\\data\\\\Ashleigh fallopian tube\\\\fallopian tubes\\\\AJGB283\\\\fallopian_tubes_AJGB283_315.ndpi',\n  '\\\\\\\\10.162.80.16\\\\Andre\\\\data\\\\Ashleigh fallopian tube\\\\fallopian tubes\\\\AJGB283\\\\fallopian_tubes_AJGB283_317.ndpi',\n  '\\\\\\\\10.162.80.16\\\\Andre\\\\data\\\\Ashleigh fallopian tube\\\\fallopian tubes\\\\AJGB283\\\\fallopian_tubes_AJGB283_319.ndpi',\n  '\\\\\\\\10.162.80.16\\\\Andre\\\\data\\\\Ashleigh fallopian tube\\\\fallopian tubes\\\\AJGB283\\\\fallopian_tubes_AJGB283_321.ndpi',\n  '\\\\\\\\10.162.80.16\\\\Andre\\\\data\\\\Ashleigh fallopian tube\\\\fallopian tubes\\\\AJGB283\\\\fallopian_tubes_AJGB283_323.ndpi',\n  '\\\\\\\\10.162.80.16\\\\Andre\\\\data\\\\Ashleigh fallopian tube\\\\fallopian tubes\\\\AJGB283\\\\fallopian_tubes_AJGB283_325.ndpi',\n  '\\\\\\\\10.162.80.16\\\\Andre\\\\data\\\\Ashleigh fallopian tube\\\\fallopian tubes\\\\AJGB283\\\\fallopian_tubes_AJGB283_327.ndpi',\n  '\\\\\\\\10.162.80.16\\\\Andre\\\\data\\\\Ashleigh fallopian tube\\\\fallopian tubes\\\\AJGB283\\\\fallopian_tubes_AJGB283_329.ndpi',\n  '\\\\\\\\10.162.80.16\\\\Andre\\\\data\\\\Ashleigh fallopian tube\\\\fallopian tubes\\\\AJGB283\\\\fallopian_tubes_AJGB283_331.ndpi',\n  '\\\\\\\\10.162.80.16\\\\Andre\\\\data\\\\Ashleigh fallopian tube\\\\fallopian tubes\\\\AJGB283\\\\fallopian_tubes_AJGB283_333.ndpi',\n  '\\\\\\\\10.162.80.16\\\\Andre\\\\data\\\\Ashleigh fallopian tube\\\\fallopian tubes\\\\AJGB283\\\\fallopian_tubes_AJGB283_335.ndpi',\n  '\\\\\\\\10.162.80.16\\\\Andre\\\\data\\\\Ashleigh fallopian tube\\\\fallopian tubes\\\\AJGB283\\\\fallopian_tubes_AJGB283_337.ndpi',\n  '\\\\\\\\10.162.80.16\\\\Andre\\\\data\\\\Ashleigh fallopian tube\\\\fallopian tubes\\\\AJGB283\\\\fallopian_tubes_AJGB283_339.ndpi',\n  '\\\\\\\\10.162.80.16\\\\Andre\\\\data\\\\Ashleigh fallopian tube\\\\fallopian tubes\\\\AJGB283\\\\fallopian_tubes_AJGB283_341.ndpi',\n  '\\\\\\\\10.162.80.16\\\\Andre\\\\data\\\\Ashleigh fallopian tube\\\\fallopian tubes\\\\AJGB283\\\\fallopian_tubes_AJGB283_343.ndpi',\n  '\\\\\\\\10.162.80.16\\\\Andre\\\\data\\\\Ashleigh fallopian tube\\\\fallopian tubes\\\\AJGB283\\\\fallopian_tubes_AJGB283_345.ndpi',\n  '\\\\\\\\10.162.80.16\\\\Andre\\\\data\\\\Ashleigh fallopian tube\\\\fallopian tubes\\\\AJGB283\\\\fallopian_tubes_AJGB283_347.ndpi',\n  '\\\\\\\\10.162.80.16\\\\Andre\\\\data\\\\Ashleigh fallopian tube\\\\fallopian tubes\\\\AJGB283\\\\fallopian_tubes_AJGB283_349.ndpi',\n  '\\\\\\\\10.162.80.16\\\\Andre\\\\data\\\\Ashleigh fallopian tube\\\\fallopian tubes\\\\AJGB283\\\\fallopian_tubes_AJGB283_351.ndpi',\n  '\\\\\\\\10.162.80.16\\\\Andre\\\\data\\\\Ashleigh fallopian tube\\\\fallopian tubes\\\\AJGB283\\\\fallopian_tubes_AJGB283_353.ndpi',\n  '\\\\\\\\10.162.80.16\\\\Andre\\\\data\\\\Ashleigh fallopian tube\\\\fallopian tubes\\\\AJGB283\\\\fallopian_tubes_AJGB283_355.ndpi',\n  '\\\\\\\\10.162.80.16\\\\Andre\\\\data\\\\Ashleigh fallopian tube\\\\fallopian tubes\\\\AJGB283\\\\fallopian_tubes_AJGB283_357.ndpi',\n  '\\\\\\\\10.162.80.16\\\\Andre\\\\data\\\\Ashleigh fallopian tube\\\\fallopian tubes\\\\AJGB283\\\\fallopian_tubes_AJGB283_359.ndpi',\n  '\\\\\\\\10.162.80.16\\\\Andre\\\\data\\\\Ashleigh fallopian tube\\\\fallopian tubes\\\\AJGB283\\\\fallopian_tubes_AJGB283_361.ndpi',\n  '\\\\\\\\10.162.80.16\\\\Andre\\\\data\\\\Ashleigh fallopian tube\\\\fallopian tubes\\\\AJGB283\\\\fallopian_tubes_AJGB283_363.ndpi',\n  '\\\\\\\\10.162.80.16\\\\Andre\\\\data\\\\Ashleigh fallopian tube\\\\fallopian tubes\\\\AJGB283\\\\fallopian_tubes_AJGB283_365.ndpi',\n  '\\\\\\\\10.162.80.16\\\\Andre\\\\data\\\\Ashleigh fallopian tube\\\\fallopian tubes\\\\AJGB283\\\\fallopian_tubes_AJGB283_367.ndpi',\n  '\\\\\\\\10.162.80.16\\\\Andre\\\\data\\\\Ashleigh fallopian tube\\\\fallopian tubes\\\\AJGB283\\\\fallopian_tubes_AJGB283_369.ndpi',\n  '\\\\\\\\10.162.80.16\\\\Andre\\\\data\\\\Ashleigh fallopian tube\\\\fallopian tubes\\\\AJGB283\\\\fallopian_tubes_AJGB283_371.ndpi',\n  '\\\\\\\\10.162.80.16\\\\Andre\\\\data\\\\Ashleigh fallopian tube\\\\fallopian tubes\\\\AJGB283\\\\fallopian_tubes_AJGB283_373.ndpi',\n  '\\\\\\\\10.162.80.16\\\\Andre\\\\data\\\\Ashleigh fallopian tube\\\\fallopian tubes\\\\AJGB283\\\\fallopian_tubes_AJGB283_375.ndpi',\n  '\\\\\\\\10.162.80.16\\\\Andre\\\\data\\\\Ashleigh fallopian tube\\\\fallopian tubes\\\\AJGB283\\\\fallopian_tubes_AJGB283_377.ndpi',\n  '\\\\\\\\10.162.80.16\\\\Andre\\\\data\\\\Ashleigh fallopian tube\\\\fallopian tubes\\\\AJGB283\\\\fallopian_tubes_AJGB283_379.ndpi',\n  '\\\\\\\\10.162.80.16\\\\Andre\\\\data\\\\Ashleigh fallopian tube\\\\fallopian tubes\\\\AJGB283\\\\fallopian_tubes_AJGB283_381.ndpi',\n  '\\\\\\\\10.162.80.16\\\\Andre\\\\data\\\\Ashleigh fallopian tube\\\\fallopian tubes\\\\AJGB283\\\\fallopian_tubes_AJGB283_383.ndpi',\n  '\\\\\\\\10.162.80.16\\\\Andre\\\\data\\\\Ashleigh fallopian tube\\\\fallopian tubes\\\\AJGB283\\\\fallopian_tubes_AJGB283_385.ndpi',\n  '\\\\\\\\10.162.80.16\\\\Andre\\\\data\\\\Ashleigh fallopian tube\\\\fallopian tubes\\\\AJGB283\\\\fallopian_tubes_AJGB283_387.ndpi',\n  '\\\\\\\\10.162.80.16\\\\Andre\\\\data\\\\Ashleigh fallopian tube\\\\fallopian tubes\\\\AJGB283\\\\fallopian_tubes_AJGB283_389.ndpi',\n  '\\\\\\\\10.162.80.16\\\\Andre\\\\data\\\\Ashleigh fallopian tube\\\\fallopian tubes\\\\AJGB283\\\\fallopian_tubes_AJGB283_391.ndpi',\n  '\\\\\\\\10.162.80.16\\\\Andre\\\\data\\\\Ashleigh fallopian tube\\\\fallopian tubes\\\\AJGB283\\\\fallopian_tubes_AJGB283_393.ndpi',\n  '\\\\\\\\10.162.80.16\\\\Andre\\\\data\\\\Ashleigh fallopian tube\\\\fallopian tubes\\\\AJGB283\\\\fallopian_tubes_AJGB283_395.ndpi',\n  '\\\\\\\\10.162.80.16\\\\Andre\\\\data\\\\Ashleigh fallopian tube\\\\fallopian tubes\\\\AJGB283\\\\fallopian_tubes_AJGB283_397.ndpi',\n  '\\\\\\\\10.162.80.16\\\\Andre\\\\data\\\\Ashleigh fallopian tube\\\\fallopian tubes\\\\AJGB283\\\\fallopian_tubes_AJGB283_399.ndpi',\n  '\\\\\\\\10.162.80.16\\\\Andre\\\\data\\\\Ashleigh fallopian tube\\\\fallopian tubes\\\\AJGB283\\\\fallopian_tubes_AJGB283_401.ndpi',\n  '\\\\\\\\10.162.80.16\\\\Andre\\\\data\\\\Ashleigh fallopian tube\\\\fallopian tubes\\\\AJGB283\\\\fallopian_tubes_AJGB283_403.ndpi',\n  '\\\\\\\\10.162.80.16\\\\Andre\\\\data\\\\Ashleigh fallopian tube\\\\fallopian tubes\\\\AJGB283\\\\fallopian_tubes_AJGB283_405.ndpi',\n  '\\\\\\\\10.162.80.16\\\\Andre\\\\data\\\\Ashleigh fallopian tube\\\\fallopian tubes\\\\AJGB283\\\\fallopian_tubes_AJGB283_407.ndpi',\n  '\\\\\\\\10.162.80.16\\\\Andre\\\\data\\\\Ashleigh fallopian tube\\\\fallopian tubes\\\\AJGB283\\\\fallopian_tubes_AJGB283_409.ndpi',\n  '\\\\\\\\10.162.80.16\\\\Andre\\\\data\\\\Ashleigh fallopian tube\\\\fallopian tubes\\\\AJGB283\\\\fallopian_tubes_AJGB283_411.ndpi',\n  '\\\\\\\\10.162.80.16\\\\Andre\\\\data\\\\Ashleigh fallopian tube\\\\fallopian tubes\\\\AJGB283\\\\fallopian_tubes_AJGB283_413.ndpi',\n  '\\\\\\\\10.162.80.16\\\\Andre\\\\data\\\\Ashleigh fallopian tube\\\\fallopian tubes\\\\AJGB283\\\\fallopian_tubes_AJGB283_415.ndpi',\n  '\\\\\\\\10.162.80.16\\\\Andre\\\\data\\\\Ashleigh fallopian tube\\\\fallopian tubes\\\\AJGB283\\\\fallopian_tubes_AJGB283_417.ndpi',\n  '\\\\\\\\10.162.80.16\\\\Andre\\\\data\\\\Ashleigh fallopian tube\\\\fallopian tubes\\\\AJGB283\\\\fallopian_tubes_AJGB283_419.ndpi',\n  '\\\\\\\\10.162.80.16\\\\Andre\\\\data\\\\Ashleigh fallopian tube\\\\fallopian tubes\\\\AJGB283\\\\fallopian_tubes_AJGB283_421.ndpi',\n  '\\\\\\\\10.162.80.16\\\\Andre\\\\data\\\\Ashleigh fallopian tube\\\\fallopian tubes\\\\AJGB283\\\\fallopian_tubes_AJGB283_423.ndpi',\n  '\\\\\\\\10.162.80.16\\\\Andre\\\\data\\\\Ashleigh fallopian tube\\\\fallopian tubes\\\\AJGB283\\\\fallopian_tubes_AJGB283_425.ndpi',\n  '\\\\\\\\10.162.80.16\\\\Andre\\\\data\\\\Ashleigh fallopian tube\\\\fallopian tubes\\\\AJGB283\\\\fallopian_tubes_AJGB283_427.ndpi',\n  '\\\\\\\\10.162.80.16\\\\Andre\\\\data\\\\Ashleigh fallopian tube\\\\fallopian tubes\\\\AJGB283\\\\fallopian_tubes_AJGB283_429.ndpi',\n  '\\\\\\\\10.162.80.16\\\\Andre\\\\data\\\\Ashleigh fallopian tube\\\\fallopian tubes\\\\AJGB283\\\\fallopian_tubes_AJGB283_431.ndpi',\n  '\\\\\\\\10.162.80.16\\\\Andre\\\\data\\\\Ashleigh fallopian tube\\\\fallopian tubes\\\\AJGB283\\\\fallopian_tubes_AJGB283_433.ndpi',\n  '\\\\\\\\10.162.80.16\\\\Andre\\\\data\\\\Ashleigh fallopian tube\\\\fallopian tubes\\\\AJGB283\\\\fallopian_tubes_AJGB283_435.ndpi',\n  '\\\\\\\\10.162.80.16\\\\Andre\\\\data\\\\Ashleigh fallopian tube\\\\fallopian tubes\\\\AJGB283\\\\fallopian_tubes_AJGB283_437.ndpi',\n  '\\\\\\\\10.162.80.16\\\\Andre\\\\data\\\\Ashleigh fallopian tube\\\\fallopian tubes\\\\AJGB283\\\\fallopian_tubes_AJGB283_439.ndpi',\n  '\\\\\\\\10.162.80.16\\\\Andre\\\\data\\\\Ashleigh fallopian tube\\\\fallopian tubes\\\\AJGB283\\\\fallopian_tubes_AJGB283_441.ndpi',\n  '\\\\\\\\10.162.80.16\\\\Andre\\\\data\\\\Ashleigh fallopian tube\\\\fallopian tubes\\\\AJGB283\\\\fallopian_tubes_AJGB283_443.ndpi',\n  '\\\\\\\\10.162.80.16\\\\Andre\\\\data\\\\Ashleigh fallopian tube\\\\fallopian tubes\\\\AJGB283\\\\fallopian_tubes_AJGB283_445.ndpi',\n  '\\\\\\\\10.162.80.16\\\\Andre\\\\data\\\\Ashleigh fallopian tube\\\\fallopian tubes\\\\AJGB283\\\\fallopian_tubes_AJGB283_447.ndpi',\n  '\\\\\\\\10.162.80.16\\\\Andre\\\\data\\\\Ashleigh fallopian tube\\\\fallopian tubes\\\\AJGB283\\\\fallopian_tubes_AJGB283_449.ndpi',\n  '\\\\\\\\10.162.80.16\\\\Andre\\\\data\\\\Ashleigh fallopian tube\\\\fallopian tubes\\\\AJGB283\\\\fallopian_tubes_AJGB283_451.ndpi',\n  '\\\\\\\\10.162.80.16\\\\Andre\\\\data\\\\Ashleigh fallopian tube\\\\fallopian tubes\\\\AJGB283\\\\fallopian_tubes_AJGB283_453.ndpi',\n  '\\\\\\\\10.162.80.16\\\\Andre\\\\data\\\\Ashleigh fallopian tube\\\\fallopian tubes\\\\AJGB283\\\\fallopian_tubes_AJGB283_455.ndpi',\n  '\\\\\\\\10.162.80.16\\\\Andre\\\\data\\\\Ashleigh fallopian tube\\\\fallopian tubes\\\\AJGB283\\\\fallopian_tubes_AJGB283_457.ndpi',\n  '\\\\\\\\10.162.80.16\\\\Andre\\\\data\\\\Ashleigh fallopian tube\\\\fallopian tubes\\\\AJGB283\\\\fallopian_tubes_AJGB283_459.ndpi',\n  '\\\\\\\\10.162.80.16\\\\Andre\\\\data\\\\Ashleigh fallopian tube\\\\fallopian tubes\\\\AJGB283\\\\fallopian_tubes_AJGB283_461.ndpi',\n  '\\\\\\\\10.162.80.16\\\\Andre\\\\data\\\\Ashleigh fallopian tube\\\\fallopian tubes\\\\AJGB283\\\\fallopian_tubes_AJGB283_463.ndpi',\n  '\\\\\\\\10.162.80.16\\\\Andre\\\\data\\\\Ashleigh fallopian tube\\\\fallopian tubes\\\\AJGB283\\\\fallopian_tubes_AJGB283_465.ndpi',\n  '\\\\\\\\10.162.80.16\\\\Andre\\\\data\\\\Ashleigh fallopian tube\\\\fallopian tubes\\\\AJGB283\\\\fallopian_tubes_AJGB283_467.ndpi',\n  '\\\\\\\\10.162.80.16\\\\Andre\\\\data\\\\Ashleigh fallopian tube\\\\fallopian tubes\\\\AJGB283\\\\fallopian_tubes_AJGB283_469.ndpi',\n  '\\\\\\\\10.162.80.16\\\\Andre\\\\data\\\\Ashleigh fallopian tube\\\\fallopian tubes\\\\AJGB283\\\\fallopian_tubes_AJGB283_471.ndpi',\n  '\\\\\\\\10.162.80.16\\\\Andre\\\\data\\\\Ashleigh fallopian tube\\\\fallopian tubes\\\\AJGB283\\\\fallopian_tubes_AJGB283_473.ndpi',\n  '\\\\\\\\10.162.80.16\\\\Andre\\\\data\\\\Ashleigh fallopian tube\\\\fallopian tubes\\\\AJGB283\\\\fallopian_tubes_AJGB283_475.ndpi',\n  '\\\\\\\\10.162.80.16\\\\Andre\\\\data\\\\Ashleigh fallopian tube\\\\fallopian tubes\\\\AJGB283\\\\fallopian_tubes_AJGB283_477.ndpi',\n  '\\\\\\\\10.162.80.16\\\\Andre\\\\data\\\\Ashleigh fallopian tube\\\\fallopian tubes\\\\AJGB283\\\\fallopian_tubes_AJGB283_479.ndpi',\n  '\\\\\\\\10.162.80.16\\\\Andre\\\\data\\\\Ashleigh fallopian tube\\\\fallopian tubes\\\\AJGB283\\\\fallopian_tubes_AJGB283_481.ndpi',\n  '\\\\\\\\10.162.80.16\\\\Andre\\\\data\\\\Ashleigh fallopian tube\\\\fallopian tubes\\\\AJGB283\\\\fallopian_tubes_AJGB283_483.ndpi',\n  '\\\\\\\\10.162.80.16\\\\Andre\\\\data\\\\Ashleigh fallopian tube\\\\fallopian tubes\\\\AJGB283\\\\fallopian_tubes_AJGB283_485.ndpi',\n  '\\\\\\\\10.162.80.16\\\\Andre\\\\data\\\\Ashleigh fallopian tube\\\\fallopian tubes\\\\AJGB283\\\\fallopian_tubes_AJGB283_487.ndpi',\n  '\\\\\\\\10.162.80.16\\\\Andre\\\\data\\\\Ashleigh fallopian tube\\\\fallopian tubes\\\\AJGB283\\\\fallopian_tubes_AJGB283_489.ndpi',\n  '\\\\\\\\10.162.80.16\\\\Andre\\\\data\\\\Ashleigh fallopian tube\\\\fallopian tubes\\\\AJGB283\\\\fallopian_tubes_AJGB283_491.ndpi',\n  '\\\\\\\\10.162.80.16\\\\Andre\\\\data\\\\Ashleigh fallopian tube\\\\fallopian tubes\\\\AJGB283\\\\fallopian_tubes_AJGB283_493.ndpi',\n  '\\\\\\\\10.162.80.16\\\\Andre\\\\data\\\\Ashleigh fallopian tube\\\\fallopian tubes\\\\AJGB283\\\\fallopian_tubes_AJGB283_495.ndpi',\n  '\\\\\\\\10.162.80.16\\\\Andre\\\\data\\\\Ashleigh fallopian tube\\\\fallopian tubes\\\\AJGB283\\\\fallopian_tubes_AJGB283_497.ndpi',\n  '\\\\\\\\10.162.80.16\\\\Andre\\\\data\\\\Ashleigh fallopian tube\\\\fallopian tubes\\\\AJGB283\\\\fallopian_tubes_AJGB283_499.ndpi',\n  '\\\\\\\\10.162.80.16\\\\Andre\\\\data\\\\Ashleigh fallopian tube\\\\fallopian tubes\\\\AJGB283\\\\fallopian_tubes_AJGB283_501.ndpi',\n  '\\\\\\\\10.162.80.16\\\\Andre\\\\data\\\\Ashleigh fallopian tube\\\\fallopian tubes\\\\AJGB283\\\\fallopian_tubes_AJGB283_503.ndpi',\n  '\\\\\\\\10.162.80.16\\\\Andre\\\\data\\\\Ashleigh fallopian tube\\\\fallopian tubes\\\\AJGB283\\\\fallopian_tubes_AJGB283_505.ndpi',\n  '\\\\\\\\10.162.80.16\\\\Andre\\\\data\\\\Ashleigh fallopian tube\\\\fallopian tubes\\\\AJGB283\\\\fallopian_tubes_AJGB283_507.ndpi',\n  '\\\\\\\\10.162.80.16\\\\Andre\\\\data\\\\Ashleigh fallopian tube\\\\fallopian tubes\\\\AJGB283\\\\fallopian_tubes_AJGB283_509.ndpi',\n  '\\\\\\\\10.162.80.16\\\\Andre\\\\data\\\\Ashleigh fallopian tube\\\\fallopian tubes\\\\AJGB283\\\\fallopian_tubes_AJGB283_511.ndpi',\n  '\\\\\\\\10.162.80.16\\\\Andre\\\\data\\\\Ashleigh fallopian tube\\\\fallopian tubes\\\\AJGB283\\\\fallopian_tubes_AJGB283_513.ndpi',\n  '\\\\\\\\10.162.80.16\\\\Andre\\\\data\\\\Ashleigh fallopian tube\\\\fallopian tubes\\\\AJGB283\\\\fallopian_tubes_AJGB283_515.ndpi',\n  '\\\\\\\\10.162.80.16\\\\Andre\\\\data\\\\Ashleigh fallopian tube\\\\fallopian tubes\\\\AJGB283\\\\fallopian_tubes_AJGB283_517.ndpi',\n  '\\\\\\\\10.162.80.16\\\\Andre\\\\data\\\\Ashleigh fallopian tube\\\\fallopian tubes\\\\AJGB283\\\\fallopian_tubes_AJGB283_519.ndpi',\n  '\\\\\\\\10.162.80.16\\\\Andre\\\\data\\\\Ashleigh fallopian tube\\\\fallopian tubes\\\\AJGB283\\\\fallopian_tubes_AJGB283_521.ndpi',\n  '\\\\\\\\10.162.80.16\\\\Andre\\\\data\\\\Ashleigh fallopian tube\\\\fallopian tubes\\\\AJGB283\\\\fallopian_tubes_AJGB283_523.ndpi',\n  '\\\\\\\\10.162.80.16\\\\Andre\\\\data\\\\Ashleigh fallopian tube\\\\fallopian tubes\\\\AJGB283\\\\fallopian_tubes_AJGB283_525.ndpi',\n  '\\\\\\\\10.162.80.16\\\\Andre\\\\data\\\\Ashleigh fallopian tube\\\\fallopian tubes\\\\AJGB283\\\\fallopian_tubes_AJGB283_527.ndpi',\n  '\\\\\\\\10.162.80.16\\\\Andre\\\\data\\\\Ashleigh fallopian tube\\\\fallopian tubes\\\\AJGB283\\\\fallopian_tubes_AJGB283_529.ndpi',\n  '\\\\\\\\10.162.80.16\\\\Andre\\\\data\\\\Ashleigh fallopian tube\\\\fallopian tubes\\\\AJGB283\\\\fallopian_tubes_AJGB283_531.ndpi',\n  '\\\\\\\\10.162.80.16\\\\Andre\\\\data\\\\Ashleigh fallopian tube\\\\fallopian tubes\\\\AJGB283\\\\fallopian_tubes_AJGB283_533.ndpi',\n  '\\\\\\\\10.162.80.16\\\\Andre\\\\data\\\\Ashleigh fallopian tube\\\\fallopian tubes\\\\AJGB283\\\\fallopian_tubes_AJGB283_535.ndpi',\n  '\\\\\\\\10.162.80.16\\\\Andre\\\\data\\\\Ashleigh fallopian tube\\\\fallopian tubes\\\\AJGB283\\\\fallopian_tubes_AJGB283_537.ndpi',\n  '\\\\\\\\10.162.80.16\\\\Andre\\\\data\\\\Ashleigh fallopian tube\\\\fallopian tubes\\\\AJGB283\\\\fallopian_tubes_AJGB283_539.ndpi',\n  '\\\\\\\\10.162.80.16\\\\Andre\\\\data\\\\Ashleigh fallopian tube\\\\fallopian tubes\\\\AJGB283\\\\fallopian_tubes_AJGB283_541.ndpi',\n  '\\\\\\\\10.162.80.16\\\\Andre\\\\data\\\\Ashleigh fallopian tube\\\\fallopian tubes\\\\AJGB283\\\\fallopian_tubes_AJGB283_543.ndpi',\n  '\\\\\\\\10.162.80.16\\\\Andre\\\\data\\\\Ashleigh fallopian tube\\\\fallopian tubes\\\\AJGB283\\\\fallopian_tubes_AJGB283_545.ndpi',\n  '\\\\\\\\10.162.80.16\\\\Andre\\\\data\\\\Ashleigh fallopian tube\\\\fallopian tubes\\\\AJGB283\\\\fallopian_tubes_AJGB283_547.ndpi',\n  '\\\\\\\\10.162.80.16\\\\Andre\\\\data\\\\Ashleigh fallopian tube\\\\fallopian tubes\\\\AJGB283\\\\fallopian_tubes_AJGB283_549.ndpi',\n  '\\\\\\\\10.162.80.16\\\\Andre\\\\data\\\\Ashleigh fallopian tube\\\\fallopian tubes\\\\AJGB283\\\\fallopian_tubes_AJGB283_551.ndpi',\n  '\\\\\\\\10.162.80.16\\\\Andre\\\\data\\\\Ashleigh fallopian tube\\\\fallopian tubes\\\\AJGB283\\\\fallopian_tubes_AJGB283_553.ndpi',\n  '\\\\\\\\10.162.80.16\\\\Andre\\\\data\\\\Ashleigh fallopian tube\\\\fallopian tubes\\\\AJGB283\\\\fallopian_tubes_AJGB283_555.ndpi',\n  '\\\\\\\\10.162.80.16\\\\Andre\\\\data\\\\Ashleigh fallopian tube\\\\fallopian tubes\\\\AJGB283\\\\fallopian_tubes_AJGB283_557.ndpi',\n  '\\\\\\\\10.162.80.16\\\\Andre\\\\data\\\\Ashleigh fallopian tube\\\\fallopian tubes\\\\AJGB283\\\\fallopian_tubes_AJGB283_559.ndpi',\n  '\\\\\\\\10.162.80.16\\\\Andre\\\\data\\\\Ashleigh fallopian tube\\\\fallopian tubes\\\\AJGB283\\\\fallopian_tubes_AJGB283_561.ndpi',\n  '\\\\\\\\10.162.80.16\\\\Andre\\\\data\\\\Ashleigh fallopian tube\\\\fallopian tubes\\\\AJGB283\\\\fallopian_tubes_AJGB283_563.ndpi',\n  '\\\\\\\\10.162.80.16\\\\Andre\\\\data\\\\Ashleigh fallopian tube\\\\fallopian tubes\\\\AJGB283\\\\fallopian_tubes_AJGB283_565.ndpi',\n  '\\\\\\\\10.162.80.16\\\\Andre\\\\data\\\\Ashleigh fallopian tube\\\\fallopian tubes\\\\AJGB283\\\\fallopian_tubes_AJGB283_567.ndpi',\n  '\\\\\\\\10.162.80.16\\\\Andre\\\\data\\\\Ashleigh fallopian tube\\\\fallopian tubes\\\\AJGB283\\\\fallopian_tubes_AJGB283_569.ndpi',\n  '\\\\\\\\10.162.80.16\\\\Andre\\\\data\\\\Ashleigh fallopian tube\\\\fallopian tubes\\\\AJGB283\\\\fallopian_tubes_AJGB283_571.ndpi',\n  '\\\\\\\\10.162.80.16\\\\Andre\\\\data\\\\Ashleigh fallopian tube\\\\fallopian tubes\\\\AJGB283\\\\fallopian_tubes_AJGB283_573.ndpi',\n  '\\\\\\\\10.162.80.16\\\\Andre\\\\data\\\\Ashleigh fallopian tube\\\\fallopian tubes\\\\AJGB283\\\\fallopian_tubes_AJGB283_575.ndpi',\n  '\\\\\\\\10.162.80.16\\\\Andre\\\\data\\\\Ashleigh fallopian tube\\\\fallopian tubes\\\\AJGB283\\\\fallopian_tubes_AJGB283_577.ndpi',\n  '\\\\\\\\10.162.80.16\\\\Andre\\\\data\\\\Ashleigh fallopian tube\\\\fallopian tubes\\\\AJGB283\\\\fallopian_tubes_AJGB283_579.ndpi',\n  '\\\\\\\\10.162.80.16\\\\Andre\\\\data\\\\Ashleigh fallopian tube\\\\fallopian tubes\\\\AJGB283\\\\fallopian_tubes_AJGB283_581.ndpi',\n  '\\\\\\\\10.162.80.16\\\\Andre\\\\data\\\\Ashleigh fallopian tube\\\\fallopian tubes\\\\AJGB283\\\\fallopian_tubes_AJGB283_583.ndpi',\n  '\\\\\\\\10.162.80.16\\\\Andre\\\\data\\\\Ashleigh fallopian tube\\\\fallopian tubes\\\\AJGB283\\\\fallopian_tubes_AJGB283_585.ndpi',\n  '\\\\\\\\10.162.80.16\\\\Andre\\\\data\\\\Ashleigh fallopian tube\\\\fallopian tubes\\\\AJGB283\\\\fallopian_tubes_AJGB283_587.ndpi',\n  '\\\\\\\\10.162.80.16\\\\Andre\\\\data\\\\Ashleigh fallopian tube\\\\fallopian tubes\\\\AJGB283\\\\fallopian_tubes_AJGB283_589.ndpi',\n  '\\\\\\\\10.162.80.16\\\\Andre\\\\data\\\\Ashleigh fallopian tube\\\\fallopian tubes\\\\AJGB283\\\\fallopian_tubes_AJGB283_591.ndpi',\n  '\\\\\\\\10.162.80.16\\\\Andre\\\\data\\\\Ashleigh fallopian tube\\\\fallopian tubes\\\\AJGB283\\\\fallopian_tubes_AJGB283_593.ndpi',\n  '\\\\\\\\10.162.80.16\\\\Andre\\\\data\\\\Ashleigh fallopian tube\\\\fallopian tubes\\\\AJGB283\\\\fallopian_tubes_AJGB283_595.ndpi',\n  '\\\\\\\\10.162.80.16\\\\Andre\\\\data\\\\Ashleigh fallopian tube\\\\fallopian tubes\\\\AJGB283\\\\fallopian_tubes_AJGB283_597.ndpi',\n  '\\\\\\\\10.162.80.16\\\\Andre\\\\data\\\\Ashleigh fallopian tube\\\\fallopian tubes\\\\AJGB283\\\\fallopian_tubes_AJGB283_599.ndpi',\n  '\\\\\\\\10.162.80.16\\\\Andre\\\\data\\\\Ashleigh fallopian tube\\\\fallopian tubes\\\\AJGB283\\\\fallopian_tubes_AJGB283_601.ndpi',\n  '\\\\\\\\10.162.80.16\\\\Andre\\\\data\\\\Ashleigh fallopian tube\\\\fallopian tubes\\\\AJGB283\\\\fallopian_tubes_AJGB283_603.ndpi',\n  '\\\\\\\\10.162.80.16\\\\Andre\\\\data\\\\Ashleigh fallopian tube\\\\fallopian tubes\\\\AJGB283\\\\fallopian_tubes_AJGB283_605.ndpi',\n  '\\\\\\\\10.162.80.16\\\\Andre\\\\data\\\\Ashleigh fallopian tube\\\\fallopian tubes\\\\AJGB283\\\\fallopian_tubes_AJGB283_607.ndpi',\n  '\\\\\\\\10.162.80.16\\\\Andre\\\\data\\\\Ashleigh fallopian tube\\\\fallopian tubes\\\\AJGB283\\\\fallopian_tubes_AJGB283_609.ndpi',\n  '\\\\\\\\10.162.80.16\\\\Andre\\\\data\\\\Ashleigh fallopian tube\\\\fallopian tubes\\\\AJGB283\\\\fallopian_tubes_AJGB283_611.ndpi',\n  '\\\\\\\\10.162.80.16\\\\Andre\\\\data\\\\Ashleigh fallopian tube\\\\fallopian tubes\\\\AJGB283\\\\fallopian_tubes_AJGB283_613.ndpi',\n  '\\\\\\\\10.162.80.16\\\\Andre\\\\data\\\\Ashleigh fallopian tube\\\\fallopian tubes\\\\AJGB283\\\\fallopian_tubes_AJGB283_615.ndpi',\n  '\\\\\\\\10.162.80.16\\\\Andre\\\\data\\\\Ashleigh fallopian tube\\\\fallopian tubes\\\\AJGB283\\\\fallopian_tubes_AJGB283_617.ndpi',\n  '\\\\\\\\10.162.80.16\\\\Andre\\\\data\\\\Ashleigh fallopian tube\\\\fallopian tubes\\\\AJGB283\\\\fallopian_tubes_AJGB283_619.ndpi',\n  '\\\\\\\\10.162.80.16\\\\Andre\\\\data\\\\Ashleigh fallopian tube\\\\fallopian tubes\\\\AJGB283\\\\fallopian_tubes_AJGB283_621.ndpi',\n  '\\\\\\\\10.162.80.16\\\\Andre\\\\data\\\\Ashleigh fallopian tube\\\\fallopian tubes\\\\AJGB283\\\\fallopian_tubes_AJGB283_623.ndpi',\n  '\\\\\\\\10.162.80.16\\\\Andre\\\\data\\\\Ashleigh fallopian tube\\\\fallopian tubes\\\\AJGB283\\\\fallopian_tubes_AJGB283_625.ndpi',\n  '\\\\\\\\10.162.80.16\\\\Andre\\\\data\\\\Ashleigh fallopian tube\\\\fallopian tubes\\\\AJGB283\\\\fallopian_tubes_AJGB283_627.ndpi'],\n ['\\\\\\\\10.162.80.16\\\\Andre\\\\data\\\\Ashleigh fallopian tube\\\\fallopian tubes\\\\AJF232\\\\fallopian_tubes_AJLF232_0001.ndpi',\n  '\\\\\\\\10.162.80.16\\\\Andre\\\\data\\\\Ashleigh fallopian tube\\\\fallopian tubes\\\\AJF232\\\\fallopian_tubes_AJLF232_0003.ndpi',\n  '\\\\\\\\10.162.80.16\\\\Andre\\\\data\\\\Ashleigh fallopian tube\\\\fallopian tubes\\\\AJF232\\\\fallopian_tubes_AJLF232_0005.ndpi',\n  '\\\\\\\\10.162.80.16\\\\Andre\\\\data\\\\Ashleigh fallopian tube\\\\fallopian tubes\\\\AJF232\\\\fallopian_tubes_AJLF232_0007.ndpi',\n  '\\\\\\\\10.162.80.16\\\\Andre\\\\data\\\\Ashleigh fallopian tube\\\\fallopian tubes\\\\AJF232\\\\fallopian_tubes_AJLF232_0009.ndpi',\n  '\\\\\\\\10.162.80.16\\\\Andre\\\\data\\\\Ashleigh fallopian tube\\\\fallopian tubes\\\\AJF232\\\\fallopian_tubes_AJLF232_0011.ndpi',\n  '\\\\\\\\10.162.80.16\\\\Andre\\\\data\\\\Ashleigh fallopian tube\\\\fallopian tubes\\\\AJF232\\\\fallopian_tubes_AJLF232_0013.ndpi',\n  '\\\\\\\\10.162.80.16\\\\Andre\\\\data\\\\Ashleigh fallopian tube\\\\fallopian tubes\\\\AJF232\\\\fallopian_tubes_AJLF232_0015.ndpi',\n  '\\\\\\\\10.162.80.16\\\\Andre\\\\data\\\\Ashleigh fallopian tube\\\\fallopian tubes\\\\AJF232\\\\fallopian_tubes_AJLF232_0017.ndpi',\n  '\\\\\\\\10.162.80.16\\\\Andre\\\\data\\\\Ashleigh fallopian tube\\\\fallopian tubes\\\\AJF232\\\\fallopian_tubes_AJLF232_0019.ndpi',\n  '\\\\\\\\10.162.80.16\\\\Andre\\\\data\\\\Ashleigh fallopian tube\\\\fallopian tubes\\\\AJF232\\\\fallopian_tubes_AJLF232_0021.ndpi',\n  '\\\\\\\\10.162.80.16\\\\Andre\\\\data\\\\Ashleigh fallopian tube\\\\fallopian tubes\\\\AJF232\\\\fallopian_tubes_AJLF232_0023.ndpi',\n  '\\\\\\\\10.162.80.16\\\\Andre\\\\data\\\\Ashleigh fallopian tube\\\\fallopian tubes\\\\AJF232\\\\fallopian_tubes_AJLF232_0025.ndpi',\n  '\\\\\\\\10.162.80.16\\\\Andre\\\\data\\\\Ashleigh fallopian tube\\\\fallopian tubes\\\\AJF232\\\\fallopian_tubes_AJLF232_0027.ndpi',\n  '\\\\\\\\10.162.80.16\\\\Andre\\\\data\\\\Ashleigh fallopian tube\\\\fallopian tubes\\\\AJF232\\\\fallopian_tubes_AJLF232_0029.ndpi',\n  '\\\\\\\\10.162.80.16\\\\Andre\\\\data\\\\Ashleigh fallopian tube\\\\fallopian tubes\\\\AJF232\\\\fallopian_tubes_AJLF232_0031.ndpi',\n  '\\\\\\\\10.162.80.16\\\\Andre\\\\data\\\\Ashleigh fallopian tube\\\\fallopian tubes\\\\AJF232\\\\fallopian_tubes_AJLF232_0033.ndpi',\n  '\\\\\\\\10.162.80.16\\\\Andre\\\\data\\\\Ashleigh fallopian tube\\\\fallopian tubes\\\\AJF232\\\\fallopian_tubes_AJLF232_0035.ndpi',\n  '\\\\\\\\10.162.80.16\\\\Andre\\\\data\\\\Ashleigh fallopian tube\\\\fallopian tubes\\\\AJF232\\\\fallopian_tubes_AJLF232_0037.ndpi',\n  '\\\\\\\\10.162.80.16\\\\Andre\\\\data\\\\Ashleigh fallopian tube\\\\fallopian tubes\\\\AJF232\\\\fallopian_tubes_AJLF232_0039.ndpi',\n  '\\\\\\\\10.162.80.16\\\\Andre\\\\data\\\\Ashleigh fallopian tube\\\\fallopian tubes\\\\AJF232\\\\fallopian_tubes_AJLF232_0041.ndpi',\n  '\\\\\\\\10.162.80.16\\\\Andre\\\\data\\\\Ashleigh fallopian tube\\\\fallopian tubes\\\\AJF232\\\\fallopian_tubes_AJLF232_0043.ndpi',\n  '\\\\\\\\10.162.80.16\\\\Andre\\\\data\\\\Ashleigh fallopian tube\\\\fallopian tubes\\\\AJF232\\\\fallopian_tubes_AJLF232_0045.ndpi',\n  '\\\\\\\\10.162.80.16\\\\Andre\\\\data\\\\Ashleigh fallopian tube\\\\fallopian tubes\\\\AJF232\\\\fallopian_tubes_AJLF232_0047.ndpi',\n  '\\\\\\\\10.162.80.16\\\\Andre\\\\data\\\\Ashleigh fallopian tube\\\\fallopian tubes\\\\AJF232\\\\fallopian_tubes_AJLF232_0049.ndpi',\n  '\\\\\\\\10.162.80.16\\\\Andre\\\\data\\\\Ashleigh fallopian tube\\\\fallopian tubes\\\\AJF232\\\\fallopian_tubes_AJLF232_0051.ndpi',\n  '\\\\\\\\10.162.80.16\\\\Andre\\\\data\\\\Ashleigh fallopian tube\\\\fallopian tubes\\\\AJF232\\\\fallopian_tubes_AJLF232_0053.ndpi',\n  '\\\\\\\\10.162.80.16\\\\Andre\\\\data\\\\Ashleigh fallopian tube\\\\fallopian tubes\\\\AJF232\\\\fallopian_tubes_AJLF232_0055.ndpi',\n  '\\\\\\\\10.162.80.16\\\\Andre\\\\data\\\\Ashleigh fallopian tube\\\\fallopian tubes\\\\AJF232\\\\fallopian_tubes_AJLF232_0057.ndpi',\n  '\\\\\\\\10.162.80.16\\\\Andre\\\\data\\\\Ashleigh fallopian tube\\\\fallopian tubes\\\\AJF232\\\\fallopian_tubes_AJLF232_0059.ndpi',\n  '\\\\\\\\10.162.80.16\\\\Andre\\\\data\\\\Ashleigh fallopian tube\\\\fallopian tubes\\\\AJF232\\\\fallopian_tubes_AJLF232_0061.ndpi',\n  '\\\\\\\\10.162.80.16\\\\Andre\\\\data\\\\Ashleigh fallopian tube\\\\fallopian tubes\\\\AJF232\\\\fallopian_tubes_AJLF232_0063.ndpi',\n  '\\\\\\\\10.162.80.16\\\\Andre\\\\data\\\\Ashleigh fallopian tube\\\\fallopian tubes\\\\AJF232\\\\fallopian_tubes_AJLF232_0065.ndpi',\n  '\\\\\\\\10.162.80.16\\\\Andre\\\\data\\\\Ashleigh fallopian tube\\\\fallopian tubes\\\\AJF232\\\\fallopian_tubes_AJLF232_0067.ndpi',\n  '\\\\\\\\10.162.80.16\\\\Andre\\\\data\\\\Ashleigh fallopian tube\\\\fallopian tubes\\\\AJF232\\\\fallopian_tubes_AJLF232_0069.ndpi',\n  '\\\\\\\\10.162.80.16\\\\Andre\\\\data\\\\Ashleigh fallopian tube\\\\fallopian tubes\\\\AJF232\\\\fallopian_tubes_AJLF232_0071.ndpi',\n  '\\\\\\\\10.162.80.16\\\\Andre\\\\data\\\\Ashleigh fallopian tube\\\\fallopian tubes\\\\AJF232\\\\fallopian_tubes_AJLF232_0073.ndpi',\n  '\\\\\\\\10.162.80.16\\\\Andre\\\\data\\\\Ashleigh fallopian tube\\\\fallopian tubes\\\\AJF232\\\\fallopian_tubes_AJLF232_0075.ndpi',\n  '\\\\\\\\10.162.80.16\\\\Andre\\\\data\\\\Ashleigh fallopian tube\\\\fallopian tubes\\\\AJF232\\\\fallopian_tubes_AJLF232_0077.ndpi',\n  '\\\\\\\\10.162.80.16\\\\Andre\\\\data\\\\Ashleigh fallopian tube\\\\fallopian tubes\\\\AJF232\\\\fallopian_tubes_AJLF232_0079.ndpi',\n  '\\\\\\\\10.162.80.16\\\\Andre\\\\data\\\\Ashleigh fallopian tube\\\\fallopian tubes\\\\AJF232\\\\fallopian_tubes_AJLF232_0081.ndpi',\n  '\\\\\\\\10.162.80.16\\\\Andre\\\\data\\\\Ashleigh fallopian tube\\\\fallopian tubes\\\\AJF232\\\\fallopian_tubes_AJLF232_0083.ndpi',\n  '\\\\\\\\10.162.80.16\\\\Andre\\\\data\\\\Ashleigh fallopian tube\\\\fallopian tubes\\\\AJF232\\\\fallopian_tubes_AJLF232_0085.ndpi',\n  '\\\\\\\\10.162.80.16\\\\Andre\\\\data\\\\Ashleigh fallopian tube\\\\fallopian tubes\\\\AJF232\\\\fallopian_tubes_AJLF232_0087.ndpi',\n  '\\\\\\\\10.162.80.16\\\\Andre\\\\data\\\\Ashleigh fallopian tube\\\\fallopian tubes\\\\AJF232\\\\fallopian_tubes_AJLF232_0089.ndpi',\n  '\\\\\\\\10.162.80.16\\\\Andre\\\\data\\\\Ashleigh fallopian tube\\\\fallopian tubes\\\\AJF232\\\\fallopian_tubes_AJLF232_0091.ndpi',\n  '\\\\\\\\10.162.80.16\\\\Andre\\\\data\\\\Ashleigh fallopian tube\\\\fallopian tubes\\\\AJF232\\\\fallopian_tubes_AJLF232_0093.ndpi',\n  '\\\\\\\\10.162.80.16\\\\Andre\\\\data\\\\Ashleigh fallopian tube\\\\fallopian tubes\\\\AJF232\\\\fallopian_tubes_AJLF232_0095.ndpi',\n  '\\\\\\\\10.162.80.16\\\\Andre\\\\data\\\\Ashleigh fallopian tube\\\\fallopian tubes\\\\AJF232\\\\fallopian_tubes_AJLF232_0097.ndpi',\n  '\\\\\\\\10.162.80.16\\\\Andre\\\\data\\\\Ashleigh fallopian tube\\\\fallopian tubes\\\\AJF232\\\\fallopian_tubes_AJLF232_0099.ndpi',\n  '\\\\\\\\10.162.80.16\\\\Andre\\\\data\\\\Ashleigh fallopian tube\\\\fallopian tubes\\\\AJF232\\\\fallopian_tubes_AJLF232_0101.ndpi',\n  '\\\\\\\\10.162.80.16\\\\Andre\\\\data\\\\Ashleigh fallopian tube\\\\fallopian tubes\\\\AJF232\\\\fallopian_tubes_AJLF232_0103.ndpi',\n  '\\\\\\\\10.162.80.16\\\\Andre\\\\data\\\\Ashleigh fallopian tube\\\\fallopian tubes\\\\AJF232\\\\fallopian_tubes_AJLF232_0105.ndpi',\n  '\\\\\\\\10.162.80.16\\\\Andre\\\\data\\\\Ashleigh fallopian tube\\\\fallopian tubes\\\\AJF232\\\\fallopian_tubes_AJLF232_0107.ndpi',\n  '\\\\\\\\10.162.80.16\\\\Andre\\\\data\\\\Ashleigh fallopian tube\\\\fallopian tubes\\\\AJF232\\\\fallopian_tubes_AJLF232_0109.ndpi',\n  '\\\\\\\\10.162.80.16\\\\Andre\\\\data\\\\Ashleigh fallopian tube\\\\fallopian tubes\\\\AJF232\\\\fallopian_tubes_AJLF232_0111.ndpi',\n  '\\\\\\\\10.162.80.16\\\\Andre\\\\data\\\\Ashleigh fallopian tube\\\\fallopian tubes\\\\AJF232\\\\fallopian_tubes_AJLF232_0113.ndpi',\n  '\\\\\\\\10.162.80.16\\\\Andre\\\\data\\\\Ashleigh fallopian tube\\\\fallopian tubes\\\\AJF232\\\\fallopian_tubes_AJLF232_0115.ndpi',\n  '\\\\\\\\10.162.80.16\\\\Andre\\\\data\\\\Ashleigh fallopian tube\\\\fallopian tubes\\\\AJF232\\\\fallopian_tubes_AJLF232_0117.ndpi',\n  '\\\\\\\\10.162.80.16\\\\Andre\\\\data\\\\Ashleigh fallopian tube\\\\fallopian tubes\\\\AJF232\\\\fallopian_tubes_AJLF232_0119.ndpi',\n  '\\\\\\\\10.162.80.16\\\\Andre\\\\data\\\\Ashleigh fallopian tube\\\\fallopian tubes\\\\AJF232\\\\fallopian_tubes_AJLF232_0121.ndpi',\n  '\\\\\\\\10.162.80.16\\\\Andre\\\\data\\\\Ashleigh fallopian tube\\\\fallopian tubes\\\\AJF232\\\\fallopian_tubes_AJLF232_0123.ndpi',\n  '\\\\\\\\10.162.80.16\\\\Andre\\\\data\\\\Ashleigh fallopian tube\\\\fallopian tubes\\\\AJF232\\\\fallopian_tubes_AJLF232_0125.ndpi',\n  '\\\\\\\\10.162.80.16\\\\Andre\\\\data\\\\Ashleigh fallopian tube\\\\fallopian tubes\\\\AJF232\\\\fallopian_tubes_AJLF232_0127.ndpi',\n  '\\\\\\\\10.162.80.16\\\\Andre\\\\data\\\\Ashleigh fallopian tube\\\\fallopian tubes\\\\AJF232\\\\fallopian_tubes_AJLF232_0129.ndpi',\n  '\\\\\\\\10.162.80.16\\\\Andre\\\\data\\\\Ashleigh fallopian tube\\\\fallopian tubes\\\\AJF232\\\\fallopian_tubes_AJLF232_0131.ndpi',\n  '\\\\\\\\10.162.80.16\\\\Andre\\\\data\\\\Ashleigh fallopian tube\\\\fallopian tubes\\\\AJF232\\\\fallopian_tubes_AJLF232_0133.ndpi',\n  '\\\\\\\\10.162.80.16\\\\Andre\\\\data\\\\Ashleigh fallopian tube\\\\fallopian tubes\\\\AJF232\\\\fallopian_tubes_AJLF232_0135.ndpi',\n  '\\\\\\\\10.162.80.16\\\\Andre\\\\data\\\\Ashleigh fallopian tube\\\\fallopian tubes\\\\AJF232\\\\fallopian_tubes_AJLF232_0137.ndpi',\n  '\\\\\\\\10.162.80.16\\\\Andre\\\\data\\\\Ashleigh fallopian tube\\\\fallopian tubes\\\\AJF232\\\\fallopian_tubes_AJLF232_0139.ndpi',\n  '\\\\\\\\10.162.80.16\\\\Andre\\\\data\\\\Ashleigh fallopian tube\\\\fallopian tubes\\\\AJF232\\\\fallopian_tubes_AJLF232_0141.ndpi',\n  '\\\\\\\\10.162.80.16\\\\Andre\\\\data\\\\Ashleigh fallopian tube\\\\fallopian tubes\\\\AJF232\\\\fallopian_tubes_AJLF232_0143.ndpi',\n  '\\\\\\\\10.162.80.16\\\\Andre\\\\data\\\\Ashleigh fallopian tube\\\\fallopian tubes\\\\AJF232\\\\fallopian_tubes_AJLF232_0145.ndpi',\n  '\\\\\\\\10.162.80.16\\\\Andre\\\\data\\\\Ashleigh fallopian tube\\\\fallopian tubes\\\\AJF232\\\\fallopian_tubes_AJLF232_0147.ndpi',\n  '\\\\\\\\10.162.80.16\\\\Andre\\\\data\\\\Ashleigh fallopian tube\\\\fallopian tubes\\\\AJF232\\\\fallopian_tubes_AJLF232_0149.ndpi',\n  '\\\\\\\\10.162.80.16\\\\Andre\\\\data\\\\Ashleigh fallopian tube\\\\fallopian tubes\\\\AJF232\\\\fallopian_tubes_AJLF232_0151.ndpi',\n  '\\\\\\\\10.162.80.16\\\\Andre\\\\data\\\\Ashleigh fallopian tube\\\\fallopian tubes\\\\AJF232\\\\fallopian_tubes_AJLF232_0153.ndpi',\n  '\\\\\\\\10.162.80.16\\\\Andre\\\\data\\\\Ashleigh fallopian tube\\\\fallopian tubes\\\\AJF232\\\\fallopian_tubes_AJLF232_0155.ndpi',\n  '\\\\\\\\10.162.80.16\\\\Andre\\\\data\\\\Ashleigh fallopian tube\\\\fallopian tubes\\\\AJF232\\\\fallopian_tubes_AJLF232_0157.ndpi',\n  '\\\\\\\\10.162.80.16\\\\Andre\\\\data\\\\Ashleigh fallopian tube\\\\fallopian tubes\\\\AJF232\\\\fallopian_tubes_AJLF232_0159.ndpi',\n  '\\\\\\\\10.162.80.16\\\\Andre\\\\data\\\\Ashleigh fallopian tube\\\\fallopian tubes\\\\AJF232\\\\fallopian_tubes_AJLF232_0161.ndpi',\n  '\\\\\\\\10.162.80.16\\\\Andre\\\\data\\\\Ashleigh fallopian tube\\\\fallopian tubes\\\\AJF232\\\\fallopian_tubes_AJLF232_0163.ndpi',\n  '\\\\\\\\10.162.80.16\\\\Andre\\\\data\\\\Ashleigh fallopian tube\\\\fallopian tubes\\\\AJF232\\\\fallopian_tubes_AJLF232_0165.ndpi',\n  '\\\\\\\\10.162.80.16\\\\Andre\\\\data\\\\Ashleigh fallopian tube\\\\fallopian tubes\\\\AJF232\\\\fallopian_tubes_AJLF232_0167.ndpi',\n  '\\\\\\\\10.162.80.16\\\\Andre\\\\data\\\\Ashleigh fallopian tube\\\\fallopian tubes\\\\AJF232\\\\fallopian_tubes_AJLF232_0169.ndpi',\n  '\\\\\\\\10.162.80.16\\\\Andre\\\\data\\\\Ashleigh fallopian tube\\\\fallopian tubes\\\\AJF232\\\\fallopian_tubes_AJLF232_0171.ndpi',\n  '\\\\\\\\10.162.80.16\\\\Andre\\\\data\\\\Ashleigh fallopian tube\\\\fallopian tubes\\\\AJF232\\\\fallopian_tubes_AJLF232_0173.ndpi',\n  '\\\\\\\\10.162.80.16\\\\Andre\\\\data\\\\Ashleigh fallopian tube\\\\fallopian tubes\\\\AJF232\\\\fallopian_tubes_AJLF232_0175.ndpi',\n  '\\\\\\\\10.162.80.16\\\\Andre\\\\data\\\\Ashleigh fallopian tube\\\\fallopian tubes\\\\AJF232\\\\fallopian_tubes_AJLF232_0177.ndpi',\n  '\\\\\\\\10.162.80.16\\\\Andre\\\\data\\\\Ashleigh fallopian tube\\\\fallopian tubes\\\\AJF232\\\\fallopian_tubes_AJLF232_0179.ndpi',\n  '\\\\\\\\10.162.80.16\\\\Andre\\\\data\\\\Ashleigh fallopian tube\\\\fallopian tubes\\\\AJF232\\\\fallopian_tubes_AJLF232_0181.ndpi',\n  '\\\\\\\\10.162.80.16\\\\Andre\\\\data\\\\Ashleigh fallopian tube\\\\fallopian tubes\\\\AJF232\\\\fallopian_tubes_AJLF232_0183.ndpi',\n  '\\\\\\\\10.162.80.16\\\\Andre\\\\data\\\\Ashleigh fallopian tube\\\\fallopian tubes\\\\AJF232\\\\fallopian_tubes_AJLF232_0185.ndpi',\n  '\\\\\\\\10.162.80.16\\\\Andre\\\\data\\\\Ashleigh fallopian tube\\\\fallopian tubes\\\\AJF232\\\\fallopian_tubes_AJLF232_0187.ndpi',\n  '\\\\\\\\10.162.80.16\\\\Andre\\\\data\\\\Ashleigh fallopian tube\\\\fallopian tubes\\\\AJF232\\\\fallopian_tubes_AJLF232_0189.ndpi',\n  '\\\\\\\\10.162.80.16\\\\Andre\\\\data\\\\Ashleigh fallopian tube\\\\fallopian tubes\\\\AJF232\\\\fallopian_tubes_AJLF232_0191.ndpi',\n  '\\\\\\\\10.162.80.16\\\\Andre\\\\data\\\\Ashleigh fallopian tube\\\\fallopian tubes\\\\AJF232\\\\fallopian_tubes_AJLF232_0193.ndpi',\n  '\\\\\\\\10.162.80.16\\\\Andre\\\\data\\\\Ashleigh fallopian tube\\\\fallopian tubes\\\\AJF232\\\\fallopian_tubes_AJLF232_0195.ndpi',\n  '\\\\\\\\10.162.80.16\\\\Andre\\\\data\\\\Ashleigh fallopian tube\\\\fallopian tubes\\\\AJF232\\\\fallopian_tubes_AJLF232_0197.ndpi',\n  '\\\\\\\\10.162.80.16\\\\Andre\\\\data\\\\Ashleigh fallopian tube\\\\fallopian tubes\\\\AJF232\\\\fallopian_tubes_AJLF232_0199.ndpi',\n  '\\\\\\\\10.162.80.16\\\\Andre\\\\data\\\\Ashleigh fallopian tube\\\\fallopian tubes\\\\AJF232\\\\fallopian_tubes_AJLF232_0201.ndpi',\n  '\\\\\\\\10.162.80.16\\\\Andre\\\\data\\\\Ashleigh fallopian tube\\\\fallopian tubes\\\\AJF232\\\\fallopian_tubes_AJLF232_0203.ndpi',\n  '\\\\\\\\10.162.80.16\\\\Andre\\\\data\\\\Ashleigh fallopian tube\\\\fallopian tubes\\\\AJF232\\\\fallopian_tubes_AJLF232_0205.ndpi',\n  '\\\\\\\\10.162.80.16\\\\Andre\\\\data\\\\Ashleigh fallopian tube\\\\fallopian tubes\\\\AJF232\\\\fallopian_tubes_AJLF232_0207.ndpi',\n  '\\\\\\\\10.162.80.16\\\\Andre\\\\data\\\\Ashleigh fallopian tube\\\\fallopian tubes\\\\AJF232\\\\fallopian_tubes_AJLF232_0209.ndpi',\n  '\\\\\\\\10.162.80.16\\\\Andre\\\\data\\\\Ashleigh fallopian tube\\\\fallopian tubes\\\\AJF232\\\\fallopian_tubes_AJLF232_0211.ndpi',\n  '\\\\\\\\10.162.80.16\\\\Andre\\\\data\\\\Ashleigh fallopian tube\\\\fallopian tubes\\\\AJF232\\\\fallopian_tubes_AJLF232_0213.ndpi',\n  '\\\\\\\\10.162.80.16\\\\Andre\\\\data\\\\Ashleigh fallopian tube\\\\fallopian tubes\\\\AJF232\\\\fallopian_tubes_AJLF232_0215.ndpi',\n  '\\\\\\\\10.162.80.16\\\\Andre\\\\data\\\\Ashleigh fallopian tube\\\\fallopian tubes\\\\AJF232\\\\fallopian_tubes_AJLF232_0217.ndpi',\n  '\\\\\\\\10.162.80.16\\\\Andre\\\\data\\\\Ashleigh fallopian tube\\\\fallopian tubes\\\\AJF232\\\\fallopian_tubes_AJLF232_0219.ndpi',\n  '\\\\\\\\10.162.80.16\\\\Andre\\\\data\\\\Ashleigh fallopian tube\\\\fallopian tubes\\\\AJF232\\\\fallopian_tubes_AJLF232_0221.ndpi',\n  '\\\\\\\\10.162.80.16\\\\Andre\\\\data\\\\Ashleigh fallopian tube\\\\fallopian tubes\\\\AJF232\\\\fallopian_tubes_AJLF232_0223.ndpi',\n  '\\\\\\\\10.162.80.16\\\\Andre\\\\data\\\\Ashleigh fallopian tube\\\\fallopian tubes\\\\AJF232\\\\fallopian_tubes_AJLF232_0225.ndpi',\n  '\\\\\\\\10.162.80.16\\\\Andre\\\\data\\\\Ashleigh fallopian tube\\\\fallopian tubes\\\\AJF232\\\\fallopian_tubes_AJLF232_0227.ndpi',\n  '\\\\\\\\10.162.80.16\\\\Andre\\\\data\\\\Ashleigh fallopian tube\\\\fallopian tubes\\\\AJF232\\\\fallopian_tubes_AJLF232_0229.ndpi',\n  '\\\\\\\\10.162.80.16\\\\Andre\\\\data\\\\Ashleigh fallopian tube\\\\fallopian tubes\\\\AJF232\\\\fallopian_tubes_AJLF232_0231.ndpi',\n  '\\\\\\\\10.162.80.16\\\\Andre\\\\data\\\\Ashleigh fallopian tube\\\\fallopian tubes\\\\AJF232\\\\fallopian_tubes_AJLF232_0233.ndpi',\n  '\\\\\\\\10.162.80.16\\\\Andre\\\\data\\\\Ashleigh fallopian tube\\\\fallopian tubes\\\\AJF232\\\\fallopian_tubes_AJLF232_0235.ndpi',\n  '\\\\\\\\10.162.80.16\\\\Andre\\\\data\\\\Ashleigh fallopian tube\\\\fallopian tubes\\\\AJF232\\\\fallopian_tubes_AJLF232_0237.ndpi',\n  '\\\\\\\\10.162.80.16\\\\Andre\\\\data\\\\Ashleigh fallopian tube\\\\fallopian tubes\\\\AJF232\\\\fallopian_tubes_AJLF232_0239.ndpi',\n  '\\\\\\\\10.162.80.16\\\\Andre\\\\data\\\\Ashleigh fallopian tube\\\\fallopian tubes\\\\AJF232\\\\fallopian_tubes_AJLF232_0241.ndpi',\n  '\\\\\\\\10.162.80.16\\\\Andre\\\\data\\\\Ashleigh fallopian tube\\\\fallopian tubes\\\\AJF232\\\\fallopian_tubes_AJLF232_0243.ndpi',\n  '\\\\\\\\10.162.80.16\\\\Andre\\\\data\\\\Ashleigh fallopian tube\\\\fallopian tubes\\\\AJF232\\\\fallopian_tubes_AJLF232_0245.ndpi',\n  '\\\\\\\\10.162.80.16\\\\Andre\\\\data\\\\Ashleigh fallopian tube\\\\fallopian tubes\\\\AJF232\\\\fallopian_tubes_AJLF232_0247.ndpi',\n  '\\\\\\\\10.162.80.16\\\\Andre\\\\data\\\\Ashleigh fallopian tube\\\\fallopian tubes\\\\AJF232\\\\fallopian_tubes_AJLF232_0249.ndpi',\n  '\\\\\\\\10.162.80.16\\\\Andre\\\\data\\\\Ashleigh fallopian tube\\\\fallopian tubes\\\\AJF232\\\\fallopian_tubes_AJLF232_0251.ndpi',\n  '\\\\\\\\10.162.80.16\\\\Andre\\\\data\\\\Ashleigh fallopian tube\\\\fallopian tubes\\\\AJF232\\\\fallopian_tubes_AJLF232_0253.ndpi',\n  '\\\\\\\\10.162.80.16\\\\Andre\\\\data\\\\Ashleigh fallopian tube\\\\fallopian tubes\\\\AJF232\\\\fallopian_tubes_AJLF232_0255.ndpi',\n  '\\\\\\\\10.162.80.16\\\\Andre\\\\data\\\\Ashleigh fallopian tube\\\\fallopian tubes\\\\AJF232\\\\fallopian_tubes_AJLF232_0257.ndpi',\n  '\\\\\\\\10.162.80.16\\\\Andre\\\\data\\\\Ashleigh fallopian tube\\\\fallopian tubes\\\\AJF232\\\\fallopian_tubes_AJLF232_0259.ndpi',\n  '\\\\\\\\10.162.80.16\\\\Andre\\\\data\\\\Ashleigh fallopian tube\\\\fallopian tubes\\\\AJF232\\\\fallopian_tubes_AJLF232_0261.ndpi',\n  '\\\\\\\\10.162.80.16\\\\Andre\\\\data\\\\Ashleigh fallopian tube\\\\fallopian tubes\\\\AJF232\\\\fallopian_tubes_AJLF232_0263.ndpi',\n  '\\\\\\\\10.162.80.16\\\\Andre\\\\data\\\\Ashleigh fallopian tube\\\\fallopian tubes\\\\AJF232\\\\fallopian_tubes_AJLF232_0265.ndpi',\n  '\\\\\\\\10.162.80.16\\\\Andre\\\\data\\\\Ashleigh fallopian tube\\\\fallopian tubes\\\\AJF232\\\\fallopian_tubes_AJLF232_0267.ndpi',\n  '\\\\\\\\10.162.80.16\\\\Andre\\\\data\\\\Ashleigh fallopian tube\\\\fallopian tubes\\\\AJF232\\\\fallopian_tubes_AJLF232_0269.ndpi',\n  '\\\\\\\\10.162.80.16\\\\Andre\\\\data\\\\Ashleigh fallopian tube\\\\fallopian tubes\\\\AJF232\\\\fallopian_tubes_AJLF232_0271.ndpi',\n  '\\\\\\\\10.162.80.16\\\\Andre\\\\data\\\\Ashleigh fallopian tube\\\\fallopian tubes\\\\AJF232\\\\fallopian_tubes_AJLF232_0273.ndpi',\n  '\\\\\\\\10.162.80.16\\\\Andre\\\\data\\\\Ashleigh fallopian tube\\\\fallopian tubes\\\\AJF232\\\\fallopian_tubes_AJLF232_0275.ndpi',\n  '\\\\\\\\10.162.80.16\\\\Andre\\\\data\\\\Ashleigh fallopian tube\\\\fallopian tubes\\\\AJF232\\\\fallopian_tubes_AJLF232_0277.ndpi',\n  '\\\\\\\\10.162.80.16\\\\Andre\\\\data\\\\Ashleigh fallopian tube\\\\fallopian tubes\\\\AJF232\\\\fallopian_tubes_AJLF232_0279.ndpi',\n  '\\\\\\\\10.162.80.16\\\\Andre\\\\data\\\\Ashleigh fallopian tube\\\\fallopian tubes\\\\AJF232\\\\fallopian_tubes_AJLF232_0281.ndpi',\n  '\\\\\\\\10.162.80.16\\\\Andre\\\\data\\\\Ashleigh fallopian tube\\\\fallopian tubes\\\\AJF232\\\\fallopian_tubes_AJLF232_0283.ndpi',\n  '\\\\\\\\10.162.80.16\\\\Andre\\\\data\\\\Ashleigh fallopian tube\\\\fallopian tubes\\\\AJF232\\\\fallopian_tubes_AJLF232_0285.ndpi',\n  '\\\\\\\\10.162.80.16\\\\Andre\\\\data\\\\Ashleigh fallopian tube\\\\fallopian tubes\\\\AJF232\\\\fallopian_tubes_AJLF232_0287.ndpi',\n  '\\\\\\\\10.162.80.16\\\\Andre\\\\data\\\\Ashleigh fallopian tube\\\\fallopian tubes\\\\AJF232\\\\fallopian_tubes_AJLF232_0289.ndpi',\n  '\\\\\\\\10.162.80.16\\\\Andre\\\\data\\\\Ashleigh fallopian tube\\\\fallopian tubes\\\\AJF232\\\\fallopian_tubes_AJLF232_0291.ndpi',\n  '\\\\\\\\10.162.80.16\\\\Andre\\\\data\\\\Ashleigh fallopian tube\\\\fallopian tubes\\\\AJF232\\\\fallopian_tubes_AJLF232_0293.ndpi',\n  '\\\\\\\\10.162.80.16\\\\Andre\\\\data\\\\Ashleigh fallopian tube\\\\fallopian tubes\\\\AJF232\\\\fallopian_tubes_AJLF232_0295.ndpi',\n  '\\\\\\\\10.162.80.16\\\\Andre\\\\data\\\\Ashleigh fallopian tube\\\\fallopian tubes\\\\AJF232\\\\fallopian_tubes_AJLF232_0297.ndpi',\n  '\\\\\\\\10.162.80.16\\\\Andre\\\\data\\\\Ashleigh fallopian tube\\\\fallopian tubes\\\\AJF232\\\\fallopian_tubes_AJLF232_0299.ndpi',\n  '\\\\\\\\10.162.80.16\\\\Andre\\\\data\\\\Ashleigh fallopian tube\\\\fallopian tubes\\\\AJF232\\\\fallopian_tubes_AJLF232_0301.ndpi',\n  '\\\\\\\\10.162.80.16\\\\Andre\\\\data\\\\Ashleigh fallopian tube\\\\fallopian tubes\\\\AJF232\\\\fallopian_tubes_AJLF232_0303.ndpi',\n  '\\\\\\\\10.162.80.16\\\\Andre\\\\data\\\\Ashleigh fallopian tube\\\\fallopian tubes\\\\AJF232\\\\fallopian_tubes_AJLF232_0305.ndpi',\n  '\\\\\\\\10.162.80.16\\\\Andre\\\\data\\\\Ashleigh fallopian tube\\\\fallopian tubes\\\\AJF232\\\\fallopian_tubes_AJLF232_0307.ndpi',\n  '\\\\\\\\10.162.80.16\\\\Andre\\\\data\\\\Ashleigh fallopian tube\\\\fallopian tubes\\\\AJF232\\\\fallopian_tubes_AJLF232_0309.ndpi',\n  '\\\\\\\\10.162.80.16\\\\Andre\\\\data\\\\Ashleigh fallopian tube\\\\fallopian tubes\\\\AJF232\\\\fallopian_tubes_AJLF232_0311.ndpi',\n  '\\\\\\\\10.162.80.16\\\\Andre\\\\data\\\\Ashleigh fallopian tube\\\\fallopian tubes\\\\AJF232\\\\fallopian_tubes_AJLF232_0313.ndpi',\n  '\\\\\\\\10.162.80.16\\\\Andre\\\\data\\\\Ashleigh fallopian tube\\\\fallopian tubes\\\\AJF232\\\\fallopian_tubes_AJLF232_0315.ndpi',\n  '\\\\\\\\10.162.80.16\\\\Andre\\\\data\\\\Ashleigh fallopian tube\\\\fallopian tubes\\\\AJF232\\\\fallopian_tubes_AJLF232_0317.ndpi',\n  '\\\\\\\\10.162.80.16\\\\Andre\\\\data\\\\Ashleigh fallopian tube\\\\fallopian tubes\\\\AJF232\\\\fallopian_tubes_AJLF232_0319.ndpi',\n  '\\\\\\\\10.162.80.16\\\\Andre\\\\data\\\\Ashleigh fallopian tube\\\\fallopian tubes\\\\AJF232\\\\fallopian_tubes_AJLF232_0321.ndpi',\n  '\\\\\\\\10.162.80.16\\\\Andre\\\\data\\\\Ashleigh fallopian tube\\\\fallopian tubes\\\\AJF232\\\\fallopian_tubes_AJLF232_0323.ndpi',\n  '\\\\\\\\10.162.80.16\\\\Andre\\\\data\\\\Ashleigh fallopian tube\\\\fallopian tubes\\\\AJF232\\\\fallopian_tubes_AJLF232_0325.ndpi',\n  '\\\\\\\\10.162.80.16\\\\Andre\\\\data\\\\Ashleigh fallopian tube\\\\fallopian tubes\\\\AJF232\\\\fallopian_tubes_AJLF232_0327.ndpi',\n  '\\\\\\\\10.162.80.16\\\\Andre\\\\data\\\\Ashleigh fallopian tube\\\\fallopian tubes\\\\AJF232\\\\fallopian_tubes_AJLF232_0329.ndpi',\n  '\\\\\\\\10.162.80.16\\\\Andre\\\\data\\\\Ashleigh fallopian tube\\\\fallopian tubes\\\\AJF232\\\\fallopian_tubes_AJLF232_0331.ndpi',\n  '\\\\\\\\10.162.80.16\\\\Andre\\\\data\\\\Ashleigh fallopian tube\\\\fallopian tubes\\\\AJF232\\\\fallopian_tubes_AJLF232_0333.ndpi',\n  '\\\\\\\\10.162.80.16\\\\Andre\\\\data\\\\Ashleigh fallopian tube\\\\fallopian tubes\\\\AJF232\\\\fallopian_tubes_AJLF232_0335.ndpi',\n  '\\\\\\\\10.162.80.16\\\\Andre\\\\data\\\\Ashleigh fallopian tube\\\\fallopian tubes\\\\AJF232\\\\fallopian_tubes_AJLF232_0337.ndpi',\n  '\\\\\\\\10.162.80.16\\\\Andre\\\\data\\\\Ashleigh fallopian tube\\\\fallopian tubes\\\\AJF232\\\\fallopian_tubes_AJLF232_0339.ndpi',\n  '\\\\\\\\10.162.80.16\\\\Andre\\\\data\\\\Ashleigh fallopian tube\\\\fallopian tubes\\\\AJF232\\\\fallopian_tubes_AJLF232_0341.ndpi',\n  '\\\\\\\\10.162.80.16\\\\Andre\\\\data\\\\Ashleigh fallopian tube\\\\fallopian tubes\\\\AJF232\\\\fallopian_tubes_AJLF232_0343.ndpi',\n  '\\\\\\\\10.162.80.16\\\\Andre\\\\data\\\\Ashleigh fallopian tube\\\\fallopian tubes\\\\AJF232\\\\fallopian_tubes_AJLF232_0345.ndpi',\n  '\\\\\\\\10.162.80.16\\\\Andre\\\\data\\\\Ashleigh fallopian tube\\\\fallopian tubes\\\\AJF232\\\\fallopian_tubes_AJLF232_0347.ndpi',\n  '\\\\\\\\10.162.80.16\\\\Andre\\\\data\\\\Ashleigh fallopian tube\\\\fallopian tubes\\\\AJF232\\\\fallopian_tubes_AJLF232_0349.ndpi',\n  '\\\\\\\\10.162.80.16\\\\Andre\\\\data\\\\Ashleigh fallopian tube\\\\fallopian tubes\\\\AJF232\\\\fallopian_tubes_AJLF232_0351.ndpi',\n  '\\\\\\\\10.162.80.16\\\\Andre\\\\data\\\\Ashleigh fallopian tube\\\\fallopian tubes\\\\AJF232\\\\fallopian_tubes_AJLF232_0353.ndpi',\n  '\\\\\\\\10.162.80.16\\\\Andre\\\\data\\\\Ashleigh fallopian tube\\\\fallopian tubes\\\\AJF232\\\\fallopian_tubes_AJLF232_0355.ndpi',\n  '\\\\\\\\10.162.80.16\\\\Andre\\\\data\\\\Ashleigh fallopian tube\\\\fallopian tubes\\\\AJF232\\\\fallopian_tubes_AJLF232_0357.ndpi',\n  '\\\\\\\\10.162.80.16\\\\Andre\\\\data\\\\Ashleigh fallopian tube\\\\fallopian tubes\\\\AJF232\\\\fallopian_tubes_AJLF232_0359.ndpi',\n  '\\\\\\\\10.162.80.16\\\\Andre\\\\data\\\\Ashleigh fallopian tube\\\\fallopian tubes\\\\AJF232\\\\fallopian_tubes_AJLF232_0361.ndpi',\n  '\\\\\\\\10.162.80.16\\\\Andre\\\\data\\\\Ashleigh fallopian tube\\\\fallopian tubes\\\\AJF232\\\\fallopian_tubes_AJLF232_0363.ndpi',\n  '\\\\\\\\10.162.80.16\\\\Andre\\\\data\\\\Ashleigh fallopian tube\\\\fallopian tubes\\\\AJF232\\\\fallopian_tubes_AJLF232_0365.ndpi',\n  '\\\\\\\\10.162.80.16\\\\Andre\\\\data\\\\Ashleigh fallopian tube\\\\fallopian tubes\\\\AJF232\\\\fallopian_tubes_AJLF232_0367.ndpi',\n  '\\\\\\\\10.162.80.16\\\\Andre\\\\data\\\\Ashleigh fallopian tube\\\\fallopian tubes\\\\AJF232\\\\fallopian_tubes_AJLF232_0369.ndpi',\n  '\\\\\\\\10.162.80.16\\\\Andre\\\\data\\\\Ashleigh fallopian tube\\\\fallopian tubes\\\\AJF232\\\\fallopian_tubes_AJLF232_0371.ndpi',\n  '\\\\\\\\10.162.80.16\\\\Andre\\\\data\\\\Ashleigh fallopian tube\\\\fallopian tubes\\\\AJF232\\\\fallopian_tubes_AJLF232_0373.ndpi',\n  '\\\\\\\\10.162.80.16\\\\Andre\\\\data\\\\Ashleigh fallopian tube\\\\fallopian tubes\\\\AJF232\\\\fallopian_tubes_AJLF232_0375.ndpi',\n  '\\\\\\\\10.162.80.16\\\\Andre\\\\data\\\\Ashleigh fallopian tube\\\\fallopian tubes\\\\AJF232\\\\fallopian_tubes_AJLF232_0377.ndpi',\n  '\\\\\\\\10.162.80.16\\\\Andre\\\\data\\\\Ashleigh fallopian tube\\\\fallopian tubes\\\\AJF232\\\\fallopian_tubes_AJLF232_0379.ndpi',\n  '\\\\\\\\10.162.80.16\\\\Andre\\\\data\\\\Ashleigh fallopian tube\\\\fallopian tubes\\\\AJF232\\\\fallopian_tubes_AJLF232_0381.ndpi',\n  '\\\\\\\\10.162.80.16\\\\Andre\\\\data\\\\Ashleigh fallopian tube\\\\fallopian tubes\\\\AJF232\\\\fallopian_tubes_AJLF232_0383.ndpi',\n  '\\\\\\\\10.162.80.16\\\\Andre\\\\data\\\\Ashleigh fallopian tube\\\\fallopian tubes\\\\AJF232\\\\fallopian_tubes_AJLF232_0385.ndpi',\n  '\\\\\\\\10.162.80.16\\\\Andre\\\\data\\\\Ashleigh fallopian tube\\\\fallopian tubes\\\\AJF232\\\\fallopian_tubes_AJLF232_0387.ndpi',\n  '\\\\\\\\10.162.80.16\\\\Andre\\\\data\\\\Ashleigh fallopian tube\\\\fallopian tubes\\\\AJF232\\\\fallopian_tubes_AJLF232_0389.ndpi',\n  '\\\\\\\\10.162.80.16\\\\Andre\\\\data\\\\Ashleigh fallopian tube\\\\fallopian tubes\\\\AJF232\\\\fallopian_tubes_AJLF232_0391.ndpi',\n  '\\\\\\\\10.162.80.16\\\\Andre\\\\data\\\\Ashleigh fallopian tube\\\\fallopian tubes\\\\AJF232\\\\fallopian_tubes_AJLF232_0393.ndpi',\n  '\\\\\\\\10.162.80.16\\\\Andre\\\\data\\\\Ashleigh fallopian tube\\\\fallopian tubes\\\\AJF232\\\\fallopian_tubes_AJLF232_0395.ndpi',\n  '\\\\\\\\10.162.80.16\\\\Andre\\\\data\\\\Ashleigh fallopian tube\\\\fallopian tubes\\\\AJF232\\\\fallopian_tubes_AJLF232_0397.ndpi',\n  '\\\\\\\\10.162.80.16\\\\Andre\\\\data\\\\Ashleigh fallopian tube\\\\fallopian tubes\\\\AJF232\\\\fallopian_tubes_AJLF232_0399.ndpi',\n  '\\\\\\\\10.162.80.16\\\\Andre\\\\data\\\\Ashleigh fallopian tube\\\\fallopian tubes\\\\AJF232\\\\fallopian_tubes_AJLF232_0401.ndpi',\n  '\\\\\\\\10.162.80.16\\\\Andre\\\\data\\\\Ashleigh fallopian tube\\\\fallopian tubes\\\\AJF232\\\\fallopian_tubes_AJLF232_0403.ndpi',\n  '\\\\\\\\10.162.80.16\\\\Andre\\\\data\\\\Ashleigh fallopian tube\\\\fallopian tubes\\\\AJF232\\\\fallopian_tubes_AJLF232_0405.ndpi',\n  '\\\\\\\\10.162.80.16\\\\Andre\\\\data\\\\Ashleigh fallopian tube\\\\fallopian tubes\\\\AJF232\\\\fallopian_tubes_AJLF232_0407.ndpi',\n  '\\\\\\\\10.162.80.16\\\\Andre\\\\data\\\\Ashleigh fallopian tube\\\\fallopian tubes\\\\AJF232\\\\fallopian_tubes_AJLF232_0409.ndpi',\n  '\\\\\\\\10.162.80.16\\\\Andre\\\\data\\\\Ashleigh fallopian tube\\\\fallopian tubes\\\\AJF232\\\\fallopian_tubes_AJLF232_0411.ndpi',\n  '\\\\\\\\10.162.80.16\\\\Andre\\\\data\\\\Ashleigh fallopian tube\\\\fallopian tubes\\\\AJF232\\\\fallopian_tubes_AJLF232_0413.ndpi',\n  '\\\\\\\\10.162.80.16\\\\Andre\\\\data\\\\Ashleigh fallopian tube\\\\fallopian tubes\\\\AJF232\\\\fallopian_tubes_AJLF232_0415.ndpi',\n  '\\\\\\\\10.162.80.16\\\\Andre\\\\data\\\\Ashleigh fallopian tube\\\\fallopian tubes\\\\AJF232\\\\fallopian_tubes_AJLF232_0417.ndpi',\n  '\\\\\\\\10.162.80.16\\\\Andre\\\\data\\\\Ashleigh fallopian tube\\\\fallopian tubes\\\\AJF232\\\\fallopian_tubes_AJLF232_0419.ndpi',\n  '\\\\\\\\10.162.80.16\\\\Andre\\\\data\\\\Ashleigh fallopian tube\\\\fallopian tubes\\\\AJF232\\\\fallopian_tubes_AJLF232_0421.ndpi',\n  '\\\\\\\\10.162.80.16\\\\Andre\\\\data\\\\Ashleigh fallopian tube\\\\fallopian tubes\\\\AJF232\\\\fallopian_tubes_AJLF232_0423.ndpi',\n  '\\\\\\\\10.162.80.16\\\\Andre\\\\data\\\\Ashleigh fallopian tube\\\\fallopian tubes\\\\AJF232\\\\fallopian_tubes_AJLF232_0425.ndpi',\n  '\\\\\\\\10.162.80.16\\\\Andre\\\\data\\\\Ashleigh fallopian tube\\\\fallopian tubes\\\\AJF232\\\\fallopian_tubes_AJLF232_0427.ndpi',\n  '\\\\\\\\10.162.80.16\\\\Andre\\\\data\\\\Ashleigh fallopian tube\\\\fallopian tubes\\\\AJF232\\\\fallopian_tubes_AJLF232_0429.ndpi',\n  '\\\\\\\\10.162.80.16\\\\Andre\\\\data\\\\Ashleigh fallopian tube\\\\fallopian tubes\\\\AJF232\\\\fallopian_tubes_AJLF232_0431.ndpi',\n  '\\\\\\\\10.162.80.16\\\\Andre\\\\data\\\\Ashleigh fallopian tube\\\\fallopian tubes\\\\AJF232\\\\fallopian_tubes_AJLF232_0433.ndpi',\n  '\\\\\\\\10.162.80.16\\\\Andre\\\\data\\\\Ashleigh fallopian tube\\\\fallopian tubes\\\\AJF232\\\\fallopian_tubes_AJLF232_0435.ndpi',\n  '\\\\\\\\10.162.80.16\\\\Andre\\\\data\\\\Ashleigh fallopian tube\\\\fallopian tubes\\\\AJF232\\\\fallopian_tubes_AJLF232_0437.ndpi',\n  '\\\\\\\\10.162.80.16\\\\Andre\\\\data\\\\Ashleigh fallopian tube\\\\fallopian tubes\\\\AJF232\\\\fallopian_tubes_AJLF232_0439.ndpi',\n  '\\\\\\\\10.162.80.16\\\\Andre\\\\data\\\\Ashleigh fallopian tube\\\\fallopian tubes\\\\AJF232\\\\fallopian_tubes_AJLF232_0441.ndpi',\n  '\\\\\\\\10.162.80.16\\\\Andre\\\\data\\\\Ashleigh fallopian tube\\\\fallopian tubes\\\\AJF232\\\\fallopian_tubes_AJLF232_0443.ndpi',\n  '\\\\\\\\10.162.80.16\\\\Andre\\\\data\\\\Ashleigh fallopian tube\\\\fallopian tubes\\\\AJF232\\\\fallopian_tubes_AJLF232_0445.ndpi',\n  '\\\\\\\\10.162.80.16\\\\Andre\\\\data\\\\Ashleigh fallopian tube\\\\fallopian tubes\\\\AJF232\\\\fallopian_tubes_AJLF232_0447.ndpi',\n  '\\\\\\\\10.162.80.16\\\\Andre\\\\data\\\\Ashleigh fallopian tube\\\\fallopian tubes\\\\AJF232\\\\fallopian_tubes_AJLF232_0449.ndpi',\n  '\\\\\\\\10.162.80.16\\\\Andre\\\\data\\\\Ashleigh fallopian tube\\\\fallopian tubes\\\\AJF232\\\\fallopian_tubes_AJLF232_0451.ndpi',\n  '\\\\\\\\10.162.80.16\\\\Andre\\\\data\\\\Ashleigh fallopian tube\\\\fallopian tubes\\\\AJF232\\\\fallopian_tubes_AJLF232_0453.ndpi',\n  '\\\\\\\\10.162.80.16\\\\Andre\\\\data\\\\Ashleigh fallopian tube\\\\fallopian tubes\\\\AJF232\\\\fallopian_tubes_AJLF232_0455.ndpi',\n  '\\\\\\\\10.162.80.16\\\\Andre\\\\data\\\\Ashleigh fallopian tube\\\\fallopian tubes\\\\AJF232\\\\fallopian_tubes_AJLF232_0457.ndpi',\n  '\\\\\\\\10.162.80.16\\\\Andre\\\\data\\\\Ashleigh fallopian tube\\\\fallopian tubes\\\\AJF232\\\\fallopian_tubes_AJLF232_0459.ndpi',\n  '\\\\\\\\10.162.80.16\\\\Andre\\\\data\\\\Ashleigh fallopian tube\\\\fallopian tubes\\\\AJF232\\\\fallopian_tubes_AJLF232_0461.ndpi',\n  '\\\\\\\\10.162.80.16\\\\Andre\\\\data\\\\Ashleigh fallopian tube\\\\fallopian tubes\\\\AJF232\\\\fallopian_tubes_AJLF232_0463.ndpi',\n  '\\\\\\\\10.162.80.16\\\\Andre\\\\data\\\\Ashleigh fallopian tube\\\\fallopian tubes\\\\AJF232\\\\fallopian_tubes_AJLF232_0465.ndpi',\n  '\\\\\\\\10.162.80.16\\\\Andre\\\\data\\\\Ashleigh fallopian tube\\\\fallopian tubes\\\\AJF232\\\\fallopian_tubes_AJLF232_0467.ndpi',\n  '\\\\\\\\10.162.80.16\\\\Andre\\\\data\\\\Ashleigh fallopian tube\\\\fallopian tubes\\\\AJF232\\\\fallopian_tubes_AJLF232_0469.ndpi',\n  '\\\\\\\\10.162.80.16\\\\Andre\\\\data\\\\Ashleigh fallopian tube\\\\fallopian tubes\\\\AJF232\\\\fallopian_tubes_AJLF232_0471.ndpi',\n  '\\\\\\\\10.162.80.16\\\\Andre\\\\data\\\\Ashleigh fallopian tube\\\\fallopian tubes\\\\AJF232\\\\fallopian_tubes_AJLF232_0473.ndpi',\n  '\\\\\\\\10.162.80.16\\\\Andre\\\\data\\\\Ashleigh fallopian tube\\\\fallopian tubes\\\\AJF232\\\\fallopian_tubes_AJLF232_0475.ndpi',\n  '\\\\\\\\10.162.80.16\\\\Andre\\\\data\\\\Ashleigh fallopian tube\\\\fallopian tubes\\\\AJF232\\\\fallopian_tubes_AJLF232_0477.ndpi',\n  '\\\\\\\\10.162.80.16\\\\Andre\\\\data\\\\Ashleigh fallopian tube\\\\fallopian tubes\\\\AJF232\\\\fallopian_tubes_AJLF232_0479.ndpi',\n  '\\\\\\\\10.162.80.16\\\\Andre\\\\data\\\\Ashleigh fallopian tube\\\\fallopian tubes\\\\AJF232\\\\fallopian_tubes_AJLF232_0481.ndpi',\n  '\\\\\\\\10.162.80.16\\\\Andre\\\\data\\\\Ashleigh fallopian tube\\\\fallopian tubes\\\\AJF232\\\\fallopian_tubes_AJLF232_0483.ndpi',\n  '\\\\\\\\10.162.80.16\\\\Andre\\\\data\\\\Ashleigh fallopian tube\\\\fallopian tubes\\\\AJF232\\\\fallopian_tubes_AJLF232_0485.ndpi',\n  '\\\\\\\\10.162.80.16\\\\Andre\\\\data\\\\Ashleigh fallopian tube\\\\fallopian tubes\\\\AJF232\\\\fallopian_tubes_AJLF232_0487.ndpi',\n  '\\\\\\\\10.162.80.16\\\\Andre\\\\data\\\\Ashleigh fallopian tube\\\\fallopian tubes\\\\AJF232\\\\fallopian_tubes_AJLF232_0489.ndpi',\n  '\\\\\\\\10.162.80.16\\\\Andre\\\\data\\\\Ashleigh fallopian tube\\\\fallopian tubes\\\\AJF232\\\\fallopian_tubes_AJLF232_0491.ndpi',\n  '\\\\\\\\10.162.80.16\\\\Andre\\\\data\\\\Ashleigh fallopian tube\\\\fallopian tubes\\\\AJF232\\\\fallopian_tubes_AJLF232_0493.ndpi',\n  '\\\\\\\\10.162.80.16\\\\Andre\\\\data\\\\Ashleigh fallopian tube\\\\fallopian tubes\\\\AJF232\\\\fallopian_tubes_AJLF232_0495.ndpi',\n  '\\\\\\\\10.162.80.16\\\\Andre\\\\data\\\\Ashleigh fallopian tube\\\\fallopian tubes\\\\AJF232\\\\fallopian_tubes_AJLF232_0497.ndpi',\n  '\\\\\\\\10.162.80.16\\\\Andre\\\\data\\\\Ashleigh fallopian tube\\\\fallopian tubes\\\\AJF232\\\\fallopian_tubes_AJLF232_0499.ndpi',\n  '\\\\\\\\10.162.80.16\\\\Andre\\\\data\\\\Ashleigh fallopian tube\\\\fallopian tubes\\\\AJF232\\\\fallopian_tubes_AJLF232_0501.ndpi',\n  '\\\\\\\\10.162.80.16\\\\Andre\\\\data\\\\Ashleigh fallopian tube\\\\fallopian tubes\\\\AJF232\\\\fallopian_tubes_AJLF232_0503.ndpi',\n  '\\\\\\\\10.162.80.16\\\\Andre\\\\data\\\\Ashleigh fallopian tube\\\\fallopian tubes\\\\AJF232\\\\fallopian_tubes_AJLF232_0505.ndpi',\n  '\\\\\\\\10.162.80.16\\\\Andre\\\\data\\\\Ashleigh fallopian tube\\\\fallopian tubes\\\\AJF232\\\\fallopian_tubes_AJLF232_0507.ndpi',\n  '\\\\\\\\10.162.80.16\\\\Andre\\\\data\\\\Ashleigh fallopian tube\\\\fallopian tubes\\\\AJF232\\\\fallopian_tubes_AJLF232_0509.ndpi',\n  '\\\\\\\\10.162.80.16\\\\Andre\\\\data\\\\Ashleigh fallopian tube\\\\fallopian tubes\\\\AJF232\\\\fallopian_tubes_AJLF232_0511.ndpi',\n  '\\\\\\\\10.162.80.16\\\\Andre\\\\data\\\\Ashleigh fallopian tube\\\\fallopian tubes\\\\AJF232\\\\fallopian_tubes_AJLF232_0513.ndpi',\n  '\\\\\\\\10.162.80.16\\\\Andre\\\\data\\\\Ashleigh fallopian tube\\\\fallopian tubes\\\\AJF232\\\\fallopian_tubes_AJLF232_0515.ndpi',\n  '\\\\\\\\10.162.80.16\\\\Andre\\\\data\\\\Ashleigh fallopian tube\\\\fallopian tubes\\\\AJF232\\\\fallopian_tubes_AJLF232_0517.ndpi',\n  '\\\\\\\\10.162.80.16\\\\Andre\\\\data\\\\Ashleigh fallopian tube\\\\fallopian tubes\\\\AJF232\\\\fallopian_tubes_AJLF232_0519.ndpi',\n  '\\\\\\\\10.162.80.16\\\\Andre\\\\data\\\\Ashleigh fallopian tube\\\\fallopian tubes\\\\AJF232\\\\fallopian_tubes_AJLF232_0521.ndpi',\n  '\\\\\\\\10.162.80.16\\\\Andre\\\\data\\\\Ashleigh fallopian tube\\\\fallopian tubes\\\\AJF232\\\\fallopian_tubes_AJLF232_0523.ndpi',\n  '\\\\\\\\10.162.80.16\\\\Andre\\\\data\\\\Ashleigh fallopian tube\\\\fallopian tubes\\\\AJF232\\\\fallopian_tubes_AJLF232_0525.ndpi',\n  '\\\\\\\\10.162.80.16\\\\Andre\\\\data\\\\Ashleigh fallopian tube\\\\fallopian tubes\\\\AJF232\\\\fallopian_tubes_AJLF232_0527.ndpi',\n  '\\\\\\\\10.162.80.16\\\\Andre\\\\data\\\\Ashleigh fallopian tube\\\\fallopian tubes\\\\AJF232\\\\fallopian_tubes_AJLF232_0529.ndpi',\n  '\\\\\\\\10.162.80.16\\\\Andre\\\\data\\\\Ashleigh fallopian tube\\\\fallopian tubes\\\\AJF232\\\\fallopian_tubes_AJLF232_0531.ndpi',\n  '\\\\\\\\10.162.80.16\\\\Andre\\\\data\\\\Ashleigh fallopian tube\\\\fallopian tubes\\\\AJF232\\\\fallopian_tubes_AJLF232_0533.ndpi',\n  '\\\\\\\\10.162.80.16\\\\Andre\\\\data\\\\Ashleigh fallopian tube\\\\fallopian tubes\\\\AJF232\\\\fallopian_tubes_AJLF232_0535.ndpi',\n  '\\\\\\\\10.162.80.16\\\\Andre\\\\data\\\\Ashleigh fallopian tube\\\\fallopian tubes\\\\AJF232\\\\fallopian_tubes_AJLF232_0537.ndpi',\n  '\\\\\\\\10.162.80.16\\\\Andre\\\\data\\\\Ashleigh fallopian tube\\\\fallopian tubes\\\\AJF232\\\\fallopian_tubes_AJLF232_0539.ndpi',\n  '\\\\\\\\10.162.80.16\\\\Andre\\\\data\\\\Ashleigh fallopian tube\\\\fallopian tubes\\\\AJF232\\\\fallopian_tubes_AJLF232_0541.ndpi',\n  '\\\\\\\\10.162.80.16\\\\Andre\\\\data\\\\Ashleigh fallopian tube\\\\fallopian tubes\\\\AJF232\\\\fallopian_tubes_AJLF232_0543.ndpi',\n  '\\\\\\\\10.162.80.16\\\\Andre\\\\data\\\\Ashleigh fallopian tube\\\\fallopian tubes\\\\AJF232\\\\fallopian_tubes_AJLF232_0545.ndpi',\n  '\\\\\\\\10.162.80.16\\\\Andre\\\\data\\\\Ashleigh fallopian tube\\\\fallopian tubes\\\\AJF232\\\\fallopian_tubes_AJLF232_0547.ndpi',\n  '\\\\\\\\10.162.80.16\\\\Andre\\\\data\\\\Ashleigh fallopian tube\\\\fallopian tubes\\\\AJF232\\\\fallopian_tubes_AJLF232_0549.ndpi',\n  '\\\\\\\\10.162.80.16\\\\Andre\\\\data\\\\Ashleigh fallopian tube\\\\fallopian tubes\\\\AJF232\\\\fallopian_tubes_AJLF232_0551.ndpi',\n  '\\\\\\\\10.162.80.16\\\\Andre\\\\data\\\\Ashleigh fallopian tube\\\\fallopian tubes\\\\AJF232\\\\fallopian_tubes_AJLF232_0553.ndpi',\n  '\\\\\\\\10.162.80.16\\\\Andre\\\\data\\\\Ashleigh fallopian tube\\\\fallopian tubes\\\\AJF232\\\\fallopian_tubes_AJLF232_0555.ndpi',\n  '\\\\\\\\10.162.80.16\\\\Andre\\\\data\\\\Ashleigh fallopian tube\\\\fallopian tubes\\\\AJF232\\\\fallopian_tubes_AJLF232_0557.ndpi',\n  '\\\\\\\\10.162.80.16\\\\Andre\\\\data\\\\Ashleigh fallopian tube\\\\fallopian tubes\\\\AJF232\\\\fallopian_tubes_AJLF232_0559.ndpi',\n  '\\\\\\\\10.162.80.16\\\\Andre\\\\data\\\\Ashleigh fallopian tube\\\\fallopian tubes\\\\AJF232\\\\fallopian_tubes_AJLF232_0561.ndpi',\n  '\\\\\\\\10.162.80.16\\\\Andre\\\\data\\\\Ashleigh fallopian tube\\\\fallopian tubes\\\\AJF232\\\\fallopian_tubes_AJLF232_0563.ndpi',\n  '\\\\\\\\10.162.80.16\\\\Andre\\\\data\\\\Ashleigh fallopian tube\\\\fallopian tubes\\\\AJF232\\\\fallopian_tubes_AJLF232_0565.ndpi',\n  '\\\\\\\\10.162.80.16\\\\Andre\\\\data\\\\Ashleigh fallopian tube\\\\fallopian tubes\\\\AJF232\\\\fallopian_tubes_AJLF232_0567.ndpi',\n  '\\\\\\\\10.162.80.16\\\\Andre\\\\data\\\\Ashleigh fallopian tube\\\\fallopian tubes\\\\AJF232\\\\fallopian_tubes_AJLF232_0569.ndpi',\n  '\\\\\\\\10.162.80.16\\\\Andre\\\\data\\\\Ashleigh fallopian tube\\\\fallopian tubes\\\\AJF232\\\\fallopian_tubes_AJLF232_0571.ndpi',\n  '\\\\\\\\10.162.80.16\\\\Andre\\\\data\\\\Ashleigh fallopian tube\\\\fallopian tubes\\\\AJF232\\\\fallopian_tubes_AJLF232_0573.ndpi',\n  '\\\\\\\\10.162.80.16\\\\Andre\\\\data\\\\Ashleigh fallopian tube\\\\fallopian tubes\\\\AJF232\\\\fallopian_tubes_AJLF232_0575.ndpi',\n  '\\\\\\\\10.162.80.16\\\\Andre\\\\data\\\\Ashleigh fallopian tube\\\\fallopian tubes\\\\AJF232\\\\fallopian_tubes_AJLF232_0577.ndpi',\n  '\\\\\\\\10.162.80.16\\\\Andre\\\\data\\\\Ashleigh fallopian tube\\\\fallopian tubes\\\\AJF232\\\\fallopian_tubes_AJLF232_0579.ndpi',\n  '\\\\\\\\10.162.80.16\\\\Andre\\\\data\\\\Ashleigh fallopian tube\\\\fallopian tubes\\\\AJF232\\\\fallopian_tubes_AJLF232_0581.ndpi',\n  '\\\\\\\\10.162.80.16\\\\Andre\\\\data\\\\Ashleigh fallopian tube\\\\fallopian tubes\\\\AJF232\\\\fallopian_tubes_AJLF232_0583.ndpi',\n  '\\\\\\\\10.162.80.16\\\\Andre\\\\data\\\\Ashleigh fallopian tube\\\\fallopian tubes\\\\AJF232\\\\fallopian_tubes_AJLF232_0585.ndpi',\n  '\\\\\\\\10.162.80.16\\\\Andre\\\\data\\\\Ashleigh fallopian tube\\\\fallopian tubes\\\\AJF232\\\\fallopian_tubes_AJLF232_0587.ndpi',\n  '\\\\\\\\10.162.80.16\\\\Andre\\\\data\\\\Ashleigh fallopian tube\\\\fallopian tubes\\\\AJF232\\\\fallopian_tubes_AJLF232_0589.ndpi',\n  '\\\\\\\\10.162.80.16\\\\Andre\\\\data\\\\Ashleigh fallopian tube\\\\fallopian tubes\\\\AJF232\\\\fallopian_tubes_AJLF232_0591.ndpi',\n  '\\\\\\\\10.162.80.16\\\\Andre\\\\data\\\\Ashleigh fallopian tube\\\\fallopian tubes\\\\AJF232\\\\fallopian_tubes_AJLF232_0593.ndpi',\n  '\\\\\\\\10.162.80.16\\\\Andre\\\\data\\\\Ashleigh fallopian tube\\\\fallopian tubes\\\\AJF232\\\\fallopian_tubes_AJLF232_0595.ndpi',\n  '\\\\\\\\10.162.80.16\\\\Andre\\\\data\\\\Ashleigh fallopian tube\\\\fallopian tubes\\\\AJF232\\\\fallopian_tubes_AJLF232_0597.ndpi',\n  '\\\\\\\\10.162.80.16\\\\Andre\\\\data\\\\Ashleigh fallopian tube\\\\fallopian tubes\\\\AJF232\\\\fallopian_tubes_AJLF232_0599.ndpi',\n  '\\\\\\\\10.162.80.16\\\\Andre\\\\data\\\\Ashleigh fallopian tube\\\\fallopian tubes\\\\AJF232\\\\fallopian_tubes_AJLF232_0601.ndpi',\n  '\\\\\\\\10.162.80.16\\\\Andre\\\\data\\\\Ashleigh fallopian tube\\\\fallopian tubes\\\\AJF232\\\\fallopian_tubes_AJLF232_0603.ndpi',\n  '\\\\\\\\10.162.80.16\\\\Andre\\\\data\\\\Ashleigh fallopian tube\\\\fallopian tubes\\\\AJF232\\\\fallopian_tubes_AJLF232_0605.ndpi',\n  '\\\\\\\\10.162.80.16\\\\Andre\\\\data\\\\Ashleigh fallopian tube\\\\fallopian tubes\\\\AJF232\\\\fallopian_tubes_AJLF232_0607.ndpi',\n  '\\\\\\\\10.162.80.16\\\\Andre\\\\data\\\\Ashleigh fallopian tube\\\\fallopian tubes\\\\AJF232\\\\fallopian_tubes_AJLF232_0609.ndpi',\n  '\\\\\\\\10.162.80.16\\\\Andre\\\\data\\\\Ashleigh fallopian tube\\\\fallopian tubes\\\\AJF232\\\\fallopian_tubes_AJLF232_0611.ndpi',\n  '\\\\\\\\10.162.80.16\\\\Andre\\\\data\\\\Ashleigh fallopian tube\\\\fallopian tubes\\\\AJF232\\\\fallopian_tubes_AJLF232_0613.ndpi',\n  '\\\\\\\\10.162.80.16\\\\Andre\\\\data\\\\Ashleigh fallopian tube\\\\fallopian tubes\\\\AJF232\\\\fallopian_tubes_AJLF232_0615.ndpi',\n  '\\\\\\\\10.162.80.16\\\\Andre\\\\data\\\\Ashleigh fallopian tube\\\\fallopian tubes\\\\AJF232\\\\fallopian_tubes_AJLF232_0617.ndpi',\n  '\\\\\\\\10.162.80.16\\\\Andre\\\\data\\\\Ashleigh fallopian tube\\\\fallopian tubes\\\\AJF232\\\\fallopian_tubes_AJLF232_0619.ndpi',\n  '\\\\\\\\10.162.80.16\\\\Andre\\\\data\\\\Ashleigh fallopian tube\\\\fallopian tubes\\\\AJF232\\\\fallopian_tubes_AJLF232_0621.ndpi',\n  '\\\\\\\\10.162.80.16\\\\Andre\\\\data\\\\Ashleigh fallopian tube\\\\fallopian tubes\\\\AJF232\\\\fallopian_tubes_AJLF232_0623.ndpi',\n  '\\\\\\\\10.162.80.16\\\\Andre\\\\data\\\\Ashleigh fallopian tube\\\\fallopian tubes\\\\AJF232\\\\fallopian_tubes_AJLF232_0625.ndpi',\n  '\\\\\\\\10.162.80.16\\\\Andre\\\\data\\\\Ashleigh fallopian tube\\\\fallopian tubes\\\\AJF232\\\\fallopian_tubes_AJLF232_0627.ndpi',\n  '\\\\\\\\10.162.80.16\\\\Andre\\\\data\\\\Ashleigh fallopian tube\\\\fallopian tubes\\\\AJF232\\\\fallopian_tubes_AJLF232_0629.ndpi',\n  '\\\\\\\\10.162.80.16\\\\Andre\\\\data\\\\Ashleigh fallopian tube\\\\fallopian tubes\\\\AJF232\\\\fallopian_tubes_AJLF232_0631.ndpi',\n  '\\\\\\\\10.162.80.16\\\\Andre\\\\data\\\\Ashleigh fallopian tube\\\\fallopian tubes\\\\AJF232\\\\fallopian_tubes_AJLF232_0633.ndpi',\n  '\\\\\\\\10.162.80.16\\\\Andre\\\\data\\\\Ashleigh fallopian tube\\\\fallopian tubes\\\\AJF232\\\\fallopian_tubes_AJLF232_0635.ndpi',\n  '\\\\\\\\10.162.80.16\\\\Andre\\\\data\\\\Ashleigh fallopian tube\\\\fallopian tubes\\\\AJF232\\\\fallopian_tubes_AJLF232_0637.ndpi',\n  '\\\\\\\\10.162.80.16\\\\Andre\\\\data\\\\Ashleigh fallopian tube\\\\fallopian tubes\\\\AJF232\\\\fallopian_tubes_AJLF232_0639.ndpi',\n  '\\\\\\\\10.162.80.16\\\\Andre\\\\data\\\\Ashleigh fallopian tube\\\\fallopian tubes\\\\AJF232\\\\fallopian_tubes_AJLF232_0641.ndpi',\n  '\\\\\\\\10.162.80.16\\\\Andre\\\\data\\\\Ashleigh fallopian tube\\\\fallopian tubes\\\\AJF232\\\\fallopian_tubes_AJLF232_0643.ndpi',\n  '\\\\\\\\10.162.80.16\\\\Andre\\\\data\\\\Ashleigh fallopian tube\\\\fallopian tubes\\\\AJF232\\\\fallopian_tubes_AJLF232_0645.ndpi',\n  '\\\\\\\\10.162.80.16\\\\Andre\\\\data\\\\Ashleigh fallopian tube\\\\fallopian tubes\\\\AJF232\\\\fallopian_tubes_AJLF232_0647.ndpi',\n  '\\\\\\\\10.162.80.16\\\\Andre\\\\data\\\\Ashleigh fallopian tube\\\\fallopian tubes\\\\AJF232\\\\fallopian_tubes_AJLF232_0649.ndpi',\n  '\\\\\\\\10.162.80.16\\\\Andre\\\\data\\\\Ashleigh fallopian tube\\\\fallopian tubes\\\\AJF232\\\\fallopian_tubes_AJLF232_0651.ndpi',\n  '\\\\\\\\10.162.80.16\\\\Andre\\\\data\\\\Ashleigh fallopian tube\\\\fallopian tubes\\\\AJF232\\\\fallopian_tubes_AJLF232_0653.ndpi',\n  '\\\\\\\\10.162.80.16\\\\Andre\\\\data\\\\Ashleigh fallopian tube\\\\fallopian tubes\\\\AJF232\\\\fallopian_tubes_AJLF232_0655.ndpi',\n  '\\\\\\\\10.162.80.16\\\\Andre\\\\data\\\\Ashleigh fallopian tube\\\\fallopian tubes\\\\AJF232\\\\fallopian_tubes_AJLF232_0657.ndpi',\n  '\\\\\\\\10.162.80.16\\\\Andre\\\\data\\\\Ashleigh fallopian tube\\\\fallopian tubes\\\\AJF232\\\\fallopian_tubes_AJLF232_0659.ndpi',\n  '\\\\\\\\10.162.80.16\\\\Andre\\\\data\\\\Ashleigh fallopian tube\\\\fallopian tubes\\\\AJF232\\\\fallopian_tubes_AJLF232_0661.ndpi',\n  '\\\\\\\\10.162.80.16\\\\Andre\\\\data\\\\Ashleigh fallopian tube\\\\fallopian tubes\\\\AJF232\\\\fallopian_tubes_AJLF232_0663.ndpi',\n  '\\\\\\\\10.162.80.16\\\\Andre\\\\data\\\\Ashleigh fallopian tube\\\\fallopian tubes\\\\AJF232\\\\fallopian_tubes_AJLF232_0665.ndpi',\n  '\\\\\\\\10.162.80.16\\\\Andre\\\\data\\\\Ashleigh fallopian tube\\\\fallopian tubes\\\\AJF232\\\\fallopian_tubes_AJLF232_0667.ndpi',\n  '\\\\\\\\10.162.80.16\\\\Andre\\\\data\\\\Ashleigh fallopian tube\\\\fallopian tubes\\\\AJF232\\\\fallopian_tubes_AJLF232_0669.ndpi',\n  '\\\\\\\\10.162.80.16\\\\Andre\\\\data\\\\Ashleigh fallopian tube\\\\fallopian tubes\\\\AJF232\\\\fallopian_tubes_AJLF232_0671.ndpi',\n  '\\\\\\\\10.162.80.16\\\\Andre\\\\data\\\\Ashleigh fallopian tube\\\\fallopian tubes\\\\AJF232\\\\fallopian_tubes_AJLF232_0673.ndpi',\n  '\\\\\\\\10.162.80.16\\\\Andre\\\\data\\\\Ashleigh fallopian tube\\\\fallopian tubes\\\\AJF232\\\\fallopian_tubes_AJLF232_0675.ndpi',\n  '\\\\\\\\10.162.80.16\\\\Andre\\\\data\\\\Ashleigh fallopian tube\\\\fallopian tubes\\\\AJF232\\\\fallopian_tubes_AJLF232_0677.ndpi',\n  '\\\\\\\\10.162.80.16\\\\Andre\\\\data\\\\Ashleigh fallopian tube\\\\fallopian tubes\\\\AJF232\\\\fallopian_tubes_AJLF232_0679.ndpi',\n  '\\\\\\\\10.162.80.16\\\\Andre\\\\data\\\\Ashleigh fallopian tube\\\\fallopian tubes\\\\AJF232\\\\fallopian_tubes_AJLF232_0681.ndpi',\n  '\\\\\\\\10.162.80.16\\\\Andre\\\\data\\\\Ashleigh fallopian tube\\\\fallopian tubes\\\\AJF232\\\\fallopian_tubes_AJLF232_0683.ndpi',\n  '\\\\\\\\10.162.80.16\\\\Andre\\\\data\\\\Ashleigh fallopian tube\\\\fallopian tubes\\\\AJF232\\\\fallopian_tubes_AJLF232_0685.ndpi',\n  '\\\\\\\\10.162.80.16\\\\Andre\\\\data\\\\Ashleigh fallopian tube\\\\fallopian tubes\\\\AJF232\\\\fallopian_tubes_AJLF232_0687.ndpi',\n  '\\\\\\\\10.162.80.16\\\\Andre\\\\data\\\\Ashleigh fallopian tube\\\\fallopian tubes\\\\AJF232\\\\fallopian_tubes_AJLF232_0689.ndpi',\n  '\\\\\\\\10.162.80.16\\\\Andre\\\\data\\\\Ashleigh fallopian tube\\\\fallopian tubes\\\\AJF232\\\\fallopian_tubes_AJLF232_0691.ndpi',\n  '\\\\\\\\10.162.80.16\\\\Andre\\\\data\\\\Ashleigh fallopian tube\\\\fallopian tubes\\\\AJF232\\\\fallopian_tubes_AJLF232_0693.ndpi',\n  '\\\\\\\\10.162.80.16\\\\Andre\\\\data\\\\Ashleigh fallopian tube\\\\fallopian tubes\\\\AJF232\\\\fallopian_tubes_AJLF232_0695.ndpi',\n  '\\\\\\\\10.162.80.16\\\\Andre\\\\data\\\\Ashleigh fallopian tube\\\\fallopian tubes\\\\AJF232\\\\fallopian_tubes_AJLF232_0697.ndpi',\n  '\\\\\\\\10.162.80.16\\\\Andre\\\\data\\\\Ashleigh fallopian tube\\\\fallopian tubes\\\\AJF232\\\\fallopian_tubes_AJLF232_0699.ndpi',\n  '\\\\\\\\10.162.80.16\\\\Andre\\\\data\\\\Ashleigh fallopian tube\\\\fallopian tubes\\\\AJF232\\\\fallopian_tubes_AJLF232_0701.ndpi',\n  '\\\\\\\\10.162.80.16\\\\Andre\\\\data\\\\Ashleigh fallopian tube\\\\fallopian tubes\\\\AJF232\\\\fallopian_tubes_AJLF232_0703.ndpi',\n  '\\\\\\\\10.162.80.16\\\\Andre\\\\data\\\\Ashleigh fallopian tube\\\\fallopian tubes\\\\AJF232\\\\fallopian_tubes_AJLF232_0705.ndpi',\n  '\\\\\\\\10.162.80.16\\\\Andre\\\\data\\\\Ashleigh fallopian tube\\\\fallopian tubes\\\\AJF232\\\\fallopian_tubes_AJLF232_0707.ndpi',\n  '\\\\\\\\10.162.80.16\\\\Andre\\\\data\\\\Ashleigh fallopian tube\\\\fallopian tubes\\\\AJF232\\\\fallopian_tubes_AJLF232_0709.ndpi',\n  '\\\\\\\\10.162.80.16\\\\Andre\\\\data\\\\Ashleigh fallopian tube\\\\fallopian tubes\\\\AJF232\\\\fallopian_tubes_AJLF232_0711.ndpi',\n  '\\\\\\\\10.162.80.16\\\\Andre\\\\data\\\\Ashleigh fallopian tube\\\\fallopian tubes\\\\AJF232\\\\fallopian_tubes_AJLF232_0713.ndpi',\n  '\\\\\\\\10.162.80.16\\\\Andre\\\\data\\\\Ashleigh fallopian tube\\\\fallopian tubes\\\\AJF232\\\\fallopian_tubes_AJLF232_0715.ndpi',\n  '\\\\\\\\10.162.80.16\\\\Andre\\\\data\\\\Ashleigh fallopian tube\\\\fallopian tubes\\\\AJF232\\\\fallopian_tubes_AJLF232_0717.ndpi',\n  '\\\\\\\\10.162.80.16\\\\Andre\\\\data\\\\Ashleigh fallopian tube\\\\fallopian tubes\\\\AJF232\\\\fallopian_tubes_AJLF232_0719.ndpi',\n  '\\\\\\\\10.162.80.16\\\\Andre\\\\data\\\\Ashleigh fallopian tube\\\\fallopian tubes\\\\AJF232\\\\fallopian_tubes_AJLF232_0721.ndpi',\n  '\\\\\\\\10.162.80.16\\\\Andre\\\\data\\\\Ashleigh fallopian tube\\\\fallopian tubes\\\\AJF232\\\\fallopian_tubes_AJLF232_0723.ndpi',\n  '\\\\\\\\10.162.80.16\\\\Andre\\\\data\\\\Ashleigh fallopian tube\\\\fallopian tubes\\\\AJF232\\\\fallopian_tubes_AJLF232_0725.ndpi',\n  '\\\\\\\\10.162.80.16\\\\Andre\\\\data\\\\Ashleigh fallopian tube\\\\fallopian tubes\\\\AJF232\\\\fallopian_tubes_AJLF232_0727.ndpi',\n  '\\\\\\\\10.162.80.16\\\\Andre\\\\data\\\\Ashleigh fallopian tube\\\\fallopian tubes\\\\AJF232\\\\fallopian_tubes_AJLF232_0729.ndpi',\n  '\\\\\\\\10.162.80.16\\\\Andre\\\\data\\\\Ashleigh fallopian tube\\\\fallopian tubes\\\\AJF232\\\\fallopian_tubes_AJLF232_0731.ndpi',\n  '\\\\\\\\10.162.80.16\\\\Andre\\\\data\\\\Ashleigh fallopian tube\\\\fallopian tubes\\\\AJF232\\\\fallopian_tubes_AJLF232_0733.ndpi',\n  '\\\\\\\\10.162.80.16\\\\Andre\\\\data\\\\Ashleigh fallopian tube\\\\fallopian tubes\\\\AJF232\\\\fallopian_tubes_AJLF232_0735.ndpi',\n  '\\\\\\\\10.162.80.16\\\\Andre\\\\data\\\\Ashleigh fallopian tube\\\\fallopian tubes\\\\AJF232\\\\fallopian_tubes_AJLF232_0737.ndpi',\n  '\\\\\\\\10.162.80.16\\\\Andre\\\\data\\\\Ashleigh fallopian tube\\\\fallopian tubes\\\\AJF232\\\\fallopian_tubes_AJLF232_0739.ndpi',\n  '\\\\\\\\10.162.80.16\\\\Andre\\\\data\\\\Ashleigh fallopian tube\\\\fallopian tubes\\\\AJF232\\\\fallopian_tubes_AJLF232_0741.ndpi',\n  '\\\\\\\\10.162.80.16\\\\Andre\\\\data\\\\Ashleigh fallopian tube\\\\fallopian tubes\\\\AJF232\\\\fallopian_tubes_AJLF232_0743.ndpi',\n  '\\\\\\\\10.162.80.16\\\\Andre\\\\data\\\\Ashleigh fallopian tube\\\\fallopian tubes\\\\AJF232\\\\fallopian_tubes_AJLF232_0745.ndpi',\n  '\\\\\\\\10.162.80.16\\\\Andre\\\\data\\\\Ashleigh fallopian tube\\\\fallopian tubes\\\\AJF232\\\\fallopian_tubes_AJLF232_0747.ndpi',\n  '\\\\\\\\10.162.80.16\\\\Andre\\\\data\\\\Ashleigh fallopian tube\\\\fallopian tubes\\\\AJF232\\\\fallopian_tubes_AJLF232_0749.ndpi',\n  '\\\\\\\\10.162.80.16\\\\Andre\\\\data\\\\Ashleigh fallopian tube\\\\fallopian tubes\\\\AJF232\\\\fallopian_tubes_AJLF232_0751.ndpi',\n  '\\\\\\\\10.162.80.16\\\\Andre\\\\data\\\\Ashleigh fallopian tube\\\\fallopian tubes\\\\AJF232\\\\fallopian_tubes_AJLF232_0753.ndpi',\n  '\\\\\\\\10.162.80.16\\\\Andre\\\\data\\\\Ashleigh fallopian tube\\\\fallopian tubes\\\\AJF232\\\\fallopian_tubes_AJLF232_0755.ndpi',\n  '\\\\\\\\10.162.80.16\\\\Andre\\\\data\\\\Ashleigh fallopian tube\\\\fallopian tubes\\\\AJF232\\\\fallopian_tubes_AJLF232_0757.ndpi',\n  '\\\\\\\\10.162.80.16\\\\Andre\\\\data\\\\Ashleigh fallopian tube\\\\fallopian tubes\\\\AJF232\\\\fallopian_tubes_AJLF232_0759.ndpi',\n  '\\\\\\\\10.162.80.16\\\\Andre\\\\data\\\\Ashleigh fallopian tube\\\\fallopian tubes\\\\AJF232\\\\fallopian_tubes_AJLF232_0761.ndpi',\n  '\\\\\\\\10.162.80.16\\\\Andre\\\\data\\\\Ashleigh fallopian tube\\\\fallopian tubes\\\\AJF232\\\\fallopian_tubes_AJLF232_0763.ndpi',\n  '\\\\\\\\10.162.80.16\\\\Andre\\\\data\\\\Ashleigh fallopian tube\\\\fallopian tubes\\\\AJF232\\\\fallopian_tubes_AJLF232_0765.ndpi',\n  '\\\\\\\\10.162.80.16\\\\Andre\\\\data\\\\Ashleigh fallopian tube\\\\fallopian tubes\\\\AJF232\\\\fallopian_tubes_AJLF232_0767.ndpi',\n  '\\\\\\\\10.162.80.16\\\\Andre\\\\data\\\\Ashleigh fallopian tube\\\\fallopian tubes\\\\AJF232\\\\fallopian_tubes_AJLF232_0769.ndpi',\n  '\\\\\\\\10.162.80.16\\\\Andre\\\\data\\\\Ashleigh fallopian tube\\\\fallopian tubes\\\\AJF232\\\\fallopian_tubes_AJLF232_0771.ndpi',\n  '\\\\\\\\10.162.80.16\\\\Andre\\\\data\\\\Ashleigh fallopian tube\\\\fallopian tubes\\\\AJF232\\\\fallopian_tubes_AJLF232_0773.ndpi',\n  '\\\\\\\\10.162.80.16\\\\Andre\\\\data\\\\Ashleigh fallopian tube\\\\fallopian tubes\\\\AJF232\\\\fallopian_tubes_AJLF232_0775.ndpi',\n  '\\\\\\\\10.162.80.16\\\\Andre\\\\data\\\\Ashleigh fallopian tube\\\\fallopian tubes\\\\AJF232\\\\fallopian_tubes_AJLF232_0777.ndpi',\n  '\\\\\\\\10.162.80.16\\\\Andre\\\\data\\\\Ashleigh fallopian tube\\\\fallopian tubes\\\\AJF232\\\\fallopian_tubes_AJLF232_0779.ndpi',\n  '\\\\\\\\10.162.80.16\\\\Andre\\\\data\\\\Ashleigh fallopian tube\\\\fallopian tubes\\\\AJF232\\\\fallopian_tubes_AJLF232_0781.ndpi',\n  '\\\\\\\\10.162.80.16\\\\Andre\\\\data\\\\Ashleigh fallopian tube\\\\fallopian tubes\\\\AJF232\\\\fallopian_tubes_AJLF232_0783.ndpi',\n  '\\\\\\\\10.162.80.16\\\\Andre\\\\data\\\\Ashleigh fallopian tube\\\\fallopian tubes\\\\AJF232\\\\fallopian_tubes_AJLF232_0785.ndpi',\n  '\\\\\\\\10.162.80.16\\\\Andre\\\\data\\\\Ashleigh fallopian tube\\\\fallopian tubes\\\\AJF232\\\\fallopian_tubes_AJLF232_0787.ndpi',\n  '\\\\\\\\10.162.80.16\\\\Andre\\\\data\\\\Ashleigh fallopian tube\\\\fallopian tubes\\\\AJF232\\\\fallopian_tubes_AJLF232_0789.ndpi',\n  '\\\\\\\\10.162.80.16\\\\Andre\\\\data\\\\Ashleigh fallopian tube\\\\fallopian tubes\\\\AJF232\\\\fallopian_tubes_AJLF232_0791.ndpi',\n  '\\\\\\\\10.162.80.16\\\\Andre\\\\data\\\\Ashleigh fallopian tube\\\\fallopian tubes\\\\AJF232\\\\fallopian_tubes_AJLF232_0793.ndpi',\n  '\\\\\\\\10.162.80.16\\\\Andre\\\\data\\\\Ashleigh fallopian tube\\\\fallopian tubes\\\\AJF232\\\\fallopian_tubes_AJLF232_0795.ndpi',\n  '\\\\\\\\10.162.80.16\\\\Andre\\\\data\\\\Ashleigh fallopian tube\\\\fallopian tubes\\\\AJF232\\\\fallopian_tubes_AJLF232_0797.ndpi',\n  '\\\\\\\\10.162.80.16\\\\Andre\\\\data\\\\Ashleigh fallopian tube\\\\fallopian tubes\\\\AJF232\\\\fallopian_tubes_AJLF232_0799.ndpi',\n  '\\\\\\\\10.162.80.16\\\\Andre\\\\data\\\\Ashleigh fallopian tube\\\\fallopian tubes\\\\AJF232\\\\fallopian_tubes_AJLF232_0801.ndpi',\n  '\\\\\\\\10.162.80.16\\\\Andre\\\\data\\\\Ashleigh fallopian tube\\\\fallopian tubes\\\\AJF232\\\\fallopian_tubes_AJLF232_0803.ndpi',\n  '\\\\\\\\10.162.80.16\\\\Andre\\\\data\\\\Ashleigh fallopian tube\\\\fallopian tubes\\\\AJF232\\\\fallopian_tubes_AJLF232_0805.ndpi',\n  '\\\\\\\\10.162.80.16\\\\Andre\\\\data\\\\Ashleigh fallopian tube\\\\fallopian tubes\\\\AJF232\\\\fallopian_tubes_AJLF232_0807.ndpi',\n  '\\\\\\\\10.162.80.16\\\\Andre\\\\data\\\\Ashleigh fallopian tube\\\\fallopian tubes\\\\AJF232\\\\fallopian_tubes_AJLF232_0809.ndpi',\n  '\\\\\\\\10.162.80.16\\\\Andre\\\\data\\\\Ashleigh fallopian tube\\\\fallopian tubes\\\\AJF232\\\\fallopian_tubes_AJLF232_0811.ndpi',\n  '\\\\\\\\10.162.80.16\\\\Andre\\\\data\\\\Ashleigh fallopian tube\\\\fallopian tubes\\\\AJF232\\\\fallopian_tubes_AJLF232_0813.ndpi',\n  '\\\\\\\\10.162.80.16\\\\Andre\\\\data\\\\Ashleigh fallopian tube\\\\fallopian tubes\\\\AJF232\\\\fallopian_tubes_AJLF232_0815.ndpi',\n  '\\\\\\\\10.162.80.16\\\\Andre\\\\data\\\\Ashleigh fallopian tube\\\\fallopian tubes\\\\AJF232\\\\fallopian_tubes_AJLF232_0817.ndpi',\n  '\\\\\\\\10.162.80.16\\\\Andre\\\\data\\\\Ashleigh fallopian tube\\\\fallopian tubes\\\\AJF232\\\\fallopian_tubes_AJLF232_0819.ndpi',\n  '\\\\\\\\10.162.80.16\\\\Andre\\\\data\\\\Ashleigh fallopian tube\\\\fallopian tubes\\\\AJF232\\\\fallopian_tubes_AJLF232_0821.ndpi',\n  '\\\\\\\\10.162.80.16\\\\Andre\\\\data\\\\Ashleigh fallopian tube\\\\fallopian tubes\\\\AJF232\\\\fallopian_tubes_AJLF232_0823.ndpi',\n  '\\\\\\\\10.162.80.16\\\\Andre\\\\data\\\\Ashleigh fallopian tube\\\\fallopian tubes\\\\AJF232\\\\fallopian_tubes_AJLF232_0825.ndpi',\n  '\\\\\\\\10.162.80.16\\\\Andre\\\\data\\\\Ashleigh fallopian tube\\\\fallopian tubes\\\\AJF232\\\\fallopian_tubes_AJLF232_0827.ndpi',\n  '\\\\\\\\10.162.80.16\\\\Andre\\\\data\\\\Ashleigh fallopian tube\\\\fallopian tubes\\\\AJF232\\\\fallopian_tubes_AJLF232_0829.ndpi',\n  '\\\\\\\\10.162.80.16\\\\Andre\\\\data\\\\Ashleigh fallopian tube\\\\fallopian tubes\\\\AJF232\\\\fallopian_tubes_AJLF232_0831.ndpi',\n  '\\\\\\\\10.162.80.16\\\\Andre\\\\data\\\\Ashleigh fallopian tube\\\\fallopian tubes\\\\AJF232\\\\fallopian_tubes_AJLF232_0833.ndpi',\n  '\\\\\\\\10.162.80.16\\\\Andre\\\\data\\\\Ashleigh fallopian tube\\\\fallopian tubes\\\\AJF232\\\\fallopian_tubes_AJLF232_0835.ndpi',\n  '\\\\\\\\10.162.80.16\\\\Andre\\\\data\\\\Ashleigh fallopian tube\\\\fallopian tubes\\\\AJF232\\\\fallopian_tubes_AJLF232_0837.ndpi',\n  '\\\\\\\\10.162.80.16\\\\Andre\\\\data\\\\Ashleigh fallopian tube\\\\fallopian tubes\\\\AJF232\\\\fallopian_tubes_AJLF232_0839.ndpi',\n  '\\\\\\\\10.162.80.16\\\\Andre\\\\data\\\\Ashleigh fallopian tube\\\\fallopian tubes\\\\AJF232\\\\fallopian_tubes_AJLF232_0841.ndpi',\n  '\\\\\\\\10.162.80.16\\\\Andre\\\\data\\\\Ashleigh fallopian tube\\\\fallopian tubes\\\\AJF232\\\\fallopian_tubes_AJLF232_0843.ndpi',\n  '\\\\\\\\10.162.80.16\\\\Andre\\\\data\\\\Ashleigh fallopian tube\\\\fallopian tubes\\\\AJF232\\\\fallopian_tubes_AJLF232_0845.ndpi',\n  '\\\\\\\\10.162.80.16\\\\Andre\\\\data\\\\Ashleigh fallopian tube\\\\fallopian tubes\\\\AJF232\\\\fallopian_tubes_AJLF232_0847.ndpi',\n  '\\\\\\\\10.162.80.16\\\\Andre\\\\data\\\\Ashleigh fallopian tube\\\\fallopian tubes\\\\AJF232\\\\fallopian_tubes_AJLF232_0849.ndpi',\n  '\\\\\\\\10.162.80.16\\\\Andre\\\\data\\\\Ashleigh fallopian tube\\\\fallopian tubes\\\\AJF232\\\\fallopian_tubes_AJLF232_0851.ndpi',\n  '\\\\\\\\10.162.80.16\\\\Andre\\\\data\\\\Ashleigh fallopian tube\\\\fallopian tubes\\\\AJF232\\\\fallopian_tubes_AJLF232_0853.ndpi',\n  '\\\\\\\\10.162.80.16\\\\Andre\\\\data\\\\Ashleigh fallopian tube\\\\fallopian tubes\\\\AJF232\\\\fallopian_tubes_AJLF232_0855.ndpi',\n  '\\\\\\\\10.162.80.16\\\\Andre\\\\data\\\\Ashleigh fallopian tube\\\\fallopian tubes\\\\AJF232\\\\fallopian_tubes_AJLF232_0857.ndpi',\n  '\\\\\\\\10.162.80.16\\\\Andre\\\\data\\\\Ashleigh fallopian tube\\\\fallopian tubes\\\\AJF232\\\\fallopian_tubes_AJLF232_0859.ndpi',\n  '\\\\\\\\10.162.80.16\\\\Andre\\\\data\\\\Ashleigh fallopian tube\\\\fallopian tubes\\\\AJF232\\\\fallopian_tubes_AJLF232_0861.ndpi',\n  '\\\\\\\\10.162.80.16\\\\Andre\\\\data\\\\Ashleigh fallopian tube\\\\fallopian tubes\\\\AJF232\\\\fallopian_tubes_AJLF232_0863.ndpi',\n  '\\\\\\\\10.162.80.16\\\\Andre\\\\data\\\\Ashleigh fallopian tube\\\\fallopian tubes\\\\AJF232\\\\fallopian_tubes_AJLF232_0865.ndpi',\n  '\\\\\\\\10.162.80.16\\\\Andre\\\\data\\\\Ashleigh fallopian tube\\\\fallopian tubes\\\\AJF232\\\\fallopian_tubes_AJLF232_0867.ndpi',\n  '\\\\\\\\10.162.80.16\\\\Andre\\\\data\\\\Ashleigh fallopian tube\\\\fallopian tubes\\\\AJF232\\\\fallopian_tubes_AJLF232_0869.ndpi',\n  '\\\\\\\\10.162.80.16\\\\Andre\\\\data\\\\Ashleigh fallopian tube\\\\fallopian tubes\\\\AJF232\\\\fallopian_tubes_AJLF232_0871.ndpi',\n  '\\\\\\\\10.162.80.16\\\\Andre\\\\data\\\\Ashleigh fallopian tube\\\\fallopian tubes\\\\AJF232\\\\fallopian_tubes_AJLF232_0873.ndpi',\n  '\\\\\\\\10.162.80.16\\\\Andre\\\\data\\\\Ashleigh fallopian tube\\\\fallopian tubes\\\\AJF232\\\\fallopian_tubes_AJLF232_0875.ndpi',\n  '\\\\\\\\10.162.80.16\\\\Andre\\\\data\\\\Ashleigh fallopian tube\\\\fallopian tubes\\\\AJF232\\\\fallopian_tubes_AJLF232_0877.ndpi',\n  '\\\\\\\\10.162.80.16\\\\Andre\\\\data\\\\Ashleigh fallopian tube\\\\fallopian tubes\\\\AJF232\\\\fallopian_tubes_AJLF232_0879.ndpi',\n  '\\\\\\\\10.162.80.16\\\\Andre\\\\data\\\\Ashleigh fallopian tube\\\\fallopian tubes\\\\AJF232\\\\fallopian_tubes_AJLF232_0881.ndpi',\n  '\\\\\\\\10.162.80.16\\\\Andre\\\\data\\\\Ashleigh fallopian tube\\\\fallopian tubes\\\\AJF232\\\\fallopian_tubes_AJLF232_0883.ndpi',\n  '\\\\\\\\10.162.80.16\\\\Andre\\\\data\\\\Ashleigh fallopian tube\\\\fallopian tubes\\\\AJF232\\\\fallopian_tubes_AJLF232_0885.ndpi',\n  '\\\\\\\\10.162.80.16\\\\Andre\\\\data\\\\Ashleigh fallopian tube\\\\fallopian tubes\\\\AJF232\\\\fallopian_tubes_AJLF232_0887.ndpi',\n  '\\\\\\\\10.162.80.16\\\\Andre\\\\data\\\\Ashleigh fallopian tube\\\\fallopian tubes\\\\AJF232\\\\fallopian_tubes_AJLF232_0889.ndpi',\n  '\\\\\\\\10.162.80.16\\\\Andre\\\\data\\\\Ashleigh fallopian tube\\\\fallopian tubes\\\\AJF232\\\\fallopian_tubes_AJLF232_0891.ndpi',\n  '\\\\\\\\10.162.80.16\\\\Andre\\\\data\\\\Ashleigh fallopian tube\\\\fallopian tubes\\\\AJF232\\\\fallopian_tubes_AJLF232_0893.ndpi',\n  '\\\\\\\\10.162.80.16\\\\Andre\\\\data\\\\Ashleigh fallopian tube\\\\fallopian tubes\\\\AJF232\\\\fallopian_tubes_AJLF232_0895.ndpi',\n  '\\\\\\\\10.162.80.16\\\\Andre\\\\data\\\\Ashleigh fallopian tube\\\\fallopian tubes\\\\AJF232\\\\fallopian_tubes_AJLF232_0897.ndpi',\n  '\\\\\\\\10.162.80.16\\\\Andre\\\\data\\\\Ashleigh fallopian tube\\\\fallopian tubes\\\\AJF232\\\\fallopian_tubes_AJLF232_0899.ndpi',\n  '\\\\\\\\10.162.80.16\\\\Andre\\\\data\\\\Ashleigh fallopian tube\\\\fallopian tubes\\\\AJF232\\\\fallopian_tubes_AJLF232_0901.ndpi',\n  '\\\\\\\\10.162.80.16\\\\Andre\\\\data\\\\Ashleigh fallopian tube\\\\fallopian tubes\\\\AJF232\\\\fallopian_tubes_AJLF232_0903.ndpi',\n  '\\\\\\\\10.162.80.16\\\\Andre\\\\data\\\\Ashleigh fallopian tube\\\\fallopian tubes\\\\AJF232\\\\fallopian_tubes_AJLF232_0905.ndpi',\n  '\\\\\\\\10.162.80.16\\\\Andre\\\\data\\\\Ashleigh fallopian tube\\\\fallopian tubes\\\\AJF232\\\\fallopian_tubes_AJLF232_0907.ndpi',\n  '\\\\\\\\10.162.80.16\\\\Andre\\\\data\\\\Ashleigh fallopian tube\\\\fallopian tubes\\\\AJF232\\\\fallopian_tubes_AJLF232_0909.ndpi',\n  '\\\\\\\\10.162.80.16\\\\Andre\\\\data\\\\Ashleigh fallopian tube\\\\fallopian tubes\\\\AJF232\\\\fallopian_tubes_AJLF232_0911.ndpi',\n  '\\\\\\\\10.162.80.16\\\\Andre\\\\data\\\\Ashleigh fallopian tube\\\\fallopian tubes\\\\AJF232\\\\fallopian_tubes_AJLF232_0913.ndpi',\n  '\\\\\\\\10.162.80.16\\\\Andre\\\\data\\\\Ashleigh fallopian tube\\\\fallopian tubes\\\\AJF232\\\\fallopian_tubes_AJLF232_0915.ndpi',\n  '\\\\\\\\10.162.80.16\\\\Andre\\\\data\\\\Ashleigh fallopian tube\\\\fallopian tubes\\\\AJF232\\\\fallopian_tubes_AJLF232_0917.ndpi',\n  '\\\\\\\\10.162.80.16\\\\Andre\\\\data\\\\Ashleigh fallopian tube\\\\fallopian tubes\\\\AJF232\\\\fallopian_tubes_AJLF232_0919.ndpi',\n  '\\\\\\\\10.162.80.16\\\\Andre\\\\data\\\\Ashleigh fallopian tube\\\\fallopian tubes\\\\AJF232\\\\fallopian_tubes_AJLF232_0921.ndpi',\n  '\\\\\\\\10.162.80.16\\\\Andre\\\\data\\\\Ashleigh fallopian tube\\\\fallopian tubes\\\\AJF232\\\\fallopian_tubes_AJLF232_0923.ndpi',\n  '\\\\\\\\10.162.80.16\\\\Andre\\\\data\\\\Ashleigh fallopian tube\\\\fallopian tubes\\\\AJF232\\\\fallopian_tubes_AJLF232_0925.ndpi',\n  '\\\\\\\\10.162.80.16\\\\Andre\\\\data\\\\Ashleigh fallopian tube\\\\fallopian tubes\\\\AJF232\\\\fallopian_tubes_AJLF232_0927.ndpi',\n  '\\\\\\\\10.162.80.16\\\\Andre\\\\data\\\\Ashleigh fallopian tube\\\\fallopian tubes\\\\AJF232\\\\fallopian_tubes_AJLF232_0929.ndpi',\n  '\\\\\\\\10.162.80.16\\\\Andre\\\\data\\\\Ashleigh fallopian tube\\\\fallopian tubes\\\\AJF232\\\\fallopian_tubes_AJLF232_0931.ndpi',\n  '\\\\\\\\10.162.80.16\\\\Andre\\\\data\\\\Ashleigh fallopian tube\\\\fallopian tubes\\\\AJF232\\\\fallopian_tubes_AJLF232_0933.ndpi',\n  '\\\\\\\\10.162.80.16\\\\Andre\\\\data\\\\Ashleigh fallopian tube\\\\fallopian tubes\\\\AJF232\\\\fallopian_tubes_AJLF232_0935.ndpi',\n  '\\\\\\\\10.162.80.16\\\\Andre\\\\data\\\\Ashleigh fallopian tube\\\\fallopian tubes\\\\AJF232\\\\fallopian_tubes_AJLF232_0937.ndpi',\n  '\\\\\\\\10.162.80.16\\\\Andre\\\\data\\\\Ashleigh fallopian tube\\\\fallopian tubes\\\\AJF232\\\\fallopian_tubes_AJLF232_0939.ndpi',\n  '\\\\\\\\10.162.80.16\\\\Andre\\\\data\\\\Ashleigh fallopian tube\\\\fallopian tubes\\\\AJF232\\\\fallopian_tubes_AJLF232_0941.ndpi',\n  '\\\\\\\\10.162.80.16\\\\Andre\\\\data\\\\Ashleigh fallopian tube\\\\fallopian tubes\\\\AJF232\\\\fallopian_tubes_AJLF232_0943.ndpi',\n  '\\\\\\\\10.162.80.16\\\\Andre\\\\data\\\\Ashleigh fallopian tube\\\\fallopian tubes\\\\AJF232\\\\fallopian_tubes_AJLF232_0945.ndpi',\n  '\\\\\\\\10.162.80.16\\\\Andre\\\\data\\\\Ashleigh fallopian tube\\\\fallopian tubes\\\\AJF232\\\\fallopian_tubes_AJLF232_0947.ndpi',\n  '\\\\\\\\10.162.80.16\\\\Andre\\\\data\\\\Ashleigh fallopian tube\\\\fallopian tubes\\\\AJF232\\\\fallopian_tubes_AJLF232_0949.ndpi',\n  '\\\\\\\\10.162.80.16\\\\Andre\\\\data\\\\Ashleigh fallopian tube\\\\fallopian tubes\\\\AJF232\\\\fallopian_tubes_AJLF232_0951.ndpi',\n  '\\\\\\\\10.162.80.16\\\\Andre\\\\data\\\\Ashleigh fallopian tube\\\\fallopian tubes\\\\AJF232\\\\fallopian_tubes_AJLF232_0953.ndpi',\n  '\\\\\\\\10.162.80.16\\\\Andre\\\\data\\\\Ashleigh fallopian tube\\\\fallopian tubes\\\\AJF232\\\\fallopian_tubes_AJLF232_0955.ndpi',\n  '\\\\\\\\10.162.80.16\\\\Andre\\\\data\\\\Ashleigh fallopian tube\\\\fallopian tubes\\\\AJF232\\\\fallopian_tubes_AJLF232_0957.ndpi',\n  '\\\\\\\\10.162.80.16\\\\Andre\\\\data\\\\Ashleigh fallopian tube\\\\fallopian tubes\\\\AJF232\\\\fallopian_tubes_AJLF232_0959.ndpi',\n  '\\\\\\\\10.162.80.16\\\\Andre\\\\data\\\\Ashleigh fallopian tube\\\\fallopian tubes\\\\AJF232\\\\fallopian_tubes_AJLF232_0961.ndpi',\n  '\\\\\\\\10.162.80.16\\\\Andre\\\\data\\\\Ashleigh fallopian tube\\\\fallopian tubes\\\\AJF232\\\\fallopian_tubes_AJLF232_0963.ndpi',\n  '\\\\\\\\10.162.80.16\\\\Andre\\\\data\\\\Ashleigh fallopian tube\\\\fallopian tubes\\\\AJF232\\\\fallopian_tubes_AJLF232_0965.ndpi',\n  '\\\\\\\\10.162.80.16\\\\Andre\\\\data\\\\Ashleigh fallopian tube\\\\fallopian tubes\\\\AJF232\\\\fallopian_tubes_AJLF232_0967.ndpi',\n  '\\\\\\\\10.162.80.16\\\\Andre\\\\data\\\\Ashleigh fallopian tube\\\\fallopian tubes\\\\AJF232\\\\fallopian_tubes_AJLF232_0969.ndpi',\n  '\\\\\\\\10.162.80.16\\\\Andre\\\\data\\\\Ashleigh fallopian tube\\\\fallopian tubes\\\\AJF232\\\\fallopian_tubes_AJLF232_0971.ndpi',\n  '\\\\\\\\10.162.80.16\\\\Andre\\\\data\\\\Ashleigh fallopian tube\\\\fallopian tubes\\\\AJF232\\\\fallopian_tubes_AJLF232_0973.ndpi',\n  '\\\\\\\\10.162.80.16\\\\Andre\\\\data\\\\Ashleigh fallopian tube\\\\fallopian tubes\\\\AJF232\\\\fallopian_tubes_AJLF232_0975.ndpi',\n  '\\\\\\\\10.162.80.16\\\\Andre\\\\data\\\\Ashleigh fallopian tube\\\\fallopian tubes\\\\AJF232\\\\fallopian_tubes_AJLF232_0977.ndpi',\n  '\\\\\\\\10.162.80.16\\\\Andre\\\\data\\\\Ashleigh fallopian tube\\\\fallopian tubes\\\\AJF232\\\\fallopian_tubes_AJLF232_0979.ndpi',\n  '\\\\\\\\10.162.80.16\\\\Andre\\\\data\\\\Ashleigh fallopian tube\\\\fallopian tubes\\\\AJF232\\\\fallopian_tubes_AJLF232_0981.ndpi',\n  '\\\\\\\\10.162.80.16\\\\Andre\\\\data\\\\Ashleigh fallopian tube\\\\fallopian tubes\\\\AJF232\\\\fallopian_tubes_AJLF232_0983.ndpi',\n  '\\\\\\\\10.162.80.16\\\\Andre\\\\data\\\\Ashleigh fallopian tube\\\\fallopian tubes\\\\AJF232\\\\fallopian_tubes_AJLF232_0985.ndpi',\n  '\\\\\\\\10.162.80.16\\\\Andre\\\\data\\\\Ashleigh fallopian tube\\\\fallopian tubes\\\\AJF232\\\\fallopian_tubes_AJLF232_0987.ndpi',\n  '\\\\\\\\10.162.80.16\\\\Andre\\\\data\\\\Ashleigh fallopian tube\\\\fallopian tubes\\\\AJF232\\\\fallopian_tubes_AJLF232_0989.ndpi',\n  '\\\\\\\\10.162.80.16\\\\Andre\\\\data\\\\Ashleigh fallopian tube\\\\fallopian tubes\\\\AJF232\\\\fallopian_tubes_AJLF232_0991.ndpi',\n  '\\\\\\\\10.162.80.16\\\\Andre\\\\data\\\\Ashleigh fallopian tube\\\\fallopian tubes\\\\AJF232\\\\fallopian_tubes_AJLF232_0993.ndpi',\n  '\\\\\\\\10.162.80.16\\\\Andre\\\\data\\\\Ashleigh fallopian tube\\\\fallopian tubes\\\\AJF232\\\\fallopian_tubes_AJLF232_0995.ndpi',\n  '\\\\\\\\10.162.80.16\\\\Andre\\\\data\\\\Ashleigh fallopian tube\\\\fallopian tubes\\\\AJF232\\\\fallopian_tubes_AJLF232_0997.ndpi',\n  '\\\\\\\\10.162.80.16\\\\Andre\\\\data\\\\Ashleigh fallopian tube\\\\fallopian tubes\\\\AJF232\\\\fallopian_tubes_AJLF232_0999.ndpi',\n  '\\\\\\\\10.162.80.16\\\\Andre\\\\data\\\\Ashleigh fallopian tube\\\\fallopian tubes\\\\AJF232\\\\fallopian_tubes_AJLF232_1001.ndpi',\n  '\\\\\\\\10.162.80.16\\\\Andre\\\\data\\\\Ashleigh fallopian tube\\\\fallopian tubes\\\\AJF232\\\\fallopian_tubes_AJLF232_1003.ndpi',\n  '\\\\\\\\10.162.80.16\\\\Andre\\\\data\\\\Ashleigh fallopian tube\\\\fallopian tubes\\\\AJF232\\\\fallopian_tubes_AJLF232_1005.ndpi',\n  '\\\\\\\\10.162.80.16\\\\Andre\\\\data\\\\Ashleigh fallopian tube\\\\fallopian tubes\\\\AJF232\\\\fallopian_tubes_AJLF232_1007.ndpi',\n  '\\\\\\\\10.162.80.16\\\\Andre\\\\data\\\\Ashleigh fallopian tube\\\\fallopian tubes\\\\AJF232\\\\fallopian_tubes_AJLF232_1009.ndpi',\n  '\\\\\\\\10.162.80.16\\\\Andre\\\\data\\\\Ashleigh fallopian tube\\\\fallopian tubes\\\\AJF232\\\\fallopian_tubes_AJLF232_1011.ndpi',\n  '\\\\\\\\10.162.80.16\\\\Andre\\\\data\\\\Ashleigh fallopian tube\\\\fallopian tubes\\\\AJF232\\\\fallopian_tubes_AJLF232_1013.ndpi',\n  '\\\\\\\\10.162.80.16\\\\Andre\\\\data\\\\Ashleigh fallopian tube\\\\fallopian tubes\\\\AJF232\\\\fallopian_tubes_AJLF232_1015.ndpi',\n  '\\\\\\\\10.162.80.16\\\\Andre\\\\data\\\\Ashleigh fallopian tube\\\\fallopian tubes\\\\AJF232\\\\fallopian_tubes_AJLF232_1017.ndpi',\n  '\\\\\\\\10.162.80.16\\\\Andre\\\\data\\\\Ashleigh fallopian tube\\\\fallopian tubes\\\\AJF232\\\\fallopian_tubes_AJLF232_1019.ndpi',\n  '\\\\\\\\10.162.80.16\\\\Andre\\\\data\\\\Ashleigh fallopian tube\\\\fallopian tubes\\\\AJF232\\\\fallopian_tubes_AJLF232_1021.ndpi',\n  '\\\\\\\\10.162.80.16\\\\Andre\\\\data\\\\Ashleigh fallopian tube\\\\fallopian tubes\\\\AJF232\\\\fallopian_tubes_AJLF232_1023.ndpi',\n  '\\\\\\\\10.162.80.16\\\\Andre\\\\data\\\\Ashleigh fallopian tube\\\\fallopian tubes\\\\AJF232\\\\fallopian_tubes_AJLF232_1025.ndpi',\n  '\\\\\\\\10.162.80.16\\\\Andre\\\\data\\\\Ashleigh fallopian tube\\\\fallopian tubes\\\\AJF232\\\\fallopian_tubes_AJLF232_1027.ndpi',\n  '\\\\\\\\10.162.80.16\\\\Andre\\\\data\\\\Ashleigh fallopian tube\\\\fallopian tubes\\\\AJF232\\\\fallopian_tubes_AJLF232_1029.ndpi',\n  '\\\\\\\\10.162.80.16\\\\Andre\\\\data\\\\Ashleigh fallopian tube\\\\fallopian tubes\\\\AJF232\\\\fallopian_tubes_AJLF232_1031.ndpi',\n  '\\\\\\\\10.162.80.16\\\\Andre\\\\data\\\\Ashleigh fallopian tube\\\\fallopian tubes\\\\AJF232\\\\fallopian_tubes_AJLF232_1033.ndpi',\n  '\\\\\\\\10.162.80.16\\\\Andre\\\\data\\\\Ashleigh fallopian tube\\\\fallopian tubes\\\\AJF232\\\\fallopian_tubes_AJLF232_1035.ndpi',\n  '\\\\\\\\10.162.80.16\\\\Andre\\\\data\\\\Ashleigh fallopian tube\\\\fallopian tubes\\\\AJF232\\\\fallopian_tubes_AJLF232_1037.ndpi',\n  '\\\\\\\\10.162.80.16\\\\Andre\\\\data\\\\Ashleigh fallopian tube\\\\fallopian tubes\\\\AJF232\\\\fallopian_tubes_AJLF232_1039.ndpi',\n  '\\\\\\\\10.162.80.16\\\\Andre\\\\data\\\\Ashleigh fallopian tube\\\\fallopian tubes\\\\AJF232\\\\fallopian_tubes_AJLF232_1041.ndpi',\n  '\\\\\\\\10.162.80.16\\\\Andre\\\\data\\\\Ashleigh fallopian tube\\\\fallopian tubes\\\\AJF232\\\\fallopian_tubes_AJLF232_1043.ndpi',\n  '\\\\\\\\10.162.80.16\\\\Andre\\\\data\\\\Ashleigh fallopian tube\\\\fallopian tubes\\\\AJF232\\\\fallopian_tubes_AJLF232_1045.ndpi',\n  '\\\\\\\\10.162.80.16\\\\Andre\\\\data\\\\Ashleigh fallopian tube\\\\fallopian tubes\\\\AJF232\\\\fallopian_tubes_AJLF232_1047.ndpi',\n  '\\\\\\\\10.162.80.16\\\\Andre\\\\data\\\\Ashleigh fallopian tube\\\\fallopian tubes\\\\AJF232\\\\fallopian_tubes_AJLF232_1049.ndpi',\n  '\\\\\\\\10.162.80.16\\\\Andre\\\\data\\\\Ashleigh fallopian tube\\\\fallopian tubes\\\\AJF232\\\\fallopian_tubes_AJLF232_1051.ndpi',\n  '\\\\\\\\10.162.80.16\\\\Andre\\\\data\\\\Ashleigh fallopian tube\\\\fallopian tubes\\\\AJF232\\\\fallopian_tubes_AJLF232_1053.ndpi',\n  '\\\\\\\\10.162.80.16\\\\Andre\\\\data\\\\Ashleigh fallopian tube\\\\fallopian tubes\\\\AJF232\\\\fallopian_tubes_AJLF232_1055.ndpi',\n  '\\\\\\\\10.162.80.16\\\\Andre\\\\data\\\\Ashleigh fallopian tube\\\\fallopian tubes\\\\AJF232\\\\fallopian_tubes_AJLF232_1057.ndpi',\n  '\\\\\\\\10.162.80.16\\\\Andre\\\\data\\\\Ashleigh fallopian tube\\\\fallopian tubes\\\\AJF232\\\\fallopian_tubes_AJLF232_1059.ndpi',\n  '\\\\\\\\10.162.80.16\\\\Andre\\\\data\\\\Ashleigh fallopian tube\\\\fallopian tubes\\\\AJF232\\\\fallopian_tubes_AJLF232_1061.ndpi',\n  '\\\\\\\\10.162.80.16\\\\Andre\\\\data\\\\Ashleigh fallopian tube\\\\fallopian tubes\\\\AJF232\\\\fallopian_tubes_AJLF232_1063.ndpi',\n  '\\\\\\\\10.162.80.16\\\\Andre\\\\data\\\\Ashleigh fallopian tube\\\\fallopian tubes\\\\AJF232\\\\fallopian_tubes_AJLF232_1065.ndpi',\n  '\\\\\\\\10.162.80.16\\\\Andre\\\\data\\\\Ashleigh fallopian tube\\\\fallopian tubes\\\\AJF232\\\\fallopian_tubes_AJLF232_1067.ndpi',\n  '\\\\\\\\10.162.80.16\\\\Andre\\\\data\\\\Ashleigh fallopian tube\\\\fallopian tubes\\\\AJF232\\\\fallopian_tubes_AJLF232_1069.ndpi',\n  '\\\\\\\\10.162.80.16\\\\Andre\\\\data\\\\Ashleigh fallopian tube\\\\fallopian tubes\\\\AJF232\\\\fallopian_tubes_AJLF232_1071.ndpi',\n  '\\\\\\\\10.162.80.16\\\\Andre\\\\data\\\\Ashleigh fallopian tube\\\\fallopian tubes\\\\AJF232\\\\fallopian_tubes_AJLF232_1073.ndpi',\n  '\\\\\\\\10.162.80.16\\\\Andre\\\\data\\\\Ashleigh fallopian tube\\\\fallopian tubes\\\\AJF232\\\\fallopian_tubes_AJLF232_1075.ndpi',\n  '\\\\\\\\10.162.80.16\\\\Andre\\\\data\\\\Ashleigh fallopian tube\\\\fallopian tubes\\\\AJF232\\\\fallopian_tubes_AJLF232_1077.ndpi',\n  '\\\\\\\\10.162.80.16\\\\Andre\\\\data\\\\Ashleigh fallopian tube\\\\fallopian tubes\\\\AJF232\\\\fallopian_tubes_AJLF232_1079.ndpi',\n  '\\\\\\\\10.162.80.16\\\\Andre\\\\data\\\\Ashleigh fallopian tube\\\\fallopian tubes\\\\AJF232\\\\fallopian_tubes_AJLF232_1081.ndpi',\n  '\\\\\\\\10.162.80.16\\\\Andre\\\\data\\\\Ashleigh fallopian tube\\\\fallopian tubes\\\\AJF232\\\\fallopian_tubes_AJLF232_1083.ndpi',\n  '\\\\\\\\10.162.80.16\\\\Andre\\\\data\\\\Ashleigh fallopian tube\\\\fallopian tubes\\\\AJF232\\\\fallopian_tubes_AJLF232_1085.ndpi',\n  '\\\\\\\\10.162.80.16\\\\Andre\\\\data\\\\Ashleigh fallopian tube\\\\fallopian tubes\\\\AJF232\\\\fallopian_tubes_AJLF232_1087.ndpi',\n  '\\\\\\\\10.162.80.16\\\\Andre\\\\data\\\\Ashleigh fallopian tube\\\\fallopian tubes\\\\AJF232\\\\fallopian_tubes_AJLF232_1089.ndpi',\n  '\\\\\\\\10.162.80.16\\\\Andre\\\\data\\\\Ashleigh fallopian tube\\\\fallopian tubes\\\\AJF232\\\\fallopian_tubes_AJLF232_1091.ndpi',\n  '\\\\\\\\10.162.80.16\\\\Andre\\\\data\\\\Ashleigh fallopian tube\\\\fallopian tubes\\\\AJF232\\\\fallopian_tubes_AJLF232_1093.ndpi',\n  '\\\\\\\\10.162.80.16\\\\Andre\\\\data\\\\Ashleigh fallopian tube\\\\fallopian tubes\\\\AJF232\\\\fallopian_tubes_AJLF232_1095.ndpi',\n  '\\\\\\\\10.162.80.16\\\\Andre\\\\data\\\\Ashleigh fallopian tube\\\\fallopian tubes\\\\AJF232\\\\fallopian_tubes_AJLF232_1097.ndpi',\n  '\\\\\\\\10.162.80.16\\\\Andre\\\\data\\\\Ashleigh fallopian tube\\\\fallopian tubes\\\\AJF232\\\\fallopian_tubes_AJLF232_1099.ndpi',\n  '\\\\\\\\10.162.80.16\\\\Andre\\\\data\\\\Ashleigh fallopian tube\\\\fallopian tubes\\\\AJF232\\\\fallopian_tubes_AJLF232_1101.ndpi',\n  '\\\\\\\\10.162.80.16\\\\Andre\\\\data\\\\Ashleigh fallopian tube\\\\fallopian tubes\\\\AJF232\\\\fallopian_tubes_AJLF232_1103.ndpi',\n  '\\\\\\\\10.162.80.16\\\\Andre\\\\data\\\\Ashleigh fallopian tube\\\\fallopian tubes\\\\AJF232\\\\fallopian_tubes_AJLF232_1105.ndpi',\n  '\\\\\\\\10.162.80.16\\\\Andre\\\\data\\\\Ashleigh fallopian tube\\\\fallopian tubes\\\\AJF232\\\\fallopian_tubes_AJLF232_1107.ndpi',\n  '\\\\\\\\10.162.80.16\\\\Andre\\\\data\\\\Ashleigh fallopian tube\\\\fallopian tubes\\\\AJF232\\\\fallopian_tubes_AJLF232_1109.ndpi',\n  '\\\\\\\\10.162.80.16\\\\Andre\\\\data\\\\Ashleigh fallopian tube\\\\fallopian tubes\\\\AJF232\\\\fallopian_tubes_AJLF232_1111.ndpi',\n  '\\\\\\\\10.162.80.16\\\\Andre\\\\data\\\\Ashleigh fallopian tube\\\\fallopian tubes\\\\AJF232\\\\fallopian_tubes_AJLF232_1113.ndpi',\n  '\\\\\\\\10.162.80.16\\\\Andre\\\\data\\\\Ashleigh fallopian tube\\\\fallopian tubes\\\\AJF232\\\\fallopian_tubes_AJLF232_1115.ndpi',\n  '\\\\\\\\10.162.80.16\\\\Andre\\\\data\\\\Ashleigh fallopian tube\\\\fallopian tubes\\\\AJF232\\\\fallopian_tubes_AJLF232_1117.ndpi',\n  '\\\\\\\\10.162.80.16\\\\Andre\\\\data\\\\Ashleigh fallopian tube\\\\fallopian tubes\\\\AJF232\\\\fallopian_tubes_AJLF232_1119.ndpi',\n  '\\\\\\\\10.162.80.16\\\\Andre\\\\data\\\\Ashleigh fallopian tube\\\\fallopian tubes\\\\AJF232\\\\fallopian_tubes_AJLF232_1121.ndpi',\n  '\\\\\\\\10.162.80.16\\\\Andre\\\\data\\\\Ashleigh fallopian tube\\\\fallopian tubes\\\\AJF232\\\\fallopian_tubes_AJLF232_1123.ndpi',\n  '\\\\\\\\10.162.80.16\\\\Andre\\\\data\\\\Ashleigh fallopian tube\\\\fallopian tubes\\\\AJF232\\\\fallopian_tubes_AJLF232_1125.ndpi',\n  '\\\\\\\\10.162.80.16\\\\Andre\\\\data\\\\Ashleigh fallopian tube\\\\fallopian tubes\\\\AJF232\\\\fallopian_tubes_AJLF232_1127.ndpi',\n  '\\\\\\\\10.162.80.16\\\\Andre\\\\data\\\\Ashleigh fallopian tube\\\\fallopian tubes\\\\AJF232\\\\fallopian_tubes_AJLF232_1129.ndpi',\n  '\\\\\\\\10.162.80.16\\\\Andre\\\\data\\\\Ashleigh fallopian tube\\\\fallopian tubes\\\\AJF232\\\\fallopian_tubes_AJLF232_1131.ndpi',\n  '\\\\\\\\10.162.80.16\\\\Andre\\\\data\\\\Ashleigh fallopian tube\\\\fallopian tubes\\\\AJF232\\\\fallopian_tubes_AJLF232_1133.ndpi',\n  '\\\\\\\\10.162.80.16\\\\Andre\\\\data\\\\Ashleigh fallopian tube\\\\fallopian tubes\\\\AJF232\\\\fallopian_tubes_AJLF232_1135.ndpi',\n  '\\\\\\\\10.162.80.16\\\\Andre\\\\data\\\\Ashleigh fallopian tube\\\\fallopian tubes\\\\AJF232\\\\fallopian_tubes_AJLF232_1137.ndpi',\n  '\\\\\\\\10.162.80.16\\\\Andre\\\\data\\\\Ashleigh fallopian tube\\\\fallopian tubes\\\\AJF232\\\\fallopian_tubes_AJLF232_1139.ndpi',\n  '\\\\\\\\10.162.80.16\\\\Andre\\\\data\\\\Ashleigh fallopian tube\\\\fallopian tubes\\\\AJF232\\\\fallopian_tubes_AJLF232_1141.ndpi',\n  '\\\\\\\\10.162.80.16\\\\Andre\\\\data\\\\Ashleigh fallopian tube\\\\fallopian tubes\\\\AJF232\\\\fallopian_tubes_AJLF232_1143.ndpi',\n  '\\\\\\\\10.162.80.16\\\\Andre\\\\data\\\\Ashleigh fallopian tube\\\\fallopian tubes\\\\AJF232\\\\fallopian_tubes_AJLF232_1145.ndpi',\n  '\\\\\\\\10.162.80.16\\\\Andre\\\\data\\\\Ashleigh fallopian tube\\\\fallopian tubes\\\\AJF232\\\\fallopian_tubes_AJLF232_1147.ndpi',\n  '\\\\\\\\10.162.80.16\\\\Andre\\\\data\\\\Ashleigh fallopian tube\\\\fallopian tubes\\\\AJF232\\\\fallopian_tubes_AJLF232_1149.ndpi',\n  '\\\\\\\\10.162.80.16\\\\Andre\\\\data\\\\Ashleigh fallopian tube\\\\fallopian tubes\\\\AJF232\\\\fallopian_tubes_AJLF232_1151.ndpi',\n  '\\\\\\\\10.162.80.16\\\\Andre\\\\data\\\\Ashleigh fallopian tube\\\\fallopian tubes\\\\AJF232\\\\fallopian_tubes_AJLF232_1153.ndpi',\n  '\\\\\\\\10.162.80.16\\\\Andre\\\\data\\\\Ashleigh fallopian tube\\\\fallopian tubes\\\\AJF232\\\\fallopian_tubes_AJLF232_1155.ndpi',\n  '\\\\\\\\10.162.80.16\\\\Andre\\\\data\\\\Ashleigh fallopian tube\\\\fallopian tubes\\\\AJF232\\\\fallopian_tubes_AJLF232_1157.ndpi',\n  '\\\\\\\\10.162.80.16\\\\Andre\\\\data\\\\Ashleigh fallopian tube\\\\fallopian tubes\\\\AJF232\\\\fallopian_tubes_AJLF232_1159.ndpi',\n  '\\\\\\\\10.162.80.16\\\\Andre\\\\data\\\\Ashleigh fallopian tube\\\\fallopian tubes\\\\AJF232\\\\fallopian_tubes_AJLF232_1161.ndpi',\n  '\\\\\\\\10.162.80.16\\\\Andre\\\\data\\\\Ashleigh fallopian tube\\\\fallopian tubes\\\\AJF232\\\\fallopian_tubes_AJLF232_1163.ndpi',\n  '\\\\\\\\10.162.80.16\\\\Andre\\\\data\\\\Ashleigh fallopian tube\\\\fallopian tubes\\\\AJF232\\\\fallopian_tubes_AJLF232_1165.ndpi',\n  '\\\\\\\\10.162.80.16\\\\Andre\\\\data\\\\Ashleigh fallopian tube\\\\fallopian tubes\\\\AJF232\\\\fallopian_tubes_AJLF232_1167.ndpi',\n  '\\\\\\\\10.162.80.16\\\\Andre\\\\data\\\\Ashleigh fallopian tube\\\\fallopian tubes\\\\AJF232\\\\fallopian_tubes_AJLF232_1169.ndpi',\n  '\\\\\\\\10.162.80.16\\\\Andre\\\\data\\\\Ashleigh fallopian tube\\\\fallopian tubes\\\\AJF232\\\\fallopian_tubes_AJLF232_1171.ndpi',\n  '\\\\\\\\10.162.80.16\\\\Andre\\\\data\\\\Ashleigh fallopian tube\\\\fallopian tubes\\\\AJF232\\\\fallopian_tubes_AJLF232_1173.ndpi',\n  '\\\\\\\\10.162.80.16\\\\Andre\\\\data\\\\Ashleigh fallopian tube\\\\fallopian tubes\\\\AJF232\\\\fallopian_tubes_AJLF232_1175.ndpi',\n  '\\\\\\\\10.162.80.16\\\\Andre\\\\data\\\\Ashleigh fallopian tube\\\\fallopian tubes\\\\AJF232\\\\fallopian_tubes_AJLF232_1177.ndpi',\n  '\\\\\\\\10.162.80.16\\\\Andre\\\\data\\\\Ashleigh fallopian tube\\\\fallopian tubes\\\\AJF232\\\\fallopian_tubes_AJLF232_1179.ndpi',\n  '\\\\\\\\10.162.80.16\\\\Andre\\\\data\\\\Ashleigh fallopian tube\\\\fallopian tubes\\\\AJF232\\\\fallopian_tubes_AJLF232_1181.ndpi',\n  '\\\\\\\\10.162.80.16\\\\Andre\\\\data\\\\Ashleigh fallopian tube\\\\fallopian tubes\\\\AJF232\\\\fallopian_tubes_AJLF232_1183.ndpi',\n  '\\\\\\\\10.162.80.16\\\\Andre\\\\data\\\\Ashleigh fallopian tube\\\\fallopian tubes\\\\AJF232\\\\fallopian_tubes_AJLF232_1185.ndpi',\n  '\\\\\\\\10.162.80.16\\\\Andre\\\\data\\\\Ashleigh fallopian tube\\\\fallopian tubes\\\\AJF232\\\\fallopian_tubes_AJLF232_1187.ndpi',\n  '\\\\\\\\10.162.80.16\\\\Andre\\\\data\\\\Ashleigh fallopian tube\\\\fallopian tubes\\\\AJF232\\\\fallopian_tubes_AJLF232_1189.ndpi',\n  '\\\\\\\\10.162.80.16\\\\Andre\\\\data\\\\Ashleigh fallopian tube\\\\fallopian tubes\\\\AJF232\\\\fallopian_tubes_AJLF232_1191.ndpi',\n  '\\\\\\\\10.162.80.16\\\\Andre\\\\data\\\\Ashleigh fallopian tube\\\\fallopian tubes\\\\AJF232\\\\fallopian_tubes_AJLF232_1193.ndpi',\n  '\\\\\\\\10.162.80.16\\\\Andre\\\\data\\\\Ashleigh fallopian tube\\\\fallopian tubes\\\\AJF232\\\\fallopian_tubes_AJLF232_1195.ndpi',\n  '\\\\\\\\10.162.80.16\\\\Andre\\\\data\\\\Ashleigh fallopian tube\\\\fallopian tubes\\\\AJF232\\\\fallopian_tubes_AJLF232_1197.ndpi',\n  '\\\\\\\\10.162.80.16\\\\Andre\\\\data\\\\Ashleigh fallopian tube\\\\fallopian tubes\\\\AJF232\\\\fallopian_tubes_AJLF232_1199.ndpi',\n  '\\\\\\\\10.162.80.16\\\\Andre\\\\data\\\\Ashleigh fallopian tube\\\\fallopian tubes\\\\AJF232\\\\fallopian_tubes_AJLF232_1201.ndpi',\n  '\\\\\\\\10.162.80.16\\\\Andre\\\\data\\\\Ashleigh fallopian tube\\\\fallopian tubes\\\\AJF232\\\\fallopian_tubes_AJLF232_1203.ndpi',\n  '\\\\\\\\10.162.80.16\\\\Andre\\\\data\\\\Ashleigh fallopian tube\\\\fallopian tubes\\\\AJF232\\\\fallopian_tubes_AJLF232_1205.ndpi',\n  '\\\\\\\\10.162.80.16\\\\Andre\\\\data\\\\Ashleigh fallopian tube\\\\fallopian tubes\\\\AJF232\\\\fallopian_tubes_AJLF232_1207.ndpi',\n  '\\\\\\\\10.162.80.16\\\\Andre\\\\data\\\\Ashleigh fallopian tube\\\\fallopian tubes\\\\AJF232\\\\fallopian_tubes_AJLF232_1209.ndpi',\n  '\\\\\\\\10.162.80.16\\\\Andre\\\\data\\\\Ashleigh fallopian tube\\\\fallopian tubes\\\\AJF232\\\\fallopian_tubes_AJLF232_1211.ndpi',\n  '\\\\\\\\10.162.80.16\\\\Andre\\\\data\\\\Ashleigh fallopian tube\\\\fallopian tubes\\\\AJF232\\\\fallopian_tubes_AJLF232_1213.ndpi',\n  '\\\\\\\\10.162.80.16\\\\Andre\\\\data\\\\Ashleigh fallopian tube\\\\fallopian tubes\\\\AJF232\\\\fallopian_tubes_AJLF232_1215.ndpi',\n  '\\\\\\\\10.162.80.16\\\\Andre\\\\data\\\\Ashleigh fallopian tube\\\\fallopian tubes\\\\AJF232\\\\fallopian_tubes_AJLF232_1217.ndpi',\n  '\\\\\\\\10.162.80.16\\\\Andre\\\\data\\\\Ashleigh fallopian tube\\\\fallopian tubes\\\\AJF232\\\\fallopian_tubes_AJLF232_1219.ndpi',\n  '\\\\\\\\10.162.80.16\\\\Andre\\\\data\\\\Ashleigh fallopian tube\\\\fallopian tubes\\\\AJF232\\\\fallopian_tubes_AJLF232_1221.ndpi',\n  '\\\\\\\\10.162.80.16\\\\Andre\\\\data\\\\Ashleigh fallopian tube\\\\fallopian tubes\\\\AJF232\\\\fallopian_tubes_AJLF232_1223.ndpi',\n  '\\\\\\\\10.162.80.16\\\\Andre\\\\data\\\\Ashleigh fallopian tube\\\\fallopian tubes\\\\AJF232\\\\fallopian_tubes_AJLF232_1225.ndpi',\n  '\\\\\\\\10.162.80.16\\\\Andre\\\\data\\\\Ashleigh fallopian tube\\\\fallopian tubes\\\\AJF232\\\\fallopian_tubes_AJLF232_1227.ndpi',\n  '\\\\\\\\10.162.80.16\\\\Andre\\\\data\\\\Ashleigh fallopian tube\\\\fallopian tubes\\\\AJF232\\\\fallopian_tubes_AJLF232_1229.ndpi',\n  '\\\\\\\\10.162.80.16\\\\Andre\\\\data\\\\Ashleigh fallopian tube\\\\fallopian tubes\\\\AJF232\\\\fallopian_tubes_AJLF232_1231.ndpi',\n  '\\\\\\\\10.162.80.16\\\\Andre\\\\data\\\\Ashleigh fallopian tube\\\\fallopian tubes\\\\AJF232\\\\fallopian_tubes_AJLF232_1233.ndpi',\n  '\\\\\\\\10.162.80.16\\\\Andre\\\\data\\\\Ashleigh fallopian tube\\\\fallopian tubes\\\\AJF232\\\\fallopian_tubes_AJLF232_1235.ndpi',\n  '\\\\\\\\10.162.80.16\\\\Andre\\\\data\\\\Ashleigh fallopian tube\\\\fallopian tubes\\\\AJF232\\\\fallopian_tubes_AJLF232_1237.ndpi',\n  '\\\\\\\\10.162.80.16\\\\Andre\\\\data\\\\Ashleigh fallopian tube\\\\fallopian tubes\\\\AJF232\\\\fallopian_tubes_AJLF232_1239.ndpi',\n  '\\\\\\\\10.162.80.16\\\\Andre\\\\data\\\\Ashleigh fallopian tube\\\\fallopian tubes\\\\AJF232\\\\fallopian_tubes_AJLF232_1241.ndpi',\n  '\\\\\\\\10.162.80.16\\\\Andre\\\\data\\\\Ashleigh fallopian tube\\\\fallopian tubes\\\\AJF232\\\\fallopian_tubes_AJLF232_1243.ndpi',\n  '\\\\\\\\10.162.80.16\\\\Andre\\\\data\\\\Ashleigh fallopian tube\\\\fallopian tubes\\\\AJF232\\\\fallopian_tubes_AJLF232_1245.ndpi',\n  '\\\\\\\\10.162.80.16\\\\Andre\\\\data\\\\Ashleigh fallopian tube\\\\fallopian tubes\\\\AJF232\\\\fallopian_tubes_AJLF232_1247.ndpi',\n  '\\\\\\\\10.162.80.16\\\\Andre\\\\data\\\\Ashleigh fallopian tube\\\\fallopian tubes\\\\AJF232\\\\fallopian_tubes_AJLF232_1249.ndpi',\n  '\\\\\\\\10.162.80.16\\\\Andre\\\\data\\\\Ashleigh fallopian tube\\\\fallopian tubes\\\\AJF232\\\\fallopian_tubes_AJLF232_1251.ndpi',\n  '\\\\\\\\10.162.80.16\\\\Andre\\\\data\\\\Ashleigh fallopian tube\\\\fallopian tubes\\\\AJF232\\\\fallopian_tubes_AJLF232_1253.ndpi',\n  '\\\\\\\\10.162.80.16\\\\Andre\\\\data\\\\Ashleigh fallopian tube\\\\fallopian tubes\\\\AJF232\\\\fallopian_tubes_AJLF232_1255.ndpi',\n  '\\\\\\\\10.162.80.16\\\\Andre\\\\data\\\\Ashleigh fallopian tube\\\\fallopian tubes\\\\AJF232\\\\fallopian_tubes_AJLF232_1257.ndpi',\n  '\\\\\\\\10.162.80.16\\\\Andre\\\\data\\\\Ashleigh fallopian tube\\\\fallopian tubes\\\\AJF232\\\\fallopian_tubes_AJLF232_1259.ndpi',\n  '\\\\\\\\10.162.80.16\\\\Andre\\\\data\\\\Ashleigh fallopian tube\\\\fallopian tubes\\\\AJF232\\\\fallopian_tubes_AJLF232_1261.ndpi',\n  '\\\\\\\\10.162.80.16\\\\Andre\\\\data\\\\Ashleigh fallopian tube\\\\fallopian tubes\\\\AJF232\\\\fallopian_tubes_AJLF232_1263.ndpi',\n  '\\\\\\\\10.162.80.16\\\\Andre\\\\data\\\\Ashleigh fallopian tube\\\\fallopian tubes\\\\AJF232\\\\fallopian_tubes_AJLF232_1265.ndpi',\n  '\\\\\\\\10.162.80.16\\\\Andre\\\\data\\\\Ashleigh fallopian tube\\\\fallopian tubes\\\\AJF232\\\\fallopian_tubes_AJLF232_1267.ndpi',\n  '\\\\\\\\10.162.80.16\\\\Andre\\\\data\\\\Ashleigh fallopian tube\\\\fallopian tubes\\\\AJF232\\\\fallopian_tubes_AJLF232_1269.ndpi',\n  '\\\\\\\\10.162.80.16\\\\Andre\\\\data\\\\Ashleigh fallopian tube\\\\fallopian tubes\\\\AJF232\\\\fallopian_tubes_AJLF232_1271.ndpi',\n  '\\\\\\\\10.162.80.16\\\\Andre\\\\data\\\\Ashleigh fallopian tube\\\\fallopian tubes\\\\AJF232\\\\fallopian_tubes_AJLF232_1273.ndpi',\n  '\\\\\\\\10.162.80.16\\\\Andre\\\\data\\\\Ashleigh fallopian tube\\\\fallopian tubes\\\\AJF232\\\\fallopian_tubes_AJLF232_1275.ndpi',\n  '\\\\\\\\10.162.80.16\\\\Andre\\\\data\\\\Ashleigh fallopian tube\\\\fallopian tubes\\\\AJF232\\\\fallopian_tubes_AJLF232_1277.ndpi',\n  '\\\\\\\\10.162.80.16\\\\Andre\\\\data\\\\Ashleigh fallopian tube\\\\fallopian tubes\\\\AJF232\\\\fallopian_tubes_AJLF232_1279.ndpi',\n  '\\\\\\\\10.162.80.16\\\\Andre\\\\data\\\\Ashleigh fallopian tube\\\\fallopian tubes\\\\AJF232\\\\fallopian_tubes_AJLF232_1281.ndpi',\n  '\\\\\\\\10.162.80.16\\\\Andre\\\\data\\\\Ashleigh fallopian tube\\\\fallopian tubes\\\\AJF232\\\\fallopian_tubes_AJLF232_1283.ndpi',\n  '\\\\\\\\10.162.80.16\\\\Andre\\\\data\\\\Ashleigh fallopian tube\\\\fallopian tubes\\\\AJF232\\\\fallopian_tubes_AJLF232_1285.ndpi',\n  '\\\\\\\\10.162.80.16\\\\Andre\\\\data\\\\Ashleigh fallopian tube\\\\fallopian tubes\\\\AJF232\\\\fallopian_tubes_AJLF232_1287.ndpi',\n  '\\\\\\\\10.162.80.16\\\\Andre\\\\data\\\\Ashleigh fallopian tube\\\\fallopian tubes\\\\AJF232\\\\fallopian_tubes_AJLF232_1289.ndpi',\n  '\\\\\\\\10.162.80.16\\\\Andre\\\\data\\\\Ashleigh fallopian tube\\\\fallopian tubes\\\\AJF232\\\\fallopian_tubes_AJLF232_1291.ndpi',\n  '\\\\\\\\10.162.80.16\\\\Andre\\\\data\\\\Ashleigh fallopian tube\\\\fallopian tubes\\\\AJF232\\\\fallopian_tubes_AJLF232_1293.ndpi',\n  '\\\\\\\\10.162.80.16\\\\Andre\\\\data\\\\Ashleigh fallopian tube\\\\fallopian tubes\\\\AJF232\\\\fallopian_tubes_AJLF232_1295.ndpi',\n  '\\\\\\\\10.162.80.16\\\\Andre\\\\data\\\\Ashleigh fallopian tube\\\\fallopian tubes\\\\AJF232\\\\fallopian_tubes_AJLF232_1297.ndpi',\n  '\\\\\\\\10.162.80.16\\\\Andre\\\\data\\\\Ashleigh fallopian tube\\\\fallopian tubes\\\\AJF232\\\\fallopian_tubes_AJLF232_1299.ndpi',\n  '\\\\\\\\10.162.80.16\\\\Andre\\\\data\\\\Ashleigh fallopian tube\\\\fallopian tubes\\\\AJF232\\\\fallopian_tubes_AJLF232_1301.ndpi',\n  '\\\\\\\\10.162.80.16\\\\Andre\\\\data\\\\Ashleigh fallopian tube\\\\fallopian tubes\\\\AJF232\\\\fallopian_tubes_AJLF232_1303.ndpi',\n  '\\\\\\\\10.162.80.16\\\\Andre\\\\data\\\\Ashleigh fallopian tube\\\\fallopian tubes\\\\AJF232\\\\fallopian_tubes_AJLF232_1305.ndpi',\n  '\\\\\\\\10.162.80.16\\\\Andre\\\\data\\\\Ashleigh fallopian tube\\\\fallopian tubes\\\\AJF232\\\\fallopian_tubes_AJLF232_1307.ndpi',\n  '\\\\\\\\10.162.80.16\\\\Andre\\\\data\\\\Ashleigh fallopian tube\\\\fallopian tubes\\\\AJF232\\\\fallopian_tubes_AJLF232_1309.ndpi',\n  '\\\\\\\\10.162.80.16\\\\Andre\\\\data\\\\Ashleigh fallopian tube\\\\fallopian tubes\\\\AJF232\\\\fallopian_tubes_AJLF232_1311.ndpi',\n  '\\\\\\\\10.162.80.16\\\\Andre\\\\data\\\\Ashleigh fallopian tube\\\\fallopian tubes\\\\AJF232\\\\fallopian_tubes_AJLF232_1313.ndpi',\n  '\\\\\\\\10.162.80.16\\\\Andre\\\\data\\\\Ashleigh fallopian tube\\\\fallopian tubes\\\\AJF232\\\\fallopian_tubes_AJLF232_1315.ndpi',\n  '\\\\\\\\10.162.80.16\\\\Andre\\\\data\\\\Ashleigh fallopian tube\\\\fallopian tubes\\\\AJF232\\\\fallopian_tubes_AJLF232_1317.ndpi',\n  '\\\\\\\\10.162.80.16\\\\Andre\\\\data\\\\Ashleigh fallopian tube\\\\fallopian tubes\\\\AJF232\\\\fallopian_tubes_AJLF232_1319.ndpi',\n  '\\\\\\\\10.162.80.16\\\\Andre\\\\data\\\\Ashleigh fallopian tube\\\\fallopian tubes\\\\AJF232\\\\fallopian_tubes_AJLF232_1321.ndpi',\n  '\\\\\\\\10.162.80.16\\\\Andre\\\\data\\\\Ashleigh fallopian tube\\\\fallopian tubes\\\\AJF232\\\\fallopian_tubes_AJLF232_1323.ndpi',\n  '\\\\\\\\10.162.80.16\\\\Andre\\\\data\\\\Ashleigh fallopian tube\\\\fallopian tubes\\\\AJF232\\\\fallopian_tubes_AJLF232_1325.ndpi',\n  '\\\\\\\\10.162.80.16\\\\Andre\\\\data\\\\Ashleigh fallopian tube\\\\fallopian tubes\\\\AJF232\\\\fallopian_tubes_AJLF232_1327.ndpi',\n  '\\\\\\\\10.162.80.16\\\\Andre\\\\data\\\\Ashleigh fallopian tube\\\\fallopian tubes\\\\AJF232\\\\fallopian_tubes_AJLF232_1329.ndpi',\n  '\\\\\\\\10.162.80.16\\\\Andre\\\\data\\\\Ashleigh fallopian tube\\\\fallopian tubes\\\\AJF232\\\\fallopian_tubes_AJLF232_1331.ndpi',\n  '\\\\\\\\10.162.80.16\\\\Andre\\\\data\\\\Ashleigh fallopian tube\\\\fallopian tubes\\\\AJF232\\\\fallopian_tubes_AJLF232_1333.ndpi',\n  '\\\\\\\\10.162.80.16\\\\Andre\\\\data\\\\Ashleigh fallopian tube\\\\fallopian tubes\\\\AJF232\\\\fallopian_tubes_AJLF232_1335.ndpi',\n  '\\\\\\\\10.162.80.16\\\\Andre\\\\data\\\\Ashleigh fallopian tube\\\\fallopian tubes\\\\AJF232\\\\fallopian_tubes_AJLF232_1337.ndpi',\n  '\\\\\\\\10.162.80.16\\\\Andre\\\\data\\\\Ashleigh fallopian tube\\\\fallopian tubes\\\\AJF232\\\\fallopian_tubes_AJLF232_1339.ndpi',\n  '\\\\\\\\10.162.80.16\\\\Andre\\\\data\\\\Ashleigh fallopian tube\\\\fallopian tubes\\\\AJF232\\\\fallopian_tubes_AJLF232_1341.ndpi',\n  '\\\\\\\\10.162.80.16\\\\Andre\\\\data\\\\Ashleigh fallopian tube\\\\fallopian tubes\\\\AJF232\\\\fallopian_tubes_AJLF232_1343.ndpi',\n  '\\\\\\\\10.162.80.16\\\\Andre\\\\data\\\\Ashleigh fallopian tube\\\\fallopian tubes\\\\AJF232\\\\fallopian_tubes_AJLF232_1345.ndpi',\n  '\\\\\\\\10.162.80.16\\\\Andre\\\\data\\\\Ashleigh fallopian tube\\\\fallopian tubes\\\\AJF232\\\\fallopian_tubes_AJLF232_1347.ndpi',\n  '\\\\\\\\10.162.80.16\\\\Andre\\\\data\\\\Ashleigh fallopian tube\\\\fallopian tubes\\\\AJF232\\\\fallopian_tubes_AJLF232_1349.ndpi',\n  '\\\\\\\\10.162.80.16\\\\Andre\\\\data\\\\Ashleigh fallopian tube\\\\fallopian tubes\\\\AJF232\\\\fallopian_tubes_AJLF232_1351.ndpi',\n  '\\\\\\\\10.162.80.16\\\\Andre\\\\data\\\\Ashleigh fallopian tube\\\\fallopian tubes\\\\AJF232\\\\fallopian_tubes_AJLF232_1353.ndpi',\n  '\\\\\\\\10.162.80.16\\\\Andre\\\\data\\\\Ashleigh fallopian tube\\\\fallopian tubes\\\\AJF232\\\\fallopian_tubes_AJLF232_1355.ndpi',\n  '\\\\\\\\10.162.80.16\\\\Andre\\\\data\\\\Ashleigh fallopian tube\\\\fallopian tubes\\\\AJF232\\\\fallopian_tubes_AJLF232_1357.ndpi',\n  '\\\\\\\\10.162.80.16\\\\Andre\\\\data\\\\Ashleigh fallopian tube\\\\fallopian tubes\\\\AJF232\\\\fallopian_tubes_AJLF232_1359.ndpi',\n  '\\\\\\\\10.162.80.16\\\\Andre\\\\data\\\\Ashleigh fallopian tube\\\\fallopian tubes\\\\AJF232\\\\fallopian_tubes_AJLF232_1361.ndpi',\n  '\\\\\\\\10.162.80.16\\\\Andre\\\\data\\\\Ashleigh fallopian tube\\\\fallopian tubes\\\\AJF232\\\\fallopian_tubes_AJLF232_1363.ndpi',\n  '\\\\\\\\10.162.80.16\\\\Andre\\\\data\\\\Ashleigh fallopian tube\\\\fallopian tubes\\\\AJF232\\\\fallopian_tubes_AJLF232_1365.ndpi',\n  '\\\\\\\\10.162.80.16\\\\Andre\\\\data\\\\Ashleigh fallopian tube\\\\fallopian tubes\\\\AJF232\\\\fallopian_tubes_AJLF232_1367.ndpi',\n  '\\\\\\\\10.162.80.16\\\\Andre\\\\data\\\\Ashleigh fallopian tube\\\\fallopian tubes\\\\AJF232\\\\fallopian_tubes_AJLF232_1369.ndpi',\n  '\\\\\\\\10.162.80.16\\\\Andre\\\\data\\\\Ashleigh fallopian tube\\\\fallopian tubes\\\\AJF232\\\\fallopian_tubes_AJLF232_1371.ndpi',\n  '\\\\\\\\10.162.80.16\\\\Andre\\\\data\\\\Ashleigh fallopian tube\\\\fallopian tubes\\\\AJF232\\\\fallopian_tubes_AJLF232_1373.ndpi'],\n ['\\\\\\\\10.162.80.16\\\\Andre\\\\data\\\\Ashleigh fallopian tube\\\\fallopian tubes\\\\AJLC170\\\\fallopian_tubes_AJLC170_0001.ndpi',\n  '\\\\\\\\10.162.80.16\\\\Andre\\\\data\\\\Ashleigh fallopian tube\\\\fallopian tubes\\\\AJLC170\\\\fallopian_tubes_AJLC170_0003.ndpi',\n  '\\\\\\\\10.162.80.16\\\\Andre\\\\data\\\\Ashleigh fallopian tube\\\\fallopian tubes\\\\AJLC170\\\\fallopian_tubes_AJLC170_0005.ndpi',\n  '\\\\\\\\10.162.80.16\\\\Andre\\\\data\\\\Ashleigh fallopian tube\\\\fallopian tubes\\\\AJLC170\\\\fallopian_tubes_AJLC170_0007.ndpi',\n  '\\\\\\\\10.162.80.16\\\\Andre\\\\data\\\\Ashleigh fallopian tube\\\\fallopian tubes\\\\AJLC170\\\\fallopian_tubes_AJLC170_0009.ndpi',\n  '\\\\\\\\10.162.80.16\\\\Andre\\\\data\\\\Ashleigh fallopian tube\\\\fallopian tubes\\\\AJLC170\\\\fallopian_tubes_AJLC170_0011.ndpi',\n  '\\\\\\\\10.162.80.16\\\\Andre\\\\data\\\\Ashleigh fallopian tube\\\\fallopian tubes\\\\AJLC170\\\\fallopian_tubes_AJLC170_0013.ndpi',\n  '\\\\\\\\10.162.80.16\\\\Andre\\\\data\\\\Ashleigh fallopian tube\\\\fallopian tubes\\\\AJLC170\\\\fallopian_tubes_AJLC170_0015.ndpi',\n  '\\\\\\\\10.162.80.16\\\\Andre\\\\data\\\\Ashleigh fallopian tube\\\\fallopian tubes\\\\AJLC170\\\\fallopian_tubes_AJLC170_0017.ndpi',\n  '\\\\\\\\10.162.80.16\\\\Andre\\\\data\\\\Ashleigh fallopian tube\\\\fallopian tubes\\\\AJLC170\\\\fallopian_tubes_AJLC170_0019.ndpi',\n  '\\\\\\\\10.162.80.16\\\\Andre\\\\data\\\\Ashleigh fallopian tube\\\\fallopian tubes\\\\AJLC170\\\\fallopian_tubes_AJLC170_0021.ndpi',\n  '\\\\\\\\10.162.80.16\\\\Andre\\\\data\\\\Ashleigh fallopian tube\\\\fallopian tubes\\\\AJLC170\\\\fallopian_tubes_AJLC170_0023.ndpi',\n  '\\\\\\\\10.162.80.16\\\\Andre\\\\data\\\\Ashleigh fallopian tube\\\\fallopian tubes\\\\AJLC170\\\\fallopian_tubes_AJLC170_0025.ndpi',\n  '\\\\\\\\10.162.80.16\\\\Andre\\\\data\\\\Ashleigh fallopian tube\\\\fallopian tubes\\\\AJLC170\\\\fallopian_tubes_AJLC170_0027.ndpi',\n  '\\\\\\\\10.162.80.16\\\\Andre\\\\data\\\\Ashleigh fallopian tube\\\\fallopian tubes\\\\AJLC170\\\\fallopian_tubes_AJLC170_0029.ndpi',\n  '\\\\\\\\10.162.80.16\\\\Andre\\\\data\\\\Ashleigh fallopian tube\\\\fallopian tubes\\\\AJLC170\\\\fallopian_tubes_AJLC170_0031.ndpi',\n  '\\\\\\\\10.162.80.16\\\\Andre\\\\data\\\\Ashleigh fallopian tube\\\\fallopian tubes\\\\AJLC170\\\\fallopian_tubes_AJLC170_0033.ndpi',\n  '\\\\\\\\10.162.80.16\\\\Andre\\\\data\\\\Ashleigh fallopian tube\\\\fallopian tubes\\\\AJLC170\\\\fallopian_tubes_AJLC170_0035.ndpi',\n  '\\\\\\\\10.162.80.16\\\\Andre\\\\data\\\\Ashleigh fallopian tube\\\\fallopian tubes\\\\AJLC170\\\\fallopian_tubes_AJLC170_0037.ndpi',\n  '\\\\\\\\10.162.80.16\\\\Andre\\\\data\\\\Ashleigh fallopian tube\\\\fallopian tubes\\\\AJLC170\\\\fallopian_tubes_AJLC170_0039.ndpi',\n  '\\\\\\\\10.162.80.16\\\\Andre\\\\data\\\\Ashleigh fallopian tube\\\\fallopian tubes\\\\AJLC170\\\\fallopian_tubes_AJLC170_0041.ndpi',\n  '\\\\\\\\10.162.80.16\\\\Andre\\\\data\\\\Ashleigh fallopian tube\\\\fallopian tubes\\\\AJLC170\\\\fallopian_tubes_AJLC170_0043.ndpi',\n  '\\\\\\\\10.162.80.16\\\\Andre\\\\data\\\\Ashleigh fallopian tube\\\\fallopian tubes\\\\AJLC170\\\\fallopian_tubes_AJLC170_0045.ndpi',\n  '\\\\\\\\10.162.80.16\\\\Andre\\\\data\\\\Ashleigh fallopian tube\\\\fallopian tubes\\\\AJLC170\\\\fallopian_tubes_AJLC170_0047.ndpi',\n  '\\\\\\\\10.162.80.16\\\\Andre\\\\data\\\\Ashleigh fallopian tube\\\\fallopian tubes\\\\AJLC170\\\\fallopian_tubes_AJLC170_0049.ndpi',\n  '\\\\\\\\10.162.80.16\\\\Andre\\\\data\\\\Ashleigh fallopian tube\\\\fallopian tubes\\\\AJLC170\\\\fallopian_tubes_AJLC170_0051.ndpi',\n  '\\\\\\\\10.162.80.16\\\\Andre\\\\data\\\\Ashleigh fallopian tube\\\\fallopian tubes\\\\AJLC170\\\\fallopian_tubes_AJLC170_0053.ndpi',\n  '\\\\\\\\10.162.80.16\\\\Andre\\\\data\\\\Ashleigh fallopian tube\\\\fallopian tubes\\\\AJLC170\\\\fallopian_tubes_AJLC170_0055.ndpi',\n  '\\\\\\\\10.162.80.16\\\\Andre\\\\data\\\\Ashleigh fallopian tube\\\\fallopian tubes\\\\AJLC170\\\\fallopian_tubes_AJLC170_0057.ndpi',\n  '\\\\\\\\10.162.80.16\\\\Andre\\\\data\\\\Ashleigh fallopian tube\\\\fallopian tubes\\\\AJLC170\\\\fallopian_tubes_AJLC170_0059.ndpi',\n  '\\\\\\\\10.162.80.16\\\\Andre\\\\data\\\\Ashleigh fallopian tube\\\\fallopian tubes\\\\AJLC170\\\\fallopian_tubes_AJLC170_0061.ndpi',\n  '\\\\\\\\10.162.80.16\\\\Andre\\\\data\\\\Ashleigh fallopian tube\\\\fallopian tubes\\\\AJLC170\\\\fallopian_tubes_AJLC170_0063.ndpi',\n  '\\\\\\\\10.162.80.16\\\\Andre\\\\data\\\\Ashleigh fallopian tube\\\\fallopian tubes\\\\AJLC170\\\\fallopian_tubes_AJLC170_0065.ndpi',\n  '\\\\\\\\10.162.80.16\\\\Andre\\\\data\\\\Ashleigh fallopian tube\\\\fallopian tubes\\\\AJLC170\\\\fallopian_tubes_AJLC170_0067.ndpi',\n  '\\\\\\\\10.162.80.16\\\\Andre\\\\data\\\\Ashleigh fallopian tube\\\\fallopian tubes\\\\AJLC170\\\\fallopian_tubes_AJLC170_0069.ndpi',\n  '\\\\\\\\10.162.80.16\\\\Andre\\\\data\\\\Ashleigh fallopian tube\\\\fallopian tubes\\\\AJLC170\\\\fallopian_tubes_AJLC170_0071.ndpi',\n  '\\\\\\\\10.162.80.16\\\\Andre\\\\data\\\\Ashleigh fallopian tube\\\\fallopian tubes\\\\AJLC170\\\\fallopian_tubes_AJLC170_0073.ndpi',\n  '\\\\\\\\10.162.80.16\\\\Andre\\\\data\\\\Ashleigh fallopian tube\\\\fallopian tubes\\\\AJLC170\\\\fallopian_tubes_AJLC170_0075.ndpi',\n  '\\\\\\\\10.162.80.16\\\\Andre\\\\data\\\\Ashleigh fallopian tube\\\\fallopian tubes\\\\AJLC170\\\\fallopian_tubes_AJLC170_0077.ndpi',\n  '\\\\\\\\10.162.80.16\\\\Andre\\\\data\\\\Ashleigh fallopian tube\\\\fallopian tubes\\\\AJLC170\\\\fallopian_tubes_AJLC170_0079.ndpi',\n  '\\\\\\\\10.162.80.16\\\\Andre\\\\data\\\\Ashleigh fallopian tube\\\\fallopian tubes\\\\AJLC170\\\\fallopian_tubes_AJLC170_0081.ndpi',\n  '\\\\\\\\10.162.80.16\\\\Andre\\\\data\\\\Ashleigh fallopian tube\\\\fallopian tubes\\\\AJLC170\\\\fallopian_tubes_AJLC170_0083.ndpi',\n  '\\\\\\\\10.162.80.16\\\\Andre\\\\data\\\\Ashleigh fallopian tube\\\\fallopian tubes\\\\AJLC170\\\\fallopian_tubes_AJLC170_0085.ndpi',\n  '\\\\\\\\10.162.80.16\\\\Andre\\\\data\\\\Ashleigh fallopian tube\\\\fallopian tubes\\\\AJLC170\\\\fallopian_tubes_AJLC170_0087.ndpi',\n  '\\\\\\\\10.162.80.16\\\\Andre\\\\data\\\\Ashleigh fallopian tube\\\\fallopian tubes\\\\AJLC170\\\\fallopian_tubes_AJLC170_0089.ndpi',\n  '\\\\\\\\10.162.80.16\\\\Andre\\\\data\\\\Ashleigh fallopian tube\\\\fallopian tubes\\\\AJLC170\\\\fallopian_tubes_AJLC170_0091.ndpi',\n  '\\\\\\\\10.162.80.16\\\\Andre\\\\data\\\\Ashleigh fallopian tube\\\\fallopian tubes\\\\AJLC170\\\\fallopian_tubes_AJLC170_0093.ndpi',\n  '\\\\\\\\10.162.80.16\\\\Andre\\\\data\\\\Ashleigh fallopian tube\\\\fallopian tubes\\\\AJLC170\\\\fallopian_tubes_AJLC170_0095.ndpi',\n  '\\\\\\\\10.162.80.16\\\\Andre\\\\data\\\\Ashleigh fallopian tube\\\\fallopian tubes\\\\AJLC170\\\\fallopian_tubes_AJLC170_0097.ndpi',\n  '\\\\\\\\10.162.80.16\\\\Andre\\\\data\\\\Ashleigh fallopian tube\\\\fallopian tubes\\\\AJLC170\\\\fallopian_tubes_AJLC170_0099.ndpi',\n  '\\\\\\\\10.162.80.16\\\\Andre\\\\data\\\\Ashleigh fallopian tube\\\\fallopian tubes\\\\AJLC170\\\\fallopian_tubes_AJLC170_0101.ndpi',\n  '\\\\\\\\10.162.80.16\\\\Andre\\\\data\\\\Ashleigh fallopian tube\\\\fallopian tubes\\\\AJLC170\\\\fallopian_tubes_AJLC170_0103.ndpi',\n  '\\\\\\\\10.162.80.16\\\\Andre\\\\data\\\\Ashleigh fallopian tube\\\\fallopian tubes\\\\AJLC170\\\\fallopian_tubes_AJLC170_0105.ndpi',\n  '\\\\\\\\10.162.80.16\\\\Andre\\\\data\\\\Ashleigh fallopian tube\\\\fallopian tubes\\\\AJLC170\\\\fallopian_tubes_AJLC170_0107.ndpi',\n  '\\\\\\\\10.162.80.16\\\\Andre\\\\data\\\\Ashleigh fallopian tube\\\\fallopian tubes\\\\AJLC170\\\\fallopian_tubes_AJLC170_0109.ndpi',\n  '\\\\\\\\10.162.80.16\\\\Andre\\\\data\\\\Ashleigh fallopian tube\\\\fallopian tubes\\\\AJLC170\\\\fallopian_tubes_AJLC170_0111.ndpi',\n  '\\\\\\\\10.162.80.16\\\\Andre\\\\data\\\\Ashleigh fallopian tube\\\\fallopian tubes\\\\AJLC170\\\\fallopian_tubes_AJLC170_0113.ndpi',\n  '\\\\\\\\10.162.80.16\\\\Andre\\\\data\\\\Ashleigh fallopian tube\\\\fallopian tubes\\\\AJLC170\\\\fallopian_tubes_AJLC170_0115.ndpi',\n  '\\\\\\\\10.162.80.16\\\\Andre\\\\data\\\\Ashleigh fallopian tube\\\\fallopian tubes\\\\AJLC170\\\\fallopian_tubes_AJLC170_0117.ndpi',\n  '\\\\\\\\10.162.80.16\\\\Andre\\\\data\\\\Ashleigh fallopian tube\\\\fallopian tubes\\\\AJLC170\\\\fallopian_tubes_AJLC170_0119.ndpi',\n  '\\\\\\\\10.162.80.16\\\\Andre\\\\data\\\\Ashleigh fallopian tube\\\\fallopian tubes\\\\AJLC170\\\\fallopian_tubes_AJLC170_0121.ndpi',\n  '\\\\\\\\10.162.80.16\\\\Andre\\\\data\\\\Ashleigh fallopian tube\\\\fallopian tubes\\\\AJLC170\\\\fallopian_tubes_AJLC170_0123.ndpi',\n  '\\\\\\\\10.162.80.16\\\\Andre\\\\data\\\\Ashleigh fallopian tube\\\\fallopian tubes\\\\AJLC170\\\\fallopian_tubes_AJLC170_0125.ndpi',\n  '\\\\\\\\10.162.80.16\\\\Andre\\\\data\\\\Ashleigh fallopian tube\\\\fallopian tubes\\\\AJLC170\\\\fallopian_tubes_AJLC170_0127.ndpi',\n  '\\\\\\\\10.162.80.16\\\\Andre\\\\data\\\\Ashleigh fallopian tube\\\\fallopian tubes\\\\AJLC170\\\\fallopian_tubes_AJLC170_0129.ndpi',\n  '\\\\\\\\10.162.80.16\\\\Andre\\\\data\\\\Ashleigh fallopian tube\\\\fallopian tubes\\\\AJLC170\\\\fallopian_tubes_AJLC170_0131.ndpi',\n  '\\\\\\\\10.162.80.16\\\\Andre\\\\data\\\\Ashleigh fallopian tube\\\\fallopian tubes\\\\AJLC170\\\\fallopian_tubes_AJLC170_0133.ndpi',\n  '\\\\\\\\10.162.80.16\\\\Andre\\\\data\\\\Ashleigh fallopian tube\\\\fallopian tubes\\\\AJLC170\\\\fallopian_tubes_AJLC170_0135.ndpi',\n  '\\\\\\\\10.162.80.16\\\\Andre\\\\data\\\\Ashleigh fallopian tube\\\\fallopian tubes\\\\AJLC170\\\\fallopian_tubes_AJLC170_0137.ndpi',\n  '\\\\\\\\10.162.80.16\\\\Andre\\\\data\\\\Ashleigh fallopian tube\\\\fallopian tubes\\\\AJLC170\\\\fallopian_tubes_AJLC170_0139.ndpi',\n  '\\\\\\\\10.162.80.16\\\\Andre\\\\data\\\\Ashleigh fallopian tube\\\\fallopian tubes\\\\AJLC170\\\\fallopian_tubes_AJLC170_0141.ndpi',\n  '\\\\\\\\10.162.80.16\\\\Andre\\\\data\\\\Ashleigh fallopian tube\\\\fallopian tubes\\\\AJLC170\\\\fallopian_tubes_AJLC170_0143.ndpi',\n  '\\\\\\\\10.162.80.16\\\\Andre\\\\data\\\\Ashleigh fallopian tube\\\\fallopian tubes\\\\AJLC170\\\\fallopian_tubes_AJLC170_0145.ndpi',\n  '\\\\\\\\10.162.80.16\\\\Andre\\\\data\\\\Ashleigh fallopian tube\\\\fallopian tubes\\\\AJLC170\\\\fallopian_tubes_AJLC170_0147.ndpi',\n  '\\\\\\\\10.162.80.16\\\\Andre\\\\data\\\\Ashleigh fallopian tube\\\\fallopian tubes\\\\AJLC170\\\\fallopian_tubes_AJLC170_0149.ndpi',\n  '\\\\\\\\10.162.80.16\\\\Andre\\\\data\\\\Ashleigh fallopian tube\\\\fallopian tubes\\\\AJLC170\\\\fallopian_tubes_AJLC170_0151.ndpi',\n  '\\\\\\\\10.162.80.16\\\\Andre\\\\data\\\\Ashleigh fallopian tube\\\\fallopian tubes\\\\AJLC170\\\\fallopian_tubes_AJLC170_0153.ndpi',\n  '\\\\\\\\10.162.80.16\\\\Andre\\\\data\\\\Ashleigh fallopian tube\\\\fallopian tubes\\\\AJLC170\\\\fallopian_tubes_AJLC170_0155.ndpi',\n  '\\\\\\\\10.162.80.16\\\\Andre\\\\data\\\\Ashleigh fallopian tube\\\\fallopian tubes\\\\AJLC170\\\\fallopian_tubes_AJLC170_0157.ndpi',\n  '\\\\\\\\10.162.80.16\\\\Andre\\\\data\\\\Ashleigh fallopian tube\\\\fallopian tubes\\\\AJLC170\\\\fallopian_tubes_AJLC170_0159.ndpi',\n  '\\\\\\\\10.162.80.16\\\\Andre\\\\data\\\\Ashleigh fallopian tube\\\\fallopian tubes\\\\AJLC170\\\\fallopian_tubes_AJLC170_0161.ndpi',\n  '\\\\\\\\10.162.80.16\\\\Andre\\\\data\\\\Ashleigh fallopian tube\\\\fallopian tubes\\\\AJLC170\\\\fallopian_tubes_AJLC170_0163.ndpi',\n  '\\\\\\\\10.162.80.16\\\\Andre\\\\data\\\\Ashleigh fallopian tube\\\\fallopian tubes\\\\AJLC170\\\\fallopian_tubes_AJLC170_0165.ndpi',\n  '\\\\\\\\10.162.80.16\\\\Andre\\\\data\\\\Ashleigh fallopian tube\\\\fallopian tubes\\\\AJLC170\\\\fallopian_tubes_AJLC170_0167.ndpi',\n  '\\\\\\\\10.162.80.16\\\\Andre\\\\data\\\\Ashleigh fallopian tube\\\\fallopian tubes\\\\AJLC170\\\\fallopian_tubes_AJLC170_0169.ndpi',\n  '\\\\\\\\10.162.80.16\\\\Andre\\\\data\\\\Ashleigh fallopian tube\\\\fallopian tubes\\\\AJLC170\\\\fallopian_tubes_AJLC170_0171.ndpi',\n  '\\\\\\\\10.162.80.16\\\\Andre\\\\data\\\\Ashleigh fallopian tube\\\\fallopian tubes\\\\AJLC170\\\\fallopian_tubes_AJLC170_0173.ndpi',\n  '\\\\\\\\10.162.80.16\\\\Andre\\\\data\\\\Ashleigh fallopian tube\\\\fallopian tubes\\\\AJLC170\\\\fallopian_tubes_AJLC170_0175.ndpi',\n  '\\\\\\\\10.162.80.16\\\\Andre\\\\data\\\\Ashleigh fallopian tube\\\\fallopian tubes\\\\AJLC170\\\\fallopian_tubes_AJLC170_0177.ndpi',\n  '\\\\\\\\10.162.80.16\\\\Andre\\\\data\\\\Ashleigh fallopian tube\\\\fallopian tubes\\\\AJLC170\\\\fallopian_tubes_AJLC170_0179.ndpi',\n  '\\\\\\\\10.162.80.16\\\\Andre\\\\data\\\\Ashleigh fallopian tube\\\\fallopian tubes\\\\AJLC170\\\\fallopian_tubes_AJLC170_0181.ndpi',\n  '\\\\\\\\10.162.80.16\\\\Andre\\\\data\\\\Ashleigh fallopian tube\\\\fallopian tubes\\\\AJLC170\\\\fallopian_tubes_AJLC170_0183.ndpi',\n  '\\\\\\\\10.162.80.16\\\\Andre\\\\data\\\\Ashleigh fallopian tube\\\\fallopian tubes\\\\AJLC170\\\\fallopian_tubes_AJLC170_0185.ndpi',\n  '\\\\\\\\10.162.80.16\\\\Andre\\\\data\\\\Ashleigh fallopian tube\\\\fallopian tubes\\\\AJLC170\\\\fallopian_tubes_AJLC170_0187.ndpi',\n  '\\\\\\\\10.162.80.16\\\\Andre\\\\data\\\\Ashleigh fallopian tube\\\\fallopian tubes\\\\AJLC170\\\\fallopian_tubes_AJLC170_0189.ndpi',\n  '\\\\\\\\10.162.80.16\\\\Andre\\\\data\\\\Ashleigh fallopian tube\\\\fallopian tubes\\\\AJLC170\\\\fallopian_tubes_AJLC170_0191.ndpi',\n  '\\\\\\\\10.162.80.16\\\\Andre\\\\data\\\\Ashleigh fallopian tube\\\\fallopian tubes\\\\AJLC170\\\\fallopian_tubes_AJLC170_0193.ndpi',\n  '\\\\\\\\10.162.80.16\\\\Andre\\\\data\\\\Ashleigh fallopian tube\\\\fallopian tubes\\\\AJLC170\\\\fallopian_tubes_AJLC170_0195.ndpi',\n  '\\\\\\\\10.162.80.16\\\\Andre\\\\data\\\\Ashleigh fallopian tube\\\\fallopian tubes\\\\AJLC170\\\\fallopian_tubes_AJLC170_0197.ndpi',\n  '\\\\\\\\10.162.80.16\\\\Andre\\\\data\\\\Ashleigh fallopian tube\\\\fallopian tubes\\\\AJLC170\\\\fallopian_tubes_AJLC170_0199.ndpi',\n  '\\\\\\\\10.162.80.16\\\\Andre\\\\data\\\\Ashleigh fallopian tube\\\\fallopian tubes\\\\AJLC170\\\\fallopian_tubes_AJLC170_0201.ndpi',\n  '\\\\\\\\10.162.80.16\\\\Andre\\\\data\\\\Ashleigh fallopian tube\\\\fallopian tubes\\\\AJLC170\\\\fallopian_tubes_AJLC170_0203.ndpi',\n  '\\\\\\\\10.162.80.16\\\\Andre\\\\data\\\\Ashleigh fallopian tube\\\\fallopian tubes\\\\AJLC170\\\\fallopian_tubes_AJLC170_0205.ndpi',\n  '\\\\\\\\10.162.80.16\\\\Andre\\\\data\\\\Ashleigh fallopian tube\\\\fallopian tubes\\\\AJLC170\\\\fallopian_tubes_AJLC170_0207.ndpi',\n  '\\\\\\\\10.162.80.16\\\\Andre\\\\data\\\\Ashleigh fallopian tube\\\\fallopian tubes\\\\AJLC170\\\\fallopian_tubes_AJLC170_0209.ndpi',\n  '\\\\\\\\10.162.80.16\\\\Andre\\\\data\\\\Ashleigh fallopian tube\\\\fallopian tubes\\\\AJLC170\\\\fallopian_tubes_AJLC170_0211.ndpi',\n  '\\\\\\\\10.162.80.16\\\\Andre\\\\data\\\\Ashleigh fallopian tube\\\\fallopian tubes\\\\AJLC170\\\\fallopian_tubes_AJLC170_0213.ndpi',\n  '\\\\\\\\10.162.80.16\\\\Andre\\\\data\\\\Ashleigh fallopian tube\\\\fallopian tubes\\\\AJLC170\\\\fallopian_tubes_AJLC170_0215.ndpi',\n  '\\\\\\\\10.162.80.16\\\\Andre\\\\data\\\\Ashleigh fallopian tube\\\\fallopian tubes\\\\AJLC170\\\\fallopian_tubes_AJLC170_0217.ndpi',\n  '\\\\\\\\10.162.80.16\\\\Andre\\\\data\\\\Ashleigh fallopian tube\\\\fallopian tubes\\\\AJLC170\\\\fallopian_tubes_AJLC170_0219.ndpi',\n  '\\\\\\\\10.162.80.16\\\\Andre\\\\data\\\\Ashleigh fallopian tube\\\\fallopian tubes\\\\AJLC170\\\\fallopian_tubes_AJLC170_0221.ndpi',\n  '\\\\\\\\10.162.80.16\\\\Andre\\\\data\\\\Ashleigh fallopian tube\\\\fallopian tubes\\\\AJLC170\\\\fallopian_tubes_AJLC170_0223.ndpi',\n  '\\\\\\\\10.162.80.16\\\\Andre\\\\data\\\\Ashleigh fallopian tube\\\\fallopian tubes\\\\AJLC170\\\\fallopian_tubes_AJLC170_0225.ndpi',\n  '\\\\\\\\10.162.80.16\\\\Andre\\\\data\\\\Ashleigh fallopian tube\\\\fallopian tubes\\\\AJLC170\\\\fallopian_tubes_AJLC170_0227.ndpi',\n  '\\\\\\\\10.162.80.16\\\\Andre\\\\data\\\\Ashleigh fallopian tube\\\\fallopian tubes\\\\AJLC170\\\\fallopian_tubes_AJLC170_0229.ndpi',\n  '\\\\\\\\10.162.80.16\\\\Andre\\\\data\\\\Ashleigh fallopian tube\\\\fallopian tubes\\\\AJLC170\\\\fallopian_tubes_AJLC170_0231.ndpi',\n  '\\\\\\\\10.162.80.16\\\\Andre\\\\data\\\\Ashleigh fallopian tube\\\\fallopian tubes\\\\AJLC170\\\\fallopian_tubes_AJLC170_0233.ndpi',\n  '\\\\\\\\10.162.80.16\\\\Andre\\\\data\\\\Ashleigh fallopian tube\\\\fallopian tubes\\\\AJLC170\\\\fallopian_tubes_AJLC170_0235.ndpi',\n  '\\\\\\\\10.162.80.16\\\\Andre\\\\data\\\\Ashleigh fallopian tube\\\\fallopian tubes\\\\AJLC170\\\\fallopian_tubes_AJLC170_0237.ndpi',\n  '\\\\\\\\10.162.80.16\\\\Andre\\\\data\\\\Ashleigh fallopian tube\\\\fallopian tubes\\\\AJLC170\\\\fallopian_tubes_AJLC170_0239.ndpi',\n  '\\\\\\\\10.162.80.16\\\\Andre\\\\data\\\\Ashleigh fallopian tube\\\\fallopian tubes\\\\AJLC170\\\\fallopian_tubes_AJLC170_0241.ndpi',\n  '\\\\\\\\10.162.80.16\\\\Andre\\\\data\\\\Ashleigh fallopian tube\\\\fallopian tubes\\\\AJLC170\\\\fallopian_tubes_AJLC170_0243.ndpi',\n  '\\\\\\\\10.162.80.16\\\\Andre\\\\data\\\\Ashleigh fallopian tube\\\\fallopian tubes\\\\AJLC170\\\\fallopian_tubes_AJLC170_0245.ndpi',\n  '\\\\\\\\10.162.80.16\\\\Andre\\\\data\\\\Ashleigh fallopian tube\\\\fallopian tubes\\\\AJLC170\\\\fallopian_tubes_AJLC170_0247.ndpi',\n  '\\\\\\\\10.162.80.16\\\\Andre\\\\data\\\\Ashleigh fallopian tube\\\\fallopian tubes\\\\AJLC170\\\\fallopian_tubes_AJLC170_0249.ndpi',\n  '\\\\\\\\10.162.80.16\\\\Andre\\\\data\\\\Ashleigh fallopian tube\\\\fallopian tubes\\\\AJLC170\\\\fallopian_tubes_AJLC170_0251.ndpi',\n  '\\\\\\\\10.162.80.16\\\\Andre\\\\data\\\\Ashleigh fallopian tube\\\\fallopian tubes\\\\AJLC170\\\\fallopian_tubes_AJLC170_0253.ndpi',\n  '\\\\\\\\10.162.80.16\\\\Andre\\\\data\\\\Ashleigh fallopian tube\\\\fallopian tubes\\\\AJLC170\\\\fallopian_tubes_AJLC170_0255.ndpi',\n  '\\\\\\\\10.162.80.16\\\\Andre\\\\data\\\\Ashleigh fallopian tube\\\\fallopian tubes\\\\AJLC170\\\\fallopian_tubes_AJLC170_0257.ndpi',\n  '\\\\\\\\10.162.80.16\\\\Andre\\\\data\\\\Ashleigh fallopian tube\\\\fallopian tubes\\\\AJLC170\\\\fallopian_tubes_AJLC170_0259.ndpi',\n  '\\\\\\\\10.162.80.16\\\\Andre\\\\data\\\\Ashleigh fallopian tube\\\\fallopian tubes\\\\AJLC170\\\\fallopian_tubes_AJLC170_0261.ndpi',\n  '\\\\\\\\10.162.80.16\\\\Andre\\\\data\\\\Ashleigh fallopian tube\\\\fallopian tubes\\\\AJLC170\\\\fallopian_tubes_AJLC170_0263.ndpi',\n  '\\\\\\\\10.162.80.16\\\\Andre\\\\data\\\\Ashleigh fallopian tube\\\\fallopian tubes\\\\AJLC170\\\\fallopian_tubes_AJLC170_0265.ndpi',\n  '\\\\\\\\10.162.80.16\\\\Andre\\\\data\\\\Ashleigh fallopian tube\\\\fallopian tubes\\\\AJLC170\\\\fallopian_tubes_AJLC170_0267.ndpi',\n  '\\\\\\\\10.162.80.16\\\\Andre\\\\data\\\\Ashleigh fallopian tube\\\\fallopian tubes\\\\AJLC170\\\\fallopian_tubes_AJLC170_0269.ndpi',\n  '\\\\\\\\10.162.80.16\\\\Andre\\\\data\\\\Ashleigh fallopian tube\\\\fallopian tubes\\\\AJLC170\\\\fallopian_tubes_AJLC170_0271.ndpi',\n  '\\\\\\\\10.162.80.16\\\\Andre\\\\data\\\\Ashleigh fallopian tube\\\\fallopian tubes\\\\AJLC170\\\\fallopian_tubes_AJLC170_0273.ndpi',\n  '\\\\\\\\10.162.80.16\\\\Andre\\\\data\\\\Ashleigh fallopian tube\\\\fallopian tubes\\\\AJLC170\\\\fallopian_tubes_AJLC170_0275.ndpi',\n  '\\\\\\\\10.162.80.16\\\\Andre\\\\data\\\\Ashleigh fallopian tube\\\\fallopian tubes\\\\AJLC170\\\\fallopian_tubes_AJLC170_0277.ndpi',\n  '\\\\\\\\10.162.80.16\\\\Andre\\\\data\\\\Ashleigh fallopian tube\\\\fallopian tubes\\\\AJLC170\\\\fallopian_tubes_AJLC170_0279.ndpi',\n  '\\\\\\\\10.162.80.16\\\\Andre\\\\data\\\\Ashleigh fallopian tube\\\\fallopian tubes\\\\AJLC170\\\\fallopian_tubes_AJLC170_0281.ndpi',\n  '\\\\\\\\10.162.80.16\\\\Andre\\\\data\\\\Ashleigh fallopian tube\\\\fallopian tubes\\\\AJLC170\\\\fallopian_tubes_AJLC170_0283.ndpi',\n  '\\\\\\\\10.162.80.16\\\\Andre\\\\data\\\\Ashleigh fallopian tube\\\\fallopian tubes\\\\AJLC170\\\\fallopian_tubes_AJLC170_0285.ndpi',\n  '\\\\\\\\10.162.80.16\\\\Andre\\\\data\\\\Ashleigh fallopian tube\\\\fallopian tubes\\\\AJLC170\\\\fallopian_tubes_AJLC170_0287.ndpi',\n  '\\\\\\\\10.162.80.16\\\\Andre\\\\data\\\\Ashleigh fallopian tube\\\\fallopian tubes\\\\AJLC170\\\\fallopian_tubes_AJLC170_0289.ndpi',\n  '\\\\\\\\10.162.80.16\\\\Andre\\\\data\\\\Ashleigh fallopian tube\\\\fallopian tubes\\\\AJLC170\\\\fallopian_tubes_AJLC170_0291.ndpi',\n  '\\\\\\\\10.162.80.16\\\\Andre\\\\data\\\\Ashleigh fallopian tube\\\\fallopian tubes\\\\AJLC170\\\\fallopian_tubes_AJLC170_0293.ndpi',\n  '\\\\\\\\10.162.80.16\\\\Andre\\\\data\\\\Ashleigh fallopian tube\\\\fallopian tubes\\\\AJLC170\\\\fallopian_tubes_AJLC170_0295.ndpi',\n  '\\\\\\\\10.162.80.16\\\\Andre\\\\data\\\\Ashleigh fallopian tube\\\\fallopian tubes\\\\AJLC170\\\\fallopian_tubes_AJLC170_0297.ndpi',\n  '\\\\\\\\10.162.80.16\\\\Andre\\\\data\\\\Ashleigh fallopian tube\\\\fallopian tubes\\\\AJLC170\\\\fallopian_tubes_AJLC170_0299.ndpi',\n  '\\\\\\\\10.162.80.16\\\\Andre\\\\data\\\\Ashleigh fallopian tube\\\\fallopian tubes\\\\AJLC170\\\\fallopian_tubes_AJLC170_0301.ndpi',\n  '\\\\\\\\10.162.80.16\\\\Andre\\\\data\\\\Ashleigh fallopian tube\\\\fallopian tubes\\\\AJLC170\\\\fallopian_tubes_AJLC170_0303.ndpi',\n  '\\\\\\\\10.162.80.16\\\\Andre\\\\data\\\\Ashleigh fallopian tube\\\\fallopian tubes\\\\AJLC170\\\\fallopian_tubes_AJLC170_0305.ndpi',\n  '\\\\\\\\10.162.80.16\\\\Andre\\\\data\\\\Ashleigh fallopian tube\\\\fallopian tubes\\\\AJLC170\\\\fallopian_tubes_AJLC170_0307.ndpi',\n  '\\\\\\\\10.162.80.16\\\\Andre\\\\data\\\\Ashleigh fallopian tube\\\\fallopian tubes\\\\AJLC170\\\\fallopian_tubes_AJLC170_0309.ndpi',\n  '\\\\\\\\10.162.80.16\\\\Andre\\\\data\\\\Ashleigh fallopian tube\\\\fallopian tubes\\\\AJLC170\\\\fallopian_tubes_AJLC170_0311.ndpi',\n  '\\\\\\\\10.162.80.16\\\\Andre\\\\data\\\\Ashleigh fallopian tube\\\\fallopian tubes\\\\AJLC170\\\\fallopian_tubes_AJLC170_0313.ndpi',\n  '\\\\\\\\10.162.80.16\\\\Andre\\\\data\\\\Ashleigh fallopian tube\\\\fallopian tubes\\\\AJLC170\\\\fallopian_tubes_AJLC170_0315.ndpi',\n  '\\\\\\\\10.162.80.16\\\\Andre\\\\data\\\\Ashleigh fallopian tube\\\\fallopian tubes\\\\AJLC170\\\\fallopian_tubes_AJLC170_0317.ndpi',\n  '\\\\\\\\10.162.80.16\\\\Andre\\\\data\\\\Ashleigh fallopian tube\\\\fallopian tubes\\\\AJLC170\\\\fallopian_tubes_AJLC170_0319.ndpi',\n  '\\\\\\\\10.162.80.16\\\\Andre\\\\data\\\\Ashleigh fallopian tube\\\\fallopian tubes\\\\AJLC170\\\\fallopian_tubes_AJLC170_0321.ndpi',\n  '\\\\\\\\10.162.80.16\\\\Andre\\\\data\\\\Ashleigh fallopian tube\\\\fallopian tubes\\\\AJLC170\\\\fallopian_tubes_AJLC170_0323.ndpi',\n  '\\\\\\\\10.162.80.16\\\\Andre\\\\data\\\\Ashleigh fallopian tube\\\\fallopian tubes\\\\AJLC170\\\\fallopian_tubes_AJLC170_0325.ndpi',\n  '\\\\\\\\10.162.80.16\\\\Andre\\\\data\\\\Ashleigh fallopian tube\\\\fallopian tubes\\\\AJLC170\\\\fallopian_tubes_AJLC170_0327.ndpi',\n  '\\\\\\\\10.162.80.16\\\\Andre\\\\data\\\\Ashleigh fallopian tube\\\\fallopian tubes\\\\AJLC170\\\\fallopian_tubes_AJLC170_0329.ndpi',\n  '\\\\\\\\10.162.80.16\\\\Andre\\\\data\\\\Ashleigh fallopian tube\\\\fallopian tubes\\\\AJLC170\\\\fallopian_tubes_AJLC170_0331.ndpi',\n  '\\\\\\\\10.162.80.16\\\\Andre\\\\data\\\\Ashleigh fallopian tube\\\\fallopian tubes\\\\AJLC170\\\\fallopian_tubes_AJLC170_0333.ndpi',\n  '\\\\\\\\10.162.80.16\\\\Andre\\\\data\\\\Ashleigh fallopian tube\\\\fallopian tubes\\\\AJLC170\\\\fallopian_tubes_AJLC170_0335.ndpi',\n  '\\\\\\\\10.162.80.16\\\\Andre\\\\data\\\\Ashleigh fallopian tube\\\\fallopian tubes\\\\AJLC170\\\\fallopian_tubes_AJLC170_0337.ndpi',\n  '\\\\\\\\10.162.80.16\\\\Andre\\\\data\\\\Ashleigh fallopian tube\\\\fallopian tubes\\\\AJLC170\\\\fallopian_tubes_AJLC170_0339.ndpi',\n  '\\\\\\\\10.162.80.16\\\\Andre\\\\data\\\\Ashleigh fallopian tube\\\\fallopian tubes\\\\AJLC170\\\\fallopian_tubes_AJLC170_0341.ndpi',\n  '\\\\\\\\10.162.80.16\\\\Andre\\\\data\\\\Ashleigh fallopian tube\\\\fallopian tubes\\\\AJLC170\\\\fallopian_tubes_AJLC170_0343.ndpi',\n  '\\\\\\\\10.162.80.16\\\\Andre\\\\data\\\\Ashleigh fallopian tube\\\\fallopian tubes\\\\AJLC170\\\\fallopian_tubes_AJLC170_0345.ndpi',\n  '\\\\\\\\10.162.80.16\\\\Andre\\\\data\\\\Ashleigh fallopian tube\\\\fallopian tubes\\\\AJLC170\\\\fallopian_tubes_AJLC170_0347.ndpi',\n  '\\\\\\\\10.162.80.16\\\\Andre\\\\data\\\\Ashleigh fallopian tube\\\\fallopian tubes\\\\AJLC170\\\\fallopian_tubes_AJLC170_0349.ndpi',\n  '\\\\\\\\10.162.80.16\\\\Andre\\\\data\\\\Ashleigh fallopian tube\\\\fallopian tubes\\\\AJLC170\\\\fallopian_tubes_AJLC170_0351.ndpi',\n  '\\\\\\\\10.162.80.16\\\\Andre\\\\data\\\\Ashleigh fallopian tube\\\\fallopian tubes\\\\AJLC170\\\\fallopian_tubes_AJLC170_0353.ndpi',\n  '\\\\\\\\10.162.80.16\\\\Andre\\\\data\\\\Ashleigh fallopian tube\\\\fallopian tubes\\\\AJLC170\\\\fallopian_tubes_AJLC170_0355.ndpi',\n  '\\\\\\\\10.162.80.16\\\\Andre\\\\data\\\\Ashleigh fallopian tube\\\\fallopian tubes\\\\AJLC170\\\\fallopian_tubes_AJLC170_0357.ndpi',\n  '\\\\\\\\10.162.80.16\\\\Andre\\\\data\\\\Ashleigh fallopian tube\\\\fallopian tubes\\\\AJLC170\\\\fallopian_tubes_AJLC170_0359.ndpi',\n  '\\\\\\\\10.162.80.16\\\\Andre\\\\data\\\\Ashleigh fallopian tube\\\\fallopian tubes\\\\AJLC170\\\\fallopian_tubes_AJLC170_0361.ndpi',\n  '\\\\\\\\10.162.80.16\\\\Andre\\\\data\\\\Ashleigh fallopian tube\\\\fallopian tubes\\\\AJLC170\\\\fallopian_tubes_AJLC170_0363.ndpi',\n  '\\\\\\\\10.162.80.16\\\\Andre\\\\data\\\\Ashleigh fallopian tube\\\\fallopian tubes\\\\AJLC170\\\\fallopian_tubes_AJLC170_0365.ndpi',\n  '\\\\\\\\10.162.80.16\\\\Andre\\\\data\\\\Ashleigh fallopian tube\\\\fallopian tubes\\\\AJLC170\\\\fallopian_tubes_AJLC170_0367.ndpi',\n  '\\\\\\\\10.162.80.16\\\\Andre\\\\data\\\\Ashleigh fallopian tube\\\\fallopian tubes\\\\AJLC170\\\\fallopian_tubes_AJLC170_0369.ndpi',\n  '\\\\\\\\10.162.80.16\\\\Andre\\\\data\\\\Ashleigh fallopian tube\\\\fallopian tubes\\\\AJLC170\\\\fallopian_tubes_AJLC170_0371.ndpi',\n  '\\\\\\\\10.162.80.16\\\\Andre\\\\data\\\\Ashleigh fallopian tube\\\\fallopian tubes\\\\AJLC170\\\\fallopian_tubes_AJLC170_0373.ndpi',\n  '\\\\\\\\10.162.80.16\\\\Andre\\\\data\\\\Ashleigh fallopian tube\\\\fallopian tubes\\\\AJLC170\\\\fallopian_tubes_AJLC170_0375.ndpi',\n  '\\\\\\\\10.162.80.16\\\\Andre\\\\data\\\\Ashleigh fallopian tube\\\\fallopian tubes\\\\AJLC170\\\\fallopian_tubes_AJLC170_0377.ndpi',\n  '\\\\\\\\10.162.80.16\\\\Andre\\\\data\\\\Ashleigh fallopian tube\\\\fallopian tubes\\\\AJLC170\\\\fallopian_tubes_AJLC170_0379.ndpi',\n  '\\\\\\\\10.162.80.16\\\\Andre\\\\data\\\\Ashleigh fallopian tube\\\\fallopian tubes\\\\AJLC170\\\\fallopian_tubes_AJLC170_0381.ndpi',\n  '\\\\\\\\10.162.80.16\\\\Andre\\\\data\\\\Ashleigh fallopian tube\\\\fallopian tubes\\\\AJLC170\\\\fallopian_tubes_AJLC170_0383.ndpi',\n  '\\\\\\\\10.162.80.16\\\\Andre\\\\data\\\\Ashleigh fallopian tube\\\\fallopian tubes\\\\AJLC170\\\\fallopian_tubes_AJLC170_0385.ndpi',\n  '\\\\\\\\10.162.80.16\\\\Andre\\\\data\\\\Ashleigh fallopian tube\\\\fallopian tubes\\\\AJLC170\\\\fallopian_tubes_AJLC170_0387.ndpi',\n  '\\\\\\\\10.162.80.16\\\\Andre\\\\data\\\\Ashleigh fallopian tube\\\\fallopian tubes\\\\AJLC170\\\\fallopian_tubes_AJLC170_0389.ndpi',\n  '\\\\\\\\10.162.80.16\\\\Andre\\\\data\\\\Ashleigh fallopian tube\\\\fallopian tubes\\\\AJLC170\\\\fallopian_tubes_AJLC170_0391.ndpi',\n  '\\\\\\\\10.162.80.16\\\\Andre\\\\data\\\\Ashleigh fallopian tube\\\\fallopian tubes\\\\AJLC170\\\\fallopian_tubes_AJLC170_0393.ndpi',\n  '\\\\\\\\10.162.80.16\\\\Andre\\\\data\\\\Ashleigh fallopian tube\\\\fallopian tubes\\\\AJLC170\\\\fallopian_tubes_AJLC170_0395.ndpi',\n  '\\\\\\\\10.162.80.16\\\\Andre\\\\data\\\\Ashleigh fallopian tube\\\\fallopian tubes\\\\AJLC170\\\\fallopian_tubes_AJLC170_0397.ndpi',\n  '\\\\\\\\10.162.80.16\\\\Andre\\\\data\\\\Ashleigh fallopian tube\\\\fallopian tubes\\\\AJLC170\\\\fallopian_tubes_AJLC170_0399.ndpi',\n  '\\\\\\\\10.162.80.16\\\\Andre\\\\data\\\\Ashleigh fallopian tube\\\\fallopian tubes\\\\AJLC170\\\\fallopian_tubes_AJLC170_0401.ndpi',\n  '\\\\\\\\10.162.80.16\\\\Andre\\\\data\\\\Ashleigh fallopian tube\\\\fallopian tubes\\\\AJLC170\\\\fallopian_tubes_AJLC170_0403.ndpi',\n  '\\\\\\\\10.162.80.16\\\\Andre\\\\data\\\\Ashleigh fallopian tube\\\\fallopian tubes\\\\AJLC170\\\\fallopian_tubes_AJLC170_0405.ndpi',\n  '\\\\\\\\10.162.80.16\\\\Andre\\\\data\\\\Ashleigh fallopian tube\\\\fallopian tubes\\\\AJLC170\\\\fallopian_tubes_AJLC170_0407.ndpi',\n  '\\\\\\\\10.162.80.16\\\\Andre\\\\data\\\\Ashleigh fallopian tube\\\\fallopian tubes\\\\AJLC170\\\\fallopian_tubes_AJLC170_0409.ndpi',\n  '\\\\\\\\10.162.80.16\\\\Andre\\\\data\\\\Ashleigh fallopian tube\\\\fallopian tubes\\\\AJLC170\\\\fallopian_tubes_AJLC170_0411.ndpi',\n  '\\\\\\\\10.162.80.16\\\\Andre\\\\data\\\\Ashleigh fallopian tube\\\\fallopian tubes\\\\AJLC170\\\\fallopian_tubes_AJLC170_0413.ndpi',\n  '\\\\\\\\10.162.80.16\\\\Andre\\\\data\\\\Ashleigh fallopian tube\\\\fallopian tubes\\\\AJLC170\\\\fallopian_tubes_AJLC170_0415.ndpi',\n  '\\\\\\\\10.162.80.16\\\\Andre\\\\data\\\\Ashleigh fallopian tube\\\\fallopian tubes\\\\AJLC170\\\\fallopian_tubes_AJLC170_0417.ndpi',\n  '\\\\\\\\10.162.80.16\\\\Andre\\\\data\\\\Ashleigh fallopian tube\\\\fallopian tubes\\\\AJLC170\\\\fallopian_tubes_AJLC170_0419.ndpi',\n  '\\\\\\\\10.162.80.16\\\\Andre\\\\data\\\\Ashleigh fallopian tube\\\\fallopian tubes\\\\AJLC170\\\\fallopian_tubes_AJLC170_0421.ndpi',\n  '\\\\\\\\10.162.80.16\\\\Andre\\\\data\\\\Ashleigh fallopian tube\\\\fallopian tubes\\\\AJLC170\\\\fallopian_tubes_AJLC170_0423.ndpi',\n  '\\\\\\\\10.162.80.16\\\\Andre\\\\data\\\\Ashleigh fallopian tube\\\\fallopian tubes\\\\AJLC170\\\\fallopian_tubes_AJLC170_0425.ndpi',\n  '\\\\\\\\10.162.80.16\\\\Andre\\\\data\\\\Ashleigh fallopian tube\\\\fallopian tubes\\\\AJLC170\\\\fallopian_tubes_AJLC170_0427.ndpi',\n  '\\\\\\\\10.162.80.16\\\\Andre\\\\data\\\\Ashleigh fallopian tube\\\\fallopian tubes\\\\AJLC170\\\\fallopian_tubes_AJLC170_0429.ndpi',\n  '\\\\\\\\10.162.80.16\\\\Andre\\\\data\\\\Ashleigh fallopian tube\\\\fallopian tubes\\\\AJLC170\\\\fallopian_tubes_AJLC170_0431.ndpi',\n  '\\\\\\\\10.162.80.16\\\\Andre\\\\data\\\\Ashleigh fallopian tube\\\\fallopian tubes\\\\AJLC170\\\\fallopian_tubes_AJLC170_0433.ndpi',\n  '\\\\\\\\10.162.80.16\\\\Andre\\\\data\\\\Ashleigh fallopian tube\\\\fallopian tubes\\\\AJLC170\\\\fallopian_tubes_AJLC170_0435.ndpi',\n  '\\\\\\\\10.162.80.16\\\\Andre\\\\data\\\\Ashleigh fallopian tube\\\\fallopian tubes\\\\AJLC170\\\\fallopian_tubes_AJLC170_0437.ndpi',\n  '\\\\\\\\10.162.80.16\\\\Andre\\\\data\\\\Ashleigh fallopian tube\\\\fallopian tubes\\\\AJLC170\\\\fallopian_tubes_AJLC170_0439.ndpi',\n  '\\\\\\\\10.162.80.16\\\\Andre\\\\data\\\\Ashleigh fallopian tube\\\\fallopian tubes\\\\AJLC170\\\\fallopian_tubes_AJLC170_0441.ndpi',\n  '\\\\\\\\10.162.80.16\\\\Andre\\\\data\\\\Ashleigh fallopian tube\\\\fallopian tubes\\\\AJLC170\\\\fallopian_tubes_AJLC170_0443.ndpi',\n  '\\\\\\\\10.162.80.16\\\\Andre\\\\data\\\\Ashleigh fallopian tube\\\\fallopian tubes\\\\AJLC170\\\\fallopian_tubes_AJLC170_0445.ndpi',\n  '\\\\\\\\10.162.80.16\\\\Andre\\\\data\\\\Ashleigh fallopian tube\\\\fallopian tubes\\\\AJLC170\\\\fallopian_tubes_AJLC170_0447.ndpi',\n  '\\\\\\\\10.162.80.16\\\\Andre\\\\data\\\\Ashleigh fallopian tube\\\\fallopian tubes\\\\AJLC170\\\\fallopian_tubes_AJLC170_0449.ndpi',\n  '\\\\\\\\10.162.80.16\\\\Andre\\\\data\\\\Ashleigh fallopian tube\\\\fallopian tubes\\\\AJLC170\\\\fallopian_tubes_AJLC170_0451.ndpi',\n  '\\\\\\\\10.162.80.16\\\\Andre\\\\data\\\\Ashleigh fallopian tube\\\\fallopian tubes\\\\AJLC170\\\\fallopian_tubes_AJLC170_0453.ndpi',\n  '\\\\\\\\10.162.80.16\\\\Andre\\\\data\\\\Ashleigh fallopian tube\\\\fallopian tubes\\\\AJLC170\\\\fallopian_tubes_AJLC170_0455.ndpi',\n  '\\\\\\\\10.162.80.16\\\\Andre\\\\data\\\\Ashleigh fallopian tube\\\\fallopian tubes\\\\AJLC170\\\\fallopian_tubes_AJLC170_0457.ndpi',\n  '\\\\\\\\10.162.80.16\\\\Andre\\\\data\\\\Ashleigh fallopian tube\\\\fallopian tubes\\\\AJLC170\\\\fallopian_tubes_AJLC170_0459.ndpi',\n  '\\\\\\\\10.162.80.16\\\\Andre\\\\data\\\\Ashleigh fallopian tube\\\\fallopian tubes\\\\AJLC170\\\\fallopian_tubes_AJLC170_0461.ndpi',\n  '\\\\\\\\10.162.80.16\\\\Andre\\\\data\\\\Ashleigh fallopian tube\\\\fallopian tubes\\\\AJLC170\\\\fallopian_tubes_AJLC170_0463.ndpi',\n  '\\\\\\\\10.162.80.16\\\\Andre\\\\data\\\\Ashleigh fallopian tube\\\\fallopian tubes\\\\AJLC170\\\\fallopian_tubes_AJLC170_0465.ndpi',\n  '\\\\\\\\10.162.80.16\\\\Andre\\\\data\\\\Ashleigh fallopian tube\\\\fallopian tubes\\\\AJLC170\\\\fallopian_tubes_AJLC170_0467.ndpi',\n  '\\\\\\\\10.162.80.16\\\\Andre\\\\data\\\\Ashleigh fallopian tube\\\\fallopian tubes\\\\AJLC170\\\\fallopian_tubes_AJLC170_0469.ndpi',\n  '\\\\\\\\10.162.80.16\\\\Andre\\\\data\\\\Ashleigh fallopian tube\\\\fallopian tubes\\\\AJLC170\\\\fallopian_tubes_AJLC170_0471.ndpi',\n  '\\\\\\\\10.162.80.16\\\\Andre\\\\data\\\\Ashleigh fallopian tube\\\\fallopian tubes\\\\AJLC170\\\\fallopian_tubes_AJLC170_0473.ndpi',\n  '\\\\\\\\10.162.80.16\\\\Andre\\\\data\\\\Ashleigh fallopian tube\\\\fallopian tubes\\\\AJLC170\\\\fallopian_tubes_AJLC170_0475.ndpi',\n  '\\\\\\\\10.162.80.16\\\\Andre\\\\data\\\\Ashleigh fallopian tube\\\\fallopian tubes\\\\AJLC170\\\\fallopian_tubes_AJLC170_0477.ndpi',\n  '\\\\\\\\10.162.80.16\\\\Andre\\\\data\\\\Ashleigh fallopian tube\\\\fallopian tubes\\\\AJLC170\\\\fallopian_tubes_AJLC170_0479.ndpi',\n  '\\\\\\\\10.162.80.16\\\\Andre\\\\data\\\\Ashleigh fallopian tube\\\\fallopian tubes\\\\AJLC170\\\\fallopian_tubes_AJLC170_0481.ndpi',\n  '\\\\\\\\10.162.80.16\\\\Andre\\\\data\\\\Ashleigh fallopian tube\\\\fallopian tubes\\\\AJLC170\\\\fallopian_tubes_AJLC170_0483.ndpi',\n  '\\\\\\\\10.162.80.16\\\\Andre\\\\data\\\\Ashleigh fallopian tube\\\\fallopian tubes\\\\AJLC170\\\\fallopian_tubes_AJLC170_0485.ndpi',\n  '\\\\\\\\10.162.80.16\\\\Andre\\\\data\\\\Ashleigh fallopian tube\\\\fallopian tubes\\\\AJLC170\\\\fallopian_tubes_AJLC170_0487.ndpi',\n  '\\\\\\\\10.162.80.16\\\\Andre\\\\data\\\\Ashleigh fallopian tube\\\\fallopian tubes\\\\AJLC170\\\\fallopian_tubes_AJLC170_0489.ndpi',\n  '\\\\\\\\10.162.80.16\\\\Andre\\\\data\\\\Ashleigh fallopian tube\\\\fallopian tubes\\\\AJLC170\\\\fallopian_tubes_AJLC170_0491.ndpi',\n  '\\\\\\\\10.162.80.16\\\\Andre\\\\data\\\\Ashleigh fallopian tube\\\\fallopian tubes\\\\AJLC170\\\\fallopian_tubes_AJLC170_0493.ndpi',\n  '\\\\\\\\10.162.80.16\\\\Andre\\\\data\\\\Ashleigh fallopian tube\\\\fallopian tubes\\\\AJLC170\\\\fallopian_tubes_AJLC170_0495.ndpi',\n  '\\\\\\\\10.162.80.16\\\\Andre\\\\data\\\\Ashleigh fallopian tube\\\\fallopian tubes\\\\AJLC170\\\\fallopian_tubes_AJLC170_0497.ndpi',\n  '\\\\\\\\10.162.80.16\\\\Andre\\\\data\\\\Ashleigh fallopian tube\\\\fallopian tubes\\\\AJLC170\\\\fallopian_tubes_AJLC170_0499.ndpi',\n  '\\\\\\\\10.162.80.16\\\\Andre\\\\data\\\\Ashleigh fallopian tube\\\\fallopian tubes\\\\AJLC170\\\\fallopian_tubes_AJLC170_0501.ndpi',\n  '\\\\\\\\10.162.80.16\\\\Andre\\\\data\\\\Ashleigh fallopian tube\\\\fallopian tubes\\\\AJLC170\\\\fallopian_tubes_AJLC170_0503.ndpi',\n  '\\\\\\\\10.162.80.16\\\\Andre\\\\data\\\\Ashleigh fallopian tube\\\\fallopian tubes\\\\AJLC170\\\\fallopian_tubes_AJLC170_0505.ndpi',\n  '\\\\\\\\10.162.80.16\\\\Andre\\\\data\\\\Ashleigh fallopian tube\\\\fallopian tubes\\\\AJLC170\\\\fallopian_tubes_AJLC170_0507.ndpi',\n  '\\\\\\\\10.162.80.16\\\\Andre\\\\data\\\\Ashleigh fallopian tube\\\\fallopian tubes\\\\AJLC170\\\\fallopian_tubes_AJLC170_0509.ndpi',\n  '\\\\\\\\10.162.80.16\\\\Andre\\\\data\\\\Ashleigh fallopian tube\\\\fallopian tubes\\\\AJLC170\\\\fallopian_tubes_AJLC170_0511.ndpi',\n  '\\\\\\\\10.162.80.16\\\\Andre\\\\data\\\\Ashleigh fallopian tube\\\\fallopian tubes\\\\AJLC170\\\\fallopian_tubes_AJLC170_0513.ndpi',\n  '\\\\\\\\10.162.80.16\\\\Andre\\\\data\\\\Ashleigh fallopian tube\\\\fallopian tubes\\\\AJLC170\\\\fallopian_tubes_AJLC170_0515.ndpi',\n  '\\\\\\\\10.162.80.16\\\\Andre\\\\data\\\\Ashleigh fallopian tube\\\\fallopian tubes\\\\AJLC170\\\\fallopian_tubes_AJLC170_0517.ndpi',\n  '\\\\\\\\10.162.80.16\\\\Andre\\\\data\\\\Ashleigh fallopian tube\\\\fallopian tubes\\\\AJLC170\\\\fallopian_tubes_AJLC170_0519.ndpi',\n  '\\\\\\\\10.162.80.16\\\\Andre\\\\data\\\\Ashleigh fallopian tube\\\\fallopian tubes\\\\AJLC170\\\\fallopian_tubes_AJLC170_0521.ndpi',\n  '\\\\\\\\10.162.80.16\\\\Andre\\\\data\\\\Ashleigh fallopian tube\\\\fallopian tubes\\\\AJLC170\\\\fallopian_tubes_AJLC170_0523.ndpi',\n  '\\\\\\\\10.162.80.16\\\\Andre\\\\data\\\\Ashleigh fallopian tube\\\\fallopian tubes\\\\AJLC170\\\\fallopian_tubes_AJLC170_0525.ndpi',\n  '\\\\\\\\10.162.80.16\\\\Andre\\\\data\\\\Ashleigh fallopian tube\\\\fallopian tubes\\\\AJLC170\\\\fallopian_tubes_AJLC170_0527.ndpi',\n  '\\\\\\\\10.162.80.16\\\\Andre\\\\data\\\\Ashleigh fallopian tube\\\\fallopian tubes\\\\AJLC170\\\\fallopian_tubes_AJLC170_0529.ndpi',\n  '\\\\\\\\10.162.80.16\\\\Andre\\\\data\\\\Ashleigh fallopian tube\\\\fallopian tubes\\\\AJLC170\\\\fallopian_tubes_AJLC170_0531.ndpi',\n  '\\\\\\\\10.162.80.16\\\\Andre\\\\data\\\\Ashleigh fallopian tube\\\\fallopian tubes\\\\AJLC170\\\\fallopian_tubes_AJLC170_0533.ndpi',\n  '\\\\\\\\10.162.80.16\\\\Andre\\\\data\\\\Ashleigh fallopian tube\\\\fallopian tubes\\\\AJLC170\\\\fallopian_tubes_AJLC170_0535.ndpi',\n  '\\\\\\\\10.162.80.16\\\\Andre\\\\data\\\\Ashleigh fallopian tube\\\\fallopian tubes\\\\AJLC170\\\\fallopian_tubes_AJLC170_0537.ndpi',\n  '\\\\\\\\10.162.80.16\\\\Andre\\\\data\\\\Ashleigh fallopian tube\\\\fallopian tubes\\\\AJLC170\\\\fallopian_tubes_AJLC170_0539.ndpi',\n  '\\\\\\\\10.162.80.16\\\\Andre\\\\data\\\\Ashleigh fallopian tube\\\\fallopian tubes\\\\AJLC170\\\\fallopian_tubes_AJLC170_0541.ndpi',\n  '\\\\\\\\10.162.80.16\\\\Andre\\\\data\\\\Ashleigh fallopian tube\\\\fallopian tubes\\\\AJLC170\\\\fallopian_tubes_AJLC170_0543.ndpi',\n  '\\\\\\\\10.162.80.16\\\\Andre\\\\data\\\\Ashleigh fallopian tube\\\\fallopian tubes\\\\AJLC170\\\\fallopian_tubes_AJLC170_0545.ndpi',\n  '\\\\\\\\10.162.80.16\\\\Andre\\\\data\\\\Ashleigh fallopian tube\\\\fallopian tubes\\\\AJLC170\\\\fallopian_tubes_AJLC170_0547.ndpi',\n  '\\\\\\\\10.162.80.16\\\\Andre\\\\data\\\\Ashleigh fallopian tube\\\\fallopian tubes\\\\AJLC170\\\\fallopian_tubes_AJLC170_0549.ndpi',\n  '\\\\\\\\10.162.80.16\\\\Andre\\\\data\\\\Ashleigh fallopian tube\\\\fallopian tubes\\\\AJLC170\\\\fallopian_tubes_AJLC170_0551.ndpi',\n  '\\\\\\\\10.162.80.16\\\\Andre\\\\data\\\\Ashleigh fallopian tube\\\\fallopian tubes\\\\AJLC170\\\\fallopian_tubes_AJLC170_0553.ndpi',\n  '\\\\\\\\10.162.80.16\\\\Andre\\\\data\\\\Ashleigh fallopian tube\\\\fallopian tubes\\\\AJLC170\\\\fallopian_tubes_AJLC170_0555.ndpi',\n  '\\\\\\\\10.162.80.16\\\\Andre\\\\data\\\\Ashleigh fallopian tube\\\\fallopian tubes\\\\AJLC170\\\\fallopian_tubes_AJLC170_0557.ndpi',\n  '\\\\\\\\10.162.80.16\\\\Andre\\\\data\\\\Ashleigh fallopian tube\\\\fallopian tubes\\\\AJLC170\\\\fallopian_tubes_AJLC170_0559.ndpi',\n  '\\\\\\\\10.162.80.16\\\\Andre\\\\data\\\\Ashleigh fallopian tube\\\\fallopian tubes\\\\AJLC170\\\\fallopian_tubes_AJLC170_0561.ndpi',\n  '\\\\\\\\10.162.80.16\\\\Andre\\\\data\\\\Ashleigh fallopian tube\\\\fallopian tubes\\\\AJLC170\\\\fallopian_tubes_AJLC170_0563.ndpi',\n  '\\\\\\\\10.162.80.16\\\\Andre\\\\data\\\\Ashleigh fallopian tube\\\\fallopian tubes\\\\AJLC170\\\\fallopian_tubes_AJLC170_0565.ndpi',\n  '\\\\\\\\10.162.80.16\\\\Andre\\\\data\\\\Ashleigh fallopian tube\\\\fallopian tubes\\\\AJLC170\\\\fallopian_tubes_AJLC170_0567.ndpi',\n  '\\\\\\\\10.162.80.16\\\\Andre\\\\data\\\\Ashleigh fallopian tube\\\\fallopian tubes\\\\AJLC170\\\\fallopian_tubes_AJLC170_0569.ndpi',\n  '\\\\\\\\10.162.80.16\\\\Andre\\\\data\\\\Ashleigh fallopian tube\\\\fallopian tubes\\\\AJLC170\\\\fallopian_tubes_AJLC170_0571.ndpi',\n  '\\\\\\\\10.162.80.16\\\\Andre\\\\data\\\\Ashleigh fallopian tube\\\\fallopian tubes\\\\AJLC170\\\\fallopian_tubes_AJLC170_0573.ndpi',\n  '\\\\\\\\10.162.80.16\\\\Andre\\\\data\\\\Ashleigh fallopian tube\\\\fallopian tubes\\\\AJLC170\\\\fallopian_tubes_AJLC170_0575.ndpi',\n  '\\\\\\\\10.162.80.16\\\\Andre\\\\data\\\\Ashleigh fallopian tube\\\\fallopian tubes\\\\AJLC170\\\\fallopian_tubes_AJLC170_0577.ndpi',\n  '\\\\\\\\10.162.80.16\\\\Andre\\\\data\\\\Ashleigh fallopian tube\\\\fallopian tubes\\\\AJLC170\\\\fallopian_tubes_AJLC170_0579.ndpi',\n  '\\\\\\\\10.162.80.16\\\\Andre\\\\data\\\\Ashleigh fallopian tube\\\\fallopian tubes\\\\AJLC170\\\\fallopian_tubes_AJLC170_0581.ndpi',\n  '\\\\\\\\10.162.80.16\\\\Andre\\\\data\\\\Ashleigh fallopian tube\\\\fallopian tubes\\\\AJLC170\\\\fallopian_tubes_AJLC170_0583.ndpi',\n  '\\\\\\\\10.162.80.16\\\\Andre\\\\data\\\\Ashleigh fallopian tube\\\\fallopian tubes\\\\AJLC170\\\\fallopian_tubes_AJLC170_0585.ndpi',\n  '\\\\\\\\10.162.80.16\\\\Andre\\\\data\\\\Ashleigh fallopian tube\\\\fallopian tubes\\\\AJLC170\\\\fallopian_tubes_AJLC170_0587.ndpi',\n  '\\\\\\\\10.162.80.16\\\\Andre\\\\data\\\\Ashleigh fallopian tube\\\\fallopian tubes\\\\AJLC170\\\\fallopian_tubes_AJLC170_0589.ndpi',\n  '\\\\\\\\10.162.80.16\\\\Andre\\\\data\\\\Ashleigh fallopian tube\\\\fallopian tubes\\\\AJLC170\\\\fallopian_tubes_AJLC170_0591.ndpi',\n  '\\\\\\\\10.162.80.16\\\\Andre\\\\data\\\\Ashleigh fallopian tube\\\\fallopian tubes\\\\AJLC170\\\\fallopian_tubes_AJLC170_0593.ndpi',\n  '\\\\\\\\10.162.80.16\\\\Andre\\\\data\\\\Ashleigh fallopian tube\\\\fallopian tubes\\\\AJLC170\\\\fallopian_tubes_AJLC170_0595.ndpi',\n  '\\\\\\\\10.162.80.16\\\\Andre\\\\data\\\\Ashleigh fallopian tube\\\\fallopian tubes\\\\AJLC170\\\\fallopian_tubes_AJLC170_0597.ndpi',\n  '\\\\\\\\10.162.80.16\\\\Andre\\\\data\\\\Ashleigh fallopian tube\\\\fallopian tubes\\\\AJLC170\\\\fallopian_tubes_AJLC170_0599.ndpi',\n  '\\\\\\\\10.162.80.16\\\\Andre\\\\data\\\\Ashleigh fallopian tube\\\\fallopian tubes\\\\AJLC170\\\\fallopian_tubes_AJLC170_0601.ndpi',\n  '\\\\\\\\10.162.80.16\\\\Andre\\\\data\\\\Ashleigh fallopian tube\\\\fallopian tubes\\\\AJLC170\\\\fallopian_tubes_AJLC170_0603.ndpi',\n  '\\\\\\\\10.162.80.16\\\\Andre\\\\data\\\\Ashleigh fallopian tube\\\\fallopian tubes\\\\AJLC170\\\\fallopian_tubes_AJLC170_0605.ndpi',\n  '\\\\\\\\10.162.80.16\\\\Andre\\\\data\\\\Ashleigh fallopian tube\\\\fallopian tubes\\\\AJLC170\\\\fallopian_tubes_AJLC170_0607.ndpi',\n  '\\\\\\\\10.162.80.16\\\\Andre\\\\data\\\\Ashleigh fallopian tube\\\\fallopian tubes\\\\AJLC170\\\\fallopian_tubes_AJLC170_0609.ndpi',\n  '\\\\\\\\10.162.80.16\\\\Andre\\\\data\\\\Ashleigh fallopian tube\\\\fallopian tubes\\\\AJLC170\\\\fallopian_tubes_AJLC170_0611.ndpi',\n  '\\\\\\\\10.162.80.16\\\\Andre\\\\data\\\\Ashleigh fallopian tube\\\\fallopian tubes\\\\AJLC170\\\\fallopian_tubes_AJLC170_0613.ndpi',\n  '\\\\\\\\10.162.80.16\\\\Andre\\\\data\\\\Ashleigh fallopian tube\\\\fallopian tubes\\\\AJLC170\\\\fallopian_tubes_AJLC170_0615.ndpi',\n  '\\\\\\\\10.162.80.16\\\\Andre\\\\data\\\\Ashleigh fallopian tube\\\\fallopian tubes\\\\AJLC170\\\\fallopian_tubes_AJLC170_0617.ndpi',\n  '\\\\\\\\10.162.80.16\\\\Andre\\\\data\\\\Ashleigh fallopian tube\\\\fallopian tubes\\\\AJLC170\\\\fallopian_tubes_AJLC170_0619.ndpi',\n  '\\\\\\\\10.162.80.16\\\\Andre\\\\data\\\\Ashleigh fallopian tube\\\\fallopian tubes\\\\AJLC170\\\\fallopian_tubes_AJLC170_0621.ndpi',\n  '\\\\\\\\10.162.80.16\\\\Andre\\\\data\\\\Ashleigh fallopian tube\\\\fallopian tubes\\\\AJLC170\\\\fallopian_tubes_AJLC170_0623.ndpi',\n  '\\\\\\\\10.162.80.16\\\\Andre\\\\data\\\\Ashleigh fallopian tube\\\\fallopian tubes\\\\AJLC170\\\\fallopian_tubes_AJLC170_0625.ndpi',\n  '\\\\\\\\10.162.80.16\\\\Andre\\\\data\\\\Ashleigh fallopian tube\\\\fallopian tubes\\\\AJLC170\\\\fallopian_tubes_AJLC170_0627.ndpi',\n  '\\\\\\\\10.162.80.16\\\\Andre\\\\data\\\\Ashleigh fallopian tube\\\\fallopian tubes\\\\AJLC170\\\\fallopian_tubes_AJLC170_0629.ndpi',\n  '\\\\\\\\10.162.80.16\\\\Andre\\\\data\\\\Ashleigh fallopian tube\\\\fallopian tubes\\\\AJLC170\\\\fallopian_tubes_AJLC170_0631.ndpi',\n  '\\\\\\\\10.162.80.16\\\\Andre\\\\data\\\\Ashleigh fallopian tube\\\\fallopian tubes\\\\AJLC170\\\\fallopian_tubes_AJLC170_0633.ndpi',\n  '\\\\\\\\10.162.80.16\\\\Andre\\\\data\\\\Ashleigh fallopian tube\\\\fallopian tubes\\\\AJLC170\\\\fallopian_tubes_AJLC170_0635.ndpi',\n  '\\\\\\\\10.162.80.16\\\\Andre\\\\data\\\\Ashleigh fallopian tube\\\\fallopian tubes\\\\AJLC170\\\\fallopian_tubes_AJLC170_0637.ndpi',\n  '\\\\\\\\10.162.80.16\\\\Andre\\\\data\\\\Ashleigh fallopian tube\\\\fallopian tubes\\\\AJLC170\\\\fallopian_tubes_AJLC170_0639.ndpi',\n  '\\\\\\\\10.162.80.16\\\\Andre\\\\data\\\\Ashleigh fallopian tube\\\\fallopian tubes\\\\AJLC170\\\\fallopian_tubes_AJLC170_0641.ndpi',\n  '\\\\\\\\10.162.80.16\\\\Andre\\\\data\\\\Ashleigh fallopian tube\\\\fallopian tubes\\\\AJLC170\\\\fallopian_tubes_AJLC170_0643.ndpi',\n  '\\\\\\\\10.162.80.16\\\\Andre\\\\data\\\\Ashleigh fallopian tube\\\\fallopian tubes\\\\AJLC170\\\\fallopian_tubes_AJLC170_0645.ndpi',\n  '\\\\\\\\10.162.80.16\\\\Andre\\\\data\\\\Ashleigh fallopian tube\\\\fallopian tubes\\\\AJLC170\\\\fallopian_tubes_AJLC170_0647.ndpi',\n  '\\\\\\\\10.162.80.16\\\\Andre\\\\data\\\\Ashleigh fallopian tube\\\\fallopian tubes\\\\AJLC170\\\\fallopian_tubes_AJLC170_0649.ndpi',\n  '\\\\\\\\10.162.80.16\\\\Andre\\\\data\\\\Ashleigh fallopian tube\\\\fallopian tubes\\\\AJLC170\\\\fallopian_tubes_AJLC170_0651.ndpi',\n  '\\\\\\\\10.162.80.16\\\\Andre\\\\data\\\\Ashleigh fallopian tube\\\\fallopian tubes\\\\AJLC170\\\\fallopian_tubes_AJLC170_0653.ndpi',\n  '\\\\\\\\10.162.80.16\\\\Andre\\\\data\\\\Ashleigh fallopian tube\\\\fallopian tubes\\\\AJLC170\\\\fallopian_tubes_AJLC170_0655.ndpi',\n  '\\\\\\\\10.162.80.16\\\\Andre\\\\data\\\\Ashleigh fallopian tube\\\\fallopian tubes\\\\AJLC170\\\\fallopian_tubes_AJLC170_0657.ndpi',\n  '\\\\\\\\10.162.80.16\\\\Andre\\\\data\\\\Ashleigh fallopian tube\\\\fallopian tubes\\\\AJLC170\\\\fallopian_tubes_AJLC170_0659.ndpi',\n  '\\\\\\\\10.162.80.16\\\\Andre\\\\data\\\\Ashleigh fallopian tube\\\\fallopian tubes\\\\AJLC170\\\\fallopian_tubes_AJLC170_0661.ndpi',\n  '\\\\\\\\10.162.80.16\\\\Andre\\\\data\\\\Ashleigh fallopian tube\\\\fallopian tubes\\\\AJLC170\\\\fallopian_tubes_AJLC170_0663.ndpi',\n  '\\\\\\\\10.162.80.16\\\\Andre\\\\data\\\\Ashleigh fallopian tube\\\\fallopian tubes\\\\AJLC170\\\\fallopian_tubes_AJLC170_0665.ndpi',\n  '\\\\\\\\10.162.80.16\\\\Andre\\\\data\\\\Ashleigh fallopian tube\\\\fallopian tubes\\\\AJLC170\\\\fallopian_tubes_AJLC170_0667.ndpi',\n  '\\\\\\\\10.162.80.16\\\\Andre\\\\data\\\\Ashleigh fallopian tube\\\\fallopian tubes\\\\AJLC170\\\\fallopian_tubes_AJLC170_0669.ndpi',\n  '\\\\\\\\10.162.80.16\\\\Andre\\\\data\\\\Ashleigh fallopian tube\\\\fallopian tubes\\\\AJLC170\\\\fallopian_tubes_AJLC170_0671.ndpi',\n  '\\\\\\\\10.162.80.16\\\\Andre\\\\data\\\\Ashleigh fallopian tube\\\\fallopian tubes\\\\AJLC170\\\\fallopian_tubes_AJLC170_0673.ndpi',\n  '\\\\\\\\10.162.80.16\\\\Andre\\\\data\\\\Ashleigh fallopian tube\\\\fallopian tubes\\\\AJLC170\\\\fallopian_tubes_AJLC170_0675.ndpi',\n  '\\\\\\\\10.162.80.16\\\\Andre\\\\data\\\\Ashleigh fallopian tube\\\\fallopian tubes\\\\AJLC170\\\\fallopian_tubes_AJLC170_0677.ndpi',\n  '\\\\\\\\10.162.80.16\\\\Andre\\\\data\\\\Ashleigh fallopian tube\\\\fallopian tubes\\\\AJLC170\\\\fallopian_tubes_AJLC170_0679.ndpi',\n  '\\\\\\\\10.162.80.16\\\\Andre\\\\data\\\\Ashleigh fallopian tube\\\\fallopian tubes\\\\AJLC170\\\\fallopian_tubes_AJLC170_0681.ndpi',\n  '\\\\\\\\10.162.80.16\\\\Andre\\\\data\\\\Ashleigh fallopian tube\\\\fallopian tubes\\\\AJLC170\\\\fallopian_tubes_AJLC170_0683.ndpi',\n  '\\\\\\\\10.162.80.16\\\\Andre\\\\data\\\\Ashleigh fallopian tube\\\\fallopian tubes\\\\AJLC170\\\\fallopian_tubes_AJLC170_0685.ndpi',\n  '\\\\\\\\10.162.80.16\\\\Andre\\\\data\\\\Ashleigh fallopian tube\\\\fallopian tubes\\\\AJLC170\\\\fallopian_tubes_AJLC170_0687.ndpi',\n  '\\\\\\\\10.162.80.16\\\\Andre\\\\data\\\\Ashleigh fallopian tube\\\\fallopian tubes\\\\AJLC170\\\\fallopian_tubes_AJLC170_0689.ndpi',\n  '\\\\\\\\10.162.80.16\\\\Andre\\\\data\\\\Ashleigh fallopian tube\\\\fallopian tubes\\\\AJLC170\\\\fallopian_tubes_AJLC170_0691.ndpi',\n  '\\\\\\\\10.162.80.16\\\\Andre\\\\data\\\\Ashleigh fallopian tube\\\\fallopian tubes\\\\AJLC170\\\\fallopian_tubes_AJLC170_0693.ndpi',\n  '\\\\\\\\10.162.80.16\\\\Andre\\\\data\\\\Ashleigh fallopian tube\\\\fallopian tubes\\\\AJLC170\\\\fallopian_tubes_AJLC170_0695.ndpi',\n  '\\\\\\\\10.162.80.16\\\\Andre\\\\data\\\\Ashleigh fallopian tube\\\\fallopian tubes\\\\AJLC170\\\\fallopian_tubes_AJLC170_0697.ndpi',\n  '\\\\\\\\10.162.80.16\\\\Andre\\\\data\\\\Ashleigh fallopian tube\\\\fallopian tubes\\\\AJLC170\\\\fallopian_tubes_AJLC170_0699.ndpi',\n  '\\\\\\\\10.162.80.16\\\\Andre\\\\data\\\\Ashleigh fallopian tube\\\\fallopian tubes\\\\AJLC170\\\\fallopian_tubes_AJLC170_0701.ndpi',\n  '\\\\\\\\10.162.80.16\\\\Andre\\\\data\\\\Ashleigh fallopian tube\\\\fallopian tubes\\\\AJLC170\\\\fallopian_tubes_AJLC170_0703.ndpi',\n  '\\\\\\\\10.162.80.16\\\\Andre\\\\data\\\\Ashleigh fallopian tube\\\\fallopian tubes\\\\AJLC170\\\\fallopian_tubes_AJLC170_0705.ndpi',\n  '\\\\\\\\10.162.80.16\\\\Andre\\\\data\\\\Ashleigh fallopian tube\\\\fallopian tubes\\\\AJLC170\\\\fallopian_tubes_AJLC170_0707.ndpi',\n  '\\\\\\\\10.162.80.16\\\\Andre\\\\data\\\\Ashleigh fallopian tube\\\\fallopian tubes\\\\AJLC170\\\\fallopian_tubes_AJLC170_0709.ndpi',\n  '\\\\\\\\10.162.80.16\\\\Andre\\\\data\\\\Ashleigh fallopian tube\\\\fallopian tubes\\\\AJLC170\\\\fallopian_tubes_AJLC170_0711.ndpi',\n  '\\\\\\\\10.162.80.16\\\\Andre\\\\data\\\\Ashleigh fallopian tube\\\\fallopian tubes\\\\AJLC170\\\\fallopian_tubes_AJLC170_0713.ndpi',\n  '\\\\\\\\10.162.80.16\\\\Andre\\\\data\\\\Ashleigh fallopian tube\\\\fallopian tubes\\\\AJLC170\\\\fallopian_tubes_AJLC170_0715.ndpi',\n  '\\\\\\\\10.162.80.16\\\\Andre\\\\data\\\\Ashleigh fallopian tube\\\\fallopian tubes\\\\AJLC170\\\\fallopian_tubes_AJLC170_0717.ndpi',\n  '\\\\\\\\10.162.80.16\\\\Andre\\\\data\\\\Ashleigh fallopian tube\\\\fallopian tubes\\\\AJLC170\\\\fallopian_tubes_AJLC170_0719.ndpi',\n  '\\\\\\\\10.162.80.16\\\\Andre\\\\data\\\\Ashleigh fallopian tube\\\\fallopian tubes\\\\AJLC170\\\\fallopian_tubes_AJLC170_0721.ndpi',\n  '\\\\\\\\10.162.80.16\\\\Andre\\\\data\\\\Ashleigh fallopian tube\\\\fallopian tubes\\\\AJLC170\\\\fallopian_tubes_AJLC170_0723.ndpi',\n  '\\\\\\\\10.162.80.16\\\\Andre\\\\data\\\\Ashleigh fallopian tube\\\\fallopian tubes\\\\AJLC170\\\\fallopian_tubes_AJLC170_0725.ndpi',\n  '\\\\\\\\10.162.80.16\\\\Andre\\\\data\\\\Ashleigh fallopian tube\\\\fallopian tubes\\\\AJLC170\\\\fallopian_tubes_AJLC170_0727.ndpi',\n  '\\\\\\\\10.162.80.16\\\\Andre\\\\data\\\\Ashleigh fallopian tube\\\\fallopian tubes\\\\AJLC170\\\\fallopian_tubes_AJLC170_0729.ndpi',\n  '\\\\\\\\10.162.80.16\\\\Andre\\\\data\\\\Ashleigh fallopian tube\\\\fallopian tubes\\\\AJLC170\\\\fallopian_tubes_AJLC170_0731.ndpi',\n  '\\\\\\\\10.162.80.16\\\\Andre\\\\data\\\\Ashleigh fallopian tube\\\\fallopian tubes\\\\AJLC170\\\\fallopian_tubes_AJLC170_0733.ndpi',\n  '\\\\\\\\10.162.80.16\\\\Andre\\\\data\\\\Ashleigh fallopian tube\\\\fallopian tubes\\\\AJLC170\\\\fallopian_tubes_AJLC170_0735.ndpi',\n  '\\\\\\\\10.162.80.16\\\\Andre\\\\data\\\\Ashleigh fallopian tube\\\\fallopian tubes\\\\AJLC170\\\\fallopian_tubes_AJLC170_0737.ndpi',\n  '\\\\\\\\10.162.80.16\\\\Andre\\\\data\\\\Ashleigh fallopian tube\\\\fallopian tubes\\\\AJLC170\\\\fallopian_tubes_AJLC170_0739.ndpi',\n  '\\\\\\\\10.162.80.16\\\\Andre\\\\data\\\\Ashleigh fallopian tube\\\\fallopian tubes\\\\AJLC170\\\\fallopian_tubes_AJLC170_0741.ndpi',\n  '\\\\\\\\10.162.80.16\\\\Andre\\\\data\\\\Ashleigh fallopian tube\\\\fallopian tubes\\\\AJLC170\\\\fallopian_tubes_AJLC170_0743.ndpi',\n  '\\\\\\\\10.162.80.16\\\\Andre\\\\data\\\\Ashleigh fallopian tube\\\\fallopian tubes\\\\AJLC170\\\\fallopian_tubes_AJLC170_0745.ndpi',\n  '\\\\\\\\10.162.80.16\\\\Andre\\\\data\\\\Ashleigh fallopian tube\\\\fallopian tubes\\\\AJLC170\\\\fallopian_tubes_AJLC170_0747.ndpi',\n  '\\\\\\\\10.162.80.16\\\\Andre\\\\data\\\\Ashleigh fallopian tube\\\\fallopian tubes\\\\AJLC170\\\\fallopian_tubes_AJLC170_0749.ndpi',\n  '\\\\\\\\10.162.80.16\\\\Andre\\\\data\\\\Ashleigh fallopian tube\\\\fallopian tubes\\\\AJLC170\\\\fallopian_tubes_AJLC170_0751.ndpi',\n  '\\\\\\\\10.162.80.16\\\\Andre\\\\data\\\\Ashleigh fallopian tube\\\\fallopian tubes\\\\AJLC170\\\\fallopian_tubes_AJLC170_0753.ndpi',\n  '\\\\\\\\10.162.80.16\\\\Andre\\\\data\\\\Ashleigh fallopian tube\\\\fallopian tubes\\\\AJLC170\\\\fallopian_tubes_AJLC170_0755.ndpi',\n  '\\\\\\\\10.162.80.16\\\\Andre\\\\data\\\\Ashleigh fallopian tube\\\\fallopian tubes\\\\AJLC170\\\\fallopian_tubes_AJLC170_0757.ndpi',\n  '\\\\\\\\10.162.80.16\\\\Andre\\\\data\\\\Ashleigh fallopian tube\\\\fallopian tubes\\\\AJLC170\\\\fallopian_tubes_AJLC170_0759.ndpi',\n  '\\\\\\\\10.162.80.16\\\\Andre\\\\data\\\\Ashleigh fallopian tube\\\\fallopian tubes\\\\AJLC170\\\\fallopian_tubes_AJLC170_0761.ndpi',\n  '\\\\\\\\10.162.80.16\\\\Andre\\\\data\\\\Ashleigh fallopian tube\\\\fallopian tubes\\\\AJLC170\\\\fallopian_tubes_AJLC170_0763.ndpi',\n  '\\\\\\\\10.162.80.16\\\\Andre\\\\data\\\\Ashleigh fallopian tube\\\\fallopian tubes\\\\AJLC170\\\\fallopian_tubes_AJLC170_0765.ndpi',\n  '\\\\\\\\10.162.80.16\\\\Andre\\\\data\\\\Ashleigh fallopian tube\\\\fallopian tubes\\\\AJLC170\\\\fallopian_tubes_AJLC170_0767.ndpi',\n  '\\\\\\\\10.162.80.16\\\\Andre\\\\data\\\\Ashleigh fallopian tube\\\\fallopian tubes\\\\AJLC170\\\\fallopian_tubes_AJLC170_0769.ndpi',\n  '\\\\\\\\10.162.80.16\\\\Andre\\\\data\\\\Ashleigh fallopian tube\\\\fallopian tubes\\\\AJLC170\\\\fallopian_tubes_AJLC170_0771.ndpi',\n  '\\\\\\\\10.162.80.16\\\\Andre\\\\data\\\\Ashleigh fallopian tube\\\\fallopian tubes\\\\AJLC170\\\\fallopian_tubes_AJLC170_0773.ndpi',\n  '\\\\\\\\10.162.80.16\\\\Andre\\\\data\\\\Ashleigh fallopian tube\\\\fallopian tubes\\\\AJLC170\\\\fallopian_tubes_AJLC170_0775.ndpi',\n  '\\\\\\\\10.162.80.16\\\\Andre\\\\data\\\\Ashleigh fallopian tube\\\\fallopian tubes\\\\AJLC170\\\\fallopian_tubes_AJLC170_0777.ndpi',\n  '\\\\\\\\10.162.80.16\\\\Andre\\\\data\\\\Ashleigh fallopian tube\\\\fallopian tubes\\\\AJLC170\\\\fallopian_tubes_AJLC170_0779.ndpi',\n  '\\\\\\\\10.162.80.16\\\\Andre\\\\data\\\\Ashleigh fallopian tube\\\\fallopian tubes\\\\AJLC170\\\\fallopian_tubes_AJLC170_0781.ndpi',\n  '\\\\\\\\10.162.80.16\\\\Andre\\\\data\\\\Ashleigh fallopian tube\\\\fallopian tubes\\\\AJLC170\\\\fallopian_tubes_AJLC170_0783.ndpi',\n  '\\\\\\\\10.162.80.16\\\\Andre\\\\data\\\\Ashleigh fallopian tube\\\\fallopian tubes\\\\AJLC170\\\\fallopian_tubes_AJLC170_0785.ndpi',\n  '\\\\\\\\10.162.80.16\\\\Andre\\\\data\\\\Ashleigh fallopian tube\\\\fallopian tubes\\\\AJLC170\\\\fallopian_tubes_AJLC170_0787.ndpi',\n  '\\\\\\\\10.162.80.16\\\\Andre\\\\data\\\\Ashleigh fallopian tube\\\\fallopian tubes\\\\AJLC170\\\\fallopian_tubes_AJLC170_0789.ndpi',\n  '\\\\\\\\10.162.80.16\\\\Andre\\\\data\\\\Ashleigh fallopian tube\\\\fallopian tubes\\\\AJLC170\\\\fallopian_tubes_AJLC170_0791.ndpi',\n  '\\\\\\\\10.162.80.16\\\\Andre\\\\data\\\\Ashleigh fallopian tube\\\\fallopian tubes\\\\AJLC170\\\\fallopian_tubes_AJLC170_0793.ndpi',\n  '\\\\\\\\10.162.80.16\\\\Andre\\\\data\\\\Ashleigh fallopian tube\\\\fallopian tubes\\\\AJLC170\\\\fallopian_tubes_AJLC170_0795.ndpi',\n  '\\\\\\\\10.162.80.16\\\\Andre\\\\data\\\\Ashleigh fallopian tube\\\\fallopian tubes\\\\AJLC170\\\\fallopian_tubes_AJLC170_0797.ndpi',\n  '\\\\\\\\10.162.80.16\\\\Andre\\\\data\\\\Ashleigh fallopian tube\\\\fallopian tubes\\\\AJLC170\\\\fallopian_tubes_AJLC170_0799.ndpi',\n  '\\\\\\\\10.162.80.16\\\\Andre\\\\data\\\\Ashleigh fallopian tube\\\\fallopian tubes\\\\AJLC170\\\\fallopian_tubes_AJLC170_0801.ndpi',\n  '\\\\\\\\10.162.80.16\\\\Andre\\\\data\\\\Ashleigh fallopian tube\\\\fallopian tubes\\\\AJLC170\\\\fallopian_tubes_AJLC170_0803.ndpi',\n  '\\\\\\\\10.162.80.16\\\\Andre\\\\data\\\\Ashleigh fallopian tube\\\\fallopian tubes\\\\AJLC170\\\\fallopian_tubes_AJLC170_0805.ndpi',\n  '\\\\\\\\10.162.80.16\\\\Andre\\\\data\\\\Ashleigh fallopian tube\\\\fallopian tubes\\\\AJLC170\\\\fallopian_tubes_AJLC170_0807.ndpi',\n  '\\\\\\\\10.162.80.16\\\\Andre\\\\data\\\\Ashleigh fallopian tube\\\\fallopian tubes\\\\AJLC170\\\\fallopian_tubes_AJLC170_0809.ndpi',\n  '\\\\\\\\10.162.80.16\\\\Andre\\\\data\\\\Ashleigh fallopian tube\\\\fallopian tubes\\\\AJLC170\\\\fallopian_tubes_AJLC170_0811.ndpi',\n  '\\\\\\\\10.162.80.16\\\\Andre\\\\data\\\\Ashleigh fallopian tube\\\\fallopian tubes\\\\AJLC170\\\\fallopian_tubes_AJLC170_0813.ndpi',\n  '\\\\\\\\10.162.80.16\\\\Andre\\\\data\\\\Ashleigh fallopian tube\\\\fallopian tubes\\\\AJLC170\\\\fallopian_tubes_AJLC170_0815.ndpi',\n  '\\\\\\\\10.162.80.16\\\\Andre\\\\data\\\\Ashleigh fallopian tube\\\\fallopian tubes\\\\AJLC170\\\\fallopian_tubes_AJLC170_0817.ndpi',\n  '\\\\\\\\10.162.80.16\\\\Andre\\\\data\\\\Ashleigh fallopian tube\\\\fallopian tubes\\\\AJLC170\\\\fallopian_tubes_AJLC170_0819.ndpi',\n  '\\\\\\\\10.162.80.16\\\\Andre\\\\data\\\\Ashleigh fallopian tube\\\\fallopian tubes\\\\AJLC170\\\\fallopian_tubes_AJLC170_0821.ndpi',\n  '\\\\\\\\10.162.80.16\\\\Andre\\\\data\\\\Ashleigh fallopian tube\\\\fallopian tubes\\\\AJLC170\\\\fallopian_tubes_AJLC170_0823.ndpi',\n  '\\\\\\\\10.162.80.16\\\\Andre\\\\data\\\\Ashleigh fallopian tube\\\\fallopian tubes\\\\AJLC170\\\\fallopian_tubes_AJLC170_0825.ndpi',\n  '\\\\\\\\10.162.80.16\\\\Andre\\\\data\\\\Ashleigh fallopian tube\\\\fallopian tubes\\\\AJLC170\\\\fallopian_tubes_AJLC170_0827.ndpi',\n  '\\\\\\\\10.162.80.16\\\\Andre\\\\data\\\\Ashleigh fallopian tube\\\\fallopian tubes\\\\AJLC170\\\\fallopian_tubes_AJLC170_0829.ndpi',\n  '\\\\\\\\10.162.80.16\\\\Andre\\\\data\\\\Ashleigh fallopian tube\\\\fallopian tubes\\\\AJLC170\\\\fallopian_tubes_AJLC170_0831.ndpi',\n  '\\\\\\\\10.162.80.16\\\\Andre\\\\data\\\\Ashleigh fallopian tube\\\\fallopian tubes\\\\AJLC170\\\\fallopian_tubes_AJLC170_0833.ndpi',\n  '\\\\\\\\10.162.80.16\\\\Andre\\\\data\\\\Ashleigh fallopian tube\\\\fallopian tubes\\\\AJLC170\\\\fallopian_tubes_AJLC170_0835.ndpi',\n  '\\\\\\\\10.162.80.16\\\\Andre\\\\data\\\\Ashleigh fallopian tube\\\\fallopian tubes\\\\AJLC170\\\\fallopian_tubes_AJLC170_0837.ndpi',\n  '\\\\\\\\10.162.80.16\\\\Andre\\\\data\\\\Ashleigh fallopian tube\\\\fallopian tubes\\\\AJLC170\\\\fallopian_tubes_AJLC170_0839.ndpi',\n  '\\\\\\\\10.162.80.16\\\\Andre\\\\data\\\\Ashleigh fallopian tube\\\\fallopian tubes\\\\AJLC170\\\\fallopian_tubes_AJLC170_0841.ndpi',\n  '\\\\\\\\10.162.80.16\\\\Andre\\\\data\\\\Ashleigh fallopian tube\\\\fallopian tubes\\\\AJLC170\\\\fallopian_tubes_AJLC170_0843.ndpi',\n  '\\\\\\\\10.162.80.16\\\\Andre\\\\data\\\\Ashleigh fallopian tube\\\\fallopian tubes\\\\AJLC170\\\\fallopian_tubes_AJLC170_0845.ndpi',\n  '\\\\\\\\10.162.80.16\\\\Andre\\\\data\\\\Ashleigh fallopian tube\\\\fallopian tubes\\\\AJLC170\\\\fallopian_tubes_AJLC170_0847.ndpi',\n  '\\\\\\\\10.162.80.16\\\\Andre\\\\data\\\\Ashleigh fallopian tube\\\\fallopian tubes\\\\AJLC170\\\\fallopian_tubes_AJLC170_0849.ndpi',\n  '\\\\\\\\10.162.80.16\\\\Andre\\\\data\\\\Ashleigh fallopian tube\\\\fallopian tubes\\\\AJLC170\\\\fallopian_tubes_AJLC170_0851.ndpi',\n  '\\\\\\\\10.162.80.16\\\\Andre\\\\data\\\\Ashleigh fallopian tube\\\\fallopian tubes\\\\AJLC170\\\\fallopian_tubes_AJLC170_0853.ndpi',\n  '\\\\\\\\10.162.80.16\\\\Andre\\\\data\\\\Ashleigh fallopian tube\\\\fallopian tubes\\\\AJLC170\\\\fallopian_tubes_AJLC170_0855.ndpi',\n  '\\\\\\\\10.162.80.16\\\\Andre\\\\data\\\\Ashleigh fallopian tube\\\\fallopian tubes\\\\AJLC170\\\\fallopian_tubes_AJLC170_0857.ndpi',\n  '\\\\\\\\10.162.80.16\\\\Andre\\\\data\\\\Ashleigh fallopian tube\\\\fallopian tubes\\\\AJLC170\\\\fallopian_tubes_AJLC170_0859.ndpi',\n  '\\\\\\\\10.162.80.16\\\\Andre\\\\data\\\\Ashleigh fallopian tube\\\\fallopian tubes\\\\AJLC170\\\\fallopian_tubes_AJLC170_0861.ndpi',\n  '\\\\\\\\10.162.80.16\\\\Andre\\\\data\\\\Ashleigh fallopian tube\\\\fallopian tubes\\\\AJLC170\\\\fallopian_tubes_AJLC170_0863.ndpi',\n  '\\\\\\\\10.162.80.16\\\\Andre\\\\data\\\\Ashleigh fallopian tube\\\\fallopian tubes\\\\AJLC170\\\\fallopian_tubes_AJLC170_0865.ndpi',\n  '\\\\\\\\10.162.80.16\\\\Andre\\\\data\\\\Ashleigh fallopian tube\\\\fallopian tubes\\\\AJLC170\\\\fallopian_tubes_AJLC170_0867.ndpi',\n  '\\\\\\\\10.162.80.16\\\\Andre\\\\data\\\\Ashleigh fallopian tube\\\\fallopian tubes\\\\AJLC170\\\\fallopian_tubes_AJLC170_0869.ndpi',\n  '\\\\\\\\10.162.80.16\\\\Andre\\\\data\\\\Ashleigh fallopian tube\\\\fallopian tubes\\\\AJLC170\\\\fallopian_tubes_AJLC170_0871.ndpi',\n  '\\\\\\\\10.162.80.16\\\\Andre\\\\data\\\\Ashleigh fallopian tube\\\\fallopian tubes\\\\AJLC170\\\\fallopian_tubes_AJLC170_0873.ndpi',\n  '\\\\\\\\10.162.80.16\\\\Andre\\\\data\\\\Ashleigh fallopian tube\\\\fallopian tubes\\\\AJLC170\\\\fallopian_tubes_AJLC170_0875.ndpi',\n  '\\\\\\\\10.162.80.16\\\\Andre\\\\data\\\\Ashleigh fallopian tube\\\\fallopian tubes\\\\AJLC170\\\\fallopian_tubes_AJLC170_0877.ndpi',\n  '\\\\\\\\10.162.80.16\\\\Andre\\\\data\\\\Ashleigh fallopian tube\\\\fallopian tubes\\\\AJLC170\\\\fallopian_tubes_AJLC170_0879.ndpi',\n  '\\\\\\\\10.162.80.16\\\\Andre\\\\data\\\\Ashleigh fallopian tube\\\\fallopian tubes\\\\AJLC170\\\\fallopian_tubes_AJLC170_0881.ndpi',\n  '\\\\\\\\10.162.80.16\\\\Andre\\\\data\\\\Ashleigh fallopian tube\\\\fallopian tubes\\\\AJLC170\\\\fallopian_tubes_AJLC170_0883.ndpi',\n  '\\\\\\\\10.162.80.16\\\\Andre\\\\data\\\\Ashleigh fallopian tube\\\\fallopian tubes\\\\AJLC170\\\\fallopian_tubes_AJLC170_0885.ndpi',\n  '\\\\\\\\10.162.80.16\\\\Andre\\\\data\\\\Ashleigh fallopian tube\\\\fallopian tubes\\\\AJLC170\\\\fallopian_tubes_AJLC170_0887.ndpi',\n  '\\\\\\\\10.162.80.16\\\\Andre\\\\data\\\\Ashleigh fallopian tube\\\\fallopian tubes\\\\AJLC170\\\\fallopian_tubes_AJLC170_0889.ndpi',\n  '\\\\\\\\10.162.80.16\\\\Andre\\\\data\\\\Ashleigh fallopian tube\\\\fallopian tubes\\\\AJLC170\\\\fallopian_tubes_AJLC170_0891.ndpi',\n  '\\\\\\\\10.162.80.16\\\\Andre\\\\data\\\\Ashleigh fallopian tube\\\\fallopian tubes\\\\AJLC170\\\\fallopian_tubes_AJLC170_0893.ndpi',\n  '\\\\\\\\10.162.80.16\\\\Andre\\\\data\\\\Ashleigh fallopian tube\\\\fallopian tubes\\\\AJLC170\\\\fallopian_tubes_AJLC170_0895.ndpi',\n  '\\\\\\\\10.162.80.16\\\\Andre\\\\data\\\\Ashleigh fallopian tube\\\\fallopian tubes\\\\AJLC170\\\\fallopian_tubes_AJLC170_0897.ndpi',\n  '\\\\\\\\10.162.80.16\\\\Andre\\\\data\\\\Ashleigh fallopian tube\\\\fallopian tubes\\\\AJLC170\\\\fallopian_tubes_AJLC170_0899.ndpi',\n  '\\\\\\\\10.162.80.16\\\\Andre\\\\data\\\\Ashleigh fallopian tube\\\\fallopian tubes\\\\AJLC170\\\\fallopian_tubes_AJLC170_0901.ndpi',\n  '\\\\\\\\10.162.80.16\\\\Andre\\\\data\\\\Ashleigh fallopian tube\\\\fallopian tubes\\\\AJLC170\\\\fallopian_tubes_AJLC170_0903.ndpi',\n  '\\\\\\\\10.162.80.16\\\\Andre\\\\data\\\\Ashleigh fallopian tube\\\\fallopian tubes\\\\AJLC170\\\\fallopian_tubes_AJLC170_0905.ndpi',\n  '\\\\\\\\10.162.80.16\\\\Andre\\\\data\\\\Ashleigh fallopian tube\\\\fallopian tubes\\\\AJLC170\\\\fallopian_tubes_AJLC170_0907.ndpi',\n  '\\\\\\\\10.162.80.16\\\\Andre\\\\data\\\\Ashleigh fallopian tube\\\\fallopian tubes\\\\AJLC170\\\\fallopian_tubes_AJLC170_0909.ndpi',\n  '\\\\\\\\10.162.80.16\\\\Andre\\\\data\\\\Ashleigh fallopian tube\\\\fallopian tubes\\\\AJLC170\\\\fallopian_tubes_AJLC170_0911.ndpi',\n  '\\\\\\\\10.162.80.16\\\\Andre\\\\data\\\\Ashleigh fallopian tube\\\\fallopian tubes\\\\AJLC170\\\\fallopian_tubes_AJLC170_0913.ndpi',\n  '\\\\\\\\10.162.80.16\\\\Andre\\\\data\\\\Ashleigh fallopian tube\\\\fallopian tubes\\\\AJLC170\\\\fallopian_tubes_AJLC170_0915.ndpi',\n  '\\\\\\\\10.162.80.16\\\\Andre\\\\data\\\\Ashleigh fallopian tube\\\\fallopian tubes\\\\AJLC170\\\\fallopian_tubes_AJLC170_0917.ndpi',\n  '\\\\\\\\10.162.80.16\\\\Andre\\\\data\\\\Ashleigh fallopian tube\\\\fallopian tubes\\\\AJLC170\\\\fallopian_tubes_AJLC170_0919.ndpi',\n  '\\\\\\\\10.162.80.16\\\\Andre\\\\data\\\\Ashleigh fallopian tube\\\\fallopian tubes\\\\AJLC170\\\\fallopian_tubes_AJLC170_0921.ndpi',\n  '\\\\\\\\10.162.80.16\\\\Andre\\\\data\\\\Ashleigh fallopian tube\\\\fallopian tubes\\\\AJLC170\\\\fallopian_tubes_AJLC170_0923.ndpi',\n  '\\\\\\\\10.162.80.16\\\\Andre\\\\data\\\\Ashleigh fallopian tube\\\\fallopian tubes\\\\AJLC170\\\\fallopian_tubes_AJLC170_0925.ndpi',\n  '\\\\\\\\10.162.80.16\\\\Andre\\\\data\\\\Ashleigh fallopian tube\\\\fallopian tubes\\\\AJLC170\\\\fallopian_tubes_AJLC170_0927.ndpi',\n  '\\\\\\\\10.162.80.16\\\\Andre\\\\data\\\\Ashleigh fallopian tube\\\\fallopian tubes\\\\AJLC170\\\\fallopian_tubes_AJLC170_0929.ndpi',\n  '\\\\\\\\10.162.80.16\\\\Andre\\\\data\\\\Ashleigh fallopian tube\\\\fallopian tubes\\\\AJLC170\\\\fallopian_tubes_AJLC170_0931.ndpi',\n  '\\\\\\\\10.162.80.16\\\\Andre\\\\data\\\\Ashleigh fallopian tube\\\\fallopian tubes\\\\AJLC170\\\\fallopian_tubes_AJLC170_0933.ndpi',\n  '\\\\\\\\10.162.80.16\\\\Andre\\\\data\\\\Ashleigh fallopian tube\\\\fallopian tubes\\\\AJLC170\\\\fallopian_tubes_AJLC170_0935.ndpi',\n  '\\\\\\\\10.162.80.16\\\\Andre\\\\data\\\\Ashleigh fallopian tube\\\\fallopian tubes\\\\AJLC170\\\\fallopian_tubes_AJLC170_0937.ndpi',\n  '\\\\\\\\10.162.80.16\\\\Andre\\\\data\\\\Ashleigh fallopian tube\\\\fallopian tubes\\\\AJLC170\\\\fallopian_tubes_AJLC170_0939.ndpi',\n  '\\\\\\\\10.162.80.16\\\\Andre\\\\data\\\\Ashleigh fallopian tube\\\\fallopian tubes\\\\AJLC170\\\\fallopian_tubes_AJLC170_0941.ndpi',\n  '\\\\\\\\10.162.80.16\\\\Andre\\\\data\\\\Ashleigh fallopian tube\\\\fallopian tubes\\\\AJLC170\\\\fallopian_tubes_AJLC170_0943.ndpi',\n  '\\\\\\\\10.162.80.16\\\\Andre\\\\data\\\\Ashleigh fallopian tube\\\\fallopian tubes\\\\AJLC170\\\\fallopian_tubes_AJLC170_0945.ndpi',\n  '\\\\\\\\10.162.80.16\\\\Andre\\\\data\\\\Ashleigh fallopian tube\\\\fallopian tubes\\\\AJLC170\\\\fallopian_tubes_AJLC170_0947.ndpi',\n  '\\\\\\\\10.162.80.16\\\\Andre\\\\data\\\\Ashleigh fallopian tube\\\\fallopian tubes\\\\AJLC170\\\\fallopian_tubes_AJLC170_0949.ndpi',\n  '\\\\\\\\10.162.80.16\\\\Andre\\\\data\\\\Ashleigh fallopian tube\\\\fallopian tubes\\\\AJLC170\\\\fallopian_tubes_AJLC170_0951.ndpi',\n  '\\\\\\\\10.162.80.16\\\\Andre\\\\data\\\\Ashleigh fallopian tube\\\\fallopian tubes\\\\AJLC170\\\\fallopian_tubes_AJLC170_0953.ndpi',\n  '\\\\\\\\10.162.80.16\\\\Andre\\\\data\\\\Ashleigh fallopian tube\\\\fallopian tubes\\\\AJLC170\\\\fallopian_tubes_AJLC170_0955.ndpi',\n  '\\\\\\\\10.162.80.16\\\\Andre\\\\data\\\\Ashleigh fallopian tube\\\\fallopian tubes\\\\AJLC170\\\\fallopian_tubes_AJLC170_0957.ndpi',\n  '\\\\\\\\10.162.80.16\\\\Andre\\\\data\\\\Ashleigh fallopian tube\\\\fallopian tubes\\\\AJLC170\\\\fallopian_tubes_AJLC170_0959.ndpi',\n  '\\\\\\\\10.162.80.16\\\\Andre\\\\data\\\\Ashleigh fallopian tube\\\\fallopian tubes\\\\AJLC170\\\\fallopian_tubes_AJLC170_0961.ndpi',\n  '\\\\\\\\10.162.80.16\\\\Andre\\\\data\\\\Ashleigh fallopian tube\\\\fallopian tubes\\\\AJLC170\\\\fallopian_tubes_AJLC170_0963.ndpi',\n  '\\\\\\\\10.162.80.16\\\\Andre\\\\data\\\\Ashleigh fallopian tube\\\\fallopian tubes\\\\AJLC170\\\\fallopian_tubes_AJLC170_0965.ndpi',\n  '\\\\\\\\10.162.80.16\\\\Andre\\\\data\\\\Ashleigh fallopian tube\\\\fallopian tubes\\\\AJLC170\\\\fallopian_tubes_AJLC170_0967.ndpi',\n  '\\\\\\\\10.162.80.16\\\\Andre\\\\data\\\\Ashleigh fallopian tube\\\\fallopian tubes\\\\AJLC170\\\\fallopian_tubes_AJLC170_0969.ndpi',\n  '\\\\\\\\10.162.80.16\\\\Andre\\\\data\\\\Ashleigh fallopian tube\\\\fallopian tubes\\\\AJLC170\\\\fallopian_tubes_AJLC170_0971.ndpi',\n  '\\\\\\\\10.162.80.16\\\\Andre\\\\data\\\\Ashleigh fallopian tube\\\\fallopian tubes\\\\AJLC170\\\\fallopian_tubes_AJLC170_0973.ndpi',\n  '\\\\\\\\10.162.80.16\\\\Andre\\\\data\\\\Ashleigh fallopian tube\\\\fallopian tubes\\\\AJLC170\\\\fallopian_tubes_AJLC170_0975.ndpi',\n  '\\\\\\\\10.162.80.16\\\\Andre\\\\data\\\\Ashleigh fallopian tube\\\\fallopian tubes\\\\AJLC170\\\\fallopian_tubes_AJLC170_0977.ndpi',\n  '\\\\\\\\10.162.80.16\\\\Andre\\\\data\\\\Ashleigh fallopian tube\\\\fallopian tubes\\\\AJLC170\\\\fallopian_tubes_AJLC170_0979.ndpi',\n  '\\\\\\\\10.162.80.16\\\\Andre\\\\data\\\\Ashleigh fallopian tube\\\\fallopian tubes\\\\AJLC170\\\\fallopian_tubes_AJLC170_0981.ndpi',\n  '\\\\\\\\10.162.80.16\\\\Andre\\\\data\\\\Ashleigh fallopian tube\\\\fallopian tubes\\\\AJLC170\\\\fallopian_tubes_AJLC170_0983.ndpi',\n  '\\\\\\\\10.162.80.16\\\\Andre\\\\data\\\\Ashleigh fallopian tube\\\\fallopian tubes\\\\AJLC170\\\\fallopian_tubes_AJLC170_0985.ndpi',\n  '\\\\\\\\10.162.80.16\\\\Andre\\\\data\\\\Ashleigh fallopian tube\\\\fallopian tubes\\\\AJLC170\\\\fallopian_tubes_AJLC170_0987.ndpi',\n  '\\\\\\\\10.162.80.16\\\\Andre\\\\data\\\\Ashleigh fallopian tube\\\\fallopian tubes\\\\AJLC170\\\\fallopian_tubes_AJLC170_0989.ndpi',\n  '\\\\\\\\10.162.80.16\\\\Andre\\\\data\\\\Ashleigh fallopian tube\\\\fallopian tubes\\\\AJLC170\\\\fallopian_tubes_AJLC170_0991.ndpi',\n  '\\\\\\\\10.162.80.16\\\\Andre\\\\data\\\\Ashleigh fallopian tube\\\\fallopian tubes\\\\AJLC170\\\\fallopian_tubes_AJLC170_0993.ndpi',\n  '\\\\\\\\10.162.80.16\\\\Andre\\\\data\\\\Ashleigh fallopian tube\\\\fallopian tubes\\\\AJLC170\\\\fallopian_tubes_AJLC170_0995.ndpi',\n  '\\\\\\\\10.162.80.16\\\\Andre\\\\data\\\\Ashleigh fallopian tube\\\\fallopian tubes\\\\AJLC170\\\\fallopian_tubes_AJLC170_0997.ndpi',\n  '\\\\\\\\10.162.80.16\\\\Andre\\\\data\\\\Ashleigh fallopian tube\\\\fallopian tubes\\\\AJLC170\\\\fallopian_tubes_AJLC170_0999.ndpi',\n  '\\\\\\\\10.162.80.16\\\\Andre\\\\data\\\\Ashleigh fallopian tube\\\\fallopian tubes\\\\AJLC170\\\\fallopian_tubes_AJLC170_1001.ndpi',\n  '\\\\\\\\10.162.80.16\\\\Andre\\\\data\\\\Ashleigh fallopian tube\\\\fallopian tubes\\\\AJLC170\\\\fallopian_tubes_AJLC170_1003.ndpi',\n  '\\\\\\\\10.162.80.16\\\\Andre\\\\data\\\\Ashleigh fallopian tube\\\\fallopian tubes\\\\AJLC170\\\\fallopian_tubes_AJLC170_1005.ndpi',\n  '\\\\\\\\10.162.80.16\\\\Andre\\\\data\\\\Ashleigh fallopian tube\\\\fallopian tubes\\\\AJLC170\\\\fallopian_tubes_AJLC170_1007.ndpi',\n  '\\\\\\\\10.162.80.16\\\\Andre\\\\data\\\\Ashleigh fallopian tube\\\\fallopian tubes\\\\AJLC170\\\\fallopian_tubes_AJLC170_1009.ndpi',\n  '\\\\\\\\10.162.80.16\\\\Andre\\\\data\\\\Ashleigh fallopian tube\\\\fallopian tubes\\\\AJLC170\\\\fallopian_tubes_AJLC170_1011.ndpi',\n  '\\\\\\\\10.162.80.16\\\\Andre\\\\data\\\\Ashleigh fallopian tube\\\\fallopian tubes\\\\AJLC170\\\\fallopian_tubes_AJLC170_1013.ndpi',\n  '\\\\\\\\10.162.80.16\\\\Andre\\\\data\\\\Ashleigh fallopian tube\\\\fallopian tubes\\\\AJLC170\\\\fallopian_tubes_AJLC170_1015.ndpi',\n  '\\\\\\\\10.162.80.16\\\\Andre\\\\data\\\\Ashleigh fallopian tube\\\\fallopian tubes\\\\AJLC170\\\\fallopian_tubes_AJLC170_1017.ndpi',\n  '\\\\\\\\10.162.80.16\\\\Andre\\\\data\\\\Ashleigh fallopian tube\\\\fallopian tubes\\\\AJLC170\\\\fallopian_tubes_AJLC170_1019.ndpi',\n  '\\\\\\\\10.162.80.16\\\\Andre\\\\data\\\\Ashleigh fallopian tube\\\\fallopian tubes\\\\AJLC170\\\\fallopian_tubes_AJLC170_1021.ndpi',\n  '\\\\\\\\10.162.80.16\\\\Andre\\\\data\\\\Ashleigh fallopian tube\\\\fallopian tubes\\\\AJLC170\\\\fallopian_tubes_AJLC170_1023.ndpi',\n  '\\\\\\\\10.162.80.16\\\\Andre\\\\data\\\\Ashleigh fallopian tube\\\\fallopian tubes\\\\AJLC170\\\\fallopian_tubes_AJLC170_1025.ndpi',\n  '\\\\\\\\10.162.80.16\\\\Andre\\\\data\\\\Ashleigh fallopian tube\\\\fallopian tubes\\\\AJLC170\\\\fallopian_tubes_AJLC170_1027.ndpi',\n  '\\\\\\\\10.162.80.16\\\\Andre\\\\data\\\\Ashleigh fallopian tube\\\\fallopian tubes\\\\AJLC170\\\\fallopian_tubes_AJLC170_1029.ndpi',\n  '\\\\\\\\10.162.80.16\\\\Andre\\\\data\\\\Ashleigh fallopian tube\\\\fallopian tubes\\\\AJLC170\\\\fallopian_tubes_AJLC170_1031.ndpi',\n  '\\\\\\\\10.162.80.16\\\\Andre\\\\data\\\\Ashleigh fallopian tube\\\\fallopian tubes\\\\AJLC170\\\\fallopian_tubes_AJLC170_1033.ndpi',\n  '\\\\\\\\10.162.80.16\\\\Andre\\\\data\\\\Ashleigh fallopian tube\\\\fallopian tubes\\\\AJLC170\\\\fallopian_tubes_AJLC170_1035.ndpi',\n  '\\\\\\\\10.162.80.16\\\\Andre\\\\data\\\\Ashleigh fallopian tube\\\\fallopian tubes\\\\AJLC170\\\\fallopian_tubes_AJLC170_1037.ndpi',\n  '\\\\\\\\10.162.80.16\\\\Andre\\\\data\\\\Ashleigh fallopian tube\\\\fallopian tubes\\\\AJLC170\\\\fallopian_tubes_AJLC170_1039.ndpi',\n  '\\\\\\\\10.162.80.16\\\\Andre\\\\data\\\\Ashleigh fallopian tube\\\\fallopian tubes\\\\AJLC170\\\\fallopian_tubes_AJLC170_1041.ndpi',\n  '\\\\\\\\10.162.80.16\\\\Andre\\\\data\\\\Ashleigh fallopian tube\\\\fallopian tubes\\\\AJLC170\\\\fallopian_tubes_AJLC170_1043.ndpi',\n  '\\\\\\\\10.162.80.16\\\\Andre\\\\data\\\\Ashleigh fallopian tube\\\\fallopian tubes\\\\AJLC170\\\\fallopian_tubes_AJLC170_1045.ndpi',\n  '\\\\\\\\10.162.80.16\\\\Andre\\\\data\\\\Ashleigh fallopian tube\\\\fallopian tubes\\\\AJLC170\\\\fallopian_tubes_AJLC170_1047.ndpi',\n  '\\\\\\\\10.162.80.16\\\\Andre\\\\data\\\\Ashleigh fallopian tube\\\\fallopian tubes\\\\AJLC170\\\\fallopian_tubes_AJLC170_1049.ndpi',\n  '\\\\\\\\10.162.80.16\\\\Andre\\\\data\\\\Ashleigh fallopian tube\\\\fallopian tubes\\\\AJLC170\\\\fallopian_tubes_AJLC170_1051.ndpi',\n  '\\\\\\\\10.162.80.16\\\\Andre\\\\data\\\\Ashleigh fallopian tube\\\\fallopian tubes\\\\AJLC170\\\\fallopian_tubes_AJLC170_1053.ndpi',\n  '\\\\\\\\10.162.80.16\\\\Andre\\\\data\\\\Ashleigh fallopian tube\\\\fallopian tubes\\\\AJLC170\\\\fallopian_tubes_AJLC170_1055.ndpi',\n  '\\\\\\\\10.162.80.16\\\\Andre\\\\data\\\\Ashleigh fallopian tube\\\\fallopian tubes\\\\AJLC170\\\\fallopian_tubes_AJLC170_1057.ndpi',\n  '\\\\\\\\10.162.80.16\\\\Andre\\\\data\\\\Ashleigh fallopian tube\\\\fallopian tubes\\\\AJLC170\\\\fallopian_tubes_AJLC170_1059.ndpi',\n  '\\\\\\\\10.162.80.16\\\\Andre\\\\data\\\\Ashleigh fallopian tube\\\\fallopian tubes\\\\AJLC170\\\\fallopian_tubes_AJLC170_1061.ndpi',\n  '\\\\\\\\10.162.80.16\\\\Andre\\\\data\\\\Ashleigh fallopian tube\\\\fallopian tubes\\\\AJLC170\\\\fallopian_tubes_AJLC170_1063.ndpi',\n  '\\\\\\\\10.162.80.16\\\\Andre\\\\data\\\\Ashleigh fallopian tube\\\\fallopian tubes\\\\AJLC170\\\\fallopian_tubes_AJLC170_1065.ndpi',\n  '\\\\\\\\10.162.80.16\\\\Andre\\\\data\\\\Ashleigh fallopian tube\\\\fallopian tubes\\\\AJLC170\\\\fallopian_tubes_AJLC170_1067.ndpi',\n  '\\\\\\\\10.162.80.16\\\\Andre\\\\data\\\\Ashleigh fallopian tube\\\\fallopian tubes\\\\AJLC170\\\\fallopian_tubes_AJLC170_1069.ndpi',\n  '\\\\\\\\10.162.80.16\\\\Andre\\\\data\\\\Ashleigh fallopian tube\\\\fallopian tubes\\\\AJLC170\\\\fallopian_tubes_AJLC170_1071.ndpi',\n  '\\\\\\\\10.162.80.16\\\\Andre\\\\data\\\\Ashleigh fallopian tube\\\\fallopian tubes\\\\AJLC170\\\\fallopian_tubes_AJLC170_1073.ndpi',\n  '\\\\\\\\10.162.80.16\\\\Andre\\\\data\\\\Ashleigh fallopian tube\\\\fallopian tubes\\\\AJLC170\\\\fallopian_tubes_AJLC170_1075.ndpi',\n  '\\\\\\\\10.162.80.16\\\\Andre\\\\data\\\\Ashleigh fallopian tube\\\\fallopian tubes\\\\AJLC170\\\\fallopian_tubes_AJLC170_1077.ndpi',\n  '\\\\\\\\10.162.80.16\\\\Andre\\\\data\\\\Ashleigh fallopian tube\\\\fallopian tubes\\\\AJLC170\\\\fallopian_tubes_AJLC170_1079.ndpi',\n  '\\\\\\\\10.162.80.16\\\\Andre\\\\data\\\\Ashleigh fallopian tube\\\\fallopian tubes\\\\AJLC170\\\\fallopian_tubes_AJLC170_1081.ndpi',\n  '\\\\\\\\10.162.80.16\\\\Andre\\\\data\\\\Ashleigh fallopian tube\\\\fallopian tubes\\\\AJLC170\\\\fallopian_tubes_AJLC170_1083.ndpi',\n  '\\\\\\\\10.162.80.16\\\\Andre\\\\data\\\\Ashleigh fallopian tube\\\\fallopian tubes\\\\AJLC170\\\\fallopian_tubes_AJLC170_1085.ndpi',\n  '\\\\\\\\10.162.80.16\\\\Andre\\\\data\\\\Ashleigh fallopian tube\\\\fallopian tubes\\\\AJLC170\\\\fallopian_tubes_AJLC170_1087.ndpi',\n  '\\\\\\\\10.162.80.16\\\\Andre\\\\data\\\\Ashleigh fallopian tube\\\\fallopian tubes\\\\AJLC170\\\\fallopian_tubes_AJLC170_1089.ndpi',\n  '\\\\\\\\10.162.80.16\\\\Andre\\\\data\\\\Ashleigh fallopian tube\\\\fallopian tubes\\\\AJLC170\\\\fallopian_tubes_AJLC170_1091.ndpi',\n  '\\\\\\\\10.162.80.16\\\\Andre\\\\data\\\\Ashleigh fallopian tube\\\\fallopian tubes\\\\AJLC170\\\\fallopian_tubes_AJLC170_1093.ndpi',\n  '\\\\\\\\10.162.80.16\\\\Andre\\\\data\\\\Ashleigh fallopian tube\\\\fallopian tubes\\\\AJLC170\\\\fallopian_tubes_AJLC170_1095.ndpi',\n  '\\\\\\\\10.162.80.16\\\\Andre\\\\data\\\\Ashleigh fallopian tube\\\\fallopian tubes\\\\AJLC170\\\\fallopian_tubes_AJLC170_1097.ndpi',\n  '\\\\\\\\10.162.80.16\\\\Andre\\\\data\\\\Ashleigh fallopian tube\\\\fallopian tubes\\\\AJLC170\\\\fallopian_tubes_AJLC170_1099.ndpi',\n  '\\\\\\\\10.162.80.16\\\\Andre\\\\data\\\\Ashleigh fallopian tube\\\\fallopian tubes\\\\AJLC170\\\\fallopian_tubes_AJLC170_1101.ndpi',\n  '\\\\\\\\10.162.80.16\\\\Andre\\\\data\\\\Ashleigh fallopian tube\\\\fallopian tubes\\\\AJLC170\\\\fallopian_tubes_AJLC170_1103.ndpi',\n  '\\\\\\\\10.162.80.16\\\\Andre\\\\data\\\\Ashleigh fallopian tube\\\\fallopian tubes\\\\AJLC170\\\\fallopian_tubes_AJLC170_1105.ndpi',\n  '\\\\\\\\10.162.80.16\\\\Andre\\\\data\\\\Ashleigh fallopian tube\\\\fallopian tubes\\\\AJLC170\\\\fallopian_tubes_AJLC170_1107.ndpi',\n  '\\\\\\\\10.162.80.16\\\\Andre\\\\data\\\\Ashleigh fallopian tube\\\\fallopian tubes\\\\AJLC170\\\\fallopian_tubes_AJLC170_1109.ndpi',\n  '\\\\\\\\10.162.80.16\\\\Andre\\\\data\\\\Ashleigh fallopian tube\\\\fallopian tubes\\\\AJLC170\\\\fallopian_tubes_AJLC170_1111.ndpi',\n  '\\\\\\\\10.162.80.16\\\\Andre\\\\data\\\\Ashleigh fallopian tube\\\\fallopian tubes\\\\AJLC170\\\\fallopian_tubes_AJLC170_1113.ndpi',\n  '\\\\\\\\10.162.80.16\\\\Andre\\\\data\\\\Ashleigh fallopian tube\\\\fallopian tubes\\\\AJLC170\\\\fallopian_tubes_AJLC170_1115.ndpi',\n  '\\\\\\\\10.162.80.16\\\\Andre\\\\data\\\\Ashleigh fallopian tube\\\\fallopian tubes\\\\AJLC170\\\\fallopian_tubes_AJLC170_1117.ndpi',\n  '\\\\\\\\10.162.80.16\\\\Andre\\\\data\\\\Ashleigh fallopian tube\\\\fallopian tubes\\\\AJLC170\\\\fallopian_tubes_AJLC170_1119.ndpi',\n  '\\\\\\\\10.162.80.16\\\\Andre\\\\data\\\\Ashleigh fallopian tube\\\\fallopian tubes\\\\AJLC170\\\\fallopian_tubes_AJLC170_1121.ndpi',\n  '\\\\\\\\10.162.80.16\\\\Andre\\\\data\\\\Ashleigh fallopian tube\\\\fallopian tubes\\\\AJLC170\\\\fallopian_tubes_AJLC170_1123.ndpi',\n  '\\\\\\\\10.162.80.16\\\\Andre\\\\data\\\\Ashleigh fallopian tube\\\\fallopian tubes\\\\AJLC170\\\\fallopian_tubes_AJLC170_1125.ndpi',\n  '\\\\\\\\10.162.80.16\\\\Andre\\\\data\\\\Ashleigh fallopian tube\\\\fallopian tubes\\\\AJLC170\\\\fallopian_tubes_AJLC170_1127.ndpi',\n  '\\\\\\\\10.162.80.16\\\\Andre\\\\data\\\\Ashleigh fallopian tube\\\\fallopian tubes\\\\AJLC170\\\\fallopian_tubes_AJLC170_1129.ndpi',\n  '\\\\\\\\10.162.80.16\\\\Andre\\\\data\\\\Ashleigh fallopian tube\\\\fallopian tubes\\\\AJLC170\\\\fallopian_tubes_AJLC170_1131.ndpi',\n  '\\\\\\\\10.162.80.16\\\\Andre\\\\data\\\\Ashleigh fallopian tube\\\\fallopian tubes\\\\AJLC170\\\\fallopian_tubes_AJLC170_1133.ndpi',\n  '\\\\\\\\10.162.80.16\\\\Andre\\\\data\\\\Ashleigh fallopian tube\\\\fallopian tubes\\\\AJLC170\\\\fallopian_tubes_AJLC170_1135.ndpi',\n  '\\\\\\\\10.162.80.16\\\\Andre\\\\data\\\\Ashleigh fallopian tube\\\\fallopian tubes\\\\AJLC170\\\\fallopian_tubes_AJLC170_1137.ndpi',\n  '\\\\\\\\10.162.80.16\\\\Andre\\\\data\\\\Ashleigh fallopian tube\\\\fallopian tubes\\\\AJLC170\\\\fallopian_tubes_AJLC170_1139.ndpi',\n  '\\\\\\\\10.162.80.16\\\\Andre\\\\data\\\\Ashleigh fallopian tube\\\\fallopian tubes\\\\AJLC170\\\\fallopian_tubes_AJLC170_1141.ndpi',\n  '\\\\\\\\10.162.80.16\\\\Andre\\\\data\\\\Ashleigh fallopian tube\\\\fallopian tubes\\\\AJLC170\\\\fallopian_tubes_AJLC170_1143.ndpi',\n  '\\\\\\\\10.162.80.16\\\\Andre\\\\data\\\\Ashleigh fallopian tube\\\\fallopian tubes\\\\AJLC170\\\\fallopian_tubes_AJLC170_1145.ndpi',\n  '\\\\\\\\10.162.80.16\\\\Andre\\\\data\\\\Ashleigh fallopian tube\\\\fallopian tubes\\\\AJLC170\\\\fallopian_tubes_AJLC170_1147.ndpi',\n  '\\\\\\\\10.162.80.16\\\\Andre\\\\data\\\\Ashleigh fallopian tube\\\\fallopian tubes\\\\AJLC170\\\\fallopian_tubes_AJLC170_1149.ndpi',\n  '\\\\\\\\10.162.80.16\\\\Andre\\\\data\\\\Ashleigh fallopian tube\\\\fallopian tubes\\\\AJLC170\\\\fallopian_tubes_AJLC170_1151.ndpi',\n  '\\\\\\\\10.162.80.16\\\\Andre\\\\data\\\\Ashleigh fallopian tube\\\\fallopian tubes\\\\AJLC170\\\\fallopian_tubes_AJLC170_1153.ndpi',\n  '\\\\\\\\10.162.80.16\\\\Andre\\\\data\\\\Ashleigh fallopian tube\\\\fallopian tubes\\\\AJLC170\\\\fallopian_tubes_AJLC170_1155.ndpi',\n  '\\\\\\\\10.162.80.16\\\\Andre\\\\data\\\\Ashleigh fallopian tube\\\\fallopian tubes\\\\AJLC170\\\\fallopian_tubes_AJLC170_1157.ndpi',\n  '\\\\\\\\10.162.80.16\\\\Andre\\\\data\\\\Ashleigh fallopian tube\\\\fallopian tubes\\\\AJLC170\\\\fallopian_tubes_AJLC170_1159.ndpi',\n  '\\\\\\\\10.162.80.16\\\\Andre\\\\data\\\\Ashleigh fallopian tube\\\\fallopian tubes\\\\AJLC170\\\\fallopian_tubes_AJLC170_1161.ndpi',\n  '\\\\\\\\10.162.80.16\\\\Andre\\\\data\\\\Ashleigh fallopian tube\\\\fallopian tubes\\\\AJLC170\\\\fallopian_tubes_AJLC170_1163.ndpi',\n  '\\\\\\\\10.162.80.16\\\\Andre\\\\data\\\\Ashleigh fallopian tube\\\\fallopian tubes\\\\AJLC170\\\\fallopian_tubes_AJLC170_1165.ndpi',\n  '\\\\\\\\10.162.80.16\\\\Andre\\\\data\\\\Ashleigh fallopian tube\\\\fallopian tubes\\\\AJLC170\\\\fallopian_tubes_AJLC170_1167.ndpi',\n  '\\\\\\\\10.162.80.16\\\\Andre\\\\data\\\\Ashleigh fallopian tube\\\\fallopian tubes\\\\AJLC170\\\\fallopian_tubes_AJLC170_1169.ndpi',\n  '\\\\\\\\10.162.80.16\\\\Andre\\\\data\\\\Ashleigh fallopian tube\\\\fallopian tubes\\\\AJLC170\\\\fallopian_tubes_AJLC170_1171.ndpi',\n  '\\\\\\\\10.162.80.16\\\\Andre\\\\data\\\\Ashleigh fallopian tube\\\\fallopian tubes\\\\AJLC170\\\\fallopian_tubes_AJLC170_1173.ndpi',\n  '\\\\\\\\10.162.80.16\\\\Andre\\\\data\\\\Ashleigh fallopian tube\\\\fallopian tubes\\\\AJLC170\\\\fallopian_tubes_AJLC170_1175.ndpi',\n  '\\\\\\\\10.162.80.16\\\\Andre\\\\data\\\\Ashleigh fallopian tube\\\\fallopian tubes\\\\AJLC170\\\\fallopian_tubes_AJLC170_1177.ndpi',\n  '\\\\\\\\10.162.80.16\\\\Andre\\\\data\\\\Ashleigh fallopian tube\\\\fallopian tubes\\\\AJLC170\\\\fallopian_tubes_AJLC170_1179.ndpi',\n  '\\\\\\\\10.162.80.16\\\\Andre\\\\data\\\\Ashleigh fallopian tube\\\\fallopian tubes\\\\AJLC170\\\\fallopian_tubes_AJLC170_1181.ndpi',\n  '\\\\\\\\10.162.80.16\\\\Andre\\\\data\\\\Ashleigh fallopian tube\\\\fallopian tubes\\\\AJLC170\\\\fallopian_tubes_AJLC170_1183.ndpi',\n  '\\\\\\\\10.162.80.16\\\\Andre\\\\data\\\\Ashleigh fallopian tube\\\\fallopian tubes\\\\AJLC170\\\\fallopian_tubes_AJLC170_1185.ndpi',\n  '\\\\\\\\10.162.80.16\\\\Andre\\\\data\\\\Ashleigh fallopian tube\\\\fallopian tubes\\\\AJLC170\\\\fallopian_tubes_AJLC170_1187.ndpi',\n  '\\\\\\\\10.162.80.16\\\\Andre\\\\data\\\\Ashleigh fallopian tube\\\\fallopian tubes\\\\AJLC170\\\\fallopian_tubes_AJLC170_1189.ndpi',\n  '\\\\\\\\10.162.80.16\\\\Andre\\\\data\\\\Ashleigh fallopian tube\\\\fallopian tubes\\\\AJLC170\\\\fallopian_tubes_AJLC170_1191.ndpi',\n  '\\\\\\\\10.162.80.16\\\\Andre\\\\data\\\\Ashleigh fallopian tube\\\\fallopian tubes\\\\AJLC170\\\\fallopian_tubes_AJLC170_1193.ndpi',\n  '\\\\\\\\10.162.80.16\\\\Andre\\\\data\\\\Ashleigh fallopian tube\\\\fallopian tubes\\\\AJLC170\\\\fallopian_tubes_AJLC170_1195.ndpi',\n  '\\\\\\\\10.162.80.16\\\\Andre\\\\data\\\\Ashleigh fallopian tube\\\\fallopian tubes\\\\AJLC170\\\\fallopian_tubes_AJLC170_1197.ndpi',\n  '\\\\\\\\10.162.80.16\\\\Andre\\\\data\\\\Ashleigh fallopian tube\\\\fallopian tubes\\\\AJLC170\\\\fallopian_tubes_AJLC170_1199.ndpi',\n  '\\\\\\\\10.162.80.16\\\\Andre\\\\data\\\\Ashleigh fallopian tube\\\\fallopian tubes\\\\AJLC170\\\\fallopian_tubes_AJLC170_1201.ndpi',\n  '\\\\\\\\10.162.80.16\\\\Andre\\\\data\\\\Ashleigh fallopian tube\\\\fallopian tubes\\\\AJLC170\\\\fallopian_tubes_AJLC170_1203.ndpi',\n  '\\\\\\\\10.162.80.16\\\\Andre\\\\data\\\\Ashleigh fallopian tube\\\\fallopian tubes\\\\AJLC170\\\\fallopian_tubes_AJLC170_1205.ndpi',\n  '\\\\\\\\10.162.80.16\\\\Andre\\\\data\\\\Ashleigh fallopian tube\\\\fallopian tubes\\\\AJLC170\\\\fallopian_tubes_AJLC170_1207.ndpi',\n  '\\\\\\\\10.162.80.16\\\\Andre\\\\data\\\\Ashleigh fallopian tube\\\\fallopian tubes\\\\AJLC170\\\\fallopian_tubes_AJLC170_1209.ndpi',\n  '\\\\\\\\10.162.80.16\\\\Andre\\\\data\\\\Ashleigh fallopian tube\\\\fallopian tubes\\\\AJLC170\\\\fallopian_tubes_AJLC170_1211.ndpi',\n  '\\\\\\\\10.162.80.16\\\\Andre\\\\data\\\\Ashleigh fallopian tube\\\\fallopian tubes\\\\AJLC170\\\\fallopian_tubes_AJLC170_1213.ndpi',\n  '\\\\\\\\10.162.80.16\\\\Andre\\\\data\\\\Ashleigh fallopian tube\\\\fallopian tubes\\\\AJLC170\\\\fallopian_tubes_AJLC170_1215.ndpi',\n  '\\\\\\\\10.162.80.16\\\\Andre\\\\data\\\\Ashleigh fallopian tube\\\\fallopian tubes\\\\AJLC170\\\\fallopian_tubes_AJLC170_1217.ndpi',\n  '\\\\\\\\10.162.80.16\\\\Andre\\\\data\\\\Ashleigh fallopian tube\\\\fallopian tubes\\\\AJLC170\\\\fallopian_tubes_AJLC170_1219.ndpi',\n  '\\\\\\\\10.162.80.16\\\\Andre\\\\data\\\\Ashleigh fallopian tube\\\\fallopian tubes\\\\AJLC170\\\\fallopian_tubes_AJLC170_1221.ndpi',\n  '\\\\\\\\10.162.80.16\\\\Andre\\\\data\\\\Ashleigh fallopian tube\\\\fallopian tubes\\\\AJLC170\\\\fallopian_tubes_AJLC170_1223.ndpi',\n  '\\\\\\\\10.162.80.16\\\\Andre\\\\data\\\\Ashleigh fallopian tube\\\\fallopian tubes\\\\AJLC170\\\\fallopian_tubes_AJLC170_1225.ndpi',\n  '\\\\\\\\10.162.80.16\\\\Andre\\\\data\\\\Ashleigh fallopian tube\\\\fallopian tubes\\\\AJLC170\\\\fallopian_tubes_AJLC170_1227.ndpi',\n  '\\\\\\\\10.162.80.16\\\\Andre\\\\data\\\\Ashleigh fallopian tube\\\\fallopian tubes\\\\AJLC170\\\\fallopian_tubes_AJLC170_1229.ndpi',\n  '\\\\\\\\10.162.80.16\\\\Andre\\\\data\\\\Ashleigh fallopian tube\\\\fallopian tubes\\\\AJLC170\\\\fallopian_tubes_AJLC170_1231.ndpi',\n  '\\\\\\\\10.162.80.16\\\\Andre\\\\data\\\\Ashleigh fallopian tube\\\\fallopian tubes\\\\AJLC170\\\\fallopian_tubes_AJLC170_1233.ndpi',\n  '\\\\\\\\10.162.80.16\\\\Andre\\\\data\\\\Ashleigh fallopian tube\\\\fallopian tubes\\\\AJLC170\\\\fallopian_tubes_AJLC170_1235.ndpi',\n  '\\\\\\\\10.162.80.16\\\\Andre\\\\data\\\\Ashleigh fallopian tube\\\\fallopian tubes\\\\AJLC170\\\\fallopian_tubes_AJLC170_1237.ndpi',\n  '\\\\\\\\10.162.80.16\\\\Andre\\\\data\\\\Ashleigh fallopian tube\\\\fallopian tubes\\\\AJLC170\\\\fallopian_tubes_AJLC170_1239.ndpi',\n  '\\\\\\\\10.162.80.16\\\\Andre\\\\data\\\\Ashleigh fallopian tube\\\\fallopian tubes\\\\AJLC170\\\\fallopian_tubes_AJLC170_1241.ndpi',\n  '\\\\\\\\10.162.80.16\\\\Andre\\\\data\\\\Ashleigh fallopian tube\\\\fallopian tubes\\\\AJLC170\\\\fallopian_tubes_AJLC170_1243.ndpi',\n  '\\\\\\\\10.162.80.16\\\\Andre\\\\data\\\\Ashleigh fallopian tube\\\\fallopian tubes\\\\AJLC170\\\\fallopian_tubes_AJLC170_1245.ndpi',\n  '\\\\\\\\10.162.80.16\\\\Andre\\\\data\\\\Ashleigh fallopian tube\\\\fallopian tubes\\\\AJLC170\\\\fallopian_tubes_AJLC170_1247.ndpi',\n  '\\\\\\\\10.162.80.16\\\\Andre\\\\data\\\\Ashleigh fallopian tube\\\\fallopian tubes\\\\AJLC170\\\\fallopian_tubes_AJLC170_1249.ndpi',\n  '\\\\\\\\10.162.80.16\\\\Andre\\\\data\\\\Ashleigh fallopian tube\\\\fallopian tubes\\\\AJLC170\\\\fallopian_tubes_AJLC170_1251.ndpi',\n  '\\\\\\\\10.162.80.16\\\\Andre\\\\data\\\\Ashleigh fallopian tube\\\\fallopian tubes\\\\AJLC170\\\\fallopian_tubes_AJLC170_1253.ndpi',\n  '\\\\\\\\10.162.80.16\\\\Andre\\\\data\\\\Ashleigh fallopian tube\\\\fallopian tubes\\\\AJLC170\\\\fallopian_tubes_AJLC170_1255.ndpi',\n  '\\\\\\\\10.162.80.16\\\\Andre\\\\data\\\\Ashleigh fallopian tube\\\\fallopian tubes\\\\AJLC170\\\\fallopian_tubes_AJLC170_1257.ndpi',\n  '\\\\\\\\10.162.80.16\\\\Andre\\\\data\\\\Ashleigh fallopian tube\\\\fallopian tubes\\\\AJLC170\\\\fallopian_tubes_AJLC170_1259.ndpi',\n  '\\\\\\\\10.162.80.16\\\\Andre\\\\data\\\\Ashleigh fallopian tube\\\\fallopian tubes\\\\AJLC170\\\\fallopian_tubes_AJLC170_1261.ndpi',\n  '\\\\\\\\10.162.80.16\\\\Andre\\\\data\\\\Ashleigh fallopian tube\\\\fallopian tubes\\\\AJLC170\\\\fallopian_tubes_AJLC170_1263.ndpi',\n  '\\\\\\\\10.162.80.16\\\\Andre\\\\data\\\\Ashleigh fallopian tube\\\\fallopian tubes\\\\AJLC170\\\\fallopian_tubes_AJLC170_1265.ndpi',\n  '\\\\\\\\10.162.80.16\\\\Andre\\\\data\\\\Ashleigh fallopian tube\\\\fallopian tubes\\\\AJLC170\\\\fallopian_tubes_AJLC170_1267.ndpi',\n  '\\\\\\\\10.162.80.16\\\\Andre\\\\data\\\\Ashleigh fallopian tube\\\\fallopian tubes\\\\AJLC170\\\\fallopian_tubes_AJLC170_1269.ndpi',\n  '\\\\\\\\10.162.80.16\\\\Andre\\\\data\\\\Ashleigh fallopian tube\\\\fallopian tubes\\\\AJLC170\\\\fallopian_tubes_AJLC170_1271.ndpi',\n  '\\\\\\\\10.162.80.16\\\\Andre\\\\data\\\\Ashleigh fallopian tube\\\\fallopian tubes\\\\AJLC170\\\\fallopian_tubes_AJLC170_1273.ndpi',\n  '\\\\\\\\10.162.80.16\\\\Andre\\\\data\\\\Ashleigh fallopian tube\\\\fallopian tubes\\\\AJLC170\\\\fallopian_tubes_AJLC170_1275.ndpi',\n  '\\\\\\\\10.162.80.16\\\\Andre\\\\data\\\\Ashleigh fallopian tube\\\\fallopian tubes\\\\AJLC170\\\\fallopian_tubes_AJLC170_1277.ndpi',\n  '\\\\\\\\10.162.80.16\\\\Andre\\\\data\\\\Ashleigh fallopian tube\\\\fallopian tubes\\\\AJLC170\\\\fallopian_tubes_AJLC170_1279.ndpi',\n  '\\\\\\\\10.162.80.16\\\\Andre\\\\data\\\\Ashleigh fallopian tube\\\\fallopian tubes\\\\AJLC170\\\\fallopian_tubes_AJLC170_1281.ndpi',\n  '\\\\\\\\10.162.80.16\\\\Andre\\\\data\\\\Ashleigh fallopian tube\\\\fallopian tubes\\\\AJLC170\\\\fallopian_tubes_AJLC170_1283.ndpi',\n  '\\\\\\\\10.162.80.16\\\\Andre\\\\data\\\\Ashleigh fallopian tube\\\\fallopian tubes\\\\AJLC170\\\\fallopian_tubes_AJLC170_1285.ndpi',\n  '\\\\\\\\10.162.80.16\\\\Andre\\\\data\\\\Ashleigh fallopian tube\\\\fallopian tubes\\\\AJLC170\\\\fallopian_tubes_AJLC170_1287.ndpi',\n  '\\\\\\\\10.162.80.16\\\\Andre\\\\data\\\\Ashleigh fallopian tube\\\\fallopian tubes\\\\AJLC170\\\\fallopian_tubes_AJLC170_1289.ndpi',\n  '\\\\\\\\10.162.80.16\\\\Andre\\\\data\\\\Ashleigh fallopian tube\\\\fallopian tubes\\\\AJLC170\\\\fallopian_tubes_AJLC170_1291.ndpi',\n  '\\\\\\\\10.162.80.16\\\\Andre\\\\data\\\\Ashleigh fallopian tube\\\\fallopian tubes\\\\AJLC170\\\\fallopian_tubes_AJLC170_1293.ndpi',\n  '\\\\\\\\10.162.80.16\\\\Andre\\\\data\\\\Ashleigh fallopian tube\\\\fallopian tubes\\\\AJLC170\\\\fallopian_tubes_AJLC170_1295.ndpi',\n  '\\\\\\\\10.162.80.16\\\\Andre\\\\data\\\\Ashleigh fallopian tube\\\\fallopian tubes\\\\AJLC170\\\\fallopian_tubes_AJLC170_1297.ndpi',\n  '\\\\\\\\10.162.80.16\\\\Andre\\\\data\\\\Ashleigh fallopian tube\\\\fallopian tubes\\\\AJLC170\\\\fallopian_tubes_AJLC170_1299.ndpi',\n  '\\\\\\\\10.162.80.16\\\\Andre\\\\data\\\\Ashleigh fallopian tube\\\\fallopian tubes\\\\AJLC170\\\\fallopian_tubes_AJLC170_1301.ndpi',\n  '\\\\\\\\10.162.80.16\\\\Andre\\\\data\\\\Ashleigh fallopian tube\\\\fallopian tubes\\\\AJLC170\\\\fallopian_tubes_AJLC170_1303.ndpi',\n  '\\\\\\\\10.162.80.16\\\\Andre\\\\data\\\\Ashleigh fallopian tube\\\\fallopian tubes\\\\AJLC170\\\\fallopian_tubes_AJLC170_1305.ndpi']]"
     },
     "execution_count": 6,
     "metadata": {},
     "output_type": "execute_result"
    }
   ],
   "source": [
    "WSIs[:20]"
   ],
   "metadata": {
    "collapsed": false,
    "ExecuteTime": {
     "end_time": "2024-01-05T10:24:36.838158200Z",
     "start_time": "2024-01-05T10:24:36.788610200Z"
    }
   }
  },
  {
   "cell_type": "markdown",
   "source": [
    "Load just 1 image and show (takes a couple min)"
   ],
   "metadata": {
    "collapsed": false
   }
  },
  {
   "cell_type": "code",
   "execution_count": 7,
   "outputs": [],
   "source": [
    "def show_image(img, crop_x, crop_y, tile_size, **kwargs):\n",
    "    \"\"\"Plot large image at different resolutions.\"\"\"\n",
    "    fig, ax = plt.subplots(1, 2, figsize=(16, 8))\n",
    "\n",
    "    # Plot the original image on the left\n",
    "    ax[0].imshow(img, **kwargs)\n",
    "\n",
    "    # Crop the image\n",
    "    cropped_img = img[crop_y:crop_y+tile_size, crop_x:crop_x+tile_size]\n",
    "\n",
    "    # Plot the cropped image on the right\n",
    "    ax[1].imshow(cropped_img, **kwargs)\n",
    "\n",
    "    ax[0].axis('off')\n",
    "    ax[1].axis('off')\n",
    "\n",
    "    plt.tight_layout()\n",
    "    plt.show()"
   ],
   "metadata": {
    "collapsed": false,
    "ExecuteTime": {
     "end_time": "2024-01-05T10:24:36.849428400Z",
     "start_time": "2024-01-05T10:24:36.802658600Z"
    }
   }
  },
  {
   "cell_type": "code",
   "execution_count": 8,
   "metadata": {
    "colab": {
     "base_uri": "https://localhost:8080/"
    },
    "id": "D0ecg6kehEc6",
    "outputId": "a7ca1164-b761-4755-834f-a98016f40c18",
    "ExecuteTime": {
     "end_time": "2024-01-05T10:25:20.610981Z",
     "start_time": "2024-01-05T10:24:36.816719Z"
    }
   },
   "outputs": [
    {
     "name": "stderr",
     "output_type": "stream",
     "text": [
      "base_model.py (149): output path for model already exists, files may be overwritten: \\\\10.99.68.178\\andreex\\data\\Stardist\\qupath_training_annotations\\models\\fallopian_tube_12_7_2023_lr_0.001_epochs_400_pt_40\\offshoot_model\n"
     ]
    },
    {
     "name": "stdout",
     "output_type": "stream",
     "text": [
      "Using default values: prob_thresh=0.5, nms_thresh=0.4.\n",
      "Overriding defaults: Thresholds(prob=0.5534873561706642, nms=0.3) \n"
     ]
    }
   ],
   "source": [
    "import json\n",
    "from stardist.models import Config2D, StarDist2D\n",
    "\n",
    "def load_model(model_path: str) -> StarDist2D:\n",
    "    # Load StarDist model weights, configurations, and thresholds\n",
    "    with open(model_path + '\\\\config.json', 'r') as f:\n",
    "        config = json.load(f)\n",
    "    with open(model_path + '\\\\thresholds.json', 'r') as f:\n",
    "        thresh = json.load(f)\n",
    "    model = StarDist2D(config=Config2D(**config), basedir=model_path, name='offshoot_model')\n",
    "    model.thresholds = thresh\n",
    "    print('Overriding defaults:', model.thresholds, '\\n')\n",
    "    model.load_weights(model_path + '\\\\weights_best.h5')\n",
    "    return model\n",
    "\n",
    "#\n",
    "# CHANGE RIGHT MODEL\n",
    "# model = load_model(r\"\\\\10.99.68.178\\andreex\\data\\Stardist\\qupath_training_annotations\\models\\monkey_ft_11_21_2023_lr_0.001_epochs_400_pt_40\")\n",
    "model = load_model(r\"\\\\10.99.68.178\\andreex\\data\\Stardist\\qupath_training_annotations\\models\\fallopian_tube_12_7_2023_lr_0.001_epochs_400_pt_40\")\n"
   ]
  },
  {
   "cell_type": "markdown",
   "source": [
    "To save prediction outputs, I save as geojson file.\n",
    "By reading this template geojson file, I get the right type info that I need to save"
   ],
   "metadata": {
    "collapsed": false
   }
  },
  {
   "cell_type": "code",
   "execution_count": 9,
   "outputs": [],
   "source": [
    "import json\n",
    "\n",
    "def save_json(result, out_pth, name):\n",
    "    \"\"\"Saves a geojson file with centroids and contours for StarDist output. Useful for loading into qupath\"\"\"\n",
    "    coords = result['coord']\n",
    "    points = result['points']\n",
    "\n",
    "    json_data = []\n",
    "\n",
    "    for i in range(len(points)):\n",
    "        point = points[i]\n",
    "        contour = coords[i]\n",
    "        centroid = [int(point[0]), int(point[1])]\n",
    "        contour = [[float(coord) for coord in xy[::-1]] for xy in contour]\n",
    "\n",
    "        # Create a new dictionary for each contour\n",
    "        dict_data = {\n",
    "            \"centroid\": [centroid],\n",
    "            \"contour\": [contour]\n",
    "        }\n",
    "\n",
    "        json_data.append(dict_data)\n",
    "\n",
    "    new_fn = name[:-5] + '.json'\n",
    "\n",
    "    with open(os.path.join(out_pth, new_fn),'w') as outfile:\n",
    "        json.dump(json_data, outfile)\n",
    "    print('Finished',new_fn)"
   ],
   "metadata": {
    "collapsed": false,
    "ExecuteTime": {
     "end_time": "2024-01-05T10:25:20.655511300Z",
     "start_time": "2024-01-05T10:25:20.615485900Z"
    }
   }
  },
  {
   "cell_type": "code",
   "execution_count": 10,
   "outputs": [
    {
     "name": "stdout",
     "output_type": "stream",
     "text": [
      "\\\\10.162.80.16\\Andre\\data\\Ashleigh fallopian tube\\fallopian tubes\\AJER376\\StarDist_12_11_23\\json\n",
      "\\\\10.162.80.16\\Andre\\data\\Ashleigh fallopian tube\\fallopian tubes\\AJGB283\\StarDist_12_11_23\\json\n",
      "\\\\10.162.80.16\\Andre\\data\\Ashleigh fallopian tube\\fallopian tubes\\AJF232\\StarDist_12_11_23\\json\n",
      "\\\\10.162.80.16\\Andre\\data\\Ashleigh fallopian tube\\fallopian tubes\\AJLC170\\StarDist_12_11_23\\json\n"
     ]
    }
   ],
   "source": [
    "# Name of output folder\n",
    "date = '12_11_23'\n",
    "\n",
    "for pth in pths:\n",
    "    out_pth = os.path.join(pth,f'StarDist_{date}')\n",
    "    if not os.path.exists(out_pth):\n",
    "        os.mkdir(out_pth)\n",
    "    \n",
    "     \n",
    "    out_pth_json = os.path.join(out_pth,'json')\n",
    "    out_pth_tif = os.path.join(out_pth,'tif')\n",
    "    print(out_pth_json)\n",
    "    \n",
    "    if not os.path.exists(out_pth_json):\n",
    "        os.mkdir(out_pth_json)\n",
    "    \n",
    "    if not os.path.exists(out_pth_tif):\n",
    "        os.mkdir(out_pth_tif)"
   ],
   "metadata": {
    "collapsed": false,
    "ExecuteTime": {
     "end_time": "2024-01-05T10:25:20.734099Z",
     "start_time": "2024-01-05T10:25:20.629602700Z"
    }
   }
  },
  {
   "cell_type": "code",
   "execution_count": 11,
   "outputs": [
    {
     "data": {
      "text/plain": "StarDist2D(offshoot_model): YXC → YXC\n├─ Directory: \\\\10.99.68.178\\andreex\\data\\Stardist\\qupath_training_annotations\\models\\fallopian_tube_12_7_2023_lr_0.001_epochs_400_pt_40\\offshoot_model\n└─ Config2D(n_dim=2, axes='YXC', n_channel_in=3, n_channel_out=33, train_checkpoint='weights_best.h5', train_checkpoint_last='weights_last.h5', train_checkpoint_epoch='weights_now.h5', n_rays=32, grid=(2, 2), backbone='unet', n_classes=None, unet_n_depth=3, unet_kernel_size=[3, 3], unet_n_filter_base=32, unet_n_conv_per_depth=2, unet_pool=[2, 2], unet_activation='relu', unet_last_activation='relu', unet_batch_norm=False, unet_dropout=0.0, unet_prefix='', net_conv_after_unet=128, net_input_shape=[None, None, 3], net_mask_shape=[None, None, 1], train_shape_completion=False, train_completion_crop=32, train_patch_size=[256, 256], train_background_reg=0.0001, train_foreground_only=0.9, train_sample_cache=True, train_dist_loss='mae', train_loss_weights=[1, 0.2], train_class_weights=[1, 1], train_epochs=400, train_steps_per_epoch=100, train_learning_rate=0.0003, train_batch_size=4, train_n_val_patches=None, train_tensorboard=True, train_reduce_lr={'factor': 0.5, 'patience': 40, 'min_delta': 0}, use_gpu=True)"
     },
     "execution_count": 11,
     "metadata": {},
     "output_type": "execute_result"
    }
   ],
   "source": [
    "model"
   ],
   "metadata": {
    "collapsed": false,
    "ExecuteTime": {
     "end_time": "2024-01-05T10:25:20.778739Z",
     "start_time": "2024-01-05T10:25:20.735601700Z"
    }
   }
  },
  {
   "cell_type": "code",
   "execution_count": 12,
   "outputs": [
    {
     "name": "stdout",
     "output_type": "stream",
     "text": [
      "['\\\\\\\\10.162.80.16\\\\Andre\\\\data\\\\Ashleigh fallopian tube\\\\fallopian tubes\\\\AJER376\\\\fallopian_tubes_AJER376_001.ndpi', '\\\\\\\\10.162.80.16\\\\Andre\\\\data\\\\Ashleigh fallopian tube\\\\fallopian tubes\\\\AJER376\\\\fallopian_tubes_AJER376_003.ndpi', '\\\\\\\\10.162.80.16\\\\Andre\\\\data\\\\Ashleigh fallopian tube\\\\fallopian tubes\\\\AJER376\\\\fallopian_tubes_AJER376_009.ndpi', '\\\\\\\\10.162.80.16\\\\Andre\\\\data\\\\Ashleigh fallopian tube\\\\fallopian tubes\\\\AJER376\\\\fallopian_tubes_AJER376_013.ndpi', '\\\\\\\\10.162.80.16\\\\Andre\\\\data\\\\Ashleigh fallopian tube\\\\fallopian tubes\\\\AJER376\\\\fallopian_tubes_AJER376_015.ndpi', '\\\\\\\\10.162.80.16\\\\Andre\\\\data\\\\Ashleigh fallopian tube\\\\fallopian tubes\\\\AJER376\\\\fallopian_tubes_AJER376_017.ndpi', '\\\\\\\\10.162.80.16\\\\Andre\\\\data\\\\Ashleigh fallopian tube\\\\fallopian tubes\\\\AJER376\\\\fallopian_tubes_AJER376_019.ndpi', '\\\\\\\\10.162.80.16\\\\Andre\\\\data\\\\Ashleigh fallopian tube\\\\fallopian tubes\\\\AJER376\\\\fallopian_tubes_AJER376_021.ndpi', '\\\\\\\\10.162.80.16\\\\Andre\\\\data\\\\Ashleigh fallopian tube\\\\fallopian tubes\\\\AJER376\\\\fallopian_tubes_AJER376_023.ndpi', '\\\\\\\\10.162.80.16\\\\Andre\\\\data\\\\Ashleigh fallopian tube\\\\fallopian tubes\\\\AJER376\\\\fallopian_tubes_AJER376_025.ndpi', '\\\\\\\\10.162.80.16\\\\Andre\\\\data\\\\Ashleigh fallopian tube\\\\fallopian tubes\\\\AJER376\\\\fallopian_tubes_AJER376_027.ndpi', '\\\\\\\\10.162.80.16\\\\Andre\\\\data\\\\Ashleigh fallopian tube\\\\fallopian tubes\\\\AJER376\\\\fallopian_tubes_AJER376_029.ndpi', '\\\\\\\\10.162.80.16\\\\Andre\\\\data\\\\Ashleigh fallopian tube\\\\fallopian tubes\\\\AJER376\\\\fallopian_tubes_AJER376_031.ndpi', '\\\\\\\\10.162.80.16\\\\Andre\\\\data\\\\Ashleigh fallopian tube\\\\fallopian tubes\\\\AJER376\\\\fallopian_tubes_AJER376_033.ndpi', '\\\\\\\\10.162.80.16\\\\Andre\\\\data\\\\Ashleigh fallopian tube\\\\fallopian tubes\\\\AJER376\\\\fallopian_tubes_AJER376_035.ndpi', '\\\\\\\\10.162.80.16\\\\Andre\\\\data\\\\Ashleigh fallopian tube\\\\fallopian tubes\\\\AJER376\\\\fallopian_tubes_AJER376_037.ndpi', '\\\\\\\\10.162.80.16\\\\Andre\\\\data\\\\Ashleigh fallopian tube\\\\fallopian tubes\\\\AJER376\\\\fallopian_tubes_AJER376_039.ndpi', '\\\\\\\\10.162.80.16\\\\Andre\\\\data\\\\Ashleigh fallopian tube\\\\fallopian tubes\\\\AJER376\\\\fallopian_tubes_AJER376_041.ndpi', '\\\\\\\\10.162.80.16\\\\Andre\\\\data\\\\Ashleigh fallopian tube\\\\fallopian tubes\\\\AJER376\\\\fallopian_tubes_AJER376_043.ndpi', '\\\\\\\\10.162.80.16\\\\Andre\\\\data\\\\Ashleigh fallopian tube\\\\fallopian tubes\\\\AJER376\\\\fallopian_tubes_AJER376_045.ndpi', '\\\\\\\\10.162.80.16\\\\Andre\\\\data\\\\Ashleigh fallopian tube\\\\fallopian tubes\\\\AJER376\\\\fallopian_tubes_AJER376_047.ndpi', '\\\\\\\\10.162.80.16\\\\Andre\\\\data\\\\Ashleigh fallopian tube\\\\fallopian tubes\\\\AJER376\\\\fallopian_tubes_AJER376_053.ndpi', '\\\\\\\\10.162.80.16\\\\Andre\\\\data\\\\Ashleigh fallopian tube\\\\fallopian tubes\\\\AJER376\\\\fallopian_tubes_AJER376_055.ndpi', '\\\\\\\\10.162.80.16\\\\Andre\\\\data\\\\Ashleigh fallopian tube\\\\fallopian tubes\\\\AJER376\\\\fallopian_tubes_AJER376_057.ndpi', '\\\\\\\\10.162.80.16\\\\Andre\\\\data\\\\Ashleigh fallopian tube\\\\fallopian tubes\\\\AJER376\\\\fallopian_tubes_AJER376_059.ndpi', '\\\\\\\\10.162.80.16\\\\Andre\\\\data\\\\Ashleigh fallopian tube\\\\fallopian tubes\\\\AJER376\\\\fallopian_tubes_AJER376_061.ndpi', '\\\\\\\\10.162.80.16\\\\Andre\\\\data\\\\Ashleigh fallopian tube\\\\fallopian tubes\\\\AJER376\\\\fallopian_tubes_AJER376_063.ndpi', '\\\\\\\\10.162.80.16\\\\Andre\\\\data\\\\Ashleigh fallopian tube\\\\fallopian tubes\\\\AJER376\\\\fallopian_tubes_AJER376_065.ndpi', '\\\\\\\\10.162.80.16\\\\Andre\\\\data\\\\Ashleigh fallopian tube\\\\fallopian tubes\\\\AJER376\\\\fallopian_tubes_AJER376_067.ndpi', '\\\\\\\\10.162.80.16\\\\Andre\\\\data\\\\Ashleigh fallopian tube\\\\fallopian tubes\\\\AJER376\\\\fallopian_tubes_AJER376_069.ndpi', '\\\\\\\\10.162.80.16\\\\Andre\\\\data\\\\Ashleigh fallopian tube\\\\fallopian tubes\\\\AJER376\\\\fallopian_tubes_AJER376_071.ndpi', '\\\\\\\\10.162.80.16\\\\Andre\\\\data\\\\Ashleigh fallopian tube\\\\fallopian tubes\\\\AJER376\\\\fallopian_tubes_AJER376_073.ndpi', '\\\\\\\\10.162.80.16\\\\Andre\\\\data\\\\Ashleigh fallopian tube\\\\fallopian tubes\\\\AJER376\\\\fallopian_tubes_AJER376_075.ndpi', '\\\\\\\\10.162.80.16\\\\Andre\\\\data\\\\Ashleigh fallopian tube\\\\fallopian tubes\\\\AJER376\\\\fallopian_tubes_AJER376_077.ndpi', '\\\\\\\\10.162.80.16\\\\Andre\\\\data\\\\Ashleigh fallopian tube\\\\fallopian tubes\\\\AJER376\\\\fallopian_tubes_AJER376_079.ndpi', '\\\\\\\\10.162.80.16\\\\Andre\\\\data\\\\Ashleigh fallopian tube\\\\fallopian tubes\\\\AJER376\\\\fallopian_tubes_AJER376_081.ndpi', '\\\\\\\\10.162.80.16\\\\Andre\\\\data\\\\Ashleigh fallopian tube\\\\fallopian tubes\\\\AJER376\\\\fallopian_tubes_AJER376_083.ndpi', '\\\\\\\\10.162.80.16\\\\Andre\\\\data\\\\Ashleigh fallopian tube\\\\fallopian tubes\\\\AJER376\\\\fallopian_tubes_AJER376_085.ndpi', '\\\\\\\\10.162.80.16\\\\Andre\\\\data\\\\Ashleigh fallopian tube\\\\fallopian tubes\\\\AJER376\\\\fallopian_tubes_AJER376_087.ndpi', '\\\\\\\\10.162.80.16\\\\Andre\\\\data\\\\Ashleigh fallopian tube\\\\fallopian tubes\\\\AJER376\\\\fallopian_tubes_AJER376_089.ndpi', '\\\\\\\\10.162.80.16\\\\Andre\\\\data\\\\Ashleigh fallopian tube\\\\fallopian tubes\\\\AJER376\\\\fallopian_tubes_AJER376_091.ndpi', '\\\\\\\\10.162.80.16\\\\Andre\\\\data\\\\Ashleigh fallopian tube\\\\fallopian tubes\\\\AJER376\\\\fallopian_tubes_AJER376_093.ndpi', '\\\\\\\\10.162.80.16\\\\Andre\\\\data\\\\Ashleigh fallopian tube\\\\fallopian tubes\\\\AJER376\\\\fallopian_tubes_AJER376_095.ndpi', '\\\\\\\\10.162.80.16\\\\Andre\\\\data\\\\Ashleigh fallopian tube\\\\fallopian tubes\\\\AJER376\\\\fallopian_tubes_AJER376_097.ndpi', '\\\\\\\\10.162.80.16\\\\Andre\\\\data\\\\Ashleigh fallopian tube\\\\fallopian tubes\\\\AJER376\\\\fallopian_tubes_AJER376_099.ndpi', '\\\\\\\\10.162.80.16\\\\Andre\\\\data\\\\Ashleigh fallopian tube\\\\fallopian tubes\\\\AJER376\\\\fallopian_tubes_AJER376_101.ndpi', '\\\\\\\\10.162.80.16\\\\Andre\\\\data\\\\Ashleigh fallopian tube\\\\fallopian tubes\\\\AJER376\\\\fallopian_tubes_AJER376_103.ndpi', '\\\\\\\\10.162.80.16\\\\Andre\\\\data\\\\Ashleigh fallopian tube\\\\fallopian tubes\\\\AJER376\\\\fallopian_tubes_AJER376_105.ndpi', '\\\\\\\\10.162.80.16\\\\Andre\\\\data\\\\Ashleigh fallopian tube\\\\fallopian tubes\\\\AJER376\\\\fallopian_tubes_AJER376_107.ndpi', '\\\\\\\\10.162.80.16\\\\Andre\\\\data\\\\Ashleigh fallopian tube\\\\fallopian tubes\\\\AJER376\\\\fallopian_tubes_AJER376_109.ndpi', '\\\\\\\\10.162.80.16\\\\Andre\\\\data\\\\Ashleigh fallopian tube\\\\fallopian tubes\\\\AJER376\\\\fallopian_tubes_AJER376_111.ndpi', '\\\\\\\\10.162.80.16\\\\Andre\\\\data\\\\Ashleigh fallopian tube\\\\fallopian tubes\\\\AJER376\\\\fallopian_tubes_AJER376_113.ndpi', '\\\\\\\\10.162.80.16\\\\Andre\\\\data\\\\Ashleigh fallopian tube\\\\fallopian tubes\\\\AJER376\\\\fallopian_tubes_AJER376_115.ndpi', '\\\\\\\\10.162.80.16\\\\Andre\\\\data\\\\Ashleigh fallopian tube\\\\fallopian tubes\\\\AJER376\\\\fallopian_tubes_AJER376_117.ndpi', '\\\\\\\\10.162.80.16\\\\Andre\\\\data\\\\Ashleigh fallopian tube\\\\fallopian tubes\\\\AJER376\\\\fallopian_tubes_AJER376_119.ndpi', '\\\\\\\\10.162.80.16\\\\Andre\\\\data\\\\Ashleigh fallopian tube\\\\fallopian tubes\\\\AJER376\\\\fallopian_tubes_AJER376_121.ndpi', '\\\\\\\\10.162.80.16\\\\Andre\\\\data\\\\Ashleigh fallopian tube\\\\fallopian tubes\\\\AJER376\\\\fallopian_tubes_AJER376_123.ndpi', '\\\\\\\\10.162.80.16\\\\Andre\\\\data\\\\Ashleigh fallopian tube\\\\fallopian tubes\\\\AJER376\\\\fallopian_tubes_AJER376_125.ndpi', '\\\\\\\\10.162.80.16\\\\Andre\\\\data\\\\Ashleigh fallopian tube\\\\fallopian tubes\\\\AJER376\\\\fallopian_tubes_AJER376_127.ndpi', '\\\\\\\\10.162.80.16\\\\Andre\\\\data\\\\Ashleigh fallopian tube\\\\fallopian tubes\\\\AJER376\\\\fallopian_tubes_AJER376_129.ndpi', '\\\\\\\\10.162.80.16\\\\Andre\\\\data\\\\Ashleigh fallopian tube\\\\fallopian tubes\\\\AJER376\\\\fallopian_tubes_AJER376_131.ndpi', '\\\\\\\\10.162.80.16\\\\Andre\\\\data\\\\Ashleigh fallopian tube\\\\fallopian tubes\\\\AJER376\\\\fallopian_tubes_AJER376_133.ndpi', '\\\\\\\\10.162.80.16\\\\Andre\\\\data\\\\Ashleigh fallopian tube\\\\fallopian tubes\\\\AJER376\\\\fallopian_tubes_AJER376_135.ndpi', '\\\\\\\\10.162.80.16\\\\Andre\\\\data\\\\Ashleigh fallopian tube\\\\fallopian tubes\\\\AJER376\\\\fallopian_tubes_AJER376_137.ndpi', '\\\\\\\\10.162.80.16\\\\Andre\\\\data\\\\Ashleigh fallopian tube\\\\fallopian tubes\\\\AJER376\\\\fallopian_tubes_AJER376_139.ndpi', '\\\\\\\\10.162.80.16\\\\Andre\\\\data\\\\Ashleigh fallopian tube\\\\fallopian tubes\\\\AJER376\\\\fallopian_tubes_AJER376_141.ndpi', '\\\\\\\\10.162.80.16\\\\Andre\\\\data\\\\Ashleigh fallopian tube\\\\fallopian tubes\\\\AJER376\\\\fallopian_tubes_AJER376_143.ndpi', '\\\\\\\\10.162.80.16\\\\Andre\\\\data\\\\Ashleigh fallopian tube\\\\fallopian tubes\\\\AJER376\\\\fallopian_tubes_AJER376_145.ndpi', '\\\\\\\\10.162.80.16\\\\Andre\\\\data\\\\Ashleigh fallopian tube\\\\fallopian tubes\\\\AJER376\\\\fallopian_tubes_AJER376_147.ndpi', '\\\\\\\\10.162.80.16\\\\Andre\\\\data\\\\Ashleigh fallopian tube\\\\fallopian tubes\\\\AJER376\\\\fallopian_tubes_AJER376_149.ndpi', '\\\\\\\\10.162.80.16\\\\Andre\\\\data\\\\Ashleigh fallopian tube\\\\fallopian tubes\\\\AJER376\\\\fallopian_tubes_AJER376_151.ndpi', '\\\\\\\\10.162.80.16\\\\Andre\\\\data\\\\Ashleigh fallopian tube\\\\fallopian tubes\\\\AJER376\\\\fallopian_tubes_AJER376_153.ndpi', '\\\\\\\\10.162.80.16\\\\Andre\\\\data\\\\Ashleigh fallopian tube\\\\fallopian tubes\\\\AJER376\\\\fallopian_tubes_AJER376_155.ndpi', '\\\\\\\\10.162.80.16\\\\Andre\\\\data\\\\Ashleigh fallopian tube\\\\fallopian tubes\\\\AJER376\\\\fallopian_tubes_AJER376_157.ndpi', '\\\\\\\\10.162.80.16\\\\Andre\\\\data\\\\Ashleigh fallopian tube\\\\fallopian tubes\\\\AJER376\\\\fallopian_tubes_AJER376_159.ndpi', '\\\\\\\\10.162.80.16\\\\Andre\\\\data\\\\Ashleigh fallopian tube\\\\fallopian tubes\\\\AJER376\\\\fallopian_tubes_AJER376_161.ndpi', '\\\\\\\\10.162.80.16\\\\Andre\\\\data\\\\Ashleigh fallopian tube\\\\fallopian tubes\\\\AJER376\\\\fallopian_tubes_AJER376_163.ndpi', '\\\\\\\\10.162.80.16\\\\Andre\\\\data\\\\Ashleigh fallopian tube\\\\fallopian tubes\\\\AJER376\\\\fallopian_tubes_AJER376_165.ndpi', '\\\\\\\\10.162.80.16\\\\Andre\\\\data\\\\Ashleigh fallopian tube\\\\fallopian tubes\\\\AJER376\\\\fallopian_tubes_AJER376_167.ndpi', '\\\\\\\\10.162.80.16\\\\Andre\\\\data\\\\Ashleigh fallopian tube\\\\fallopian tubes\\\\AJER376\\\\fallopian_tubes_AJER376_169.ndpi', '\\\\\\\\10.162.80.16\\\\Andre\\\\data\\\\Ashleigh fallopian tube\\\\fallopian tubes\\\\AJER376\\\\fallopian_tubes_AJER376_171.ndpi', '\\\\\\\\10.162.80.16\\\\Andre\\\\data\\\\Ashleigh fallopian tube\\\\fallopian tubes\\\\AJER376\\\\fallopian_tubes_AJER376_173.ndpi', '\\\\\\\\10.162.80.16\\\\Andre\\\\data\\\\Ashleigh fallopian tube\\\\fallopian tubes\\\\AJER376\\\\fallopian_tubes_AJER376_175.ndpi', '\\\\\\\\10.162.80.16\\\\Andre\\\\data\\\\Ashleigh fallopian tube\\\\fallopian tubes\\\\AJER376\\\\fallopian_tubes_AJER376_177.ndpi', '\\\\\\\\10.162.80.16\\\\Andre\\\\data\\\\Ashleigh fallopian tube\\\\fallopian tubes\\\\AJER376\\\\fallopian_tubes_AJER376_179.ndpi', '\\\\\\\\10.162.80.16\\\\Andre\\\\data\\\\Ashleigh fallopian tube\\\\fallopian tubes\\\\AJER376\\\\fallopian_tubes_AJER376_181.ndpi', '\\\\\\\\10.162.80.16\\\\Andre\\\\data\\\\Ashleigh fallopian tube\\\\fallopian tubes\\\\AJER376\\\\fallopian_tubes_AJER376_183.ndpi', '\\\\\\\\10.162.80.16\\\\Andre\\\\data\\\\Ashleigh fallopian tube\\\\fallopian tubes\\\\AJER376\\\\fallopian_tubes_AJER376_185.ndpi', '\\\\\\\\10.162.80.16\\\\Andre\\\\data\\\\Ashleigh fallopian tube\\\\fallopian tubes\\\\AJER376\\\\fallopian_tubes_AJER376_187.ndpi', '\\\\\\\\10.162.80.16\\\\Andre\\\\data\\\\Ashleigh fallopian tube\\\\fallopian tubes\\\\AJER376\\\\fallopian_tubes_AJER376_189.ndpi', '\\\\\\\\10.162.80.16\\\\Andre\\\\data\\\\Ashleigh fallopian tube\\\\fallopian tubes\\\\AJER376\\\\fallopian_tubes_AJER376_191.ndpi', '\\\\\\\\10.162.80.16\\\\Andre\\\\data\\\\Ashleigh fallopian tube\\\\fallopian tubes\\\\AJER376\\\\fallopian_tubes_AJER376_193.ndpi', '\\\\\\\\10.162.80.16\\\\Andre\\\\data\\\\Ashleigh fallopian tube\\\\fallopian tubes\\\\AJER376\\\\fallopian_tubes_AJER376_195.ndpi', '\\\\\\\\10.162.80.16\\\\Andre\\\\data\\\\Ashleigh fallopian tube\\\\fallopian tubes\\\\AJER376\\\\fallopian_tubes_AJER376_197.ndpi', '\\\\\\\\10.162.80.16\\\\Andre\\\\data\\\\Ashleigh fallopian tube\\\\fallopian tubes\\\\AJER376\\\\fallopian_tubes_AJER376_199.ndpi', '\\\\\\\\10.162.80.16\\\\Andre\\\\data\\\\Ashleigh fallopian tube\\\\fallopian tubes\\\\AJER376\\\\fallopian_tubes_AJER376_201.ndpi', '\\\\\\\\10.162.80.16\\\\Andre\\\\data\\\\Ashleigh fallopian tube\\\\fallopian tubes\\\\AJER376\\\\fallopian_tubes_AJER376_203.ndpi', '\\\\\\\\10.162.80.16\\\\Andre\\\\data\\\\Ashleigh fallopian tube\\\\fallopian tubes\\\\AJER376\\\\fallopian_tubes_AJER376_205.ndpi', '\\\\\\\\10.162.80.16\\\\Andre\\\\data\\\\Ashleigh fallopian tube\\\\fallopian tubes\\\\AJER376\\\\fallopian_tubes_AJER376_207.ndpi', '\\\\\\\\10.162.80.16\\\\Andre\\\\data\\\\Ashleigh fallopian tube\\\\fallopian tubes\\\\AJER376\\\\fallopian_tubes_AJER376_209.ndpi', '\\\\\\\\10.162.80.16\\\\Andre\\\\data\\\\Ashleigh fallopian tube\\\\fallopian tubes\\\\AJER376\\\\fallopian_tubes_AJER376_211.ndpi', '\\\\\\\\10.162.80.16\\\\Andre\\\\data\\\\Ashleigh fallopian tube\\\\fallopian tubes\\\\AJER376\\\\fallopian_tubes_AJER376_213.ndpi', '\\\\\\\\10.162.80.16\\\\Andre\\\\data\\\\Ashleigh fallopian tube\\\\fallopian tubes\\\\AJER376\\\\fallopian_tubes_AJER376_215.ndpi', '\\\\\\\\10.162.80.16\\\\Andre\\\\data\\\\Ashleigh fallopian tube\\\\fallopian tubes\\\\AJER376\\\\fallopian_tubes_AJER376_217.ndpi', '\\\\\\\\10.162.80.16\\\\Andre\\\\data\\\\Ashleigh fallopian tube\\\\fallopian tubes\\\\AJER376\\\\fallopian_tubes_AJER376_219.ndpi', '\\\\\\\\10.162.80.16\\\\Andre\\\\data\\\\Ashleigh fallopian tube\\\\fallopian tubes\\\\AJER376\\\\fallopian_tubes_AJER376_221.ndpi', '\\\\\\\\10.162.80.16\\\\Andre\\\\data\\\\Ashleigh fallopian tube\\\\fallopian tubes\\\\AJER376\\\\fallopian_tubes_AJER376_223.ndpi', '\\\\\\\\10.162.80.16\\\\Andre\\\\data\\\\Ashleigh fallopian tube\\\\fallopian tubes\\\\AJER376\\\\fallopian_tubes_AJER376_225.ndpi', '\\\\\\\\10.162.80.16\\\\Andre\\\\data\\\\Ashleigh fallopian tube\\\\fallopian tubes\\\\AJER376\\\\fallopian_tubes_AJER376_227.ndpi', '\\\\\\\\10.162.80.16\\\\Andre\\\\data\\\\Ashleigh fallopian tube\\\\fallopian tubes\\\\AJER376\\\\fallopian_tubes_AJER376_229.ndpi', '\\\\\\\\10.162.80.16\\\\Andre\\\\data\\\\Ashleigh fallopian tube\\\\fallopian tubes\\\\AJER376\\\\fallopian_tubes_AJER376_231.ndpi', '\\\\\\\\10.162.80.16\\\\Andre\\\\data\\\\Ashleigh fallopian tube\\\\fallopian tubes\\\\AJER376\\\\fallopian_tubes_AJER376_233.ndpi', '\\\\\\\\10.162.80.16\\\\Andre\\\\data\\\\Ashleigh fallopian tube\\\\fallopian tubes\\\\AJER376\\\\fallopian_tubes_AJER376_235.ndpi', '\\\\\\\\10.162.80.16\\\\Andre\\\\data\\\\Ashleigh fallopian tube\\\\fallopian tubes\\\\AJER376\\\\fallopian_tubes_AJER376_237.ndpi', '\\\\\\\\10.162.80.16\\\\Andre\\\\data\\\\Ashleigh fallopian tube\\\\fallopian tubes\\\\AJER376\\\\fallopian_tubes_AJER376_239.ndpi', '\\\\\\\\10.162.80.16\\\\Andre\\\\data\\\\Ashleigh fallopian tube\\\\fallopian tubes\\\\AJER376\\\\fallopian_tubes_AJER376_243.ndpi', '\\\\\\\\10.162.80.16\\\\Andre\\\\data\\\\Ashleigh fallopian tube\\\\fallopian tubes\\\\AJER376\\\\fallopian_tubes_AJER376_245.ndpi', '\\\\\\\\10.162.80.16\\\\Andre\\\\data\\\\Ashleigh fallopian tube\\\\fallopian tubes\\\\AJER376\\\\fallopian_tubes_AJER376_249.ndpi', '\\\\\\\\10.162.80.16\\\\Andre\\\\data\\\\Ashleigh fallopian tube\\\\fallopian tubes\\\\AJER376\\\\fallopian_tubes_AJER376_251.ndpi', '\\\\\\\\10.162.80.16\\\\Andre\\\\data\\\\Ashleigh fallopian tube\\\\fallopian tubes\\\\AJER376\\\\fallopian_tubes_AJER376_253.ndpi', '\\\\\\\\10.162.80.16\\\\Andre\\\\data\\\\Ashleigh fallopian tube\\\\fallopian tubes\\\\AJER376\\\\fallopian_tubes_AJER376_255.ndpi', '\\\\\\\\10.162.80.16\\\\Andre\\\\data\\\\Ashleigh fallopian tube\\\\fallopian tubes\\\\AJER376\\\\fallopian_tubes_AJER376_257.ndpi', '\\\\\\\\10.162.80.16\\\\Andre\\\\data\\\\Ashleigh fallopian tube\\\\fallopian tubes\\\\AJER376\\\\fallopian_tubes_AJER376_259.ndpi', '\\\\\\\\10.162.80.16\\\\Andre\\\\data\\\\Ashleigh fallopian tube\\\\fallopian tubes\\\\AJER376\\\\fallopian_tubes_AJER376_261.ndpi', '\\\\\\\\10.162.80.16\\\\Andre\\\\data\\\\Ashleigh fallopian tube\\\\fallopian tubes\\\\AJER376\\\\fallopian_tubes_AJER376_263.ndpi', '\\\\\\\\10.162.80.16\\\\Andre\\\\data\\\\Ashleigh fallopian tube\\\\fallopian tubes\\\\AJER376\\\\fallopian_tubes_AJER376_265.ndpi', '\\\\\\\\10.162.80.16\\\\Andre\\\\data\\\\Ashleigh fallopian tube\\\\fallopian tubes\\\\AJER376\\\\fallopian_tubes_AJER376_267.ndpi', '\\\\\\\\10.162.80.16\\\\Andre\\\\data\\\\Ashleigh fallopian tube\\\\fallopian tubes\\\\AJER376\\\\fallopian_tubes_AJER376_271.ndpi', '\\\\\\\\10.162.80.16\\\\Andre\\\\data\\\\Ashleigh fallopian tube\\\\fallopian tubes\\\\AJER376\\\\fallopian_tubes_AJER376_273.ndpi', '\\\\\\\\10.162.80.16\\\\Andre\\\\data\\\\Ashleigh fallopian tube\\\\fallopian tubes\\\\AJER376\\\\fallopian_tubes_AJER376_275.ndpi', '\\\\\\\\10.162.80.16\\\\Andre\\\\data\\\\Ashleigh fallopian tube\\\\fallopian tubes\\\\AJER376\\\\fallopian_tubes_AJER376_277.ndpi', '\\\\\\\\10.162.80.16\\\\Andre\\\\data\\\\Ashleigh fallopian tube\\\\fallopian tubes\\\\AJER376\\\\fallopian_tubes_AJER376_279.ndpi', '\\\\\\\\10.162.80.16\\\\Andre\\\\data\\\\Ashleigh fallopian tube\\\\fallopian tubes\\\\AJER376\\\\fallopian_tubes_AJER376_281.ndpi', '\\\\\\\\10.162.80.16\\\\Andre\\\\data\\\\Ashleigh fallopian tube\\\\fallopian tubes\\\\AJER376\\\\fallopian_tubes_AJER376_283.ndpi', '\\\\\\\\10.162.80.16\\\\Andre\\\\data\\\\Ashleigh fallopian tube\\\\fallopian tubes\\\\AJER376\\\\fallopian_tubes_AJER376_285.ndpi', '\\\\\\\\10.162.80.16\\\\Andre\\\\data\\\\Ashleigh fallopian tube\\\\fallopian tubes\\\\AJER376\\\\fallopian_tubes_AJER376_287.ndpi', '\\\\\\\\10.162.80.16\\\\Andre\\\\data\\\\Ashleigh fallopian tube\\\\fallopian tubes\\\\AJER376\\\\fallopian_tubes_AJER376_289.ndpi', '\\\\\\\\10.162.80.16\\\\Andre\\\\data\\\\Ashleigh fallopian tube\\\\fallopian tubes\\\\AJER376\\\\fallopian_tubes_AJER376_291.ndpi', '\\\\\\\\10.162.80.16\\\\Andre\\\\data\\\\Ashleigh fallopian tube\\\\fallopian tubes\\\\AJER376\\\\fallopian_tubes_AJER376_293.ndpi', '\\\\\\\\10.162.80.16\\\\Andre\\\\data\\\\Ashleigh fallopian tube\\\\fallopian tubes\\\\AJER376\\\\fallopian_tubes_AJER376_295.ndpi', '\\\\\\\\10.162.80.16\\\\Andre\\\\data\\\\Ashleigh fallopian tube\\\\fallopian tubes\\\\AJER376\\\\fallopian_tubes_AJER376_297.ndpi', '\\\\\\\\10.162.80.16\\\\Andre\\\\data\\\\Ashleigh fallopian tube\\\\fallopian tubes\\\\AJER376\\\\fallopian_tubes_AJER376_299.ndpi', '\\\\\\\\10.162.80.16\\\\Andre\\\\data\\\\Ashleigh fallopian tube\\\\fallopian tubes\\\\AJER376\\\\fallopian_tubes_AJER376_301.ndpi', '\\\\\\\\10.162.80.16\\\\Andre\\\\data\\\\Ashleigh fallopian tube\\\\fallopian tubes\\\\AJER376\\\\fallopian_tubes_AJER376_303.ndpi', '\\\\\\\\10.162.80.16\\\\Andre\\\\data\\\\Ashleigh fallopian tube\\\\fallopian tubes\\\\AJER376\\\\fallopian_tubes_AJER376_305.ndpi', '\\\\\\\\10.162.80.16\\\\Andre\\\\data\\\\Ashleigh fallopian tube\\\\fallopian tubes\\\\AJER376\\\\fallopian_tubes_AJER376_307.ndpi', '\\\\\\\\10.162.80.16\\\\Andre\\\\data\\\\Ashleigh fallopian tube\\\\fallopian tubes\\\\AJER376\\\\fallopian_tubes_AJER376_309.ndpi', '\\\\\\\\10.162.80.16\\\\Andre\\\\data\\\\Ashleigh fallopian tube\\\\fallopian tubes\\\\AJER376\\\\fallopian_tubes_AJER376_311.ndpi', '\\\\\\\\10.162.80.16\\\\Andre\\\\data\\\\Ashleigh fallopian tube\\\\fallopian tubes\\\\AJER376\\\\fallopian_tubes_AJER376_313.ndpi', '\\\\\\\\10.162.80.16\\\\Andre\\\\data\\\\Ashleigh fallopian tube\\\\fallopian tubes\\\\AJER376\\\\fallopian_tubes_AJER376_315.ndpi', '\\\\\\\\10.162.80.16\\\\Andre\\\\data\\\\Ashleigh fallopian tube\\\\fallopian tubes\\\\AJER376\\\\fallopian_tubes_AJER376_317.ndpi', '\\\\\\\\10.162.80.16\\\\Andre\\\\data\\\\Ashleigh fallopian tube\\\\fallopian tubes\\\\AJER376\\\\fallopian_tubes_AJER376_319.ndpi', '\\\\\\\\10.162.80.16\\\\Andre\\\\data\\\\Ashleigh fallopian tube\\\\fallopian tubes\\\\AJER376\\\\fallopian_tubes_AJER376_321.ndpi', '\\\\\\\\10.162.80.16\\\\Andre\\\\data\\\\Ashleigh fallopian tube\\\\fallopian tubes\\\\AJER376\\\\fallopian_tubes_AJER376_323.ndpi', '\\\\\\\\10.162.80.16\\\\Andre\\\\data\\\\Ashleigh fallopian tube\\\\fallopian tubes\\\\AJER376\\\\fallopian_tubes_AJER376_325.ndpi', '\\\\\\\\10.162.80.16\\\\Andre\\\\data\\\\Ashleigh fallopian tube\\\\fallopian tubes\\\\AJER376\\\\fallopian_tubes_AJER376_327.ndpi', '\\\\\\\\10.162.80.16\\\\Andre\\\\data\\\\Ashleigh fallopian tube\\\\fallopian tubes\\\\AJER376\\\\fallopian_tubes_AJER376_329.ndpi', '\\\\\\\\10.162.80.16\\\\Andre\\\\data\\\\Ashleigh fallopian tube\\\\fallopian tubes\\\\AJER376\\\\fallopian_tubes_AJER376_331.ndpi', '\\\\\\\\10.162.80.16\\\\Andre\\\\data\\\\Ashleigh fallopian tube\\\\fallopian tubes\\\\AJER376\\\\fallopian_tubes_AJER376_333.ndpi', '\\\\\\\\10.162.80.16\\\\Andre\\\\data\\\\Ashleigh fallopian tube\\\\fallopian tubes\\\\AJER376\\\\fallopian_tubes_AJER376_335.ndpi', '\\\\\\\\10.162.80.16\\\\Andre\\\\data\\\\Ashleigh fallopian tube\\\\fallopian tubes\\\\AJER376\\\\fallopian_tubes_AJER376_337.ndpi', '\\\\\\\\10.162.80.16\\\\Andre\\\\data\\\\Ashleigh fallopian tube\\\\fallopian tubes\\\\AJER376\\\\fallopian_tubes_AJER376_339.ndpi', '\\\\\\\\10.162.80.16\\\\Andre\\\\data\\\\Ashleigh fallopian tube\\\\fallopian tubes\\\\AJER376\\\\fallopian_tubes_AJER376_341.ndpi', '\\\\\\\\10.162.80.16\\\\Andre\\\\data\\\\Ashleigh fallopian tube\\\\fallopian tubes\\\\AJER376\\\\fallopian_tubes_AJER376_345.ndpi', '\\\\\\\\10.162.80.16\\\\Andre\\\\data\\\\Ashleigh fallopian tube\\\\fallopian tubes\\\\AJER376\\\\fallopian_tubes_AJER376_347.ndpi', '\\\\\\\\10.162.80.16\\\\Andre\\\\data\\\\Ashleigh fallopian tube\\\\fallopian tubes\\\\AJER376\\\\fallopian_tubes_AJER376_349.ndpi', '\\\\\\\\10.162.80.16\\\\Andre\\\\data\\\\Ashleigh fallopian tube\\\\fallopian tubes\\\\AJER376\\\\fallopian_tubes_AJER376_351.ndpi', '\\\\\\\\10.162.80.16\\\\Andre\\\\data\\\\Ashleigh fallopian tube\\\\fallopian tubes\\\\AJER376\\\\fallopian_tubes_AJER376_353.ndpi', '\\\\\\\\10.162.80.16\\\\Andre\\\\data\\\\Ashleigh fallopian tube\\\\fallopian tubes\\\\AJER376\\\\fallopian_tubes_AJER376_355.ndpi', '\\\\\\\\10.162.80.16\\\\Andre\\\\data\\\\Ashleigh fallopian tube\\\\fallopian tubes\\\\AJER376\\\\fallopian_tubes_AJER376_357.ndpi', '\\\\\\\\10.162.80.16\\\\Andre\\\\data\\\\Ashleigh fallopian tube\\\\fallopian tubes\\\\AJER376\\\\fallopian_tubes_AJER376_359.ndpi', '\\\\\\\\10.162.80.16\\\\Andre\\\\data\\\\Ashleigh fallopian tube\\\\fallopian tubes\\\\AJER376\\\\fallopian_tubes_AJER376_361.ndpi', '\\\\\\\\10.162.80.16\\\\Andre\\\\data\\\\Ashleigh fallopian tube\\\\fallopian tubes\\\\AJER376\\\\fallopian_tubes_AJER376_363.ndpi', '\\\\\\\\10.162.80.16\\\\Andre\\\\data\\\\Ashleigh fallopian tube\\\\fallopian tubes\\\\AJER376\\\\fallopian_tubes_AJER376_365.ndpi', '\\\\\\\\10.162.80.16\\\\Andre\\\\data\\\\Ashleigh fallopian tube\\\\fallopian tubes\\\\AJER376\\\\fallopian_tubes_AJER376_367.ndpi', '\\\\\\\\10.162.80.16\\\\Andre\\\\data\\\\Ashleigh fallopian tube\\\\fallopian tubes\\\\AJER376\\\\fallopian_tubes_AJER376_369.ndpi', '\\\\\\\\10.162.80.16\\\\Andre\\\\data\\\\Ashleigh fallopian tube\\\\fallopian tubes\\\\AJER376\\\\fallopian_tubes_AJER376_371.ndpi', '\\\\\\\\10.162.80.16\\\\Andre\\\\data\\\\Ashleigh fallopian tube\\\\fallopian tubes\\\\AJER376\\\\fallopian_tubes_AJER376_373.ndpi', '\\\\\\\\10.162.80.16\\\\Andre\\\\data\\\\Ashleigh fallopian tube\\\\fallopian tubes\\\\AJER376\\\\fallopian_tubes_AJER376_375.ndpi', '\\\\\\\\10.162.80.16\\\\Andre\\\\data\\\\Ashleigh fallopian tube\\\\fallopian tubes\\\\AJER376\\\\fallopian_tubes_AJER376_377.ndpi', '\\\\\\\\10.162.80.16\\\\Andre\\\\data\\\\Ashleigh fallopian tube\\\\fallopian tubes\\\\AJER376\\\\fallopian_tubes_AJER376_379.ndpi', '\\\\\\\\10.162.80.16\\\\Andre\\\\data\\\\Ashleigh fallopian tube\\\\fallopian tubes\\\\AJER376\\\\fallopian_tubes_AJER376_381.ndpi', '\\\\\\\\10.162.80.16\\\\Andre\\\\data\\\\Ashleigh fallopian tube\\\\fallopian tubes\\\\AJER376\\\\fallopian_tubes_AJER376_383.ndpi', '\\\\\\\\10.162.80.16\\\\Andre\\\\data\\\\Ashleigh fallopian tube\\\\fallopian tubes\\\\AJER376\\\\fallopian_tubes_AJER376_385.ndpi', '\\\\\\\\10.162.80.16\\\\Andre\\\\data\\\\Ashleigh fallopian tube\\\\fallopian tubes\\\\AJER376\\\\fallopian_tubes_AJER376_387.ndpi', '\\\\\\\\10.162.80.16\\\\Andre\\\\data\\\\Ashleigh fallopian tube\\\\fallopian tubes\\\\AJER376\\\\fallopian_tubes_AJER376_389.ndpi', '\\\\\\\\10.162.80.16\\\\Andre\\\\data\\\\Ashleigh fallopian tube\\\\fallopian tubes\\\\AJER376\\\\fallopian_tubes_AJER376_391.ndpi', '\\\\\\\\10.162.80.16\\\\Andre\\\\data\\\\Ashleigh fallopian tube\\\\fallopian tubes\\\\AJER376\\\\fallopian_tubes_AJER376_393.ndpi', '\\\\\\\\10.162.80.16\\\\Andre\\\\data\\\\Ashleigh fallopian tube\\\\fallopian tubes\\\\AJER376\\\\fallopian_tubes_AJER376_395.ndpi', '\\\\\\\\10.162.80.16\\\\Andre\\\\data\\\\Ashleigh fallopian tube\\\\fallopian tubes\\\\AJER376\\\\fallopian_tubes_AJER376_397.ndpi', '\\\\\\\\10.162.80.16\\\\Andre\\\\data\\\\Ashleigh fallopian tube\\\\fallopian tubes\\\\AJER376\\\\fallopian_tubes_AJER376_399.ndpi', '\\\\\\\\10.162.80.16\\\\Andre\\\\data\\\\Ashleigh fallopian tube\\\\fallopian tubes\\\\AJER376\\\\fallopian_tubes_AJER376_401.ndpi', '\\\\\\\\10.162.80.16\\\\Andre\\\\data\\\\Ashleigh fallopian tube\\\\fallopian tubes\\\\AJER376\\\\fallopian_tubes_AJER376_403.ndpi', '\\\\\\\\10.162.80.16\\\\Andre\\\\data\\\\Ashleigh fallopian tube\\\\fallopian tubes\\\\AJER376\\\\fallopian_tubes_AJER376_407.ndpi', '\\\\\\\\10.162.80.16\\\\Andre\\\\data\\\\Ashleigh fallopian tube\\\\fallopian tubes\\\\AJER376\\\\fallopian_tubes_AJER376_409.ndpi', '\\\\\\\\10.162.80.16\\\\Andre\\\\data\\\\Ashleigh fallopian tube\\\\fallopian tubes\\\\AJER376\\\\fallopian_tubes_AJER376_411.ndpi', '\\\\\\\\10.162.80.16\\\\Andre\\\\data\\\\Ashleigh fallopian tube\\\\fallopian tubes\\\\AJER376\\\\fallopian_tubes_AJER376_413.ndpi', '\\\\\\\\10.162.80.16\\\\Andre\\\\data\\\\Ashleigh fallopian tube\\\\fallopian tubes\\\\AJER376\\\\fallopian_tubes_AJER376_415.ndpi', '\\\\\\\\10.162.80.16\\\\Andre\\\\data\\\\Ashleigh fallopian tube\\\\fallopian tubes\\\\AJER376\\\\fallopian_tubes_AJER376_417.ndpi', '\\\\\\\\10.162.80.16\\\\Andre\\\\data\\\\Ashleigh fallopian tube\\\\fallopian tubes\\\\AJER376\\\\fallopian_tubes_AJER376_419.ndpi', '\\\\\\\\10.162.80.16\\\\Andre\\\\data\\\\Ashleigh fallopian tube\\\\fallopian tubes\\\\AJER376\\\\fallopian_tubes_AJER376_421.ndpi', '\\\\\\\\10.162.80.16\\\\Andre\\\\data\\\\Ashleigh fallopian tube\\\\fallopian tubes\\\\AJER376\\\\fallopian_tubes_AJER376_423.ndpi', '\\\\\\\\10.162.80.16\\\\Andre\\\\data\\\\Ashleigh fallopian tube\\\\fallopian tubes\\\\AJER376\\\\fallopian_tubes_AJER376_425.ndpi', '\\\\\\\\10.162.80.16\\\\Andre\\\\data\\\\Ashleigh fallopian tube\\\\fallopian tubes\\\\AJER376\\\\fallopian_tubes_AJER376_427.ndpi', '\\\\\\\\10.162.80.16\\\\Andre\\\\data\\\\Ashleigh fallopian tube\\\\fallopian tubes\\\\AJER376\\\\fallopian_tubes_AJER376_429.ndpi', '\\\\\\\\10.162.80.16\\\\Andre\\\\data\\\\Ashleigh fallopian tube\\\\fallopian tubes\\\\AJER376\\\\fallopian_tubes_AJER376_431.ndpi', '\\\\\\\\10.162.80.16\\\\Andre\\\\data\\\\Ashleigh fallopian tube\\\\fallopian tubes\\\\AJER376\\\\fallopian_tubes_AJER376_433.ndpi', '\\\\\\\\10.162.80.16\\\\Andre\\\\data\\\\Ashleigh fallopian tube\\\\fallopian tubes\\\\AJER376\\\\fallopian_tubes_AJER376_435.ndpi', '\\\\\\\\10.162.80.16\\\\Andre\\\\data\\\\Ashleigh fallopian tube\\\\fallopian tubes\\\\AJER376\\\\fallopian_tubes_AJER376_437.ndpi', '\\\\\\\\10.162.80.16\\\\Andre\\\\data\\\\Ashleigh fallopian tube\\\\fallopian tubes\\\\AJER376\\\\fallopian_tubes_AJER376_439.ndpi', '\\\\\\\\10.162.80.16\\\\Andre\\\\data\\\\Ashleigh fallopian tube\\\\fallopian tubes\\\\AJER376\\\\fallopian_tubes_AJER376_441.ndpi', '\\\\\\\\10.162.80.16\\\\Andre\\\\data\\\\Ashleigh fallopian tube\\\\fallopian tubes\\\\AJER376\\\\fallopian_tubes_AJER376_443.ndpi', '\\\\\\\\10.162.80.16\\\\Andre\\\\data\\\\Ashleigh fallopian tube\\\\fallopian tubes\\\\AJER376\\\\fallopian_tubes_AJER376_445.ndpi', '\\\\\\\\10.162.80.16\\\\Andre\\\\data\\\\Ashleigh fallopian tube\\\\fallopian tubes\\\\AJER376\\\\fallopian_tubes_AJER376_447.ndpi', '\\\\\\\\10.162.80.16\\\\Andre\\\\data\\\\Ashleigh fallopian tube\\\\fallopian tubes\\\\AJER376\\\\fallopian_tubes_AJER376_449.ndpi', '\\\\\\\\10.162.80.16\\\\Andre\\\\data\\\\Ashleigh fallopian tube\\\\fallopian tubes\\\\AJER376\\\\fallopian_tubes_AJER376_451.ndpi', '\\\\\\\\10.162.80.16\\\\Andre\\\\data\\\\Ashleigh fallopian tube\\\\fallopian tubes\\\\AJER376\\\\fallopian_tubes_AJER376_453.ndpi', '\\\\\\\\10.162.80.16\\\\Andre\\\\data\\\\Ashleigh fallopian tube\\\\fallopian tubes\\\\AJER376\\\\fallopian_tubes_AJER376_455.ndpi', '\\\\\\\\10.162.80.16\\\\Andre\\\\data\\\\Ashleigh fallopian tube\\\\fallopian tubes\\\\AJER376\\\\fallopian_tubes_AJER376_457.ndpi', '\\\\\\\\10.162.80.16\\\\Andre\\\\data\\\\Ashleigh fallopian tube\\\\fallopian tubes\\\\AJER376\\\\fallopian_tubes_AJER376_459.ndpi', '\\\\\\\\10.162.80.16\\\\Andre\\\\data\\\\Ashleigh fallopian tube\\\\fallopian tubes\\\\AJER376\\\\fallopian_tubes_AJER376_461.ndpi', '\\\\\\\\10.162.80.16\\\\Andre\\\\data\\\\Ashleigh fallopian tube\\\\fallopian tubes\\\\AJER376\\\\fallopian_tubes_AJER376_463.ndpi', '\\\\\\\\10.162.80.16\\\\Andre\\\\data\\\\Ashleigh fallopian tube\\\\fallopian tubes\\\\AJER376\\\\fallopian_tubes_AJER376_465.ndpi', '\\\\\\\\10.162.80.16\\\\Andre\\\\data\\\\Ashleigh fallopian tube\\\\fallopian tubes\\\\AJER376\\\\fallopian_tubes_AJER376_467.ndpi', '\\\\\\\\10.162.80.16\\\\Andre\\\\data\\\\Ashleigh fallopian tube\\\\fallopian tubes\\\\AJER376\\\\fallopian_tubes_AJER376_469.ndpi', '\\\\\\\\10.162.80.16\\\\Andre\\\\data\\\\Ashleigh fallopian tube\\\\fallopian tubes\\\\AJER376\\\\fallopian_tubes_AJER376_471.ndpi', '\\\\\\\\10.162.80.16\\\\Andre\\\\data\\\\Ashleigh fallopian tube\\\\fallopian tubes\\\\AJER376\\\\fallopian_tubes_AJER376_473.ndpi', '\\\\\\\\10.162.80.16\\\\Andre\\\\data\\\\Ashleigh fallopian tube\\\\fallopian tubes\\\\AJER376\\\\fallopian_tubes_AJER376_475.ndpi', '\\\\\\\\10.162.80.16\\\\Andre\\\\data\\\\Ashleigh fallopian tube\\\\fallopian tubes\\\\AJER376\\\\fallopian_tubes_AJER376_477.ndpi', '\\\\\\\\10.162.80.16\\\\Andre\\\\data\\\\Ashleigh fallopian tube\\\\fallopian tubes\\\\AJER376\\\\fallopian_tubes_AJER376_479.ndpi', '\\\\\\\\10.162.80.16\\\\Andre\\\\data\\\\Ashleigh fallopian tube\\\\fallopian tubes\\\\AJER376\\\\fallopian_tubes_AJER376_481.ndpi', '\\\\\\\\10.162.80.16\\\\Andre\\\\data\\\\Ashleigh fallopian tube\\\\fallopian tubes\\\\AJER376\\\\fallopian_tubes_AJER376_483.ndpi', '\\\\\\\\10.162.80.16\\\\Andre\\\\data\\\\Ashleigh fallopian tube\\\\fallopian tubes\\\\AJER376\\\\fallopian_tubes_AJER376_485.ndpi', '\\\\\\\\10.162.80.16\\\\Andre\\\\data\\\\Ashleigh fallopian tube\\\\fallopian tubes\\\\AJER376\\\\fallopian_tubes_AJER376_487.ndpi', '\\\\\\\\10.162.80.16\\\\Andre\\\\data\\\\Ashleigh fallopian tube\\\\fallopian tubes\\\\AJER376\\\\fallopian_tubes_AJER376_489.ndpi', '\\\\\\\\10.162.80.16\\\\Andre\\\\data\\\\Ashleigh fallopian tube\\\\fallopian tubes\\\\AJER376\\\\fallopian_tubes_AJER376_491.ndpi', '\\\\\\\\10.162.80.16\\\\Andre\\\\data\\\\Ashleigh fallopian tube\\\\fallopian tubes\\\\AJER376\\\\fallopian_tubes_AJER376_493.ndpi', '\\\\\\\\10.162.80.16\\\\Andre\\\\data\\\\Ashleigh fallopian tube\\\\fallopian tubes\\\\AJER376\\\\fallopian_tubes_AJER376_495.ndpi', '\\\\\\\\10.162.80.16\\\\Andre\\\\data\\\\Ashleigh fallopian tube\\\\fallopian tubes\\\\AJER376\\\\fallopian_tubes_AJER376_497.ndpi', '\\\\\\\\10.162.80.16\\\\Andre\\\\data\\\\Ashleigh fallopian tube\\\\fallopian tubes\\\\AJER376\\\\fallopian_tubes_AJER376_501.ndpi', '\\\\\\\\10.162.80.16\\\\Andre\\\\data\\\\Ashleigh fallopian tube\\\\fallopian tubes\\\\AJER376\\\\fallopian_tubes_AJER376_503.ndpi', '\\\\\\\\10.162.80.16\\\\Andre\\\\data\\\\Ashleigh fallopian tube\\\\fallopian tubes\\\\AJER376\\\\fallopian_tubes_AJER376_505.ndpi', '\\\\\\\\10.162.80.16\\\\Andre\\\\data\\\\Ashleigh fallopian tube\\\\fallopian tubes\\\\AJER376\\\\fallopian_tubes_AJER376_507.ndpi', '\\\\\\\\10.162.80.16\\\\Andre\\\\data\\\\Ashleigh fallopian tube\\\\fallopian tubes\\\\AJER376\\\\fallopian_tubes_AJER376_509.ndpi', '\\\\\\\\10.162.80.16\\\\Andre\\\\data\\\\Ashleigh fallopian tube\\\\fallopian tubes\\\\AJER376\\\\fallopian_tubes_AJER376_511.ndpi', '\\\\\\\\10.162.80.16\\\\Andre\\\\data\\\\Ashleigh fallopian tube\\\\fallopian tubes\\\\AJER376\\\\fallopian_tubes_AJER376_513.ndpi', '\\\\\\\\10.162.80.16\\\\Andre\\\\data\\\\Ashleigh fallopian tube\\\\fallopian tubes\\\\AJER376\\\\fallopian_tubes_AJER376_515.ndpi', '\\\\\\\\10.162.80.16\\\\Andre\\\\data\\\\Ashleigh fallopian tube\\\\fallopian tubes\\\\AJER376\\\\fallopian_tubes_AJER376_519.ndpi', '\\\\\\\\10.162.80.16\\\\Andre\\\\data\\\\Ashleigh fallopian tube\\\\fallopian tubes\\\\AJER376\\\\fallopian_tubes_AJER376_521.ndpi', '\\\\\\\\10.162.80.16\\\\Andre\\\\data\\\\Ashleigh fallopian tube\\\\fallopian tubes\\\\AJER376\\\\fallopian_tubes_AJER376_523.ndpi', '\\\\\\\\10.162.80.16\\\\Andre\\\\data\\\\Ashleigh fallopian tube\\\\fallopian tubes\\\\AJER376\\\\fallopian_tubes_AJER376_525.ndpi', '\\\\\\\\10.162.80.16\\\\Andre\\\\data\\\\Ashleigh fallopian tube\\\\fallopian tubes\\\\AJER376\\\\fallopian_tubes_AJER376_527.ndpi', '\\\\\\\\10.162.80.16\\\\Andre\\\\data\\\\Ashleigh fallopian tube\\\\fallopian tubes\\\\AJER376\\\\fallopian_tubes_AJER376_529.ndpi', '\\\\\\\\10.162.80.16\\\\Andre\\\\data\\\\Ashleigh fallopian tube\\\\fallopian tubes\\\\AJER376\\\\fallopian_tubes_AJER376_531.ndpi', '\\\\\\\\10.162.80.16\\\\Andre\\\\data\\\\Ashleigh fallopian tube\\\\fallopian tubes\\\\AJER376\\\\fallopian_tubes_AJER376_533.ndpi', '\\\\\\\\10.162.80.16\\\\Andre\\\\data\\\\Ashleigh fallopian tube\\\\fallopian tubes\\\\AJER376\\\\fallopian_tubes_AJER376_535.ndpi', '\\\\\\\\10.162.80.16\\\\Andre\\\\data\\\\Ashleigh fallopian tube\\\\fallopian tubes\\\\AJER376\\\\fallopian_tubes_AJER376_537.ndpi', '\\\\\\\\10.162.80.16\\\\Andre\\\\data\\\\Ashleigh fallopian tube\\\\fallopian tubes\\\\AJER376\\\\fallopian_tubes_AJER376_539.ndpi', '\\\\\\\\10.162.80.16\\\\Andre\\\\data\\\\Ashleigh fallopian tube\\\\fallopian tubes\\\\AJER376\\\\fallopian_tubes_AJER376_541.ndpi', '\\\\\\\\10.162.80.16\\\\Andre\\\\data\\\\Ashleigh fallopian tube\\\\fallopian tubes\\\\AJER376\\\\fallopian_tubes_AJER376_543.ndpi', '\\\\\\\\10.162.80.16\\\\Andre\\\\data\\\\Ashleigh fallopian tube\\\\fallopian tubes\\\\AJER376\\\\fallopian_tubes_AJER376_545.ndpi', '\\\\\\\\10.162.80.16\\\\Andre\\\\data\\\\Ashleigh fallopian tube\\\\fallopian tubes\\\\AJER376\\\\fallopian_tubes_AJER376_547.ndpi', '\\\\\\\\10.162.80.16\\\\Andre\\\\data\\\\Ashleigh fallopian tube\\\\fallopian tubes\\\\AJER376\\\\fallopian_tubes_AJER376_549.ndpi', '\\\\\\\\10.162.80.16\\\\Andre\\\\data\\\\Ashleigh fallopian tube\\\\fallopian tubes\\\\AJER376\\\\fallopian_tubes_AJER376_551.ndpi', '\\\\\\\\10.162.80.16\\\\Andre\\\\data\\\\Ashleigh fallopian tube\\\\fallopian tubes\\\\AJER376\\\\fallopian_tubes_AJER376_553.ndpi', '\\\\\\\\10.162.80.16\\\\Andre\\\\data\\\\Ashleigh fallopian tube\\\\fallopian tubes\\\\AJER376\\\\fallopian_tubes_AJER376_555.ndpi', '\\\\\\\\10.162.80.16\\\\Andre\\\\data\\\\Ashleigh fallopian tube\\\\fallopian tubes\\\\AJER376\\\\fallopian_tubes_AJER376_559.ndpi', '\\\\\\\\10.162.80.16\\\\Andre\\\\data\\\\Ashleigh fallopian tube\\\\fallopian tubes\\\\AJER376\\\\fallopian_tubes_AJER376_561.ndpi', '\\\\\\\\10.162.80.16\\\\Andre\\\\data\\\\Ashleigh fallopian tube\\\\fallopian tubes\\\\AJER376\\\\fallopian_tubes_AJER376_563.ndpi', '\\\\\\\\10.162.80.16\\\\Andre\\\\data\\\\Ashleigh fallopian tube\\\\fallopian tubes\\\\AJER376\\\\fallopian_tubes_AJER376_565.ndpi', '\\\\\\\\10.162.80.16\\\\Andre\\\\data\\\\Ashleigh fallopian tube\\\\fallopian tubes\\\\AJER376\\\\fallopian_tubes_AJER376_567.ndpi', '\\\\\\\\10.162.80.16\\\\Andre\\\\data\\\\Ashleigh fallopian tube\\\\fallopian tubes\\\\AJER376\\\\fallopian_tubes_AJER376_569.ndpi', '\\\\\\\\10.162.80.16\\\\Andre\\\\data\\\\Ashleigh fallopian tube\\\\fallopian tubes\\\\AJER376\\\\fallopian_tubes_AJER376_571.ndpi', '\\\\\\\\10.162.80.16\\\\Andre\\\\data\\\\Ashleigh fallopian tube\\\\fallopian tubes\\\\AJER376\\\\fallopian_tubes_AJER376_573.ndpi', '\\\\\\\\10.162.80.16\\\\Andre\\\\data\\\\Ashleigh fallopian tube\\\\fallopian tubes\\\\AJER376\\\\fallopian_tubes_AJER376_575.ndpi', '\\\\\\\\10.162.80.16\\\\Andre\\\\data\\\\Ashleigh fallopian tube\\\\fallopian tubes\\\\AJER376\\\\fallopian_tubes_AJER376_577.ndpi', '\\\\\\\\10.162.80.16\\\\Andre\\\\data\\\\Ashleigh fallopian tube\\\\fallopian tubes\\\\AJER376\\\\fallopian_tubes_AJER376_579.ndpi', '\\\\\\\\10.162.80.16\\\\Andre\\\\data\\\\Ashleigh fallopian tube\\\\fallopian tubes\\\\AJER376\\\\fallopian_tubes_AJER376_581.ndpi', '\\\\\\\\10.162.80.16\\\\Andre\\\\data\\\\Ashleigh fallopian tube\\\\fallopian tubes\\\\AJER376\\\\fallopian_tubes_AJER376_583.ndpi', '\\\\\\\\10.162.80.16\\\\Andre\\\\data\\\\Ashleigh fallopian tube\\\\fallopian tubes\\\\AJER376\\\\fallopian_tubes_AJER376_585.ndpi', '\\\\\\\\10.162.80.16\\\\Andre\\\\data\\\\Ashleigh fallopian tube\\\\fallopian tubes\\\\AJER376\\\\fallopian_tubes_AJER376_587.ndpi', '\\\\\\\\10.162.80.16\\\\Andre\\\\data\\\\Ashleigh fallopian tube\\\\fallopian tubes\\\\AJER376\\\\fallopian_tubes_AJER376_589.ndpi', '\\\\\\\\10.162.80.16\\\\Andre\\\\data\\\\Ashleigh fallopian tube\\\\fallopian tubes\\\\AJER376\\\\fallopian_tubes_AJER376_591.ndpi', '\\\\\\\\10.162.80.16\\\\Andre\\\\data\\\\Ashleigh fallopian tube\\\\fallopian tubes\\\\AJER376\\\\fallopian_tubes_AJER376_593.ndpi', '\\\\\\\\10.162.80.16\\\\Andre\\\\data\\\\Ashleigh fallopian tube\\\\fallopian tubes\\\\AJER376\\\\fallopian_tubes_AJER376_595.ndpi', '\\\\\\\\10.162.80.16\\\\Andre\\\\data\\\\Ashleigh fallopian tube\\\\fallopian tubes\\\\AJER376\\\\fallopian_tubes_AJER376_597.ndpi', '\\\\\\\\10.162.80.16\\\\Andre\\\\data\\\\Ashleigh fallopian tube\\\\fallopian tubes\\\\AJER376\\\\fallopian_tubes_AJER376_599.ndpi', '\\\\\\\\10.162.80.16\\\\Andre\\\\data\\\\Ashleigh fallopian tube\\\\fallopian tubes\\\\AJER376\\\\fallopian_tubes_AJER376_601.ndpi']\n"
     ]
    }
   ],
   "source": [
    "for folder in WSIs:\n",
    "    print(folder)\n",
    "    break\n",
    "    #or img_pth in folder:"
   ],
   "metadata": {
    "collapsed": false,
    "ExecuteTime": {
     "end_time": "2024-01-05T10:25:20.781741700Z",
     "start_time": "2024-01-05T10:25:20.751434200Z"
    }
   }
  },
  {
   "cell_type": "code",
   "execution_count": 13,
   "outputs": [
    {
     "name": "stdout",
     "output_type": "stream",
     "text": [
      "fallopian_tubes_AJER376_001.ndpi (1/288)\n",
      "Skipping fallopian_tubes_AJER376_001.ndpi\n",
      "fallopian_tubes_AJER376_009.ndpi (3/288)\n",
      "Skipping fallopian_tubes_AJER376_009.ndpi\n",
      "fallopian_tubes_AJER376_015.ndpi (5/288)\n",
      "Skipping fallopian_tubes_AJER376_015.ndpi\n",
      "fallopian_tubes_AJER376_019.ndpi (7/288)\n",
      "Skipping fallopian_tubes_AJER376_019.ndpi\n",
      "fallopian_tubes_AJER376_023.ndpi (9/288)\n",
      "Skipping fallopian_tubes_AJER376_023.ndpi\n",
      "fallopian_tubes_AJER376_027.ndpi (11/288)\n",
      "Skipping fallopian_tubes_AJER376_027.ndpi\n",
      "fallopian_tubes_AJER376_031.ndpi (13/288)\n",
      "Skipping fallopian_tubes_AJER376_031.ndpi\n",
      "fallopian_tubes_AJER376_035.ndpi (15/288)\n",
      "Skipping fallopian_tubes_AJER376_035.ndpi\n",
      "fallopian_tubes_AJER376_039.ndpi (17/288)\n",
      "Skipping fallopian_tubes_AJER376_039.ndpi\n",
      "fallopian_tubes_AJER376_043.ndpi (19/288)\n",
      "Skipping fallopian_tubes_AJER376_043.ndpi\n",
      "fallopian_tubes_AJER376_047.ndpi (21/288)\n",
      "Skipping fallopian_tubes_AJER376_047.ndpi\n",
      "fallopian_tubes_AJER376_055.ndpi (23/288)\n",
      "Skipping fallopian_tubes_AJER376_055.ndpi\n",
      "fallopian_tubes_AJER376_059.ndpi (25/288)\n",
      "Skipping fallopian_tubes_AJER376_059.ndpi\n",
      "fallopian_tubes_AJER376_063.ndpi (27/288)\n",
      "Skipping fallopian_tubes_AJER376_063.ndpi\n",
      "fallopian_tubes_AJER376_067.ndpi (29/288)\n",
      "Skipping fallopian_tubes_AJER376_067.ndpi\n",
      "fallopian_tubes_AJER376_071.ndpi (31/288)\n",
      "Skipping fallopian_tubes_AJER376_071.ndpi\n",
      "fallopian_tubes_AJER376_075.ndpi (33/288)\n",
      "Skipping fallopian_tubes_AJER376_075.ndpi\n",
      "fallopian_tubes_AJER376_079.ndpi (35/288)\n",
      "Skipping fallopian_tubes_AJER376_079.ndpi\n",
      "fallopian_tubes_AJER376_083.ndpi (37/288)\n",
      "Skipping fallopian_tubes_AJER376_083.ndpi\n",
      "fallopian_tubes_AJER376_087.ndpi (39/288)\n",
      "Skipping fallopian_tubes_AJER376_087.ndpi\n",
      "fallopian_tubes_AJER376_091.ndpi (41/288)\n",
      "Skipping fallopian_tubes_AJER376_091.ndpi\n",
      "fallopian_tubes_AJER376_095.ndpi (43/288)\n",
      "Skipping fallopian_tubes_AJER376_095.ndpi\n",
      "fallopian_tubes_AJER376_099.ndpi (45/288)\n",
      "Skipping fallopian_tubes_AJER376_099.ndpi\n",
      "fallopian_tubes_AJER376_103.ndpi (47/288)\n",
      "Skipping fallopian_tubes_AJER376_103.ndpi\n",
      "fallopian_tubes_AJER376_107.ndpi (49/288)\n",
      "Skipping fallopian_tubes_AJER376_107.ndpi\n",
      "fallopian_tubes_AJER376_111.ndpi (51/288)\n",
      "Skipping fallopian_tubes_AJER376_111.ndpi\n",
      "fallopian_tubes_AJER376_115.ndpi (53/288)\n",
      "Skipping fallopian_tubes_AJER376_115.ndpi\n",
      "fallopian_tubes_AJER376_119.ndpi (55/288)\n",
      "Skipping fallopian_tubes_AJER376_119.ndpi\n",
      "fallopian_tubes_AJER376_123.ndpi (57/288)\n",
      "Skipping fallopian_tubes_AJER376_123.ndpi\n",
      "fallopian_tubes_AJER376_127.ndpi (59/288)\n",
      "Skipping fallopian_tubes_AJER376_127.ndpi\n",
      "fallopian_tubes_AJER376_131.ndpi (61/288)\n",
      "Skipping fallopian_tubes_AJER376_131.ndpi\n",
      "fallopian_tubes_AJER376_135.ndpi (63/288)\n",
      "Skipping fallopian_tubes_AJER376_135.ndpi\n",
      "fallopian_tubes_AJER376_139.ndpi (65/288)\n",
      "Skipping fallopian_tubes_AJER376_139.ndpi\n",
      "fallopian_tubes_AJER376_143.ndpi (67/288)\n",
      "Skipping fallopian_tubes_AJER376_143.ndpi\n",
      "fallopian_tubes_AJER376_147.ndpi (69/288)\n",
      "Skipping fallopian_tubes_AJER376_147.ndpi\n",
      "fallopian_tubes_AJER376_151.ndpi (71/288)\n",
      "Skipping fallopian_tubes_AJER376_151.ndpi\n",
      "fallopian_tubes_AJER376_155.ndpi (73/288)\n",
      "Skipping fallopian_tubes_AJER376_155.ndpi\n",
      "fallopian_tubes_AJER376_159.ndpi (75/288)\n",
      "Skipping fallopian_tubes_AJER376_159.ndpi\n",
      "fallopian_tubes_AJER376_163.ndpi (77/288)\n",
      "Skipping fallopian_tubes_AJER376_163.ndpi\n",
      "fallopian_tubes_AJER376_167.ndpi (79/288)\n",
      "Skipping fallopian_tubes_AJER376_167.ndpi\n",
      "fallopian_tubes_AJER376_171.ndpi (81/288)\n",
      "Skipping fallopian_tubes_AJER376_171.ndpi\n",
      "fallopian_tubes_AJER376_175.ndpi (83/288)\n",
      "Skipping fallopian_tubes_AJER376_175.ndpi\n",
      "fallopian_tubes_AJER376_179.ndpi (85/288)\n",
      "Skipping fallopian_tubes_AJER376_179.ndpi\n",
      "fallopian_tubes_AJER376_183.ndpi (87/288)\n",
      "Skipping fallopian_tubes_AJER376_183.ndpi\n",
      "fallopian_tubes_AJER376_187.ndpi (89/288)\n",
      "Skipping fallopian_tubes_AJER376_187.ndpi\n",
      "fallopian_tubes_AJER376_191.ndpi (91/288)\n",
      "Skipping fallopian_tubes_AJER376_191.ndpi\n",
      "fallopian_tubes_AJER376_195.ndpi (93/288)\n",
      "Skipping fallopian_tubes_AJER376_195.ndpi\n",
      "fallopian_tubes_AJER376_199.ndpi (95/288)\n",
      "Skipping fallopian_tubes_AJER376_199.ndpi\n",
      "fallopian_tubes_AJER376_203.ndpi (97/288)\n",
      "Skipping fallopian_tubes_AJER376_203.ndpi\n",
      "fallopian_tubes_AJER376_207.ndpi (99/288)\n",
      "Skipping fallopian_tubes_AJER376_207.ndpi\n",
      "fallopian_tubes_AJER376_211.ndpi (101/288)\n",
      "Skipping fallopian_tubes_AJER376_211.ndpi\n",
      "fallopian_tubes_AJER376_215.ndpi (103/288)\n",
      "Skipping fallopian_tubes_AJER376_215.ndpi\n",
      "fallopian_tubes_AJER376_219.ndpi (105/288)\n",
      "Skipping fallopian_tubes_AJER376_219.ndpi\n",
      "fallopian_tubes_AJER376_223.ndpi (107/288)\n",
      "Skipping fallopian_tubes_AJER376_223.ndpi\n",
      "fallopian_tubes_AJER376_227.ndpi (109/288)\n",
      "Skipping fallopian_tubes_AJER376_227.ndpi\n",
      "fallopian_tubes_AJER376_231.ndpi (111/288)\n",
      "Skipping fallopian_tubes_AJER376_231.ndpi\n",
      "fallopian_tubes_AJER376_235.ndpi (113/288)\n",
      "Skipping fallopian_tubes_AJER376_235.ndpi\n",
      "fallopian_tubes_AJER376_239.ndpi (115/288)\n",
      "Skipping fallopian_tubes_AJER376_239.ndpi\n",
      "fallopian_tubes_AJER376_245.ndpi (117/288)\n",
      "Skipping fallopian_tubes_AJER376_245.ndpi\n",
      "fallopian_tubes_AJER376_251.ndpi (119/288)\n",
      "Skipping fallopian_tubes_AJER376_251.ndpi\n",
      "fallopian_tubes_AJER376_255.ndpi (121/288)\n",
      "Skipping fallopian_tubes_AJER376_255.ndpi\n",
      "fallopian_tubes_AJER376_259.ndpi (123/288)\n",
      "Skipping fallopian_tubes_AJER376_259.ndpi\n",
      "fallopian_tubes_AJER376_263.ndpi (125/288)\n",
      "Skipping fallopian_tubes_AJER376_263.ndpi\n",
      "fallopian_tubes_AJER376_267.ndpi (127/288)\n",
      "Skipping fallopian_tubes_AJER376_267.ndpi\n",
      "fallopian_tubes_AJER376_273.ndpi (129/288)\n",
      "Skipping fallopian_tubes_AJER376_273.ndpi\n",
      "fallopian_tubes_AJER376_277.ndpi (131/288)\n",
      "Skipping fallopian_tubes_AJER376_277.ndpi\n",
      "fallopian_tubes_AJER376_281.ndpi (133/288)\n",
      "Skipping fallopian_tubes_AJER376_281.ndpi\n",
      "fallopian_tubes_AJER376_285.ndpi (135/288)\n",
      "Skipping fallopian_tubes_AJER376_285.ndpi\n",
      "fallopian_tubes_AJER376_289.ndpi (137/288)\n",
      "Skipping fallopian_tubes_AJER376_289.ndpi\n",
      "fallopian_tubes_AJER376_293.ndpi (139/288)\n",
      "Skipping fallopian_tubes_AJER376_293.ndpi\n",
      "fallopian_tubes_AJER376_297.ndpi (141/288)\n",
      "Skipping fallopian_tubes_AJER376_297.ndpi\n",
      "fallopian_tubes_AJER376_301.ndpi (143/288)\n",
      "Skipping fallopian_tubes_AJER376_301.ndpi\n",
      "fallopian_tubes_AJER376_305.ndpi (145/288)\n",
      "Skipping fallopian_tubes_AJER376_305.ndpi\n",
      "fallopian_tubes_AJER376_309.ndpi (147/288)\n",
      "Skipping fallopian_tubes_AJER376_309.ndpi\n",
      "fallopian_tubes_AJER376_313.ndpi (149/288)\n",
      "Skipping fallopian_tubes_AJER376_313.ndpi\n",
      "fallopian_tubes_AJER376_317.ndpi (151/288)\n",
      "Skipping fallopian_tubes_AJER376_317.ndpi\n",
      "fallopian_tubes_AJER376_321.ndpi (153/288)\n",
      "Skipping fallopian_tubes_AJER376_321.ndpi\n",
      "fallopian_tubes_AJER376_325.ndpi (155/288)\n",
      "Skipping fallopian_tubes_AJER376_325.ndpi\n",
      "fallopian_tubes_AJER376_329.ndpi (157/288)\n",
      "Skipping fallopian_tubes_AJER376_329.ndpi\n",
      "fallopian_tubes_AJER376_333.ndpi (159/288)\n",
      "Skipping fallopian_tubes_AJER376_333.ndpi\n",
      "fallopian_tubes_AJER376_337.ndpi (161/288)\n",
      "Skipping fallopian_tubes_AJER376_337.ndpi\n",
      "fallopian_tubes_AJER376_341.ndpi (163/288)\n",
      "Skipping fallopian_tubes_AJER376_341.ndpi\n",
      "fallopian_tubes_AJER376_347.ndpi (165/288)\n",
      "Skipping fallopian_tubes_AJER376_347.ndpi\n",
      "fallopian_tubes_AJER376_351.ndpi (167/288)\n",
      "Skipping fallopian_tubes_AJER376_351.ndpi\n",
      "fallopian_tubes_AJER376_355.ndpi (169/288)\n",
      "Skipping fallopian_tubes_AJER376_355.ndpi\n",
      "fallopian_tubes_AJER376_359.ndpi (171/288)\n",
      "Skipping fallopian_tubes_AJER376_359.ndpi\n",
      "fallopian_tubes_AJER376_363.ndpi (173/288)\n",
      "Skipping fallopian_tubes_AJER376_363.ndpi\n",
      "fallopian_tubes_AJER376_367.ndpi (175/288)\n",
      "Skipping fallopian_tubes_AJER376_367.ndpi\n",
      "fallopian_tubes_AJER376_371.ndpi (177/288)\n",
      "Skipping fallopian_tubes_AJER376_371.ndpi\n",
      "fallopian_tubes_AJER376_375.ndpi (179/288)\n",
      "Skipping fallopian_tubes_AJER376_375.ndpi\n",
      "fallopian_tubes_AJER376_379.ndpi (181/288)\n",
      "Skipping fallopian_tubes_AJER376_379.ndpi\n",
      "fallopian_tubes_AJER376_383.ndpi (183/288)\n",
      "Skipping fallopian_tubes_AJER376_383.ndpi\n",
      "fallopian_tubes_AJER376_387.ndpi (185/288)\n",
      "Skipping fallopian_tubes_AJER376_387.ndpi\n",
      "fallopian_tubes_AJER376_391.ndpi (187/288)\n",
      "Skipping fallopian_tubes_AJER376_391.ndpi\n",
      "fallopian_tubes_AJER376_395.ndpi (189/288)\n",
      "Skipping fallopian_tubes_AJER376_395.ndpi\n",
      "fallopian_tubes_AJER376_399.ndpi (191/288)\n",
      "Skipping fallopian_tubes_AJER376_399.ndpi\n",
      "fallopian_tubes_AJER376_403.ndpi (193/288)\n",
      "Skipping fallopian_tubes_AJER376_403.ndpi\n",
      "fallopian_tubes_AJER376_409.ndpi (195/288)\n",
      "Skipping fallopian_tubes_AJER376_409.ndpi\n",
      "fallopian_tubes_AJER376_413.ndpi (197/288)\n",
      "Skipping fallopian_tubes_AJER376_413.ndpi\n",
      "fallopian_tubes_AJER376_417.ndpi (199/288)\n",
      "Skipping fallopian_tubes_AJER376_417.ndpi\n",
      "fallopian_tubes_AJER376_421.ndpi (201/288)\n",
      "Skipping fallopian_tubes_AJER376_421.ndpi\n",
      "fallopian_tubes_AJER376_425.ndpi (203/288)\n",
      "Skipping fallopian_tubes_AJER376_425.ndpi\n",
      "fallopian_tubes_AJER376_429.ndpi (205/288)\n",
      "Skipping fallopian_tubes_AJER376_429.ndpi\n",
      "fallopian_tubes_AJER376_433.ndpi (207/288)\n",
      "Skipping fallopian_tubes_AJER376_433.ndpi\n",
      "fallopian_tubes_AJER376_437.ndpi (209/288)\n",
      "Skipping fallopian_tubes_AJER376_437.ndpi\n",
      "fallopian_tubes_AJER376_441.ndpi (211/288)\n",
      "Skipping fallopian_tubes_AJER376_441.ndpi\n",
      "fallopian_tubes_AJER376_445.ndpi (213/288)\n",
      "Skipping fallopian_tubes_AJER376_445.ndpi\n",
      "fallopian_tubes_AJER376_449.ndpi (215/288)\n",
      "Skipping fallopian_tubes_AJER376_449.ndpi\n",
      "fallopian_tubes_AJER376_453.ndpi (217/288)\n",
      "Skipping fallopian_tubes_AJER376_453.ndpi\n",
      "fallopian_tubes_AJER376_457.ndpi (219/288)\n",
      "Skipping fallopian_tubes_AJER376_457.ndpi\n",
      "fallopian_tubes_AJER376_461.ndpi (221/288)\n",
      "Skipping fallopian_tubes_AJER376_461.ndpi\n",
      "fallopian_tubes_AJER376_465.ndpi (223/288)\n",
      "Skipping fallopian_tubes_AJER376_465.ndpi\n",
      "fallopian_tubes_AJER376_469.ndpi (225/288)\n",
      "Skipping fallopian_tubes_AJER376_469.ndpi\n",
      "fallopian_tubes_AJER376_473.ndpi (227/288)\n",
      "Skipping fallopian_tubes_AJER376_473.ndpi\n",
      "fallopian_tubes_AJER376_477.ndpi (229/288)\n",
      "Skipping fallopian_tubes_AJER376_477.ndpi\n",
      "fallopian_tubes_AJER376_481.ndpi (231/288)\n",
      "Skipping fallopian_tubes_AJER376_481.ndpi\n",
      "fallopian_tubes_AJER376_485.ndpi (233/288)\n",
      "Skipping fallopian_tubes_AJER376_485.ndpi\n",
      "fallopian_tubes_AJER376_489.ndpi (235/288)\n",
      "Skipping fallopian_tubes_AJER376_489.ndpi\n",
      "fallopian_tubes_AJER376_493.ndpi (237/288)\n",
      "Skipping fallopian_tubes_AJER376_493.ndpi\n",
      "fallopian_tubes_AJER376_497.ndpi (239/288)\n",
      "Skipping fallopian_tubes_AJER376_497.ndpi\n",
      "fallopian_tubes_AJER376_503.ndpi (241/288)\n",
      "Skipping fallopian_tubes_AJER376_503.ndpi\n",
      "fallopian_tubes_AJER376_507.ndpi (243/288)\n",
      "Skipping fallopian_tubes_AJER376_507.ndpi\n",
      "fallopian_tubes_AJER376_511.ndpi (245/288)\n",
      "Skipping fallopian_tubes_AJER376_511.ndpi\n",
      "fallopian_tubes_AJER376_515.ndpi (247/288)\n",
      "Skipping fallopian_tubes_AJER376_515.ndpi\n",
      "fallopian_tubes_AJER376_521.ndpi (249/288)\n",
      "Skipping fallopian_tubes_AJER376_521.ndpi\n",
      "fallopian_tubes_AJER376_525.ndpi (251/288)\n",
      "Skipping fallopian_tubes_AJER376_525.ndpi\n",
      "fallopian_tubes_AJER376_529.ndpi (253/288)\n",
      "Skipping fallopian_tubes_AJER376_529.ndpi\n",
      "fallopian_tubes_AJER376_533.ndpi (255/288)\n",
      "Skipping fallopian_tubes_AJER376_533.ndpi\n",
      "fallopian_tubes_AJER376_537.ndpi (257/288)\n",
      "Skipping fallopian_tubes_AJER376_537.ndpi\n",
      "fallopian_tubes_AJER376_541.ndpi (259/288)\n",
      "Skipping fallopian_tubes_AJER376_541.ndpi\n",
      "fallopian_tubes_AJER376_545.ndpi (261/288)\n",
      "Skipping fallopian_tubes_AJER376_545.ndpi\n",
      "fallopian_tubes_AJER376_549.ndpi (263/288)\n",
      "Skipping fallopian_tubes_AJER376_549.ndpi\n",
      "fallopian_tubes_AJER376_553.ndpi (265/288)\n",
      "Skipping fallopian_tubes_AJER376_553.ndpi\n",
      "fallopian_tubes_AJER376_559.ndpi (267/288)\n",
      "Skipping fallopian_tubes_AJER376_559.ndpi\n",
      "fallopian_tubes_AJER376_563.ndpi (269/288)\n",
      "Skipping fallopian_tubes_AJER376_563.ndpi\n",
      "fallopian_tubes_AJER376_567.ndpi (271/288)\n",
      "Skipping fallopian_tubes_AJER376_567.ndpi\n",
      "fallopian_tubes_AJER376_571.ndpi (273/288)\n",
      "Skipping fallopian_tubes_AJER376_571.ndpi\n",
      "fallopian_tubes_AJER376_575.ndpi (275/288)\n",
      "Skipping fallopian_tubes_AJER376_575.ndpi\n",
      "fallopian_tubes_AJER376_579.ndpi (277/288)\n",
      "Skipping fallopian_tubes_AJER376_579.ndpi\n",
      "fallopian_tubes_AJER376_583.ndpi (279/288)\n",
      "Skipping fallopian_tubes_AJER376_583.ndpi\n",
      "fallopian_tubes_AJER376_587.ndpi (281/288)\n",
      "Skipping fallopian_tubes_AJER376_587.ndpi\n",
      "fallopian_tubes_AJER376_591.ndpi (283/288)\n",
      "Skipping fallopian_tubes_AJER376_591.ndpi\n",
      "fallopian_tubes_AJER376_595.ndpi (285/288)\n",
      "Skipping fallopian_tubes_AJER376_595.ndpi\n",
      "fallopian_tubes_AJER376_599.ndpi (287/288)\n",
      "Skipping fallopian_tubes_AJER376_599.ndpi\n",
      "fallopian_tubes_AJGB283_029.ndpi (1/300)\n",
      "Skipping fallopian_tubes_AJGB283_029.ndpi\n",
      "fallopian_tubes_AJGB283_033.ndpi (3/300)\n",
      "Skipping fallopian_tubes_AJGB283_033.ndpi\n",
      "fallopian_tubes_AJGB283_037.ndpi (5/300)\n",
      "Skipping fallopian_tubes_AJGB283_037.ndpi\n",
      "fallopian_tubes_AJGB283_041.ndpi (7/300)\n",
      "Skipping fallopian_tubes_AJGB283_041.ndpi\n",
      "fallopian_tubes_AJGB283_045.ndpi (9/300)\n",
      "Skipping fallopian_tubes_AJGB283_045.ndpi\n",
      "fallopian_tubes_AJGB283_049.ndpi (11/300)\n",
      "Skipping fallopian_tubes_AJGB283_049.ndpi\n",
      "fallopian_tubes_AJGB283_053.ndpi (13/300)\n",
      "Skipping fallopian_tubes_AJGB283_053.ndpi\n",
      "fallopian_tubes_AJGB283_057.ndpi (15/300)\n",
      "Skipping fallopian_tubes_AJGB283_057.ndpi\n",
      "fallopian_tubes_AJGB283_061.ndpi (17/300)\n",
      "Skipping fallopian_tubes_AJGB283_061.ndpi\n",
      "fallopian_tubes_AJGB283_065.ndpi (19/300)\n",
      "Skipping fallopian_tubes_AJGB283_065.ndpi\n",
      "fallopian_tubes_AJGB283_069.ndpi (21/300)\n",
      "Skipping fallopian_tubes_AJGB283_069.ndpi\n",
      "fallopian_tubes_AJGB283_073.ndpi (23/300)\n",
      "Skipping fallopian_tubes_AJGB283_073.ndpi\n",
      "fallopian_tubes_AJGB283_077.ndpi (25/300)\n",
      "Skipping fallopian_tubes_AJGB283_077.ndpi\n",
      "fallopian_tubes_AJGB283_081.ndpi (27/300)\n",
      "Skipping fallopian_tubes_AJGB283_081.ndpi\n",
      "fallopian_tubes_AJGB283_085.ndpi (29/300)\n",
      "Skipping fallopian_tubes_AJGB283_085.ndpi\n",
      "fallopian_tubes_AJGB283_089.ndpi (31/300)\n",
      "Skipping fallopian_tubes_AJGB283_089.ndpi\n",
      "fallopian_tubes_AJGB283_093.ndpi (33/300)\n",
      "Skipping fallopian_tubes_AJGB283_093.ndpi\n",
      "fallopian_tubes_AJGB283_097.ndpi (35/300)\n",
      "Skipping fallopian_tubes_AJGB283_097.ndpi\n",
      "fallopian_tubes_AJGB283_101.ndpi (37/300)\n",
      "Skipping fallopian_tubes_AJGB283_101.ndpi\n",
      "fallopian_tubes_AJGB283_105.ndpi (39/300)\n",
      "Skipping fallopian_tubes_AJGB283_105.ndpi\n",
      "fallopian_tubes_AJGB283_109.ndpi (41/300)\n",
      "Skipping fallopian_tubes_AJGB283_109.ndpi\n",
      "fallopian_tubes_AJGB283_113.ndpi (43/300)\n",
      "Skipping fallopian_tubes_AJGB283_113.ndpi\n",
      "fallopian_tubes_AJGB283_117.ndpi (45/300)\n",
      "Skipping fallopian_tubes_AJGB283_117.ndpi\n",
      "fallopian_tubes_AJGB283_121.ndpi (47/300)\n",
      "Skipping fallopian_tubes_AJGB283_121.ndpi\n",
      "fallopian_tubes_AJGB283_125.ndpi (49/300)\n",
      "Skipping fallopian_tubes_AJGB283_125.ndpi\n",
      "fallopian_tubes_AJGB283_129.ndpi (51/300)\n",
      "Skipping fallopian_tubes_AJGB283_129.ndpi\n",
      "fallopian_tubes_AJGB283_133.ndpi (53/300)\n",
      "Skipping fallopian_tubes_AJGB283_133.ndpi\n",
      "fallopian_tubes_AJGB283_137.ndpi (55/300)\n",
      "Skipping fallopian_tubes_AJGB283_137.ndpi\n",
      "fallopian_tubes_AJGB283_141.ndpi (57/300)\n",
      "Skipping fallopian_tubes_AJGB283_141.ndpi\n",
      "fallopian_tubes_AJGB283_145.ndpi (59/300)\n",
      "Skipping fallopian_tubes_AJGB283_145.ndpi\n",
      "fallopian_tubes_AJGB283_149.ndpi (61/300)\n",
      "Skipping fallopian_tubes_AJGB283_149.ndpi\n",
      "fallopian_tubes_AJGB283_153.ndpi (63/300)\n",
      "Skipping fallopian_tubes_AJGB283_153.ndpi\n",
      "fallopian_tubes_AJGB283_157.ndpi (65/300)\n",
      "Skipping fallopian_tubes_AJGB283_157.ndpi\n",
      "fallopian_tubes_AJGB283_161.ndpi (67/300)\n",
      "Skipping fallopian_tubes_AJGB283_161.ndpi\n",
      "fallopian_tubes_AJGB283_165.ndpi (69/300)\n",
      "Skipping fallopian_tubes_AJGB283_165.ndpi\n",
      "fallopian_tubes_AJGB283_169.ndpi (71/300)\n",
      "Skipping fallopian_tubes_AJGB283_169.ndpi\n",
      "fallopian_tubes_AJGB283_173.ndpi (73/300)\n",
      "Skipping fallopian_tubes_AJGB283_173.ndpi\n",
      "fallopian_tubes_AJGB283_177.ndpi (75/300)\n",
      "Skipping fallopian_tubes_AJGB283_177.ndpi\n",
      "fallopian_tubes_AJGB283_181.ndpi (77/300)\n",
      "Skipping fallopian_tubes_AJGB283_181.ndpi\n",
      "fallopian_tubes_AJGB283_185.ndpi (79/300)\n",
      "Skipping fallopian_tubes_AJGB283_185.ndpi\n",
      "fallopian_tubes_AJGB283_189.ndpi (81/300)\n",
      "Skipping fallopian_tubes_AJGB283_189.ndpi\n",
      "fallopian_tubes_AJGB283_193.ndpi (83/300)\n",
      "Skipping fallopian_tubes_AJGB283_193.ndpi\n",
      "fallopian_tubes_AJGB283_197.ndpi (85/300)\n",
      "Skipping fallopian_tubes_AJGB283_197.ndpi\n",
      "fallopian_tubes_AJGB283_201.ndpi (87/300)\n",
      "Skipping fallopian_tubes_AJGB283_201.ndpi\n",
      "fallopian_tubes_AJGB283_205.ndpi (89/300)\n",
      "Skipping fallopian_tubes_AJGB283_205.ndpi\n",
      "fallopian_tubes_AJGB283_209.ndpi (91/300)\n",
      "Skipping fallopian_tubes_AJGB283_209.ndpi\n",
      "fallopian_tubes_AJGB283_213.ndpi (93/300)\n",
      "Skipping fallopian_tubes_AJGB283_213.ndpi\n",
      "fallopian_tubes_AJGB283_217.ndpi (95/300)\n",
      "Skipping fallopian_tubes_AJGB283_217.ndpi\n",
      "fallopian_tubes_AJGB283_221.ndpi (97/300)\n",
      "Skipping fallopian_tubes_AJGB283_221.ndpi\n",
      "fallopian_tubes_AJGB283_225.ndpi (99/300)\n",
      "Skipping fallopian_tubes_AJGB283_225.ndpi\n",
      "fallopian_tubes_AJGB283_229.ndpi (101/300)\n",
      "Skipping fallopian_tubes_AJGB283_229.ndpi\n",
      "fallopian_tubes_AJGB283_233.ndpi (103/300)\n",
      "Skipping fallopian_tubes_AJGB283_233.ndpi\n",
      "fallopian_tubes_AJGB283_237.ndpi (105/300)\n",
      "Skipping fallopian_tubes_AJGB283_237.ndpi\n",
      "fallopian_tubes_AJGB283_241.ndpi (107/300)\n",
      "Skipping fallopian_tubes_AJGB283_241.ndpi\n",
      "fallopian_tubes_AJGB283_245.ndpi (109/300)\n",
      "Skipping fallopian_tubes_AJGB283_245.ndpi\n",
      "fallopian_tubes_AJGB283_249.ndpi (111/300)\n",
      "Skipping fallopian_tubes_AJGB283_249.ndpi\n",
      "fallopian_tubes_AJGB283_253.ndpi (113/300)\n",
      "Skipping fallopian_tubes_AJGB283_253.ndpi\n",
      "fallopian_tubes_AJGB283_257.ndpi (115/300)\n",
      "Skipping fallopian_tubes_AJGB283_257.ndpi\n",
      "fallopian_tubes_AJGB283_261.ndpi (117/300)\n",
      "Skipping fallopian_tubes_AJGB283_261.ndpi\n",
      "fallopian_tubes_AJGB283_265.ndpi (119/300)\n",
      "Skipping fallopian_tubes_AJGB283_265.ndpi\n",
      "fallopian_tubes_AJGB283_269.ndpi (121/300)\n",
      "Skipping fallopian_tubes_AJGB283_269.ndpi\n",
      "fallopian_tubes_AJGB283_273.ndpi (123/300)\n",
      "Skipping fallopian_tubes_AJGB283_273.ndpi\n",
      "fallopian_tubes_AJGB283_277.ndpi (125/300)\n",
      "Skipping fallopian_tubes_AJGB283_277.ndpi\n",
      "fallopian_tubes_AJGB283_281.ndpi (127/300)\n",
      "Skipping fallopian_tubes_AJGB283_281.ndpi\n",
      "fallopian_tubes_AJGB283_285.ndpi (129/300)\n",
      "Skipping fallopian_tubes_AJGB283_285.ndpi\n",
      "fallopian_tubes_AJGB283_289.ndpi (131/300)\n",
      "Skipping fallopian_tubes_AJGB283_289.ndpi\n",
      "fallopian_tubes_AJGB283_293.ndpi (133/300)\n",
      "Skipping fallopian_tubes_AJGB283_293.ndpi\n",
      "fallopian_tubes_AJGB283_297.ndpi (135/300)\n",
      "Skipping fallopian_tubes_AJGB283_297.ndpi\n",
      "fallopian_tubes_AJGB283_301.ndpi (137/300)\n",
      "Skipping fallopian_tubes_AJGB283_301.ndpi\n",
      "fallopian_tubes_AJGB283_305.ndpi (139/300)\n",
      "Skipping fallopian_tubes_AJGB283_305.ndpi\n",
      "fallopian_tubes_AJGB283_309.ndpi (141/300)\n",
      "Skipping fallopian_tubes_AJGB283_309.ndpi\n",
      "fallopian_tubes_AJGB283_313.ndpi (143/300)\n",
      "Skipping fallopian_tubes_AJGB283_313.ndpi\n",
      "fallopian_tubes_AJGB283_317.ndpi (145/300)\n",
      "Skipping fallopian_tubes_AJGB283_317.ndpi\n",
      "fallopian_tubes_AJGB283_321.ndpi (147/300)\n",
      "Skipping fallopian_tubes_AJGB283_321.ndpi\n",
      "fallopian_tubes_AJGB283_325.ndpi (149/300)\n",
      "Skipping fallopian_tubes_AJGB283_325.ndpi\n",
      "fallopian_tubes_AJGB283_329.ndpi (151/300)\n",
      "Skipping fallopian_tubes_AJGB283_329.ndpi\n",
      "fallopian_tubes_AJGB283_333.ndpi (153/300)\n",
      "Skipping fallopian_tubes_AJGB283_333.ndpi\n",
      "fallopian_tubes_AJGB283_337.ndpi (155/300)\n",
      "Skipping fallopian_tubes_AJGB283_337.ndpi\n",
      "fallopian_tubes_AJGB283_341.ndpi (157/300)\n",
      "Skipping fallopian_tubes_AJGB283_341.ndpi\n",
      "fallopian_tubes_AJGB283_345.ndpi (159/300)\n",
      "Skipping fallopian_tubes_AJGB283_345.ndpi\n",
      "fallopian_tubes_AJGB283_349.ndpi (161/300)\n",
      "Skipping fallopian_tubes_AJGB283_349.ndpi\n",
      "fallopian_tubes_AJGB283_353.ndpi (163/300)\n",
      "Skipping fallopian_tubes_AJGB283_353.ndpi\n",
      "fallopian_tubes_AJGB283_357.ndpi (165/300)\n",
      "Skipping fallopian_tubes_AJGB283_357.ndpi\n",
      "fallopian_tubes_AJGB283_361.ndpi (167/300)\n",
      "Skipping fallopian_tubes_AJGB283_361.ndpi\n",
      "fallopian_tubes_AJGB283_365.ndpi (169/300)\n",
      "Skipping fallopian_tubes_AJGB283_365.ndpi\n",
      "fallopian_tubes_AJGB283_369.ndpi (171/300)\n",
      "Skipping fallopian_tubes_AJGB283_369.ndpi\n",
      "fallopian_tubes_AJGB283_373.ndpi (173/300)\n",
      "Skipping fallopian_tubes_AJGB283_373.ndpi\n",
      "fallopian_tubes_AJGB283_377.ndpi (175/300)\n",
      "Skipping fallopian_tubes_AJGB283_377.ndpi\n",
      "fallopian_tubes_AJGB283_381.ndpi (177/300)\n",
      "Skipping fallopian_tubes_AJGB283_381.ndpi\n",
      "fallopian_tubes_AJGB283_385.ndpi (179/300)\n",
      "Skipping fallopian_tubes_AJGB283_385.ndpi\n",
      "fallopian_tubes_AJGB283_389.ndpi (181/300)\n",
      "Skipping fallopian_tubes_AJGB283_389.ndpi\n",
      "fallopian_tubes_AJGB283_393.ndpi (183/300)\n",
      "Skipping fallopian_tubes_AJGB283_393.ndpi\n",
      "fallopian_tubes_AJGB283_397.ndpi (185/300)\n",
      "Skipping fallopian_tubes_AJGB283_397.ndpi\n",
      "fallopian_tubes_AJGB283_401.ndpi (187/300)\n",
      "Skipping fallopian_tubes_AJGB283_401.ndpi\n",
      "fallopian_tubes_AJGB283_405.ndpi (189/300)\n",
      "Skipping fallopian_tubes_AJGB283_405.ndpi\n",
      "fallopian_tubes_AJGB283_409.ndpi (191/300)\n",
      "Skipping fallopian_tubes_AJGB283_409.ndpi\n",
      "fallopian_tubes_AJGB283_413.ndpi (193/300)\n",
      "Skipping fallopian_tubes_AJGB283_413.ndpi\n",
      "fallopian_tubes_AJGB283_417.ndpi (195/300)\n",
      "Skipping fallopian_tubes_AJGB283_417.ndpi\n",
      "fallopian_tubes_AJGB283_421.ndpi (197/300)\n",
      "Skipping fallopian_tubes_AJGB283_421.ndpi\n",
      "fallopian_tubes_AJGB283_425.ndpi (199/300)\n",
      "Skipping fallopian_tubes_AJGB283_425.ndpi\n",
      "fallopian_tubes_AJGB283_429.ndpi (201/300)\n",
      "Skipping fallopian_tubes_AJGB283_429.ndpi\n",
      "fallopian_tubes_AJGB283_433.ndpi (203/300)\n",
      "Skipping fallopian_tubes_AJGB283_433.ndpi\n",
      "fallopian_tubes_AJGB283_437.ndpi (205/300)\n",
      "Skipping fallopian_tubes_AJGB283_437.ndpi\n",
      "fallopian_tubes_AJGB283_441.ndpi (207/300)\n",
      "Skipping fallopian_tubes_AJGB283_441.ndpi\n",
      "fallopian_tubes_AJGB283_445.ndpi (209/300)\n",
      "Skipping fallopian_tubes_AJGB283_445.ndpi\n",
      "fallopian_tubes_AJGB283_449.ndpi (211/300)\n",
      "Skipping fallopian_tubes_AJGB283_449.ndpi\n",
      "fallopian_tubes_AJGB283_453.ndpi (213/300)\n",
      "Skipping fallopian_tubes_AJGB283_453.ndpi\n",
      "fallopian_tubes_AJGB283_457.ndpi (215/300)\n",
      "Skipping fallopian_tubes_AJGB283_457.ndpi\n",
      "fallopian_tubes_AJGB283_461.ndpi (217/300)\n",
      "Skipping fallopian_tubes_AJGB283_461.ndpi\n",
      "fallopian_tubes_AJGB283_465.ndpi (219/300)\n",
      "Skipping fallopian_tubes_AJGB283_465.ndpi\n",
      "fallopian_tubes_AJGB283_469.ndpi (221/300)\n",
      "Skipping fallopian_tubes_AJGB283_469.ndpi\n",
      "fallopian_tubes_AJGB283_473.ndpi (223/300)\n",
      "Skipping fallopian_tubes_AJGB283_473.ndpi\n",
      "fallopian_tubes_AJGB283_477.ndpi (225/300)\n",
      "Skipping fallopian_tubes_AJGB283_477.ndpi\n",
      "fallopian_tubes_AJGB283_481.ndpi (227/300)\n",
      "Skipping fallopian_tubes_AJGB283_481.ndpi\n",
      "fallopian_tubes_AJGB283_485.ndpi (229/300)\n",
      "Skipping fallopian_tubes_AJGB283_485.ndpi\n",
      "fallopian_tubes_AJGB283_489.ndpi (231/300)\n",
      "Skipping fallopian_tubes_AJGB283_489.ndpi\n",
      "fallopian_tubes_AJGB283_493.ndpi (233/300)\n",
      "Skipping fallopian_tubes_AJGB283_493.ndpi\n",
      "fallopian_tubes_AJGB283_497.ndpi (235/300)\n",
      "Skipping fallopian_tubes_AJGB283_497.ndpi\n",
      "fallopian_tubes_AJGB283_501.ndpi (237/300)\n",
      "Skipping fallopian_tubes_AJGB283_501.ndpi\n",
      "fallopian_tubes_AJGB283_505.ndpi (239/300)\n",
      "Skipping fallopian_tubes_AJGB283_505.ndpi\n",
      "fallopian_tubes_AJGB283_509.ndpi (241/300)\n",
      "Skipping fallopian_tubes_AJGB283_509.ndpi\n",
      "fallopian_tubes_AJGB283_513.ndpi (243/300)\n",
      "Skipping fallopian_tubes_AJGB283_513.ndpi\n",
      "fallopian_tubes_AJGB283_517.ndpi (245/300)\n",
      "Skipping fallopian_tubes_AJGB283_517.ndpi\n",
      "fallopian_tubes_AJGB283_521.ndpi (247/300)\n",
      "Skipping fallopian_tubes_AJGB283_521.ndpi\n",
      "fallopian_tubes_AJGB283_525.ndpi (249/300)\n",
      "Skipping fallopian_tubes_AJGB283_525.ndpi\n",
      "fallopian_tubes_AJGB283_529.ndpi (251/300)\n",
      "Skipping fallopian_tubes_AJGB283_529.ndpi\n",
      "fallopian_tubes_AJGB283_533.ndpi (253/300)\n",
      "Skipping fallopian_tubes_AJGB283_533.ndpi\n",
      "fallopian_tubes_AJGB283_537.ndpi (255/300)\n",
      "Skipping fallopian_tubes_AJGB283_537.ndpi\n",
      "fallopian_tubes_AJGB283_541.ndpi (257/300)\n",
      "Skipping fallopian_tubes_AJGB283_541.ndpi\n",
      "fallopian_tubes_AJGB283_545.ndpi (259/300)\n",
      "Skipping fallopian_tubes_AJGB283_545.ndpi\n",
      "fallopian_tubes_AJGB283_549.ndpi (261/300)\n",
      "Skipping fallopian_tubes_AJGB283_549.ndpi\n",
      "fallopian_tubes_AJGB283_553.ndpi (263/300)\n",
      "Skipping fallopian_tubes_AJGB283_553.ndpi\n",
      "fallopian_tubes_AJGB283_557.ndpi (265/300)\n",
      "Skipping fallopian_tubes_AJGB283_557.ndpi\n",
      "fallopian_tubes_AJGB283_561.ndpi (267/300)\n",
      "Skipping fallopian_tubes_AJGB283_561.ndpi\n",
      "fallopian_tubes_AJGB283_565.ndpi (269/300)\n",
      "Skipping fallopian_tubes_AJGB283_565.ndpi\n",
      "fallopian_tubes_AJGB283_569.ndpi (271/300)\n",
      "Skipping fallopian_tubes_AJGB283_569.ndpi\n",
      "fallopian_tubes_AJGB283_573.ndpi (273/300)\n",
      "Skipping fallopian_tubes_AJGB283_573.ndpi\n",
      "fallopian_tubes_AJGB283_577.ndpi (275/300)\n",
      "Skipping fallopian_tubes_AJGB283_577.ndpi\n",
      "fallopian_tubes_AJGB283_581.ndpi (277/300)\n",
      "Skipping fallopian_tubes_AJGB283_581.ndpi\n",
      "fallopian_tubes_AJGB283_585.ndpi (279/300)\n",
      "Skipping fallopian_tubes_AJGB283_585.ndpi\n",
      "fallopian_tubes_AJGB283_589.ndpi (281/300)\n",
      "Skipping fallopian_tubes_AJGB283_589.ndpi\n",
      "fallopian_tubes_AJGB283_593.ndpi (283/300)\n",
      "Skipping fallopian_tubes_AJGB283_593.ndpi\n",
      "fallopian_tubes_AJGB283_597.ndpi (285/300)\n",
      "Skipping fallopian_tubes_AJGB283_597.ndpi\n",
      "fallopian_tubes_AJGB283_601.ndpi (287/300)\n",
      "Skipping fallopian_tubes_AJGB283_601.ndpi\n",
      "fallopian_tubes_AJGB283_605.ndpi (289/300)\n",
      "Skipping fallopian_tubes_AJGB283_605.ndpi\n",
      "fallopian_tubes_AJGB283_609.ndpi (291/300)\n",
      "Skipping fallopian_tubes_AJGB283_609.ndpi\n",
      "fallopian_tubes_AJGB283_613.ndpi (293/300)\n",
      "Skipping fallopian_tubes_AJGB283_613.ndpi\n",
      "fallopian_tubes_AJGB283_617.ndpi (295/300)\n",
      "Skipping fallopian_tubes_AJGB283_617.ndpi\n",
      "fallopian_tubes_AJGB283_621.ndpi (297/300)\n",
      "Skipping fallopian_tubes_AJGB283_621.ndpi\n",
      "fallopian_tubes_AJGB283_625.ndpi (299/300)\n",
      "Skipping fallopian_tubes_AJGB283_625.ndpi\n",
      "fallopian_tubes_AJLF232_0001.ndpi (1/687)\n",
      "Skipping fallopian_tubes_AJLF232_0001.ndpi\n",
      "fallopian_tubes_AJLF232_0005.ndpi (3/687)\n",
      "Skipping fallopian_tubes_AJLF232_0005.ndpi\n",
      "fallopian_tubes_AJLF232_0009.ndpi (5/687)\n",
      "Skipping fallopian_tubes_AJLF232_0009.ndpi\n",
      "fallopian_tubes_AJLF232_0013.ndpi (7/687)\n",
      "Skipping fallopian_tubes_AJLF232_0013.ndpi\n",
      "fallopian_tubes_AJLF232_0017.ndpi (9/687)\n",
      "Skipping fallopian_tubes_AJLF232_0017.ndpi\n",
      "fallopian_tubes_AJLF232_0021.ndpi (11/687)\n",
      "Skipping fallopian_tubes_AJLF232_0021.ndpi\n",
      "fallopian_tubes_AJLF232_0025.ndpi (13/687)\n",
      "Skipping fallopian_tubes_AJLF232_0025.ndpi\n",
      "fallopian_tubes_AJLF232_0029.ndpi (15/687)\n",
      "Skipping fallopian_tubes_AJLF232_0029.ndpi\n",
      "fallopian_tubes_AJLF232_0033.ndpi (17/687)\n",
      "Skipping fallopian_tubes_AJLF232_0033.ndpi\n",
      "fallopian_tubes_AJLF232_0037.ndpi (19/687)\n",
      "Skipping fallopian_tubes_AJLF232_0037.ndpi\n",
      "fallopian_tubes_AJLF232_0041.ndpi (21/687)\n",
      "Skipping fallopian_tubes_AJLF232_0041.ndpi\n",
      "fallopian_tubes_AJLF232_0045.ndpi (23/687)\n",
      "Skipping fallopian_tubes_AJLF232_0045.ndpi\n",
      "fallopian_tubes_AJLF232_0049.ndpi (25/687)\n",
      "Skipping fallopian_tubes_AJLF232_0049.ndpi\n",
      "fallopian_tubes_AJLF232_0053.ndpi (27/687)\n",
      "Skipping fallopian_tubes_AJLF232_0053.ndpi\n",
      "fallopian_tubes_AJLF232_0057.ndpi (29/687)\n",
      "Skipping fallopian_tubes_AJLF232_0057.ndpi\n",
      "fallopian_tubes_AJLF232_0061.ndpi (31/687)\n",
      "Skipping fallopian_tubes_AJLF232_0061.ndpi\n",
      "fallopian_tubes_AJLF232_0065.ndpi (33/687)\n",
      "Skipping fallopian_tubes_AJLF232_0065.ndpi\n",
      "fallopian_tubes_AJLF232_0069.ndpi (35/687)\n",
      "Skipping fallopian_tubes_AJLF232_0069.ndpi\n",
      "fallopian_tubes_AJLF232_0073.ndpi (37/687)\n",
      "Skipping fallopian_tubes_AJLF232_0073.ndpi\n",
      "fallopian_tubes_AJLF232_0077.ndpi (39/687)\n",
      "Skipping fallopian_tubes_AJLF232_0077.ndpi\n",
      "fallopian_tubes_AJLF232_0081.ndpi (41/687)\n",
      "Skipping fallopian_tubes_AJLF232_0081.ndpi\n",
      "fallopian_tubes_AJLF232_0085.ndpi (43/687)\n",
      "Skipping fallopian_tubes_AJLF232_0085.ndpi\n",
      "fallopian_tubes_AJLF232_0089.ndpi (45/687)\n",
      "Skipping fallopian_tubes_AJLF232_0089.ndpi\n",
      "fallopian_tubes_AJLF232_0093.ndpi (47/687)\n",
      "Skipping fallopian_tubes_AJLF232_0093.ndpi\n",
      "fallopian_tubes_AJLF232_0097.ndpi (49/687)\n",
      "Skipping fallopian_tubes_AJLF232_0097.ndpi\n",
      "fallopian_tubes_AJLF232_0101.ndpi (51/687)\n",
      "Skipping fallopian_tubes_AJLF232_0101.ndpi\n",
      "fallopian_tubes_AJLF232_0105.ndpi (53/687)\n",
      "Skipping fallopian_tubes_AJLF232_0105.ndpi\n",
      "fallopian_tubes_AJLF232_0109.ndpi (55/687)\n",
      "Skipping fallopian_tubes_AJLF232_0109.ndpi\n",
      "fallopian_tubes_AJLF232_0113.ndpi (57/687)\n",
      "Skipping fallopian_tubes_AJLF232_0113.ndpi\n",
      "fallopian_tubes_AJLF232_0117.ndpi (59/687)\n",
      "Skipping fallopian_tubes_AJLF232_0117.ndpi\n",
      "fallopian_tubes_AJLF232_0121.ndpi (61/687)\n",
      "Skipping fallopian_tubes_AJLF232_0121.ndpi\n",
      "fallopian_tubes_AJLF232_0125.ndpi (63/687)\n",
      "Skipping fallopian_tubes_AJLF232_0125.ndpi\n",
      "fallopian_tubes_AJLF232_0129.ndpi (65/687)\n",
      "Skipping fallopian_tubes_AJLF232_0129.ndpi\n",
      "fallopian_tubes_AJLF232_0133.ndpi (67/687)\n",
      "Skipping fallopian_tubes_AJLF232_0133.ndpi\n",
      "fallopian_tubes_AJLF232_0137.ndpi (69/687)\n",
      "Skipping fallopian_tubes_AJLF232_0137.ndpi\n",
      "fallopian_tubes_AJLF232_0141.ndpi (71/687)\n",
      "Skipping fallopian_tubes_AJLF232_0141.ndpi\n",
      "fallopian_tubes_AJLF232_0145.ndpi (73/687)\n",
      "Skipping fallopian_tubes_AJLF232_0145.ndpi\n",
      "fallopian_tubes_AJLF232_0149.ndpi (75/687)\n",
      "Skipping fallopian_tubes_AJLF232_0149.ndpi\n",
      "fallopian_tubes_AJLF232_0153.ndpi (77/687)\n",
      "Skipping fallopian_tubes_AJLF232_0153.ndpi\n",
      "fallopian_tubes_AJLF232_0157.ndpi (79/687)\n",
      "Skipping fallopian_tubes_AJLF232_0157.ndpi\n",
      "fallopian_tubes_AJLF232_0161.ndpi (81/687)\n",
      "Skipping fallopian_tubes_AJLF232_0161.ndpi\n",
      "fallopian_tubes_AJLF232_0165.ndpi (83/687)\n",
      "Skipping fallopian_tubes_AJLF232_0165.ndpi\n",
      "fallopian_tubes_AJLF232_0169.ndpi (85/687)\n",
      "Skipping fallopian_tubes_AJLF232_0169.ndpi\n",
      "fallopian_tubes_AJLF232_0173.ndpi (87/687)\n",
      "Skipping fallopian_tubes_AJLF232_0173.ndpi\n",
      "fallopian_tubes_AJLF232_0177.ndpi (89/687)\n",
      "Skipping fallopian_tubes_AJLF232_0177.ndpi\n",
      "fallopian_tubes_AJLF232_0181.ndpi (91/687)\n",
      "Skipping fallopian_tubes_AJLF232_0181.ndpi\n",
      "fallopian_tubes_AJLF232_0185.ndpi (93/687)\n",
      "Skipping fallopian_tubes_AJLF232_0185.ndpi\n",
      "fallopian_tubes_AJLF232_0189.ndpi (95/687)\n",
      "Skipping fallopian_tubes_AJLF232_0189.ndpi\n",
      "fallopian_tubes_AJLF232_0193.ndpi (97/687)\n",
      "Skipping fallopian_tubes_AJLF232_0193.ndpi\n",
      "fallopian_tubes_AJLF232_0197.ndpi (99/687)\n",
      "Skipping fallopian_tubes_AJLF232_0197.ndpi\n",
      "fallopian_tubes_AJLF232_0201.ndpi (101/687)\n",
      "Skipping fallopian_tubes_AJLF232_0201.ndpi\n",
      "fallopian_tubes_AJLF232_0205.ndpi (103/687)\n",
      "Skipping fallopian_tubes_AJLF232_0205.ndpi\n",
      "fallopian_tubes_AJLF232_0209.ndpi (105/687)\n",
      "Skipping fallopian_tubes_AJLF232_0209.ndpi\n",
      "fallopian_tubes_AJLF232_0213.ndpi (107/687)\n",
      "Skipping fallopian_tubes_AJLF232_0213.ndpi\n",
      "fallopian_tubes_AJLF232_0217.ndpi (109/687)\n",
      "Skipping fallopian_tubes_AJLF232_0217.ndpi\n",
      "fallopian_tubes_AJLF232_0221.ndpi (111/687)\n",
      "Skipping fallopian_tubes_AJLF232_0221.ndpi\n",
      "fallopian_tubes_AJLF232_0225.ndpi (113/687)\n",
      "Skipping fallopian_tubes_AJLF232_0225.ndpi\n",
      "fallopian_tubes_AJLF232_0229.ndpi (115/687)\n",
      "Skipping fallopian_tubes_AJLF232_0229.ndpi\n",
      "fallopian_tubes_AJLF232_0233.ndpi (117/687)\n",
      "Skipping fallopian_tubes_AJLF232_0233.ndpi\n",
      "fallopian_tubes_AJLF232_0237.ndpi (119/687)\n",
      "Skipping fallopian_tubes_AJLF232_0237.ndpi\n",
      "fallopian_tubes_AJLF232_0241.ndpi (121/687)\n",
      "Skipping fallopian_tubes_AJLF232_0241.ndpi\n",
      "fallopian_tubes_AJLF232_0245.ndpi (123/687)\n",
      "Skipping fallopian_tubes_AJLF232_0245.ndpi\n",
      "fallopian_tubes_AJLF232_0249.ndpi (125/687)\n",
      "Skipping fallopian_tubes_AJLF232_0249.ndpi\n",
      "fallopian_tubes_AJLF232_0253.ndpi (127/687)\n",
      "Skipping fallopian_tubes_AJLF232_0253.ndpi\n",
      "fallopian_tubes_AJLF232_0257.ndpi (129/687)\n",
      "Skipping fallopian_tubes_AJLF232_0257.ndpi\n",
      "fallopian_tubes_AJLF232_0261.ndpi (131/687)\n",
      "Skipping fallopian_tubes_AJLF232_0261.ndpi\n",
      "fallopian_tubes_AJLF232_0265.ndpi (133/687)\n",
      "Skipping fallopian_tubes_AJLF232_0265.ndpi\n",
      "fallopian_tubes_AJLF232_0269.ndpi (135/687)\n",
      "Skipping fallopian_tubes_AJLF232_0269.ndpi\n",
      "fallopian_tubes_AJLF232_0273.ndpi (137/687)\n",
      "Skipping fallopian_tubes_AJLF232_0273.ndpi\n",
      "fallopian_tubes_AJLF232_0277.ndpi (139/687)\n",
      "Skipping fallopian_tubes_AJLF232_0277.ndpi\n",
      "fallopian_tubes_AJLF232_0281.ndpi (141/687)\n",
      "Skipping fallopian_tubes_AJLF232_0281.ndpi\n",
      "fallopian_tubes_AJLF232_0285.ndpi (143/687)\n",
      "Skipping fallopian_tubes_AJLF232_0285.ndpi\n",
      "fallopian_tubes_AJLF232_0289.ndpi (145/687)\n",
      "Skipping fallopian_tubes_AJLF232_0289.ndpi\n",
      "fallopian_tubes_AJLF232_0293.ndpi (147/687)\n",
      "Skipping fallopian_tubes_AJLF232_0293.ndpi\n",
      "fallopian_tubes_AJLF232_0297.ndpi (149/687)\n",
      "Skipping fallopian_tubes_AJLF232_0297.ndpi\n",
      "fallopian_tubes_AJLF232_0301.ndpi (151/687)\n",
      "Skipping fallopian_tubes_AJLF232_0301.ndpi\n",
      "fallopian_tubes_AJLF232_0305.ndpi (153/687)\n",
      "Skipping fallopian_tubes_AJLF232_0305.ndpi\n",
      "fallopian_tubes_AJLF232_0309.ndpi (155/687)\n",
      "Skipping fallopian_tubes_AJLF232_0309.ndpi\n",
      "fallopian_tubes_AJLF232_0313.ndpi (157/687)\n",
      "Skipping fallopian_tubes_AJLF232_0313.ndpi\n",
      "fallopian_tubes_AJLF232_0317.ndpi (159/687)\n",
      "Skipping fallopian_tubes_AJLF232_0317.ndpi\n",
      "fallopian_tubes_AJLF232_0321.ndpi (161/687)\n",
      "Skipping fallopian_tubes_AJLF232_0321.ndpi\n",
      "fallopian_tubes_AJLF232_0325.ndpi (163/687)\n",
      "Skipping fallopian_tubes_AJLF232_0325.ndpi\n",
      "fallopian_tubes_AJLF232_0329.ndpi (165/687)\n",
      "Skipping fallopian_tubes_AJLF232_0329.ndpi\n",
      "fallopian_tubes_AJLF232_0333.ndpi (167/687)\n",
      "Skipping fallopian_tubes_AJLF232_0333.ndpi\n",
      "fallopian_tubes_AJLF232_0337.ndpi (169/687)\n",
      "Skipping fallopian_tubes_AJLF232_0337.ndpi\n",
      "fallopian_tubes_AJLF232_0341.ndpi (171/687)\n",
      "Skipping fallopian_tubes_AJLF232_0341.ndpi\n",
      "fallopian_tubes_AJLF232_0345.ndpi (173/687)\n",
      "Skipping fallopian_tubes_AJLF232_0345.ndpi\n",
      "fallopian_tubes_AJLF232_0349.ndpi (175/687)\n",
      "Skipping fallopian_tubes_AJLF232_0349.ndpi\n",
      "fallopian_tubes_AJLF232_0353.ndpi (177/687)\n",
      "Skipping fallopian_tubes_AJLF232_0353.ndpi\n",
      "fallopian_tubes_AJLF232_0357.ndpi (179/687)\n",
      "Skipping fallopian_tubes_AJLF232_0357.ndpi\n",
      "fallopian_tubes_AJLF232_0361.ndpi (181/687)\n",
      "Skipping fallopian_tubes_AJLF232_0361.ndpi\n",
      "fallopian_tubes_AJLF232_0365.ndpi (183/687)\n",
      "Skipping fallopian_tubes_AJLF232_0365.ndpi\n",
      "fallopian_tubes_AJLF232_0369.ndpi (185/687)\n",
      "Skipping fallopian_tubes_AJLF232_0369.ndpi\n",
      "fallopian_tubes_AJLF232_0373.ndpi (187/687)\n",
      "Skipping fallopian_tubes_AJLF232_0373.ndpi\n",
      "fallopian_tubes_AJLF232_0377.ndpi (189/687)\n",
      "Skipping fallopian_tubes_AJLF232_0377.ndpi\n",
      "fallopian_tubes_AJLF232_0381.ndpi (191/687)\n",
      "Skipping fallopian_tubes_AJLF232_0381.ndpi\n",
      "fallopian_tubes_AJLF232_0385.ndpi (193/687)\n",
      "Skipping fallopian_tubes_AJLF232_0385.ndpi\n",
      "fallopian_tubes_AJLF232_0389.ndpi (195/687)\n",
      "Skipping fallopian_tubes_AJLF232_0389.ndpi\n",
      "fallopian_tubes_AJLF232_0393.ndpi (197/687)\n",
      "Skipping fallopian_tubes_AJLF232_0393.ndpi\n",
      "fallopian_tubes_AJLF232_0397.ndpi (199/687)\n",
      "Skipping fallopian_tubes_AJLF232_0397.ndpi\n",
      "fallopian_tubes_AJLF232_0401.ndpi (201/687)\n",
      "Skipping fallopian_tubes_AJLF232_0401.ndpi\n",
      "fallopian_tubes_AJLF232_0405.ndpi (203/687)\n",
      "Skipping fallopian_tubes_AJLF232_0405.ndpi\n",
      "fallopian_tubes_AJLF232_0409.ndpi (205/687)\n",
      "Skipping fallopian_tubes_AJLF232_0409.ndpi\n",
      "fallopian_tubes_AJLF232_0413.ndpi (207/687)\n",
      "Skipping fallopian_tubes_AJLF232_0413.ndpi\n",
      "fallopian_tubes_AJLF232_0417.ndpi (209/687)\n",
      "Skipping fallopian_tubes_AJLF232_0417.ndpi\n",
      "fallopian_tubes_AJLF232_0421.ndpi (211/687)\n",
      "Skipping fallopian_tubes_AJLF232_0421.ndpi\n",
      "fallopian_tubes_AJLF232_0425.ndpi (213/687)\n",
      "Skipping fallopian_tubes_AJLF232_0425.ndpi\n",
      "fallopian_tubes_AJLF232_0429.ndpi (215/687)\n",
      "Skipping fallopian_tubes_AJLF232_0429.ndpi\n",
      "fallopian_tubes_AJLF232_0433.ndpi (217/687)\n",
      "Skipping fallopian_tubes_AJLF232_0433.ndpi\n",
      "fallopian_tubes_AJLF232_0437.ndpi (219/687)\n",
      "Skipping fallopian_tubes_AJLF232_0437.ndpi\n",
      "fallopian_tubes_AJLF232_0441.ndpi (221/687)\n",
      "Skipping fallopian_tubes_AJLF232_0441.ndpi\n",
      "fallopian_tubes_AJLF232_0445.ndpi (223/687)\n",
      "Skipping fallopian_tubes_AJLF232_0445.ndpi\n",
      "fallopian_tubes_AJLF232_0449.ndpi (225/687)\n",
      "Skipping fallopian_tubes_AJLF232_0449.ndpi\n",
      "fallopian_tubes_AJLF232_0453.ndpi (227/687)\n",
      "Skipping fallopian_tubes_AJLF232_0453.ndpi\n",
      "fallopian_tubes_AJLF232_0457.ndpi (229/687)\n",
      "Skipping fallopian_tubes_AJLF232_0457.ndpi\n",
      "fallopian_tubes_AJLF232_0461.ndpi (231/687)\n",
      "Skipping fallopian_tubes_AJLF232_0461.ndpi\n",
      "fallopian_tubes_AJLF232_0465.ndpi (233/687)\n",
      "Skipping fallopian_tubes_AJLF232_0465.ndpi\n",
      "fallopian_tubes_AJLF232_0469.ndpi (235/687)\n",
      "Skipping fallopian_tubes_AJLF232_0469.ndpi\n",
      "fallopian_tubes_AJLF232_0473.ndpi (237/687)\n",
      "Skipping fallopian_tubes_AJLF232_0473.ndpi\n",
      "fallopian_tubes_AJLF232_0477.ndpi (239/687)\n",
      "Skipping fallopian_tubes_AJLF232_0477.ndpi\n",
      "fallopian_tubes_AJLF232_0481.ndpi (241/687)\n",
      "Skipping fallopian_tubes_AJLF232_0481.ndpi\n",
      "fallopian_tubes_AJLF232_0485.ndpi (243/687)\n",
      "Skipping fallopian_tubes_AJLF232_0485.ndpi\n",
      "fallopian_tubes_AJLF232_0489.ndpi (245/687)\n",
      "Skipping fallopian_tubes_AJLF232_0489.ndpi\n",
      "fallopian_tubes_AJLF232_0493.ndpi (247/687)\n",
      "Skipping fallopian_tubes_AJLF232_0493.ndpi\n",
      "fallopian_tubes_AJLF232_0497.ndpi (249/687)\n",
      "Skipping fallopian_tubes_AJLF232_0497.ndpi\n",
      "fallopian_tubes_AJLF232_0501.ndpi (251/687)\n",
      "Skipping fallopian_tubes_AJLF232_0501.ndpi\n",
      "fallopian_tubes_AJLF232_0505.ndpi (253/687)\n",
      "Skipping fallopian_tubes_AJLF232_0505.ndpi\n",
      "fallopian_tubes_AJLF232_0509.ndpi (255/687)\n",
      "Skipping fallopian_tubes_AJLF232_0509.ndpi\n",
      "fallopian_tubes_AJLF232_0513.ndpi (257/687)\n",
      "Skipping fallopian_tubes_AJLF232_0513.ndpi\n",
      "fallopian_tubes_AJLF232_0517.ndpi (259/687)\n",
      "Skipping fallopian_tubes_AJLF232_0517.ndpi\n",
      "fallopian_tubes_AJLF232_0521.ndpi (261/687)\n",
      "Skipping fallopian_tubes_AJLF232_0521.ndpi\n",
      "fallopian_tubes_AJLF232_0525.ndpi (263/687)\n",
      "Skipping fallopian_tubes_AJLF232_0525.ndpi\n",
      "fallopian_tubes_AJLF232_0529.ndpi (265/687)\n",
      "Skipping fallopian_tubes_AJLF232_0529.ndpi\n",
      "fallopian_tubes_AJLF232_0533.ndpi (267/687)\n",
      "Skipping fallopian_tubes_AJLF232_0533.ndpi\n",
      "fallopian_tubes_AJLF232_0537.ndpi (269/687)\n",
      "Skipping fallopian_tubes_AJLF232_0537.ndpi\n",
      "fallopian_tubes_AJLF232_0541.ndpi (271/687)\n",
      "Skipping fallopian_tubes_AJLF232_0541.ndpi\n",
      "fallopian_tubes_AJLF232_0545.ndpi (273/687)\n",
      "Skipping fallopian_tubes_AJLF232_0545.ndpi\n",
      "fallopian_tubes_AJLF232_0549.ndpi (275/687)\n",
      "Skipping fallopian_tubes_AJLF232_0549.ndpi\n",
      "fallopian_tubes_AJLF232_0553.ndpi (277/687)\n",
      "Skipping fallopian_tubes_AJLF232_0553.ndpi\n",
      "fallopian_tubes_AJLF232_0557.ndpi (279/687)\n",
      "Skipping fallopian_tubes_AJLF232_0557.ndpi\n",
      "fallopian_tubes_AJLF232_0561.ndpi (281/687)\n",
      "Skipping fallopian_tubes_AJLF232_0561.ndpi\n",
      "fallopian_tubes_AJLF232_0565.ndpi (283/687)\n",
      "Skipping fallopian_tubes_AJLF232_0565.ndpi\n",
      "fallopian_tubes_AJLF232_0569.ndpi (285/687)\n",
      "Skipping fallopian_tubes_AJLF232_0569.ndpi\n",
      "fallopian_tubes_AJLF232_0573.ndpi (287/687)\n",
      "Skipping fallopian_tubes_AJLF232_0573.ndpi\n",
      "fallopian_tubes_AJLF232_0577.ndpi (289/687)\n",
      "Skipping fallopian_tubes_AJLF232_0577.ndpi\n",
      "fallopian_tubes_AJLF232_0581.ndpi (291/687)\n",
      "Skipping fallopian_tubes_AJLF232_0581.ndpi\n",
      "fallopian_tubes_AJLF232_0585.ndpi (293/687)\n",
      "Skipping fallopian_tubes_AJLF232_0585.ndpi\n",
      "fallopian_tubes_AJLF232_0589.ndpi (295/687)\n",
      "Skipping fallopian_tubes_AJLF232_0589.ndpi\n",
      "fallopian_tubes_AJLF232_0593.ndpi (297/687)\n",
      "Skipping fallopian_tubes_AJLF232_0593.ndpi\n",
      "fallopian_tubes_AJLF232_0597.ndpi (299/687)\n",
      "Skipping fallopian_tubes_AJLF232_0597.ndpi\n",
      "fallopian_tubes_AJLF232_0601.ndpi (301/687)\n",
      "Skipping fallopian_tubes_AJLF232_0601.ndpi\n",
      "fallopian_tubes_AJLF232_0605.ndpi (303/687)\n",
      "Skipping fallopian_tubes_AJLF232_0605.ndpi\n",
      "fallopian_tubes_AJLF232_0609.ndpi (305/687)\n",
      "Skipping fallopian_tubes_AJLF232_0609.ndpi\n",
      "fallopian_tubes_AJLF232_0613.ndpi (307/687)\n",
      "Skipping fallopian_tubes_AJLF232_0613.ndpi\n",
      "fallopian_tubes_AJLF232_0617.ndpi (309/687)\n",
      "Skipping fallopian_tubes_AJLF232_0617.ndpi\n",
      "fallopian_tubes_AJLF232_0621.ndpi (311/687)\n",
      "Skipping fallopian_tubes_AJLF232_0621.ndpi\n",
      "fallopian_tubes_AJLF232_0625.ndpi (313/687)\n",
      "Skipping fallopian_tubes_AJLF232_0625.ndpi\n",
      "fallopian_tubes_AJLF232_0629.ndpi (315/687)\n",
      "Skipping fallopian_tubes_AJLF232_0629.ndpi\n",
      "fallopian_tubes_AJLF232_0633.ndpi (317/687)\n",
      "Skipping fallopian_tubes_AJLF232_0633.ndpi\n",
      "fallopian_tubes_AJLF232_0637.ndpi (319/687)\n",
      "Skipping fallopian_tubes_AJLF232_0637.ndpi\n",
      "fallopian_tubes_AJLF232_0641.ndpi (321/687)\n",
      "Skipping fallopian_tubes_AJLF232_0641.ndpi\n",
      "fallopian_tubes_AJLF232_0645.ndpi (323/687)\n",
      "Skipping fallopian_tubes_AJLF232_0645.ndpi\n",
      "fallopian_tubes_AJLF232_0649.ndpi (325/687)\n",
      "Skipping fallopian_tubes_AJLF232_0649.ndpi\n",
      "fallopian_tubes_AJLF232_0653.ndpi (327/687)\n",
      "Skipping fallopian_tubes_AJLF232_0653.ndpi\n",
      "fallopian_tubes_AJLF232_0657.ndpi (329/687)\n",
      "Skipping fallopian_tubes_AJLF232_0657.ndpi\n",
      "fallopian_tubes_AJLF232_0661.ndpi (331/687)\n",
      "Skipping fallopian_tubes_AJLF232_0661.ndpi\n",
      "fallopian_tubes_AJLF232_0665.ndpi (333/687)\n",
      "Skipping fallopian_tubes_AJLF232_0665.ndpi\n",
      "fallopian_tubes_AJLF232_0669.ndpi (335/687)\n",
      "Skipping fallopian_tubes_AJLF232_0669.ndpi\n",
      "fallopian_tubes_AJLF232_0673.ndpi (337/687)\n",
      "Skipping fallopian_tubes_AJLF232_0673.ndpi\n",
      "fallopian_tubes_AJLF232_0677.ndpi (339/687)\n",
      "Skipping fallopian_tubes_AJLF232_0677.ndpi\n",
      "fallopian_tubes_AJLF232_0681.ndpi (341/687)\n",
      "Skipping fallopian_tubes_AJLF232_0681.ndpi\n",
      "fallopian_tubes_AJLF232_0685.ndpi (343/687)\n",
      "Skipping fallopian_tubes_AJLF232_0685.ndpi\n",
      "fallopian_tubes_AJLF232_0689.ndpi (345/687)\n",
      "Skipping fallopian_tubes_AJLF232_0689.ndpi\n",
      "fallopian_tubes_AJLF232_0693.ndpi (347/687)\n",
      "Skipping fallopian_tubes_AJLF232_0693.ndpi\n",
      "fallopian_tubes_AJLF232_0697.ndpi (349/687)\n",
      "Skipping fallopian_tubes_AJLF232_0697.ndpi\n",
      "fallopian_tubes_AJLF232_0701.ndpi (351/687)\n",
      "Skipping fallopian_tubes_AJLF232_0701.ndpi\n",
      "fallopian_tubes_AJLF232_0705.ndpi (353/687)\n",
      "Skipping fallopian_tubes_AJLF232_0705.ndpi\n",
      "fallopian_tubes_AJLF232_0709.ndpi (355/687)\n",
      "Skipping fallopian_tubes_AJLF232_0709.ndpi\n",
      "fallopian_tubes_AJLF232_0713.ndpi (357/687)\n",
      "Skipping fallopian_tubes_AJLF232_0713.ndpi\n",
      "fallopian_tubes_AJLF232_0717.ndpi (359/687)\n",
      "Skipping fallopian_tubes_AJLF232_0717.ndpi\n",
      "fallopian_tubes_AJLF232_0721.ndpi (361/687)\n",
      "Skipping fallopian_tubes_AJLF232_0721.ndpi\n",
      "fallopian_tubes_AJLF232_0725.ndpi (363/687)\n",
      "Skipping fallopian_tubes_AJLF232_0725.ndpi\n",
      "fallopian_tubes_AJLF232_0729.ndpi (365/687)\n",
      "Skipping fallopian_tubes_AJLF232_0729.ndpi\n",
      "fallopian_tubes_AJLF232_0733.ndpi (367/687)\n",
      "Skipping fallopian_tubes_AJLF232_0733.ndpi\n",
      "fallopian_tubes_AJLF232_0737.ndpi (369/687)\n",
      "Skipping fallopian_tubes_AJLF232_0737.ndpi\n",
      "fallopian_tubes_AJLF232_0741.ndpi (371/687)\n",
      "Skipping fallopian_tubes_AJLF232_0741.ndpi\n",
      "fallopian_tubes_AJLF232_0745.ndpi (373/687)\n",
      "Skipping fallopian_tubes_AJLF232_0745.ndpi\n",
      "fallopian_tubes_AJLF232_0749.ndpi (375/687)\n",
      "Skipping fallopian_tubes_AJLF232_0749.ndpi\n",
      "fallopian_tubes_AJLF232_0753.ndpi (377/687)\n",
      "Skipping fallopian_tubes_AJLF232_0753.ndpi\n",
      "fallopian_tubes_AJLF232_0757.ndpi (379/687)\n",
      "Skipping fallopian_tubes_AJLF232_0757.ndpi\n",
      "fallopian_tubes_AJLF232_0761.ndpi (381/687)\n",
      "Skipping fallopian_tubes_AJLF232_0761.ndpi\n",
      "fallopian_tubes_AJLF232_0765.ndpi (383/687)\n",
      "Skipping fallopian_tubes_AJLF232_0765.ndpi\n",
      "fallopian_tubes_AJLF232_0769.ndpi (385/687)\n",
      "Skipping fallopian_tubes_AJLF232_0769.ndpi\n",
      "fallopian_tubes_AJLF232_0773.ndpi (387/687)\n",
      "Skipping fallopian_tubes_AJLF232_0773.ndpi\n",
      "fallopian_tubes_AJLF232_0777.ndpi (389/687)\n",
      "Skipping fallopian_tubes_AJLF232_0777.ndpi\n",
      "fallopian_tubes_AJLF232_0781.ndpi (391/687)\n",
      "Skipping fallopian_tubes_AJLF232_0781.ndpi\n",
      "fallopian_tubes_AJLF232_0785.ndpi (393/687)\n",
      "Skipping fallopian_tubes_AJLF232_0785.ndpi\n",
      "fallopian_tubes_AJLF232_0789.ndpi (395/687)\n",
      "Skipping fallopian_tubes_AJLF232_0789.ndpi\n",
      "fallopian_tubes_AJLF232_0793.ndpi (397/687)\n",
      "Skipping fallopian_tubes_AJLF232_0793.ndpi\n",
      "fallopian_tubes_AJLF232_0797.ndpi (399/687)\n",
      "Skipping fallopian_tubes_AJLF232_0797.ndpi\n",
      "fallopian_tubes_AJLF232_0801.ndpi (401/687)\n",
      "Skipping fallopian_tubes_AJLF232_0801.ndpi\n",
      "fallopian_tubes_AJLF232_0805.ndpi (403/687)\n",
      "Skipping fallopian_tubes_AJLF232_0805.ndpi\n",
      "fallopian_tubes_AJLF232_0809.ndpi (405/687)\n",
      "Skipping fallopian_tubes_AJLF232_0809.ndpi\n",
      "fallopian_tubes_AJLF232_0813.ndpi (407/687)\n",
      "Skipping fallopian_tubes_AJLF232_0813.ndpi\n",
      "fallopian_tubes_AJLF232_0817.ndpi (409/687)\n",
      "Skipping fallopian_tubes_AJLF232_0817.ndpi\n",
      "fallopian_tubes_AJLF232_0821.ndpi (411/687)\n",
      "Skipping fallopian_tubes_AJLF232_0821.ndpi\n",
      "fallopian_tubes_AJLF232_0825.ndpi (413/687)\n",
      "Skipping fallopian_tubes_AJLF232_0825.ndpi\n",
      "fallopian_tubes_AJLF232_0829.ndpi (415/687)\n",
      "Skipping fallopian_tubes_AJLF232_0829.ndpi\n",
      "fallopian_tubes_AJLF232_0833.ndpi (417/687)\n",
      "Skipping fallopian_tubes_AJLF232_0833.ndpi\n",
      "fallopian_tubes_AJLF232_0837.ndpi (419/687)\n",
      "Skipping fallopian_tubes_AJLF232_0837.ndpi\n",
      "fallopian_tubes_AJLF232_0841.ndpi (421/687)\n",
      "Skipping fallopian_tubes_AJLF232_0841.ndpi\n",
      "fallopian_tubes_AJLF232_0845.ndpi (423/687)\n",
      "Skipping fallopian_tubes_AJLF232_0845.ndpi\n",
      "fallopian_tubes_AJLF232_0849.ndpi (425/687)\n",
      "Skipping fallopian_tubes_AJLF232_0849.ndpi\n",
      "fallopian_tubes_AJLF232_0853.ndpi (427/687)\n",
      "Skipping fallopian_tubes_AJLF232_0853.ndpi\n",
      "fallopian_tubes_AJLF232_0857.ndpi (429/687)\n",
      "Skipping fallopian_tubes_AJLF232_0857.ndpi\n",
      "fallopian_tubes_AJLF232_0861.ndpi (431/687)\n",
      "Skipping fallopian_tubes_AJLF232_0861.ndpi\n",
      "fallopian_tubes_AJLF232_0865.ndpi (433/687)\n",
      "Skipping fallopian_tubes_AJLF232_0865.ndpi\n",
      "fallopian_tubes_AJLF232_0869.ndpi (435/687)\n",
      "Skipping fallopian_tubes_AJLF232_0869.ndpi\n",
      "fallopian_tubes_AJLF232_0873.ndpi (437/687)\n",
      "Skipping fallopian_tubes_AJLF232_0873.ndpi\n",
      "fallopian_tubes_AJLF232_0877.ndpi (439/687)\n",
      "Skipping fallopian_tubes_AJLF232_0877.ndpi\n",
      "fallopian_tubes_AJLF232_0881.ndpi (441/687)\n",
      "Skipping fallopian_tubes_AJLF232_0881.ndpi\n",
      "fallopian_tubes_AJLF232_0885.ndpi (443/687)\n",
      "Skipping fallopian_tubes_AJLF232_0885.ndpi\n",
      "fallopian_tubes_AJLF232_0889.ndpi (445/687)\n",
      "Skipping fallopian_tubes_AJLF232_0889.ndpi\n",
      "fallopian_tubes_AJLF232_0893.ndpi (447/687)\n",
      "Skipping fallopian_tubes_AJLF232_0893.ndpi\n",
      "fallopian_tubes_AJLF232_0897.ndpi (449/687)\n",
      "Skipping fallopian_tubes_AJLF232_0897.ndpi\n",
      "fallopian_tubes_AJLF232_0901.ndpi (451/687)\n",
      "Skipping fallopian_tubes_AJLF232_0901.ndpi\n",
      "fallopian_tubes_AJLF232_0905.ndpi (453/687)\n",
      "Skipping fallopian_tubes_AJLF232_0905.ndpi\n",
      "fallopian_tubes_AJLF232_0909.ndpi (455/687)\n",
      "Skipping fallopian_tubes_AJLF232_0909.ndpi\n",
      "fallopian_tubes_AJLF232_0913.ndpi (457/687)\n",
      "Skipping fallopian_tubes_AJLF232_0913.ndpi\n",
      "fallopian_tubes_AJLF232_0917.ndpi (459/687)\n",
      "Skipping fallopian_tubes_AJLF232_0917.ndpi\n",
      "fallopian_tubes_AJLF232_0921.ndpi (461/687)\n",
      "Skipping fallopian_tubes_AJLF232_0921.ndpi\n",
      "fallopian_tubes_AJLF232_0925.ndpi (463/687)\n",
      "Skipping fallopian_tubes_AJLF232_0925.ndpi\n",
      "fallopian_tubes_AJLF232_0929.ndpi (465/687)\n",
      "Skipping fallopian_tubes_AJLF232_0929.ndpi\n",
      "fallopian_tubes_AJLF232_0933.ndpi (467/687)\n",
      "Skipping fallopian_tubes_AJLF232_0933.ndpi\n",
      "fallopian_tubes_AJLF232_0937.ndpi (469/687)\n",
      "Skipping fallopian_tubes_AJLF232_0937.ndpi\n",
      "fallopian_tubes_AJLF232_0941.ndpi (471/687)\n",
      "Skipping fallopian_tubes_AJLF232_0941.ndpi\n",
      "fallopian_tubes_AJLF232_0945.ndpi (473/687)\n",
      "Skipping fallopian_tubes_AJLF232_0945.ndpi\n",
      "fallopian_tubes_AJLF232_0949.ndpi (475/687)\n",
      "Skipping fallopian_tubes_AJLF232_0949.ndpi\n",
      "fallopian_tubes_AJLF232_0953.ndpi (477/687)\n",
      "Skipping fallopian_tubes_AJLF232_0953.ndpi\n",
      "fallopian_tubes_AJLF232_0957.ndpi (479/687)\n",
      "Skipping fallopian_tubes_AJLF232_0957.ndpi\n",
      "fallopian_tubes_AJLF232_0961.ndpi (481/687)\n",
      "Skipping fallopian_tubes_AJLF232_0961.ndpi\n",
      "fallopian_tubes_AJLF232_0965.ndpi (483/687)\n",
      "Skipping fallopian_tubes_AJLF232_0965.ndpi\n",
      "fallopian_tubes_AJLF232_0969.ndpi (485/687)\n",
      "Skipping fallopian_tubes_AJLF232_0969.ndpi\n",
      "fallopian_tubes_AJLF232_0973.ndpi (487/687)\n",
      "Skipping fallopian_tubes_AJLF232_0973.ndpi\n",
      "fallopian_tubes_AJLF232_0977.ndpi (489/687)\n",
      "Skipping fallopian_tubes_AJLF232_0977.ndpi\n",
      "fallopian_tubes_AJLF232_0981.ndpi (491/687)\n",
      "Skipping fallopian_tubes_AJLF232_0981.ndpi\n",
      "fallopian_tubes_AJLF232_0985.ndpi (493/687)\n",
      "Skipping fallopian_tubes_AJLF232_0985.ndpi\n",
      "fallopian_tubes_AJLF232_0989.ndpi (495/687)\n",
      "Skipping fallopian_tubes_AJLF232_0989.ndpi\n",
      "fallopian_tubes_AJLF232_0993.ndpi (497/687)\n",
      "Skipping fallopian_tubes_AJLF232_0993.ndpi\n",
      "fallopian_tubes_AJLF232_0997.ndpi (499/687)\n",
      "Skipping fallopian_tubes_AJLF232_0997.ndpi\n",
      "fallopian_tubes_AJLF232_1001.ndpi (501/687)\n",
      "Skipping fallopian_tubes_AJLF232_1001.ndpi\n",
      "fallopian_tubes_AJLF232_1005.ndpi (503/687)\n",
      "Skipping fallopian_tubes_AJLF232_1005.ndpi\n",
      "fallopian_tubes_AJLF232_1009.ndpi (505/687)\n",
      "Skipping fallopian_tubes_AJLF232_1009.ndpi\n",
      "fallopian_tubes_AJLF232_1013.ndpi (507/687)\n",
      "Skipping fallopian_tubes_AJLF232_1013.ndpi\n",
      "fallopian_tubes_AJLF232_1017.ndpi (509/687)\n",
      "Skipping fallopian_tubes_AJLF232_1017.ndpi\n",
      "fallopian_tubes_AJLF232_1021.ndpi (511/687)\n",
      "Skipping fallopian_tubes_AJLF232_1021.ndpi\n",
      "fallopian_tubes_AJLF232_1025.ndpi (513/687)\n",
      "Skipping fallopian_tubes_AJLF232_1025.ndpi\n",
      "fallopian_tubes_AJLF232_1029.ndpi (515/687)\n",
      "Skipping fallopian_tubes_AJLF232_1029.ndpi\n",
      "fallopian_tubes_AJLF232_1033.ndpi (517/687)\n",
      "Skipping fallopian_tubes_AJLF232_1033.ndpi\n",
      "fallopian_tubes_AJLF232_1037.ndpi (519/687)\n",
      "Skipping fallopian_tubes_AJLF232_1037.ndpi\n",
      "fallopian_tubes_AJLF232_1041.ndpi (521/687)\n",
      "Skipping fallopian_tubes_AJLF232_1041.ndpi\n",
      "fallopian_tubes_AJLF232_1045.ndpi (523/687)\n",
      "Skipping fallopian_tubes_AJLF232_1045.ndpi\n",
      "fallopian_tubes_AJLF232_1049.ndpi (525/687)\n",
      "Skipping fallopian_tubes_AJLF232_1049.ndpi\n",
      "fallopian_tubes_AJLF232_1053.ndpi (527/687)\n",
      "Skipping fallopian_tubes_AJLF232_1053.ndpi\n",
      "fallopian_tubes_AJLF232_1057.ndpi (529/687)\n",
      "Skipping fallopian_tubes_AJLF232_1057.ndpi\n",
      "fallopian_tubes_AJLF232_1061.ndpi (531/687)\n",
      "Skipping fallopian_tubes_AJLF232_1061.ndpi\n",
      "fallopian_tubes_AJLF232_1065.ndpi (533/687)\n",
      "Skipping fallopian_tubes_AJLF232_1065.ndpi\n",
      "fallopian_tubes_AJLF232_1069.ndpi (535/687)\n",
      "Skipping fallopian_tubes_AJLF232_1069.ndpi\n",
      "fallopian_tubes_AJLF232_1073.ndpi (537/687)\n",
      "Skipping fallopian_tubes_AJLF232_1073.ndpi\n",
      "fallopian_tubes_AJLF232_1077.ndpi (539/687)\n",
      "Skipping fallopian_tubes_AJLF232_1077.ndpi\n",
      "fallopian_tubes_AJLF232_1081.ndpi (541/687)\n",
      "Skipping fallopian_tubes_AJLF232_1081.ndpi\n",
      "fallopian_tubes_AJLF232_1085.ndpi (543/687)\n",
      "Skipping fallopian_tubes_AJLF232_1085.ndpi\n",
      "fallopian_tubes_AJLF232_1089.ndpi (545/687)\n",
      "Skipping fallopian_tubes_AJLF232_1089.ndpi\n",
      "fallopian_tubes_AJLF232_1093.ndpi (547/687)\n",
      "Skipping fallopian_tubes_AJLF232_1093.ndpi\n",
      "fallopian_tubes_AJLF232_1097.ndpi (549/687)\n",
      "Skipping fallopian_tubes_AJLF232_1097.ndpi\n",
      "fallopian_tubes_AJLF232_1101.ndpi (551/687)\n",
      "Skipping fallopian_tubes_AJLF232_1101.ndpi\n",
      "fallopian_tubes_AJLF232_1105.ndpi (553/687)\n",
      "Skipping fallopian_tubes_AJLF232_1105.ndpi\n",
      "fallopian_tubes_AJLF232_1109.ndpi (555/687)\n",
      "Skipping fallopian_tubes_AJLF232_1109.ndpi\n",
      "fallopian_tubes_AJLF232_1113.ndpi (557/687)\n",
      "Skipping fallopian_tubes_AJLF232_1113.ndpi\n",
      "fallopian_tubes_AJLF232_1117.ndpi (559/687)\n",
      "Skipping fallopian_tubes_AJLF232_1117.ndpi\n",
      "fallopian_tubes_AJLF232_1121.ndpi (561/687)\n",
      "Skipping fallopian_tubes_AJLF232_1121.ndpi\n",
      "fallopian_tubes_AJLF232_1125.ndpi (563/687)\n",
      "Skipping fallopian_tubes_AJLF232_1125.ndpi\n",
      "fallopian_tubes_AJLF232_1129.ndpi (565/687)\n",
      "Skipping fallopian_tubes_AJLF232_1129.ndpi\n",
      "fallopian_tubes_AJLF232_1133.ndpi (567/687)\n",
      "Skipping fallopian_tubes_AJLF232_1133.ndpi\n",
      "fallopian_tubes_AJLF232_1137.ndpi (569/687)\n",
      "Skipping fallopian_tubes_AJLF232_1137.ndpi\n",
      "fallopian_tubes_AJLF232_1141.ndpi (571/687)\n",
      "Skipping fallopian_tubes_AJLF232_1141.ndpi\n",
      "fallopian_tubes_AJLF232_1145.ndpi (573/687)\n",
      "Skipping fallopian_tubes_AJLF232_1145.ndpi\n",
      "fallopian_tubes_AJLF232_1149.ndpi (575/687)\n",
      "Skipping fallopian_tubes_AJLF232_1149.ndpi\n",
      "fallopian_tubes_AJLF232_1153.ndpi (577/687)\n",
      "Skipping fallopian_tubes_AJLF232_1153.ndpi\n",
      "fallopian_tubes_AJLF232_1157.ndpi (579/687)\n",
      "Skipping fallopian_tubes_AJLF232_1157.ndpi\n",
      "fallopian_tubes_AJLF232_1161.ndpi (581/687)\n",
      "Skipping fallopian_tubes_AJLF232_1161.ndpi\n",
      "fallopian_tubes_AJLF232_1165.ndpi (583/687)\n",
      "Skipping fallopian_tubes_AJLF232_1165.ndpi\n",
      "fallopian_tubes_AJLF232_1169.ndpi (585/687)\n",
      "Skipping fallopian_tubes_AJLF232_1169.ndpi\n",
      "fallopian_tubes_AJLF232_1173.ndpi (587/687)\n",
      "Skipping fallopian_tubes_AJLF232_1173.ndpi\n",
      "fallopian_tubes_AJLF232_1177.ndpi (589/687)\n",
      "Skipping fallopian_tubes_AJLF232_1177.ndpi\n",
      "fallopian_tubes_AJLF232_1181.ndpi (591/687)\n",
      "Skipping fallopian_tubes_AJLF232_1181.ndpi\n",
      "fallopian_tubes_AJLF232_1185.ndpi (593/687)\n",
      "Skipping fallopian_tubes_AJLF232_1185.ndpi\n",
      "fallopian_tubes_AJLF232_1189.ndpi (595/687)\n",
      "Skipping fallopian_tubes_AJLF232_1189.ndpi\n",
      "fallopian_tubes_AJLF232_1193.ndpi (597/687)\n",
      "Skipping fallopian_tubes_AJLF232_1193.ndpi\n",
      "fallopian_tubes_AJLF232_1197.ndpi (599/687)\n",
      "Skipping fallopian_tubes_AJLF232_1197.ndpi\n",
      "fallopian_tubes_AJLF232_1201.ndpi (601/687)\n",
      "Skipping fallopian_tubes_AJLF232_1201.ndpi\n",
      "fallopian_tubes_AJLF232_1205.ndpi (603/687)\n",
      "Skipping fallopian_tubes_AJLF232_1205.ndpi\n",
      "fallopian_tubes_AJLF232_1209.ndpi (605/687)\n",
      "Skipping fallopian_tubes_AJLF232_1209.ndpi\n",
      "fallopian_tubes_AJLF232_1213.ndpi (607/687)\n",
      "Skipping fallopian_tubes_AJLF232_1213.ndpi\n",
      "fallopian_tubes_AJLF232_1217.ndpi (609/687)\n",
      "Skipping fallopian_tubes_AJLF232_1217.ndpi\n",
      "fallopian_tubes_AJLF232_1221.ndpi (611/687)\n",
      "Skipping fallopian_tubes_AJLF232_1221.ndpi\n",
      "fallopian_tubes_AJLF232_1225.ndpi (613/687)\n",
      "Skipping fallopian_tubes_AJLF232_1225.ndpi\n",
      "fallopian_tubes_AJLF232_1229.ndpi (615/687)\n",
      "Skipping fallopian_tubes_AJLF232_1229.ndpi\n",
      "fallopian_tubes_AJLF232_1233.ndpi (617/687)\n",
      "Skipping fallopian_tubes_AJLF232_1233.ndpi\n",
      "fallopian_tubes_AJLF232_1237.ndpi (619/687)\n",
      "Skipping fallopian_tubes_AJLF232_1237.ndpi\n",
      "fallopian_tubes_AJLF232_1241.ndpi (621/687)\n",
      "Skipping fallopian_tubes_AJLF232_1241.ndpi\n",
      "fallopian_tubes_AJLF232_1245.ndpi (623/687)\n",
      "Skipping fallopian_tubes_AJLF232_1245.ndpi\n",
      "fallopian_tubes_AJLF232_1249.ndpi (625/687)\n",
      "Skipping fallopian_tubes_AJLF232_1249.ndpi\n",
      "fallopian_tubes_AJLF232_1253.ndpi (627/687)\n",
      "Skipping fallopian_tubes_AJLF232_1253.ndpi\n",
      "fallopian_tubes_AJLF232_1257.ndpi (629/687)\n",
      "Skipping fallopian_tubes_AJLF232_1257.ndpi\n",
      "fallopian_tubes_AJLF232_1261.ndpi (631/687)\n",
      "Skipping fallopian_tubes_AJLF232_1261.ndpi\n",
      "fallopian_tubes_AJLF232_1265.ndpi (633/687)\n",
      "Skipping fallopian_tubes_AJLF232_1265.ndpi\n",
      "fallopian_tubes_AJLF232_1269.ndpi (635/687)\n",
      "Skipping fallopian_tubes_AJLF232_1269.ndpi\n",
      "fallopian_tubes_AJLF232_1273.ndpi (637/687)\n",
      "Skipping fallopian_tubes_AJLF232_1273.ndpi\n",
      "fallopian_tubes_AJLF232_1277.ndpi (639/687)\n",
      "Skipping fallopian_tubes_AJLF232_1277.ndpi\n",
      "fallopian_tubes_AJLF232_1281.ndpi (641/687)\n",
      "Skipping fallopian_tubes_AJLF232_1281.ndpi\n",
      "fallopian_tubes_AJLF232_1285.ndpi (643/687)\n",
      "Skipping fallopian_tubes_AJLF232_1285.ndpi\n",
      "fallopian_tubes_AJLF232_1289.ndpi (645/687)\n",
      "Skipping fallopian_tubes_AJLF232_1289.ndpi\n",
      "fallopian_tubes_AJLF232_1293.ndpi (647/687)\n",
      "Skipping fallopian_tubes_AJLF232_1293.ndpi\n",
      "fallopian_tubes_AJLF232_1297.ndpi (649/687)\n",
      "Skipping fallopian_tubes_AJLF232_1297.ndpi\n",
      "fallopian_tubes_AJLF232_1301.ndpi (651/687)\n",
      "Skipping fallopian_tubes_AJLF232_1301.ndpi\n",
      "fallopian_tubes_AJLF232_1305.ndpi (653/687)\n",
      "Skipping fallopian_tubes_AJLF232_1305.ndpi\n",
      "fallopian_tubes_AJLF232_1309.ndpi (655/687)\n",
      "Skipping fallopian_tubes_AJLF232_1309.ndpi\n",
      "fallopian_tubes_AJLF232_1313.ndpi (657/687)\n",
      "Skipping fallopian_tubes_AJLF232_1313.ndpi\n",
      "fallopian_tubes_AJLF232_1317.ndpi (659/687)\n",
      "Skipping fallopian_tubes_AJLF232_1317.ndpi\n",
      "fallopian_tubes_AJLF232_1321.ndpi (661/687)\n",
      "Skipping fallopian_tubes_AJLF232_1321.ndpi\n",
      "fallopian_tubes_AJLF232_1325.ndpi (663/687)\n",
      "Skipping fallopian_tubes_AJLF232_1325.ndpi\n",
      "fallopian_tubes_AJLF232_1329.ndpi (665/687)\n",
      "Skipping fallopian_tubes_AJLF232_1329.ndpi\n",
      "fallopian_tubes_AJLF232_1333.ndpi (667/687)\n",
      "Skipping fallopian_tubes_AJLF232_1333.ndpi\n",
      "fallopian_tubes_AJLF232_1337.ndpi (669/687)\n",
      "Skipping fallopian_tubes_AJLF232_1337.ndpi\n",
      "fallopian_tubes_AJLF232_1341.ndpi (671/687)\n",
      "Skipping fallopian_tubes_AJLF232_1341.ndpi\n",
      "fallopian_tubes_AJLF232_1345.ndpi (673/687)\n",
      "Skipping fallopian_tubes_AJLF232_1345.ndpi\n",
      "fallopian_tubes_AJLF232_1349.ndpi (675/687)\n",
      "Skipping fallopian_tubes_AJLF232_1349.ndpi\n",
      "fallopian_tubes_AJLF232_1353.ndpi (677/687)\n",
      "Skipping fallopian_tubes_AJLF232_1353.ndpi\n",
      "fallopian_tubes_AJLF232_1357.ndpi (679/687)\n",
      "Skipping fallopian_tubes_AJLF232_1357.ndpi\n",
      "fallopian_tubes_AJLF232_1361.ndpi (681/687)\n",
      "Skipping fallopian_tubes_AJLF232_1361.ndpi\n",
      "fallopian_tubes_AJLF232_1365.ndpi (683/687)\n",
      "Skipping fallopian_tubes_AJLF232_1365.ndpi\n",
      "fallopian_tubes_AJLF232_1369.ndpi (685/687)\n",
      "Skipping fallopian_tubes_AJLF232_1369.ndpi\n",
      "fallopian_tubes_AJLF232_1373.ndpi (687/687)\n",
      "Skipping fallopian_tubes_AJLF232_1373.ndpi\n",
      "fallopian_tubes_AJLC170_0001.ndpi (1/653)\n",
      "Skipping fallopian_tubes_AJLC170_0001.ndpi\n",
      "fallopian_tubes_AJLC170_0005.ndpi (3/653)\n",
      "Skipping fallopian_tubes_AJLC170_0005.ndpi\n",
      "fallopian_tubes_AJLC170_0009.ndpi (5/653)\n",
      "Skipping fallopian_tubes_AJLC170_0009.ndpi\n",
      "fallopian_tubes_AJLC170_0013.ndpi (7/653)\n",
      "Skipping fallopian_tubes_AJLC170_0013.ndpi\n",
      "fallopian_tubes_AJLC170_0017.ndpi (9/653)\n",
      "Skipping fallopian_tubes_AJLC170_0017.ndpi\n",
      "fallopian_tubes_AJLC170_0021.ndpi (11/653)\n",
      "Skipping fallopian_tubes_AJLC170_0021.ndpi\n",
      "fallopian_tubes_AJLC170_0025.ndpi (13/653)\n",
      "Skipping fallopian_tubes_AJLC170_0025.ndpi\n",
      "fallopian_tubes_AJLC170_0029.ndpi (15/653)\n",
      "Skipping fallopian_tubes_AJLC170_0029.ndpi\n",
      "fallopian_tubes_AJLC170_0033.ndpi (17/653)\n",
      "Skipping fallopian_tubes_AJLC170_0033.ndpi\n",
      "fallopian_tubes_AJLC170_0037.ndpi (19/653)\n",
      "Skipping fallopian_tubes_AJLC170_0037.ndpi\n",
      "fallopian_tubes_AJLC170_0041.ndpi (21/653)\n",
      "Skipping fallopian_tubes_AJLC170_0041.ndpi\n",
      "fallopian_tubes_AJLC170_0045.ndpi (23/653)\n",
      "Skipping fallopian_tubes_AJLC170_0045.ndpi\n",
      "fallopian_tubes_AJLC170_0049.ndpi (25/653)\n",
      "Skipping fallopian_tubes_AJLC170_0049.ndpi\n",
      "fallopian_tubes_AJLC170_0053.ndpi (27/653)\n",
      "Skipping fallopian_tubes_AJLC170_0053.ndpi\n",
      "fallopian_tubes_AJLC170_0057.ndpi (29/653)\n",
      "Skipping fallopian_tubes_AJLC170_0057.ndpi\n",
      "fallopian_tubes_AJLC170_0061.ndpi (31/653)\n",
      "Skipping fallopian_tubes_AJLC170_0061.ndpi\n",
      "fallopian_tubes_AJLC170_0065.ndpi (33/653)\n",
      "Skipping fallopian_tubes_AJLC170_0065.ndpi\n",
      "fallopian_tubes_AJLC170_0069.ndpi (35/653)\n",
      "Skipping fallopian_tubes_AJLC170_0069.ndpi\n",
      "fallopian_tubes_AJLC170_0073.ndpi (37/653)\n",
      "Skipping fallopian_tubes_AJLC170_0073.ndpi\n",
      "fallopian_tubes_AJLC170_0077.ndpi (39/653)\n",
      "Skipping fallopian_tubes_AJLC170_0077.ndpi\n",
      "fallopian_tubes_AJLC170_0081.ndpi (41/653)\n",
      "Skipping fallopian_tubes_AJLC170_0081.ndpi\n",
      "fallopian_tubes_AJLC170_0085.ndpi (43/653)\n",
      "Skipping fallopian_tubes_AJLC170_0085.ndpi\n",
      "fallopian_tubes_AJLC170_0089.ndpi (45/653)\n",
      "Skipping fallopian_tubes_AJLC170_0089.ndpi\n",
      "fallopian_tubes_AJLC170_0093.ndpi (47/653)\n",
      "Skipping fallopian_tubes_AJLC170_0093.ndpi\n",
      "fallopian_tubes_AJLC170_0097.ndpi (49/653)\n",
      "Skipping fallopian_tubes_AJLC170_0097.ndpi\n",
      "fallopian_tubes_AJLC170_0101.ndpi (51/653)\n",
      "Skipping fallopian_tubes_AJLC170_0101.ndpi\n",
      "fallopian_tubes_AJLC170_0105.ndpi (53/653)\n",
      "Skipping fallopian_tubes_AJLC170_0105.ndpi\n",
      "fallopian_tubes_AJLC170_0109.ndpi (55/653)\n",
      "Skipping fallopian_tubes_AJLC170_0109.ndpi\n",
      "fallopian_tubes_AJLC170_0113.ndpi (57/653)\n",
      "Skipping fallopian_tubes_AJLC170_0113.ndpi\n",
      "fallopian_tubes_AJLC170_0117.ndpi (59/653)\n",
      "Skipping fallopian_tubes_AJLC170_0117.ndpi\n",
      "fallopian_tubes_AJLC170_0121.ndpi (61/653)\n",
      "Skipping fallopian_tubes_AJLC170_0121.ndpi\n",
      "fallopian_tubes_AJLC170_0125.ndpi (63/653)\n",
      "Skipping fallopian_tubes_AJLC170_0125.ndpi\n",
      "fallopian_tubes_AJLC170_0129.ndpi (65/653)\n",
      "Skipping fallopian_tubes_AJLC170_0129.ndpi\n",
      "fallopian_tubes_AJLC170_0133.ndpi (67/653)\n",
      "Skipping fallopian_tubes_AJLC170_0133.ndpi\n",
      "fallopian_tubes_AJLC170_0137.ndpi (69/653)\n",
      "Skipping fallopian_tubes_AJLC170_0137.ndpi\n",
      "fallopian_tubes_AJLC170_0141.ndpi (71/653)\n",
      "Skipping fallopian_tubes_AJLC170_0141.ndpi\n",
      "fallopian_tubes_AJLC170_0145.ndpi (73/653)\n",
      "Skipping fallopian_tubes_AJLC170_0145.ndpi\n",
      "fallopian_tubes_AJLC170_0149.ndpi (75/653)\n",
      "Skipping fallopian_tubes_AJLC170_0149.ndpi\n",
      "fallopian_tubes_AJLC170_0153.ndpi (77/653)\n",
      "Skipping fallopian_tubes_AJLC170_0153.ndpi\n",
      "fallopian_tubes_AJLC170_0157.ndpi (79/653)\n",
      "Skipping fallopian_tubes_AJLC170_0157.ndpi\n",
      "fallopian_tubes_AJLC170_0161.ndpi (81/653)\n",
      "Skipping fallopian_tubes_AJLC170_0161.ndpi\n",
      "fallopian_tubes_AJLC170_0165.ndpi (83/653)\n",
      "Skipping fallopian_tubes_AJLC170_0165.ndpi\n",
      "fallopian_tubes_AJLC170_0169.ndpi (85/653)\n",
      "Skipping fallopian_tubes_AJLC170_0169.ndpi\n",
      "fallopian_tubes_AJLC170_0173.ndpi (87/653)\n",
      "Skipping fallopian_tubes_AJLC170_0173.ndpi\n",
      "fallopian_tubes_AJLC170_0177.ndpi (89/653)\n",
      "Skipping fallopian_tubes_AJLC170_0177.ndpi\n",
      "fallopian_tubes_AJLC170_0181.ndpi (91/653)\n",
      "Skipping fallopian_tubes_AJLC170_0181.ndpi\n",
      "fallopian_tubes_AJLC170_0185.ndpi (93/653)\n",
      "Skipping fallopian_tubes_AJLC170_0185.ndpi\n",
      "fallopian_tubes_AJLC170_0189.ndpi (95/653)\n",
      "Skipping fallopian_tubes_AJLC170_0189.ndpi\n",
      "fallopian_tubes_AJLC170_0193.ndpi (97/653)\n",
      "Skipping fallopian_tubes_AJLC170_0193.ndpi\n",
      "fallopian_tubes_AJLC170_0197.ndpi (99/653)\n",
      "Skipping fallopian_tubes_AJLC170_0197.ndpi\n",
      "fallopian_tubes_AJLC170_0201.ndpi (101/653)\n",
      "Skipping fallopian_tubes_AJLC170_0201.ndpi\n",
      "fallopian_tubes_AJLC170_0205.ndpi (103/653)\n",
      "Skipping fallopian_tubes_AJLC170_0205.ndpi\n",
      "fallopian_tubes_AJLC170_0209.ndpi (105/653)\n",
      "Skipping fallopian_tubes_AJLC170_0209.ndpi\n",
      "fallopian_tubes_AJLC170_0213.ndpi (107/653)\n",
      "Skipping fallopian_tubes_AJLC170_0213.ndpi\n",
      "fallopian_tubes_AJLC170_0217.ndpi (109/653)\n",
      "Skipping fallopian_tubes_AJLC170_0217.ndpi\n",
      "fallopian_tubes_AJLC170_0221.ndpi (111/653)\n",
      "Skipping fallopian_tubes_AJLC170_0221.ndpi\n",
      "fallopian_tubes_AJLC170_0225.ndpi (113/653)\n",
      "Skipping fallopian_tubes_AJLC170_0225.ndpi\n",
      "fallopian_tubes_AJLC170_0229.ndpi (115/653)\n",
      "Skipping fallopian_tubes_AJLC170_0229.ndpi\n",
      "fallopian_tubes_AJLC170_0233.ndpi (117/653)\n",
      "Skipping fallopian_tubes_AJLC170_0233.ndpi\n",
      "fallopian_tubes_AJLC170_0237.ndpi (119/653)\n",
      "Skipping fallopian_tubes_AJLC170_0237.ndpi\n",
      "fallopian_tubes_AJLC170_0241.ndpi (121/653)\n",
      "Skipping fallopian_tubes_AJLC170_0241.ndpi\n",
      "fallopian_tubes_AJLC170_0245.ndpi (123/653)\n",
      "Skipping fallopian_tubes_AJLC170_0245.ndpi\n",
      "fallopian_tubes_AJLC170_0249.ndpi (125/653)\n",
      "Skipping fallopian_tubes_AJLC170_0249.ndpi\n",
      "fallopian_tubes_AJLC170_0253.ndpi (127/653)\n",
      "Skipping fallopian_tubes_AJLC170_0253.ndpi\n",
      "fallopian_tubes_AJLC170_0257.ndpi (129/653)\n",
      "Skipping fallopian_tubes_AJLC170_0257.ndpi\n",
      "fallopian_tubes_AJLC170_0261.ndpi (131/653)\n",
      "Skipping fallopian_tubes_AJLC170_0261.ndpi\n",
      "fallopian_tubes_AJLC170_0265.ndpi (133/653)\n",
      "Skipping fallopian_tubes_AJLC170_0265.ndpi\n",
      "fallopian_tubes_AJLC170_0269.ndpi (135/653)\n",
      "Skipping fallopian_tubes_AJLC170_0269.ndpi\n",
      "fallopian_tubes_AJLC170_0273.ndpi (137/653)\n",
      "Skipping fallopian_tubes_AJLC170_0273.ndpi\n",
      "fallopian_tubes_AJLC170_0277.ndpi (139/653)\n",
      "Skipping fallopian_tubes_AJLC170_0277.ndpi\n",
      "fallopian_tubes_AJLC170_0281.ndpi (141/653)\n",
      "Skipping fallopian_tubes_AJLC170_0281.ndpi\n",
      "fallopian_tubes_AJLC170_0285.ndpi (143/653)\n",
      "Skipping fallopian_tubes_AJLC170_0285.ndpi\n",
      "fallopian_tubes_AJLC170_0289.ndpi (145/653)\n",
      "Skipping fallopian_tubes_AJLC170_0289.ndpi\n",
      "fallopian_tubes_AJLC170_0293.ndpi (147/653)\n",
      "Skipping fallopian_tubes_AJLC170_0293.ndpi\n",
      "fallopian_tubes_AJLC170_0297.ndpi (149/653)\n",
      "Skipping fallopian_tubes_AJLC170_0297.ndpi\n",
      "fallopian_tubes_AJLC170_0301.ndpi (151/653)\n",
      "Skipping fallopian_tubes_AJLC170_0301.ndpi\n",
      "fallopian_tubes_AJLC170_0305.ndpi (153/653)\n",
      "Skipping fallopian_tubes_AJLC170_0305.ndpi\n",
      "fallopian_tubes_AJLC170_0309.ndpi (155/653)\n",
      "Skipping fallopian_tubes_AJLC170_0309.ndpi\n",
      "fallopian_tubes_AJLC170_0313.ndpi (157/653)\n",
      "Skipping fallopian_tubes_AJLC170_0313.ndpi\n",
      "fallopian_tubes_AJLC170_0317.ndpi (159/653)\n",
      "Skipping fallopian_tubes_AJLC170_0317.ndpi\n",
      "fallopian_tubes_AJLC170_0321.ndpi (161/653)\n",
      "Skipping fallopian_tubes_AJLC170_0321.ndpi\n",
      "fallopian_tubes_AJLC170_0325.ndpi (163/653)\n",
      "Skipping fallopian_tubes_AJLC170_0325.ndpi\n",
      "fallopian_tubes_AJLC170_0329.ndpi (165/653)\n",
      "Skipping fallopian_tubes_AJLC170_0329.ndpi\n",
      "fallopian_tubes_AJLC170_0333.ndpi (167/653)\n",
      "Skipping fallopian_tubes_AJLC170_0333.ndpi\n",
      "fallopian_tubes_AJLC170_0337.ndpi (169/653)\n",
      "Skipping fallopian_tubes_AJLC170_0337.ndpi\n",
      "fallopian_tubes_AJLC170_0341.ndpi (171/653)\n",
      "Skipping fallopian_tubes_AJLC170_0341.ndpi\n",
      "fallopian_tubes_AJLC170_0345.ndpi (173/653)\n",
      "Skipping fallopian_tubes_AJLC170_0345.ndpi\n",
      "fallopian_tubes_AJLC170_0349.ndpi (175/653)\n",
      "Skipping fallopian_tubes_AJLC170_0349.ndpi\n",
      "fallopian_tubes_AJLC170_0353.ndpi (177/653)\n",
      "Skipping fallopian_tubes_AJLC170_0353.ndpi\n",
      "fallopian_tubes_AJLC170_0357.ndpi (179/653)\n",
      "Skipping fallopian_tubes_AJLC170_0357.ndpi\n",
      "fallopian_tubes_AJLC170_0361.ndpi (181/653)\n",
      "Skipping fallopian_tubes_AJLC170_0361.ndpi\n",
      "fallopian_tubes_AJLC170_0365.ndpi (183/653)\n",
      "Skipping fallopian_tubes_AJLC170_0365.ndpi\n",
      "fallopian_tubes_AJLC170_0369.ndpi (185/653)\n",
      "Skipping fallopian_tubes_AJLC170_0369.ndpi\n",
      "fallopian_tubes_AJLC170_0373.ndpi (187/653)\n",
      "Skipping fallopian_tubes_AJLC170_0373.ndpi\n",
      "fallopian_tubes_AJLC170_0377.ndpi (189/653)\n",
      "Skipping fallopian_tubes_AJLC170_0377.ndpi\n",
      "fallopian_tubes_AJLC170_0381.ndpi (191/653)\n",
      "Skipping fallopian_tubes_AJLC170_0381.ndpi\n",
      "fallopian_tubes_AJLC170_0385.ndpi (193/653)\n",
      "Skipping fallopian_tubes_AJLC170_0385.ndpi\n",
      "fallopian_tubes_AJLC170_0389.ndpi (195/653)\n",
      "Skipping fallopian_tubes_AJLC170_0389.ndpi\n",
      "fallopian_tubes_AJLC170_0393.ndpi (197/653)\n",
      "Skipping fallopian_tubes_AJLC170_0393.ndpi\n",
      "fallopian_tubes_AJLC170_0397.ndpi (199/653)\n",
      "Skipping fallopian_tubes_AJLC170_0397.ndpi\n",
      "fallopian_tubes_AJLC170_0401.ndpi (201/653)\n",
      "Skipping fallopian_tubes_AJLC170_0401.ndpi\n",
      "fallopian_tubes_AJLC170_0405.ndpi (203/653)\n",
      "Skipping fallopian_tubes_AJLC170_0405.ndpi\n",
      "fallopian_tubes_AJLC170_0409.ndpi (205/653)\n",
      "Skipping fallopian_tubes_AJLC170_0409.ndpi\n",
      "fallopian_tubes_AJLC170_0413.ndpi (207/653)\n",
      "Skipping fallopian_tubes_AJLC170_0413.ndpi\n",
      "fallopian_tubes_AJLC170_0417.ndpi (209/653)\n",
      "Skipping fallopian_tubes_AJLC170_0417.ndpi\n",
      "fallopian_tubes_AJLC170_0421.ndpi (211/653)\n",
      "Skipping fallopian_tubes_AJLC170_0421.ndpi\n",
      "fallopian_tubes_AJLC170_0425.ndpi (213/653)\n",
      "Skipping fallopian_tubes_AJLC170_0425.ndpi\n",
      "fallopian_tubes_AJLC170_0429.ndpi (215/653)\n",
      "Skipping fallopian_tubes_AJLC170_0429.ndpi\n",
      "fallopian_tubes_AJLC170_0433.ndpi (217/653)\n",
      "Skipping fallopian_tubes_AJLC170_0433.ndpi\n",
      "fallopian_tubes_AJLC170_0437.ndpi (219/653)\n",
      "Skipping fallopian_tubes_AJLC170_0437.ndpi\n",
      "fallopian_tubes_AJLC170_0441.ndpi (221/653)\n",
      "Skipping fallopian_tubes_AJLC170_0441.ndpi\n",
      "fallopian_tubes_AJLC170_0445.ndpi (223/653)\n",
      "Skipping fallopian_tubes_AJLC170_0445.ndpi\n",
      "fallopian_tubes_AJLC170_0449.ndpi (225/653)\n",
      "Skipping fallopian_tubes_AJLC170_0449.ndpi\n",
      "fallopian_tubes_AJLC170_0453.ndpi (227/653)\n",
      "Skipping fallopian_tubes_AJLC170_0453.ndpi\n",
      "fallopian_tubes_AJLC170_0457.ndpi (229/653)\n",
      "Skipping fallopian_tubes_AJLC170_0457.ndpi\n",
      "fallopian_tubes_AJLC170_0461.ndpi (231/653)\n",
      "Skipping fallopian_tubes_AJLC170_0461.ndpi\n",
      "fallopian_tubes_AJLC170_0465.ndpi (233/653)\n",
      "Skipping fallopian_tubes_AJLC170_0465.ndpi\n",
      "fallopian_tubes_AJLC170_0469.ndpi (235/653)\n",
      "Skipping fallopian_tubes_AJLC170_0469.ndpi\n",
      "fallopian_tubes_AJLC170_0473.ndpi (237/653)\n",
      "Skipping fallopian_tubes_AJLC170_0473.ndpi\n",
      "fallopian_tubes_AJLC170_0477.ndpi (239/653)\n",
      "Skipping fallopian_tubes_AJLC170_0477.ndpi\n",
      "fallopian_tubes_AJLC170_0481.ndpi (241/653)\n",
      "Skipping fallopian_tubes_AJLC170_0481.ndpi\n",
      "fallopian_tubes_AJLC170_0485.ndpi (243/653)\n",
      "Skipping fallopian_tubes_AJLC170_0485.ndpi\n",
      "fallopian_tubes_AJLC170_0489.ndpi (245/653)\n",
      "Skipping fallopian_tubes_AJLC170_0489.ndpi\n",
      "fallopian_tubes_AJLC170_0493.ndpi (247/653)\n",
      "Skipping fallopian_tubes_AJLC170_0493.ndpi\n",
      "fallopian_tubes_AJLC170_0497.ndpi (249/653)\n",
      "Skipping fallopian_tubes_AJLC170_0497.ndpi\n",
      "fallopian_tubes_AJLC170_0501.ndpi (251/653)\n",
      "Skipping fallopian_tubes_AJLC170_0501.ndpi\n",
      "fallopian_tubes_AJLC170_0505.ndpi (253/653)\n",
      "Skipping fallopian_tubes_AJLC170_0505.ndpi\n",
      "fallopian_tubes_AJLC170_0509.ndpi (255/653)\n",
      "Skipping fallopian_tubes_AJLC170_0509.ndpi\n",
      "fallopian_tubes_AJLC170_0513.ndpi (257/653)\n",
      "Skipping fallopian_tubes_AJLC170_0513.ndpi\n",
      "fallopian_tubes_AJLC170_0517.ndpi (259/653)\n",
      "Skipping fallopian_tubes_AJLC170_0517.ndpi\n",
      "fallopian_tubes_AJLC170_0521.ndpi (261/653)\n",
      "Skipping fallopian_tubes_AJLC170_0521.ndpi\n",
      "fallopian_tubes_AJLC170_0525.ndpi (263/653)\n",
      "Skipping fallopian_tubes_AJLC170_0525.ndpi\n",
      "fallopian_tubes_AJLC170_0529.ndpi (265/653)\n",
      "Skipping fallopian_tubes_AJLC170_0529.ndpi\n",
      "fallopian_tubes_AJLC170_0533.ndpi (267/653)\n",
      "Skipping fallopian_tubes_AJLC170_0533.ndpi\n",
      "fallopian_tubes_AJLC170_0537.ndpi (269/653)\n",
      "Skipping fallopian_tubes_AJLC170_0537.ndpi\n",
      "fallopian_tubes_AJLC170_0541.ndpi (271/653)\n",
      "Skipping fallopian_tubes_AJLC170_0541.ndpi\n",
      "fallopian_tubes_AJLC170_0545.ndpi (273/653)\n",
      "Skipping fallopian_tubes_AJLC170_0545.ndpi\n",
      "fallopian_tubes_AJLC170_0549.ndpi (275/653)\n",
      "Skipping fallopian_tubes_AJLC170_0549.ndpi\n",
      "fallopian_tubes_AJLC170_0553.ndpi (277/653)\n",
      "Skipping fallopian_tubes_AJLC170_0553.ndpi\n",
      "fallopian_tubes_AJLC170_0557.ndpi (279/653)\n",
      "Skipping fallopian_tubes_AJLC170_0557.ndpi\n",
      "fallopian_tubes_AJLC170_0561.ndpi (281/653)\n",
      "Skipping fallopian_tubes_AJLC170_0561.ndpi\n",
      "fallopian_tubes_AJLC170_0565.ndpi (283/653)\n",
      "Skipping fallopian_tubes_AJLC170_0565.ndpi\n",
      "fallopian_tubes_AJLC170_0569.ndpi (285/653)\n",
      "Skipping fallopian_tubes_AJLC170_0569.ndpi\n",
      "fallopian_tubes_AJLC170_0573.ndpi (287/653)\n",
      "Skipping fallopian_tubes_AJLC170_0573.ndpi\n",
      "fallopian_tubes_AJLC170_0577.ndpi (289/653)\n",
      "Skipping fallopian_tubes_AJLC170_0577.ndpi\n",
      "fallopian_tubes_AJLC170_0581.ndpi (291/653)\n",
      "Skipping fallopian_tubes_AJLC170_0581.ndpi\n",
      "fallopian_tubes_AJLC170_0585.ndpi (293/653)\n",
      "Skipping fallopian_tubes_AJLC170_0585.ndpi\n",
      "fallopian_tubes_AJLC170_0589.ndpi (295/653)\n",
      "Skipping fallopian_tubes_AJLC170_0589.ndpi\n",
      "fallopian_tubes_AJLC170_0593.ndpi (297/653)\n",
      "Skipping fallopian_tubes_AJLC170_0593.ndpi\n",
      "fallopian_tubes_AJLC170_0597.ndpi (299/653)\n",
      "Skipping fallopian_tubes_AJLC170_0597.ndpi\n",
      "fallopian_tubes_AJLC170_0601.ndpi (301/653)\n",
      "Skipping fallopian_tubes_AJLC170_0601.ndpi\n",
      "fallopian_tubes_AJLC170_0605.ndpi (303/653)\n",
      "Skipping fallopian_tubes_AJLC170_0605.ndpi\n",
      "fallopian_tubes_AJLC170_0609.ndpi (305/653)\n",
      "Skipping fallopian_tubes_AJLC170_0609.ndpi\n",
      "fallopian_tubes_AJLC170_0613.ndpi (307/653)\n",
      "Skipping fallopian_tubes_AJLC170_0613.ndpi\n",
      "fallopian_tubes_AJLC170_0617.ndpi (309/653)\n",
      "Skipping fallopian_tubes_AJLC170_0617.ndpi\n",
      "fallopian_tubes_AJLC170_0621.ndpi (311/653)\n",
      "Skipping fallopian_tubes_AJLC170_0621.ndpi\n",
      "fallopian_tubes_AJLC170_0625.ndpi (313/653)\n",
      "Skipping fallopian_tubes_AJLC170_0625.ndpi\n",
      "fallopian_tubes_AJLC170_0629.ndpi (315/653)\n",
      "Skipping fallopian_tubes_AJLC170_0629.ndpi\n",
      "fallopian_tubes_AJLC170_0633.ndpi (317/653)\n",
      "Skipping fallopian_tubes_AJLC170_0633.ndpi\n",
      "fallopian_tubes_AJLC170_0637.ndpi (319/653)\n",
      "Skipping fallopian_tubes_AJLC170_0637.ndpi\n",
      "fallopian_tubes_AJLC170_0641.ndpi (321/653)\n",
      "Skipping fallopian_tubes_AJLC170_0641.ndpi\n",
      "fallopian_tubes_AJLC170_0645.ndpi (323/653)\n",
      "effective: block_size=(4096, 4096, 3), min_overlap=(128, 128, 0), context=(128, 128, 0)\n"
     ]
    },
    {
     "name": "stderr",
     "output_type": "stream",
     "text": [
      "100%|██████████| 225/225 [11:42<00:00,  3.12s/it]\n"
     ]
    },
    {
     "name": "stdout",
     "output_type": "stream",
     "text": [
      "Saving json...\n",
      "Finished fallopian_tubes_AJLC170_0645.json\n",
      "fallopian_tubes_AJLC170_0649.ndpi (325/653)\n",
      "Skipping fallopian_tubes_AJLC170_0649.ndpi\n",
      "fallopian_tubes_AJLC170_0653.ndpi (327/653)\n",
      "Skipping fallopian_tubes_AJLC170_0653.ndpi\n",
      "fallopian_tubes_AJLC170_0657.ndpi (329/653)\n",
      "Skipping fallopian_tubes_AJLC170_0657.ndpi\n",
      "fallopian_tubes_AJLC170_0661.ndpi (331/653)\n",
      "Skipping fallopian_tubes_AJLC170_0661.ndpi\n",
      "fallopian_tubes_AJLC170_0665.ndpi (333/653)\n",
      "Skipping fallopian_tubes_AJLC170_0665.ndpi\n",
      "fallopian_tubes_AJLC170_0669.ndpi (335/653)\n",
      "Skipping fallopian_tubes_AJLC170_0669.ndpi\n",
      "fallopian_tubes_AJLC170_0673.ndpi (337/653)\n",
      "Skipping fallopian_tubes_AJLC170_0673.ndpi\n",
      "fallopian_tubes_AJLC170_0677.ndpi (339/653)\n",
      "Skipping fallopian_tubes_AJLC170_0677.ndpi\n",
      "fallopian_tubes_AJLC170_0681.ndpi (341/653)\n",
      "Skipping fallopian_tubes_AJLC170_0681.ndpi\n",
      "fallopian_tubes_AJLC170_0685.ndpi (343/653)\n",
      "Skipping fallopian_tubes_AJLC170_0685.ndpi\n",
      "fallopian_tubes_AJLC170_0689.ndpi (345/653)\n",
      "Skipping fallopian_tubes_AJLC170_0689.ndpi\n",
      "fallopian_tubes_AJLC170_0693.ndpi (347/653)\n",
      "Skipping fallopian_tubes_AJLC170_0693.ndpi\n",
      "fallopian_tubes_AJLC170_0697.ndpi (349/653)\n",
      "Skipping fallopian_tubes_AJLC170_0697.ndpi\n",
      "fallopian_tubes_AJLC170_0701.ndpi (351/653)\n",
      "Skipping fallopian_tubes_AJLC170_0701.ndpi\n",
      "fallopian_tubes_AJLC170_0705.ndpi (353/653)\n",
      "Skipping fallopian_tubes_AJLC170_0705.ndpi\n",
      "fallopian_tubes_AJLC170_0709.ndpi (355/653)\n",
      "Skipping fallopian_tubes_AJLC170_0709.ndpi\n",
      "fallopian_tubes_AJLC170_0713.ndpi (357/653)\n",
      "Skipping fallopian_tubes_AJLC170_0713.ndpi\n",
      "fallopian_tubes_AJLC170_0717.ndpi (359/653)\n",
      "Skipping fallopian_tubes_AJLC170_0717.ndpi\n",
      "fallopian_tubes_AJLC170_0721.ndpi (361/653)\n",
      "Skipping fallopian_tubes_AJLC170_0721.ndpi\n",
      "fallopian_tubes_AJLC170_0725.ndpi (363/653)\n",
      "Skipping fallopian_tubes_AJLC170_0725.ndpi\n",
      "fallopian_tubes_AJLC170_0729.ndpi (365/653)\n",
      "Skipping fallopian_tubes_AJLC170_0729.ndpi\n",
      "fallopian_tubes_AJLC170_0733.ndpi (367/653)\n",
      "Skipping fallopian_tubes_AJLC170_0733.ndpi\n",
      "fallopian_tubes_AJLC170_0737.ndpi (369/653)\n",
      "Skipping fallopian_tubes_AJLC170_0737.ndpi\n",
      "fallopian_tubes_AJLC170_0741.ndpi (371/653)\n",
      "Skipping fallopian_tubes_AJLC170_0741.ndpi\n",
      "fallopian_tubes_AJLC170_0745.ndpi (373/653)\n",
      "Skipping fallopian_tubes_AJLC170_0745.ndpi\n",
      "fallopian_tubes_AJLC170_0749.ndpi (375/653)\n",
      "Skipping fallopian_tubes_AJLC170_0749.ndpi\n",
      "fallopian_tubes_AJLC170_0753.ndpi (377/653)\n",
      "Skipping fallopian_tubes_AJLC170_0753.ndpi\n",
      "fallopian_tubes_AJLC170_0757.ndpi (379/653)\n",
      "Skipping fallopian_tubes_AJLC170_0757.ndpi\n",
      "fallopian_tubes_AJLC170_0761.ndpi (381/653)\n",
      "Skipping fallopian_tubes_AJLC170_0761.ndpi\n",
      "fallopian_tubes_AJLC170_0765.ndpi (383/653)\n",
      "Skipping fallopian_tubes_AJLC170_0765.ndpi\n",
      "fallopian_tubes_AJLC170_0769.ndpi (385/653)\n",
      "Skipping fallopian_tubes_AJLC170_0769.ndpi\n",
      "fallopian_tubes_AJLC170_0773.ndpi (387/653)\n",
      "Skipping fallopian_tubes_AJLC170_0773.ndpi\n",
      "fallopian_tubes_AJLC170_0777.ndpi (389/653)\n",
      "Skipping fallopian_tubes_AJLC170_0777.ndpi\n",
      "fallopian_tubes_AJLC170_0781.ndpi (391/653)\n",
      "Skipping fallopian_tubes_AJLC170_0781.ndpi\n",
      "fallopian_tubes_AJLC170_0785.ndpi (393/653)\n",
      "Skipping fallopian_tubes_AJLC170_0785.ndpi\n",
      "fallopian_tubes_AJLC170_0789.ndpi (395/653)\n",
      "Skipping fallopian_tubes_AJLC170_0789.ndpi\n",
      "fallopian_tubes_AJLC170_0793.ndpi (397/653)\n",
      "Skipping fallopian_tubes_AJLC170_0793.ndpi\n",
      "fallopian_tubes_AJLC170_0797.ndpi (399/653)\n",
      "Skipping fallopian_tubes_AJLC170_0797.ndpi\n",
      "fallopian_tubes_AJLC170_0801.ndpi (401/653)\n",
      "Skipping fallopian_tubes_AJLC170_0801.ndpi\n",
      "fallopian_tubes_AJLC170_0805.ndpi (403/653)\n",
      "Skipping fallopian_tubes_AJLC170_0805.ndpi\n",
      "fallopian_tubes_AJLC170_0809.ndpi (405/653)\n",
      "Skipping fallopian_tubes_AJLC170_0809.ndpi\n",
      "fallopian_tubes_AJLC170_0813.ndpi (407/653)\n",
      "Skipping fallopian_tubes_AJLC170_0813.ndpi\n",
      "fallopian_tubes_AJLC170_0817.ndpi (409/653)\n",
      "Skipping fallopian_tubes_AJLC170_0817.ndpi\n",
      "fallopian_tubes_AJLC170_0821.ndpi (411/653)\n",
      "Skipping fallopian_tubes_AJLC170_0821.ndpi\n",
      "fallopian_tubes_AJLC170_0825.ndpi (413/653)\n",
      "Skipping fallopian_tubes_AJLC170_0825.ndpi\n",
      "fallopian_tubes_AJLC170_0829.ndpi (415/653)\n",
      "Skipping fallopian_tubes_AJLC170_0829.ndpi\n",
      "fallopian_tubes_AJLC170_0833.ndpi (417/653)\n",
      "Skipping fallopian_tubes_AJLC170_0833.ndpi\n",
      "fallopian_tubes_AJLC170_0837.ndpi (419/653)\n",
      "Skipping fallopian_tubes_AJLC170_0837.ndpi\n",
      "fallopian_tubes_AJLC170_0841.ndpi (421/653)\n",
      "Skipping fallopian_tubes_AJLC170_0841.ndpi\n",
      "fallopian_tubes_AJLC170_0845.ndpi (423/653)\n",
      "Skipping fallopian_tubes_AJLC170_0845.ndpi\n",
      "fallopian_tubes_AJLC170_0849.ndpi (425/653)\n",
      "Skipping fallopian_tubes_AJLC170_0849.ndpi\n",
      "fallopian_tubes_AJLC170_0853.ndpi (427/653)\n",
      "Skipping fallopian_tubes_AJLC170_0853.ndpi\n",
      "fallopian_tubes_AJLC170_0857.ndpi (429/653)\n",
      "Skipping fallopian_tubes_AJLC170_0857.ndpi\n",
      "fallopian_tubes_AJLC170_0861.ndpi (431/653)\n",
      "Skipping fallopian_tubes_AJLC170_0861.ndpi\n",
      "fallopian_tubes_AJLC170_0865.ndpi (433/653)\n",
      "Skipping fallopian_tubes_AJLC170_0865.ndpi\n",
      "fallopian_tubes_AJLC170_0869.ndpi (435/653)\n",
      "Skipping fallopian_tubes_AJLC170_0869.ndpi\n",
      "fallopian_tubes_AJLC170_0873.ndpi (437/653)\n",
      "Skipping fallopian_tubes_AJLC170_0873.ndpi\n",
      "fallopian_tubes_AJLC170_0877.ndpi (439/653)\n",
      "Skipping fallopian_tubes_AJLC170_0877.ndpi\n",
      "fallopian_tubes_AJLC170_0881.ndpi (441/653)\n",
      "Skipping fallopian_tubes_AJLC170_0881.ndpi\n",
      "fallopian_tubes_AJLC170_0885.ndpi (443/653)\n",
      "Skipping fallopian_tubes_AJLC170_0885.ndpi\n",
      "fallopian_tubes_AJLC170_0889.ndpi (445/653)\n",
      "Skipping fallopian_tubes_AJLC170_0889.ndpi\n",
      "fallopian_tubes_AJLC170_0893.ndpi (447/653)\n",
      "Skipping fallopian_tubes_AJLC170_0893.ndpi\n",
      "fallopian_tubes_AJLC170_0897.ndpi (449/653)\n",
      "Skipping fallopian_tubes_AJLC170_0897.ndpi\n",
      "fallopian_tubes_AJLC170_0901.ndpi (451/653)\n",
      "Skipping fallopian_tubes_AJLC170_0901.ndpi\n",
      "fallopian_tubes_AJLC170_0905.ndpi (453/653)\n",
      "Skipping fallopian_tubes_AJLC170_0905.ndpi\n",
      "fallopian_tubes_AJLC170_0909.ndpi (455/653)\n",
      "Skipping fallopian_tubes_AJLC170_0909.ndpi\n",
      "fallopian_tubes_AJLC170_0913.ndpi (457/653)\n",
      "Skipping fallopian_tubes_AJLC170_0913.ndpi\n",
      "fallopian_tubes_AJLC170_0917.ndpi (459/653)\n",
      "Skipping fallopian_tubes_AJLC170_0917.ndpi\n",
      "fallopian_tubes_AJLC170_0921.ndpi (461/653)\n",
      "Skipping fallopian_tubes_AJLC170_0921.ndpi\n",
      "fallopian_tubes_AJLC170_0925.ndpi (463/653)\n",
      "Skipping fallopian_tubes_AJLC170_0925.ndpi\n",
      "fallopian_tubes_AJLC170_0929.ndpi (465/653)\n",
      "Skipping fallopian_tubes_AJLC170_0929.ndpi\n",
      "fallopian_tubes_AJLC170_0933.ndpi (467/653)\n",
      "Skipping fallopian_tubes_AJLC170_0933.ndpi\n",
      "fallopian_tubes_AJLC170_0937.ndpi (469/653)\n",
      "Skipping fallopian_tubes_AJLC170_0937.ndpi\n",
      "fallopian_tubes_AJLC170_0941.ndpi (471/653)\n",
      "Skipping fallopian_tubes_AJLC170_0941.ndpi\n",
      "fallopian_tubes_AJLC170_0945.ndpi (473/653)\n",
      "effective: block_size=(4096, 4096, 3), min_overlap=(128, 128, 0), context=(128, 128, 0)\n"
     ]
    },
    {
     "name": "stderr",
     "output_type": "stream",
     "text": [
      "100%|██████████| 180/180 [06:27<00:00,  2.15s/it]\n"
     ]
    },
    {
     "name": "stdout",
     "output_type": "stream",
     "text": [
      "Saving json...\n",
      "Finished fallopian_tubes_AJLC170_0945.json\n",
      "fallopian_tubes_AJLC170_0949.ndpi (475/653)\n",
      "Skipping fallopian_tubes_AJLC170_0949.ndpi\n",
      "fallopian_tubes_AJLC170_0953.ndpi (477/653)\n",
      "effective: block_size=(4096, 4096, 3), min_overlap=(128, 128, 0), context=(128, 128, 0)\n"
     ]
    },
    {
     "name": "stderr",
     "output_type": "stream",
     "text": [
      "100%|██████████| 168/168 [06:00<00:00,  2.14s/it]\n"
     ]
    },
    {
     "name": "stdout",
     "output_type": "stream",
     "text": [
      "Saving json...\n",
      "Finished fallopian_tubes_AJLC170_0953.json\n",
      "fallopian_tubes_AJLC170_0957.ndpi (479/653)\n",
      "effective: block_size=(4096, 4096, 3), min_overlap=(128, 128, 0), context=(128, 128, 0)\n"
     ]
    },
    {
     "name": "stderr",
     "output_type": "stream",
     "text": [
      "100%|██████████| 182/182 [06:23<00:00,  2.11s/it]\n"
     ]
    },
    {
     "name": "stdout",
     "output_type": "stream",
     "text": [
      "Saving json...\n",
      "Finished fallopian_tubes_AJLC170_0957.json\n",
      "fallopian_tubes_AJLC170_0961.ndpi (481/653)\n",
      "Skipping fallopian_tubes_AJLC170_0961.ndpi\n",
      "fallopian_tubes_AJLC170_0965.ndpi (483/653)\n",
      "effective: block_size=(4096, 4096, 3), min_overlap=(128, 128, 0), context=(128, 128, 0)\n"
     ]
    },
    {
     "name": "stderr",
     "output_type": "stream",
     "text": [
      "100%|██████████| 182/182 [06:23<00:00,  2.11s/it]\n"
     ]
    },
    {
     "name": "stdout",
     "output_type": "stream",
     "text": [
      "Saving json...\n",
      "Finished fallopian_tubes_AJLC170_0965.json\n",
      "fallopian_tubes_AJLC170_0969.ndpi (485/653)\n",
      "effective: block_size=(4096, 4096, 3), min_overlap=(128, 128, 0), context=(128, 128, 0)\n"
     ]
    },
    {
     "name": "stderr",
     "output_type": "stream",
     "text": [
      "100%|██████████| 182/182 [06:20<00:00,  2.09s/it]\n"
     ]
    },
    {
     "name": "stdout",
     "output_type": "stream",
     "text": [
      "Saving json...\n",
      "Finished fallopian_tubes_AJLC170_0969.json\n",
      "fallopian_tubes_AJLC170_0973.ndpi (487/653)\n",
      "Skipping fallopian_tubes_AJLC170_0973.ndpi\n",
      "fallopian_tubes_AJLC170_0977.ndpi (489/653)\n",
      "effective: block_size=(4096, 4096, 3), min_overlap=(128, 128, 0), context=(128, 128, 0)\n"
     ]
    },
    {
     "name": "stderr",
     "output_type": "stream",
     "text": [
      "100%|██████████| 182/182 [06:26<00:00,  2.12s/it]\n"
     ]
    },
    {
     "name": "stdout",
     "output_type": "stream",
     "text": [
      "Saving json...\n",
      "Finished fallopian_tubes_AJLC170_0977.json\n",
      "fallopian_tubes_AJLC170_0981.ndpi (491/653)\n",
      "Skipping fallopian_tubes_AJLC170_0981.ndpi\n",
      "fallopian_tubes_AJLC170_0985.ndpi (493/653)\n",
      "Skipping fallopian_tubes_AJLC170_0985.ndpi\n",
      "fallopian_tubes_AJLC170_0989.ndpi (495/653)\n",
      "effective: block_size=(4096, 4096, 3), min_overlap=(128, 128, 0), context=(128, 128, 0)\n"
     ]
    },
    {
     "name": "stderr",
     "output_type": "stream",
     "text": [
      "100%|██████████| 169/169 [05:56<00:00,  2.11s/it]\n"
     ]
    },
    {
     "name": "stdout",
     "output_type": "stream",
     "text": [
      "Saving json...\n",
      "Finished fallopian_tubes_AJLC170_0989.json\n",
      "fallopian_tubes_AJLC170_0993.ndpi (497/653)\n",
      "effective: block_size=(4096, 4096, 3), min_overlap=(128, 128, 0), context=(128, 128, 0)\n"
     ]
    },
    {
     "name": "stderr",
     "output_type": "stream",
     "text": [
      "100%|██████████| 182/182 [06:22<00:00,  2.10s/it]\n"
     ]
    },
    {
     "name": "stdout",
     "output_type": "stream",
     "text": [
      "Saving json...\n",
      "Finished fallopian_tubes_AJLC170_0993.json\n",
      "fallopian_tubes_AJLC170_0997.ndpi (499/653)\n",
      "Skipping fallopian_tubes_AJLC170_0997.ndpi\n",
      "fallopian_tubes_AJLC170_1001.ndpi (501/653)\n",
      "Skipping fallopian_tubes_AJLC170_1001.ndpi\n",
      "fallopian_tubes_AJLC170_1005.ndpi (503/653)\n",
      "effective: block_size=(4096, 4096, 3), min_overlap=(128, 128, 0), context=(128, 128, 0)\n"
     ]
    },
    {
     "name": "stderr",
     "output_type": "stream",
     "text": [
      "100%|██████████| 182/182 [06:16<00:00,  2.07s/it]\n"
     ]
    },
    {
     "name": "stdout",
     "output_type": "stream",
     "text": [
      "Saving json...\n",
      "Finished fallopian_tubes_AJLC170_1005.json\n",
      "fallopian_tubes_AJLC170_1009.ndpi (505/653)\n",
      "Skipping fallopian_tubes_AJLC170_1009.ndpi\n",
      "fallopian_tubes_AJLC170_1013.ndpi (507/653)\n",
      "effective: block_size=(4096, 4096, 3), min_overlap=(128, 128, 0), context=(128, 128, 0)\n"
     ]
    },
    {
     "name": "stderr",
     "output_type": "stream",
     "text": [
      "100%|██████████| 168/168 [06:00<00:00,  2.15s/it]\n"
     ]
    },
    {
     "name": "stdout",
     "output_type": "stream",
     "text": [
      "Saving json...\n",
      "Finished fallopian_tubes_AJLC170_1013.json\n",
      "fallopian_tubes_AJLC170_1017.ndpi (509/653)\n",
      "effective: block_size=(4096, 4096, 3), min_overlap=(128, 128, 0), context=(128, 128, 0)\n"
     ]
    },
    {
     "name": "stderr",
     "output_type": "stream",
     "text": [
      "100%|██████████| 154/154 [05:36<00:00,  2.19s/it]\n"
     ]
    },
    {
     "name": "stdout",
     "output_type": "stream",
     "text": [
      "Saving json...\n",
      "Finished fallopian_tubes_AJLC170_1017.json\n",
      "fallopian_tubes_AJLC170_1021.ndpi (511/653)\n",
      "Skipping fallopian_tubes_AJLC170_1021.ndpi\n",
      "fallopian_tubes_AJLC170_1025.ndpi (513/653)\n",
      "effective: block_size=(4096, 4096, 3), min_overlap=(128, 128, 0), context=(128, 128, 0)\n"
     ]
    },
    {
     "name": "stderr",
     "output_type": "stream",
     "text": [
      "100%|██████████| 154/154 [05:41<00:00,  2.22s/it]\n"
     ]
    },
    {
     "name": "stdout",
     "output_type": "stream",
     "text": [
      "Saving json...\n",
      "Finished fallopian_tubes_AJLC170_1025.json\n",
      "fallopian_tubes_AJLC170_1029.ndpi (515/653)\n",
      "effective: block_size=(4096, 4096, 3), min_overlap=(128, 128, 0), context=(128, 128, 0)\n"
     ]
    },
    {
     "name": "stderr",
     "output_type": "stream",
     "text": [
      "100%|██████████| 168/168 [06:14<00:00,  2.23s/it]\n"
     ]
    },
    {
     "name": "stdout",
     "output_type": "stream",
     "text": [
      "Saving json...\n",
      "Finished fallopian_tubes_AJLC170_1029.json\n",
      "fallopian_tubes_AJLC170_1033.ndpi (517/653)\n",
      "Skipping fallopian_tubes_AJLC170_1033.ndpi\n",
      "fallopian_tubes_AJLC170_1037.ndpi (519/653)\n",
      "effective: block_size=(4096, 4096, 3), min_overlap=(128, 128, 0), context=(128, 128, 0)\n"
     ]
    },
    {
     "name": "stderr",
     "output_type": "stream",
     "text": [
      "100%|██████████| 143/143 [05:19<00:00,  2.24s/it]\n"
     ]
    },
    {
     "name": "stdout",
     "output_type": "stream",
     "text": [
      "Saving json...\n",
      "Finished fallopian_tubes_AJLC170_1037.json\n",
      "fallopian_tubes_AJLC170_1041.ndpi (521/653)\n",
      "Skipping fallopian_tubes_AJLC170_1041.ndpi\n",
      "fallopian_tubes_AJLC170_1045.ndpi (523/653)\n",
      "Skipping fallopian_tubes_AJLC170_1045.ndpi\n",
      "fallopian_tubes_AJLC170_1049.ndpi (525/653)\n",
      "effective: block_size=(4096, 4096, 3), min_overlap=(128, 128, 0), context=(128, 128, 0)\n"
     ]
    },
    {
     "name": "stderr",
     "output_type": "stream",
     "text": [
      "100%|██████████| 130/130 [04:55<00:00,  2.27s/it]\n"
     ]
    },
    {
     "name": "stdout",
     "output_type": "stream",
     "text": [
      "Saving json...\n",
      "Finished fallopian_tubes_AJLC170_1049.json\n",
      "fallopian_tubes_AJLC170_1053.ndpi (527/653)\n",
      "effective: block_size=(4096, 4096, 3), min_overlap=(128, 128, 0), context=(128, 128, 0)\n"
     ]
    },
    {
     "name": "stderr",
     "output_type": "stream",
     "text": [
      "100%|██████████| 126/126 [04:49<00:00,  2.30s/it]\n"
     ]
    },
    {
     "name": "stdout",
     "output_type": "stream",
     "text": [
      "Saving json...\n",
      "Finished fallopian_tubes_AJLC170_1053.json\n",
      "fallopian_tubes_AJLC170_1057.ndpi (529/653)\n",
      "effective: block_size=(4096, 4096, 3), min_overlap=(128, 128, 0), context=(128, 128, 0)\n"
     ]
    },
    {
     "name": "stderr",
     "output_type": "stream",
     "text": [
      "100%|██████████| 130/130 [05:02<00:00,  2.33s/it]\n"
     ]
    },
    {
     "name": "stdout",
     "output_type": "stream",
     "text": [
      "Saving json...\n",
      "Finished fallopian_tubes_AJLC170_1057.json\n",
      "fallopian_tubes_AJLC170_1061.ndpi (531/653)\n",
      "Skipping fallopian_tubes_AJLC170_1061.ndpi\n",
      "fallopian_tubes_AJLC170_1065.ndpi (533/653)\n",
      "effective: block_size=(4096, 4096, 3), min_overlap=(128, 128, 0), context=(128, 128, 0)\n"
     ]
    },
    {
     "name": "stderr",
     "output_type": "stream",
     "text": [
      "100%|██████████| 112/112 [04:25<00:00,  2.37s/it]\n"
     ]
    },
    {
     "name": "stdout",
     "output_type": "stream",
     "text": [
      "Saving json...\n",
      "Finished fallopian_tubes_AJLC170_1065.json\n",
      "fallopian_tubes_AJLC170_1069.ndpi (535/653)\n",
      "effective: block_size=(4096, 4096, 3), min_overlap=(128, 128, 0), context=(128, 128, 0)\n"
     ]
    },
    {
     "name": "stderr",
     "output_type": "stream",
     "text": [
      "100%|██████████| 117/117 [04:39<00:00,  2.38s/it]\n"
     ]
    },
    {
     "name": "stdout",
     "output_type": "stream",
     "text": [
      "Saving json...\n",
      "Finished fallopian_tubes_AJLC170_1069.json\n",
      "fallopian_tubes_AJLC170_1073.ndpi (537/653)\n",
      "effective: block_size=(4096, 4096, 3), min_overlap=(128, 128, 0), context=(128, 128, 0)\n"
     ]
    },
    {
     "name": "stderr",
     "output_type": "stream",
     "text": [
      "100%|██████████| 117/117 [04:40<00:00,  2.40s/it]\n"
     ]
    },
    {
     "name": "stdout",
     "output_type": "stream",
     "text": [
      "Saving json...\n",
      "Finished fallopian_tubes_AJLC170_1073.json\n",
      "fallopian_tubes_AJLC170_1077.ndpi (539/653)\n",
      "effective: block_size=(4096, 4096, 3), min_overlap=(128, 128, 0), context=(128, 128, 0)\n"
     ]
    },
    {
     "name": "stderr",
     "output_type": "stream",
     "text": [
      "100%|██████████| 112/112 [04:41<00:00,  2.51s/it]\n"
     ]
    },
    {
     "name": "stdout",
     "output_type": "stream",
     "text": [
      "Saving json...\n",
      "Finished fallopian_tubes_AJLC170_1077.json\n",
      "fallopian_tubes_AJLC170_1081.ndpi (541/653)\n",
      "Skipping fallopian_tubes_AJLC170_1081.ndpi\n",
      "fallopian_tubes_AJLC170_1085.ndpi (543/653)\n",
      "effective: block_size=(4096, 4096, 3), min_overlap=(128, 128, 0), context=(128, 128, 0)\n"
     ]
    },
    {
     "name": "stderr",
     "output_type": "stream",
     "text": [
      "100%|██████████| 156/156 [06:12<00:00,  2.39s/it]\n"
     ]
    },
    {
     "name": "stdout",
     "output_type": "stream",
     "text": [
      "Saving json...\n",
      "Finished fallopian_tubes_AJLC170_1085.json\n",
      "fallopian_tubes_AJLC170_1089.ndpi (545/653)\n",
      "effective: block_size=(4096, 4096, 3), min_overlap=(128, 128, 0), context=(128, 128, 0)\n"
     ]
    },
    {
     "name": "stderr",
     "output_type": "stream",
     "text": [
      "100%|██████████| 104/104 [04:20<00:00,  2.50s/it]\n"
     ]
    },
    {
     "name": "stdout",
     "output_type": "stream",
     "text": [
      "Saving json...\n",
      "Finished fallopian_tubes_AJLC170_1089.json\n",
      "fallopian_tubes_AJLC170_1093.ndpi (547/653)\n",
      "effective: block_size=(4096, 4096, 3), min_overlap=(128, 128, 0), context=(128, 128, 0)\n"
     ]
    },
    {
     "name": "stderr",
     "output_type": "stream",
     "text": [
      "100%|██████████| 91/91 [03:51<00:00,  2.54s/it]\n"
     ]
    },
    {
     "name": "stdout",
     "output_type": "stream",
     "text": [
      "Saving json...\n",
      "Finished fallopian_tubes_AJLC170_1093.json\n",
      "fallopian_tubes_AJLC170_1097.ndpi (549/653)\n",
      "effective: block_size=(4096, 4096, 3), min_overlap=(128, 128, 0), context=(128, 128, 0)\n"
     ]
    },
    {
     "name": "stderr",
     "output_type": "stream",
     "text": [
      "100%|██████████| 104/104 [04:27<00:00,  2.57s/it]\n"
     ]
    },
    {
     "name": "stdout",
     "output_type": "stream",
     "text": [
      "Saving json...\n",
      "Finished fallopian_tubes_AJLC170_1097.json\n",
      "fallopian_tubes_AJLC170_1101.ndpi (551/653)\n",
      "Skipping fallopian_tubes_AJLC170_1101.ndpi\n",
      "fallopian_tubes_AJLC170_1105.ndpi (553/653)\n",
      "effective: block_size=(4096, 4096, 3), min_overlap=(128, 128, 0), context=(128, 128, 0)\n"
     ]
    },
    {
     "name": "stderr",
     "output_type": "stream",
     "text": [
      "100%|██████████| 104/104 [04:29<00:00,  2.59s/it]\n"
     ]
    },
    {
     "name": "stdout",
     "output_type": "stream",
     "text": [
      "Saving json...\n",
      "Finished fallopian_tubes_AJLC170_1105.json\n",
      "fallopian_tubes_AJLC170_1109.ndpi (555/653)\n",
      "effective: block_size=(4096, 4096, 3), min_overlap=(128, 128, 0), context=(128, 128, 0)\n"
     ]
    },
    {
     "name": "stderr",
     "output_type": "stream",
     "text": [
      "100%|██████████| 96/96 [04:13<00:00,  2.64s/it]\n"
     ]
    },
    {
     "name": "stdout",
     "output_type": "stream",
     "text": [
      "Saving json...\n",
      "Finished fallopian_tubes_AJLC170_1109.json\n",
      "fallopian_tubes_AJLC170_1113.ndpi (557/653)\n",
      "effective: block_size=(4096, 4096, 3), min_overlap=(128, 128, 0), context=(128, 128, 0)\n"
     ]
    },
    {
     "name": "stderr",
     "output_type": "stream",
     "text": [
      "100%|██████████| 112/112 [04:54<00:00,  2.63s/it]\n"
     ]
    },
    {
     "name": "stdout",
     "output_type": "stream",
     "text": [
      "Saving json...\n",
      "Finished fallopian_tubes_AJLC170_1113.json\n",
      "fallopian_tubes_AJLC170_1117.ndpi (559/653)\n",
      "effective: block_size=(4096, 4096, 3), min_overlap=(128, 128, 0), context=(128, 128, 0)\n"
     ]
    },
    {
     "name": "stderr",
     "output_type": "stream",
     "text": [
      "100%|██████████| 195/195 [08:16<00:00,  2.55s/it]\n"
     ]
    },
    {
     "name": "stdout",
     "output_type": "stream",
     "text": [
      "Saving json...\n",
      "Finished fallopian_tubes_AJLC170_1117.json\n",
      "fallopian_tubes_AJLC170_1121.ndpi (561/653)\n",
      "Skipping fallopian_tubes_AJLC170_1121.ndpi\n",
      "fallopian_tubes_AJLC170_1125.ndpi (563/653)\n",
      "effective: block_size=(4096, 4096, 3), min_overlap=(128, 128, 0), context=(128, 128, 0)\n"
     ]
    },
    {
     "name": "stderr",
     "output_type": "stream",
     "text": [
      "100%|██████████| 104/104 [04:37<00:00,  2.67s/it]\n"
     ]
    },
    {
     "name": "stdout",
     "output_type": "stream",
     "text": [
      "Saving json...\n",
      "Finished fallopian_tubes_AJLC170_1125.json\n",
      "fallopian_tubes_AJLC170_1129.ndpi (565/653)\n",
      "effective: block_size=(4096, 4096, 3), min_overlap=(128, 128, 0), context=(128, 128, 0)\n"
     ]
    },
    {
     "name": "stderr",
     "output_type": "stream",
     "text": [
      "100%|██████████| 104/104 [04:40<00:00,  2.70s/it]\n"
     ]
    },
    {
     "name": "stdout",
     "output_type": "stream",
     "text": [
      "Saving json...\n",
      "Finished fallopian_tubes_AJLC170_1129.json\n",
      "fallopian_tubes_AJLC170_1133.ndpi (567/653)\n",
      "effective: block_size=(4096, 4096, 3), min_overlap=(128, 128, 0), context=(128, 128, 0)\n"
     ]
    },
    {
     "name": "stderr",
     "output_type": "stream",
     "text": [
      "100%|██████████| 112/112 [05:09<00:00,  2.76s/it]\n"
     ]
    },
    {
     "name": "stdout",
     "output_type": "stream",
     "text": [
      "Saving json...\n",
      "Finished fallopian_tubes_AJLC170_1133.json\n",
      "fallopian_tubes_AJLC170_1137.ndpi (569/653)\n",
      "effective: block_size=(4096, 4096, 3), min_overlap=(128, 128, 0), context=(128, 128, 0)\n"
     ]
    },
    {
     "name": "stderr",
     "output_type": "stream",
     "text": [
      "100%|██████████| 91/91 [04:14<00:00,  2.80s/it]\n"
     ]
    },
    {
     "name": "stdout",
     "output_type": "stream",
     "text": [
      "Saving json...\n",
      "Finished fallopian_tubes_AJLC170_1137.json\n",
      "fallopian_tubes_AJLC170_1141.ndpi (571/653)\n",
      "Skipping fallopian_tubes_AJLC170_1141.ndpi\n",
      "fallopian_tubes_AJLC170_1145.ndpi (573/653)\n",
      "effective: block_size=(4096, 4096, 3), min_overlap=(128, 128, 0), context=(128, 128, 0)\n"
     ]
    },
    {
     "name": "stderr",
     "output_type": "stream",
     "text": [
      "100%|██████████| 91/91 [04:17<00:00,  2.83s/it]\n"
     ]
    },
    {
     "name": "stdout",
     "output_type": "stream",
     "text": [
      "Saving json...\n",
      "Finished fallopian_tubes_AJLC170_1145.json\n",
      "fallopian_tubes_AJLC170_1149.ndpi (575/653)\n",
      "effective: block_size=(4096, 4096, 3), min_overlap=(128, 128, 0), context=(128, 128, 0)\n"
     ]
    },
    {
     "name": "stderr",
     "output_type": "stream",
     "text": [
      "100%|██████████| 140/140 [06:31<00:00,  2.79s/it]\n"
     ]
    },
    {
     "name": "stdout",
     "output_type": "stream",
     "text": [
      "Saving json...\n",
      "Finished fallopian_tubes_AJLC170_1149.json\n",
      "fallopian_tubes_AJLC170_1153.ndpi (577/653)\n",
      "effective: block_size=(4096, 4096, 3), min_overlap=(128, 128, 0), context=(128, 128, 0)\n"
     ]
    },
    {
     "name": "stderr",
     "output_type": "stream",
     "text": [
      "100%|██████████| 104/104 [04:57<00:00,  2.86s/it]\n"
     ]
    },
    {
     "name": "stdout",
     "output_type": "stream",
     "text": [
      "Saving json...\n",
      "Finished fallopian_tubes_AJLC170_1153.json\n",
      "fallopian_tubes_AJLC170_1157.ndpi (579/653)\n",
      "effective: block_size=(4096, 4096, 3), min_overlap=(128, 128, 0), context=(128, 128, 0)\n"
     ]
    },
    {
     "name": "stderr",
     "output_type": "stream",
     "text": [
      "100%|██████████| 70/70 [03:30<00:00,  3.01s/it]\n"
     ]
    },
    {
     "name": "stdout",
     "output_type": "stream",
     "text": [
      "Saving json...\n",
      "Finished fallopian_tubes_AJLC170_1157.json\n",
      "fallopian_tubes_AJLC170_1161.ndpi (581/653)\n",
      "Skipping fallopian_tubes_AJLC170_1161.ndpi\n",
      "fallopian_tubes_AJLC170_1165.ndpi (583/653)\n",
      "effective: block_size=(4096, 4096, 3), min_overlap=(128, 128, 0), context=(128, 128, 0)\n"
     ]
    },
    {
     "name": "stderr",
     "output_type": "stream",
     "text": [
      "100%|██████████| 91/91 [04:29<00:00,  2.97s/it]\n"
     ]
    },
    {
     "name": "stdout",
     "output_type": "stream",
     "text": [
      "Saving json...\n",
      "Finished fallopian_tubes_AJLC170_1165.json\n",
      "fallopian_tubes_AJLC170_1169.ndpi (585/653)\n",
      "effective: block_size=(4096, 4096, 3), min_overlap=(128, 128, 0), context=(128, 128, 0)\n"
     ]
    },
    {
     "name": "stderr",
     "output_type": "stream",
     "text": [
      "100%|██████████| 91/91 [04:30<00:00,  2.98s/it]\n"
     ]
    },
    {
     "name": "stdout",
     "output_type": "stream",
     "text": [
      "Saving json...\n",
      "Finished fallopian_tubes_AJLC170_1169.json\n",
      "fallopian_tubes_AJLC170_1173.ndpi (587/653)\n",
      "effective: block_size=(4096, 4096, 3), min_overlap=(128, 128, 0), context=(128, 128, 0)\n"
     ]
    },
    {
     "name": "stderr",
     "output_type": "stream",
     "text": [
      "100%|██████████| 91/91 [04:34<00:00,  3.01s/it]\n"
     ]
    },
    {
     "name": "stdout",
     "output_type": "stream",
     "text": [
      "Saving json...\n",
      "Finished fallopian_tubes_AJLC170_1173.json\n",
      "fallopian_tubes_AJLC170_1177.ndpi (589/653)\n",
      "effective: block_size=(4096, 4096, 3), min_overlap=(128, 128, 0), context=(128, 128, 0)\n"
     ]
    },
    {
     "name": "stderr",
     "output_type": "stream",
     "text": [
      "100%|██████████| 91/91 [04:33<00:00,  3.01s/it]\n"
     ]
    },
    {
     "name": "stdout",
     "output_type": "stream",
     "text": [
      "Saving json...\n",
      "Finished fallopian_tubes_AJLC170_1177.json\n",
      "fallopian_tubes_AJLC170_1181.ndpi (591/653)\n",
      "Skipping fallopian_tubes_AJLC170_1181.ndpi\n",
      "fallopian_tubes_AJLC170_1185.ndpi (593/653)\n",
      "effective: block_size=(4096, 4096, 3), min_overlap=(128, 128, 0), context=(128, 128, 0)\n"
     ]
    },
    {
     "name": "stderr",
     "output_type": "stream",
     "text": [
      "100%|██████████| 25/25 [01:27<00:00,  3.51s/it]\n"
     ]
    },
    {
     "name": "stdout",
     "output_type": "stream",
     "text": [
      "Saving json...\n",
      "Finished fallopian_tubes_AJLC170_1185.json\n",
      "fallopian_tubes_AJLC170_1189.ndpi (595/653)\n",
      "effective: block_size=(4096, 4096, 3), min_overlap=(128, 128, 0), context=(128, 128, 0)\n"
     ]
    },
    {
     "name": "stderr",
     "output_type": "stream",
     "text": [
      "100%|██████████| 25/25 [01:30<00:00,  3.60s/it]\n"
     ]
    },
    {
     "name": "stdout",
     "output_type": "stream",
     "text": [
      "Saving json...\n",
      "Finished fallopian_tubes_AJLC170_1189.json\n",
      "fallopian_tubes_AJLC170_1193.ndpi (597/653)\n",
      "effective: block_size=(4096, 4096, 3), min_overlap=(128, 128, 0), context=(128, 128, 0)\n"
     ]
    },
    {
     "name": "stderr",
     "output_type": "stream",
     "text": [
      "100%|██████████| 25/25 [01:26<00:00,  3.47s/it]\n"
     ]
    },
    {
     "name": "stdout",
     "output_type": "stream",
     "text": [
      "Saving json...\n",
      "Finished fallopian_tubes_AJLC170_1193.json\n",
      "fallopian_tubes_AJLC170_1197.ndpi (599/653)\n",
      "effective: block_size=(4096, 4096, 3), min_overlap=(128, 128, 0), context=(128, 128, 0)\n"
     ]
    },
    {
     "name": "stderr",
     "output_type": "stream",
     "text": [
      "100%|██████████| 25/25 [01:27<00:00,  3.52s/it]\n"
     ]
    },
    {
     "name": "stdout",
     "output_type": "stream",
     "text": [
      "Saving json...\n",
      "Finished fallopian_tubes_AJLC170_1197.json\n",
      "fallopian_tubes_AJLC170_1201.ndpi (601/653)\n",
      "Skipping fallopian_tubes_AJLC170_1201.ndpi\n",
      "fallopian_tubes_AJLC170_1205.ndpi (603/653)\n",
      "effective: block_size=(4096, 4096, 3), min_overlap=(128, 128, 0), context=(128, 128, 0)\n"
     ]
    },
    {
     "name": "stderr",
     "output_type": "stream",
     "text": [
      "100%|██████████| 25/25 [01:28<00:00,  3.54s/it]\n"
     ]
    },
    {
     "name": "stdout",
     "output_type": "stream",
     "text": [
      "Saving json...\n",
      "Finished fallopian_tubes_AJLC170_1205.json\n",
      "fallopian_tubes_AJLC170_1209.ndpi (605/653)\n",
      "effective: block_size=(4096, 4096, 3), min_overlap=(128, 128, 0), context=(128, 128, 0)\n"
     ]
    },
    {
     "name": "stderr",
     "output_type": "stream",
     "text": [
      "100%|██████████| 25/25 [01:28<00:00,  3.55s/it]\n"
     ]
    },
    {
     "name": "stdout",
     "output_type": "stream",
     "text": [
      "Saving json...\n",
      "Finished fallopian_tubes_AJLC170_1209.json\n",
      "fallopian_tubes_AJLC170_1213.ndpi (607/653)\n",
      "effective: block_size=(4096, 4096, 3), min_overlap=(128, 128, 0), context=(128, 128, 0)\n"
     ]
    },
    {
     "name": "stderr",
     "output_type": "stream",
     "text": [
      "100%|██████████| 25/25 [01:28<00:00,  3.55s/it]\n"
     ]
    },
    {
     "name": "stdout",
     "output_type": "stream",
     "text": [
      "Saving json...\n",
      "Finished fallopian_tubes_AJLC170_1213.json\n",
      "fallopian_tubes_AJLC170_1217.ndpi (609/653)\n",
      "effective: block_size=(4096, 4096, 3), min_overlap=(128, 128, 0), context=(128, 128, 0)\n"
     ]
    },
    {
     "name": "stderr",
     "output_type": "stream",
     "text": [
      "100%|██████████| 25/25 [01:28<00:00,  3.55s/it]\n"
     ]
    },
    {
     "name": "stdout",
     "output_type": "stream",
     "text": [
      "Saving json...\n",
      "Finished fallopian_tubes_AJLC170_1217.json\n",
      "fallopian_tubes_AJLC170_1221.ndpi (611/653)\n",
      "Skipping fallopian_tubes_AJLC170_1221.ndpi\n",
      "fallopian_tubes_AJLC170_1225.ndpi (613/653)\n",
      "effective: block_size=(4096, 4096, 3), min_overlap=(128, 128, 0), context=(128, 128, 0)\n"
     ]
    },
    {
     "name": "stderr",
     "output_type": "stream",
     "text": [
      "100%|██████████| 20/20 [01:10<00:00,  3.50s/it]\n"
     ]
    },
    {
     "name": "stdout",
     "output_type": "stream",
     "text": [
      "Saving json...\n",
      "Finished fallopian_tubes_AJLC170_1225.json\n",
      "fallopian_tubes_AJLC170_1229.ndpi (615/653)\n",
      "effective: block_size=(4096, 4096, 3), min_overlap=(128, 128, 0), context=(128, 128, 0)\n"
     ]
    },
    {
     "name": "stderr",
     "output_type": "stream",
     "text": [
      "100%|██████████| 20/20 [01:10<00:00,  3.53s/it]\n"
     ]
    },
    {
     "name": "stdout",
     "output_type": "stream",
     "text": [
      "Saving json...\n",
      "Finished fallopian_tubes_AJLC170_1229.json\n",
      "fallopian_tubes_AJLC170_1233.ndpi (617/653)\n",
      "effective: block_size=(4096, 4096, 3), min_overlap=(128, 128, 0), context=(128, 128, 0)\n"
     ]
    },
    {
     "name": "stderr",
     "output_type": "stream",
     "text": [
      "100%|██████████| 20/20 [01:09<00:00,  3.46s/it]\n"
     ]
    },
    {
     "name": "stdout",
     "output_type": "stream",
     "text": [
      "Saving json...\n",
      "Finished fallopian_tubes_AJLC170_1233.json\n",
      "fallopian_tubes_AJLC170_1237.ndpi (619/653)\n",
      "effective: block_size=(4096, 4096, 3), min_overlap=(128, 128, 0), context=(128, 128, 0)\n"
     ]
    },
    {
     "name": "stderr",
     "output_type": "stream",
     "text": [
      "100%|██████████| 20/20 [01:09<00:00,  3.50s/it]\n"
     ]
    },
    {
     "name": "stdout",
     "output_type": "stream",
     "text": [
      "Saving json...\n",
      "Finished fallopian_tubes_AJLC170_1237.json\n",
      "fallopian_tubes_AJLC170_1241.ndpi (621/653)\n",
      "Skipping fallopian_tubes_AJLC170_1241.ndpi\n",
      "fallopian_tubes_AJLC170_1245.ndpi (623/653)\n",
      "effective: block_size=(4096, 4096, 3), min_overlap=(128, 128, 0), context=(128, 128, 0)\n"
     ]
    },
    {
     "name": "stderr",
     "output_type": "stream",
     "text": [
      "100%|██████████| 20/20 [01:09<00:00,  3.49s/it]\n"
     ]
    },
    {
     "name": "stdout",
     "output_type": "stream",
     "text": [
      "Saving json...\n",
      "Finished fallopian_tubes_AJLC170_1245.json\n",
      "fallopian_tubes_AJLC170_1249.ndpi (625/653)\n",
      "effective: block_size=(4096, 4096, 3), min_overlap=(128, 128, 0), context=(128, 128, 0)\n"
     ]
    },
    {
     "name": "stderr",
     "output_type": "stream",
     "text": [
      "100%|██████████| 20/20 [01:10<00:00,  3.50s/it]\n"
     ]
    },
    {
     "name": "stdout",
     "output_type": "stream",
     "text": [
      "Saving json...\n",
      "Finished fallopian_tubes_AJLC170_1249.json\n",
      "fallopian_tubes_AJLC170_1253.ndpi (627/653)\n",
      "effective: block_size=(4096, 4096, 3), min_overlap=(128, 128, 0), context=(128, 128, 0)\n"
     ]
    },
    {
     "name": "stderr",
     "output_type": "stream",
     "text": [
      "100%|██████████| 20/20 [01:10<00:00,  3.53s/it]\n"
     ]
    },
    {
     "name": "stdout",
     "output_type": "stream",
     "text": [
      "Saving json...\n",
      "Finished fallopian_tubes_AJLC170_1253.json\n",
      "fallopian_tubes_AJLC170_1257.ndpi (629/653)\n",
      "effective: block_size=(4096, 4096, 3), min_overlap=(128, 128, 0), context=(128, 128, 0)\n"
     ]
    },
    {
     "name": "stderr",
     "output_type": "stream",
     "text": [
      "100%|██████████| 20/20 [01:09<00:00,  3.46s/it]\n"
     ]
    },
    {
     "name": "stdout",
     "output_type": "stream",
     "text": [
      "Saving json...\n",
      "Finished fallopian_tubes_AJLC170_1257.json\n",
      "fallopian_tubes_AJLC170_1261.ndpi (631/653)\n",
      "Skipping fallopian_tubes_AJLC170_1261.ndpi\n",
      "fallopian_tubes_AJLC170_1265.ndpi (633/653)\n",
      "effective: block_size=(4096, 4096, 3), min_overlap=(128, 128, 0), context=(128, 128, 0)\n"
     ]
    },
    {
     "name": "stderr",
     "output_type": "stream",
     "text": [
      "100%|██████████| 20/20 [01:08<00:00,  3.42s/it]\n"
     ]
    },
    {
     "name": "stdout",
     "output_type": "stream",
     "text": [
      "Saving json...\n",
      "Finished fallopian_tubes_AJLC170_1265.json\n",
      "fallopian_tubes_AJLC170_1269.ndpi (635/653)\n",
      "effective: block_size=(4096, 4096, 3), min_overlap=(128, 128, 0), context=(128, 128, 0)\n"
     ]
    },
    {
     "name": "stderr",
     "output_type": "stream",
     "text": [
      "100%|██████████| 20/20 [01:11<00:00,  3.58s/it]\n"
     ]
    },
    {
     "name": "stdout",
     "output_type": "stream",
     "text": [
      "Saving json...\n",
      "Finished fallopian_tubes_AJLC170_1269.json\n",
      "fallopian_tubes_AJLC170_1273.ndpi (637/653)\n",
      "effective: block_size=(4096, 4096, 3), min_overlap=(128, 128, 0), context=(128, 128, 0)\n"
     ]
    },
    {
     "name": "stderr",
     "output_type": "stream",
     "text": [
      "100%|██████████| 16/16 [00:56<00:00,  3.52s/it]\n"
     ]
    },
    {
     "name": "stdout",
     "output_type": "stream",
     "text": [
      "Saving json...\n",
      "Finished fallopian_tubes_AJLC170_1273.json\n",
      "fallopian_tubes_AJLC170_1277.ndpi (639/653)\n",
      "effective: block_size=(4096, 4096, 3), min_overlap=(128, 128, 0), context=(128, 128, 0)\n"
     ]
    },
    {
     "name": "stderr",
     "output_type": "stream",
     "text": [
      "100%|██████████| 16/16 [00:56<00:00,  3.55s/it]\n"
     ]
    },
    {
     "name": "stdout",
     "output_type": "stream",
     "text": [
      "Saving json...\n",
      "Finished fallopian_tubes_AJLC170_1277.json\n",
      "fallopian_tubes_AJLC170_1281.ndpi (641/653)\n",
      "Skipping fallopian_tubes_AJLC170_1281.ndpi\n",
      "fallopian_tubes_AJLC170_1285.ndpi (643/653)\n",
      "effective: block_size=(4096, 4096, 3), min_overlap=(128, 128, 0), context=(128, 128, 0)\n"
     ]
    },
    {
     "name": "stderr",
     "output_type": "stream",
     "text": [
      "100%|██████████| 16/16 [00:55<00:00,  3.46s/it]\n"
     ]
    },
    {
     "name": "stdout",
     "output_type": "stream",
     "text": [
      "Saving json...\n",
      "Finished fallopian_tubes_AJLC170_1285.json\n",
      "fallopian_tubes_AJLC170_1289.ndpi (645/653)\n",
      "effective: block_size=(4096, 4096, 3), min_overlap=(128, 128, 0), context=(128, 128, 0)\n"
     ]
    },
    {
     "name": "stderr",
     "output_type": "stream",
     "text": [
      "100%|██████████| 16/16 [00:54<00:00,  3.39s/it]\n"
     ]
    },
    {
     "name": "stdout",
     "output_type": "stream",
     "text": [
      "Saving json...\n",
      "Finished fallopian_tubes_AJLC170_1289.json\n",
      "fallopian_tubes_AJLC170_1293.ndpi (647/653)\n",
      "effective: block_size=(4096, 4096, 3), min_overlap=(128, 128, 0), context=(128, 128, 0)\n"
     ]
    },
    {
     "name": "stderr",
     "output_type": "stream",
     "text": [
      "100%|██████████| 16/16 [00:55<00:00,  3.47s/it]\n"
     ]
    },
    {
     "name": "stdout",
     "output_type": "stream",
     "text": [
      "Saving json...\n",
      "Finished fallopian_tubes_AJLC170_1293.json\n",
      "fallopian_tubes_AJLC170_1297.ndpi (649/653)\n",
      "effective: block_size=(4096, 4096, 3), min_overlap=(128, 128, 0), context=(128, 128, 0)\n"
     ]
    },
    {
     "name": "stderr",
     "output_type": "stream",
     "text": [
      "100%|██████████| 9/9 [00:30<00:00,  3.37s/it]\n"
     ]
    },
    {
     "name": "stdout",
     "output_type": "stream",
     "text": [
      "Saving json...\n",
      "Finished fallopian_tubes_AJLC170_1297.json\n",
      "fallopian_tubes_AJLC170_1301.ndpi (651/653)\n",
      "Skipping fallopian_tubes_AJLC170_1301.ndpi\n",
      "fallopian_tubes_AJLC170_1305.ndpi (653/653)\n",
      "effective: block_size=(4096, 4096, 3), min_overlap=(128, 128, 0), context=(128, 128, 0)\n"
     ]
    },
    {
     "name": "stderr",
     "output_type": "stream",
     "text": [
      "100%|██████████| 9/9 [00:30<00:00,  3.35s/it]\n"
     ]
    },
    {
     "name": "stdout",
     "output_type": "stream",
     "text": [
      "Saving json...\n",
      "Finished fallopian_tubes_AJLC170_1305.json\n"
     ]
    }
   ],
   "source": [
    "# Segment all WSIs -- takes about 2-5 minutes per whole slide image to segment, about 3 minutes to save geojson file\n",
    "for k, file_list in enumerate(WSIs):\n",
    "    pth_folder = pths[k]\n",
    "    # print(pth_folder)\n",
    "    \n",
    "    for p, img_pth in enumerate(file_list):\n",
    "        if p % 2 == 1:  # Skip every other image (odd-numbered images)\n",
    "            continue\n",
    "        out_pth = os.path.join(pth_folder,f'StarDist_{date}')\n",
    "        out_pth_json = os.path.join(out_pth,'json')\n",
    "        out_pth_tif = os.path.join(out_pth,'tif')\n",
    "\n",
    "        try:\n",
    "            name = os.path.basename(img_pth)\n",
    "            print(f'{name} ({p+1}/{len(file_list)})')\n",
    "            if not os.path.exists(os.path.join(out_pth_json, (name[:-5] + '.json'))):\n",
    "                # print(f'Starting {name}')\n",
    "    \n",
    "                img = imread(img_pth)\n",
    "                img = img/255  # normalization used to train model\n",
    "                _, polys = model.predict_instances_big(img, axes='YXC', block_size=4096, min_overlap=128, context=128, n_tiles=(4,4,1))\n",
    "    \n",
    "                print('Saving json...')\n",
    "                save_json(polys, out_pth_json, name)\n",
    "    \n",
    "                # tif file is like 3 GB usually, so only uncomment next part if you are ok with that\n",
    "                #print('Saving tif...')\n",
    "                #imwrite(os.path.join(out_pth_tif, name[:-5] + '.tif'), labels)\n",
    "            else:\n",
    "                print(f'Skipping {name}')\n",
    "        except:\n",
    "            print(f'skipping {img_pth}, probably bc its too big...')"
   ],
   "metadata": {
    "collapsed": false,
    "ExecuteTime": {
     "end_time": "2024-01-05T15:22:16.793352200Z",
     "start_time": "2024-01-05T10:25:20.768955Z"
    }
   }
  },
  {
   "cell_type": "code",
   "execution_count": 14,
   "outputs": [],
   "source": [
    "# show_image(labels, crop_x=10000, crop_y=10000, tile_size=1024, cmap=cmap)\n",
    "# show_image(img, crop_x, crop_y, tile_size, cmap=cmap)"
   ],
   "metadata": {
    "collapsed": false,
    "ExecuteTime": {
     "end_time": "2024-01-05T15:22:16.828659200Z",
     "start_time": "2024-01-05T15:22:16.800375600Z"
    }
   }
  },
  {
   "cell_type": "markdown",
   "source": [],
   "metadata": {
    "collapsed": false
   }
  }
 ],
 "metadata": {
  "accelerator": "GPU",
  "colab": {
   "collapsed_sections": [],
   "name": "281-Segmenting_WSI_using_StarDist.ipynb",
   "provenance": [],
   "mount_file_id": "1TTEEGQOEZfynOwGGF_Azalgl1Vf6opv3",
   "authorship_tag": "ABX9TyMbUn0LceXTmmoadiU9GV1Q",
   "include_colab_link": true
  },
  "kernelspec": {
   "name": "python3",
   "language": "python",
   "display_name": "Python 3 (ipykernel)"
  },
  "language_info": {
   "name": "python"
  }
 },
 "nbformat": 4,
 "nbformat_minor": 0
}
