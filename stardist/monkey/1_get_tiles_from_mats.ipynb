{
 "cells": [
  {
   "cell_type": "code",
   "execution_count": 2,
   "outputs": [],
   "source": [
    "import os\n",
    "from PIL import Image\n",
    "import numpy as np\n",
    "\n",
    "openslide_path = r'C:\\Users\\Donald\\Documents\\openslide-win64-20230414\\bin'\n",
    "\n",
    "os.environ['PATH'] = openslide_path + \";\" + os.environ['PATH']\n",
    "# from openslide import OpenSlide\n",
    "\n",
    "\n",
    "if hasattr(os, 'add_dll_directory'):\n",
    "    # Python >= 3.8 on Windows\n",
    "    with os.add_dll_directory(openslide_path):\n",
    "        import openslide\n",
    "else:\n",
    "    import openslide\n",
    "from openslide import OpenSlide"
   ],
   "metadata": {
    "collapsed": false,
    "ExecuteTime": {
     "end_time": "2023-11-20T18:42:27.448095800Z",
     "start_time": "2023-11-20T18:42:27.427391400Z"
    }
   }
  },
  {
   "cell_type": "markdown",
   "source": [
    "You need to do get crop data before running this code. I use a matlab function I made with the 2.5x or 10x tiff images.\n",
    "\n",
    "Function is here: \\\\10.99.68.178\\andreex\\students\\Donald Monkey fetus\\codes\\monkey\\crop1024_monkey.m"
   ],
   "metadata": {
    "collapsed": false
   }
  },
  {
   "cell_type": "code",
   "execution_count": 3,
   "outputs": [],
   "source": [
    "pth = r'\\\\10.99.68.178\\andreex\\data\\monkey fetus\\gestational 40'\n",
    "pth_mat = r'\\\\10.99.68.178\\andreex\\data\\monkey fetus\\gestational 40\\stardist_tiles\\new_tiles_11_20\\cropped_tile\\matfiles'"
   ],
   "metadata": {
    "collapsed": false,
    "ExecuteTime": {
     "end_time": "2023-11-20T18:42:28.453057800Z",
     "start_time": "2023-11-20T18:42:28.445057900Z"
    }
   }
  },
  {
   "cell_type": "code",
   "execution_count": 4,
   "outputs": [],
   "source": [
    "# Get a list of MAT files and their base names (without extensions)\n",
    "mat_files = [os.path.splitext(file)[0] for file in os.listdir(pth_mat) if file.endswith('.mat')]\n",
    "\n",
    "# Get a list of NDPI images and their base names (without extensions)\n",
    "ndpi_files = [os.path.splitext(file)[0] for file in os.listdir(pth) if file.endswith('.ndpi')]\n",
    "\n",
    "# Find the matching files based on their base names\n",
    "matching_files = set(mat_files).intersection(ndpi_files)\n",
    "\n",
    "WSIs = sorted([filename + '.ndpi' for filename in matching_files])\n",
    "\n",
    "crop_mats = sorted([filename + '.mat' for filename in mat_files])"
   ],
   "metadata": {
    "collapsed": false,
    "ExecuteTime": {
     "end_time": "2023-11-20T18:42:29.947443800Z",
     "start_time": "2023-11-20T18:42:29.760174900Z"
    }
   }
  },
  {
   "cell_type": "code",
   "execution_count": 5,
   "outputs": [
    {
     "data": {
      "text/plain": "['monkey_fetus_40_0531.mat', 'monkey_fetus_40_0725.mat']"
     },
     "execution_count": 5,
     "metadata": {},
     "output_type": "execute_result"
    }
   ],
   "source": [
    "crop_mats"
   ],
   "metadata": {
    "collapsed": false,
    "ExecuteTime": {
     "end_time": "2023-11-20T18:42:31.810819Z",
     "start_time": "2023-11-20T18:42:31.774819400Z"
    }
   }
  },
  {
   "cell_type": "code",
   "execution_count": 6,
   "outputs": [
    {
     "data": {
      "text/plain": "['monkey_fetus_40_0531.ndpi', 'monkey_fetus_40_0725.ndpi']"
     },
     "execution_count": 6,
     "metadata": {},
     "output_type": "execute_result"
    }
   ],
   "source": [
    "WSIs"
   ],
   "metadata": {
    "collapsed": false,
    "ExecuteTime": {
     "end_time": "2023-11-20T18:42:33.481015200Z",
     "start_time": "2023-11-20T18:42:33.455958200Z"
    }
   }
  },
  {
   "cell_type": "code",
   "execution_count": 17,
   "outputs": [],
   "source": [
    "res20x=0.4416\n",
    "res2_5x=4\n",
    "\n",
    "ratio = res2_5x/res20x\n",
    "\n",
    "\n",
    "outpth = r'\\\\10.99.68.178\\andreex\\data\\monkey fetus\\gestational 40\\stardist_tiles\\new_tiles_11_20'\n",
    "if not os.path.exists(outpth):\n",
    "    os.mkdir(outpth)"
   ],
   "metadata": {
    "collapsed": false,
    "ExecuteTime": {
     "end_time": "2023-11-20T18:44:35.205072300Z",
     "start_time": "2023-11-20T18:44:35.174222100Z"
    }
   }
  },
  {
   "cell_type": "code",
   "execution_count": 18,
   "outputs": [
    {
     "name": "stdout",
     "output_type": "stream",
     "text": [
      "9.057971014492754\n"
     ]
    }
   ],
   "source": [
    "print(ratio)"
   ],
   "metadata": {
    "collapsed": false,
    "ExecuteTime": {
     "end_time": "2023-11-20T18:44:37.095714600Z",
     "start_time": "2023-11-20T18:44:37.072710400Z"
    }
   }
  },
  {
   "cell_type": "code",
   "execution_count": 9,
   "outputs": [
    {
     "data": {
      "text/plain": "'C:\\\\Users\\\\Donald\\\\Desktop\\\\temp\\\\tiles512'"
     },
     "execution_count": 9,
     "metadata": {},
     "output_type": "execute_result"
    }
   ],
   "source": [
    "outpth = r'C:\\Users\\Donald\\Desktop\\temp\\tiles512'\n",
    "outpth"
   ],
   "metadata": {
    "collapsed": false,
    "ExecuteTime": {
     "end_time": "2023-11-20T18:42:40.819607500Z",
     "start_time": "2023-11-20T18:42:40.793607500Z"
    }
   }
  },
  {
   "cell_type": "code",
   "execution_count": 10,
   "outputs": [
    {
     "data": {
      "text/plain": "['monkey_fetus_40_0531.mat', 'monkey_fetus_40_0725.mat']"
     },
     "execution_count": 10,
     "metadata": {},
     "output_type": "execute_result"
    }
   ],
   "source": [
    "crop_mats"
   ],
   "metadata": {
    "collapsed": false,
    "ExecuteTime": {
     "end_time": "2023-11-20T18:42:42.027299700Z",
     "start_time": "2023-11-20T18:42:42.015300300Z"
    }
   }
  },
  {
   "cell_type": "code",
   "execution_count": 11,
   "outputs": [
    {
     "data": {
      "text/plain": "['monkey_fetus_40_0531.ndpi', 'monkey_fetus_40_0725.ndpi']"
     },
     "execution_count": 11,
     "metadata": {},
     "output_type": "execute_result"
    }
   ],
   "source": [
    "WSIs"
   ],
   "metadata": {
    "collapsed": false,
    "ExecuteTime": {
     "end_time": "2023-11-20T18:42:43.316477700Z",
     "start_time": "2023-11-20T18:42:43.303478100Z"
    }
   }
  },
  {
   "cell_type": "code",
   "execution_count": 20,
   "outputs": [
    {
     "name": "stdout",
     "output_type": "stream",
     "text": [
      "Skipping cropping for monkey_fetus_40_0531.ndpi (1/2)... Already exists\n",
      "Skipping cropping for monkey_fetus_40_0725.ndpi (2/2)... Already exists\n"
     ]
    }
   ],
   "source": [
    "from scipy.io import loadmat\n",
    "\n",
    "file_format = '.tif'\n",
    "\n",
    "for i, file in enumerate(crop_mats):\n",
    "    mat_file_name = os.path.join(pth_mat, file)\n",
    "\n",
    "    WSI_path = os.path.join(pth, WSIs[i])\n",
    "\n",
    "    f_out_name = f'{os.path.join(os.path.join(outpth,WSIs[i][:-5]))}{file_format}'\n",
    "\n",
    "    if os.path.exists(f_out_name):\n",
    "        print(f'Skipping cropping for {WSIs[i]} ({i+1}/{len(crop_mats)})... Already exists')\n",
    "\n",
    "    else:\n",
    "        print(f'Cropping {WSIs[i]} ({i+1}/{len(crop_mats)})')\n",
    "\n",
    "        # print(mat_file_name)\n",
    "        # print(WSI_path)\n",
    "\n",
    "        WSI_slide = openslide.OpenSlide(WSI_path)\n",
    "\n",
    "        wsi_width, wsi_height = WSI_slide.level_dimensions[0]\n",
    "\n",
    "        data = loadmat(mat_file_name)\n",
    "\n",
    "        # crop_width = int(data['crop_width']*ratio)\n",
    "        # crop_height = int(data['crop_height']*ratio)\n",
    "\n",
    "\n",
    "        crop_width = 256\n",
    "        crop_height = 256\n",
    "        crop_x = int(data['crop_x']*ratio)\n",
    "        crop_y = int(data['crop_y']*ratio)\n",
    "\n",
    "        lower_x = crop_x\n",
    "        upper_y = crop_y\n",
    "        upper_x = crop_x + crop_width\n",
    "        lower_y = crop_y - crop_height\n",
    "\n",
    "        print(crop_x)\n",
    "        print(crop_y)\n",
    "        print(crop_width)\n",
    "        print(crop_height)\n",
    "\n",
    "        region = WSI_slide.read_region((crop_x, crop_y), 0, (crop_width, crop_height)) # level = 0 in middle\n",
    "        region_image = Image.new('RGB', region.size)\n",
    "        region_image.paste(region, (0, 0))\n",
    "\n",
    "        region_image.save(f_out_name)\n",
    "        WSI_slide.close()\n"
   ],
   "metadata": {
    "collapsed": false,
    "ExecuteTime": {
     "end_time": "2023-11-20T18:45:22.185085800Z",
     "start_time": "2023-11-20T18:45:22.178075200Z"
    }
   }
  },
  {
   "cell_type": "code",
   "execution_count": 38,
   "outputs": [
    {
     "data": {
      "text/plain": "19818"
     },
     "execution_count": 38,
     "metadata": {},
     "output_type": "execute_result"
    }
   ],
   "source": [
    "crop_x\n"
   ],
   "metadata": {
    "collapsed": false,
    "ExecuteTime": {
     "end_time": "2023-11-13T20:58:24.890346700Z",
     "start_time": "2023-11-13T20:58:24.872346900Z"
    }
   }
  },
  {
   "cell_type": "code",
   "execution_count": 39,
   "outputs": [
    {
     "data": {
      "text/plain": "20134"
     },
     "execution_count": 39,
     "metadata": {},
     "output_type": "execute_result"
    }
   ],
   "source": [
    "crop_y"
   ],
   "metadata": {
    "collapsed": false,
    "ExecuteTime": {
     "end_time": "2023-11-13T20:58:30.680416500Z",
     "start_time": "2023-11-13T20:58:30.659416400Z"
    }
   }
  },
  {
   "cell_type": "markdown",
   "source": [],
   "metadata": {
    "collapsed": false
   }
  }
 ],
 "metadata": {
  "kernelspec": {
   "display_name": "Python 3",
   "language": "python",
   "name": "python3"
  },
  "language_info": {
   "codemirror_mode": {
    "name": "ipython",
    "version": 2
   },
   "file_extension": ".py",
   "mimetype": "text/x-python",
   "name": "python",
   "nbconvert_exporter": "python",
   "pygments_lexer": "ipython2",
   "version": "2.7.6"
  }
 },
 "nbformat": 4,
 "nbformat_minor": 0
}
