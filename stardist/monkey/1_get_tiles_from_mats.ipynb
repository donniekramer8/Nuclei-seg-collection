{
 "cells": [
  {
   "cell_type": "code",
   "execution_count": 1,
   "outputs": [],
   "source": [
    "import os\n",
    "from PIL import Image\n",
    "import numpy as np\n",
    "\n",
    "openslide_path = r'C:\\Users\\Vasco\\Documents\\openslide-win64-20231011\\bin'\n",
    "\n",
    "os.environ['PATH'] = openslide_path + \";\" + os.environ['PATH']\n",
    "# from openslide import OpenSlide\n",
    "\n",
    "\n",
    "if hasattr(os, 'add_dll_directory'):\n",
    "    # Python >= 3.8 on Windows\n",
    "    with os.add_dll_directory(openslide_path):\n",
    "        import openslide\n",
    "else:\n",
    "    import openslide\n",
    "from openslide import OpenSlide"
   ],
   "metadata": {
    "collapsed": false,
    "ExecuteTime": {
     "end_time": "2023-11-15T23:10:01.183232100Z",
     "start_time": "2023-11-15T23:10:01.097942600Z"
    }
   }
  },
  {
   "cell_type": "markdown",
   "source": [
    "You need to do get crop data before running this code. I use a matlab function I made with the 2.5x or 10x tiff images.\n",
    "\n",
    "Function is here: \\\\10.99.68.178\\andreex\\students\\Donald Monkey fetus\\codes\\monkey\\crop1024_monkey.m"
   ],
   "metadata": {
    "collapsed": false
   }
  },
  {
   "cell_type": "code",
   "execution_count": 2,
   "outputs": [],
   "source": [
    "pth = r'\\\\10.99.68.178\\andreex\\students\\Vasco Fallopian tube\\stardist'      # path to ndpis\n",
    "pth_mat = r'\\\\10.99.68.178\\andreex\\students\\Vasco Fallopian tube\\stardist\\1x\\matfiles'               # path to matfiles"
   ],
   "metadata": {
    "collapsed": false,
    "ExecuteTime": {
     "end_time": "2023-11-15T23:10:01.198231600Z",
     "start_time": "2023-11-15T23:10:01.184231800Z"
    }
   }
  },
  {
   "cell_type": "code",
   "execution_count": 3,
   "outputs": [],
   "source": [
    "# Get a list of MAT files and their base names (without extensions)\n",
    "mat_files = [os.path.splitext(file)[0] for file in os.listdir(pth_mat) if file.endswith('.mat')]\n",
    "\n",
    "# Get a list of NDPI images and their base names (without extensions)\n",
    "ndpi_files = [os.path.splitext(file)[0] for file in os.listdir(pth) if file.endswith('.ndpi')]\n",
    "\n",
    "# Find the matching files based on their base names\n",
    "matching_files = set(mat_files).intersection(ndpi_files)\n",
    "\n",
    "WSIs = sorted([filename + '.ndpi' for filename in matching_files])\n",
    "\n",
    "crop_mats = sorted([filename + '.mat' for filename in mat_files])"
   ],
   "metadata": {
    "collapsed": false,
    "ExecuteTime": {
     "end_time": "2023-11-15T23:10:01.218231600Z",
     "start_time": "2023-11-15T23:10:01.199231700Z"
    }
   }
  },
  {
   "cell_type": "code",
   "execution_count": 4,
   "outputs": [
    {
     "data": {
      "text/plain": "['fallopian_tubes_AJER376_035.mat',\n 'fallopian_tubes_AJER376_211.mat',\n 'fallopian_tubes_AJER376_235.mat',\n 'fallopian_tubes_AJER376_245.mat',\n 'fallopian_tubes_AJER376_431.mat',\n 'fallopian_tubes_AJGB283_155.mat',\n 'fallopian_tubes_AJGB283_487.mat',\n 'fallopian_tubes_AJLC170_0153.mat',\n 'fallopian_tubes_AJLC170_0729.mat',\n 'fallopian_tubes_AJLF232_0153.mat',\n 'fallopian_tubes_AJLF232_0483.mat']"
     },
     "execution_count": 4,
     "metadata": {},
     "output_type": "execute_result"
    }
   ],
   "source": [
    "crop_mats"
   ],
   "metadata": {
    "collapsed": false,
    "ExecuteTime": {
     "end_time": "2023-11-15T23:10:01.228231700Z",
     "start_time": "2023-11-15T23:10:01.214231700Z"
    }
   }
  },
  {
   "cell_type": "code",
   "execution_count": 5,
   "outputs": [
    {
     "data": {
      "text/plain": "['fallopian_tubes_AJER376_035.ndpi',\n 'fallopian_tubes_AJER376_211.ndpi',\n 'fallopian_tubes_AJER376_235.ndpi',\n 'fallopian_tubes_AJER376_245.ndpi',\n 'fallopian_tubes_AJER376_431.ndpi',\n 'fallopian_tubes_AJGB283_155.ndpi',\n 'fallopian_tubes_AJGB283_487.ndpi',\n 'fallopian_tubes_AJLC170_0153.ndpi',\n 'fallopian_tubes_AJLC170_0729.ndpi',\n 'fallopian_tubes_AJLF232_0153.ndpi',\n 'fallopian_tubes_AJLF232_0483.ndpi']"
     },
     "execution_count": 5,
     "metadata": {},
     "output_type": "execute_result"
    }
   ],
   "source": [
    "WSIs"
   ],
   "metadata": {
    "collapsed": false,
    "ExecuteTime": {
     "end_time": "2023-11-15T23:10:01.274231700Z",
     "start_time": "2023-11-15T23:10:01.231231700Z"
    }
   }
  },
  {
   "cell_type": "code",
   "execution_count": 6,
   "outputs": [],
   "source": [
    "res20x=0.4416\n",
    "res2_5x=8\n",
    "\n",
    "ratio = res2_5x/res20x\n",
    "\n",
    "\n",
    "outpth = os.path.join(pth,'tiles512')\n",
    "if not os.path.exists(outpth):\n",
    "    os.mkdir(outpth)"
   ],
   "metadata": {
    "collapsed": false,
    "ExecuteTime": {
     "end_time": "2023-11-15T23:10:01.281231600Z",
     "start_time": "2023-11-15T23:10:01.245232Z"
    }
   }
  },
  {
   "cell_type": "code",
   "execution_count": 7,
   "outputs": [
    {
     "name": "stdout",
     "output_type": "stream",
     "text": [
      "18.115942028985508\n"
     ]
    }
   ],
   "source": [
    "print(ratio)"
   ],
   "metadata": {
    "collapsed": false,
    "ExecuteTime": {
     "end_time": "2023-11-15T23:10:01.282232400Z",
     "start_time": "2023-11-15T23:10:01.261233800Z"
    }
   }
  },
  {
   "cell_type": "code",
   "execution_count": 8,
   "outputs": [
    {
     "data": {
      "text/plain": "'\\\\\\\\10.99.68.178\\\\andreex\\\\students\\\\Vasco Fallopian tube\\\\stardist\\\\tiles512'"
     },
     "execution_count": 8,
     "metadata": {},
     "output_type": "execute_result"
    }
   ],
   "source": [
    "outpth = r'\\\\10.99.68.178\\andreex\\students\\Vasco Fallopian tube\\stardist\\tiles512'\n",
    "outpth"
   ],
   "metadata": {
    "collapsed": false,
    "ExecuteTime": {
     "end_time": "2023-11-15T23:10:01.292231700Z",
     "start_time": "2023-11-15T23:10:01.277231900Z"
    }
   }
  },
  {
   "cell_type": "code",
   "execution_count": 9,
   "outputs": [
    {
     "data": {
      "text/plain": "['fallopian_tubes_AJER376_035.mat',\n 'fallopian_tubes_AJER376_211.mat',\n 'fallopian_tubes_AJER376_235.mat',\n 'fallopian_tubes_AJER376_245.mat',\n 'fallopian_tubes_AJER376_431.mat',\n 'fallopian_tubes_AJGB283_155.mat',\n 'fallopian_tubes_AJGB283_487.mat',\n 'fallopian_tubes_AJLC170_0153.mat',\n 'fallopian_tubes_AJLC170_0729.mat',\n 'fallopian_tubes_AJLF232_0153.mat',\n 'fallopian_tubes_AJLF232_0483.mat']"
     },
     "execution_count": 9,
     "metadata": {},
     "output_type": "execute_result"
    }
   ],
   "source": [
    "crop_mats"
   ],
   "metadata": {
    "collapsed": false,
    "ExecuteTime": {
     "end_time": "2023-11-15T23:10:01.336231900Z",
     "start_time": "2023-11-15T23:10:01.293231700Z"
    }
   }
  },
  {
   "cell_type": "code",
   "execution_count": 10,
   "outputs": [
    {
     "data": {
      "text/plain": "['fallopian_tubes_AJER376_035.ndpi',\n 'fallopian_tubes_AJER376_211.ndpi',\n 'fallopian_tubes_AJER376_235.ndpi',\n 'fallopian_tubes_AJER376_245.ndpi',\n 'fallopian_tubes_AJER376_431.ndpi',\n 'fallopian_tubes_AJGB283_155.ndpi',\n 'fallopian_tubes_AJGB283_487.ndpi',\n 'fallopian_tubes_AJLC170_0153.ndpi',\n 'fallopian_tubes_AJLC170_0729.ndpi',\n 'fallopian_tubes_AJLF232_0153.ndpi',\n 'fallopian_tubes_AJLF232_0483.ndpi']"
     },
     "execution_count": 10,
     "metadata": {},
     "output_type": "execute_result"
    }
   ],
   "source": [
    "WSIs"
   ],
   "metadata": {
    "collapsed": false,
    "ExecuteTime": {
     "end_time": "2023-11-15T23:10:01.346231700Z",
     "start_time": "2023-11-15T23:10:01.309231800Z"
    }
   }
  },
  {
   "cell_type": "code",
   "execution_count": 11,
   "outputs": [
    {
     "name": "stdout",
     "output_type": "stream",
     "text": [
      "Skipping cropping for fallopian_tubes_AJER376_035.ndpi (1/11)... Already exists\n",
      "Skipping cropping for fallopian_tubes_AJER376_211.ndpi (2/11)... Already exists\n",
      "Skipping cropping for fallopian_tubes_AJER376_235.ndpi (3/11)... Already exists\n",
      "Cropping fallopian_tubes_AJER376_245.ndpi (4/11)\n",
      "\\\\10.99.68.178\\andreex\\students\\Vasco Fallopian tube\\stardist\\1x\\matfiles\\fallopian_tubes_AJER376_245.mat\n"
     ]
    },
    {
     "name": "stderr",
     "output_type": "stream",
     "text": [
      "C:\\Users\\Vasco\\AppData\\Local\\Temp\\ipykernel_9832\\2726928402.py:43: DeprecationWarning: Conversion of an array with ndim > 0 to a scalar is deprecated, and will error in future. Ensure you extract a single element from your array before performing this operation. (Deprecated NumPy 1.25.)\n",
      "  crop_x = int(data['crop_x'][()]*ratio)\n",
      "C:\\Users\\Vasco\\AppData\\Local\\Temp\\ipykernel_9832\\2726928402.py:44: DeprecationWarning: Conversion of an array with ndim > 0 to a scalar is deprecated, and will error in future. Ensure you extract a single element from your array before performing this operation. (Deprecated NumPy 1.25.)\n",
      "  crop_y = int(data['crop_y'][()]*ratio)\n"
     ]
    },
    {
     "name": "stdout",
     "output_type": "stream",
     "text": [
      "Skipping cropping for fallopian_tubes_AJER376_431.ndpi (5/11)... Already exists\n",
      "Skipping cropping for fallopian_tubes_AJGB283_155.ndpi (6/11)... Already exists\n",
      "Skipping cropping for fallopian_tubes_AJGB283_487.ndpi (7/11)... Already exists\n",
      "Skipping cropping for fallopian_tubes_AJLC170_0153.ndpi (8/11)... Already exists\n",
      "Skipping cropping for fallopian_tubes_AJLC170_0729.ndpi (9/11)... Already exists\n",
      "Skipping cropping for fallopian_tubes_AJLF232_0153.ndpi (10/11)... Already exists\n",
      "Skipping cropping for fallopian_tubes_AJLF232_0483.ndpi (11/11)... Already exists\n"
     ]
    }
   ],
   "source": [
    "from scipy.io import loadmat\n",
    "import h5py\n",
    "\n",
    "file_format = '.tif'\n",
    "\n",
    "for i, file in enumerate(crop_mats):\n",
    "    mat_file_name = os.path.join(pth_mat, file)\n",
    "\n",
    "    WSI_path = os.path.join(pth, WSIs[i])\n",
    "\n",
    "    f_out_name = f'{os.path.join(os.path.join(outpth,WSIs[i][:-5]))}{file_format}'\n",
    "\n",
    "    if os.path.exists(f_out_name):\n",
    "        print(f'Skipping cropping for {WSIs[i]} ({i+1}/{len(crop_mats)})... Already exists')\n",
    "\n",
    "    else:\n",
    "        print(f'Cropping {WSIs[i]} ({i+1}/{len(crop_mats)})')\n",
    "\n",
    "        # print(mat_file_name)\n",
    "        # print(WSI_path)\n",
    "\n",
    "        WSI_slide = openslide.OpenSlide(WSI_path)\n",
    "\n",
    "        wsi_width, wsi_height = WSI_slide.level_dimensions[0]\n",
    "\n",
    "\n",
    "        # crop_width = int(data['crop_width']*ratio)\n",
    "        # crop_height = int(data['crop_height']*ratio)\n",
    "\n",
    "\n",
    "        crop_width = 512\n",
    "        crop_height = 512\n",
    "\n",
    "        try:\n",
    "            data = loadmat(mat_file_name)\n",
    "\n",
    "            crop_x = int(data['crop_x']*ratio)\n",
    "            crop_y = int(data['crop_y']*ratio)\n",
    "        except:\n",
    "            print(mat_file_name)\n",
    "            data = h5py.File(mat_file_name, 'r')\n",
    "\n",
    "            crop_x = int(data['crop_x'][()]*ratio)\n",
    "            crop_y = int(data['crop_y'][()]*ratio)\n",
    "\n",
    "\n",
    "        lower_x = crop_x\n",
    "        upper_y = crop_y\n",
    "        upper_x = crop_x + crop_width\n",
    "        lower_y = crop_y - crop_height\n",
    "\n",
    "        # print(crop_x)\n",
    "        # print(crop_y)\n",
    "        # print(crop_width)\n",
    "        # print(crop_height)\n",
    "\n",
    "        region = WSI_slide.read_region((crop_x, crop_y), 0, (crop_width, crop_height)) # level = 0 in middle\n",
    "        region_image = Image.new('RGB', region.size)\n",
    "        region_image.paste(region, (0, 0))\n",
    "\n",
    "        region_image.save(f_out_name)\n",
    "        WSI_slide.close()\n"
   ],
   "metadata": {
    "collapsed": false,
    "ExecuteTime": {
     "end_time": "2023-11-15T23:10:03.041697600Z",
     "start_time": "2023-11-15T23:10:01.327231600Z"
    }
   }
  },
  {
   "cell_type": "code",
   "execution_count": 38,
   "outputs": [
    {
     "data": {
      "text/plain": "19818"
     },
     "execution_count": 38,
     "metadata": {},
     "output_type": "execute_result"
    }
   ],
   "source": [
    "crop_x\n"
   ],
   "metadata": {
    "collapsed": false,
    "ExecuteTime": {
     "end_time": "2023-11-13T20:58:24.890346700Z",
     "start_time": "2023-11-13T20:58:24.872346900Z"
    }
   }
  },
  {
   "cell_type": "code",
   "execution_count": 39,
   "outputs": [
    {
     "data": {
      "text/plain": "20134"
     },
     "execution_count": 39,
     "metadata": {},
     "output_type": "execute_result"
    }
   ],
   "source": [
    "crop_y"
   ],
   "metadata": {
    "collapsed": false,
    "ExecuteTime": {
     "end_time": "2023-11-13T20:58:30.680416500Z",
     "start_time": "2023-11-13T20:58:30.659416400Z"
    }
   }
  },
  {
   "cell_type": "markdown",
   "source": [],
   "metadata": {
    "collapsed": false
   }
  }
 ],
 "metadata": {
  "kernelspec": {
   "display_name": "Python 3",
   "language": "python",
   "name": "python3"
  },
  "language_info": {
   "codemirror_mode": {
    "name": "ipython",
    "version": 2
   },
   "file_extension": ".py",
   "mimetype": "text/x-python",
   "name": "python",
   "nbconvert_exporter": "python",
   "pygments_lexer": "ipython2",
   "version": "2.7.6"
  }
 },
 "nbformat": 4,
 "nbformat_minor": 0
}
