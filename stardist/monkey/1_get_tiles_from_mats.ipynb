{
 "cells": [
  {
   "cell_type": "code",
   "execution_count": 13,
   "outputs": [],
   "source": [
    "import os\n",
    "from PIL import Image\n",
    "import numpy as np\n",
    "\n",
    "openslide_path = r'C:\\Users\\Donald\\Documents\\openslide-win64-20230414\\bin'\n",
    "\n",
    "os.environ['PATH'] = openslide_path + \";\" + os.environ['PATH']\n",
    "# from openslide import OpenSlide\n",
    "\n",
    "\n",
    "if hasattr(os, 'add_dll_directory'):\n",
    "    # Python >= 3.8 on Windows\n",
    "    with os.add_dll_directory(openslide_path):\n",
    "        import openslide\n",
    "else:\n",
    "    import openslide\n",
    "from openslide import OpenSlide"
   ],
   "metadata": {
    "collapsed": false,
    "ExecuteTime": {
     "end_time": "2023-11-13T20:50:03.371737900Z",
     "start_time": "2023-11-13T20:50:03.356738300Z"
    }
   }
  },
  {
   "cell_type": "markdown",
   "source": [
    "You need to do get crop data before running this code. I use a matlab function I made with the 2.5x or 10x tiff images.\n",
    "\n",
    "Function is here: \\\\10.99.68.178\\andreex\\students\\Donald Monkey fetus\\codes\\monkey\\crop1024_monkey.m"
   ],
   "metadata": {
    "collapsed": false
   }
  },
  {
   "cell_type": "code",
   "execution_count": 14,
   "outputs": [],
   "source": [
    "pth = r'C:\\Users\\Donald\\Desktop\\temp'\n",
    "pth_mat = r'C:\\Users\\Donald\\Desktop\\temp\\1x\\cropped\\matfiles'"
   ],
   "metadata": {
    "collapsed": false,
    "ExecuteTime": {
     "end_time": "2023-11-13T20:50:03.400737800Z",
     "start_time": "2023-11-13T20:50:03.371737900Z"
    }
   }
  },
  {
   "cell_type": "code",
   "execution_count": 15,
   "outputs": [],
   "source": [
    "# Get a list of MAT files and their base names (without extensions)\n",
    "mat_files = [os.path.splitext(file)[0] for file in os.listdir(pth_mat) if file.endswith('.mat')]\n",
    "\n",
    "# Get a list of NDPI images and their base names (without extensions)\n",
    "ndpi_files = [os.path.splitext(file)[0] for file in os.listdir(pth) if file.endswith('.ndpi')]\n",
    "\n",
    "# Find the matching files based on their base names\n",
    "matching_files = set(mat_files).intersection(ndpi_files)\n",
    "\n",
    "WSIs = sorted([filename + '.ndpi' for filename in matching_files])\n",
    "\n",
    "crop_mats = sorted([filename + '.mat' for filename in mat_files])"
   ],
   "metadata": {
    "collapsed": false,
    "ExecuteTime": {
     "end_time": "2023-11-13T20:50:03.401737800Z",
     "start_time": "2023-11-13T20:50:03.385737900Z"
    }
   }
  },
  {
   "cell_type": "code",
   "execution_count": 16,
   "outputs": [
    {
     "data": {
      "text/plain": "['fallopian_tubes_AJER376_211.mat']"
     },
     "execution_count": 16,
     "metadata": {},
     "output_type": "execute_result"
    }
   ],
   "source": [
    "crop_mats"
   ],
   "metadata": {
    "collapsed": false,
    "ExecuteTime": {
     "end_time": "2023-11-13T20:50:03.417737800Z",
     "start_time": "2023-11-13T20:50:03.402737800Z"
    }
   }
  },
  {
   "cell_type": "code",
   "execution_count": 17,
   "outputs": [
    {
     "data": {
      "text/plain": "['fallopian_tubes_AJER376_211.ndpi']"
     },
     "execution_count": 17,
     "metadata": {},
     "output_type": "execute_result"
    }
   ],
   "source": [
    "WSIs"
   ],
   "metadata": {
    "collapsed": false,
    "ExecuteTime": {
     "end_time": "2023-11-13T20:50:03.463738Z",
     "start_time": "2023-11-13T20:50:03.418737900Z"
    }
   }
  },
  {
   "cell_type": "code",
   "execution_count": 28,
   "outputs": [],
   "source": [
    "res20x=0.4416\n",
    "res2_5x=8\n",
    "\n",
    "ratio = res2_5x/res20x\n",
    "\n",
    "\n",
    "outpth = os.path.join(pth,'tiles512')\n",
    "if not os.path.exists(outpth):\n",
    "    os.mkdir(outpth)"
   ],
   "metadata": {
    "collapsed": false,
    "ExecuteTime": {
     "end_time": "2023-11-13T20:54:00.480255300Z",
     "start_time": "2023-11-13T20:54:00.468254800Z"
    }
   }
  },
  {
   "cell_type": "code",
   "execution_count": 29,
   "outputs": [
    {
     "name": "stdout",
     "output_type": "stream",
     "text": [
      "18.115942028985508\n"
     ]
    }
   ],
   "source": [
    "print(ratio)"
   ],
   "metadata": {
    "collapsed": false,
    "ExecuteTime": {
     "end_time": "2023-11-13T20:54:00.888254400Z",
     "start_time": "2023-11-13T20:54:00.885254200Z"
    }
   }
  },
  {
   "cell_type": "code",
   "execution_count": 26,
   "outputs": [
    {
     "data": {
      "text/plain": "'C:\\\\Users\\\\Donald\\\\Desktop\\\\temp\\\\tiles512'"
     },
     "execution_count": 26,
     "metadata": {},
     "output_type": "execute_result"
    }
   ],
   "source": [
    "outpth = r'C:\\Users\\Donald\\Desktop\\temp\\tiles512'\n",
    "outpth"
   ],
   "metadata": {
    "collapsed": false,
    "ExecuteTime": {
     "end_time": "2023-11-13T20:53:26.622218Z",
     "start_time": "2023-11-13T20:53:26.617217800Z"
    }
   }
  },
  {
   "cell_type": "code",
   "execution_count": 21,
   "outputs": [
    {
     "data": {
      "text/plain": "['fallopian_tubes_AJER376_211.mat']"
     },
     "execution_count": 21,
     "metadata": {},
     "output_type": "execute_result"
    }
   ],
   "source": [
    "crop_mats"
   ],
   "metadata": {
    "collapsed": false,
    "ExecuteTime": {
     "end_time": "2023-11-13T20:50:03.525737700Z",
     "start_time": "2023-11-13T20:50:03.482737700Z"
    }
   }
  },
  {
   "cell_type": "code",
   "execution_count": 22,
   "outputs": [
    {
     "data": {
      "text/plain": "['fallopian_tubes_AJER376_211.ndpi']"
     },
     "execution_count": 22,
     "metadata": {},
     "output_type": "execute_result"
    }
   ],
   "source": [
    "WSIs"
   ],
   "metadata": {
    "collapsed": false,
    "ExecuteTime": {
     "end_time": "2023-11-13T20:50:03.533737800Z",
     "start_time": "2023-11-13T20:50:03.496737700Z"
    }
   }
  },
  {
   "cell_type": "code",
   "execution_count": 37,
   "outputs": [
    {
     "name": "stdout",
     "output_type": "stream",
     "text": [
      "Cropping fallopian_tubes_AJER376_211.ndpi (1/1)\n"
     ]
    }
   ],
   "source": [
    "from scipy.io import loadmat\n",
    "\n",
    "file_format = '.tif'\n",
    "\n",
    "for i, file in enumerate(crop_mats):\n",
    "    mat_file_name = os.path.join(pth_mat, file)\n",
    "\n",
    "    WSI_path = os.path.join(pth, WSIs[i])\n",
    "\n",
    "    f_out_name = f'{os.path.join(os.path.join(outpth,WSIs[i][:-5]))}{file_format}'\n",
    "\n",
    "    if os.path.exists(f_out_name):\n",
    "        print(f'Skipping cropping for {WSIs[i]} ({i+1}/{len(crop_mats)})... Already exists')\n",
    "\n",
    "    else:\n",
    "        print(f'Cropping {WSIs[i]} ({i+1}/{len(crop_mats)})')\n",
    "\n",
    "        # print(mat_file_name)\n",
    "        # print(WSI_path)\n",
    "\n",
    "        WSI_slide = openslide.OpenSlide(WSI_path)\n",
    "\n",
    "        wsi_width, wsi_height = WSI_slide.level_dimensions[0]\n",
    "\n",
    "        data = loadmat(mat_file_name)\n",
    "\n",
    "        # crop_width = int(data['crop_width']*ratio)\n",
    "        # crop_height = int(data['crop_height']*ratio)\n",
    "\n",
    "\n",
    "        crop_width = 512\n",
    "        crop_height = 512\n",
    "        crop_x = int(data['crop_x']*ratio)-50\n",
    "        crop_y = int(data['crop_y']*ratio)+120\n",
    "\n",
    "        lower_x = crop_x\n",
    "        upper_y = crop_y\n",
    "        upper_x = crop_x + crop_width\n",
    "        lower_y = crop_y - crop_height\n",
    "\n",
    "        # print(crop_x)\n",
    "        # print(crop_y)\n",
    "        # print(crop_width)\n",
    "        # print(crop_height)\n",
    "\n",
    "        region = WSI_slide.read_region((crop_x, crop_y), 0, (crop_width, crop_height)) # level = 0 in middle\n",
    "        region_image = Image.new('RGB', region.size)\n",
    "        region_image.paste(region, (0, 0))\n",
    "\n",
    "        region_image.save(f_out_name)\n",
    "        WSI_slide.close()\n"
   ],
   "metadata": {
    "collapsed": false,
    "ExecuteTime": {
     "end_time": "2023-11-13T20:55:31.012355600Z",
     "start_time": "2023-11-13T20:55:30.990423500Z"
    }
   }
  },
  {
   "cell_type": "code",
   "execution_count": 38,
   "outputs": [
    {
     "data": {
      "text/plain": "19818"
     },
     "execution_count": 38,
     "metadata": {},
     "output_type": "execute_result"
    }
   ],
   "source": [
    "crop_x\n"
   ],
   "metadata": {
    "collapsed": false,
    "ExecuteTime": {
     "end_time": "2023-11-13T20:58:24.890346700Z",
     "start_time": "2023-11-13T20:58:24.872346900Z"
    }
   }
  },
  {
   "cell_type": "code",
   "execution_count": 39,
   "outputs": [
    {
     "data": {
      "text/plain": "20134"
     },
     "execution_count": 39,
     "metadata": {},
     "output_type": "execute_result"
    }
   ],
   "source": [
    "crop_y"
   ],
   "metadata": {
    "collapsed": false,
    "ExecuteTime": {
     "end_time": "2023-11-13T20:58:30.680416500Z",
     "start_time": "2023-11-13T20:58:30.659416400Z"
    }
   }
  },
  {
   "cell_type": "markdown",
   "source": [],
   "metadata": {
    "collapsed": false
   }
  }
 ],
 "metadata": {
  "kernelspec": {
   "display_name": "Python 3",
   "language": "python",
   "name": "python3"
  },
  "language_info": {
   "codemirror_mode": {
    "name": "ipython",
    "version": 2
   },
   "file_extension": ".py",
   "mimetype": "text/x-python",
   "name": "python",
   "nbconvert_exporter": "python",
   "pygments_lexer": "ipython2",
   "version": "2.7.6"
  }
 },
 "nbformat": 4,
 "nbformat_minor": 0
}
