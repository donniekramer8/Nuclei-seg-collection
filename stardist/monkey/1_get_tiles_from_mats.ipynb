{
 "cells": [
  {
   "cell_type": "code",
   "execution_count": 1,
   "outputs": [],
   "source": [
    "import os\n",
    "from PIL import Image\n",
    "import numpy as np\n",
    "\n",
    "openslide_path = r'C:\\Users\\Vasco\\Documents\\openslide-win64-20231011\\bin'\n",
    "\n",
    "os.environ['PATH'] = openslide_path + \";\" + os.environ['PATH']\n",
    "# from openslide import OpenSlide\n",
    "\n",
    "\n",
    "if hasattr(os, 'add_dll_directory'):\n",
    "    # Python >= 3.8 on Windows\n",
    "    with os.add_dll_directory(openslide_path):\n",
    "        import openslide\n",
    "else:\n",
    "    import openslide\n",
    "from openslide import OpenSlide"
   ],
   "metadata": {
    "collapsed": false,
    "ExecuteTime": {
     "end_time": "2023-11-15T20:56:39.536523400Z",
     "start_time": "2023-11-15T20:56:39.465455Z"
    }
   }
  },
  {
   "cell_type": "markdown",
   "source": [
    "You need to do get crop data before running this code. I use a matlab function I made with the 2.5x or 10x tiff images.\n",
    "\n",
    "Function is here: \\\\10.99.68.178\\andreex\\students\\Donald Monkey fetus\\codes\\monkey\\crop1024_monkey.m"
   ],
   "metadata": {
    "collapsed": false
   }
  },
  {
   "cell_type": "code",
   "execution_count": 8,
   "outputs": [],
   "source": [
    "pth = r'\\\\10.99.68.178\\andreex\\students\\Vasco Fallopian tube\\stardist'  # path of ndpi files\n",
    "\n",
    "pth_mat = r'\\\\10.99.68.178\\andreex\\students\\Vasco Fallopian tube\\stardist\\1x\\matfiles'  # path .mat files with crop data (got from matlab file)\n",
    "\n",
    "mat_files = [_ for _ in os.listdir(pth_mat) if _.endswith('mat')]\n",
    "WSIs = [_ for _ in os.listdir(pth) if _.endswith('ndpi')]"
   ],
   "metadata": {
    "collapsed": false,
    "ExecuteTime": {
     "end_time": "2023-11-15T20:57:03.323083300Z",
     "start_time": "2023-11-15T20:57:03.304671400Z"
    }
   }
  },
  {
   "cell_type": "code",
   "execution_count": 9,
   "outputs": [
    {
     "data": {
      "text/plain": "['crop_fallopian_tubes_AJER376_035.mat',\n 'crop_fallopian_tubes_AJER376_211.mat',\n 'crop_fallopian_tubes_AJER376_431.mat',\n 'crop_fallopian_tubes_AJGB283_155.mat',\n 'crop_fallopian_tubes_AJGB283_487.mat',\n 'crop_fallopian_tubes_AJLC170_0153.mat',\n 'crop_fallopian_tubes_AJLC170_0729.mat',\n 'crop_fallopian_tubes_AJLF232_0153.mat',\n 'crop_fallopian_tubes_AJLF232_0483.mat']"
     },
     "execution_count": 9,
     "metadata": {},
     "output_type": "execute_result"
    }
   ],
   "source": [
    "crop_mats"
   ],
   "metadata": {
    "collapsed": false,
    "ExecuteTime": {
     "end_time": "2023-11-15T20:57:03.590338600Z",
     "start_time": "2023-11-15T20:57:03.578340Z"
    }
   }
  },
  {
   "cell_type": "code",
   "execution_count": 10,
   "outputs": [
    {
     "data": {
      "text/plain": "['fallopian_tubes_AJER376_035.ndpi',\n 'fallopian_tubes_AJER376_211.ndpi',\n 'fallopian_tubes_AJER376_431.ndpi',\n 'fallopian_tubes_AJGB283_155.ndpi',\n 'fallopian_tubes_AJGB283_487.ndpi',\n 'fallopian_tubes_AJLC170_0153.ndpi',\n 'fallopian_tubes_AJLC170_0729.ndpi',\n 'fallopian_tubes_AJLF232_0153.ndpi',\n 'fallopian_tubes_AJLF232_0483.ndpi']"
     },
     "execution_count": 10,
     "metadata": {},
     "output_type": "execute_result"
    }
   ],
   "source": [
    "WSIs"
   ],
   "metadata": {
    "collapsed": false,
    "ExecuteTime": {
     "end_time": "2023-11-15T20:57:03.824735100Z",
     "start_time": "2023-11-15T20:57:03.815735700Z"
    }
   }
  },
  {
   "cell_type": "code",
   "execution_count": 11,
   "outputs": [],
   "source": [
    "res20x=0.4416\n",
    "res1x=8\n",
    "\n",
    "ratio = res1x/res20x\n",
    "\n",
    "outpth = os.path.join(pth,'tiles512')\n",
    "if not os.path.exists(outpth):\n",
    "    os.mkdir(outpth)"
   ],
   "metadata": {
    "collapsed": false,
    "ExecuteTime": {
     "end_time": "2023-11-15T20:57:04.797004400Z",
     "start_time": "2023-11-15T20:57:04.781005400Z"
    }
   }
  },
  {
   "cell_type": "code",
   "execution_count": 12,
   "outputs": [
    {
     "data": {
      "text/plain": "'\\\\\\\\10.99.68.178\\\\andreex\\\\students\\\\Vasco Fallopian tube\\\\stardist\\\\tiles512'"
     },
     "execution_count": 12,
     "metadata": {},
     "output_type": "execute_result"
    }
   ],
   "source": [
    "outpth"
   ],
   "metadata": {
    "collapsed": false,
    "ExecuteTime": {
     "end_time": "2023-11-15T20:57:05.142507900Z",
     "start_time": "2023-11-15T20:57:05.130509500Z"
    }
   }
  },
  {
   "cell_type": "code",
   "execution_count": 17,
   "outputs": [
    {
     "name": "stdout",
     "output_type": "stream",
     "text": [
      "Skipping cropping for fallopian_tubes_AJER376_035.ndpi (1/9)... Already exists\n",
      "Skipping cropping for fallopian_tubes_AJER376_211.ndpi (2/9)... Already exists\n",
      "Skipping cropping for fallopian_tubes_AJER376_431.ndpi (3/9)... Already exists\n",
      "Skipping cropping for fallopian_tubes_AJGB283_155.ndpi (4/9)... Already exists\n",
      "Skipping cropping for fallopian_tubes_AJGB283_487.ndpi (5/9)... Already exists\n",
      "Skipping cropping for fallopian_tubes_AJLC170_0153.ndpi (6/9)... Already exists\n",
      "Skipping cropping for fallopian_tubes_AJLC170_0729.ndpi (7/9)... Already exists\n",
      "Skipping cropping for fallopian_tubes_AJLF232_0153.ndpi (8/9)... Already exists\n",
      "Cropping fallopian_tubes_AJLF232_0483.ndpi (9/9)\n",
      "33668\n",
      "29655\n"
     ]
    }
   ],
   "source": [
    "from scipy.io import loadmat\n",
    "import h5py\n",
    "\n",
    "file_format = '.tif'\n",
    "\n",
    "for i, file in enumerate(mat_files):\n",
    "    mat_file_name = os.path.join(pth_mat, file)\n",
    "    # print(mat_file_name)\n",
    "    WSI_path = os.path.join(pth, WSIs[i])\n",
    "\n",
    "    f_out_name = f'{os.path.join(os.path.join(outpth,WSIs[i][:-5]))}{file_format}'\n",
    "\n",
    "    if os.path.exists(f_out_name):\n",
    "        print(f'Skipping cropping for {WSIs[i]} ({i+1}/{len(mat_files)})... Already exists')\n",
    "\n",
    "    else:\n",
    "        print(f'Cropping {WSIs[i]} ({i+1}/{len(mat_files)})')\n",
    "\n",
    "        # print(mat_file_name)\n",
    "        # print(WSI_path)\n",
    "\n",
    "        WSI_slide = openslide.OpenSlide(WSI_path)\n",
    "\n",
    "        wsi_width, wsi_height = WSI_slide.level_dimensions[0]\n",
    "        crop_width = 512\n",
    "        crop_height = 512\n",
    "        #data = loadmat(mat_file_name)\n",
    "        try:\n",
    "            data = loadmat(mat_file_name)\n",
    "\n",
    "            crop_x = int(data['crop_x']*ratio)\n",
    "            crop_y = int(data['crop_y']*ratio)\n",
    "        except:\n",
    "            print(mat_file_name)\n",
    "            data = h5py.File(mat_file_name, 'r')\n",
    "\n",
    "            crop_x = int(data['crop_x'][()]*ratio)\n",
    "            crop_y = int(data['crop_y'][()]*ratio)\n",
    "        # crop_width = int(data['crop_width']*ratio)\n",
    "        # crop_height = int(data['crop_height']*ratio)\n",
    "\n",
    "        # print(data['crop_x'])\n",
    "\n",
    "\n",
    "        lower_x = crop_x\n",
    "        upper_y = crop_y\n",
    "        # upper_x = crop_x + crop_width\n",
    "        # lower_y = crop_y - crop_height\n",
    "\n",
    "        print(crop_x)\n",
    "        print(crop_y)\n",
    "        # print(crop_width)\n",
    "        # print(crop_height)\n",
    "\n",
    "        region = WSI_slide.read_region((crop_x, crop_y), 0, (crop_width,crop_height)) # level = 0 in middle\n",
    "        # region = WSI_slide.read_region((crop_y, crop_x), 0, (crop_width, crop_height)) # level = 0 in middle\n",
    "\n",
    "        region_image = Image.new('RGB', region.size)\n",
    "        region_image.paste(region, (0, 0))\n",
    "\n",
    "        region_image.save(f_out_name)\n",
    "        WSI_slide.close()\n",
    "\n"
   ],
   "metadata": {
    "collapsed": false,
    "ExecuteTime": {
     "end_time": "2023-11-15T20:59:14.474861600Z",
     "start_time": "2023-11-15T20:59:13.034379100Z"
    }
   }
  },
  {
   "cell_type": "code",
   "execution_count": 14,
   "outputs": [
    {
     "data": {
      "text/plain": "'\\\\\\\\10.99.68.178\\\\andreex\\\\students\\\\Vasco Fallopian tube\\\\stardist\\\\tiles512\\\\fallopian_tubes_AJLF232_0483.tif'"
     },
     "execution_count": 14,
     "metadata": {},
     "output_type": "execute_result"
    }
   ],
   "source": [
    "f_out_name"
   ],
   "metadata": {
    "collapsed": false,
    "ExecuteTime": {
     "end_time": "2023-11-15T20:57:46.155445400Z",
     "start_time": "2023-11-15T20:57:46.137445200Z"
    }
   }
  },
  {
   "cell_type": "markdown",
   "source": [],
   "metadata": {
    "collapsed": false
   }
  }
 ],
 "metadata": {
  "kernelspec": {
   "display_name": "Python 3",
   "language": "python",
   "name": "python3"
  },
  "language_info": {
   "codemirror_mode": {
    "name": "ipython",
    "version": 2
   },
   "file_extension": ".py",
   "mimetype": "text/x-python",
   "name": "python",
   "nbconvert_exporter": "python",
   "pygments_lexer": "ipython2",
   "version": "2.7.6"
  }
 },
 "nbformat": 4,
 "nbformat_minor": 0
}
