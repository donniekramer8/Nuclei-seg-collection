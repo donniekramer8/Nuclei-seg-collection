{
 "cells": [
  {
   "cell_type": "code",
   "execution_count": 19,
   "outputs": [],
   "source": [
    "import os\n",
    "from PIL import Image\n",
    "import numpy as np\n",
    "\n",
    "openslide_path = r'C:\\Users\\Donald\\Documents\\openslide-win64-20230414\\bin'\n",
    "\n",
    "os.environ['PATH'] = openslide_path + \";\" + os.environ['PATH']\n",
    "# from openslide import OpenSlide\n",
    "\n",
    "\n",
    "if hasattr(os, 'add_dll_directory'):\n",
    "    # Python >= 3.8 on Windows\n",
    "    with os.add_dll_directory(openslide_path):\n",
    "        import openslide\n",
    "else:\n",
    "    import openslide\n",
    "from openslide import OpenSlide"
   ],
   "metadata": {
    "collapsed": false,
    "ExecuteTime": {
     "end_time": "2023-11-03T21:17:58.185517700Z",
     "start_time": "2023-11-03T21:17:58.171563500Z"
    }
   }
  },
  {
   "cell_type": "markdown",
   "source": [
    "You need to do get crop data before running this code. I use a matlab function I made with the 2.5x or 10x tiff images.\n",
    "\n",
    "Function is here: \\\\10.99.68.178\\andreex\\students\\Donald Monkey fetus\\codes\\monkey\\crop1024_monkey.m"
   ],
   "metadata": {
    "collapsed": false
   }
  },
  {
   "cell_type": "code",
   "execution_count": 20,
   "outputs": [],
   "source": [
    "pth = r'\\\\10.99.68.178\\andreex\\data\\monkey fetus\\gestational 40\\1024tiles\\new_tiles_11_3'  # path of ndpi files\n",
    "\n",
    "pth_mat = r'\\\\10.99.68.178\\andreex\\data\\monkey fetus\\gestational 40\\1024tiles\\new_tiles_11_3\\10x\\matfiles'  # path .mat files with crop data (got from matlab file)\n",
    "\n",
    "crop_mats = [_ for _ in os.listdir(pth_mat) if _.endswith('mat')]\n",
    "WSIs = [_ for _ in os.listdir(pth) if _.endswith('ndpi')]"
   ],
   "metadata": {
    "collapsed": false,
    "ExecuteTime": {
     "end_time": "2023-11-03T21:17:58.203517600Z",
     "start_time": "2023-11-03T21:17:58.185517700Z"
    }
   }
  },
  {
   "cell_type": "code",
   "execution_count": 21,
   "outputs": [
    {
     "data": {
      "text/plain": "['crop_monkey_fetus_40_0371_Lung.mat',\n 'crop_monkey_fetus_40_0431_GI.mat',\n 'crop_monkey_fetus_40_0451_kidney.mat',\n 'crop_monkey_fetus_40_0507_Thyroid.mat',\n 'crop_monkey_fetus_40_0519_Ganglion.mat',\n 'crop_monkey_fetus_40_0532_heart.mat',\n 'crop_monkey_fetus_40_0612_brain.mat',\n 'crop_monkey_fetus_40_0640_bone.mat',\n 'crop_monkey_fetus_40_0642_bone2.mat']"
     },
     "execution_count": 21,
     "metadata": {},
     "output_type": "execute_result"
    }
   ],
   "source": [
    "crop_mats"
   ],
   "metadata": {
    "collapsed": false,
    "ExecuteTime": {
     "end_time": "2023-11-03T21:17:58.214454900Z",
     "start_time": "2023-11-03T21:17:58.198517700Z"
    }
   }
  },
  {
   "cell_type": "code",
   "execution_count": 22,
   "outputs": [
    {
     "data": {
      "text/plain": "['monkey_fetus_40_0371_Lung.ndpi',\n 'monkey_fetus_40_0431_GI.ndpi',\n 'monkey_fetus_40_0451_kidney.ndpi',\n 'monkey_fetus_40_0507_Thyroid.ndpi',\n 'monkey_fetus_40_0519_Ganglion.ndpi',\n 'monkey_fetus_40_0532_heart.ndpi',\n 'monkey_fetus_40_0612_brain.ndpi',\n 'monkey_fetus_40_0640_bone.ndpi',\n 'monkey_fetus_40_0642_bone2.ndpi']"
     },
     "execution_count": 22,
     "metadata": {},
     "output_type": "execute_result"
    }
   ],
   "source": [
    "WSIs"
   ],
   "metadata": {
    "collapsed": false,
    "ExecuteTime": {
     "end_time": "2023-11-03T21:17:58.245329400Z",
     "start_time": "2023-11-03T21:17:58.215454800Z"
    }
   }
  },
  {
   "cell_type": "code",
   "execution_count": 23,
   "outputs": [],
   "source": [
    "res20x=0.4416\n",
    "res10x=1\n",
    "\n",
    "ratio = res10x/res20x\n",
    "\n",
    "outpth = os.path.join(pth,'tiles512')\n",
    "if not os.path.exists(outpth):\n",
    "    os.mkdir(outpth)"
   ],
   "metadata": {
    "collapsed": false,
    "ExecuteTime": {
     "end_time": "2023-11-03T21:17:58.387051300Z",
     "start_time": "2023-11-03T21:17:58.231323500Z"
    }
   }
  },
  {
   "cell_type": "code",
   "execution_count": 24,
   "outputs": [
    {
     "name": "stdout",
     "output_type": "stream",
     "text": [
      "Skipping cropping for monkey_fetus_40_0371_Lung.ndpi (1/9)... Already exists\n",
      "Skipping cropping for monkey_fetus_40_0431_GI.ndpi (2/9)... Already exists\n",
      "Skipping cropping for monkey_fetus_40_0451_kidney.ndpi (3/9)... Already exists\n",
      "Skipping cropping for monkey_fetus_40_0507_Thyroid.ndpi (4/9)... Already exists\n",
      "Skipping cropping for monkey_fetus_40_0519_Ganglion.ndpi (5/9)... Already exists\n",
      "Skipping cropping for monkey_fetus_40_0532_heart.ndpi (6/9)... Already exists\n",
      "Skipping cropping for monkey_fetus_40_0612_brain.ndpi (7/9)... Already exists\n",
      "Skipping cropping for monkey_fetus_40_0640_bone.ndpi (8/9)... Already exists\n",
      "Cropping monkey_fetus_40_0642_bone2.ndpi (9/9)\n"
     ]
    }
   ],
   "source": [
    "from scipy.io import loadmat\n",
    "\n",
    "file_format = '.tif'\n",
    "\n",
    "for i, file in enumerate(crop_mats):\n",
    "    mat_file_name = os.path.join(pth_mat, file)\n",
    "\n",
    "    WSI_path = os.path.join(pth, WSIs[i])\n",
    "\n",
    "    f_out_name = f'{os.path.join(os.path.join(outpth,WSIs[i][:-5]))}{file_format}'\n",
    "\n",
    "    if os.path.exists(f_out_name):\n",
    "        print(f'Skipping cropping for {WSIs[i]} ({i+1}/{len(crop_mats)})... Already exists')\n",
    "\n",
    "    else:\n",
    "        print(f'Cropping {WSIs[i]} ({i+1}/{len(crop_mats)})')\n",
    "\n",
    "        # print(mat_file_name)\n",
    "        # print(WSI_path)\n",
    "\n",
    "        WSI_slide = openslide.OpenSlide(WSI_path)\n",
    "\n",
    "        wsi_width, wsi_height = WSI_slide.level_dimensions[0]\n",
    "\n",
    "        data = loadmat(mat_file_name)\n",
    "\n",
    "        # crop_width = int(data['crop_width']*ratio)\n",
    "        # crop_height = int(data['crop_height']*ratio)\n",
    "\n",
    "\n",
    "        crop_width = 512\n",
    "        crop_height = 512\n",
    "        crop_x = int(data['crop_x']*ratio)\n",
    "        crop_y = int(data['crop_y']*ratio)\n",
    "\n",
    "        lower_x = crop_x\n",
    "        upper_y = crop_y\n",
    "        upper_x = crop_x + crop_width\n",
    "        lower_y = crop_y - crop_height\n",
    "\n",
    "        # print(crop_x)\n",
    "        # print(crop_y)\n",
    "        # print(crop_width)\n",
    "        # print(crop_height)\n",
    "\n",
    "        region = WSI_slide.read_region((crop_x, crop_y), 0, (crop_width, crop_height)) # level = 0 in middle\n",
    "        region_image = Image.new('RGB', region.size)\n",
    "        region_image.paste(region, (0, 0))\n",
    "\n",
    "        region_image.save(f_out_name)\n",
    "        WSI_slide.close()\n"
   ],
   "metadata": {
    "collapsed": false,
    "ExecuteTime": {
     "end_time": "2023-11-03T21:17:59.014422900Z",
     "start_time": "2023-11-03T21:17:58.391051900Z"
    }
   }
  },
  {
   "cell_type": "markdown",
   "source": [],
   "metadata": {
    "collapsed": false
   }
  }
 ],
 "metadata": {
  "kernelspec": {
   "display_name": "Python 3",
   "language": "python",
   "name": "python3"
  },
  "language_info": {
   "codemirror_mode": {
    "name": "ipython",
    "version": 2
   },
   "file_extension": ".py",
   "mimetype": "text/x-python",
   "name": "python",
   "nbconvert_exporter": "python",
   "pygments_lexer": "ipython2",
   "version": "2.7.6"
  }
 },
 "nbformat": 4,
 "nbformat_minor": 0
}
