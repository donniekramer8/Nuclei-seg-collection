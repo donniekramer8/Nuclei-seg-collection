{
 "cells": [
  {
   "cell_type": "code",
   "execution_count": 44,
   "outputs": [],
   "source": [
    "import os\n",
    "from PIL import Image\n",
    "import numpy as np\n",
    "\n",
    "openslide_path = r'C:\\Users\\Donald\\Documents\\openslide-win64-20230414\\bin'\n",
    "\n",
    "os.environ['PATH'] = openslide_path + \";\" + os.environ['PATH']\n",
    "# from openslide import OpenSlide\n",
    "\n",
    "\n",
    "if hasattr(os, 'add_dll_directory'):\n",
    "    # Python >= 3.8 on Windows\n",
    "    with os.add_dll_directory(openslide_path):\n",
    "        import openslide\n",
    "else:\n",
    "    import openslide\n",
    "from openslide import OpenSlide"
   ],
   "metadata": {
    "collapsed": false,
    "ExecuteTime": {
     "end_time": "2023-11-09T17:37:25.943494500Z",
     "start_time": "2023-11-09T17:37:25.934545800Z"
    }
   }
  },
  {
   "cell_type": "markdown",
   "source": [
    "You need to do get crop data before running this code. I use a matlab function I made with the 2.5x or 10x tiff images.\n",
    "\n",
    "Function is here: \\\\10.99.68.178\\andreex\\students\\Donald Monkey fetus\\codes\\monkey\\crop1024_monkey.m"
   ],
   "metadata": {
    "collapsed": false
   }
  },
  {
   "cell_type": "code",
   "execution_count": 45,
   "outputs": [],
   "source": [
    "pth = r'\\\\10.99.68.178\\andreex\\data\\monkey fetus\\gestational 40'\n",
    "pth_mat = r'\\\\10.99.68.178\\andreex\\data\\monkey fetus\\gestational 40\\2_5x\\cropped\\matfiles'"
   ],
   "metadata": {
    "collapsed": false,
    "ExecuteTime": {
     "end_time": "2023-11-09T17:37:26.920859100Z",
     "start_time": "2023-11-09T17:37:26.908858800Z"
    }
   }
  },
  {
   "cell_type": "code",
   "execution_count": 46,
   "outputs": [],
   "source": [
    "# Get a list of MAT files and their base names (without extensions)\n",
    "mat_files = [os.path.splitext(file)[0] for file in os.listdir(pth_mat) if file.endswith('.mat')]\n",
    "\n",
    "# Get a list of NDPI images and their base names (without extensions)\n",
    "ndpi_files = [os.path.splitext(file)[0] for file in os.listdir(pth) if file.endswith('.ndpi')]\n",
    "\n",
    "# Find the matching files based on their base names\n",
    "matching_files = set(mat_files).intersection(ndpi_files)\n",
    "\n",
    "WSIs = sorted([filename + '.ndpi' for filename in matching_files])\n",
    "\n",
    "crop_mats = sorted([filename + '.mat' for filename in mat_files])"
   ],
   "metadata": {
    "collapsed": false,
    "ExecuteTime": {
     "end_time": "2023-11-09T17:37:27.766153200Z",
     "start_time": "2023-11-09T17:37:27.585613800Z"
    }
   }
  },
  {
   "cell_type": "code",
   "execution_count": 47,
   "outputs": [
    {
     "data": {
      "text/plain": "['monkey_fetus_40_0272.mat',\n 'monkey_fetus_40_0273.mat',\n 'monkey_fetus_40_0281.mat',\n 'monkey_fetus_40_0308.mat',\n 'monkey_fetus_40_0323.mat',\n 'monkey_fetus_40_0344.mat',\n 'monkey_fetus_40_0380.mat',\n 'monkey_fetus_40_0381.mat',\n 'monkey_fetus_40_0426.mat',\n 'monkey_fetus_40_0428.mat',\n 'monkey_fetus_40_0451.mat',\n 'monkey_fetus_40_0452.mat',\n 'monkey_fetus_40_0471.mat',\n 'monkey_fetus_40_0476.mat',\n 'monkey_fetus_40_0483.mat',\n 'monkey_fetus_40_0497.mat',\n 'monkey_fetus_40_0502.mat',\n 'monkey_fetus_40_0505.mat',\n 'monkey_fetus_40_0506.mat',\n 'monkey_fetus_40_0508.mat',\n 'monkey_fetus_40_0526.mat',\n 'monkey_fetus_40_0601.mat',\n 'monkey_fetus_40_0603.mat',\n 'monkey_fetus_40_0604.mat',\n 'monkey_fetus_40_0664.mat',\n 'monkey_fetus_40_0698.mat',\n 'monkey_fetus_40_0710.mat',\n 'monkey_fetus_40_0717.mat',\n 'monkey_fetus_40_0923.mat']"
     },
     "execution_count": 47,
     "metadata": {},
     "output_type": "execute_result"
    }
   ],
   "source": [
    "crop_mats"
   ],
   "metadata": {
    "collapsed": false,
    "ExecuteTime": {
     "end_time": "2023-11-09T17:37:29.027521800Z",
     "start_time": "2023-11-09T17:37:28.998471400Z"
    }
   }
  },
  {
   "cell_type": "code",
   "execution_count": 48,
   "outputs": [
    {
     "data": {
      "text/plain": "['monkey_fetus_40_0272.ndpi',\n 'monkey_fetus_40_0273.ndpi',\n 'monkey_fetus_40_0281.ndpi',\n 'monkey_fetus_40_0308.ndpi',\n 'monkey_fetus_40_0323.ndpi',\n 'monkey_fetus_40_0344.ndpi',\n 'monkey_fetus_40_0380.ndpi',\n 'monkey_fetus_40_0381.ndpi',\n 'monkey_fetus_40_0426.ndpi',\n 'monkey_fetus_40_0428.ndpi',\n 'monkey_fetus_40_0451.ndpi',\n 'monkey_fetus_40_0452.ndpi',\n 'monkey_fetus_40_0471.ndpi',\n 'monkey_fetus_40_0476.ndpi',\n 'monkey_fetus_40_0483.ndpi',\n 'monkey_fetus_40_0497.ndpi',\n 'monkey_fetus_40_0502.ndpi',\n 'monkey_fetus_40_0505.ndpi',\n 'monkey_fetus_40_0506.ndpi',\n 'monkey_fetus_40_0508.ndpi',\n 'monkey_fetus_40_0526.ndpi',\n 'monkey_fetus_40_0601.ndpi',\n 'monkey_fetus_40_0603.ndpi',\n 'monkey_fetus_40_0604.ndpi',\n 'monkey_fetus_40_0664.ndpi',\n 'monkey_fetus_40_0698.ndpi',\n 'monkey_fetus_40_0710.ndpi',\n 'monkey_fetus_40_0717.ndpi',\n 'monkey_fetus_40_0923.ndpi']"
     },
     "execution_count": 48,
     "metadata": {},
     "output_type": "execute_result"
    }
   ],
   "source": [
    "WSIs"
   ],
   "metadata": {
    "collapsed": false,
    "ExecuteTime": {
     "end_time": "2023-11-09T17:37:31.714121700Z",
     "start_time": "2023-11-09T17:37:31.704121700Z"
    }
   }
  },
  {
   "cell_type": "code",
   "execution_count": 49,
   "outputs": [],
   "source": [
    "res20x=0.4416\n",
    "res2_5x=4\n",
    "\n",
    "ratio = res2_5x/res20x\n",
    "\n",
    "outpth = os.path.join(pth,'tiles512')\n",
    "if not os.path.exists(outpth):\n",
    "    os.mkdir(outpth)"
   ],
   "metadata": {
    "collapsed": false,
    "ExecuteTime": {
     "end_time": "2023-11-09T17:37:36.342126600Z",
     "start_time": "2023-11-09T17:37:36.312177700Z"
    }
   }
  },
  {
   "cell_type": "code",
   "execution_count": 50,
   "outputs": [
    {
     "name": "stdout",
     "output_type": "stream",
     "text": [
      "9.057971014492754\n"
     ]
    }
   ],
   "source": [
    "print(ratio)"
   ],
   "metadata": {
    "collapsed": false,
    "ExecuteTime": {
     "end_time": "2023-11-09T17:37:37.788436800Z",
     "start_time": "2023-11-09T17:37:37.779436800Z"
    }
   }
  },
  {
   "cell_type": "code",
   "execution_count": 51,
   "outputs": [
    {
     "data": {
      "text/plain": "'\\\\\\\\10.99.68.178\\\\andreex\\\\data\\\\Stardist\\\\Testing\\\\monkey\\\\tiles'"
     },
     "execution_count": 51,
     "metadata": {},
     "output_type": "execute_result"
    }
   ],
   "source": [
    "outpth = r'\\\\10.99.68.178\\andreex\\data\\Stardist\\Testing\\monkey\\tiles'\n",
    "outpth"
   ],
   "metadata": {
    "collapsed": false,
    "ExecuteTime": {
     "end_time": "2023-11-09T17:37:38.598435800Z",
     "start_time": "2023-11-09T17:37:38.587448400Z"
    }
   }
  },
  {
   "cell_type": "code",
   "execution_count": 52,
   "outputs": [
    {
     "data": {
      "text/plain": "['monkey_fetus_40_0272.mat',\n 'monkey_fetus_40_0273.mat',\n 'monkey_fetus_40_0281.mat',\n 'monkey_fetus_40_0308.mat',\n 'monkey_fetus_40_0323.mat',\n 'monkey_fetus_40_0344.mat',\n 'monkey_fetus_40_0380.mat',\n 'monkey_fetus_40_0381.mat',\n 'monkey_fetus_40_0426.mat',\n 'monkey_fetus_40_0428.mat',\n 'monkey_fetus_40_0451.mat',\n 'monkey_fetus_40_0452.mat',\n 'monkey_fetus_40_0471.mat',\n 'monkey_fetus_40_0476.mat',\n 'monkey_fetus_40_0483.mat',\n 'monkey_fetus_40_0497.mat',\n 'monkey_fetus_40_0502.mat',\n 'monkey_fetus_40_0505.mat',\n 'monkey_fetus_40_0506.mat',\n 'monkey_fetus_40_0508.mat',\n 'monkey_fetus_40_0526.mat',\n 'monkey_fetus_40_0601.mat',\n 'monkey_fetus_40_0603.mat',\n 'monkey_fetus_40_0604.mat',\n 'monkey_fetus_40_0664.mat',\n 'monkey_fetus_40_0698.mat',\n 'monkey_fetus_40_0710.mat',\n 'monkey_fetus_40_0717.mat',\n 'monkey_fetus_40_0923.mat']"
     },
     "execution_count": 52,
     "metadata": {},
     "output_type": "execute_result"
    }
   ],
   "source": [
    "crop_mats"
   ],
   "metadata": {
    "collapsed": false,
    "ExecuteTime": {
     "end_time": "2023-11-09T17:37:39.493678600Z",
     "start_time": "2023-11-09T17:37:39.462632800Z"
    }
   }
  },
  {
   "cell_type": "code",
   "execution_count": 53,
   "outputs": [
    {
     "data": {
      "text/plain": "['monkey_fetus_40_0272.ndpi',\n 'monkey_fetus_40_0273.ndpi',\n 'monkey_fetus_40_0281.ndpi',\n 'monkey_fetus_40_0308.ndpi',\n 'monkey_fetus_40_0323.ndpi',\n 'monkey_fetus_40_0344.ndpi',\n 'monkey_fetus_40_0380.ndpi',\n 'monkey_fetus_40_0381.ndpi',\n 'monkey_fetus_40_0426.ndpi',\n 'monkey_fetus_40_0428.ndpi',\n 'monkey_fetus_40_0451.ndpi',\n 'monkey_fetus_40_0452.ndpi',\n 'monkey_fetus_40_0471.ndpi',\n 'monkey_fetus_40_0476.ndpi',\n 'monkey_fetus_40_0483.ndpi',\n 'monkey_fetus_40_0497.ndpi',\n 'monkey_fetus_40_0502.ndpi',\n 'monkey_fetus_40_0505.ndpi',\n 'monkey_fetus_40_0506.ndpi',\n 'monkey_fetus_40_0508.ndpi',\n 'monkey_fetus_40_0526.ndpi',\n 'monkey_fetus_40_0601.ndpi',\n 'monkey_fetus_40_0603.ndpi',\n 'monkey_fetus_40_0604.ndpi',\n 'monkey_fetus_40_0664.ndpi',\n 'monkey_fetus_40_0698.ndpi',\n 'monkey_fetus_40_0710.ndpi',\n 'monkey_fetus_40_0717.ndpi',\n 'monkey_fetus_40_0923.ndpi']"
     },
     "execution_count": 53,
     "metadata": {},
     "output_type": "execute_result"
    }
   ],
   "source": [
    "WSIs"
   ],
   "metadata": {
    "collapsed": false,
    "ExecuteTime": {
     "end_time": "2023-11-09T17:37:40.796278500Z",
     "start_time": "2023-11-09T17:37:40.791278500Z"
    }
   }
  },
  {
   "cell_type": "code",
   "execution_count": 54,
   "outputs": [
    {
     "name": "stdout",
     "output_type": "stream",
     "text": [
      "Cropping monkey_fetus_40_0272.ndpi (1/29)\n",
      "Cropping monkey_fetus_40_0273.ndpi (2/29)\n",
      "Cropping monkey_fetus_40_0281.ndpi (3/29)\n",
      "Cropping monkey_fetus_40_0308.ndpi (4/29)\n",
      "Cropping monkey_fetus_40_0323.ndpi (5/29)\n",
      "Cropping monkey_fetus_40_0344.ndpi (6/29)\n",
      "Cropping monkey_fetus_40_0380.ndpi (7/29)\n",
      "Cropping monkey_fetus_40_0381.ndpi (8/29)\n",
      "Cropping monkey_fetus_40_0426.ndpi (9/29)\n",
      "Cropping monkey_fetus_40_0428.ndpi (10/29)\n",
      "Cropping monkey_fetus_40_0451.ndpi (11/29)\n",
      "Cropping monkey_fetus_40_0452.ndpi (12/29)\n",
      "Cropping monkey_fetus_40_0471.ndpi (13/29)\n",
      "Cropping monkey_fetus_40_0476.ndpi (14/29)\n",
      "Cropping monkey_fetus_40_0483.ndpi (15/29)\n",
      "Cropping monkey_fetus_40_0497.ndpi (16/29)\n",
      "Cropping monkey_fetus_40_0502.ndpi (17/29)\n",
      "Cropping monkey_fetus_40_0505.ndpi (18/29)\n",
      "Cropping monkey_fetus_40_0506.ndpi (19/29)\n",
      "Cropping monkey_fetus_40_0508.ndpi (20/29)\n",
      "Cropping monkey_fetus_40_0526.ndpi (21/29)\n",
      "Cropping monkey_fetus_40_0601.ndpi (22/29)\n",
      "Cropping monkey_fetus_40_0603.ndpi (23/29)\n",
      "Cropping monkey_fetus_40_0604.ndpi (24/29)\n",
      "Cropping monkey_fetus_40_0664.ndpi (25/29)\n",
      "Cropping monkey_fetus_40_0698.ndpi (26/29)\n",
      "Cropping monkey_fetus_40_0710.ndpi (27/29)\n",
      "Cropping monkey_fetus_40_0717.ndpi (28/29)\n",
      "Cropping monkey_fetus_40_0923.ndpi (29/29)\n"
     ]
    }
   ],
   "source": [
    "from scipy.io import loadmat\n",
    "\n",
    "file_format = '.tif'\n",
    "\n",
    "for i, file in enumerate(crop_mats):\n",
    "    mat_file_name = os.path.join(pth_mat, file)\n",
    "\n",
    "    WSI_path = os.path.join(pth, WSIs[i])\n",
    "\n",
    "    f_out_name = f'{os.path.join(os.path.join(outpth,WSIs[i][:-5]))}{file_format}'\n",
    "\n",
    "    if os.path.exists(f_out_name):\n",
    "        print(f'Skipping cropping for {WSIs[i]} ({i+1}/{len(crop_mats)})... Already exists')\n",
    "\n",
    "    else:\n",
    "        print(f'Cropping {WSIs[i]} ({i+1}/{len(crop_mats)})')\n",
    "\n",
    "        # print(mat_file_name)\n",
    "        # print(WSI_path)\n",
    "\n",
    "        WSI_slide = openslide.OpenSlide(WSI_path)\n",
    "\n",
    "        wsi_width, wsi_height = WSI_slide.level_dimensions[0]\n",
    "\n",
    "        data = loadmat(mat_file_name)\n",
    "\n",
    "        # crop_width = int(data['crop_width']*ratio)\n",
    "        # crop_height = int(data['crop_height']*ratio)\n",
    "\n",
    "\n",
    "        crop_width = 256\n",
    "        crop_height = 256\n",
    "        crop_x = int(data['crop_x']*ratio)\n",
    "        crop_y = int(data['crop_y']*ratio)\n",
    "\n",
    "        lower_x = crop_x\n",
    "        upper_y = crop_y\n",
    "        upper_x = crop_x + crop_width\n",
    "        lower_y = crop_y - crop_height\n",
    "\n",
    "        # print(crop_x)\n",
    "        # print(crop_y)\n",
    "        # print(crop_width)\n",
    "        # print(crop_height)\n",
    "\n",
    "        region = WSI_slide.read_region((crop_x, crop_y), 0, (crop_width, crop_height)) # level = 0 in middle\n",
    "        region_image = Image.new('RGB', region.size)\n",
    "        region_image.paste(region, (0, 0))\n",
    "\n",
    "        region_image.save(f_out_name)\n",
    "        WSI_slide.close()\n"
   ],
   "metadata": {
    "collapsed": false,
    "ExecuteTime": {
     "end_time": "2023-11-09T17:37:58.198301300Z",
     "start_time": "2023-11-09T17:37:41.856515300Z"
    }
   }
  },
  {
   "cell_type": "markdown",
   "source": [],
   "metadata": {
    "collapsed": false
   }
  }
 ],
 "metadata": {
  "kernelspec": {
   "display_name": "Python 3",
   "language": "python",
   "name": "python3"
  },
  "language_info": {
   "codemirror_mode": {
    "name": "ipython",
    "version": 2
   },
   "file_extension": ".py",
   "mimetype": "text/x-python",
   "name": "python",
   "nbconvert_exporter": "python",
   "pygments_lexer": "ipython2",
   "version": "2.7.6"
  }
 },
 "nbformat": 4,
 "nbformat_minor": 0
}
