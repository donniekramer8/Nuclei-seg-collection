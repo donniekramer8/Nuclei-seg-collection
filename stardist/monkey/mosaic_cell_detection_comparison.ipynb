{
 "cells": [
  {
   "cell_type": "code",
   "execution_count": 57,
   "metadata": {
    "collapsed": true,
    "ExecuteTime": {
     "end_time": "2023-11-17T19:22:46.781564400Z",
     "start_time": "2023-11-17T19:22:46.748564900Z"
    }
   },
   "outputs": [],
   "source": [
    "import os\n",
    "from PIL import Image\n",
    "import numpy as np\n",
    "\n",
    "openslide_path = r'C:\\Users\\Donald\\Documents\\openslide-win64-20230414\\bin'\n",
    "\n",
    "os.environ['PATH'] = openslide_path + \";\" + os.environ['PATH']\n",
    "# from openslide import OpenSlide\n",
    "\n",
    "\n",
    "if hasattr(os, 'add_dll_directory'):\n",
    "    # Python >= 3.8 on Windows\n",
    "    with os.add_dll_directory(openslide_path):\n",
    "        import openslide\n",
    "else:\n",
    "    import openslide\n",
    "from openslide import OpenSlide\n",
    "\n",
    "import os"
   ]
  },
  {
   "cell_type": "code",
   "execution_count": 78,
   "outputs": [],
   "source": [
    "pth_ndpi = r'\\\\10.99.68.178\\andreex\\data\\monkey fetus\\gestational 40'\n",
    "pth_mat = r'\\\\10.99.68.178\\andreex\\data\\monkey fetus\\gestational 40\\cell_detection\\coordinates_and_images_from_tiles.mat'"
   ],
   "metadata": {
    "collapsed": false,
    "ExecuteTime": {
     "end_time": "2023-11-17T19:30:50.570871700Z",
     "start_time": "2023-11-17T19:30:50.554283800Z"
    }
   }
  },
  {
   "cell_type": "code",
   "execution_count": 38,
   "outputs": [
    {
     "name": "stdout",
     "output_type": "stream",
     "text": [
      "ahhhhhhhhhhhh\n"
     ]
    }
   ],
   "source": [
    "from scipy.io import loadmat\n",
    "\n",
    "outpth = r'\\\\10.99.68.178\\andreex\\data\\monkey fetus\\gestational 40\\cell_detection\\20x_segmentation_tiles'\n",
    "\n",
    "file_format = '.tif'\n",
    "\n",
    "try:\n",
    "    data = loadmat(pth_mat)\n",
    "    print('ahhhhhhhhhhhh')\n",
    "\n",
    "    #crop_x = int(data['crop_x']*ratio)\n",
    "    #crop_y = int(data['crop_y']*ratio)\n",
    "except:\n",
    "    data = h5py.File(pth_mat, 'r')\n",
    "\n",
    "    #crop_x = int(data['crop_x'][()]*ratio)\n",
    "    #crop_y = int(data['crop_y'][()]*ratio)\n",
    "\n",
    "#data['storedTiles'][0][0]\n"
   ],
   "metadata": {
    "collapsed": false,
    "ExecuteTime": {
     "end_time": "2023-11-17T19:18:46.580750300Z",
     "start_time": "2023-11-17T19:18:46.563842600Z"
    }
   }
  },
  {
   "cell_type": "code",
   "execution_count": 34,
   "outputs": [
    {
     "name": "stdout",
     "output_type": "stream",
     "text": [
      "\\\\fatherserverdw\\andreex\\data\\monkey fetus\\gestational 40\\cell_dect_images\\10x\\monkey_fetus_40_0377.tif\n",
      "18251\n",
      "15966\n"
     ]
    }
   ],
   "source": [
    "ratio = 1/0.4416\n",
    "\n",
    "row = 2\n",
    "name = data['storedTiles'][0][0][row,0][0]\n",
    "x = int(data['storedTiles'][0][0][row,1][0,0][0,0]*ratio)\n",
    "y = int(data['storedTiles'][0][0][row,1][0,0][0,1]*ratio)\n",
    "\n",
    "print(name)\n",
    "print(x)\n",
    "print(y)"
   ],
   "metadata": {
    "collapsed": false,
    "ExecuteTime": {
     "end_time": "2023-11-17T19:12:18.721328200Z",
     "start_time": "2023-11-17T19:12:18.710328Z"
    }
   }
  },
  {
   "cell_type": "code",
   "execution_count": 65,
   "outputs": [
    {
     "data": {
      "text/plain": "['\\\\\\\\10.99.68.178\\\\andreex\\\\data\\\\monkey fetus\\\\gestational 40\\\\cell_dect_images\\\\10x\\\\monkey_fetus_40_0460.ndpi',\n '\\\\\\\\10.99.68.178\\\\andreex\\\\data\\\\monkey fetus\\\\gestational 40\\\\cell_dect_images\\\\10x\\\\monkey_fetus_40_0252.ndpi',\n '\\\\\\\\10.99.68.178\\\\andreex\\\\data\\\\monkey fetus\\\\gestational 40\\\\cell_dect_images\\\\10x\\\\monkey_fetus_40_0377.ndpi',\n '\\\\\\\\10.99.68.178\\\\andreex\\\\data\\\\monkey fetus\\\\gestational 40\\\\cell_dect_images\\\\10x\\\\monkey_fetus_40_0608.ndpi',\n '\\\\\\\\10.99.68.178\\\\andreex\\\\data\\\\monkey fetus\\\\gestational 40\\\\cell_dect_images\\\\10x\\\\monkey_fetus_40_0427.ndpi',\n '\\\\\\\\10.99.68.178\\\\andreex\\\\data\\\\monkey fetus\\\\gestational 40\\\\cell_dect_images\\\\10x\\\\monkey_fetus_40_0496.ndpi',\n '\\\\\\\\10.99.68.178\\\\andreex\\\\data\\\\monkey fetus\\\\gestational 40\\\\cell_dect_images\\\\10x\\\\monkey_fetus_40_0470.ndpi',\n '\\\\\\\\10.99.68.178\\\\andreex\\\\data\\\\monkey fetus\\\\gestational 40\\\\cell_dect_images\\\\10x\\\\monkey_fetus_40_0650.ndpi',\n '\\\\\\\\10.99.68.178\\\\andreex\\\\data\\\\monkey fetus\\\\gestational 40\\\\cell_dect_images\\\\10x\\\\monkey_fetus_40_0610.ndpi',\n '\\\\\\\\10.99.68.178\\\\andreex\\\\data\\\\monkey fetus\\\\gestational 40\\\\cell_dect_images\\\\10x\\\\monkey_fetus_40_0652.ndpi',\n '\\\\\\\\10.99.68.178\\\\andreex\\\\data\\\\monkey fetus\\\\gestational 40\\\\cell_dect_images\\\\10x\\\\monkey_fetus_40_0425.ndpi',\n '\\\\\\\\10.99.68.178\\\\andreex\\\\data\\\\monkey fetus\\\\gestational 40\\\\cell_dect_images\\\\10x\\\\monkey_fetus_40_0653.ndpi',\n '\\\\\\\\10.99.68.178\\\\andreex\\\\data\\\\monkey fetus\\\\gestational 40\\\\cell_dect_images\\\\10x\\\\monkey_fetus_40_0505.ndpi',\n '\\\\\\\\10.99.68.178\\\\andreex\\\\data\\\\monkey fetus\\\\gestational 40\\\\cell_dect_images\\\\10x\\\\monkey_fetus_40_0525.ndpi',\n '\\\\\\\\10.99.68.178\\\\andreex\\\\data\\\\monkey fetus\\\\gestational 40\\\\cell_dect_images\\\\10x\\\\monkey_fetus_40_0380.ndpi',\n '\\\\\\\\10.99.68.178\\\\andreex\\\\data\\\\monkey fetus\\\\gestational 40\\\\cell_dect_images\\\\10x\\\\monkey_fetus_40_0450.ndpi']"
     },
     "execution_count": 65,
     "metadata": {},
     "output_type": "execute_result"
    }
   ],
   "source": [
    "nms = []\n",
    "for i in data['storedTiles'][0][0][:,0]:\n",
    "    nms.append(r'\\\\10.99.68.178' + i[0][16:-4] + '.ndpi')\n",
    "\n",
    "nms"
   ],
   "metadata": {
    "collapsed": false,
    "ExecuteTime": {
     "end_time": "2023-11-17T19:25:19.270565900Z",
     "start_time": "2023-11-17T19:25:19.261566Z"
    }
   }
  },
  {
   "cell_type": "code",
   "execution_count": null,
   "outputs": [],
   "source": [],
   "metadata": {
    "collapsed": false
   }
  },
  {
   "cell_type": "code",
   "execution_count": 83,
   "outputs": [
    {
     "name": "stdout",
     "output_type": "stream",
     "text": [
      "Cropping \\\\10.99.68.178\\andreex\\data\\monkey fetus\\gestational 40\\cell_dect_images\\10x\\monkey_fetus_40_0460.ndpi (1/16)\n",
      "Cropping \\\\10.99.68.178\\andreex\\data\\monkey fetus\\gestational 40\\cell_dect_images\\10x\\monkey_fetus_40_0252.ndpi (2/16)\n",
      "Cropping \\\\10.99.68.178\\andreex\\data\\monkey fetus\\gestational 40\\cell_dect_images\\10x\\monkey_fetus_40_0377.ndpi (3/16)\n",
      "Cropping \\\\10.99.68.178\\andreex\\data\\monkey fetus\\gestational 40\\cell_dect_images\\10x\\monkey_fetus_40_0608.ndpi (4/16)\n",
      "Cropping \\\\10.99.68.178\\andreex\\data\\monkey fetus\\gestational 40\\cell_dect_images\\10x\\monkey_fetus_40_0427.ndpi (5/16)\n",
      "Cropping \\\\10.99.68.178\\andreex\\data\\monkey fetus\\gestational 40\\cell_dect_images\\10x\\monkey_fetus_40_0496.ndpi (6/16)\n",
      "Cropping \\\\10.99.68.178\\andreex\\data\\monkey fetus\\gestational 40\\cell_dect_images\\10x\\monkey_fetus_40_0470.ndpi (7/16)\n",
      "Cropping \\\\10.99.68.178\\andreex\\data\\monkey fetus\\gestational 40\\cell_dect_images\\10x\\monkey_fetus_40_0650.ndpi (8/16)\n",
      "Cropping \\\\10.99.68.178\\andreex\\data\\monkey fetus\\gestational 40\\cell_dect_images\\10x\\monkey_fetus_40_0610.ndpi (9/16)\n",
      "Cropping \\\\10.99.68.178\\andreex\\data\\monkey fetus\\gestational 40\\cell_dect_images\\10x\\monkey_fetus_40_0652.ndpi (10/16)\n",
      "Cropping \\\\10.99.68.178\\andreex\\data\\monkey fetus\\gestational 40\\cell_dect_images\\10x\\monkey_fetus_40_0425.ndpi (11/16)\n",
      "Cropping \\\\10.99.68.178\\andreex\\data\\monkey fetus\\gestational 40\\cell_dect_images\\10x\\monkey_fetus_40_0653.ndpi (12/16)\n",
      "Cropping \\\\10.99.68.178\\andreex\\data\\monkey fetus\\gestational 40\\cell_dect_images\\10x\\monkey_fetus_40_0505.ndpi (13/16)\n",
      "Cropping \\\\10.99.68.178\\andreex\\data\\monkey fetus\\gestational 40\\cell_dect_images\\10x\\monkey_fetus_40_0525.ndpi (14/16)\n",
      "Cropping \\\\10.99.68.178\\andreex\\data\\monkey fetus\\gestational 40\\cell_dect_images\\10x\\monkey_fetus_40_0380.ndpi (15/16)\n",
      "Cropping \\\\10.99.68.178\\andreex\\data\\monkey fetus\\gestational 40\\cell_dect_images\\10x\\monkey_fetus_40_0450.ndpi (16/16)\n"
     ]
    }
   ],
   "source": [
    "outpth = r'\\\\10.99.68.178\\andreex\\data\\monkey fetus\\gestational 40\\cell_detection\\20x_segmentation_tiles'\n",
    "\n",
    "for i, file in enumerate(nms):\n",
    "\n",
    "    WSI_path = file\n",
    "    nm = os.path.basename(file)\n",
    "\n",
    "    f_out_name = f'{os.path.join(outpth, nm[:-5])}{file_format}'\n",
    "\n",
    "    if os.path.exists(f_out_name):\n",
    "        print(f'Skipping cropping for {file} ({i+1}/{len(nms)})... Already exists')\n",
    "\n",
    "    else:\n",
    "        print(f'Cropping {file} ({i+1}/{len(nms)})')\n",
    "\n",
    "        ndpi = os.path.join(pth_ndpi, nm)\n",
    "\n",
    "        WSI_slide = openslide.OpenSlide(ndpi)\n",
    "\n",
    "        wsi_width, wsi_height = WSI_slide.level_dimensions[0]\n",
    "\n",
    "        crop_width = int(250*ratio)\n",
    "        crop_height = int(250*ratio)\n",
    "        crop_x = int(data['storedTiles'][0][0][i,1][0,0][0,0]*ratio)\n",
    "        crop_y = int(data['storedTiles'][0][0][i,1][0,0][0,1]*ratio)\n",
    "\n",
    "        lower_x = crop_x\n",
    "        upper_y = crop_y\n",
    "        upper_x = crop_x + crop_width\n",
    "        lower_y = crop_y - crop_height\n",
    "\n",
    "        # print(crop_x)\n",
    "        # print(crop_y)\n",
    "        # print(crop_width)\n",
    "        # print(crop_height)\n",
    "\n",
    "        region = WSI_slide.read_region((crop_x, crop_y), 0, (crop_width, crop_height)) # level = 0 in middle\n",
    "        region_image = Image.new('RGB', region.size)\n",
    "        region_image.paste(region, (0, 0))\n",
    "\n",
    "        region_image.save(f_out_name)\n",
    "        WSI_slide.close()\n"
   ],
   "metadata": {
    "collapsed": false,
    "ExecuteTime": {
     "end_time": "2023-11-17T19:34:45.256497200Z",
     "start_time": "2023-11-17T19:34:25.683605600Z"
    }
   }
  },
  {
   "cell_type": "code",
   "execution_count": null,
   "outputs": [],
   "source": [],
   "metadata": {
    "collapsed": false
   }
  }
 ],
 "metadata": {
  "kernelspec": {
   "display_name": "Python 3",
   "language": "python",
   "name": "python3"
  },
  "language_info": {
   "codemirror_mode": {
    "name": "ipython",
    "version": 2
   },
   "file_extension": ".py",
   "mimetype": "text/x-python",
   "name": "python",
   "nbconvert_exporter": "python",
   "pygments_lexer": "ipython2",
   "version": "2.7.6"
  }
 },
 "nbformat": 4,
 "nbformat_minor": 0
}
