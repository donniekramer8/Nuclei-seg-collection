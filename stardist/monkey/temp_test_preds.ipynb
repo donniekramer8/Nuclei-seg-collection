{
 "cells": [
  {
   "cell_type": "code",
   "execution_count": 3,
   "metadata": {
    "collapsed": true,
    "ExecuteTime": {
     "end_time": "2023-12-06T16:29:43.160094200Z",
     "start_time": "2023-12-06T16:29:43.146093900Z"
    }
   },
   "outputs": [],
   "source": [
    "from scoring_for_donald import *\n",
    "from glob import glob"
   ]
  },
  {
   "cell_type": "code",
   "execution_count": 10,
   "outputs": [],
   "source": [
    "pthmasks_GT= r'C:\\Users\\Donald\\Desktop\\temp_del\\ground_truth_GT\\masks'\n",
    "pthmasks_pred = r'C:\\Users\\Donald\\Desktop\\temp_del\\ground_truth_pred2\\masks'\n",
    "\n",
    "mask_tiles_pths_GT = sorted(glob(os.path.join(pthmasks_GT,'*.tif')))\n",
    "mask_tiles_pths_pred = sorted(glob(os.path.join(pthmasks_pred,'*.tif')))\n",
    "\n",
    "tiles_GT = list(map(imread,mask_tiles_pths_GT))\n",
    "tiles_pred = list(map(imread,mask_tiles_pths_pred))"
   ],
   "metadata": {
    "collapsed": false,
    "ExecuteTime": {
     "end_time": "2023-12-06T16:32:29.326826Z",
     "start_time": "2023-12-06T16:32:29.320819600Z"
    }
   }
  },
  {
   "cell_type": "code",
   "execution_count": 17,
   "outputs": [
    {
     "name": "stderr",
     "output_type": "stream",
     "text": [
      "C:\\Users\\Donald\\PycharmProjects\\monkey_nuc_segment\\stardist\\monkey\\scoring_for_donald.py:62: FutureWarning: The behavior of DataFrame concatenation with empty or all-NA entries is deprecated. In a future version, this will no longer exclude empty or all-NA columns when determining the result dtypes. To retain the old behavior, exclude the relevant entries before the concat operation.\n",
      "  df_results = pd.concat([df_results, pd.DataFrame(results)], axis=0, ignore_index=True)\n"
     ]
    }
   ],
   "source": [
    "from scoring_for_donald import TileSetScorer\n",
    "\n",
    "nms = [os.path.basename(file) for file in mask_tiles_pths_GT]\n",
    "# taus = [0.1, 0.2, 0.3, 0.4, 0.5, 0.6, 0.7, 0.8, 0.9]\n",
    "taus = [0.6]\n",
    "\n",
    "scores = TileSetScorer(nms, tiles_pred, tiles_GT, taus)"
   ],
   "metadata": {
    "collapsed": false,
    "ExecuteTime": {
     "end_time": "2023-12-06T16:37:08.656201200Z",
     "start_time": "2023-12-06T16:37:08.642200500Z"
    }
   }
  },
  {
   "cell_type": "code",
   "execution_count": 18,
   "outputs": [
    {
     "name": "stderr",
     "output_type": "stream",
     "text": [
      "C:\\Users\\Donald\\PycharmProjects\\monkey_nuc_segment\\stardist\\monkey\\scoring_for_donald.py:62: FutureWarning: The behavior of DataFrame concatenation with empty or all-NA entries is deprecated. In a future version, this will no longer exclude empty or all-NA columns when determining the result dtypes. To retain the old behavior, exclude the relevant entries before the concat operation.\n",
      "  df_results = pd.concat([df_results, pd.DataFrame(results)], axis=0, ignore_index=True)\n"
     ]
    },
    {
     "data": {
      "text/plain": "                                Image  Tau       IoU TP FP FN  Precision  \\\n0  monkey_fetus_40_0642_bone2.tif.tif  0.6  0.859351  1  3  6       0.25   \n\n     Recall  Avg Precision  F1 Score  Seg Quality  Pan Quality  \n0  0.142857            0.1  0.181818     0.965035     0.175461  ",
      "text/html": "<div>\n<style scoped>\n    .dataframe tbody tr th:only-of-type {\n        vertical-align: middle;\n    }\n\n    .dataframe tbody tr th {\n        vertical-align: top;\n    }\n\n    .dataframe thead th {\n        text-align: right;\n    }\n</style>\n<table border=\"1\" class=\"dataframe\">\n  <thead>\n    <tr style=\"text-align: right;\">\n      <th></th>\n      <th>Image</th>\n      <th>Tau</th>\n      <th>IoU</th>\n      <th>TP</th>\n      <th>FP</th>\n      <th>FN</th>\n      <th>Precision</th>\n      <th>Recall</th>\n      <th>Avg Precision</th>\n      <th>F1 Score</th>\n      <th>Seg Quality</th>\n      <th>Pan Quality</th>\n    </tr>\n  </thead>\n  <tbody>\n    <tr>\n      <th>0</th>\n      <td>monkey_fetus_40_0642_bone2.tif.tif</td>\n      <td>0.6</td>\n      <td>0.859351</td>\n      <td>1</td>\n      <td>3</td>\n      <td>6</td>\n      <td>0.25</td>\n      <td>0.142857</td>\n      <td>0.1</td>\n      <td>0.181818</td>\n      <td>0.965035</td>\n      <td>0.175461</td>\n    </tr>\n  </tbody>\n</table>\n</div>"
     },
     "execution_count": 18,
     "metadata": {},
     "output_type": "execute_result"
    }
   ],
   "source": [
    "scores.score_set()"
   ],
   "metadata": {
    "collapsed": false,
    "ExecuteTime": {
     "end_time": "2023-12-06T16:37:09.393583100Z",
     "start_time": "2023-12-06T16:37:09.363545800Z"
    }
   }
  },
  {
   "cell_type": "code",
   "execution_count": 15,
   "outputs": [
    {
     "data": {
      "text/plain": "<Figure size 640x480 with 1 Axes>",
      "image/png": "[encoded data removed]"
     },
     "metadata": {},
     "output_type": "display_data"
    }
   ],
   "source": [
    "import matplotlib.pyplot as plt\n",
    "\n",
    "# Assuming tiles_pred[0] is a NumPy array or an image data array\n",
    "plt.imshow(tiles_pred[0])\n",
    "\n",
    "plt.xlim(0,100)\n",
    "plt.ylim(100,0)\n",
    "\n",
    "plt.show()"
   ],
   "metadata": {
    "collapsed": false,
    "ExecuteTime": {
     "end_time": "2023-12-06T16:34:51.805642600Z",
     "start_time": "2023-12-06T16:34:51.731642300Z"
    }
   }
  },
  {
   "cell_type": "code",
   "execution_count": 12,
   "outputs": [
    {
     "data": {
      "text/plain": "(256, 256)"
     },
     "execution_count": 12,
     "metadata": {},
     "output_type": "execute_result"
    }
   ],
   "source": [
    "tiles_pred[0].shape"
   ],
   "metadata": {
    "collapsed": false,
    "ExecuteTime": {
     "end_time": "2023-12-06T16:33:37.428966700Z",
     "start_time": "2023-12-06T16:33:37.401966400Z"
    }
   }
  },
  {
   "cell_type": "code",
   "execution_count": null,
   "outputs": [],
   "source": [],
   "metadata": {
    "collapsed": false
   }
  }
 ],
 "metadata": {
  "kernelspec": {
   "display_name": "Python 3",
   "language": "python",
   "name": "python3"
  },
  "language_info": {
   "codemirror_mode": {
    "name": "ipython",
    "version": 2
   },
   "file_extension": ".py",
   "mimetype": "text/x-python",
   "name": "python",
   "nbconvert_exporter": "python",
   "pygments_lexer": "ipython2",
   "version": "2.7.6"
  }
 },
 "nbformat": 4,
 "nbformat_minor": 0
}
