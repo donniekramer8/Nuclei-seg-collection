{
 "cells": [
  {
   "cell_type": "markdown",
   "metadata": {
    "id": "C_I2jyQBsea7"
   },
   "source": [
    "**Nuclei segmentation in whole slide H&E images**\n",
    "\n",
    "using custom model."
   ]
  },
  {
   "cell_type": "code",
   "execution_count": 1,
   "metadata": {
    "id": "gykQyKIgf78K",
    "ExecuteTime": {
     "end_time": "2023-12-26T15:36:45.699356400Z",
     "start_time": "2023-12-26T15:36:41.713706700Z"
    }
   },
   "outputs": [],
   "source": [
    "import numpy as np\n",
    "import matplotlib.pyplot as plt\n",
    "\n",
    "from tifffile import imread, imwrite\n",
    "from csbdeep.utils import Path, normalize\n",
    "from csbdeep.utils.tf import keras_import\n",
    "keras = keras_import()\n",
    "\n",
    "from stardist import export_imagej_rois, random_label_cmap\n",
    "from stardist.models import StarDist2D\n",
    "\n",
    "np.random.seed(0)\n",
    "cmap = random_label_cmap()"
   ]
  },
  {
   "cell_type": "code",
   "execution_count": 2,
   "outputs": [],
   "source": [
    "import os\n",
    "from glob import glob\n",
    "\n",
    "# CHANGE PATH\n",
    "\n",
    "# pth = r'\\\\10.99.68.178\\andreex\\data\\monkey fetus\\gestational 40'  # path of ndpi files\n",
    "pth=r'\\\\169.254.138.20\\Andre\\data\\monkey fetus\\gestational 40'\n",
    "WSIs = sorted(glob(f'{pth}\\*.ndpi'))"
   ],
   "metadata": {
    "collapsed": false,
    "ExecuteTime": {
     "end_time": "2023-12-26T15:36:45.775468800Z",
     "start_time": "2023-12-26T15:36:45.700360Z"
    }
   }
  },
  {
   "cell_type": "code",
   "execution_count": 3,
   "outputs": [
    {
     "data": {
      "text/plain": "['\\\\\\\\169.254.138.20\\\\Andre\\\\data\\\\monkey fetus\\\\gestational 40\\\\monkey_fetus_40_0001.ndpi',\n '\\\\\\\\169.254.138.20\\\\Andre\\\\data\\\\monkey fetus\\\\gestational 40\\\\monkey_fetus_40_0002.ndpi',\n '\\\\\\\\169.254.138.20\\\\Andre\\\\data\\\\monkey fetus\\\\gestational 40\\\\monkey_fetus_40_0003.ndpi',\n '\\\\\\\\169.254.138.20\\\\Andre\\\\data\\\\monkey fetus\\\\gestational 40\\\\monkey_fetus_40_0004.ndpi',\n '\\\\\\\\169.254.138.20\\\\Andre\\\\data\\\\monkey fetus\\\\gestational 40\\\\monkey_fetus_40_0005.ndpi',\n '\\\\\\\\169.254.138.20\\\\Andre\\\\data\\\\monkey fetus\\\\gestational 40\\\\monkey_fetus_40_0006.ndpi',\n '\\\\\\\\169.254.138.20\\\\Andre\\\\data\\\\monkey fetus\\\\gestational 40\\\\monkey_fetus_40_0007.ndpi',\n '\\\\\\\\169.254.138.20\\\\Andre\\\\data\\\\monkey fetus\\\\gestational 40\\\\monkey_fetus_40_0008.ndpi',\n '\\\\\\\\169.254.138.20\\\\Andre\\\\data\\\\monkey fetus\\\\gestational 40\\\\monkey_fetus_40_0009.ndpi',\n '\\\\\\\\169.254.138.20\\\\Andre\\\\data\\\\monkey fetus\\\\gestational 40\\\\monkey_fetus_40_0010.ndpi',\n '\\\\\\\\169.254.138.20\\\\Andre\\\\data\\\\monkey fetus\\\\gestational 40\\\\monkey_fetus_40_0011.ndpi',\n '\\\\\\\\169.254.138.20\\\\Andre\\\\data\\\\monkey fetus\\\\gestational 40\\\\monkey_fetus_40_0012.ndpi',\n '\\\\\\\\169.254.138.20\\\\Andre\\\\data\\\\monkey fetus\\\\gestational 40\\\\monkey_fetus_40_0013.ndpi',\n '\\\\\\\\169.254.138.20\\\\Andre\\\\data\\\\monkey fetus\\\\gestational 40\\\\monkey_fetus_40_0014.ndpi',\n '\\\\\\\\169.254.138.20\\\\Andre\\\\data\\\\monkey fetus\\\\gestational 40\\\\monkey_fetus_40_0015.ndpi',\n '\\\\\\\\169.254.138.20\\\\Andre\\\\data\\\\monkey fetus\\\\gestational 40\\\\monkey_fetus_40_0016.ndpi',\n '\\\\\\\\169.254.138.20\\\\Andre\\\\data\\\\monkey fetus\\\\gestational 40\\\\monkey_fetus_40_0017.ndpi',\n '\\\\\\\\169.254.138.20\\\\Andre\\\\data\\\\monkey fetus\\\\gestational 40\\\\monkey_fetus_40_0018.ndpi',\n '\\\\\\\\169.254.138.20\\\\Andre\\\\data\\\\monkey fetus\\\\gestational 40\\\\monkey_fetus_40_0019.ndpi',\n '\\\\\\\\169.254.138.20\\\\Andre\\\\data\\\\monkey fetus\\\\gestational 40\\\\monkey_fetus_40_0020.ndpi']"
     },
     "execution_count": 3,
     "metadata": {},
     "output_type": "execute_result"
    }
   ],
   "source": [
    "WSIs[:20]"
   ],
   "metadata": {
    "collapsed": false,
    "ExecuteTime": {
     "end_time": "2023-12-26T15:36:45.805494900Z",
     "start_time": "2023-12-26T15:36:45.779472700Z"
    }
   }
  },
  {
   "cell_type": "markdown",
   "source": [
    "Load just 1 image and show (takes a couple min)"
   ],
   "metadata": {
    "collapsed": false
   }
  },
  {
   "cell_type": "code",
   "execution_count": 4,
   "outputs": [],
   "source": [
    "def show_image(img, crop_x, crop_y, tile_size, **kwargs):\n",
    "    \"\"\"Plot large image at different resolutions.\"\"\"\n",
    "    fig, ax = plt.subplots(1, 2, figsize=(16, 8))\n",
    "\n",
    "    # Plot the original image on the left\n",
    "    ax[0].imshow(img, **kwargs)\n",
    "\n",
    "    # Crop the image\n",
    "    cropped_img = img[crop_y:crop_y+tile_size, crop_x:crop_x+tile_size]\n",
    "\n",
    "    # Plot the cropped image on the right\n",
    "    ax[1].imshow(cropped_img, **kwargs)\n",
    "\n",
    "    ax[0].axis('off')\n",
    "    ax[1].axis('off')\n",
    "\n",
    "    plt.tight_layout()\n",
    "    plt.show()"
   ],
   "metadata": {
    "collapsed": false,
    "ExecuteTime": {
     "end_time": "2023-12-26T15:36:45.883564Z",
     "start_time": "2023-12-26T15:36:45.794484800Z"
    }
   }
  },
  {
   "cell_type": "code",
   "execution_count": 5,
   "outputs": [],
   "source": [
    "from csbdeep.utils import normalize\n",
    "import sys\n",
    "from tqdm import tqdm\n",
    "\n",
    "ind = 200  # which image in directory list you are loading\n",
    "\n",
    "# you might need to run \"pip install imagecodecs\" if you get jpeg compression error\n",
    "\n",
    "img = imread(WSIs[ind])\n",
    "n_channel = 1 if img[0].ndim == 2 else img[0].shape[-1]  #If no third\n",
    "\n",
    "img = img/255"
   ],
   "metadata": {
    "collapsed": false,
    "ExecuteTime": {
     "end_time": "2023-12-26T15:36:52.819662400Z",
     "start_time": "2023-12-26T15:36:45.810500100Z"
    }
   }
  },
  {
   "cell_type": "code",
   "execution_count": 6,
   "metadata": {
    "colab": {
     "base_uri": "https://localhost:8080/",
     "height": 585
    },
    "id": "G-GSXVJEgvNX",
    "outputId": "1ff225af-1f98-4e63-95a8-358b61729575",
    "ExecuteTime": {
     "end_time": "2023-12-26T15:36:52.828180900Z",
     "start_time": "2023-12-26T15:36:52.813140700Z"
    }
   },
   "outputs": [],
   "source": [
    "# display WSI image and also show a zoomed in region in a separate subplot\n",
    "# show_image(img, crop_x=10000, crop_y=10000, tile_size=1024)"
   ]
  },
  {
   "cell_type": "code",
   "execution_count": 7,
   "metadata": {
    "colab": {
     "base_uri": "https://localhost:8080/"
    },
    "id": "D0ecg6kehEc6",
    "outputId": "a7ca1164-b761-4755-834f-a98016f40c18",
    "ExecuteTime": {
     "end_time": "2023-12-26T15:36:54.642605900Z",
     "start_time": "2023-12-26T15:36:52.829182700Z"
    }
   },
   "outputs": [
    {
     "name": "stderr",
     "output_type": "stream",
     "text": [
      "base_model.py (149): output path for model already exists, files may be overwritten: \\\\10.99.68.178\\andreex\\data\\Stardist\\12_12_hyperparameter_models\\monkey_12_12_2023_lr_0.001_epochs_400_pt_10_gaus_ratio_0\\offshoot_model\n"
     ]
    },
    {
     "name": "stdout",
     "output_type": "stream",
     "text": [
      "Using default values: prob_thresh=0.5, nms_thresh=0.4.\n",
      "Overriding defaults: Thresholds(prob=0.6883699162882626, nms=0.3) \n"
     ]
    }
   ],
   "source": [
    "import json\n",
    "from stardist.models import Config2D, StarDist2D\n",
    "\n",
    "def load_model(model_path: str) -> StarDist2D:\n",
    "    # Load StarDist model weights, configurations, and thresholds\n",
    "    with open(model_path + '\\\\config.json', 'r') as f:\n",
    "        config = json.load(f)\n",
    "    with open(model_path + '\\\\thresholds.json', 'r') as f:\n",
    "        thresh = json.load(f)\n",
    "    model = StarDist2D(config=Config2D(**config), basedir=model_path, name='offshoot_model')\n",
    "    model.thresholds = thresh\n",
    "    print('Overriding defaults:', model.thresholds, '\\n')\n",
    "    model.load_weights(model_path + '\\\\weights_best.h5')\n",
    "    return model\n",
    "\n",
    "#\n",
    "# CHANGE RIGHT MODEL\n",
    "model = load_model(r\"\\\\10.99.68.178\\andreex\\data\\Stardist\\12_12_hyperparameter_models\\monkey_12_12_2023_lr_0.001_epochs_400_pt_10_gaus_ratio_0\")"
   ]
  },
  {
   "cell_type": "markdown",
   "source": [
    "To save prediction outputs, I save as geojson file.\n",
    "By reading this template geojson file, I get the right type info that I need to save"
   ],
   "metadata": {
    "collapsed": false
   }
  },
  {
   "cell_type": "code",
   "execution_count": 8,
   "outputs": [],
   "source": [
    "n_channel = 1 if imread(WSIs[0]).ndim == 2 else imread(WSIs[0]).shape[-1]  #If no third"
   ],
   "metadata": {
    "collapsed": false,
    "ExecuteTime": {
     "end_time": "2023-12-26T15:37:45.126823500Z",
     "start_time": "2023-12-26T15:36:54.614542600Z"
    }
   }
  },
  {
   "cell_type": "code",
   "execution_count": 9,
   "outputs": [],
   "source": [
    "import json\n",
    "\n",
    "def save_json(result, out_pth, name):\n",
    "    \"\"\"Saves a geojson file with centroids and contours for StarDist output. Useful for loading into qupath\"\"\"\n",
    "    coords = result['coord']\n",
    "    points = result['points']\n",
    "\n",
    "    json_data = []\n",
    "\n",
    "    for i in range(len(points)):\n",
    "        point = points[i]\n",
    "        contour = coords[i]\n",
    "        centroid = [int(point[0]), int(point[1])]\n",
    "        contour = [[float(coord) for coord in xy[::-1]] for xy in contour]\n",
    "\n",
    "        # Create a new dictionary for each contour\n",
    "        dict_data = {\n",
    "            \"centroid\": [centroid],\n",
    "            \"contour\": [contour]\n",
    "        }\n",
    "\n",
    "        json_data.append(dict_data)\n",
    "\n",
    "    new_fn = name[:-5] + '.json'\n",
    "\n",
    "    with open(os.path.join(out_pth, new_fn),'w') as outfile:\n",
    "        json.dump(json_data, outfile)\n",
    "    print('Finished',new_fn)"
   ],
   "metadata": {
    "collapsed": false,
    "ExecuteTime": {
     "end_time": "2023-12-26T15:37:45.142064500Z",
     "start_time": "2023-12-26T15:37:45.130016700Z"
    }
   }
  },
  {
   "cell_type": "code",
   "execution_count": 10,
   "outputs": [
    {
     "name": "stdout",
     "output_type": "stream",
     "text": [
      "\\\\169.254.138.20\\Andre\\data\\monkey fetus\\gestational 40\\stardist\\StarDist_12_25_23\\json\n"
     ]
    }
   ],
   "source": [
    "date = '12_25_23'\n",
    "outpth_seg=r\"\\\\169.254.138.20\\Andre\\data\\monkey fetus\\gestational 40\\stardist\"\n",
    "out_pth = os.path.join(outpth_seg,f'StarDist_{date}')\n",
    "\n",
    "if not os.path.exists(out_pth):\n",
    "    os.mkdir(out_pth)\n",
    "\n",
    "out_pth_json = os.path.join(out_pth,'json')\n",
    "out_pth_tif = os.path.join(out_pth,'tif')\n",
    "print(out_pth_json)\n",
    "\n",
    "if not os.path.exists(out_pth_json):\n",
    "    os.mkdir(out_pth_json)\n",
    "\n",
    "if not os.path.exists(out_pth_json):\n",
    "    os.mkdir(out_pth_json)\n",
    "\n",
    "if not os.path.exists(out_pth_tif):\n",
    "    os.mkdir(out_pth_tif)"
   ],
   "metadata": {
    "collapsed": false,
    "ExecuteTime": {
     "end_time": "2023-12-26T15:37:45.188104800Z",
     "start_time": "2023-12-26T15:37:45.145068100Z"
    }
   }
  },
  {
   "cell_type": "code",
   "execution_count": 11,
   "outputs": [
    {
     "data": {
      "text/plain": "StarDist2D(offshoot_model): YXC → YXC\n├─ Directory: \\\\10.99.68.178\\andreex\\data\\Stardist\\12_12_hyperparameter_models\\monkey_12_12_2023_lr_0.001_epochs_400_pt_10_gaus_ratio_0\\offshoot_model\n└─ Config2D(n_dim=2, axes='YXC', n_channel_in=3, n_channel_out=33, train_checkpoint='weights_best.h5', train_checkpoint_last='weights_last.h5', train_checkpoint_epoch='weights_now.h5', n_rays=32, grid=(2, 2), backbone='unet', n_classes=None, unet_n_depth=3, unet_kernel_size=[3, 3], unet_n_filter_base=32, unet_n_conv_per_depth=2, unet_pool=[2, 2], unet_activation='relu', unet_last_activation='relu', unet_batch_norm=False, unet_dropout=0.0, unet_prefix='', net_conv_after_unet=128, net_input_shape=[None, None, 3], net_mask_shape=[None, None, 1], train_shape_completion=False, train_completion_crop=32, train_patch_size=[256, 256], train_background_reg=0.0001, train_foreground_only=0.9, train_sample_cache=True, train_dist_loss='mae', train_loss_weights=[1, 0.2], train_class_weights=[1, 1], train_epochs=400, train_steps_per_epoch=100, train_learning_rate=0.0003, train_batch_size=4, train_n_val_patches=None, train_tensorboard=True, train_reduce_lr={'factor': 0.5, 'patience': 40, 'min_delta': 0}, use_gpu=True)"
     },
     "execution_count": 11,
     "metadata": {},
     "output_type": "execute_result"
    }
   ],
   "source": [
    "model"
   ],
   "metadata": {
    "collapsed": false,
    "ExecuteTime": {
     "end_time": "2023-12-26T15:37:45.304208700Z",
     "start_time": "2023-12-26T15:37:45.160080400Z"
    }
   }
  },
  {
   "cell_type": "code",
   "execution_count": null,
   "outputs": [
    {
     "name": "stdout",
     "output_type": "stream",
     "text": [
      "Skipping monkey_fetus_40_0001.ndpi\n",
      "Skipping monkey_fetus_40_0002.ndpi\n",
      "Skipping monkey_fetus_40_0003.ndpi\n",
      "Skipping monkey_fetus_40_0004.ndpi\n",
      "Skipping monkey_fetus_40_0005.ndpi\n",
      "Skipping monkey_fetus_40_0006.ndpi\n",
      "Skipping monkey_fetus_40_0007.ndpi\n",
      "Skipping monkey_fetus_40_0008.ndpi\n",
      "Skipping monkey_fetus_40_0009.ndpi\n",
      "Skipping monkey_fetus_40_0010.ndpi\n",
      "Skipping monkey_fetus_40_0011.ndpi\n",
      "Skipping monkey_fetus_40_0012.ndpi\n",
      "Skipping monkey_fetus_40_0013.ndpi\n",
      "Skipping monkey_fetus_40_0014.ndpi\n",
      "Skipping monkey_fetus_40_0015.ndpi\n",
      "Skipping monkey_fetus_40_0016.ndpi\n",
      "Skipping monkey_fetus_40_0017.ndpi\n",
      "Skipping monkey_fetus_40_0018.ndpi\n",
      "Skipping monkey_fetus_40_0019.ndpi\n",
      "Skipping monkey_fetus_40_0020.ndpi\n",
      "Skipping monkey_fetus_40_0021.ndpi\n",
      "Skipping monkey_fetus_40_0022.ndpi\n",
      "Skipping monkey_fetus_40_0023.ndpi\n",
      "Skipping monkey_fetus_40_0024.ndpi\n",
      "Skipping monkey_fetus_40_0025.ndpi\n",
      "Skipping monkey_fetus_40_0026.ndpi\n",
      "Skipping monkey_fetus_40_0027.ndpi\n",
      "Skipping monkey_fetus_40_0028.ndpi\n",
      "Skipping monkey_fetus_40_0029.ndpi\n",
      "Skipping monkey_fetus_40_0030.ndpi\n",
      "Skipping monkey_fetus_40_0031.ndpi\n",
      "Skipping monkey_fetus_40_0032.ndpi\n",
      "Skipping monkey_fetus_40_0033.ndpi\n",
      "Skipping monkey_fetus_40_0034.ndpi\n",
      "Skipping monkey_fetus_40_0035.ndpi\n",
      "Skipping monkey_fetus_40_0036.ndpi\n",
      "Skipping monkey_fetus_40_0037.ndpi\n",
      "Skipping monkey_fetus_40_0038.ndpi\n",
      "Skipping monkey_fetus_40_0039.ndpi\n",
      "Skipping monkey_fetus_40_0040.ndpi\n",
      "Skipping monkey_fetus_40_0041.ndpi\n",
      "Skipping monkey_fetus_40_0042.ndpi\n",
      "Skipping monkey_fetus_40_0043.ndpi\n",
      "Skipping monkey_fetus_40_0044.ndpi\n",
      "Skipping monkey_fetus_40_0045.ndpi\n",
      "Skipping monkey_fetus_40_0046.ndpi\n",
      "Skipping monkey_fetus_40_0047.ndpi\n",
      "Skipping monkey_fetus_40_0048.ndpi\n",
      "Skipping monkey_fetus_40_0049.ndpi\n",
      "Skipping monkey_fetus_40_0050.ndpi\n",
      "Skipping monkey_fetus_40_0051.ndpi\n",
      "Skipping monkey_fetus_40_0052.ndpi\n",
      "Skipping monkey_fetus_40_0053.ndpi\n",
      "Skipping monkey_fetus_40_0054.ndpi\n",
      "Skipping monkey_fetus_40_0055.ndpi\n",
      "Skipping monkey_fetus_40_0056.ndpi\n",
      "Starting monkey_fetus_40_0057.ndpi\n",
      "effective: block_size=(4096, 4096, 3), min_overlap=(128, 128, 0), context=(128, 128, 0)\n"
     ]
    },
    {
     "name": "stderr",
     "output_type": "stream",
     "text": [
      "100%|██████████| 390/390 [11:58<00:00,  1.84s/it]\n"
     ]
    },
    {
     "name": "stdout",
     "output_type": "stream",
     "text": [
      "Saving json...\n",
      "Finished monkey_fetus_40_0057.json\n",
      "Starting monkey_fetus_40_0058.ndpi\n",
      "effective: block_size=(4096, 4096, 3), min_overlap=(128, 128, 0), context=(128, 128, 0)\n"
     ]
    },
    {
     "name": "stderr",
     "output_type": "stream",
     "text": [
      "100%|██████████| 56/56 [01:56<00:00,  2.07s/it]\n"
     ]
    },
    {
     "name": "stdout",
     "output_type": "stream",
     "text": [
      "Saving json...\n",
      "Finished monkey_fetus_40_0058.json\n",
      "Starting monkey_fetus_40_0059.ndpi\n",
      "effective: block_size=(4096, 4096, 3), min_overlap=(128, 128, 0), context=(128, 128, 0)\n"
     ]
    },
    {
     "name": "stderr",
     "output_type": "stream",
     "text": [
      "100%|██████████| 390/390 [11:42<00:00,  1.80s/it]\n"
     ]
    },
    {
     "name": "stdout",
     "output_type": "stream",
     "text": [
      "Saving json...\n",
      "Finished monkey_fetus_40_0059.json\n",
      "Starting monkey_fetus_40_0060.ndpi\n",
      "effective: block_size=(4096, 4096, 3), min_overlap=(128, 128, 0), context=(128, 128, 0)\n"
     ]
    },
    {
     "name": "stderr",
     "output_type": "stream",
     "text": [
      "100%|██████████| 54/54 [01:56<00:00,  2.16s/it]\n"
     ]
    },
    {
     "name": "stdout",
     "output_type": "stream",
     "text": [
      "Saving json...\n",
      "Finished monkey_fetus_40_0060.json\n",
      "Starting monkey_fetus_40_0061.ndpi\n",
      "effective: block_size=(4096, 4096, 3), min_overlap=(128, 128, 0), context=(128, 128, 0)\n"
     ]
    },
    {
     "name": "stderr",
     "output_type": "stream",
     "text": [
      "100%|██████████| 390/390 [11:40<00:00,  1.80s/it]\n"
     ]
    },
    {
     "name": "stdout",
     "output_type": "stream",
     "text": [
      "Saving json...\n",
      "Finished monkey_fetus_40_0061.json\n",
      "Starting monkey_fetus_40_0062.ndpi\n",
      "effective: block_size=(4096, 4096, 3), min_overlap=(128, 128, 0), context=(128, 128, 0)\n"
     ]
    },
    {
     "name": "stderr",
     "output_type": "stream",
     "text": [
      "100%|██████████| 390/390 [12:26<00:00,  1.91s/it]\n"
     ]
    },
    {
     "name": "stdout",
     "output_type": "stream",
     "text": [
      "Saving json...\n",
      "Finished monkey_fetus_40_0062.json\n",
      "Starting monkey_fetus_40_0063.ndpi\n",
      "effective: block_size=(4096, 4096, 3), min_overlap=(128, 128, 0), context=(128, 128, 0)\n"
     ]
    },
    {
     "name": "stderr",
     "output_type": "stream",
     "text": [
      "100%|██████████| 390/390 [13:01<00:00,  2.00s/it]\n"
     ]
    },
    {
     "name": "stdout",
     "output_type": "stream",
     "text": [
      "Saving json...\n",
      "Finished monkey_fetus_40_0063.json\n",
      "Starting monkey_fetus_40_0064.ndpi\n",
      "effective: block_size=(4096, 4096, 3), min_overlap=(128, 128, 0), context=(128, 128, 0)\n"
     ]
    },
    {
     "name": "stderr",
     "output_type": "stream",
     "text": [
      "100%|██████████| 390/390 [13:46<00:00,  2.12s/it]\n"
     ]
    },
    {
     "name": "stdout",
     "output_type": "stream",
     "text": [
      "Saving json...\n",
      "Finished monkey_fetus_40_0064.json\n",
      "Starting monkey_fetus_40_0065.ndpi\n",
      "effective: block_size=(4096, 4096, 3), min_overlap=(128, 128, 0), context=(128, 128, 0)\n"
     ]
    },
    {
     "name": "stderr",
     "output_type": "stream",
     "text": [
      "100%|██████████| 390/390 [14:33<00:00,  2.24s/it]\n"
     ]
    },
    {
     "name": "stdout",
     "output_type": "stream",
     "text": [
      "Saving json...\n",
      "Finished monkey_fetus_40_0065.json\n",
      "Starting monkey_fetus_40_0066.ndpi\n",
      "effective: block_size=(4096, 4096, 3), min_overlap=(128, 128, 0), context=(128, 128, 0)\n"
     ]
    },
    {
     "name": "stderr",
     "output_type": "stream",
     "text": [
      "100%|██████████| 63/63 [02:54<00:00,  2.77s/it]\n"
     ]
    },
    {
     "name": "stdout",
     "output_type": "stream",
     "text": [
      "Saving json...\n",
      "Finished monkey_fetus_40_0066.json\n",
      "Starting monkey_fetus_40_0067.ndpi\n",
      "effective: block_size=(4096, 4096, 3), min_overlap=(128, 128, 0), context=(128, 128, 0)\n"
     ]
    },
    {
     "name": "stderr",
     "output_type": "stream",
     "text": [
      "100%|██████████| 390/390 [15:39<00:00,  2.41s/it]\n"
     ]
    },
    {
     "name": "stdout",
     "output_type": "stream",
     "text": [
      "Saving json...\n",
      "Finished monkey_fetus_40_0067.json\n",
      "Starting monkey_fetus_40_0068.ndpi\n",
      "effective: block_size=(4096, 4096, 3), min_overlap=(128, 128, 0), context=(128, 128, 0)\n"
     ]
    },
    {
     "name": "stderr",
     "output_type": "stream",
     "text": [
      "100%|██████████| 63/63 [03:02<00:00,  2.89s/it]\n"
     ]
    },
    {
     "name": "stdout",
     "output_type": "stream",
     "text": [
      "Saving json...\n",
      "Finished monkey_fetus_40_0068.json\n",
      "Starting monkey_fetus_40_0069.ndpi\n",
      "effective: block_size=(4096, 4096, 3), min_overlap=(128, 128, 0), context=(128, 128, 0)\n"
     ]
    },
    {
     "name": "stderr",
     "output_type": "stream",
     "text": [
      "100%|██████████| 63/63 [03:03<00:00,  2.92s/it]\n"
     ]
    },
    {
     "name": "stdout",
     "output_type": "stream",
     "text": [
      "Saving json...\n",
      "Finished monkey_fetus_40_0069.json\n",
      "Starting monkey_fetus_40_0070.ndpi\n",
      "effective: block_size=(4096, 4096, 3), min_overlap=(128, 128, 0), context=(128, 128, 0)\n"
     ]
    },
    {
     "name": "stderr",
     "output_type": "stream",
     "text": [
      "100%|██████████| 390/390 [16:51<00:00,  2.59s/it]\n"
     ]
    },
    {
     "name": "stdout",
     "output_type": "stream",
     "text": [
      "Saving json...\n",
      "Finished monkey_fetus_40_0070.json\n",
      "Starting monkey_fetus_40_0071.ndpi\n",
      "effective: block_size=(4096, 4096, 3), min_overlap=(128, 128, 0), context=(128, 128, 0)\n"
     ]
    },
    {
     "name": "stderr",
     "output_type": "stream",
     "text": [
      "100%|██████████| 390/390 [17:48<00:00,  2.74s/it]\n"
     ]
    },
    {
     "name": "stdout",
     "output_type": "stream",
     "text": [
      "Saving json...\n",
      "Finished monkey_fetus_40_0071.json\n",
      "Starting monkey_fetus_40_0072.ndpi\n",
      "effective: block_size=(4096, 4096, 3), min_overlap=(128, 128, 0), context=(128, 128, 0)\n"
     ]
    },
    {
     "name": "stderr",
     "output_type": "stream",
     "text": [
      "100%|██████████| 390/390 [18:41<00:00,  2.88s/it]\n"
     ]
    },
    {
     "name": "stdout",
     "output_type": "stream",
     "text": [
      "Saving json...\n",
      "Finished monkey_fetus_40_0072.json\n",
      "Starting monkey_fetus_40_0073.ndpi\n",
      "effective: block_size=(4096, 4096, 3), min_overlap=(128, 128, 0), context=(128, 128, 0)\n"
     ]
    },
    {
     "name": "stderr",
     "output_type": "stream",
     "text": [
      "100%|██████████| 390/390 [19:27<00:00,  2.99s/it]\n"
     ]
    },
    {
     "name": "stdout",
     "output_type": "stream",
     "text": [
      "Saving json...\n",
      "Finished monkey_fetus_40_0073.json\n",
      "Starting monkey_fetus_40_0074.ndpi\n",
      "effective: block_size=(4096, 4096, 3), min_overlap=(128, 128, 0), context=(128, 128, 0)\n"
     ]
    },
    {
     "name": "stderr",
     "output_type": "stream",
     "text": [
      "100%|██████████| 63/63 [03:44<00:00,  3.56s/it]\n"
     ]
    },
    {
     "name": "stdout",
     "output_type": "stream",
     "text": [
      "Saving json...\n",
      "Finished monkey_fetus_40_0074.json\n",
      "Starting monkey_fetus_40_0075.ndpi\n",
      "effective: block_size=(4096, 4096, 3), min_overlap=(128, 128, 0), context=(128, 128, 0)\n"
     ]
    },
    {
     "name": "stderr",
     "output_type": "stream",
     "text": [
      "100%|██████████| 63/63 [03:51<00:00,  3.67s/it]\n"
     ]
    },
    {
     "name": "stdout",
     "output_type": "stream",
     "text": [
      "Saving json...\n",
      "Finished monkey_fetus_40_0075.json\n",
      "Starting monkey_fetus_40_0076.ndpi\n",
      "effective: block_size=(4096, 4096, 3), min_overlap=(128, 128, 0), context=(128, 128, 0)\n"
     ]
    },
    {
     "name": "stderr",
     "output_type": "stream",
     "text": [
      "100%|██████████| 63/63 [03:52<00:00,  3.69s/it]\n"
     ]
    },
    {
     "name": "stdout",
     "output_type": "stream",
     "text": [
      "Saving json...\n",
      "Finished monkey_fetus_40_0076.json\n",
      "Starting monkey_fetus_40_0077.ndpi\n",
      "effective: block_size=(4096, 4096, 3), min_overlap=(128, 128, 0), context=(128, 128, 0)\n"
     ]
    },
    {
     "name": "stderr",
     "output_type": "stream",
     "text": [
      "100%|██████████| 63/63 [03:59<00:00,  3.81s/it]\n"
     ]
    },
    {
     "name": "stdout",
     "output_type": "stream",
     "text": [
      "Saving json...\n",
      "Finished monkey_fetus_40_0077.json\n",
      "Starting monkey_fetus_40_0078.ndpi\n",
      "effective: block_size=(4096, 4096, 3), min_overlap=(128, 128, 0), context=(128, 128, 0)\n"
     ]
    },
    {
     "name": "stderr",
     "output_type": "stream",
     "text": [
      "100%|██████████| 390/390 [21:15<00:00,  3.27s/it]\n"
     ]
    },
    {
     "name": "stdout",
     "output_type": "stream",
     "text": [
      "Saving json...\n",
      "Finished monkey_fetus_40_0078.json\n",
      "Starting monkey_fetus_40_0079.ndpi\n",
      "effective: block_size=(4096, 4096, 3), min_overlap=(128, 128, 0), context=(128, 128, 0)\n"
     ]
    },
    {
     "name": "stderr",
     "output_type": "stream",
     "text": [
      "100%|██████████| 390/390 [23:03<00:00,  3.55s/it]\n"
     ]
    },
    {
     "name": "stdout",
     "output_type": "stream",
     "text": [
      "Saving json...\n",
      "Finished monkey_fetus_40_0079.json\n",
      "Starting monkey_fetus_40_0080.ndpi\n",
      "effective: block_size=(4096, 4096, 3), min_overlap=(128, 128, 0), context=(128, 128, 0)\n"
     ]
    },
    {
     "name": "stderr",
     "output_type": "stream",
     "text": [
      "100%|██████████| 390/390 [24:00<00:00,  3.69s/it]\n"
     ]
    },
    {
     "name": "stdout",
     "output_type": "stream",
     "text": [
      "Saving json...\n",
      "Finished monkey_fetus_40_0080.json\n",
      "Starting monkey_fetus_40_0081.ndpi\n",
      "effective: block_size=(4096, 4096, 3), min_overlap=(128, 128, 0), context=(128, 128, 0)\n"
     ]
    },
    {
     "name": "stderr",
     "output_type": "stream",
     "text": [
      "100%|██████████| 63/63 [04:30<00:00,  4.29s/it]\n"
     ]
    },
    {
     "name": "stdout",
     "output_type": "stream",
     "text": [
      "Saving json...\n",
      "Finished monkey_fetus_40_0081.json\n",
      "Starting monkey_fetus_40_0082.ndpi\n",
      "effective: block_size=(4096, 4096, 3), min_overlap=(128, 128, 0), context=(128, 128, 0)\n"
     ]
    },
    {
     "name": "stderr",
     "output_type": "stream",
     "text": [
      "100%|██████████| 70/70 [05:05<00:00,  4.36s/it]\n"
     ]
    },
    {
     "name": "stdout",
     "output_type": "stream",
     "text": [
      "Saving json...\n",
      "Finished monkey_fetus_40_0082.json\n",
      "Starting monkey_fetus_40_0083.ndpi\n",
      "effective: block_size=(4096, 4096, 3), min_overlap=(128, 128, 0), context=(128, 128, 0)\n"
     ]
    },
    {
     "name": "stderr",
     "output_type": "stream",
     "text": [
      "100%|██████████| 63/63 [04:48<00:00,  4.58s/it]\n"
     ]
    },
    {
     "name": "stdout",
     "output_type": "stream",
     "text": [
      "Saving json...\n",
      "Finished monkey_fetus_40_0083.json\n",
      "Starting monkey_fetus_40_0084.ndpi\n",
      "effective: block_size=(4096, 4096, 3), min_overlap=(128, 128, 0), context=(128, 128, 0)\n"
     ]
    },
    {
     "name": "stderr",
     "output_type": "stream",
     "text": [
      "100%|██████████| 63/63 [04:46<00:00,  4.54s/it]\n"
     ]
    },
    {
     "name": "stdout",
     "output_type": "stream",
     "text": [
      "Saving json...\n",
      "Finished monkey_fetus_40_0084.json\n",
      "Starting monkey_fetus_40_0085.ndpi\n",
      "effective: block_size=(4096, 4096, 3), min_overlap=(128, 128, 0), context=(128, 128, 0)\n"
     ]
    },
    {
     "name": "stderr",
     "output_type": "stream",
     "text": [
      "100%|██████████| 171/171 [11:48<00:00,  4.15s/it]\n"
     ]
    },
    {
     "name": "stdout",
     "output_type": "stream",
     "text": [
      "Saving json...\n",
      "Finished monkey_fetus_40_0085.json\n",
      "Starting monkey_fetus_40_0086.ndpi\n",
      "effective: block_size=(4096, 4096, 3), min_overlap=(128, 128, 0), context=(128, 128, 0)\n"
     ]
    },
    {
     "name": "stderr",
     "output_type": "stream",
     "text": [
      "100%|██████████| 390/390 [26:41<00:00,  4.11s/it]\n"
     ]
    },
    {
     "name": "stdout",
     "output_type": "stream",
     "text": [
      "Saving json...\n",
      "Finished monkey_fetus_40_0086.json\n",
      "Starting monkey_fetus_40_0087.ndpi\n",
      "effective: block_size=(4096, 4096, 3), min_overlap=(128, 128, 0), context=(128, 128, 0)\n"
     ]
    },
    {
     "name": "stderr",
     "output_type": "stream",
     "text": [
      "100%|██████████| 63/63 [05:10<00:00,  4.93s/it]\n"
     ]
    },
    {
     "name": "stdout",
     "output_type": "stream",
     "text": [
      "Saving json...\n",
      "Finished monkey_fetus_40_0087.json\n",
      "Starting monkey_fetus_40_0088.ndpi\n",
      "effective: block_size=(4096, 4096, 3), min_overlap=(128, 128, 0), context=(128, 128, 0)\n"
     ]
    },
    {
     "name": "stderr",
     "output_type": "stream",
     "text": [
      "100%|██████████| 80/80 [06:32<00:00,  4.90s/it]\n"
     ]
    },
    {
     "name": "stdout",
     "output_type": "stream",
     "text": [
      "Saving json...\n",
      "Finished monkey_fetus_40_0088.json\n",
      "Starting monkey_fetus_40_0089.ndpi\n",
      "effective: block_size=(4096, 4096, 3), min_overlap=(128, 128, 0), context=(128, 128, 0)\n"
     ]
    },
    {
     "name": "stderr",
     "output_type": "stream",
     "text": [
      "100%|██████████| 70/70 [05:47<00:00,  4.96s/it]\n"
     ]
    },
    {
     "name": "stdout",
     "output_type": "stream",
     "text": [
      "Saving json...\n",
      "Finished monkey_fetus_40_0089.json\n",
      "Starting monkey_fetus_40_0090.ndpi\n",
      "effective: block_size=(4096, 4096, 3), min_overlap=(128, 128, 0), context=(128, 128, 0)\n"
     ]
    },
    {
     "name": "stderr",
     "output_type": "stream",
     "text": [
      "100%|██████████| 70/70 [05:44<00:00,  4.93s/it]\n"
     ]
    },
    {
     "name": "stdout",
     "output_type": "stream",
     "text": [
      "Saving json...\n",
      "Finished monkey_fetus_40_0090.json\n",
      "Starting monkey_fetus_40_0091.ndpi\n",
      "effective: block_size=(4096, 4096, 3), min_overlap=(128, 128, 0), context=(128, 128, 0)\n"
     ]
    },
    {
     "name": "stderr",
     "output_type": "stream",
     "text": [
      "100%|██████████| 390/390 [31:39<00:00,  4.87s/it]\n"
     ]
    },
    {
     "name": "stdout",
     "output_type": "stream",
     "text": [
      "Saving json...\n",
      "Finished monkey_fetus_40_0091.json\n",
      "Starting monkey_fetus_40_0092.ndpi\n",
      "effective: block_size=(4096, 4096, 3), min_overlap=(128, 128, 0), context=(128, 128, 0)\n"
     ]
    },
    {
     "name": "stderr",
     "output_type": "stream",
     "text": [
      "100%|██████████| 390/390 [30:51<00:00,  4.75s/it]\n"
     ]
    },
    {
     "name": "stdout",
     "output_type": "stream",
     "text": [
      "Saving json...\n",
      "Finished monkey_fetus_40_0092.json\n",
      "Starting monkey_fetus_40_0093.ndpi\n",
      "effective: block_size=(4096, 4096, 3), min_overlap=(128, 128, 0), context=(128, 128, 0)\n"
     ]
    },
    {
     "name": "stderr",
     "output_type": "stream",
     "text": [
      "100%|██████████| 80/80 [07:38<00:00,  5.73s/it]\n"
     ]
    },
    {
     "name": "stdout",
     "output_type": "stream",
     "text": [
      "Saving json...\n",
      "Finished monkey_fetus_40_0093.json\n",
      "Starting monkey_fetus_40_0094.ndpi\n",
      "effective: block_size=(4096, 4096, 3), min_overlap=(128, 128, 0), context=(128, 128, 0)\n"
     ]
    },
    {
     "name": "stderr",
     "output_type": "stream",
     "text": [
      "100%|██████████| 390/390 [33:23<00:00,  5.14s/it]\n"
     ]
    },
    {
     "name": "stdout",
     "output_type": "stream",
     "text": [
      "Saving json...\n",
      "Finished monkey_fetus_40_0094.json\n",
      "Starting monkey_fetus_40_0095.ndpi\n",
      "effective: block_size=(4096, 4096, 3), min_overlap=(128, 128, 0), context=(128, 128, 0)\n"
     ]
    },
    {
     "name": "stderr",
     "output_type": "stream",
     "text": [
      "100%|██████████| 390/390 [34:54<00:00,  5.37s/it]\n"
     ]
    },
    {
     "name": "stdout",
     "output_type": "stream",
     "text": [
      "Saving json...\n",
      "Finished monkey_fetus_40_0095.json\n",
      "Starting monkey_fetus_40_0096.ndpi\n",
      "effective: block_size=(4096, 4096, 3), min_overlap=(128, 128, 0), context=(128, 128, 0)\n"
     ]
    },
    {
     "name": "stderr",
     "output_type": "stream",
     "text": [
      "100%|██████████| 390/390 [36:05<00:00,  5.55s/it]\n"
     ]
    },
    {
     "name": "stdout",
     "output_type": "stream",
     "text": [
      "Saving json...\n",
      "Finished monkey_fetus_40_0096.json\n",
      "Starting monkey_fetus_40_0097.ndpi\n",
      "effective: block_size=(4096, 4096, 3), min_overlap=(128, 128, 0), context=(128, 128, 0)\n"
     ]
    },
    {
     "name": "stderr",
     "output_type": "stream",
     "text": [
      "100%|██████████| 63/63 [06:38<00:00,  6.32s/it]\n"
     ]
    },
    {
     "name": "stdout",
     "output_type": "stream",
     "text": [
      "Saving json...\n",
      "Finished monkey_fetus_40_0097.json\n",
      "Starting monkey_fetus_40_0098.ndpi\n",
      "effective: block_size=(4096, 4096, 3), min_overlap=(128, 128, 0), context=(128, 128, 0)\n"
     ]
    },
    {
     "name": "stderr",
     "output_type": "stream",
     "text": [
      "100%|██████████| 63/63 [06:42<00:00,  6.38s/it]\n"
     ]
    },
    {
     "name": "stdout",
     "output_type": "stream",
     "text": [
      "Saving json...\n",
      "Finished monkey_fetus_40_0098.json\n",
      "Starting monkey_fetus_40_0099.ndpi\n",
      "effective: block_size=(4096, 4096, 3), min_overlap=(128, 128, 0), context=(128, 128, 0)\n"
     ]
    },
    {
     "name": "stderr",
     "output_type": "stream",
     "text": [
      "100%|██████████| 390/390 [37:40<00:00,  5.80s/it]\n"
     ]
    },
    {
     "name": "stdout",
     "output_type": "stream",
     "text": [
      "Saving json...\n",
      "Finished monkey_fetus_40_0099.json\n",
      "Starting monkey_fetus_40_0100.ndpi\n",
      "effective: block_size=(4096, 4096, 3), min_overlap=(128, 128, 0), context=(128, 128, 0)\n"
     ]
    },
    {
     "name": "stderr",
     "output_type": "stream",
     "text": [
      "100%|██████████| 390/390 [39:15<00:00,  6.04s/it]\n"
     ]
    },
    {
     "name": "stdout",
     "output_type": "stream",
     "text": [
      "Saving json...\n",
      "Finished monkey_fetus_40_0100.json\n",
      "Starting monkey_fetus_40_0101.ndpi\n",
      "effective: block_size=(4096, 4096, 3), min_overlap=(128, 128, 0), context=(128, 128, 0)\n"
     ]
    },
    {
     "name": "stderr",
     "output_type": "stream",
     "text": [
      "100%|██████████| 390/390 [41:26<00:00,  6.37s/it]\n"
     ]
    },
    {
     "name": "stdout",
     "output_type": "stream",
     "text": [
      "Saving json...\n",
      "Finished monkey_fetus_40_0101.json\n",
      "Starting monkey_fetus_40_0102.ndpi\n",
      "effective: block_size=(4096, 4096, 3), min_overlap=(128, 128, 0), context=(128, 128, 0)\n"
     ]
    },
    {
     "name": "stderr",
     "output_type": "stream",
     "text": [
      "100%|██████████| 390/390 [43:08<00:00,  6.64s/it]\n"
     ]
    },
    {
     "name": "stdout",
     "output_type": "stream",
     "text": [
      "Saving json...\n",
      "Finished monkey_fetus_40_0102.json\n",
      "Starting monkey_fetus_40_0103.ndpi\n",
      "effective: block_size=(4096, 4096, 3), min_overlap=(128, 128, 0), context=(128, 128, 0)\n"
     ]
    },
    {
     "name": "stderr",
     "output_type": "stream",
     "text": [
      "100%|██████████| 390/390 [44:41<00:00,  6.88s/it]\n"
     ]
    },
    {
     "name": "stdout",
     "output_type": "stream",
     "text": [
      "Saving json...\n",
      "Finished monkey_fetus_40_0103.json\n",
      "Starting monkey_fetus_40_0104.ndpi\n",
      "effective: block_size=(4096, 4096, 3), min_overlap=(128, 128, 0), context=(128, 128, 0)\n"
     ]
    },
    {
     "name": "stderr",
     "output_type": "stream",
     "text": [
      "100%|██████████| 390/390 [46:33<00:00,  7.16s/it]\n"
     ]
    },
    {
     "name": "stdout",
     "output_type": "stream",
     "text": [
      "Saving json...\n",
      "Finished monkey_fetus_40_0104.json\n",
      "Starting monkey_fetus_40_0105.ndpi\n",
      "effective: block_size=(4096, 4096, 3), min_overlap=(128, 128, 0), context=(128, 128, 0)\n"
     ]
    },
    {
     "name": "stderr",
     "output_type": "stream",
     "text": [
      "100%|██████████| 72/72 [09:35<00:00,  7.99s/it]\n"
     ]
    },
    {
     "name": "stdout",
     "output_type": "stream",
     "text": [
      "Saving json...\n",
      "Finished monkey_fetus_40_0105.json\n",
      "Starting monkey_fetus_40_0106.ndpi\n",
      "effective: block_size=(4096, 4096, 3), min_overlap=(128, 128, 0), context=(128, 128, 0)\n"
     ]
    },
    {
     "name": "stderr",
     "output_type": "stream",
     "text": [
      "100%|██████████| 390/390 [49:37<00:00,  7.63s/it]\n"
     ]
    },
    {
     "name": "stdout",
     "output_type": "stream",
     "text": [
      "Saving json...\n",
      "Finished monkey_fetus_40_0106.json\n",
      "Starting monkey_fetus_40_0107.ndpi\n",
      "effective: block_size=(4096, 4096, 3), min_overlap=(128, 128, 0), context=(128, 128, 0)\n"
     ]
    },
    {
     "name": "stderr",
     "output_type": "stream",
     "text": [
      "100%|██████████| 390/390 [52:19<00:00,  8.05s/it]\n"
     ]
    },
    {
     "name": "stdout",
     "output_type": "stream",
     "text": [
      "Saving json...\n",
      "Finished monkey_fetus_40_0107.json\n",
      "Starting monkey_fetus_40_0108.ndpi\n",
      "effective: block_size=(4096, 4096, 3), min_overlap=(128, 128, 0), context=(128, 128, 0)\n"
     ]
    },
    {
     "name": "stderr",
     "output_type": "stream",
     "text": [
      " 28%|██▊       | 110/390 [16:58<43:12,  9.26s/it]  \n"
     ]
    },
    {
     "name": "stdout",
     "output_type": "stream",
     "text": [
      "skipping \\\\169.254.138.20\\Andre\\data\\monkey fetus\\gestational 40\\monkey_fetus_40_0108.ndpi, probably bc its too big...\n",
      "Starting monkey_fetus_40_0109.ndpi\n",
      "skipping \\\\169.254.138.20\\Andre\\data\\monkey fetus\\gestational 40\\monkey_fetus_40_0109.ndpi, probably bc its too big...\n",
      "Starting monkey_fetus_40_0110.ndpi\n",
      "skipping \\\\169.254.138.20\\Andre\\data\\monkey fetus\\gestational 40\\monkey_fetus_40_0110.ndpi, probably bc its too big...\n",
      "Starting monkey_fetus_40_0111.ndpi\n",
      "skipping \\\\169.254.138.20\\Andre\\data\\monkey fetus\\gestational 40\\monkey_fetus_40_0111.ndpi, probably bc its too big...\n",
      "Starting monkey_fetus_40_0112.ndpi\n",
      "skipping \\\\169.254.138.20\\Andre\\data\\monkey fetus\\gestational 40\\monkey_fetus_40_0112.ndpi, probably bc its too big...\n",
      "Starting monkey_fetus_40_0113.ndpi\n",
      "skipping \\\\169.254.138.20\\Andre\\data\\monkey fetus\\gestational 40\\monkey_fetus_40_0113.ndpi, probably bc its too big...\n",
      "Starting monkey_fetus_40_0114.ndpi\n",
      "skipping \\\\169.254.138.20\\Andre\\data\\monkey fetus\\gestational 40\\monkey_fetus_40_0114.ndpi, probably bc its too big...\n",
      "Starting monkey_fetus_40_0115.ndpi\n",
      "skipping \\\\169.254.138.20\\Andre\\data\\monkey fetus\\gestational 40\\monkey_fetus_40_0115.ndpi, probably bc its too big...\n",
      "Starting monkey_fetus_40_0116.ndpi\n",
      "skipping \\\\169.254.138.20\\Andre\\data\\monkey fetus\\gestational 40\\monkey_fetus_40_0116.ndpi, probably bc its too big...\n",
      "Starting monkey_fetus_40_0117.ndpi\n",
      "skipping \\\\169.254.138.20\\Andre\\data\\monkey fetus\\gestational 40\\monkey_fetus_40_0117.ndpi, probably bc its too big...\n",
      "Starting monkey_fetus_40_0118.ndpi\n",
      "skipping \\\\169.254.138.20\\Andre\\data\\monkey fetus\\gestational 40\\monkey_fetus_40_0118.ndpi, probably bc its too big...\n",
      "Starting monkey_fetus_40_0119.ndpi\n",
      "skipping \\\\169.254.138.20\\Andre\\data\\monkey fetus\\gestational 40\\monkey_fetus_40_0119.ndpi, probably bc its too big...\n",
      "Starting monkey_fetus_40_0120.ndpi\n",
      "skipping \\\\169.254.138.20\\Andre\\data\\monkey fetus\\gestational 40\\monkey_fetus_40_0120.ndpi, probably bc its too big...\n",
      "Starting monkey_fetus_40_0121.ndpi\n",
      "skipping \\\\169.254.138.20\\Andre\\data\\monkey fetus\\gestational 40\\monkey_fetus_40_0121.ndpi, probably bc its too big...\n",
      "Starting monkey_fetus_40_0122.ndpi\n",
      "skipping \\\\169.254.138.20\\Andre\\data\\monkey fetus\\gestational 40\\monkey_fetus_40_0122.ndpi, probably bc its too big...\n",
      "Starting monkey_fetus_40_0123.ndpi\n",
      "skipping \\\\169.254.138.20\\Andre\\data\\monkey fetus\\gestational 40\\monkey_fetus_40_0123.ndpi, probably bc its too big...\n",
      "Starting monkey_fetus_40_0124.ndpi\n",
      "skipping \\\\169.254.138.20\\Andre\\data\\monkey fetus\\gestational 40\\monkey_fetus_40_0124.ndpi, probably bc its too big...\n",
      "Starting monkey_fetus_40_0125.ndpi\n",
      "skipping \\\\169.254.138.20\\Andre\\data\\monkey fetus\\gestational 40\\monkey_fetus_40_0125.ndpi, probably bc its too big...\n",
      "Starting monkey_fetus_40_0126.ndpi\n",
      "skipping \\\\169.254.138.20\\Andre\\data\\monkey fetus\\gestational 40\\monkey_fetus_40_0126.ndpi, probably bc its too big...\n",
      "Starting monkey_fetus_40_0127.ndpi\n",
      "skipping \\\\169.254.138.20\\Andre\\data\\monkey fetus\\gestational 40\\monkey_fetus_40_0127.ndpi, probably bc its too big...\n",
      "Starting monkey_fetus_40_0128.ndpi\n",
      "skipping \\\\169.254.138.20\\Andre\\data\\monkey fetus\\gestational 40\\monkey_fetus_40_0128.ndpi, probably bc its too big...\n",
      "Starting monkey_fetus_40_0129.ndpi\n",
      "skipping \\\\169.254.138.20\\Andre\\data\\monkey fetus\\gestational 40\\monkey_fetus_40_0129.ndpi, probably bc its too big...\n",
      "Starting monkey_fetus_40_0130.ndpi\n",
      "skipping \\\\169.254.138.20\\Andre\\data\\monkey fetus\\gestational 40\\monkey_fetus_40_0130.ndpi, probably bc its too big...\n",
      "Starting monkey_fetus_40_0131.ndpi\n",
      "skipping \\\\169.254.138.20\\Andre\\data\\monkey fetus\\gestational 40\\monkey_fetus_40_0131.ndpi, probably bc its too big...\n",
      "Starting monkey_fetus_40_0132.ndpi\n",
      "skipping \\\\169.254.138.20\\Andre\\data\\monkey fetus\\gestational 40\\monkey_fetus_40_0132.ndpi, probably bc its too big...\n",
      "Starting monkey_fetus_40_0133.ndpi\n",
      "skipping \\\\169.254.138.20\\Andre\\data\\monkey fetus\\gestational 40\\monkey_fetus_40_0133.ndpi, probably bc its too big...\n",
      "Starting monkey_fetus_40_0134.ndpi\n",
      "skipping \\\\169.254.138.20\\Andre\\data\\monkey fetus\\gestational 40\\monkey_fetus_40_0134.ndpi, probably bc its too big...\n",
      "Starting monkey_fetus_40_0135.ndpi\n",
      "skipping \\\\169.254.138.20\\Andre\\data\\monkey fetus\\gestational 40\\monkey_fetus_40_0135.ndpi, probably bc its too big...\n",
      "Starting monkey_fetus_40_0136.ndpi\n"
     ]
    }
   ],
   "source": [
    "# Segment all WSIs -- takes about 2-5 minutes per whole slide image to segment, about 3 minutes to save geojson file\n",
    "for img_pth in WSIs:\n",
    "    try:\n",
    "        name = os.path.basename(img_pth)\n",
    "\n",
    "        if not os.path.exists(os.path.join(out_pth_json, (name[:-5] + '.json'))):\n",
    "            print(f'Starting {name}')\n",
    "\n",
    "            img = imread(img_pth)\n",
    "            img = img/255  # normalization used to train model\n",
    "            _, polys = model.predict_instances_big(img, axes='YXC', block_size=4096, min_overlap=128, context=128, n_tiles=(4,4,1))\n",
    "\n",
    "            print('Saving json...')\n",
    "            save_json(polys, out_pth_json, name)\n",
    "\n",
    "            # tif file is like 3 GB usually, so only uncomment next part if you are ok with that\n",
    "            #print('Saving tif...')\n",
    "            #imwrite(os.path.join(out_pth_tif, name[:-5] + '.tif'), labels)\n",
    "        else:\n",
    "            print(f'Skipping {name}')\n",
    "    except:\n",
    "        print(f'skipping {img_pth}, probably bc its too big...')"
   ],
   "metadata": {
    "collapsed": false,
    "is_executing": true,
    "ExecuteTime": {
     "start_time": "2023-12-26T15:37:45.306209700Z"
    }
   }
  },
  {
   "cell_type": "code",
   "execution_count": null,
   "outputs": [],
   "source": [
    "# show_image(labels, crop_x=10000, crop_y=10000, tile_size=1024, cmap=cmap)\n",
    "# show_image(img, crop_x, crop_y, tile_size, cmap=cmap)"
   ],
   "metadata": {
    "collapsed": false,
    "is_executing": true
   }
  }
 ],
 "metadata": {
  "accelerator": "GPU",
  "colab": {
   "collapsed_sections": [],
   "name": "281-Segmenting_WSI_using_StarDist.ipynb",
   "provenance": [],
   "mount_file_id": "1TTEEGQOEZfynOwGGF_Azalgl1Vf6opv3",
   "authorship_tag": "ABX9TyMbUn0LceXTmmoadiU9GV1Q",
   "include_colab_link": true
  },
  "kernelspec": {
   "name": "python3",
   "language": "python",
   "display_name": "Python 3 (ipykernel)"
  },
  "language_info": {
   "name": "python"
  }
 },
 "nbformat": 4,
 "nbformat_minor": 0
}
