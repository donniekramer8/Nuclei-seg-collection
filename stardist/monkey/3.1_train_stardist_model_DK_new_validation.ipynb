{
 "cells": [
  {
   "cell_type": "code",
   "execution_count": 1,
   "id": "initial_id",
   "metadata": {
    "collapsed": true,
    "ExecuteTime": {
     "end_time": "2023-12-13T17:45:56.652135500Z",
     "start_time": "2023-12-13T17:45:54.132470600Z"
    }
   },
   "outputs": [],
   "source": [
    "# pip install gputools\n",
    "# pip install scikit-tensor-py3\n",
    "\n",
    "from __future__ import print_function, unicode_literals, absolute_import, division\n",
    "import sys\n",
    "import numpy as np\n",
    "import matplotlib\n",
    "matplotlib.rcParams[\"image.interpolation\"] = 'nearest'\n",
    "import matplotlib.pyplot as plt\n",
    "import os\n",
    "from PIL import Image\n",
    "import tensorflow as tf\n",
    "from glob import glob\n",
    "from tqdm import tqdm\n",
    "from tifffile import imread\n",
    "import struct\n",
    "import cv2\n",
    "import pandas as pd\n",
    "\n",
    "from stardist import fill_label_holes, random_label_cmap, calculate_extents, gputools_available\n",
    "from stardist.models import Config2D, StarDist2D, StarDistData2D"
   ]
  },
  {
   "cell_type": "code",
   "execution_count": 2,
   "outputs": [],
   "source": [
    "#Random color map labels\n",
    "np.random.seed(42)\n",
    "lbl_cmap = random_label_cmap()"
   ],
   "metadata": {
    "collapsed": false,
    "ExecuteTime": {
     "end_time": "2023-12-13T17:45:56.784140400Z",
     "start_time": "2023-12-13T17:45:56.643135100Z"
    }
   },
   "id": "4328cd789d4b804"
  },
  {
   "cell_type": "code",
   "execution_count": 3,
   "outputs": [],
   "source": [
    "pth=r'\\\\10.99.68.178\\andreex\\data\\Stardist\\qupath_training_annotations'\n",
    "pthtraining= os.path.join(pth,'Training')\n",
    "pthtesting= os.path.join(pth,'Testing')\n",
    "pthmodels= os.path.join(pth,'models')\n",
    "pthfiles= os.path.join(pth,'files')\n",
    "\n",
    "# pthHE= r'\\\\10.99.68.178\\andreex\\data\\Stardist\\Training\\H&E_tiles'\n",
    "# pthmasks= r'\\\\10.99.68.178\\andreex\\data\\Stardist\\Training\\masks'\n",
    "\n",
    "pthHE = r'\\\\10.99.68.178\\andreex\\students\\Donald Monkey fetus\\stardist\\training_and_testing_monkey_12_7_23\\training\\images'\n",
    "pthmasks = r'\\\\10.99.68.178\\andreex\\students\\Donald Monkey fetus\\stardist\\training_and_testing_monkey_12_7_23\\training\\masks'"
   ],
   "metadata": {
    "collapsed": false,
    "ExecuteTime": {
     "end_time": "2023-12-13T17:45:56.797840600Z",
     "start_time": "2023-12-13T17:45:56.785140200Z"
    }
   },
   "id": "890048cb11d55b1"
  },
  {
   "cell_type": "code",
   "execution_count": 4,
   "outputs": [
    {
     "data": {
      "text/plain": "'\\\\\\\\10.99.68.178\\\\andreex\\\\data\\\\Stardist\\\\qupath_training_annotations\\\\models'"
     },
     "execution_count": 4,
     "metadata": {},
     "output_type": "execute_result"
    }
   ],
   "source": [
    "pthmodels"
   ],
   "metadata": {
    "collapsed": false,
    "ExecuteTime": {
     "end_time": "2023-12-13T17:45:56.841852700Z",
     "start_time": "2023-12-13T17:45:56.798841800Z"
    }
   }
  },
  {
   "cell_type": "code",
   "execution_count": 5,
   "outputs": [],
   "source": [
    "training_HE_tiles_pths = sorted(glob(os.path.join(pthHE,'*.tif')))\n",
    "training_mask_tiles_pths = sorted(glob(os.path.join(pthmasks,'*.tif')))"
   ],
   "metadata": {
    "collapsed": false,
    "ExecuteTime": {
     "end_time": "2023-12-13T17:45:59.864441600Z",
     "start_time": "2023-12-13T17:45:56.815082100Z"
    }
   },
   "id": "aec83d92487aff4b"
  },
  {
   "cell_type": "code",
   "execution_count": 6,
   "outputs": [
    {
     "data": {
      "text/plain": "['\\\\\\\\10.99.68.178\\\\andreex\\\\students\\\\Donald Monkey fetus\\\\stardist\\\\training_and_testing_monkey_12_7_23\\\\training\\\\images\\\\fallopian_tubes_AJER376_035.tif',\n '\\\\\\\\10.99.68.178\\\\andreex\\\\students\\\\Donald Monkey fetus\\\\stardist\\\\training_and_testing_monkey_12_7_23\\\\training\\\\images\\\\fallopian_tubes_AJER376_117.tif',\n '\\\\\\\\10.99.68.178\\\\andreex\\\\students\\\\Donald Monkey fetus\\\\stardist\\\\training_and_testing_monkey_12_7_23\\\\training\\\\images\\\\fallopian_tubes_AJER376_157.tif',\n '\\\\\\\\10.99.68.178\\\\andreex\\\\students\\\\Donald Monkey fetus\\\\stardist\\\\training_and_testing_monkey_12_7_23\\\\training\\\\images\\\\fallopian_tubes_AJER376_217.tif',\n '\\\\\\\\10.99.68.178\\\\andreex\\\\students\\\\Donald Monkey fetus\\\\stardist\\\\training_and_testing_monkey_12_7_23\\\\training\\\\images\\\\fallopian_tubes_AJER376_235.tif',\n '\\\\\\\\10.99.68.178\\\\andreex\\\\students\\\\Donald Monkey fetus\\\\stardist\\\\training_and_testing_monkey_12_7_23\\\\training\\\\images\\\\fallopian_tubes_AJER376_245.tif',\n '\\\\\\\\10.99.68.178\\\\andreex\\\\students\\\\Donald Monkey fetus\\\\stardist\\\\training_and_testing_monkey_12_7_23\\\\training\\\\images\\\\fallopian_tubes_AJER376_271.tif',\n '\\\\\\\\10.99.68.178\\\\andreex\\\\students\\\\Donald Monkey fetus\\\\stardist\\\\training_and_testing_monkey_12_7_23\\\\training\\\\images\\\\fallopian_tubes_AJER376_331.tif',\n '\\\\\\\\10.99.68.178\\\\andreex\\\\students\\\\Donald Monkey fetus\\\\stardist\\\\training_and_testing_monkey_12_7_23\\\\training\\\\images\\\\fallopian_tubes_AJER376_377.tif',\n '\\\\\\\\10.99.68.178\\\\andreex\\\\students\\\\Donald Monkey fetus\\\\stardist\\\\training_and_testing_monkey_12_7_23\\\\training\\\\images\\\\fallopian_tubes_AJER376_431.tif',\n '\\\\\\\\10.99.68.178\\\\andreex\\\\students\\\\Donald Monkey fetus\\\\stardist\\\\training_and_testing_monkey_12_7_23\\\\training\\\\images\\\\fallopian_tubes_AJER376_439.tif',\n '\\\\\\\\10.99.68.178\\\\andreex\\\\students\\\\Donald Monkey fetus\\\\stardist\\\\training_and_testing_monkey_12_7_23\\\\training\\\\images\\\\fallopian_tubes_AJER376_479.tif',\n '\\\\\\\\10.99.68.178\\\\andreex\\\\students\\\\Donald Monkey fetus\\\\stardist\\\\training_and_testing_monkey_12_7_23\\\\training\\\\images\\\\fallopian_tubes_AJER376_523.tif',\n '\\\\\\\\10.99.68.178\\\\andreex\\\\students\\\\Donald Monkey fetus\\\\stardist\\\\training_and_testing_monkey_12_7_23\\\\training\\\\images\\\\fallopian_tubes_AJER376_565.tif',\n '\\\\\\\\10.99.68.178\\\\andreex\\\\students\\\\Donald Monkey fetus\\\\stardist\\\\training_and_testing_monkey_12_7_23\\\\training\\\\images\\\\fallopian_tubes_AJGB283_155.tif',\n '\\\\\\\\10.99.68.178\\\\andreex\\\\students\\\\Donald Monkey fetus\\\\stardist\\\\training_and_testing_monkey_12_7_23\\\\training\\\\images\\\\fallopian_tubes_AJGB283_487.tif',\n '\\\\\\\\10.99.68.178\\\\andreex\\\\students\\\\Donald Monkey fetus\\\\stardist\\\\training_and_testing_monkey_12_7_23\\\\training\\\\images\\\\fallopian_tubes_AJLC170_0153.tif',\n '\\\\\\\\10.99.68.178\\\\andreex\\\\students\\\\Donald Monkey fetus\\\\stardist\\\\training_and_testing_monkey_12_7_23\\\\training\\\\images\\\\fallopian_tubes_AJLC170_0729.tif',\n '\\\\\\\\10.99.68.178\\\\andreex\\\\students\\\\Donald Monkey fetus\\\\stardist\\\\training_and_testing_monkey_12_7_23\\\\training\\\\images\\\\fallopian_tubes_AJLF232_0153.tif',\n '\\\\\\\\10.99.68.178\\\\andreex\\\\students\\\\Donald Monkey fetus\\\\stardist\\\\training_and_testing_monkey_12_7_23\\\\training\\\\images\\\\fallopian_tubes_AJLF232_0483.tif',\n '\\\\\\\\10.99.68.178\\\\andreex\\\\students\\\\Donald Monkey fetus\\\\stardist\\\\training_and_testing_monkey_12_7_23\\\\training\\\\images\\\\monkey_fetus_40_0105_ecm.tif',\n '\\\\\\\\10.99.68.178\\\\andreex\\\\students\\\\Donald Monkey fetus\\\\stardist\\\\training_and_testing_monkey_12_7_23\\\\training\\\\images\\\\monkey_fetus_40_0271_eye.tif',\n '\\\\\\\\10.99.68.178\\\\andreex\\\\students\\\\Donald Monkey fetus\\\\stardist\\\\training_and_testing_monkey_12_7_23\\\\training\\\\images\\\\monkey_fetus_40_0371_Lung.tif',\n '\\\\\\\\10.99.68.178\\\\andreex\\\\students\\\\Donald Monkey fetus\\\\stardist\\\\training_and_testing_monkey_12_7_23\\\\training\\\\images\\\\monkey_fetus_40_0400_spinalcord.tif',\n '\\\\\\\\10.99.68.178\\\\andreex\\\\students\\\\Donald Monkey fetus\\\\stardist\\\\training_and_testing_monkey_12_7_23\\\\training\\\\images\\\\monkey_fetus_40_0420_brain.tif',\n '\\\\\\\\10.99.68.178\\\\andreex\\\\students\\\\Donald Monkey fetus\\\\stardist\\\\training_and_testing_monkey_12_7_23\\\\training\\\\images\\\\monkey_fetus_40_0431_GI.tif',\n '\\\\\\\\10.99.68.178\\\\andreex\\\\students\\\\Donald Monkey fetus\\\\stardist\\\\training_and_testing_monkey_12_7_23\\\\training\\\\images\\\\monkey_fetus_40_0432_bone.tif',\n '\\\\\\\\10.99.68.178\\\\andreex\\\\students\\\\Donald Monkey fetus\\\\stardist\\\\training_and_testing_monkey_12_7_23\\\\training\\\\images\\\\monkey_fetus_40_0450_heart.tif',\n '\\\\\\\\10.99.68.178\\\\andreex\\\\students\\\\Donald Monkey fetus\\\\stardist\\\\training_and_testing_monkey_12_7_23\\\\training\\\\images\\\\monkey_fetus_40_0451_kidney.tif',\n '\\\\\\\\10.99.68.178\\\\andreex\\\\students\\\\Donald Monkey fetus\\\\stardist\\\\training_and_testing_monkey_12_7_23\\\\training\\\\images\\\\monkey_fetus_40_0507_Thyroid.tif',\n '\\\\\\\\10.99.68.178\\\\andreex\\\\students\\\\Donald Monkey fetus\\\\stardist\\\\training_and_testing_monkey_12_7_23\\\\training\\\\images\\\\monkey_fetus_40_0519_Ganglion.tif',\n '\\\\\\\\10.99.68.178\\\\andreex\\\\students\\\\Donald Monkey fetus\\\\stardist\\\\training_and_testing_monkey_12_7_23\\\\training\\\\images\\\\monkey_fetus_40_0531_kidney.tif',\n '\\\\\\\\10.99.68.178\\\\andreex\\\\students\\\\Donald Monkey fetus\\\\stardist\\\\training_and_testing_monkey_12_7_23\\\\training\\\\images\\\\monkey_fetus_40_0532_heart.tif',\n '\\\\\\\\10.99.68.178\\\\andreex\\\\students\\\\Donald Monkey fetus\\\\stardist\\\\training_and_testing_monkey_12_7_23\\\\training\\\\images\\\\monkey_fetus_40_0612_brain.tif',\n '\\\\\\\\10.99.68.178\\\\andreex\\\\students\\\\Donald Monkey fetus\\\\stardist\\\\training_and_testing_monkey_12_7_23\\\\training\\\\images\\\\monkey_fetus_40_0640_bone.tif',\n '\\\\\\\\10.99.68.178\\\\andreex\\\\students\\\\Donald Monkey fetus\\\\stardist\\\\training_and_testing_monkey_12_7_23\\\\training\\\\images\\\\monkey_fetus_40_0642_bone2.tif',\n '\\\\\\\\10.99.68.178\\\\andreex\\\\students\\\\Donald Monkey fetus\\\\stardist\\\\training_and_testing_monkey_12_7_23\\\\training\\\\images\\\\monkey_fetus_40_0725_gonad.tif',\n '\\\\\\\\10.99.68.178\\\\andreex\\\\students\\\\Donald Monkey fetus\\\\stardist\\\\training_and_testing_monkey_12_7_23\\\\training\\\\images\\\\monkey_fetus_40_0730_kidney.tif']"
     },
     "execution_count": 6,
     "metadata": {},
     "output_type": "execute_result"
    }
   ],
   "source": [
    "training_HE_tiles_pths"
   ],
   "metadata": {
    "collapsed": false,
    "ExecuteTime": {
     "end_time": "2023-12-13T17:45:59.879801100Z",
     "start_time": "2023-12-13T17:45:59.866800900Z"
    }
   }
  },
  {
   "cell_type": "code",
   "execution_count": 7,
   "outputs": [
    {
     "name": "stdout",
     "output_type": "stream",
     "text": [
      "38\n",
      "38\n"
     ]
    }
   ],
   "source": [
    "print(len(training_HE_tiles_pths))\n",
    "print(len(training_mask_tiles_pths))"
   ],
   "metadata": {
    "collapsed": false,
    "ExecuteTime": {
     "end_time": "2023-12-13T17:45:59.925200200Z",
     "start_time": "2023-12-13T17:45:59.880800800Z"
    }
   }
  },
  {
   "cell_type": "code",
   "execution_count": 8,
   "outputs": [
    {
     "ename": "KeyboardInterrupt",
     "evalue": "",
     "output_type": "error",
     "traceback": [
      "\u001B[1;31m---------------------------------------------------------------------------\u001B[0m",
      "\u001B[1;31mKeyboardInterrupt\u001B[0m                         Traceback (most recent call last)",
      "\u001B[1;32m~\\AppData\\Local\\Temp\\ipykernel_70568\\3445481117.py\u001B[0m in \u001B[0;36m?\u001B[1;34m()\u001B[0m\n\u001B[1;32m----> 1\u001B[1;33m \u001B[0mHE_original_tiles\u001B[0m \u001B[1;33m=\u001B[0m \u001B[0mlist\u001B[0m\u001B[1;33m(\u001B[0m\u001B[0mmap\u001B[0m\u001B[1;33m(\u001B[0m\u001B[0mimread\u001B[0m\u001B[1;33m,\u001B[0m\u001B[0mtraining_HE_tiles_pths\u001B[0m\u001B[1;33m)\u001B[0m\u001B[1;33m)\u001B[0m\u001B[1;33m\u001B[0m\u001B[1;33m\u001B[0m\u001B[0m\n\u001B[0m\u001B[0;32m      2\u001B[0m \u001B[0mmask_original_tiles\u001B[0m \u001B[1;33m=\u001B[0m \u001B[0mlist\u001B[0m\u001B[1;33m(\u001B[0m\u001B[0mmap\u001B[0m\u001B[1;33m(\u001B[0m\u001B[0mimread\u001B[0m\u001B[1;33m,\u001B[0m\u001B[0mtraining_mask_tiles_pths\u001B[0m\u001B[1;33m)\u001B[0m\u001B[1;33m)\u001B[0m\u001B[1;33m\u001B[0m\u001B[1;33m\u001B[0m\u001B[0m\n",
      "\u001B[1;32m~\\anaconda3\\envs\\monkey_nuc_segment_v6\\lib\\site-packages\\tifffile\\tifffile.py\u001B[0m in \u001B[0;36m?\u001B[1;34m(files, selection, aszarr, key, series, level, squeeze, maxworkers, buffersize, mode, name, offset, size, pattern, axesorder, categories, imread, sort, container, chunkshape, dtype, axestiled, ioworkers, chunkmode, fillvalue, zattrs, multiscales, omexml, out, out_inplace, _multifile, _useframes, **kwargs)\u001B[0m\n\u001B[0;32m   1074\u001B[0m \u001B[1;33m\u001B[0m\u001B[0m\n\u001B[0;32m   1075\u001B[0m         if isinstance(files, str) or not isinstance(\n\u001B[0;32m   1076\u001B[0m             \u001B[0mfiles\u001B[0m\u001B[1;33m,\u001B[0m \u001B[0mcollections\u001B[0m\u001B[1;33m.\u001B[0m\u001B[0mabc\u001B[0m\u001B[1;33m.\u001B[0m\u001B[0mSequence\u001B[0m\u001B[1;33m\u001B[0m\u001B[1;33m\u001B[0m\u001B[0m\n\u001B[0;32m   1077\u001B[0m         ):\n\u001B[1;32m-> 1078\u001B[1;33m             with TiffFile(\n\u001B[0m\u001B[0;32m   1079\u001B[0m                 \u001B[0mfiles\u001B[0m\u001B[1;33m,\u001B[0m\u001B[1;33m\u001B[0m\u001B[1;33m\u001B[0m\u001B[0m\n\u001B[0;32m   1080\u001B[0m                 \u001B[0mmode\u001B[0m\u001B[1;33m=\u001B[0m\u001B[0mmode\u001B[0m\u001B[1;33m,\u001B[0m\u001B[1;33m\u001B[0m\u001B[1;33m\u001B[0m\u001B[0m\n\u001B[0;32m   1081\u001B[0m                 \u001B[0mname\u001B[0m\u001B[1;33m=\u001B[0m\u001B[0mname\u001B[0m\u001B[1;33m,\u001B[0m\u001B[1;33m\u001B[0m\u001B[1;33m\u001B[0m\u001B[0m\n",
      "\u001B[1;32m~\\anaconda3\\envs\\monkey_nuc_segment_v6\\lib\\site-packages\\tifffile\\tifffile.py\u001B[0m in \u001B[0;36m?\u001B[1;34m(self, file, mode, name, offset, size, omexml, _multifile, _useframes, _parent, **is_flags)\u001B[0m\n\u001B[0;32m   4070\u001B[0m                 \u001B[1;32mraise\u001B[0m \u001B[0mValueError\u001B[0m\u001B[1;33m(\u001B[0m\u001B[1;34m'invalid OME-XML'\u001B[0m\u001B[1;33m)\u001B[0m\u001B[1;33m\u001B[0m\u001B[1;33m\u001B[0m\u001B[0m\n\u001B[0;32m   4071\u001B[0m             \u001B[0mself\u001B[0m\u001B[1;33m.\u001B[0m\u001B[0m_omexml\u001B[0m \u001B[1;33m=\u001B[0m \u001B[0momexml\u001B[0m\u001B[1;33m\u001B[0m\u001B[1;33m\u001B[0m\u001B[0m\n\u001B[0;32m   4072\u001B[0m             \u001B[0mself\u001B[0m\u001B[1;33m.\u001B[0m\u001B[0mis_ome\u001B[0m \u001B[1;33m=\u001B[0m \u001B[1;32mTrue\u001B[0m\u001B[1;33m\u001B[0m\u001B[1;33m\u001B[0m\u001B[0m\n\u001B[0;32m   4073\u001B[0m \u001B[1;33m\u001B[0m\u001B[0m\n\u001B[1;32m-> 4074\u001B[1;33m         \u001B[0mfh\u001B[0m \u001B[1;33m=\u001B[0m \u001B[0mFileHandle\u001B[0m\u001B[1;33m(\u001B[0m\u001B[0mfile\u001B[0m\u001B[1;33m,\u001B[0m \u001B[0mmode\u001B[0m\u001B[1;33m=\u001B[0m\u001B[0mmode\u001B[0m\u001B[1;33m,\u001B[0m \u001B[0mname\u001B[0m\u001B[1;33m=\u001B[0m\u001B[0mname\u001B[0m\u001B[1;33m,\u001B[0m \u001B[0moffset\u001B[0m\u001B[1;33m=\u001B[0m\u001B[0moffset\u001B[0m\u001B[1;33m,\u001B[0m \u001B[0msize\u001B[0m\u001B[1;33m=\u001B[0m\u001B[0msize\u001B[0m\u001B[1;33m)\u001B[0m\u001B[1;33m\u001B[0m\u001B[1;33m\u001B[0m\u001B[0m\n\u001B[0m\u001B[0;32m   4075\u001B[0m         \u001B[0mself\u001B[0m\u001B[1;33m.\u001B[0m\u001B[0m_fh\u001B[0m \u001B[1;33m=\u001B[0m \u001B[0mfh\u001B[0m\u001B[1;33m\u001B[0m\u001B[1;33m\u001B[0m\u001B[0m\n\u001B[0;32m   4076\u001B[0m         \u001B[0mself\u001B[0m\u001B[1;33m.\u001B[0m\u001B[0m_multifile\u001B[0m \u001B[1;33m=\u001B[0m \u001B[1;32mTrue\u001B[0m \u001B[1;32mif\u001B[0m \u001B[0m_multifile\u001B[0m \u001B[1;32mis\u001B[0m \u001B[1;32mNone\u001B[0m \u001B[1;32melse\u001B[0m \u001B[0mbool\u001B[0m\u001B[1;33m(\u001B[0m\u001B[0m_multifile\u001B[0m\u001B[1;33m)\u001B[0m\u001B[1;33m\u001B[0m\u001B[1;33m\u001B[0m\u001B[0m\n\u001B[0;32m   4077\u001B[0m         \u001B[0mself\u001B[0m\u001B[1;33m.\u001B[0m\u001B[0m_files\u001B[0m \u001B[1;33m=\u001B[0m \u001B[1;33m{\u001B[0m\u001B[0mfh\u001B[0m\u001B[1;33m.\u001B[0m\u001B[0mname\u001B[0m\u001B[1;33m:\u001B[0m \u001B[0mself\u001B[0m\u001B[1;33m}\u001B[0m\u001B[1;33m\u001B[0m\u001B[1;33m\u001B[0m\u001B[0m\n",
      "\u001B[1;32m~\\anaconda3\\envs\\monkey_nuc_segment_v6\\lib\\site-packages\\tifffile\\tifffile.py\u001B[0m in \u001B[0;36m?\u001B[1;34m(self, file, mode, name, offset, size)\u001B[0m\n\u001B[0;32m  14210\u001B[0m         \u001B[0mself\u001B[0m\u001B[1;33m.\u001B[0m\u001B[0m_offset\u001B[0m \u001B[1;33m=\u001B[0m \u001B[1;33m-\u001B[0m\u001B[1;36m1\u001B[0m \u001B[1;32mif\u001B[0m \u001B[0moffset\u001B[0m \u001B[1;32mis\u001B[0m \u001B[1;32mNone\u001B[0m \u001B[1;32melse\u001B[0m \u001B[0moffset\u001B[0m\u001B[1;33m\u001B[0m\u001B[1;33m\u001B[0m\u001B[0m\n\u001B[0;32m  14211\u001B[0m         \u001B[0mself\u001B[0m\u001B[1;33m.\u001B[0m\u001B[0m_size\u001B[0m \u001B[1;33m=\u001B[0m \u001B[1;33m-\u001B[0m\u001B[1;36m1\u001B[0m \u001B[1;32mif\u001B[0m \u001B[0msize\u001B[0m \u001B[1;32mis\u001B[0m \u001B[1;32mNone\u001B[0m \u001B[1;32melse\u001B[0m \u001B[0msize\u001B[0m\u001B[1;33m\u001B[0m\u001B[1;33m\u001B[0m\u001B[0m\n\u001B[0;32m  14212\u001B[0m         \u001B[0mself\u001B[0m\u001B[1;33m.\u001B[0m\u001B[0m_close\u001B[0m \u001B[1;33m=\u001B[0m \u001B[1;32mTrue\u001B[0m\u001B[1;33m\u001B[0m\u001B[1;33m\u001B[0m\u001B[0m\n\u001B[0;32m  14213\u001B[0m         \u001B[0mself\u001B[0m\u001B[1;33m.\u001B[0m\u001B[0m_lock\u001B[0m \u001B[1;33m=\u001B[0m \u001B[0mNullContext\u001B[0m\u001B[1;33m(\u001B[0m\u001B[1;33m)\u001B[0m\u001B[1;33m\u001B[0m\u001B[1;33m\u001B[0m\u001B[0m\n\u001B[1;32m> 14214\u001B[1;33m         \u001B[0mself\u001B[0m\u001B[1;33m.\u001B[0m\u001B[0mopen\u001B[0m\u001B[1;33m(\u001B[0m\u001B[1;33m)\u001B[0m\u001B[1;33m\u001B[0m\u001B[1;33m\u001B[0m\u001B[0m\n\u001B[0m\u001B[0;32m  14215\u001B[0m         \u001B[1;32massert\u001B[0m \u001B[0mself\u001B[0m\u001B[1;33m.\u001B[0m\u001B[0m_fh\u001B[0m \u001B[1;32mis\u001B[0m \u001B[1;32mnot\u001B[0m \u001B[1;32mNone\u001B[0m\u001B[1;33m\u001B[0m\u001B[1;33m\u001B[0m\u001B[0m\n",
      "\u001B[1;32m~\\anaconda3\\envs\\monkey_nuc_segment_v6\\lib\\site-packages\\tifffile\\tifffile.py\u001B[0m in \u001B[0;36m?\u001B[1;34m(self)\u001B[0m\n\u001B[0;32m  14229\u001B[0m             \u001B[1;32mif\u001B[0m \u001B[0mself\u001B[0m\u001B[1;33m.\u001B[0m\u001B[0m_mode\u001B[0m \u001B[1;32mnot\u001B[0m \u001B[1;32min\u001B[0m \u001B[1;33m{\u001B[0m\u001B[1;34m'rb'\u001B[0m\u001B[1;33m,\u001B[0m \u001B[1;34m'r+b'\u001B[0m\u001B[1;33m,\u001B[0m \u001B[1;34m'wb'\u001B[0m\u001B[1;33m,\u001B[0m \u001B[1;34m'xb'\u001B[0m\u001B[1;33m}\u001B[0m\u001B[1;33m:\u001B[0m\u001B[1;33m\u001B[0m\u001B[1;33m\u001B[0m\u001B[0m\n\u001B[0;32m  14230\u001B[0m                 \u001B[1;32mraise\u001B[0m \u001B[0mValueError\u001B[0m\u001B[1;33m(\u001B[0m\u001B[1;34mf'invalid mode {self._mode}'\u001B[0m\u001B[1;33m)\u001B[0m\u001B[1;33m\u001B[0m\u001B[1;33m\u001B[0m\u001B[0m\n\u001B[0;32m  14231\u001B[0m             \u001B[0mself\u001B[0m\u001B[1;33m.\u001B[0m\u001B[0m_file\u001B[0m \u001B[1;33m=\u001B[0m \u001B[0mos\u001B[0m\u001B[1;33m.\u001B[0m\u001B[0mpath\u001B[0m\u001B[1;33m.\u001B[0m\u001B[0mrealpath\u001B[0m\u001B[1;33m(\u001B[0m\u001B[0mself\u001B[0m\u001B[1;33m.\u001B[0m\u001B[0m_file\u001B[0m\u001B[1;33m)\u001B[0m\u001B[1;33m\u001B[0m\u001B[1;33m\u001B[0m\u001B[0m\n\u001B[0;32m  14232\u001B[0m             \u001B[0mself\u001B[0m\u001B[1;33m.\u001B[0m\u001B[0m_dir\u001B[0m\u001B[1;33m,\u001B[0m \u001B[0mself\u001B[0m\u001B[1;33m.\u001B[0m\u001B[0m_name\u001B[0m \u001B[1;33m=\u001B[0m \u001B[0mos\u001B[0m\u001B[1;33m.\u001B[0m\u001B[0mpath\u001B[0m\u001B[1;33m.\u001B[0m\u001B[0msplit\u001B[0m\u001B[1;33m(\u001B[0m\u001B[0mself\u001B[0m\u001B[1;33m.\u001B[0m\u001B[0m_file\u001B[0m\u001B[1;33m)\u001B[0m\u001B[1;33m\u001B[0m\u001B[1;33m\u001B[0m\u001B[0m\n\u001B[1;32m> 14233\u001B[1;33m             self._fh = open(\n\u001B[0m\u001B[0;32m  14234\u001B[0m                 \u001B[0mself\u001B[0m\u001B[1;33m.\u001B[0m\u001B[0m_file\u001B[0m\u001B[1;33m,\u001B[0m \u001B[0mself\u001B[0m\u001B[1;33m.\u001B[0m\u001B[0m_mode\u001B[0m\u001B[1;33m,\u001B[0m \u001B[0mencoding\u001B[0m\u001B[1;33m=\u001B[0m\u001B[1;32mNone\u001B[0m\u001B[1;33m\u001B[0m\u001B[1;33m\u001B[0m\u001B[0m\n\u001B[0;32m  14235\u001B[0m             )  # type: ignore\n\u001B[0;32m  14236\u001B[0m             \u001B[0mself\u001B[0m\u001B[1;33m.\u001B[0m\u001B[0m_close\u001B[0m \u001B[1;33m=\u001B[0m \u001B[1;32mTrue\u001B[0m\u001B[1;33m\u001B[0m\u001B[1;33m\u001B[0m\u001B[0m\n",
      "\u001B[1;31mKeyboardInterrupt\u001B[0m: "
     ]
    }
   ],
   "source": [
    "HE_original_tiles = list(map(imread,training_HE_tiles_pths))\n",
    "mask_original_tiles = list(map(imread,training_mask_tiles_pths))"
   ],
   "metadata": {
    "collapsed": false,
    "ExecuteTime": {
     "end_time": "2023-12-13T17:46:01.699915500Z",
     "start_time": "2023-12-13T17:45:59.896193Z"
    }
   }
  },
  {
   "cell_type": "code",
   "execution_count": null,
   "outputs": [],
   "source": [
    "import random\n",
    "\n",
    "size_total = len(training_HE_tiles_pths)\n",
    "print(f'Size total: {size_total}')\n",
    "\n",
    "val_ratio = 0.3\n",
    "num_indices = int(size_total * val_ratio)\n",
    "\n",
    "print(f'Size Training: {size_total - num_indices}')\n",
    "print(f'Size Validation: {num_indices}')"
   ],
   "metadata": {
    "collapsed": false
   }
  },
  {
   "cell_type": "code",
   "execution_count": null,
   "outputs": [],
   "source": [
    "val_indices = sorted(random.sample(range(size_total), num_indices))\n",
    "train_indices = sorted(list(set(range(size_total)) - set(val_indices)))\n",
    "\n",
    "print(val_indices)\n",
    "print(train_indices)"
   ],
   "metadata": {
    "collapsed": false
   }
  },
  {
   "cell_type": "code",
   "execution_count": null,
   "outputs": [],
   "source": [
    "training_tiles = [HE_original_tiles[i] for i in train_indices]\n",
    "training_masks = [mask_original_tiles[i] for i in train_indices]\n",
    "\n",
    "val_tiles = [HE_original_tiles[i] for i in val_indices]\n",
    "val_masks = [mask_original_tiles[i] for i in val_indices]\n",
    "\n",
    "print(len(training_tiles))\n",
    "print(len(training_masks))\n",
    "\n",
    "print(len(val_tiles))\n",
    "print(len(val_masks))"
   ],
   "metadata": {
    "collapsed": false
   }
  },
  {
   "cell_type": "code",
   "execution_count": null,
   "outputs": [],
   "source": [
    "def augment_images(HE_tiles, mask_tiles):\n",
    "  \"\"\"\n",
    "  Augments a set of HE images and corresponding mask labels by rotating and flipping them.\n",
    "\n",
    "  Args:\n",
    "    HE_tiles: A list of NumPy arrays representing the HE images.\n",
    "    mask_tiles: A list of NumPy arrays representing the mask labels for the HE images.\n",
    "\n",
    "  Returns:\n",
    "    HE_aug: A list of NumPy arrays representing the augmented HE images.\n",
    "    mask_aug: A list of NumPy arrays representing the augmented mask labels.\n",
    "  \"\"\"\n",
    "\n",
    "  HE_aug = [[] for _ in range(len(HE_tiles))]\n",
    "  mask_aug = [[] for _ in range(len(mask_tiles))]\n",
    "\n",
    "  for i in range(len(HE_tiles)):\n",
    "    im = Image.fromarray(HE_tiles[i])\n",
    "    lbl = Image.fromarray(mask_tiles[i])\n",
    "\n",
    "    # Rotate the image and label 90 degrees three times.\n",
    "    for _ in range(3):\n",
    "      im = im.rotate(90)\n",
    "      HE_aug[i].append(im)\n",
    "      lbl = lbl.rotate(90)\n",
    "      mask_aug[i].append(lbl)\n",
    "\n",
    "    # Flip the image and label horizontally.\n",
    "    im = Image.fromarray(HE_tiles[i])\n",
    "    flipped_im = im.transpose(Image.FLIP_LEFT_RIGHT)\n",
    "\n",
    "    lbl = Image.fromarray(mask_tiles[i])\n",
    "    flipped_lbl = lbl.transpose(Image.FLIP_LEFT_RIGHT)\n",
    "\n",
    "    HE_aug[i].append(flipped_im)\n",
    "    mask_aug[i].append(flipped_lbl)\n",
    "\n",
    "    # Rotate the flipped image and label 90 degrees three times.\n",
    "    for _ in range(3):\n",
    "      flipped_im = flipped_im.rotate(90)\n",
    "      HE_aug[i].append(flipped_im)\n",
    "      flipped_lbl = flipped_lbl.rotate(90)\n",
    "      mask_aug[i].append(flipped_lbl)\n",
    "\n",
    "  return HE_aug, mask_aug"
   ],
   "metadata": {
    "collapsed": false
   },
   "id": "5175353a76db873d"
  },
  {
   "cell_type": "code",
   "execution_count": null,
   "outputs": [],
   "source": [
    "HE_aug, mask_aug = augment_images(training_tiles, training_masks)"
   ],
   "metadata": {
    "collapsed": false
   },
   "id": "13cd6cc494f07f8d"
  },
  {
   "cell_type": "code",
   "execution_count": null,
   "outputs": [],
   "source": [
    "print(len(training_tiles))"
   ],
   "metadata": {
    "collapsed": false
   }
  },
  {
   "cell_type": "code",
   "execution_count": null,
   "outputs": [],
   "source": [
    "print(len(HE_aug)*(len(HE_aug[0])))\n",
    "print(len(mask_aug)*(len(mask_aug[0])))"
   ],
   "metadata": {
    "collapsed": false
   }
  },
  {
   "cell_type": "code",
   "execution_count": null,
   "outputs": [],
   "source": [
    "def normalize_images(images, masks):\n",
    "  \n",
    "  normalized_masks = [[] for i in range(len(masks))]\n",
    "  normalized_images = [[] for i in range(len(images))]\n",
    "  \n",
    "  for i in range(len(masks)):\n",
    "      masks_list = masks[i]\n",
    "      images_list = images[i]\n",
    "      \n",
    "      for j in range(len(images_list)):\n",
    "          im = images_list[j]\n",
    "          im = np.asarray(im)\n",
    "          im = im/255\n",
    "          normalized_images[i].append(im)\n",
    "      \n",
    "      for j in range(len(masks_list)):\n",
    "          im = masks_list[j]\n",
    "          im = np.asarray(im)\n",
    "          im = fill_label_holes(im)\n",
    "          normalized_masks[i].append(im)\n",
    "          \n",
    "  return normalized_images, normalized_masks"
   ],
   "metadata": {
    "collapsed": false
   },
   "id": "eced3c0337d92589"
  },
  {
   "cell_type": "code",
   "execution_count": null,
   "outputs": [],
   "source": [
    "print(len(HE_aug))\n",
    "print(len(HE_aug[0]))"
   ],
   "metadata": {
    "collapsed": false
   }
  },
  {
   "cell_type": "code",
   "execution_count": null,
   "outputs": [],
   "source": [
    "HE_trn = [im for im in training_tiles]\n",
    "for im_list in HE_aug:\n",
    "    for im in im_list:\n",
    "        HE_trn.append(np.array(im))\n",
    "\n",
    "mask_trn = [im for im in training_masks]\n",
    "for im_list in mask_aug:\n",
    "    for im in im_list:\n",
    "        mask_trn.append(np.array(im))\n",
    "\n",
    "HE_trn = [im/255 for im in HE_trn]\n",
    "\n",
    "print(len(HE_trn))\n",
    "print(len(mask_trn))"
   ],
   "metadata": {
    "collapsed": false
   }
  },
  {
   "cell_type": "code",
   "execution_count": null,
   "outputs": [],
   "source": [
    "# divide val tiles by 255 also\n",
    "val_tiles = [im/255 for im in val_tiles]"
   ],
   "metadata": {
    "collapsed": false
   }
  },
  {
   "cell_type": "code",
   "execution_count": null,
   "outputs": [],
   "source": [
    "print(f'training images: {len(HE_trn)}')\n",
    "print(f'training masks: {len(mask_trn)}')\n",
    "\n",
    "print(f'validation masks: {len(val_tiles)}')\n",
    "print(f'validation masks: {len(val_masks)}')"
   ],
   "metadata": {
    "collapsed": false
   },
   "id": "34bd10944d8ea8a6"
  },
  {
   "cell_type": "code",
   "execution_count": null,
   "outputs": [],
   "source": [
    "#PLot image and label for some images - sanity check\n",
    "def show_tile_segmented(tile, segmented, **kwargs):\n",
    "    \"\"\"Plot large image at different resolutions.\"\"\"\n",
    "    fig, ax = plt.subplots(1, 2, figsize=(16/2, 8/2))\n",
    "\n",
    "    # Plot the original image on the left\n",
    "    ax[0].imshow(tile, **kwargs)\n",
    "\n",
    "    # Plot the cropped image on the right\n",
    "    ax[1].imshow(segmented, **kwargs)\n",
    "\n",
    "    ax[0].axis('off')\n",
    "    ax[1].axis('off')\n",
    "\n",
    "    plt.tight_layout()\n",
    "    plt.show()"
   ],
   "metadata": {
    "collapsed": false
   },
   "id": "a23b87d5044aa34e"
  },
  {
   "cell_type": "code",
   "execution_count": null,
   "outputs": [],
   "source": [
    "i = 0"
   ],
   "metadata": {
    "collapsed": false
   }
  },
  {
   "cell_type": "code",
   "execution_count": null,
   "outputs": [],
   "source": [
    "i"
   ],
   "metadata": {
    "collapsed": false
   }
  },
  {
   "cell_type": "code",
   "execution_count": null,
   "outputs": [],
   "source": [
    "i += 1\n",
    "\n",
    "img, lbl = val_tiles[i], val_masks[i]\n",
    "assert img.ndim in (2,3)\n",
    "img = img if (img.ndim==2 or img.shape[-1]==3) else img[...,0]\n",
    "show_tile_segmented(img,lbl)"
   ],
   "metadata": {
    "collapsed": false
   },
   "id": "6fff128f9f94183c"
  },
  {
   "cell_type": "code",
   "execution_count": null,
   "outputs": [],
   "source": [
    "i += 10\n",
    "\n",
    "img, lbl = HE_trn[i], mask_trn[i]\n",
    "assert img.ndim in (2,3)\n",
    "img = img if (img.ndim==2 or img.shape[-1]==3) else img[...,0]\n",
    "show_tile_segmented(img,lbl)"
   ],
   "metadata": {
    "collapsed": false
   }
  },
  {
   "cell_type": "code",
   "execution_count": null,
   "outputs": [],
   "source": [
    "if tf.config.list_physical_devices('GPU'):\n",
    "    print(\"GPU is available\")\n",
    "else:\n",
    "    print(\"GPU is not available\")\n",
    "    \n",
    "print(tf.__version__)\n",
    "\n",
    "#Define the config by setting some parameter values\n",
    "# 32 is a good default choice (see 1_data.ipynb)\n",
    "n_rays = 32  #Number of radial directions for the star-convex polygon.\n",
    "\n",
    "# Use OpenCL-based computations for data generator during training (requires 'gputools')\n",
    "use_gpu = True and gputools_available()\n",
    "\n",
    "# Predict on subsampled grid for increased efficiency and larger field of view\n",
    "grid = (2,2)\n",
    "\n",
    "n_channel = 1 if HE_trn[0].ndim == 2 else HE_trn[0].shape[-1]  #If no third dim. then number of channels = 1. Otherwise get the num channels from the last dim.\n",
    "\n",
    "\n",
    "conf = Config2D (\n",
    "    n_rays       = n_rays,\n",
    "    grid         = grid,\n",
    "    use_gpu      = use_gpu,\n",
    "    n_channel_in = n_channel,\n",
    ")\n",
    "# print(conf)\n",
    "vars(conf)"
   ],
   "metadata": {
    "collapsed": false
   },
   "id": "c12d3d3beb3b7a75"
  },
  {
   "cell_type": "code",
   "execution_count": null,
   "outputs": [],
   "source": [
    "#Start from 40x H&E pre-trained model to the specified directory\n",
    "import copy\n",
    "import json\n",
    "\n",
    "def load_justin_model(folder_to_write_new_model_folder: str, name_for_new_model: str) -> StarDist2D:\n",
    "    published_model = load_model(r'\\\\10.99.68.178\\andreex\\students\\Donald Monkey fetus\\stardist\\Model_00')\n",
    "    original_thresholds = copy.copy({'prob': published_model.thresholds[0], 'nms': published_model.thresholds[1]})\n",
    "    configuration = Config2D(n_channel_in=3, grid=(2,2), use_gpu=True, train_patch_size=[256, 256])\n",
    "    model = StarDist2D(config=configuration, basedir=folder_to_write_new_model_folder, name=name_for_new_model)\n",
    "    model.keras_model.set_weights(published_model.keras_model.get_weights())\n",
    "    model.thresholds = original_thresholds\n",
    "    return model\n",
    "\n",
    "def load_published_he_model(folder_to_write_new_model_folder: str, name_for_new_model: str) -> StarDist2D:\n",
    "    published_model = StarDist2D.from_pretrained('2D_versatile_he')\n",
    "    original_thresholds = copy.copy({'prob': published_model.thresholds[0], 'nms': published_model.thresholds[1]})\n",
    "    configuration = Config2D(n_channel_in=3, grid=(2,2), use_gpu=True, train_patch_size=[256, 256])\n",
    "    model = StarDist2D(config=configuration, basedir=folder_to_write_new_model_folder, name=name_for_new_model)\n",
    "    model.keras_model.set_weights(published_model.keras_model.get_weights())\n",
    "    model.thresholds = original_thresholds\n",
    "    return model\n",
    "\n",
    "def load_model(model_path: str) -> StarDist2D:\n",
    "    # Load StarDist model weights, configurations, and thresholds\n",
    "    with open(model_path + '\\\\config.json', 'r') as f:\n",
    "        config = json.load(f)\n",
    "    with open(model_path + '\\\\thresholds.json', 'r') as f:\n",
    "        thresh = json.load(f)\n",
    "    model = StarDist2D(config=Config2D(**config), basedir=model_path, name='offshoot_model')\n",
    "    model.thresholds = thresh\n",
    "    print('Overriding defaults:', model.thresholds, '\\n')\n",
    "    model.load_weights(model_path + '\\\\weights_best.h5')\n",
    "    return model\n",
    "\n",
    "def configure_model_for_training(model: StarDist2D,\n",
    "                                 epochs: int = 25, learning_rate: float = 1e-6,\n",
    "                                 batch_size: int = 4, patch_size: list[int,int] = [256, 256]) -> StarDist2D:\n",
    "    model.config.train_epochs = epochs\n",
    "    model.config.train_learning_rate = learning_rate\n",
    "    model.config.train_batch_size = batch_size\n",
    "    model.config.train_patch_size = patch_size\n",
    "    return model"
   ],
   "metadata": {
    "collapsed": false
   },
   "id": "8817b7a4ccb4a301"
  },
  {
   "cell_type": "code",
   "execution_count": null,
   "outputs": [],
   "source": [
    "from tensorflow.python.summary.summary_iterator import summary_iterator\n",
    "\n",
    "def get_loss_data(pth_training_log, pth_out) -> list:\n",
    "\n",
    "    # event_file = r\"\\\\10.99.68.178\\andreex\\data\\Stardist\\models\\monkey_ft_11_02_2023_lr_1e-4_epochs_200_pt_10\\logs\\train\\events.out.tfevents.1698964029.WPC-C13.20400.7.v2\"\n",
    "\n",
    "    loss_values = []\n",
    "\n",
    "    for summary in summary_iterator(pth_training_log):\n",
    "        for value in summary.summary.value:\n",
    "            if value.tag == 'epoch_loss':\n",
    "                loss = struct.unpack('f', value.tensor.tensor_content)[0]\n",
    "                loss_values.append(loss)\n",
    "\n",
    "    out_txt_name = f\"{pth_out}\\loss.txt\"\n",
    "\n",
    "    with open(out_txt_name, 'w') as f:\n",
    "        f.write('\\n'.join(map(str, loss_values)) + '\\n')\n",
    "\n",
    "    return loss_values"
   ],
   "metadata": {
    "collapsed": false
   }
  },
  {
   "cell_type": "code",
   "execution_count": null,
   "outputs": [],
   "source": [
    "lr = 0.001\n",
    "epochs = 200\n",
    "patience = 40\n",
    "\n",
    "nm='monkey_add_fallopian_test'\n",
    "dt='_12_7_23'\n",
    "outnm = nm + dt + '_lr_' + str(lr) + '_epochs_' + str(epochs) + '_pt_' + str(patience)\n",
    "print(outnm)"
   ],
   "metadata": {
    "collapsed": false
   }
  },
  {
   "cell_type": "code",
   "execution_count": null,
   "outputs": [],
   "source": [
    "print(fr\"{pthmodels}\\{outnm}\\logs\\train\")"
   ],
   "metadata": {
    "collapsed": false
   }
  },
  {
   "cell_type": "code",
   "execution_count": null,
   "outputs": [],
   "source": [
    "model = load_published_he_model(pthmodels, outnm)\n",
    "model.config.train_learning_rate = lr\n",
    "model.config.train_patch_size = (256,256)\n",
    "model.config.train_reduce_lr={'factor': 0.5, 'patience': patience, 'min_delta': 0}\n",
    "model.train(HE_trn, mask_trn, validation_data=(val_tiles,val_masks), epochs=epochs, steps_per_epoch=100)\n",
    "model.optimize_thresholds(val_tiles, val_masks)\n",
    "\n",
    "pth_log_train = fr\"{pthmodels}\\{outnm}\\logs\\train\"\n",
    "if not os.path.exists(pth_log_train): os.mkdir(pth_log_train)\n",
    "\n",
    "pth_log = glob(os.path.join(pth_log_train,'*.v2'))[0]\n",
    "loss = get_loss_data(str(pth_log), pth_log_train)"
   ],
   "metadata": {
    "collapsed": false
   }
  },
  {
   "cell_type": "code",
   "execution_count": null,
   "outputs": [],
   "source": [
    "pthHE= fr'\\\\10.99.68.178\\andreex\\data\\Stardist\\Testing\\monkey\\tiles'\n",
    "pthmasks= fr'\\\\10.99.68.178\\andreex\\data\\Stardist\\Testing\\monkey\\qupath\\ground_truth\\masks'\n",
    "\n",
    "HE_tiles_pths = sorted(glob(os.path.join(pthHE,'*.tif')))\n",
    "mask_tiles_pths = sorted(glob(os.path.join(pthmasks,'*.tif')))\n",
    "\n",
    "HE_tiles_val = list(map(imread,HE_tiles_pths))\n",
    "mask_tiles_val = list(map(imread,mask_tiles_pths))\n",
    "\n",
    "HE_tiles_val = [x/255 for x in HE_tiles_val]  # just divide by 255 to get into (0,1) range\n",
    "mask_tiles_val = [fill_label_holes(y) for y in mask_tiles_val]  # fills holes in annotations if there are any"
   ],
   "metadata": {
    "collapsed": false
   }
  },
  {
   "cell_type": "code",
   "execution_count": null,
   "outputs": [],
   "source": [
    "#Predict on validation images\n",
    "mask_val_pred = [model.predict_instances(x, n_tiles=model._guess_n_tiles(x), show_tile_progress=False)[0]\n",
    "              for x in tqdm(HE_tiles_val)]"
   ],
   "metadata": {
    "collapsed": false
   },
   "id": "80ae259b7d124f20"
  },
  {
   "cell_type": "code",
   "execution_count": null,
   "outputs": [],
   "source": [
    "X_val = HE_tiles_val\n",
    "Y_val_pred = mask_val_pred\n",
    "Y_val = mask_tiles_val\n",
    "\n",
    "ind = 3\n",
    "\n",
    "cropped_img = X_val[ind]\n",
    "cropped_lbl = Y_val_pred[ind]\n",
    "cropped_lbl_gt = Y_val[ind]\n",
    "\n",
    "fig, ax = plt.subplots(1,3,figsize = (16, 8))\n",
    "ax[0].imshow(cropped_img)\n",
    "ax[0].axis('off')\n",
    "ax[0].set_title('H&E')\n",
    "\n",
    "ax[1].imshow(cropped_img)\n",
    "ax[1].imshow(cropped_lbl_gt, cmap=lbl_cmap, alpha=0.5)\n",
    "ax[1].axis('off')\n",
    "ax[1].set_title('Ground Truth')\n",
    "\n",
    "ax[2].imshow(cropped_img)\n",
    "ax[2].imshow(cropped_lbl, cmap=lbl_cmap, alpha=0.5)\n",
    "ax[2].axis('off')\n",
    "ax[2].set_title('Predicted')\n",
    "plt.show()"
   ],
   "metadata": {
    "collapsed": false
   },
   "id": "389a30258bd894d3"
  },
  {
   "cell_type": "code",
   "execution_count": null,
   "outputs": [],
   "source": [],
   "metadata": {
    "collapsed": false
   }
  }
 ],
 "metadata": {
  "kernelspec": {
   "display_name": "Python 3",
   "language": "python",
   "name": "python3"
  },
  "language_info": {
   "codemirror_mode": {
    "name": "ipython",
    "version": 2
   },
   "file_extension": ".py",
   "mimetype": "text/x-python",
   "name": "python",
   "nbconvert_exporter": "python",
   "pygments_lexer": "ipython2",
   "version": "2.7.6"
  }
 },
 "nbformat": 4,
 "nbformat_minor": 5
}
