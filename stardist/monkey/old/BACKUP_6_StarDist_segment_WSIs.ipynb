{
 "cells": [
  {
   "cell_type": "markdown",
   "metadata": {
    "id": "C_I2jyQBsea7"
   },
   "source": [
    "**Nuclei segmentation in whole slide H&E images**\n",
    "\n",
    "using custom model."
   ]
  },
  {
   "cell_type": "code",
   "execution_count": 1,
   "metadata": {
    "id": "gykQyKIgf78K",
    "ExecuteTime": {
     "end_time": "2023-12-06T17:21:02.613107900Z",
     "start_time": "2023-12-06T17:21:00.915629700Z"
    }
   },
   "outputs": [],
   "source": [
    "import numpy as np\n",
    "import matplotlib.pyplot as plt\n",
    "\n",
    "from tifffile import imread, imwrite\n",
    "from csbdeep.utils import Path, normalize\n",
    "from csbdeep.utils.tf import keras_import\n",
    "keras = keras_import()\n",
    "\n",
    "from stardist import export_imagej_rois, random_label_cmap\n",
    "from stardist.models import StarDist2D\n",
    "\n",
    "np.random.seed(0)\n",
    "cmap = random_label_cmap()"
   ]
  },
  {
   "cell_type": "code",
   "execution_count": 2,
   "outputs": [],
   "source": [
    "import os\n",
    "from glob import glob\n",
    "\n",
    "# CHANGE PATH\n",
    "\n",
    "pth = r'\\\\10.99.68.178\\andreex\\data\\monkey fetus\\gestational 40'  # path of ndpi files\n",
    "WSIs = sorted(glob(f'{pth}\\*.ndpi'))"
   ],
   "metadata": {
    "collapsed": false,
    "ExecuteTime": {
     "end_time": "2023-12-06T17:21:02.834107Z",
     "start_time": "2023-12-06T17:21:02.612109300Z"
    }
   }
  },
  {
   "cell_type": "code",
   "execution_count": 3,
   "outputs": [
    {
     "data": {
      "text/plain": "['\\\\\\\\10.99.68.178\\\\andreex\\\\data\\\\monkey fetus\\\\gestational 40\\\\monkey_fetus_40_0001.ndpi',\n '\\\\\\\\10.99.68.178\\\\andreex\\\\data\\\\monkey fetus\\\\gestational 40\\\\monkey_fetus_40_0002.ndpi',\n '\\\\\\\\10.99.68.178\\\\andreex\\\\data\\\\monkey fetus\\\\gestational 40\\\\monkey_fetus_40_0003.ndpi',\n '\\\\\\\\10.99.68.178\\\\andreex\\\\data\\\\monkey fetus\\\\gestational 40\\\\monkey_fetus_40_0004.ndpi',\n '\\\\\\\\10.99.68.178\\\\andreex\\\\data\\\\monkey fetus\\\\gestational 40\\\\monkey_fetus_40_0005.ndpi',\n '\\\\\\\\10.99.68.178\\\\andreex\\\\data\\\\monkey fetus\\\\gestational 40\\\\monkey_fetus_40_0006.ndpi',\n '\\\\\\\\10.99.68.178\\\\andreex\\\\data\\\\monkey fetus\\\\gestational 40\\\\monkey_fetus_40_0007.ndpi',\n '\\\\\\\\10.99.68.178\\\\andreex\\\\data\\\\monkey fetus\\\\gestational 40\\\\monkey_fetus_40_0008.ndpi',\n '\\\\\\\\10.99.68.178\\\\andreex\\\\data\\\\monkey fetus\\\\gestational 40\\\\monkey_fetus_40_0009.ndpi',\n '\\\\\\\\10.99.68.178\\\\andreex\\\\data\\\\monkey fetus\\\\gestational 40\\\\monkey_fetus_40_0010.ndpi',\n '\\\\\\\\10.99.68.178\\\\andreex\\\\data\\\\monkey fetus\\\\gestational 40\\\\monkey_fetus_40_0011.ndpi',\n '\\\\\\\\10.99.68.178\\\\andreex\\\\data\\\\monkey fetus\\\\gestational 40\\\\monkey_fetus_40_0012.ndpi',\n '\\\\\\\\10.99.68.178\\\\andreex\\\\data\\\\monkey fetus\\\\gestational 40\\\\monkey_fetus_40_0013.ndpi',\n '\\\\\\\\10.99.68.178\\\\andreex\\\\data\\\\monkey fetus\\\\gestational 40\\\\monkey_fetus_40_0014.ndpi',\n '\\\\\\\\10.99.68.178\\\\andreex\\\\data\\\\monkey fetus\\\\gestational 40\\\\monkey_fetus_40_0015.ndpi',\n '\\\\\\\\10.99.68.178\\\\andreex\\\\data\\\\monkey fetus\\\\gestational 40\\\\monkey_fetus_40_0016.ndpi',\n '\\\\\\\\10.99.68.178\\\\andreex\\\\data\\\\monkey fetus\\\\gestational 40\\\\monkey_fetus_40_0017.ndpi',\n '\\\\\\\\10.99.68.178\\\\andreex\\\\data\\\\monkey fetus\\\\gestational 40\\\\monkey_fetus_40_0018.ndpi',\n '\\\\\\\\10.99.68.178\\\\andreex\\\\data\\\\monkey fetus\\\\gestational 40\\\\monkey_fetus_40_0019.ndpi',\n '\\\\\\\\10.99.68.178\\\\andreex\\\\data\\\\monkey fetus\\\\gestational 40\\\\monkey_fetus_40_0020.ndpi']"
     },
     "execution_count": 3,
     "metadata": {},
     "output_type": "execute_result"
    }
   ],
   "source": [
    "WSIs[:20]"
   ],
   "metadata": {
    "collapsed": false,
    "ExecuteTime": {
     "end_time": "2023-12-06T17:21:02.848145900Z",
     "start_time": "2023-12-06T17:21:02.834107Z"
    }
   }
  },
  {
   "cell_type": "markdown",
   "source": [
    "Load just 1 image and show (takes a couple min)"
   ],
   "metadata": {
    "collapsed": false
   }
  },
  {
   "cell_type": "code",
   "execution_count": 4,
   "outputs": [],
   "source": [
    "def show_image(img, crop_x, crop_y, tile_size, **kwargs):\n",
    "    \"\"\"Plot large image at different resolutions.\"\"\"\n",
    "    fig, ax = plt.subplots(1, 2, figsize=(16, 8))\n",
    "\n",
    "    # Plot the original image on the left\n",
    "    ax[0].imshow(img, **kwargs)\n",
    "\n",
    "    # Crop the image\n",
    "    cropped_img = img[crop_y:crop_y+tile_size, crop_x:crop_x+tile_size]\n",
    "\n",
    "    # Plot the cropped image on the right\n",
    "    ax[1].imshow(cropped_img, **kwargs)\n",
    "\n",
    "    ax[0].axis('off')\n",
    "    ax[1].axis('off')\n",
    "\n",
    "    plt.tight_layout()\n",
    "    plt.show()"
   ],
   "metadata": {
    "collapsed": false,
    "ExecuteTime": {
     "end_time": "2023-12-06T17:21:02.877146100Z",
     "start_time": "2023-12-06T17:21:02.850145300Z"
    }
   }
  },
  {
   "cell_type": "code",
   "execution_count": 5,
   "outputs": [],
   "source": [
    "from csbdeep.utils import normalize\n",
    "import sys\n",
    "from tqdm import tqdm\n",
    "\n",
    "ind = 200  # which image in directory list you are loading\n",
    "\n",
    "# you might need to run \"pip install imagecodecs\" if you get jpeg compression error\n",
    "\n",
    "img = imread(WSIs[ind])\n",
    "n_channel = 1 if img[0].ndim == 2 else img[0].shape[-1]  #If no third\n",
    "\n",
    "img = img/255"
   ],
   "metadata": {
    "collapsed": false,
    "ExecuteTime": {
     "end_time": "2023-12-06T16:06:19.159641800Z",
     "start_time": "2023-12-06T16:06:04.652084500Z"
    }
   }
  },
  {
   "cell_type": "code",
   "execution_count": 6,
   "metadata": {
    "colab": {
     "base_uri": "https://localhost:8080/",
     "height": 585
    },
    "id": "G-GSXVJEgvNX",
    "outputId": "1ff225af-1f98-4e63-95a8-358b61729575",
    "ExecuteTime": {
     "end_time": "2023-12-06T15:44:40.303769100Z",
     "start_time": "2023-12-06T15:44:40.289756300Z"
    }
   },
   "outputs": [],
   "source": [
    "# display WSI image and also show a zoomed in region in a separate subplot\n",
    "# show_image(img, crop_x=10000, crop_y=10000, tile_size=1024)"
   ]
  },
  {
   "cell_type": "code",
   "execution_count": 5,
   "metadata": {
    "colab": {
     "base_uri": "https://localhost:8080/"
    },
    "id": "D0ecg6kehEc6",
    "outputId": "a7ca1164-b761-4755-834f-a98016f40c18",
    "ExecuteTime": {
     "end_time": "2023-12-06T17:21:08.088586700Z",
     "start_time": "2023-12-06T17:21:06.682529400Z"
    }
   },
   "outputs": [
    {
     "name": "stderr",
     "output_type": "stream",
     "text": [
      "base_model.py (149): output path for model already exists, files may be overwritten: \\\\10.99.68.178\\andreex\\data\\Stardist\\qupath_training_annotations\\models\\monkey_ft_11_21_2023_lr_0.001_epochs_400_pt_40\\offshoot_model\n"
     ]
    },
    {
     "name": "stdout",
     "output_type": "stream",
     "text": [
      "Using default values: prob_thresh=0.5, nms_thresh=0.4.\n",
      "Overriding defaults: Thresholds(prob=0.618122427060411, nms=0.3) \n",
      "\n"
     ]
    }
   ],
   "source": [
    "import json\n",
    "from stardist.models import Config2D, StarDist2D\n",
    "\n",
    "def load_model(model_path: str) -> StarDist2D:\n",
    "    # Load StarDist model weights, configurations, and thresholds\n",
    "    with open(model_path + '\\\\config.json', 'r') as f:\n",
    "        config = json.load(f)\n",
    "    with open(model_path + '\\\\thresholds.json', 'r') as f:\n",
    "        thresh = json.load(f)\n",
    "    model = StarDist2D(config=Config2D(**config), basedir=model_path, name='offshoot_model')\n",
    "    model.thresholds = thresh\n",
    "    print('Overriding defaults:', model.thresholds, '\\n')\n",
    "    model.load_weights(model_path + '\\\\weights_best.h5')\n",
    "    return model\n",
    "\n",
    "#\n",
    "# CHANGE RIGHT MODEL\n",
    "model = load_model(r\"\\\\10.99.68.178\\andreex\\data\\Stardist\\qupath_training_annotations\\models\\monkey_ft_11_21_2023_lr_0.001_epochs_400_pt_40\")"
   ]
  },
  {
   "cell_type": "markdown",
   "source": [
    "To save prediction outputs, I save as geojson file.\n",
    "By reading this template geojson file, I get the right type info that I need to save"
   ],
   "metadata": {
    "collapsed": false
   }
  },
  {
   "cell_type": "code",
   "execution_count": 6,
   "outputs": [],
   "source": [
    "n_channel = 1 if imread(WSIs[0]).ndim == 2 else imread(WSIs[0]).shape[-1]  #If no third"
   ],
   "metadata": {
    "collapsed": false,
    "ExecuteTime": {
     "end_time": "2023-12-06T17:21:40.022769800Z",
     "start_time": "2023-12-06T17:21:09.162943900Z"
    }
   }
  },
  {
   "cell_type": "code",
   "execution_count": 7,
   "outputs": [],
   "source": [
    "import json\n",
    "\n",
    "def save_json(result, out_pth, name):\n",
    "    \"\"\"Saves a geojson file with centroids and contours for StarDist output. Useful for loading into qupath\"\"\"\n",
    "    coords = result['coord']\n",
    "    points = result['points']\n",
    "\n",
    "    json_data = []\n",
    "\n",
    "    for i in range(len(points)):\n",
    "        point = points[i]\n",
    "        contour = coords[i]\n",
    "        centroid = [int(point[0]), int(point[1])]\n",
    "        contour = [[float(coord) for coord in xy[::-1]] for xy in contour]\n",
    "\n",
    "        # Create a new dictionary for each contour\n",
    "        dict_data = {\n",
    "            \"centroid\": [centroid],\n",
    "            \"contour\": [contour]\n",
    "        }\n",
    "\n",
    "        json_data.append(dict_data)\n",
    "\n",
    "    new_fn = name[:-5] + '.json'\n",
    "\n",
    "    with open(os.path.join(out_pth, new_fn),'w') as outfile:\n",
    "        json.dump(json_data, outfile)\n",
    "    print('Finished',new_fn)"
   ],
   "metadata": {
    "collapsed": false,
    "ExecuteTime": {
     "end_time": "2023-12-06T16:06:23.431873800Z",
     "start_time": "2023-12-06T16:06:23.415806Z"
    }
   }
  },
  {
   "cell_type": "code",
   "execution_count": 10,
   "outputs": [
    {
     "name": "stdout",
     "output_type": "stream",
     "text": [
      "Skipping monkey_fetus_40_0001.ndpi\n",
      "Skipping monkey_fetus_40_0002.ndpi\n",
      "Skipping monkey_fetus_40_0003.ndpi\n",
      "Skipping monkey_fetus_40_0004.ndpi\n",
      "Skipping monkey_fetus_40_0005.ndpi\n",
      "Skipping monkey_fetus_40_0006.ndpi\n",
      "Skipping monkey_fetus_40_0007.ndpi\n",
      "Skipping monkey_fetus_40_0008.ndpi\n",
      "Skipping monkey_fetus_40_0009.ndpi\n",
      "Skipping monkey_fetus_40_0010.ndpi\n",
      "Skipping monkey_fetus_40_0011.ndpi\n",
      "Skipping monkey_fetus_40_0012.ndpi\n",
      "Skipping monkey_fetus_40_0013.ndpi\n",
      "Skipping monkey_fetus_40_0014.ndpi\n",
      "Skipping monkey_fetus_40_0015.ndpi\n",
      "Skipping monkey_fetus_40_0016.ndpi\n",
      "Skipping monkey_fetus_40_0017.ndpi\n",
      "Skipping monkey_fetus_40_0018.ndpi\n",
      "Skipping monkey_fetus_40_0019.ndpi\n",
      "Skipping monkey_fetus_40_0020.ndpi\n",
      "Skipping monkey_fetus_40_0021.ndpi\n",
      "Starting monkey_fetus_40_0022.ndpi\n",
      "effective: block_size=(4096, 4096, 3), min_overlap=(128, 128, 0), context=(128, 128, 0)\n"
     ]
    },
    {
     "name": "stderr",
     "output_type": "stream",
     "text": [
      " 56%|█████▌    | 49/88 [04:13<03:21,  5.17s/it]\n"
     ]
    },
    {
     "ename": "KeyboardInterrupt",
     "evalue": "",
     "output_type": "error",
     "traceback": [
      "\u001B[1;31m---------------------------------------------------------------------------\u001B[0m",
      "\u001B[1;31mKeyboardInterrupt\u001B[0m                         Traceback (most recent call last)",
      "Cell \u001B[1;32mIn[10], line 22\u001B[0m\n\u001B[0;32m     20\u001B[0m img \u001B[38;5;241m=\u001B[39m imread(img_pth)\n\u001B[0;32m     21\u001B[0m img \u001B[38;5;241m=\u001B[39m img\u001B[38;5;241m/\u001B[39m\u001B[38;5;241m255\u001B[39m  \u001B[38;5;66;03m# normalization used to train model\u001B[39;00m\n\u001B[1;32m---> 22\u001B[0m labels, polys \u001B[38;5;241m=\u001B[39m \u001B[43mmodel\u001B[49m\u001B[38;5;241;43m.\u001B[39;49m\u001B[43mpredict_instances_big\u001B[49m\u001B[43m(\u001B[49m\u001B[43mimg\u001B[49m\u001B[43m,\u001B[49m\u001B[43m \u001B[49m\u001B[43maxes\u001B[49m\u001B[38;5;241;43m=\u001B[39;49m\u001B[38;5;124;43m'\u001B[39;49m\u001B[38;5;124;43mYXC\u001B[39;49m\u001B[38;5;124;43m'\u001B[39;49m\u001B[43m,\u001B[49m\u001B[43m \u001B[49m\u001B[43mblock_size\u001B[49m\u001B[38;5;241;43m=\u001B[39;49m\u001B[38;5;241;43m4096\u001B[39;49m\u001B[43m,\u001B[49m\u001B[43m \u001B[49m\u001B[43mmin_overlap\u001B[49m\u001B[38;5;241;43m=\u001B[39;49m\u001B[38;5;241;43m128\u001B[39;49m\u001B[43m,\u001B[49m\u001B[43m \u001B[49m\u001B[43mcontext\u001B[49m\u001B[38;5;241;43m=\u001B[39;49m\u001B[38;5;241;43m128\u001B[39;49m\u001B[43m,\u001B[49m\u001B[43m \u001B[49m\u001B[43mn_tiles\u001B[49m\u001B[38;5;241;43m=\u001B[39;49m\u001B[43m(\u001B[49m\u001B[38;5;241;43m4\u001B[39;49m\u001B[43m,\u001B[49m\u001B[38;5;241;43m4\u001B[39;49m\u001B[43m,\u001B[49m\u001B[38;5;241;43m1\u001B[39;49m\u001B[43m)\u001B[49m\u001B[43m)\u001B[49m\n\u001B[0;32m     24\u001B[0m \u001B[38;5;28mprint\u001B[39m(\u001B[38;5;124m'\u001B[39m\u001B[38;5;124mSaving json...\u001B[39m\u001B[38;5;124m'\u001B[39m)\n\u001B[0;32m     25\u001B[0m save_json(polys, out_pth_json, name)\n",
      "File \u001B[1;32m~\\anaconda3\\envs\\monkey_nuc_segment_v6\\lib\\site-packages\\stardist\\models\\base.py:943\u001B[0m, in \u001B[0;36mStarDistBase.predict_instances_big\u001B[1;34m(self, img, axes, block_size, min_overlap, context, labels_out, labels_out_dtype, show_progress, **kwargs)\u001B[0m\n\u001B[0;32m    941\u001B[0m \u001B[38;5;66;03m# actual computation\u001B[39;00m\n\u001B[0;32m    942\u001B[0m \u001B[38;5;28;01mfor\u001B[39;00m block \u001B[38;5;129;01min\u001B[39;00m blocks:\n\u001B[1;32m--> 943\u001B[0m     labels, polys \u001B[38;5;241m=\u001B[39m \u001B[38;5;28mself\u001B[39m\u001B[38;5;241m.\u001B[39mpredict_instances(block\u001B[38;5;241m.\u001B[39mread(img, axes\u001B[38;5;241m=\u001B[39maxes), \u001B[38;5;241m*\u001B[39m\u001B[38;5;241m*\u001B[39mkwargs)\n\u001B[0;32m    944\u001B[0m     labels \u001B[38;5;241m=\u001B[39m block\u001B[38;5;241m.\u001B[39mcrop_context(labels, axes\u001B[38;5;241m=\u001B[39maxes_out)\n\u001B[0;32m    945\u001B[0m     labels, polys \u001B[38;5;241m=\u001B[39m block\u001B[38;5;241m.\u001B[39mfilter_objects(labels, polys, axes\u001B[38;5;241m=\u001B[39maxes_out)\n",
      "File \u001B[1;32m~\\anaconda3\\envs\\monkey_nuc_segment_v6\\lib\\site-packages\\stardist\\models\\base.py:777\u001B[0m, in \u001B[0;36mStarDistBase.predict_instances\u001B[1;34m(self, *args, **kwargs)\u001B[0m\n\u001B[0;32m    764\u001B[0m \u001B[38;5;129m@functools\u001B[39m\u001B[38;5;241m.\u001B[39mwraps(_predict_instances_generator)\n\u001B[0;32m    765\u001B[0m \u001B[38;5;28;01mdef\u001B[39;00m \u001B[38;5;21mpredict_instances\u001B[39m(\u001B[38;5;28mself\u001B[39m, \u001B[38;5;241m*\u001B[39margs, \u001B[38;5;241m*\u001B[39m\u001B[38;5;241m*\u001B[39mkwargs):\n\u001B[0;32m    766\u001B[0m     \u001B[38;5;66;03m# the reason why the actual computation happens as a generator function\u001B[39;00m\n\u001B[1;32m   (...)\u001B[0m\n\u001B[0;32m    774\u001B[0m \n\u001B[0;32m    775\u001B[0m     \u001B[38;5;66;03m# return last \"yield\"ed value of generator\u001B[39;00m\n\u001B[0;32m    776\u001B[0m     r \u001B[38;5;241m=\u001B[39m \u001B[38;5;28;01mNone\u001B[39;00m\n\u001B[1;32m--> 777\u001B[0m     \u001B[38;5;28;01mfor\u001B[39;00m r \u001B[38;5;129;01min\u001B[39;00m \u001B[38;5;28mself\u001B[39m\u001B[38;5;241m.\u001B[39m_predict_instances_generator(\u001B[38;5;241m*\u001B[39margs, \u001B[38;5;241m*\u001B[39m\u001B[38;5;241m*\u001B[39mkwargs):\n\u001B[0;32m    778\u001B[0m         \u001B[38;5;28;01mpass\u001B[39;00m\n\u001B[0;32m    779\u001B[0m     \u001B[38;5;28;01mreturn\u001B[39;00m r\n",
      "File \u001B[1;32m~\\anaconda3\\envs\\monkey_nuc_segment_v6\\lib\\site-packages\\stardist\\models\\base.py:729\u001B[0m, in \u001B[0;36mStarDistBase._predict_instances_generator\u001B[1;34m(self, img, axes, normalizer, sparse, prob_thresh, nms_thresh, scale, n_tiles, show_tile_progress, verbose, return_labels, predict_kwargs, nms_kwargs, overlap_label, return_predict)\u001B[0m\n\u001B[0;32m    727\u001B[0m res \u001B[38;5;241m=\u001B[39m \u001B[38;5;28;01mNone\u001B[39;00m\n\u001B[0;32m    728\u001B[0m \u001B[38;5;28;01mif\u001B[39;00m sparse:\n\u001B[1;32m--> 729\u001B[0m     \u001B[38;5;28;01mfor\u001B[39;00m res \u001B[38;5;129;01min\u001B[39;00m \u001B[38;5;28mself\u001B[39m\u001B[38;5;241m.\u001B[39m_predict_sparse_generator(img, axes\u001B[38;5;241m=\u001B[39maxes, normalizer\u001B[38;5;241m=\u001B[39mnormalizer, n_tiles\u001B[38;5;241m=\u001B[39mn_tiles,\n\u001B[0;32m    730\u001B[0m                                               prob_thresh\u001B[38;5;241m=\u001B[39mprob_thresh, show_tile_progress\u001B[38;5;241m=\u001B[39mshow_tile_progress, \u001B[38;5;241m*\u001B[39m\u001B[38;5;241m*\u001B[39mpredict_kwargs):\n\u001B[0;32m    731\u001B[0m         \u001B[38;5;28;01mif\u001B[39;00m res \u001B[38;5;129;01mis\u001B[39;00m \u001B[38;5;28;01mNone\u001B[39;00m:\n\u001B[0;32m    732\u001B[0m             \u001B[38;5;28;01myield\u001B[39;00m \u001B[38;5;124m'\u001B[39m\u001B[38;5;124mtile\u001B[39m\u001B[38;5;124m'\u001B[39m  \u001B[38;5;66;03m# yield 'tile' each time a tile has been processed\u001B[39;00m\n",
      "File \u001B[1;32m~\\anaconda3\\envs\\monkey_nuc_segment_v6\\lib\\site-packages\\stardist\\models\\base.py:560\u001B[0m, in \u001B[0;36mStarDistBase._predict_sparse_generator\u001B[1;34m(self, img, prob_thresh, axes, normalizer, n_tiles, show_tile_progress, b, **predict_kwargs)\u001B[0m\n\u001B[0;32m    556\u001B[0m proba, dista, pointsa, prob_classa \u001B[38;5;241m=\u001B[39m [], [], [], []\n\u001B[0;32m    558\u001B[0m \u001B[38;5;28;01mfor\u001B[39;00m tile, s_src, s_dst \u001B[38;5;129;01min\u001B[39;00m tile_generator:\n\u001B[1;32m--> 560\u001B[0m     results_tile \u001B[38;5;241m=\u001B[39m \u001B[43mpredict_direct\u001B[49m\u001B[43m(\u001B[49m\u001B[43mtile\u001B[49m\u001B[43m)\u001B[49m\n\u001B[0;32m    562\u001B[0m     \u001B[38;5;66;03m# account for grid\u001B[39;00m\n\u001B[0;32m    563\u001B[0m     s_src \u001B[38;5;241m=\u001B[39m [\u001B[38;5;28mslice\u001B[39m(s\u001B[38;5;241m.\u001B[39mstart\u001B[38;5;241m/\u001B[39m\u001B[38;5;241m/\u001B[39mgrid_dict\u001B[38;5;241m.\u001B[39mget(a,\u001B[38;5;241m1\u001B[39m),s\u001B[38;5;241m.\u001B[39mstop\u001B[38;5;241m/\u001B[39m\u001B[38;5;241m/\u001B[39mgrid_dict\u001B[38;5;241m.\u001B[39mget(a,\u001B[38;5;241m1\u001B[39m)) \u001B[38;5;28;01mfor\u001B[39;00m s,a \u001B[38;5;129;01min\u001B[39;00m \u001B[38;5;28mzip\u001B[39m(s_src,axes_net)]\n",
      "File \u001B[1;32m~\\anaconda3\\envs\\monkey_nuc_segment_v6\\lib\\site-packages\\stardist\\models\\base.py:398\u001B[0m, in \u001B[0;36mStarDistBase._predict_setup.<locals>.predict_direct\u001B[1;34m(x)\u001B[0m\n\u001B[0;32m    397\u001B[0m \u001B[38;5;28;01mdef\u001B[39;00m \u001B[38;5;21mpredict_direct\u001B[39m(x):\n\u001B[1;32m--> 398\u001B[0m     ys \u001B[38;5;241m=\u001B[39m \u001B[38;5;28mself\u001B[39m\u001B[38;5;241m.\u001B[39mkeras_model\u001B[38;5;241m.\u001B[39mpredict(x[np\u001B[38;5;241m.\u001B[39mnewaxis], \u001B[38;5;241m*\u001B[39m\u001B[38;5;241m*\u001B[39mpredict_kwargs)\n\u001B[0;32m    399\u001B[0m     \u001B[38;5;28;01mreturn\u001B[39;00m \u001B[38;5;28mtuple\u001B[39m(y[\u001B[38;5;241m0\u001B[39m] \u001B[38;5;28;01mfor\u001B[39;00m y \u001B[38;5;129;01min\u001B[39;00m ys)\n",
      "File \u001B[1;32m~\\anaconda3\\envs\\monkey_nuc_segment_v6\\lib\\site-packages\\keras\\utils\\traceback_utils.py:64\u001B[0m, in \u001B[0;36mfilter_traceback.<locals>.error_handler\u001B[1;34m(*args, **kwargs)\u001B[0m\n\u001B[0;32m     62\u001B[0m filtered_tb \u001B[38;5;241m=\u001B[39m \u001B[38;5;28;01mNone\u001B[39;00m\n\u001B[0;32m     63\u001B[0m \u001B[38;5;28;01mtry\u001B[39;00m:\n\u001B[1;32m---> 64\u001B[0m   \u001B[38;5;28;01mreturn\u001B[39;00m fn(\u001B[38;5;241m*\u001B[39margs, \u001B[38;5;241m*\u001B[39m\u001B[38;5;241m*\u001B[39mkwargs)\n\u001B[0;32m     65\u001B[0m \u001B[38;5;28;01mexcept\u001B[39;00m \u001B[38;5;167;01mException\u001B[39;00m \u001B[38;5;28;01mas\u001B[39;00m e:  \u001B[38;5;66;03m# pylint: disable=broad-except\u001B[39;00m\n\u001B[0;32m     66\u001B[0m   filtered_tb \u001B[38;5;241m=\u001B[39m _process_traceback_frames(e\u001B[38;5;241m.\u001B[39m__traceback__)\n",
      "File \u001B[1;32m~\\anaconda3\\envs\\monkey_nuc_segment_v6\\lib\\site-packages\\keras\\engine\\training.py:2064\u001B[0m, in \u001B[0;36mModel.predict\u001B[1;34m(self, x, batch_size, verbose, steps, callbacks, max_queue_size, workers, use_multiprocessing)\u001B[0m\n\u001B[0;32m   2061\u001B[0m \u001B[38;5;28;01mif\u001B[39;00m original_pss_strategy \u001B[38;5;129;01mis\u001B[39;00m \u001B[38;5;129;01mnot\u001B[39;00m \u001B[38;5;28;01mNone\u001B[39;00m:\n\u001B[0;32m   2062\u001B[0m   \u001B[38;5;28mself\u001B[39m\u001B[38;5;241m.\u001B[39m_distribution_strategy \u001B[38;5;241m=\u001B[39m original_pss_strategy\n\u001B[1;32m-> 2064\u001B[0m \u001B[38;5;28;01mreturn\u001B[39;00m \u001B[43mtf_utils\u001B[49m\u001B[38;5;241;43m.\u001B[39;49m\u001B[43msync_to_numpy_or_python_type\u001B[49m\u001B[43m(\u001B[49m\u001B[43mall_outputs\u001B[49m\u001B[43m)\u001B[49m\n",
      "File \u001B[1;32m~\\anaconda3\\envs\\monkey_nuc_segment_v6\\lib\\site-packages\\keras\\utils\\tf_utils.py:607\u001B[0m, in \u001B[0;36msync_to_numpy_or_python_type\u001B[1;34m(tensors)\u001B[0m\n\u001B[0;32m    604\u001B[0m     \u001B[38;5;28;01mreturn\u001B[39;00m t\n\u001B[0;32m    605\u001B[0m   \u001B[38;5;28;01mreturn\u001B[39;00m t\u001B[38;5;241m.\u001B[39mitem() \u001B[38;5;28;01mif\u001B[39;00m np\u001B[38;5;241m.\u001B[39mndim(t) \u001B[38;5;241m==\u001B[39m \u001B[38;5;241m0\u001B[39m \u001B[38;5;28;01melse\u001B[39;00m t\n\u001B[1;32m--> 607\u001B[0m \u001B[38;5;28;01mreturn\u001B[39;00m \u001B[43mtf\u001B[49m\u001B[38;5;241;43m.\u001B[39;49m\u001B[43mnest\u001B[49m\u001B[38;5;241;43m.\u001B[39;49m\u001B[43mmap_structure\u001B[49m\u001B[43m(\u001B[49m\u001B[43m_to_single_numpy_or_python_type\u001B[49m\u001B[43m,\u001B[49m\u001B[43m \u001B[49m\u001B[43mtensors\u001B[49m\u001B[43m)\u001B[49m\n",
      "File \u001B[1;32m~\\anaconda3\\envs\\monkey_nuc_segment_v6\\lib\\site-packages\\tensorflow\\python\\util\\nest.py:916\u001B[0m, in \u001B[0;36mmap_structure\u001B[1;34m(func, *structure, **kwargs)\u001B[0m\n\u001B[0;32m    912\u001B[0m flat_structure \u001B[38;5;241m=\u001B[39m (flatten(s, expand_composites) \u001B[38;5;28;01mfor\u001B[39;00m s \u001B[38;5;129;01min\u001B[39;00m structure)\n\u001B[0;32m    913\u001B[0m entries \u001B[38;5;241m=\u001B[39m \u001B[38;5;28mzip\u001B[39m(\u001B[38;5;241m*\u001B[39mflat_structure)\n\u001B[0;32m    915\u001B[0m \u001B[38;5;28;01mreturn\u001B[39;00m pack_sequence_as(\n\u001B[1;32m--> 916\u001B[0m     structure[\u001B[38;5;241m0\u001B[39m], [func(\u001B[38;5;241m*\u001B[39mx) \u001B[38;5;28;01mfor\u001B[39;00m x \u001B[38;5;129;01min\u001B[39;00m entries],\n\u001B[0;32m    917\u001B[0m     expand_composites\u001B[38;5;241m=\u001B[39mexpand_composites)\n",
      "File \u001B[1;32m~\\anaconda3\\envs\\monkey_nuc_segment_v6\\lib\\site-packages\\tensorflow\\python\\util\\nest.py:916\u001B[0m, in \u001B[0;36m<listcomp>\u001B[1;34m(.0)\u001B[0m\n\u001B[0;32m    912\u001B[0m flat_structure \u001B[38;5;241m=\u001B[39m (flatten(s, expand_composites) \u001B[38;5;28;01mfor\u001B[39;00m s \u001B[38;5;129;01min\u001B[39;00m structure)\n\u001B[0;32m    913\u001B[0m entries \u001B[38;5;241m=\u001B[39m \u001B[38;5;28mzip\u001B[39m(\u001B[38;5;241m*\u001B[39mflat_structure)\n\u001B[0;32m    915\u001B[0m \u001B[38;5;28;01mreturn\u001B[39;00m pack_sequence_as(\n\u001B[1;32m--> 916\u001B[0m     structure[\u001B[38;5;241m0\u001B[39m], [\u001B[43mfunc\u001B[49m\u001B[43m(\u001B[49m\u001B[38;5;241;43m*\u001B[39;49m\u001B[43mx\u001B[49m\u001B[43m)\u001B[49m \u001B[38;5;28;01mfor\u001B[39;00m x \u001B[38;5;129;01min\u001B[39;00m entries],\n\u001B[0;32m    917\u001B[0m     expand_composites\u001B[38;5;241m=\u001B[39mexpand_composites)\n",
      "File \u001B[1;32m~\\anaconda3\\envs\\monkey_nuc_segment_v6\\lib\\site-packages\\keras\\utils\\tf_utils.py:601\u001B[0m, in \u001B[0;36msync_to_numpy_or_python_type.<locals>._to_single_numpy_or_python_type\u001B[1;34m(t)\u001B[0m\n\u001B[0;32m    598\u001B[0m \u001B[38;5;28;01mdef\u001B[39;00m \u001B[38;5;21m_to_single_numpy_or_python_type\u001B[39m(t):\n\u001B[0;32m    599\u001B[0m   \u001B[38;5;66;03m# Don't turn ragged or sparse tensors to NumPy.\u001B[39;00m\n\u001B[0;32m    600\u001B[0m   \u001B[38;5;28;01mif\u001B[39;00m \u001B[38;5;28misinstance\u001B[39m(t, tf\u001B[38;5;241m.\u001B[39mTensor):\n\u001B[1;32m--> 601\u001B[0m     t \u001B[38;5;241m=\u001B[39m \u001B[43mt\u001B[49m\u001B[38;5;241;43m.\u001B[39;49m\u001B[43mnumpy\u001B[49m\u001B[43m(\u001B[49m\u001B[43m)\u001B[49m\n\u001B[0;32m    602\u001B[0m   \u001B[38;5;66;03m# Strings, ragged and sparse tensors don't have .item(). Return them as-is.\u001B[39;00m\n\u001B[0;32m    603\u001B[0m   \u001B[38;5;28;01mif\u001B[39;00m \u001B[38;5;129;01mnot\u001B[39;00m \u001B[38;5;28misinstance\u001B[39m(t, (np\u001B[38;5;241m.\u001B[39mndarray, np\u001B[38;5;241m.\u001B[39mgeneric)):\n",
      "File \u001B[1;32m~\\anaconda3\\envs\\monkey_nuc_segment_v6\\lib\\site-packages\\tensorflow\\python\\framework\\ops.py:1159\u001B[0m, in \u001B[0;36m_EagerTensorBase.numpy\u001B[1;34m(self)\u001B[0m\n\u001B[0;32m   1136\u001B[0m \u001B[38;5;250m\u001B[39m\u001B[38;5;124;03m\"\"\"Copy of the contents of this Tensor into a NumPy array or scalar.\u001B[39;00m\n\u001B[0;32m   1137\u001B[0m \n\u001B[0;32m   1138\u001B[0m \u001B[38;5;124;03mUnlike NumPy arrays, Tensors are immutable, so this method has to copy\u001B[39;00m\n\u001B[1;32m   (...)\u001B[0m\n\u001B[0;32m   1156\u001B[0m \u001B[38;5;124;03m    NumPy dtype.\u001B[39;00m\n\u001B[0;32m   1157\u001B[0m \u001B[38;5;124;03m\"\"\"\u001B[39;00m\n\u001B[0;32m   1158\u001B[0m \u001B[38;5;66;03m# TODO(slebedev): Consider avoiding a copy for non-CPU or remote tensors.\u001B[39;00m\n\u001B[1;32m-> 1159\u001B[0m maybe_arr \u001B[38;5;241m=\u001B[39m \u001B[38;5;28;43mself\u001B[39;49m\u001B[38;5;241;43m.\u001B[39;49m\u001B[43m_numpy\u001B[49m\u001B[43m(\u001B[49m\u001B[43m)\u001B[49m  \u001B[38;5;66;03m# pylint: disable=protected-access\u001B[39;00m\n\u001B[0;32m   1160\u001B[0m \u001B[38;5;28;01mreturn\u001B[39;00m maybe_arr\u001B[38;5;241m.\u001B[39mcopy() \u001B[38;5;28;01mif\u001B[39;00m \u001B[38;5;28misinstance\u001B[39m(maybe_arr, np\u001B[38;5;241m.\u001B[39mndarray) \u001B[38;5;28;01melse\u001B[39;00m maybe_arr\n",
      "File \u001B[1;32m~\\anaconda3\\envs\\monkey_nuc_segment_v6\\lib\\site-packages\\tensorflow\\python\\framework\\ops.py:1125\u001B[0m, in \u001B[0;36m_EagerTensorBase._numpy\u001B[1;34m(self)\u001B[0m\n\u001B[0;32m   1123\u001B[0m \u001B[38;5;28;01mdef\u001B[39;00m \u001B[38;5;21m_numpy\u001B[39m(\u001B[38;5;28mself\u001B[39m):\n\u001B[0;32m   1124\u001B[0m   \u001B[38;5;28;01mtry\u001B[39;00m:\n\u001B[1;32m-> 1125\u001B[0m     \u001B[38;5;28;01mreturn\u001B[39;00m \u001B[38;5;28;43mself\u001B[39;49m\u001B[38;5;241;43m.\u001B[39;49m\u001B[43m_numpy_internal\u001B[49m\u001B[43m(\u001B[49m\u001B[43m)\u001B[49m\n\u001B[0;32m   1126\u001B[0m   \u001B[38;5;28;01mexcept\u001B[39;00m core\u001B[38;5;241m.\u001B[39m_NotOkStatusException \u001B[38;5;28;01mas\u001B[39;00m e:  \u001B[38;5;66;03m# pylint: disable=protected-access\u001B[39;00m\n\u001B[0;32m   1127\u001B[0m     \u001B[38;5;28;01mraise\u001B[39;00m core\u001B[38;5;241m.\u001B[39m_status_to_exception(e) \u001B[38;5;28;01mfrom\u001B[39;00m \u001B[38;5;28;01mNone\u001B[39;00m\n",
      "\u001B[1;31mKeyboardInterrupt\u001B[0m: "
     ]
    }
   ],
   "source": [
    "# Segment all WSIs -- takes about 2-5 minutes per whole slide image to segment, about 3 minutes to save geojson file\n",
    "\n",
    "date = '11_21_23'\n",
    "\n",
    "out_pth_json = os.path.join(pth,f'StarDist_{date}','json')\n",
    "out_pth_tif = os.path.join(pth,f'StarDist_{date}','tif')\n",
    "\n",
    "if not os.path.exists(out_pth_json):\n",
    "    os.mkdir(out_pth_json)\n",
    "\n",
    "if not os.path.exists(out_pth_tif):\n",
    "    os.mkdir(out_pth_tif)\n",
    "\n",
    "for img_pth in WSIs:\n",
    "    name = os.path.basename(img_pth)\n",
    "\n",
    "    if not os.path.exists(os.path.join(out_pth_json, (name[:-5] + '.json'))):\n",
    "        print(f'Starting {name}')\n",
    "\n",
    "        img = imread(img_pth)\n",
    "        img = img/255  # normalization used to train model\n",
    "        labels, polys = model.predict_instances_big(img, axes='YXC', block_size=4096, min_overlap=128, context=128, n_tiles=(4,4,1))\n",
    "\n",
    "        print('Saving json...')\n",
    "        save_json(polys, out_pth_json, name)\n",
    "\n",
    "        # tif file is like 3 GB usually, so only uncomment next part if you are ok with that\n",
    "        #print('Saving tif...')\n",
    "        #imwrite(os.path.join(out_pth_tif, name[:-5] + '.tif'), labels)\n",
    "    else:\n",
    "        print(f'Skipping {name}')"
   ],
   "metadata": {
    "collapsed": false,
    "ExecuteTime": {
     "end_time": "2023-12-06T15:49:55.242904900Z",
     "start_time": "2023-12-06T15:45:19.781947900Z"
    }
   }
  },
  {
   "cell_type": "code",
   "execution_count": 8,
   "outputs": [
    {
     "data": {
      "text/plain": "'\\\\\\\\10.99.68.178\\\\andreex\\\\data\\\\monkey fetus\\\\gestational 40\\\\monkey_fetus_40_0286.ndpi'"
     },
     "execution_count": 8,
     "metadata": {},
     "output_type": "execute_result"
    }
   ],
   "source": [
    "WSIs[285]"
   ],
   "metadata": {
    "collapsed": false,
    "ExecuteTime": {
     "end_time": "2023-12-06T17:22:06.382516600Z",
     "start_time": "2023-12-06T17:22:06.350744100Z"
    }
   }
  },
  {
   "cell_type": "code",
   "execution_count": 9,
   "outputs": [
    {
     "name": "stdout",
     "output_type": "stream",
     "text": [
      "Starting monkey_fetus_40_0286.ndpi\n",
      "effective: block_size=(4096, 4096, 3), min_overlap=(128, 128, 0), context=(128, 128, 0)\n"
     ]
    },
    {
     "name": "stderr",
     "output_type": "stream",
     "text": [
      "100%|██████████| 390/390 [13:37<00:00,  2.10s/it]\n"
     ]
    }
   ],
   "source": [
    "for img_pth in WSIs:\n",
    "\n",
    "    name = os.path.basename(WSIs[285])\n",
    "\n",
    "    print(f'Starting {name}')\n",
    "\n",
    "    img = imread(img_pth)\n",
    "    img = img/255  # normalization used to train model\n",
    "    labels, polys = model.predict_instances_big(img, axes='YXC', block_size=4096, min_overlap=128, context=128, n_tiles=(4,4,1))\n",
    "\n",
    "    # print('Saving json...')\n",
    "    # save_json(polys, out_pth_json, name)\n",
    "\n",
    "    break\n",
    "\n",
    "    # tif file is like 3 GB usually, so only uncomment next part if you are ok with that\n",
    "    #print('Saving tif...')\n",
    "    #imwrite(os.path.join(out_pth_tif, name[:-5] + '.tif'), labels)"
   ],
   "metadata": {
    "collapsed": false,
    "ExecuteTime": {
     "end_time": "2023-12-06T17:37:23.846416300Z",
     "start_time": "2023-12-06T17:22:07.344233100Z"
    }
   }
  },
  {
   "cell_type": "code",
   "execution_count": 23,
   "outputs": [
    {
     "data": {
      "text/plain": "StarDist2D(offshoot_model): YXC → YXC\n├─ Directory: \\\\10.99.68.178\\andreex\\data\\Stardist\\qupath_training_annotations\\models\\monkey_ft_11_21_2023_lr_0.001_epochs_400_pt_40\\offshoot_model\n└─ Config2D(n_dim=2, axes='YXC', n_channel_in=3, n_channel_out=33, train_checkpoint='weights_best.h5', train_checkpoint_last='weights_last.h5', train_checkpoint_epoch='weights_now.h5', n_rays=32, grid=(2, 2), backbone='unet', n_classes=None, unet_n_depth=3, unet_kernel_size=[3, 3], unet_n_filter_base=32, unet_n_conv_per_depth=2, unet_pool=[2, 2], unet_activation='relu', unet_last_activation='relu', unet_batch_norm=False, unet_dropout=0.0, unet_prefix='', net_conv_after_unet=128, net_input_shape=[None, None, 3], net_mask_shape=[None, None, 1], train_shape_completion=False, train_completion_crop=32, train_patch_size=[256, 256], train_background_reg=0.0001, train_foreground_only=0.9, train_sample_cache=True, train_dist_loss='mae', train_loss_weights=[1, 0.2], train_class_weights=[1, 1], train_epochs=400, train_steps_per_epoch=100, train_learning_rate=0.0003, train_batch_size=4, train_n_val_patches=None, train_tensorboard=True, train_reduce_lr={'factor': 0.5, 'patience': 40, 'min_delta': 0}, use_gpu=True)"
     },
     "execution_count": 23,
     "metadata": {},
     "output_type": "execute_result"
    }
   ],
   "source": [
    "model"
   ],
   "metadata": {
    "collapsed": false,
    "ExecuteTime": {
     "end_time": "2023-12-06T17:42:09.091312700Z",
     "start_time": "2023-12-06T17:42:09.077312200Z"
    }
   }
  },
  {
   "cell_type": "code",
   "execution_count": null,
   "outputs": [],
   "source": [
    "# show_image(labels, crop_x=10000, crop_y=10000, tile_size=1024, cmap=cmap)\n",
    "# show_image(img, crop_x, crop_y, tile_size, cmap=cmap)"
   ],
   "metadata": {
    "collapsed": false,
    "ExecuteTime": {
     "start_time": "2023-12-06T15:49:55.226904800Z"
    }
   }
  },
  {
   "cell_type": "code",
   "execution_count": 10,
   "outputs": [],
   "source": [
    "#cropped_img = img[crop_y:crop_y+tile_size, crop_x:crop_x+tile_size]\n",
    "#cropped_lbl = labels[crop_y:crop_y+tile_size, crop_x:crop_x+tile_size]\n",
    "\n",
    "tile_size = 512*2\n",
    "\n",
    "y_cor = 5100\n",
    "y_cor_end = y_cor + tile_size\n",
    "x_cor = 14200\n",
    "x_cor_end = x_cor + tile_size\n",
    "\n",
    "cropped_img = img[y_cor:y_cor_end, x_cor:x_cor_end]\n",
    "cropped_lbl = labels[y_cor:y_cor_end, x_cor:x_cor_end]\n",
    "\n",
    "lbl_cmap = random_label_cmap()"
   ],
   "metadata": {
    "collapsed": false,
    "ExecuteTime": {
     "end_time": "2023-12-06T17:38:46.179471Z",
     "start_time": "2023-12-06T17:38:46.036737900Z"
    }
   }
  },
  {
   "cell_type": "code",
   "execution_count": null,
   "outputs": [],
   "source": [
    "lbl_cmap.colors"
   ],
   "metadata": {
    "collapsed": false,
    "ExecuteTime": {
     "start_time": "2023-12-06T15:49:55.228904900Z"
    }
   }
  },
  {
   "cell_type": "code",
   "execution_count": null,
   "outputs": [],
   "source": [
    "plt.figure(figsize=(8, 8))\n",
    "plt.imshow(cropped_img)\n",
    "plt.axis('off')\n",
    "plt.show()"
   ],
   "metadata": {
    "collapsed": false,
    "ExecuteTime": {
     "start_time": "2023-12-06T15:49:55.231905Z"
    }
   }
  },
  {
   "cell_type": "code",
   "execution_count": null,
   "outputs": [],
   "source": [
    "model_pre = StarDist2D.from_pretrained('2D_versatile_he')"
   ],
   "metadata": {
    "collapsed": false,
    "ExecuteTime": {
     "start_time": "2023-12-06T15:49:55.232905300Z"
    }
   }
  },
  {
   "cell_type": "code",
   "execution_count": null,
   "outputs": [],
   "source": [
    "labels_pre, polys_pre = model_pre.predict_instances_big(img, axes='YXC', block_size=4096, min_overlap=128, context=128, n_tiles=(4,4,1))"
   ],
   "metadata": {
    "collapsed": false,
    "ExecuteTime": {
     "start_time": "2023-12-06T15:49:55.233905Z"
    }
   }
  },
  {
   "cell_type": "code",
   "execution_count": null,
   "outputs": [],
   "source": [],
   "metadata": {
    "collapsed": false
   }
  },
  {
   "cell_type": "code",
   "execution_count": null,
   "outputs": [],
   "source": [],
   "metadata": {
    "collapsed": false
   }
  },
  {
   "cell_type": "code",
   "execution_count": null,
   "outputs": [],
   "source": [],
   "metadata": {
    "collapsed": false
   }
  },
  {
   "cell_type": "code",
   "execution_count": 18,
   "outputs": [
    {
     "data": {
      "text/plain": "(54912, 96000, 3)"
     },
     "execution_count": 18,
     "metadata": {},
     "output_type": "execute_result"
    }
   ],
   "source": [
    "img.shape"
   ],
   "metadata": {
    "collapsed": false,
    "ExecuteTime": {
     "end_time": "2023-12-06T17:40:23.270612400Z",
     "start_time": "2023-12-06T17:40:23.216385700Z"
    }
   }
  },
  {
   "cell_type": "code",
   "execution_count": 21,
   "outputs": [
    {
     "name": "stdout",
     "output_type": "stream",
     "text": [
      "[5100, 6124, 14200, 15224]\n"
     ]
    }
   ],
   "source": [
    "tile_size = 512*2\n",
    "\n",
    "y_cor = 5100\n",
    "y_cor_end = y_cor + tile_size\n",
    "x_cor = 14200\n",
    "x_cor_end = x_cor + tile_size\n",
    "\n",
    "print([y_cor,y_cor_end, x_cor,x_cor_end])"
   ],
   "metadata": {
    "collapsed": false,
    "ExecuteTime": {
     "end_time": "2023-12-06T17:40:54.309474200Z",
     "start_time": "2023-12-06T17:40:54.297474200Z"
    }
   }
  },
  {
   "cell_type": "code",
   "execution_count": 24,
   "outputs": [
    {
     "data": {
      "text/plain": "(54912, 96000)"
     },
     "execution_count": 24,
     "metadata": {},
     "output_type": "execute_result"
    }
   ],
   "source": [
    "labels.shape"
   ],
   "metadata": {
    "collapsed": false,
    "ExecuteTime": {
     "end_time": "2023-12-06T17:42:48.591497300Z",
     "start_time": "2023-12-06T17:42:48.577496800Z"
    }
   }
  },
  {
   "cell_type": "code",
   "execution_count": 26,
   "outputs": [
    {
     "data": {
      "text/plain": "<Figure size 800x800 with 1 Axes>",
      "image/png": "[encoded data removed]"
     },
     "metadata": {},
     "output_type": "display_data"
    }
   ],
   "source": [
    "cropped_lbl = labels[0:y_cor_end, 0:x_cor_end]\n",
    "\n",
    "plt.figure(figsize=(8, 8))\n",
    "plt.imshow(cropped_img, cmap='gray')\n",
    "plt.imshow(cropped_lbl, cmap=lbl_cmap, alpha=0.5)\n",
    "plt.axis('off')\n",
    "plt.show()"
   ],
   "metadata": {
    "collapsed": false,
    "ExecuteTime": {
     "end_time": "2023-12-06T17:43:04.095300400Z",
     "start_time": "2023-12-06T17:43:02.562441900Z"
    }
   }
  },
  {
   "cell_type": "code",
   "execution_count": 17,
   "outputs": [
    {
     "data": {
      "text/plain": "(54912, 96000, 3)"
     },
     "execution_count": 17,
     "metadata": {},
     "output_type": "execute_result"
    }
   ],
   "source": [
    "img.shape"
   ],
   "metadata": {
    "collapsed": false,
    "ExecuteTime": {
     "end_time": "2023-12-06T17:40:05.278377100Z",
     "start_time": "2023-12-06T17:40:05.260377200Z"
    }
   }
  },
  {
   "cell_type": "code",
   "execution_count": null,
   "outputs": [],
   "source": [
    "plt.figure(figsize=(8, 8))\n",
    "plt.imshow(cropped_img)\n",
    "plt.show()"
   ],
   "metadata": {
    "collapsed": false,
    "ExecuteTime": {
     "start_time": "2023-12-06T15:49:55.234905Z"
    }
   }
  },
  {
   "cell_type": "markdown",
   "source": [
    "Some quantifications"
   ],
   "metadata": {
    "collapsed": false
   }
  },
  {
   "cell_type": "code",
   "execution_count": null,
   "outputs": [],
   "source": [
    "from skimage.measure import regionprops_table\n",
    "import pandas as pd"
   ],
   "metadata": {
    "collapsed": false,
    "ExecuteTime": {
     "start_time": "2023-12-06T15:49:55.235905Z"
    }
   }
  },
  {
   "cell_type": "code",
   "execution_count": null,
   "outputs": [],
   "source": [
    "# Slow - takes time as we have many many objects\n",
    "props = regionprops_table(labels, img,\n",
    "                          properties=['label',\n",
    "                                      'area', 'equivalent_diameter',\n",
    "                                      'mean_intensity', 'solidity'])\n"
   ],
   "metadata": {
    "collapsed": false,
    "ExecuteTime": {
     "start_time": "2023-12-06T15:49:55.235905Z"
    }
   }
  },
  {
   "cell_type": "code",
   "execution_count": null,
   "outputs": [],
   "source": [
    "analysis_results = pd.DataFrame(props)\n",
    "print(analysis_results.tail())"
   ],
   "metadata": {
    "collapsed": false,
    "ExecuteTime": {
     "start_time": "2023-12-06T15:49:55.236905Z"
    }
   }
  },
  {
   "cell_type": "code",
   "execution_count": null,
   "outputs": [],
   "source": [
    "import seaborn as sns"
   ],
   "metadata": {
    "collapsed": false,
    "ExecuteTime": {
     "start_time": "2023-12-06T15:49:55.236905Z"
    }
   }
  },
  {
   "cell_type": "code",
   "execution_count": null,
   "outputs": [],
   "source": [
    "sns.histplot(x=\"area\", data=analysis_results, bins=50, log_scale=True)"
   ],
   "metadata": {
    "collapsed": false,
    "ExecuteTime": {
     "start_time": "2023-12-06T15:49:55.237904800Z"
    }
   }
  },
  {
   "cell_type": "markdown",
   "source": [],
   "metadata": {
    "collapsed": false
   }
  }
 ],
 "metadata": {
  "accelerator": "GPU",
  "colab": {
   "collapsed_sections": [],
   "name": "281-Segmenting_WSI_using_StarDist.ipynb",
   "provenance": [],
   "mount_file_id": "1TTEEGQOEZfynOwGGF_Azalgl1Vf6opv3",
   "authorship_tag": "ABX9TyMbUn0LceXTmmoadiU9GV1Q",
   "include_colab_link": true
  },
  "kernelspec": {
   "name": "python3",
   "language": "python",
   "display_name": "Python 3 (ipykernel)"
  },
  "language_info": {
   "name": "python"
  }
 },
 "nbformat": 4,
 "nbformat_minor": 0
}
