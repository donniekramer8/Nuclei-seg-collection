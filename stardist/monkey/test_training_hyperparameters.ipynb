{
 "cells": [
  {
   "cell_type": "code",
   "execution_count": 84,
   "metadata": {
    "collapsed": true,
    "ExecuteTime": {
     "end_time": "2023-12-12T22:58:39.123199600Z",
     "start_time": "2023-12-12T22:58:38.995199400Z"
    }
   },
   "outputs": [],
   "source": [
    "# pip install gputools\n",
    "# pip install scikit-tensor-py3\n",
    "\n",
    "from __future__ import print_function, unicode_literals, absolute_import, division\n",
    "import sys\n",
    "import numpy as np\n",
    "import matplotlib\n",
    "matplotlib.rcParams[\"image.interpolation\"] = 'nearest'\n",
    "import matplotlib.pyplot as plt\n",
    "import os\n",
    "from PIL import Image\n",
    "import tensorflow as tf\n",
    "from glob import glob\n",
    "from tqdm import tqdm\n",
    "from tifffile import imread\n",
    "import struct\n",
    "import cv2\n",
    "import pandas as pd\n",
    "\n",
    "from stardist import fill_label_holes, random_label_cmap, calculate_extents, gputools_available\n",
    "from stardist.models import Config2D, StarDist2D, StarDistData2D"
   ]
  },
  {
   "cell_type": "code",
   "execution_count": 85,
   "outputs": [],
   "source": [
    "pth_models = r'\\\\10.99.68.178\\andreex\\data\\Stardist\\12_12_hyperparameter_models'  # place to save models\n",
    "\n",
    "pth_training_HE = r'\\\\10.99.68.178\\andreex\\data\\Stardist\\Train_Val_Splits\\Training\\HE_tiles'  # change this later\n",
    "pth_validation_HE = r'\\\\10.99.68.178\\andreex\\data\\Stardist\\Train_Val_Splits\\Validation\\HE_tiles'\n",
    "pth_testing_HE = r'\\\\10.99.68.178\\andreex\\data\\Stardist\\Testing\\monkey\\tiles'\n",
    "\n",
    "pth_training_masks = r'\\\\10.99.68.178\\andreex\\data\\Stardist\\Train_Val_Splits\\Training\\masks'\n",
    "pth_validation_masks = r'\\\\10.99.68.178\\andreex\\data\\Stardist\\Train_Val_Splits\\Validation\\masks'\n",
    "pth_testing_masks = r'\\\\10.99.68.178\\andreex\\data\\Stardist\\Testing\\monkey\\qupath\\ground_truth\\masks'"
   ],
   "metadata": {
    "collapsed": false,
    "ExecuteTime": {
     "end_time": "2023-12-12T22:58:39.147451800Z",
     "start_time": "2023-12-12T22:58:39.014199100Z"
    }
   }
  },
  {
   "cell_type": "markdown",
   "source": [
    "Helper functions"
   ],
   "metadata": {
    "collapsed": false
   }
  },
  {
   "cell_type": "code",
   "execution_count": 86,
   "outputs": [],
   "source": [
    "def augment_images(HE_tiles, mask_tiles):\n",
    "  \"\"\"\n",
    "  Augments a set of HE images and corresponding mask labels by rotating and flipping them.\n",
    "\n",
    "  Args:\n",
    "    HE_tiles: A list of NumPy arrays representing the HE images.\n",
    "    mask_tiles: A list of NumPy arrays representing the mask labels for the HE images.\n",
    "\n",
    "  Returns:\n",
    "    HE_aug: A list of NumPy arrays representing the augmented HE images.\n",
    "    mask_aug: A list of NumPy arrays representing the augmented mask labels.\n",
    "  \"\"\"\n",
    "\n",
    "  HE_aug = [[] for _ in range(len(HE_tiles))]\n",
    "  mask_aug = [[] for _ in range(len(mask_tiles))]\n",
    "\n",
    "  for i in range(len(HE_tiles)):\n",
    "    im = Image.fromarray(HE_tiles[i])\n",
    "    lbl = Image.fromarray(mask_tiles[i])\n",
    "\n",
    "    # Rotate the image and label 90 degrees three times.\n",
    "    for _ in range(3):\n",
    "      im = im.rotate(90)\n",
    "      HE_aug[i].append(im)\n",
    "      lbl = lbl.rotate(90)\n",
    "      mask_aug[i].append(lbl)\n",
    "\n",
    "    # Flip the image and label horizontally.\n",
    "    im = Image.fromarray(HE_tiles[i])\n",
    "    flipped_im = im.transpose(Image.FLIP_LEFT_RIGHT)\n",
    "\n",
    "    lbl = Image.fromarray(mask_tiles[i])\n",
    "    flipped_lbl = lbl.transpose(Image.FLIP_LEFT_RIGHT)\n",
    "\n",
    "    HE_aug[i].append(flipped_im)\n",
    "    mask_aug[i].append(flipped_lbl)\n",
    "\n",
    "    # Rotate the flipped image and label 90 degrees three times.\n",
    "    for _ in range(3):\n",
    "      flipped_im = flipped_im.rotate(90)\n",
    "      HE_aug[i].append(flipped_im)\n",
    "      flipped_lbl = flipped_lbl.rotate(90)\n",
    "      mask_aug[i].append(flipped_lbl)\n",
    "\n",
    "  return HE_aug, mask_aug"
   ],
   "metadata": {
    "collapsed": false,
    "ExecuteTime": {
     "end_time": "2023-12-12T22:58:39.165465Z",
     "start_time": "2023-12-12T22:58:39.027199500Z"
    }
   }
  },
  {
   "cell_type": "code",
   "execution_count": 87,
   "outputs": [],
   "source": [
    "import random\n",
    "import math\n",
    "\n",
    "def get_random_indices(images, ratio_blurred):\n",
    "    num_tiles = len(images)\n",
    "    num_blurred = math.floor(ratio_blurred*num_tiles)\n",
    "    # print(num_blurred)\n",
    "\n",
    "    random.seed(0)\n",
    "    random_indices = [random.randint(0, num_tiles) for _ in range(num_blurred)]\n",
    "    # print(random_indices)\n",
    "    return random_indices, num_tiles"
   ],
   "metadata": {
    "collapsed": false,
    "ExecuteTime": {
     "end_time": "2023-12-12T22:58:39.177462600Z",
     "start_time": "2023-12-12T22:58:39.043199500Z"
    }
   }
  },
  {
   "cell_type": "code",
   "execution_count": 88,
   "outputs": [],
   "source": [
    "def blur_images(images, ratio=0.1, radius=2):\n",
    "    \"\"\"blur 10 percent of training tiles\"\"\"\n",
    "    random_indices, num_tiles = get_random_indices(images, ratio)\n",
    "    for i in range(num_tiles):\n",
    "        if i in random_indices:\n",
    "            images[i] = images[i].filter(ImageFilter.GaussianBlur(radius=2))\n",
    "\n",
    "    return images"
   ],
   "metadata": {
    "collapsed": false,
    "ExecuteTime": {
     "end_time": "2023-12-12T22:58:39.178462800Z",
     "start_time": "2023-12-12T22:58:39.060199800Z"
    }
   }
  },
  {
   "cell_type": "markdown",
   "source": [
    "Functions that get tiles below"
   ],
   "metadata": {
    "collapsed": false
   }
  },
  {
   "cell_type": "code",
   "execution_count": 89,
   "outputs": [],
   "source": [
    "def get_training_set(pth_training_HE, pth_training_masks, gaussian_ratio=0.1, gaussian_radius=2):\n",
    "    training_HE_tiles_pths = sorted(glob(os.path.join(pth_training_HE,'*.tif')))\n",
    "    training_mask_tiles_pths = sorted(glob(os.path.join(pth_training_masks,'*.tif')))\n",
    "\n",
    "    HE_original_tiles = list(map(imread,training_HE_tiles_pths))\n",
    "    mask_original_tiles = list(map(imread,training_mask_tiles_pths))\n",
    "\n",
    "    HE_aug, mask_aug = augment_images(HE_original_tiles, mask_original_tiles)\n",
    "    HE_trn_tiles_raw = [im for im_list in HE_aug for im in im_list]  # flatten\n",
    "    HE_trn_masks = [np.array(im) for im_list in mask_aug for im in im_list]  # flatten\n",
    "\n",
    "    HE_trn_masks = [fill_label_holes(y) for y in HE_trn_masks]  # fills holes in annotations if there are any\n",
    "\n",
    "    if gaussian_ratio > 0:\n",
    "        HE_trn_tiles_raw = blur_images(HE_trn_tiles_raw, ratio=gaussian_ratio, radius=gaussian_radius)\n",
    "\n",
    "    HE_trn_tiles = [np.array(im)/255 for im in HE_trn_tiles_raw]  # normalize\n",
    "\n",
    "    return HE_trn_tiles, HE_trn_masks"
   ],
   "metadata": {
    "collapsed": false,
    "ExecuteTime": {
     "end_time": "2023-12-12T22:58:39.178462800Z",
     "start_time": "2023-12-12T22:58:39.074199700Z"
    }
   }
  },
  {
   "cell_type": "code",
   "execution_count": 90,
   "outputs": [],
   "source": [
    "def get_validation_set(pth_validation_HE, pth_validation_masks):\n",
    "    validation_HE_tiles_pths = sorted(glob(os.path.join(pth_validation_HE,'*.tif')))\n",
    "    validation_mask_tiles_pths = sorted(glob(os.path.join(pth_validation_masks,'*.tif')))\n",
    "\n",
    "    HE_val_tiles = list(map(imread,validation_HE_tiles_pths))\n",
    "    HE_val_masks = list(map(imread,validation_mask_tiles_pths))\n",
    "\n",
    "    HE_val_tiles = [np.array(im) for im in HE_val_tiles]\n",
    "    HE_val_tiles = [im/255 for im in HE_val_tiles]  # normalize\n",
    "\n",
    "    HE_val_masks = [np.array(im) for im in HE_val_masks]\n",
    "    HE_val_masks = [fill_label_holes(y) for y in HE_val_masks]  # fills holes in annotations if there are any\n",
    "\n",
    "    return HE_val_tiles, HE_val_masks"
   ],
   "metadata": {
    "collapsed": false,
    "ExecuteTime": {
     "end_time": "2023-12-12T22:58:39.178462800Z",
     "start_time": "2023-12-12T22:58:39.090200Z"
    }
   }
  },
  {
   "cell_type": "code",
   "execution_count": 91,
   "outputs": [],
   "source": [
    "def get_testing_set(pth_testing_HE, pth_testing_masks):\n",
    "    testing_HE_tiles_pths = sorted(glob(os.path.join(pth_testing_HE,'*.tif')))\n",
    "    testing_mask_tiles_pths = sorted(glob(os.path.join(pth_testing_masks,'*.tif')))\n",
    "\n",
    "    HE_testing_tiles = list(map(imread,testing_HE_tiles_pths))\n",
    "    HE_testing_masks = list(map(imread,testing_mask_tiles_pths))\n",
    "\n",
    "    HE_testing_tiles = [np.array(im) for im in HE_testing_tiles]\n",
    "    HE_testing_tiles = [im/255 for im in HE_testing_tiles]  # normalize\n",
    "\n",
    "    HE_testing_masks = [np.array(im) for im in HE_testing_masks]\n",
    "    HE_testing_masks = [fill_label_holes(y) for y in HE_testing_masks]  # fills holes in annotations if there are any\n",
    "\n",
    "    return HE_testing_tiles, HE_testing_masks"
   ],
   "metadata": {
    "collapsed": false,
    "ExecuteTime": {
     "end_time": "2023-12-12T22:58:39.178462800Z",
     "start_time": "2023-12-12T22:58:39.106199900Z"
    }
   }
  },
  {
   "cell_type": "code",
   "execution_count": 92,
   "outputs": [],
   "source": [
    "HE_trn_tiles_2, HE_trn_masks_2 = get_training_set(pth_training_HE, pth_training_masks, gaussian_ratio=0.1, gaussian_radius=2)"
   ],
   "metadata": {
    "collapsed": false,
    "ExecuteTime": {
     "end_time": "2023-12-12T22:58:43.997333100Z",
     "start_time": "2023-12-12T22:58:39.122199700Z"
    }
   }
  },
  {
   "cell_type": "code",
   "execution_count": 93,
   "outputs": [
    {
     "name": "stdout",
     "output_type": "stream",
     "text": [
      "189\n",
      "189\n"
     ]
    }
   ],
   "source": [
    "print(len(HE_trn_tiles_2))\n",
    "print(len(HE_trn_masks_2))"
   ],
   "metadata": {
    "collapsed": false,
    "ExecuteTime": {
     "end_time": "2023-12-12T22:58:44.021333100Z",
     "start_time": "2023-12-12T22:58:43.993332500Z"
    }
   }
  },
  {
   "cell_type": "code",
   "execution_count": 94,
   "outputs": [],
   "source": [
    "HE_val_tiles_2, HE_val_masks_2 = get_validation_set(pth_validation_HE, pth_validation_masks)"
   ],
   "metadata": {
    "collapsed": false,
    "ExecuteTime": {
     "end_time": "2023-12-12T22:58:44.867585Z",
     "start_time": "2023-12-12T22:58:44.021333100Z"
    }
   }
  },
  {
   "cell_type": "code",
   "execution_count": 95,
   "outputs": [
    {
     "name": "stdout",
     "output_type": "stream",
     "text": [
      "12\n",
      "12\n"
     ]
    }
   ],
   "source": [
    "print(len(HE_val_tiles_2))\n",
    "print(len(HE_val_masks_2))"
   ],
   "metadata": {
    "collapsed": false,
    "ExecuteTime": {
     "end_time": "2023-12-12T22:58:44.883399100Z",
     "start_time": "2023-12-12T22:58:44.865546Z"
    }
   }
  },
  {
   "cell_type": "code",
   "execution_count": 96,
   "outputs": [
    {
     "ename": "KeyboardInterrupt",
     "evalue": "",
     "output_type": "error",
     "traceback": [
      "\u001B[1;31m---------------------------------------------------------------------------\u001B[0m",
      "\u001B[1;31mKeyboardInterrupt\u001B[0m                         Traceback (most recent call last)",
      "\u001B[1;32m~\\AppData\\Local\\Temp\\ipykernel_57668\\2337200264.py\u001B[0m in \u001B[0;36m?\u001B[1;34m()\u001B[0m\n\u001B[1;32m----> 1\u001B[1;33m \u001B[0mHE_testing_tiles_2\u001B[0m\u001B[1;33m,\u001B[0m \u001B[0mHE_testing_masks_2\u001B[0m \u001B[1;33m=\u001B[0m \u001B[0mget_testing_set\u001B[0m\u001B[1;33m(\u001B[0m\u001B[0mpth_testing_HE\u001B[0m\u001B[1;33m,\u001B[0m \u001B[0mpth_testing_masks\u001B[0m\u001B[1;33m)\u001B[0m\u001B[1;33m\u001B[0m\u001B[1;33m\u001B[0m\u001B[0m\n\u001B[0m",
      "\u001B[1;32m~\\AppData\\Local\\Temp\\ipykernel_57668\\319166432.py\u001B[0m in \u001B[0;36m?\u001B[1;34m(pth_testing_HE, pth_testing_masks)\u001B[0m\n\u001B[0;32m      1\u001B[0m \u001B[1;32mdef\u001B[0m \u001B[0mget_testing_set\u001B[0m\u001B[1;33m(\u001B[0m\u001B[0mpth_testing_HE\u001B[0m\u001B[1;33m,\u001B[0m \u001B[0mpth_testing_masks\u001B[0m\u001B[1;33m)\u001B[0m\u001B[1;33m:\u001B[0m\u001B[1;33m\u001B[0m\u001B[1;33m\u001B[0m\u001B[0m\n\u001B[0;32m      2\u001B[0m     \u001B[0mtesting_HE_tiles_pths\u001B[0m \u001B[1;33m=\u001B[0m \u001B[0msorted\u001B[0m\u001B[1;33m(\u001B[0m\u001B[0mglob\u001B[0m\u001B[1;33m(\u001B[0m\u001B[0mos\u001B[0m\u001B[1;33m.\u001B[0m\u001B[0mpath\u001B[0m\u001B[1;33m.\u001B[0m\u001B[0mjoin\u001B[0m\u001B[1;33m(\u001B[0m\u001B[0mpth_testing_HE\u001B[0m\u001B[1;33m,\u001B[0m\u001B[1;34m'*.tif'\u001B[0m\u001B[1;33m)\u001B[0m\u001B[1;33m)\u001B[0m\u001B[1;33m)\u001B[0m\u001B[1;33m\u001B[0m\u001B[1;33m\u001B[0m\u001B[0m\n\u001B[0;32m      3\u001B[0m     \u001B[0mtesting_mask_tiles_pths\u001B[0m \u001B[1;33m=\u001B[0m \u001B[0msorted\u001B[0m\u001B[1;33m(\u001B[0m\u001B[0mglob\u001B[0m\u001B[1;33m(\u001B[0m\u001B[0mos\u001B[0m\u001B[1;33m.\u001B[0m\u001B[0mpath\u001B[0m\u001B[1;33m.\u001B[0m\u001B[0mjoin\u001B[0m\u001B[1;33m(\u001B[0m\u001B[0mpth_testing_masks\u001B[0m\u001B[1;33m,\u001B[0m\u001B[1;34m'*.tif'\u001B[0m\u001B[1;33m)\u001B[0m\u001B[1;33m)\u001B[0m\u001B[1;33m)\u001B[0m\u001B[1;33m\u001B[0m\u001B[1;33m\u001B[0m\u001B[0m\n\u001B[0;32m      4\u001B[0m \u001B[1;33m\u001B[0m\u001B[0m\n\u001B[1;32m----> 5\u001B[1;33m     \u001B[0mHE_testing_tiles\u001B[0m \u001B[1;33m=\u001B[0m \u001B[0mlist\u001B[0m\u001B[1;33m(\u001B[0m\u001B[0mmap\u001B[0m\u001B[1;33m(\u001B[0m\u001B[0mimread\u001B[0m\u001B[1;33m,\u001B[0m\u001B[0mtesting_HE_tiles_pths\u001B[0m\u001B[1;33m)\u001B[0m\u001B[1;33m)\u001B[0m\u001B[1;33m\u001B[0m\u001B[1;33m\u001B[0m\u001B[0m\n\u001B[0m\u001B[0;32m      6\u001B[0m     \u001B[0mHE_testing_masks\u001B[0m \u001B[1;33m=\u001B[0m \u001B[0mlist\u001B[0m\u001B[1;33m(\u001B[0m\u001B[0mmap\u001B[0m\u001B[1;33m(\u001B[0m\u001B[0mimread\u001B[0m\u001B[1;33m,\u001B[0m\u001B[0mtesting_mask_tiles_pths\u001B[0m\u001B[1;33m)\u001B[0m\u001B[1;33m)\u001B[0m\u001B[1;33m\u001B[0m\u001B[1;33m\u001B[0m\u001B[0m\n\u001B[0;32m      7\u001B[0m \u001B[1;33m\u001B[0m\u001B[0m\n\u001B[0;32m      8\u001B[0m     \u001B[0mHE_testing_tiles\u001B[0m \u001B[1;33m=\u001B[0m \u001B[1;33m[\u001B[0m\u001B[0mnp\u001B[0m\u001B[1;33m.\u001B[0m\u001B[0marray\u001B[0m\u001B[1;33m(\u001B[0m\u001B[0mim\u001B[0m\u001B[1;33m)\u001B[0m \u001B[1;32mfor\u001B[0m \u001B[0mim\u001B[0m \u001B[1;32min\u001B[0m \u001B[0mHE_testing_tiles\u001B[0m\u001B[1;33m]\u001B[0m\u001B[1;33m\u001B[0m\u001B[1;33m\u001B[0m\u001B[0m\n",
      "\u001B[1;32m~\\anaconda3\\envs\\monkey_nuc_segment_v6\\lib\\site-packages\\tifffile\\tifffile.py\u001B[0m in \u001B[0;36m?\u001B[1;34m(files, selection, aszarr, key, series, level, squeeze, maxworkers, buffersize, mode, name, offset, size, pattern, axesorder, categories, imread, sort, container, chunkshape, dtype, axestiled, ioworkers, chunkmode, fillvalue, zattrs, multiscales, omexml, out, out_inplace, _multifile, _useframes, **kwargs)\u001B[0m\n\u001B[0;32m   1074\u001B[0m \u001B[1;33m\u001B[0m\u001B[0m\n\u001B[0;32m   1075\u001B[0m         if isinstance(files, str) or not isinstance(\n\u001B[0;32m   1076\u001B[0m             \u001B[0mfiles\u001B[0m\u001B[1;33m,\u001B[0m \u001B[0mcollections\u001B[0m\u001B[1;33m.\u001B[0m\u001B[0mabc\u001B[0m\u001B[1;33m.\u001B[0m\u001B[0mSequence\u001B[0m\u001B[1;33m\u001B[0m\u001B[1;33m\u001B[0m\u001B[0m\n\u001B[0;32m   1077\u001B[0m         ):\n\u001B[1;32m-> 1078\u001B[1;33m             with TiffFile(\n\u001B[0m\u001B[0;32m   1079\u001B[0m                 \u001B[0mfiles\u001B[0m\u001B[1;33m,\u001B[0m\u001B[1;33m\u001B[0m\u001B[1;33m\u001B[0m\u001B[0m\n\u001B[0;32m   1080\u001B[0m                 \u001B[0mmode\u001B[0m\u001B[1;33m=\u001B[0m\u001B[0mmode\u001B[0m\u001B[1;33m,\u001B[0m\u001B[1;33m\u001B[0m\u001B[1;33m\u001B[0m\u001B[0m\n\u001B[0;32m   1081\u001B[0m                 \u001B[0mname\u001B[0m\u001B[1;33m=\u001B[0m\u001B[0mname\u001B[0m\u001B[1;33m,\u001B[0m\u001B[1;33m\u001B[0m\u001B[1;33m\u001B[0m\u001B[0m\n",
      "\u001B[1;32m~\\anaconda3\\envs\\monkey_nuc_segment_v6\\lib\\site-packages\\tifffile\\tifffile.py\u001B[0m in \u001B[0;36m?\u001B[1;34m(self, file, mode, name, offset, size, omexml, _multifile, _useframes, _parent, **is_flags)\u001B[0m\n\u001B[0;32m   4070\u001B[0m                 \u001B[1;32mraise\u001B[0m \u001B[0mValueError\u001B[0m\u001B[1;33m(\u001B[0m\u001B[1;34m'invalid OME-XML'\u001B[0m\u001B[1;33m)\u001B[0m\u001B[1;33m\u001B[0m\u001B[1;33m\u001B[0m\u001B[0m\n\u001B[0;32m   4071\u001B[0m             \u001B[0mself\u001B[0m\u001B[1;33m.\u001B[0m\u001B[0m_omexml\u001B[0m \u001B[1;33m=\u001B[0m \u001B[0momexml\u001B[0m\u001B[1;33m\u001B[0m\u001B[1;33m\u001B[0m\u001B[0m\n\u001B[0;32m   4072\u001B[0m             \u001B[0mself\u001B[0m\u001B[1;33m.\u001B[0m\u001B[0mis_ome\u001B[0m \u001B[1;33m=\u001B[0m \u001B[1;32mTrue\u001B[0m\u001B[1;33m\u001B[0m\u001B[1;33m\u001B[0m\u001B[0m\n\u001B[0;32m   4073\u001B[0m \u001B[1;33m\u001B[0m\u001B[0m\n\u001B[1;32m-> 4074\u001B[1;33m         \u001B[0mfh\u001B[0m \u001B[1;33m=\u001B[0m \u001B[0mFileHandle\u001B[0m\u001B[1;33m(\u001B[0m\u001B[0mfile\u001B[0m\u001B[1;33m,\u001B[0m \u001B[0mmode\u001B[0m\u001B[1;33m=\u001B[0m\u001B[0mmode\u001B[0m\u001B[1;33m,\u001B[0m \u001B[0mname\u001B[0m\u001B[1;33m=\u001B[0m\u001B[0mname\u001B[0m\u001B[1;33m,\u001B[0m \u001B[0moffset\u001B[0m\u001B[1;33m=\u001B[0m\u001B[0moffset\u001B[0m\u001B[1;33m,\u001B[0m \u001B[0msize\u001B[0m\u001B[1;33m=\u001B[0m\u001B[0msize\u001B[0m\u001B[1;33m)\u001B[0m\u001B[1;33m\u001B[0m\u001B[1;33m\u001B[0m\u001B[0m\n\u001B[0m\u001B[0;32m   4075\u001B[0m         \u001B[0mself\u001B[0m\u001B[1;33m.\u001B[0m\u001B[0m_fh\u001B[0m \u001B[1;33m=\u001B[0m \u001B[0mfh\u001B[0m\u001B[1;33m\u001B[0m\u001B[1;33m\u001B[0m\u001B[0m\n\u001B[0;32m   4076\u001B[0m         \u001B[0mself\u001B[0m\u001B[1;33m.\u001B[0m\u001B[0m_multifile\u001B[0m \u001B[1;33m=\u001B[0m \u001B[1;32mTrue\u001B[0m \u001B[1;32mif\u001B[0m \u001B[0m_multifile\u001B[0m \u001B[1;32mis\u001B[0m \u001B[1;32mNone\u001B[0m \u001B[1;32melse\u001B[0m \u001B[0mbool\u001B[0m\u001B[1;33m(\u001B[0m\u001B[0m_multifile\u001B[0m\u001B[1;33m)\u001B[0m\u001B[1;33m\u001B[0m\u001B[1;33m\u001B[0m\u001B[0m\n\u001B[0;32m   4077\u001B[0m         \u001B[0mself\u001B[0m\u001B[1;33m.\u001B[0m\u001B[0m_files\u001B[0m \u001B[1;33m=\u001B[0m \u001B[1;33m{\u001B[0m\u001B[0mfh\u001B[0m\u001B[1;33m.\u001B[0m\u001B[0mname\u001B[0m\u001B[1;33m:\u001B[0m \u001B[0mself\u001B[0m\u001B[1;33m}\u001B[0m\u001B[1;33m\u001B[0m\u001B[1;33m\u001B[0m\u001B[0m\n",
      "\u001B[1;32m~\\anaconda3\\envs\\monkey_nuc_segment_v6\\lib\\site-packages\\tifffile\\tifffile.py\u001B[0m in \u001B[0;36m?\u001B[1;34m(self, file, mode, name, offset, size)\u001B[0m\n\u001B[0;32m  14210\u001B[0m         \u001B[0mself\u001B[0m\u001B[1;33m.\u001B[0m\u001B[0m_offset\u001B[0m \u001B[1;33m=\u001B[0m \u001B[1;33m-\u001B[0m\u001B[1;36m1\u001B[0m \u001B[1;32mif\u001B[0m \u001B[0moffset\u001B[0m \u001B[1;32mis\u001B[0m \u001B[1;32mNone\u001B[0m \u001B[1;32melse\u001B[0m \u001B[0moffset\u001B[0m\u001B[1;33m\u001B[0m\u001B[1;33m\u001B[0m\u001B[0m\n\u001B[0;32m  14211\u001B[0m         \u001B[0mself\u001B[0m\u001B[1;33m.\u001B[0m\u001B[0m_size\u001B[0m \u001B[1;33m=\u001B[0m \u001B[1;33m-\u001B[0m\u001B[1;36m1\u001B[0m \u001B[1;32mif\u001B[0m \u001B[0msize\u001B[0m \u001B[1;32mis\u001B[0m \u001B[1;32mNone\u001B[0m \u001B[1;32melse\u001B[0m \u001B[0msize\u001B[0m\u001B[1;33m\u001B[0m\u001B[1;33m\u001B[0m\u001B[0m\n\u001B[0;32m  14212\u001B[0m         \u001B[0mself\u001B[0m\u001B[1;33m.\u001B[0m\u001B[0m_close\u001B[0m \u001B[1;33m=\u001B[0m \u001B[1;32mTrue\u001B[0m\u001B[1;33m\u001B[0m\u001B[1;33m\u001B[0m\u001B[0m\n\u001B[0;32m  14213\u001B[0m         \u001B[0mself\u001B[0m\u001B[1;33m.\u001B[0m\u001B[0m_lock\u001B[0m \u001B[1;33m=\u001B[0m \u001B[0mNullContext\u001B[0m\u001B[1;33m(\u001B[0m\u001B[1;33m)\u001B[0m\u001B[1;33m\u001B[0m\u001B[1;33m\u001B[0m\u001B[0m\n\u001B[1;32m> 14214\u001B[1;33m         \u001B[0mself\u001B[0m\u001B[1;33m.\u001B[0m\u001B[0mopen\u001B[0m\u001B[1;33m(\u001B[0m\u001B[1;33m)\u001B[0m\u001B[1;33m\u001B[0m\u001B[1;33m\u001B[0m\u001B[0m\n\u001B[0m\u001B[0;32m  14215\u001B[0m         \u001B[1;32massert\u001B[0m \u001B[0mself\u001B[0m\u001B[1;33m.\u001B[0m\u001B[0m_fh\u001B[0m \u001B[1;32mis\u001B[0m \u001B[1;32mnot\u001B[0m \u001B[1;32mNone\u001B[0m\u001B[1;33m\u001B[0m\u001B[1;33m\u001B[0m\u001B[0m\n",
      "\u001B[1;32m~\\anaconda3\\envs\\monkey_nuc_segment_v6\\lib\\site-packages\\tifffile\\tifffile.py\u001B[0m in \u001B[0;36m?\u001B[1;34m(self)\u001B[0m\n\u001B[0;32m  14229\u001B[0m             \u001B[1;32mif\u001B[0m \u001B[0mself\u001B[0m\u001B[1;33m.\u001B[0m\u001B[0m_mode\u001B[0m \u001B[1;32mnot\u001B[0m \u001B[1;32min\u001B[0m \u001B[1;33m{\u001B[0m\u001B[1;34m'rb'\u001B[0m\u001B[1;33m,\u001B[0m \u001B[1;34m'r+b'\u001B[0m\u001B[1;33m,\u001B[0m \u001B[1;34m'wb'\u001B[0m\u001B[1;33m,\u001B[0m \u001B[1;34m'xb'\u001B[0m\u001B[1;33m}\u001B[0m\u001B[1;33m:\u001B[0m\u001B[1;33m\u001B[0m\u001B[1;33m\u001B[0m\u001B[0m\n\u001B[0;32m  14230\u001B[0m                 \u001B[1;32mraise\u001B[0m \u001B[0mValueError\u001B[0m\u001B[1;33m(\u001B[0m\u001B[1;34mf'invalid mode {self._mode}'\u001B[0m\u001B[1;33m)\u001B[0m\u001B[1;33m\u001B[0m\u001B[1;33m\u001B[0m\u001B[0m\n\u001B[0;32m  14231\u001B[0m             \u001B[0mself\u001B[0m\u001B[1;33m.\u001B[0m\u001B[0m_file\u001B[0m \u001B[1;33m=\u001B[0m \u001B[0mos\u001B[0m\u001B[1;33m.\u001B[0m\u001B[0mpath\u001B[0m\u001B[1;33m.\u001B[0m\u001B[0mrealpath\u001B[0m\u001B[1;33m(\u001B[0m\u001B[0mself\u001B[0m\u001B[1;33m.\u001B[0m\u001B[0m_file\u001B[0m\u001B[1;33m)\u001B[0m\u001B[1;33m\u001B[0m\u001B[1;33m\u001B[0m\u001B[0m\n\u001B[0;32m  14232\u001B[0m             \u001B[0mself\u001B[0m\u001B[1;33m.\u001B[0m\u001B[0m_dir\u001B[0m\u001B[1;33m,\u001B[0m \u001B[0mself\u001B[0m\u001B[1;33m.\u001B[0m\u001B[0m_name\u001B[0m \u001B[1;33m=\u001B[0m \u001B[0mos\u001B[0m\u001B[1;33m.\u001B[0m\u001B[0mpath\u001B[0m\u001B[1;33m.\u001B[0m\u001B[0msplit\u001B[0m\u001B[1;33m(\u001B[0m\u001B[0mself\u001B[0m\u001B[1;33m.\u001B[0m\u001B[0m_file\u001B[0m\u001B[1;33m)\u001B[0m\u001B[1;33m\u001B[0m\u001B[1;33m\u001B[0m\u001B[0m\n\u001B[1;32m> 14233\u001B[1;33m             self._fh = open(\n\u001B[0m\u001B[0;32m  14234\u001B[0m                 \u001B[0mself\u001B[0m\u001B[1;33m.\u001B[0m\u001B[0m_file\u001B[0m\u001B[1;33m,\u001B[0m \u001B[0mself\u001B[0m\u001B[1;33m.\u001B[0m\u001B[0m_mode\u001B[0m\u001B[1;33m,\u001B[0m \u001B[0mencoding\u001B[0m\u001B[1;33m=\u001B[0m\u001B[1;32mNone\u001B[0m\u001B[1;33m\u001B[0m\u001B[1;33m\u001B[0m\u001B[0m\n\u001B[0;32m  14235\u001B[0m             )  # type: ignore\n\u001B[0;32m  14236\u001B[0m             \u001B[0mself\u001B[0m\u001B[1;33m.\u001B[0m\u001B[0m_close\u001B[0m \u001B[1;33m=\u001B[0m \u001B[1;32mTrue\u001B[0m\u001B[1;33m\u001B[0m\u001B[1;33m\u001B[0m\u001B[0m\n",
      "\u001B[1;31mKeyboardInterrupt\u001B[0m: "
     ]
    }
   ],
   "source": [
    "HE_testing_tiles_2, HE_testing_masks_2 = get_testing_set(pth_testing_HE, pth_testing_masks)"
   ],
   "metadata": {
    "collapsed": false,
    "ExecuteTime": {
     "end_time": "2023-12-12T22:58:45.981169500Z",
     "start_time": "2023-12-12T22:58:44.881399200Z"
    }
   }
  },
  {
   "cell_type": "code",
   "execution_count": null,
   "outputs": [],
   "source": [
    "print(len(HE_testing_tiles_2))\n",
    "print(len(HE_testing_masks_2))"
   ],
   "metadata": {
    "collapsed": false,
    "ExecuteTime": {
     "start_time": "2023-12-12T22:58:45.978168900Z"
    }
   }
  },
  {
   "cell_type": "markdown",
   "source": [
    "Show some images and make sure everything is ok"
   ],
   "metadata": {
    "collapsed": false
   }
  },
  {
   "cell_type": "code",
   "execution_count": null,
   "outputs": [],
   "source": [
    "# Plot image and label for some images - sanity check\n",
    "def show_tile_segmented(tile, segmented, **kwargs):\n",
    "    \"\"\"Plot large image at different resolutions.\"\"\"\n",
    "    fig, ax = plt.subplots(1, 2, figsize=(16/2, 8/2))\n",
    "\n",
    "    # Plot the original image on the left\n",
    "    ax[0].imshow(tile, **kwargs)\n",
    "\n",
    "    # Plot the cropped image on the right\n",
    "    ax[1].imshow(segmented, **kwargs)\n",
    "\n",
    "    ax[0].axis('off')\n",
    "    ax[1].axis('off')\n",
    "\n",
    "    plt.tight_layout()\n",
    "    plt.show()\n",
    "\n",
    "i = 0\n",
    "\n",
    "#Random color map labels\n",
    "np.random.seed(42)\n",
    "lbl_cmap = random_label_cmap()"
   ],
   "metadata": {
    "collapsed": false,
    "ExecuteTime": {
     "start_time": "2023-12-12T22:58:45.980168900Z"
    }
   }
  },
  {
   "cell_type": "code",
   "execution_count": null,
   "outputs": [],
   "source": [
    "i += 1\n",
    "\n",
    "print(i)\n",
    "\n",
    "img, lbl = HE_trn_tiles_2[i], HE_trn_masks_2[i]\n",
    "show_tile_segmented(img,lbl)"
   ],
   "metadata": {
    "collapsed": false,
    "ExecuteTime": {
     "start_time": "2023-12-12T22:58:45.981169500Z"
    }
   }
  },
  {
   "cell_type": "code",
   "execution_count": null,
   "outputs": [],
   "source": [
    "i = 0"
   ],
   "metadata": {
    "collapsed": false
   }
  },
  {
   "cell_type": "code",
   "execution_count": null,
   "outputs": [],
   "source": [
    "# look at validation tiles\n",
    "img, lbl = HE_val_tiles_2[i], HE_val_masks_2[i]\n",
    "show_tile_segmented(img,lbl)\n",
    "i += 1"
   ],
   "metadata": {
    "collapsed": false
   }
  },
  {
   "cell_type": "markdown",
   "source": [
    "Configure Model"
   ],
   "metadata": {
    "collapsed": false
   }
  },
  {
   "cell_type": "code",
   "execution_count": null,
   "outputs": [],
   "source": [
    "if tf.config.list_physical_devices('GPU'):\n",
    "    print(\"GPU is available\")\n",
    "else:\n",
    "    print(\"GPU is not available\")\n",
    "\n",
    "print(tf.__version__)\n",
    "\n",
    "#Define the config by setting some parameter values\n",
    "# 32 is a good default choice (see 1_data.ipynb)\n",
    "n_rays = 32  #Number of radial directions for the star-convex polygon.\n",
    "\n",
    "# Use OpenCL-based computations for data generator during training (requires 'gputools')\n",
    "use_gpu = True and gputools_available()\n",
    "\n",
    "# Predict on subsampled grid for increased efficiency and larger field of view\n",
    "grid = (2,2)\n",
    "\n",
    "n_channel = 3  # change if not using rbg images\n",
    "\n",
    "conf = Config2D (\n",
    "    n_rays       = n_rays,\n",
    "    grid         = grid,\n",
    "    use_gpu      = use_gpu,\n",
    "    n_channel_in = n_channel,\n",
    ")\n",
    "# print(conf)\n",
    "vars(conf)"
   ],
   "metadata": {
    "collapsed": false
   }
  },
  {
   "cell_type": "markdown",
   "source": [
    "Functions to load models"
   ],
   "metadata": {
    "collapsed": false
   }
  },
  {
   "cell_type": "code",
   "execution_count": null,
   "outputs": [],
   "source": [
    "#Start from 40x H&E pre-trained model to the specified directory\n",
    "import copy\n",
    "import json\n",
    "\n",
    "def load_justin_model(folder_to_write_new_model_folder: str, name_for_new_model: str) -> StarDist2D:\n",
    "    published_model = load_model(r'\\\\10.99.68.178\\andreex\\students\\Donald Monkey fetus\\stardist\\Model_00')\n",
    "    original_thresholds = copy.copy({'prob': published_model.thresholds[0], 'nms': published_model.thresholds[1]})\n",
    "    configuration = Config2D(n_channel_in=3, grid=(2,2), use_gpu=True, train_patch_size=[256, 256])\n",
    "    model = StarDist2D(config=configuration, basedir=folder_to_write_new_model_folder, name=name_for_new_model)\n",
    "    model.keras_model.set_weights(published_model.keras_model.get_weights())\n",
    "    model.thresholds = original_thresholds\n",
    "    return model\n",
    "\n",
    "def load_published_he_model(folder_to_write_new_model_folder: str, name_for_new_model: str) -> StarDist2D:\n",
    "    published_model = StarDist2D.from_pretrained('2D_versatile_he')\n",
    "    original_thresholds = copy.copy({'prob': published_model.thresholds[0], 'nms': published_model.thresholds[1]})\n",
    "    configuration = Config2D(n_channel_in=3, grid=(2,2), use_gpu=True, train_patch_size=[256, 256])\n",
    "    model = StarDist2D(config=configuration, basedir=folder_to_write_new_model_folder, name=name_for_new_model)\n",
    "    model.keras_model.set_weights(published_model.keras_model.get_weights())\n",
    "    model.thresholds = original_thresholds\n",
    "    return model\n",
    "\n",
    "def load_model(model_path: str) -> StarDist2D:\n",
    "    # Load StarDist model weights, configurations, and thresholds\n",
    "    with open(model_path + '\\\\config.json', 'r') as f:\n",
    "        config = json.load(f)\n",
    "    with open(model_path + '\\\\thresholds.json', 'r') as f:\n",
    "        thresh = json.load(f)\n",
    "    model = StarDist2D(config=Config2D(**config), basedir=model_path, name='offshoot_model')\n",
    "    model.thresholds = thresh\n",
    "    print('Overriding defaults:', model.thresholds, '\\n')\n",
    "    model.load_weights(model_path + '\\\\weights_best.h5')\n",
    "    return model\n",
    "\n",
    "def configure_model_for_training(model: StarDist2D,\n",
    "                                 epochs: int = 25, learning_rate: float = 1e-6,\n",
    "                                 batch_size: int = 4, patch_size: list[int,int] = [256, 256]) -> StarDist2D:\n",
    "    model.config.train_epochs = epochs\n",
    "    model.config.train_learning_rate = learning_rate\n",
    "    model.config.train_batch_size = batch_size\n",
    "    model.config.train_patch_size = patch_size\n",
    "    return model"
   ],
   "metadata": {
    "collapsed": false
   }
  },
  {
   "cell_type": "code",
   "execution_count": null,
   "outputs": [],
   "source": [
    "from tensorflow.python.summary.summary_iterator import summary_iterator\n",
    "\n",
    "def get_loss_data(pth_training_log, pth_out) -> list:\n",
    "\n",
    "    # event_file = r\"\\\\10.99.68.178\\andreex\\data\\Stardist\\models\\monkey_ft_11_02_2023_lr_1e-4_epochs_200_pt_10\\logs\\train\\events.out.tfevents.1698964029.WPC-C13.20400.7.v2\"\n",
    "\n",
    "    loss_values = []\n",
    "\n",
    "    for summary in summary_iterator(pth_training_log):\n",
    "        for value in summary.summary.value:\n",
    "            if value.tag == 'epoch_loss':\n",
    "                loss = struct.unpack('f', value.tensor.tensor_content)[0]\n",
    "                loss_values.append(loss)\n",
    "\n",
    "    out_txt_name = f\"{pth_out}\\loss.txt\"\n",
    "\n",
    "    with open(out_txt_name, 'w') as f:\n",
    "        f.write('\\n'.join(map(str, loss_values)) + '\\n')\n",
    "\n",
    "    return loss_values"
   ],
   "metadata": {
    "collapsed": false
   }
  },
  {
   "cell_type": "markdown",
   "source": [
    "Define hyperparameters, train"
   ],
   "metadata": {
    "collapsed": false
   }
  },
  {
   "cell_type": "code",
   "execution_count": null,
   "outputs": [],
   "source": [
    "import itertools\n",
    "\n",
    "lrs = [5e-4, 1e-3, 3e-3, 5e-3]\n",
    "epochs_strs = [100, 200, 400]\n",
    "pts = [10, 20, 30, 40]\n",
    "gaussian_ratios = [0, 0.1]\n",
    "\n",
    "\n",
    "# Create a list of all the possible combinations of the hyperparameters\n",
    "list_trainings = list(itertools.product(lrs, epochs_strs, pts, gaussian_ratios))\n",
    "\n",
    "losses_best = []\n",
    "losses_last = []\n",
    "\n",
    "for i in range(len(list_trainings)):\n",
    "    lr=list_trainings[i][0]\n",
    "    epochs=list_trainings[i][1]\n",
    "    pt=list_trainings[i][2]\n",
    "    gaussian_ratio=list_trainings[i][3]\n",
    "    nm='monkey_'\n",
    "    dt='12_12_2023'\n",
    "    outnm = nm + dt + '_lr_' + str(lr) + '_epochs_' + str(epochs) + '_pt_' + str(pt) + '_gaus_ratio_' + str(gaussian_ratio)\n",
    "    print(outnm)\n",
    "    print(f'({i}/{len(list_trainings)})')\n",
    "\n",
    "    HE_trn_tiles, HE_trn_masks = get_training_set(pth_training_HE, pth_training_masks, gaussian_ratio=gaussian_ratio, gaussian_radius=2)\n",
    "    HE_val_tiles, HE_val_masks = get_validation_set(pth_validation_HE, pth_validation_masks)\n",
    "\n",
    "    model = load_published_he_model(pth_models, outnm)\n",
    "    model.config.train_learning_rate = lr\n",
    "    model.config.train_patch_size = (256,256)\n",
    "    model.config.train_reduce_lr={'factor': 0.5, 'patience': pt, 'min_delta': 0}\n",
    "    model.train(HE_trn_tiles, HE_trn_masks, validation_data=(HE_val_tiles,HE_val_masks), epochs=epochs, steps_per_epoch=100)\n",
    "    model.optimize_thresholds(HE_val_tiles,HE_val_masks)\n",
    "\n",
    "    pth_log_train = fr\"\\\\10.99.68.178\\andreex\\data\\Stardist\\models\\{outnm}\\logs\\train\"\n",
    "\n",
    "    pth_log = glob(os.path.join(pth_log_train,'*.v2'))[0]\n",
    "    loss = get_loss_data(str(pth_log), pth_log_train)\n",
    "\n",
    "    losses_best.append(min(loss))\n",
    "    losses_last.append(loss[-1])"
   ],
   "metadata": {
    "collapsed": false
   }
  },
  {
   "cell_type": "code",
   "execution_count": null,
   "outputs": [],
   "source": [],
   "metadata": {
    "collapsed": false
   }
  }
 ],
 "metadata": {
  "kernelspec": {
   "display_name": "Python 3",
   "language": "python",
   "name": "python3"
  },
  "language_info": {
   "codemirror_mode": {
    "name": "ipython",
    "version": 2
   },
   "file_extension": ".py",
   "mimetype": "text/x-python",
   "name": "python",
   "nbconvert_exporter": "python",
   "pygments_lexer": "ipython2",
   "version": "2.7.6"
  }
 },
 "nbformat": 4,
 "nbformat_minor": 0
}
