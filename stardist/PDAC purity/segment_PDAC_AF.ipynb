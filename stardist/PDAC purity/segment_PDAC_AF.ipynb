{
 "cells": [
  {
   "cell_type": "code",
   "execution_count": 50,
   "outputs": [],
   "source": [
    "import numpy as np\n",
    "import matplotlib.pyplot as plt\n",
    "\n",
    "from tifffile import imread, imwrite\n",
    "from csbdeep.utils import Path, normalize\n",
    "from csbdeep.utils.tf import keras_import\n",
    "keras = keras_import()\n",
    "\n",
    "from stardist import export_imagej_rois, random_label_cmap\n",
    "from stardist.models import StarDist2D\n",
    "import tensorflow as tf\n",
    "\n",
    "np.random.seed(0)\n",
    "cmap = random_label_cmap()"
   ],
   "metadata": {
    "collapsed": false,
    "ExecuteTime": {
     "end_time": "2024-01-08T12:33:17.452902600Z",
     "start_time": "2024-01-08T12:33:16.470824300Z"
    }
   },
   "id": "initial_id"
  },
  {
   "cell_type": "code",
   "execution_count": 51,
   "outputs": [
    {
     "name": "stdout",
     "output_type": "stream",
     "text": [
      "GPU is available\n",
      "2.10.1\n"
     ]
    }
   ],
   "source": [
    "if tf.config.list_physical_devices('GPU'):\n",
    "    print(\"GPU is available\")\n",
    "else:\n",
    "    print(\"GPU is not available\")\n",
    "\n",
    "print(tf.__version__)"
   ],
   "metadata": {
    "collapsed": false,
    "ExecuteTime": {
     "end_time": "2024-01-08T12:33:17.474140500Z",
     "start_time": "2024-01-08T12:33:17.454903800Z"
    }
   },
   "id": "62118aec228ef58b"
  },
  {
   "cell_type": "code",
   "execution_count": 52,
   "outputs": [],
   "source": [
    "import os\n",
    "from glob import glob\n",
    "\n",
    "# CHANGE PATH\n",
    "\n",
    "# pths = [r'\\\\10.162.80.16\\Andre\\data\\PDAC Purity Project\\PDAC PURITY Final Analysis\\LCM_H&Es_10x\\10x']\n",
    "pths=[r'\\\\10.162.80.16\\Andre\\data\\PDAC Purity Project\\PDAC PURITY Final Analysis\\LCM_H&Es_10x\\czi\\ometiff20xv2']\n",
    "# pth = r'\\\\10.99.68.178\\andreex\\data\\monkey fetus\\gestational 40'  # path of ndpi files\n",
    "# WSIs = [glob(f'{pth}\\*.ndpi') for pth in pths]\n",
    "WSIs = [glob(f'{pth}\\*.tif') for pth in pths]"
   ],
   "metadata": {
    "collapsed": false,
    "ExecuteTime": {
     "end_time": "2024-01-08T12:33:17.541703600Z",
     "start_time": "2024-01-08T12:33:17.470137100Z"
    }
   },
   "id": "79a05fdafd99c062"
  },
  {
   "cell_type": "code",
   "execution_count": 53,
   "outputs": [],
   "source": [
    "def show_image(img, crop_x, crop_y, tile_size, **kwargs):\n",
    "    \"\"\"Plot large image at different resolutions.\"\"\"\n",
    "    fig, ax = plt.subplots(1, 2, figsize=(16, 8))\n",
    "\n",
    "    # Plot the original image on the left\n",
    "    ax[0].imshow(img, **kwargs)\n",
    "\n",
    "    # Crop the image\n",
    "    cropped_img = img[crop_y:crop_y+tile_size, crop_x:crop_x+tile_size]\n",
    "\n",
    "    # Plot the cropped image on the right\n",
    "    ax[1].imshow(cropped_img, **kwargs)\n",
    "\n",
    "    ax[0].axis('off')\n",
    "    ax[1].axis('off')\n",
    "\n",
    "    plt.tight_layout()\n",
    "    plt.show()"
   ],
   "metadata": {
    "collapsed": false,
    "ExecuteTime": {
     "end_time": "2024-01-08T12:33:17.546709100Z",
     "start_time": "2024-01-08T12:33:17.503166100Z"
    }
   },
   "id": "d69575250ddcd0ae"
  },
  {
   "cell_type": "code",
   "execution_count": 54,
   "outputs": [
    {
     "name": "stdout",
     "output_type": "stream",
     "text": [
      "Using default values: prob_thresh=0.5, nms_thresh=0.4.\n",
      "Overriding defaults: Thresholds(prob=0.6883699162882626, nms=0.3) \n"
     ]
    }
   ],
   "source": [
    "import json\n",
    "from stardist.models import Config2D, StarDist2D\n",
    "\n",
    "def load_model(model_path: str) -> StarDist2D:\n",
    "    # Load StarDist model weights, configurations, and thresholds\n",
    "    with open(model_path + '\\\\config.json', 'r') as f:\n",
    "        config = json.load(f)\n",
    "    with open(model_path + '\\\\thresholds.json', 'r') as f:\n",
    "        thresh = json.load(f)\n",
    "    model = StarDist2D(config=Config2D(**config), basedir=model_path, name='offshoot_model')\n",
    "    model.thresholds = thresh\n",
    "    print('Overriding defaults:', model.thresholds, '\\n')\n",
    "    model.load_weights(model_path + '\\\\weights_best.h5')\n",
    "    return model\n",
    "\n",
    "#\n",
    "# CHANGE RIGHT MODEL\n",
    "# model = load_model(r\"\\\\10.99.68.178\\andreex\\data\\Stardist\\qupath_training_annotations\\models\\fallopian_tube_12_7_2023_lr_0.001_epochs_400_pt_40\")\n",
    "model = load_model(r\"\\\\10.99.68.178\\andreex\\data\\Stardist\\12_12_hyperparameter_models\\monkey_12_12_2023_lr_0.001_epochs_400_pt_10_gaus_ratio_0\")\n"
   ],
   "metadata": {
    "collapsed": false,
    "ExecuteTime": {
     "end_time": "2024-01-08T12:33:29.649951900Z",
     "start_time": "2024-01-08T12:33:17.521183400Z"
    }
   },
   "id": "79c8d5b704dde30"
  },
  {
   "cell_type": "code",
   "execution_count": 55,
   "outputs": [],
   "source": [
    "import json\n",
    "\n",
    "def save_json(result, out_pth, name):\n",
    "    \"\"\"Saves a geojson file with centroids and contours for StarDist output. Useful for loading into qupath\"\"\"\n",
    "    coords = result['coord']\n",
    "    points = result['points']\n",
    "\n",
    "    json_data = []\n",
    "\n",
    "    for i in range(len(points)):\n",
    "        point = points[i]\n",
    "        contour = coords[i]\n",
    "        centroid = [int(point[0]), int(point[1])]\n",
    "        contour = [[float(coord) for coord in xy[::-1]] for xy in contour]\n",
    "\n",
    "        # Create a new dictionary for each contour\n",
    "        dict_data = {\n",
    "            \"centroid\": [centroid],\n",
    "            \"contour\": [contour]\n",
    "        }\n",
    "\n",
    "        json_data.append(dict_data)\n",
    "\n",
    "    new_fn = name[:-5] + '.json'\n",
    "\n",
    "    with open(os.path.join(out_pth, new_fn),'w') as outfile:\n",
    "        json.dump(json_data, outfile)\n",
    "    print('Finished',new_fn)"
   ],
   "metadata": {
    "collapsed": false,
    "ExecuteTime": {
     "end_time": "2024-01-08T12:33:29.661291300Z",
     "start_time": "2024-01-08T12:33:29.646943200Z"
    }
   },
   "id": "42541be52df275d7"
  },
  {
   "cell_type": "code",
   "execution_count": 56,
   "outputs": [
    {
     "name": "stdout",
     "output_type": "stream",
     "text": [
      "\\\\10.162.80.16\\Andre\\data\\PDAC Purity Project\\PDAC PURITY Final Analysis\\LCM_H&Es_10x\\czi\\ometiff20xv2\\StarDist_1_7_2024\\json\n"
     ]
    }
   ],
   "source": [
    "# Name of output folder\n",
    "date = '1_7_2024'\n",
    "\n",
    "for pth in pths:\n",
    "    out_pth = os.path.join(pth,f'StarDist_{date}')\n",
    "    if not os.path.exists(out_pth):\n",
    "        os.mkdir(out_pth)\n",
    "    \n",
    "     \n",
    "    out_pth_json = os.path.join(out_pth,'json')\n",
    "    out_pth_tif = os.path.join(out_pth,'tif')\n",
    "    print(out_pth_json)\n",
    "    \n",
    "    if not os.path.exists(out_pth_json):\n",
    "        os.mkdir(out_pth_json)\n",
    "    \n",
    "    if not os.path.exists(out_pth_tif):\n",
    "        os.mkdir(out_pth_tif)"
   ],
   "metadata": {
    "collapsed": false,
    "ExecuteTime": {
     "end_time": "2024-01-08T12:33:29.721499100Z",
     "start_time": "2024-01-08T12:33:29.663293Z"
    }
   },
   "id": "80ce7ef7fd5e91b4"
  },
  {
   "cell_type": "code",
   "execution_count": 57,
   "outputs": [
    {
     "data": {
      "text/plain": "StarDist2D(offshoot_model): YXC → YXC\n├─ Directory: \\\\10.99.68.178\\andreex\\data\\Stardist\\12_12_hyperparameter_models\\monkey_12_12_2023_lr_0.001_epochs_400_pt_10_gaus_ratio_0\\offshoot_model\n└─ Config2D(n_dim=2, axes='YXC', n_channel_in=3, n_channel_out=33, train_checkpoint='weights_best.h5', train_checkpoint_last='weights_last.h5', train_checkpoint_epoch='weights_now.h5', n_rays=32, grid=(2, 2), backbone='unet', n_classes=None, unet_n_depth=3, unet_kernel_size=[3, 3], unet_n_filter_base=32, unet_n_conv_per_depth=2, unet_pool=[2, 2], unet_activation='relu', unet_last_activation='relu', unet_batch_norm=False, unet_dropout=0.0, unet_prefix='', net_conv_after_unet=128, net_input_shape=[None, None, 3], net_mask_shape=[None, None, 1], train_shape_completion=False, train_completion_crop=32, train_patch_size=[256, 256], train_background_reg=0.0001, train_foreground_only=0.9, train_sample_cache=True, train_dist_loss='mae', train_loss_weights=[1, 0.2], train_class_weights=[1, 1], train_epochs=400, train_steps_per_epoch=100, train_learning_rate=0.0003, train_batch_size=4, train_n_val_patches=None, train_tensorboard=True, train_reduce_lr={'factor': 0.5, 'patience': 40, 'min_delta': 0}, use_gpu=True)"
     },
     "execution_count": 57,
     "metadata": {},
     "output_type": "execute_result"
    }
   ],
   "source": [
    "model"
   ],
   "metadata": {
    "collapsed": false,
    "ExecuteTime": {
     "end_time": "2024-01-08T12:33:29.726508500Z",
     "start_time": "2024-01-08T12:33:29.676453400Z"
    }
   },
   "id": "6657920a959b5f60"
  },
  {
   "cell_type": "code",
   "execution_count": 58,
   "outputs": [
    {
     "name": "stdout",
     "output_type": "stream",
     "text": [
      "['\\\\\\\\10.162.80.16\\\\Andre\\\\data\\\\PDAC Purity Project\\\\PDAC PURITY Final Analysis\\\\LCM_H&Es_10x\\\\czi\\\\ometiff20xv2\\\\PD_1 2L-1 LCM.tif', '\\\\\\\\10.162.80.16\\\\Andre\\\\data\\\\PDAC Purity Project\\\\PDAC PURITY Final Analysis\\\\LCM_H&Es_10x\\\\czi\\\\ometiff20xv2\\\\PD_10 3M LCM.tif', '\\\\\\\\10.162.80.16\\\\Andre\\\\data\\\\PDAC Purity Project\\\\PDAC PURITY Final Analysis\\\\LCM_H&Es_10x\\\\czi\\\\ometiff20xv2\\\\PD_11 2O LCM.tif', '\\\\\\\\10.162.80.16\\\\Andre\\\\data\\\\PDAC Purity Project\\\\PDAC PURITY Final Analysis\\\\LCM_H&Es_10x\\\\czi\\\\ometiff20xv2\\\\PD_12 1F LCM-1-1.tif', '\\\\\\\\10.162.80.16\\\\Andre\\\\data\\\\PDAC Purity Project\\\\PDAC PURITY Final Analysis\\\\LCM_H&Es_10x\\\\czi\\\\ometiff20xv2\\\\PD_14 1F LCM.tif', '\\\\\\\\10.162.80.16\\\\Andre\\\\data\\\\PDAC Purity Project\\\\PDAC PURITY Final Analysis\\\\LCM_H&Es_10x\\\\czi\\\\ometiff20xv2\\\\PD_15 3Q LCM.tif', '\\\\\\\\10.162.80.16\\\\Andre\\\\data\\\\PDAC Purity Project\\\\PDAC PURITY Final Analysis\\\\LCM_H&Es_10x\\\\czi\\\\ometiff20xv2\\\\PD_16 5l LCM-2.tif', '\\\\\\\\10.162.80.16\\\\Andre\\\\data\\\\PDAC Purity Project\\\\PDAC PURITY Final Analysis\\\\LCM_H&Es_10x\\\\czi\\\\ometiff20xv2\\\\PD_17 4M LCM.tif', '\\\\\\\\10.162.80.16\\\\Andre\\\\data\\\\PDAC Purity Project\\\\PDAC PURITY Final Analysis\\\\LCM_H&Es_10x\\\\czi\\\\ometiff20xv2\\\\PD_18 2H LCM.tif', '\\\\\\\\10.162.80.16\\\\Andre\\\\data\\\\PDAC Purity Project\\\\PDAC PURITY Final Analysis\\\\LCM_H&Es_10x\\\\czi\\\\ometiff20xv2\\\\PD_19 5M LCM.tif', '\\\\\\\\10.162.80.16\\\\Andre\\\\data\\\\PDAC Purity Project\\\\PDAC PURITY Final Analysis\\\\LCM_H&Es_10x\\\\czi\\\\ometiff20xv2\\\\PD_2 5N-T LCM.tif', '\\\\\\\\10.162.80.16\\\\Andre\\\\data\\\\PDAC Purity Project\\\\PDAC PURITY Final Analysis\\\\LCM_H&Es_10x\\\\czi\\\\ometiff20xv2\\\\PD_20 3II LCM.tif', '\\\\\\\\10.162.80.16\\\\Andre\\\\data\\\\PDAC Purity Project\\\\PDAC PURITY Final Analysis\\\\LCM_H&Es_10x\\\\czi\\\\ometiff20xv2\\\\PD_21 5M-2 LCM.tif', '\\\\\\\\10.162.80.16\\\\Andre\\\\data\\\\PDAC Purity Project\\\\PDAC PURITY Final Analysis\\\\LCM_H&Es_10x\\\\czi\\\\ometiff20xv2\\\\PD_22 5L LCM.tif', '\\\\\\\\10.162.80.16\\\\Andre\\\\data\\\\PDAC Purity Project\\\\PDAC PURITY Final Analysis\\\\LCM_H&Es_10x\\\\czi\\\\ometiff20xv2\\\\PD_23 4O LCM.tif', '\\\\\\\\10.162.80.16\\\\Andre\\\\data\\\\PDAC Purity Project\\\\PDAC PURITY Final Analysis\\\\LCM_H&Es_10x\\\\czi\\\\ometiff20xv2\\\\PD_24 2L LCM.tif', '\\\\\\\\10.162.80.16\\\\Andre\\\\data\\\\PDAC Purity Project\\\\PDAC PURITY Final Analysis\\\\LCM_H&Es_10x\\\\czi\\\\ometiff20xv2\\\\PD_25 3GG LCM.tif', '\\\\\\\\10.162.80.16\\\\Andre\\\\data\\\\PDAC Purity Project\\\\PDAC PURITY Final Analysis\\\\LCM_H&Es_10x\\\\czi\\\\ometiff20xv2\\\\PD_26 2K LCM.tif', '\\\\\\\\10.162.80.16\\\\Andre\\\\data\\\\PDAC Purity Project\\\\PDAC PURITY Final Analysis\\\\LCM_H&Es_10x\\\\czi\\\\ometiff20xv2\\\\PD_27 4N LCM rescan.tif', '\\\\\\\\10.162.80.16\\\\Andre\\\\data\\\\PDAC Purity Project\\\\PDAC PURITY Final Analysis\\\\LCM_H&Es_10x\\\\czi\\\\ometiff20xv2\\\\PD_28 4T LCM - Copy.tif', '\\\\\\\\10.162.80.16\\\\Andre\\\\data\\\\PDAC Purity Project\\\\PDAC PURITY Final Analysis\\\\LCM_H&Es_10x\\\\czi\\\\ometiff20xv2\\\\PD_28 4T LCM.tif', '\\\\\\\\10.162.80.16\\\\Andre\\\\data\\\\PDAC Purity Project\\\\PDAC PURITY Final Analysis\\\\LCM_H&Es_10x\\\\czi\\\\ometiff20xv2\\\\PD_29 3M LCM.tif', '\\\\\\\\10.162.80.16\\\\Andre\\\\data\\\\PDAC Purity Project\\\\PDAC PURITY Final Analysis\\\\LCM_H&Es_10x\\\\czi\\\\ometiff20xv2\\\\PD_3 5E LCM.tif', '\\\\\\\\10.162.80.16\\\\Andre\\\\data\\\\PDAC Purity Project\\\\PDAC PURITY Final Analysis\\\\LCM_H&Es_10x\\\\czi\\\\ometiff20xv2\\\\PD_30 3D LCM.tif', '\\\\\\\\10.162.80.16\\\\Andre\\\\data\\\\PDAC Purity Project\\\\PDAC PURITY Final Analysis\\\\LCM_H&Es_10x\\\\czi\\\\ometiff20xv2\\\\PD_31 4N LCM - Copy.tif', '\\\\\\\\10.162.80.16\\\\Andre\\\\data\\\\PDAC Purity Project\\\\PDAC PURITY Final Analysis\\\\LCM_H&Es_10x\\\\czi\\\\ometiff20xv2\\\\PD_31 4N LCM.tif', '\\\\\\\\10.162.80.16\\\\Andre\\\\data\\\\PDAC Purity Project\\\\PDAC PURITY Final Analysis\\\\LCM_H&Es_10x\\\\czi\\\\ometiff20xv2\\\\PD_32 5L LCM.tif', '\\\\\\\\10.162.80.16\\\\Andre\\\\data\\\\PDAC Purity Project\\\\PDAC PURITY Final Analysis\\\\LCM_H&Es_10x\\\\czi\\\\ometiff20xv2\\\\PD_33 3K LCM.tif', '\\\\\\\\10.162.80.16\\\\Andre\\\\data\\\\PDAC Purity Project\\\\PDAC PURITY Final Analysis\\\\LCM_H&Es_10x\\\\czi\\\\ometiff20xv2\\\\PD_34 3L LCM.tif', '\\\\\\\\10.162.80.16\\\\Andre\\\\data\\\\PDAC Purity Project\\\\PDAC PURITY Final Analysis\\\\LCM_H&Es_10x\\\\czi\\\\ometiff20xv2\\\\PD_35 3F LCM.tif', '\\\\\\\\10.162.80.16\\\\Andre\\\\data\\\\PDAC Purity Project\\\\PDAC PURITY Final Analysis\\\\LCM_H&Es_10x\\\\czi\\\\ometiff20xv2\\\\PD_36 5O LCM.tif', '\\\\\\\\10.162.80.16\\\\Andre\\\\data\\\\PDAC Purity Project\\\\PDAC PURITY Final Analysis\\\\LCM_H&Es_10x\\\\czi\\\\ometiff20xv2\\\\PD_37 2J LCM.tif', '\\\\\\\\10.162.80.16\\\\Andre\\\\data\\\\PDAC Purity Project\\\\PDAC PURITY Final Analysis\\\\LCM_H&Es_10x\\\\czi\\\\ometiff20xv2\\\\PD_38 R9 LCM.tif', '\\\\\\\\10.162.80.16\\\\Andre\\\\data\\\\PDAC Purity Project\\\\PDAC PURITY Final Analysis\\\\LCM_H&Es_10x\\\\czi\\\\ometiff20xv2\\\\PD_39 6N LCM-1.tif', '\\\\\\\\10.162.80.16\\\\Andre\\\\data\\\\PDAC Purity Project\\\\PDAC PURITY Final Analysis\\\\LCM_H&Es_10x\\\\czi\\\\ometiff20xv2\\\\PD_4 3L-1 LCM.tif', '\\\\\\\\10.162.80.16\\\\Andre\\\\data\\\\PDAC Purity Project\\\\PDAC PURITY Final Analysis\\\\LCM_H&Es_10x\\\\czi\\\\ometiff20xv2\\\\PD_40 3P LCM.tif', '\\\\\\\\10.162.80.16\\\\Andre\\\\data\\\\PDAC Purity Project\\\\PDAC PURITY Final Analysis\\\\LCM_H&Es_10x\\\\czi\\\\ometiff20xv2\\\\PD_41 3P LCM.tif', '\\\\\\\\10.162.80.16\\\\Andre\\\\data\\\\PDAC Purity Project\\\\PDAC PURITY Final Analysis\\\\LCM_H&Es_10x\\\\czi\\\\ometiff20xv2\\\\PD_42 4I LCM.tif', '\\\\\\\\10.162.80.16\\\\Andre\\\\data\\\\PDAC Purity Project\\\\PDAC PURITY Final Analysis\\\\LCM_H&Es_10x\\\\czi\\\\ometiff20xv2\\\\PD_43 3P LCM.tif', '\\\\\\\\10.162.80.16\\\\Andre\\\\data\\\\PDAC Purity Project\\\\PDAC PURITY Final Analysis\\\\LCM_H&Es_10x\\\\czi\\\\ometiff20xv2\\\\PD_44 7HH LCM.tif', '\\\\\\\\10.162.80.16\\\\Andre\\\\data\\\\PDAC Purity Project\\\\PDAC PURITY Final Analysis\\\\LCM_H&Es_10x\\\\czi\\\\ometiff20xv2\\\\PD_45 4M LCM.tif', '\\\\\\\\10.162.80.16\\\\Andre\\\\data\\\\PDAC Purity Project\\\\PDAC PURITY Final Analysis\\\\LCM_H&Es_10x\\\\czi\\\\ometiff20xv2\\\\PD_46 6M LCM.tif', '\\\\\\\\10.162.80.16\\\\Andre\\\\data\\\\PDAC Purity Project\\\\PDAC PURITY Final Analysis\\\\LCM_H&Es_10x\\\\czi\\\\ometiff20xv2\\\\PD_5 5KK-1 LCM.tif', '\\\\\\\\10.162.80.16\\\\Andre\\\\data\\\\PDAC Purity Project\\\\PDAC PURITY Final Analysis\\\\LCM_H&Es_10x\\\\czi\\\\ometiff20xv2\\\\PD_6 3_P AMP LCM.tif', '\\\\\\\\10.162.80.16\\\\Andre\\\\data\\\\PDAC Purity Project\\\\PDAC PURITY Final Analysis\\\\LCM_H&Es_10x\\\\czi\\\\ometiff20xv2\\\\PD_7 2K_T LCM.tif', '\\\\\\\\10.162.80.16\\\\Andre\\\\data\\\\PDAC Purity Project\\\\PDAC PURITY Final Analysis\\\\LCM_H&Es_10x\\\\czi\\\\ometiff20xv2\\\\PD_8 1F LCM.tif', '\\\\\\\\10.162.80.16\\\\Andre\\\\data\\\\PDAC Purity Project\\\\PDAC PURITY Final Analysis\\\\LCM_H&Es_10x\\\\czi\\\\ometiff20xv2\\\\PD_9 2O LCM.tif', '\\\\\\\\10.162.80.16\\\\Andre\\\\data\\\\PDAC Purity Project\\\\PDAC PURITY Final Analysis\\\\LCM_H&Es_10x\\\\czi\\\\ometiff20xv2\\\\PD_9 2O_T LCM.tif']\n"
     ]
    }
   ],
   "source": [
    "for folder in WSIs:\n",
    "    print(folder)\n",
    "    break\n",
    "    #or img_pth in folder:"
   ],
   "metadata": {
    "collapsed": false,
    "ExecuteTime": {
     "end_time": "2024-01-08T12:33:29.726508500Z",
     "start_time": "2024-01-08T12:33:29.692474900Z"
    }
   },
   "id": "ea1c27a1936cbf98"
  },
  {
   "cell_type": "code",
   "execution_count": null,
   "outputs": [
    {
     "name": "stderr",
     "output_type": "stream",
     "text": [
      "<tifffile.TiffPage 0 @16> missing data offset tag\n",
      "<tifffile.TiffPage 0 @16> missing ByteCounts tag\n"
     ]
    },
    {
     "name": "stdout",
     "output_type": "stream",
     "text": [
      "\\\\10.162.80.16\\Andre\\data\\PDAC Purity Project\\PDAC PURITY Final Analysis\\LCM_H&Es_10x\\czi\\ometiff20xv2\n",
      "\\\\10.162.80.16\\Andre\\data\\PDAC Purity Project\\PDAC PURITY Final Analysis\\LCM_H&Es_10x\\czi\\ometiff20xv2\\PD_1 2L-1 LCM.tif\n",
      "\\\\10.162.80.16\\Andre\\data\\PDAC Purity Project\\PDAC PURITY Final Analysis\\LCM_H&Es_10x\\czi\\ometiff20xv2\\PD_1 2L-1 LCM.tif\n",
      "PD_1 2L-1 LCM.tif (1/48)\n",
      "effective: block_size=(4096, 4096, 3), min_overlap=(128, 128, 0), context=(128, 128, 0)\n"
     ]
    },
    {
     "name": "stderr",
     "output_type": "stream",
     "text": [
      "<tifffile.TiffPage 0 @16> missing data offset tag\n",
      "<tifffile.TiffPage 0 @16> missing ByteCounts tag\n"
     ]
    },
    {
     "name": "stdout",
     "output_type": "stream",
     "text": [
      "skipping \\\\10.162.80.16\\Andre\\data\\PDAC Purity Project\\PDAC PURITY Final Analysis\\LCM_H&Es_10x\\czi\\ometiff20xv2\\PD_1 2L-1 LCM.tif, probably bc its too big...\n",
      "\\\\10.162.80.16\\Andre\\data\\PDAC Purity Project\\PDAC PURITY Final Analysis\\LCM_H&Es_10x\\czi\\ometiff20xv2\\PD_1 2L-1 LCM.tif\n",
      "\\\\10.162.80.16\\Andre\\data\\PDAC Purity Project\\PDAC PURITY Final Analysis\\LCM_H&Es_10x\\czi\\ometiff20xv2\\PD_10 3M LCM.tif\n",
      "PD_10 3M LCM.tif (2/48)\n",
      "effective: block_size=(4096, 4096, 3), min_overlap=(128, 128, 0), context=(128, 128, 0)\n",
      "skipping \\\\10.162.80.16\\Andre\\data\\PDAC Purity Project\\PDAC PURITY Final Analysis\\LCM_H&Es_10x\\czi\\ometiff20xv2\\PD_10 3M LCM.tif, probably bc its too big...\n",
      "\\\\10.162.80.16\\Andre\\data\\PDAC Purity Project\\PDAC PURITY Final Analysis\\LCM_H&Es_10x\\czi\\ometiff20xv2\\PD_1 2L-1 LCM.tif\n",
      "\\\\10.162.80.16\\Andre\\data\\PDAC Purity Project\\PDAC PURITY Final Analysis\\LCM_H&Es_10x\\czi\\ometiff20xv2\\PD_11 2O LCM.tif\n",
      "PD_11 2O LCM.tif (3/48)\n",
      "effective: block_size=(4096, 4096, 3), min_overlap=(128, 128, 0), context=(128, 128, 0)\n"
     ]
    },
    {
     "name": "stderr",
     "output_type": "stream",
     "text": [
      "100%|██████████| 247/247 [10:53<00:00,  2.65s/it]\n"
     ]
    },
    {
     "name": "stdout",
     "output_type": "stream",
     "text": [
      "Saving json...\n",
      "Finished PD_11 2O LC.json\n",
      "\\\\10.162.80.16\\Andre\\data\\PDAC Purity Project\\PDAC PURITY Final Analysis\\LCM_H&Es_10x\\czi\\ometiff20xv2\\PD_1 2L-1 LCM.tif\n",
      "\\\\10.162.80.16\\Andre\\data\\PDAC Purity Project\\PDAC PURITY Final Analysis\\LCM_H&Es_10x\\czi\\ometiff20xv2\\PD_12 1F LCM-1-1.tif\n",
      "PD_12 1F LCM-1-1.tif (4/48)\n",
      "effective: block_size=(4096, 4096, 3), min_overlap=(128, 128, 0), context=(128, 128, 0)\n"
     ]
    },
    {
     "name": "stderr",
     "output_type": "stream",
     "text": [
      "100%|██████████| 156/156 [08:53<00:00,  3.42s/it]\n"
     ]
    },
    {
     "name": "stdout",
     "output_type": "stream",
     "text": [
      "Saving json...\n",
      "Finished PD_12 1F LCM-1-.json\n",
      "\\\\10.162.80.16\\Andre\\data\\PDAC Purity Project\\PDAC PURITY Final Analysis\\LCM_H&Es_10x\\czi\\ometiff20xv2\\PD_1 2L-1 LCM.tif\n",
      "\\\\10.162.80.16\\Andre\\data\\PDAC Purity Project\\PDAC PURITY Final Analysis\\LCM_H&Es_10x\\czi\\ometiff20xv2\\PD_14 1F LCM.tif\n",
      "PD_14 1F LCM.tif (5/48)\n",
      "effective: block_size=(4096, 4096, 3), min_overlap=(128, 128, 0), context=(128, 128, 0)\n"
     ]
    },
    {
     "name": "stderr",
     "output_type": "stream",
     "text": [
      "100%|██████████| 128/128 [07:22<00:00,  3.46s/it]\n"
     ]
    },
    {
     "name": "stdout",
     "output_type": "stream",
     "text": [
      "Saving json...\n",
      "Finished PD_14 1F LC.json\n",
      "\\\\10.162.80.16\\Andre\\data\\PDAC Purity Project\\PDAC PURITY Final Analysis\\LCM_H&Es_10x\\czi\\ometiff20xv2\\PD_1 2L-1 LCM.tif\n",
      "\\\\10.162.80.16\\Andre\\data\\PDAC Purity Project\\PDAC PURITY Final Analysis\\LCM_H&Es_10x\\czi\\ometiff20xv2\\PD_15 3Q LCM.tif\n",
      "PD_15 3Q LCM.tif (6/48)\n",
      "effective: block_size=(4096, 4096, 3), min_overlap=(128, 128, 0), context=(128, 128, 0)\n"
     ]
    },
    {
     "name": "stderr",
     "output_type": "stream",
     "text": [
      "100%|██████████| 234/234 [10:44<00:00,  2.76s/it]\n"
     ]
    },
    {
     "name": "stdout",
     "output_type": "stream",
     "text": [
      "Saving json...\n",
      "Finished PD_15 3Q LC.json\n",
      "\\\\10.162.80.16\\Andre\\data\\PDAC Purity Project\\PDAC PURITY Final Analysis\\LCM_H&Es_10x\\czi\\ometiff20xv2\\PD_1 2L-1 LCM.tif\n",
      "\\\\10.162.80.16\\Andre\\data\\PDAC Purity Project\\PDAC PURITY Final Analysis\\LCM_H&Es_10x\\czi\\ometiff20xv2\\PD_16 5l LCM-2.tif\n",
      "PD_16 5l LCM-2.tif (7/48)\n",
      "effective: block_size=(4096, 4096, 3), min_overlap=(128, 128, 0), context=(128, 128, 0)\n"
     ]
    },
    {
     "name": "stderr",
     "output_type": "stream",
     "text": [
      "100%|██████████| 210/210 [13:17<00:00,  3.80s/it]\n"
     ]
    },
    {
     "name": "stdout",
     "output_type": "stream",
     "text": [
      "Saving json...\n",
      "Finished PD_16 5l LCM-.json\n",
      "\\\\10.162.80.16\\Andre\\data\\PDAC Purity Project\\PDAC PURITY Final Analysis\\LCM_H&Es_10x\\czi\\ometiff20xv2\\PD_1 2L-1 LCM.tif\n",
      "\\\\10.162.80.16\\Andre\\data\\PDAC Purity Project\\PDAC PURITY Final Analysis\\LCM_H&Es_10x\\czi\\ometiff20xv2\\PD_17 4M LCM.tif\n",
      "PD_17 4M LCM.tif (8/48)\n",
      "effective: block_size=(4096, 4096, 3), min_overlap=(128, 128, 0), context=(128, 128, 0)\n"
     ]
    },
    {
     "name": "stderr",
     "output_type": "stream",
     "text": [
      "100%|██████████| 168/168 [13:22<00:00,  4.78s/it]\n"
     ]
    },
    {
     "name": "stdout",
     "output_type": "stream",
     "text": [
      "Saving json...\n",
      "Finished PD_17 4M LC.json\n",
      "\\\\10.162.80.16\\Andre\\data\\PDAC Purity Project\\PDAC PURITY Final Analysis\\LCM_H&Es_10x\\czi\\ometiff20xv2\\PD_1 2L-1 LCM.tif\n",
      "\\\\10.162.80.16\\Andre\\data\\PDAC Purity Project\\PDAC PURITY Final Analysis\\LCM_H&Es_10x\\czi\\ometiff20xv2\\PD_18 2H LCM.tif\n",
      "PD_18 2H LCM.tif (9/48)\n",
      "effective: block_size=(4096, 4096, 3), min_overlap=(128, 128, 0), context=(128, 128, 0)\n"
     ]
    },
    {
     "name": "stderr",
     "output_type": "stream",
     "text": [
      "100%|██████████| 238/238 [17:52<00:00,  4.51s/it]\n"
     ]
    },
    {
     "name": "stdout",
     "output_type": "stream",
     "text": [
      "Saving json...\n",
      "Finished PD_18 2H LC.json\n",
      "\\\\10.162.80.16\\Andre\\data\\PDAC Purity Project\\PDAC PURITY Final Analysis\\LCM_H&Es_10x\\czi\\ometiff20xv2\\PD_1 2L-1 LCM.tif\n",
      "\\\\10.162.80.16\\Andre\\data\\PDAC Purity Project\\PDAC PURITY Final Analysis\\LCM_H&Es_10x\\czi\\ometiff20xv2\\PD_19 5M LCM.tif\n",
      "PD_19 5M LCM.tif (10/48)\n",
      "effective: block_size=(4096, 4096, 3), min_overlap=(128, 128, 0), context=(128, 128, 0)\n"
     ]
    },
    {
     "name": "stderr",
     "output_type": "stream",
     "text": [
      "100%|██████████| 120/120 [09:21<00:00,  4.68s/it]\n"
     ]
    },
    {
     "name": "stdout",
     "output_type": "stream",
     "text": [
      "Saving json...\n",
      "Finished PD_19 5M LC.json\n",
      "\\\\10.162.80.16\\Andre\\data\\PDAC Purity Project\\PDAC PURITY Final Analysis\\LCM_H&Es_10x\\czi\\ometiff20xv2\\PD_1 2L-1 LCM.tif\n",
      "\\\\10.162.80.16\\Andre\\data\\PDAC Purity Project\\PDAC PURITY Final Analysis\\LCM_H&Es_10x\\czi\\ometiff20xv2\\PD_2 5N-T LCM.tif\n",
      "PD_2 5N-T LCM.tif (11/48)\n",
      "effective: block_size=(4096, 4096, 3), min_overlap=(128, 128, 0), context=(128, 128, 0)\n"
     ]
    },
    {
     "name": "stderr",
     "output_type": "stream",
     "text": [
      "100%|██████████| 210/210 [18:36<00:00,  5.32s/it]\n"
     ]
    },
    {
     "name": "stdout",
     "output_type": "stream",
     "text": [
      "Saving json...\n",
      "Finished PD_2 5N-T LC.json\n",
      "\\\\10.162.80.16\\Andre\\data\\PDAC Purity Project\\PDAC PURITY Final Analysis\\LCM_H&Es_10x\\czi\\ometiff20xv2\\PD_1 2L-1 LCM.tif\n",
      "\\\\10.162.80.16\\Andre\\data\\PDAC Purity Project\\PDAC PURITY Final Analysis\\LCM_H&Es_10x\\czi\\ometiff20xv2\\PD_20 3II LCM.tif\n",
      "PD_20 3II LCM.tif (12/48)\n",
      "effective: block_size=(4096, 4096, 3), min_overlap=(128, 128, 0), context=(128, 128, 0)\n"
     ]
    },
    {
     "name": "stderr",
     "output_type": "stream",
     "text": [
      "100%|██████████| 208/208 [14:11<00:00,  4.09s/it]\n"
     ]
    },
    {
     "name": "stdout",
     "output_type": "stream",
     "text": [
      "Saving json...\n"
     ]
    }
   ],
   "source": [
    "# Segment all WSIs -- takes about 2-5 minutes per whole slide image to segment, about 3 minutes to save geojson file\n",
    "# for k, file_list in enumerate(WSIs[::-1]):\n",
    "for k, file_list in enumerate(WSIs):\n",
    "    pth_folder = pths[k]\n",
    "    # pth_folder = pths[-1-k]\n",
    "    print(pth_folder)\n",
    "    \n",
    "    # for p, img_pth in enumerate(file_list[::-1]):\n",
    "    for p, img_pth in enumerate(file_list):    \n",
    "        print(file_list[0])\n",
    "        print(img_pth)\n",
    "        # break\n",
    "        out_pth = os.path.join(pth_folder,f'StarDist_{date}')\n",
    "        out_pth_json = os.path.join(out_pth,'json')\n",
    "        out_pth_tif = os.path.join(out_pth,'tif')\n",
    "\n",
    "        try:\n",
    "            name = os.path.basename(img_pth)\n",
    "            print(f'{name} ({p+1}/{len(file_list)})')\n",
    "            if not os.path.exists(os.path.join(out_pth_json, (name[:-5] + '.json'))):\n",
    "                # print(f'Starting {name}')\n",
    "    \n",
    "                img = imread(img_pth)\n",
    "                img = img/255  # normalization used to train model\n",
    "                _, polys = model.predict_instances_big(img, axes='YXC', block_size=4096, min_overlap=128, context=128, n_tiles=(4,4,1))\n",
    "    \n",
    "                print('Saving json...')\n",
    "                save_json(polys, out_pth_json, name)\n",
    "    \n",
    "                # tif file is like 3 GB usually, so only uncomment next part if you are ok with that\n",
    "                #print('Saving tif...')\n",
    "                #imwrite(os.path.join(out_pth_tif, name[:-5] + '.tif'), labels)\n",
    "            else:\n",
    "                print(f'Skipping {name}')\n",
    "        except:\n",
    "            print(f'skipping {img_pth}, probably bc its too big...')"
   ],
   "metadata": {
    "collapsed": false,
    "is_executing": true,
    "ExecuteTime": {
     "start_time": "2024-01-08T12:33:29.712490800Z"
    }
   },
   "id": "ee1ccf86bad790b1"
  }
 ],
 "metadata": {
  "kernelspec": {
   "display_name": "Python 3",
   "language": "python",
   "name": "python3"
  },
  "language_info": {
   "codemirror_mode": {
    "name": "ipython",
    "version": 2
   },
   "file_extension": ".py",
   "mimetype": "text/x-python",
   "name": "python",
   "nbconvert_exporter": "python",
   "pygments_lexer": "ipython2",
   "version": "2.7.6"
  }
 },
 "nbformat": 4,
 "nbformat_minor": 5
}
