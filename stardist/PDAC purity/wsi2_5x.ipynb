{
 "cells": [
  {
   "cell_type": "code",
   "execution_count": 7,
   "outputs": [
    {
     "name": "stdout",
     "output_type": "stream",
     "text": [
      "0 / 48  processing:  PD_1 2L-1 LCM\n"
     ]
    },
    {
     "ename": "AttributeError",
     "evalue": "'NoneType' object has no attribute 'read_region'",
     "output_type": "error",
     "traceback": [
      "\u001B[1;31m---------------------------------------------------------------------------\u001B[0m",
      "\u001B[1;31mAttributeError\u001B[0m                            Traceback (most recent call last)",
      "Cell \u001B[1;32mIn[7], line 36\u001B[0m\n\u001B[0;32m     34\u001B[0m wsi \u001B[38;5;241m=\u001B[39m cv2\u001B[38;5;241m.\u001B[39mimread(os\u001B[38;5;241m.\u001B[39mpath\u001B[38;5;241m.\u001B[39mjoin(wsisrc, missingimage \u001B[38;5;241m+\u001B[39m \u001B[38;5;124m'\u001B[39m\u001B[38;5;124m.tif\u001B[39m\u001B[38;5;124m'\u001B[39m))\n\u001B[0;32m     35\u001B[0m rsf \u001B[38;5;241m=\u001B[39m\u001B[38;5;241m4\u001B[39m\n\u001B[1;32m---> 36\u001B[0m svs_img \u001B[38;5;241m=\u001B[39m \u001B[43mwsi\u001B[49m\u001B[38;5;241;43m.\u001B[39;49m\u001B[43mread_region\u001B[49m(location\u001B[38;5;241m=\u001B[39m(\u001B[38;5;241m0\u001B[39m, \u001B[38;5;241m0\u001B[39m), level\u001B[38;5;241m=\u001B[39m\u001B[38;5;241m0\u001B[39m, size\u001B[38;5;241m=\u001B[39mwsi\u001B[38;5;241m.\u001B[39mlevel_dimensions[\u001B[38;5;241m0\u001B[39m])\u001B[38;5;241m.\u001B[39mconvert(\u001B[38;5;124m'\u001B[39m\u001B[38;5;124mRGB\u001B[39m\u001B[38;5;124m'\u001B[39m)\n\u001B[0;32m     37\u001B[0m resize_factorx \u001B[38;5;241m=\u001B[39m rsf \u001B[38;5;241m/\u001B[39m \u001B[38;5;28mfloat\u001B[39m(\n\u001B[0;32m     38\u001B[0m     wsi\u001B[38;5;241m.\u001B[39mproperties[\u001B[38;5;124m'\u001B[39m\u001B[38;5;124mopenslide.mpp-x\u001B[39m\u001B[38;5;124m'\u001B[39m])  \u001B[38;5;66;03m#8um = 1.25x #4um = 2.5x, #2um=5x, 1um=10x, 0.5um=20x, 0.25um=40x\u001B[39;00m\n\u001B[0;32m     39\u001B[0m resize_factory \u001B[38;5;241m=\u001B[39m rsf \u001B[38;5;241m/\u001B[39m \u001B[38;5;28mfloat\u001B[39m(wsi\u001B[38;5;241m.\u001B[39mproperties[\u001B[38;5;124m'\u001B[39m\u001B[38;5;124mopenslide.mpp-y\u001B[39m\u001B[38;5;124m'\u001B[39m])\n",
      "\u001B[1;31mAttributeError\u001B[0m: 'NoneType' object has no attribute 'read_region'"
     ]
    }
   ],
   "source": [
    "import os\n",
    "from PIL import Image\n",
    "import numpy as np\n",
    "# from openslide import OpenSlide\n",
    "\n",
    "openslide_path = r'C:\\Users\\Andre\\Documents\\openslide-win64-20230414\\bin'\n",
    "\n",
    "os.environ['PATH'] = openslide_path + \";\" + os.environ['PATH']\n",
    "# from openslide import OpenSlide\n",
    "\n",
    "if hasattr(os, 'add_dll_directory'):\n",
    "    # Python >= 3.8 on Windows\n",
    "    with os.add_dll_directory(openslide_path):\n",
    "        import openslide\n",
    "else:\n",
    "    import openslide\n",
    "    \n",
    "import cv2\n",
    "import numpy as np\n",
    "\n",
    "wsisrc = r'\\\\169.254.138.20\\Andre\\data\\PDAC Purity Project\\PDAC PURITY Final Analysis\\LCM_H&Es_10x\\czi\\ometiff20xv2'\n",
    "tenxsrc = os.path.join(wsisrc, '5x_python')\n",
    "if not os.path.exists(tenxsrc):\n",
    "    os.mkdir(tenxsrc)\n",
    "# wsis = [_ for _ in os.listdir(wsisrc) if _.endswith('ndpi')]\n",
    "wsis = [_ for _ in os.listdir(wsisrc) if _.endswith('ndpi')]\n",
    "wsis2 = [os.path.splitext(_)[0] for _ in wsis]\n",
    "tenx = [_ for _ in os.listdir(tenxsrc) if _.endswith('tif')]\n",
    "tenx2 = [os.path.splitext(_)[0] for _ in tenx]\n",
    "missingimages = [_ for _ in wsis2 if _ not in tenx2]\n",
    "for idx, missingimage in enumerate(missingimages):\n",
    "    print(idx, '/', len(missingimages), ' processing: ', missingimage)\n",
    "    wsi = openslide(os.path.join(wsisrc, missingimage + '.ndpi'))\n",
    "    # wsi = cv2.imread(os.path.join(wsisrc, missingimage + '.tif'))\n",
    "    rsf =4\n",
    "    svs_img = wsi.read_region(location=(0, 0), level=0, size=wsi.level_dimensions[0]).convert('RGB')\n",
    "    resize_factorx = rsf / float(\n",
    "        wsi.properties['openslide.mpp-x'])  #8um = 1.25x #4um = 2.5x, #2um=5x, 1um=10x, 0.5um=20x, 0.25um=40x\n",
    "    resize_factory = rsf / float(wsi.properties['openslide.mpp-y'])\n",
    "    resize_dimension = tuple(\n",
    "        [int(np.ceil(wsi.dimensions[0] / resize_factorx)), int(np.ceil(wsi.dimensions[1] / resize_factory))])\n",
    "    svs_img10x = svs_img.resize(resize_dimension, resample=Image.NEAREST)\n",
    "    svs_img10x.save(os.path.join(tenxsrc, missingimage + '.tif'), resolution=4, resolution_unit=1, quality=100,\n",
    "                    compression=None)"
   ],
   "metadata": {
    "collapsed": false,
    "ExecuteTime": {
     "end_time": "2024-01-14T00:44:50.158025Z",
     "start_time": "2024-01-14T00:44:50.093879600Z"
    }
   },
   "id": "b78450eb036b86c8"
  },
  {
   "cell_type": "code",
   "execution_count": 11,
   "outputs": [
    {
     "name": "stdout",
     "output_type": "stream",
     "text": [
      "Skipping small file: \\\\169.254.138.20\\Andre\\data\\PDAC Purity Project\\PDAC PURITY Final Analysis\\LCM_H&Es_10x\\czi\\ometiff20xv2\\PD_1 2L-1 LCM.tif\n",
      "Skipping small file: \\\\169.254.138.20\\Andre\\data\\PDAC Purity Project\\PDAC PURITY Final Analysis\\LCM_H&Es_10x\\czi\\ometiff20xv2\\PD_10 3M LCM.tif\n",
      "2 / 48  processing:  PD_11 2O LCM\n"
     ]
    },
    {
     "ename": "ValueError",
     "evalue": "image has wrong mode",
     "output_type": "error",
     "traceback": [
      "\u001B[1;31m---------------------------------------------------------------------------\u001B[0m",
      "\u001B[1;31mValueError\u001B[0m                                Traceback (most recent call last)",
      "Cell \u001B[1;32mIn[11], line 42\u001B[0m\n\u001B[0;32m     39\u001B[0m resize_factor \u001B[38;5;241m=\u001B[39m rsf \u001B[38;5;241m/\u001B[39m \u001B[38;5;28mfloat\u001B[39m(wsi\u001B[38;5;241m.\u001B[39minfo[\u001B[38;5;124m'\u001B[39m\u001B[38;5;124mdpi\u001B[39m\u001B[38;5;124m'\u001B[39m][\u001B[38;5;241m0\u001B[39m]) \n\u001B[0;32m     40\u001B[0m resize_dimension \u001B[38;5;241m=\u001B[39m \u001B[38;5;28mtuple\u001B[39m([\u001B[38;5;28mint\u001B[39m(np\u001B[38;5;241m.\u001B[39mceil(dim\u001B[38;5;241m/\u001B[39mresize_factor)) \u001B[38;5;28;01mfor\u001B[39;00m dim \u001B[38;5;129;01min\u001B[39;00m wsi\u001B[38;5;241m.\u001B[39msize])\n\u001B[1;32m---> 42\u001B[0m wsi_resized \u001B[38;5;241m=\u001B[39m \u001B[43mwsi\u001B[49m\u001B[38;5;241;43m.\u001B[39;49m\u001B[43mresize\u001B[49m\u001B[43m(\u001B[49m\u001B[43mresize_dimension\u001B[49m\u001B[43m,\u001B[49m\u001B[43m \u001B[49m\u001B[43mImage\u001B[49m\u001B[38;5;241;43m.\u001B[39;49m\u001B[43mNEAREST\u001B[49m\u001B[43m)\u001B[49m\n\u001B[0;32m     43\u001B[0m wsi_resized\u001B[38;5;241m.\u001B[39msave(os\u001B[38;5;241m.\u001B[39mpath\u001B[38;5;241m.\u001B[39mjoin(tenxsrc, missingimage \u001B[38;5;241m+\u001B[39m \u001B[38;5;124m'\u001B[39m\u001B[38;5;124m.tif\u001B[39m\u001B[38;5;124m'\u001B[39m))\n",
      "File \u001B[1;32m~\\anaconda3\\envs\\stardist_gpu\\lib\\site-packages\\PIL\\Image.py:2174\u001B[0m, in \u001B[0;36mImage.resize\u001B[1;34m(self, size, resample, box, reducing_gap)\u001B[0m\n\u001B[0;32m   2166\u001B[0m             \u001B[38;5;28mself\u001B[39m \u001B[38;5;241m=\u001B[39m Image\u001B[38;5;241m.\u001B[39mreduce(\u001B[38;5;28mself\u001B[39m, factor, box\u001B[38;5;241m=\u001B[39mreduce_box)\n\u001B[0;32m   2167\u001B[0m         box \u001B[38;5;241m=\u001B[39m (\n\u001B[0;32m   2168\u001B[0m             (box[\u001B[38;5;241m0\u001B[39m] \u001B[38;5;241m-\u001B[39m reduce_box[\u001B[38;5;241m0\u001B[39m]) \u001B[38;5;241m/\u001B[39m factor_x,\n\u001B[0;32m   2169\u001B[0m             (box[\u001B[38;5;241m1\u001B[39m] \u001B[38;5;241m-\u001B[39m reduce_box[\u001B[38;5;241m1\u001B[39m]) \u001B[38;5;241m/\u001B[39m factor_y,\n\u001B[0;32m   2170\u001B[0m             (box[\u001B[38;5;241m2\u001B[39m] \u001B[38;5;241m-\u001B[39m reduce_box[\u001B[38;5;241m0\u001B[39m]) \u001B[38;5;241m/\u001B[39m factor_x,\n\u001B[0;32m   2171\u001B[0m             (box[\u001B[38;5;241m3\u001B[39m] \u001B[38;5;241m-\u001B[39m reduce_box[\u001B[38;5;241m1\u001B[39m]) \u001B[38;5;241m/\u001B[39m factor_y,\n\u001B[0;32m   2172\u001B[0m         )\n\u001B[1;32m-> 2174\u001B[0m \u001B[38;5;28;01mreturn\u001B[39;00m \u001B[38;5;28mself\u001B[39m\u001B[38;5;241m.\u001B[39m_new(\u001B[38;5;28;43mself\u001B[39;49m\u001B[38;5;241;43m.\u001B[39;49m\u001B[43mim\u001B[49m\u001B[38;5;241;43m.\u001B[39;49m\u001B[43mresize\u001B[49m\u001B[43m(\u001B[49m\u001B[43msize\u001B[49m\u001B[43m,\u001B[49m\u001B[43m \u001B[49m\u001B[43mresample\u001B[49m\u001B[43m,\u001B[49m\u001B[43m \u001B[49m\u001B[43mbox\u001B[49m\u001B[43m)\u001B[49m)\n",
      "\u001B[1;31mValueError\u001B[0m: image has wrong mode"
     ]
    }
   ],
   "source": [
    "import os\n",
    "from PIL import Image  \n",
    "import numpy as np\n",
    "\n",
    "wsisrc = r'\\\\169.254.138.20\\Andre\\data\\PDAC Purity Project\\PDAC PURITY Final Analysis\\LCM_H&Es_10x\\czi\\ometiff20xv2'\n",
    "tenxsrc = os.path.join(wsisrc, '5x_python')\n",
    "if not os.path.exists(tenxsrc):\n",
    "    os.mkdir(tenxsrc)\n",
    "wsis = [_ for _ in os.listdir(wsisrc) if _.endswith('tif')]\n",
    "wsis2 = [os.path.splitext(_)[0] for _ in wsis]\n",
    "\n",
    "tenx = [_ for _ in os.listdir(tenxsrc) if _.endswith('tif')]\n",
    "tenx2 = [os.path.splitext(_)[0] for _ in tenx]\n",
    "\n",
    "missingimages = [_ for _ in wsis2 if _ not in tenx2]\n",
    "\n",
    "from PIL import Image\n",
    "Image.MAX_IMAGE_PIXELS = None\n",
    "\n",
    "for idx, missingimage in enumerate(missingimages):\n",
    "\n",
    "    path = os.path.join(wsisrc, missingimage + '.tif')\n",
    "    \n",
    "    if os.path.getsize(path) < 10000:\n",
    "        print(f\"Skipping small file: {path}\")\n",
    "        continue\n",
    "\n",
    "    print(idx, '/', len(missingimages), ' processing: ', missingimage)\n",
    "\n",
    "    wsi = Image.open(path)\n",
    "    wsi.thumbnail((1000, 1000))\n",
    "    wsi = wsi.resize(wsi.size)\n",
    "    \n",
    "    # Handle non-RGB modes\n",
    "    if wsi.mode not in ['RGB', 'RGBA']:\n",
    "        wsi = wsi.convert('RGB')\n",
    "        \n",
    "    rsf = 4    \n",
    "    resize_factor = rsf / float(wsi.info['dpi'][0]) \n",
    "    resize_dimension = tuple([int(np.ceil(dim/resize_factor)) for dim in wsi.size])\n",
    "    \n",
    "    wsi_resized = wsi.resize(resize_dimension, Image.NEAREST)\n",
    "    wsi_resized.save(os.path.join(tenxsrc, missingimage + '.tif'))"
   ],
   "metadata": {
    "collapsed": false,
    "ExecuteTime": {
     "end_time": "2024-01-14T01:04:32.191225100Z",
     "start_time": "2024-01-14T01:03:16.517963300Z"
    }
   },
   "id": "51b9f6e213dc1100"
  },
  {
   "cell_type": "code",
   "execution_count": null,
   "outputs": [],
   "source": [],
   "metadata": {
    "collapsed": false
   },
   "id": "3dc1b502a57f9caf"
  }
 ],
 "metadata": {
  "kernelspec": {
   "display_name": "Python 3",
   "language": "python",
   "name": "python3"
  },
  "language_info": {
   "codemirror_mode": {
    "name": "ipython",
    "version": 2
   },
   "file_extension": ".py",
   "mimetype": "text/x-python",
   "name": "python",
   "nbconvert_exporter": "python",
   "pygments_lexer": "ipython2",
   "version": "2.7.6"
  }
 },
 "nbformat": 4,
 "nbformat_minor": 5
}
