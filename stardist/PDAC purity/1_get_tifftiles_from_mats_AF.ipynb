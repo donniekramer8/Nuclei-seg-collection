{
 "cells": [
  {
   "cell_type": "code",
   "execution_count": 12,
   "outputs": [],
   "source": [
    "import os\n",
    "from PIL import Image\n",
    "import numpy as np\n",
    "\n",
    "# openslide_path = r'C:\\Users\\Donald\\Documents\\openslide-win64-20230414\\bin'\n",
    "openslide_path = r'C:\\Users\\Andre\\Documents\\openslide-win64-20230414\\bin'\n",
    "\n",
    "os.environ['PATH'] = openslide_path + \";\" + os.environ['PATH']\n",
    "# from openslide import OpenSlide\n",
    "\n",
    "\n",
    "if hasattr(os, 'add_dll_directory'):\n",
    "    # Python >= 3.8 on Windows\n",
    "    with os.add_dll_directory(openslide_path):\n",
    "        import openslide\n",
    "else:\n",
    "    import openslide\n",
    "from openslide import OpenSlide"
   ],
   "metadata": {
    "collapsed": false,
    "ExecuteTime": {
     "end_time": "2024-01-14T18:04:56.717945600Z",
     "start_time": "2024-01-14T18:04:56.680806200Z"
    }
   }
  },
  {
   "cell_type": "markdown",
   "source": [
    "You need to do get crop data before running this code. I use a matlab function I made with the 2.5x or 10x tiff images.\n",
    "\n",
    "Function is here: \\\\10.99.68.178\\andreex\\students\\Donald Monkey fetus\\codes\\monkey\\crop1024_monkey.m"
   ],
   "metadata": {
    "collapsed": false
   }
  },
  {
   "cell_type": "code",
   "execution_count": 13,
   "outputs": [],
   "source": [
    "pth = r'\\\\169.254.138.20\\Andre\\data\\PDAC Purity Project\\PDAC PURITY Final Analysis\\LCM_H&Es_10x\\czi\\ometiff20xv2'\n",
    "pth_mat = r'\\\\169.254.138.20\\Andre\\data\\PDAC Purity Project\\PDAC PURITY Final Analysis\\LCM_H&Es_10x\\5x\\cropped_selected\\matfiles'"
   ],
   "metadata": {
    "collapsed": false,
    "ExecuteTime": {
     "end_time": "2024-01-14T18:04:56.749580600Z",
     "start_time": "2024-01-14T18:04:56.686310500Z"
    }
   }
  },
  {
   "cell_type": "code",
   "execution_count": 14,
   "outputs": [],
   "source": [
    "# Get a list of MAT files and their base names (without extensions)\n",
    "mat_files = [os.path.splitext(file)[0] for file in os.listdir(pth_mat) if file.endswith('.mat')]\n",
    "slide_names = [file[:20] for file in mat_files]\n",
    "\n",
    "# Get a list of NDPI images and their base names (without extensions)\n",
    "tiff_files = [os.path.splitext(file)[0] for file in os.listdir(pth) if file.endswith('.tif')]\n",
    "\n",
    "# Find the matching files based on their base names\n",
    "matching_files = set(slide_names).intersection(tiff_files)\n",
    "\n",
    "WSIs = sorted([filename + '.tif' for filename in matching_files])\n",
    "crop_mats = sorted([filename + '.mat' for filename in mat_files])"
   ],
   "metadata": {
    "collapsed": false,
    "ExecuteTime": {
     "end_time": "2024-01-14T18:04:56.749580600Z",
     "start_time": "2024-01-14T18:04:56.701938200Z"
    }
   }
  },
  {
   "cell_type": "code",
   "execution_count": 15,
   "outputs": [
    {
     "data": {
      "text/plain": "['PD.14 1F LCM.mat',\n 'PD.2 5N-T LCM.mat',\n 'PD.4 3L-1 LCM.mat',\n 'PD.9 2O LCM.mat',\n 'PD_11 2O LCM.mat',\n 'PD_12 1F LCM-1-1.mat',\n 'PD_14 1F LCM.mat',\n 'PD_15 3Q LCM.mat',\n 'PD_16 5l LCM-2.mat',\n 'PD_17 4M LCM.mat',\n 'PD_18 2H LCM.mat',\n 'PD_19 5M LCM.mat',\n 'PD_20 3II LCM.mat',\n 'PD_21 5M-2 LCM.mat',\n 'PD_22 5L LCM.mat',\n 'PD_23 4O LCM.mat',\n 'PD_24 2L LCM.mat',\n 'PD_25 3GG LCM.mat',\n 'PD_26 2K LCM.mat',\n 'PD_27 4N LCM rescan.mat',\n 'PD_28 4T LCM.mat',\n 'PD_30 3D LCM.mat',\n 'PD_31 4N LCM.mat',\n 'PD_8 1F LCM.mat']"
     },
     "execution_count": 15,
     "metadata": {},
     "output_type": "execute_result"
    }
   ],
   "source": [
    "crop_mats"
   ],
   "metadata": {
    "collapsed": false,
    "ExecuteTime": {
     "end_time": "2024-01-14T18:04:56.749580600Z",
     "start_time": "2024-01-14T18:04:56.717945600Z"
    }
   }
  },
  {
   "cell_type": "code",
   "execution_count": 16,
   "outputs": [
    {
     "data": {
      "text/plain": "['PD_11 2O LCM.tif',\n 'PD_12 1F LCM-1-1.tif',\n 'PD_14 1F LCM.tif',\n 'PD_15 3Q LCM.tif',\n 'PD_16 5l LCM-2.tif',\n 'PD_17 4M LCM.tif',\n 'PD_18 2H LCM.tif',\n 'PD_19 5M LCM.tif',\n 'PD_20 3II LCM.tif',\n 'PD_21 5M-2 LCM.tif',\n 'PD_22 5L LCM.tif',\n 'PD_23 4O LCM.tif',\n 'PD_24 2L LCM.tif',\n 'PD_25 3GG LCM.tif',\n 'PD_26 2K LCM.tif',\n 'PD_27 4N LCM rescan.tif',\n 'PD_28 4T LCM.tif',\n 'PD_30 3D LCM.tif',\n 'PD_31 4N LCM.tif',\n 'PD_8 1F LCM.tif']"
     },
     "execution_count": 16,
     "metadata": {},
     "output_type": "execute_result"
    }
   ],
   "source": [
    "WSIs"
   ],
   "metadata": {
    "collapsed": false,
    "ExecuteTime": {
     "end_time": "2024-01-14T18:04:56.749580600Z",
     "start_time": "2024-01-14T18:04:56.733573Z"
    }
   }
  },
  {
   "cell_type": "code",
   "execution_count": 25,
   "outputs": [],
   "source": [
    "res20x=0.5/0.4416\n",
    "# res20x=0.5\n",
    "res5x=2\n",
    "ratio = res5x/res20x\n",
    "\n",
    "# outpth = r'\\\\10.99.68.178\\andreex\\data\\monkey fetus\\gestational 40\\1024tiles\\new_testing_tiles_12_5\\cropped_tile\\20x_tiles'\n",
    "outpth= os.path.join(pth,'20xtiles_stardist')\n",
    "\n",
    "if not os.path.exists(outpth):\n",
    "    os.mkdir(outpth)"
   ],
   "metadata": {
    "collapsed": false,
    "ExecuteTime": {
     "end_time": "2024-01-14T18:08:20.615358800Z",
     "start_time": "2024-01-14T18:08:20.599731100Z"
    }
   }
  },
  {
   "cell_type": "code",
   "execution_count": 26,
   "outputs": [
    {
     "name": "stdout",
     "output_type": "stream",
     "text": [
      "1.7664\n"
     ]
    }
   ],
   "source": [
    "print(ratio)"
   ],
   "metadata": {
    "collapsed": false,
    "ExecuteTime": {
     "end_time": "2024-01-14T18:08:21.135438700Z",
     "start_time": "2024-01-14T18:08:21.126227100Z"
    }
   }
  },
  {
   "cell_type": "code",
   "execution_count": 27,
   "outputs": [
    {
     "data": {
      "text/plain": "['PD.14 1F LCM.mat',\n 'PD.2 5N-T LCM.mat',\n 'PD.4 3L-1 LCM.mat',\n 'PD.9 2O LCM.mat',\n 'PD_11 2O LCM.mat',\n 'PD_12 1F LCM-1-1.mat',\n 'PD_14 1F LCM.mat',\n 'PD_15 3Q LCM.mat',\n 'PD_16 5l LCM-2.mat',\n 'PD_17 4M LCM.mat',\n 'PD_18 2H LCM.mat',\n 'PD_19 5M LCM.mat',\n 'PD_20 3II LCM.mat',\n 'PD_21 5M-2 LCM.mat',\n 'PD_22 5L LCM.mat',\n 'PD_23 4O LCM.mat',\n 'PD_24 2L LCM.mat',\n 'PD_25 3GG LCM.mat',\n 'PD_26 2K LCM.mat',\n 'PD_27 4N LCM rescan.mat',\n 'PD_28 4T LCM.mat',\n 'PD_30 3D LCM.mat',\n 'PD_31 4N LCM.mat',\n 'PD_8 1F LCM.mat']"
     },
     "execution_count": 27,
     "metadata": {},
     "output_type": "execute_result"
    }
   ],
   "source": [
    "crop_mats"
   ],
   "metadata": {
    "collapsed": false,
    "ExecuteTime": {
     "end_time": "2024-01-14T18:08:21.467969200Z",
     "start_time": "2024-01-14T18:08:21.451962600Z"
    }
   }
  },
  {
   "cell_type": "code",
   "execution_count": 28,
   "outputs": [
    {
     "data": {
      "text/plain": "['PD_11 2O LCM.tif',\n 'PD_12 1F LCM-1-1.tif',\n 'PD_14 1F LCM.tif',\n 'PD_15 3Q LCM.tif',\n 'PD_16 5l LCM-2.tif',\n 'PD_17 4M LCM.tif',\n 'PD_18 2H LCM.tif',\n 'PD_19 5M LCM.tif',\n 'PD_20 3II LCM.tif',\n 'PD_21 5M-2 LCM.tif',\n 'PD_22 5L LCM.tif',\n 'PD_23 4O LCM.tif',\n 'PD_24 2L LCM.tif',\n 'PD_25 3GG LCM.tif',\n 'PD_26 2K LCM.tif',\n 'PD_27 4N LCM rescan.tif',\n 'PD_28 4T LCM.tif',\n 'PD_30 3D LCM.tif',\n 'PD_31 4N LCM.tif',\n 'PD_8 1F LCM.tif']"
     },
     "execution_count": 28,
     "metadata": {},
     "output_type": "execute_result"
    }
   ],
   "source": [
    "WSIs"
   ],
   "metadata": {
    "collapsed": false,
    "ExecuteTime": {
     "end_time": "2024-01-14T18:08:21.712178500Z",
     "start_time": "2024-01-14T18:08:21.689546300Z"
    }
   }
  },
  {
   "cell_type": "code",
   "execution_count": 29,
   "outputs": [],
   "source": [
    "# from scipy.io import loadmat\n",
    "# \n",
    "# file_format = '.tif'\n",
    "# \n",
    "# for i, file in enumerate(crop_mats):\n",
    "#     mat_file_name = os.path.join(pth_mat, file)\n",
    "# \n",
    "#     WSI_path = os.path.join(pth, WSIs[i])\n",
    "# \n",
    "#     f_out_name = f'{os.path.join(os.path.join(outpth,crop_mats[i][:-4]))}{file_format}'\n",
    "# \n",
    "#     if os.path.exists(f_out_name):\n",
    "#         print(f'Skipping cropping for {WSIs[i]} ({i+1}/{len(crop_mats)})... Already exists')\n",
    "# \n",
    "#     else:\n",
    "#         print(f'Cropping {WSIs[i]} ({i+1}/{len(crop_mats)})')\n",
    "# \n",
    "#         # print(mat_file_name)\n",
    "#         # print(WSI_path)\n",
    "# \n",
    "#         WSI_slide = openslide.OpenSlide(WSI_path)\n",
    "# \n",
    "#         wsi_width, wsi_height = WSI_slide.level_dimensions[0]\n",
    "# \n",
    "#         data = loadmat(mat_file_name)\n",
    "# \n",
    "#         # crop_width = int(data['crop_width']*ratio)\n",
    "#         # crop_height = int(data['crop_height']*ratio)\n",
    "# \n",
    "# \n",
    "#         crop_width = 1024\n",
    "#         crop_height = 1024\n",
    "#         crop_x = int(data['crop_x']*ratio)\n",
    "#         crop_y = int(data['crop_y']*ratio)\n",
    "# \n",
    "#         lower_x = crop_x\n",
    "#         upper_y = crop_y\n",
    "#         upper_x = crop_x + crop_width\n",
    "#         lower_y = crop_y - crop_height\n",
    "# \n",
    "#         print(crop_x)\n",
    "#         print(crop_y)\n",
    "#         print(crop_width)\n",
    "#         print(crop_height)\n",
    "# \n",
    "#         region = WSI_slide.read_region((crop_x, crop_y), 0, (crop_width, crop_height)) # level = 0 in middle\n",
    "#         region_image = Image.new('RGB', region.size)\n",
    "#         region_image.paste(region, (0, 0))\n",
    "# \n",
    "#         region_image.save(f_out_name)\n",
    "#         WSI_slide.close()\n"
   ],
   "metadata": {
    "collapsed": false,
    "ExecuteTime": {
     "end_time": "2024-01-14T18:08:22.024755700Z",
     "start_time": "2024-01-14T18:08:22.006123700Z"
    }
   }
  },
  {
   "cell_type": "code",
   "execution_count": 30,
   "outputs": [
    {
     "name": "stderr",
     "output_type": "stream",
     "text": [
      "C:\\Users\\Andre\\AppData\\Local\\Temp\\ipykernel_4912\\3397753131.py:25: DeprecationWarning: Conversion of an array with ndim > 0 to a scalar is deprecated, and will error in future. Ensure you extract a single element from your array before performing this operation. (Deprecated NumPy 1.25.)\n",
      "  crop_x = int(crop_x_data*ratio)\n",
      "C:\\Users\\Andre\\AppData\\Local\\Temp\\ipykernel_4912\\3397753131.py:27: DeprecationWarning: Conversion of an array with ndim > 0 to a scalar is deprecated, and will error in future. Ensure you extract a single element from your array before performing this operation. (Deprecated NumPy 1.25.)\n",
      "  crop_y = int(crop_y_data*ratio)\n"
     ]
    },
    {
     "name": "stdout",
     "output_type": "stream",
     "text": [
      "30897\n",
      "17870\n",
      "1024\n",
      "1024\n",
      "13611\n",
      "17809\n",
      "1024\n",
      "1024\n",
      "17433\n",
      "6815\n",
      "1024\n",
      "1024\n",
      "16121\n",
      "14507\n",
      "1024\n",
      "1024\n",
      "11729\n",
      "14207\n",
      "1024\n",
      "1024\n",
      "11443\n",
      "17500\n",
      "1024\n",
      "1024\n",
      "15377\n",
      "8907\n",
      "1024\n",
      "1024\n",
      "12192\n",
      "9802\n",
      "1024\n",
      "1024\n",
      "5623\n",
      "14143\n",
      "1024\n",
      "1024\n",
      "15222\n",
      "10080\n",
      "1024\n",
      "1024\n",
      "18362\n",
      "19766\n",
      "1024\n",
      "1024\n",
      "10152\n",
      "10629\n",
      "1024\n",
      "1024\n",
      "14802\n",
      "9479\n",
      "1024\n",
      "1024\n",
      "13173\n",
      "6336\n",
      "1024\n",
      "1024\n",
      "26945\n",
      "9931\n",
      "1024\n",
      "1024\n",
      "13566\n",
      "14698\n",
      "1024\n",
      "1024\n",
      "23112\n",
      "14503\n",
      "1024\n",
      "1024\n",
      "13995\n",
      "15540\n",
      "1024\n",
      "1024\n",
      "11365\n",
      "5772\n",
      "1024\n",
      "1024\n",
      "16412\n",
      "6720\n",
      "1024\n",
      "1024\n"
     ]
    },
    {
     "ename": "IndexError",
     "evalue": "list index out of range",
     "output_type": "error",
     "traceback": [
      "\u001B[1;31m---------------------------------------------------------------------------\u001B[0m",
      "\u001B[1;31mIndexError\u001B[0m                                Traceback (most recent call last)",
      "Cell \u001B[1;32mIn[30], line 11\u001B[0m\n\u001B[0;32m      9\u001B[0m \u001B[38;5;28;01mfor\u001B[39;00m i, file \u001B[38;5;129;01min\u001B[39;00m \u001B[38;5;28menumerate\u001B[39m(crop_mats):\n\u001B[0;32m     10\u001B[0m   mat_file_name \u001B[38;5;241m=\u001B[39m os\u001B[38;5;241m.\u001B[39mpath\u001B[38;5;241m.\u001B[39mjoin(pth_mat, file)\n\u001B[1;32m---> 11\u001B[0m   WSI_path \u001B[38;5;241m=\u001B[39m os\u001B[38;5;241m.\u001B[39mpath\u001B[38;5;241m.\u001B[39mjoin(pth, \u001B[43mWSIs\u001B[49m\u001B[43m[\u001B[49m\u001B[43mi\u001B[49m\u001B[43m]\u001B[49m) \n\u001B[0;32m     12\u001B[0m   f_out_name \u001B[38;5;241m=\u001B[39m \u001B[38;5;124mf\u001B[39m\u001B[38;5;124m'\u001B[39m\u001B[38;5;132;01m{\u001B[39;00mos\u001B[38;5;241m.\u001B[39mpath\u001B[38;5;241m.\u001B[39mjoin(os\u001B[38;5;241m.\u001B[39mpath\u001B[38;5;241m.\u001B[39mjoin(outpth,crop_mats[i][:\u001B[38;5;241m-\u001B[39m\u001B[38;5;241m4\u001B[39m]))\u001B[38;5;132;01m}\u001B[39;00m\u001B[38;5;132;01m{\u001B[39;00mfile_format\u001B[38;5;132;01m}\u001B[39;00m\u001B[38;5;124m'\u001B[39m\n\u001B[0;32m     14\u001B[0m   \u001B[38;5;66;03m# if os.path.exists(f_out_name):\u001B[39;00m\n\u001B[0;32m     15\u001B[0m   \u001B[38;5;66;03m#   print(f'Skipping cropping for {WSIs[i]} ({i+1}/{len(crop_mats)})... Already exists')\u001B[39;00m\n\u001B[0;32m     16\u001B[0m   \u001B[38;5;66;03m# else:\u001B[39;00m\n\u001B[0;32m     17\u001B[0m   \u001B[38;5;66;03m#   print(f'Cropping {WSIs[i]} ({i+1}/{len(crop_mats)})')\u001B[39;00m\n",
      "\u001B[1;31mIndexError\u001B[0m: list index out of range"
     ]
    }
   ],
   "source": [
    "import openslide\n",
    "from PIL import Image\n",
    "import os\n",
    "import h5py\n",
    "from scipy.io import loadmat \n",
    "\n",
    "file_format = '.tif'\n",
    "\n",
    "for i, file in enumerate(crop_mats):\n",
    "  mat_file_name = os.path.join(pth_mat, file)\n",
    "  WSI_path = os.path.join(pth, WSIs[i]) \n",
    "  f_out_name = f'{os.path.join(os.path.join(outpth,crop_mats[i][:-4]))}{file_format}'\n",
    "\n",
    "  # if os.path.exists(f_out_name):\n",
    "  #   print(f'Skipping cropping for {WSIs[i]} ({i+1}/{len(crop_mats)})... Already exists')\n",
    "  # else:\n",
    "  #   print(f'Cropping {WSIs[i]} ({i+1}/{len(crop_mats)})')\n",
    "\n",
    "  WSI_slide = openslide.OpenSlide(WSI_path)\n",
    "  wsi_width, wsi_height = WSI_slide.level_dimensions[0]\n",
    "  \n",
    "  data = h5py.File(mat_file_name, 'r')\n",
    "  # data = loadmat(mat_file_name)\n",
    "  crop_x_data = data['crop_x'][()]\n",
    "  crop_x = int(crop_x_data*ratio)\n",
    "  crop_y_data = data['crop_y'][()]  \n",
    "  crop_y = int(crop_y_data*ratio)\n",
    "  \n",
    "  crop_width = 1024 \n",
    "  crop_height = 1024\n",
    "\n",
    "  # crop_x = int(data['crop_x']*ratio) \n",
    "  # crop_y = int(data['crop_y']*ratio)\n",
    "\n",
    "  lower_x = crop_x\n",
    "  upper_y = crop_y\n",
    "  upper_x = crop_x + crop_width \n",
    "  lower_y = crop_y - crop_height\n",
    "\n",
    "  print(crop_x)\n",
    "  print(crop_y) \n",
    "  print(crop_width)\n",
    "  print(crop_height)\n",
    "\n",
    "  region = WSI_slide.read_region((crop_x, crop_y), 0, (crop_width, crop_height))\n",
    "\n",
    "  region_image = Image.new('RGB', region.size)\n",
    "  region_image.paste(region, (0, 0))\n",
    "  region_image.save(f_out_name)\n",
    "  \n",
    "  WSI_slide.close()"
   ],
   "metadata": {
    "collapsed": false,
    "ExecuteTime": {
     "end_time": "2024-01-14T18:08:26.928938600Z",
     "start_time": "2024-01-14T18:08:22.292165700Z"
    }
   }
  },
  {
   "cell_type": "code",
   "execution_count": null,
   "outputs": [],
   "source": [
    "crop_x\n"
   ],
   "metadata": {
    "collapsed": false,
    "ExecuteTime": {
     "end_time": "2024-01-14T18:08:26.930942500Z",
     "start_time": "2024-01-14T18:08:26.930942500Z"
    }
   }
  },
  {
   "cell_type": "code",
   "execution_count": null,
   "outputs": [],
   "source": [
    "crop_y"
   ],
   "metadata": {
    "collapsed": false,
    "ExecuteTime": {
     "start_time": "2024-01-14T18:04:56.844486100Z"
    }
   }
  },
  {
   "cell_type": "markdown",
   "source": [],
   "metadata": {
    "collapsed": false
   }
  }
 ],
 "metadata": {
  "kernelspec": {
   "display_name": "Python 3",
   "language": "python",
   "name": "python3"
  },
  "language_info": {
   "codemirror_mode": {
    "name": "ipython",
    "version": 2
   },
   "file_extension": ".py",
   "mimetype": "text/x-python",
   "name": "python",
   "nbconvert_exporter": "python",
   "pygments_lexer": "ipython2",
   "version": "2.7.6"
  }
 },
 "nbformat": 4,
 "nbformat_minor": 0
}
