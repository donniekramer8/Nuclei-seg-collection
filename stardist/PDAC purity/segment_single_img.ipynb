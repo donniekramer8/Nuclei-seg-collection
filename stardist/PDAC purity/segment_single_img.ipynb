{
 "cells": [
  {
   "cell_type": "code",
   "execution_count": null,
   "id": "initial_id",
   "metadata": {
    "collapsed": true
   },
   "outputs": [],
   "source": [
    "# pths = [r'\\\\169.254.138.20\\Andre\\data\\PDAC Purity Project\\PDAC PURITY Final Analysis\\LCM_H&Es_10x\\czi\\ometiff_20x']\n",
    "pths=[r'\\\\10.99.68.52\\Kiemendata\\PanIN phenotyping\\PDAC Purity Project\\LCM H&Es\\try 20x AK']\n",
    "# WSIs = [glob(f'{pth}\\*.ome.tiff') for pth in pths]\n",
    "WSIs = [glob(f'{pth}\\*.tif') for pth in pths]\n"
   ]
  },
  {
   "cell_type": "code",
   "execution_count": null,
   "outputs": [],
   "source": [
    "WSIs[0]\n"
   ],
   "metadata": {
    "collapsed": false
   },
   "id": "123ebeac0e89d70"
  },
  {
   "cell_type": "code",
   "execution_count": null,
   "outputs": [],
   "source": [
    "img_pths = [img_pth for p, img_pth in enumerate(WSIs[0])]\n",
    "img = imread(img_pths[0])"
   ],
   "metadata": {
    "collapsed": false
   },
   "id": "4b4c8395a8774268"
  },
  {
   "cell_type": "code",
   "execution_count": null,
   "outputs": [],
   "source": [
    "img = img/255\n",
    "img.shape"
   ],
   "metadata": {
    "collapsed": false
   },
   "id": "8c7e0c26ff9cf15b"
  },
  {
   "cell_type": "code",
   "execution_count": null,
   "outputs": [],
   "source": [
    "import json\n",
    "from stardist.models import Config2D, StarDist2D\n",
    "\n",
    "def load_model(model_path: str) -> StarDist2D:\n",
    "    # Load StarDist model weights, configurations, and thresholds\n",
    "    with open(model_path + '\\\\config.json', 'r') as f:\n",
    "        config = json.load(f)\n",
    "    with open(model_path + '\\\\thresholds.json', 'r') as f:\n",
    "        thresh = json.load(f)\n",
    "    model = StarDist2D(config=Config2D(**config), basedir=model_path, name='offshoot_model')\n",
    "    model.thresholds = thresh\n",
    "    print('Overriding defaults:', model.thresholds, '\\n')\n",
    "    model.load_weights(model_path + '\\\\weights_best.h5')\n",
    "    return model\n",
    "# model = load_model(r\"\\\\10.99.68.178\\andreex\\data\\Stardist\\qupath_training_annotations\\models\\fallopian_tube_12_7_2023_lr_0.001_epochs_400_pt_40\")\n",
    "model = load_model(r\"\\\\10.99.68.178\\andreex\\data\\Stardist\\12_12_hyperparameter_models\\monkey_12_12_2023_lr_0.001_epochs_400_pt_10_gaus_ratio_0\")"
   ],
   "metadata": {
    "collapsed": false
   },
   "id": "189b88b4c5c76217"
  },
  {
   "cell_type": "code",
   "execution_count": null,
   "outputs": [],
   "source": [
    "labels, polys = model.predict_instances_big(img, axes='YXC', block_size=4096, min_overlap=128, context=128, n_tiles=(4,4,1))\n"
   ],
   "metadata": {
    "collapsed": false
   },
   "id": "4dba290473a95a98"
  },
  {
   "cell_type": "code",
   "execution_count": null,
   "outputs": [],
   "source": [
    "tile_size = 512*50\n",
    "\n",
    "y_cor = 15000\n",
    "y_cor_end = y_cor + tile_size\n",
    "x_cor = 10000\n",
    "x_cor_end = x_cor + tile_size\n",
    "\n",
    "cropped_img = img[y_cor:y_cor_end, x_cor:x_cor_end]\n",
    "cropped_lbl = labels[y_cor:y_cor_end, x_cor:x_cor_end]\n",
    "\n",
    "lbl_cmap = random_label_cmap()"
   ],
   "metadata": {
    "collapsed": false
   },
   "id": "70ba6b26dd79cff3"
  },
  {
   "cell_type": "code",
   "execution_count": null,
   "outputs": [],
   "source": [
    "plt.figure(figsize=(8, 8))\n",
    "plt.imshow(cropped_img)\n",
    "plt.imshow(cropped_lbl, cmap=lbl_cmap, alpha=0.25)\n",
    "plt.axis('off')\n",
    "plt.show()"
   ],
   "metadata": {
    "collapsed": false
   },
   "id": "25d9415e1f6bbe27"
  }
 ],
 "metadata": {
  "kernelspec": {
   "display_name": "Python 3",
   "language": "python",
   "name": "python3"
  },
  "language_info": {
   "codemirror_mode": {
    "name": "ipython",
    "version": 2
   },
   "file_extension": ".py",
   "mimetype": "text/x-python",
   "name": "python",
   "nbconvert_exporter": "python",
   "pygments_lexer": "ipython2",
   "version": "2.7.6"
  }
 },
 "nbformat": 4,
 "nbformat_minor": 5
}
