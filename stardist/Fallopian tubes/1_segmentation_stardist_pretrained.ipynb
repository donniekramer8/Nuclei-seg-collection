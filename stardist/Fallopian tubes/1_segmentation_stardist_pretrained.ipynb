{
 "cells": [
  {
   "cell_type": "code",
   "execution_count": null,
   "id": "initial_id",
   "metadata": {
    "collapsed": true
   },
   "outputs": [],
   "source": [
    "# conda env create -f https://raw.githubusercontent.com/CSBDeep/CSBDeep/master/extras/environment-gpu-py3.8-tf2.4.yml"
   ]
  },
  {
   "cell_type": "code",
   "execution_count": 3,
   "outputs": [],
   "source": [
    "# conda install stardist"
   ],
   "metadata": {
    "collapsed": false,
    "ExecuteTime": {
     "end_time": "2023-10-29T16:03:17.877989100Z",
     "start_time": "2023-10-29T16:03:17.866979400Z"
    }
   },
   "id": "f5edbd73d0beb55c"
  },
  {
   "cell_type": "code",
   "execution_count": null,
   "outputs": [],
   "source": [
    "import numpy as np\n",
    "import matplotlib.pyplot as plt\n",
    "# \n",
    "# from tifffile import imread, imsave\n",
    "# from csbdeep.utils import Path, normalize\n",
    "# from csbdeep.utils.tf import keras_import\n",
    "# keras = keras_import()\n",
    "\n",
    "# from stardist import export_imagej_rois, random_label_cmap\n",
    "from stardist.models import StarDist2D\n",
    "\n",
    "# prints a list of available models\n",
    "StarDist2D.from_pretrained()\n",
    "\n",
    "# creates a pretrained model\n",
    "model = StarDist2D.from_pretrained('2D_versatile_he')"
   ],
   "metadata": {
    "collapsed": false,
    "is_executing": true
   },
   "id": "e7888f2627fd2d47"
  },
  {
   "cell_type": "code",
   "execution_count": null,
   "outputs": [],
   "source": [
    "def show_image(img, **kwargs):\n",
    "    \"\"\"Plot large image at different resolutions.\"\"\"\n",
    "    fig, ax = plt.subplots(2,4, figsize=(16,8))\n",
    "    mid = [s//2 + 600 for s in img.shape[:2]]\n",
    "    for a,t,u in zip(ax.ravel(),[1,2,4,8,16,32,64,128],[16,8,4,2,1,1,1,1]):\n",
    "        sl = tuple(slice(c - s//t//2, c + s//t//2, u) for s,c in zip(img.shape[:2],mid))\n",
    "        a.imshow(img[sl], **kwargs)\n",
    "        a.axis('off')\n",
    "    plt.tight_layout()\n",
    "    plt.show()"
   ],
   "metadata": {
    "collapsed": false,
    "is_executing": true
   },
   "id": "1568d9a6601d1696"
  },
  {
   "cell_type": "code",
   "execution_count": null,
   "outputs": [],
   "source": [
    "np.random.seed(0)\n",
    "cmap = random_label_cmap()"
   ],
   "metadata": {
    "collapsed": false,
    "is_executing": true
   },
   "id": "cd36934201c67c2d"
  },
  {
   "cell_type": "code",
   "execution_count": null,
   "outputs": [],
   "source": [],
   "metadata": {
    "collapsed": false
   },
   "id": "daf92d5a01142cc8"
  }
 ],
 "metadata": {
  "kernelspec": {
   "display_name": "Python 3",
   "language": "python",
   "name": "python3"
  },
  "language_info": {
   "codemirror_mode": {
    "name": "ipython",
    "version": 2
   },
   "file_extension": ".py",
   "mimetype": "text/x-python",
   "name": "python",
   "nbconvert_exporter": "python",
   "pygments_lexer": "ipython2",
   "version": "2.7.6"
  }
 },
 "nbformat": 4,
 "nbformat_minor": 5
}
