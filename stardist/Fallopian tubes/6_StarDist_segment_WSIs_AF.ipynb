{
 "cells": [
  {
   "cell_type": "markdown",
   "metadata": {
    "id": "C_I2jyQBsea7"
   },
   "source": [
    "**Nuclei segmentation in whole slide H&E images**\n",
    "\n",
    "using custom model."
   ]
  },
  {
   "cell_type": "code",
   "execution_count": 1,
   "metadata": {
    "id": "gykQyKIgf78K",
    "ExecuteTime": {
     "end_time": "2024-08-04T20:33:23.009409200Z",
     "start_time": "2024-08-04T20:33:18.371249500Z"
    }
   },
   "outputs": [],
   "source": [
    "import numpy as np\n",
    "import matplotlib.pyplot as plt\n",
    "\n",
    "from tifffile import imread, imwrite\n",
    "from csbdeep.utils import Path, normalize\n",
    "from csbdeep.utils.tf import keras_import\n",
    "keras = keras_import()\n",
    "\n",
    "from stardist import export_imagej_rois, random_label_cmap\n",
    "from stardist.models import StarDist2D\n",
    "import tensorflow as tf\n",
    "\n",
    "np.random.seed(0)\n",
    "cmap = random_label_cmap()"
   ]
  },
  {
   "cell_type": "code",
   "execution_count": 2,
   "outputs": [
    {
     "name": "stdout",
     "output_type": "stream",
     "text": [
      "GPU is available\n",
      "2.10.1\n"
     ]
    }
   ],
   "source": [
    "if tf.config.list_physical_devices('GPU'):\n",
    "    print(\"GPU is available\")\n",
    "else:\n",
    "    print(\"GPU is not available\")\n",
    "\n",
    "print(tf.__version__)"
   ],
   "metadata": {
    "collapsed": false,
    "ExecuteTime": {
     "end_time": "2024-08-04T20:33:23.135948800Z",
     "start_time": "2024-08-04T20:33:23.123446Z"
    }
   }
  },
  {
   "cell_type": "code",
   "execution_count": 3,
   "outputs": [],
   "source": [
    "import os\n",
    "from glob import glob\n",
    "\n",
    "# CHANGE PATH\n",
    "\n",
    "# pths = [r'\\\\10.162.80.16\\Andre\\data\\Ashleigh fallopian tube\\fallopian tubes\\AJER376',\n",
    "#         r'\\\\10.162.80.16\\Andre\\data\\Ashleigh fallopian tube\\fallopian tubes\\AJGB283',\n",
    "#         r'\\\\10.162.80.16\\Andre\\data\\Ashleigh fallopian tube\\fallopian tubes\\AJF232',\n",
    "#         r'\\\\10.162.80.16\\Andre\\data\\Ashleigh fallopian tube\\fallopian tubes\\AJLC170']\n",
    "\n",
    "# pths = r'\\\\10.99.68.178\\andreex\\data\\monkey fetus\\gestational 40'  # path of ndpi files\n",
    "pths = [r'\\\\169.254.138.20\\Andre\\data\\monkey fetus\\bissected_monkey_GS55']  # path of ndpi files\n",
    "WSIs = [glob(f'{pth}\\*.ndpi') for pth in pths]"
   ],
   "metadata": {
    "collapsed": false,
    "ExecuteTime": {
     "end_time": "2024-08-04T20:33:23.154579900Z",
     "start_time": "2024-08-04T20:33:23.135948800Z"
    }
   }
  },
  {
   "cell_type": "code",
   "execution_count": 4,
   "outputs": [
    {
     "data": {
      "text/plain": "1"
     },
     "execution_count": 4,
     "metadata": {},
     "output_type": "execute_result"
    }
   ],
   "source": [
    "len(WSIs)"
   ],
   "metadata": {
    "collapsed": false,
    "ExecuteTime": {
     "end_time": "2024-08-04T20:33:23.214845700Z",
     "start_time": "2024-08-04T20:33:23.154579900Z"
    }
   }
  },
  {
   "cell_type": "code",
   "execution_count": 5,
   "outputs": [
    {
     "data": {
      "text/plain": "[['\\\\\\\\169.254.138.20\\\\Andre\\\\data\\\\monkey fetus\\\\bissected_monkey_GS55\\\\monkey_fetus_GS55_0001.ndpi',\n  '\\\\\\\\169.254.138.20\\\\Andre\\\\data\\\\monkey fetus\\\\bissected_monkey_GS55\\\\monkey_fetus_GS55_0004.ndpi',\n  '\\\\\\\\169.254.138.20\\\\Andre\\\\data\\\\monkey fetus\\\\bissected_monkey_GS55\\\\monkey_fetus_GS55_0007.ndpi',\n  '\\\\\\\\169.254.138.20\\\\Andre\\\\data\\\\monkey fetus\\\\bissected_monkey_GS55\\\\monkey_fetus_GS55_0010.ndpi',\n  '\\\\\\\\169.254.138.20\\\\Andre\\\\data\\\\monkey fetus\\\\bissected_monkey_GS55\\\\monkey_fetus_GS55_0013.ndpi',\n  '\\\\\\\\169.254.138.20\\\\Andre\\\\data\\\\monkey fetus\\\\bissected_monkey_GS55\\\\monkey_fetus_GS55_0016.ndpi',\n  '\\\\\\\\169.254.138.20\\\\Andre\\\\data\\\\monkey fetus\\\\bissected_monkey_GS55\\\\monkey_fetus_GS55_0019.ndpi',\n  '\\\\\\\\169.254.138.20\\\\Andre\\\\data\\\\monkey fetus\\\\bissected_monkey_GS55\\\\monkey_fetus_GS55_0022.ndpi',\n  '\\\\\\\\169.254.138.20\\\\Andre\\\\data\\\\monkey fetus\\\\bissected_monkey_GS55\\\\monkey_fetus_GS55_0025.ndpi',\n  '\\\\\\\\169.254.138.20\\\\Andre\\\\data\\\\monkey fetus\\\\bissected_monkey_GS55\\\\monkey_fetus_GS55_0028.ndpi',\n  '\\\\\\\\169.254.138.20\\\\Andre\\\\data\\\\monkey fetus\\\\bissected_monkey_GS55\\\\monkey_fetus_GS55_0031.ndpi',\n  '\\\\\\\\169.254.138.20\\\\Andre\\\\data\\\\monkey fetus\\\\bissected_monkey_GS55\\\\monkey_fetus_GS55_0034.ndpi',\n  '\\\\\\\\169.254.138.20\\\\Andre\\\\data\\\\monkey fetus\\\\bissected_monkey_GS55\\\\monkey_fetus_GS55_0037.ndpi',\n  '\\\\\\\\169.254.138.20\\\\Andre\\\\data\\\\monkey fetus\\\\bissected_monkey_GS55\\\\monkey_fetus_GS55_0040.ndpi',\n  '\\\\\\\\169.254.138.20\\\\Andre\\\\data\\\\monkey fetus\\\\bissected_monkey_GS55\\\\monkey_fetus_GS55_0043.ndpi',\n  '\\\\\\\\169.254.138.20\\\\Andre\\\\data\\\\monkey fetus\\\\bissected_monkey_GS55\\\\monkey_fetus_GS55_0046.ndpi',\n  '\\\\\\\\169.254.138.20\\\\Andre\\\\data\\\\monkey fetus\\\\bissected_monkey_GS55\\\\monkey_fetus_GS55_0049.ndpi',\n  '\\\\\\\\169.254.138.20\\\\Andre\\\\data\\\\monkey fetus\\\\bissected_monkey_GS55\\\\monkey_fetus_GS55_0052.ndpi',\n  '\\\\\\\\169.254.138.20\\\\Andre\\\\data\\\\monkey fetus\\\\bissected_monkey_GS55\\\\monkey_fetus_GS55_0055.ndpi',\n  '\\\\\\\\169.254.138.20\\\\Andre\\\\data\\\\monkey fetus\\\\bissected_monkey_GS55\\\\monkey_fetus_GS55_0058.ndpi',\n  '\\\\\\\\169.254.138.20\\\\Andre\\\\data\\\\monkey fetus\\\\bissected_monkey_GS55\\\\monkey_fetus_GS55_0061.ndpi',\n  '\\\\\\\\169.254.138.20\\\\Andre\\\\data\\\\monkey fetus\\\\bissected_monkey_GS55\\\\monkey_fetus_GS55_0064.ndpi',\n  '\\\\\\\\169.254.138.20\\\\Andre\\\\data\\\\monkey fetus\\\\bissected_monkey_GS55\\\\monkey_fetus_GS55_0067.ndpi',\n  '\\\\\\\\169.254.138.20\\\\Andre\\\\data\\\\monkey fetus\\\\bissected_monkey_GS55\\\\monkey_fetus_GS55_0070.ndpi',\n  '\\\\\\\\169.254.138.20\\\\Andre\\\\data\\\\monkey fetus\\\\bissected_monkey_GS55\\\\monkey_fetus_GS55_0073.ndpi',\n  '\\\\\\\\169.254.138.20\\\\Andre\\\\data\\\\monkey fetus\\\\bissected_monkey_GS55\\\\monkey_fetus_GS55_0076.ndpi',\n  '\\\\\\\\169.254.138.20\\\\Andre\\\\data\\\\monkey fetus\\\\bissected_monkey_GS55\\\\monkey_fetus_GS55_0079.ndpi',\n  '\\\\\\\\169.254.138.20\\\\Andre\\\\data\\\\monkey fetus\\\\bissected_monkey_GS55\\\\monkey_fetus_GS55_0082.ndpi',\n  '\\\\\\\\169.254.138.20\\\\Andre\\\\data\\\\monkey fetus\\\\bissected_monkey_GS55\\\\monkey_fetus_GS55_0085.ndpi',\n  '\\\\\\\\169.254.138.20\\\\Andre\\\\data\\\\monkey fetus\\\\bissected_monkey_GS55\\\\monkey_fetus_GS55_0088.ndpi',\n  '\\\\\\\\169.254.138.20\\\\Andre\\\\data\\\\monkey fetus\\\\bissected_monkey_GS55\\\\monkey_fetus_GS55_0091.ndpi',\n  '\\\\\\\\169.254.138.20\\\\Andre\\\\data\\\\monkey fetus\\\\bissected_monkey_GS55\\\\monkey_fetus_GS55_0094.ndpi',\n  '\\\\\\\\169.254.138.20\\\\Andre\\\\data\\\\monkey fetus\\\\bissected_monkey_GS55\\\\monkey_fetus_GS55_0097.ndpi',\n  '\\\\\\\\169.254.138.20\\\\Andre\\\\data\\\\monkey fetus\\\\bissected_monkey_GS55\\\\monkey_fetus_GS55_0100.ndpi',\n  '\\\\\\\\169.254.138.20\\\\Andre\\\\data\\\\monkey fetus\\\\bissected_monkey_GS55\\\\monkey_fetus_GS55_0103.ndpi',\n  '\\\\\\\\169.254.138.20\\\\Andre\\\\data\\\\monkey fetus\\\\bissected_monkey_GS55\\\\monkey_fetus_GS55_0106.ndpi',\n  '\\\\\\\\169.254.138.20\\\\Andre\\\\data\\\\monkey fetus\\\\bissected_monkey_GS55\\\\monkey_fetus_GS55_0109.ndpi',\n  '\\\\\\\\169.254.138.20\\\\Andre\\\\data\\\\monkey fetus\\\\bissected_monkey_GS55\\\\monkey_fetus_GS55_0112.ndpi',\n  '\\\\\\\\169.254.138.20\\\\Andre\\\\data\\\\monkey fetus\\\\bissected_monkey_GS55\\\\monkey_fetus_GS55_0115.ndpi',\n  '\\\\\\\\169.254.138.20\\\\Andre\\\\data\\\\monkey fetus\\\\bissected_monkey_GS55\\\\monkey_fetus_GS55_0118.ndpi',\n  '\\\\\\\\169.254.138.20\\\\Andre\\\\data\\\\monkey fetus\\\\bissected_monkey_GS55\\\\monkey_fetus_GS55_0121.ndpi',\n  '\\\\\\\\169.254.138.20\\\\Andre\\\\data\\\\monkey fetus\\\\bissected_monkey_GS55\\\\monkey_fetus_GS55_0124.ndpi',\n  '\\\\\\\\169.254.138.20\\\\Andre\\\\data\\\\monkey fetus\\\\bissected_monkey_GS55\\\\monkey_fetus_GS55_0127.ndpi',\n  '\\\\\\\\169.254.138.20\\\\Andre\\\\data\\\\monkey fetus\\\\bissected_monkey_GS55\\\\monkey_fetus_GS55_0130.ndpi',\n  '\\\\\\\\169.254.138.20\\\\Andre\\\\data\\\\monkey fetus\\\\bissected_monkey_GS55\\\\monkey_fetus_GS55_0133.ndpi',\n  '\\\\\\\\169.254.138.20\\\\Andre\\\\data\\\\monkey fetus\\\\bissected_monkey_GS55\\\\monkey_fetus_GS55_0136.ndpi',\n  '\\\\\\\\169.254.138.20\\\\Andre\\\\data\\\\monkey fetus\\\\bissected_monkey_GS55\\\\monkey_fetus_GS55_0139.ndpi',\n  '\\\\\\\\169.254.138.20\\\\Andre\\\\data\\\\monkey fetus\\\\bissected_monkey_GS55\\\\monkey_fetus_GS55_0142.ndpi',\n  '\\\\\\\\169.254.138.20\\\\Andre\\\\data\\\\monkey fetus\\\\bissected_monkey_GS55\\\\monkey_fetus_GS55_0145.ndpi',\n  '\\\\\\\\169.254.138.20\\\\Andre\\\\data\\\\monkey fetus\\\\bissected_monkey_GS55\\\\monkey_fetus_GS55_0148.ndpi',\n  '\\\\\\\\169.254.138.20\\\\Andre\\\\data\\\\monkey fetus\\\\bissected_monkey_GS55\\\\monkey_fetus_GS55_0151.ndpi',\n  '\\\\\\\\169.254.138.20\\\\Andre\\\\data\\\\monkey fetus\\\\bissected_monkey_GS55\\\\monkey_fetus_GS55_0154.ndpi',\n  '\\\\\\\\169.254.138.20\\\\Andre\\\\data\\\\monkey fetus\\\\bissected_monkey_GS55\\\\monkey_fetus_GS55_0157.ndpi',\n  '\\\\\\\\169.254.138.20\\\\Andre\\\\data\\\\monkey fetus\\\\bissected_monkey_GS55\\\\monkey_fetus_GS55_0160.ndpi',\n  '\\\\\\\\169.254.138.20\\\\Andre\\\\data\\\\monkey fetus\\\\bissected_monkey_GS55\\\\monkey_fetus_GS55_0163.ndpi',\n  '\\\\\\\\169.254.138.20\\\\Andre\\\\data\\\\monkey fetus\\\\bissected_monkey_GS55\\\\monkey_fetus_GS55_0166.ndpi',\n  '\\\\\\\\169.254.138.20\\\\Andre\\\\data\\\\monkey fetus\\\\bissected_monkey_GS55\\\\monkey_fetus_GS55_0169.ndpi',\n  '\\\\\\\\169.254.138.20\\\\Andre\\\\data\\\\monkey fetus\\\\bissected_monkey_GS55\\\\monkey_fetus_GS55_0172.ndpi',\n  '\\\\\\\\169.254.138.20\\\\Andre\\\\data\\\\monkey fetus\\\\bissected_monkey_GS55\\\\monkey_fetus_GS55_0175.ndpi',\n  '\\\\\\\\169.254.138.20\\\\Andre\\\\data\\\\monkey fetus\\\\bissected_monkey_GS55\\\\monkey_fetus_GS55_0178.ndpi',\n  '\\\\\\\\169.254.138.20\\\\Andre\\\\data\\\\monkey fetus\\\\bissected_monkey_GS55\\\\monkey_fetus_GS55_0181.ndpi',\n  '\\\\\\\\169.254.138.20\\\\Andre\\\\data\\\\monkey fetus\\\\bissected_monkey_GS55\\\\monkey_fetus_GS55_0184.ndpi',\n  '\\\\\\\\169.254.138.20\\\\Andre\\\\data\\\\monkey fetus\\\\bissected_monkey_GS55\\\\monkey_fetus_GS55_0187.ndpi',\n  '\\\\\\\\169.254.138.20\\\\Andre\\\\data\\\\monkey fetus\\\\bissected_monkey_GS55\\\\monkey_fetus_GS55_0190.ndpi',\n  '\\\\\\\\169.254.138.20\\\\Andre\\\\data\\\\monkey fetus\\\\bissected_monkey_GS55\\\\monkey_fetus_GS55_0193.ndpi',\n  '\\\\\\\\169.254.138.20\\\\Andre\\\\data\\\\monkey fetus\\\\bissected_monkey_GS55\\\\monkey_fetus_GS55_0196.ndpi',\n  '\\\\\\\\169.254.138.20\\\\Andre\\\\data\\\\monkey fetus\\\\bissected_monkey_GS55\\\\monkey_fetus_GS55_0199.ndpi',\n  '\\\\\\\\169.254.138.20\\\\Andre\\\\data\\\\monkey fetus\\\\bissected_monkey_GS55\\\\monkey_fetus_GS55_0202.ndpi',\n  '\\\\\\\\169.254.138.20\\\\Andre\\\\data\\\\monkey fetus\\\\bissected_monkey_GS55\\\\monkey_fetus_GS55_0205.ndpi',\n  '\\\\\\\\169.254.138.20\\\\Andre\\\\data\\\\monkey fetus\\\\bissected_monkey_GS55\\\\monkey_fetus_GS55_0208.ndpi',\n  '\\\\\\\\169.254.138.20\\\\Andre\\\\data\\\\monkey fetus\\\\bissected_monkey_GS55\\\\monkey_fetus_GS55_0211.ndpi',\n  '\\\\\\\\169.254.138.20\\\\Andre\\\\data\\\\monkey fetus\\\\bissected_monkey_GS55\\\\monkey_fetus_GS55_0214.ndpi',\n  '\\\\\\\\169.254.138.20\\\\Andre\\\\data\\\\monkey fetus\\\\bissected_monkey_GS55\\\\monkey_fetus_GS55_0217.ndpi',\n  '\\\\\\\\169.254.138.20\\\\Andre\\\\data\\\\monkey fetus\\\\bissected_monkey_GS55\\\\monkey_fetus_GS55_0220.ndpi',\n  '\\\\\\\\169.254.138.20\\\\Andre\\\\data\\\\monkey fetus\\\\bissected_monkey_GS55\\\\monkey_fetus_GS55_0223.ndpi',\n  '\\\\\\\\169.254.138.20\\\\Andre\\\\data\\\\monkey fetus\\\\bissected_monkey_GS55\\\\monkey_fetus_GS55_0226.ndpi',\n  '\\\\\\\\169.254.138.20\\\\Andre\\\\data\\\\monkey fetus\\\\bissected_monkey_GS55\\\\monkey_fetus_GS55_0229.ndpi',\n  '\\\\\\\\169.254.138.20\\\\Andre\\\\data\\\\monkey fetus\\\\bissected_monkey_GS55\\\\monkey_fetus_GS55_0232.ndpi',\n  '\\\\\\\\169.254.138.20\\\\Andre\\\\data\\\\monkey fetus\\\\bissected_monkey_GS55\\\\monkey_fetus_GS55_0235.ndpi',\n  '\\\\\\\\169.254.138.20\\\\Andre\\\\data\\\\monkey fetus\\\\bissected_monkey_GS55\\\\monkey_fetus_GS55_0238.ndpi',\n  '\\\\\\\\169.254.138.20\\\\Andre\\\\data\\\\monkey fetus\\\\bissected_monkey_GS55\\\\monkey_fetus_GS55_0241.ndpi',\n  '\\\\\\\\169.254.138.20\\\\Andre\\\\data\\\\monkey fetus\\\\bissected_monkey_GS55\\\\monkey_fetus_GS55_0244.ndpi',\n  '\\\\\\\\169.254.138.20\\\\Andre\\\\data\\\\monkey fetus\\\\bissected_monkey_GS55\\\\monkey_fetus_GS55_0247.ndpi',\n  '\\\\\\\\169.254.138.20\\\\Andre\\\\data\\\\monkey fetus\\\\bissected_monkey_GS55\\\\monkey_fetus_GS55_0250.ndpi',\n  '\\\\\\\\169.254.138.20\\\\Andre\\\\data\\\\monkey fetus\\\\bissected_monkey_GS55\\\\monkey_fetus_GS55_0253.ndpi',\n  '\\\\\\\\169.254.138.20\\\\Andre\\\\data\\\\monkey fetus\\\\bissected_monkey_GS55\\\\monkey_fetus_GS55_0256.ndpi',\n  '\\\\\\\\169.254.138.20\\\\Andre\\\\data\\\\monkey fetus\\\\bissected_monkey_GS55\\\\monkey_fetus_GS55_0259.ndpi',\n  '\\\\\\\\169.254.138.20\\\\Andre\\\\data\\\\monkey fetus\\\\bissected_monkey_GS55\\\\monkey_fetus_GS55_0262.ndpi',\n  '\\\\\\\\169.254.138.20\\\\Andre\\\\data\\\\monkey fetus\\\\bissected_monkey_GS55\\\\monkey_fetus_GS55_0265.ndpi',\n  '\\\\\\\\169.254.138.20\\\\Andre\\\\data\\\\monkey fetus\\\\bissected_monkey_GS55\\\\monkey_fetus_GS55_0268.ndpi',\n  '\\\\\\\\169.254.138.20\\\\Andre\\\\data\\\\monkey fetus\\\\bissected_monkey_GS55\\\\monkey_fetus_GS55_0271.ndpi',\n  '\\\\\\\\169.254.138.20\\\\Andre\\\\data\\\\monkey fetus\\\\bissected_monkey_GS55\\\\monkey_fetus_GS55_0274.ndpi',\n  '\\\\\\\\169.254.138.20\\\\Andre\\\\data\\\\monkey fetus\\\\bissected_monkey_GS55\\\\monkey_fetus_GS55_0277.ndpi',\n  '\\\\\\\\169.254.138.20\\\\Andre\\\\data\\\\monkey fetus\\\\bissected_monkey_GS55\\\\monkey_fetus_GS55_0280.ndpi',\n  '\\\\\\\\169.254.138.20\\\\Andre\\\\data\\\\monkey fetus\\\\bissected_monkey_GS55\\\\monkey_fetus_GS55_0283.ndpi',\n  '\\\\\\\\169.254.138.20\\\\Andre\\\\data\\\\monkey fetus\\\\bissected_monkey_GS55\\\\monkey_fetus_GS55_0286.ndpi',\n  '\\\\\\\\169.254.138.20\\\\Andre\\\\data\\\\monkey fetus\\\\bissected_monkey_GS55\\\\monkey_fetus_GS55_0289.ndpi',\n  '\\\\\\\\169.254.138.20\\\\Andre\\\\data\\\\monkey fetus\\\\bissected_monkey_GS55\\\\monkey_fetus_GS55_0292.ndpi',\n  '\\\\\\\\169.254.138.20\\\\Andre\\\\data\\\\monkey fetus\\\\bissected_monkey_GS55\\\\monkey_fetus_GS55_0295.ndpi',\n  '\\\\\\\\169.254.138.20\\\\Andre\\\\data\\\\monkey fetus\\\\bissected_monkey_GS55\\\\monkey_fetus_GS55_0298.ndpi',\n  '\\\\\\\\169.254.138.20\\\\Andre\\\\data\\\\monkey fetus\\\\bissected_monkey_GS55\\\\monkey_fetus_GS55_0301.ndpi',\n  '\\\\\\\\169.254.138.20\\\\Andre\\\\data\\\\monkey fetus\\\\bissected_monkey_GS55\\\\monkey_fetus_GS55_0304.ndpi',\n  '\\\\\\\\169.254.138.20\\\\Andre\\\\data\\\\monkey fetus\\\\bissected_monkey_GS55\\\\monkey_fetus_GS55_0307.ndpi',\n  '\\\\\\\\169.254.138.20\\\\Andre\\\\data\\\\monkey fetus\\\\bissected_monkey_GS55\\\\monkey_fetus_GS55_0310.ndpi',\n  '\\\\\\\\169.254.138.20\\\\Andre\\\\data\\\\monkey fetus\\\\bissected_monkey_GS55\\\\monkey_fetus_GS55_0313.ndpi',\n  '\\\\\\\\169.254.138.20\\\\Andre\\\\data\\\\monkey fetus\\\\bissected_monkey_GS55\\\\monkey_fetus_GS55_0316.ndpi',\n  '\\\\\\\\169.254.138.20\\\\Andre\\\\data\\\\monkey fetus\\\\bissected_monkey_GS55\\\\monkey_fetus_GS55_0319.ndpi',\n  '\\\\\\\\169.254.138.20\\\\Andre\\\\data\\\\monkey fetus\\\\bissected_monkey_GS55\\\\monkey_fetus_GS55_0322.ndpi',\n  '\\\\\\\\169.254.138.20\\\\Andre\\\\data\\\\monkey fetus\\\\bissected_monkey_GS55\\\\monkey_fetus_GS55_0325.ndpi',\n  '\\\\\\\\169.254.138.20\\\\Andre\\\\data\\\\monkey fetus\\\\bissected_monkey_GS55\\\\monkey_fetus_GS55_0328.ndpi',\n  '\\\\\\\\169.254.138.20\\\\Andre\\\\data\\\\monkey fetus\\\\bissected_monkey_GS55\\\\monkey_fetus_GS55_0331.ndpi',\n  '\\\\\\\\169.254.138.20\\\\Andre\\\\data\\\\monkey fetus\\\\bissected_monkey_GS55\\\\monkey_fetus_GS55_0334.ndpi',\n  '\\\\\\\\169.254.138.20\\\\Andre\\\\data\\\\monkey fetus\\\\bissected_monkey_GS55\\\\monkey_fetus_GS55_0337.ndpi',\n  '\\\\\\\\169.254.138.20\\\\Andre\\\\data\\\\monkey fetus\\\\bissected_monkey_GS55\\\\monkey_fetus_GS55_0340.ndpi',\n  '\\\\\\\\169.254.138.20\\\\Andre\\\\data\\\\monkey fetus\\\\bissected_monkey_GS55\\\\monkey_fetus_GS55_0343.ndpi',\n  '\\\\\\\\169.254.138.20\\\\Andre\\\\data\\\\monkey fetus\\\\bissected_monkey_GS55\\\\monkey_fetus_GS55_0346.ndpi']]"
     },
     "execution_count": 5,
     "metadata": {},
     "output_type": "execute_result"
    }
   ],
   "source": [
    "WSIs[:20]"
   ],
   "metadata": {
    "collapsed": false,
    "ExecuteTime": {
     "end_time": "2024-08-04T20:33:23.217350100Z",
     "start_time": "2024-08-04T20:33:23.167583200Z"
    }
   }
  },
  {
   "cell_type": "markdown",
   "source": [
    "Load just 1 image and show (takes a couple min)"
   ],
   "metadata": {
    "collapsed": false
   }
  },
  {
   "cell_type": "code",
   "execution_count": 6,
   "outputs": [],
   "source": [
    "def show_image(img, crop_x, crop_y, tile_size, **kwargs):\n",
    "    \"\"\"Plot large image at different resolutions.\"\"\"\n",
    "    fig, ax = plt.subplots(1, 2, figsize=(16, 8))\n",
    "\n",
    "    # Plot the original image on the left\n",
    "    ax[0].imshow(img, **kwargs)\n",
    "\n",
    "    # Crop the image\n",
    "    cropped_img = img[crop_y:crop_y+tile_size, crop_x:crop_x+tile_size]\n",
    "\n",
    "    # Plot the cropped image on the right\n",
    "    ax[1].imshow(cropped_img, **kwargs)\n",
    "\n",
    "    ax[0].axis('off')\n",
    "    ax[1].axis('off')\n",
    "\n",
    "    plt.tight_layout()\n",
    "    plt.show()"
   ],
   "metadata": {
    "collapsed": false,
    "ExecuteTime": {
     "end_time": "2024-08-04T20:33:23.217350100Z",
     "start_time": "2024-08-04T20:33:23.183210500Z"
    }
   }
  },
  {
   "cell_type": "code",
   "execution_count": 7,
   "metadata": {
    "colab": {
     "base_uri": "https://localhost:8080/"
    },
    "id": "D0ecg6kehEc6",
    "outputId": "a7ca1164-b761-4755-834f-a98016f40c18",
    "ExecuteTime": {
     "end_time": "2024-08-04T20:33:25.498529800Z",
     "start_time": "2024-08-04T20:33:23.199217500Z"
    }
   },
   "outputs": [
    {
     "name": "stderr",
     "output_type": "stream",
     "text": [
      "base_model.py (149): output path for model already exists, files may be overwritten: \\\\10.99.68.178\\andreex\\data\\Stardist\\qupath_training_annotations\\models\\monkey_ft_11_21_2023_lr_0.001_epochs_400_pt_40\\offshoot_model\n"
     ]
    },
    {
     "name": "stdout",
     "output_type": "stream",
     "text": [
      "Using default values: prob_thresh=0.5, nms_thresh=0.4.\n",
      "Overriding defaults: Thresholds(prob=0.618122427060411, nms=0.3) \n"
     ]
    }
   ],
   "source": [
    "import json\n",
    "from stardist.models import Config2D, StarDist2D\n",
    "\n",
    "def load_model(model_path: str) -> StarDist2D:\n",
    "    # Load StarDist model weights, configurations, and thresholds\n",
    "    with open(model_path + '\\\\config.json', 'r') as f:\n",
    "        config = json.load(f)\n",
    "    with open(model_path + '\\\\thresholds.json', 'r') as f:\n",
    "        thresh = json.load(f)\n",
    "    model = StarDist2D(config=Config2D(**config), basedir=model_path, name='offshoot_model')\n",
    "    model.thresholds = thresh\n",
    "    print('Overriding defaults:', model.thresholds, '\\n')\n",
    "    model.load_weights(model_path + '\\\\weights_best.h5')\n",
    "    return model\n",
    "\n",
    "#\n",
    "# CHANGE RIGHT MODEL\n",
    "model = load_model(r\"\\\\10.99.68.178\\andreex\\data\\Stardist\\qupath_training_annotations\\models\\monkey_ft_11_21_2023_lr_0.001_epochs_400_pt_40\")\n",
    "# model = load_model(r\"\\\\10.99.68.178\\andreex\\data\\Stardist\\qupath_training_annotations\\models\\fallopian_tube_12_7_2023_lr_0.001_epochs_400_pt_40\")\n"
   ]
  },
  {
   "cell_type": "markdown",
   "source": [
    "To save prediction outputs, I save as geojson file.\n",
    "By reading this template geojson file, I get the right type info that I need to save"
   ],
   "metadata": {
    "collapsed": false
   }
  },
  {
   "cell_type": "code",
   "execution_count": 8,
   "outputs": [],
   "source": [
    "import json\n",
    "\n",
    "def save_json(result, out_pth, name):\n",
    "    \"\"\"Saves a geojson file with centroids and contours for StarDist output. Useful for loading into qupath\"\"\"\n",
    "    coords = result['coord']\n",
    "    points = result['points']\n",
    "\n",
    "    json_data = []\n",
    "\n",
    "    for i in range(len(points)):\n",
    "        point = points[i]\n",
    "        contour = coords[i]\n",
    "        centroid = [int(point[0]), int(point[1])]\n",
    "        contour = [[float(coord) for coord in xy[::-1]] for xy in contour]\n",
    "\n",
    "        # Create a new dictionary for each contour\n",
    "        dict_data = {\n",
    "            \"centroid\": [centroid],\n",
    "            \"contour\": [contour]\n",
    "        }\n",
    "\n",
    "        json_data.append(dict_data)\n",
    "\n",
    "    new_fn = name[:-5] + '.json'\n",
    "\n",
    "    with open(os.path.join(out_pth, new_fn),'w') as outfile:\n",
    "        json.dump(json_data, outfile)\n",
    "    print('Finished',new_fn)"
   ],
   "metadata": {
    "collapsed": false,
    "ExecuteTime": {
     "end_time": "2024-08-04T20:33:25.513356400Z",
     "start_time": "2024-08-04T20:33:25.503255400Z"
    }
   }
  },
  {
   "cell_type": "code",
   "execution_count": 9,
   "outputs": [
    {
     "name": "stdout",
     "output_type": "stream",
     "text": [
      "\\\\169.254.138.20\\Andre\\data\\monkey fetus\\bissected_monkey_GS55\\StarDist_12_11_23\\json\n"
     ]
    }
   ],
   "source": [
    "# Name of output folder\n",
    "date = '12_11_23'\n",
    "\n",
    "for pth in pths:\n",
    "    out_pth = os.path.join(pth,f'StarDist_{date}')\n",
    "    if not os.path.exists(out_pth):\n",
    "        os.mkdir(out_pth)\n",
    "    \n",
    "     \n",
    "    out_pth_json = os.path.join(out_pth,'json')\n",
    "    out_pth_tif = os.path.join(out_pth,'tif')\n",
    "    print(out_pth_json)\n",
    "    \n",
    "    if not os.path.exists(out_pth_json):\n",
    "        os.mkdir(out_pth_json)\n",
    "    \n",
    "    if not os.path.exists(out_pth_tif):\n",
    "        os.mkdir(out_pth_tif)"
   ],
   "metadata": {
    "collapsed": false,
    "ExecuteTime": {
     "end_time": "2024-08-04T20:33:25.560620Z",
     "start_time": "2024-08-04T20:33:25.513356400Z"
    }
   }
  },
  {
   "cell_type": "code",
   "execution_count": 10,
   "outputs": [
    {
     "data": {
      "text/plain": "StarDist2D(offshoot_model): YXC → YXC\n├─ Directory: \\\\10.99.68.178\\andreex\\data\\Stardist\\qupath_training_annotations\\models\\monkey_ft_11_21_2023_lr_0.001_epochs_400_pt_40\\offshoot_model\n└─ Config2D(n_dim=2, axes='YXC', n_channel_in=3, n_channel_out=33, train_checkpoint='weights_best.h5', train_checkpoint_last='weights_last.h5', train_checkpoint_epoch='weights_now.h5', n_rays=32, grid=(2, 2), backbone='unet', n_classes=None, unet_n_depth=3, unet_kernel_size=[3, 3], unet_n_filter_base=32, unet_n_conv_per_depth=2, unet_pool=[2, 2], unet_activation='relu', unet_last_activation='relu', unet_batch_norm=False, unet_dropout=0.0, unet_prefix='', net_conv_after_unet=128, net_input_shape=[None, None, 3], net_mask_shape=[None, None, 1], train_shape_completion=False, train_completion_crop=32, train_patch_size=[256, 256], train_background_reg=0.0001, train_foreground_only=0.9, train_sample_cache=True, train_dist_loss='mae', train_loss_weights=[1, 0.2], train_class_weights=[1, 1], train_epochs=400, train_steps_per_epoch=100, train_learning_rate=0.0003, train_batch_size=4, train_n_val_patches=None, train_tensorboard=True, train_reduce_lr={'factor': 0.5, 'patience': 40, 'min_delta': 0}, use_gpu=True)"
     },
     "execution_count": 10,
     "metadata": {},
     "output_type": "execute_result"
    }
   ],
   "source": [
    "model"
   ],
   "metadata": {
    "collapsed": false,
    "ExecuteTime": {
     "end_time": "2024-08-04T20:33:25.561123300Z",
     "start_time": "2024-08-04T20:33:25.529988500Z"
    }
   }
  },
  {
   "cell_type": "code",
   "execution_count": 11,
   "outputs": [
    {
     "name": "stdout",
     "output_type": "stream",
     "text": [
      "['\\\\\\\\169.254.138.20\\\\Andre\\\\data\\\\monkey fetus\\\\bissected_monkey_GS55\\\\monkey_fetus_GS55_0001.ndpi', '\\\\\\\\169.254.138.20\\\\Andre\\\\data\\\\monkey fetus\\\\bissected_monkey_GS55\\\\monkey_fetus_GS55_0004.ndpi', '\\\\\\\\169.254.138.20\\\\Andre\\\\data\\\\monkey fetus\\\\bissected_monkey_GS55\\\\monkey_fetus_GS55_0007.ndpi', '\\\\\\\\169.254.138.20\\\\Andre\\\\data\\\\monkey fetus\\\\bissected_monkey_GS55\\\\monkey_fetus_GS55_0010.ndpi', '\\\\\\\\169.254.138.20\\\\Andre\\\\data\\\\monkey fetus\\\\bissected_monkey_GS55\\\\monkey_fetus_GS55_0013.ndpi', '\\\\\\\\169.254.138.20\\\\Andre\\\\data\\\\monkey fetus\\\\bissected_monkey_GS55\\\\monkey_fetus_GS55_0016.ndpi', '\\\\\\\\169.254.138.20\\\\Andre\\\\data\\\\monkey fetus\\\\bissected_monkey_GS55\\\\monkey_fetus_GS55_0019.ndpi', '\\\\\\\\169.254.138.20\\\\Andre\\\\data\\\\monkey fetus\\\\bissected_monkey_GS55\\\\monkey_fetus_GS55_0022.ndpi', '\\\\\\\\169.254.138.20\\\\Andre\\\\data\\\\monkey fetus\\\\bissected_monkey_GS55\\\\monkey_fetus_GS55_0025.ndpi', '\\\\\\\\169.254.138.20\\\\Andre\\\\data\\\\monkey fetus\\\\bissected_monkey_GS55\\\\monkey_fetus_GS55_0028.ndpi', '\\\\\\\\169.254.138.20\\\\Andre\\\\data\\\\monkey fetus\\\\bissected_monkey_GS55\\\\monkey_fetus_GS55_0031.ndpi', '\\\\\\\\169.254.138.20\\\\Andre\\\\data\\\\monkey fetus\\\\bissected_monkey_GS55\\\\monkey_fetus_GS55_0034.ndpi', '\\\\\\\\169.254.138.20\\\\Andre\\\\data\\\\monkey fetus\\\\bissected_monkey_GS55\\\\monkey_fetus_GS55_0037.ndpi', '\\\\\\\\169.254.138.20\\\\Andre\\\\data\\\\monkey fetus\\\\bissected_monkey_GS55\\\\monkey_fetus_GS55_0040.ndpi', '\\\\\\\\169.254.138.20\\\\Andre\\\\data\\\\monkey fetus\\\\bissected_monkey_GS55\\\\monkey_fetus_GS55_0043.ndpi', '\\\\\\\\169.254.138.20\\\\Andre\\\\data\\\\monkey fetus\\\\bissected_monkey_GS55\\\\monkey_fetus_GS55_0046.ndpi', '\\\\\\\\169.254.138.20\\\\Andre\\\\data\\\\monkey fetus\\\\bissected_monkey_GS55\\\\monkey_fetus_GS55_0049.ndpi', '\\\\\\\\169.254.138.20\\\\Andre\\\\data\\\\monkey fetus\\\\bissected_monkey_GS55\\\\monkey_fetus_GS55_0052.ndpi', '\\\\\\\\169.254.138.20\\\\Andre\\\\data\\\\monkey fetus\\\\bissected_monkey_GS55\\\\monkey_fetus_GS55_0055.ndpi', '\\\\\\\\169.254.138.20\\\\Andre\\\\data\\\\monkey fetus\\\\bissected_monkey_GS55\\\\monkey_fetus_GS55_0058.ndpi', '\\\\\\\\169.254.138.20\\\\Andre\\\\data\\\\monkey fetus\\\\bissected_monkey_GS55\\\\monkey_fetus_GS55_0061.ndpi', '\\\\\\\\169.254.138.20\\\\Andre\\\\data\\\\monkey fetus\\\\bissected_monkey_GS55\\\\monkey_fetus_GS55_0064.ndpi', '\\\\\\\\169.254.138.20\\\\Andre\\\\data\\\\monkey fetus\\\\bissected_monkey_GS55\\\\monkey_fetus_GS55_0067.ndpi', '\\\\\\\\169.254.138.20\\\\Andre\\\\data\\\\monkey fetus\\\\bissected_monkey_GS55\\\\monkey_fetus_GS55_0070.ndpi', '\\\\\\\\169.254.138.20\\\\Andre\\\\data\\\\monkey fetus\\\\bissected_monkey_GS55\\\\monkey_fetus_GS55_0073.ndpi', '\\\\\\\\169.254.138.20\\\\Andre\\\\data\\\\monkey fetus\\\\bissected_monkey_GS55\\\\monkey_fetus_GS55_0076.ndpi', '\\\\\\\\169.254.138.20\\\\Andre\\\\data\\\\monkey fetus\\\\bissected_monkey_GS55\\\\monkey_fetus_GS55_0079.ndpi', '\\\\\\\\169.254.138.20\\\\Andre\\\\data\\\\monkey fetus\\\\bissected_monkey_GS55\\\\monkey_fetus_GS55_0082.ndpi', '\\\\\\\\169.254.138.20\\\\Andre\\\\data\\\\monkey fetus\\\\bissected_monkey_GS55\\\\monkey_fetus_GS55_0085.ndpi', '\\\\\\\\169.254.138.20\\\\Andre\\\\data\\\\monkey fetus\\\\bissected_monkey_GS55\\\\monkey_fetus_GS55_0088.ndpi', '\\\\\\\\169.254.138.20\\\\Andre\\\\data\\\\monkey fetus\\\\bissected_monkey_GS55\\\\monkey_fetus_GS55_0091.ndpi', '\\\\\\\\169.254.138.20\\\\Andre\\\\data\\\\monkey fetus\\\\bissected_monkey_GS55\\\\monkey_fetus_GS55_0094.ndpi', '\\\\\\\\169.254.138.20\\\\Andre\\\\data\\\\monkey fetus\\\\bissected_monkey_GS55\\\\monkey_fetus_GS55_0097.ndpi', '\\\\\\\\169.254.138.20\\\\Andre\\\\data\\\\monkey fetus\\\\bissected_monkey_GS55\\\\monkey_fetus_GS55_0100.ndpi', '\\\\\\\\169.254.138.20\\\\Andre\\\\data\\\\monkey fetus\\\\bissected_monkey_GS55\\\\monkey_fetus_GS55_0103.ndpi', '\\\\\\\\169.254.138.20\\\\Andre\\\\data\\\\monkey fetus\\\\bissected_monkey_GS55\\\\monkey_fetus_GS55_0106.ndpi', '\\\\\\\\169.254.138.20\\\\Andre\\\\data\\\\monkey fetus\\\\bissected_monkey_GS55\\\\monkey_fetus_GS55_0109.ndpi', '\\\\\\\\169.254.138.20\\\\Andre\\\\data\\\\monkey fetus\\\\bissected_monkey_GS55\\\\monkey_fetus_GS55_0112.ndpi', '\\\\\\\\169.254.138.20\\\\Andre\\\\data\\\\monkey fetus\\\\bissected_monkey_GS55\\\\monkey_fetus_GS55_0115.ndpi', '\\\\\\\\169.254.138.20\\\\Andre\\\\data\\\\monkey fetus\\\\bissected_monkey_GS55\\\\monkey_fetus_GS55_0118.ndpi', '\\\\\\\\169.254.138.20\\\\Andre\\\\data\\\\monkey fetus\\\\bissected_monkey_GS55\\\\monkey_fetus_GS55_0121.ndpi', '\\\\\\\\169.254.138.20\\\\Andre\\\\data\\\\monkey fetus\\\\bissected_monkey_GS55\\\\monkey_fetus_GS55_0124.ndpi', '\\\\\\\\169.254.138.20\\\\Andre\\\\data\\\\monkey fetus\\\\bissected_monkey_GS55\\\\monkey_fetus_GS55_0127.ndpi', '\\\\\\\\169.254.138.20\\\\Andre\\\\data\\\\monkey fetus\\\\bissected_monkey_GS55\\\\monkey_fetus_GS55_0130.ndpi', '\\\\\\\\169.254.138.20\\\\Andre\\\\data\\\\monkey fetus\\\\bissected_monkey_GS55\\\\monkey_fetus_GS55_0133.ndpi', '\\\\\\\\169.254.138.20\\\\Andre\\\\data\\\\monkey fetus\\\\bissected_monkey_GS55\\\\monkey_fetus_GS55_0136.ndpi', '\\\\\\\\169.254.138.20\\\\Andre\\\\data\\\\monkey fetus\\\\bissected_monkey_GS55\\\\monkey_fetus_GS55_0139.ndpi', '\\\\\\\\169.254.138.20\\\\Andre\\\\data\\\\monkey fetus\\\\bissected_monkey_GS55\\\\monkey_fetus_GS55_0142.ndpi', '\\\\\\\\169.254.138.20\\\\Andre\\\\data\\\\monkey fetus\\\\bissected_monkey_GS55\\\\monkey_fetus_GS55_0145.ndpi', '\\\\\\\\169.254.138.20\\\\Andre\\\\data\\\\monkey fetus\\\\bissected_monkey_GS55\\\\monkey_fetus_GS55_0148.ndpi', '\\\\\\\\169.254.138.20\\\\Andre\\\\data\\\\monkey fetus\\\\bissected_monkey_GS55\\\\monkey_fetus_GS55_0151.ndpi', '\\\\\\\\169.254.138.20\\\\Andre\\\\data\\\\monkey fetus\\\\bissected_monkey_GS55\\\\monkey_fetus_GS55_0154.ndpi', '\\\\\\\\169.254.138.20\\\\Andre\\\\data\\\\monkey fetus\\\\bissected_monkey_GS55\\\\monkey_fetus_GS55_0157.ndpi', '\\\\\\\\169.254.138.20\\\\Andre\\\\data\\\\monkey fetus\\\\bissected_monkey_GS55\\\\monkey_fetus_GS55_0160.ndpi', '\\\\\\\\169.254.138.20\\\\Andre\\\\data\\\\monkey fetus\\\\bissected_monkey_GS55\\\\monkey_fetus_GS55_0163.ndpi', '\\\\\\\\169.254.138.20\\\\Andre\\\\data\\\\monkey fetus\\\\bissected_monkey_GS55\\\\monkey_fetus_GS55_0166.ndpi', '\\\\\\\\169.254.138.20\\\\Andre\\\\data\\\\monkey fetus\\\\bissected_monkey_GS55\\\\monkey_fetus_GS55_0169.ndpi', '\\\\\\\\169.254.138.20\\\\Andre\\\\data\\\\monkey fetus\\\\bissected_monkey_GS55\\\\monkey_fetus_GS55_0172.ndpi', '\\\\\\\\169.254.138.20\\\\Andre\\\\data\\\\monkey fetus\\\\bissected_monkey_GS55\\\\monkey_fetus_GS55_0175.ndpi', '\\\\\\\\169.254.138.20\\\\Andre\\\\data\\\\monkey fetus\\\\bissected_monkey_GS55\\\\monkey_fetus_GS55_0178.ndpi', '\\\\\\\\169.254.138.20\\\\Andre\\\\data\\\\monkey fetus\\\\bissected_monkey_GS55\\\\monkey_fetus_GS55_0181.ndpi', '\\\\\\\\169.254.138.20\\\\Andre\\\\data\\\\monkey fetus\\\\bissected_monkey_GS55\\\\monkey_fetus_GS55_0184.ndpi', '\\\\\\\\169.254.138.20\\\\Andre\\\\data\\\\monkey fetus\\\\bissected_monkey_GS55\\\\monkey_fetus_GS55_0187.ndpi', '\\\\\\\\169.254.138.20\\\\Andre\\\\data\\\\monkey fetus\\\\bissected_monkey_GS55\\\\monkey_fetus_GS55_0190.ndpi', '\\\\\\\\169.254.138.20\\\\Andre\\\\data\\\\monkey fetus\\\\bissected_monkey_GS55\\\\monkey_fetus_GS55_0193.ndpi', '\\\\\\\\169.254.138.20\\\\Andre\\\\data\\\\monkey fetus\\\\bissected_monkey_GS55\\\\monkey_fetus_GS55_0196.ndpi', '\\\\\\\\169.254.138.20\\\\Andre\\\\data\\\\monkey fetus\\\\bissected_monkey_GS55\\\\monkey_fetus_GS55_0199.ndpi', '\\\\\\\\169.254.138.20\\\\Andre\\\\data\\\\monkey fetus\\\\bissected_monkey_GS55\\\\monkey_fetus_GS55_0202.ndpi', '\\\\\\\\169.254.138.20\\\\Andre\\\\data\\\\monkey fetus\\\\bissected_monkey_GS55\\\\monkey_fetus_GS55_0205.ndpi', '\\\\\\\\169.254.138.20\\\\Andre\\\\data\\\\monkey fetus\\\\bissected_monkey_GS55\\\\monkey_fetus_GS55_0208.ndpi', '\\\\\\\\169.254.138.20\\\\Andre\\\\data\\\\monkey fetus\\\\bissected_monkey_GS55\\\\monkey_fetus_GS55_0211.ndpi', '\\\\\\\\169.254.138.20\\\\Andre\\\\data\\\\monkey fetus\\\\bissected_monkey_GS55\\\\monkey_fetus_GS55_0214.ndpi', '\\\\\\\\169.254.138.20\\\\Andre\\\\data\\\\monkey fetus\\\\bissected_monkey_GS55\\\\monkey_fetus_GS55_0217.ndpi', '\\\\\\\\169.254.138.20\\\\Andre\\\\data\\\\monkey fetus\\\\bissected_monkey_GS55\\\\monkey_fetus_GS55_0220.ndpi', '\\\\\\\\169.254.138.20\\\\Andre\\\\data\\\\monkey fetus\\\\bissected_monkey_GS55\\\\monkey_fetus_GS55_0223.ndpi', '\\\\\\\\169.254.138.20\\\\Andre\\\\data\\\\monkey fetus\\\\bissected_monkey_GS55\\\\monkey_fetus_GS55_0226.ndpi', '\\\\\\\\169.254.138.20\\\\Andre\\\\data\\\\monkey fetus\\\\bissected_monkey_GS55\\\\monkey_fetus_GS55_0229.ndpi', '\\\\\\\\169.254.138.20\\\\Andre\\\\data\\\\monkey fetus\\\\bissected_monkey_GS55\\\\monkey_fetus_GS55_0232.ndpi', '\\\\\\\\169.254.138.20\\\\Andre\\\\data\\\\monkey fetus\\\\bissected_monkey_GS55\\\\monkey_fetus_GS55_0235.ndpi', '\\\\\\\\169.254.138.20\\\\Andre\\\\data\\\\monkey fetus\\\\bissected_monkey_GS55\\\\monkey_fetus_GS55_0238.ndpi', '\\\\\\\\169.254.138.20\\\\Andre\\\\data\\\\monkey fetus\\\\bissected_monkey_GS55\\\\monkey_fetus_GS55_0241.ndpi', '\\\\\\\\169.254.138.20\\\\Andre\\\\data\\\\monkey fetus\\\\bissected_monkey_GS55\\\\monkey_fetus_GS55_0244.ndpi', '\\\\\\\\169.254.138.20\\\\Andre\\\\data\\\\monkey fetus\\\\bissected_monkey_GS55\\\\monkey_fetus_GS55_0247.ndpi', '\\\\\\\\169.254.138.20\\\\Andre\\\\data\\\\monkey fetus\\\\bissected_monkey_GS55\\\\monkey_fetus_GS55_0250.ndpi', '\\\\\\\\169.254.138.20\\\\Andre\\\\data\\\\monkey fetus\\\\bissected_monkey_GS55\\\\monkey_fetus_GS55_0253.ndpi', '\\\\\\\\169.254.138.20\\\\Andre\\\\data\\\\monkey fetus\\\\bissected_monkey_GS55\\\\monkey_fetus_GS55_0256.ndpi', '\\\\\\\\169.254.138.20\\\\Andre\\\\data\\\\monkey fetus\\\\bissected_monkey_GS55\\\\monkey_fetus_GS55_0259.ndpi', '\\\\\\\\169.254.138.20\\\\Andre\\\\data\\\\monkey fetus\\\\bissected_monkey_GS55\\\\monkey_fetus_GS55_0262.ndpi', '\\\\\\\\169.254.138.20\\\\Andre\\\\data\\\\monkey fetus\\\\bissected_monkey_GS55\\\\monkey_fetus_GS55_0265.ndpi', '\\\\\\\\169.254.138.20\\\\Andre\\\\data\\\\monkey fetus\\\\bissected_monkey_GS55\\\\monkey_fetus_GS55_0268.ndpi', '\\\\\\\\169.254.138.20\\\\Andre\\\\data\\\\monkey fetus\\\\bissected_monkey_GS55\\\\monkey_fetus_GS55_0271.ndpi', '\\\\\\\\169.254.138.20\\\\Andre\\\\data\\\\monkey fetus\\\\bissected_monkey_GS55\\\\monkey_fetus_GS55_0274.ndpi', '\\\\\\\\169.254.138.20\\\\Andre\\\\data\\\\monkey fetus\\\\bissected_monkey_GS55\\\\monkey_fetus_GS55_0277.ndpi', '\\\\\\\\169.254.138.20\\\\Andre\\\\data\\\\monkey fetus\\\\bissected_monkey_GS55\\\\monkey_fetus_GS55_0280.ndpi', '\\\\\\\\169.254.138.20\\\\Andre\\\\data\\\\monkey fetus\\\\bissected_monkey_GS55\\\\monkey_fetus_GS55_0283.ndpi', '\\\\\\\\169.254.138.20\\\\Andre\\\\data\\\\monkey fetus\\\\bissected_monkey_GS55\\\\monkey_fetus_GS55_0286.ndpi', '\\\\\\\\169.254.138.20\\\\Andre\\\\data\\\\monkey fetus\\\\bissected_monkey_GS55\\\\monkey_fetus_GS55_0289.ndpi', '\\\\\\\\169.254.138.20\\\\Andre\\\\data\\\\monkey fetus\\\\bissected_monkey_GS55\\\\monkey_fetus_GS55_0292.ndpi', '\\\\\\\\169.254.138.20\\\\Andre\\\\data\\\\monkey fetus\\\\bissected_monkey_GS55\\\\monkey_fetus_GS55_0295.ndpi', '\\\\\\\\169.254.138.20\\\\Andre\\\\data\\\\monkey fetus\\\\bissected_monkey_GS55\\\\monkey_fetus_GS55_0298.ndpi', '\\\\\\\\169.254.138.20\\\\Andre\\\\data\\\\monkey fetus\\\\bissected_monkey_GS55\\\\monkey_fetus_GS55_0301.ndpi', '\\\\\\\\169.254.138.20\\\\Andre\\\\data\\\\monkey fetus\\\\bissected_monkey_GS55\\\\monkey_fetus_GS55_0304.ndpi', '\\\\\\\\169.254.138.20\\\\Andre\\\\data\\\\monkey fetus\\\\bissected_monkey_GS55\\\\monkey_fetus_GS55_0307.ndpi', '\\\\\\\\169.254.138.20\\\\Andre\\\\data\\\\monkey fetus\\\\bissected_monkey_GS55\\\\monkey_fetus_GS55_0310.ndpi', '\\\\\\\\169.254.138.20\\\\Andre\\\\data\\\\monkey fetus\\\\bissected_monkey_GS55\\\\monkey_fetus_GS55_0313.ndpi', '\\\\\\\\169.254.138.20\\\\Andre\\\\data\\\\monkey fetus\\\\bissected_monkey_GS55\\\\monkey_fetus_GS55_0316.ndpi', '\\\\\\\\169.254.138.20\\\\Andre\\\\data\\\\monkey fetus\\\\bissected_monkey_GS55\\\\monkey_fetus_GS55_0319.ndpi', '\\\\\\\\169.254.138.20\\\\Andre\\\\data\\\\monkey fetus\\\\bissected_monkey_GS55\\\\monkey_fetus_GS55_0322.ndpi', '\\\\\\\\169.254.138.20\\\\Andre\\\\data\\\\monkey fetus\\\\bissected_monkey_GS55\\\\monkey_fetus_GS55_0325.ndpi', '\\\\\\\\169.254.138.20\\\\Andre\\\\data\\\\monkey fetus\\\\bissected_monkey_GS55\\\\monkey_fetus_GS55_0328.ndpi', '\\\\\\\\169.254.138.20\\\\Andre\\\\data\\\\monkey fetus\\\\bissected_monkey_GS55\\\\monkey_fetus_GS55_0331.ndpi', '\\\\\\\\169.254.138.20\\\\Andre\\\\data\\\\monkey fetus\\\\bissected_monkey_GS55\\\\monkey_fetus_GS55_0334.ndpi', '\\\\\\\\169.254.138.20\\\\Andre\\\\data\\\\monkey fetus\\\\bissected_monkey_GS55\\\\monkey_fetus_GS55_0337.ndpi', '\\\\\\\\169.254.138.20\\\\Andre\\\\data\\\\monkey fetus\\\\bissected_monkey_GS55\\\\monkey_fetus_GS55_0340.ndpi', '\\\\\\\\169.254.138.20\\\\Andre\\\\data\\\\monkey fetus\\\\bissected_monkey_GS55\\\\monkey_fetus_GS55_0343.ndpi', '\\\\\\\\169.254.138.20\\\\Andre\\\\data\\\\monkey fetus\\\\bissected_monkey_GS55\\\\monkey_fetus_GS55_0346.ndpi']\n"
     ]
    }
   ],
   "source": [
    "for folder in WSIs:\n",
    "    print(folder)\n",
    "    break\n",
    "    #or img_pth in folder:"
   ],
   "metadata": {
    "collapsed": false,
    "ExecuteTime": {
     "end_time": "2024-08-04T20:33:25.561123300Z",
     "start_time": "2024-08-04T20:33:25.544992300Z"
    }
   }
  },
  {
   "cell_type": "code",
   "execution_count": null,
   "outputs": [
    {
     "name": "stdout",
     "output_type": "stream",
     "text": [
      "monkey_fetus_GS55_0001.ndpi (1/116)\n",
      "effective: block_size=(4096, 4096, 3), min_overlap=(128, 128, 0), context=(128, 128, 0)\n"
     ]
    },
    {
     "name": "stderr",
     "output_type": "stream",
     "text": [
      " 47%|████▋     | 146/308 [08:33<10:24,  3.85s/it]"
     ]
    }
   ],
   "source": [
    "# Segment all WSIs -- takes about 2-5 minutes per whole slide image to segment, about 3 minutes to save geojson file\n",
    "for k, file_list in enumerate(WSIs):\n",
    "    pth_folder = pths[k]\n",
    "    # print(pth_folder)\n",
    "    \n",
    "    for p, img_pth in enumerate(file_list):\n",
    "        \n",
    "        out_pth = os.path.join(pth_folder,f'StarDist_{date}')\n",
    "        out_pth_json = os.path.join(out_pth,'json')\n",
    "        out_pth_tif = os.path.join(out_pth,'tif')\n",
    "\n",
    "        try:\n",
    "            name = os.path.basename(img_pth)\n",
    "            print(f'{name} ({p+1}/{len(file_list)})')\n",
    "            if not os.path.exists(os.path.join(out_pth_json, (name[:-5] + '.json'))):\n",
    "                # print(f'Starting {name}')\n",
    "    \n",
    "                img = imread(img_pth)\n",
    "                img = img/255  # normalization used to train model\n",
    "                _, polys = model.predict_instances_big(img, axes='YXC', block_size=4096, min_overlap=128, context=128, n_tiles=(4,4,1))\n",
    "    \n",
    "                print('Saving json...')\n",
    "                save_json(polys, out_pth_json, name)\n",
    "    \n",
    "                # tif file is like 3 GB usually, so only uncomment next part if you are ok with that\n",
    "                #print('Saving tif...')\n",
    "                #imwrite(os.path.join(out_pth_tif, name[:-5] + '.tif'), labels)\n",
    "            else:\n",
    "                print(f'Skipping {name}')\n",
    "        except:\n",
    "            print(f'skipping {img_pth}, probably bc its too big...')"
   ],
   "metadata": {
    "collapsed": false,
    "ExecuteTime": {
     "start_time": "2024-08-04T20:33:25.561123300Z"
    }
   }
  },
  {
   "cell_type": "code",
   "execution_count": null,
   "outputs": [],
   "source": [
    "# show_image(labels, crop_x=10000, crop_y=10000, tile_size=1024, cmap=cmap)\n",
    "# show_image(img, crop_x, crop_y, tile_size, cmap=cmap)"
   ],
   "metadata": {
    "collapsed": false
   }
  }
 ],
 "metadata": {
  "accelerator": "GPU",
  "colab": {
   "collapsed_sections": [],
   "name": "281-Segmenting_WSI_using_StarDist.ipynb",
   "provenance": [],
   "mount_file_id": "1TTEEGQOEZfynOwGGF_Azalgl1Vf6opv3",
   "authorship_tag": "ABX9TyMbUn0LceXTmmoadiU9GV1Q",
   "include_colab_link": true
  },
  "kernelspec": {
   "name": "python3",
   "language": "python",
   "display_name": "Python 3 (ipykernel)"
  },
  "language_info": {
   "name": "python"
  }
 },
 "nbformat": 4,
 "nbformat_minor": 0
}
