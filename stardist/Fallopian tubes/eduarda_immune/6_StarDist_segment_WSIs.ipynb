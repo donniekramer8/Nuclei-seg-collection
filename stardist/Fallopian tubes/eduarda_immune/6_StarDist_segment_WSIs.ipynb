{
 "cells": [
  {
   "cell_type": "markdown",
   "metadata": {
    "id": "C_I2jyQBsea7"
   },
   "source": [
    "**Nuclei segmentation in whole slide H&E images**\n",
    "\n",
    "using custom model."
   ]
  },
  {
   "cell_type": "code",
   "execution_count": 1,
   "metadata": {
    "id": "gykQyKIgf78K",
    "ExecuteTime": {
     "end_time": "2024-01-29T21:05:01.856371900Z",
     "start_time": "2024-01-29T21:04:59.781355100Z"
    }
   },
   "outputs": [],
   "source": [
    "import numpy as np\n",
    "import matplotlib.pyplot as plt\n",
    "\n",
    "from tifffile import imread, imwrite\n",
    "from csbdeep.utils import Path, normalize\n",
    "from csbdeep.utils.tf import keras_import\n",
    "keras = keras_import()\n",
    "\n",
    "from stardist import export_imagej_rois, random_label_cmap\n",
    "from stardist.models import StarDist2D\n",
    "\n",
    "np.random.seed(0)\n",
    "cmap = random_label_cmap()"
   ]
  },
  {
   "cell_type": "code",
   "execution_count": 2,
   "outputs": [],
   "source": [
    "import os\n",
    "from glob import glob\n",
    "\n",
    "# CHANGE PATH\n",
    "\n",
    "pth = r'\\\\10.99.68.178\\andre\\Eduarda PDAC\\immune_cell_pipeline\\star_dist_Donald_model'  # path of ndpi files\n",
    "WSIs = sorted(glob(f'{pth}\\*.ndpi'))"
   ],
   "metadata": {
    "collapsed": false,
    "ExecuteTime": {
     "end_time": "2024-01-29T21:05:01.872371900Z",
     "start_time": "2024-01-29T21:05:01.858371800Z"
    }
   }
  },
  {
   "cell_type": "code",
   "execution_count": 3,
   "outputs": [
    {
     "data": {
      "text/plain": "['\\\\\\\\10.99.68.178\\\\andre\\\\Eduarda PDAC\\\\immune_cell_pipeline\\\\star_dist_Donald_model\\\\OM1R_618.ndpi',\n '\\\\\\\\10.99.68.178\\\\andre\\\\Eduarda PDAC\\\\immune_cell_pipeline\\\\star_dist_Donald_model\\\\OM2R_786.ndpi',\n '\\\\\\\\10.99.68.178\\\\andre\\\\Eduarda PDAC\\\\immune_cell_pipeline\\\\star_dist_Donald_model\\\\YM1R_210.ndpi',\n '\\\\\\\\10.99.68.178\\\\andre\\\\Eduarda PDAC\\\\immune_cell_pipeline\\\\star_dist_Donald_model\\\\YM2R_326.ndpi']"
     },
     "execution_count": 3,
     "metadata": {},
     "output_type": "execute_result"
    }
   ],
   "source": [
    "WSIs[:20]"
   ],
   "metadata": {
    "collapsed": false,
    "ExecuteTime": {
     "end_time": "2024-01-29T21:05:01.893371900Z",
     "start_time": "2024-01-29T21:05:01.875371700Z"
    }
   }
  },
  {
   "cell_type": "markdown",
   "source": [
    "Load just 1 image and show (takes a couple min)"
   ],
   "metadata": {
    "collapsed": false
   }
  },
  {
   "cell_type": "code",
   "execution_count": 4,
   "outputs": [],
   "source": [
    "def show_image(img, crop_x, crop_y, tile_size, **kwargs):\n",
    "    \"\"\"Plot large image at different resolutions.\"\"\"\n",
    "    fig, ax = plt.subplots(1, 2, figsize=(16, 8))\n",
    "\n",
    "    # Plot the original image on the left\n",
    "    ax[0].imshow(img, **kwargs)\n",
    "\n",
    "    # Crop the image\n",
    "    cropped_img = img[crop_y:crop_y+tile_size, crop_x:crop_x+tile_size]\n",
    "\n",
    "    # Plot the cropped image on the right\n",
    "    ax[1].imshow(cropped_img, **kwargs)\n",
    "\n",
    "    ax[0].axis('off')\n",
    "    ax[1].axis('off')\n",
    "\n",
    "    plt.tight_layout()\n",
    "    plt.show()"
   ],
   "metadata": {
    "collapsed": false,
    "ExecuteTime": {
     "end_time": "2024-01-29T21:05:01.905372Z",
     "start_time": "2024-01-29T21:05:01.888371800Z"
    }
   }
  },
  {
   "cell_type": "code",
   "execution_count": 5,
   "metadata": {
    "colab": {
     "base_uri": "https://localhost:8080/",
     "height": 585
    },
    "id": "G-GSXVJEgvNX",
    "outputId": "1ff225af-1f98-4e63-95a8-358b61729575",
    "ExecuteTime": {
     "end_time": "2024-01-29T21:05:01.922371400Z",
     "start_time": "2024-01-29T21:05:01.906371600Z"
    }
   },
   "outputs": [],
   "source": [
    "# display WSI image and also show a zoomed in region in a separate subplot\n",
    "# show_image(img, crop_x=10000, crop_y=10000, tile_size=1024)"
   ]
  },
  {
   "cell_type": "code",
   "execution_count": 6,
   "metadata": {
    "colab": {
     "base_uri": "https://localhost:8080/"
    },
    "id": "D0ecg6kehEc6",
    "outputId": "a7ca1164-b761-4755-834f-a98016f40c18",
    "ExecuteTime": {
     "end_time": "2024-01-29T21:05:03.116942800Z",
     "start_time": "2024-01-29T21:05:01.919371800Z"
    }
   },
   "outputs": [
    {
     "name": "stderr",
     "output_type": "stream",
     "text": [
      "base_model.py (149): output path for model already exists, files may be overwritten: \\\\10.99.68.178\\andreex\\data\\Stardist\\PDAC model\\models\\monkey_12_12_2023_lr_0.001_epochs_400_pt_10_gaus_ratio_0\\offshoot_model\n"
     ]
    },
    {
     "name": "stdout",
     "output_type": "stream",
     "text": [
      "Using default values: prob_thresh=0.5, nms_thresh=0.4.\n",
      "Overriding defaults: Thresholds(prob=0.6883699162882626, nms=0.3) \n"
     ]
    }
   ],
   "source": [
    "import json\n",
    "from stardist.models import Config2D, StarDist2D\n",
    "\n",
    "def load_model(model_path: str) -> StarDist2D:\n",
    "    # Load StarDist model weights, configurations, and thresholds\n",
    "    with open(model_path + '\\\\config.json', 'r') as f:\n",
    "        config = json.load(f)\n",
    "    with open(model_path + '\\\\thresholds.json', 'r') as f:\n",
    "        thresh = json.load(f)\n",
    "    model = StarDist2D(config=Config2D(**config), basedir=model_path, name='offshoot_model')\n",
    "    model.thresholds = thresh\n",
    "    print('Overriding defaults:', model.thresholds, '\\n')\n",
    "    model.load_weights(model_path + '\\\\weights_best.h5')\n",
    "    return model\n",
    "\n",
    "#\n",
    "# CHANGE RIGHT MODEL\n",
    "model = load_model(r\"\\\\10.99.68.178\\andreex\\data\\Stardist\\PDAC model\\models\\monkey_12_12_2023_lr_0.001_epochs_400_pt_10_gaus_ratio_0\")"
   ]
  },
  {
   "cell_type": "markdown",
   "source": [
    "To save prediction outputs, I save as geojson file.\n",
    "By reading this template geojson file, I get the right type info that I need to save"
   ],
   "metadata": {
    "collapsed": false
   }
  },
  {
   "cell_type": "code",
   "execution_count": 7,
   "outputs": [],
   "source": [
    "n_channel = 1 if imread(WSIs[0]).ndim == 2 else imread(WSIs[0]).shape[-1]  #If no third"
   ],
   "metadata": {
    "collapsed": false,
    "ExecuteTime": {
     "end_time": "2024-01-29T21:05:20.507251700Z",
     "start_time": "2024-01-29T21:05:03.116303800Z"
    }
   }
  },
  {
   "cell_type": "code",
   "execution_count": 8,
   "outputs": [],
   "source": [
    "import json\n",
    "\n",
    "def save_json(result, out_pth, name):\n",
    "    \"\"\"Saves a geojson file with centroids and contours for StarDist output. Useful for loading into qupath\"\"\"\n",
    "    coords = result['coord']\n",
    "    points = result['points']\n",
    "\n",
    "    json_data = []\n",
    "\n",
    "    for i in range(len(points)):\n",
    "        point = points[i]\n",
    "        contour = coords[i]\n",
    "        centroid = [int(point[0]), int(point[1])]\n",
    "        contour = [[float(coord) for coord in xy[::-1]] for xy in contour]\n",
    "\n",
    "        # Create a new dictionary for each contour\n",
    "        dict_data = {\n",
    "            \"centroid\": [centroid],\n",
    "            \"contour\": [contour]\n",
    "        }\n",
    "\n",
    "        json_data.append(dict_data)\n",
    "\n",
    "    new_fn = name[:-5] + '.json'\n",
    "\n",
    "    with open(os.path.join(out_pth, new_fn),'w') as outfile:\n",
    "        json.dump(json_data, outfile)\n",
    "    print('Finished',new_fn)"
   ],
   "metadata": {
    "collapsed": false,
    "ExecuteTime": {
     "end_time": "2024-01-29T21:05:20.520743900Z",
     "start_time": "2024-01-29T21:05:20.510253500Z"
    }
   }
  },
  {
   "cell_type": "code",
   "outputs": [
    {
     "data": {
      "text/plain": "'\\\\\\\\10.99.68.178\\\\andre\\\\Eduarda PDAC\\\\immune_cell_pipeline\\\\star_dist_Donald_model'"
     },
     "execution_count": 9,
     "metadata": {},
     "output_type": "execute_result"
    }
   ],
   "source": [
    "pth"
   ],
   "metadata": {
    "collapsed": false,
    "ExecuteTime": {
     "end_time": "2024-01-29T21:05:20.547743500Z",
     "start_time": "2024-01-29T21:05:20.521743500Z"
    }
   },
   "execution_count": 9
  },
  {
   "cell_type": "code",
   "execution_count": 10,
   "outputs": [
    {
     "name": "stdout",
     "output_type": "stream",
     "text": [
      "\\\\10.99.68.178\\andre\\Eduarda PDAC\\immune_cell_pipeline\\star_dist_Donald_model\\StarDist_1_29_23\\json\n"
     ]
    }
   ],
   "source": [
    "date = '1_29_23'\n",
    "out_pth = os.path.join(pth,f'StarDist_{date}')\n",
    "if not os.path.exists(out_pth):\n",
    "    os.mkdir(out_pth)\n",
    "\n",
    "out_pth_json = os.path.join(out_pth,'json')\n",
    "out_pth_tif = os.path.join(out_pth,'tif')\n",
    "print(out_pth_json)\n",
    "\n",
    "if not os.path.exists(out_pth_json):\n",
    "    os.mkdir(out_pth_json)\n",
    "\n",
    "if not os.path.exists(out_pth_json):\n",
    "    os.mkdir(out_pth_json)\n",
    "\n",
    "if not os.path.exists(out_pth_tif):\n",
    "    os.mkdir(out_pth_tif)"
   ],
   "metadata": {
    "collapsed": false,
    "ExecuteTime": {
     "end_time": "2024-01-29T21:05:20.583743300Z",
     "start_time": "2024-01-29T21:05:20.537743700Z"
    }
   }
  },
  {
   "cell_type": "code",
   "execution_count": 11,
   "outputs": [
    {
     "data": {
      "text/plain": "StarDist2D(offshoot_model): YXC → YXC\n├─ Directory: \\\\10.99.68.178\\andreex\\data\\Stardist\\PDAC model\\models\\monkey_12_12_2023_lr_0.001_epochs_400_pt_10_gaus_ratio_0\\offshoot_model\n└─ Config2D(n_dim=2, axes='YXC', n_channel_in=3, n_channel_out=33, train_checkpoint='weights_best.h5', train_checkpoint_last='weights_last.h5', train_checkpoint_epoch='weights_now.h5', n_rays=32, grid=(2, 2), backbone='unet', n_classes=None, unet_n_depth=3, unet_kernel_size=[3, 3], unet_n_filter_base=32, unet_n_conv_per_depth=2, unet_pool=[2, 2], unet_activation='relu', unet_last_activation='relu', unet_batch_norm=False, unet_dropout=0.0, unet_prefix='', net_conv_after_unet=128, net_input_shape=[None, None, 3], net_mask_shape=[None, None, 1], train_shape_completion=False, train_completion_crop=32, train_patch_size=[256, 256], train_background_reg=0.0001, train_foreground_only=0.9, train_sample_cache=True, train_dist_loss='mae', train_loss_weights=[1, 0.2], train_class_weights=[1, 1], train_epochs=400, train_steps_per_epoch=100, train_learning_rate=0.0003, train_batch_size=4, train_n_val_patches=None, train_tensorboard=True, train_reduce_lr={'factor': 0.5, 'patience': 40, 'min_delta': 0}, use_gpu=True)"
     },
     "execution_count": 11,
     "metadata": {},
     "output_type": "execute_result"
    }
   ],
   "source": [
    "model"
   ],
   "metadata": {
    "collapsed": false,
    "ExecuteTime": {
     "end_time": "2024-01-29T21:05:20.612743300Z",
     "start_time": "2024-01-29T21:05:20.584743700Z"
    }
   }
  },
  {
   "cell_type": "code",
   "execution_count": 12,
   "outputs": [
    {
     "name": "stdout",
     "output_type": "stream",
     "text": [
      "Skipping OM1R_618.ndpi\n",
      "Starting OM2R_786.ndpi\n",
      "effective: block_size=(4096, 4096, 3), min_overlap=(128, 128, 0), context=(128, 128, 0)\n"
     ]
    },
    {
     "name": "stderr",
     "output_type": "stream",
     "text": [
      "100%|██████████| 247/247 [07:18<00:00,  1.77s/it]\n"
     ]
    },
    {
     "name": "stdout",
     "output_type": "stream",
     "text": [
      "Saving json...\n",
      "Finished OM2R_786.json\n",
      "Starting YM1R_210.ndpi\n",
      "effective: block_size=(4096, 4096, 3), min_overlap=(128, 128, 0), context=(128, 128, 0)\n"
     ]
    },
    {
     "name": "stderr",
     "output_type": "stream",
     "text": [
      "100%|██████████| 108/108 [03:30<00:00,  1.95s/it]\n"
     ]
    },
    {
     "name": "stdout",
     "output_type": "stream",
     "text": [
      "Saving json...\n",
      "Finished YM1R_210.json\n",
      "Starting YM2R_326.ndpi\n",
      "effective: block_size=(4096, 4096, 3), min_overlap=(128, 128, 0), context=(128, 128, 0)\n"
     ]
    },
    {
     "name": "stderr",
     "output_type": "stream",
     "text": [
      "100%|██████████| 96/96 [03:08<00:00,  1.96s/it]\n"
     ]
    },
    {
     "name": "stdout",
     "output_type": "stream",
     "text": [
      "Saving json...\n",
      "Finished YM2R_326.json\n"
     ]
    }
   ],
   "source": [
    "# Segment all WSIs -- takes about 2-5 minutes per whole slide image to segment, about 3 minutes to save geojson file\n",
    "for img_pth in WSIs:\n",
    "    try:\n",
    "        name = os.path.basename(img_pth)\n",
    "\n",
    "        if not os.path.exists(os.path.join(out_pth_json, (name[:-5] + '.json'))):\n",
    "            print(f'Starting {name}')\n",
    "\n",
    "            img = imread(img_pth)\n",
    "            img = img/255  # normalization used to train model\n",
    "            _, polys = model.predict_instances_big(img, axes='YXC', block_size=4096, min_overlap=128, context=128, n_tiles=(4,4,1))\n",
    "\n",
    "            print('Saving json...')\n",
    "            save_json(polys, out_pth_json, name)\n",
    "\n",
    "            # tif file is like 3 GB usually, so only uncomment next part if you are ok with that\n",
    "            #print('Saving tif...')\n",
    "            #imwrite(os.path.join(out_pth_tif, name[:-5] + '.tif'), labels)\n",
    "        else:\n",
    "            print(f'Skipping {name}')\n",
    "    except:\n",
    "        print(f'skipping {img_pth}, probably bc its too big...')"
   ],
   "metadata": {
    "collapsed": false,
    "ExecuteTime": {
     "end_time": "2024-01-29T21:29:14.933894Z",
     "start_time": "2024-01-29T21:05:20.600743800Z"
    }
   }
  },
  {
   "cell_type": "code",
   "execution_count": 13,
   "outputs": [
    {
     "ename": "NameError",
     "evalue": "name 'labels' is not defined",
     "output_type": "error",
     "traceback": [
      "\u001B[1;31m---------------------------------------------------------------------------\u001B[0m",
      "\u001B[1;31mNameError\u001B[0m                                 Traceback (most recent call last)",
      "Cell \u001B[1;32mIn[13], line 1\u001B[0m\n\u001B[1;32m----> 1\u001B[0m show_image(\u001B[43mlabels\u001B[49m, crop_x\u001B[38;5;241m=\u001B[39m\u001B[38;5;241m10000\u001B[39m, crop_y\u001B[38;5;241m=\u001B[39m\u001B[38;5;241m10000\u001B[39m, tile_size\u001B[38;5;241m=\u001B[39m\u001B[38;5;241m1024\u001B[39m, cmap\u001B[38;5;241m=\u001B[39mcmap)\n\u001B[0;32m      2\u001B[0m show_image(img, crop_x, crop_y, tile_size, cmap\u001B[38;5;241m=\u001B[39mcmap)\n",
      "\u001B[1;31mNameError\u001B[0m: name 'labels' is not defined"
     ]
    }
   ],
   "source": [
    "show_image(labels, crop_x=10000, crop_y=10000, tile_size=1024, cmap=cmap)\n",
    "show_image(img, crop_x, crop_y, tile_size, cmap=cmap)"
   ],
   "metadata": {
    "collapsed": false,
    "ExecuteTime": {
     "end_time": "2024-01-29T21:29:15.418922700Z",
     "start_time": "2024-01-29T21:29:14.931894100Z"
    }
   }
  }
 ],
 "metadata": {
  "accelerator": "GPU",
  "colab": {
   "collapsed_sections": [],
   "name": "281-Segmenting_WSI_using_StarDist.ipynb",
   "provenance": [],
   "mount_file_id": "1TTEEGQOEZfynOwGGF_Azalgl1Vf6opv3",
   "authorship_tag": "ABX9TyMbUn0LceXTmmoadiU9GV1Q",
   "include_colab_link": true
  },
  "kernelspec": {
   "name": "python3",
   "language": "python",
   "display_name": "Python 3 (ipykernel)"
  },
  "language_info": {
   "name": "python"
  }
 },
 "nbformat": 4,
 "nbformat_minor": 0
}
