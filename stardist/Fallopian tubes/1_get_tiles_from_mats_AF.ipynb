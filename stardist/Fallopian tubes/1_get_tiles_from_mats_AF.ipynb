{
 "cells": [
  {
   "cell_type": "code",
   "execution_count": 1,
   "outputs": [],
   "source": [
    "import os\n",
    "from PIL import Image\n",
    "import numpy as np\n",
    "openslide_path = r'C:\\Users\\Vasco\\Documents\\openslide-win64-20231011\\bin'\n",
    "\n",
    "os.environ['PATH'] = openslide_path + \";\" + os.environ['PATH']\n",
    "# from openslide import OpenSlide\n",
    "\n",
    "\n",
    "if hasattr(os, 'add_dll_directory'):\n",
    "    # Python >= 3.8 on Windows\n",
    "    with os.add_dll_directory(openslide_path):\n",
    "        import openslide\n",
    "else:\n",
    "    import openslide\n",
    "from openslide import OpenSlide"
   ],
   "metadata": {
    "collapsed": false,
    "ExecuteTime": {
     "end_time": "2023-11-15T20:45:02.083097500Z",
     "start_time": "2023-11-15T20:45:02.011098400Z"
    }
   }
  },
  {
   "cell_type": "markdown",
   "source": [
    "You need to do get crop data before running this code. I use a matlab function I made with the 2.5x or 10x tiff images.\n",
    "\n",
    "Function is here: \\\\10.99.68.178\\andreex\\students\\Donald Monkey fetus\\codes\\monkey\\crop1024_monkey.m"
   ],
   "metadata": {
    "collapsed": false
   }
  },
  {
   "cell_type": "code",
   "execution_count": 7,
   "outputs": [],
   "source": [
    "pth = r'\\\\169.254.138.20\\Andre\\data\\Ashleigh fallopian tube\\fallopian tubes\\AJER376'  # path of ndpi files\n",
    "\n",
    "pth_mat = r'\\\\169.254.138.20\\Andre\\data\\Ashleigh fallopian tube\\fallopian tubes\\AJER376\\1x_python\\cropped\\matfiles'  # path .mat files with crop data (got from matlab file)"
   ],
   "metadata": {
    "collapsed": false,
    "ExecuteTime": {
     "end_time": "2023-11-15T20:53:40.981230100Z",
     "start_time": "2023-11-15T20:53:40.967861900Z"
    }
   }
  },
  {
   "cell_type": "code",
   "execution_count": 5,
   "outputs": [],
   "source": [
    "# Get a list of MAT files and their base names (without extensions)\n",
    "mat_files = [os.path.splitext(file)[0] for file in os.listdir(pth_mat) if file.endswith('.mat')]\n",
    "\n",
    "# Get a list of NDPI images and their base names (without extensions)\n",
    "ndpi_files = [os.path.splitext(file)[0] for file in os.listdir(pth) if file.endswith('.ndpi')]\n",
    "\n",
    "# Find the matching files based on their base names\n",
    "matching_files = set(mat_files).intersection(ndpi_files)\n",
    "\n",
    "WSIs = [filename + '.ndpi' for filename in matching_files]\n"
   ],
   "metadata": {
    "collapsed": false,
    "pycharm": {
     "is_executing": true
    },
    "ExecuteTime": {
     "end_time": "2023-11-15T20:53:12.233806300Z",
     "start_time": "2023-11-15T20:53:12.204716700Z"
    }
   }
  },
  {
   "cell_type": "code",
   "execution_count": 6,
   "outputs": [
    {
     "name": "stdout",
     "output_type": "stream",
     "text": [
      "[]\n"
     ]
    }
   ],
   "source": [
    "print(WSIs)"
   ],
   "metadata": {
    "collapsed": false,
    "pycharm": {
     "is_executing": true
    },
    "ExecuteTime": {
     "end_time": "2023-11-15T20:53:13.276831200Z",
     "start_time": "2023-11-15T20:53:13.259732100Z"
    }
   }
  },
  {
   "cell_type": "code",
   "execution_count": 5,
   "outputs": [],
   "source": [
    "res20x=0.4416\n",
    "res1x=8\n",
    "\n",
    "ratio = res1x/res20x\n",
    "# print(ratio)\n",
    "# ratio= 16\n",
    "outpth = os.path.join(pth,'stardist_training_tiles512')\n",
    "if not os.path.exists(outpth):\n",
    "    os.mkdir(outpth)"
   ],
   "metadata": {
    "collapsed": false,
    "ExecuteTime": {
     "end_time": "2023-10-31T17:14:42.911516700Z",
     "start_time": "2023-10-31T17:14:42.906362300Z"
    }
   }
  },
  {
   "cell_type": "code",
   "execution_count": 8,
   "outputs": [
    {
     "name": "stdout",
     "output_type": "stream",
     "text": [
      "Skipping cropping for fallopian_tubes_AJER376_117.ndpi (1/5)... Already exists\n",
      "Cropping fallopian_tubes_AJER376_331.ndpi (2/5)\n",
      "\\\\169.254.138.20\\Andre\\data\\Ashleigh fallopian tube\\fallopian tubes\\AJER376\\1x_python\\cropped\\matfiles\\fallopian_tubes_AJER376_217.mat\n",
      "18962\n",
      "19941\n",
      "Cropping fallopian_tubes_AJER376_217.ndpi (3/5)\n",
      "\\\\169.254.138.20\\Andre\\data\\Ashleigh fallopian tube\\fallopian tubes\\AJER376\\1x_python\\cropped\\matfiles\\fallopian_tubes_AJER376_331.mat\n",
      "26843\n",
      "21734\n"
     ]
    },
    {
     "name": "stderr",
     "output_type": "stream",
     "text": [
      "C:\\Users\\Andre\\AppData\\Local\\Temp\\ipykernel_17716\\3669700110.py:37: DeprecationWarning: Conversion of an array with ndim > 0 to a scalar is deprecated, and will error in future. Ensure you extract a single element from your array before performing this operation. (Deprecated NumPy 1.25.)\n",
      "  crop_x = int(data['crop_x'][()]*ratio)\n",
      "C:\\Users\\Andre\\AppData\\Local\\Temp\\ipykernel_17716\\3669700110.py:38: DeprecationWarning: Conversion of an array with ndim > 0 to a scalar is deprecated, and will error in future. Ensure you extract a single element from your array before performing this operation. (Deprecated NumPy 1.25.)\n",
      "  crop_y = int(data['crop_y'][()]*ratio)\n"
     ]
    },
    {
     "name": "stdout",
     "output_type": "stream",
     "text": [
      "Skipping cropping for fallopian_tubes_AJER376_439.ndpi (4/5)... Already exists\n",
      "Skipping cropping for fallopian_tubes_AJER376_523.ndpi (5/5)... Already exists\n"
     ]
    }
   ],
   "source": [
    "from scipy.io import loadmat\n",
    "import h5py\n",
    "\n",
    "file_format = '.tif'\n",
    "\n",
    "for i, file in enumerate(mat_files):\n",
    "    mat_file_name = os.path.join(pth_mat, file)\n",
    "    # print(mat_file_name)\n",
    "    WSI_path = os.path.join(pth, WSIs[i])\n",
    "\n",
    "    f_out_name = f'{os.path.join(os.path.join(outpth,WSIs[i][:-5]))}{file_format}'\n",
    "\n",
    "    if os.path.exists(f_out_name):\n",
    "        print(f'Skipping cropping for {WSIs[i]} ({i+1}/{len(mat_files)})... Already exists')\n",
    "\n",
    "    else:\n",
    "        print(f'Cropping {WSIs[i]} ({i+1}/{len(mat_files)})')\n",
    "\n",
    "        # print(mat_file_name)\n",
    "        # print(WSI_path)\n",
    "\n",
    "        WSI_slide = openslide.OpenSlide(WSI_path)\n",
    "\n",
    "        wsi_width, wsi_height = WSI_slide.level_dimensions[0]\n",
    "        crop_width = 512\n",
    "        crop_height = 512\n",
    "        #data = loadmat(mat_file_name)\n",
    "        try:\n",
    "            data = loadmat(mat_file_name+'.mat')\n",
    "\n",
    "            crop_x = int(data['crop_x']*ratio)\n",
    "            crop_y = int(data['crop_y']*ratio)\n",
    "        except:\n",
    "            print(mat_file_name+'.mat')\n",
    "            data = h5py.File(mat_file_name+'.mat', 'r')\n",
    "\n",
    "            crop_x = int(data['crop_x'][()]*ratio)\n",
    "            crop_y = int(data['crop_y'][()]*ratio)\n",
    "        # crop_width = int(data['crop_width']*ratio)\n",
    "        # crop_height = int(data['crop_height']*ratio)\n",
    "        \n",
    "        # print(data['crop_x'])\n",
    "        \n",
    "\n",
    "        lower_x = crop_x\n",
    "        upper_y = crop_y\n",
    "        # upper_x = crop_x + crop_width\n",
    "        # lower_y = crop_y - crop_height\n",
    "\n",
    "        print(crop_x)\n",
    "        print(crop_y)\n",
    "        # print(crop_width)\n",
    "        # print(crop_height)\n",
    "        \n",
    "        region = WSI_slide.read_region((crop_x, crop_y), 0, (crop_width,crop_height)) # level = 0 in middle\n",
    "        # region = WSI_slide.read_region((crop_y, crop_x), 0, (crop_width, crop_height)) # level = 0 in middle\n",
    "\n",
    "        region_image = Image.new('RGB', region.size)\n",
    "        region_image.paste(region, (0, 0))\n",
    "\n",
    "        region_image.save(f_out_name)\n",
    "        WSI_slide.close()\n"
   ],
   "metadata": {
    "collapsed": false,
    "ExecuteTime": {
     "end_time": "2023-10-31T17:40:15.828950300Z",
     "start_time": "2023-10-31T17:40:15.522655Z"
    }
   }
  },
  {
   "cell_type": "markdown",
   "source": [],
   "metadata": {
    "collapsed": false
   }
  }
 ],
 "metadata": {
  "kernelspec": {
   "display_name": "Python 3",
   "language": "python",
   "name": "python3"
  },
  "language_info": {
   "codemirror_mode": {
    "name": "ipython",
    "version": 2
   },
   "file_extension": ".py",
   "mimetype": "text/x-python",
   "name": "python",
   "nbconvert_exporter": "python",
   "pygments_lexer": "ipython2",
   "version": "2.7.6"
  }
 },
 "nbformat": 4,
 "nbformat_minor": 0
}
