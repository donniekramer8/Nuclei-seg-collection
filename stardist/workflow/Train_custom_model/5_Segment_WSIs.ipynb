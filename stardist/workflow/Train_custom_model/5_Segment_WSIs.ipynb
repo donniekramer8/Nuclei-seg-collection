{
 "cells": [
  {
   "cell_type": "code",
   "execution_count": null,
   "metadata": {},
   "outputs": [],
   "source": [
    "import sys\n",
    "sys.path.append('../utils')\n",
    "\n",
    "from functions import *"
   ]
  },
  {
   "cell_type": "code",
   "execution_count": null,
   "metadata": {},
   "outputs": [],
   "source": [
    "WSI_path = r'path_to_WSI_images'\n",
    "model_path = r'path_to_StarDist_model' # this folder should have config.json and weights_best.h5 files\n",
    "WSI_file_type = '.ndpi' # file type of the WSIs (.ndpi, .tif, .svs, etc.)\n",
    "\n",
    "name = '6_14_24_PDAC'\n",
    "out_name = f'StarDist_{name}'"
   ]
  },
  {
   "cell_type": "code",
   "execution_count": null,
   "metadata": {},
   "outputs": [],
   "source": [
    "segment_dir_of_images(WSI_path, WSI_file_type, out_name, model, save_tif)"
   ]
  }
 ],
 "metadata": {
  "language_info": {
   "name": "python"
  }
 },
 "nbformat": 4,
 "nbformat_minor": 2
}
