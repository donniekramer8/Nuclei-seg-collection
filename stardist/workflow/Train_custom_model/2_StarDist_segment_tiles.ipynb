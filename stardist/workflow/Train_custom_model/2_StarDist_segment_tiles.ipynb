{
 "cells": [
  {
   "cell_type": "code",
   "execution_count": 1,
   "id": "9bfb3361658cbd4b",
   "metadata": {
    "ExecuteTime": {
     "end_time": "2024-03-11T20:38:02.980909700Z",
     "start_time": "2024-03-11T20:37:58.599916200Z"
    },
    "collapsed": false
   },
   "outputs": [],
   "source": [
    "import sys\n",
    "sys.path.append('../utils')\n",
    "\n",
    "from stardist import random_label_cmap\n",
    "\n",
    "from functions import *"
   ]
  },
  {
   "cell_type": "code",
   "execution_count": null,
   "id": "238ee4ff463c7ae6",
   "metadata": {
    "ExecuteTime": {
     "end_time": "2024-03-11T20:38:09.565192500Z",
     "start_time": "2024-03-11T20:38:02.981909800Z"
    },
    "collapsed": false
   },
   "outputs": [],
   "source": [
    "model = load_model(r\"path_to_model\")"
   ]
  },
  {
   "cell_type": "code",
   "execution_count": null,
   "id": "40eb12f5f1316714",
   "metadata": {
    "ExecuteTime": {
     "end_time": "2024-03-11T20:38:12.952734400Z",
     "start_time": "2024-03-11T20:38:12.928734600Z"
    },
    "collapsed": false
   },
   "outputs": [],
   "source": [
    "model"
   ]
  },
  {
   "cell_type": "code",
   "execution_count": 3,
   "id": "10f64f2f6bbf12c2",
   "metadata": {
    "ExecuteTime": {
     "end_time": "2024-03-01T22:22:13.024644800Z",
     "start_time": "2024-03-01T22:22:12.931579Z"
    },
    "collapsed": false
   },
   "outputs": [],
   "source": [
    "tiles_path = r'path_to_tiles'\n",
    "tiles = normalize_images(read_tiles(tiles_path))"
   ]
  },
  {
   "cell_type": "code",
   "execution_count": null,
   "id": "615dba9e3f0c01c",
   "metadata": {
    "ExecuteTime": {
     "end_time": "2024-03-01T22:22:14.661851400Z",
     "start_time": "2024-03-01T22:22:13.024644800Z"
    },
    "collapsed": false
   },
   "outputs": [],
   "source": [
    "predictions = segment_tiles(tiles, model)"
   ]
  },
  {
   "cell_type": "code",
   "execution_count": null,
   "id": "3e4970067652f81a",
   "metadata": {
    "ExecuteTime": {
     "start_time": "2024-03-01T22:22:14.662851500Z"
    },
    "collapsed": false
   },
   "outputs": [],
   "source": [
    "# make a random cmap to show the predicted results\n",
    "np.random.seed(0)\n",
    "cmap = random_label_cmap()\n",
    "\n",
    "# show first segmentation, recommended that you check a few to make sure they look alright\n",
    "show_HE_and_segmented(tiles[0], predictions[0])"
   ]
  },
  {
   "cell_type": "code",
   "execution_count": null,
   "id": "272b8ea1cb6d65c8",
   "metadata": {
    "ExecuteTime": {
     "end_time": "2024-02-26T21:21:45.663160Z",
     "start_time": "2024-02-26T21:21:43.411629700Z"
    },
    "collapsed": false
   },
   "outputs": [],
   "source": [
    "outpth = r'path_to_save_geojsons'\n",
    "\n",
    "# saves a .geojson file with segmentation information. If dragged and dropped into QuPath over the tile image, it shows results.\n",
    "save_geojson_from_segmentation(tiles_path, model, outpth)"
   ]
  },
  {
   "cell_type": "code",
   "execution_count": null,
   "id": "398c960762a6c19b",
   "metadata": {
    "collapsed": false
   },
   "outputs": [],
   "source": []
  }
 ],
 "metadata": {
  "kernelspec": {
   "display_name": "Python 3",
   "language": "python",
   "name": "python3"
  },
  "language_info": {
   "codemirror_mode": {
    "name": "ipython",
    "version": 3
   },
   "file_extension": ".py",
   "mimetype": "text/x-python",
   "name": "python",
   "nbconvert_exporter": "python",
   "pygments_lexer": "ipython3",
   "version": "3.9.18"
  }
 },
 "nbformat": 4,
 "nbformat_minor": 5
}
