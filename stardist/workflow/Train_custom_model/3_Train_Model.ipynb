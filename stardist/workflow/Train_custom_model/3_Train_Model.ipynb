{
 "cells": [
  {
   "cell_type": "code",
   "execution_count": 1,
   "id": "initial_id",
   "metadata": {
    "ExecuteTime": {
     "end_time": "2024-02-20T19:53:07.600462900Z",
     "start_time": "2024-02-20T19:53:05.711365500Z"
    },
    "collapsed": true
   },
   "outputs": [],
   "source": [
    "import sys\n",
    "sys.path.append('../utils')\n",
    "\n",
    "import tensorflow as tf\n",
    "from stardist import gputools_available\n",
    "from glob import glob\n",
    "\n",
    "from functions import *"
   ]
  },
  {
   "cell_type": "code",
   "execution_count": 2,
   "id": "8d035fb0ff07920",
   "metadata": {
    "ExecuteTime": {
     "end_time": "2024-02-20T19:53:07.615885700Z",
     "start_time": "2024-02-20T19:53:07.599463200Z"
    },
    "collapsed": false
   },
   "outputs": [],
   "source": [
    "pth_HE_tiles = r'path_to_H&E_tiles'\n",
    "\n",
    "pth_mask_tiles = r'path_to_masks'"
   ]
  },
  {
   "cell_type": "code",
   "execution_count": 3,
   "id": "ef99a5817cf114ea",
   "metadata": {
    "ExecuteTime": {
     "end_time": "2024-02-20T19:53:09.781607600Z",
     "start_time": "2024-02-20T19:53:07.614885600Z"
    },
    "collapsed": false
   },
   "outputs": [],
   "source": [
    "HE_tiles = read_tiles(pth_HE_tiles)\n",
    "masks = read_masks(pth_mask_tiles)"
   ]
  },
  {
   "cell_type": "code",
   "execution_count": 4,
   "id": "13d8b274dbdee80e",
   "metadata": {
    "ExecuteTime": {
     "end_time": "2024-02-20T19:53:09.796608100Z",
     "start_time": "2024-02-20T19:53:09.782607700Z"
    },
    "collapsed": false
   },
   "outputs": [],
   "source": [
    "ratio_validation_tiles = 0.4  # ratio of tiles that will be set aside for validation\n",
    "\n",
    "tiles_train, masks_train, tiles_val, masks_val = split_train_val_set(HE_tiles, masks, ratio_validation_tiles)"
   ]
  },
  {
   "cell_type": "code",
   "execution_count": 5,
   "id": "713117f80034895e",
   "metadata": {
    "ExecuteTime": {
     "end_time": "2024-02-20T19:53:09.939607400Z",
     "start_time": "2024-02-20T19:53:09.798607500Z"
    },
    "collapsed": false
   },
   "outputs": [],
   "source": [
    "# add flips and rotations to the images/masks pairs\n",
    "HE_train_aug, masks_train_aug = augment_tiles(tiles_train, masks_train)"
   ]
  },
  {
   "cell_type": "code",
   "execution_count": null,
   "id": "1b8fffb92f381164",
   "metadata": {
    "ExecuteTime": {
     "end_time": "2024-02-20T19:53:09.955607800Z",
     "start_time": "2024-02-20T19:53:09.940608Z"
    },
    "collapsed": false
   },
   "outputs": [],
   "source": [
    "print(f'{len(HE_train_aug)}')\n",
    "print(f'{len(masks_train_aug)}')\n",
    "print(f'{len(tiles_val)}')\n",
    "print(f'{(len(masks_val)}')"
   ]
  },
  {
   "cell_type": "code",
   "execution_count": 7,
   "id": "aa993a5d522808e5",
   "metadata": {
    "ExecuteTime": {
     "end_time": "2024-02-20T19:53:10.127607100Z",
     "start_time": "2024-02-20T19:53:09.956607600Z"
    },
    "collapsed": false
   },
   "outputs": [],
   "source": [
    "# normalize H&E images by dividing by 255\n",
    "HE_train_aug= normalize_images(HE_train_aug)\n",
    "tiles_val = normalize_images(tiles_val)"
   ]
  },
  {
   "cell_type": "code",
   "execution_count": null,
   "id": "946b121640b78521",
   "metadata": {
    "ExecuteTime": {
     "end_time": "2024-02-20T19:53:10.450608100Z",
     "start_time": "2024-02-20T19:53:10.128607300Z"
    },
    "collapsed": false
   },
   "outputs": [],
   "source": [
    "# look at training data\n",
    "i = 50\n",
    "show_HE_and_segmented(HE_train_aug[i], masks_train_aug[i])"
   ]
  },
  {
   "cell_type": "code",
   "execution_count": null,
   "id": "c608f470038c259b",
   "metadata": {
    "ExecuteTime": {
     "end_time": "2024-02-20T19:53:10.771606300Z",
     "start_time": "2024-02-20T19:53:10.450608100Z"
    },
    "collapsed": false
   },
   "outputs": [],
   "source": [
    "# look at validation\n",
    "i = 4\n",
    "show_HE_and_segmented(tiles_val[i], masks_val[i])"
   ]
  },
  {
   "cell_type": "code",
   "execution_count": null,
   "id": "fb59be621c9ff9d3",
   "metadata": {
    "ExecuteTime": {
     "end_time": "2024-02-20T19:53:11.105606Z",
     "start_time": "2024-02-20T19:53:10.793606400Z"
    },
    "collapsed": false
   },
   "outputs": [],
   "source": [
    "# config GPU\n",
    "if tf.config.list_physical_devices('GPU'):\n",
    "    print(\"GPU is available\")\n",
    "else:\n",
    "    print(\"GPU is not available\")\n",
    "    \n",
    "print(tf.__version__)\n",
    "\n",
    "#Define the config by setting some parameter values\n",
    "# 32 is a good default choice (see 1_data.ipynb)\n",
    "n_rays = 32  #Number of radial directions for the star-convex polygon.\n",
    "\n",
    "# Use OpenCL-based computations for data generator during training (requires 'gputools')\n",
    "use_gpu = True and gputools_available()\n",
    "\n",
    "# Predict on subsampled grid for increased efficiency and larger field of view\n",
    "grid = (2,2)\n",
    "\n",
    "n_channel = 1 if tiles_train[0].ndim == 2 else tiles_train[0].shape[-1]  #If no third dim. then number of channels = 1. Otherwise get the num channels from the last dim.\n",
    "\n",
    "\n",
    "conf = Config2D (\n",
    "    n_rays       = n_rays,\n",
    "    grid         = grid,\n",
    "    use_gpu      = use_gpu,\n",
    "    n_channel_in = n_channel,\n",
    ")"
   ]
  },
  {
   "cell_type": "code",
   "execution_count": null,
   "id": "6a1ff78a3cb42d1b",
   "metadata": {
    "ExecuteTime": {
     "end_time": "2024-02-20T19:53:11.132026100Z",
     "start_time": "2024-02-20T19:53:11.104606100Z"
    },
    "collapsed": false
   },
   "outputs": [],
   "source": [
    "# define hyperparameters, name model\n",
    "lr = 0.001\n",
    "epochs = 50\n",
    "patience = 40\n",
    "\n",
    "nm='Fallopian_monkey_test_tiles'\n",
    "dt='_2_20_24'\n",
    "outnm = nm + dt + '_lr_' + str(lr) + '_epochs_' + str(epochs) + '_pt_' + str(patience)\n",
    "print(outnm)"
   ]
  },
  {
   "cell_type": "code",
   "execution_count": 12,
   "id": "aadcb878090cd858",
   "metadata": {
    "ExecuteTime": {
     "end_time": "2024-02-20T19:53:11.141025800Z",
     "start_time": "2024-02-20T19:53:11.120026100Z"
    },
    "collapsed": false
   },
   "outputs": [],
   "source": [
    "# where do you want to save the model\n",
    "outpth = r'path_to_save_model_to'"
   ]
  },
  {
   "cell_type": "code",
   "execution_count": null,
   "id": "95263882e905ce9a",
   "metadata": {
    "ExecuteTime": {
     "end_time": "2024-02-20T19:56:25.825030300Z",
     "start_time": "2024-02-20T19:53:11.136026400Z"
    },
    "collapsed": false
   },
   "outputs": [],
   "source": [
    "# configure model\n",
    "model = load_published_he_model(outpth, outnm)\n",
    "model.config.train_learning_rate = lr\n",
    "model.config.train_patch_size = (256,256)\n",
    "model.config.train_reduce_lr={'factor': 0.5, 'patience': patience, 'min_delta': 0}\n",
    "model.train(HE_train_aug, masks_train_aug, validation_data=(tiles_val, masks_val), epochs=epochs, steps_per_epoch=100)\n",
    "model.optimize_thresholds(tiles_val, masks_val)\n",
    "\n",
    "pth_log_train = fr\"{outpth}\\{outnm}\\logs\\train\"\n",
    "if not os.path.exists(pth_log_train): os.mkdir(pth_log_train)\n",
    "\n",
    "pth_log = glob(os.path.join(pth_log_train,'*.v2'))[0]\n",
    "loss = get_loss_data(str(pth_log), pth_log_train)"
   ]
  },
  {
   "cell_type": "code",
   "execution_count": 13,
   "id": "7d426fe2f5e90c67",
   "metadata": {
    "ExecuteTime": {
     "end_time": "2024-02-20T19:56:25.833030500Z",
     "start_time": "2024-02-20T19:56:25.819030500Z"
    },
    "collapsed": false
   },
   "outputs": [],
   "source": []
  }
 ],
 "metadata": {
  "kernelspec": {
   "display_name": "Python 3",
   "language": "python",
   "name": "python3"
  },
  "language_info": {
   "codemirror_mode": {
    "name": "ipython",
    "version": 2
   },
   "file_extension": ".py",
   "mimetype": "text/x-python",
   "name": "python",
   "nbconvert_exporter": "python",
   "pygments_lexer": "ipython2",
   "version": "2.7.6"
  }
 },
 "nbformat": 4,
 "nbformat_minor": 5
}
