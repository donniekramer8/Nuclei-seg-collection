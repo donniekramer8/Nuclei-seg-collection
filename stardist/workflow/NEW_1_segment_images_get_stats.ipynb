{
 "cells": [
  {
   "cell_type": "code",
   "execution_count": 1,
   "metadata": {},
   "outputs": [],
   "source": [
    "from functions import *\n",
    "from analysis_functions import *"
   ]
  },
  {
   "cell_type": "code",
   "execution_count": 2,
   "metadata": {},
   "outputs": [],
   "source": [
    "WSI_path = r'path_to_WSI_images'\n",
    "model_path = r'path_to_StarDist_model' # this folder should have config.json and weights_best.h5 files\n",
    "file_type = '.ndpi' # file type of the WSIs (.ndpi, .tif, .svs, etc.)\n",
    "\n",
    "name = '6_14_24_PDAC'\n",
    "out_name = f'StarDist_{name}'"
   ]
  },
  {
   "cell_type": "code",
   "execution_count": null,
   "metadata": {},
   "outputs": [],
   "source": [
    "# load pretrained StarDist model\n",
    "model = load_model(model_path)"
   ]
  },
  {
   "cell_type": "markdown",
   "metadata": {},
   "source": [
    "Segment each H&E image file in WSI_path below"
   ]
  },
  {
   "cell_type": "markdown",
   "metadata": {},
   "source": [
    "Output is a folder of json files for each WSI. Json file stores centroid and contour coordinates for each coordinate. Set \"save_tif\" to True below if you would also like to save a greyscale image of the instance based segmentation. The resulting tif files are quite large (>2 GB typically), so it is much more efficient to just save a json file."
   ]
  },
  {
   "cell_type": "code",
   "execution_count": null,
   "metadata": {},
   "outputs": [],
   "source": [
    "save_tif = False # whether or not to save a tif file from segmentation\n",
    "\n",
    "segment_dir_of_images(WSI_path, file_type, out_name, model, save_tif)"
   ]
  },
  {
   "cell_type": "markdown",
   "metadata": {},
   "source": [
    "Extract nuclear morphology/color features from the segmentation"
   ]
  },
  {
   "cell_type": "markdown",
   "metadata": {},
   "source": []
  }
 ],
 "metadata": {
  "kernelspec": {
   "display_name": "monkey_nuc_segment_v6",
   "language": "python",
   "name": "python3"
  },
  "language_info": {
   "codemirror_mode": {
    "name": "ipython",
    "version": 3
   },
   "file_extension": ".py",
   "mimetype": "text/x-python",
   "name": "python",
   "nbconvert_exporter": "python",
   "pygments_lexer": "ipython3",
   "version": "3.9.18"
  }
 },
 "nbformat": 4,
 "nbformat_minor": 2
}
