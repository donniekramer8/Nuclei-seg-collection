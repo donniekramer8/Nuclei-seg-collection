{
 "cells": [
  {
   "cell_type": "code",
   "outputs": [],
   "source": [
    "from stardist import random_label_cmap\n",
    "\n",
    "from functions import *\n",
    "from functions import *"
   ],
   "metadata": {
    "collapsed": false,
    "ExecuteTime": {
     "end_time": "2024-03-01T22:22:09.691040800Z",
     "start_time": "2024-03-01T22:22:07.720013300Z"
    }
   },
   "id": "9bfb3361658cbd4b",
   "execution_count": 1
  },
  {
   "cell_type": "code",
   "outputs": [
    {
     "name": "stderr",
     "output_type": "stream",
     "text": [
      "base_model.py (149): output path for model already exists, files may be overwritten: \\\\10.99.68.178\\andreex\\data\\Stardist\\PDAC model\\models\\lea_model\\offshoot_model\n"
     ]
    },
    {
     "name": "stdout",
     "output_type": "stream",
     "text": [
      "Using default values: prob_thresh=0.5, nms_thresh=0.4.\n",
      "Overriding defaults: Thresholds(prob=0.4872387821889486, nms=0.3) \n"
     ]
    }
   ],
   "source": [
    "model = load_model(r\"\\\\10.99.68.178\\andreex\\data\\Stardist\\PDAC model\\models\\lea_model\")"
   ],
   "metadata": {
    "collapsed": false,
    "ExecuteTime": {
     "end_time": "2024-03-01T22:22:12.931579Z",
     "start_time": "2024-03-01T22:22:09.682034900Z"
    }
   },
   "id": "238ee4ff463c7ae6",
   "execution_count": 2
  },
  {
   "cell_type": "code",
   "outputs": [],
   "source": [
    "tiles_path = r'\\\\10.99.68.178\\andreex\\data\\Stardist\\PDAC model\\maybe_all_tiles_donald\\testing_tiles_2_26'\n",
    "tiles = normalize_images(read_tiles(tiles_path))"
   ],
   "metadata": {
    "collapsed": false,
    "ExecuteTime": {
     "end_time": "2024-03-01T22:22:13.024644800Z",
     "start_time": "2024-03-01T22:22:12.931579Z"
    }
   },
   "id": "10f64f2f6bbf12c2",
   "execution_count": 3
  },
  {
   "cell_type": "code",
   "outputs": [
    {
     "name": "stderr",
     "output_type": "stream",
     "text": [
      "  0%|          | 0/10 [00:00<?, ?it/s]\n",
      "KeyboardInterrupt\n",
      "\n"
     ]
    }
   ],
   "source": [
    "predictions = segment_tiles(tiles, model)"
   ],
   "metadata": {
    "collapsed": false,
    "ExecuteTime": {
     "end_time": "2024-03-01T22:22:14.661851400Z",
     "start_time": "2024-03-01T22:22:13.024644800Z"
    }
   },
   "id": "615dba9e3f0c01c",
   "execution_count": 4
  },
  {
   "cell_type": "code",
   "outputs": [],
   "source": [
    "# make a random cmap to show the predicted results\n",
    "np.random.seed(0)\n",
    "cmap = random_label_cmap()\n",
    "\n",
    "# show first segmentation, recommended that you check a few to make sure they look alright\n",
    "show_HE_and_segmented(tiles[0], predictions[0])"
   ],
   "metadata": {
    "collapsed": false,
    "ExecuteTime": {
     "start_time": "2024-03-01T22:22:14.662851500Z"
    }
   },
   "id": "3e4970067652f81a",
   "execution_count": null
  },
  {
   "cell_type": "code",
   "outputs": [
    {
     "name": "stdout",
     "output_type": "stream",
     "text": [
      "Finished PD_14_1F.geojson\n",
      "Finished PD_23_4O.geojson\n",
      "Finished PD_29_3M.geojson\n",
      "Finished PD_30_3D.geojson\n",
      "Finished PD_34_3L.geojson\n",
      "Finished PD_36_5O.geojson\n",
      "Finished PD_38_9R.geojson\n",
      "Finished PD_44_7HH.geojson\n",
      "Finished PD_45_4M.geojson\n",
      "Finished PD_6_3P_AMP.geojson\n"
     ]
    }
   ],
   "source": [
    "outpth = r'\\\\10.99.68.178\\andreex\\data\\Stardist\\PDAC model\\maybe_all_tiles_donald\\testing_tiles_2_26\\geojsons'\n",
    "\n",
    "# saves a .geojson file with segmentation information. If dragged and dropped into QuPath over the tile image, it shows results.\n",
    "save_geojson_from_segmentation(tiles_path, model, outpth)"
   ],
   "metadata": {
    "collapsed": false,
    "ExecuteTime": {
     "end_time": "2024-02-26T21:21:45.663160Z",
     "start_time": "2024-02-26T21:21:43.411629700Z"
    }
   },
   "id": "272b8ea1cb6d65c8",
   "execution_count": 6
  },
  {
   "cell_type": "code",
   "outputs": [],
   "source": [],
   "metadata": {
    "collapsed": false
   },
   "id": "398c960762a6c19b"
  }
 ],
 "metadata": {
  "kernelspec": {
   "display_name": "Python 3",
   "language": "python",
   "name": "python3"
  },
  "language_info": {
   "codemirror_mode": {
    "name": "ipython",
    "version": 2
   },
   "file_extension": ".py",
   "mimetype": "text/x-python",
   "name": "python",
   "nbconvert_exporter": "python",
   "pygments_lexer": "ipython2",
   "version": "2.7.6"
  }
 },
 "nbformat": 4,
 "nbformat_minor": 5
}
