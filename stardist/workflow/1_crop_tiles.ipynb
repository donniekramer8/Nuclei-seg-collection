{
 "cells": [
  {
   "cell_type": "code",
   "execution_count": 1,
   "id": "initial_id",
   "metadata": {
    "collapsed": true,
    "ExecuteTime": {
     "end_time": "2024-02-20T21:29:40.177015800Z",
     "start_time": "2024-02-20T21:29:38.280747700Z"
    }
   },
   "outputs": [],
   "source": [
    "import tkinter as tk\n",
    "from tkinter import ttk\n",
    "from PIL import Image, ImageTk\n",
    "\n",
    "from functions import *"
   ]
  },
  {
   "cell_type": "code",
   "outputs": [],
   "source": [
    "# path to uncropped 2.5x images\n",
    "twox_im_pth = r'\\\\10.99.68.178\\andreex\\data\\monkey fetus\\gestational 40\\2_5x'\n",
    "\n",
    "# path to 20x ndpi images\n",
    "ndpi_im_pth = r'\\\\10.99.68.178\\andreex\\data\\monkey fetus\\gestational 40'"
   ],
   "metadata": {
    "collapsed": false,
    "ExecuteTime": {
     "end_time": "2024-02-20T21:29:40.192024300Z",
     "start_time": "2024-02-20T21:29:40.179015400Z"
    }
   },
   "id": "1e4e1991b7732956",
   "execution_count": 2
  },
  {
   "cell_type": "code",
   "outputs": [],
   "source": [
    "# this makes sure to only use files that are present in both folders\n",
    "# change file extension names if needed\n",
    "nms_twox = sorted([f for f in os.listdir(twox_im_pth) if f.endswith('.tif')])\n",
    "nms_twentyx = sorted([f for f in os.listdir(ndpi_im_pth) if \"\".join([f.split(\".\")[0], '.tif']) in nms_twox and f.endswith('.ndpi')])\n",
    "\n",
    "twox_im_pth_list = [os.path.join(twox_im_pth, f) for f in nms_twox]\n",
    "ndpi_im_pth_list= [os.path.join(ndpi_im_pth, f) for f in nms_twentyx]"
   ],
   "metadata": {
    "collapsed": false,
    "ExecuteTime": {
     "end_time": "2024-02-20T21:29:40.613023100Z",
     "start_time": "2024-02-20T21:29:40.193024300Z"
    }
   },
   "id": "d36504015ada0159",
   "execution_count": 3
  },
  {
   "cell_type": "code",
   "outputs": [
    {
     "name": "stdout",
     "output_type": "stream",
     "text": [
      "\\\\10.99.68.178\\andreex\\data\\monkey fetus\\gestational 40\\2_5x\\monkey_fetus_40_0102.tif\n",
      "\\\\10.99.68.178\\andreex\\data\\monkey fetus\\gestational 40\\monkey_fetus_40_0102.ndpi\n"
     ]
    }
   ],
   "source": [
    "print(twox_im_pth_list[100])\n",
    "print(ndpi_im_pth_list[100])"
   ],
   "metadata": {
    "collapsed": false,
    "ExecuteTime": {
     "end_time": "2024-02-20T21:29:40.629023300Z",
     "start_time": "2024-02-20T21:29:40.615023Z"
    }
   },
   "id": "d5a4810695cf050f",
   "execution_count": 4
  },
  {
   "cell_type": "code",
   "outputs": [],
   "source": [
    "im_pth = twox_im_pth_list[100]\n",
    "img = imread(im_pth)"
   ],
   "metadata": {
    "collapsed": false,
    "ExecuteTime": {
     "end_time": "2024-02-20T21:29:42.441100700Z",
     "start_time": "2024-02-20T21:29:40.631023Z"
    }
   },
   "id": "7499b7605d1f2023",
   "execution_count": 5
  },
  {
   "cell_type": "code",
   "outputs": [],
   "source": [
    "root = tk.Toplevel()\n",
    "\n",
    "image = ImageTk.PhotoImage(image=Image.fromarray(np.uint8(img)))\n",
    "\n",
    "canvas = tk.Canvas(root,width=300,height=300)\n",
    "canvas.pack()\n",
    "canvas.create_image(20,20, anchor=\"nw\", image=image)\n",
    "\n",
    "root.mainloop()"
   ],
   "metadata": {
    "collapsed": false,
    "ExecuteTime": {
     "start_time": "2024-02-20T21:31:03.733380Z"
    }
   },
   "id": "96db8cf32d946470",
   "execution_count": null
  },
  {
   "cell_type": "code",
   "outputs": [],
   "source": [
    "Image.fromarray(img).show()"
   ],
   "metadata": {
    "collapsed": false,
    "ExecuteTime": {
     "end_time": "2024-02-20T21:29:43.378087400Z",
     "start_time": "2024-02-20T21:29:43.375087500Z"
    }
   },
   "id": "2c6ba7e58fbf3c5d",
   "execution_count": null
  },
  {
   "cell_type": "code",
   "outputs": [],
   "source": [],
   "metadata": {
    "collapsed": false,
    "ExecuteTime": {
     "start_time": "2024-02-20T21:29:43.376087400Z"
    }
   },
   "id": "9aac247e125081a4"
  }
 ],
 "metadata": {
  "kernelspec": {
   "display_name": "Python 3",
   "language": "python",
   "name": "python3"
  },
  "language_info": {
   "codemirror_mode": {
    "name": "ipython",
    "version": 2
   },
   "file_extension": ".py",
   "mimetype": "text/x-python",
   "name": "python",
   "nbconvert_exporter": "python",
   "pygments_lexer": "ipython2",
   "version": "2.7.6"
  }
 },
 "nbformat": 4,
 "nbformat_minor": 5
}
