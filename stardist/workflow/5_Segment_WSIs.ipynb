{
 "cells": [
  {
   "cell_type": "code",
   "execution_count": 1,
   "id": "initial_id",
   "metadata": {
    "collapsed": true,
    "ExecuteTime": {
     "end_time": "2024-02-26T19:35:32.191793200Z",
     "start_time": "2024-02-26T19:35:28.124686900Z"
    }
   },
   "outputs": [],
   "source": [
    "from tifffile import imread\n",
    "from functions import *"
   ]
  },
  {
   "cell_type": "code",
   "outputs": [],
   "source": [
    "WSI_path = r'\\\\10.162.80.16\\Andre_expansion\\data\\PDAC purity\\NDPI\\pdac purity'\n",
    "model_path = r'\\\\10.162.80.16\\Andre_expansion\\data\\Stardist\\PDAC model\\models\\lea_model'"
   ],
   "metadata": {
    "collapsed": false,
    "ExecuteTime": {
     "end_time": "2024-02-26T19:35:32.313793100Z",
     "start_time": "2024-02-26T19:35:32.178793300Z"
    }
   },
   "id": "6ba76cd6dda35d1e",
   "execution_count": 2
  },
  {
   "cell_type": "code",
   "outputs": [
    {
     "name": "stderr",
     "output_type": "stream",
     "text": [
      "base_model.py (149): output path for model already exists, files may be overwritten: \\\\10.162.80.16\\Andre_expansion\\data\\Stardist\\PDAC model\\models\\lea_model\\offshoot_model\n"
     ]
    },
    {
     "name": "stdout",
     "output_type": "stream",
     "text": [
      "Using default values: prob_thresh=0.5, nms_thresh=0.4.\n",
      "Overriding defaults: Thresholds(prob=0.4872387821889486, nms=0.3) \n"
     ]
    }
   ],
   "source": [
    "WSIs = [os.path.join(WSI_path, f) for f in os.listdir(WSI_path) if f.endswith('.ndpi')]  # change if using tif or czi file\n",
    "model = load_model(model_path)"
   ],
   "metadata": {
    "collapsed": false,
    "ExecuteTime": {
     "end_time": "2024-02-26T19:35:34.565570100Z",
     "start_time": "2024-02-26T19:35:32.194793200Z"
    }
   },
   "id": "c5e14cb1f13a0312",
   "execution_count": 3
  },
  {
   "cell_type": "code",
   "outputs": [
    {
     "name": "stdout",
     "output_type": "stream",
     "text": [
      "\\\\10.162.80.16\\Andre_expansion\\data\\PDAC purity\\NDPI\\pdac purity\\StarDist_2_23_24\\json\n"
     ]
    }
   ],
   "source": [
    "date = '2_23_24'\n",
    "\n",
    "out_pth = os.path.join(WSI_path,f'StarDist_{date}')\n",
    "if not os.path.exists(out_pth):\n",
    "    os.mkdir(out_pth)\n",
    "\n",
    "out_pth_json = os.path.join(out_pth,'json')\n",
    "out_pth_tif = os.path.join(out_pth,'tif')\n",
    "print(out_pth_json)\n",
    "\n",
    "if not os.path.exists(out_pth_json):\n",
    "    os.mkdir(out_pth_json)\n",
    "\n",
    "if not os.path.exists(out_pth_json):\n",
    "    os.mkdir(out_pth_json)\n",
    "\n",
    "if not os.path.exists(out_pth_tif):\n",
    "    os.mkdir(out_pth_tif)"
   ],
   "metadata": {
    "collapsed": false,
    "ExecuteTime": {
     "end_time": "2024-02-26T19:35:34.594570Z",
     "start_time": "2024-02-26T19:35:34.568570Z"
    }
   },
   "id": "75dce72d82a5f563",
   "execution_count": 4
  },
  {
   "cell_type": "code",
   "outputs": [
    {
     "name": "stdout",
     "output_type": "stream",
     "text": [
      "Skipping PD_10_3M_T.ndpi\n",
      "Skipping PD_10_3N_T.ndpi\n",
      "Starting PD_11_2N.ndpi\n",
      "effective: block_size=(4096, 4096, 3), min_overlap=(128, 128, 0), context=(128, 128, 0)\n"
     ]
    },
    {
     "name": "stderr",
     "output_type": "stream",
     "text": [
      "100%|██████████| 320/320 [11:35<00:00,  2.17s/it]\n"
     ]
    },
    {
     "name": "stdout",
     "output_type": "stream",
     "text": [
      "Saving json...\n",
      "Finished PD_11_2N.json\n",
      "Starting PD_11_2O.ndpi\n",
      "effective: block_size=(4096, 4096, 3), min_overlap=(128, 128, 0), context=(128, 128, 0)\n"
     ]
    },
    {
     "name": "stderr",
     "output_type": "stream",
     "text": [
      "100%|██████████| 280/280 [09:07<00:00,  1.96s/it]\n"
     ]
    },
    {
     "name": "stdout",
     "output_type": "stream",
     "text": [
      "Saving json...\n",
      "Finished PD_11_2O.json\n",
      "Starting PD_12_1H.ndpi\n",
      "effective: block_size=(4096, 4096, 3), min_overlap=(128, 128, 0), context=(128, 128, 0)\n"
     ]
    },
    {
     "name": "stderr",
     "output_type": "stream",
     "text": [
      "100%|██████████| 285/285 [09:53<00:00,  2.08s/it]\n"
     ]
    },
    {
     "name": "stdout",
     "output_type": "stream",
     "text": [
      "Saving json...\n",
      "Finished PD_12_1H.json\n",
      "Starting PD_13_1Q.ndpi\n",
      "effective: block_size=(4096, 4096, 3), min_overlap=(128, 128, 0), context=(128, 128, 0)\n"
     ]
    },
    {
     "name": "stderr",
     "output_type": "stream",
     "text": [
      "100%|██████████| 150/150 [04:31<00:00,  1.81s/it]\n"
     ]
    },
    {
     "name": "stdout",
     "output_type": "stream",
     "text": [
      "Saving json...\n",
      "Finished PD_13_1Q.json\n",
      "Starting PD_14_1E.ndpi\n",
      "effective: block_size=(4096, 4096, 3), min_overlap=(128, 128, 0), context=(128, 128, 0)\n"
     ]
    },
    {
     "name": "stderr",
     "output_type": "stream",
     "text": [
      "100%|██████████| 220/220 [08:12<00:00,  2.24s/it]\n"
     ]
    },
    {
     "name": "stdout",
     "output_type": "stream",
     "text": [
      "Saving json...\n",
      "Finished PD_14_1E.json\n",
      "Starting PD_14_1F.ndpi\n",
      "effective: block_size=(4096, 4096, 3), min_overlap=(128, 128, 0), context=(128, 128, 0)\n"
     ]
    },
    {
     "name": "stderr",
     "output_type": "stream",
     "text": [
      "100%|██████████| 230/230 [08:53<00:00,  2.32s/it]\n"
     ]
    },
    {
     "name": "stdout",
     "output_type": "stream",
     "text": [
      "Saving json...\n",
      "Finished PD_14_1F.json\n",
      "Starting PD_15_3J.ndpi\n",
      "effective: block_size=(4096, 4096, 3), min_overlap=(128, 128, 0), context=(128, 128, 0)\n"
     ]
    },
    {
     "name": "stderr",
     "output_type": "stream",
     "text": [
      "100%|██████████| 210/210 [07:00<00:00,  2.00s/it]\n"
     ]
    },
    {
     "name": "stdout",
     "output_type": "stream",
     "text": [
      "Saving json...\n",
      "Finished PD_15_3J.json\n",
      "Starting PD_15_3Q.ndpi\n",
      "effective: block_size=(4096, 4096, 3), min_overlap=(128, 128, 0), context=(128, 128, 0)\n"
     ]
    },
    {
     "name": "stderr",
     "output_type": "stream",
     "text": [
      "100%|██████████| 308/308 [10:30<00:00,  2.05s/it]\n"
     ]
    },
    {
     "name": "stdout",
     "output_type": "stream",
     "text": [
      "Saving json...\n",
      "Finished PD_15_3Q.json\n",
      "Starting PD_16_5I.ndpi\n",
      "effective: block_size=(4096, 4096, 3), min_overlap=(128, 128, 0), context=(128, 128, 0)\n"
     ]
    },
    {
     "name": "stderr",
     "output_type": "stream",
     "text": [
      " 95%|█████████▍| 258/272 [10:38<00:34,  2.48s/it]\n"
     ]
    },
    {
     "name": "stdout",
     "output_type": "stream",
     "text": [
      "skipping \\\\10.162.80.16\\Andre_expansion\\data\\PDAC purity\\NDPI\\pdac purity\\PD_16_5I.ndpi, probably bc its too big...\n",
      "Starting PD_16_5O.ndpi\n"
     ]
    }
   ],
   "source": [
    "# Segment all WSIs -- takes about 2-5 minutes per whole slide image to segment, about 3 minutes to save geojson file\n",
    "for img_pth in WSIs:\n",
    "    try:\n",
    "        name = os.path.basename(img_pth)\n",
    "\n",
    "        if not os.path.exists(os.path.join(out_pth_json, (name[:-5] + '.json'))):\n",
    "            print(f'Starting {name}')\n",
    "\n",
    "            img = imread(img_pth)\n",
    "            img = img/255  # normalization used to train model\n",
    "            _, polys = model.predict_instances_big(img, axes='YXC', block_size=4096, min_overlap=128, context=128, n_tiles=(4,4,1))\n",
    "\n",
    "            print('Saving json...')\n",
    "            save_json_from_WSI_pred(polys, out_pth_json, name)\n",
    "\n",
    "            # tif file is like 3 GB usually, so only uncomment next part if you are ok with that\n",
    "            #print('Saving tif...')\n",
    "            #imwrite(os.path.join(out_pth_tif, name[:-5] + '.tif'), labels)\n",
    "        else:\n",
    "            print(f'Skipping {name}')\n",
    "    except:\n",
    "        print(f'skipping {img_pth}, probably bc its too big...')"
   ],
   "metadata": {
    "collapsed": false,
    "is_executing": true,
    "ExecuteTime": {
     "start_time": "2024-02-26T19:35:34.582569900Z"
    }
   },
   "id": "3cfa44b1014a09f3",
   "execution_count": null
  },
  {
   "cell_type": "code",
   "outputs": [],
   "source": [],
   "metadata": {
    "collapsed": false
   },
   "id": "16c4365ce0001b7a"
  }
 ],
 "metadata": {
  "kernelspec": {
   "display_name": "Python 3",
   "language": "python",
   "name": "python3"
  },
  "language_info": {
   "codemirror_mode": {
    "name": "ipython",
    "version": 2
   },
   "file_extension": ".py",
   "mimetype": "text/x-python",
   "name": "python",
   "nbconvert_exporter": "python",
   "pygments_lexer": "ipython2",
   "version": "2.7.6"
  }
 },
 "nbformat": 4,
 "nbformat_minor": 5
}
