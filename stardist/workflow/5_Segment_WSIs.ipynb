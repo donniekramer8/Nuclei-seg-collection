{
 "cells": [
  {
   "cell_type": "code",
   "execution_count": 5,
   "id": "initial_id",
   "metadata": {
    "collapsed": true,
    "ExecuteTime": {
     "end_time": "2024-02-20T20:07:23.943330500Z",
     "start_time": "2024-02-20T20:07:23.924331100Z"
    }
   },
   "outputs": [],
   "source": [
    "from tifffile import imread\n",
    "from functions import *"
   ]
  },
  {
   "cell_type": "code",
   "outputs": [],
   "source": [
    "WSI_path = r'\\\\10.99.68.178\\andre\\Eduarda PDAC\\immune_cell_pipeline\\star_dist_Donald_model'\n",
    "model_path = r'C:\\Users\\Donald\\Downloads\\temp\\Fallopian_monkey_test_tiles_2_20_24_lr_0.001_epochs_50_pt_40'"
   ],
   "metadata": {
    "collapsed": false,
    "ExecuteTime": {
     "end_time": "2024-02-20T20:06:17.942126100Z",
     "start_time": "2024-02-20T20:06:17.932121200Z"
    }
   },
   "id": "6ba76cd6dda35d1e",
   "execution_count": 2
  },
  {
   "cell_type": "code",
   "outputs": [
    {
     "name": "stderr",
     "output_type": "stream",
     "text": [
      "base_model.py (149): output path for model already exists, files may be overwritten: C:\\Users\\Donald\\Downloads\\temp\\Fallopian_monkey_test_tiles_2_20_24_lr_0.001_epochs_50_pt_40\\offshoot_model\n"
     ]
    },
    {
     "name": "stdout",
     "output_type": "stream",
     "text": [
      "Using default values: prob_thresh=0.5, nms_thresh=0.4.\n",
      "Overriding defaults: Thresholds(prob=0.6973196816311521, nms=0.3) \n"
     ]
    }
   ],
   "source": [
    "WSIs = [os.path.join(WSI_path, f) for f in os.listdir(WSI_path) if f.endswith('.ndpi')]  # change if using tif or czi file\n",
    "model = load_model(model_path)"
   ],
   "metadata": {
    "collapsed": false,
    "ExecuteTime": {
     "end_time": "2024-02-20T20:06:19.228373900Z",
     "start_time": "2024-02-20T20:06:18.070126100Z"
    }
   },
   "id": "c5e14cb1f13a0312",
   "execution_count": 3
  },
  {
   "cell_type": "code",
   "outputs": [
    {
     "name": "stdout",
     "output_type": "stream",
     "text": [
      "\\\\10.99.68.178\\andre\\Eduarda PDAC\\immune_cell_pipeline\\star_dist_Donald_model\\StarDist_2_20_23_testing_new_script_ignore_pls\\json\n"
     ]
    }
   ],
   "source": [
    "date = '2_20_23_testing_new_script_ignore_pls'\n",
    "\n",
    "out_pth = os.path.join(WSI_path,f'StarDist_{date}')\n",
    "if not os.path.exists(out_pth):\n",
    "    os.mkdir(out_pth)\n",
    "\n",
    "out_pth_json = os.path.join(out_pth,'json')\n",
    "out_pth_tif = os.path.join(out_pth,'tif')\n",
    "print(out_pth_json)\n",
    "\n",
    "if not os.path.exists(out_pth_json):\n",
    "    os.mkdir(out_pth_json)\n",
    "\n",
    "if not os.path.exists(out_pth_json):\n",
    "    os.mkdir(out_pth_json)\n",
    "\n",
    "if not os.path.exists(out_pth_tif):\n",
    "    os.mkdir(out_pth_tif)"
   ],
   "metadata": {
    "collapsed": false,
    "ExecuteTime": {
     "end_time": "2024-02-20T20:10:07.052058400Z",
     "start_time": "2024-02-20T20:10:07.025763600Z"
    }
   },
   "id": "75dce72d82a5f563",
   "execution_count": 6
  },
  {
   "cell_type": "code",
   "outputs": [
    {
     "name": "stdout",
     "output_type": "stream",
     "text": [
      "Starting OM1R_618.ndpi\n",
      "skipping \\\\10.99.68.178\\andre\\Eduarda PDAC\\immune_cell_pipeline\\star_dist_Donald_model\\OM1R_618.ndpi, probably bc its too big...\n",
      "Starting OM2R_786.ndpi\n",
      "skipping \\\\10.99.68.178\\andre\\Eduarda PDAC\\immune_cell_pipeline\\star_dist_Donald_model\\OM2R_786.ndpi, probably bc its too big...\n",
      "Starting YM1R_210.ndpi\n",
      "skipping \\\\10.99.68.178\\andre\\Eduarda PDAC\\immune_cell_pipeline\\star_dist_Donald_model\\YM1R_210.ndpi, probably bc its too big...\n",
      "Starting YM2R_326.ndpi\n",
      "skipping \\\\10.99.68.178\\andre\\Eduarda PDAC\\immune_cell_pipeline\\star_dist_Donald_model\\YM2R_326.ndpi, probably bc its too big...\n"
     ]
    }
   ],
   "source": [
    "# Segment all WSIs -- takes about 2-5 minutes per whole slide image to segment, about 3 minutes to save geojson file\n",
    "for img_pth in WSIs:\n",
    "    try:\n",
    "        name = os.path.basename(img_pth)\n",
    "\n",
    "        if not os.path.exists(os.path.join(out_pth_json, (name[:-5] + '.json'))):\n",
    "            print(f'Starting {name}')\n",
    "\n",
    "            img = imread(img_pth)\n",
    "            img = img/255  # normalization used to train model\n",
    "            _, polys = model.predict_instances_big(img, axes='YXC', block_size=4096, min_overlap=128, context=128, n_tiles=(4,4,1))\n",
    "\n",
    "            print('Saving json...')\n",
    "            save_json_from_WSI_pred(polys, out_pth_json, name)\n",
    "\n",
    "            # tif file is like 3 GB usually, so only uncomment next part if you are ok with that\n",
    "            #print('Saving tif...')\n",
    "            #imwrite(os.path.join(out_pth_tif, name[:-5] + '.tif'), labels)\n",
    "        else:\n",
    "            print(f'Skipping {name}')\n",
    "    except:\n",
    "        print(f'skipping {img_pth}, probably bc its too big...')"
   ],
   "metadata": {
    "collapsed": false,
    "ExecuteTime": {
     "end_time": "2024-02-20T20:14:39.992029700Z",
     "start_time": "2024-02-20T20:14:10.028041200Z"
    }
   },
   "id": "3cfa44b1014a09f3",
   "execution_count": 7
  },
  {
   "cell_type": "code",
   "outputs": [],
   "source": [],
   "metadata": {
    "collapsed": false
   },
   "id": "16c4365ce0001b7a"
  }
 ],
 "metadata": {
  "kernelspec": {
   "display_name": "Python 3",
   "language": "python",
   "name": "python3"
  },
  "language_info": {
   "codemirror_mode": {
    "name": "ipython",
    "version": 2
   },
   "file_extension": ".py",
   "mimetype": "text/x-python",
   "name": "python",
   "nbconvert_exporter": "python",
   "pygments_lexer": "ipython2",
   "version": "2.7.6"
  }
 },
 "nbformat": 4,
 "nbformat_minor": 5
}
