{
 "cells": [
  {
   "cell_type": "code",
   "execution_count": 1,
   "outputs": [],
   "source": [
    "import os\n",
    "from PIL import Image\n",
    "import numpy as np\n",
    "\n",
    "openslide_path = r'C:\\Users\\Donald\\Documents\\openslide-win64-20230414\\bin'\n",
    "\n",
    "os.environ['PATH'] = openslide_path + \";\" + os.environ['PATH']\n",
    "# from openslide import OpenSlide\n",
    "\n",
    "\n",
    "if hasattr(os, 'add_dll_directory'):\n",
    "    # Python >= 3.8 on Windows\n",
    "    with os.add_dll_directory(openslide_path):\n",
    "        import openslide\n",
    "else:\n",
    "    import openslide\n",
    "from openslide import OpenSlide"
   ],
   "metadata": {
    "collapsed": false,
    "ExecuteTime": {
     "end_time": "2023-10-23T20:16:56.350299800Z",
     "start_time": "2023-10-23T20:16:56.272300100Z"
    }
   }
  },
  {
   "cell_type": "code",
   "execution_count": 2,
   "outputs": [],
   "source": [
    "pth = r'\\\\10.99.68.178\\andreex\\data\\monkey fetus\\gestational 40\\1024tiles'\n",
    "\n",
    "pth_mat = r'\\\\10.99.68.178\\andreex\\data\\monkey fetus\\gestational 40\\1024tiles\\10x\\matfiles'\n",
    "\n",
    "WSIs = [_ for _ in os.listdir(pth) if _.endswith('ndpi')]\n",
    "crop_mats = [_ for _ in os.listdir(pth_mat) if _.endswith('mat')]"
   ],
   "metadata": {
    "collapsed": false,
    "ExecuteTime": {
     "end_time": "2023-10-23T20:16:56.364299600Z",
     "start_time": "2023-10-23T20:16:56.351299900Z"
    }
   }
  },
  {
   "cell_type": "code",
   "execution_count": 3,
   "outputs": [
    {
     "data": {
      "text/plain": "['monkey_fetus_40_0105_ecm.ndpi',\n 'monkey_fetus_40_0271_eye.ndpi',\n 'monkey_fetus_40_0400_spinalcord.ndpi',\n 'monkey_fetus_40_0420_brain.ndpi',\n 'monkey_fetus_40_0432_bone.ndpi',\n 'monkey_fetus_40_0450_heart.ndpi',\n 'monkey_fetus_40_0730_kidney.ndpi']"
     },
     "execution_count": 3,
     "metadata": {},
     "output_type": "execute_result"
    }
   ],
   "source": [
    "WSIs"
   ],
   "metadata": {
    "collapsed": false,
    "ExecuteTime": {
     "end_time": "2023-10-23T20:16:56.427299900Z",
     "start_time": "2023-10-23T20:16:56.366299500Z"
    }
   }
  },
  {
   "cell_type": "code",
   "execution_count": 4,
   "outputs": [
    {
     "data": {
      "text/plain": "['crop_monkey_fetus_40_0105_ecm.mat',\n 'crop_monkey_fetus_40_0271_eye.mat',\n 'crop_monkey_fetus_40_0400_spinalcord.mat',\n 'crop_monkey_fetus_40_0420_brain.mat',\n 'crop_monkey_fetus_40_0432_bone.mat',\n 'crop_monkey_fetus_40_0450_heart.mat',\n 'crop_monkey_fetus_40_0730_kidney.mat']"
     },
     "execution_count": 4,
     "metadata": {},
     "output_type": "execute_result"
    }
   ],
   "source": [
    "crop_mats"
   ],
   "metadata": {
    "collapsed": false,
    "ExecuteTime": {
     "end_time": "2023-10-23T20:16:56.431300Z",
     "start_time": "2023-10-23T20:16:56.382300Z"
    }
   }
  },
  {
   "cell_type": "code",
   "execution_count": 5,
   "outputs": [
    {
     "name": "stdout",
     "output_type": "stream",
     "text": [
      "2.2644927536231885\n"
     ]
    }
   ],
   "source": [
    "res20x=0.4416\n",
    "res10x=1\n",
    "\n",
    "ratio = res10x/res20x\n",
    "print(ratio)"
   ],
   "metadata": {
    "collapsed": false,
    "ExecuteTime": {
     "end_time": "2023-10-23T20:16:56.432300Z",
     "start_time": "2023-10-23T20:16:56.397300100Z"
    }
   }
  },
  {
   "cell_type": "code",
   "execution_count": 6,
   "outputs": [],
   "source": [
    "from scipy.io import loadmat\n",
    "\n",
    "res20x=0.4416\n",
    "res10x=1\n",
    "\n",
    "ratio = res10x/res20x\n",
    "\n",
    "outpth = os.path.join(pth,'tiles')\n",
    "if not os.path.exists(outpth):\n",
    "    os.mkdir(outpth)\n",
    "\n",
    "for i, file in enumerate(crop_mats):\n",
    "    mat_file_name = os.path.join(pth_mat, file)\n",
    "\n",
    "    WSI_path = os.path.join(pth, WSIs[i])\n",
    "\n",
    "    f_out_name = f'{os.path.join(os.path.join(outpth,WSIs[i][:-5]))}.png'\n",
    "\n",
    "    if not os.path.exists(f_out_name):\n",
    "        print(f_out_name)\n",
    "        print(mat_file_name)\n",
    "        print(WSI_path)\n",
    "\n",
    "        WSI_slide = openslide.OpenSlide(WSI_path)\n",
    "\n",
    "        wsi_width, wsi_height = WSI_slide.level_dimensions[0]\n",
    "\n",
    "        data = loadmat(mat_file_name)\n",
    "\n",
    "        offset = int(crop_width)\n",
    "\n",
    "        crop_width = int(data['crop_width']*ratio)\n",
    "        crop_height = int(data['crop_height']*ratio)\n",
    "        crop_x = int(data['crop_x']*ratio)\n",
    "        crop_y = int(data['crop_y']*ratio)\n",
    "\n",
    "        print(crop_x)\n",
    "        print(crop_y)\n",
    "        print(crop_width)\n",
    "        print(crop_height)\n",
    "\n",
    "        region = WSI_slide.read_region((crop_x, crop_y), 0, (crop_width, crop_height)) # level = 0 in middle\n",
    "        region_image = Image.new('RGB', region.size)\n",
    "        region_image.paste(region, (0, 0))\n",
    "\n",
    "        region_image.save(f_out_name)\n",
    "        WSI_slide.close()\n",
    "\n"
   ],
   "metadata": {
    "collapsed": false,
    "ExecuteTime": {
     "end_time": "2023-10-23T20:16:56.552299600Z",
     "start_time": "2023-10-23T20:16:56.427299900Z"
    }
   }
  },
  {
   "cell_type": "code",
   "execution_count": 7,
   "outputs": [
    {
     "ename": "FileNotFoundError",
     "evalue": "[WinError 3] The system cannot find the path specified: '\\\\\\\\10.99.68.178\\\\andreex\\\\data\\\\monkey fetus\\\\gestational 40\\\\1024tiles\\\\tiles\\\\jpeg'",
     "output_type": "error",
     "traceback": [
      "\u001B[1;31m---------------------------------------------------------------------------\u001B[0m",
      "\u001B[1;31mFileNotFoundError\u001B[0m                         Traceback (most recent call last)",
      "Cell \u001B[1;32mIn[7], line 5\u001B[0m\n\u001B[0;32m      2\u001B[0m \u001B[38;5;28;01mfrom\u001B[39;00m \u001B[38;5;21;01mPIL\u001B[39;00m \u001B[38;5;28;01mimport\u001B[39;00m Image\n\u001B[0;32m      4\u001B[0m pth \u001B[38;5;241m=\u001B[39m \u001B[38;5;124mr\u001B[39m\u001B[38;5;124m'\u001B[39m\u001B[38;5;130;01m\\\\\u001B[39;00m\u001B[38;5;124m10.99.68.178\u001B[39m\u001B[38;5;124m\\\u001B[39m\u001B[38;5;124mandreex\u001B[39m\u001B[38;5;124m\\\u001B[39m\u001B[38;5;124mdata\u001B[39m\u001B[38;5;124m\\\u001B[39m\u001B[38;5;124mmonkey fetus\u001B[39m\u001B[38;5;124m\\\u001B[39m\u001B[38;5;124mgestational 40\u001B[39m\u001B[38;5;124m\\\u001B[39m\u001B[38;5;124m1024tiles\u001B[39m\u001B[38;5;124m\\\u001B[39m\u001B[38;5;124mtiles\u001B[39m\u001B[38;5;124m\\\u001B[39m\u001B[38;5;124mjpeg\u001B[39m\u001B[38;5;124m'\u001B[39m\n\u001B[1;32m----> 5\u001B[0m jpegs \u001B[38;5;241m=\u001B[39m [_ \u001B[38;5;28;01mfor\u001B[39;00m _ \u001B[38;5;129;01min\u001B[39;00m \u001B[43mos\u001B[49m\u001B[38;5;241;43m.\u001B[39;49m\u001B[43mlistdir\u001B[49m\u001B[43m(\u001B[49m\u001B[43mpth\u001B[49m\u001B[43m)\u001B[49m \u001B[38;5;28;01mif\u001B[39;00m _\u001B[38;5;241m.\u001B[39mendswith(\u001B[38;5;124m'\u001B[39m\u001B[38;5;124mjpeg\u001B[39m\u001B[38;5;124m'\u001B[39m)]\n\u001B[0;32m      7\u001B[0m outpth \u001B[38;5;241m=\u001B[39m \u001B[38;5;124mr\u001B[39m\u001B[38;5;124m'\u001B[39m\u001B[38;5;130;01m\\\\\u001B[39;00m\u001B[38;5;124m10.99.68.178\u001B[39m\u001B[38;5;124m\\\u001B[39m\u001B[38;5;124mandreex\u001B[39m\u001B[38;5;124m\\\u001B[39m\u001B[38;5;124mdata\u001B[39m\u001B[38;5;124m\\\u001B[39m\u001B[38;5;124mmonkey fetus\u001B[39m\u001B[38;5;124m\\\u001B[39m\u001B[38;5;124mgestational 40\u001B[39m\u001B[38;5;124m\\\u001B[39m\u001B[38;5;124m1024tiles\u001B[39m\u001B[38;5;124m\\\u001B[39m\u001B[38;5;124mtiles\u001B[39m\u001B[38;5;124m\\\u001B[39m\u001B[38;5;124mpng\u001B[39m\u001B[38;5;124m'\u001B[39m\n\u001B[0;32m      9\u001B[0m \u001B[38;5;28;01mfor\u001B[39;00m i, file \u001B[38;5;129;01min\u001B[39;00m \u001B[38;5;28menumerate\u001B[39m(jpegs):\n",
      "\u001B[1;31mFileNotFoundError\u001B[0m: [WinError 3] The system cannot find the path specified: '\\\\\\\\10.99.68.178\\\\andreex\\\\data\\\\monkey fetus\\\\gestational 40\\\\1024tiles\\\\tiles\\\\jpeg'"
     ]
    }
   ],
   "source": [
    "# jpeg to png\n",
    "from PIL import Image\n",
    "\n",
    "pth = r'\\\\10.99.68.178\\andreex\\data\\monkey fetus\\gestational 40\\1024tiles\\tiles\\jpeg'\n",
    "jpegs = [_ for _ in os.listdir(pth) if _.endswith('jpeg')]\n",
    "\n",
    "outpth = r'\\\\10.99.68.178\\andreex\\data\\monkey fetus\\gestational 40\\1024tiles\\tiles\\png'\n",
    "\n",
    "for i, file in enumerate(jpegs):\n",
    "    file_name = os.path.join(pth, jpegs[i])\n",
    "    # Open the TIF image using Pillow\n",
    "    tif_image = Image.open(file_name)\n",
    "\n",
    "    # Specify the output file path with a .png extension\n",
    "    output_path = f'{os.path.join(outpth, jpegs[i][:-5])}.png'\n",
    "\n",
    "    print(file_name)\n",
    "    print(output_path)\n",
    "\n",
    "    # Save the image as PNG\n",
    "    tif_image.save(output_path, 'PNG')\n",
    "\n",
    "    # Close the TIF image\n",
    "    tif_image.close()"
   ],
   "metadata": {
    "collapsed": false,
    "ExecuteTime": {
     "end_time": "2023-10-23T20:16:56.908300200Z",
     "start_time": "2023-10-23T20:16:56.554299600Z"
    }
   }
  }
 ],
 "metadata": {
  "kernelspec": {
   "display_name": "Python 3",
   "language": "python",
   "name": "python3"
  },
  "language_info": {
   "codemirror_mode": {
    "name": "ipython",
    "version": 2
   },
   "file_extension": ".py",
   "mimetype": "text/x-python",
   "name": "python",
   "nbconvert_exporter": "python",
   "pygments_lexer": "ipython2",
   "version": "2.7.6"
  }
 },
 "nbformat": 4,
 "nbformat_minor": 0
}
