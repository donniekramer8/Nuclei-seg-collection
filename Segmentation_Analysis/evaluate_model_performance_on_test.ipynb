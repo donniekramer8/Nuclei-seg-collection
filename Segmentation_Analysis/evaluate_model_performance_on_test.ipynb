{
 "cells": [
  {
   "cell_type": "code",
   "execution_count": 3,
   "metadata": {
    "collapsed": true,
    "ExecuteTime": {
     "end_time": "2023-12-12T18:11:13.456934700Z",
     "start_time": "2023-12-12T18:11:13.448934900Z"
    }
   },
   "outputs": [],
   "source": [
    "import sys\n",
    "sys.path.insert(1, r'C:\\Users\\Donald\\PycharmProjects\\monkey_nuc_segment\\stardist\\monkey')\n",
    "from scoring_for_donald import TileSetScorer, ScoringSubroutine"
   ]
  },
  {
   "cell_type": "code",
   "execution_count": 4,
   "outputs": [],
   "source": [
    "from __future__ import print_function, unicode_literals, absolute_import, division\n",
    "import sys\n",
    "import numpy as np\n",
    "import matplotlib\n",
    "import json\n",
    "matplotlib.rcParams[\"image.interpolation\"] = 'nearest'\n",
    "import matplotlib.pyplot as plt\n",
    "import os\n",
    "from PIL import Image\n",
    "import tensorflow as tf\n",
    "from glob import glob\n",
    "from tqdm import tqdm\n",
    "from tifffile import imread\n",
    "import struct\n",
    "import pandas as pd\n",
    "import cv2\n",
    "from csbdeep.utils import Path, normalize\n",
    "\n",
    "from stardist import fill_label_holes, random_label_cmap, calculate_extents, gputools_available\n",
    "from stardist.models import Config2D, StarDist2D, StarDistData2D"
   ],
   "metadata": {
    "collapsed": false,
    "ExecuteTime": {
     "end_time": "2023-12-12T18:11:22.464677700Z",
     "start_time": "2023-12-12T18:11:22.442677800Z"
    }
   }
  },
  {
   "cell_type": "code",
   "execution_count": 5,
   "outputs": [],
   "source": [
    "def load_model(model_path: str) -> StarDist2D:\n",
    "    # Load StarDist model weights, configurations, and thresholds\n",
    "    with open(model_path + '\\\\config.json', 'r') as f:\n",
    "        config = json.load(f)\n",
    "    with open(model_path + '\\\\thresholds.json', 'r') as f:\n",
    "        thresh = json.load(f)\n",
    "    model = StarDist2D(config=Config2D(**config), basedir=model_path, name='offshoot_model')\n",
    "    model.thresholds = thresh\n",
    "    print('Overriding defaults:', model.thresholds, '\\n')\n",
    "    model.load_weights(model_path + '\\\\weights_best.h5')\n",
    "    return model"
   ],
   "metadata": {
    "collapsed": false,
    "ExecuteTime": {
     "end_time": "2023-12-12T18:11:28.923102700Z",
     "start_time": "2023-12-12T18:11:28.907041100Z"
    }
   }
  },
  {
   "cell_type": "code",
   "execution_count": 11,
   "outputs": [
    {
     "name": "stdout",
     "output_type": "stream",
     "text": [
      "['\\\\\\\\10.99.68.178\\\\andreex\\\\data\\\\Stardist\\\\models\\\\monkey_fallopian_tube_AF__11_03_2023_1e-4', '\\\\\\\\10.99.68.178\\\\andreex\\\\data\\\\Stardist\\\\models\\\\monkey_ft_11_03_2023_lr_0.0001_epochs_200_pt_10', '\\\\\\\\10.99.68.178\\\\andreex\\\\data\\\\Stardist\\\\models\\\\monkey_ft_11_03_2023_lr_0.0001_epochs_200_pt_20', '\\\\\\\\10.99.68.178\\\\andreex\\\\data\\\\Stardist\\\\models\\\\monkey_ft_11_03_2023_lr_0.0001_epochs_200_pt_30', '\\\\\\\\10.99.68.178\\\\andreex\\\\data\\\\Stardist\\\\models\\\\monkey_ft_11_03_2023_lr_0.0001_epochs_200_pt_40', '\\\\\\\\10.99.68.178\\\\andreex\\\\data\\\\Stardist\\\\models\\\\monkey_ft_11_03_2023_lr_0.0001_epochs_300_pt_10', '\\\\\\\\10.99.68.178\\\\andreex\\\\data\\\\Stardist\\\\models\\\\monkey_ft_11_03_2023_lr_0.0001_epochs_300_pt_20', '\\\\\\\\10.99.68.178\\\\andreex\\\\data\\\\Stardist\\\\models\\\\monkey_ft_11_03_2023_lr_0.0001_epochs_300_pt_30', '\\\\\\\\10.99.68.178\\\\andreex\\\\data\\\\Stardist\\\\models\\\\monkey_ft_11_03_2023_lr_0.0001_epochs_300_pt_40', '\\\\\\\\10.99.68.178\\\\andreex\\\\data\\\\Stardist\\\\models\\\\monkey_ft_11_03_2023_lr_0.0001_epochs_400_pt_10', '\\\\\\\\10.99.68.178\\\\andreex\\\\data\\\\Stardist\\\\models\\\\monkey_ft_11_03_2023_lr_0.0001_epochs_400_pt_20', '\\\\\\\\10.99.68.178\\\\andreex\\\\data\\\\Stardist\\\\models\\\\monkey_ft_11_03_2023_lr_0.0001_epochs_400_pt_30', '\\\\\\\\10.99.68.178\\\\andreex\\\\data\\\\Stardist\\\\models\\\\monkey_ft_11_03_2023_lr_0.0001_epochs_400_pt_40', '\\\\\\\\10.99.68.178\\\\andreex\\\\data\\\\Stardist\\\\models\\\\monkey_ft_11_03_2023_lr_0.001_epochs_200_pt_10', '\\\\\\\\10.99.68.178\\\\andreex\\\\data\\\\Stardist\\\\models\\\\monkey_ft_11_03_2023_lr_0.001_epochs_200_pt_20', '\\\\\\\\10.99.68.178\\\\andreex\\\\data\\\\Stardist\\\\models\\\\monkey_ft_11_03_2023_lr_0.001_epochs_200_pt_30', '\\\\\\\\10.99.68.178\\\\andreex\\\\data\\\\Stardist\\\\models\\\\monkey_ft_11_03_2023_lr_0.001_epochs_200_pt_40', '\\\\\\\\10.99.68.178\\\\andreex\\\\data\\\\Stardist\\\\models\\\\monkey_ft_11_03_2023_lr_0.001_epochs_300_pt_10', '\\\\\\\\10.99.68.178\\\\andreex\\\\data\\\\Stardist\\\\models\\\\monkey_ft_11_03_2023_lr_0.001_epochs_300_pt_20', '\\\\\\\\10.99.68.178\\\\andreex\\\\data\\\\Stardist\\\\models\\\\monkey_ft_11_03_2023_lr_0.001_epochs_300_pt_30', '\\\\\\\\10.99.68.178\\\\andreex\\\\data\\\\Stardist\\\\models\\\\monkey_ft_11_03_2023_lr_0.001_epochs_300_pt_40', '\\\\\\\\10.99.68.178\\\\andreex\\\\data\\\\Stardist\\\\models\\\\monkey_ft_11_03_2023_lr_0.001_epochs_400_pt_10', '\\\\\\\\10.99.68.178\\\\andreex\\\\data\\\\Stardist\\\\models\\\\monkey_ft_11_03_2023_lr_0.001_epochs_400_pt_20', '\\\\\\\\10.99.68.178\\\\andreex\\\\data\\\\Stardist\\\\models\\\\monkey_ft_11_03_2023_lr_0.001_epochs_400_pt_30', '\\\\\\\\10.99.68.178\\\\andreex\\\\data\\\\Stardist\\\\models\\\\monkey_ft_11_03_2023_lr_0.001_epochs_400_pt_40', '\\\\\\\\10.99.68.178\\\\andreex\\\\data\\\\Stardist\\\\models\\\\monkey_ft_11_03_2023_lr_0.01_epochs_200_pt_10', '\\\\\\\\10.99.68.178\\\\andreex\\\\data\\\\Stardist\\\\models\\\\monkey_ft_11_03_2023_lr_0.01_epochs_200_pt_20', '\\\\\\\\10.99.68.178\\\\andreex\\\\data\\\\Stardist\\\\models\\\\monkey_ft_11_03_2023_lr_0.01_epochs_200_pt_30', '\\\\\\\\10.99.68.178\\\\andreex\\\\data\\\\Stardist\\\\models\\\\monkey_ft_11_03_2023_lr_0.01_epochs_200_pt_40', '\\\\\\\\10.99.68.178\\\\andreex\\\\data\\\\Stardist\\\\models\\\\monkey_ft_11_03_2023_lr_0.01_epochs_300_pt_10', '\\\\\\\\10.99.68.178\\\\andreex\\\\data\\\\Stardist\\\\models\\\\monkey_ft_11_03_2023_lr_0.01_epochs_300_pt_20', '\\\\\\\\10.99.68.178\\\\andreex\\\\data\\\\Stardist\\\\models\\\\monkey_ft_11_03_2023_lr_0.01_epochs_300_pt_30', '\\\\\\\\10.99.68.178\\\\andreex\\\\data\\\\Stardist\\\\models\\\\monkey_ft_11_03_2023_lr_0.01_epochs_300_pt_40', '\\\\\\\\10.99.68.178\\\\andreex\\\\data\\\\Stardist\\\\models\\\\monkey_ft_11_03_2023_lr_0.01_epochs_400_pt_10', '\\\\\\\\10.99.68.178\\\\andreex\\\\data\\\\Stardist\\\\models\\\\monkey_ft_11_03_2023_lr_0.01_epochs_400_pt_20', '\\\\\\\\10.99.68.178\\\\andreex\\\\data\\\\Stardist\\\\models\\\\monkey_ft_11_03_2023_lr_0.01_epochs_400_pt_30', '\\\\\\\\10.99.68.178\\\\andreex\\\\data\\\\Stardist\\\\models\\\\monkey_ft_11_03_2023_lr_0.01_epochs_400_pt_40', '\\\\\\\\10.99.68.178\\\\andreex\\\\data\\\\Stardist\\\\models\\\\monkey_ft_11_03_2023_lr_1e-05_epochs_200_pt_10', '\\\\\\\\10.99.68.178\\\\andreex\\\\data\\\\Stardist\\\\models\\\\monkey_ft_11_03_2023_lr_1e-05_epochs_200_pt_20', '\\\\\\\\10.99.68.178\\\\andreex\\\\data\\\\Stardist\\\\models\\\\monkey_ft_11_03_2023_lr_1e-05_epochs_200_pt_30', '\\\\\\\\10.99.68.178\\\\andreex\\\\data\\\\Stardist\\\\models\\\\monkey_ft_11_03_2023_lr_1e-05_epochs_200_pt_40', '\\\\\\\\10.99.68.178\\\\andreex\\\\data\\\\Stardist\\\\models\\\\monkey_ft_11_03_2023_lr_1e-05_epochs_300_pt_10', '\\\\\\\\10.99.68.178\\\\andreex\\\\data\\\\Stardist\\\\models\\\\monkey_ft_11_03_2023_lr_1e-05_epochs_300_pt_20', '\\\\\\\\10.99.68.178\\\\andreex\\\\data\\\\Stardist\\\\models\\\\monkey_ft_11_03_2023_lr_1e-05_epochs_300_pt_30', '\\\\\\\\10.99.68.178\\\\andreex\\\\data\\\\Stardist\\\\models\\\\monkey_ft_11_03_2023_lr_1e-05_epochs_300_pt_40', '\\\\\\\\10.99.68.178\\\\andreex\\\\data\\\\Stardist\\\\models\\\\monkey_ft_11_03_2023_lr_1e-05_epochs_400_pt_10', '\\\\\\\\10.99.68.178\\\\andreex\\\\data\\\\Stardist\\\\models\\\\monkey_ft_11_03_2023_lr_1e-05_epochs_400_pt_20', '\\\\\\\\10.99.68.178\\\\andreex\\\\data\\\\Stardist\\\\models\\\\monkey_ft_11_03_2023_lr_1e-05_epochs_400_pt_30', '\\\\\\\\10.99.68.178\\\\andreex\\\\data\\\\Stardist\\\\models\\\\monkey_ft_11_03_2023_lr_1e-05_epochs_400_pt_40']\n"
     ]
    }
   ],
   "source": [
    "model_pths = r'\\\\10.99.68.178\\andreex\\data\\Stardist\\models'\n",
    "pths = os.listdir(model_pths)\n",
    "pths = [\"\".join([model_pths, '\\\\', pth]) for pth in pths if 'monkey' in pth]\n",
    "print(pths)"
   ],
   "metadata": {
    "collapsed": false,
    "ExecuteTime": {
     "end_time": "2023-12-12T18:15:46.740898500Z",
     "start_time": "2023-12-12T18:15:46.678821900Z"
    }
   }
  },
  {
   "cell_type": "code",
   "execution_count": 12,
   "outputs": [
    {
     "name": "stderr",
     "output_type": "stream",
     "text": [
      "base_model.py (149): output path for model already exists, files may be overwritten: \\\\10.99.68.178\\andreex\\data\\Stardist\\models\\monkey_fallopian_tube_AF__11_03_2023_1e-4\\offshoot_model\n"
     ]
    },
    {
     "name": "stdout",
     "output_type": "stream",
     "text": [
      "Using default values: prob_thresh=0.5, nms_thresh=0.4.\n",
      "Overriding defaults: Thresholds(prob=0.63499129199699, nms=0.3) \n",
      "\n",
      "Using default values: prob_thresh=0.5, nms_thresh=0.4.\n",
      "Overriding defaults: Thresholds(prob=0.6234272415078469, nms=0.3) \n",
      "\n",
      "Using default values: prob_thresh=0.5, nms_thresh=0.4.\n",
      "Overriding defaults: Thresholds(prob=0.6177822926111398, nms=0.3) \n",
      "\n",
      "Using default values: prob_thresh=0.5, nms_thresh=0.4.\n",
      "Overriding defaults: Thresholds(prob=0.6583108100983135, nms=0.3) \n",
      "\n",
      "Using default values: prob_thresh=0.5, nms_thresh=0.4.\n",
      "Overriding defaults: Thresholds(prob=0.5969906755887175, nms=0.3) \n",
      "\n",
      "Using default values: prob_thresh=0.5, nms_thresh=0.4.\n",
      "Overriding defaults: Thresholds(prob=0.6091601755700365, nms=0.3) \n",
      "\n",
      "Using default values: prob_thresh=0.5, nms_thresh=0.4.\n",
      "Overriding defaults: Thresholds(prob=0.6392385662308695, nms=0.3) \n",
      "\n",
      "Using default values: prob_thresh=0.5, nms_thresh=0.4.\n",
      "Overriding defaults: Thresholds(prob=0.6503999390135518, nms=0.3) \n",
      "\n",
      "Using default values: prob_thresh=0.5, nms_thresh=0.4.\n",
      "Overriding defaults: Thresholds(prob=0.6486462781500224, nms=0.3) \n",
      "\n",
      "Using default values: prob_thresh=0.5, nms_thresh=0.4.\n",
      "Overriding defaults: Thresholds(prob=0.6334932027669172, nms=0.3) \n",
      "\n",
      "Using default values: prob_thresh=0.5, nms_thresh=0.4.\n",
      "Overriding defaults: Thresholds(prob=0.6238127761792639, nms=0.3) \n",
      "\n",
      "Using default values: prob_thresh=0.5, nms_thresh=0.4.\n",
      "Overriding defaults: Thresholds(prob=0.6381918657772012, nms=0.3) \n",
      "\n",
      "Using default values: prob_thresh=0.5, nms_thresh=0.4.\n",
      "Overriding defaults: Thresholds(prob=0.5927747485922729, nms=0.3) \n",
      "\n",
      "Using default values: prob_thresh=0.5, nms_thresh=0.4.\n",
      "Overriding defaults: Thresholds(prob=0.6369373172186283, nms=0.3) \n",
      "\n",
      "Using default values: prob_thresh=0.5, nms_thresh=0.4.\n",
      "Overriding defaults: Thresholds(prob=0.5771955387201889, nms=0.3) \n",
      "\n",
      "Using default values: prob_thresh=0.5, nms_thresh=0.4.\n",
      "Overriding defaults: Thresholds(prob=0.6833799243885667, nms=0.3) \n",
      "\n",
      "Using default values: prob_thresh=0.5, nms_thresh=0.4.\n",
      "Overriding defaults: Thresholds(prob=0.6989776548286495, nms=0.3) \n",
      "\n",
      "Using default values: prob_thresh=0.5, nms_thresh=0.4.\n",
      "Overriding defaults: Thresholds(prob=0.6164560781766288, nms=0.3) \n",
      "\n",
      "Using default values: prob_thresh=0.5, nms_thresh=0.4.\n",
      "Overriding defaults: Thresholds(prob=0.48850764361112886, nms=0.3) \n",
      "\n",
      "Using default values: prob_thresh=0.5, nms_thresh=0.4.\n",
      "Overriding defaults: Thresholds(prob=0.7076760534932167, nms=0.3) \n",
      "\n",
      "Using default values: prob_thresh=0.5, nms_thresh=0.4.\n",
      "Overriding defaults: Thresholds(prob=0.6775093894808282, nms=0.4) \n",
      "\n",
      "Using default values: prob_thresh=0.5, nms_thresh=0.4.\n",
      "Overriding defaults: Thresholds(prob=0.6108282451846633, nms=0.3) \n",
      "\n",
      "Using default values: prob_thresh=0.5, nms_thresh=0.4.\n",
      "Overriding defaults: Thresholds(prob=0.7340429724713871, nms=0.3) \n",
      "\n",
      "Using default values: prob_thresh=0.5, nms_thresh=0.4.\n",
      "Overriding defaults: Thresholds(prob=0.6050314684885006, nms=0.4) \n",
      "\n"
     ]
    },
    {
     "name": "stderr",
     "output_type": "stream",
     "text": [
      "base_model.py (149): output path for model already exists, files may be overwritten: \\\\10.99.68.178\\andreex\\data\\Stardist\\models\\monkey_ft_11_03_2023_lr_0.001_epochs_400_pt_40\\offshoot_model\n"
     ]
    },
    {
     "name": "stdout",
     "output_type": "stream",
     "text": [
      "Using default values: prob_thresh=0.5, nms_thresh=0.4.\n",
      "Overriding defaults: Thresholds(prob=0.5742374622613553, nms=0.3) \n",
      "\n",
      "Using default values: prob_thresh=0.5, nms_thresh=0.4.\n",
      "Overriding defaults: Thresholds(prob=0.14602531157276818, nms=0.3) \n",
      "\n",
      "Using default values: prob_thresh=0.5, nms_thresh=0.4.\n",
      "Overriding defaults: Thresholds(prob=0.14240266496575799, nms=0.3) \n",
      "\n",
      "Using default values: prob_thresh=0.5, nms_thresh=0.4.\n",
      "Overriding defaults: Thresholds(prob=0.1423563290796493, nms=0.3) \n",
      "\n",
      "Using default values: prob_thresh=0.5, nms_thresh=0.4.\n",
      "Overriding defaults: Thresholds(prob=0.14036238223520514, nms=0.3) \n",
      "\n",
      "Using default values: prob_thresh=0.5, nms_thresh=0.4.\n",
      "Overriding defaults: Thresholds(prob=0.14104847178904759, nms=0.3) \n",
      "\n",
      "Using default values: prob_thresh=0.5, nms_thresh=0.4.\n",
      "Overriding defaults: Thresholds(prob=0.14189460664342962, nms=0.3) \n",
      "\n",
      "Using default values: prob_thresh=0.5, nms_thresh=0.4.\n",
      "Overriding defaults: Thresholds(prob=0.14565859023425276, nms=0.3) \n",
      "\n",
      "Using default values: prob_thresh=0.5, nms_thresh=0.4.\n",
      "Overriding defaults: Thresholds(prob=0.13767908772975018, nms=0.3) \n",
      "\n",
      "Using default values: prob_thresh=0.5, nms_thresh=0.4.\n",
      "Overriding defaults: Thresholds(prob=0.14147942648924788, nms=0.3) \n",
      "\n",
      "Using default values: prob_thresh=0.5, nms_thresh=0.4.\n",
      "Overriding defaults: Thresholds(prob=0.1422185892820312, nms=0.3) \n",
      "\n",
      "Using default values: prob_thresh=0.5, nms_thresh=0.4.\n",
      "Overriding defaults: Thresholds(prob=0.7296524176037762, nms=0.3) \n",
      "\n",
      "Using default values: prob_thresh=0.5, nms_thresh=0.4.\n",
      "Overriding defaults: Thresholds(prob=0.14122014897445506, nms=0.3) \n",
      "\n",
      "Using default values: prob_thresh=0.5, nms_thresh=0.4.\n",
      "Overriding defaults: Thresholds(prob=0.6268980173736897, nms=0.3) \n",
      "\n",
      "Using default values: prob_thresh=0.5, nms_thresh=0.4.\n",
      "Overriding defaults: Thresholds(prob=0.6401328534113613, nms=0.3) \n",
      "\n",
      "Using default values: prob_thresh=0.5, nms_thresh=0.4.\n",
      "Overriding defaults: Thresholds(prob=0.6396350879472468, nms=0.3) \n",
      "\n",
      "Using default values: prob_thresh=0.5, nms_thresh=0.4.\n",
      "Overriding defaults: Thresholds(prob=0.6472583599758488, nms=0.3) \n",
      "\n",
      "Using default values: prob_thresh=0.5, nms_thresh=0.4.\n",
      "Overriding defaults: Thresholds(prob=0.5477785162339451, nms=0.3) \n",
      "\n",
      "Using default values: prob_thresh=0.5, nms_thresh=0.4.\n",
      "Overriding defaults: Thresholds(prob=0.6439588211326095, nms=0.3) \n",
      "\n",
      "Using default values: prob_thresh=0.5, nms_thresh=0.4.\n",
      "Overriding defaults: Thresholds(prob=0.6383900934515353, nms=0.3) \n",
      "\n",
      "Using default values: prob_thresh=0.5, nms_thresh=0.4.\n",
      "Overriding defaults: Thresholds(prob=0.6369215275171463, nms=0.3) \n",
      "\n",
      "Using default values: prob_thresh=0.5, nms_thresh=0.4.\n",
      "Overriding defaults: Thresholds(prob=0.6332297036058997, nms=0.3) \n",
      "\n",
      "Using default values: prob_thresh=0.5, nms_thresh=0.4.\n",
      "Overriding defaults: Thresholds(prob=0.6176816961659728, nms=0.3) \n",
      "\n",
      "Using default values: prob_thresh=0.5, nms_thresh=0.4.\n",
      "Overriding defaults: Thresholds(prob=0.6407879319683741, nms=0.3) \n",
      "\n",
      "Using default values: prob_thresh=0.5, nms_thresh=0.4.\n",
      "Overriding defaults: Thresholds(prob=0.64733187363609, nms=0.3) \n",
      "\n"
     ]
    }
   ],
   "source": [
    "models = [load_model(pth) for pth in pths]"
   ],
   "metadata": {
    "collapsed": false,
    "ExecuteTime": {
     "end_time": "2023-12-12T18:16:19.669015600Z",
     "start_time": "2023-12-12T18:15:49.149611900Z"
    }
   }
  },
  {
   "cell_type": "code",
   "execution_count": 13,
   "outputs": [],
   "source": [
    "# load tile images and masks\n",
    "pthHE = r'\\\\10.99.68.178\\andreex\\data\\Stardist\\Testing\\monkey\\tiles'\n",
    "pthmasks = r'\\\\10.99.68.178\\andreex\\data\\Stardist\\Testing\\monkey\\qupath\\ground_truth\\masks'\n",
    "\n",
    "HE_tiles_pths = sorted(glob(os.path.join(pthHE,'*.tif')))\n",
    "mask_tiles_pths = sorted(glob(os.path.join(pthmasks,'*.tif')))\n",
    "\n",
    "HE_tiles = list(map(imread,HE_tiles_pths))\n",
    "mask_tiles = list(map(imread,mask_tiles_pths))\n",
    "\n",
    "HE_tiles_default = [normalize(x) for x in HE_tiles]  # just divide by 255 to get into (0,1) range\n",
    "mask_tiles_default = [fill_label_holes(y) for y in mask_tiles]  # fills holes in annotations if there are any\n",
    "\n",
    "HE_tiles = [x/255 for x in HE_tiles]  # just divide by 255 to get into (0,1) range\n",
    "mask_tiles = [fill_label_holes(y) for y in mask_tiles]  # fills holes in annotations if there are any"
   ],
   "metadata": {
    "collapsed": false,
    "ExecuteTime": {
     "end_time": "2023-12-12T18:16:33.602457500Z",
     "start_time": "2023-12-12T18:16:29.720689100Z"
    }
   }
  },
  {
   "cell_type": "code",
   "execution_count": 14,
   "outputs": [],
   "source": [
    "def get_predictions(model):\n",
    "    mask_val_pred = [model.predict_instances(x, n_tiles=model._guess_n_tiles(x), show_tile_progress=False)[0]\n",
    "              for x in tqdm(HE_tiles)]\n",
    "\n",
    "    return mask_val_pred"
   ],
   "metadata": {
    "collapsed": false,
    "ExecuteTime": {
     "end_time": "2023-12-12T18:17:06.990130100Z",
     "start_time": "2023-12-12T18:17:06.965453100Z"
    }
   }
  },
  {
   "cell_type": "code",
   "execution_count": 16,
   "outputs": [
    {
     "name": "stderr",
     "output_type": "stream",
     "text": [
      "100%|██████████| 36/36 [00:04<00:00,  8.99it/s]\n",
      "100%|██████████| 36/36 [00:01<00:00, 19.48it/s]\n",
      "100%|██████████| 36/36 [00:01<00:00, 18.28it/s]\n",
      "100%|██████████| 36/36 [00:01<00:00, 19.15it/s]\n",
      "100%|██████████| 36/36 [00:01<00:00, 18.33it/s]\n",
      "100%|██████████| 36/36 [00:01<00:00, 18.51it/s]\n",
      "100%|██████████| 36/36 [00:01<00:00, 19.09it/s]\n",
      "100%|██████████| 36/36 [00:01<00:00, 18.48it/s]\n",
      "100%|██████████| 36/36 [00:01<00:00, 19.21it/s]\n",
      "100%|██████████| 36/36 [00:01<00:00, 18.78it/s]\n",
      "100%|██████████| 36/36 [00:01<00:00, 18.71it/s]\n",
      "100%|██████████| 36/36 [00:01<00:00, 18.44it/s]\n",
      "100%|██████████| 36/36 [00:01<00:00, 18.19it/s]\n",
      "100%|██████████| 36/36 [00:01<00:00, 19.19it/s]\n",
      "100%|██████████| 36/36 [00:01<00:00, 19.09it/s]\n",
      "100%|██████████| 36/36 [00:01<00:00, 19.10it/s]\n",
      "100%|██████████| 36/36 [00:01<00:00, 19.05it/s]\n",
      "100%|██████████| 36/36 [00:01<00:00, 19.24it/s]\n",
      "100%|██████████| 36/36 [00:01<00:00, 18.20it/s]\n",
      "100%|██████████| 36/36 [00:01<00:00, 19.63it/s]\n",
      "100%|██████████| 36/36 [00:01<00:00, 19.35it/s]\n",
      "100%|██████████| 36/36 [00:01<00:00, 19.21it/s]\n",
      "100%|██████████| 36/36 [00:01<00:00, 19.49it/s]\n",
      "100%|██████████| 36/36 [00:01<00:00, 18.92it/s]\n",
      "100%|██████████| 36/36 [00:01<00:00, 18.60it/s]\n",
      "100%|██████████| 36/36 [00:04<00:00,  7.62it/s]\n",
      "100%|██████████| 36/36 [00:04<00:00,  7.36it/s]\n",
      "100%|██████████| 36/36 [00:04<00:00,  7.57it/s]\n",
      "100%|██████████| 36/36 [00:04<00:00,  7.60it/s]\n",
      "100%|██████████| 36/36 [00:04<00:00,  7.60it/s]\n",
      "100%|██████████| 36/36 [00:04<00:00,  7.62it/s]\n",
      "100%|██████████| 36/36 [00:04<00:00,  7.49it/s]\n",
      "100%|██████████| 36/36 [00:05<00:00,  7.19it/s]\n",
      "100%|██████████| 36/36 [00:05<00:00,  7.12it/s]\n",
      "100%|██████████| 36/36 [00:05<00:00,  7.15it/s]\n",
      "100%|██████████| 36/36 [00:01<00:00, 19.57it/s]\n",
      "100%|██████████| 36/36 [00:05<00:00,  7.11it/s]\n",
      "100%|██████████| 36/36 [00:01<00:00, 18.25it/s]\n",
      "100%|██████████| 36/36 [00:02<00:00, 17.89it/s]\n",
      "100%|██████████| 36/36 [00:02<00:00, 17.59it/s]\n",
      "100%|██████████| 36/36 [00:01<00:00, 18.09it/s]\n",
      "100%|██████████| 36/36 [00:02<00:00, 17.09it/s]\n",
      "100%|██████████| 36/36 [00:01<00:00, 18.13it/s]\n",
      "100%|██████████| 36/36 [00:02<00:00, 17.76it/s]\n",
      "100%|██████████| 36/36 [00:01<00:00, 18.47it/s]\n",
      "100%|██████████| 36/36 [00:02<00:00, 17.85it/s]\n",
      "100%|██████████| 36/36 [00:02<00:00, 17.27it/s]\n",
      "100%|██████████| 36/36 [00:02<00:00, 17.90it/s]\n",
      "100%|██████████| 36/36 [00:01<00:00, 18.15it/s]\n",
      "scoring_for_donald.py (62): The behavior of DataFrame concatenation with empty or all-NA entries is deprecated. In a future version, this will no longer exclude empty or all-NA columns when determining the result dtypes. To retain the old behavior, exclude the relevant entries before the concat operation.\n",
      "scoring_for_donald.py (62): The behavior of DataFrame concatenation with empty or all-NA entries is deprecated. In a future version, this will no longer exclude empty or all-NA columns when determining the result dtypes. To retain the old behavior, exclude the relevant entries before the concat operation.\n",
      "scoring_for_donald.py (62): The behavior of DataFrame concatenation with empty or all-NA entries is deprecated. In a future version, this will no longer exclude empty or all-NA columns when determining the result dtypes. To retain the old behavior, exclude the relevant entries before the concat operation.\n",
      "scoring_for_donald.py (62): The behavior of DataFrame concatenation with empty or all-NA entries is deprecated. In a future version, this will no longer exclude empty or all-NA columns when determining the result dtypes. To retain the old behavior, exclude the relevant entries before the concat operation.\n",
      "scoring_for_donald.py (62): The behavior of DataFrame concatenation with empty or all-NA entries is deprecated. In a future version, this will no longer exclude empty or all-NA columns when determining the result dtypes. To retain the old behavior, exclude the relevant entries before the concat operation.\n",
      "scoring_for_donald.py (62): The behavior of DataFrame concatenation with empty or all-NA entries is deprecated. In a future version, this will no longer exclude empty or all-NA columns when determining the result dtypes. To retain the old behavior, exclude the relevant entries before the concat operation.\n",
      "scoring_for_donald.py (62): The behavior of DataFrame concatenation with empty or all-NA entries is deprecated. In a future version, this will no longer exclude empty or all-NA columns when determining the result dtypes. To retain the old behavior, exclude the relevant entries before the concat operation.\n",
      "scoring_for_donald.py (62): The behavior of DataFrame concatenation with empty or all-NA entries is deprecated. In a future version, this will no longer exclude empty or all-NA columns when determining the result dtypes. To retain the old behavior, exclude the relevant entries before the concat operation.\n",
      "scoring_for_donald.py (62): The behavior of DataFrame concatenation with empty or all-NA entries is deprecated. In a future version, this will no longer exclude empty or all-NA columns when determining the result dtypes. To retain the old behavior, exclude the relevant entries before the concat operation.\n",
      "scoring_for_donald.py (62): The behavior of DataFrame concatenation with empty or all-NA entries is deprecated. In a future version, this will no longer exclude empty or all-NA columns when determining the result dtypes. To retain the old behavior, exclude the relevant entries before the concat operation.\n",
      "scoring_for_donald.py (62): The behavior of DataFrame concatenation with empty or all-NA entries is deprecated. In a future version, this will no longer exclude empty or all-NA columns when determining the result dtypes. To retain the old behavior, exclude the relevant entries before the concat operation.\n",
      "scoring_for_donald.py (62): The behavior of DataFrame concatenation with empty or all-NA entries is deprecated. In a future version, this will no longer exclude empty or all-NA columns when determining the result dtypes. To retain the old behavior, exclude the relevant entries before the concat operation.\n",
      "scoring_for_donald.py (62): The behavior of DataFrame concatenation with empty or all-NA entries is deprecated. In a future version, this will no longer exclude empty or all-NA columns when determining the result dtypes. To retain the old behavior, exclude the relevant entries before the concat operation.\n",
      "scoring_for_donald.py (62): The behavior of DataFrame concatenation with empty or all-NA entries is deprecated. In a future version, this will no longer exclude empty or all-NA columns when determining the result dtypes. To retain the old behavior, exclude the relevant entries before the concat operation.\n",
      "scoring_for_donald.py (62): The behavior of DataFrame concatenation with empty or all-NA entries is deprecated. In a future version, this will no longer exclude empty or all-NA columns when determining the result dtypes. To retain the old behavior, exclude the relevant entries before the concat operation.\n",
      "scoring_for_donald.py (62): The behavior of DataFrame concatenation with empty or all-NA entries is deprecated. In a future version, this will no longer exclude empty or all-NA columns when determining the result dtypes. To retain the old behavior, exclude the relevant entries before the concat operation.\n",
      "scoring_for_donald.py (62): The behavior of DataFrame concatenation with empty or all-NA entries is deprecated. In a future version, this will no longer exclude empty or all-NA columns when determining the result dtypes. To retain the old behavior, exclude the relevant entries before the concat operation.\n",
      "scoring_for_donald.py (62): The behavior of DataFrame concatenation with empty or all-NA entries is deprecated. In a future version, this will no longer exclude empty or all-NA columns when determining the result dtypes. To retain the old behavior, exclude the relevant entries before the concat operation.\n",
      "scoring_for_donald.py (62): The behavior of DataFrame concatenation with empty or all-NA entries is deprecated. In a future version, this will no longer exclude empty or all-NA columns when determining the result dtypes. To retain the old behavior, exclude the relevant entries before the concat operation.\n",
      "scoring_for_donald.py (62): The behavior of DataFrame concatenation with empty or all-NA entries is deprecated. In a future version, this will no longer exclude empty or all-NA columns when determining the result dtypes. To retain the old behavior, exclude the relevant entries before the concat operation.\n",
      "scoring_for_donald.py (62): The behavior of DataFrame concatenation with empty or all-NA entries is deprecated. In a future version, this will no longer exclude empty or all-NA columns when determining the result dtypes. To retain the old behavior, exclude the relevant entries before the concat operation.\n",
      "scoring_for_donald.py (62): The behavior of DataFrame concatenation with empty or all-NA entries is deprecated. In a future version, this will no longer exclude empty or all-NA columns when determining the result dtypes. To retain the old behavior, exclude the relevant entries before the concat operation.\n",
      "scoring_for_donald.py (62): The behavior of DataFrame concatenation with empty or all-NA entries is deprecated. In a future version, this will no longer exclude empty or all-NA columns when determining the result dtypes. To retain the old behavior, exclude the relevant entries before the concat operation.\n",
      "scoring_for_donald.py (62): The behavior of DataFrame concatenation with empty or all-NA entries is deprecated. In a future version, this will no longer exclude empty or all-NA columns when determining the result dtypes. To retain the old behavior, exclude the relevant entries before the concat operation.\n",
      "scoring_for_donald.py (62): The behavior of DataFrame concatenation with empty or all-NA entries is deprecated. In a future version, this will no longer exclude empty or all-NA columns when determining the result dtypes. To retain the old behavior, exclude the relevant entries before the concat operation.\n",
      "scoring_for_donald.py (62): The behavior of DataFrame concatenation with empty or all-NA entries is deprecated. In a future version, this will no longer exclude empty or all-NA columns when determining the result dtypes. To retain the old behavior, exclude the relevant entries before the concat operation.\n",
      "scoring_for_donald.py (62): The behavior of DataFrame concatenation with empty or all-NA entries is deprecated. In a future version, this will no longer exclude empty or all-NA columns when determining the result dtypes. To retain the old behavior, exclude the relevant entries before the concat operation.\n",
      "scoring_for_donald.py (62): The behavior of DataFrame concatenation with empty or all-NA entries is deprecated. In a future version, this will no longer exclude empty or all-NA columns when determining the result dtypes. To retain the old behavior, exclude the relevant entries before the concat operation.\n",
      "scoring_for_donald.py (62): The behavior of DataFrame concatenation with empty or all-NA entries is deprecated. In a future version, this will no longer exclude empty or all-NA columns when determining the result dtypes. To retain the old behavior, exclude the relevant entries before the concat operation.\n",
      "scoring_for_donald.py (62): The behavior of DataFrame concatenation with empty or all-NA entries is deprecated. In a future version, this will no longer exclude empty or all-NA columns when determining the result dtypes. To retain the old behavior, exclude the relevant entries before the concat operation.\n",
      "scoring_for_donald.py (62): The behavior of DataFrame concatenation with empty or all-NA entries is deprecated. In a future version, this will no longer exclude empty or all-NA columns when determining the result dtypes. To retain the old behavior, exclude the relevant entries before the concat operation.\n",
      "scoring_for_donald.py (62): The behavior of DataFrame concatenation with empty or all-NA entries is deprecated. In a future version, this will no longer exclude empty or all-NA columns when determining the result dtypes. To retain the old behavior, exclude the relevant entries before the concat operation.\n",
      "scoring_for_donald.py (62): The behavior of DataFrame concatenation with empty or all-NA entries is deprecated. In a future version, this will no longer exclude empty or all-NA columns when determining the result dtypes. To retain the old behavior, exclude the relevant entries before the concat operation.\n",
      "scoring_for_donald.py (62): The behavior of DataFrame concatenation with empty or all-NA entries is deprecated. In a future version, this will no longer exclude empty or all-NA columns when determining the result dtypes. To retain the old behavior, exclude the relevant entries before the concat operation.\n",
      "scoring_for_donald.py (62): The behavior of DataFrame concatenation with empty or all-NA entries is deprecated. In a future version, this will no longer exclude empty or all-NA columns when determining the result dtypes. To retain the old behavior, exclude the relevant entries before the concat operation.\n",
      "scoring_for_donald.py (62): The behavior of DataFrame concatenation with empty or all-NA entries is deprecated. In a future version, this will no longer exclude empty or all-NA columns when determining the result dtypes. To retain the old behavior, exclude the relevant entries before the concat operation.\n",
      "scoring_for_donald.py (62): The behavior of DataFrame concatenation with empty or all-NA entries is deprecated. In a future version, this will no longer exclude empty or all-NA columns when determining the result dtypes. To retain the old behavior, exclude the relevant entries before the concat operation.\n",
      "scoring_for_donald.py (62): The behavior of DataFrame concatenation with empty or all-NA entries is deprecated. In a future version, this will no longer exclude empty or all-NA columns when determining the result dtypes. To retain the old behavior, exclude the relevant entries before the concat operation.\n",
      "scoring_for_donald.py (62): The behavior of DataFrame concatenation with empty or all-NA entries is deprecated. In a future version, this will no longer exclude empty or all-NA columns when determining the result dtypes. To retain the old behavior, exclude the relevant entries before the concat operation.\n",
      "scoring_for_donald.py (62): The behavior of DataFrame concatenation with empty or all-NA entries is deprecated. In a future version, this will no longer exclude empty or all-NA columns when determining the result dtypes. To retain the old behavior, exclude the relevant entries before the concat operation.\n",
      "scoring_for_donald.py (62): The behavior of DataFrame concatenation with empty or all-NA entries is deprecated. In a future version, this will no longer exclude empty or all-NA columns when determining the result dtypes. To retain the old behavior, exclude the relevant entries before the concat operation.\n",
      "scoring_for_donald.py (62): The behavior of DataFrame concatenation with empty or all-NA entries is deprecated. In a future version, this will no longer exclude empty or all-NA columns when determining the result dtypes. To retain the old behavior, exclude the relevant entries before the concat operation.\n",
      "scoring_for_donald.py (62): The behavior of DataFrame concatenation with empty or all-NA entries is deprecated. In a future version, this will no longer exclude empty or all-NA columns when determining the result dtypes. To retain the old behavior, exclude the relevant entries before the concat operation.\n",
      "scoring_for_donald.py (62): The behavior of DataFrame concatenation with empty or all-NA entries is deprecated. In a future version, this will no longer exclude empty or all-NA columns when determining the result dtypes. To retain the old behavior, exclude the relevant entries before the concat operation.\n",
      "scoring_for_donald.py (62): The behavior of DataFrame concatenation with empty or all-NA entries is deprecated. In a future version, this will no longer exclude empty or all-NA columns when determining the result dtypes. To retain the old behavior, exclude the relevant entries before the concat operation.\n",
      "scoring_for_donald.py (62): The behavior of DataFrame concatenation with empty or all-NA entries is deprecated. In a future version, this will no longer exclude empty or all-NA columns when determining the result dtypes. To retain the old behavior, exclude the relevant entries before the concat operation.\n",
      "scoring_for_donald.py (62): The behavior of DataFrame concatenation with empty or all-NA entries is deprecated. In a future version, this will no longer exclude empty or all-NA columns when determining the result dtypes. To retain the old behavior, exclude the relevant entries before the concat operation.\n",
      "scoring_for_donald.py (62): The behavior of DataFrame concatenation with empty or all-NA entries is deprecated. In a future version, this will no longer exclude empty or all-NA columns when determining the result dtypes. To retain the old behavior, exclude the relevant entries before the concat operation.\n",
      "scoring_for_donald.py (62): The behavior of DataFrame concatenation with empty or all-NA entries is deprecated. In a future version, this will no longer exclude empty or all-NA columns when determining the result dtypes. To retain the old behavior, exclude the relevant entries before the concat operation.\n"
     ]
    }
   ],
   "source": [
    "# variables for plotting and stuff\n",
    "nms = [os.path.basename(file) for file in HE_tiles_pths]\n",
    "\n",
    "taus = [0.6]\n",
    "\n",
    "predictions = [get_predictions(model) for model in models]\n",
    "\n",
    "scores = [TileSetScorer(nms, mask_tiles, mask_val_pred, taus) for mask_val_pred in predictions]"
   ],
   "metadata": {
    "collapsed": false,
    "ExecuteTime": {
     "end_time": "2023-12-12T18:24:28.522013800Z",
     "start_time": "2023-12-12T18:19:16.752960700Z"
    }
   }
  },
  {
   "cell_type": "code",
   "execution_count": 17,
   "outputs": [
    {
     "name": "stderr",
     "output_type": "stream",
     "text": [
      "scoring_for_donald.py (62): The behavior of DataFrame concatenation with empty or all-NA entries is deprecated. In a future version, this will no longer exclude empty or all-NA columns when determining the result dtypes. To retain the old behavior, exclude the relevant entries before the concat operation.\n",
      "scoring_for_donald.py (62): The behavior of DataFrame concatenation with empty or all-NA entries is deprecated. In a future version, this will no longer exclude empty or all-NA columns when determining the result dtypes. To retain the old behavior, exclude the relevant entries before the concat operation.\n",
      "scoring_for_donald.py (62): The behavior of DataFrame concatenation with empty or all-NA entries is deprecated. In a future version, this will no longer exclude empty or all-NA columns when determining the result dtypes. To retain the old behavior, exclude the relevant entries before the concat operation.\n",
      "scoring_for_donald.py (62): The behavior of DataFrame concatenation with empty or all-NA entries is deprecated. In a future version, this will no longer exclude empty or all-NA columns when determining the result dtypes. To retain the old behavior, exclude the relevant entries before the concat operation.\n",
      "scoring_for_donald.py (62): The behavior of DataFrame concatenation with empty or all-NA entries is deprecated. In a future version, this will no longer exclude empty or all-NA columns when determining the result dtypes. To retain the old behavior, exclude the relevant entries before the concat operation.\n",
      "scoring_for_donald.py (62): The behavior of DataFrame concatenation with empty or all-NA entries is deprecated. In a future version, this will no longer exclude empty or all-NA columns when determining the result dtypes. To retain the old behavior, exclude the relevant entries before the concat operation.\n",
      "scoring_for_donald.py (62): The behavior of DataFrame concatenation with empty or all-NA entries is deprecated. In a future version, this will no longer exclude empty or all-NA columns when determining the result dtypes. To retain the old behavior, exclude the relevant entries before the concat operation.\n",
      "scoring_for_donald.py (62): The behavior of DataFrame concatenation with empty or all-NA entries is deprecated. In a future version, this will no longer exclude empty or all-NA columns when determining the result dtypes. To retain the old behavior, exclude the relevant entries before the concat operation.\n",
      "scoring_for_donald.py (62): The behavior of DataFrame concatenation with empty or all-NA entries is deprecated. In a future version, this will no longer exclude empty or all-NA columns when determining the result dtypes. To retain the old behavior, exclude the relevant entries before the concat operation.\n",
      "scoring_for_donald.py (62): The behavior of DataFrame concatenation with empty or all-NA entries is deprecated. In a future version, this will no longer exclude empty or all-NA columns when determining the result dtypes. To retain the old behavior, exclude the relevant entries before the concat operation.\n",
      "scoring_for_donald.py (62): The behavior of DataFrame concatenation with empty or all-NA entries is deprecated. In a future version, this will no longer exclude empty or all-NA columns when determining the result dtypes. To retain the old behavior, exclude the relevant entries before the concat operation.\n",
      "scoring_for_donald.py (62): The behavior of DataFrame concatenation with empty or all-NA entries is deprecated. In a future version, this will no longer exclude empty or all-NA columns when determining the result dtypes. To retain the old behavior, exclude the relevant entries before the concat operation.\n",
      "scoring_for_donald.py (62): The behavior of DataFrame concatenation with empty or all-NA entries is deprecated. In a future version, this will no longer exclude empty or all-NA columns when determining the result dtypes. To retain the old behavior, exclude the relevant entries before the concat operation.\n",
      "scoring_for_donald.py (62): The behavior of DataFrame concatenation with empty or all-NA entries is deprecated. In a future version, this will no longer exclude empty or all-NA columns when determining the result dtypes. To retain the old behavior, exclude the relevant entries before the concat operation.\n",
      "scoring_for_donald.py (62): The behavior of DataFrame concatenation with empty or all-NA entries is deprecated. In a future version, this will no longer exclude empty or all-NA columns when determining the result dtypes. To retain the old behavior, exclude the relevant entries before the concat operation.\n",
      "scoring_for_donald.py (62): The behavior of DataFrame concatenation with empty or all-NA entries is deprecated. In a future version, this will no longer exclude empty or all-NA columns when determining the result dtypes. To retain the old behavior, exclude the relevant entries before the concat operation.\n",
      "scoring_for_donald.py (62): The behavior of DataFrame concatenation with empty or all-NA entries is deprecated. In a future version, this will no longer exclude empty or all-NA columns when determining the result dtypes. To retain the old behavior, exclude the relevant entries before the concat operation.\n",
      "scoring_for_donald.py (62): The behavior of DataFrame concatenation with empty or all-NA entries is deprecated. In a future version, this will no longer exclude empty or all-NA columns when determining the result dtypes. To retain the old behavior, exclude the relevant entries before the concat operation.\n",
      "scoring_for_donald.py (62): The behavior of DataFrame concatenation with empty or all-NA entries is deprecated. In a future version, this will no longer exclude empty or all-NA columns when determining the result dtypes. To retain the old behavior, exclude the relevant entries before the concat operation.\n",
      "scoring_for_donald.py (62): The behavior of DataFrame concatenation with empty or all-NA entries is deprecated. In a future version, this will no longer exclude empty or all-NA columns when determining the result dtypes. To retain the old behavior, exclude the relevant entries before the concat operation.\n",
      "scoring_for_donald.py (62): The behavior of DataFrame concatenation with empty or all-NA entries is deprecated. In a future version, this will no longer exclude empty or all-NA columns when determining the result dtypes. To retain the old behavior, exclude the relevant entries before the concat operation.\n",
      "scoring_for_donald.py (62): The behavior of DataFrame concatenation with empty or all-NA entries is deprecated. In a future version, this will no longer exclude empty or all-NA columns when determining the result dtypes. To retain the old behavior, exclude the relevant entries before the concat operation.\n",
      "scoring_for_donald.py (62): The behavior of DataFrame concatenation with empty or all-NA entries is deprecated. In a future version, this will no longer exclude empty or all-NA columns when determining the result dtypes. To retain the old behavior, exclude the relevant entries before the concat operation.\n",
      "scoring_for_donald.py (62): The behavior of DataFrame concatenation with empty or all-NA entries is deprecated. In a future version, this will no longer exclude empty or all-NA columns when determining the result dtypes. To retain the old behavior, exclude the relevant entries before the concat operation.\n",
      "scoring_for_donald.py (62): The behavior of DataFrame concatenation with empty or all-NA entries is deprecated. In a future version, this will no longer exclude empty or all-NA columns when determining the result dtypes. To retain the old behavior, exclude the relevant entries before the concat operation.\n",
      "scoring_for_donald.py (62): The behavior of DataFrame concatenation with empty or all-NA entries is deprecated. In a future version, this will no longer exclude empty or all-NA columns when determining the result dtypes. To retain the old behavior, exclude the relevant entries before the concat operation.\n",
      "scoring_for_donald.py (62): The behavior of DataFrame concatenation with empty or all-NA entries is deprecated. In a future version, this will no longer exclude empty or all-NA columns when determining the result dtypes. To retain the old behavior, exclude the relevant entries before the concat operation.\n",
      "scoring_for_donald.py (62): The behavior of DataFrame concatenation with empty or all-NA entries is deprecated. In a future version, this will no longer exclude empty or all-NA columns when determining the result dtypes. To retain the old behavior, exclude the relevant entries before the concat operation.\n",
      "scoring_for_donald.py (62): The behavior of DataFrame concatenation with empty or all-NA entries is deprecated. In a future version, this will no longer exclude empty or all-NA columns when determining the result dtypes. To retain the old behavior, exclude the relevant entries before the concat operation.\n",
      "scoring_for_donald.py (62): The behavior of DataFrame concatenation with empty or all-NA entries is deprecated. In a future version, this will no longer exclude empty or all-NA columns when determining the result dtypes. To retain the old behavior, exclude the relevant entries before the concat operation.\n",
      "scoring_for_donald.py (62): The behavior of DataFrame concatenation with empty or all-NA entries is deprecated. In a future version, this will no longer exclude empty or all-NA columns when determining the result dtypes. To retain the old behavior, exclude the relevant entries before the concat operation.\n",
      "scoring_for_donald.py (62): The behavior of DataFrame concatenation with empty or all-NA entries is deprecated. In a future version, this will no longer exclude empty or all-NA columns when determining the result dtypes. To retain the old behavior, exclude the relevant entries before the concat operation.\n",
      "scoring_for_donald.py (62): The behavior of DataFrame concatenation with empty or all-NA entries is deprecated. In a future version, this will no longer exclude empty or all-NA columns when determining the result dtypes. To retain the old behavior, exclude the relevant entries before the concat operation.\n",
      "scoring_for_donald.py (62): The behavior of DataFrame concatenation with empty or all-NA entries is deprecated. In a future version, this will no longer exclude empty or all-NA columns when determining the result dtypes. To retain the old behavior, exclude the relevant entries before the concat operation.\n",
      "scoring_for_donald.py (62): The behavior of DataFrame concatenation with empty or all-NA entries is deprecated. In a future version, this will no longer exclude empty or all-NA columns when determining the result dtypes. To retain the old behavior, exclude the relevant entries before the concat operation.\n",
      "scoring_for_donald.py (62): The behavior of DataFrame concatenation with empty or all-NA entries is deprecated. In a future version, this will no longer exclude empty or all-NA columns when determining the result dtypes. To retain the old behavior, exclude the relevant entries before the concat operation.\n",
      "scoring_for_donald.py (62): The behavior of DataFrame concatenation with empty or all-NA entries is deprecated. In a future version, this will no longer exclude empty or all-NA columns when determining the result dtypes. To retain the old behavior, exclude the relevant entries before the concat operation.\n",
      "scoring_for_donald.py (62): The behavior of DataFrame concatenation with empty or all-NA entries is deprecated. In a future version, this will no longer exclude empty or all-NA columns when determining the result dtypes. To retain the old behavior, exclude the relevant entries before the concat operation.\n",
      "scoring_for_donald.py (62): The behavior of DataFrame concatenation with empty or all-NA entries is deprecated. In a future version, this will no longer exclude empty or all-NA columns when determining the result dtypes. To retain the old behavior, exclude the relevant entries before the concat operation.\n",
      "scoring_for_donald.py (62): The behavior of DataFrame concatenation with empty or all-NA entries is deprecated. In a future version, this will no longer exclude empty or all-NA columns when determining the result dtypes. To retain the old behavior, exclude the relevant entries before the concat operation.\n",
      "scoring_for_donald.py (62): The behavior of DataFrame concatenation with empty or all-NA entries is deprecated. In a future version, this will no longer exclude empty or all-NA columns when determining the result dtypes. To retain the old behavior, exclude the relevant entries before the concat operation.\n",
      "scoring_for_donald.py (62): The behavior of DataFrame concatenation with empty or all-NA entries is deprecated. In a future version, this will no longer exclude empty or all-NA columns when determining the result dtypes. To retain the old behavior, exclude the relevant entries before the concat operation.\n",
      "scoring_for_donald.py (62): The behavior of DataFrame concatenation with empty or all-NA entries is deprecated. In a future version, this will no longer exclude empty or all-NA columns when determining the result dtypes. To retain the old behavior, exclude the relevant entries before the concat operation.\n",
      "scoring_for_donald.py (62): The behavior of DataFrame concatenation with empty or all-NA entries is deprecated. In a future version, this will no longer exclude empty or all-NA columns when determining the result dtypes. To retain the old behavior, exclude the relevant entries before the concat operation.\n",
      "scoring_for_donald.py (62): The behavior of DataFrame concatenation with empty or all-NA entries is deprecated. In a future version, this will no longer exclude empty or all-NA columns when determining the result dtypes. To retain the old behavior, exclude the relevant entries before the concat operation.\n",
      "scoring_for_donald.py (62): The behavior of DataFrame concatenation with empty or all-NA entries is deprecated. In a future version, this will no longer exclude empty or all-NA columns when determining the result dtypes. To retain the old behavior, exclude the relevant entries before the concat operation.\n",
      "scoring_for_donald.py (62): The behavior of DataFrame concatenation with empty or all-NA entries is deprecated. In a future version, this will no longer exclude empty or all-NA columns when determining the result dtypes. To retain the old behavior, exclude the relevant entries before the concat operation.\n",
      "scoring_for_donald.py (62): The behavior of DataFrame concatenation with empty or all-NA entries is deprecated. In a future version, this will no longer exclude empty or all-NA columns when determining the result dtypes. To retain the old behavior, exclude the relevant entries before the concat operation.\n",
      "scoring_for_donald.py (62): The behavior of DataFrame concatenation with empty or all-NA entries is deprecated. In a future version, this will no longer exclude empty or all-NA columns when determining the result dtypes. To retain the old behavior, exclude the relevant entries before the concat operation.\n"
     ]
    }
   ],
   "source": [
    "results = [score.score_set() for score in scores]"
   ],
   "metadata": {
    "collapsed": false,
    "ExecuteTime": {
     "end_time": "2023-12-12T18:27:29.573595700Z",
     "start_time": "2023-12-12T18:24:28.522013800Z"
    }
   }
  },
  {
   "cell_type": "code",
   "execution_count": 19,
   "outputs": [],
   "source": [
    "def find_first_unique_indices(lst):\n",
    "    unique_indices = {}\n",
    "    result = []\n",
    "\n",
    "    for i, value in enumerate(lst):\n",
    "        if value not in unique_indices:\n",
    "            unique_indices[value] = i\n",
    "\n",
    "    for value in lst:\n",
    "        result.append(unique_indices[value])\n",
    "\n",
    "    return result"
   ],
   "metadata": {
    "collapsed": false,
    "ExecuteTime": {
     "end_time": "2023-12-12T18:29:14.732449700Z",
     "start_time": "2023-12-12T18:29:14.684374Z"
    }
   }
  },
  {
   "cell_type": "code",
   "execution_count": 20,
   "outputs": [],
   "source": [
    "def get_f1(tp, fp, fn):\n",
    "    precision = tp / (tp + fp)\n",
    "    recall = tp / (tp + fn)\n",
    "    avg_precision = tp / (tp + fp + fn)\n",
    "    f1 = 2 * precision * recall / (precision + recall)\n",
    "    return precision, recall, avg_precision, f1"
   ],
   "metadata": {
    "collapsed": false,
    "ExecuteTime": {
     "end_time": "2023-12-12T18:34:12.392093100Z",
     "start_time": "2023-12-12T18:34:12.378092700Z"
    }
   }
  },
  {
   "cell_type": "code",
   "execution_count": 29,
   "outputs": [],
   "source": [
    "def get_organ_f1(result):\n",
    "    names = result['Image']\n",
    "\n",
    "    names = [name.split(\".\")[0][21:] for name in names]\n",
    "\n",
    "    for i in range(len(names)):\n",
    "        #if len(names[i]) > 6:\n",
    "        names[i] = names[i][:2]\n",
    "\n",
    "    result_list = find_first_unique_indices(names)\n",
    "\n",
    "    f1_scores = result['F1 Score']\n",
    "\n",
    "    seen = []\n",
    "    names = []\n",
    "\n",
    "    raw_vals = result[['Image', 'TP', 'FP', 'FN']]\n",
    "\n",
    "    TPs = [0 for _ in range(len(raw_vals))]\n",
    "    FPs = [0 for _ in range(len(raw_vals))]\n",
    "    FNs = [0 for _ in range(len(raw_vals))]\n",
    "\n",
    "    for i in range(len(raw_vals)):\n",
    "        row = raw_vals.iloc[i]\n",
    "        num = result_list[i]\n",
    "        if num not in seen:\n",
    "            names.append(raw_vals['Image'][i])\n",
    "            seen.append(num)\n",
    "\n",
    "        TPs[num] += row['TP']\n",
    "        FPs[num] += row['FP']\n",
    "        FNs[num] += row['FN']\n",
    "\n",
    "    organ_names = []\n",
    "    for i in range(len(names)):\n",
    "        nm = names[i][21:-4]\n",
    "        if nm[-1] == '1':\n",
    "            nm = nm[:-1]\n",
    "        organ_names.append(nm)\n",
    "\n",
    "    TPs = [val for val in TPs if val != 0]\n",
    "    FPs = [val for val in FPs if val != 0]\n",
    "    FNs = [val for val in FNs if val != 0]\n",
    "\n",
    "    if [len(organ_names), len(TPs), len(FPs), len(FNs)] != [len(organ_names), len(organ_names), len(organ_names), len(organ_names)]:\n",
    "        print('skipped')\n",
    "        return 0\n",
    "\n",
    "    new_df = pd.DataFrame({'Organ': organ_names, 'TP': TPs, 'FP': FPs, 'FN': FNs})\n",
    "\n",
    "    precisions = []\n",
    "    recalls = []\n",
    "    f1s = []\n",
    "\n",
    "    for i in range(len(new_df)):\n",
    "        row = new_df.iloc[i]\n",
    "\n",
    "        tp = row['TP']\n",
    "        fp = row['FP']\n",
    "        fn = row['FN']\n",
    "\n",
    "        precision, recall, avg_precision, f1 = get_f1(tp, fp, fn)\n",
    "        precisions.append(precision)\n",
    "        recalls.append(recall)\n",
    "        f1s.append(f1)\n",
    "\n",
    "    new_df['Recall'] = recalls\n",
    "    new_df['Precision'] = precisions\n",
    "    new_df['F1'] = f1s\n",
    "\n",
    "    return new_df"
   ],
   "metadata": {
    "collapsed": false,
    "ExecuteTime": {
     "end_time": "2023-12-12T18:38:31.838088300Z",
     "start_time": "2023-12-12T18:38:31.817088300Z"
    }
   }
  },
  {
   "cell_type": "code",
   "execution_count": 30,
   "outputs": [
    {
     "name": "stdout",
     "output_type": "stream",
     "text": [
      "skipped\n",
      "skipped\n",
      "skipped\n",
      "skipped\n",
      "skipped\n",
      "skipped\n",
      "skipped\n",
      "skipped\n",
      "skipped\n",
      "skipped\n",
      "skipped\n"
     ]
    }
   ],
   "source": [
    "dfs = [get_organ_f1(result) for result in results]"
   ],
   "metadata": {
    "collapsed": false,
    "ExecuteTime": {
     "end_time": "2023-12-12T18:38:32.333087600Z",
     "start_time": "2023-12-12T18:38:32.259087700Z"
    }
   }
  },
  {
   "cell_type": "code",
   "execution_count": 56,
   "outputs": [
    {
     "name": "stdout",
     "output_type": "stream",
     "text": [
      "25\n",
      "26\n",
      "27\n",
      "28\n",
      "29\n",
      "30\n",
      "31\n",
      "32\n",
      "33\n",
      "34\n",
      "36\n"
     ]
    }
   ],
   "source": [
    "bad_models = []\n",
    "bad_model_inds = []\n",
    "for i, j in enumerate(dfs):\n",
    "    if type(j) != pd.DataFrame:\n",
    "        bad_models.append(pths[i])\n",
    "        bad_model_inds.append(i)\n",
    "        print(i)"
   ],
   "metadata": {
    "collapsed": false,
    "ExecuteTime": {
     "end_time": "2023-12-12T18:44:34.024486200Z",
     "start_time": "2023-12-12T18:44:33.999797900Z"
    }
   }
  },
  {
   "cell_type": "code",
   "execution_count": 42,
   "outputs": [
    {
     "data": {
      "text/plain": "['\\\\\\\\10.99.68.178\\\\andreex\\\\data\\\\Stardist\\\\models\\\\monkey_ft_11_03_2023_lr_0.01_epochs_200_pt_10',\n '\\\\\\\\10.99.68.178\\\\andreex\\\\data\\\\Stardist\\\\models\\\\monkey_ft_11_03_2023_lr_0.01_epochs_200_pt_20',\n '\\\\\\\\10.99.68.178\\\\andreex\\\\data\\\\Stardist\\\\models\\\\monkey_ft_11_03_2023_lr_0.01_epochs_200_pt_30',\n '\\\\\\\\10.99.68.178\\\\andreex\\\\data\\\\Stardist\\\\models\\\\monkey_ft_11_03_2023_lr_0.01_epochs_200_pt_40',\n '\\\\\\\\10.99.68.178\\\\andreex\\\\data\\\\Stardist\\\\models\\\\monkey_ft_11_03_2023_lr_0.01_epochs_300_pt_10',\n '\\\\\\\\10.99.68.178\\\\andreex\\\\data\\\\Stardist\\\\models\\\\monkey_ft_11_03_2023_lr_0.01_epochs_300_pt_20',\n '\\\\\\\\10.99.68.178\\\\andreex\\\\data\\\\Stardist\\\\models\\\\monkey_ft_11_03_2023_lr_0.01_epochs_300_pt_30',\n '\\\\\\\\10.99.68.178\\\\andreex\\\\data\\\\Stardist\\\\models\\\\monkey_ft_11_03_2023_lr_0.01_epochs_300_pt_40',\n '\\\\\\\\10.99.68.178\\\\andreex\\\\data\\\\Stardist\\\\models\\\\monkey_ft_11_03_2023_lr_0.01_epochs_400_pt_10',\n '\\\\\\\\10.99.68.178\\\\andreex\\\\data\\\\Stardist\\\\models\\\\monkey_ft_11_03_2023_lr_0.01_epochs_400_pt_20',\n '\\\\\\\\10.99.68.178\\\\andreex\\\\data\\\\Stardist\\\\models\\\\monkey_ft_11_03_2023_lr_0.01_epochs_400_pt_40']"
     },
     "execution_count": 42,
     "metadata": {},
     "output_type": "execute_result"
    }
   ],
   "source": [
    "bad_models"
   ],
   "metadata": {
    "collapsed": false,
    "ExecuteTime": {
     "end_time": "2023-12-12T18:41:10.716155200Z",
     "start_time": "2023-12-12T18:41:10.692711300Z"
    }
   }
  },
  {
   "cell_type": "code",
   "execution_count": 57,
   "outputs": [
    {
     "data": {
      "text/plain": "[25, 26, 27, 28, 29, 30, 31, 32, 33, 34, 36]"
     },
     "execution_count": 57,
     "metadata": {},
     "output_type": "execute_result"
    }
   ],
   "source": [
    "bad_model_inds"
   ],
   "metadata": {
    "collapsed": false,
    "ExecuteTime": {
     "end_time": "2023-12-12T18:44:39.041934800Z",
     "start_time": "2023-12-12T18:44:39.013764500Z"
    }
   }
  },
  {
   "cell_type": "code",
   "execution_count": 62,
   "outputs": [],
   "source": [
    "best_min = 0\n",
    "best_ind = 0\n",
    "for i, df in enumerate(dfs):\n",
    "    if i not in bad_model_inds:\n",
    "        min_f1 = min(df['F1'])\n",
    "        if best_min < min_f1:\n",
    "            best_min = min_f1\n",
    "            best_ind = i"
   ],
   "metadata": {
    "collapsed": false,
    "ExecuteTime": {
     "end_time": "2023-12-12T18:45:52.030057400Z",
     "start_time": "2023-12-12T18:45:52.022057500Z"
    }
   }
  },
  {
   "cell_type": "code",
   "execution_count": 63,
   "outputs": [
    {
     "data": {
      "text/plain": "0.5877422734415925"
     },
     "execution_count": 63,
     "metadata": {},
     "output_type": "execute_result"
    }
   ],
   "source": [
    "best_min"
   ],
   "metadata": {
    "collapsed": false,
    "ExecuteTime": {
     "end_time": "2023-12-12T18:45:52.387088400Z",
     "start_time": "2023-12-12T18:45:52.374728500Z"
    }
   }
  },
  {
   "cell_type": "code",
   "execution_count": 64,
   "outputs": [
    {
     "data": {
      "text/plain": "22"
     },
     "execution_count": 64,
     "metadata": {},
     "output_type": "execute_result"
    }
   ],
   "source": [
    "best_ind"
   ],
   "metadata": {
    "collapsed": false,
    "ExecuteTime": {
     "end_time": "2023-12-12T18:45:58.875963900Z",
     "start_time": "2023-12-12T18:45:58.858702400Z"
    }
   }
  },
  {
   "cell_type": "code",
   "execution_count": 65,
   "outputs": [
    {
     "data": {
      "text/plain": "'\\\\\\\\10.99.68.178\\\\andreex\\\\data\\\\Stardist\\\\models\\\\monkey_ft_11_03_2023_lr_0.001_epochs_400_pt_20'"
     },
     "execution_count": 65,
     "metadata": {},
     "output_type": "execute_result"
    }
   ],
   "source": [
    "pths[22]"
   ],
   "metadata": {
    "collapsed": false,
    "ExecuteTime": {
     "end_time": "2023-12-12T18:46:06.579257Z",
     "start_time": "2023-12-12T18:46:06.562203600Z"
    }
   }
  },
  {
   "cell_type": "code",
   "execution_count": 67,
   "outputs": [
    {
     "data": {
      "text/plain": "<Figure size 1500x700 with 1 Axes>",
      "image/png": "[encoded data removed]"
     },
     "metadata": {},
     "output_type": "display_data"
    }
   ],
   "source": [
    "new_df = dfs[22]\n",
    "\n",
    "bar_width = 0.25  # Adjust the width of each bar as needed\n",
    "index = np.arange(len(new_df['Organ']))\n",
    "\n",
    "# Plotting the bars\n",
    "fig = plt.figure(figsize=(15, 7))\n",
    "fig.set_facecolor('white')\n",
    "\n",
    "plt.bar(new_df['Organ'], new_df['F1'], color='blue', label='Newest Model')\n",
    "\n",
    "#plt.bar(index, f1_scores, color='blue', width=bar_width, label='Newest Model')\n",
    "#plt.bar(index + bar_width, f1_scores_justin, color='orange', width=bar_width, label=\"Previous model\")\n",
    "#plt.bar(index + 2 * bar_width, f1_scores_default, color='green', width=bar_width, label='Default H&E')\n",
    "\n",
    "plt.xlabel(\"Organ\", fontsize=20)\n",
    "plt.ylabel(\"F1 Score\", fontsize=20)\n",
    "# plt.title(\"F1 Scores in Testing Tiles (tau = 0.6)\", fontsize=28)\n",
    "plt.axhline(y=0.7, linestyle='--', color='red', label='Threshold = 0.7')\n",
    "plt.ylim(0, 1)\n",
    "plt.xticks(index + bar_width, new_df['Organ'])  # Set x-axis labels to tile names\n",
    "plt.legend(fontsize=20)\n",
    "plt.show()"
   ],
   "metadata": {
    "collapsed": false,
    "ExecuteTime": {
     "end_time": "2023-12-12T20:10:35.242109600Z",
     "start_time": "2023-12-12T20:10:35.163764500Z"
    }
   }
  },
  {
   "cell_type": "code",
   "execution_count": null,
   "outputs": [],
   "source": [],
   "metadata": {
    "collapsed": false
   }
  }
 ],
 "metadata": {
  "kernelspec": {
   "display_name": "Python 3",
   "language": "python",
   "name": "python3"
  },
  "language_info": {
   "codemirror_mode": {
    "name": "ipython",
    "version": 2
   },
   "file_extension": ".py",
   "mimetype": "text/x-python",
   "name": "python",
   "nbconvert_exporter": "python",
   "pygments_lexer": "ipython2",
   "version": "2.7.6"
  }
 },
 "nbformat": 4,
 "nbformat_minor": 0
}
