{
 "cells": [
  {
   "cell_type": "code",
   "execution_count": 1,
   "id": "initial_id",
   "metadata": {
    "collapsed": true,
    "ExecuteTime": {
     "end_time": "2024-01-17T17:32:50.569001800Z",
     "start_time": "2024-01-17T17:32:50.259785700Z"
    }
   },
   "outputs": [],
   "source": [
    "from tifffile import imread\n",
    "import os\n",
    "from matplotlib import pyplot as plt\n",
    "import json\n",
    "from scipy.io import loadmat\n",
    "import h5py\n",
    "import numpy as np"
   ]
  },
  {
   "cell_type": "code",
   "outputs": [],
   "source": [
    "pth_WSI_segmentations = r'\\\\10.99.68.178\\andreex\\students\\Donald Monkey fetus\\BTC\\ndpi\\StarDist_1_12_24\\json'\n",
    "npdi_im_path = r'\\\\10.99.68.178\\andreex\\students\\Donald Monkey fetus\\BTC\\ndpi'\n",
    "geojson_file = r'\\\\10.99.68.178\\andreex\\students\\Donald Monkey fetus\\BTC\\qupath\\new_temp\\geojson\\H15_0277.geojson'"
   ],
   "metadata": {
    "collapsed": false,
    "ExecuteTime": {
     "end_time": "2024-01-17T17:32:53.000395800Z",
     "start_time": "2024-01-17T17:32:52.994396100Z"
    }
   },
   "id": "792f227aed7b82ef",
   "execution_count": 2
  },
  {
   "cell_type": "code",
   "outputs": [
    {
     "name": "stdout",
     "output_type": "stream",
     "text": [
      "['\\\\\\\\10.99.68.178\\\\andreex\\\\students\\\\Donald Monkey fetus\\\\BTC\\\\ndpi\\\\StarDist_1_12_24\\\\json\\\\H15_0277.json']\n"
     ]
    }
   ],
   "source": [
    "json_pth_list = [os.path.join(pth_WSI_segmentations,file) for file in os.listdir(pth_WSI_segmentations) if file.endswith(\".json\")]\n",
    "print(json_pth_list)"
   ],
   "metadata": {
    "collapsed": false,
    "ExecuteTime": {
     "end_time": "2024-01-17T17:32:56.389407700Z",
     "start_time": "2024-01-17T17:32:56.379407100Z"
    }
   },
   "id": "f09725b925713f51",
   "execution_count": 3
  },
  {
   "cell_type": "code",
   "outputs": [
    {
     "name": "stdout",
     "output_type": "stream",
     "text": [
      "['H15_0277.ndpi']\n"
     ]
    }
   ],
   "source": [
    "im_list = os.listdir(npdi_im_path)\n",
    "im_list = [im for im in im_list if im.endswith('.ndpi')]\n",
    "print(im_list)"
   ],
   "metadata": {
    "collapsed": false,
    "ExecuteTime": {
     "end_time": "2024-01-17T17:33:08.558234700Z",
     "start_time": "2024-01-17T17:33:08.545234200Z"
    }
   },
   "id": "23091f62f6a653d0",
   "execution_count": 5
  },
  {
   "cell_type": "code",
   "outputs": [],
   "source": [
    "# read one image\n",
    "ind = 0\n",
    "\n",
    "HE_20x_WSI = imread(os.path.join(npdi_im_path, im_list[ind]))"
   ],
   "metadata": {
    "collapsed": false,
    "ExecuteTime": {
     "end_time": "2024-01-17T17:33:19.318644Z",
     "start_time": "2024-01-17T17:33:11.105736Z"
    }
   },
   "id": "c564bf2398f05c25",
   "execution_count": 6
  },
  {
   "cell_type": "code",
   "outputs": [],
   "source": [],
   "metadata": {
    "collapsed": false
   },
   "id": "186dd67eb6b2017c"
  }
 ],
 "metadata": {
  "kernelspec": {
   "display_name": "Python 3",
   "language": "python",
   "name": "python3"
  },
  "language_info": {
   "codemirror_mode": {
    "name": "ipython",
    "version": 2
   },
   "file_extension": ".py",
   "mimetype": "text/x-python",
   "name": "python",
   "nbconvert_exporter": "python",
   "pygments_lexer": "ipython2",
   "version": "2.7.6"
  }
 },
 "nbformat": 4,
 "nbformat_minor": 5
}
