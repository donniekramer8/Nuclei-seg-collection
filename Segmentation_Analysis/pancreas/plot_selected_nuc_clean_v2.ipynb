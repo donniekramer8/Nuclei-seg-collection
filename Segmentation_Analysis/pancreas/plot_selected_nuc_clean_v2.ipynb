{
 "cells": [
  {
   "cell_type": "code",
   "execution_count": 63,
   "id": "initial_id",
   "metadata": {
    "collapsed": true,
    "ExecuteTime": {
     "end_time": "2024-01-19T16:12:50.807818800Z",
     "start_time": "2024-01-19T16:12:50.576548400Z"
    }
   },
   "outputs": [],
   "source": [
    "from tifffile import imread\n",
    "import os\n",
    "from matplotlib import pyplot as plt\n",
    "import json\n",
    "from scipy.io import loadmat\n",
    "import h5py\n",
    "import numpy as np"
   ]
  },
  {
   "cell_type": "code",
   "outputs": [],
   "source": [
    "pth_WSI_segmentations = r'\\\\10.99.68.178\\andreex\\data\\BTC\\H15\\Annotations\\StarDist_1_18_24\\json'\n",
    "npdi_im_path = r'\\\\10.99.68.178\\andreex\\data\\BTC\\H15\\Annotations'\n",
    "geojson_file = r'\\\\10.99.68.178\\andreex\\data\\BTC\\H15\\test_qupath_project\\H15_0091_1.geojson'"
   ],
   "metadata": {
    "collapsed": false,
    "ExecuteTime": {
     "end_time": "2024-01-19T16:12:50.823765500Z",
     "start_time": "2024-01-19T16:12:50.759935Z"
    }
   },
   "id": "5431999f08dbc4e3",
   "execution_count": 64
  },
  {
   "cell_type": "code",
   "outputs": [
    {
     "name": "stdout",
     "output_type": "stream",
     "text": [
      "['\\\\\\\\10.99.68.178\\\\andreex\\\\data\\\\BTC\\\\H15\\\\Annotations\\\\StarDist_1_18_24\\\\json\\\\H15_0091.json']\n"
     ]
    }
   ],
   "source": [
    "json_pth_list = [os.path.join(pth_WSI_segmentations,file) for file in os.listdir(pth_WSI_segmentations) if file.endswith(\".json\")]\n",
    "print(json_pth_list)"
   ],
   "metadata": {
    "collapsed": false,
    "ExecuteTime": {
     "end_time": "2024-01-19T16:12:50.845692100Z",
     "start_time": "2024-01-19T16:12:50.815791500Z"
    }
   },
   "id": "360d3de3098ef3dd",
   "execution_count": 65
  },
  {
   "cell_type": "code",
   "outputs": [],
   "source": [
    "im_list = os.listdir(npdi_im_path)\n",
    "im_list = [im for im in im_list if im.endswith('.ndpi')]"
   ],
   "metadata": {
    "collapsed": false,
    "ExecuteTime": {
     "end_time": "2024-01-19T16:12:50.859645500Z",
     "start_time": "2024-01-19T16:12:50.837718700Z"
    }
   },
   "id": "eef8a8dff918ffd6",
   "execution_count": 66
  },
  {
   "cell_type": "code",
   "outputs": [],
   "source": [
    "# read one image\n",
    "ind = 0\n",
    "\n",
    "HE_20x_WSI = imread(os.path.join(npdi_im_path, im_list[ind]))"
   ],
   "metadata": {
    "collapsed": false,
    "ExecuteTime": {
     "end_time": "2024-01-19T16:12:55.684043600Z",
     "start_time": "2024-01-19T16:12:50.859645500Z"
    }
   },
   "id": "23bc9a4d20a72cd7",
   "execution_count": 67
  },
  {
   "cell_type": "code",
   "outputs": [
    {
     "name": "stdout",
     "output_type": "stream",
     "text": [
      "['\\\\\\\\10.99.68.178\\\\andreex\\\\data\\\\BTC\\\\H15\\\\neutrophil_annotation_tiles\\\\cropping_info\\\\H15_0091.mat', '\\\\\\\\10.99.68.178\\\\andreex\\\\data\\\\BTC\\\\H15\\\\neutrophil_annotation_tiles\\\\cropping_info\\\\H15_0151.mat']\n"
     ]
    }
   ],
   "source": [
    "cropping_info_dir = r'\\\\10.99.68.178\\andreex\\data\\BTC\\H15\\neutrophil_annotation_tiles\\cropping_info'\n",
    "\n",
    "mat_pth_list = [os.path.join(cropping_info_dir,file) for file in os.listdir(cropping_info_dir) if file.endswith(\".mat\")]\n",
    "print(mat_pth_list)"
   ],
   "metadata": {
    "collapsed": false,
    "ExecuteTime": {
     "end_time": "2024-01-19T16:12:55.699233800Z",
     "start_time": "2024-01-19T16:12:55.685040500Z"
    }
   },
   "id": "61c4bbaf438d07d1",
   "execution_count": 68
  },
  {
   "cell_type": "code",
   "outputs": [
    {
     "ename": "NameError",
     "evalue": "name 'matfile_name' is not defined",
     "output_type": "error",
     "traceback": [
      "\u001B[1;31m---------------------------------------------------------------------------\u001B[0m",
      "\u001B[1;31mNameError\u001B[0m                                 Traceback (most recent call last)",
      "Cell \u001B[1;32mIn[69], line 1\u001B[0m\n\u001B[1;32m----> 1\u001B[0m \u001B[43mmatfile_name\u001B[49m\n",
      "\u001B[1;31mNameError\u001B[0m: name 'matfile_name' is not defined"
     ]
    }
   ],
   "source": [
    "matfile_name"
   ],
   "metadata": {
    "collapsed": false,
    "ExecuteTime": {
     "end_time": "2024-01-19T16:12:55.744083500Z",
     "start_time": "2024-01-19T16:12:55.699233800Z"
    }
   },
   "id": "3356fb0dac8e201d",
   "execution_count": 69
  },
  {
   "cell_type": "code",
   "outputs": [],
   "source": [
    "from scipy.io import loadmat\n",
    "\n",
    "data = loadmat(mat_pth_list[0])\n",
    "\n",
    "dat = data['im1_crop_1'][0]\n",
    "crop_x = int(dat[0])\n",
    "crop_y = int(dat[1])\n",
    "tile_size = int(dat[2])"
   ],
   "metadata": {
    "collapsed": false,
    "ExecuteTime": {
     "end_time": "2024-01-19T16:12:55.905543700Z",
     "start_time": "2024-01-19T16:12:55.747073800Z"
    }
   },
   "id": "96bd2d818a14ab21",
   "execution_count": null
  },
  {
   "cell_type": "code",
   "outputs": [],
   "source": [
    "# immune\n",
    "#crop_x = 33949\n",
    "#crop_y = 34343\n",
    "#tile_size = 512\n",
    "\n",
    "# cancer\n",
    "#crop_x = 13587 - 300\n",
    "#crop_y = 18612 - 800\n",
    "#tile_size = 512*6\n",
    "\n",
    "HE_20x_tile = HE_20x_WSI[crop_y:crop_y+tile_size, crop_x:crop_x+tile_size]"
   ],
   "metadata": {
    "collapsed": false,
    "ExecuteTime": {
     "start_time": "2024-01-19T16:12:55.747073800Z"
    }
   },
   "id": "4f1e8e9904edd690",
   "execution_count": null
  },
  {
   "cell_type": "code",
   "outputs": [],
   "source": [
    "def show_tile(tile, **kwargs):\n",
    "    \"\"\"Plot a single image.\"\"\"\n",
    "    fig, ax = plt.subplots(1, 1, figsize=(16, 8))\n",
    "    ax.imshow(tile, **kwargs)\n",
    "    plt.tight_layout()\n",
    "    ax.set_axis_off()\n",
    "    plt.show()\n",
    "    \n",
    "show_tile(HE_20x_tile)"
   ],
   "metadata": {
    "collapsed": false,
    "ExecuteTime": {
     "start_time": "2024-01-19T16:12:55.748070400Z"
    }
   },
   "id": "39fe610d80d9547e",
   "execution_count": null
  },
  {
   "cell_type": "code",
   "outputs": [],
   "source": [
    "# https://stackoverflow.com/questions/71027729/finding-optimal-nearest-neighbour-pairs\n",
    "\n",
    "# match closest pairs of coordinates in two sets of x,y coordinates\n",
    "\n",
    "from sklearn.neighbors import NearestNeighbors\n",
    "from scipy.sparse import csr_matrix, csgraph\n",
    "\n",
    "def colocalize_points(points_a: np.ndarray, points_b: np.ndarray, r: int):\n",
    "    \"\"\" Find pairs that minimize global distance. Filters out anything outside radius `r` \"\"\"\n",
    "\n",
    "    neigh = NearestNeighbors(n_neighbors=1)\n",
    "    neigh.fit(points_b)\n",
    "    distances, b_indices = neigh.radius_neighbors(points_a, radius=r)\n",
    "\n",
    "    # flatten and get indices for A. This will also drop points in A with no matches in range\n",
    "    d_flat = np.hstack(distances) + 1\n",
    "    b_flat = np.hstack(b_indices)\n",
    "    a_flat = np.array([i for i, neighbors in enumerate(distances) for n in neighbors])\n",
    "\n",
    "    # filter out A points that cannot be matched\n",
    "    sm = csr_matrix((d_flat, (a_flat, b_flat)))\n",
    "    a_matchable = csgraph.maximum_bipartite_matching(sm, perm_type='column')\n",
    "    sm_filtered = sm[a_matchable != -1]\n",
    "\n",
    "    # now run the distance minimizing matching\n",
    "    row_match, col_match = csgraph.min_weight_full_bipartite_matching(sm_filtered)\n",
    "    return row_match, col_match"
   ],
   "metadata": {
    "collapsed": false,
    "ExecuteTime": {
     "start_time": "2024-01-19T16:12:55.749067Z"
    }
   },
   "id": "abe64188a26584af",
   "execution_count": null
  },
  {
   "cell_type": "code",
   "outputs": [],
   "source": [
    "geo_data = json.load(open(geojson_file))\n",
    "print(geo_data.keys())"
   ],
   "metadata": {
    "collapsed": false,
    "ExecuteTime": {
     "start_time": "2024-01-19T16:12:55.749067Z"
    }
   },
   "id": "60dea187e648ed25",
   "execution_count": null
  },
  {
   "cell_type": "code",
   "outputs": [],
   "source": [
    "centroids_ann = []\n",
    "\n",
    "for i in range(len(geo_data['features'])):\n",
    "    data = geo_data['features'][i]\n",
    "    coords = data['geometry']['coordinates'][0]\n",
    "    \n",
    "    x_cent = 0\n",
    "    y_cent = 0\n",
    "    for pair in coords:\n",
    "        x_cent += pair[1] + crop_y\n",
    "        y_cent += pair[0] + crop_x\n",
    "    x_cent /= len(coords)\n",
    "    y_cent /= len(coords)\n",
    "    \n",
    "    # print(x_cent, y_cent)\n",
    "    centroids_ann.append([x_cent, y_cent])"
   ],
   "metadata": {
    "collapsed": false,
    "ExecuteTime": {
     "start_time": "2024-01-19T16:12:55.750063600Z"
    }
   },
   "id": "18606082626c2568",
   "execution_count": null
  },
  {
   "cell_type": "code",
   "outputs": [],
   "source": [
    "segmentation_data = json.load(open(json_pth_list[ind]))\n",
    "\n",
    "centroids = [nuc['centroid'][0] for nuc in segmentation_data]\n",
    "contours = [nuc['contour'] for nuc in segmentation_data]\n",
    "print(len(centroids))\n",
    "print(len(contours))"
   ],
   "metadata": {
    "collapsed": false,
    "ExecuteTime": {
     "start_time": "2024-01-19T16:12:55.751060600Z"
    }
   },
   "id": "805a69dfa0430fde",
   "execution_count": null
  },
  {
   "cell_type": "code",
   "outputs": [],
   "source": [
    "print(centroids[:5])"
   ],
   "metadata": {
    "collapsed": false,
    "ExecuteTime": {
     "start_time": "2024-01-19T16:12:55.752057400Z"
    }
   },
   "id": "38d4c5608ad60867",
   "execution_count": null
  },
  {
   "cell_type": "code",
   "outputs": [],
   "source": [
    "centroids_ann_np = np.array(centroids_ann)\n",
    "centroids_total_np = np.array(centroids)\n",
    "\n",
    "print(len(centroids_ann_np))\n",
    "print(len(centroids_total_np))"
   ],
   "metadata": {
    "collapsed": false,
    "ExecuteTime": {
     "start_time": "2024-01-19T16:12:55.752057400Z"
    }
   },
   "id": "eac8f8532e2cf226",
   "execution_count": null
  },
  {
   "cell_type": "code",
   "outputs": [],
   "source": [
    "results = colocalize_points(centroids_ann_np, centroids_total_np, r=20)"
   ],
   "metadata": {
    "collapsed": false,
    "ExecuteTime": {
     "start_time": "2024-01-19T16:12:55.753053600Z"
    }
   },
   "id": "42de498ab7f0896b",
   "execution_count": null
  },
  {
   "cell_type": "code",
   "outputs": [],
   "source": [
    "centroids_annotated = [centroids_ann_np[i] for i in results[0]]\n",
    "centroids_all = [centroids_total_np[i] for i in results[1]]"
   ],
   "metadata": {
    "collapsed": false,
    "ExecuteTime": {
     "start_time": "2024-01-19T16:12:55.754050300Z"
    }
   },
   "id": "75668aedadf086cc",
   "execution_count": null
  },
  {
   "cell_type": "code",
   "outputs": [],
   "source": [
    "centroids_matched = [pair.tolist() for pair in centroids_all]\n",
    "\n",
    "adj_centroids_matched = [[pair[0] - crop_y, pair[1] - crop_x] for pair in centroids_matched]\n",
    "\n",
    "adj_centroids = [[pair[0] - crop_y, pair[1] - crop_x] for pair in centroids]\n",
    "centroids_in_tile_seg = [pair for pair in adj_centroids if 0 < crop_y < tile_size and 0 < crop_x < tile_size and pair not in adj_centroids_matched]\n",
    "\n",
    "indices_matched = [adj_centroids.index(pair) for pair in adj_centroids if pair in adj_centroids_matched]\n",
    "\n",
    "indices_not_matched = [adj_centroids.index(pair) for pair in adj_centroids if 0 < pair[1] < tile_size and 0 < pair[0] < tile_size and pair not in adj_centroids_matched]  # and within crop range\n",
    "\n",
    "print(len(indices_matched))\n",
    "print(len(indices_not_matched))"
   ],
   "metadata": {
    "collapsed": false,
    "ExecuteTime": {
     "start_time": "2024-01-19T16:12:55.754050300Z"
    }
   },
   "id": "c4f7f7c1f7ef8f08",
   "execution_count": null
  },
  {
   "cell_type": "code",
   "outputs": [],
   "source": [
    "def adjust_contours(contours_matched, x, y):\n",
    "\n",
    "    contours_matched_adjusted = []\n",
    "    for i in range(len(contours_matched)):\n",
    "        contour = contours_matched[i][0]\n",
    "        x_coords = contour[0]\n",
    "        y_coords = contour[1]\n",
    "        x_coords = [point-x for point in x_coords]\n",
    "        y_coords = [point-y for point in y_coords]\n",
    "        \n",
    "        shape = list(zip(x_coords, y_coords))\n",
    "        contours_matched_adjusted.append(shape)\n",
    "    \n",
    "    return contours_matched_adjusted"
   ],
   "metadata": {
    "collapsed": false,
    "ExecuteTime": {
     "start_time": "2024-01-19T16:12:55.755047200Z"
    }
   },
   "id": "d5d177f0671fd96c",
   "execution_count": null
  },
  {
   "cell_type": "code",
   "outputs": [],
   "source": [
    "contours_matched = [contours[i] for i in indices_matched]\n",
    "contours_not_matched = [contours[i] for i in indices_not_matched] \n",
    "\n",
    "contours_matched_adjusted = adjust_contours(contours_matched, crop_y, crop_x)\n",
    "contours_not_matched_adjusted = adjust_contours(contours_not_matched, crop_y, crop_x)"
   ],
   "metadata": {
    "collapsed": false,
    "ExecuteTime": {
     "start_time": "2024-01-19T16:12:55.756043700Z"
    }
   },
   "id": "710e746d5cf04311",
   "execution_count": null
  },
  {
   "cell_type": "code",
   "outputs": [],
   "source": [
    "reversed_contours = [[(y, x) for x, y in polygon] for polygon in contours_matched_adjusted]\n",
    "\n",
    "reversed_contours_negative = [[(y, x) for x, y in polygon] for polygon in contours_not_matched_adjusted]\n",
    "\n",
    "fig, ax = plt.subplots(figsize=(16, 8))\n",
    "\n",
    "# Plot the image\n",
    "ax.imshow(HE_20x_tile)\n",
    "ax.set_axis_off()\n",
    "\n",
    "# Plot each reversed polygon on the same image\n",
    "for polygon in reversed_contours:\n",
    "    x_coords, y_coords = zip(*polygon)\n",
    "    x_coords = list(x_coords) + [x_coords[0]]  # Close the polygon\n",
    "    y_coords = list(y_coords) + [y_coords[0]]  # Close the polygon\n",
    "\n",
    "    color = 'yellow'\n",
    "\n",
    "    ax.plot(x_coords, y_coords, alpha=0.3, color=color)\n",
    "    ax.fill(x_coords, y_coords, alpha=0.3, color=color)  # Fill the polygon\n",
    "    \n",
    "# Plot each reversed polygon on the same image\n",
    "for polygon in reversed_contours_negative:\n",
    "    x_coords, y_coords = zip(*polygon)\n",
    "    x_coords = list(x_coords) + [x_coords[0]]  # Close the polygon\n",
    "    y_coords = list(y_coords) + [y_coords[0]]  # Close the polygon\n",
    "\n",
    "    color = 'red'\n",
    "    \n",
    "    skip = False\n",
    "    for x in x_coords:\n",
    "        if x < 0 or x > (tile_size - 1):\n",
    "            skip = True\n",
    "            break\n",
    "    for y in y_coords:\n",
    "        if y < 0 or y > (tile_size - 1):\n",
    "            skip = True\n",
    "            break\n",
    "    \n",
    "    if not skip:\n",
    "\n",
    "        ax.plot(x_coords, y_coords, alpha=0.4, color=color)\n",
    "        ax.fill(x_coords, y_coords, alpha=0.4, color=color)  # Fill the polygon\n",
    "\n",
    "# Set labels and title for the plot\n",
    "ax.set_xlabel('X-axis')\n",
    "ax.set_ylabel('Y-axis')\n",
    "ax.set_title('Qupath selected nuclei vs unselected')\n",
    "\n",
    "plt.show()"
   ],
   "metadata": {
    "collapsed": false,
    "ExecuteTime": {
     "start_time": "2024-01-19T16:12:55.757040300Z"
    }
   },
   "id": "e776b4673b1b2122",
   "execution_count": null
  },
  {
   "cell_type": "code",
   "outputs": [],
   "source": [
    "# trying to get intensity inside those pixels now:\n",
    "\n",
    "len(contours_matched)"
   ],
   "metadata": {
    "collapsed": false,
    "ExecuteTime": {
     "start_time": "2024-01-19T16:12:55.757040300Z"
    }
   },
   "id": "b5db557fe9ee7c26",
   "execution_count": null
  },
  {
   "cell_type": "code",
   "outputs": [],
   "source": [
    "import cv2"
   ],
   "metadata": {
    "collapsed": false,
    "ExecuteTime": {
     "start_time": "2024-01-19T16:12:55.758037Z"
    }
   },
   "id": "b010e5c6da87a0b4",
   "execution_count": null
  },
  {
   "cell_type": "code",
   "outputs": [],
   "source": [
    "np.max(np.array(HE_20x_tile, dtype=np.uint8))"
   ],
   "metadata": {
    "collapsed": false,
    "ExecuteTime": {
     "start_time": "2024-01-19T16:12:55.758037Z"
    }
   },
   "id": "d05a3bbcbf87c98e",
   "execution_count": null
  },
  {
   "cell_type": "code",
   "outputs": [],
   "source": [
    "print(len(contours))"
   ],
   "metadata": {
    "collapsed": false,
    "ExecuteTime": {
     "start_time": "2024-01-19T16:12:55.759033600Z"
    }
   },
   "id": "5bce2cd0cdc2dfa8",
   "execution_count": null
  },
  {
   "cell_type": "code",
   "outputs": [],
   "source": [
    "contours_fixed = []\n",
    "for polygon in contours:\n",
    "    coords = np.array([list(zip(x,y)) for x,y in [polygon[0]]][0], dtype=np.float32)\n",
    "    contours_fixed.append(coords)\n",
    "    \n",
    "contours_fixed = np.array(contours_fixed)"
   ],
   "metadata": {
    "collapsed": false,
    "ExecuteTime": {
     "start_time": "2024-01-19T16:12:55.760030400Z"
    }
   },
   "id": "4ee0491c44b46461",
   "execution_count": null
  },
  {
   "cell_type": "code",
   "outputs": [],
   "source": [
    "print(len(contours_fixed))\n",
    "print(contours_fixed[0])"
   ],
   "metadata": {
    "collapsed": false,
    "ExecuteTime": {
     "start_time": "2024-01-19T16:12:55.760030400Z"
    }
   },
   "id": "aeefc757ea6c266c",
   "execution_count": null
  },
  {
   "cell_type": "code",
   "outputs": [],
   "source": [
    "height, width, _ = np.shape(HE_20x_tile)\n",
    "mask = np.zeros((height, width), dtype=np.uint8)\n",
    "\n",
    "# Draw contours on the single-channel mask\n",
    "cv2.drawContours(mask, contours_fixed[0], 0, (255), thickness=cv2.FILLED)"
   ],
   "metadata": {
    "collapsed": false,
    "ExecuteTime": {
     "start_time": "2024-01-19T16:12:55.761026900Z"
    }
   },
   "id": "93f03b060600a43f",
   "execution_count": null
  },
  {
   "cell_type": "code",
   "outputs": [],
   "source": [
    "len(contours_fixed[0])"
   ],
   "metadata": {
    "collapsed": false,
    "ExecuteTime": {
     "start_time": "2024-01-19T16:12:55.762023600Z"
    }
   },
   "id": "2d9918ec2e6a74f2",
   "execution_count": null
  },
  {
   "cell_type": "code",
   "outputs": [],
   "source": [
    "r_avg_list = []\n",
    "g_avg_list = []\n",
    "b_avg_list = []\n",
    "\n",
    "for polygon in reversed_contours:\n",
    "    contour_coordinates = np.array([[x, y] for x, y in polygon], dtype=np.float32)\n",
    "    \n",
    "    # Create a single-channel mask\n",
    "    mask = np.zeros_like(HE_20x_tile[:, :, 0], dtype=np.uint8)\n",
    "    \n",
    "    # Draw contours on the single-channel mask\n",
    "    cv2.drawContours(mask, [contour_coordinates.astype(int)], 0, (255), thickness=cv2.FILLED)\n",
    "    \n",
    "    \n",
    "    \n",
    "    r_masked = cv2.bitwise_and(HE_20x_tile[:, :, 0], HE_20x_tile[:, :, 0], mask=mask)\n",
    "    g_masked = cv2.bitwise_and(HE_20x_tile[:, :, 1], HE_20x_tile[:, :, 1], mask=mask)\n",
    "    b_masked = cv2.bitwise_and(HE_20x_tile[:, :, 2], HE_20x_tile[:, :, 2], mask=mask)\n",
    "    \n",
    "    num_pixels = np.count_nonzero(mask)\n",
    "    \n",
    "    r_avg = round(np.sum(r_masked)/num_pixels,2)\n",
    "    g_avg = round(np.sum(g_masked)/num_pixels,2)\n",
    "    b_avg = round(np.sum(b_masked)/num_pixels,2)\n",
    "    \n",
    "    r_avg_list.append(r_avg)\n",
    "    g_avg_list.append(g_avg)\n",
    "    b_avg_list.append(b_avg)"
   ],
   "metadata": {
    "collapsed": false,
    "ExecuteTime": {
     "start_time": "2024-01-19T16:12:55.762023600Z"
    }
   },
   "id": "fe527aa80f850aab",
   "execution_count": null
  },
  {
   "cell_type": "code",
   "outputs": [],
   "source": [
    "import pyclesperanto_prototype as cle"
   ],
   "metadata": {
    "collapsed": false,
    "ExecuteTime": {
     "start_time": "2024-01-19T16:12:55.763020300Z"
    }
   },
   "id": "6fbdd2aefc326c4d",
   "execution_count": null
  },
  {
   "cell_type": "code",
   "outputs": [],
   "source": [
    "intensity_map = cle.mean_intensity_map(HE_20x_tile[:, :, 0], nuclei_cy3)"
   ],
   "metadata": {
    "collapsed": false,
    "ExecuteTime": {
     "start_time": "2024-01-19T16:12:55.764016900Z"
    }
   },
   "id": "272c117e91301abc"
  },
  {
   "cell_type": "code",
   "outputs": [],
   "source": [],
   "metadata": {
    "collapsed": false,
    "ExecuteTime": {
     "start_time": "2024-01-19T16:12:55.764016900Z"
    }
   },
   "id": "b2edd78b39674b0"
  },
  {
   "cell_type": "code",
   "outputs": [],
   "source": [
    "len(r_avg_list)"
   ],
   "metadata": {
    "collapsed": false,
    "ExecuteTime": {
     "start_time": "2024-01-19T16:12:55.765013600Z"
    }
   },
   "id": "f38ec41abab606aa",
   "execution_count": null
  },
  {
   "cell_type": "code",
   "outputs": [],
   "source": [
    "plt.hist(r_avg_list, bins=range(0, 255), edgecolor='black')\n",
    "\n",
    "# Add labels and title\n",
    "plt.xlabel('Values')\n",
    "plt.ylabel('Frequency')\n",
    "plt.title('R Channel')\n",
    "\n",
    "# Display the histogram\n",
    "plt.show()"
   ],
   "metadata": {
    "collapsed": false,
    "ExecuteTime": {
     "start_time": "2024-01-19T16:12:55.765013600Z"
    }
   },
   "id": "c5f17afb3870e22e",
   "execution_count": null
  },
  {
   "cell_type": "code",
   "outputs": [],
   "source": [
    "plt.hist(g_avg_list, bins=range(0, 255), edgecolor='black')\n",
    "\n",
    "# Add labels and title\n",
    "plt.xlabel('Values')\n",
    "plt.ylabel('Frequency')\n",
    "plt.title('G Channel')\n",
    "\n",
    "# Display the histogram\n",
    "plt.show()"
   ],
   "metadata": {
    "collapsed": false,
    "ExecuteTime": {
     "start_time": "2024-01-19T16:12:55.766010200Z"
    }
   },
   "id": "bbc0deaaec95b2d5",
   "execution_count": null
  },
  {
   "cell_type": "code",
   "outputs": [],
   "source": [
    "plt.hist(b_avg_list, bins=range(0, 255), edgecolor='black')\n",
    "\n",
    "# Add labels and title\n",
    "plt.xlabel('Values')\n",
    "plt.ylabel('Frequency')\n",
    "plt.title('B Channel')\n",
    "\n",
    "# Display the histogram\n",
    "plt.show()"
   ],
   "metadata": {
    "collapsed": false,
    "ExecuteTime": {
     "start_time": "2024-01-19T16:12:55.766010200Z"
    }
   },
   "id": "ad82cda030087a2d",
   "execution_count": null
  },
  {
   "cell_type": "code",
   "outputs": [],
   "source": [
    "print(len(indices_matched))\n",
    "print(len(r_avg_list))"
   ],
   "metadata": {
    "collapsed": false,
    "ExecuteTime": {
     "start_time": "2024-01-19T16:12:55.767006900Z"
    }
   },
   "id": "e5b253c6a07eaf30",
   "execution_count": null
  },
  {
   "cell_type": "code",
   "outputs": [],
   "source": [],
   "metadata": {
    "collapsed": false,
    "ExecuteTime": {
     "start_time": "2024-01-19T16:12:55.768003600Z"
    }
   },
   "id": "a44528b736d4423c"
  },
  {
   "cell_type": "code",
   "outputs": [],
   "source": [],
   "metadata": {
    "collapsed": false,
    "ExecuteTime": {
     "start_time": "2024-01-19T16:12:55.768003600Z"
    }
   },
   "id": "ecebe9a62d90dfad"
  },
  {
   "cell_type": "code",
   "outputs": [],
   "source": [],
   "metadata": {
    "collapsed": false,
    "ExecuteTime": {
     "start_time": "2024-01-19T16:12:55.769000400Z"
    }
   },
   "id": "7348379617c198ce"
  },
  {
   "cell_type": "markdown",
   "source": [
    "Get df of features of nuc morphology"
   ],
   "metadata": {
    "collapsed": false
   },
   "id": "40aab73091b594ac"
  },
  {
   "cell_type": "code",
   "outputs": [],
   "source": [
    "import pandas as pd\n",
    "import cv2"
   ],
   "metadata": {
    "collapsed": false,
    "ExecuteTime": {
     "start_time": "2024-01-19T16:12:55.769000400Z"
    }
   },
   "id": "61ffba3b2db20ef3",
   "execution_count": null
  },
  {
   "cell_type": "code",
   "outputs": [],
   "source": [
    "# def json2df():\n",
    "def cntarea(cnt):\n",
    "    cnt = np.array(cnt).astype(np.float32)\n",
    "    area = cv2.contourArea(cnt)\n",
    "    return area\n",
    "\n",
    "def cntperi(cnt):\n",
    "    cnt = np.array(cnt).astype(np.float32)\n",
    "    perimeter = cv2.arcLength(cnt,True)\n",
    "    return perimeter\n",
    "\n",
    "def cntMA(cnt):\n",
    "    cnt = np.array(cnt).astype(np.float32)\n",
    "    #Orientation, Aspect_ratio\n",
    "    [(x,y),(MA,ma),orientation] = cv2.fitEllipse(cnt)\n",
    "    return [np.max((MA,ma)),np.min((MA,ma)),orientation]"
   ],
   "metadata": {
    "collapsed": false,
    "ExecuteTime": {
     "start_time": "2024-01-19T16:12:55.769997Z"
    }
   },
   "id": "d6d6e1cd82ebd02c",
   "execution_count": null
  },
  {
   "cell_type": "code",
   "outputs": [],
   "source": [
    "outpth = r'\\\\10.99.68.178\\andreex\\students\\Donald Monkey fetus\\BTC\\json\\features_pickle\\test.pickle'\n",
    "# print(outpth)\n",
    "\n",
    "if not os.path.exists(outpth):\n",
    "    data = segmentation_data\n",
    "\n",
    "    centroids = []\n",
    "    contours = []\n",
    "\n",
    "    for entry in data:\n",
    "        cent = entry['centroid'][0]\n",
    "        centroids.append(cent)\n",
    "        c = entry['contour'][0]\n",
    "        contour = []\n",
    "        for j in range(len(c[0])):\n",
    "            point = [c[0][j], c[1][j]]\n",
    "            contour.append(point)\n",
    "        contours.append(contour)\n",
    "\n",
    "    centroids = np.array(centroids)\n",
    "    contours = np.array(contours)\n",
    "\n",
    "    if len(centroids) == 0:\n",
    "        print(f'Skipping')\n",
    "    else:\n",
    "\n",
    "        areas = []\n",
    "        perimeters = []\n",
    "        circularities = []\n",
    "        aspect_ratios = []\n",
    "        image_ids = []\n",
    "        classes = []\n",
    "\n",
    "        compactness_a, eccentricity_a, euler_number_a, extent_a, form_factor_a, maximum_radius_a, mean_radius_a, median_radius_a, minor_axis_length_a, orientation_degrees_a = [], [], [], [], [], [], [], [], [], []\n",
    "\n",
    "        for j, centroid in enumerate(centroids):\n",
    "            contour = contours[j]\n",
    "            area = cntarea(contour)\n",
    "            perimeter = cntperi(contour)\n",
    "            circularity = 4 * np.pi * area / perimeter ** 2\n",
    "            MA = cntMA(contour)\n",
    "            [MA, ma, orientation] = MA\n",
    "            aspect_ratio = MA / ma\n",
    "            center_x = centroid[0]\n",
    "            center_y = centroid[1]\n",
    "\n",
    "            # Additional features\n",
    "            compactness = perimeter ** 2 / area\n",
    "            eccentricity = np.sqrt(1 - (ma / MA) ** 2)\n",
    "            extent = area / (MA * ma)\n",
    "            form_factor = (perimeter ** 2) / (4 * np.pi * area)\n",
    "            major_axis_length = MA\n",
    "            maximum_radius = np.max(np.linalg.norm(contour - centroid, axis=1))\n",
    "            mean_radius = np.mean(np.linalg.norm(contour - centroid, axis=1))\n",
    "            median_radius = np.median(np.linalg.norm(contour - centroid, axis=1))\n",
    "            minor_axis_length = ma\n",
    "            orientation_degrees = np.degrees(orientation)\n",
    "\n",
    "            areas.append(area)\n",
    "            perimeters.append(perimeter)\n",
    "            circularities.append(circularity)\n",
    "            aspect_ratios.append(aspect_ratio)\n",
    "\n",
    "            # additional features\n",
    "            compactness_a.append(compactness)\n",
    "            eccentricity_a.append(eccentricity)\n",
    "            extent_a.append(extent)\n",
    "            form_factor_a.append(form_factor)\n",
    "            maximum_radius_a.append(maximum_radius)\n",
    "            mean_radius_a.append(mean_radius)\n",
    "            median_radius_a.append(median_radius)\n",
    "            minor_axis_length_a.append(minor_axis_length)\n",
    "            orientation_degrees_a.append(orientation_degrees)\n",
    "\n",
    "        dat = {\n",
    "            'Centroid_x': centroids[:,0],\n",
    "            'Centroid_y': centroids[:,1],\n",
    "            'Area': areas,\n",
    "            'Perimeter': perimeters,\n",
    "            'Circularity': circularities,\n",
    "            'Aspect Ratio': aspect_ratios,\n",
    "            'compactness' : compactness_a,\n",
    "            'eccentricity' : eccentricity_a,\n",
    "            'extent' : extent_a,\n",
    "            'form_factor' : form_factor_a,\n",
    "            'maximum_radius' : maximum_radius_a,\n",
    "            'mean_radius' : mean_radius_a,\n",
    "            'median_radius' : median_radius_a,\n",
    "            'minor_axis_length' : minor_axis_length_a,\n",
    "            'orientation_degrees' : orientation_degrees_a,\n",
    "        }\n",
    "\n",
    "        df = pd.DataFrame(dat)\n",
    "\n",
    "        # df.to_pickle(outpth)"
   ],
   "metadata": {
    "collapsed": false,
    "ExecuteTime": {
     "start_time": "2024-01-19T16:12:55.770993700Z"
    }
   },
   "id": "2af7cdb591d17796",
   "execution_count": null
  },
  {
   "cell_type": "code",
   "outputs": [],
   "source": [
    "df.head()"
   ],
   "metadata": {
    "collapsed": false,
    "ExecuteTime": {
     "start_time": "2024-01-19T16:12:55.770993700Z"
    }
   },
   "id": "568928687c9bc7be",
   "execution_count": null
  },
  {
   "cell_type": "code",
   "outputs": [],
   "source": [
    "len(df)"
   ],
   "metadata": {
    "collapsed": false,
    "ExecuteTime": {
     "start_time": "2024-01-19T16:12:55.771990400Z"
    }
   },
   "id": "baf6c9b3a7e944b0",
   "execution_count": null
  },
  {
   "cell_type": "code",
   "outputs": [],
   "source": [
    "features_df = df[[\n",
    "            'Area',\n",
    "            'Perimeter',\n",
    "            #'Circularity',\n",
    "            'Aspect Ratio',\n",
    "            'compactness',\n",
    "            #'eccentricity',\n",
    "            'extent',\n",
    "            'form_factor',\n",
    "            'maximum_radius'\n",
    "            #'mean_radius',\n",
    "            #'median_radius',\n",
    "            #'minor_axis_length'\n",
    "            #'orientation_degrees'\n",
    "]]\n",
    "features_df.head()"
   ],
   "metadata": {
    "collapsed": false,
    "ExecuteTime": {
     "start_time": "2024-01-19T16:12:55.772987Z"
    }
   },
   "id": "17a29fe7db3d0605",
   "execution_count": null
  },
  {
   "cell_type": "code",
   "outputs": [],
   "source": [
    "# I want to separate df by nuc that I annotated vs nuc that I didn't annotate:\n",
    "features_df_matched = features_df.loc[df.index.isin(indices_matched)]\n",
    "features_df_others = features_df.loc[~df.index.isin(indices_matched)]\n",
    "\n",
    "print(len(features_df_matched))\n",
    "print(len(features_df_others))"
   ],
   "metadata": {
    "collapsed": false,
    "ExecuteTime": {
     "start_time": "2024-01-19T16:12:55.772987Z"
    }
   },
   "id": "98d396ddc2a8a972",
   "execution_count": null
  },
  {
   "cell_type": "code",
   "outputs": [],
   "source": [
    "# now I'll just add them to the end of this subsampled df so that I still know their indicies\n",
    "sample_features_df = features_df_others.sample(frac=0.2)\n",
    "len_sample = len(sample_features_df)\n",
    "print(len_sample)\n",
    "\n",
    "sample_features_df\n",
    "\n",
    "# Get the remaining 80% of the data\n",
    "remaining_features_df = features_df_others.drop(sample_features_df.index)"
   ],
   "metadata": {
    "collapsed": false,
    "ExecuteTime": {
     "start_time": "2024-01-19T16:12:55.773983600Z"
    }
   },
   "id": "771ec0b0a7ebd36c",
   "execution_count": null
  },
  {
   "cell_type": "code",
   "outputs": [],
   "source": [
    "combined_df = pd.concat([sample_features_df, features_df_matched], axis=0)\n",
    "print(len(combined_df))"
   ],
   "metadata": {
    "collapsed": false,
    "ExecuteTime": {
     "start_time": "2024-01-19T16:12:55.773983600Z"
    }
   },
   "id": "8618a8676357061b",
   "execution_count": null
  },
  {
   "cell_type": "code",
   "outputs": [],
   "source": [
    "sample_features_df.head()"
   ],
   "metadata": {
    "collapsed": false,
    "ExecuteTime": {
     "start_time": "2024-01-19T16:12:55.774980300Z"
    }
   },
   "id": "13d99d2a2679b045",
   "execution_count": null
  },
  {
   "cell_type": "code",
   "outputs": [],
   "source": [
    "combined_df.head()"
   ],
   "metadata": {
    "collapsed": false,
    "ExecuteTime": {
     "start_time": "2024-01-19T16:12:55.775977Z"
    }
   },
   "id": "bd2e59b84f364f4c",
   "execution_count": null
  },
  {
   "cell_type": "code",
   "outputs": [],
   "source": [
    "indices = range(len_sample,len(combined_df))\n",
    "print(indices)"
   ],
   "metadata": {
    "collapsed": false,
    "ExecuteTime": {
     "start_time": "2024-01-19T16:12:55.775977Z"
    }
   },
   "id": "257663d94a5d2960",
   "execution_count": null
  },
  {
   "cell_type": "code",
   "outputs": [],
   "source": [
    "import pandas as pd\n",
    "\n",
    "# Assuming 'combined_df' is a DataFrame containing your data\n",
    "\n",
    "# Get the list of features from combined_df\n",
    "features = combined_df.columns\n",
    "\n",
    "quantiles_5_to_95 = combined_df[features].iloc[indices].quantile([0.05, 0.95])\n",
    "\n",
    "# Print or use the quantiles as needed\n",
    "print(\"10% to 90% Quantiles:\")\n",
    "print(quantiles_5_to_95)\n"
   ],
   "metadata": {
    "collapsed": false,
    "ExecuteTime": {
     "start_time": "2024-01-19T16:12:55.776973500Z"
    }
   },
   "id": "303711c18f1cdd0b",
   "execution_count": null
  },
  {
   "cell_type": "code",
   "outputs": [],
   "source": [
    "# Get the list of features from combined_df\n",
    "features = combined_df.columns\n",
    "\n",
    "# Set up subplots\n",
    "num_features = len(features)\n",
    "num_cols = 3  # You can adjust the number of columns based on your preference\n",
    "num_rows = (num_features + num_cols - 1) // num_cols\n",
    "\n",
    "features = combined_df.columns\n",
    "\n",
    "# Set up subplots\n",
    "num_features = len(features)\n",
    "num_cols = 3  # You can adjust the number of columns based on your preference\n",
    "num_rows = (num_features + num_cols - 1) // num_cols\n",
    "\n",
    "fig, axes = plt.subplots(num_rows, num_cols, figsize=(15, 5*num_rows))\n",
    "\n",
    "# Iterate through each feature and create a scatter plot\n",
    "for i, feature in enumerate(features):\n",
    "    ax = axes[i // num_cols, i % num_cols]\n",
    "    \n",
    "    # Define colors and sizes based on indices\n",
    "    colors = ['red' if j in indices else 'blue' for j in range(len(combined_df))]\n",
    "    sizes = [25 if j in indices else 1 for j in range(len(combined_df))]\n",
    "    \n",
    "    # Plot the scatter plot for the current feature\n",
    "    scatter = ax.scatter(combined_df[feature], combined_df[feature], c=colors, s=sizes)\n",
    "    ax.set_title(f'Scatter plot for {feature}')\n",
    "    ax.set_xlabel(feature)\n",
    "    ax.set_ylabel(feature)\n",
    "    \n",
    "    # Add legend for clarity\n",
    "    if i == 0:\n",
    "        ax.legend(handles=[plt.Line2D([0], [0], marker='o', color='w', markerfacecolor='red', markersize=10, label='Specified Indices')],\n",
    "                  loc='upper right')\n",
    "\n",
    "# Adjust layout\n",
    "plt.tight_layout()\n",
    "plt.show()"
   ],
   "metadata": {
    "collapsed": false,
    "ExecuteTime": {
     "start_time": "2024-01-19T16:12:55.776973500Z"
    }
   },
   "id": "a1f9235dc183eb3a",
   "execution_count": null
  },
  {
   "cell_type": "code",
   "outputs": [],
   "source": [
    "y_train = [1 if i in indices else 0 for i in range(len(combined_df))]"
   ],
   "metadata": {
    "collapsed": false,
    "ExecuteTime": {
     "start_time": "2024-01-19T16:12:55.777970300Z"
    }
   },
   "id": "8709216488d859ee",
   "execution_count": null
  },
  {
   "cell_type": "code",
   "outputs": [],
   "source": [
    "import umap  # https://umap.scikit-tda.org/transform.html\n",
    "import matplotlib.pyplot as plt\n",
    "\n",
    "trans = umap.UMAP(n_components=2, random_state=42).fit(combined_df)"
   ],
   "metadata": {
    "collapsed": false,
    "ExecuteTime": {
     "start_time": "2024-01-19T16:12:55.777970300Z"
    }
   },
   "id": "cfad929c9b5d18e4",
   "execution_count": null
  },
  {
   "cell_type": "code",
   "outputs": [],
   "source": [
    "plt.scatter(trans.embedding_[:, 0], trans.embedding_[:, 1], s= 5, c=y_train)\n",
    "plt.title('Embedding of the training set by UMAP', fontsize=12);"
   ],
   "metadata": {
    "collapsed": false,
    "ExecuteTime": {
     "start_time": "2024-01-19T16:12:55.778967Z"
    }
   },
   "id": "f914e6528fbf8cf3",
   "execution_count": null
  },
  {
   "cell_type": "code",
   "outputs": [],
   "source": [
    "transformed_rest_df = trans.transform(remaining_features_df)"
   ],
   "metadata": {
    "collapsed": false,
    "ExecuteTime": {
     "start_time": "2024-01-19T16:12:55.779963900Z"
    }
   },
   "id": "73ff3dd1fcddd837",
   "execution_count": null
  },
  {
   "cell_type": "code",
   "outputs": [],
   "source": [
    "from sklearn.cluster import KMeans\n",
    "\n",
    "# Apply K-means clustering with 3 clusters\n",
    "kmeans_model = KMeans(n_clusters=5)\n",
    "clusters = kmeans_model.fit_predict(trans.embedding_)"
   ],
   "metadata": {
    "collapsed": false,
    "ExecuteTime": {
     "start_time": "2024-01-19T16:12:55.779963900Z"
    }
   },
   "id": "5799947d22404565",
   "execution_count": null
  },
  {
   "cell_type": "code",
   "outputs": [],
   "source": [
    "# Define colors and sizes based on cluster labels\n",
    "colors = ['red' if cluster == 0 else 'blue' if cluster == 1 else 'green' for cluster in clusters]\n",
    "colors = ['red' if cluster == 0 else 'blue' if cluster == 1 else 'green' if cluster == 2 else 'yellow' if cluster == 3 else 'orange' for cluster in clusters]\n",
    "sizes = [25 for _ in range(len(combined_df))]  # Adjust the size if needed\n",
    "\n",
    "# Plot the transformed features using UMAP with different colors and sizes for clusters\n",
    "scatter = plt.scatter(trans.embedding_[:, 0], trans.embedding_[:, 1], c=colors, s=sizes)\n",
    "plt.xlabel('UMAP Component 1')\n",
    "plt.ylabel('UMAP Component 2')\n",
    "plt.title('UMAP Plot with K-means Clustering')\n",
    "\n",
    "# Add a legend for clarity\n",
    "plt.legend(handles=[plt.Line2D([0], [0], marker='o', color='w', markerfacecolor='red', markersize=10, label='Cluster 0'),\n",
    "                    plt.Line2D([0], [0], marker='o', color='w', markerfacecolor='blue', markersize=10, label='Cluster 1'),\n",
    "                    plt.Line2D([0], [0], marker='o', color='w', markerfacecolor='green', markersize=10, label='Cluster 2'),\n",
    "                    plt.Line2D([0], [0], marker='o', color='w', markerfacecolor='yellow', markersize=10, label='Cluster 3'), \n",
    "                    plt.Line2D([0], [0], marker='o', color='w', markerfacecolor='orange', markersize=10, label='Cluster 4')],\n",
    "           loc='upper right')\n",
    "\n",
    "plt.show()"
   ],
   "metadata": {
    "collapsed": false,
    "ExecuteTime": {
     "start_time": "2024-01-19T16:12:55.780960300Z"
    }
   },
   "id": "97175b44e9a27bb6",
   "execution_count": null
  },
  {
   "cell_type": "code",
   "outputs": [],
   "source": [
    "predictions = kmeans_model.predict(transformed_rest_df)"
   ],
   "metadata": {
    "collapsed": false,
    "ExecuteTime": {
     "start_time": "2024-01-19T16:12:55.780960300Z"
    }
   },
   "id": "2e210b6cee8735e0",
   "execution_count": null
  },
  {
   "cell_type": "code",
   "outputs": [],
   "source": [
    "print(f'0: {sum(predictions == 0)}')\n",
    "print(f'1: {sum(predictions == 1)}')\n",
    "print(f'2: {sum(predictions == 2)}')\n",
    "print(f'2: {sum(predictions == 3)}')\n",
    "print(f'2: {sum(predictions == 4)}')"
   ],
   "metadata": {
    "collapsed": false,
    "ExecuteTime": {
     "start_time": "2024-01-19T16:12:55.781957Z"
    }
   },
   "id": "7ea18ce2ac1f1911",
   "execution_count": null
  },
  {
   "cell_type": "code",
   "outputs": [],
   "source": [
    "indices_cluster_0 = (predictions == 0).nonzero()[0]\n",
    "print(len(indices_cluster_0))"
   ],
   "metadata": {
    "collapsed": false,
    "ExecuteTime": {
     "start_time": "2024-01-19T16:12:55.782953700Z"
    }
   },
   "id": "d0f2cd583c71318b",
   "execution_count": null
  },
  {
   "cell_type": "code",
   "outputs": [],
   "source": [
    "predictions[:10]"
   ],
   "metadata": {
    "collapsed": false,
    "ExecuteTime": {
     "start_time": "2024-01-19T16:12:55.782953700Z"
    }
   },
   "id": "82ece4caf830c7c7",
   "execution_count": null
  },
  {
   "cell_type": "code",
   "outputs": [],
   "source": [
    "indices_cluster_0[:5]"
   ],
   "metadata": {
    "collapsed": false,
    "ExecuteTime": {
     "start_time": "2024-01-19T16:12:55.783950400Z"
    }
   },
   "id": "7d439365e08d4657",
   "execution_count": null
  },
  {
   "cell_type": "code",
   "outputs": [],
   "source": [
    "len(predictions)"
   ],
   "metadata": {
    "collapsed": false,
    "ExecuteTime": {
     "start_time": "2024-01-19T16:12:55.784947Z"
    }
   },
   "id": "5995e1183affb260",
   "execution_count": null
  },
  {
   "cell_type": "code",
   "outputs": [],
   "source": [
    "contours_new = [i for i in range(len(contours)) if i not in sample_features_df.index]\n",
    "print(len(contours_new))\n",
    "\n",
    "contours_new = contours[contours_new]"
   ],
   "metadata": {
    "collapsed": false,
    "ExecuteTime": {
     "start_time": "2024-01-19T16:12:55.784947Z"
    }
   },
   "id": "e77193d67c79fa46",
   "execution_count": null
  },
  {
   "cell_type": "code",
   "outputs": [],
   "source": [
    "contours_new[:5]"
   ],
   "metadata": {
    "collapsed": false,
    "ExecuteTime": {
     "start_time": "2024-01-19T16:12:55.785943600Z"
    }
   },
   "id": "d7477d2ddacea09d",
   "execution_count": null
  },
  {
   "cell_type": "code",
   "outputs": [],
   "source": [
    "good_contours = contours_new[indices_cluster_0]"
   ],
   "metadata": {
    "collapsed": false,
    "ExecuteTime": {
     "start_time": "2024-01-19T16:12:55.786940400Z"
    }
   },
   "id": "7f9a692a759fc928",
   "execution_count": null
  },
  {
   "cell_type": "code",
   "outputs": [],
   "source": [
    "GEOdata = []\n",
    "\n",
    "for contour in good_contours:\n",
    "    contour = [[coord for coord in xy[::-1]] for xy in contour]  # Convert coordinates to integers\n",
    "    contour.append(contour[0]) # stardist doesn't close the circle, needed for qupath\n",
    "\n",
    "    # Create a new dictionary for each contour\n",
    "    dict_data = {\n",
    "        \"type\": \"Feature\",\n",
    "        \"id\": \"PathCellObject\",\n",
    "        \"geometry\": {\n",
    "            \"type\": \"Polygon\",\n",
    "            \"coordinates\": [contour]\n",
    "        },\n",
    "        \"properties\": {\n",
    "            'objectType': 'annotation',\n",
    "            'classification': {'name': 'Nuclei', 'color': [97, 214, 59]}\n",
    "        }\n",
    "    }\n",
    "\n",
    "    GEOdata.append(dict_data)"
   ],
   "metadata": {
    "collapsed": false,
    "ExecuteTime": {
     "start_time": "2024-01-19T16:12:55.786940400Z"
    }
   },
   "id": "487d2e4c2d971df9",
   "execution_count": null
  },
  {
   "cell_type": "code",
   "outputs": [],
   "source": [
    "import geojson\n",
    "\n",
    "outpth = r'\\\\10.99.68.178\\andreex\\students\\Donald Monkey fetus\\BTC\\test_immune_cells\\cancer.geojson'\n",
    "\n",
    "with open(outpth,'w') as outfile:\n",
    "    geojson.dump(GEOdata,outfile)\n",
    "print('Finished')"
   ],
   "metadata": {
    "collapsed": false,
    "ExecuteTime": {
     "start_time": "2024-01-19T16:12:55.787937Z"
    }
   },
   "id": "a6d050f5c8fec295",
   "execution_count": null
  },
  {
   "cell_type": "code",
   "outputs": [],
   "source": [],
   "metadata": {
    "collapsed": false,
    "ExecuteTime": {
     "start_time": "2024-01-19T16:12:55.788933600Z"
    }
   },
   "id": "6ace05efcbdef19a"
  },
  {
   "cell_type": "code",
   "outputs": [],
   "source": [],
   "metadata": {
    "collapsed": false,
    "ExecuteTime": {
     "start_time": "2024-01-19T16:12:55.789930300Z"
    }
   },
   "id": "8c72fa7d2bcf40ba"
  },
  {
   "cell_type": "code",
   "outputs": [],
   "source": [],
   "metadata": {
    "collapsed": false,
    "ExecuteTime": {
     "start_time": "2024-01-19T16:12:55.789930300Z"
    }
   },
   "id": "f94c36ea9d947ea6"
  },
  {
   "cell_type": "code",
   "outputs": [],
   "source": [],
   "metadata": {
    "collapsed": false,
    "ExecuteTime": {
     "start_time": "2024-01-19T16:12:55.790927Z"
    }
   },
   "id": "dcaba76ff4b5c3a0"
  },
  {
   "cell_type": "code",
   "outputs": [],
   "source": [
    "import umap  # https://umap.scikit-tda.org/transform.html\n",
    "import matplotlib.pyplot as plt\n",
    "\n",
    "# Create UMAP model with 2 components\n",
    "umap_model = umap.UMAP(n_components=2)\n",
    "transformed_features_umap = umap_model.fit_transform(combined_df)\n",
    "\n",
    "# Define colors and sizes based on indices\n",
    "colors = ['red' if i in indices else 'blue' for i in range(len(combined_df))]\n",
    "sizes = [25 if i in indices else 1 for i in range(len(combined_df))]\n",
    "\n",
    "# Plot the transformed features using UMAP with different colors and sizes for specified indices\n",
    "scatter = plt.scatter(transformed_features_umap[:, 0], transformed_features_umap[:, 1], c=colors, s=sizes)\n",
    "plt.xlabel('UMAP Component 1')\n",
    "plt.ylabel('UMAP Component 2')\n",
    "plt.title('UMAP Plot')\n",
    "\n",
    "# Add a legend for clarity\n",
    "plt.legend(handles=[plt.Line2D([0], [0], marker='o', color='w', markerfacecolor='red', markersize=10, label='Specified Indices')],\n",
    "           loc='upper right')\n",
    "\n",
    "plt.show()\n",
    "\n"
   ],
   "metadata": {
    "collapsed": false,
    "ExecuteTime": {
     "start_time": "2024-01-19T16:12:55.791923700Z"
    }
   },
   "id": "9a82e9e4504e7ec0",
   "execution_count": null
  },
  {
   "cell_type": "code",
   "outputs": [],
   "source": [
    "from sklearn.cluster import KMeans\n",
    "\n",
    "# Apply K-means clustering with 3 clusters\n",
    "kmeans_model = KMeans(n_clusters=3)\n",
    "clusters = kmeans_model.fit_predict(transformed_features_umap)\n",
    "\n",
    "# Define colors and sizes based on cluster labels\n",
    "colors = ['red' if cluster == 0 else 'blue' if cluster == 1 else 'green' for cluster in clusters]\n",
    "sizes = [25 for _ in range(len(combined_df))]  # Adjust the size if needed\n",
    "\n",
    "# Plot the transformed features using UMAP with different colors and sizes for clusters\n",
    "scatter = plt.scatter(transformed_features_umap[:, 0], transformed_features_umap[:, 1], c=colors, s=sizes)\n",
    "plt.xlabel('UMAP Component 1')\n",
    "plt.ylabel('UMAP Component 2')\n",
    "plt.title('UMAP Plot with K-means Clustering')\n",
    "\n",
    "# Add a legend for clarity\n",
    "plt.legend(handles=[plt.Line2D([0], [0], marker='o', color='w', markerfacecolor='red', markersize=10, label='Cluster 0'),\n",
    "                    plt.Line2D([0], [0], marker='o', color='w', markerfacecolor='blue', markersize=10, label='Cluster 1'),\n",
    "                    plt.Line2D([0], [0], marker='o', color='w', markerfacecolor='green', markersize=10, label='Cluster 2')],\n",
    "           loc='upper right')\n",
    "\n",
    "plt.show()"
   ],
   "metadata": {
    "collapsed": false,
    "ExecuteTime": {
     "start_time": "2024-01-19T16:12:55.791923700Z"
    }
   },
   "id": "93e8a1054d7c7ef8",
   "execution_count": null
  },
  {
   "cell_type": "code",
   "outputs": [],
   "source": [
    "cluster_0_indices = [index for index, cluster_label in enumerate(clusters) if cluster_label == 0]\n",
    "\n",
    "# Display the indices of Cluster 0\n",
    "print(\"Indices of Cluster 0:\", len(cluster_0_indices))"
   ],
   "metadata": {
    "collapsed": false,
    "ExecuteTime": {
     "start_time": "2024-01-19T16:12:55.792920300Z"
    }
   },
   "id": "a8e7d72785db86cd",
   "execution_count": null
  },
  {
   "cell_type": "code",
   "outputs": [],
   "source": [],
   "metadata": {
    "collapsed": false,
    "ExecuteTime": {
     "start_time": "2024-01-19T16:12:55.792920300Z"
    }
   },
   "id": "89eb9a9af6396595"
  },
  {
   "cell_type": "code",
   "outputs": [],
   "source": [
    "# trying brute force approach\n",
    "\n",
    "q_Area = [64.844785,127.798974]\n",
    "q_Perimeter = [31.110758,42.056153]\n",
    "q_Aspect_Ratio = [1.064367,1.577907]\n",
    "q_compactness = [13.068521,15.302649]\n",
    "q_extent = [0.757991,0.777657]\n",
    "q_form_factor = [1.039960,1.217746]\n",
    "q_maximum_radius = [5.620915,8.921496]\n",
    "\n",
    "mask_Area = (features_df['Area'] >= q_Area[0]) & (features_df['Area'] <= q_Area[1])\n",
    "mask_Perimeter = (features_df['Perimeter'] >= q_Perimeter[0]) & (features_df['Perimeter'] <= q_Perimeter[1])\n",
    "mask_Aspect_Ratio = (features_df['Aspect Ratio'] >= q_Aspect_Ratio[0]) & (features_df['Aspect Ratio'] <= q_Aspect_Ratio[1])\n",
    "mask_compactness = (features_df['compactness'] >= q_compactness[0]) & (features_df['compactness'] <= q_compactness[1])\n",
    "mask_extent = (features_df['extent'] >= q_extent[0]) & (features_df['extent'] <= q_extent[1])\n",
    "mask_form_factor = (features_df['form_factor'] >= q_form_factor[0]) & (features_df['form_factor'] <= q_form_factor[1])\n",
    "mask_maximum_radius = (features_df['maximum_radius'] >= q_maximum_radius[0]) & (features_df['maximum_radius'] <= q_maximum_radius[1])\n",
    "\n",
    "# Apply the masks to filter the DataFrame\n",
    "subset_df = features_df[mask_Area & mask_Perimeter & mask_Aspect_Ratio & mask_compactness & mask_extent & mask_form_factor & mask_maximum_radius]\n",
    "\n",
    "len(subset_df)"
   ],
   "metadata": {
    "collapsed": false,
    "ExecuteTime": {
     "start_time": "2024-01-19T16:12:55.793916800Z"
    }
   },
   "id": "4088f717f2e1c28b",
   "execution_count": null
  },
  {
   "cell_type": "code",
   "outputs": [],
   "source": [
    "good_indices = subset_df.index\n",
    "good_indices[-5:]"
   ],
   "metadata": {
    "collapsed": false,
    "ExecuteTime": {
     "start_time": "2024-01-19T16:12:55.794913900Z"
    }
   },
   "id": "1f3123943b756618",
   "execution_count": null
  },
  {
   "cell_type": "code",
   "outputs": [],
   "source": [
    "good_contours = contours[good_indices]"
   ],
   "metadata": {
    "collapsed": false,
    "ExecuteTime": {
     "start_time": "2024-01-19T16:12:55.794913900Z"
    }
   },
   "id": "b78d16f1091c70fc",
   "execution_count": null
  },
  {
   "cell_type": "code",
   "outputs": [],
   "source": [
    "GEOdata = []\n",
    "\n",
    "for contour in good_contours:\n",
    "    contour = [[coord for coord in xy[::-1]] for xy in contour]  # Convert coordinates to integers\n",
    "    contour.append(contour[0]) # stardist doesn't close the circle, needed for qupath\n",
    "\n",
    "    # Create a new dictionary for each contour\n",
    "    dict_data = {\n",
    "        \"type\": \"Feature\",\n",
    "        \"id\": \"PathCellObject\",\n",
    "        \"geometry\": {\n",
    "            \"type\": \"Polygon\",\n",
    "            \"coordinates\": [contour]\n",
    "        },\n",
    "        \"properties\": {\n",
    "            'objectType': 'annotation',\n",
    "            'classification': {'name': 'Nuclei', 'color': [97, 214, 59]}\n",
    "        }\n",
    "    }\n",
    "\n",
    "    GEOdata.append(dict_data)"
   ],
   "metadata": {
    "collapsed": false,
    "ExecuteTime": {
     "start_time": "2024-01-19T16:12:55.795910700Z"
    }
   },
   "id": "23d6e407ba6021b4",
   "execution_count": null
  },
  {
   "cell_type": "code",
   "outputs": [],
   "source": [
    "import geojson\n",
    "\n",
    "outpth = r'\\\\10.99.68.178\\andreex\\students\\Donald Monkey fetus\\BTC\\test_immune_cells\\test.geojson'\n",
    "\n",
    "with open(outpth,'w') as outfile:\n",
    "    geojson.dump(GEOdata,outfile)\n",
    "print('Finished')"
   ],
   "metadata": {
    "collapsed": false,
    "ExecuteTime": {
     "start_time": "2024-01-19T16:12:55.795910700Z"
    }
   },
   "id": "4d1378833f5252c5",
   "execution_count": null
  },
  {
   "cell_type": "code",
   "outputs": [],
   "source": [],
   "metadata": {
    "collapsed": false,
    "ExecuteTime": {
     "start_time": "2024-01-19T16:12:55.796906900Z"
    }
   },
   "id": "a139787f2d9c050c"
  }
 ],
 "metadata": {
  "kernelspec": {
   "display_name": "Python 3",
   "language": "python",
   "name": "python3"
  },
  "language_info": {
   "codemirror_mode": {
    "name": "ipython",
    "version": 2
   },
   "file_extension": ".py",
   "mimetype": "text/x-python",
   "name": "python",
   "nbconvert_exporter": "python",
   "pygments_lexer": "ipython2",
   "version": "2.7.6"
  }
 },
 "nbformat": 4,
 "nbformat_minor": 5
}
