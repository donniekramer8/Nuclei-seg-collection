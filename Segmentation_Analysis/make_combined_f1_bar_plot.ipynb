{
 "cells": [
  {
   "cell_type": "code",
   "execution_count": 1,
   "metadata": {
    "collapsed": true,
    "ExecuteTime": {
     "end_time": "2023-12-13T17:46:40.075643Z",
     "start_time": "2023-12-13T17:46:37.734872200Z"
    }
   },
   "outputs": [],
   "source": [
    "from __future__ import print_function, unicode_literals, absolute_import, division\n",
    "import sys\n",
    "import numpy as np\n",
    "import matplotlib\n",
    "import json\n",
    "matplotlib.rcParams[\"image.interpolation\"] = 'nearest'\n",
    "import matplotlib.pyplot as plt\n",
    "import os\n",
    "from PIL import Image\n",
    "import tensorflow as tf\n",
    "from glob import glob\n",
    "from tqdm import tqdm\n",
    "from tifffile import imread\n",
    "import struct\n",
    "import pandas as pd\n",
    "import cv2\n",
    "from csbdeep.utils import Path, normalize\n",
    "\n",
    "from stardist import fill_label_holes, random_label_cmap, calculate_extents, gputools_available\n",
    "from stardist.models import Config2D, StarDist2D, StarDistData2D"
   ]
  },
  {
   "cell_type": "code",
   "execution_count": 2,
   "outputs": [],
   "source": [
    "def load_model(model_path: str) -> StarDist2D:\n",
    "    # Load StarDist model weights, configurations, and thresholds\n",
    "    with open(model_path + '\\\\config.json', 'r') as f:\n",
    "        config = json.load(f)\n",
    "    with open(model_path + '\\\\thresholds.json', 'r') as f:\n",
    "        thresh = json.load(f)\n",
    "    model = StarDist2D(config=Config2D(**config), basedir=model_path, name='offshoot_model')\n",
    "    model.thresholds = thresh\n",
    "    print('Overriding defaults:', model.thresholds, '\\n')\n",
    "    model.load_weights(model_path + '\\\\weights_best.h5')\n",
    "    return model"
   ],
   "metadata": {
    "collapsed": false,
    "ExecuteTime": {
     "end_time": "2023-12-13T17:46:40.117648300Z",
     "start_time": "2023-12-13T17:46:40.075021200Z"
    }
   }
  },
  {
   "cell_type": "code",
   "execution_count": null,
   "outputs": [],
   "source": [
    "model = load_model(r'\\\\10.99.68.178\\andreex\\data\\Stardist\\qupath_training_annotations\\models\\monkey_add_fallopian_test_12_7_23_lr_0.001_epochs_200_pt_40')"
   ],
   "metadata": {
    "collapsed": false,
    "is_executing": true,
    "ExecuteTime": {
     "start_time": "2023-12-13T17:46:40.089648600Z"
    }
   }
  },
  {
   "cell_type": "code",
   "execution_count": null,
   "outputs": [],
   "source": [
    "pthHE = r'\\\\10.99.68.178\\andreex\\data\\Stardist\\Testing\\monkey\\tiles'\n",
    "pthmasks = r'\\\\10.99.68.178\\andreex\\data\\Stardist\\Testing\\monkey\\qupath\\ground_truth\\masks'\n",
    "\n",
    "HE_tiles_pths = sorted(glob(os.path.join(pthHE,'*.tif')))\n",
    "mask_tiles_pths = sorted(glob(os.path.join(pthmasks,'*.tif')))\n",
    "\n",
    "# not done with all tiles yet\n",
    "#pthHE_new = r'\\\\10.99.68.178\\andreex\\data\\Stardist\\Testing\\monkey\\12_5_new_monkey_tiles'\n",
    "#pthHE_new_pths = sorted(glob(os.path.join(pthHE_new,'*.tif')))\n",
    "# = [os.path.basename(pth) for pth in pthHE_new_pths]\n",
    "#HE_tiles_pths = [name for name in HE_tiles_pths if name[58:] not in pthHE_new_names]\n",
    "\n",
    "print(len(HE_tiles_pths))"
   ],
   "metadata": {
    "collapsed": false,
    "is_executing": true
   }
  },
  {
   "cell_type": "code",
   "execution_count": null,
   "outputs": [],
   "source": [
    "HE_tiles = list(map(imread,HE_tiles_pths))\n",
    "mask_tiles = list(map(imread,mask_tiles_pths))"
   ],
   "metadata": {
    "collapsed": false,
    "is_executing": true
   }
  },
  {
   "cell_type": "code",
   "execution_count": null,
   "outputs": [],
   "source": [
    "print(len(HE_tiles))\n",
    "print(len(mask_tiles))"
   ],
   "metadata": {
    "collapsed": false,
    "is_executing": true
   }
  },
  {
   "cell_type": "code",
   "execution_count": null,
   "outputs": [],
   "source": [
    "HE_tiles_default = [normalize(x) for x in HE_tiles]  # just divide by 255 to get into (0,1) range\n",
    "mask_tiles_default = [fill_label_holes(y) for y in mask_tiles]  # fills holes in annotations if there are any\n",
    "\n",
    "HE_tiles = [x/255 for x in HE_tiles]  # just divide by 255 to get into (0,1) range\n",
    "mask_tiles = [fill_label_holes(y) for y in mask_tiles]  # fills holes in annotations if there are any"
   ],
   "metadata": {
    "collapsed": false,
    "is_executing": true
   }
  },
  {
   "cell_type": "code",
   "execution_count": null,
   "outputs": [],
   "source": [
    "mask_val_pred = [model.predict_instances(x, n_tiles=model._guess_n_tiles(x), show_tile_progress=False)[0]\n",
    "              for x in tqdm(HE_tiles)]"
   ],
   "metadata": {
    "collapsed": false,
    "is_executing": true
   }
  },
  {
   "cell_type": "code",
   "execution_count": null,
   "outputs": [],
   "source": [
    "#PLot image and label for some images - sanity check\n",
    "def show_tile_segmented(tile, segmented, **kwargs):\n",
    "    \"\"\"Plot large image at different resolutions.\"\"\"\n",
    "    fig, ax = plt.subplots(1, 2, figsize=(16/2, 8/2))\n",
    "\n",
    "    # Plot the original image on the left\n",
    "    ax[0].imshow(tile, **kwargs)\n",
    "\n",
    "    # Plot the cropped image on the right\n",
    "    ax[1].imshow(segmented, **kwargs)\n",
    "\n",
    "    ax[0].axis('off')\n",
    "    ax[1].axis('off')\n",
    "\n",
    "    plt.tight_layout()\n",
    "    plt.show()"
   ],
   "metadata": {
    "collapsed": false,
    "is_executing": true
   }
  },
  {
   "cell_type": "code",
   "execution_count": null,
   "outputs": [],
   "source": [
    "#Random color map labels\n",
    "np.random.seed(42)\n",
    "lbl_cmap = random_label_cmap()"
   ],
   "metadata": {
    "collapsed": false,
    "is_executing": true
   }
  },
  {
   "cell_type": "code",
   "execution_count": null,
   "outputs": [],
   "source": [
    "ind = 1\n",
    "\n",
    "cropped_img = HE_tiles[ind]\n",
    "cropped_lbl_gt = mask_tiles[ind]\n",
    "cropped_lbl_pred = mask_val_pred[ind]\n",
    "\n",
    "\n",
    "fig, ax = plt.subplots(1,3,figsize = (24, 8))\n",
    "ax[0].imshow(cropped_img)\n",
    "ax[0].axis('off')\n",
    "ax[0].set_title('H&E')\n",
    "\n",
    "ax[1].imshow(cropped_img)\n",
    "ax[1].imshow(cropped_lbl_gt, cmap=lbl_cmap, alpha=0.5)\n",
    "ax[1].axis('off')\n",
    "ax[1].set_title('Ground Truth')\n",
    "\n",
    "ax[2].imshow(cropped_img)\n",
    "ax[2].imshow(cropped_lbl_pred, cmap=lbl_cmap, alpha=0.5)\n",
    "ax[2].axis('off')\n",
    "ax[2].set_title('Predicted')"
   ],
   "metadata": {
    "collapsed": false,
    "is_executing": true
   }
  },
  {
   "cell_type": "code",
   "execution_count": null,
   "outputs": [],
   "source": [
    "import sys\n",
    "sys.path.insert(1, r'C:\\Users\\Donald\\PycharmProjects\\monkey_nuc_segment\\stardist\\monkey')\n",
    "from scoring_for_donald import TileSetScorer, ScoringSubroutine\n",
    "\n",
    "nms = [os.path.basename(file) for file in HE_tiles_pths]\n",
    "\n",
    "# taus = [0.1, 0.2, 0.3, 0.4, 0.5, 0.6, 0.7, 0.8, 0.9]\n",
    "taus = [0.5]\n",
    "\n",
    "scores = TileSetScorer(nms, mask_tiles, mask_val_pred, taus)"
   ],
   "metadata": {
    "collapsed": false,
    "is_executing": true
   }
  },
  {
   "cell_type": "code",
   "execution_count": null,
   "outputs": [],
   "source": [
    "scores.score_set()"
   ],
   "metadata": {
    "collapsed": false,
    "is_executing": true
   }
  },
  {
   "cell_type": "code",
   "execution_count": null,
   "outputs": [],
   "source": [
    "results = scores.score_set()\n",
    "names = results['Image']\n",
    "\n",
    "names = [name.split(\".\")[0][21:] for name in names]\n",
    "\n",
    "for i in range(len(names)):\n",
    "    #if len(names[i]) > 6:\n",
    "    names[i] = names[i][:2]\n",
    "\n",
    "f1_scores = results['F1 Score']"
   ],
   "metadata": {
    "collapsed": false,
    "is_executing": true
   }
  },
  {
   "cell_type": "code",
   "execution_count": null,
   "outputs": [],
   "source": [
    "bar_width = 0.25  # Adjust the width of each bar as needed\n",
    "index = np.arange(len(names))\n",
    "\n",
    "# Plotting the bars\n",
    "fig = plt.figure(figsize=(25, 10))\n",
    "fig.set_facecolor('white')\n",
    "\n",
    "plt.bar(index, f1_scores, color='blue', label='Newest Model')\n",
    "\n",
    "#plt.bar(index, f1_scores, color='blue', width=bar_width, label='Newest Model')\n",
    "#plt.bar(index + bar_width, f1_scores_justin, color='orange', width=bar_width, label=\"Previous model\")\n",
    "#plt.bar(index + 2 * bar_width, f1_scores_default, color='green', width=bar_width, label='Default H&E')\n",
    "\n",
    "plt.xlabel(\"Tile Name\", fontsize=20)\n",
    "plt.ylabel(\"F1 Score\", fontsize=20)\n",
    "# plt.title(\"F1 Scores in Testing Tiles (tau = 0.6)\", fontsize=28)\n",
    "plt.axhline(y=0.7, linestyle='--', color='red', label='Threshold = 0.7')\n",
    "plt.ylim(0, 1)\n",
    "plt.xticks(index + bar_width, names)  # Set x-axis labels to tile names\n",
    "plt.legend(fontsize=20)\n",
    "plt.show()"
   ],
   "metadata": {
    "collapsed": false,
    "is_executing": true
   }
  },
  {
   "cell_type": "code",
   "execution_count": null,
   "outputs": [],
   "source": [
    "results[['Image', 'F1 Score']]"
   ],
   "metadata": {
    "collapsed": false,
    "is_executing": true
   }
  },
  {
   "cell_type": "code",
   "execution_count": null,
   "outputs": [],
   "source": [
    "raw_vals = results[['Image', 'TP', 'FP', 'FN']]\n",
    "raw_vals"
   ],
   "metadata": {
    "collapsed": false,
    "is_executing": true
   }
  },
  {
   "cell_type": "code",
   "execution_count": null,
   "outputs": [],
   "source": [
    "def find_first_unique_indices(lst):\n",
    "    unique_indices = {}\n",
    "    result = []\n",
    "\n",
    "    for i, value in enumerate(lst):\n",
    "        if value not in unique_indices:\n",
    "            unique_indices[value] = i\n",
    "\n",
    "    for value in lst:\n",
    "        result.append(unique_indices[value])\n",
    "\n",
    "    return result\n",
    "\n",
    "result_list = find_first_unique_indices(names)\n",
    "print(result_list)"
   ],
   "metadata": {
    "collapsed": false,
    "is_executing": true
   }
  },
  {
   "cell_type": "code",
   "execution_count": null,
   "outputs": [],
   "source": [
    "print(len(np.unique(result_list)))\n",
    "print(len(names))"
   ],
   "metadata": {
    "collapsed": false,
    "is_executing": true
   }
  },
  {
   "cell_type": "code",
   "execution_count": null,
   "outputs": [],
   "source": [
    "print([names[i] for i in np.unique(result_list)])"
   ],
   "metadata": {
    "collapsed": false,
    "is_executing": true
   }
  },
  {
   "cell_type": "code",
   "execution_count": null,
   "outputs": [],
   "source": [
    "len(raw_vals)"
   ],
   "metadata": {
    "collapsed": false,
    "is_executing": true
   }
  },
  {
   "cell_type": "code",
   "execution_count": null,
   "outputs": [],
   "source": [
    "seen = []\n",
    "names = []\n",
    "\n",
    "TPs = [0 for _ in range(len(raw_vals))]\n",
    "FPs = [0 for _ in range(len(raw_vals))]\n",
    "FNs = [0 for _ in range(len(raw_vals))]\n",
    "\n",
    "for i in range(len(raw_vals)):\n",
    "    row = raw_vals.iloc[i]\n",
    "    print(num)\n",
    "    num = result_list[i]\n",
    "    if num not in seen:\n",
    "        names.append(raw_vals['Image'][i])\n",
    "        seen.append(num)\n",
    "\n",
    "    TPs[num] += row['TP']\n",
    "    FPs[num] += row['FP']\n",
    "    FNs[num] += row['FN']"
   ],
   "metadata": {
    "collapsed": false,
    "is_executing": true
   }
  },
  {
   "cell_type": "code",
   "execution_count": null,
   "outputs": [],
   "source": [
    "TPs"
   ],
   "metadata": {
    "collapsed": false,
    "is_executing": true
   }
  },
  {
   "cell_type": "code",
   "execution_count": null,
   "outputs": [],
   "source": [
    "raw_vals"
   ],
   "metadata": {
    "collapsed": false,
    "is_executing": true
   }
  },
  {
   "cell_type": "code",
   "execution_count": null,
   "outputs": [],
   "source": [
    "print(names)\n",
    "print(TPs)"
   ],
   "metadata": {
    "collapsed": false,
    "is_executing": true
   }
  },
  {
   "cell_type": "code",
   "execution_count": null,
   "outputs": [],
   "source": [
    "print(len(names))"
   ],
   "metadata": {
    "collapsed": false,
    "is_executing": true
   }
  },
  {
   "cell_type": "code",
   "execution_count": null,
   "outputs": [],
   "source": [
    "organ_names = []\n",
    "for i in range(len(names)):\n",
    "    nm = names[i][21:-4]\n",
    "    if nm[-1] == '1':\n",
    "        nm = nm[:-1]\n",
    "    organ_names.append(nm)\n",
    "    print(nm)"
   ],
   "metadata": {
    "collapsed": false,
    "is_executing": true
   }
  },
  {
   "cell_type": "code",
   "execution_count": null,
   "outputs": [],
   "source": [
    "print(len(organ_names))"
   ],
   "metadata": {
    "collapsed": false,
    "is_executing": true
   }
  },
  {
   "cell_type": "code",
   "execution_count": null,
   "outputs": [],
   "source": [
    "organ_names"
   ],
   "metadata": {
    "collapsed": false,
    "is_executing": true
   }
  },
  {
   "cell_type": "code",
   "execution_count": null,
   "outputs": [],
   "source": [
    "TPs = [val for val in TPs if val != 0]\n",
    "FPs = [val for val in FPs if val != 0]\n",
    "FNs = [val for val in FNs if val != 0]"
   ],
   "metadata": {
    "collapsed": false,
    "is_executing": true
   }
  },
  {
   "cell_type": "code",
   "execution_count": null,
   "outputs": [],
   "source": [
    "len(TPs)"
   ],
   "metadata": {
    "collapsed": false,
    "is_executing": true
   }
  },
  {
   "cell_type": "code",
   "execution_count": null,
   "outputs": [],
   "source": [
    "new_df = pd.DataFrame({'Organ': organ_names, 'TP': TPs, 'FP': FPs, 'FN': FNs})\n",
    "new_df"
   ],
   "metadata": {
    "collapsed": false,
    "is_executing": true
   }
  },
  {
   "cell_type": "code",
   "execution_count": null,
   "outputs": [],
   "source": [
    "def get_f1(tp, fp, fn):\n",
    "    precision = tp / (tp + fp)\n",
    "    recall = tp / (tp + fn)\n",
    "    avg_precision = tp / (tp + fp + fn)\n",
    "    f1 = 2 * precision * recall / (precision + recall)\n",
    "    return precision, recall, avg_precision, f1"
   ],
   "metadata": {
    "collapsed": false,
    "is_executing": true
   }
  },
  {
   "cell_type": "code",
   "execution_count": null,
   "outputs": [],
   "source": [
    "precisions = []\n",
    "recalls = []\n",
    "f1s = []\n",
    "\n",
    "for i in range(len(new_df)):\n",
    "    row = new_df.iloc[i]\n",
    "\n",
    "    tp = row['TP']\n",
    "    fp = row['FP']\n",
    "    fn = row['FN']\n",
    "\n",
    "    precision, recall, avg_precision, f1 = get_f1(tp, fp, fn)\n",
    "    precisions.append(precision)\n",
    "    recalls.append(recall)\n",
    "    f1s.append(f1)"
   ],
   "metadata": {
    "collapsed": false,
    "is_executing": true
   }
  },
  {
   "cell_type": "code",
   "execution_count": null,
   "outputs": [],
   "source": [
    "row = new_df.iloc[11]\n",
    "\n",
    "tp = row['TP']\n",
    "fp = row['FP']\n",
    "fn = row['FN']\n",
    "print([tp, fp, fn])"
   ],
   "metadata": {
    "collapsed": false,
    "is_executing": true
   }
  },
  {
   "cell_type": "code",
   "execution_count": null,
   "outputs": [],
   "source": [
    "new_df['Recall'] = recalls\n",
    "new_df['Precision'] = precisions\n",
    "new_df['F1'] = f1s\n",
    "\n",
    "new_df"
   ],
   "metadata": {
    "collapsed": false,
    "is_executing": true
   }
  },
  {
   "cell_type": "code",
   "execution_count": null,
   "outputs": [],
   "source": [
    "bar_width = 0.25  # Adjust the width of each bar as needed\n",
    "index = np.arange(len(new_df['Organ']))\n",
    "\n",
    "# Plotting the bars\n",
    "fig = plt.figure(figsize=(25, 10))\n",
    "fig.set_facecolor('white')\n",
    "\n",
    "plt.bar(new_df['Organ'], new_df['F1'], color='blue', label='Newest Model')\n",
    "\n",
    "#plt.bar(index, f1_scores, color='blue', width=bar_width, label='Newest Model')\n",
    "#plt.bar(index + bar_width, f1_scores_justin, color='orange', width=bar_width, label=\"Previous model\")\n",
    "#plt.bar(index + 2 * bar_width, f1_scores_default, color='green', width=bar_width, label='Default H&E')\n",
    "\n",
    "plt.xlabel(\"Organ\", fontsize=20)\n",
    "plt.ylabel(\"F1 Score\", fontsize=20)\n",
    "# plt.title(\"F1 Scores in Testing Tiles (tau = 0.6)\", fontsize=28)\n",
    "plt.axhline(y=0.7, linestyle='--', color='red', label='Threshold = 0.7')\n",
    "plt.ylim(0, 1)\n",
    "plt.xticks(index + bar_width, new_df['Organ'])  # Set x-axis labels to tile names\n",
    "plt.legend(fontsize=20)\n",
    "plt.show()"
   ],
   "metadata": {
    "collapsed": false,
    "is_executing": true
   }
  },
  {
   "cell_type": "code",
   "execution_count": null,
   "outputs": [],
   "source": [],
   "metadata": {
    "collapsed": false,
    "is_executing": true
   }
  },
  {
   "cell_type": "code",
   "execution_count": null,
   "outputs": [],
   "source": [],
   "metadata": {
    "collapsed": false,
    "is_executing": true
   }
  },
  {
   "cell_type": "code",
   "execution_count": null,
   "outputs": [],
   "source": [],
   "metadata": {
    "collapsed": false,
    "is_executing": true
   }
  },
  {
   "cell_type": "code",
   "execution_count": null,
   "outputs": [],
   "source": [
    "bar_width = 0.25  # Adjust the width of each bar as needed\n",
    "index = np.arange(len(names))\n",
    "\n",
    "# Plotting the bars\n",
    "fig = plt.figure(figsize=(25, 10))\n",
    "fig.set_facecolor('white')\n",
    "\n",
    "plt.bar(index, f1_scores, color='blue', label='Newest Model')\n",
    "\n",
    "\n",
    "plt.xlabel(\"Tile Name\", fontsize=20)\n",
    "plt.ylabel(\"F1 Score\", fontsize=20)\n",
    "# plt.title(\"F1 Scores in Testing Tiles (tau = 0.6)\", fontsize=28)\n",
    "plt.axhline(y=0.7, linestyle='--', color='red', label='Threshold = 0.7')\n",
    "plt.ylim(0, 1)\n",
    "plt.xticks(index + bar_width, names)  # Set x-axis labels to tile names\n",
    "plt.legend(fontsize=20)\n",
    "plt.show()"
   ],
   "metadata": {
    "collapsed": false,
    "is_executing": true
   }
  },
  {
   "cell_type": "code",
   "execution_count": null,
   "outputs": [],
   "source": [
    "from scoring_for_donald import TileSetScorer, ScoringSubroutine"
   ],
   "metadata": {
    "collapsed": false,
    "is_executing": true
   }
  },
  {
   "cell_type": "code",
   "execution_count": null,
   "outputs": [],
   "source": [
    "def calc_iou_for_each_nucleus(masks1, masks2) -> list[float]:\n",
    "    iou_scores = []\n",
    "\n",
    "    for mask1, mask2 in zip(masks1, masks2):\n",
    "        intersection = np.logical_and(mask1, mask2)\n",
    "        union = np.logical_or(mask1, mask2)\n",
    "        intersection_area = np.sum(intersection)\n",
    "        union_area = np.sum(union)\n",
    "\n",
    "        if union_area > 0:\n",
    "            iou = intersection_area / union_area\n",
    "            iou_scores.append(iou)\n",
    "        else:\n",
    "            iou_scores.append(0.0)\n",
    "\n",
    "    return iou_scores"
   ],
   "metadata": {
    "collapsed": false,
    "is_executing": true
   }
  },
  {
   "cell_type": "code",
   "execution_count": null,
   "outputs": [],
   "source": [
    "test_gt = mask_tiles[0]\n",
    "test_pred = mask_val_pred[0]\n",
    "\n",
    "test_iou = calc_iou_for_each_nucleus(test_gt, test_pred)\n",
    "print(test_iou)"
   ],
   "metadata": {
    "collapsed": false,
    "is_executing": true
   }
  },
  {
   "cell_type": "code",
   "execution_count": null,
   "outputs": [],
   "source": [
    "def plot_masks(masks1: list[np.ndarray], masks2: list[np.ndarray]):\n",
    "    num_masks1 = len(masks1)\n",
    "    num_masks2 = len(masks2)\n",
    "\n",
    "    fig, axs = plt.subplots(num_masks1, num_masks2, figsize=(12, 8))\n",
    "\n",
    "    for i in range(num_masks1):\n",
    "        for j in range(num_masks2):\n",
    "            axs[i, j].imshow(masks1[i], cmap='Blues', alpha=0.5)\n",
    "            axs[i, j].imshow(masks2[j], cmap='Reds', alpha=0.5)\n",
    "            axs[i, j].set_xticks([])\n",
    "            axs[i, j].set_yticks([])\n",
    "\n",
    "    # Add legends\n",
    "    axs[0, 0].legend(loc='upper right', bbox_to_anchor=(1.1, 1.1))\n",
    "\n",
    "    plt.tight_layout()\n",
    "    plt.show()\n",
    "\n",
    "plot_masks(test_gt, test_pred)"
   ],
   "metadata": {
    "collapsed": false,
    "is_executing": true
   }
  },
  {
   "cell_type": "code",
   "execution_count": null,
   "outputs": [],
   "source": [
    "for i, mask1 in enumerate(masks_nuclei1):\n",
    "    for j, mask2 in enumerate(masks_nuclei2):\n",
    "        iou_matrix[i, j] = calc_iou_for_each_nucleus([mask1], [mask2])[0]\n",
    "\n",
    "plot_iou_heatmap(iou_matrix, labels1=['Nucleus 1', 'Nucleus 2', ...], labels2=['Nucleus 1', 'Nucleus 2', ...])"
   ],
   "metadata": {
    "collapsed": false,
    "is_executing": true
   }
  }
 ],
 "metadata": {
  "kernelspec": {
   "display_name": "Python 3",
   "language": "python",
   "name": "python3"
  },
  "language_info": {
   "codemirror_mode": {
    "name": "ipython",
    "version": 2
   },
   "file_extension": ".py",
   "mimetype": "text/x-python",
   "name": "python",
   "nbconvert_exporter": "python",
   "pygments_lexer": "ipython2",
   "version": "2.7.6"
  }
 },
 "nbformat": 4,
 "nbformat_minor": 0
}
