{
 "cells": [
  {
   "cell_type": "code",
   "execution_count": 7,
   "id": "initial_id",
   "metadata": {
    "collapsed": true,
    "ExecuteTime": {
     "end_time": "2024-04-26T22:23:58.129097500Z",
     "start_time": "2024-04-26T22:23:58.096068500Z"
    }
   },
   "outputs": [],
   "source": [
    "from tifffile import imread\n",
    "import os\n",
    "from matplotlib import pyplot as plt\n",
    "import json\n",
    "import geojson\n",
    "from scipy.io import loadmat\n",
    "import h5py\n",
    "import numpy as np"
   ]
  },
  {
   "cell_type": "code",
   "outputs": [],
   "source": [
    "# pth_WSI_segmentations = r'\\\\10.99.68.178\\andreex\\data\\Stardist\\PDAC model\\maybe_all_tiles_donald\\test_WSI\\StarDist_2_9_24\\json'\n",
    "#pth_WSI_segmentations = r'\\\\10.99.68.178\\andre\\Eduarda PDAC\\immune_cell_pipeline\\star_dist_Donald_model\\StarDist_1_29_23\\json'\n",
    "\n",
    "pth_WSI_segmentations = r'\\\\169.254.138.20\\Andre_expansion\\data\\Stardist\\monkey figs\\ndpi images\\jsons'\n",
    "#npdi_im_path = r'\\\\10.162.80.16\\Andre_expansion\\data\\PDAC purity\\NDPI\\pdac purity'"
   ],
   "metadata": {
    "collapsed": false,
    "ExecuteTime": {
     "end_time": "2024-04-26T22:23:58.153118700Z",
     "start_time": "2024-04-26T22:23:58.111081700Z"
    }
   },
   "id": "46338febac5b93c3",
   "execution_count": 8
  },
  {
   "cell_type": "code",
   "outputs": [
    {
     "name": "stdout",
     "output_type": "stream",
     "text": [
      "['\\\\\\\\169.254.138.20\\\\Andre_expansion\\\\data\\\\Stardist\\\\monkey figs\\\\ndpi images\\\\jsons\\\\monkey_fetus_40_0250.json', '\\\\\\\\169.254.138.20\\\\Andre_expansion\\\\data\\\\Stardist\\\\monkey figs\\\\ndpi images\\\\jsons\\\\monkey_fetus_40_0300.json', '\\\\\\\\169.254.138.20\\\\Andre_expansion\\\\data\\\\Stardist\\\\monkey figs\\\\ndpi images\\\\jsons\\\\monkey_fetus_40_0450.json', '\\\\\\\\169.254.138.20\\\\Andre_expansion\\\\data\\\\Stardist\\\\monkey figs\\\\ndpi images\\\\jsons\\\\monkey_fetus_40_0600.json', '\\\\\\\\169.254.138.20\\\\Andre_expansion\\\\data\\\\Stardist\\\\monkey figs\\\\ndpi images\\\\jsons\\\\monkey_fetus_40_0700.json', '\\\\\\\\169.254.138.20\\\\Andre_expansion\\\\data\\\\Stardist\\\\monkey figs\\\\ndpi images\\\\jsons\\\\monkey_fetus_40_0800.json', '\\\\\\\\169.254.138.20\\\\Andre_expansion\\\\data\\\\Stardist\\\\monkey figs\\\\ndpi images\\\\jsons\\\\monkey_fetus_40_0915.json']\n"
     ]
    }
   ],
   "source": [
    "json_pth_list = sorted([os.path.join(pth_WSI_segmentations,file) for file in os.listdir(pth_WSI_segmentations) if file.endswith(\".json\")])\n",
    "print(json_pth_list)"
   ],
   "metadata": {
    "collapsed": false,
    "ExecuteTime": {
     "end_time": "2024-04-26T22:23:58.154119500Z",
     "start_time": "2024-04-26T22:23:58.125093900Z"
    }
   },
   "id": "824325fef43797ae",
   "execution_count": 9
  },
  {
   "cell_type": "code",
   "outputs": [],
   "source": [
    "def get_ds_data(segmentation_data, ds):\n",
    "    data_list = []\n",
    "    for data in segmentation_data:\n",
    "        centroid = data['centroid'][0]\n",
    "        contour = data['contour'][0]\n",
    "    \n",
    "        #print(centroid)\n",
    "        #print(contour)\n",
    "        \n",
    "        ds_centroid = [int(c/ds) for c in centroid]\n",
    "        ds_contour = [[value / ds for value in sublist] for sublist in contour]\n",
    "        ds_contour = [[round(x,2), round(y,2)] for x, y in zip(ds_contour[0], ds_contour[1])]\n",
    "        #ds_contour = ds_contour[0:-1:4]  # make shape have 8 points instead of 32\n",
    "        \n",
    "        #print(ds_centroid)\n",
    "        #print(ds_contour)\n",
    "        \n",
    "        dat = [ds_centroid, ds_contour]\n",
    "        data_list.append(dat)\n",
    "    return data_list"
   ],
   "metadata": {
    "collapsed": false,
    "ExecuteTime": {
     "end_time": "2024-04-26T22:23:58.155120400Z",
     "start_time": "2024-04-26T22:23:58.143109900Z"
    }
   },
   "id": "1ac25708a229fc85",
   "execution_count": 10
  },
  {
   "cell_type": "code",
   "outputs": [
    {
     "data": {
      "text/plain": "'\\\\\\\\169.254.138.20\\\\Andre_expansion\\\\data\\\\Stardist\\\\monkey figs\\\\ndpi images\\\\jsons\\\\monkey_fetus_40_0250.json'"
     },
     "execution_count": 11,
     "metadata": {},
     "output_type": "execute_result"
    }
   ],
   "source": [
    "json_pth_list[0]"
   ],
   "metadata": {
    "collapsed": false,
    "ExecuteTime": {
     "end_time": "2024-04-26T22:23:58.169132600Z",
     "start_time": "2024-04-26T22:23:58.156121100Z"
    }
   },
   "id": "8ccd2b1a45968d90",
   "execution_count": 11
  },
  {
   "cell_type": "code",
   "outputs": [
    {
     "name": "stdout",
     "output_type": "stream",
     "text": [
      "0 / 7\n",
      "monkey_fetus_40_0300.json\n"
     ]
    }
   ],
   "source": [
    "# out_pth = r'\\\\10.99.68.178\\andreex\\data\\Stardist\\PDAC model\\maybe_all_tiles_donald\\test_WSI\\StarDist_2_9_24\\json\\partial_jsons'\n",
    "\n",
    "# out_pth = r'\\\\169.254.138.20\\Andre_expansion\\data\\Stardist\\monkey figs\\ndpi images\\32_polys_20x'\n",
    "# ds_amt = 1 # 20x\n",
    "\n",
    "out_pth = r'\\\\169.254.138.20\\Andre_expansion\\data\\Stardist\\monkey figs\\ndpi images\\32_polys_10x'\n",
    "ds_amt = 1/0.4416 # 10x\n",
    "\n",
    "# ds_amt = 4 # 2.5x\n",
    "# ds_amt = 2/0.4416  # 5x\n",
    "# ds_amt = 1/0.4416 # 10x\n",
    "# ds_amt = 1 # 20x\n",
    "\n",
    "# for p, file in enumerate(json_pth_list):\n",
    "for p, file in enumerate(json_pth_list[1:7]):\n",
    "    nm = file.split('\\\\')[-1]\n",
    "    new_fn = os.path.join(out_pth, nm[:-5] + '.geojson')\n",
    "    print(f'{p} / {len(json_pth_list)}')\n",
    "    print(nm)\n",
    "    \n",
    "    if not os.path.exists(new_fn):\n",
    "    \n",
    "        segmentation_data = json.load(open(file))\n",
    "        \n",
    "        data_list = get_ds_data(segmentation_data, ds_amt)\n",
    "    \n",
    "        GEOdata = []\n",
    "        \n",
    "        for j, (centroid, contour) in enumerate(data_list):\n",
    "            \n",
    "            #if j == 100000:\n",
    "            #    break\n",
    "            \n",
    "            centroid = [centroid[0] + 0, centroid[1] + 0]\n",
    "            # xy coordinates are swapped, so I reverse them here with xy[::-1]\n",
    "            # note: add 1 to coords to fix 0 indexing vs 1 index offset\n",
    "            contour = [[coord+0 for coord in xy[::-1]] for xy in contour]  # Convert coordinates to integers\n",
    "            contour.append(contour[0]) # stardist doesn't close the circle, needed for qupath\n",
    "        \n",
    "            # Create a new dictionary for each contour\n",
    "            dict_data = {\n",
    "                \"type\": \"Feature\",\n",
    "                \"id\": \"PathCellObject\",\n",
    "                \"geometry\": {\n",
    "                    \"type\": \"Polygon\",\n",
    "                    \"coordinates\": [contour]\n",
    "                },\n",
    "                \"properties\": {\n",
    "                    'objectType': 'annotation',\n",
    "                    'classification': {'name': 'Nuclei', 'color': [97, 214, 59]}\n",
    "                }\n",
    "            }\n",
    "        \n",
    "            GEOdata.append(dict_data)\n",
    "        \n",
    "        with open(new_fn,'w') as outfile:\n",
    "            geojson.dump(GEOdata,outfile)\n",
    "        print('Finished',new_fn)\n",
    "    \n",
    "    else:\n",
    "        print(f'skipping {new_fn}')"
   ],
   "metadata": {
    "collapsed": false,
    "is_executing": true,
    "ExecuteTime": {
     "start_time": "2024-04-26T22:25:47.145322500Z"
    }
   },
   "id": "17954b97009f1737",
   "execution_count": null
  },
  {
   "cell_type": "code",
   "outputs": [
    {
     "data": {
      "text/plain": "['\\\\\\\\169.254.138.20\\\\Andre_expansion\\\\data\\\\Stardist\\\\monkey figs\\\\ndpi images\\\\jsons\\\\monkey_fetus_40_0300.json',\n '\\\\\\\\169.254.138.20\\\\Andre_expansion\\\\data\\\\Stardist\\\\monkey figs\\\\ndpi images\\\\jsons\\\\monkey_fetus_40_0450.json',\n '\\\\\\\\169.254.138.20\\\\Andre_expansion\\\\data\\\\Stardist\\\\monkey figs\\\\ndpi images\\\\jsons\\\\monkey_fetus_40_0600.json',\n '\\\\\\\\169.254.138.20\\\\Andre_expansion\\\\data\\\\Stardist\\\\monkey figs\\\\ndpi images\\\\jsons\\\\monkey_fetus_40_0700.json',\n '\\\\\\\\169.254.138.20\\\\Andre_expansion\\\\data\\\\Stardist\\\\monkey figs\\\\ndpi images\\\\jsons\\\\monkey_fetus_40_0800.json',\n '\\\\\\\\169.254.138.20\\\\Andre_expansion\\\\data\\\\Stardist\\\\monkey figs\\\\ndpi images\\\\jsons\\\\monkey_fetus_40_0915.json']"
     },
     "execution_count": 19,
     "metadata": {},
     "output_type": "execute_result"
    }
   ],
   "source": [
    "json_pth_list[1:7]"
   ],
   "metadata": {
    "collapsed": false,
    "ExecuteTime": {
     "end_time": "2024-04-26T22:25:39.079575200Z",
     "start_time": "2024-04-26T22:25:39.071572Z"
    }
   },
   "id": "42c73fee0db3df2a",
   "execution_count": 19
  }
 ],
 "metadata": {
  "kernelspec": {
   "display_name": "Python 3",
   "language": "python",
   "name": "python3"
  },
  "language_info": {
   "codemirror_mode": {
    "name": "ipython",
    "version": 2
   },
   "file_extension": ".py",
   "mimetype": "text/x-python",
   "name": "python",
   "nbconvert_exporter": "python",
   "pygments_lexer": "ipython2",
   "version": "2.7.6"
  }
 },
 "nbformat": 4,
 "nbformat_minor": 5
}
