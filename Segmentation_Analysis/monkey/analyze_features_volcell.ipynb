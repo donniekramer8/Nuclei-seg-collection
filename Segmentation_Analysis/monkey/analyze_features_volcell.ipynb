{
 "cells": [
  {
   "cell_type": "code",
   "execution_count": 1,
   "id": "initial_id",
   "metadata": {
    "collapsed": true,
    "ExecuteTime": {
     "end_time": "2024-02-14T18:13:58.480569900Z",
     "start_time": "2024-02-14T18:13:57.642451200Z"
    }
   },
   "outputs": [],
   "source": [
    "from scipy.io import loadmat\n",
    "import h5py\n",
    "import numpy as np\n",
    "import matplotlib.pyplot as plt\n",
    "import pandas as pd\n",
    "import os"
   ]
  },
  {
   "cell_type": "code",
   "outputs": [],
   "source": [
    "pth_vols = r'\\\\10.162.80.16\\Andre_expansion\\data\\monkey_fetus\\final_vols\\stardist_files\\backup\\vols_with_stardist_volcell.mat'"
   ],
   "metadata": {
    "collapsed": false,
    "ExecuteTime": {
     "end_time": "2024-02-14T18:13:58.496569Z",
     "start_time": "2024-02-14T18:13:58.479569700Z"
    }
   },
   "id": "ae75a453d7caad88",
   "execution_count": 2
  },
  {
   "cell_type": "code",
   "outputs": [],
   "source": [
    "def load_var_from_mat(mat_file_name, varname):\n",
    "\n",
    "    try:\n",
    "        data = loadmat(mat_file_name)\n",
    "\n",
    "        var = data[varname]\n",
    "    except:\n",
    "        data = h5py.File(mat_file_name, 'r')\n",
    "\n",
    "        var = data[varname][()]\n",
    "\n",
    "    return var"
   ],
   "metadata": {
    "collapsed": false,
    "ExecuteTime": {
     "end_time": "2024-02-14T18:13:58.513569700Z",
     "start_time": "2024-02-14T18:13:58.496569Z"
    }
   },
   "id": "f9d7c781af4834e8",
   "execution_count": 3
  },
  {
   "cell_type": "code",
   "outputs": [],
   "source": [
    "volcell = load_var_from_mat(pth_vols, 'volcell')\n",
    "volfinal = load_var_from_mat(pth_vols, 'volfinal')"
   ],
   "metadata": {
    "collapsed": false,
    "ExecuteTime": {
     "end_time": "2024-02-14T18:14:59.637820900Z",
     "start_time": "2024-02-14T18:13:58.700569400Z"
    }
   },
   "id": "85315a398126c2ee",
   "execution_count": 4
  },
  {
   "cell_type": "code",
   "outputs": [
    {
     "name": "stdout",
     "output_type": "stream",
     "text": [
      "(1154, 4091, 3161)\n",
      "(1154, 4091, 3161)\n"
     ]
    }
   ],
   "source": [
    "print(np.shape(volcell))\n",
    "print(np.shape(volfinal))"
   ],
   "metadata": {
    "collapsed": false,
    "ExecuteTime": {
     "end_time": "2024-02-14T18:14:59.652829400Z",
     "start_time": "2024-02-14T18:14:59.640820800Z"
    }
   },
   "id": "b6c5bfe179cc0bc6",
   "execution_count": 5
  },
  {
   "cell_type": "code",
   "outputs": [],
   "source": [
    "volcell = np.transpose(volcell, (1, 2, 0))\n",
    "volfinal = np.transpose(volfinal, (1, 2, 0))"
   ],
   "metadata": {
    "collapsed": false,
    "ExecuteTime": {
     "end_time": "2024-02-14T18:14:59.679821Z",
     "start_time": "2024-02-14T18:14:59.650820700Z"
    }
   },
   "id": "f331bb55cfe3e812",
   "execution_count": 6
  },
  {
   "cell_type": "code",
   "outputs": [
    {
     "name": "stdout",
     "output_type": "stream",
     "text": [
      "(4091, 3161, 1154)\n",
      "(4091, 3161, 1154)\n"
     ]
    }
   ],
   "source": [
    "print(np.shape(volcell))\n",
    "print(np.shape(volfinal))"
   ],
   "metadata": {
    "collapsed": false,
    "ExecuteTime": {
     "end_time": "2024-02-14T18:14:59.680821200Z",
     "start_time": "2024-02-14T18:14:59.665820700Z"
    }
   },
   "id": "139c923af6e5d505",
   "execution_count": 7
  },
  {
   "cell_type": "code",
   "outputs": [
    {
     "data": {
      "text/plain": "array([0, 1], dtype=uint8)"
     },
     "execution_count": 12,
     "metadata": {},
     "output_type": "execute_result"
    }
   ],
   "source": [
    "np.unique(volcell)"
   ],
   "metadata": {
    "collapsed": false,
    "ExecuteTime": {
     "end_time": "2024-02-13T20:23:46.735195100Z",
     "start_time": "2024-02-13T20:21:38.436927Z"
    }
   },
   "id": "5e65920ac181a931",
   "execution_count": 12
  },
  {
   "cell_type": "code",
   "outputs": [],
   "source": [
    "counts = volfinal * volcell"
   ],
   "metadata": {
    "collapsed": false,
    "ExecuteTime": {
     "end_time": "2024-02-13T20:23:53.320545900Z",
     "start_time": "2024-02-13T20:23:46.737295300Z"
    }
   },
   "id": "84f804a15b2a692e",
   "execution_count": 13
  },
  {
   "cell_type": "code",
   "outputs": [],
   "source": [
    "unique_labels = np.unique(counts)"
   ],
   "metadata": {
    "collapsed": false,
    "ExecuteTime": {
     "end_time": "2024-02-13T20:26:00.108358100Z",
     "start_time": "2024-02-13T20:23:53.321545600Z"
    }
   },
   "id": "440cbaec7fe57516",
   "execution_count": 14
  },
  {
   "cell_type": "code",
   "outputs": [
    {
     "data": {
      "text/plain": "array([ 0,  1,  2,  3,  4,  5,  6,  7,  8,  9, 10, 11, 12, 13, 14, 15, 16,\n       17, 18, 19, 20, 21, 22, 23, 24, 25, 26, 27, 28, 29, 30, 31, 32, 33,\n       34, 35, 36, 37, 38, 39, 40, 41, 42, 43, 44, 45, 46, 47, 48, 49, 50,\n       51, 52, 53, 54, 55, 56, 57, 58, 59, 60, 61, 62, 63, 64, 65, 66, 67,\n       68, 69, 70, 71], dtype=uint8)"
     },
     "execution_count": 15,
     "metadata": {},
     "output_type": "execute_result"
    }
   ],
   "source": [
    "unique_labels"
   ],
   "metadata": {
    "collapsed": false,
    "ExecuteTime": {
     "end_time": "2024-02-13T20:26:00.124358200Z",
     "start_time": "2024-02-13T20:26:00.109358200Z"
    }
   },
   "id": "289effab43fbc704",
   "execution_count": 15
  },
  {
   "cell_type": "code",
   "outputs": [],
   "source": [
    "counts_dict = {key: 0 for key in unique_labels}"
   ],
   "metadata": {
    "collapsed": false,
    "ExecuteTime": {
     "end_time": "2024-02-13T20:26:00.150358Z",
     "start_time": "2024-02-13T20:26:00.125358300Z"
    }
   },
   "id": "4d1812a6017ca892",
   "execution_count": 16
  },
  {
   "cell_type": "code",
   "outputs": [
    {
     "name": "stdout",
     "output_type": "stream",
     "text": [
      "{0: 0, 1: 0, 2: 0, 3: 0, 4: 0, 5: 0, 6: 0, 7: 0, 8: 0, 9: 0, 10: 0, 11: 0, 12: 0, 13: 0, 14: 0, 15: 0, 16: 0, 17: 0, 18: 0, 19: 0, 20: 0, 21: 0, 22: 0, 23: 0, 24: 0, 25: 0, 26: 0, 27: 0, 28: 0, 29: 0, 30: 0, 31: 0, 32: 0, 33: 0, 34: 0, 35: 0, 36: 0, 37: 0, 38: 0, 39: 0, 40: 0, 41: 0, 42: 0, 43: 0, 44: 0, 45: 0, 46: 0, 47: 0, 48: 0, 49: 0, 50: 0, 51: 0, 52: 0, 53: 0, 54: 0, 55: 0, 56: 0, 57: 0, 58: 0, 59: 0, 60: 0, 61: 0, 62: 0, 63: 0, 64: 0, 65: 0, 66: 0, 67: 0, 68: 0, 69: 0, 70: 0, 71: 0}\n"
     ]
    }
   ],
   "source": [
    "print(counts_dict)"
   ],
   "metadata": {
    "collapsed": false,
    "ExecuteTime": {
     "end_time": "2024-02-13T20:26:00.158358100Z",
     "start_time": "2024-02-13T20:26:00.140358200Z"
    }
   },
   "id": "a4c7a88896503824",
   "execution_count": 17
  },
  {
   "cell_type": "code",
   "outputs": [],
   "source": [
    "flattened_counts = counts.flatten()"
   ],
   "metadata": {
    "collapsed": false,
    "ExecuteTime": {
     "end_time": "2024-02-13T20:26:13.431357800Z",
     "start_time": "2024-02-13T20:26:00.157358100Z"
    }
   },
   "id": "ead3518309750e3f",
   "execution_count": 18
  },
  {
   "cell_type": "code",
   "outputs": [
    {
     "name": "stdout",
     "output_type": "stream",
     "text": [
      "0\n",
      "1\n",
      "2\n",
      "3\n",
      "4\n",
      "5\n",
      "6\n",
      "7\n",
      "8\n",
      "9\n",
      "10\n",
      "11\n",
      "12\n",
      "13\n",
      "14\n",
      "15\n",
      "16\n",
      "17\n",
      "18\n",
      "19\n",
      "20\n",
      "21\n",
      "22\n",
      "23\n",
      "24\n",
      "25\n",
      "26\n",
      "27\n",
      "28\n",
      "29\n",
      "30\n",
      "31\n",
      "32\n",
      "33\n",
      "34\n",
      "35\n",
      "36\n",
      "37\n",
      "38\n",
      "39\n",
      "40\n",
      "41\n",
      "42\n",
      "43\n",
      "44\n",
      "45\n",
      "46\n",
      "47\n",
      "48\n",
      "49\n",
      "50\n",
      "51\n",
      "52\n",
      "53\n",
      "54\n",
      "55\n",
      "56\n",
      "57\n",
      "58\n",
      "59\n",
      "60\n",
      "61\n",
      "62\n",
      "63\n",
      "64\n",
      "65\n",
      "66\n",
      "67\n",
      "68\n",
      "69\n",
      "70\n",
      "71\n"
     ]
    }
   ],
   "source": [
    "for key in counts_dict:\n",
    "    print(key)\n",
    "    if key == 0:  # noise class\n",
    "        counts_dict[key] = np.array([], dtype=np.int64)\n",
    "    else:\n",
    "        num = np.where(flattened_counts == key)[0]  # add [0] because for some reason it np.where returns it as list of list\n",
    "        counts_dict[key] = num"
   ],
   "metadata": {
    "collapsed": false,
    "ExecuteTime": {
     "end_time": "2024-02-13T20:34:41.232525400Z",
     "start_time": "2024-02-13T20:26:13.432357700Z"
    }
   },
   "id": "37e99a3bbe12b570",
   "execution_count": 19
  },
  {
   "cell_type": "code",
   "outputs": [
    {
     "name": "stdout",
     "output_type": "stream",
     "text": [
      "0: 0\n",
      "1: 14811677\n",
      "2: 11375105\n",
      "3: 5378357\n",
      "4: 204839\n",
      "5: 303160\n",
      "6: 13150750\n",
      "7: 38954959\n",
      "8: 18245569\n",
      "9: 3155684\n",
      "10: 42165866\n",
      "11: 2245069\n",
      "12: 2411474\n",
      "13: 120069\n",
      "14: 217529\n",
      "15: 4813781\n",
      "16: 2095760\n",
      "17: 377948\n",
      "18: 1429242\n",
      "19: 141347\n",
      "20: 78837\n",
      "21: 16740\n",
      "22: 10257\n",
      "23: 10044\n",
      "24: 13731\n",
      "25: 1777458\n",
      "26: 878368\n",
      "27: 660088\n",
      "28: 186825\n",
      "29: 491697\n",
      "30: 719323\n",
      "31: 169663\n",
      "32: 4481921\n",
      "33: 1703000\n",
      "34: 525574\n",
      "35: 1556420\n",
      "36: 300078\n",
      "37: 439465\n",
      "38: 752555\n",
      "39: 59074867\n",
      "40: 420321\n",
      "41: 16882\n",
      "42: 949830\n",
      "43: 745151\n",
      "44: 88018\n",
      "45: 123148\n",
      "46: 208320\n",
      "47: 419587\n",
      "48: 191865\n",
      "49: 144967\n",
      "50: 476336\n",
      "51: 316420\n",
      "52: 150292\n",
      "53: 153645\n",
      "54: 60655\n",
      "55: 211269\n",
      "56: 17005\n",
      "57: 12674203\n",
      "58: 100033466\n",
      "59: 6733393\n",
      "60: 34886674\n",
      "61: 30145178\n",
      "62: 319696\n",
      "63: 262476\n",
      "64: 287278\n",
      "65: 52184\n",
      "66: 591231\n",
      "67: 139060\n",
      "68: 140632\n",
      "69: 25175\n",
      "70: 63850\n",
      "71: 11344733\n",
      "total sum: 437838036\n"
     ]
    }
   ],
   "source": [
    "total_sum = 0\n",
    "for key in counts_dict:\n",
    "    total_sum += len(counts_dict[key])\n",
    "    print(f'{key}: {len(counts_dict[key])}')\n",
    "print(f'total sum: {total_sum}')"
   ],
   "metadata": {
    "collapsed": false,
    "ExecuteTime": {
     "end_time": "2024-02-13T20:34:41.249535600Z",
     "start_time": "2024-02-13T20:34:41.233525400Z"
    }
   },
   "id": "433bcb4a9cca7f8f",
   "execution_count": 20
  },
  {
   "cell_type": "code",
   "outputs": [],
   "source": [
    "import pickle\n",
    "\n",
    "pth_save = r'\\\\10.99.68.178\\andreex\\students\\Donald Monkey fetus\\data\\counts_dict.pkl'\n",
    "\n",
    "with open(pth_save, 'wb') as f:\n",
    "    pickle.dump(counts_dict, f)"
   ],
   "metadata": {
    "collapsed": false,
    "ExecuteTime": {
     "end_time": "2024-02-13T20:35:31.599323300Z",
     "start_time": "2024-02-13T20:34:41.251536100Z"
    }
   },
   "id": "7c840621f8cb5385",
   "execution_count": 21
  },
  {
   "cell_type": "code",
   "outputs": [],
   "source": [
    "import pickle\n",
    "pth_save = r'\\\\10.99.68.178\\andreex\\students\\Donald Monkey fetus\\data\\counts_dict.pkl'\n",
    "\n",
    "with open(pth_save, 'rb') as f:\n",
    "    x = pickle.load(f)"
   ],
   "metadata": {
    "collapsed": false,
    "ExecuteTime": {
     "end_time": "2024-02-14T18:18:00.324591200Z",
     "start_time": "2024-02-14T18:17:20.142431800Z"
    }
   },
   "id": "283c90907b38b86d",
   "execution_count": 10
  },
  {
   "cell_type": "code",
   "outputs": [],
   "source": [
    "total_sum = 0\n",
    "for key in x:\n",
    "    total_sum += len(x[key])\n",
    "    print(f'{key}: {len(x[key])}')\n",
    "print(f'total sum: {total_sum}')"
   ],
   "metadata": {
    "collapsed": false,
    "ExecuteTime": {
     "end_time": "2024-02-14T18:15:00.043820Z",
     "start_time": "2024-02-14T18:15:00.041820300Z"
    }
   },
   "id": "2b54aa5b5ba228bd",
   "execution_count": null
  },
  {
   "cell_type": "code",
   "outputs": [],
   "source": [
    "pth_pickle_features = r'\\\\10.162.80.16\\Andre_expansion\\data\\monkey_fetus\\Stardist\\StarDist_12_25_23\\stardist_feature_df_pickles'\n",
    "feature_pickle_files = os.listdir(pth_pickle_features)"
   ],
   "metadata": {
    "collapsed": false,
    "ExecuteTime": {
     "end_time": "2024-02-13T20:36:09.632657700Z",
     "start_time": "2024-02-13T20:36:09.524657700Z"
    }
   },
   "id": "16937c264d74a4ba",
   "execution_count": 24
  },
  {
   "cell_type": "code",
   "outputs": [
    {
     "name": "stdout",
     "output_type": "stream",
     "text": [
      "101\n"
     ]
    }
   ],
   "source": [
    "z = 100\n",
    "for i,_ in enumerate(flattened_counts):\n",
    "    if i % (4091 * 3161) == 0:\n",
    "        z += 1\n",
    "        with open(os.path.join(pth_pickle_features, feature_pickle_files[z]), 'rb') as f:\n",
    "            df = pickle.load(f)\n",
    "        print(z)\n",
    "        break"
   ],
   "metadata": {
    "collapsed": false,
    "ExecuteTime": {
     "end_time": "2024-02-13T20:36:09.771657900Z",
     "start_time": "2024-02-13T20:36:09.634657700Z"
    }
   },
   "id": "73d565e322ceb24c",
   "execution_count": 25
  },
  {
   "cell_type": "code",
   "outputs": [
    {
     "data": {
      "text/plain": "'\\\\\\\\10.162.80.16\\\\Andre_expansion\\\\data\\\\monkey_fetus\\\\Stardist\\\\StarDist_12_25_23\\\\stardist_feature_df_pickles\\\\monkey_fetus_40_0103.pkl'"
     },
     "execution_count": 38,
     "metadata": {},
     "output_type": "execute_result"
    }
   ],
   "source": [
    "os.path.join(pth_pickle_features, feature_pickle_files[z])"
   ],
   "metadata": {
    "collapsed": false,
    "ExecuteTime": {
     "end_time": "2024-02-13T20:39:56.731530800Z",
     "start_time": "2024-02-13T20:39:56.707531Z"
    }
   },
   "id": "cbd9d08b1c81fc1f",
   "execution_count": 38
  },
  {
   "cell_type": "code",
   "outputs": [
    {
     "data": {
      "text/plain": "   Centroid_x  Centroid_y      Area  Perimeter  Circularity  Aspect Ratio  \\\n0      3742.0      1934.0   71.3125   33.96875     0.776855      2.101562   \n1      2142.0      2790.0  228.3750   62.59375     0.732422      2.593750   \n2      1828.0      2636.0   78.1875   41.65625     0.566895      3.484375   \n3       330.0      1722.0  417.2500   85.87500     0.711426      2.849609   \n4      3108.0      1674.0  304.7500   74.37500     0.692383      3.011719   \n\n   compactness  eccentricity    extent  form_factor  maximum_radius  \\\n0    16.171875      0.879395  0.750000     1.287109        6.953125   \n1    17.156250      0.922852  0.753418     1.365234       16.390625   \n2    22.171875      0.958008  0.660156     1.764648        9.562500   \n3    17.671875      0.936523  0.756348     1.406250       18.796875   \n4    18.156250      0.943359  0.758789     1.444336       16.781250   \n\n   mean_radius  median_radius  minor_axis_length  orientation_degrees  \\\n0     4.621094       4.453125           6.726562             5088.000   \n1     7.933594       7.277344          10.812500             9976.000   \n2     4.492188       3.423828           5.832031             4828.000   \n3    10.882812       9.429688          13.914062            10224.000   \n4     9.226562       7.855469          11.546875               34.125   \n\n   r_mean_intensity  g_mean_intensity  b_mean_intensity  \n0           173.125          173.1250           175.750  \n1           202.750          201.6250           202.625  \n2           161.125          157.6250           159.625  \n3           124.375          121.0625           118.125  \n4           126.750          126.4375           121.375  ",
      "text/html": "<div>\n<style scoped>\n    .dataframe tbody tr th:only-of-type {\n        vertical-align: middle;\n    }\n\n    .dataframe tbody tr th {\n        vertical-align: top;\n    }\n\n    .dataframe thead th {\n        text-align: right;\n    }\n</style>\n<table border=\"1\" class=\"dataframe\">\n  <thead>\n    <tr style=\"text-align: right;\">\n      <th></th>\n      <th>Centroid_x</th>\n      <th>Centroid_y</th>\n      <th>Area</th>\n      <th>Perimeter</th>\n      <th>Circularity</th>\n      <th>Aspect Ratio</th>\n      <th>compactness</th>\n      <th>eccentricity</th>\n      <th>extent</th>\n      <th>form_factor</th>\n      <th>maximum_radius</th>\n      <th>mean_radius</th>\n      <th>median_radius</th>\n      <th>minor_axis_length</th>\n      <th>orientation_degrees</th>\n      <th>r_mean_intensity</th>\n      <th>g_mean_intensity</th>\n      <th>b_mean_intensity</th>\n    </tr>\n  </thead>\n  <tbody>\n    <tr>\n      <th>0</th>\n      <td>3742.0</td>\n      <td>1934.0</td>\n      <td>71.3125</td>\n      <td>33.96875</td>\n      <td>0.776855</td>\n      <td>2.101562</td>\n      <td>16.171875</td>\n      <td>0.879395</td>\n      <td>0.750000</td>\n      <td>1.287109</td>\n      <td>6.953125</td>\n      <td>4.621094</td>\n      <td>4.453125</td>\n      <td>6.726562</td>\n      <td>5088.000</td>\n      <td>173.125</td>\n      <td>173.1250</td>\n      <td>175.750</td>\n    </tr>\n    <tr>\n      <th>1</th>\n      <td>2142.0</td>\n      <td>2790.0</td>\n      <td>228.3750</td>\n      <td>62.59375</td>\n      <td>0.732422</td>\n      <td>2.593750</td>\n      <td>17.156250</td>\n      <td>0.922852</td>\n      <td>0.753418</td>\n      <td>1.365234</td>\n      <td>16.390625</td>\n      <td>7.933594</td>\n      <td>7.277344</td>\n      <td>10.812500</td>\n      <td>9976.000</td>\n      <td>202.750</td>\n      <td>201.6250</td>\n      <td>202.625</td>\n    </tr>\n    <tr>\n      <th>2</th>\n      <td>1828.0</td>\n      <td>2636.0</td>\n      <td>78.1875</td>\n      <td>41.65625</td>\n      <td>0.566895</td>\n      <td>3.484375</td>\n      <td>22.171875</td>\n      <td>0.958008</td>\n      <td>0.660156</td>\n      <td>1.764648</td>\n      <td>9.562500</td>\n      <td>4.492188</td>\n      <td>3.423828</td>\n      <td>5.832031</td>\n      <td>4828.000</td>\n      <td>161.125</td>\n      <td>157.6250</td>\n      <td>159.625</td>\n    </tr>\n    <tr>\n      <th>3</th>\n      <td>330.0</td>\n      <td>1722.0</td>\n      <td>417.2500</td>\n      <td>85.87500</td>\n      <td>0.711426</td>\n      <td>2.849609</td>\n      <td>17.671875</td>\n      <td>0.936523</td>\n      <td>0.756348</td>\n      <td>1.406250</td>\n      <td>18.796875</td>\n      <td>10.882812</td>\n      <td>9.429688</td>\n      <td>13.914062</td>\n      <td>10224.000</td>\n      <td>124.375</td>\n      <td>121.0625</td>\n      <td>118.125</td>\n    </tr>\n    <tr>\n      <th>4</th>\n      <td>3108.0</td>\n      <td>1674.0</td>\n      <td>304.7500</td>\n      <td>74.37500</td>\n      <td>0.692383</td>\n      <td>3.011719</td>\n      <td>18.156250</td>\n      <td>0.943359</td>\n      <td>0.758789</td>\n      <td>1.444336</td>\n      <td>16.781250</td>\n      <td>9.226562</td>\n      <td>7.855469</td>\n      <td>11.546875</td>\n      <td>34.125</td>\n      <td>126.750</td>\n      <td>126.4375</td>\n      <td>121.375</td>\n    </tr>\n  </tbody>\n</table>\n</div>"
     },
     "execution_count": 26,
     "metadata": {},
     "output_type": "execute_result"
    }
   ],
   "source": [
    "df.head()"
   ],
   "metadata": {
    "collapsed": false,
    "ExecuteTime": {
     "end_time": "2024-02-13T20:36:09.800657500Z",
     "start_time": "2024-02-13T20:36:09.772657800Z"
    }
   },
   "id": "c6301b0d8a898d0a",
   "execution_count": 26
  },
  {
   "cell_type": "code",
   "outputs": [
    {
     "ename": "IndexError",
     "evalue": "positional indexers are out-of-bounds",
     "output_type": "error",
     "traceback": [
      "\u001B[1;31m---------------------------------------------------------------------------\u001B[0m",
      "\u001B[1;31mIndexError\u001B[0m                                Traceback (most recent call last)",
      "File \u001B[1;32m~\\anaconda3\\envs\\monkey_nuc_segment_v6\\lib\\site-packages\\pandas\\core\\indexing.py:1676\u001B[0m, in \u001B[0;36m_iLocIndexer._get_list_axis\u001B[1;34m(self, key, axis)\u001B[0m\n\u001B[0;32m   1675\u001B[0m \u001B[38;5;28;01mtry\u001B[39;00m:\n\u001B[1;32m-> 1676\u001B[0m     \u001B[38;5;28;01mreturn\u001B[39;00m \u001B[38;5;28;43mself\u001B[39;49m\u001B[38;5;241;43m.\u001B[39;49m\u001B[43mobj\u001B[49m\u001B[38;5;241;43m.\u001B[39;49m\u001B[43m_take_with_is_copy\u001B[49m\u001B[43m(\u001B[49m\u001B[43mkey\u001B[49m\u001B[43m,\u001B[49m\u001B[43m \u001B[49m\u001B[43maxis\u001B[49m\u001B[38;5;241;43m=\u001B[39;49m\u001B[43maxis\u001B[49m\u001B[43m)\u001B[49m\n\u001B[0;32m   1677\u001B[0m \u001B[38;5;28;01mexcept\u001B[39;00m \u001B[38;5;167;01mIndexError\u001B[39;00m \u001B[38;5;28;01mas\u001B[39;00m err:\n\u001B[0;32m   1678\u001B[0m     \u001B[38;5;66;03m# re-raise with different error message, e.g. test_getitem_ndarray_3d\u001B[39;00m\n",
      "File \u001B[1;32m~\\anaconda3\\envs\\monkey_nuc_segment_v6\\lib\\site-packages\\pandas\\core\\generic.py:4088\u001B[0m, in \u001B[0;36mNDFrame._take_with_is_copy\u001B[1;34m(self, indices, axis)\u001B[0m\n\u001B[0;32m   4079\u001B[0m \u001B[38;5;250m\u001B[39m\u001B[38;5;124;03m\"\"\"\u001B[39;00m\n\u001B[0;32m   4080\u001B[0m \u001B[38;5;124;03mInternal version of the `take` method that sets the `_is_copy`\u001B[39;00m\n\u001B[0;32m   4081\u001B[0m \u001B[38;5;124;03mattribute to keep track of the parent dataframe (using in indexing\u001B[39;00m\n\u001B[1;32m   (...)\u001B[0m\n\u001B[0;32m   4086\u001B[0m \u001B[38;5;124;03mSee the docstring of `take` for full explanation of the parameters.\u001B[39;00m\n\u001B[0;32m   4087\u001B[0m \u001B[38;5;124;03m\"\"\"\u001B[39;00m\n\u001B[1;32m-> 4088\u001B[0m result \u001B[38;5;241m=\u001B[39m \u001B[38;5;28;43mself\u001B[39;49m\u001B[38;5;241;43m.\u001B[39;49m\u001B[43mtake\u001B[49m\u001B[43m(\u001B[49m\u001B[43mindices\u001B[49m\u001B[38;5;241;43m=\u001B[39;49m\u001B[43mindices\u001B[49m\u001B[43m,\u001B[49m\u001B[43m \u001B[49m\u001B[43maxis\u001B[49m\u001B[38;5;241;43m=\u001B[39;49m\u001B[43maxis\u001B[49m\u001B[43m)\u001B[49m\n\u001B[0;32m   4089\u001B[0m \u001B[38;5;66;03m# Maybe set copy if we didn't actually change the index.\u001B[39;00m\n",
      "File \u001B[1;32m~\\anaconda3\\envs\\monkey_nuc_segment_v6\\lib\\site-packages\\pandas\\core\\generic.py:4068\u001B[0m, in \u001B[0;36mNDFrame.take\u001B[1;34m(self, indices, axis, **kwargs)\u001B[0m\n\u001B[0;32m   4064\u001B[0m     indices \u001B[38;5;241m=\u001B[39m np\u001B[38;5;241m.\u001B[39marange(\n\u001B[0;32m   4065\u001B[0m         indices\u001B[38;5;241m.\u001B[39mstart, indices\u001B[38;5;241m.\u001B[39mstop, indices\u001B[38;5;241m.\u001B[39mstep, dtype\u001B[38;5;241m=\u001B[39mnp\u001B[38;5;241m.\u001B[39mintp\n\u001B[0;32m   4066\u001B[0m     )\n\u001B[1;32m-> 4068\u001B[0m new_data \u001B[38;5;241m=\u001B[39m \u001B[38;5;28;43mself\u001B[39;49m\u001B[38;5;241;43m.\u001B[39;49m\u001B[43m_mgr\u001B[49m\u001B[38;5;241;43m.\u001B[39;49m\u001B[43mtake\u001B[49m\u001B[43m(\u001B[49m\n\u001B[0;32m   4069\u001B[0m \u001B[43m    \u001B[49m\u001B[43mindices\u001B[49m\u001B[43m,\u001B[49m\n\u001B[0;32m   4070\u001B[0m \u001B[43m    \u001B[49m\u001B[43maxis\u001B[49m\u001B[38;5;241;43m=\u001B[39;49m\u001B[38;5;28;43mself\u001B[39;49m\u001B[38;5;241;43m.\u001B[39;49m\u001B[43m_get_block_manager_axis\u001B[49m\u001B[43m(\u001B[49m\u001B[43maxis\u001B[49m\u001B[43m)\u001B[49m\u001B[43m,\u001B[49m\n\u001B[0;32m   4071\u001B[0m \u001B[43m    \u001B[49m\u001B[43mverify\u001B[49m\u001B[38;5;241;43m=\u001B[39;49m\u001B[38;5;28;43;01mTrue\u001B[39;49;00m\u001B[43m,\u001B[49m\n\u001B[0;32m   4072\u001B[0m \u001B[43m\u001B[49m\u001B[43m)\u001B[49m\n\u001B[0;32m   4073\u001B[0m \u001B[38;5;28;01mreturn\u001B[39;00m \u001B[38;5;28mself\u001B[39m\u001B[38;5;241m.\u001B[39m_constructor_from_mgr(new_data, axes\u001B[38;5;241m=\u001B[39mnew_data\u001B[38;5;241m.\u001B[39maxes)\u001B[38;5;241m.\u001B[39m__finalize__(\n\u001B[0;32m   4074\u001B[0m     \u001B[38;5;28mself\u001B[39m, method\u001B[38;5;241m=\u001B[39m\u001B[38;5;124m\"\u001B[39m\u001B[38;5;124mtake\u001B[39m\u001B[38;5;124m\"\u001B[39m\n\u001B[0;32m   4075\u001B[0m )\n",
      "File \u001B[1;32m~\\anaconda3\\envs\\monkey_nuc_segment_v6\\lib\\site-packages\\pandas\\core\\internals\\managers.py:874\u001B[0m, in \u001B[0;36mBaseBlockManager.take\u001B[1;34m(self, indexer, axis, verify)\u001B[0m\n\u001B[0;32m    873\u001B[0m n \u001B[38;5;241m=\u001B[39m \u001B[38;5;28mself\u001B[39m\u001B[38;5;241m.\u001B[39mshape[axis]\n\u001B[1;32m--> 874\u001B[0m indexer \u001B[38;5;241m=\u001B[39m \u001B[43mmaybe_convert_indices\u001B[49m\u001B[43m(\u001B[49m\u001B[43mindexer\u001B[49m\u001B[43m,\u001B[49m\u001B[43m \u001B[49m\u001B[43mn\u001B[49m\u001B[43m,\u001B[49m\u001B[43m \u001B[49m\u001B[43mverify\u001B[49m\u001B[38;5;241;43m=\u001B[39;49m\u001B[43mverify\u001B[49m\u001B[43m)\u001B[49m\n\u001B[0;32m    876\u001B[0m new_labels \u001B[38;5;241m=\u001B[39m \u001B[38;5;28mself\u001B[39m\u001B[38;5;241m.\u001B[39maxes[axis]\u001B[38;5;241m.\u001B[39mtake(indexer)\n",
      "File \u001B[1;32m~\\anaconda3\\envs\\monkey_nuc_segment_v6\\lib\\site-packages\\pandas\\core\\indexers\\utils.py:282\u001B[0m, in \u001B[0;36mmaybe_convert_indices\u001B[1;34m(indices, n, verify)\u001B[0m\n\u001B[0;32m    281\u001B[0m     \u001B[38;5;28;01mif\u001B[39;00m mask\u001B[38;5;241m.\u001B[39many():\n\u001B[1;32m--> 282\u001B[0m         \u001B[38;5;28;01mraise\u001B[39;00m \u001B[38;5;167;01mIndexError\u001B[39;00m(\u001B[38;5;124m\"\u001B[39m\u001B[38;5;124mindices are out-of-bounds\u001B[39m\u001B[38;5;124m\"\u001B[39m)\n\u001B[0;32m    283\u001B[0m \u001B[38;5;28;01mreturn\u001B[39;00m indices\n",
      "\u001B[1;31mIndexError\u001B[0m: indices are out-of-bounds",
      "\nThe above exception was the direct cause of the following exception:\n",
      "\u001B[1;31mIndexError\u001B[0m                                Traceback (most recent call last)",
      "Cell \u001B[1;32mIn[54], line 12\u001B[0m\n\u001B[0;32m     10\u001B[0m \u001B[38;5;66;03m# plt.scatter(df.iloc[:,'Centroid_x'], df.iloc[:,'Centroid_x'])\u001B[39;00m\n\u001B[0;32m     11\u001B[0m fig, ax \u001B[38;5;241m=\u001B[39m plt\u001B[38;5;241m.\u001B[39msubplots(\u001B[38;5;241m1\u001B[39m, \u001B[38;5;241m1\u001B[39m)  \u001B[38;5;66;03m# Create a figure and an Axes object\u001B[39;00m\n\u001B[1;32m---> 12\u001B[0m ax\u001B[38;5;241m.\u001B[39mscatter(\u001B[43mdf\u001B[49m\u001B[38;5;241;43m.\u001B[39;49m\u001B[43miloc\u001B[49m\u001B[43m[\u001B[49m\u001B[43mrange_points\u001B[49m\u001B[43m]\u001B[49m[\u001B[38;5;124m'\u001B[39m\u001B[38;5;124mCentroid_x\u001B[39m\u001B[38;5;124m'\u001B[39m], df\u001B[38;5;241m.\u001B[39miloc[range_points][\u001B[38;5;124m'\u001B[39m\u001B[38;5;124mCentroid_y\u001B[39m\u001B[38;5;124m'\u001B[39m], c\u001B[38;5;241m=\u001B[39m\u001B[38;5;124m'\u001B[39m\u001B[38;5;124mred\u001B[39m\u001B[38;5;124m'\u001B[39m, marker\u001B[38;5;241m=\u001B[39m\u001B[38;5;124m'\u001B[39m\u001B[38;5;124mo\u001B[39m\u001B[38;5;124m'\u001B[39m, s\u001B[38;5;241m=\u001B[39m\u001B[38;5;241m1\u001B[39m)\n\u001B[0;32m     13\u001B[0m ax\u001B[38;5;241m.\u001B[39minvert_yaxis()\n",
      "File \u001B[1;32m~\\anaconda3\\envs\\monkey_nuc_segment_v6\\lib\\site-packages\\pandas\\core\\indexing.py:1153\u001B[0m, in \u001B[0;36m_LocationIndexer.__getitem__\u001B[1;34m(self, key)\u001B[0m\n\u001B[0;32m   1150\u001B[0m axis \u001B[38;5;241m=\u001B[39m \u001B[38;5;28mself\u001B[39m\u001B[38;5;241m.\u001B[39maxis \u001B[38;5;129;01mor\u001B[39;00m \u001B[38;5;241m0\u001B[39m\n\u001B[0;32m   1152\u001B[0m maybe_callable \u001B[38;5;241m=\u001B[39m com\u001B[38;5;241m.\u001B[39mapply_if_callable(key, \u001B[38;5;28mself\u001B[39m\u001B[38;5;241m.\u001B[39mobj)\n\u001B[1;32m-> 1153\u001B[0m \u001B[38;5;28;01mreturn\u001B[39;00m \u001B[38;5;28;43mself\u001B[39;49m\u001B[38;5;241;43m.\u001B[39;49m\u001B[43m_getitem_axis\u001B[49m\u001B[43m(\u001B[49m\u001B[43mmaybe_callable\u001B[49m\u001B[43m,\u001B[49m\u001B[43m \u001B[49m\u001B[43maxis\u001B[49m\u001B[38;5;241;43m=\u001B[39;49m\u001B[43maxis\u001B[49m\u001B[43m)\u001B[49m\n",
      "File \u001B[1;32m~\\anaconda3\\envs\\monkey_nuc_segment_v6\\lib\\site-packages\\pandas\\core\\indexing.py:1705\u001B[0m, in \u001B[0;36m_iLocIndexer._getitem_axis\u001B[1;34m(self, key, axis)\u001B[0m\n\u001B[0;32m   1703\u001B[0m \u001B[38;5;66;03m# a list of integers\u001B[39;00m\n\u001B[0;32m   1704\u001B[0m \u001B[38;5;28;01melif\u001B[39;00m is_list_like_indexer(key):\n\u001B[1;32m-> 1705\u001B[0m     \u001B[38;5;28;01mreturn\u001B[39;00m \u001B[38;5;28;43mself\u001B[39;49m\u001B[38;5;241;43m.\u001B[39;49m\u001B[43m_get_list_axis\u001B[49m\u001B[43m(\u001B[49m\u001B[43mkey\u001B[49m\u001B[43m,\u001B[49m\u001B[43m \u001B[49m\u001B[43maxis\u001B[49m\u001B[38;5;241;43m=\u001B[39;49m\u001B[43maxis\u001B[49m\u001B[43m)\u001B[49m\n\u001B[0;32m   1707\u001B[0m \u001B[38;5;66;03m# a single integer\u001B[39;00m\n\u001B[0;32m   1708\u001B[0m \u001B[38;5;28;01melse\u001B[39;00m:\n\u001B[0;32m   1709\u001B[0m     key \u001B[38;5;241m=\u001B[39m item_from_zerodim(key)\n",
      "File \u001B[1;32m~\\anaconda3\\envs\\monkey_nuc_segment_v6\\lib\\site-packages\\pandas\\core\\indexing.py:1679\u001B[0m, in \u001B[0;36m_iLocIndexer._get_list_axis\u001B[1;34m(self, key, axis)\u001B[0m\n\u001B[0;32m   1676\u001B[0m     \u001B[38;5;28;01mreturn\u001B[39;00m \u001B[38;5;28mself\u001B[39m\u001B[38;5;241m.\u001B[39mobj\u001B[38;5;241m.\u001B[39m_take_with_is_copy(key, axis\u001B[38;5;241m=\u001B[39maxis)\n\u001B[0;32m   1677\u001B[0m \u001B[38;5;28;01mexcept\u001B[39;00m \u001B[38;5;167;01mIndexError\u001B[39;00m \u001B[38;5;28;01mas\u001B[39;00m err:\n\u001B[0;32m   1678\u001B[0m     \u001B[38;5;66;03m# re-raise with different error message, e.g. test_getitem_ndarray_3d\u001B[39;00m\n\u001B[1;32m-> 1679\u001B[0m     \u001B[38;5;28;01mraise\u001B[39;00m \u001B[38;5;167;01mIndexError\u001B[39;00m(\u001B[38;5;124m\"\u001B[39m\u001B[38;5;124mpositional indexers are out-of-bounds\u001B[39m\u001B[38;5;124m\"\u001B[39m) \u001B[38;5;28;01mfrom\u001B[39;00m \u001B[38;5;21;01merr\u001B[39;00m\n",
      "\u001B[1;31mIndexError\u001B[0m: positional indexers are out-of-bounds"
     ]
    },
    {
     "data": {
      "text/plain": "<Figure size 640x480 with 1 Axes>",
      "image/png": "[encoded data removed]"
     },
     "metadata": {},
     "output_type": "display_data"
    }
   ],
   "source": [
    "label = 7\n",
    "\n",
    "# range_points = counts_dict[label]\n",
    "\n",
    "d1 = volcell.shape[0] * volcell.shape[1] * z\n",
    "d2 = volcell.shape[0] * volcell.shape[1] * (z+1)\n",
    "\n",
    "range_points = [(x - d1) for x in counts_dict[label] if (x - d1) >= 0 and (x-d1) < d2]\n",
    "\n",
    "# plt.scatter(df.iloc[:,'Centroid_x'], df.iloc[:,'Centroid_x'])\n",
    "fig, ax = plt.subplots(1, 1)  # Create a figure and an Axes object\n",
    "ax.scatter(df.iloc[range_points]['Centroid_x'], df.iloc[range_points]['Centroid_y'], c='red', marker='o', s=1)\n",
    "ax.invert_yaxis()"
   ],
   "metadata": {
    "collapsed": false,
    "ExecuteTime": {
     "end_time": "2024-02-13T20:48:58.117527300Z",
     "start_time": "2024-02-13T20:48:52.460484100Z"
    }
   },
   "id": "87d438dd9e61a447",
   "execution_count": 54
  },
  {
   "cell_type": "code",
   "outputs": [
    {
     "data": {
      "text/plain": "180679"
     },
     "execution_count": 49,
     "metadata": {},
     "output_type": "execute_result"
    }
   ],
   "source": [
    "len(df)"
   ],
   "metadata": {
    "collapsed": false,
    "ExecuteTime": {
     "end_time": "2024-02-13T20:44:10.542705300Z",
     "start_time": "2024-02-13T20:44:10.508705700Z"
    }
   },
   "id": "e376c35522bdac6e",
   "execution_count": 49
  },
  {
   "cell_type": "code",
   "outputs": [
    {
     "data": {
      "text/plain": "[1455980,\n 1457134,\n 1458279,\n 1458287,\n 1459433,\n 1460595,\n 1461741,\n 1461746,\n 1461750,\n 1464049,\n 1464057,\n 1465208,\n 1466359,\n 1466363,\n 1467513,\n 1468673,\n 1469827,\n 1470981,\n 1472131,\n 1472133,\n 1473287,\n 1473289,\n 1473292,\n 1474435,\n 1474442,\n 1475593,\n 1475597,\n 1476744,\n 1476750,\n 1477903,\n 1479059,\n 1479062,\n 1480206,\n 1480207,\n 1480212,\n 1480213,\n 1480215,\n 1481357,\n 1481364,\n 1481365,\n 1482514,\n 1482515,\n 1482517,\n 1482521,\n 1482523,\n 1483669,\n 1483671,\n 1483674,\n 1484822,\n 1484832,\n 1484833,\n 1485973,\n 1485980,\n 1485982,\n 1485983,\n 1485986,\n 1487124,\n 1487127,\n 1487129,\n 1487131,\n 1487133,\n 1487135,\n 1487141,\n 1488281,\n 1488284,\n 1488287,\n 1489436,\n 1489442,\n 1489449,\n 1489475,\n 1490586,\n 1490592,\n 1490596,\n 1490597,\n 1490598,\n 1490600,\n 1491741,\n 1491743,\n 1491744,\n 1491747,\n 1491749,\n 1492898,\n 1492899,\n 1492901,\n 1492903,\n 1492904,\n 1492907,\n 1492911,\n 1494049,\n 1494059,\n 1494062,\n 1494063,\n 1495206,\n 1495209,\n 1495212,\n 1495216,\n 1495223,\n 1496357,\n 1496362,\n 1496368,\n 1496369,\n 1496373,\n 1497514,\n 1497520,\n 1497522,\n 1497523,\n 1497524,\n 1497534,\n 1498665,\n 1498666,\n 1498667,\n 1498668,\n 1498671,\n 1498673,\n 1498675,\n 1498681,\n 1498685,\n 1499820,\n 1499822,\n 1499823,\n 1499824,\n 1499828,\n 1499831,\n 1499832,\n 1500972,\n 1500975,\n 1500976,\n 1500977,\n 1500979,\n 1500981,\n 1500982,\n 1500983,\n 1500987,\n 1500993,\n 1502128,\n 1502129,\n 1502135,\n 1502142,\n 1503281,\n 1503284,\n 1503285,\n 1503296,\n 1503303,\n 1504434,\n 1504435,\n 1504437,\n 1504440,\n 1504446,\n 1504447,\n 1504451,\n 1505588,\n 1505590,\n 1505592,\n 1505597,\n 1505599,\n 1505603,\n 1505611,\n 1505612,\n 1505624,\n 1506706,\n 1506743,\n 1506744,\n 1506745,\n 1506747,\n 1506752,\n 1506757,\n 1506758,\n 1506759,\n 1506765,\n 1507900,\n 1507903,\n 1507905,\n 1507908,\n 1507911,\n 1507913,\n 1507932,\n 1509050,\n 1509054,\n 1509055,\n 1509056,\n 1509063,\n 1509064,\n 1509065,\n 1510205,\n 1510207,\n 1510209,\n 1510211,\n 1510213,\n 1510214,\n 1510220,\n 1510221,\n 1511359,\n 1511362,\n 1511369,\n 1511374,\n 1511379,\n 1511400,\n 1512518,\n 1512520,\n 1512523,\n 1512528,\n 1512529,\n 1512533,\n 1512534,\n 1513670,\n 1513673,\n 1513677,\n 1513679,\n 1513683,\n 1513708,\n 1514784,\n 1514828,\n 1514833,\n 1514837,\n 1514842,\n 1514843,\n 1514874,\n 1515938,\n 1515974,\n 1515979,\n 1515983,\n 1515984,\n 1515989,\n 1515996,\n 1515998,\n 1516010,\n 1517065,\n 1517129,\n 1517130,\n 1517132,\n 1517135,\n 1517141,\n 1517142,\n 1517146,\n 1517149,\n 1517150,\n 1517186,\n 1518246,\n 1518283,\n 1518292,\n 1518293,\n 1518297,\n 1518298,\n 1518303,\n 1519400,\n 1519441,\n 1519449,\n 1519450,\n 1519453,\n 1519466,\n 1520590,\n 1520595,\n 1520596,\n 1520598,\n 1520601,\n 1520604,\n 1520605,\n 1520606,\n 1520607,\n 1520611,\n 1520612,\n 1520614,\n 1520632,\n 1520646,\n 1520648,\n 1521708,\n 1521745,\n 1521751,\n 1521756,\n 1521757,\n 1521761,\n 1521780,\n 1521800,\n 1522902,\n 1522908,\n 1522912,\n 1522916,\n 1522920,\n 1522921,\n 1522940,\n 1522944,\n 1522954,\n 1522955,\n 1522956,\n 1523989,\n 1524052,\n 1524054,\n 1524057,\n 1524064,\n 1524065,\n 1524068,\n 1524069,\n 1524070,\n 1524076,\n 1524082,\n 1524090,\n 1524110,\n 1525170,\n 1525207,\n 1525210,\n 1525212,\n 1525215,\n 1525216,\n 1525219,\n 1525222,\n 1525225,\n 1525229,\n 1525248,\n 1525262,\n 1525263,\n 1526360,\n 1526361,\n 1526371,\n 1526372,\n 1526378,\n 1526379,\n 1526390,\n 1527518,\n 1527521,\n 1527522,\n 1527525,\n 1527526,\n 1527527,\n 1527528,\n 1527530,\n 1527535,\n 1527536,\n 1527537,\n 1527544,\n 1527560,\n 1527570,\n 1527572,\n 1528632,\n 1528673,\n 1528677,\n 1528678,\n 1528679,\n 1528682,\n 1528686,\n 1528687,\n 1528688,\n 1528689,\n 1528690,\n 1528702,\n 1528710,\n 1528814,\n 1528822,\n 1529756,\n 1529759,\n 1529825,\n 1529829,\n 1529832,\n 1529834,\n 1529838,\n 1529842,\n 1529852,\n 1529865,\n 1529868,\n 1529870,\n 1529879,\n 1529968,\n 1529974,\n 1530976,\n 1530981,\n 1530985,\n 1530986,\n 1530987,\n 1530989,\n 1530997,\n 1531013,\n 1531018,\n 1531037,\n 1531055,\n 1531124,\n 1532067,\n 1532094,\n 1532133,\n 1532134,\n 1532136,\n 1532138,\n 1532139,\n 1532146,\n 1532151,\n 1532159,\n 1532164,\n 1532168,\n 1532173,\n 1532184,\n 1532186,\n 1533218,\n 1533247,\n 1533248,\n 1533284,\n 1533285,\n 1533286,\n 1533287,\n 1533290,\n 1533296,\n 1533297,\n 1533299,\n 1533301,\n 1533303,\n 1533304,\n 1533306,\n 1533307,\n 1533308,\n 1533313,\n 1533319,\n 1533326,\n 1533327,\n 1533332,\n 1533335,\n 1533339,\n 1533430,\n 1534401,\n 1534442,\n 1534443,\n 1534446,\n 1534450,\n 1534451,\n 1534452,\n 1534467,\n 1534468,\n 1534472,\n 1534474,\n 1535592,\n 1535595,\n 1535601,\n 1535602,\n 1535609,\n 1535613,\n 1535615,\n 1535616,\n 1535627,\n 1535643,\n 1535646,\n 1535648,\n 1535649,\n 1535653,\n 1535671,\n 1535738,\n 1536680,\n 1536682,\n 1536683,\n 1536710,\n 1536747,\n 1536750,\n 1536759,\n 1536764,\n 1536766,\n 1536768,\n 1536779,\n 1536785,\n 1536791,\n 1536792,\n 1536802,\n 1536804,\n 1537834,\n 1537837,\n 1537903,\n 1537905,\n 1537908,\n 1537909,\n 1537917,\n 1537918,\n 1537919,\n 1537929,\n 1537936,\n 1537937,\n 1537938,\n 1537943,\n 1537945,\n 1537948,\n 1537951,\n 1537954,\n 1537979,\n 1538046,\n 1539017,\n 1539054,\n 1539056,\n 1539059,\n 1539063,\n 1539064,\n 1539067,\n 1539069,\n 1539072,\n 1539074,\n 1539083,\n 1539089,\n 1539094,\n 1539096,\n 1539105,\n 1539110,\n 1539111,\n 1539112,\n 1539206,\n 1540145,\n 1540208,\n 1540209,\n 1540210,\n 1540211,\n 1540212,\n 1540214,\n 1540216,\n 1540220,\n 1540222,\n 1540224,\n 1540228,\n 1540229,\n 1540238,\n 1540241,\n 1540242,\n 1540244,\n 1540245,\n 1540248,\n 1540251,\n 1540253,\n 1540262,\n 1540263,\n 1540268,\n 1541297,\n 1541299,\n 1541366,\n 1541369,\n 1541371,\n 1541376,\n 1541377,\n 1541378,\n 1541384,\n 1541391,\n 1541399,\n 1541400,\n 1541418,\n 1541420,\n 1541422,\n 1541423,\n 1541512,\n 1541516,\n 1542452,\n 1542480,\n 1542516,\n 1542518,\n 1542525,\n 1542527,\n 1542529,\n 1542538,\n 1542545,\n 1542549,\n 1542555,\n 1542556,\n 1542570,\n 1542595,\n 1543670,\n 1543671,\n 1543674,\n 1543676,\n 1543677,\n 1543681,\n 1543684,\n 1543688,\n 1543693,\n 1543704,\n 1543707,\n 1543712,\n 1543724,\n 1543727,\n 1543728,\n 1543730,\n 1543731,\n 1544758,\n 1544787,\n 1544827,\n 1544829,\n 1544831,\n 1544833,\n 1544843,\n 1544845,\n 1544846,\n 1544857,\n 1544869,\n 1544880,\n 1544885,\n 1544903,\n 1545913,\n 1545982,\n 1545985,\n 1545986,\n 1545989,\n 1545994,\n 1546000,\n 1546012,\n 1546014,\n 1546021,\n 1546024,\n 1546032,\n 1546132,\n 1546137,\n 1547066,\n 1547096,\n 1547132,\n 1547134,\n 1547135,\n 1547137,\n 1547138,\n 1547141,\n 1547142,\n 1547144,\n 1547145,\n 1547149,\n 1547151,\n 1547155,\n 1547156,\n 1547161,\n 1547165,\n 1547170,\n 1547171,\n 1547173,\n 1547174,\n 1547175,\n 1547178,\n 1547185,\n 1547192,\n 1547193,\n 1547281,\n 1548223,\n 1548287,\n 1548290,\n 1548292,\n 1548293,\n 1548296,\n 1548298,\n 1548302,\n 1548304,\n 1548308,\n 1548309,\n 1548310,\n 1548323,\n 1548324,\n 1548325,\n 1548340,\n 1548342,\n 1548440,\n 1549442,\n 1549446,\n 1549447,\n 1549460,\n 1549461,\n 1549473,\n 1549475,\n 1549476,\n 1549479,\n 1549481,\n 1549486,\n 1549488,\n 1549493,\n 1549495,\n 1549590,\n 1549595,\n 1549596,\n 1549599,\n 1550529,\n 1550531,\n 1550558,\n 1550594,\n 1550600,\n 1550602,\n 1550603,\n 1550606,\n 1550611,\n 1550624,\n 1550632,\n 1550634,\n 1550637,\n 1550642,\n 1550645,\n 1550650,\n 1550653,\n 1550655,\n 1550748,\n 1550749,\n 1551683,\n 1551712,\n 1551748,\n 1551751,\n 1551752,\n 1551754,\n 1551755,\n 1551756,\n 1551758,\n 1551760,\n 1551763,\n 1551772,\n 1551782,\n 1551789,\n 1551793,\n 1551805,\n 1551806,\n 1551808,\n 1551902,\n 1551904,\n 1551907,\n 1552836,\n 1552903,\n 1552904,\n 1552907,\n 1552916,\n 1552922,\n 1552923,\n 1552924,\n 1552925,\n 1552935,\n 1552938,\n 1552940,\n 1552941,\n 1552943,\n 1552945,\n 1552948,\n 1552950,\n 1552957,\n 1552958,\n 1552959,\n 1552961,\n 1552981,\n 1553051,\n 1553053,\n 1553991,\n 1553993,\n 1554059,\n 1554060,\n 1554064,\n 1554067,\n 1554068,\n 1554069,\n 1554070,\n 1554071,\n 1554072,\n 1554073,\n 1554074,\n 1554090,\n 1554095,\n 1554098,\n 1554116,\n 1554211,\n 1554213,\n 1555144,\n 1555147,\n 1555210,\n 1555213,\n 1555219,\n 1555221,\n 1555222,\n 1555223,\n 1555226,\n 1555234,\n 1555248,\n 1555249,\n 1555256,\n 1555265,\n 1555267,\n 1555268,\n 1555269,\n 1555270,\n 1555364,\n 1555366,\n 1555367,\n 1556327,\n 1556366,\n 1556368,\n 1556370,\n 1556373,\n 1556383,\n 1556384,\n 1556386,\n 1556394,\n 1556399,\n 1556404,\n 1556405,\n 1556410,\n 1556412,\n 1556414,\n 1556417,\n 1556419,\n 1556420,\n 1556423,\n 1556513,\n 1556519,\n 1556523,\n 1557522,\n 1557523,\n 1557529,\n 1557538,\n 1557541,\n 1557556,\n 1557557,\n 1557560,\n 1557563,\n 1557572,\n 1557575,\n 1557576,\n 1557578,\n 1557579,\n 1557674,\n 1557675,\n 1558635,\n 1558636,\n 1558672,\n 1558677,\n 1558681,\n 1558682,\n 1558687,\n 1558691,\n 1558695,\n 1558696,\n 1558702,\n 1558707,\n 1558709,\n 1558710,\n 1558712,\n 1558715,\n 1558723,\n 1558727,\n 1558731,\n 1558732,\n 1558829,\n 1559789,\n 1559827,\n 1559829,\n 1559833,\n 1559835,\n 1559838,\n 1559840,\n 1559855,\n 1559856,\n 1559858,\n 1559859,\n 1559861,\n 1559862,\n 1559863,\n 1559867,\n 1559868,\n 1559869,\n 1559871,\n 1559872,\n 1559885,\n 1559982,\n 1560943,\n 1560983,\n 1560985,\n 1560988,\n 1560989,\n 1560994,\n 1560995,\n 1560996,\n 1561018,\n 1561019,\n 1561023,\n 1561028,\n 1561030,\n 1561035,\n 1561037,\n 1561038,\n 1561059,\n 1561134,\n 1562098,\n 1562134,\n 1562135,\n 1562139,\n 1562140,\n 1562141,\n 1562148,\n 1562150,\n 1562151,\n 1562154,\n 1562155,\n 1562169,\n 1562170,\n 1562174,\n 1562175,\n 1562177,\n 1562186,\n 1562187,\n 1562191,\n 1562195,\n 1562288,\n 1562290,\n 1563223,\n 1563291,\n 1563292,\n 1563294,\n 1563295,\n 1563297,\n 1563298,\n 1563299,\n 1563303,\n 1563311,\n 1563312,\n 1563317,\n 1563318,\n 1563320,\n 1563338,\n 1563340,\n 1563348,\n 1563367,\n 1563437,\n 1563443,\n 1564406,\n 1564450,\n 1564452,\n 1564453,\n 1564456,\n 1564458,\n 1564459,\n 1564466,\n 1564472,\n 1564475,\n 1564477,\n 1564480,\n 1564485,\n 1564493,\n 1564497,\n 1564499,\n 1564503,\n 1565531,\n 1565559,\n 1565596,\n 1565598,\n 1565600,\n 1565602,\n 1565612,\n 1565616,\n 1565619,\n 1565628,\n 1565630,\n 1565631,\n 1565633,\n 1565638,\n 1565642,\n 1565647,\n 1565648,\n 1565650,\n 1565653,\n 1565655,\n 1565657,\n 1565662,\n 1565745,\n 1566750,\n 1566768,\n 1566769,\n 1566772,\n 1566776,\n 1566779,\n 1566784,\n 1566788,\n 1566791,\n 1566802,\n 1566803,\n 1566809,\n 1566904,\n 1566907,\n 1566909,\n 1567907,\n 1567908,\n 1567909,\n 1567910,\n 1567913,\n 1567915,\n 1567916,\n 1567920,\n 1567921,\n 1567922,\n 1567927,\n 1567934,\n 1567936,\n 1567944,\n 1567945,\n 1567946,\n 1567955,\n 1567957,\n 1567961,\n 1567963,\n 1567965,\n 1568062,\n 1568987,\n 1569021,\n 1569022,\n 1569060,\n 1569061,\n 1569067,\n 1569068,\n 1569070,\n 1569074,\n 1569084,\n 1569086,\n 1569087,\n 1569096,\n 1569097,\n 1569101,\n 1569103,\n 1569109,\n 1569112,\n ...]"
     },
     "execution_count": 55,
     "metadata": {},
     "output_type": "execute_result"
    }
   ],
   "source": [
    "range_points"
   ],
   "metadata": {
    "collapsed": false,
    "ExecuteTime": {
     "end_time": "2024-02-13T20:51:56.110643800Z",
     "start_time": "2024-02-13T20:51:56.082639100Z"
    }
   },
   "id": "eef36df6321b8401",
   "execution_count": 55
  },
  {
   "cell_type": "code",
   "outputs": [
    {
     "data": {
      "text/plain": "0.05052587621741765"
     },
     "execution_count": 57,
     "metadata": {},
     "output_type": "execute_result"
    }
   ],
   "source": [
    "sum(flattened_counts[range_points])/len(flattened_counts[range_points])"
   ],
   "metadata": {
    "collapsed": false,
    "ExecuteTime": {
     "end_time": "2024-02-13T20:53:14.796754500Z",
     "start_time": "2024-02-13T20:53:14.153282500Z"
    }
   },
   "id": "9e6c3eb11a48d6dc",
   "execution_count": 57
  },
  {
   "cell_type": "code",
   "outputs": [],
   "source": [],
   "metadata": {
    "collapsed": false
   },
   "id": "7114aabae1713626"
  }
 ],
 "metadata": {
  "kernelspec": {
   "display_name": "Python 3",
   "language": "python",
   "name": "python3"
  },
  "language_info": {
   "codemirror_mode": {
    "name": "ipython",
    "version": 2
   },
   "file_extension": ".py",
   "mimetype": "text/x-python",
   "name": "python",
   "nbconvert_exporter": "python",
   "pygments_lexer": "ipython2",
   "version": "2.7.6"
  }
 },
 "nbformat": 4,
 "nbformat_minor": 5
}
