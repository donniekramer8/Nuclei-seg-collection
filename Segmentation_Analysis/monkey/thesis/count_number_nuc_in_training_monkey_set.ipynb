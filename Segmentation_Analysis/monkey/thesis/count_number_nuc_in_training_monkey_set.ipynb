{
 "cells": [
  {
   "cell_type": "code",
   "execution_count": 5,
   "id": "initial_id",
   "metadata": {
    "collapsed": true,
    "ExecuteTime": {
     "end_time": "2024-03-30T19:37:49.781072400Z",
     "start_time": "2024-03-30T19:37:49.776072500Z"
    }
   },
   "outputs": [],
   "source": [
    "import os\n",
    "from tifffile import imread\n",
    "import numpy as np"
   ]
  },
  {
   "cell_type": "code",
   "outputs": [
    {
     "name": "stdout",
     "output_type": "stream",
     "text": [
      "['\\\\\\\\10.99.68.178\\\\andreex\\\\data\\\\Stardist\\\\Training\\\\masks\\\\fallopian_tubes_AJER376_117.tif.tif', '\\\\\\\\10.99.68.178\\\\andreex\\\\data\\\\Stardist\\\\Training\\\\masks\\\\fallopian_tubes_AJER376_157.tif.tif', '\\\\\\\\10.99.68.178\\\\andreex\\\\data\\\\Stardist\\\\Training\\\\masks\\\\fallopian_tubes_AJER376_217.tif.tif', '\\\\\\\\10.99.68.178\\\\andreex\\\\data\\\\Stardist\\\\Training\\\\masks\\\\fallopian_tubes_AJER376_271.tif.tif', '\\\\\\\\10.99.68.178\\\\andreex\\\\data\\\\Stardist\\\\Training\\\\masks\\\\fallopian_tubes_AJER376_331.tif.tif', '\\\\\\\\10.99.68.178\\\\andreex\\\\data\\\\Stardist\\\\Training\\\\masks\\\\fallopian_tubes_AJER376_377.tif.tif', '\\\\\\\\10.99.68.178\\\\andreex\\\\data\\\\Stardist\\\\Training\\\\masks\\\\fallopian_tubes_AJER376_439.tif.tif', '\\\\\\\\10.99.68.178\\\\andreex\\\\data\\\\Stardist\\\\Training\\\\masks\\\\fallopian_tubes_AJER376_479.tif.tif', '\\\\\\\\10.99.68.178\\\\andreex\\\\data\\\\Stardist\\\\Training\\\\masks\\\\fallopian_tubes_AJER376_523.tif.tif', '\\\\\\\\10.99.68.178\\\\andreex\\\\data\\\\Stardist\\\\Training\\\\masks\\\\fallopian_tubes_AJER376_565.tif.tif', '\\\\\\\\10.99.68.178\\\\andreex\\\\data\\\\Stardist\\\\Training\\\\masks\\\\monkey_fetus_40_0105_ecm.tif.tif', '\\\\\\\\10.99.68.178\\\\andreex\\\\data\\\\Stardist\\\\Training\\\\masks\\\\monkey_fetus_40_0271_eye.tif.tif', '\\\\\\\\10.99.68.178\\\\andreex\\\\data\\\\Stardist\\\\Training\\\\masks\\\\monkey_fetus_40_0371_Lung.tif.tif', '\\\\\\\\10.99.68.178\\\\andreex\\\\data\\\\Stardist\\\\Training\\\\masks\\\\monkey_fetus_40_0400_spinalcord.tif.tif', '\\\\\\\\10.99.68.178\\\\andreex\\\\data\\\\Stardist\\\\Training\\\\masks\\\\monkey_fetus_40_0420_brain.tif.tif', '\\\\\\\\10.99.68.178\\\\andreex\\\\data\\\\Stardist\\\\Training\\\\masks\\\\monkey_fetus_40_0431_GI.tif.tif', '\\\\\\\\10.99.68.178\\\\andreex\\\\data\\\\Stardist\\\\Training\\\\masks\\\\monkey_fetus_40_0432_bone.tif.tif', '\\\\\\\\10.99.68.178\\\\andreex\\\\data\\\\Stardist\\\\Training\\\\masks\\\\monkey_fetus_40_0450_heart.tif.tif', '\\\\\\\\10.99.68.178\\\\andreex\\\\data\\\\Stardist\\\\Training\\\\masks\\\\monkey_fetus_40_0451_kidney.tif.tif', '\\\\\\\\10.99.68.178\\\\andreex\\\\data\\\\Stardist\\\\Training\\\\masks\\\\monkey_fetus_40_0507_Thyroid.tif.tif', '\\\\\\\\10.99.68.178\\\\andreex\\\\data\\\\Stardist\\\\Training\\\\masks\\\\monkey_fetus_40_0519_Ganglion.tif.tif', '\\\\\\\\10.99.68.178\\\\andreex\\\\data\\\\Stardist\\\\Training\\\\masks\\\\monkey_fetus_40_0531_kidney.tif.tif', '\\\\\\\\10.99.68.178\\\\andreex\\\\data\\\\Stardist\\\\Training\\\\masks\\\\monkey_fetus_40_0532_heart.tif.tif', '\\\\\\\\10.99.68.178\\\\andreex\\\\data\\\\Stardist\\\\Training\\\\masks\\\\monkey_fetus_40_0612_brain.tif.tif', '\\\\\\\\10.99.68.178\\\\andreex\\\\data\\\\Stardist\\\\Training\\\\masks\\\\monkey_fetus_40_0640_bone.tif.tif', '\\\\\\\\10.99.68.178\\\\andreex\\\\data\\\\Stardist\\\\Training\\\\masks\\\\monkey_fetus_40_0642_bone2.tif.tif', '\\\\\\\\10.99.68.178\\\\andreex\\\\data\\\\Stardist\\\\Training\\\\masks\\\\monkey_fetus_40_0725_gonad.tif.tif', '\\\\\\\\10.99.68.178\\\\andreex\\\\data\\\\Stardist\\\\Training\\\\masks\\\\monkey_fetus_40_0730_kidney.tif.tif']\n"
     ]
    }
   ],
   "source": [
    "pth = r'\\\\10.99.68.178\\andreex\\data\\Stardist\\Training\\masks'\n",
    "file_list = [os.path.join(pth,x) for x in os.listdir(pth) if x.endswith('.tif')]\n",
    "print(file_list)"
   ],
   "metadata": {
    "collapsed": false,
    "ExecuteTime": {
     "end_time": "2024-03-30T19:38:55.250256600Z",
     "start_time": "2024-03-30T19:38:55.243256700Z"
    }
   },
   "id": "2cb772f8a6258327",
   "execution_count": 10
  },
  {
   "cell_type": "code",
   "outputs": [
    {
     "name": "stdout",
     "output_type": "stream",
     "text": [
      "245\n",
      "381\n",
      "228\n",
      "307\n",
      "273\n",
      "320\n",
      "430\n",
      "306\n",
      "181\n",
      "241\n",
      "34\n",
      "336\n",
      "823\n",
      "334\n",
      "435\n",
      "197\n",
      "65\n",
      "83\n",
      "212\n",
      "214\n",
      "533\n",
      "302\n",
      "133\n",
      "455\n",
      "151\n",
      "60\n",
      "251\n",
      "265\n"
     ]
    }
   ],
   "source": [
    "total_n = 0\n",
    "\n",
    "for file in file_list:\n",
    "    im = imread(file)\n",
    "    n = len(np.unique(im))\n",
    "    total_n += n\n",
    "    print(n)\n",
    "    \n"
   ],
   "metadata": {
    "collapsed": false,
    "ExecuteTime": {
     "end_time": "2024-03-30T19:38:56.363995100Z",
     "start_time": "2024-03-30T19:38:55.810737900Z"
    }
   },
   "id": "63ef55c2f394d950",
   "execution_count": 11
  },
  {
   "cell_type": "code",
   "outputs": [
    {
     "data": {
      "text/plain": "7795"
     },
     "execution_count": 13,
     "metadata": {},
     "output_type": "execute_result"
    }
   ],
   "source": [
    "total_n"
   ],
   "metadata": {
    "collapsed": false,
    "ExecuteTime": {
     "end_time": "2024-03-30T19:39:02.913648500Z",
     "start_time": "2024-03-30T19:39:02.902648800Z"
    }
   },
   "id": "a6f00ca0750a5248",
   "execution_count": 13
  },
  {
   "cell_type": "code",
   "outputs": [],
   "source": [],
   "metadata": {
    "collapsed": false
   },
   "id": "1792167e70b95d71"
  }
 ],
 "metadata": {
  "kernelspec": {
   "display_name": "Python 3",
   "language": "python",
   "name": "python3"
  },
  "language_info": {
   "codemirror_mode": {
    "name": "ipython",
    "version": 2
   },
   "file_extension": ".py",
   "mimetype": "text/x-python",
   "name": "python",
   "nbconvert_exporter": "python",
   "pygments_lexer": "ipython2",
   "version": "2.7.6"
  }
 },
 "nbformat": 4,
 "nbformat_minor": 5
}
