{
 "cells": [
  {
   "cell_type": "code",
   "outputs": [],
   "source": [
    "import pickle\n",
    "import os\n",
    "import matplotlib.pyplot as plt\n",
    "import numpy as np\n",
    "from scipy import integrate"
   ],
   "metadata": {
    "collapsed": false,
    "ExecuteTime": {
     "end_time": "2024-03-30T21:16:25.834025400Z",
     "start_time": "2024-03-30T21:16:25.816408800Z"
    }
   },
   "id": "7dc7812304f1165",
   "execution_count": 21
  },
  {
   "cell_type": "code",
   "outputs": [],
   "source": [
    "p = r'C:\\Users\\Donald\\results_hyperparameter_testing.pkl'\n",
    "\n",
    "with open(p, 'rb') as f:\n",
    "    dfs_t = pickle.load(f)"
   ],
   "metadata": {
    "collapsed": false,
    "ExecuteTime": {
     "end_time": "2024-03-30T21:16:26.128035800Z",
     "start_time": "2024-03-30T21:16:26.078547100Z"
    }
   },
   "id": "7c2560be47ad827c",
   "execution_count": 22
  },
  {
   "cell_type": "code",
   "outputs": [],
   "source": [
    "def mean_avg_precision(df):    \n",
    "    MAP = 0\n",
    "\n",
    "    for i in range(len(df)):\n",
    "        row = df.iloc[i]\n",
    "\n",
    "        MAP += row['AP']\n",
    "\n",
    "    MAP = MAP/len(df)\n",
    "\n",
    "    return MAP"
   ],
   "metadata": {
    "collapsed": false,
    "ExecuteTime": {
     "end_time": "2024-03-30T21:16:26.593050200Z",
     "start_time": "2024-03-30T21:16:26.576047400Z"
    }
   },
   "id": "2a79dc3fdf748279",
   "execution_count": 23
  },
  {
   "cell_type": "code",
   "outputs": [
    {
     "data": {
      "text/plain": "0"
     },
     "execution_count": 437,
     "metadata": {},
     "output_type": "execute_result"
    }
   ],
   "source": [
    "df_list[-1]"
   ],
   "metadata": {
    "collapsed": false,
    "ExecuteTime": {
     "end_time": "2024-04-02T16:58:11.758219800Z",
     "start_time": "2024-04-02T16:58:11.721219800Z"
    }
   },
   "id": "a291b38631a5606d",
   "execution_count": 437
  },
  {
   "cell_type": "code",
   "outputs": [
    {
     "name": "stdout",
     "output_type": "stream",
     "text": [
      "0\n",
      "1\n",
      "2\n",
      "3\n",
      "4\n",
      "5\n",
      "6\n",
      "7\n",
      "8\n",
      "9\n",
      "10\n",
      "11\n",
      "12\n",
      "13\n",
      "14\n",
      "15\n",
      "16\n",
      "17\n",
      "18\n",
      "19\n",
      "20\n",
      "21\n",
      "22\n",
      "23\n",
      "24\n",
      "25\n",
      "26\n",
      "27\n",
      "28\n",
      "29\n",
      "30\n",
      "31\n",
      "32\n",
      "33\n",
      "34\n",
      "35\n",
      "36\n",
      "37\n",
      "38\n",
      "39\n",
      "40\n",
      "41\n",
      "42\n",
      "43\n",
      "44\n",
      "45\n",
      "46\n",
      "47\n",
      "48\n",
      "49\n",
      "50\n",
      "51\n",
      "52\n",
      "53\n",
      "54\n",
      "55\n",
      "56\n",
      "57\n",
      "58\n",
      "59\n",
      "60\n",
      "61\n",
      "62\n",
      "63\n",
      "64\n",
      "65\n",
      "66\n",
      "67\n",
      "68\n",
      "69\n",
      "70\n",
      "71\n",
      "72\n",
      "73\n",
      "0\n",
      "AHHHHHHHHH\n",
      "0\n",
      "AHHHHHHHHH\n",
      "0\n",
      "AHHHHHHHHH\n",
      "0\n",
      "AHHHHHHHHH\n",
      "74\n",
      "0\n",
      "AHHHHHHHHH\n",
      "0\n",
      "AHHHHHHHHH\n",
      "0\n",
      "AHHHHHHHHH\n",
      "0\n",
      "AHHHHHHHHH\n",
      "75\n",
      "0\n",
      "AHHHHHHHHH\n",
      "0\n",
      "AHHHHHHHHH\n",
      "0\n",
      "AHHHHHHHHH\n",
      "76\n",
      "0\n",
      "AHHHHHHHHH\n",
      "0\n",
      "AHHHHHHHHH\n",
      "0\n",
      "AHHHHHHHHH\n",
      "0\n",
      "AHHHHHHHHH\n",
      "77\n",
      "0\n",
      "AHHHHHHHHH\n",
      "78\n",
      "79\n",
      "0\n",
      "AHHHHHHHHH\n",
      "0\n",
      "AHHHHHHHHH\n",
      "0\n",
      "AHHHHHHHHH\n",
      "80\n",
      "81\n",
      "0\n",
      "AHHHHHHHHH\n",
      "82\n",
      "83\n",
      "84\n",
      "85\n",
      "0\n",
      "AHHHHHHHHH\n",
      "86\n",
      "0\n",
      "AHHHHHHHHH\n",
      "0\n",
      "AHHHHHHHHH\n",
      "0\n",
      "AHHHHHHHHH\n",
      "0\n",
      "AHHHHHHHHH\n",
      "87\n",
      "0\n",
      "AHHHHHHHHH\n",
      "0\n",
      "AHHHHHHHHH\n",
      "0\n",
      "AHHHHHHHHH\n",
      "0\n",
      "AHHHHHHHHH\n",
      "88\n",
      "89\n",
      "0\n",
      "AHHHHHHHHH\n",
      "0\n",
      "AHHHHHHHHH\n",
      "0\n",
      "AHHHHHHHHH\n",
      "0\n",
      "AHHHHHHHHH\n",
      "90\n",
      "0\n",
      "AHHHHHHHHH\n",
      "0\n",
      "AHHHHHHHHH\n",
      "0\n",
      "AHHHHHHHHH\n",
      "0\n",
      "AHHHHHHHHH\n",
      "91\n",
      "0\n",
      "AHHHHHHHHH\n",
      "0\n",
      "AHHHHHHHHH\n",
      "0\n",
      "AHHHHHHHHH\n",
      "0\n",
      "AHHHHHHHHH\n",
      "92\n",
      "93\n",
      "0\n",
      "AHHHHHHHHH\n",
      "0\n",
      "AHHHHHHHHH\n",
      "0\n",
      "AHHHHHHHHH\n",
      "94\n",
      "95\n",
      "0\n",
      "AHHHHHHHHH\n",
      "0\n",
      "AHHHHHHHHH\n",
      "0\n",
      "AHHHHHHHHH\n",
      "0\n",
      "AHHHHHHHHH\n"
     ]
    }
   ],
   "source": [
    "for jj, df_list in enumerate(dfs_t):\n",
    "    print(jj)\n",
    "    for i, df in enumerate(df_list):\n",
    "        if type(df) == int:\n",
    "            print(df)\n",
    "            print('AHHHHHHHHH')\n",
    "        else:\n",
    "            pass\n",
    "            #print(taus[i])\n",
    "            #print(df[['TP', 'FP', 'FN']])\n",
    "            #print(df['pth_model'][0])"
   ],
   "metadata": {
    "collapsed": false,
    "ExecuteTime": {
     "end_time": "2024-04-02T17:16:50.841452600Z",
     "start_time": "2024-04-02T17:16:50.823452200Z"
    }
   },
   "id": "1c0d00709cf06911",
   "execution_count": 446
  },
  {
   "cell_type": "code",
   "outputs": [],
   "source": [
    "model_mAPs = []\n",
    "pth_models = []\n",
    "for df_list in dfs_t:\n",
    "    mAPs = []\n",
    "    pth_models.append(df_list[0]['pth_model'][0])\n",
    "    for df in df_list:\n",
    "        if type(df) != int:\n",
    "            # print(df.iloc[0]['Tau'])\n",
    "            #df.head()\n",
    "            mAP = mean_avg_precision(df)\n",
    "            # print(mAP)\n",
    "            mAPs.append(mAP)\n",
    "        else:\n",
    "            mAPs.append(0)\n",
    "    model_mAPs.append(mAPs)"
   ],
   "metadata": {
    "collapsed": false,
    "ExecuteTime": {
     "end_time": "2024-03-30T21:26:17.134009Z",
     "start_time": "2024-03-30T21:26:17.123008800Z"
    }
   },
   "id": "45c18c9ce48f6583",
   "execution_count": 53
  },
  {
   "cell_type": "code",
   "outputs": [
    {
     "name": "stdout",
     "output_type": "stream",
     "text": [
      "96\n",
      "96\n"
     ]
    }
   ],
   "source": [
    "print(len(model_mAPs))\n",
    "print(len(pth_models))"
   ],
   "metadata": {
    "collapsed": false,
    "ExecuteTime": {
     "end_time": "2024-03-30T21:26:18.079706200Z",
     "start_time": "2024-03-30T21:26:18.068891200Z"
    }
   },
   "id": "3b937514ef2eb295",
   "execution_count": 54
  },
  {
   "cell_type": "code",
   "outputs": [
    {
     "data": {
      "text/plain": "[0.6497455474443673,\n 0.5766752438649796,\n 0.4533550150533056,\n 0.27279020411182797,\n 0.04932570569300726]"
     },
     "execution_count": 26,
     "metadata": {},
     "output_type": "execute_result"
    }
   ],
   "source": [
    "model_mAPs[0]"
   ],
   "metadata": {
    "collapsed": false,
    "ExecuteTime": {
     "end_time": "2024-03-30T21:16:30.959307500Z",
     "start_time": "2024-03-30T21:16:30.941762300Z"
    }
   },
   "id": "e1029905cb178dc2",
   "execution_count": 26
  },
  {
   "cell_type": "code",
   "outputs": [],
   "source": [
    "taus = [0.5, 0.6, 0.7, 0.8, 0.9]"
   ],
   "metadata": {
    "collapsed": false,
    "ExecuteTime": {
     "end_time": "2024-03-30T21:16:32.467018300Z",
     "start_time": "2024-03-30T21:16:32.462018300Z"
    }
   },
   "id": "f0898f1f1ee755e6",
   "execution_count": 27
  },
  {
   "cell_type": "code",
   "outputs": [
    {
     "data": {
      "text/plain": "<Figure size 640x480 with 1 Axes>",
      "image/png": "[encoded data removed]"
     },
     "metadata": {},
     "output_type": "display_data"
    }
   ],
   "source": [
    "plt.plot(taus, model_mAPs[0], marker='o', linestyle='-')\n",
    "\n",
    "# Adding labels and title\n",
    "plt.xlabel('Tau')\n",
    "plt.ylabel('Accuracy: mAP')\n",
    "plt.title('Accuracy of some model')\n",
    "plt.xticks(taus)\n",
    "plt.ylim(0, 1)\n",
    "plt.grid('on')\n",
    "\n",
    "# Display the plot\n",
    "plt.show()"
   ],
   "metadata": {
    "collapsed": false,
    "ExecuteTime": {
     "end_time": "2024-03-30T21:16:32.776746700Z",
     "start_time": "2024-03-30T21:16:32.715925400Z"
    }
   },
   "id": "b08d1bd43e009880",
   "execution_count": 28
  },
  {
   "cell_type": "code",
   "outputs": [
    {
     "data": {
      "text/plain": "[[0.6497455474443673,\n  0.5766752438649796,\n  0.4533550150533056,\n  0.27279020411182797,\n  0.04932570569300726],\n [0.6474682934117701,\n  0.5737838326820074,\n  0.4524243366434354,\n  0.2635759192890016,\n  0.031821769237044974],\n [0.641020398339668,\n  0.5642556614971083,\n  0.44809664326075715,\n  0.26449014004350296,\n  0.03779779041544386],\n [0.64502660271505,\n  0.5693088756168806,\n  0.4548439048436756,\n  0.2562886939117379,\n  0.03808546611855219],\n [0.6468098383022293,\n  0.5684510930778914,\n  0.4481990923943563,\n  0.2647719056227213,\n  0.040105395971536666],\n [0.6393892458895107,\n  0.568579430937665,\n  0.44884579559536963,\n  0.26246777790328985,\n  0.03537693365673645],\n [0.6332431840382917,\n  0.5637387482728005,\n  0.44245287320964394,\n  0.255027879278478,\n  0.03296641127129512],\n [0.6157881276502943,\n  0.5330664534455867,\n  0.4163726564918866,\n  0.2361593300549824,\n  0.03461129225250334],\n [0.6443463297348132,\n  0.5732712715815814,\n  0.46089788795307346,\n  0.27598753270995086,\n  0.04361772256970507],\n [0.6470655663161171,\n  0.5806347944331213,\n  0.4586390409843838,\n  0.2710223507242488,\n  0.040320170599721074],\n [0.6280000799893105,\n  0.5624479880171412,\n  0.4475268928490039,\n  0.2635825234122927,\n  0.03961738899553045],\n [0.6209946336703906,\n  0.5584983996956485,\n  0.44929201486649395,\n  0.27162032118934026,\n  0.03742816771436663],\n [0.6210568731350425,\n  0.5548833065579416,\n  0.44055475626732116,\n  0.24936394809741005,\n  0.030367014009729326],\n [0.6159222683705037,\n  0.5511371480977338,\n  0.43731114402209664,\n  0.24672364779498063,\n  0.03121330279978474],\n [0.6437751411066147,\n  0.569808097174407,\n  0.4476329201126239,\n  0.26448343500811516,\n  0.03359195486978673],\n [0.6333174337946029,\n  0.5671070927869074,\n  0.45243058231746797,\n  0.2678492978252052,\n  0.03530884067147096],\n [0.622094813094591,\n  0.5564518402471326,\n  0.44841369072777804,\n  0.2567231436726415,\n  0.03090979895238549],\n [0.6253551726820754,\n  0.5454990454828683,\n  0.4146340619326458,\n  0.2227554056130911,\n  0.02200229595956954],\n [0.6486874315516898,\n  0.5739015482959952,\n  0.4462625189808129,\n  0.25317967239558264,\n  0.03415958937323931],\n [0.6284995445441152,\n  0.5655548317590313,\n  0.4440203926993277,\n  0.261386234647665,\n  0.03680761439919252],\n [0.6259310902616422,\n  0.5411007445068295,\n  0.40376644609428114,\n  0.2207143722759743,\n  0.023796225509076875],\n [0.612833865777229,\n  0.5522399122662244,\n  0.43829003786411286,\n  0.24098735178706607,\n  0.025552214117816753],\n [0.6345409452746518,\n  0.566132935927065,\n  0.4483932412688903,\n  0.26183176941852626,\n  0.03049730951864433],\n [0.6097800337274585,\n  0.5458136085934892,\n  0.42479268177018553,\n  0.23479147730170752,\n  0.02133318287228694],\n [0.66304605396671,\n  0.5874635156252478,\n  0.474165327050398,\n  0.2738052284469133,\n  0.03296516029696507],\n [0.6176429521201744,\n  0.5544435426276901,\n  0.4481965146890473,\n  0.2630727369974054,\n  0.03633795572286115],\n [0.6616700725329057,\n  0.580527771219456,\n  0.4488719154922144,\n  0.2402575227273911,\n  0.020370413640106187],\n [0.6413889498028675,\n  0.5666570071510851,\n  0.44979010926184854,\n  0.2430675996338287,\n  0.02331677947900091],\n [0.6514833426406158,\n  0.5845690577830319,\n  0.47334704998642396,\n  0.2669444276998867,\n  0.03299446913403989],\n [0.6388857642526087,\n  0.5598190148074359,\n  0.4353566217223243,\n  0.23863020998505888,\n  0.029284037235260792],\n [0.6499933529578674,\n  0.5758629701752508,\n  0.45340311738503436,\n  0.2602512025732514,\n  0.02921761102735963],\n [0.6465421763687608,\n  0.571939204595423,\n  0.45170833488651646,\n  0.2579568974338144,\n  0.03429661004742195],\n [0.6604425452175473,\n  0.5823447607564475,\n  0.462016695159373,\n  0.2665071517711312,\n  0.03431317959040302],\n [0.6426109837621585,\n  0.5645101219402177,\n  0.44011479325401526,\n  0.23801694967989961,\n  0.025951527562113302],\n [0.6550014626478528,\n  0.5906081394180818,\n  0.47108858499654965,\n  0.2717982851251446,\n  0.037618087965617567],\n [0.6348787778093022,\n  0.5580546331370045,\n  0.4440133897856117,\n  0.2519535537794338,\n  0.027076190954294452],\n [0.6102988617203752,\n  0.5414748283659957,\n  0.42721585224475384,\n  0.2498594085184622,\n  0.04214715511617916],\n [0.632201252910399,\n  0.5599727890915898,\n  0.44692094446598096,\n  0.24999469670673405,\n  0.027605782850965075],\n [0.6297985986654798,\n  0.5594578109570619,\n  0.4463981055520833,\n  0.25317045999237464,\n  0.02826649002304418],\n [0.6528521592342585,\n  0.5791757543919367,\n  0.4588048059733104,\n  0.2754767444390319,\n  0.04297695256320728],\n [0.6622550218559431,\n  0.5911165634917219,\n  0.4679371945161191,\n  0.2818643935075125,\n  0.040305406398221645],\n [0.630622309933606,\n  0.5596921419812501,\n  0.44308136801981635,\n  0.25637395225565635,\n  0.03636838818793046],\n [0.6314651084393292,\n  0.5705289008665532,\n  0.4661511607136072,\n  0.2757199728195242,\n  0.032878571187147064],\n [0.6419571301198517,\n  0.5681592535427391,\n  0.44219596138052303,\n  0.23817326945542203,\n  0.022750535599035008],\n [0.650689928875326,\n  0.5742386894478574,\n  0.4532363082681692,\n  0.2503317937871631,\n  0.027064661940207367],\n [0.6499124525167538,\n  0.5786757601408133,\n  0.4574625068827364,\n  0.25231829029929964,\n  0.02705549482937095],\n [0.6264437571024477,\n  0.557756274153964,\n  0.44437683023114544,\n  0.2633246602046999,\n  0.04143646905542121],\n [0.6203452737127872,\n  0.5507563354301315,\n  0.44425162186594813,\n  0.26093180012223227,\n  0.034818044671845724],\n [0.6450350738548053,\n  0.572825231578072,\n  0.4506632398335875,\n  0.2515118378972959,\n  0.034998166041109814],\n [0.6398432407581629,\n  0.5604317462680826,\n  0.43537877828916416,\n  0.24300207024130094,\n  0.03284765758805195],\n [0.6361457820996258,\n  0.5611798127696268,\n  0.43339340247698616,\n  0.2550536636928585,\n  0.03814889452172772],\n [0.6312254299366649,\n  0.5541975017804402,\n  0.42834522090484406,\n  0.22915132755008058,\n  0.03022320186707574],\n [0.6292712869163175,\n  0.554248978836382,\n  0.4284280012400666,\n  0.23540464062292202,\n  0.030033975357471175],\n [0.6267424190827547,\n  0.5592894847658242,\n  0.43809944297442927,\n  0.24906140941151025,\n  0.026696194084439982],\n [0.6479946694329897,\n  0.561664899367993,\n  0.42790810698286846,\n  0.21502147732673232,\n  0.01945171291544059],\n [0.6306864065947566,\n  0.5497484689096573,\n  0.42305800416224393,\n  0.2257831565426078,\n  0.0259406711907437],\n [0.6119869231601268,\n  0.5417407713667213,\n  0.4224515313940852,\n  0.2191062128244416,\n  0.01823869898460614],\n [0.6407369517292124,\n  0.5673246985557843,\n  0.4403375430086981,\n  0.2543451110845353,\n  0.032065165449556794],\n [0.621324816468861,\n  0.5565374835336845,\n  0.44879018814350496,\n  0.26417275444018845,\n  0.03649772121629596],\n [0.6220492747428329,\n  0.5354930280225492,\n  0.4162829336563565,\n  0.23283420919905606,\n  0.03145917982990421],\n [0.6466482018358767,\n  0.5757839845547593,\n  0.4557013589621549,\n  0.2567083890899874,\n  0.030858095895877242],\n [0.609696327729087,\n  0.5329314717801368,\n  0.4110444900368667,\n  0.21422836663854516,\n  0.020271727178019717],\n [0.6314508732278467,\n  0.5544277167346597,\n  0.4249189398060974,\n  0.24308859975957978,\n  0.03420376779597238],\n [0.5916001042825515,\n  0.526393417873034,\n  0.4245554886417419,\n  0.23982517858232402,\n  0.027739127694272663],\n [0.637979284963703,\n  0.5671032862962966,\n  0.4461943466805084,\n  0.2493472995245174,\n  0.031091618516815023],\n [0.6048743686519992,\n  0.521779162756407,\n  0.4024794448801983,\n  0.1926581871134553,\n  0.019884969332339044],\n [0.601092141443641,\n  0.530865978133747,\n  0.41762563602040953,\n  0.23561981743040922,\n  0.032116961625494066],\n [0.6545221333716359,\n  0.5706917990420943,\n  0.4430250943844301,\n  0.2574598688791304,\n  0.039766107401450194],\n [0.6505729300671479,\n  0.5767312723685158,\n  0.4476628175549323,\n  0.22574180444617667,\n  0.020512768967295644],\n [0.6419425891019485,\n  0.5566210629064721,\n  0.4246547904724203,\n  0.22836424149414244,\n  0.02920179615688519],\n [0.6179453581022994,\n  0.5386379791904933,\n  0.4279643261406827,\n  0.24371462803991562,\n  0.031026245478399436],\n [0.6437409395395673,\n  0.557040535933578,\n  0.4180531794109169,\n  0.21264151126981087,\n  0.02153168904666417],\n [0.6073710216319933,\n  0.5221934055380639,\n  0.4108848800987116,\n  0.2145540561114105,\n  0.02310267913391643],\n [0.007738266393916934, 0, 0, 0, 0],\n [0.008506340534337657, 0, 0, 0, 0],\n [0.013060860133132065, 0.0033391917131068787, 0, 0, 0],\n [0.01014922588877909, 0, 0, 0, 0],\n [0.5880653128820599,\n  0.4863843110125298,\n  0.34357100733730433,\n  0.14026951278437863,\n  0],\n [0.571433910900428,\n  0.5041843535924045,\n  0.3833429617558675,\n  0.19568800138078066,\n  0.016861540097371053],\n [0.008594044465666625, 0.002130676997298566, 0, 0, 0],\n [0.5994924066343649,\n  0.5236320819089529,\n  0.3991027933631747,\n  0.21424492146517396,\n  0.022487244950052727],\n [0.519176935690265,\n  0.37946996006727646,\n  0.21155775991009976,\n  0.05060232967267129,\n  0],\n [0.6099161885226588,\n  0.5202934760419063,\n  0.38608640565946795,\n  0.19669910722005596,\n  0.02025884074074175],\n [0.602186053983878,\n  0.5184403877207523,\n  0.3979263009765551,\n  0.207551142558612,\n  0.020870495873892732],\n [0.6035569183006613,\n  0.526494117538756,\n  0.39565094390651506,\n  0.19989450476576467,\n  0.015379809062287078],\n [0.548920411664783,\n  0.4644205405279789,\n  0.3288944815160832,\n  0.14756695492116104,\n  0],\n [0.008269027053626163, 0, 0, 0, 0],\n [0.008561380854179788, 0, 0, 0, 0],\n [0.5913170697917446,\n  0.5132601911566181,\n  0.37331120735331924,\n  0.16694094405586504,\n  0.012492453147267603],\n [0.007693394808757957, 0, 0, 0, 0],\n [0.008414602992882448, 0, 0, 0, 0],\n [0.007751016531416839, 0, 0, 0, 0],\n [0.6082730853075774,\n  0.5203849316237611,\n  0.39824946086578805,\n  0.20210371839707766,\n  0.019320089174565822],\n [0.007206201160279759, 0.001831157852462864, 0, 0, 0],\n [0.6065689824541981,\n  0.5277106015134937,\n  0.40070965074341264,\n  0.20191741445655845,\n  0.022763089862459285],\n [0.0084490941216384, 0, 0, 0, 0]]"
     },
     "execution_count": 29,
     "metadata": {},
     "output_type": "execute_result"
    }
   ],
   "source": [
    "model_mAPs"
   ],
   "metadata": {
    "collapsed": false,
    "ExecuteTime": {
     "end_time": "2024-03-30T21:16:33.788566100Z",
     "start_time": "2024-03-30T21:16:33.777642100Z"
    }
   },
   "id": "45dec85928c25d3e",
   "execution_count": 29
  },
  {
   "cell_type": "code",
   "outputs": [
    {
     "name": "stdout",
     "output_type": "stream",
     "text": [
      "Area under the curve: 0.16523560895988007\n",
      "Mean value on curve: 0.40037834323349764\n",
      "\n",
      "Area under the curve: 0.1629429119938852\n",
      "Mean value on curve: 0.39381483025265196\n",
      "\n",
      "Area under the curve: 0.16162515391789242\n",
      "Mean value on curve: 0.39113212671129605\n",
      "\n",
      "Area under the curve: 0.16219975087890953\n",
      "Mean value on curve: 0.3927107086411793\n",
      "\n",
      "Area under the curve: 0.1624879708231852\n",
      "Mean value on curve: 0.39366746507374706\n",
      "\n",
      "Area under the curve: 0.16172760942094483\n",
      "Mean value on curve: 0.39093183679651433\n",
      "\n",
      "Area under the curve: 0.15943242984157158\n",
      "Mean value on curve: 0.38548581921410185\n",
      "\n",
      "Area under the curve: 0.15107981499438547\n",
      "Mean value on curve: 0.3671995719790507\n",
      "\n",
      "Area under the curve: 0.16541387183968648\n",
      "Mean value on curve: 0.3996241489098248\n",
      "\n",
      "Area under the curve: 0.16539890545996733\n",
      "Mean value on curve: 0.3995363846115184\n",
      "\n",
      "Area under the curve: 0.16073661387708582\n",
      "Mean value on curve: 0.3882349746526558\n",
      "\n",
      "Area under the curve: 0.16086221364438616\n",
      "Mean value on curve: 0.387566707427248\n",
      "\n",
      "Area under the curve: 0.1570513954495059\n",
      "Mean value on curve: 0.37924517961348897\n",
      "\n",
      "Area under the curve: 0.15587397254999555\n",
      "Mean value on curve: 0.3764615022170199\n",
      "\n",
      "Area under the curve: 0.16206080002833467\n",
      "Mean value on curve: 0.39185830965430946\n",
      "\n",
      "Area under the curve: 0.16217001101626177\n",
      "Mean value on curve: 0.39120264947913086\n",
      "\n",
      "Area under the curve: 0.15880909806710403\n",
      "Mean value on curve: 0.38291865733890573\n",
      "\n",
      "Area under the curve: 0.15065672473494277\n",
      "Mean value on curve: 0.3660491963340501\n",
      "\n",
      "Area under the curve: 0.16147672501348553\n",
      "Mean value on curve: 0.391238152119464\n",
      "\n",
      "Area under the curve: 0.16036150385776776\n",
      "Mean value on curve: 0.3872537236098663\n",
      "\n",
      "Area under the curve: 0.14904452207624444\n",
      "Mean value on curve: 0.36306177572956083\n",
      "\n",
      "Area under the curve: 0.1550710341864926\n",
      "Mean value on curve: 0.3739806763624898\n",
      "\n",
      "Area under the curve: 0.160887707401113\n",
      "Mean value on curve: 0.38827924028155547\n",
      "\n",
      "Area under the curve: 0.1520954375965255\n",
      "Mean value on curve: 0.3673021968530255\n",
      "\n",
      "Area under the curve: 0.16834396782543967\n",
      "Mean value on curve: 0.4062890570772468\n",
      "\n",
      "Area under the curve: 0.1592703248235661\n",
      "Mean value on curve: 0.3839387404314357\n",
      "\n",
      "Area under the curve: 0.16106774525255677\n",
      "Mean value on curve: 0.3903395391224147\n",
      "\n",
      "Area under the curve: 0.15918675806876967\n",
      "Mean value on curve: 0.3848440890657262\n",
      "\n",
      "Area under the curve: 0.16670994413566706\n",
      "Mean value on curve: 0.4018676694487997\n",
      "\n",
      "Area under the curve: 0.1567890747258754\n",
      "Mean value on curve: 0.38039512960053773\n",
      "\n",
      "Area under the curve: 0.16291227721261503\n",
      "Mean value on curve: 0.39374565082375274\n",
      "\n",
      "Area under the curve: 0.16220238301238454\n",
      "Mean value on curve: 0.3924886446663874\n",
      "\n",
      "Area under the curve: 0.16582464700909272\n",
      "Mean value on curve: 0.4011248664989804\n",
      "\n",
      "Area under the curve: 0.15769231205362683\n",
      "Mean value on curve: 0.38224087523968087\n",
      "\n",
      "Area under the curve: 0.1679804784846511\n",
      "Mean value on curve: 0.40522291203064925\n",
      "\n",
      "Area under the curve: 0.15849990610838485\n",
      "Mean value on curve: 0.3831953090931294\n",
      "\n",
      "Area under the curve: 0.15447730975474888\n",
      "Mean value on curve: 0.3741992211931532\n",
      "\n",
      "Area under the curve: 0.1586791948144987\n",
      "Mean value on curve: 0.38333909320513376\n",
      "\n",
      "Area under the curve: 0.15880589208457818\n",
      "Mean value on curve: 0.3834182930380088\n",
      "\n",
      "Area under the curve: 0.16613718607030117\n",
      "Mean value on curve: 0.401857283320349\n",
      "\n",
      "Area under the curve: 0.1692198365642436\n",
      "Mean value on curve: 0.4086957159539037\n",
      "\n",
      "Area under the curve: 0.15926428113174912\n",
      "Mean value on curve: 0.3852276320756518\n",
      "\n",
      "Area under the curve: 0.16445718742129226\n",
      "Mean value on curve: 0.39534874280523213\n",
      "\n",
      "Area under the curve: 0.15808823172381276\n",
      "Mean value on curve: 0.3826472300195142\n",
      "\n",
      "Area under the curve: 0.16166840869109564\n",
      "Mean value on curve: 0.3911122764637446\n",
      "\n",
      "Area under the curve: 0.16269405309959117\n",
      "Mean value on curve: 0.3930849009337948\n",
      "\n",
      "Area under the curve: 0.1599397877668744\n",
      "Mean value on curve: 0.38666759814953566\n",
      "\n",
      "Area under the curve: 0.15835214166106285\n",
      "Mean value on curve: 0.38222061516058903\n",
      "\n",
      "Area under the curve: 0.1615016929256913\n",
      "Mean value on curve: 0.3910067098409741\n",
      "\n",
      "Area under the curve: 0.1575158043971655\n",
      "Mean value on curve: 0.3823006986289525\n",
      "\n",
      "Area under the curve: 0.1586774217250148\n",
      "Mean value on curve: 0.384784311112165\n",
      "\n",
      "Area under the curve: 0.1542418366137235\n",
      "Mean value on curve: 0.3746285364078211\n",
      "\n",
      "Area under the curve: 0.15477342518362652\n",
      "Mean value on curve: 0.3754773765946319\n",
      "\n",
      "Area under the curve: 0.15731696437353612\n",
      "Mean value on curve: 0.3799777900637917\n",
      "\n",
      "Area under the curve: 0.15383176748518088\n",
      "Mean value on curve: 0.3744081732052048\n",
      "\n",
      "Area under the curve: 0.15269031685072593\n",
      "Mean value on curve: 0.3710433414800019\n",
      "\n",
      "Area under the curve: 0.14984113266576143\n",
      "Mean value on curve: 0.3627048275459962\n",
      "\n",
      "Area under the curve: 0.15984084112384023\n",
      "Mean value on curve: 0.38696189396555736\n",
      "\n",
      "Area under the curve: 0.15984116949599564\n",
      "Mean value on curve: 0.385464592760507\n",
      "\n",
      "Area under the curve: 0.15113643981643302\n",
      "Mean value on curve: 0.36762372509013974\n",
      "\n",
      "Area under the curve: 0.16269468814727786\n",
      "Mean value on curve: 0.39314000606773114\n",
      "\n",
      "Area under the curve: 0.1473188355909102\n",
      "Mean value on curve: 0.35763447667253107\n",
      "\n",
      "Area under the curve: 0.15552625768122463\n",
      "Mean value on curve: 0.3776179794648312\n",
      "\n",
      "Area under the curve: 0.15004437010855118\n",
      "Mean value on curve: 0.36202266341478484\n",
      "\n",
      "Area under the curve: 0.15971803842415813\n",
      "Mean value on curve: 0.38634316719636813\n",
      "\n",
      "Area under the curve: 0.14292964637422298\n",
      "Mean value on curve: 0.3483352265468798\n",
      "\n",
      "Area under the curve: 0.15007159831191333\n",
      "Mean value on curve: 0.36346410693074016\n",
      "\n",
      "Area under the curve: 0.1618320882692198\n",
      "Mean value on curve: 0.39309300061574814\n",
      "\n",
      "Area under the curve: 0.15856787438868467\n",
      "Mean value on curve: 0.38424431868081366\n",
      "\n",
      "Area under the curve: 0.15452122875024515\n",
      "Mean value on curve: 0.3761568960263737\n",
      "\n",
      "Area under the curve: 0.1534802735161441\n",
      "Mean value on curve: 0.37185770739035806\n",
      "\n",
      "Area under the curve: 0.15203715409074217\n",
      "Mean value on curve: 0.37060157104010744\n",
      "\n",
      "Area under the curve: 0.1462869192131141\n",
      "Mean value on curve: 0.35562120850281914\n",
      "\n",
      "Area under the curve: 0.00038691331969584663\n",
      "Mean value on curve: 0.001547653278783387\n",
      "\n",
      "Area under the curve: 0.00042531702671688276\n",
      "Mean value on curve: 0.0017012681068675315\n",
      "\n",
      "Area under the curve: 0.0009869621779672907\n",
      "Mean value on curve: 0.0032800103692477885\n",
      "\n",
      "Area under the curve: 0.0005074612944389544\n",
      "Mean value on curve: 0.002029845177755818\n",
      "\n",
      "Area under the curve: 0.12642574875752427\n",
      "Mean value on curve: 0.31165802880325455\n",
      "\n",
      "Area under the curve: 0.1377363042227952\n",
      "Mean value on curve: 0.33430215354537035\n",
      "\n",
      "Area under the curve: 0.0006427699230131878\n",
      "Mean value on curve: 0.0021449442925930385\n",
      "\n",
      "Area under the curve: 0.14479696225295105\n",
      "Mean value on curve: 0.3517918896643439\n",
      "\n",
      "Area under the curve: 0.090121851749518\n",
      "Mean value on curve: 0.2321613970680625\n",
      "\n",
      "Area under the curve: 0.14181665035531305\n",
      "Mean value on curve: 0.34665080363696615\n",
      "\n",
      "Area under the curve: 0.1435446106184805\n",
      "Mean value on curve: 0.34939487622273807\n",
      "\n",
      "Area under the curve: 0.14315079298925096\n",
      "Mean value on curve: 0.3481952587147968\n",
      "\n",
      "Area under the curve: 0.12153421827976148\n",
      "Mean value on curve: 0.29796047772600126\n",
      "\n",
      "Area under the curve: 0.00041345135268130805\n",
      "Mean value on curve: 0.0016538054107252324\n",
      "\n",
      "Area under the curve: 0.0004280690427089893\n",
      "Mean value on curve: 0.0017122761708359576\n",
      "\n",
      "Area under the curve: 0.13554171040353086\n",
      "Mean value on curve: 0.33146437310096294\n",
      "\n",
      "Area under the curve: 0.00038466974043789776\n",
      "Mean value on curve: 0.0015386789617515915\n",
      "\n",
      "Area under the curve: 0.0004207301496441223\n",
      "Mean value on curve: 0.0016829205985764897\n",
      "\n",
      "Area under the curve: 0.00038755082657084184\n",
      "Mean value on curve: 0.0015502033062833678\n",
      "\n",
      "Area under the curve: 0.14345346981276985\n",
      "Mean value on curve: 0.349666257073754\n",
      "\n",
      "Area under the curve: 0.0005434258432602742\n",
      "Mean value on curve: 0.0018074718025485245\n",
      "\n",
      "Area under the curve: 0.14450037028717935\n",
      "Mean value on curve: 0.3519339478060245\n",
      "\n",
      "Area under the curve: 0.0004224547060819199\n",
      "Mean value on curve: 0.00168981882432768\n"
     ]
    }
   ],
   "source": [
    "aucs = []\n",
    "means=[]\n",
    "\n",
    "for i, mAPs in enumerate(model_mAPs):\n",
    "    if mAPs != 0:\n",
    "        area_under_curve = integrate.trapz(mAPs, taus)\n",
    "        mean = np.mean(mAPs)\n",
    "    else:\n",
    "        area_under_curve = 0\n",
    "        mean = 0\n",
    "    print(f\"Area under the curve: {area_under_curve}\")\n",
    "    aucs.append(area_under_curve)\n",
    "    print(f'Mean value on curve: {mean}\\n')\n",
    "    means.append(mean)"
   ],
   "metadata": {
    "collapsed": false,
    "ExecuteTime": {
     "end_time": "2024-03-30T21:16:34.747884200Z",
     "start_time": "2024-03-30T21:16:34.736884Z"
    }
   },
   "id": "8b4b60fd3e6bb99",
   "execution_count": 30
  },
  {
   "cell_type": "code",
   "outputs": [
    {
     "data": {
      "text/plain": "[0.40037834323349764,\n 0.39381483025265196,\n 0.39113212671129605,\n 0.3927107086411793,\n 0.39366746507374706,\n 0.39093183679651433,\n 0.38548581921410185,\n 0.3671995719790507,\n 0.3996241489098248,\n 0.3995363846115184,\n 0.3882349746526558,\n 0.387566707427248,\n 0.37924517961348897,\n 0.3764615022170199,\n 0.39185830965430946,\n 0.39120264947913086,\n 0.38291865733890573,\n 0.3660491963340501,\n 0.391238152119464,\n 0.3872537236098663,\n 0.36306177572956083,\n 0.3739806763624898,\n 0.38827924028155547,\n 0.3673021968530255,\n 0.4062890570772468,\n 0.3839387404314357,\n 0.3903395391224147,\n 0.3848440890657262,\n 0.4018676694487997,\n 0.38039512960053773,\n 0.39374565082375274,\n 0.3924886446663874,\n 0.4011248664989804,\n 0.38224087523968087,\n 0.40522291203064925,\n 0.3831953090931294,\n 0.3741992211931532,\n 0.38333909320513376,\n 0.3834182930380088,\n 0.401857283320349,\n 0.4086957159539037,\n 0.3852276320756518,\n 0.39534874280523213,\n 0.3826472300195142,\n 0.3911122764637446,\n 0.3930849009337948,\n 0.38666759814953566,\n 0.38222061516058903,\n 0.3910067098409741,\n 0.3823006986289525,\n 0.384784311112165,\n 0.3746285364078211,\n 0.3754773765946319,\n 0.3799777900637917,\n 0.3744081732052048,\n 0.3710433414800019,\n 0.3627048275459962,\n 0.38696189396555736,\n 0.385464592760507,\n 0.36762372509013974,\n 0.39314000606773114,\n 0.35763447667253107,\n 0.3776179794648312,\n 0.36202266341478484,\n 0.38634316719636813,\n 0.3483352265468798,\n 0.36346410693074016,\n 0.39309300061574814,\n 0.38424431868081366,\n 0.3761568960263737,\n 0.37185770739035806,\n 0.37060157104010744,\n 0.35562120850281914,\n 0.001547653278783387,\n 0.0017012681068675315,\n 0.0032800103692477885,\n 0.002029845177755818,\n 0.31165802880325455,\n 0.33430215354537035,\n 0.0021449442925930385,\n 0.3517918896643439,\n 0.2321613970680625,\n 0.34665080363696615,\n 0.34939487622273807,\n 0.3481952587147968,\n 0.29796047772600126,\n 0.0016538054107252324,\n 0.0017122761708359576,\n 0.33146437310096294,\n 0.0015386789617515915,\n 0.0016829205985764897,\n 0.0015502033062833678,\n 0.349666257073754,\n 0.0018074718025485245,\n 0.3519339478060245,\n 0.00168981882432768]"
     },
     "execution_count": 31,
     "metadata": {},
     "output_type": "execute_result"
    }
   ],
   "source": [
    "means"
   ],
   "metadata": {
    "collapsed": false,
    "ExecuteTime": {
     "end_time": "2024-03-30T21:16:35.521787300Z",
     "start_time": "2024-03-30T21:16:35.509787500Z"
    }
   },
   "id": "6ab0dce4b7bcda67",
   "execution_count": 31
  },
  {
   "cell_type": "code",
   "outputs": [
    {
     "data": {
      "text/plain": "96"
     },
     "execution_count": 32,
     "metadata": {},
     "output_type": "execute_result"
    }
   ],
   "source": [
    "len(means)"
   ],
   "metadata": {
    "collapsed": false,
    "ExecuteTime": {
     "end_time": "2024-03-30T21:16:39.220998900Z",
     "start_time": "2024-03-30T21:16:39.210417400Z"
    }
   },
   "id": "84358edc708e14da",
   "execution_count": 32
  },
  {
   "cell_type": "code",
   "outputs": [
    {
     "name": "stdout",
     "output_type": "stream",
     "text": [
      "96\n",
      "96\n"
     ]
    }
   ],
   "source": [
    "print(len(model_mAPs))\n",
    "print(len(pth_models))"
   ],
   "metadata": {
    "collapsed": false,
    "ExecuteTime": {
     "end_time": "2024-03-30T21:26:54.931906200Z",
     "start_time": "2024-03-30T21:26:54.917906Z"
    }
   },
   "id": "5f44b581eca0a5f8",
   "execution_count": 56
  },
  {
   "cell_type": "code",
   "outputs": [
    {
     "data": {
      "text/plain": "['monkey',\n '12',\n '12',\n '2023',\n 'lr',\n '0.0005',\n 'epochs',\n '100',\n 'pt',\n '10',\n 'gaus',\n 'ratio',\n '0']"
     },
     "execution_count": 62,
     "metadata": {},
     "output_type": "execute_result"
    }
   ],
   "source": [
    "pth_models[0].split('_')"
   ],
   "metadata": {
    "collapsed": false,
    "ExecuteTime": {
     "end_time": "2024-03-30T21:27:40.482408200Z",
     "start_time": "2024-03-30T21:27:40.473408200Z"
    }
   },
   "id": "fa1e1ee8f45afdb7",
   "execution_count": 62
  },
  {
   "cell_type": "code",
   "outputs": [
    {
     "name": "stdout",
     "output_type": "stream",
     "text": [
      "0.0005 100 10 0\n",
      "0.0005 100 10 0.1\n",
      "0.0005 100 20 0\n",
      "0.0005 100 20 0.1\n",
      "0.0005 100 30 0\n",
      "0.0005 100 30 0.1\n",
      "0.0005 100 40 0\n",
      "0.0005 100 40 0.1\n",
      "0.0005 200 10 0\n",
      "0.0005 200 10 0.1\n",
      "0.0005 200 20 0\n",
      "0.0005 200 20 0.1\n",
      "0.0005 200 30 0\n",
      "0.0005 200 30 0.1\n",
      "0.0005 200 40 0\n",
      "0.0005 200 40 0.1\n",
      "0.0005 400 10 0\n",
      "0.0005 400 10 0.1\n",
      "0.0005 400 20 0\n",
      "0.0005 400 20 0.1\n",
      "0.0005 400 30 0\n",
      "0.0005 400 30 0.1\n",
      "0.0005 400 40 0\n",
      "0.0005 400 40 0.1\n",
      "0.001 100 10 0\n",
      "0.001 100 10 0.1\n",
      "0.001 100 20 0\n",
      "0.001 100 20 0.1\n",
      "0.001 100 30 0\n",
      "0.001 100 30 0.1\n",
      "0.001 100 40 0\n",
      "0.001 100 40 0.1\n",
      "0.001 200 10 0\n",
      "0.001 200 10 0.1\n",
      "0.001 200 20 0\n",
      "0.001 200 20 0.1\n",
      "0.001 200 30 0\n",
      "0.001 200 30 0.1\n",
      "0.001 200 40 0\n",
      "0.001 200 40 0.1\n",
      "0.001 400 10 0\n",
      "0.001 400 10 0.1\n",
      "0.001 400 20 0\n",
      "0.001 400 20 0.1\n",
      "0.001 400 30 0\n",
      "0.001 400 30 0.1\n",
      "0.001 400 40 0\n",
      "0.001 400 40 0.1\n",
      "0.003 100 10 0\n",
      "0.003 100 10 0.1\n",
      "0.003 100 20 0\n",
      "0.003 100 20 0.1\n",
      "0.003 100 30 0\n",
      "0.003 100 30 0.1\n",
      "0.003 100 40 0\n",
      "0.003 100 40 0.1\n",
      "0.003 200 10 0\n",
      "0.003 200 10 0.1\n",
      "0.003 200 20 0\n",
      "0.003 200 20 0.1\n",
      "0.003 200 30 0\n",
      "0.003 200 30 0.1\n",
      "0.003 200 40 0\n",
      "0.003 200 40 0.1\n",
      "0.003 400 10 0\n",
      "0.003 400 10 0.1\n",
      "0.003 400 20 0\n",
      "0.003 400 20 0.1\n",
      "0.003 400 30 0\n",
      "0.003 400 30 0.1\n",
      "0.003 400 40 0\n",
      "0.003 400 40 0.1\n",
      "0.005 100 10 0\n",
      "0.005 100 10 0.1\n",
      "0.005 100 20 0\n",
      "0.005 100 20 0.1\n",
      "0.005 100 30 0\n",
      "0.005 100 30 0.1\n",
      "0.005 100 40 0\n",
      "0.005 100 40 0.1\n",
      "0.005 200 10 0\n",
      "0.005 200 10 0.1\n",
      "0.005 200 20 0\n",
      "0.005 200 20 0.1\n",
      "0.005 200 30 0\n",
      "0.005 200 30 0.1\n",
      "0.005 200 40 0\n",
      "0.005 200 40 0.1\n",
      "0.005 400 10 0\n",
      "0.005 400 10 0.1\n",
      "0.005 400 20 0\n",
      "0.005 400 20 0.1\n",
      "0.005 400 30 0\n",
      "0.005 400 30 0.1\n",
      "0.005 400 40 0\n",
      "0.005 400 40 0.1\n"
     ]
    }
   ],
   "source": [
    "lrs_list = []\n",
    "epochs_list = []\n",
    "patience_list = []\n",
    "gaus_ratio_list = []\n",
    "\n",
    "for pth in pth_models:\n",
    "    lr = pth.split('_')[5]\n",
    "    lrs_list.append(lr)\n",
    "    epochs = pth.split('_')[7]\n",
    "    epochs_list.append(epochs)\n",
    "    patience = pth.split('_')[9]\n",
    "    patience_list.append(patience)\n",
    "    gaus_ratio = pth.split('_')[12]\n",
    "    gaus_ratio_list.append(gaus_ratio)\n",
    "    \n",
    "    print(lr,epochs,patience,gaus_ratio)"
   ],
   "metadata": {
    "collapsed": false,
    "ExecuteTime": {
     "end_time": "2024-03-30T21:40:22.733816Z",
     "start_time": "2024-03-30T21:40:22.720985500Z"
    }
   },
   "id": "1b550ab99aa7562d",
   "execution_count": 74
  },
  {
   "cell_type": "code",
   "outputs": [],
   "source": [
    "lr_options = list(np.unique(lrs_list))\n",
    "epochs_options = list(np.unique(epochs_list))\n",
    "patience_options = list(np.unique(patience_list))\n",
    "gaus_ratio_options = list(np.unique(gaus_ratio_list))"
   ],
   "metadata": {
    "collapsed": false,
    "ExecuteTime": {
     "end_time": "2024-03-30T21:50:45.433567Z",
     "start_time": "2024-03-30T21:50:45.428566500Z"
    }
   },
   "id": "ca63e69b5ed89b73",
   "execution_count": 87
  },
  {
   "cell_type": "code",
   "outputs": [
    {
     "name": "stdout",
     "output_type": "stream",
     "text": [
      "['0.0005', '0.001', '0.003', '0.005']\n",
      "['100', '200', '400']\n",
      "['10', '20', '30', '40']\n",
      "['0', '0.1']\n"
     ]
    }
   ],
   "source": [
    "print(lr_options)\n",
    "print(epochs_options)\n",
    "print(patience_options)\n",
    "print(gaus_ratio_options)"
   ],
   "metadata": {
    "collapsed": false,
    "ExecuteTime": {
     "end_time": "2024-03-30T21:50:45.713516700Z",
     "start_time": "2024-03-30T21:50:45.703643600Z"
    }
   },
   "id": "dcb9b053a12fde9a",
   "execution_count": 88
  },
  {
   "cell_type": "code",
   "outputs": [],
   "source": [
    "total = len(lr_options)*len(epochs_options)*len(patience_options)*len(gaus_ratio_options)\n",
    "epochs_offset = total/len(gaus_ratio_options)/len(epochs_options)/len(lr_options)\n",
    "\n",
    "def get_xy_for_heatmap(lr, epochs, patience):\n",
    "    pt = str(patience)\n",
    "    epochs = str(epochs)\n",
    "    lr = str(lr)\n",
    "    \n",
    "    epoch_section = epochs_options.index(epochs)\n",
    "    lr_section = lr_options.index(lr)\n",
    "    \n",
    "    x = epochs_offset*epoch_section+lr_section\n",
    "    y = patience_options[::-1].index(pt)\n",
    "    \n",
    "    return int(x),int(y)"
   ],
   "metadata": {
    "collapsed": false,
    "ExecuteTime": {
     "end_time": "2024-03-30T22:14:45.412062400Z",
     "start_time": "2024-03-30T22:14:45.398365300Z"
    }
   },
   "id": "8ad0559f0fc0d08",
   "execution_count": 137
  },
  {
   "cell_type": "code",
   "outputs": [
    {
     "name": "stdout",
     "output_type": "stream",
     "text": [
      "0.0005 100 10 0\n",
      "0 3\n",
      "0.0005 100 10 0.1\n",
      "0 3\n",
      "0.0005 100 20 0\n",
      "0 2\n",
      "0.0005 100 20 0.1\n",
      "0 2\n",
      "0.0005 100 30 0\n",
      "0 1\n",
      "0.0005 100 30 0.1\n",
      "0 1\n",
      "0.0005 100 40 0\n",
      "0 0\n",
      "0.0005 100 40 0.1\n",
      "0 0\n",
      "0.0005 200 10 0\n",
      "4 3\n",
      "0.0005 200 10 0.1\n",
      "4 3\n",
      "0.0005 200 20 0\n",
      "4 2\n",
      "0.0005 200 20 0.1\n",
      "4 2\n",
      "0.0005 200 30 0\n",
      "4 1\n",
      "0.0005 200 30 0.1\n",
      "4 1\n",
      "0.0005 200 40 0\n",
      "4 0\n",
      "0.0005 200 40 0.1\n",
      "4 0\n",
      "0.0005 400 10 0\n",
      "8 3\n",
      "0.0005 400 10 0.1\n",
      "8 3\n",
      "0.0005 400 20 0\n",
      "8 2\n",
      "0.0005 400 20 0.1\n",
      "8 2\n",
      "0.0005 400 30 0\n",
      "8 1\n",
      "0.0005 400 30 0.1\n",
      "8 1\n",
      "0.0005 400 40 0\n",
      "8 0\n",
      "0.0005 400 40 0.1\n",
      "8 0\n",
      "0.001 100 10 0\n",
      "1 3\n",
      "0.001 100 10 0.1\n",
      "1 3\n",
      "0.001 100 20 0\n",
      "1 2\n",
      "0.001 100 20 0.1\n",
      "1 2\n",
      "0.001 100 30 0\n",
      "1 1\n",
      "0.001 100 30 0.1\n",
      "1 1\n",
      "0.001 100 40 0\n",
      "1 0\n",
      "0.001 100 40 0.1\n",
      "1 0\n",
      "0.001 200 10 0\n",
      "5 3\n",
      "0.001 200 10 0.1\n",
      "5 3\n",
      "0.001 200 20 0\n",
      "5 2\n",
      "0.001 200 20 0.1\n",
      "5 2\n",
      "0.001 200 30 0\n",
      "5 1\n",
      "0.001 200 30 0.1\n",
      "5 1\n",
      "0.001 200 40 0\n",
      "5 0\n",
      "0.001 200 40 0.1\n",
      "5 0\n",
      "0.001 400 10 0\n",
      "9 3\n",
      "0.001 400 10 0.1\n",
      "9 3\n",
      "0.001 400 20 0\n",
      "9 2\n",
      "0.001 400 20 0.1\n",
      "9 2\n",
      "0.001 400 30 0\n",
      "9 1\n",
      "0.001 400 30 0.1\n",
      "9 1\n",
      "0.001 400 40 0\n",
      "9 0\n",
      "0.001 400 40 0.1\n",
      "9 0\n",
      "0.003 100 10 0\n",
      "2 3\n",
      "0.003 100 10 0.1\n",
      "2 3\n",
      "0.003 100 20 0\n",
      "2 2\n",
      "0.003 100 20 0.1\n",
      "2 2\n",
      "0.003 100 30 0\n",
      "2 1\n",
      "0.003 100 30 0.1\n",
      "2 1\n",
      "0.003 100 40 0\n",
      "2 0\n",
      "0.003 100 40 0.1\n",
      "2 0\n",
      "0.003 200 10 0\n",
      "6 3\n",
      "0.003 200 10 0.1\n",
      "6 3\n",
      "0.003 200 20 0\n",
      "6 2\n",
      "0.003 200 20 0.1\n",
      "6 2\n",
      "0.003 200 30 0\n",
      "6 1\n",
      "0.003 200 30 0.1\n",
      "6 1\n",
      "0.003 200 40 0\n",
      "6 0\n",
      "0.003 200 40 0.1\n",
      "6 0\n",
      "0.003 400 10 0\n",
      "10 3\n",
      "0.003 400 10 0.1\n",
      "10 3\n",
      "0.003 400 20 0\n",
      "10 2\n",
      "0.003 400 20 0.1\n",
      "10 2\n",
      "0.003 400 30 0\n",
      "10 1\n",
      "0.003 400 30 0.1\n",
      "10 1\n",
      "0.003 400 40 0\n",
      "10 0\n",
      "0.003 400 40 0.1\n",
      "10 0\n",
      "0.005 100 10 0\n",
      "3 3\n",
      "0.005 100 10 0.1\n",
      "3 3\n",
      "0.005 100 20 0\n",
      "3 2\n",
      "0.005 100 20 0.1\n",
      "3 2\n",
      "0.005 100 30 0\n",
      "3 1\n",
      "0.005 100 30 0.1\n",
      "3 1\n",
      "0.005 100 40 0\n",
      "3 0\n",
      "0.005 100 40 0.1\n",
      "3 0\n",
      "0.005 200 10 0\n",
      "7 3\n",
      "0.005 200 10 0.1\n",
      "7 3\n",
      "0.005 200 20 0\n",
      "7 2\n",
      "0.005 200 20 0.1\n",
      "7 2\n",
      "0.005 200 30 0\n",
      "7 1\n",
      "0.005 200 30 0.1\n",
      "7 1\n",
      "0.005 200 40 0\n",
      "7 0\n",
      "0.005 200 40 0.1\n",
      "7 0\n",
      "0.005 400 10 0\n",
      "11 3\n",
      "0.005 400 10 0.1\n",
      "11 3\n",
      "0.005 400 20 0\n",
      "11 2\n",
      "0.005 400 20 0.1\n",
      "11 2\n",
      "0.005 400 30 0\n",
      "11 1\n",
      "0.005 400 30 0.1\n",
      "11 1\n",
      "0.005 400 40 0\n",
      "11 0\n",
      "0.005 400 40 0.1\n",
      "11 0\n"
     ]
    }
   ],
   "source": [
    "gaus_0_table = np.zeros(shape=(len(patience_options), len(lr_options)*len(epochs_options)))\n",
    "gaus_1_table = np.zeros(shape=(len(patience_options), len(lr_options)*len(epochs_options)))\n",
    "\n",
    "for i in range(len(pth_models)):\n",
    "    pth = pth_models[i]\n",
    "    mean = means[i]\n",
    "    \n",
    "    lr = pth.split('_')[5]\n",
    "    epochs = pth.split('_')[7]\n",
    "    patience = pth.split('_')[9]\n",
    "    gaus_ratio = pth.split('_')[12]\n",
    "    \n",
    "    print(lr,epochs,patience,gaus_ratio)\n",
    "    \n",
    "    if gaus_ratio == '0':\n",
    "        x,y = get_xy_for_heatmap(lr, epochs, patience)\n",
    "        print(x,y)\n",
    "        gaus_0_table[y,x] = mean\n",
    "    else:\n",
    "        x,y = get_xy_for_heatmap(lr, epochs, patience)\n",
    "        print(x,y)\n",
    "        gaus_1_table[y,x] = mean"
   ],
   "metadata": {
    "collapsed": false,
    "ExecuteTime": {
     "end_time": "2024-03-30T22:15:55.164697900Z",
     "start_time": "2024-03-30T22:15:55.147846900Z"
    }
   },
   "id": "ddd8ac4d264f3b21",
   "execution_count": 142
  },
  {
   "cell_type": "code",
   "outputs": [],
   "source": [
    "dat = np.vstack([gaus_0_table,gaus_1_table])"
   ],
   "metadata": {
    "collapsed": false,
    "ExecuteTime": {
     "end_time": "2024-04-01T22:03:39.278533400Z",
     "start_time": "2024-04-01T22:03:39.262533400Z"
    }
   },
   "id": "e444df4f350723db",
   "execution_count": 410
  },
  {
   "cell_type": "code",
   "outputs": [],
   "source": [
    "import matplotlib.ticker as ticker"
   ],
   "metadata": {
    "collapsed": false,
    "ExecuteTime": {
     "end_time": "2024-04-01T22:03:40.601844500Z",
     "start_time": "2024-04-01T22:03:40.580844700Z"
    }
   },
   "id": "4ccd36b4c584247",
   "execution_count": 411
  },
  {
   "cell_type": "code",
   "outputs": [
    {
     "data": {
      "text/plain": "<Figure size 1200x600 with 1 Axes>",
      "image/png": "[encoded data removed]"
     },
     "metadata": {},
     "output_type": "display_data"
    }
   ],
   "source": [
    "fig, ax = plt.subplots(figsize=(12, 6))\n",
    "ax.imshow(dat, cmap='coolwarm', interpolation='nearest')\n",
    "\n",
    "x_labs = lr_options*3\n",
    "y_labs = patience_options[::-1]*2\n",
    "\n",
    "ax.set_xticks(np.arange(len(x_labs)))\n",
    "ax.set_xticklabels(x_labs,rotation=60)\n",
    "\n",
    "ax.set_yticks(np.arange(len(y_labs)))\n",
    "ax.set_yticklabels(y_labs)\n",
    "ax.set_xlabel('Learning Rate')\n",
    "\n",
    "lab = [\"100\", \"200\", \"300\"]\n",
    "\n",
    "#ax2 = ax.secondary_xaxis('bottom')\n",
    "ax2 = ax.secondary_xaxis(-0.25)\n",
    "ax2.tick_params('both', length=10, width=0, which='minor')\n",
    "ax2.tick_params('both', direction='in', which='major', labelsize=10, width=1, length=15)\n",
    "ax2.set_xticks([-.5, 3.5, 7.5, 11.5])\n",
    "ax2.xaxis.set_major_formatter(ticker.NullFormatter())\n",
    "\n",
    "ax2.xaxis.set_minor_locator(ticker.FixedLocator([1.5, 5.5, 9.5]))\n",
    "ax2.xaxis.set_minor_formatter(ticker.FixedFormatter(['100', '200', '400']))\n",
    "\n",
    "ax2.set_xlabel('Epochs')\n",
    "\n",
    "ax3 = ax.secondary_yaxis(-0.10)\n",
    "ax3.tick_params('both', length=10, width=0, which='minor')\n",
    "ax3.tick_params('both', direction='in', which='major', labelsize=10, width=1, length=15)\n",
    "ax3.set_yticks([-.5, 3.5, 7.5])\n",
    "ax3.yaxis.set_major_formatter(ticker.NullFormatter())\n",
    "\n",
    "ax3.yaxis.set_minor_locator(ticker.FixedLocator([1.5, 5.5]))\n",
    "ax3.yaxis.set_minor_formatter(ticker.FixedFormatter(['0', '0.1']))\n",
    "\n",
    "ax3.set_ylabel('Guassian Smoothing Value')\n",
    "\n",
    "\n",
    "#ax2.xaxis.set_minor_locator(ticker.FixedLocator([-.5, 3.5, 7.5, 11.5]))\n",
    "#ax2.xaxis.set_minor_formatter(ticker.FixedFormatter(['lab']))\n",
    "\n",
    "#ax2.set_xticklabels(lab)\n",
    "#ax2.set_position((0.2, 0.1))\n",
    "\n",
    "#plt.xlabel('lr')\n",
    "\n",
    "# Add annotations\n",
    "for i in range(len(y_labs)):\n",
    "    for j in range(len(x_labs)):\n",
    "        text = ax.text(j, i, round(dat[i, j], 3), ha='center', va='center', color='black')\n",
    "\n",
    "\n",
    "\n",
    "plt.title('mAP of Models with Different Hyperparameters')\n",
    "\n",
    "plt.show()"
   ],
   "metadata": {
    "collapsed": false,
    "ExecuteTime": {
     "end_time": "2024-04-02T16:55:36.365184900Z",
     "start_time": "2024-04-02T16:55:36.160185Z"
    }
   },
   "id": "66db6379a7e8e7fb",
   "execution_count": 431
  },
  {
   "cell_type": "code",
   "outputs": [
    {
     "data": {
      "text/plain": "          Model  Year      Encoder  Task  Score\n0         ERNIE  2019  Transformer  CoLA   75.5\n1            T5  2019  Transformer  CoLA   71.6\n2       RoBERTa  2019  Transformer  CoLA   67.8\n3          BERT  2018  Transformer  CoLA   60.5\n4   BiLSTM+ELMo  2018         LSTM  CoLA   32.1\n..          ...   ...          ...   ...    ...\n59         BERT  2018  Transformer   RTE   70.1\n60  BiLSTM+ELMo  2018         LSTM   RTE   57.4\n61  BiLSTM+CoVe  2017         LSTM   RTE   52.7\n62  BiLSTM+Attn  2017         LSTM   RTE   58.4\n63       BiLSTM  2017         LSTM   RTE   57.4\n\n[64 rows x 5 columns]",
      "text/html": "<div>\n<style scoped>\n    .dataframe tbody tr th:only-of-type {\n        vertical-align: middle;\n    }\n\n    .dataframe tbody tr th {\n        vertical-align: top;\n    }\n\n    .dataframe thead th {\n        text-align: right;\n    }\n</style>\n<table border=\"1\" class=\"dataframe\">\n  <thead>\n    <tr style=\"text-align: right;\">\n      <th></th>\n      <th>Model</th>\n      <th>Year</th>\n      <th>Encoder</th>\n      <th>Task</th>\n      <th>Score</th>\n    </tr>\n  </thead>\n  <tbody>\n    <tr>\n      <th>0</th>\n      <td>ERNIE</td>\n      <td>2019</td>\n      <td>Transformer</td>\n      <td>CoLA</td>\n      <td>75.5</td>\n    </tr>\n    <tr>\n      <th>1</th>\n      <td>T5</td>\n      <td>2019</td>\n      <td>Transformer</td>\n      <td>CoLA</td>\n      <td>71.6</td>\n    </tr>\n    <tr>\n      <th>2</th>\n      <td>RoBERTa</td>\n      <td>2019</td>\n      <td>Transformer</td>\n      <td>CoLA</td>\n      <td>67.8</td>\n    </tr>\n    <tr>\n      <th>3</th>\n      <td>BERT</td>\n      <td>2018</td>\n      <td>Transformer</td>\n      <td>CoLA</td>\n      <td>60.5</td>\n    </tr>\n    <tr>\n      <th>4</th>\n      <td>BiLSTM+ELMo</td>\n      <td>2018</td>\n      <td>LSTM</td>\n      <td>CoLA</td>\n      <td>32.1</td>\n    </tr>\n    <tr>\n      <th>...</th>\n      <td>...</td>\n      <td>...</td>\n      <td>...</td>\n      <td>...</td>\n      <td>...</td>\n    </tr>\n    <tr>\n      <th>59</th>\n      <td>BERT</td>\n      <td>2018</td>\n      <td>Transformer</td>\n      <td>RTE</td>\n      <td>70.1</td>\n    </tr>\n    <tr>\n      <th>60</th>\n      <td>BiLSTM+ELMo</td>\n      <td>2018</td>\n      <td>LSTM</td>\n      <td>RTE</td>\n      <td>57.4</td>\n    </tr>\n    <tr>\n      <th>61</th>\n      <td>BiLSTM+CoVe</td>\n      <td>2017</td>\n      <td>LSTM</td>\n      <td>RTE</td>\n      <td>52.7</td>\n    </tr>\n    <tr>\n      <th>62</th>\n      <td>BiLSTM+Attn</td>\n      <td>2017</td>\n      <td>LSTM</td>\n      <td>RTE</td>\n      <td>58.4</td>\n    </tr>\n    <tr>\n      <th>63</th>\n      <td>BiLSTM</td>\n      <td>2017</td>\n      <td>LSTM</td>\n      <td>RTE</td>\n      <td>57.4</td>\n    </tr>\n  </tbody>\n</table>\n<p>64 rows × 5 columns</p>\n</div>"
     },
     "execution_count": 304,
     "metadata": {},
     "output_type": "execute_result"
    }
   ],
   "source": [
    "\"glue = sns.load_dataset(\"glue\") #.pivot(index=\"Model\", columns=\"Task\", values=\"Score\")\n",
    "dat = pd.DataFrame(gaus_0_table) #.pivot(index=\"Model\", columns=\"Task\", values=\"Score\")\n",
    "glue"
   ],
   "metadata": {
    "collapsed": false,
    "ExecuteTime": {
     "end_time": "2024-04-01T18:19:08.149705100Z",
     "start_time": "2024-04-01T18:19:08.130705100Z"
    }
   },
   "id": "1871564c04e39490",
   "execution_count": 304
  },
  {
   "cell_type": "code",
   "outputs": [
    {
     "data": {
      "text/plain": "                0                                       1                      \\\nPatience        10        20        30        40        10       20        30   \n0              NaN       NaN       NaN  0.385486       NaN      NaN       NaN   \n1              NaN       NaN  0.393667       NaN       NaN      NaN  0.401868   \n2              NaN  0.391132       NaN       NaN       NaN  0.39034       NaN   \n3         0.400378       NaN       NaN       NaN  0.406289      NaN       NaN   \n\n                          2             ...        9                   10  \\\nPatience        40        10        20  ...        30        40        10   \n0         0.393746       NaN       NaN  ...       NaN  0.386668       NaN   \n1              NaN       NaN       NaN  ...  0.391112       NaN       NaN   \n2              NaN       NaN  0.384784  ...       NaN       NaN       NaN   \n3              NaN  0.391007       NaN  ...       NaN       NaN  0.386343   \n\n                                              11                                \nPatience        20        30        40        10        20        30        40  \n0              NaN       NaN  0.371858       NaN       NaN       NaN  0.351934  \n1              NaN  0.384244       NaN       NaN       NaN  0.349666       NaN  \n2         0.363464       NaN       NaN       NaN  0.001683       NaN       NaN  \n3              NaN       NaN       NaN  0.331464       NaN       NaN       NaN  \n\n[4 rows x 48 columns]",
      "text/html": "<div>\n<style scoped>\n    .dataframe tbody tr th:only-of-type {\n        vertical-align: middle;\n    }\n\n    .dataframe tbody tr th {\n        vertical-align: top;\n    }\n\n    .dataframe thead tr th {\n        text-align: left;\n    }\n</style>\n<table border=\"1\" class=\"dataframe\">\n  <thead>\n    <tr>\n      <th></th>\n      <th colspan=\"4\" halign=\"left\">0</th>\n      <th colspan=\"4\" halign=\"left\">1</th>\n      <th colspan=\"2\" halign=\"left\">2</th>\n      <th>...</th>\n      <th colspan=\"2\" halign=\"left\">9</th>\n      <th colspan=\"4\" halign=\"left\">10</th>\n      <th colspan=\"4\" halign=\"left\">11</th>\n    </tr>\n    <tr>\n      <th>Patience</th>\n      <th>10</th>\n      <th>20</th>\n      <th>30</th>\n      <th>40</th>\n      <th>10</th>\n      <th>20</th>\n      <th>30</th>\n      <th>40</th>\n      <th>10</th>\n      <th>20</th>\n      <th>...</th>\n      <th>30</th>\n      <th>40</th>\n      <th>10</th>\n      <th>20</th>\n      <th>30</th>\n      <th>40</th>\n      <th>10</th>\n      <th>20</th>\n      <th>30</th>\n      <th>40</th>\n    </tr>\n  </thead>\n  <tbody>\n    <tr>\n      <th>0</th>\n      <td>NaN</td>\n      <td>NaN</td>\n      <td>NaN</td>\n      <td>0.385486</td>\n      <td>NaN</td>\n      <td>NaN</td>\n      <td>NaN</td>\n      <td>0.393746</td>\n      <td>NaN</td>\n      <td>NaN</td>\n      <td>...</td>\n      <td>NaN</td>\n      <td>0.386668</td>\n      <td>NaN</td>\n      <td>NaN</td>\n      <td>NaN</td>\n      <td>0.371858</td>\n      <td>NaN</td>\n      <td>NaN</td>\n      <td>NaN</td>\n      <td>0.351934</td>\n    </tr>\n    <tr>\n      <th>1</th>\n      <td>NaN</td>\n      <td>NaN</td>\n      <td>0.393667</td>\n      <td>NaN</td>\n      <td>NaN</td>\n      <td>NaN</td>\n      <td>0.401868</td>\n      <td>NaN</td>\n      <td>NaN</td>\n      <td>NaN</td>\n      <td>...</td>\n      <td>0.391112</td>\n      <td>NaN</td>\n      <td>NaN</td>\n      <td>NaN</td>\n      <td>0.384244</td>\n      <td>NaN</td>\n      <td>NaN</td>\n      <td>NaN</td>\n      <td>0.349666</td>\n      <td>NaN</td>\n    </tr>\n    <tr>\n      <th>2</th>\n      <td>NaN</td>\n      <td>0.391132</td>\n      <td>NaN</td>\n      <td>NaN</td>\n      <td>NaN</td>\n      <td>0.39034</td>\n      <td>NaN</td>\n      <td>NaN</td>\n      <td>NaN</td>\n      <td>0.384784</td>\n      <td>...</td>\n      <td>NaN</td>\n      <td>NaN</td>\n      <td>NaN</td>\n      <td>0.363464</td>\n      <td>NaN</td>\n      <td>NaN</td>\n      <td>NaN</td>\n      <td>0.001683</td>\n      <td>NaN</td>\n      <td>NaN</td>\n    </tr>\n    <tr>\n      <th>3</th>\n      <td>0.400378</td>\n      <td>NaN</td>\n      <td>NaN</td>\n      <td>NaN</td>\n      <td>0.406289</td>\n      <td>NaN</td>\n      <td>NaN</td>\n      <td>NaN</td>\n      <td>0.391007</td>\n      <td>NaN</td>\n      <td>...</td>\n      <td>NaN</td>\n      <td>NaN</td>\n      <td>0.386343</td>\n      <td>NaN</td>\n      <td>NaN</td>\n      <td>NaN</td>\n      <td>0.331464</td>\n      <td>NaN</td>\n      <td>NaN</td>\n      <td>NaN</td>\n    </tr>\n  </tbody>\n</table>\n<p>4 rows × 48 columns</p>\n</div>"
     },
     "execution_count": 305,
     "metadata": {},
     "output_type": "execute_result"
    }
   ],
   "source": [
    "dat['Patience'] = np.array([40,30,20,10])\n",
    "dat.pivot(columns='Patience')"
   ],
   "metadata": {
    "collapsed": false,
    "ExecuteTime": {
     "end_time": "2024-04-01T18:19:15.037389500Z",
     "start_time": "2024-04-01T18:19:15.014389300Z"
    }
   },
   "id": "5729dc4557dc43ac",
   "execution_count": 305
  },
  {
   "cell_type": "code",
   "outputs": [
    {
     "ename": "TypeError",
     "evalue": "'<' not supported between instances of 'ellipsis' and 'ellipsis'",
     "output_type": "error",
     "traceback": [
      "\u001B[1;31m---------------------------------------------------------------------------\u001B[0m",
      "\u001B[1;31mTypeError\u001B[0m                                 Traceback (most recent call last)",
      "Cell \u001B[1;32mIn[311], line 13\u001B[0m\n\u001B[0;32m     10\u001B[0m new_x_labels \u001B[38;5;241m=\u001B[39m [\u001B[38;5;241m.\u001B[39m\u001B[38;5;241m.\u001B[39m\u001B[38;5;241m.\u001B[39m] \u001B[38;5;66;03m# List of new x-axis labels\u001B[39;00m\n\u001B[0;32m     11\u001B[0m new_x_ticks \u001B[38;5;241m=\u001B[39m [\u001B[38;5;241m.\u001B[39m\u001B[38;5;241m.\u001B[39m\u001B[38;5;241m.\u001B[39m] \u001B[38;5;66;03m# List of new x-axis tick positions\u001B[39;00m\n\u001B[1;32m---> 13\u001B[0m \u001B[43max2\u001B[49m\u001B[38;5;241;43m.\u001B[39;49m\u001B[43mset_xticks\u001B[49m\u001B[43m(\u001B[49m\u001B[43mnew_x_ticks\u001B[49m\u001B[43m)\u001B[49m\n\u001B[0;32m     14\u001B[0m ax2\u001B[38;5;241m.\u001B[39mset_xticklabels(new_x_labels, rotation\u001B[38;5;241m=\u001B[39m\u001B[38;5;241m60\u001B[39m)\n\u001B[0;32m     15\u001B[0m ax2\u001B[38;5;241m.\u001B[39mset_xlabel(\u001B[38;5;124m'\u001B[39m\u001B[38;5;124mNew X-axis label\u001B[39m\u001B[38;5;124m'\u001B[39m)\n",
      "File \u001B[1;32m~\\anaconda3\\envs\\monkey_nuc_segment_v6\\lib\\site-packages\\matplotlib\\axes\\_base.py:73\u001B[0m, in \u001B[0;36m_axis_method_wrapper.__set_name__.<locals>.wrapper\u001B[1;34m(self, *args, **kwargs)\u001B[0m\n\u001B[0;32m     72\u001B[0m \u001B[38;5;28;01mdef\u001B[39;00m \u001B[38;5;21mwrapper\u001B[39m(\u001B[38;5;28mself\u001B[39m, \u001B[38;5;241m*\u001B[39margs, \u001B[38;5;241m*\u001B[39m\u001B[38;5;241m*\u001B[39mkwargs):\n\u001B[1;32m---> 73\u001B[0m     \u001B[38;5;28;01mreturn\u001B[39;00m get_method(\u001B[38;5;28mself\u001B[39m)(\u001B[38;5;241m*\u001B[39margs, \u001B[38;5;241m*\u001B[39m\u001B[38;5;241m*\u001B[39mkwargs)\n",
      "File \u001B[1;32m~\\anaconda3\\envs\\monkey_nuc_segment_v6\\lib\\site-packages\\matplotlib\\axis.py:2138\u001B[0m, in \u001B[0;36mAxis.set_ticks\u001B[1;34m(self, ticks, labels, minor, **kwargs)\u001B[0m\n\u001B[0;32m   2133\u001B[0m     first_key \u001B[38;5;241m=\u001B[39m \u001B[38;5;28mnext\u001B[39m(\u001B[38;5;28miter\u001B[39m(kwargs))\n\u001B[0;32m   2134\u001B[0m     \u001B[38;5;28;01mraise\u001B[39;00m \u001B[38;5;167;01mValueError\u001B[39;00m(\n\u001B[0;32m   2135\u001B[0m         \u001B[38;5;124mf\u001B[39m\u001B[38;5;124m\"\u001B[39m\u001B[38;5;124mIncorrect use of keyword argument \u001B[39m\u001B[38;5;132;01m{\u001B[39;00mfirst_key\u001B[38;5;132;01m!r}\u001B[39;00m\u001B[38;5;124m. Keyword arguments \u001B[39m\u001B[38;5;124m\"\u001B[39m\n\u001B[0;32m   2136\u001B[0m         \u001B[38;5;124m\"\u001B[39m\u001B[38;5;124mother than \u001B[39m\u001B[38;5;124m'\u001B[39m\u001B[38;5;124mminor\u001B[39m\u001B[38;5;124m'\u001B[39m\u001B[38;5;124m modify the text labels and can only be used if \u001B[39m\u001B[38;5;124m\"\u001B[39m\n\u001B[0;32m   2137\u001B[0m         \u001B[38;5;124m\"\u001B[39m\u001B[38;5;124m'\u001B[39m\u001B[38;5;124mlabels\u001B[39m\u001B[38;5;124m'\u001B[39m\u001B[38;5;124m are passed as well.\u001B[39m\u001B[38;5;124m\"\u001B[39m)\n\u001B[1;32m-> 2138\u001B[0m result \u001B[38;5;241m=\u001B[39m \u001B[38;5;28;43mself\u001B[39;49m\u001B[38;5;241;43m.\u001B[39;49m\u001B[43m_set_tick_locations\u001B[49m\u001B[43m(\u001B[49m\u001B[43mticks\u001B[49m\u001B[43m,\u001B[49m\u001B[43m \u001B[49m\u001B[43mminor\u001B[49m\u001B[38;5;241;43m=\u001B[39;49m\u001B[43mminor\u001B[49m\u001B[43m)\u001B[49m\n\u001B[0;32m   2139\u001B[0m \u001B[38;5;28;01mif\u001B[39;00m labels \u001B[38;5;129;01mis\u001B[39;00m \u001B[38;5;129;01mnot\u001B[39;00m \u001B[38;5;28;01mNone\u001B[39;00m:\n\u001B[0;32m   2140\u001B[0m     \u001B[38;5;28mself\u001B[39m\u001B[38;5;241m.\u001B[39mset_ticklabels(labels, minor\u001B[38;5;241m=\u001B[39mminor, \u001B[38;5;241m*\u001B[39m\u001B[38;5;241m*\u001B[39mkwargs)\n",
      "File \u001B[1;32m~\\anaconda3\\envs\\monkey_nuc_segment_v6\\lib\\site-packages\\matplotlib\\axis.py:2082\u001B[0m, in \u001B[0;36mAxis._set_tick_locations\u001B[1;34m(self, ticks, minor)\u001B[0m\n\u001B[0;32m   2079\u001B[0m \u001B[38;5;28;01mif\u001B[39;00m \u001B[38;5;28mlen\u001B[39m(ticks):\n\u001B[0;32m   2080\u001B[0m     \u001B[38;5;28;01mfor\u001B[39;00m axis \u001B[38;5;129;01min\u001B[39;00m \u001B[38;5;28mself\u001B[39m\u001B[38;5;241m.\u001B[39m_get_shared_axis():\n\u001B[0;32m   2081\u001B[0m         \u001B[38;5;66;03m# set_view_interval maintains any preexisting inversion.\u001B[39;00m\n\u001B[1;32m-> 2082\u001B[0m         \u001B[43maxis\u001B[49m\u001B[38;5;241;43m.\u001B[39;49m\u001B[43mset_view_interval\u001B[49m\u001B[43m(\u001B[49m\u001B[38;5;28;43mmin\u001B[39;49m\u001B[43m(\u001B[49m\u001B[43mticks\u001B[49m\u001B[43m)\u001B[49m\u001B[43m,\u001B[49m\u001B[43m \u001B[49m\u001B[38;5;28;43mmax\u001B[39;49m\u001B[43m(\u001B[49m\u001B[43mticks\u001B[49m\u001B[43m)\u001B[49m\u001B[43m)\u001B[49m\n\u001B[0;32m   2083\u001B[0m \u001B[38;5;28mself\u001B[39m\u001B[38;5;241m.\u001B[39maxes\u001B[38;5;241m.\u001B[39mstale \u001B[38;5;241m=\u001B[39m \u001B[38;5;28;01mTrue\u001B[39;00m\n\u001B[0;32m   2084\u001B[0m \u001B[38;5;28;01mif\u001B[39;00m minor:\n",
      "File \u001B[1;32m~\\anaconda3\\envs\\monkey_nuc_segment_v6\\lib\\site-packages\\matplotlib\\axis.py:2276\u001B[0m, in \u001B[0;36m_make_getset_interval.<locals>.setter\u001B[1;34m(self, vmin, vmax, ignore)\u001B[0m\n\u001B[0;32m   2274\u001B[0m oldmin, oldmax \u001B[38;5;241m=\u001B[39m getter(\u001B[38;5;28mself\u001B[39m)\n\u001B[0;32m   2275\u001B[0m \u001B[38;5;28;01mif\u001B[39;00m oldmin \u001B[38;5;241m<\u001B[39m oldmax:\n\u001B[1;32m-> 2276\u001B[0m     setter(\u001B[38;5;28mself\u001B[39m, \u001B[38;5;28;43mmin\u001B[39;49m\u001B[43m(\u001B[49m\u001B[43mvmin\u001B[49m\u001B[43m,\u001B[49m\u001B[43m \u001B[49m\u001B[43mvmax\u001B[49m\u001B[43m,\u001B[49m\u001B[43m \u001B[49m\u001B[43moldmin\u001B[49m\u001B[43m)\u001B[49m, \u001B[38;5;28mmax\u001B[39m(vmin, vmax, oldmax),\n\u001B[0;32m   2277\u001B[0m            ignore\u001B[38;5;241m=\u001B[39m\u001B[38;5;28;01mTrue\u001B[39;00m)\n\u001B[0;32m   2278\u001B[0m \u001B[38;5;28;01melse\u001B[39;00m:\n\u001B[0;32m   2279\u001B[0m     setter(\u001B[38;5;28mself\u001B[39m, \u001B[38;5;28mmax\u001B[39m(vmin, vmax, oldmin), \u001B[38;5;28mmin\u001B[39m(vmin, vmax, oldmax),\n\u001B[0;32m   2280\u001B[0m            ignore\u001B[38;5;241m=\u001B[39m\u001B[38;5;28;01mTrue\u001B[39;00m)\n",
      "\u001B[1;31mTypeError\u001B[0m: '<' not supported between instances of 'ellipsis' and 'ellipsis'"
     ]
    },
    {
     "data": {
      "text/plain": "<Figure size 640x480 with 3 Axes>",
      "image/png": "[encoded data removed]"
     },
     "metadata": {},
     "output_type": "display_data"
    }
   ],
   "source": [
    "import seaborn as sns\n",
    "\n",
    "dat = gaus_0_table\n",
    "heatmap = sns.heatmap(dat,cmap='cool')\n",
    "heatmap.set_xlabel('X-axis label')\n",
    "heatmap.set_ylabel('Y-axis label')\n",
    "heatmap.set_xticklabels(x_labs,rotation=60)\n",
    "\n",
    "ax2 = plt.twiny()\n",
    "new_x_labels = [...] # List of new x-axis labels\n",
    "new_x_ticks = [...] # List of new x-axis tick positions\n",
    "\n",
    "ax2.set_xticks(new_x_ticks)\n",
    "ax2.set_xticklabels(new_x_labels, rotation=60)\n",
    "ax2.set_xlabel('New X-axis label')\n",
    "\n",
    "plt.show()\n"
   ],
   "metadata": {
    "collapsed": false,
    "ExecuteTime": {
     "end_time": "2024-04-01T18:25:25.059803200Z",
     "start_time": "2024-04-01T18:25:24.820802600Z"
    }
   },
   "id": "9f308cc06834ee95",
   "execution_count": 311
  },
  {
   "cell_type": "code",
   "outputs": [
    {
     "data": {
      "text/plain": "<Figure size 640x480 with 2 Axes>",
      "image/png": "[encoded data removed]"
     },
     "metadata": {},
     "output_type": "display_data"
    }
   ],
   "source": [
    "import numpy as np\n",
    "import matplotlib.pyplot as plt\n",
    "import matplotlib.ticker as ticker\n",
    "\n",
    "fig1, ax1 = plt.subplots(1)\n",
    "# Some data\n",
    "x = np.arange(1,6)\n",
    "y = np.random.random(len(x))\n",
    "\n",
    "# First X-axis\n",
    "ax1.plot(x, y)\n",
    "ax1.set_xticks(x)\n",
    "ax1.set_xticklabels(['dog', 'cat', 'horse', 'lizard', 'crocodile'])\n",
    "ax1.yaxis.set_label_text(\"Sample data\")\n",
    "\n",
    "# Second X-axis\n",
    "ax2 = ax1.twiny()\n",
    "\n",
    "ax2.spines[\"bottom\"].set_position((\"axes\", -0.10))\n",
    "ax2.tick_params('both', length=0, width=0, which='minor')\n",
    "ax2.tick_params('both', direction='in', which='major')\n",
    "ax2.xaxis.set_ticks_position(\"bottom\")\n",
    "ax2.xaxis.set_label_position(\"bottom\")\n",
    " \n",
    "ax2.set_xticks([0.0, 0.6, 1.0])\n",
    "ax2.xaxis.set_major_formatter(ticker.NullFormatter())\n",
    "ax2.xaxis.set_minor_locator(ticker.FixedLocator([0.3, 0.8]))\n",
    "ax2.xaxis.set_minor_formatter(ticker.FixedFormatter(['mammal', 'reptiles']))\n",
    "\n",
    "# Third X-axis\n",
    "# ax3 = ax1.twiny()\n",
    "# \n",
    "# ax3.spines[\"bottom\"].set_position((\"axes\", -0.20))\n",
    "# ax3.tick_params('both', length=0, width=0, which='minor')\n",
    "# ax3.tick_params('both', direction='in', which='major')\n",
    "# ax3.xaxis.set_ticks_position(\"bottom\")\n",
    "# ax3.xaxis.set_label_position(\"bottom\")\n",
    "# \n",
    "# ax3.set_xticks([0.0, 1.0])\n",
    "# ax3.xaxis.set_major_formatter(ticker.NullFormatter())\n",
    "# ax3.xaxis.set_minor_locator(ticker.FixedLocator([0.5]))\n",
    "# ax3.xaxis.set_minor_formatter(ticker.FixedFormatter(['vertebrates']))\n",
    "\n",
    "ax1.grid(True)\n",
    "plt.show()"
   ],
   "metadata": {
    "collapsed": false,
    "ExecuteTime": {
     "end_time": "2024-04-01T19:06:26.400655600Z",
     "start_time": "2024-04-01T19:06:26.323655500Z"
    }
   },
   "id": "2bf1deb0115578b7",
   "execution_count": 361
  },
  {
   "cell_type": "code",
   "outputs": [
    {
     "data": {
      "text/plain": "<Figure size 1200x600 with 2 Axes>",
      "image/png": "[encoded data removed]"
     },
     "metadata": {},
     "output_type": "display_data"
    }
   ],
   "source": [
    "fig, ax = plt.subplots(figsize=(12, 6))\n",
    "ax.imshow(gaus_0_table, cmap='hot', interpolation='nearest')\n",
    "\n",
    "x_labs = lr_options*3\n",
    "y_labs = patience_options[::-1]\n",
    "\n",
    "ax.set_xticks(np.arange(len(x_labs)))\n",
    "ax.set_xticklabels(x_labs,rotation=60)\n",
    "\n",
    "ax.set_yticks(np.arange(len(y_labs)))\n",
    "ax.set_yticklabels(y_labs)\n",
    "\n",
    "# Second X-axis\n",
    "ax2 = ax.twiny()\n",
    "# ax2.set_xlim(ax.get_xlim())\n",
    "# ax2.set_xticks(np.arange(len(x_labs)))\n",
    "# ax2.set_xticks(np.arange(len(x_labs)))\n",
    "\n",
    "#plt.xlabel('lr')\n",
    "#plt.ylabel('Patience')\n",
    "plt.title('Means for Gauss = 0')\n",
    "plt.subplots_adjust(left=0.1, right=0.9, bottom=0.2, top=0.9)\n",
    "\n",
    "plt.show()"
   ],
   "metadata": {
    "collapsed": false,
    "ExecuteTime": {
     "end_time": "2024-04-01T17:46:09.800920700Z",
     "start_time": "2024-04-01T17:46:09.651916Z"
    }
   },
   "id": "10c682f06a9e8e5b",
   "execution_count": 235
  },
  {
   "cell_type": "code",
   "outputs": [],
   "source": [
    "# ax2.spines[\"bottom\"].set_position((\"axes\", -0.2))\n",
    "# ax2.tick_params('both', length=0, width=0, which='minor')\n",
    "# ax2.tick_params('both', direction='in', which='major')\n",
    "# ax2.xaxis.set_ticks_position(\"bottom\")\n",
    "# ax2.xaxis.set_label_position(\"bottom\")\n",
    "# \n",
    "# ax2.set_xticks([0.0, 0.33, 0.66,10])\n",
    "# ax2.xaxis.set_major_formatter(ticker.NullFormatter())\n",
    "# ax2.xaxis.set_minor_locator(ticker.FixedLocator([0.33/2, 0.66/2, 1/2]))\n",
    "# ax2.xaxis.set_minor_formatter(ticker.FixedFormatter(['mammal', 'reptiles', 'hi']))\n"
   ],
   "metadata": {
    "collapsed": false
   },
   "id": "ac91eac28703cceb"
  },
  {
   "cell_type": "code",
   "outputs": [
    {
     "data": {
      "text/plain": "12"
     },
     "execution_count": 149,
     "metadata": {},
     "output_type": "execute_result"
    }
   ],
   "source": [
    "len(lr_options*3)"
   ],
   "metadata": {
    "collapsed": false,
    "ExecuteTime": {
     "end_time": "2024-03-30T22:18:45.662506300Z",
     "start_time": "2024-03-30T22:18:45.649189100Z"
    }
   },
   "id": "9ed960ee107d187f",
   "execution_count": 149
  },
  {
   "cell_type": "code",
   "outputs": [
    {
     "data": {
      "text/plain": "array([[0.36719957, 0.39248864, 0.37104334, 0.00214494, 0.39120265,\n        0.40185728, 0.36202266, 0.00171228, 0.3673022 , 0.38222062,\n        0.37060157, 0.00168982],\n       [0.39093184, 0.38039513, 0.37997779, 0.31165803, 0.3764615 ,\n        0.38333909, 0.35763448, 0.29796048, 0.37398068, 0.3930849 ,\n        0.3761569 , 0.00180747],\n       [0.39271071, 0.38484409, 0.37462854, 0.00328001, 0.38756671,\n        0.38319531, 0.36762373, 0.34939488, 0.38725372, 0.38264723,\n        0.393093  , 0.0015502 ],\n       [0.39381483, 0.38393874, 0.3823007 , 0.00154765, 0.39953638,\n        0.38224088, 0.38696189, 0.2321614 , 0.3660492 , 0.38522763,\n        0.34833523, 0.00153868]])"
     },
     "execution_count": 143,
     "metadata": {},
     "output_type": "execute_result"
    }
   ],
   "source": [
    "gaus_1_table"
   ],
   "metadata": {
    "collapsed": false,
    "ExecuteTime": {
     "end_time": "2024-03-30T22:16:07.378175500Z",
     "start_time": "2024-03-30T22:16:07.371175800Z"
    }
   },
   "id": "c5fd61418e1557df",
   "execution_count": 143
  },
  {
   "cell_type": "code",
   "outputs": [
    {
     "data": {
      "text/plain": "4.0"
     },
     "execution_count": 117,
     "metadata": {},
     "output_type": "execute_result"
    }
   ],
   "source": [
    "epochs_offset"
   ],
   "metadata": {
    "collapsed": false,
    "ExecuteTime": {
     "end_time": "2024-03-30T22:05:58.213413800Z",
     "start_time": "2024-03-30T22:05:58.205572600Z"
    }
   },
   "id": "49a8d9f23c30265e",
   "execution_count": 117
  },
  {
   "cell_type": "code",
   "outputs": [
    {
     "data": {
      "text/plain": "0"
     },
     "execution_count": 93,
     "metadata": {},
     "output_type": "execute_result"
    }
   ],
   "source": [
    "patience_options[::-1].index('10')"
   ],
   "metadata": {
    "collapsed": false,
    "ExecuteTime": {
     "end_time": "2024-03-30T21:50:58.860932Z",
     "start_time": "2024-03-30T21:50:58.848929400Z"
    }
   },
   "id": "f5ef19df4559127b",
   "execution_count": 93
  },
  {
   "cell_type": "code",
   "outputs": [
    {
     "name": "stdout",
     "output_type": "stream",
     "text": [
      "24.0\n",
      "8.0\n",
      "4.0\n"
     ]
    }
   ],
   "source": [
    "print(pt_offset)\n",
    "print(epochs_offset)\n",
    "print(gaus_ratio_offset)"
   ],
   "metadata": {
    "collapsed": false,
    "ExecuteTime": {
     "end_time": "2024-03-30T21:56:20.347880500Z",
     "start_time": "2024-03-30T21:56:20.345812200Z"
    }
   },
   "id": "7294d9fb0f93e0ca",
   "execution_count": 111
  },
  {
   "cell_type": "code",
   "outputs": [],
   "source": [],
   "metadata": {
    "collapsed": false
   },
   "id": "1e93061373c2a665"
  }
 ],
 "metadata": {
  "kernelspec": {
   "display_name": "Python 3",
   "language": "python",
   "name": "python3"
  },
  "language_info": {
   "codemirror_mode": {
    "name": "ipython",
    "version": 2
   },
   "file_extension": ".py",
   "mimetype": "text/x-python",
   "name": "python",
   "nbconvert_exporter": "python",
   "pygments_lexer": "ipython2",
   "version": "2.7.6"
  }
 },
 "nbformat": 4,
 "nbformat_minor": 5
}
