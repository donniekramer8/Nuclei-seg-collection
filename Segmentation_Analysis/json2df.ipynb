{
 "cells": [
  {
   "cell_type": "code",
   "execution_count": 3,
   "outputs": [],
   "source": [
    "import os\n",
    "import pandas as pd\n",
    "from PIL import Image\n",
    "Image.MAX_IMAGE_PIXELS=None\n",
    "\n",
    "openslide_path = r'C:\\Users\\Donald\\Documents\\openslide-win64-20230414\\bin'\n",
    "\n",
    "os.environ['PATH'] = openslide_path + \";\" + os.environ['PATH']\n",
    "# from openslide import OpenSlide\n",
    "\n",
    "\n",
    "if hasattr(os, 'add_dll_directory'):\n",
    "    # Python >= 3.8 on Windows\n",
    "    with os.add_dll_directory(openslide_path):\n",
    "        import openslide\n",
    "else:\n",
    "    import openslide\n",
    "from openslide import OpenSlide\n",
    "\n",
    "from openslide import OpenSlide\n",
    "import numpy as np\n",
    "import cv2\n",
    "import os\n",
    "from time import time"
   ],
   "metadata": {
    "collapsed": false,
    "ExecuteTime": {
     "end_time": "2023-11-28T19:01:52.328169100Z",
     "start_time": "2023-11-28T19:01:50.992209100Z"
    }
   }
  },
  {
   "cell_type": "code",
   "execution_count": 4,
   "outputs": [],
   "source": [
    "def cellclass(cnt,dl,rsfw_wsi2dl,rsfh_wsi2dl):\n",
    "    celltype = dl.getpixel((cnt[0]//rsfw_wsi2dl,cnt[1]//rsfh_wsi2dl))\n",
    "    return celltype"
   ],
   "metadata": {
    "collapsed": false,
    "ExecuteTime": {
     "end_time": "2023-11-28T19:02:00.156805600Z",
     "start_time": "2023-11-28T19:02:00.126123Z"
    }
   }
  },
  {
   "cell_type": "code",
   "execution_count": 5,
   "outputs": [],
   "source": [
    "def cntarea(cnt):\n",
    "    cnt = np.array(cnt)\n",
    "    area = cv2.contourArea(cnt)\n",
    "    return area\n",
    "\n",
    "def cntperi(cnt):\n",
    "    cnt = np.array(cnt)\n",
    "    perimeter = cv2.arcLength(cnt,True)\n",
    "    return perimeter\n",
    "\n",
    "def cntMA(cnt):\n",
    "    cnt = np.array(cnt)\n",
    "    #Orientation, Aspect_ratio\n",
    "    (x,y),(MA,ma),orientation = cv2.fitEllipse(cnt)\n",
    "    return np.max((MA,ma)),np.min((MA,ma)),orientation"
   ],
   "metadata": {
    "collapsed": false,
    "ExecuteTime": {
     "end_time": "2023-11-28T19:02:02.245969300Z",
     "start_time": "2023-11-28T19:02:02.231968800Z"
    }
   }
  },
  {
   "cell_type": "code",
   "execution_count": 49,
   "outputs": [
    {
     "name": "stdout",
     "output_type": "stream",
     "text": [
      "1\n",
      "\\\\10.99.68.178\\andreex\\data\\monkey fetus\\gestational 40\\StarDist_11_21_23\\json\\monkey_fetus_40_0001.json\n",
      "\\\\10.99.68.178\\andreex\\data\\monkey fetus\\gestational 40\\monkey_fetus_40_0001.ndpi\n",
      "\\\\10.99.68.178\\andreex\\data\\monkey fetus\\gestational 40\\5x\\cropped_images\\classification_MODEL1_6_21_2023_all_annotations\\monkey_fetus_40_0001.tif\n",
      "\\\\10.99.68.178\\andreex\\data\\monkey fetus\\gestational 40\\all_classifications\\classification_6_13_2023_adrenal_donald\n",
      "Loading json took: 1\n"
     ]
    },
    {
     "ename": "NameError",
     "evalue": "name 'dl' is not defined",
     "output_type": "error",
     "traceback": [
      "\u001B[1;31m---------------------------------------------------------------------------\u001B[0m",
      "\u001B[1;31mNameError\u001B[0m                                 Traceback (most recent call last)",
      "Cell \u001B[1;32mIn[49], line 46\u001B[0m\n\u001B[0;32m     43\u001B[0m wsih, wsiw \u001B[38;5;241m=\u001B[39m wsi\u001B[38;5;241m.\u001B[39mdimensions\n\u001B[0;32m     45\u001B[0m start \u001B[38;5;241m=\u001B[39m time()\n\u001B[1;32m---> 46\u001B[0m json[\u001B[38;5;124m'\u001B[39m\u001B[38;5;124mtype\u001B[39m\u001B[38;5;124m'\u001B[39m] \u001B[38;5;241m=\u001B[39m \u001B[43mjson\u001B[49m\u001B[43m[\u001B[49m\u001B[38;5;124;43m'\u001B[39;49m\u001B[38;5;124;43mcentroid\u001B[39;49m\u001B[38;5;124;43m'\u001B[39;49m\u001B[43m]\u001B[49m\u001B[38;5;241;43m.\u001B[39;49m\u001B[43mapply\u001B[49m\u001B[43m(\u001B[49m\u001B[38;5;28;43;01mlambda\u001B[39;49;00m\u001B[43m \u001B[49m\u001B[43mrow\u001B[49m\u001B[43m:\u001B[49m\u001B[43m \u001B[49m\u001B[43mcellclass\u001B[49m\u001B[43m(\u001B[49m\u001B[43mrow\u001B[49m\u001B[43m,\u001B[49m\u001B[43mdl\u001B[49m\u001B[43m,\u001B[49m\u001B[43mrsfw_wsi2dl\u001B[49m\u001B[43m,\u001B[49m\u001B[43mrsfh_wsi2dl\u001B[49m\u001B[43m)\u001B[49m\u001B[43m)\u001B[49m\n\u001B[0;32m     48\u001B[0m ECMclass\u001B[38;5;241m=\u001B[39m\u001B[38;5;241m6\u001B[39m\n\u001B[0;32m     49\u001B[0m jsonECM \u001B[38;5;241m=\u001B[39m json[json\u001B[38;5;241m.\u001B[39mtype\u001B[38;5;241m==\u001B[39mECMclass]\n",
      "File \u001B[1;32m~\\anaconda3\\envs\\monkey_nuc_segment_v6\\lib\\site-packages\\pandas\\core\\series.py:4753\u001B[0m, in \u001B[0;36mSeries.apply\u001B[1;34m(self, func, convert_dtype, args, by_row, **kwargs)\u001B[0m\n\u001B[0;32m   4625\u001B[0m \u001B[38;5;28;01mdef\u001B[39;00m \u001B[38;5;21mapply\u001B[39m(\n\u001B[0;32m   4626\u001B[0m     \u001B[38;5;28mself\u001B[39m,\n\u001B[0;32m   4627\u001B[0m     func: AggFuncType,\n\u001B[1;32m   (...)\u001B[0m\n\u001B[0;32m   4632\u001B[0m     \u001B[38;5;241m*\u001B[39m\u001B[38;5;241m*\u001B[39mkwargs,\n\u001B[0;32m   4633\u001B[0m ) \u001B[38;5;241m-\u001B[39m\u001B[38;5;241m>\u001B[39m DataFrame \u001B[38;5;241m|\u001B[39m Series:\n\u001B[0;32m   4634\u001B[0m \u001B[38;5;250m    \u001B[39m\u001B[38;5;124;03m\"\"\"\u001B[39;00m\n\u001B[0;32m   4635\u001B[0m \u001B[38;5;124;03m    Invoke function on values of Series.\u001B[39;00m\n\u001B[0;32m   4636\u001B[0m \n\u001B[1;32m   (...)\u001B[0m\n\u001B[0;32m   4751\u001B[0m \u001B[38;5;124;03m    dtype: float64\u001B[39;00m\n\u001B[0;32m   4752\u001B[0m \u001B[38;5;124;03m    \"\"\"\u001B[39;00m\n\u001B[1;32m-> 4753\u001B[0m     \u001B[38;5;28;01mreturn\u001B[39;00m \u001B[43mSeriesApply\u001B[49m\u001B[43m(\u001B[49m\n\u001B[0;32m   4754\u001B[0m \u001B[43m        \u001B[49m\u001B[38;5;28;43mself\u001B[39;49m\u001B[43m,\u001B[49m\n\u001B[0;32m   4755\u001B[0m \u001B[43m        \u001B[49m\u001B[43mfunc\u001B[49m\u001B[43m,\u001B[49m\n\u001B[0;32m   4756\u001B[0m \u001B[43m        \u001B[49m\u001B[43mconvert_dtype\u001B[49m\u001B[38;5;241;43m=\u001B[39;49m\u001B[43mconvert_dtype\u001B[49m\u001B[43m,\u001B[49m\n\u001B[0;32m   4757\u001B[0m \u001B[43m        \u001B[49m\u001B[43mby_row\u001B[49m\u001B[38;5;241;43m=\u001B[39;49m\u001B[43mby_row\u001B[49m\u001B[43m,\u001B[49m\n\u001B[0;32m   4758\u001B[0m \u001B[43m        \u001B[49m\u001B[43margs\u001B[49m\u001B[38;5;241;43m=\u001B[39;49m\u001B[43margs\u001B[49m\u001B[43m,\u001B[49m\n\u001B[0;32m   4759\u001B[0m \u001B[43m        \u001B[49m\u001B[43mkwargs\u001B[49m\u001B[38;5;241;43m=\u001B[39;49m\u001B[43mkwargs\u001B[49m\u001B[43m,\u001B[49m\n\u001B[0;32m   4760\u001B[0m \u001B[43m    \u001B[49m\u001B[43m)\u001B[49m\u001B[38;5;241;43m.\u001B[39;49m\u001B[43mapply\u001B[49m\u001B[43m(\u001B[49m\u001B[43m)\u001B[49m\n",
      "File \u001B[1;32m~\\anaconda3\\envs\\monkey_nuc_segment_v6\\lib\\site-packages\\pandas\\core\\apply.py:1207\u001B[0m, in \u001B[0;36mSeriesApply.apply\u001B[1;34m(self)\u001B[0m\n\u001B[0;32m   1204\u001B[0m     \u001B[38;5;28;01mreturn\u001B[39;00m \u001B[38;5;28mself\u001B[39m\u001B[38;5;241m.\u001B[39mapply_compat()\n\u001B[0;32m   1206\u001B[0m \u001B[38;5;66;03m# self.func is Callable\u001B[39;00m\n\u001B[1;32m-> 1207\u001B[0m \u001B[38;5;28;01mreturn\u001B[39;00m \u001B[38;5;28;43mself\u001B[39;49m\u001B[38;5;241;43m.\u001B[39;49m\u001B[43mapply_standard\u001B[49m\u001B[43m(\u001B[49m\u001B[43m)\u001B[49m\n",
      "File \u001B[1;32m~\\anaconda3\\envs\\monkey_nuc_segment_v6\\lib\\site-packages\\pandas\\core\\apply.py:1287\u001B[0m, in \u001B[0;36mSeriesApply.apply_standard\u001B[1;34m(self)\u001B[0m\n\u001B[0;32m   1281\u001B[0m \u001B[38;5;66;03m# row-wise access\u001B[39;00m\n\u001B[0;32m   1282\u001B[0m \u001B[38;5;66;03m# apply doesn't have a `na_action` keyword and for backward compat reasons\u001B[39;00m\n\u001B[0;32m   1283\u001B[0m \u001B[38;5;66;03m# we need to give `na_action=\"ignore\"` for categorical data.\u001B[39;00m\n\u001B[0;32m   1284\u001B[0m \u001B[38;5;66;03m# TODO: remove the `na_action=\"ignore\"` when that default has been changed in\u001B[39;00m\n\u001B[0;32m   1285\u001B[0m \u001B[38;5;66;03m#  Categorical (GH51645).\u001B[39;00m\n\u001B[0;32m   1286\u001B[0m action \u001B[38;5;241m=\u001B[39m \u001B[38;5;124m\"\u001B[39m\u001B[38;5;124mignore\u001B[39m\u001B[38;5;124m\"\u001B[39m \u001B[38;5;28;01mif\u001B[39;00m \u001B[38;5;28misinstance\u001B[39m(obj\u001B[38;5;241m.\u001B[39mdtype, CategoricalDtype) \u001B[38;5;28;01melse\u001B[39;00m \u001B[38;5;28;01mNone\u001B[39;00m\n\u001B[1;32m-> 1287\u001B[0m mapped \u001B[38;5;241m=\u001B[39m \u001B[43mobj\u001B[49m\u001B[38;5;241;43m.\u001B[39;49m\u001B[43m_map_values\u001B[49m\u001B[43m(\u001B[49m\n\u001B[0;32m   1288\u001B[0m \u001B[43m    \u001B[49m\u001B[43mmapper\u001B[49m\u001B[38;5;241;43m=\u001B[39;49m\u001B[43mcurried\u001B[49m\u001B[43m,\u001B[49m\u001B[43m \u001B[49m\u001B[43mna_action\u001B[49m\u001B[38;5;241;43m=\u001B[39;49m\u001B[43maction\u001B[49m\u001B[43m,\u001B[49m\u001B[43m \u001B[49m\u001B[43mconvert\u001B[49m\u001B[38;5;241;43m=\u001B[39;49m\u001B[38;5;28;43mself\u001B[39;49m\u001B[38;5;241;43m.\u001B[39;49m\u001B[43mconvert_dtype\u001B[49m\n\u001B[0;32m   1289\u001B[0m \u001B[43m\u001B[49m\u001B[43m)\u001B[49m\n\u001B[0;32m   1291\u001B[0m \u001B[38;5;28;01mif\u001B[39;00m \u001B[38;5;28mlen\u001B[39m(mapped) \u001B[38;5;129;01mand\u001B[39;00m \u001B[38;5;28misinstance\u001B[39m(mapped[\u001B[38;5;241m0\u001B[39m], ABCSeries):\n\u001B[0;32m   1292\u001B[0m     \u001B[38;5;66;03m# GH#43986 Need to do list(mapped) in order to get treated as nested\u001B[39;00m\n\u001B[0;32m   1293\u001B[0m     \u001B[38;5;66;03m#  See also GH#25959 regarding EA support\u001B[39;00m\n\u001B[0;32m   1294\u001B[0m     \u001B[38;5;28;01mreturn\u001B[39;00m obj\u001B[38;5;241m.\u001B[39m_constructor_expanddim(\u001B[38;5;28mlist\u001B[39m(mapped), index\u001B[38;5;241m=\u001B[39mobj\u001B[38;5;241m.\u001B[39mindex)\n",
      "File \u001B[1;32m~\\anaconda3\\envs\\monkey_nuc_segment_v6\\lib\\site-packages\\pandas\\core\\base.py:921\u001B[0m, in \u001B[0;36mIndexOpsMixin._map_values\u001B[1;34m(self, mapper, na_action, convert)\u001B[0m\n\u001B[0;32m    918\u001B[0m \u001B[38;5;28;01mif\u001B[39;00m \u001B[38;5;28misinstance\u001B[39m(arr, ExtensionArray):\n\u001B[0;32m    919\u001B[0m     \u001B[38;5;28;01mreturn\u001B[39;00m arr\u001B[38;5;241m.\u001B[39mmap(mapper, na_action\u001B[38;5;241m=\u001B[39mna_action)\n\u001B[1;32m--> 921\u001B[0m \u001B[38;5;28;01mreturn\u001B[39;00m \u001B[43malgorithms\u001B[49m\u001B[38;5;241;43m.\u001B[39;49m\u001B[43mmap_array\u001B[49m\u001B[43m(\u001B[49m\u001B[43marr\u001B[49m\u001B[43m,\u001B[49m\u001B[43m \u001B[49m\u001B[43mmapper\u001B[49m\u001B[43m,\u001B[49m\u001B[43m \u001B[49m\u001B[43mna_action\u001B[49m\u001B[38;5;241;43m=\u001B[39;49m\u001B[43mna_action\u001B[49m\u001B[43m,\u001B[49m\u001B[43m \u001B[49m\u001B[43mconvert\u001B[49m\u001B[38;5;241;43m=\u001B[39;49m\u001B[43mconvert\u001B[49m\u001B[43m)\u001B[49m\n",
      "File \u001B[1;32m~\\anaconda3\\envs\\monkey_nuc_segment_v6\\lib\\site-packages\\pandas\\core\\algorithms.py:1814\u001B[0m, in \u001B[0;36mmap_array\u001B[1;34m(arr, mapper, na_action, convert)\u001B[0m\n\u001B[0;32m   1812\u001B[0m values \u001B[38;5;241m=\u001B[39m arr\u001B[38;5;241m.\u001B[39mastype(\u001B[38;5;28mobject\u001B[39m, copy\u001B[38;5;241m=\u001B[39m\u001B[38;5;28;01mFalse\u001B[39;00m)\n\u001B[0;32m   1813\u001B[0m \u001B[38;5;28;01mif\u001B[39;00m na_action \u001B[38;5;129;01mis\u001B[39;00m \u001B[38;5;28;01mNone\u001B[39;00m:\n\u001B[1;32m-> 1814\u001B[0m     \u001B[38;5;28;01mreturn\u001B[39;00m \u001B[43mlib\u001B[49m\u001B[38;5;241;43m.\u001B[39;49m\u001B[43mmap_infer\u001B[49m\u001B[43m(\u001B[49m\u001B[43mvalues\u001B[49m\u001B[43m,\u001B[49m\u001B[43m \u001B[49m\u001B[43mmapper\u001B[49m\u001B[43m,\u001B[49m\u001B[43m \u001B[49m\u001B[43mconvert\u001B[49m\u001B[38;5;241;43m=\u001B[39;49m\u001B[43mconvert\u001B[49m\u001B[43m)\u001B[49m\n\u001B[0;32m   1815\u001B[0m \u001B[38;5;28;01melse\u001B[39;00m:\n\u001B[0;32m   1816\u001B[0m     \u001B[38;5;28;01mreturn\u001B[39;00m lib\u001B[38;5;241m.\u001B[39mmap_infer_mask(\n\u001B[0;32m   1817\u001B[0m         values, mapper, mask\u001B[38;5;241m=\u001B[39misna(values)\u001B[38;5;241m.\u001B[39mview(np\u001B[38;5;241m.\u001B[39muint8), convert\u001B[38;5;241m=\u001B[39mconvert\n\u001B[0;32m   1818\u001B[0m     )\n",
      "File \u001B[1;32mlib.pyx:2920\u001B[0m, in \u001B[0;36mpandas._libs.lib.map_infer\u001B[1;34m()\u001B[0m\n",
      "Cell \u001B[1;32mIn[49], line 46\u001B[0m, in \u001B[0;36m<lambda>\u001B[1;34m(row)\u001B[0m\n\u001B[0;32m     43\u001B[0m wsih, wsiw \u001B[38;5;241m=\u001B[39m wsi\u001B[38;5;241m.\u001B[39mdimensions\n\u001B[0;32m     45\u001B[0m start \u001B[38;5;241m=\u001B[39m time()\n\u001B[1;32m---> 46\u001B[0m json[\u001B[38;5;124m'\u001B[39m\u001B[38;5;124mtype\u001B[39m\u001B[38;5;124m'\u001B[39m] \u001B[38;5;241m=\u001B[39m json[\u001B[38;5;124m'\u001B[39m\u001B[38;5;124mcentroid\u001B[39m\u001B[38;5;124m'\u001B[39m]\u001B[38;5;241m.\u001B[39mapply(\u001B[38;5;28;01mlambda\u001B[39;00m row: cellclass(row,\u001B[43mdl\u001B[49m,rsfw_wsi2dl,rsfh_wsi2dl))\n\u001B[0;32m     48\u001B[0m ECMclass\u001B[38;5;241m=\u001B[39m\u001B[38;5;241m6\u001B[39m\n\u001B[0;32m     49\u001B[0m jsonECM \u001B[38;5;241m=\u001B[39m json[json\u001B[38;5;241m.\u001B[39mtype\u001B[38;5;241m==\u001B[39mECMclass]\n",
      "\u001B[1;31mNameError\u001B[0m: name 'dl' is not defined"
     ]
    }
   ],
   "source": [
    "#jsonsrc = r\"\\\\10.99.68.178\\andreex\\students\\Eduarda PDAC tissue composition\\3D_annotations\\TC_039\\hovernet_out\\json\"\n",
    "#dlsrc = r\"\\\\10.99.68.178\\andreex\\students\\Eduarda PDAC tissue composition\\3D_annotations\\TC_039\\10x\\classification_5_7_2023\"\n",
    "#wsisrc = r\"\\\\10.99.68.178\\andreex\\students\\Eduarda PDAC tissue composition\\3D_annotations\\TC_039\"\n",
    "\n",
    "jsonsrc = r\"\\\\10.99.68.178\\andreex\\data\\monkey fetus\\gestational 40\\StarDist_11_21_23\\json\"\n",
    "m1src = r'\\\\10.99.68.178\\andreex\\data\\monkey fetus\\gestational 40\\5x\\cropped_images\\classification_MODEL1_6_21_2023_all_annotations'\n",
    "m2src = r'\\\\10.99.68.178\\andreex\\data\\monkey fetus\\gestational 40\\all_classifications'\n",
    "wsisrc = r\"\\\\10.99.68.178\\andreex\\data\\monkey fetus\\gestational 40\"\n",
    "\n",
    "jsons = sorted([_ for _ in os.listdir(jsonsrc) if _.endswith('.json')])\n",
    "wsis = sorted([_ for _ in os.listdir(wsisrc) if _.endswith('.ndpi')])\n",
    "m1s = sorted([_ for _ in os.listdir(m1src) if _.endswith('.tif')])\n",
    "m2s = [_ for _ in os.listdir(m2src)]\n",
    "\n",
    "cellcounts = []\n",
    "zlevels = []\n",
    "sizes = []\n",
    "\n",
    "for num, json in enumerate(jsons):\n",
    "    zlevel = int(json[-9:-5])\n",
    "    jsonpth = os.path.join(jsonsrc,json)\n",
    "    wsipth = os.path.join(wsisrc, wsis[num])\n",
    "    m1pth = os.path.join(m1src, m1s[num])\n",
    "    m2pth = os.path.join(m2src, m2s[num])\n",
    "\n",
    "\n",
    "    print(zlevel)\n",
    "    print(jsonpth)\n",
    "    print(wsipth)\n",
    "    print(m1pth)\n",
    "    print(m2pth)\n",
    "\n",
    "    start = time()\n",
    "    json = pd.read_json(jsonpth)\n",
    "    end = time()\n",
    "    print('Loading json took: {}'.format(round(end-start)))\n",
    "\n",
    "    start = time()\n",
    "    m1 = Image.open(m1pth)\n",
    "    m1h, m1w = m1.size\n",
    "\n",
    "    wsi = OpenSlide(wsipth)\n",
    "    wsih, wsiw = wsi.dimensions\n",
    "\n",
    "    start = time()\n",
    "    json['type'] = json['centroid'].apply(lambda row: cellclass(row,dl,rsfw_wsi2dl,rsfh_wsi2dl))\n",
    "\n",
    "    ECMclass=6\n",
    "    jsonECM = json[json.type==ECMclass]\n",
    "\n",
    "    json = jsonECM\n",
    "    json['Area'] = json['contour'].apply(lambda row: cntarea(row))\n",
    "    json['Perimeter'] = json['contour'].apply(lambda row: cntperi(row))\n",
    "    json['Circularity'] = 4 * np.pi * json['Area'] / json['Perimeter'] ** 2\n",
    "    json['MA'] = json['contour'].apply(lambda row: cntMA(row))\n",
    "    json[['MA', 'ma', 'orientation']] = pd.DataFrame(json.MA.tolist())\n",
    "    json['AspectRatio'] = json['MA'] / json['ma']\n",
    "    jsonRound = json[json['AspectRatio']<2]\n",
    "\n",
    "    cellcounts.append(len(jsonRound))\n",
    "    zlevels.append(zlevel)\n",
    "    sizes.append(json['Area'].mean())\n",
    "    print('Classifying and quantifying nuclei took: {}'.format(round(end-start)))\n"
   ],
   "metadata": {
    "collapsed": false,
    "ExecuteTime": {
     "end_time": "2023-11-28T19:43:05.163313200Z",
     "start_time": "2023-11-28T19:43:02.356313700Z"
    }
   }
  },
  {
   "cell_type": "code",
   "execution_count": 44,
   "outputs": [
    {
     "data": {
      "text/plain": "1928"
     },
     "execution_count": 44,
     "metadata": {},
     "output_type": "execute_result"
    }
   ],
   "source": [
    "json['centroid'][0][0][0]"
   ],
   "metadata": {
    "collapsed": false,
    "ExecuteTime": {
     "end_time": "2023-11-28T19:32:13.093523200Z",
     "start_time": "2023-11-28T19:32:13.076934500Z"
    }
   }
  },
  {
   "cell_type": "code",
   "execution_count": 7,
   "outputs": [],
   "source": [
    "df = {'zlevel':zlevels,'cellcounts':cellcounts,'cellsize':sizes}\n",
    "df = pd.DataFrame(df)\n",
    "df.to_csv(os.path.join(jsonsrc,'stat.csv'))"
   ],
   "metadata": {
    "collapsed": false,
    "ExecuteTime": {
     "end_time": "2023-05-12T17:56:47.536907500Z",
     "start_time": "2023-05-12T17:56:47.464409600Z"
    }
   }
  },
  {
   "cell_type": "code",
   "execution_count": null,
   "outputs": [],
   "source": [
    "#VISUALIZATION\n",
    "centroidmap = np.zeros([dlh,dlw])\n",
    "marksize = 10\n",
    "for index, row in jsonRound.iterrows():\n",
    "    xy = [round(_/rsfw_wsi2dl) for _ in  row.centroid]\n",
    "    centroidmap[xy[1]-marksize:xy[1]+marksize,xy[0]-marksize:xy[0]+marksize]=1\n",
    "\n",
    "Image.fromarray(centroidmap.astype(np.uint8)).save('tmp.png')"
   ],
   "metadata": {
    "collapsed": false
   }
  }
 ],
 "metadata": {
  "kernelspec": {
   "display_name": "Python 3",
   "language": "python",
   "name": "python3"
  },
  "language_info": {
   "codemirror_mode": {
    "name": "ipython",
    "version": 2
   },
   "file_extension": ".py",
   "mimetype": "text/x-python",
   "name": "python",
   "nbconvert_exporter": "python",
   "pygments_lexer": "ipython2",
   "version": "2.7.6"
  }
 },
 "nbformat": 4,
 "nbformat_minor": 0
}
