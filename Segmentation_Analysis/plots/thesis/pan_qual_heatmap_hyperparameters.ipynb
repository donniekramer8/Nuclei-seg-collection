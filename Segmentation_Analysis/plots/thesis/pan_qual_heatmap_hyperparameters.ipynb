{
 "cells": [
  {
   "cell_type": "code",
   "outputs": [],
   "source": [
    "import pickle\n",
    "import os\n",
    "import matplotlib.pyplot as plt\n",
    "import numpy as np\n",
    "from scipy import integrate\n",
    "import pandas as pd"
   ],
   "metadata": {
    "collapsed": false,
    "ExecuteTime": {
     "end_time": "2024-04-04T21:56:01.673463900Z",
     "start_time": "2024-04-04T21:56:01.653463700Z"
    }
   },
   "id": "7dc7812304f1165",
   "execution_count": 15
  },
  {
   "cell_type": "code",
   "outputs": [],
   "source": [
    "p = r'C:\\Users\\Donald\\PycharmProjects\\monkey_nuc_segment\\Segmentation_Analysis\\monkey\\thesis\\pan_qual_dfs.pkl'\n",
    "\n",
    "with open(p, 'rb') as f:\n",
    "    dfs_t = pickle.load(f)"
   ],
   "metadata": {
    "collapsed": false,
    "ExecuteTime": {
     "end_time": "2024-04-04T21:51:01.463981100Z",
     "start_time": "2024-04-04T21:51:01.429945500Z"
    }
   },
   "id": "7c2560be47ad827c",
   "execution_count": 2
  },
  {
   "cell_type": "code",
   "outputs": [],
   "source": [
    "def get_f1(tp, fp, fn):\n",
    "    precision = tp / (tp + fp)\n",
    "    recall = tp / (tp + fn)\n",
    "    avg_precision = tp / (tp + fp + fn)\n",
    "    f1 = 2 * precision * recall / (precision + recall)\n",
    "    return precision, recall, avg_precision, f1\n",
    "\n",
    "def find_first_unique_indices(lst):\n",
    "    unique_indices = {}\n",
    "    result = []\n",
    "\n",
    "    for i, value in enumerate(lst):\n",
    "        if value not in unique_indices:\n",
    "            unique_indices[value] = i\n",
    "\n",
    "    for value in lst:\n",
    "        result.append(unique_indices[value])\n",
    "\n",
    "    return result\n",
    "\n",
    "def get_organ_f1(result):\n",
    "    names = result['Image']\n",
    "\n",
    "    names = [name.split(\".\")[0][21:] for name in names]\n",
    "\n",
    "    for i in range(len(names)):\n",
    "        #if len(names[i]) > 6:\n",
    "        names[i] = names[i][:2]\n",
    "\n",
    "    result_list = find_first_unique_indices(names)\n",
    "\n",
    "    f1_scores = result['F1 Score']\n",
    "\n",
    "    seen = []\n",
    "    names = []\n",
    "\n",
    "    raw_vals = result[['Image', 'TP', 'FP', 'FN', 'Avg Precision','pq_num', 'pth_model']]\n",
    "\n",
    "    TPs = [0 for _ in range(len(raw_vals))]\n",
    "    FPs = [0 for _ in range(len(raw_vals))]\n",
    "    FNs = [0 for _ in range(len(raw_vals))]\n",
    "    APs = [0 for _ in range(len(raw_vals))]\n",
    "    PQ_nums = [0 for _ in range(len(raw_vals))]\n",
    "    nm_models = [0 for _ in range(len(raw_vals))]\n",
    "\n",
    "    for i in range(len(raw_vals)):\n",
    "        row = raw_vals.iloc[i]\n",
    "        num = result_list[i]\n",
    "        if num not in seen:\n",
    "            names.append(raw_vals['Image'][i])\n",
    "            seen.append(num)\n",
    "\n",
    "        TPs[num] += row['TP']\n",
    "        FPs[num] += row['FP']\n",
    "        FNs[num] += row['FN']\n",
    "        APs[num] += row['Avg Precision']\n",
    "        PQ_nums[num] += row['pq_num']\n",
    "        nm_models[num] = row['pth_model']\n",
    "\n",
    "    organ_names = []\n",
    "    for i in range(len(names)):\n",
    "        nm = names[i][21:-4]\n",
    "        if nm[-1] == '1':\n",
    "            nm = nm[:-1]\n",
    "        organ_names.append(nm)\n",
    "\n",
    "    TPs = [val for val in TPs if val != 0]\n",
    "    FPs = [val for val in FPs if val != 0]\n",
    "    FNs = [val for val in FNs if val != 0]\n",
    "    APs = [val for val in APs if val != 0]\n",
    "    PQ_nums = [val for val in PQ_nums if val != 0]\n",
    "    names = [val for val in nm_models if val != 0]\n",
    "\n",
    "    if [len(organ_names), len(TPs), len(FPs), len(FNs)] != [len(organ_names), len(organ_names), len(organ_names), len(organ_names)]:\n",
    "        print('skipped')\n",
    "        return 0\n",
    "\n",
    "    new_df = pd.DataFrame({'Organ': organ_names, 'TP': TPs, 'FP': FPs, 'FN': FNs, 'AP': APs})\n",
    "\n",
    "    precisions = []\n",
    "    recalls = []\n",
    "    f1s = []\n",
    "    APs = []\n",
    "\n",
    "    for i in range(len(new_df)):\n",
    "        row = new_df.iloc[i]\n",
    "\n",
    "        tp = row['TP']\n",
    "        fp = row['FP']\n",
    "        fn = row['FN']\n",
    "\n",
    "        precision, recall, avg_precision, f1 = get_f1(tp, fp, fn)\n",
    "        precisions.append(precision)\n",
    "        recalls.append(recall)\n",
    "        f1s.append(f1)\n",
    "        APs.append(avg_precision)\n",
    "\n",
    "    new_df['Recall'] = recalls\n",
    "    new_df['Precision'] = precisions\n",
    "    new_df['F1'] = f1s\n",
    "    new_df['AP'] = APs\n",
    "    new_df['PQ_nums'] = PQ_nums\n",
    "    new_df['pth_model'] = names\n",
    "\n",
    "    return new_df"
   ],
   "metadata": {
    "collapsed": false,
    "ExecuteTime": {
     "end_time": "2024-04-04T22:39:04.524797300Z",
     "start_time": "2024-04-04T22:39:04.485796600Z"
    }
   },
   "id": "c7d4a57a635d88e8",
   "execution_count": 94
  },
  {
   "cell_type": "code",
   "outputs": [
    {
     "data": {
      "text/plain": "                                   Image  Tau       IoU   TP   FP   FN  \\\n0         monkey_fetus_40_0272_eyes1.tif  0.7  0.739823  153   28   45   \n1          monkey_fetus_40_0273_bone.tif  0.7  0.729419   32    5   24   \n2         monkey_fetus_40_0281_eyes2.tif  0.7  0.682934  130   50  111   \n3        monkey_fetus_40_0308_liver1.tif  0.7  0.807160  135   13   20   \n4         monkey_fetus_40_0323_ears1.tif  0.7  0.670261  110  108  122   \n5        monkey_fetus_40_0344_brain1.tif  0.7  0.763148  196   40   87   \n6        monkey_fetus_40_0380_heart1.tif  0.7  0.758650   71   12   20   \n7        monkey_fetus_40_0381_thymus.tif  0.7  0.810057  134   11   35   \n8         monkey_fetus_40_0426_lungs.tif  0.7  0.692953  114   64  147   \n9      monkey_fetus_40_0428_thyroid1.tif  0.7  0.748314   98   13   24   \n10       monkey_fetus_40_0451_heart2.tif  0.7  0.693792  105   50   82   \n11          monkey_fetus_40_0452_gi1.tif  0.7  0.647873   67   83  165   \n12       monkey_fetus_40_0471_kidney.tif  0.7  0.582517   54   96  180   \n13          monkey_fetus_40_0476_gi2.tif  0.7  0.668649   91   61  138   \n14       monkey_fetus_40_0483_brain2.tif  0.7  0.722459  141   51   97   \n15          monkey_fetus_40_0497_gi3.tif  0.7  0.698236  115   67  104   \n16      monkey_fetus_40_0502_adrenal.tif  0.7  0.775043  123   36   66   \n17   monkey_fetus_40_0505_mesokidney.tif  0.7  0.707672   82   56   98   \n18       monkey_fetus_40_0506_brain3.tif  0.7  0.709473  168  124  184   \n19     monkey_fetus_40_0508_thyroid2.tif  0.7  0.740137  146   58   97   \n20       monkey_fetus_40_0526_gonads.tif  0.7  0.645563   83  107  189   \n21      monkey_fetus_40_0600_thymus2.tif  0.7  0.794766  162   32   47   \n22         monkey_fetus_40_0601_ecm1.tif  0.7  0.750831   32    4   15   \n23       monkey_fetus_40_0603_brain4.tif  0.7  0.769063  189   26   59   \n24          monkey_fetus_40_0604_gi4.tif  0.7  0.737727   92   47   70   \n25         monkey_fetus_40_0664_ecm2.tif  0.7  0.738160   83   23   55   \n26       monkey_fetus_40_0698_liver2.tif  0.7  0.672966  106   56  111   \n27         monkey_fetus_40_0710_ear2.tif  0.7  0.625389   71   31   77   \n28          monkey_fetus_40_0717_gi6.tif  0.7  0.658828  102   59  120   \n29       monkey_fetus_40_0718_lungs2.tif  0.7  0.648570   79   40   78   \n30      monkey_fetus_40_0754_kidney2.tif  0.7  0.725935  154   95  132   \n31     monkey_fetus_40_0768_adrenal2.tif  0.7  0.648068   49    7   44   \n32      monkey_fetus_40_0790_gonads2.tif  0.7  0.684433  128   32   98   \n33  monkey_fetus_40_0844_mesokidney2.tif  0.7  0.714501   66   52   76   \n34         monkey_fetus_40_0923_ecm3.tif  0.7  0.693321   44    8   28   \n35        monkey_fetus_40_1035_bone2.tif  0.7  0.732508   65   24   45   \n\n    Precision    Recall  Avg Precision  F1 Score  Seg Quality  Pan Quality  \\\n0    0.845304  0.772727       0.676991  0.807388     0.846171     0.683188   \n1    0.864865  0.571429       0.524590  0.688172     0.842054     0.579478   \n2    0.722222  0.539419       0.446735  0.617577     0.813083     0.502141   \n3    0.912162  0.870968       0.803571  0.891089     0.863118     0.769115   \n4    0.504587  0.474138       0.323529  0.488889     0.792253     0.387324   \n5    0.830508  0.692580       0.606811  0.755299     0.845470     0.638583   \n6    0.855422  0.780220       0.689320  0.816092     0.825936     0.674039   \n7    0.924138  0.792899       0.744444  0.853503     0.852820     0.727884   \n8    0.640449  0.436782       0.350769  0.519362     0.805344     0.418265   \n9    0.882883  0.803279       0.725926  0.841202     0.844184     0.710129   \n10   0.677419  0.561497       0.443038  0.614035     0.811061     0.498020   \n11   0.446667  0.288793       0.212698  0.350785     0.793888     0.278484   \n12   0.360000  0.230769       0.163636  0.281250     0.807329     0.227061   \n13   0.598684  0.397380       0.313793  0.477690     0.824404     0.393810   \n14   0.734375  0.592437       0.487889  0.655814     0.823491     0.540057   \n15   0.631868  0.525114       0.402098  0.573566     0.815786     0.467907   \n16   0.773585  0.650794       0.546667  0.706897     0.857755     0.606344   \n17   0.594203  0.455556       0.347458  0.515723     0.822710     0.424291   \n18   0.575342  0.477273       0.352941  0.521739     0.803601     0.419270   \n19   0.715686  0.600823       0.485050  0.653244     0.830320     0.542402   \n20   0.436842  0.305147       0.218997  0.359307     0.803922     0.288855   \n21   0.835052  0.775120       0.672199  0.803970     0.854293     0.686826   \n22   0.888889  0.680851       0.627451  0.771084     0.845604     0.652032   \n23   0.879070  0.762097       0.689781  0.816415     0.834724     0.681481   \n24   0.661871  0.567901       0.440191  0.611296     0.831843     0.508502   \n25   0.783019  0.601449       0.515528  0.680328     0.837368     0.569685   \n26   0.654321  0.488479       0.388278  0.559367     0.830223     0.464399   \n27   0.696078  0.479730       0.396648  0.568000     0.823104     0.467523   \n28   0.633540  0.459459       0.362989  0.532637     0.805342     0.428955   \n29   0.663866  0.503185       0.401015  0.572464     0.791591     0.453157   \n30   0.618474  0.538462       0.404199  0.575701     0.823620     0.474159   \n31   0.875000  0.526882       0.490000  0.657718     0.873729     0.574668   \n32   0.800000  0.566372       0.496124  0.663212     0.841481     0.558081   \n33   0.559322  0.464789       0.340206  0.507692     0.821317     0.416976   \n34   0.846154  0.611111       0.550000  0.709677     0.837110     0.594078   \n35   0.730337  0.590909       0.485075  0.653266     0.835252     0.545642   \n\n        pq_num                                          pth_model  \n0   129.464200  monkey_12_12_2023_lr_0.005_epochs_400_pt_40_ga...  \n1    26.945714  monkey_12_12_2023_lr_0.005_epochs_400_pt_40_ga...  \n2   105.700744  monkey_12_12_2023_lr_0.005_epochs_400_pt_40_ga...  \n3   116.520888  monkey_12_12_2023_lr_0.005_epochs_400_pt_40_ga...  \n4    87.147882  monkey_12_12_2023_lr_0.005_epochs_400_pt_40_ga...  \n5   165.712190  monkey_12_12_2023_lr_0.005_epochs_400_pt_40_ga...  \n6    58.641430  monkey_12_12_2023_lr_0.005_epochs_400_pt_40_ga...  \n7   114.277853  monkey_12_12_2023_lr_0.005_epochs_400_pt_40_ga...  \n8    91.809198  monkey_12_12_2023_lr_0.005_epochs_400_pt_40_ga...  \n9    82.730081  monkey_12_12_2023_lr_0.005_epochs_400_pt_40_ga...  \n10   85.161421  monkey_12_12_2023_lr_0.005_epochs_400_pt_40_ga...  \n11   53.190520  monkey_12_12_2023_lr_0.005_epochs_400_pt_40_ga...  \n12   43.595742  monkey_12_12_2023_lr_0.005_epochs_400_pt_40_ga...  \n13   75.020803  monkey_12_12_2023_lr_0.005_epochs_400_pt_40_ga...  \n14  116.112195  monkey_12_12_2023_lr_0.005_epochs_400_pt_40_ga...  \n15   93.815334  monkey_12_12_2023_lr_0.005_epochs_400_pt_40_ga...  \n16  105.503904  monkey_12_12_2023_lr_0.005_epochs_400_pt_40_ga...  \n17   67.462256  monkey_12_12_2023_lr_0.005_epochs_400_pt_40_ga...  \n18  135.004988  monkey_12_12_2023_lr_0.005_epochs_400_pt_40_ga...  \n19  121.226755  monkey_12_12_2023_lr_0.005_epochs_400_pt_40_ga...  \n20   66.725562  monkey_12_12_2023_lr_0.005_epochs_400_pt_40_ga...  \n21  138.395445  monkey_12_12_2023_lr_0.005_epochs_400_pt_40_ga...  \n22   27.059325  monkey_12_12_2023_lr_0.005_epochs_400_pt_40_ga...  \n23  157.762780  monkey_12_12_2023_lr_0.005_epochs_400_pt_40_ga...  \n24   76.529565  monkey_12_12_2023_lr_0.005_epochs_400_pt_40_ga...  \n25   69.501573  monkey_12_12_2023_lr_0.005_epochs_400_pt_40_ga...  \n26   88.003640  monkey_12_12_2023_lr_0.005_epochs_400_pt_40_ga...  \n27   58.440379  monkey_12_12_2023_lr_0.005_epochs_400_pt_40_ga...  \n28   82.144878  monkey_12_12_2023_lr_0.005_epochs_400_pt_40_ga...  \n29   62.535702  monkey_12_12_2023_lr_0.005_epochs_400_pt_40_ga...  \n30  126.837461  monkey_12_12_2023_lr_0.005_epochs_400_pt_40_ga...  \n31   42.812734  monkey_12_12_2023_lr_0.005_epochs_400_pt_40_ga...  \n32  107.709620  monkey_12_12_2023_lr_0.005_epochs_400_pt_40_ga...  \n33   54.206928  monkey_12_12_2023_lr_0.005_epochs_400_pt_40_ga...  \n34   36.832860  monkey_12_12_2023_lr_0.005_epochs_400_pt_40_ga...  \n35   54.291392  monkey_12_12_2023_lr_0.005_epochs_400_pt_40_ga...  ",
      "text/html": "<div>\n<style scoped>\n    .dataframe tbody tr th:only-of-type {\n        vertical-align: middle;\n    }\n\n    .dataframe tbody tr th {\n        vertical-align: top;\n    }\n\n    .dataframe thead th {\n        text-align: right;\n    }\n</style>\n<table border=\"1\" class=\"dataframe\">\n  <thead>\n    <tr style=\"text-align: right;\">\n      <th></th>\n      <th>Image</th>\n      <th>Tau</th>\n      <th>IoU</th>\n      <th>TP</th>\n      <th>FP</th>\n      <th>FN</th>\n      <th>Precision</th>\n      <th>Recall</th>\n      <th>Avg Precision</th>\n      <th>F1 Score</th>\n      <th>Seg Quality</th>\n      <th>Pan Quality</th>\n      <th>pq_num</th>\n      <th>pth_model</th>\n    </tr>\n  </thead>\n  <tbody>\n    <tr>\n      <th>0</th>\n      <td>monkey_fetus_40_0272_eyes1.tif</td>\n      <td>0.7</td>\n      <td>0.739823</td>\n      <td>153</td>\n      <td>28</td>\n      <td>45</td>\n      <td>0.845304</td>\n      <td>0.772727</td>\n      <td>0.676991</td>\n      <td>0.807388</td>\n      <td>0.846171</td>\n      <td>0.683188</td>\n      <td>129.464200</td>\n      <td>monkey_12_12_2023_lr_0.005_epochs_400_pt_40_ga...</td>\n    </tr>\n    <tr>\n      <th>1</th>\n      <td>monkey_fetus_40_0273_bone.tif</td>\n      <td>0.7</td>\n      <td>0.729419</td>\n      <td>32</td>\n      <td>5</td>\n      <td>24</td>\n      <td>0.864865</td>\n      <td>0.571429</td>\n      <td>0.524590</td>\n      <td>0.688172</td>\n      <td>0.842054</td>\n      <td>0.579478</td>\n      <td>26.945714</td>\n      <td>monkey_12_12_2023_lr_0.005_epochs_400_pt_40_ga...</td>\n    </tr>\n    <tr>\n      <th>2</th>\n      <td>monkey_fetus_40_0281_eyes2.tif</td>\n      <td>0.7</td>\n      <td>0.682934</td>\n      <td>130</td>\n      <td>50</td>\n      <td>111</td>\n      <td>0.722222</td>\n      <td>0.539419</td>\n      <td>0.446735</td>\n      <td>0.617577</td>\n      <td>0.813083</td>\n      <td>0.502141</td>\n      <td>105.700744</td>\n      <td>monkey_12_12_2023_lr_0.005_epochs_400_pt_40_ga...</td>\n    </tr>\n    <tr>\n      <th>3</th>\n      <td>monkey_fetus_40_0308_liver1.tif</td>\n      <td>0.7</td>\n      <td>0.807160</td>\n      <td>135</td>\n      <td>13</td>\n      <td>20</td>\n      <td>0.912162</td>\n      <td>0.870968</td>\n      <td>0.803571</td>\n      <td>0.891089</td>\n      <td>0.863118</td>\n      <td>0.769115</td>\n      <td>116.520888</td>\n      <td>monkey_12_12_2023_lr_0.005_epochs_400_pt_40_ga...</td>\n    </tr>\n    <tr>\n      <th>4</th>\n      <td>monkey_fetus_40_0323_ears1.tif</td>\n      <td>0.7</td>\n      <td>0.670261</td>\n      <td>110</td>\n      <td>108</td>\n      <td>122</td>\n      <td>0.504587</td>\n      <td>0.474138</td>\n      <td>0.323529</td>\n      <td>0.488889</td>\n      <td>0.792253</td>\n      <td>0.387324</td>\n      <td>87.147882</td>\n      <td>monkey_12_12_2023_lr_0.005_epochs_400_pt_40_ga...</td>\n    </tr>\n    <tr>\n      <th>5</th>\n      <td>monkey_fetus_40_0344_brain1.tif</td>\n      <td>0.7</td>\n      <td>0.763148</td>\n      <td>196</td>\n      <td>40</td>\n      <td>87</td>\n      <td>0.830508</td>\n      <td>0.692580</td>\n      <td>0.606811</td>\n      <td>0.755299</td>\n      <td>0.845470</td>\n      <td>0.638583</td>\n      <td>165.712190</td>\n      <td>monkey_12_12_2023_lr_0.005_epochs_400_pt_40_ga...</td>\n    </tr>\n    <tr>\n      <th>6</th>\n      <td>monkey_fetus_40_0380_heart1.tif</td>\n      <td>0.7</td>\n      <td>0.758650</td>\n      <td>71</td>\n      <td>12</td>\n      <td>20</td>\n      <td>0.855422</td>\n      <td>0.780220</td>\n      <td>0.689320</td>\n      <td>0.816092</td>\n      <td>0.825936</td>\n      <td>0.674039</td>\n      <td>58.641430</td>\n      <td>monkey_12_12_2023_lr_0.005_epochs_400_pt_40_ga...</td>\n    </tr>\n    <tr>\n      <th>7</th>\n      <td>monkey_fetus_40_0381_thymus.tif</td>\n      <td>0.7</td>\n      <td>0.810057</td>\n      <td>134</td>\n      <td>11</td>\n      <td>35</td>\n      <td>0.924138</td>\n      <td>0.792899</td>\n      <td>0.744444</td>\n      <td>0.853503</td>\n      <td>0.852820</td>\n      <td>0.727884</td>\n      <td>114.277853</td>\n      <td>monkey_12_12_2023_lr_0.005_epochs_400_pt_40_ga...</td>\n    </tr>\n    <tr>\n      <th>8</th>\n      <td>monkey_fetus_40_0426_lungs.tif</td>\n      <td>0.7</td>\n      <td>0.692953</td>\n      <td>114</td>\n      <td>64</td>\n      <td>147</td>\n      <td>0.640449</td>\n      <td>0.436782</td>\n      <td>0.350769</td>\n      <td>0.519362</td>\n      <td>0.805344</td>\n      <td>0.418265</td>\n      <td>91.809198</td>\n      <td>monkey_12_12_2023_lr_0.005_epochs_400_pt_40_ga...</td>\n    </tr>\n    <tr>\n      <th>9</th>\n      <td>monkey_fetus_40_0428_thyroid1.tif</td>\n      <td>0.7</td>\n      <td>0.748314</td>\n      <td>98</td>\n      <td>13</td>\n      <td>24</td>\n      <td>0.882883</td>\n      <td>0.803279</td>\n      <td>0.725926</td>\n      <td>0.841202</td>\n      <td>0.844184</td>\n      <td>0.710129</td>\n      <td>82.730081</td>\n      <td>monkey_12_12_2023_lr_0.005_epochs_400_pt_40_ga...</td>\n    </tr>\n    <tr>\n      <th>10</th>\n      <td>monkey_fetus_40_0451_heart2.tif</td>\n      <td>0.7</td>\n      <td>0.693792</td>\n      <td>105</td>\n      <td>50</td>\n      <td>82</td>\n      <td>0.677419</td>\n      <td>0.561497</td>\n      <td>0.443038</td>\n      <td>0.614035</td>\n      <td>0.811061</td>\n      <td>0.498020</td>\n      <td>85.161421</td>\n      <td>monkey_12_12_2023_lr_0.005_epochs_400_pt_40_ga...</td>\n    </tr>\n    <tr>\n      <th>11</th>\n      <td>monkey_fetus_40_0452_gi1.tif</td>\n      <td>0.7</td>\n      <td>0.647873</td>\n      <td>67</td>\n      <td>83</td>\n      <td>165</td>\n      <td>0.446667</td>\n      <td>0.288793</td>\n      <td>0.212698</td>\n      <td>0.350785</td>\n      <td>0.793888</td>\n      <td>0.278484</td>\n      <td>53.190520</td>\n      <td>monkey_12_12_2023_lr_0.005_epochs_400_pt_40_ga...</td>\n    </tr>\n    <tr>\n      <th>12</th>\n      <td>monkey_fetus_40_0471_kidney.tif</td>\n      <td>0.7</td>\n      <td>0.582517</td>\n      <td>54</td>\n      <td>96</td>\n      <td>180</td>\n      <td>0.360000</td>\n      <td>0.230769</td>\n      <td>0.163636</td>\n      <td>0.281250</td>\n      <td>0.807329</td>\n      <td>0.227061</td>\n      <td>43.595742</td>\n      <td>monkey_12_12_2023_lr_0.005_epochs_400_pt_40_ga...</td>\n    </tr>\n    <tr>\n      <th>13</th>\n      <td>monkey_fetus_40_0476_gi2.tif</td>\n      <td>0.7</td>\n      <td>0.668649</td>\n      <td>91</td>\n      <td>61</td>\n      <td>138</td>\n      <td>0.598684</td>\n      <td>0.397380</td>\n      <td>0.313793</td>\n      <td>0.477690</td>\n      <td>0.824404</td>\n      <td>0.393810</td>\n      <td>75.020803</td>\n      <td>monkey_12_12_2023_lr_0.005_epochs_400_pt_40_ga...</td>\n    </tr>\n    <tr>\n      <th>14</th>\n      <td>monkey_fetus_40_0483_brain2.tif</td>\n      <td>0.7</td>\n      <td>0.722459</td>\n      <td>141</td>\n      <td>51</td>\n      <td>97</td>\n      <td>0.734375</td>\n      <td>0.592437</td>\n      <td>0.487889</td>\n      <td>0.655814</td>\n      <td>0.823491</td>\n      <td>0.540057</td>\n      <td>116.112195</td>\n      <td>monkey_12_12_2023_lr_0.005_epochs_400_pt_40_ga...</td>\n    </tr>\n    <tr>\n      <th>15</th>\n      <td>monkey_fetus_40_0497_gi3.tif</td>\n      <td>0.7</td>\n      <td>0.698236</td>\n      <td>115</td>\n      <td>67</td>\n      <td>104</td>\n      <td>0.631868</td>\n      <td>0.525114</td>\n      <td>0.402098</td>\n      <td>0.573566</td>\n      <td>0.815786</td>\n      <td>0.467907</td>\n      <td>93.815334</td>\n      <td>monkey_12_12_2023_lr_0.005_epochs_400_pt_40_ga...</td>\n    </tr>\n    <tr>\n      <th>16</th>\n      <td>monkey_fetus_40_0502_adrenal.tif</td>\n      <td>0.7</td>\n      <td>0.775043</td>\n      <td>123</td>\n      <td>36</td>\n      <td>66</td>\n      <td>0.773585</td>\n      <td>0.650794</td>\n      <td>0.546667</td>\n      <td>0.706897</td>\n      <td>0.857755</td>\n      <td>0.606344</td>\n      <td>105.503904</td>\n      <td>monkey_12_12_2023_lr_0.005_epochs_400_pt_40_ga...</td>\n    </tr>\n    <tr>\n      <th>17</th>\n      <td>monkey_fetus_40_0505_mesokidney.tif</td>\n      <td>0.7</td>\n      <td>0.707672</td>\n      <td>82</td>\n      <td>56</td>\n      <td>98</td>\n      <td>0.594203</td>\n      <td>0.455556</td>\n      <td>0.347458</td>\n      <td>0.515723</td>\n      <td>0.822710</td>\n      <td>0.424291</td>\n      <td>67.462256</td>\n      <td>monkey_12_12_2023_lr_0.005_epochs_400_pt_40_ga...</td>\n    </tr>\n    <tr>\n      <th>18</th>\n      <td>monkey_fetus_40_0506_brain3.tif</td>\n      <td>0.7</td>\n      <td>0.709473</td>\n      <td>168</td>\n      <td>124</td>\n      <td>184</td>\n      <td>0.575342</td>\n      <td>0.477273</td>\n      <td>0.352941</td>\n      <td>0.521739</td>\n      <td>0.803601</td>\n      <td>0.419270</td>\n      <td>135.004988</td>\n      <td>monkey_12_12_2023_lr_0.005_epochs_400_pt_40_ga...</td>\n    </tr>\n    <tr>\n      <th>19</th>\n      <td>monkey_fetus_40_0508_thyroid2.tif</td>\n      <td>0.7</td>\n      <td>0.740137</td>\n      <td>146</td>\n      <td>58</td>\n      <td>97</td>\n      <td>0.715686</td>\n      <td>0.600823</td>\n      <td>0.485050</td>\n      <td>0.653244</td>\n      <td>0.830320</td>\n      <td>0.542402</td>\n      <td>121.226755</td>\n      <td>monkey_12_12_2023_lr_0.005_epochs_400_pt_40_ga...</td>\n    </tr>\n    <tr>\n      <th>20</th>\n      <td>monkey_fetus_40_0526_gonads.tif</td>\n      <td>0.7</td>\n      <td>0.645563</td>\n      <td>83</td>\n      <td>107</td>\n      <td>189</td>\n      <td>0.436842</td>\n      <td>0.305147</td>\n      <td>0.218997</td>\n      <td>0.359307</td>\n      <td>0.803922</td>\n      <td>0.288855</td>\n      <td>66.725562</td>\n      <td>monkey_12_12_2023_lr_0.005_epochs_400_pt_40_ga...</td>\n    </tr>\n    <tr>\n      <th>21</th>\n      <td>monkey_fetus_40_0600_thymus2.tif</td>\n      <td>0.7</td>\n      <td>0.794766</td>\n      <td>162</td>\n      <td>32</td>\n      <td>47</td>\n      <td>0.835052</td>\n      <td>0.775120</td>\n      <td>0.672199</td>\n      <td>0.803970</td>\n      <td>0.854293</td>\n      <td>0.686826</td>\n      <td>138.395445</td>\n      <td>monkey_12_12_2023_lr_0.005_epochs_400_pt_40_ga...</td>\n    </tr>\n    <tr>\n      <th>22</th>\n      <td>monkey_fetus_40_0601_ecm1.tif</td>\n      <td>0.7</td>\n      <td>0.750831</td>\n      <td>32</td>\n      <td>4</td>\n      <td>15</td>\n      <td>0.888889</td>\n      <td>0.680851</td>\n      <td>0.627451</td>\n      <td>0.771084</td>\n      <td>0.845604</td>\n      <td>0.652032</td>\n      <td>27.059325</td>\n      <td>monkey_12_12_2023_lr_0.005_epochs_400_pt_40_ga...</td>\n    </tr>\n    <tr>\n      <th>23</th>\n      <td>monkey_fetus_40_0603_brain4.tif</td>\n      <td>0.7</td>\n      <td>0.769063</td>\n      <td>189</td>\n      <td>26</td>\n      <td>59</td>\n      <td>0.879070</td>\n      <td>0.762097</td>\n      <td>0.689781</td>\n      <td>0.816415</td>\n      <td>0.834724</td>\n      <td>0.681481</td>\n      <td>157.762780</td>\n      <td>monkey_12_12_2023_lr_0.005_epochs_400_pt_40_ga...</td>\n    </tr>\n    <tr>\n      <th>24</th>\n      <td>monkey_fetus_40_0604_gi4.tif</td>\n      <td>0.7</td>\n      <td>0.737727</td>\n      <td>92</td>\n      <td>47</td>\n      <td>70</td>\n      <td>0.661871</td>\n      <td>0.567901</td>\n      <td>0.440191</td>\n      <td>0.611296</td>\n      <td>0.831843</td>\n      <td>0.508502</td>\n      <td>76.529565</td>\n      <td>monkey_12_12_2023_lr_0.005_epochs_400_pt_40_ga...</td>\n    </tr>\n    <tr>\n      <th>25</th>\n      <td>monkey_fetus_40_0664_ecm2.tif</td>\n      <td>0.7</td>\n      <td>0.738160</td>\n      <td>83</td>\n      <td>23</td>\n      <td>55</td>\n      <td>0.783019</td>\n      <td>0.601449</td>\n      <td>0.515528</td>\n      <td>0.680328</td>\n      <td>0.837368</td>\n      <td>0.569685</td>\n      <td>69.501573</td>\n      <td>monkey_12_12_2023_lr_0.005_epochs_400_pt_40_ga...</td>\n    </tr>\n    <tr>\n      <th>26</th>\n      <td>monkey_fetus_40_0698_liver2.tif</td>\n      <td>0.7</td>\n      <td>0.672966</td>\n      <td>106</td>\n      <td>56</td>\n      <td>111</td>\n      <td>0.654321</td>\n      <td>0.488479</td>\n      <td>0.388278</td>\n      <td>0.559367</td>\n      <td>0.830223</td>\n      <td>0.464399</td>\n      <td>88.003640</td>\n      <td>monkey_12_12_2023_lr_0.005_epochs_400_pt_40_ga...</td>\n    </tr>\n    <tr>\n      <th>27</th>\n      <td>monkey_fetus_40_0710_ear2.tif</td>\n      <td>0.7</td>\n      <td>0.625389</td>\n      <td>71</td>\n      <td>31</td>\n      <td>77</td>\n      <td>0.696078</td>\n      <td>0.479730</td>\n      <td>0.396648</td>\n      <td>0.568000</td>\n      <td>0.823104</td>\n      <td>0.467523</td>\n      <td>58.440379</td>\n      <td>monkey_12_12_2023_lr_0.005_epochs_400_pt_40_ga...</td>\n    </tr>\n    <tr>\n      <th>28</th>\n      <td>monkey_fetus_40_0717_gi6.tif</td>\n      <td>0.7</td>\n      <td>0.658828</td>\n      <td>102</td>\n      <td>59</td>\n      <td>120</td>\n      <td>0.633540</td>\n      <td>0.459459</td>\n      <td>0.362989</td>\n      <td>0.532637</td>\n      <td>0.805342</td>\n      <td>0.428955</td>\n      <td>82.144878</td>\n      <td>monkey_12_12_2023_lr_0.005_epochs_400_pt_40_ga...</td>\n    </tr>\n    <tr>\n      <th>29</th>\n      <td>monkey_fetus_40_0718_lungs2.tif</td>\n      <td>0.7</td>\n      <td>0.648570</td>\n      <td>79</td>\n      <td>40</td>\n      <td>78</td>\n      <td>0.663866</td>\n      <td>0.503185</td>\n      <td>0.401015</td>\n      <td>0.572464</td>\n      <td>0.791591</td>\n      <td>0.453157</td>\n      <td>62.535702</td>\n      <td>monkey_12_12_2023_lr_0.005_epochs_400_pt_40_ga...</td>\n    </tr>\n    <tr>\n      <th>30</th>\n      <td>monkey_fetus_40_0754_kidney2.tif</td>\n      <td>0.7</td>\n      <td>0.725935</td>\n      <td>154</td>\n      <td>95</td>\n      <td>132</td>\n      <td>0.618474</td>\n      <td>0.538462</td>\n      <td>0.404199</td>\n      <td>0.575701</td>\n      <td>0.823620</td>\n      <td>0.474159</td>\n      <td>126.837461</td>\n      <td>monkey_12_12_2023_lr_0.005_epochs_400_pt_40_ga...</td>\n    </tr>\n    <tr>\n      <th>31</th>\n      <td>monkey_fetus_40_0768_adrenal2.tif</td>\n      <td>0.7</td>\n      <td>0.648068</td>\n      <td>49</td>\n      <td>7</td>\n      <td>44</td>\n      <td>0.875000</td>\n      <td>0.526882</td>\n      <td>0.490000</td>\n      <td>0.657718</td>\n      <td>0.873729</td>\n      <td>0.574668</td>\n      <td>42.812734</td>\n      <td>monkey_12_12_2023_lr_0.005_epochs_400_pt_40_ga...</td>\n    </tr>\n    <tr>\n      <th>32</th>\n      <td>monkey_fetus_40_0790_gonads2.tif</td>\n      <td>0.7</td>\n      <td>0.684433</td>\n      <td>128</td>\n      <td>32</td>\n      <td>98</td>\n      <td>0.800000</td>\n      <td>0.566372</td>\n      <td>0.496124</td>\n      <td>0.663212</td>\n      <td>0.841481</td>\n      <td>0.558081</td>\n      <td>107.709620</td>\n      <td>monkey_12_12_2023_lr_0.005_epochs_400_pt_40_ga...</td>\n    </tr>\n    <tr>\n      <th>33</th>\n      <td>monkey_fetus_40_0844_mesokidney2.tif</td>\n      <td>0.7</td>\n      <td>0.714501</td>\n      <td>66</td>\n      <td>52</td>\n      <td>76</td>\n      <td>0.559322</td>\n      <td>0.464789</td>\n      <td>0.340206</td>\n      <td>0.507692</td>\n      <td>0.821317</td>\n      <td>0.416976</td>\n      <td>54.206928</td>\n      <td>monkey_12_12_2023_lr_0.005_epochs_400_pt_40_ga...</td>\n    </tr>\n    <tr>\n      <th>34</th>\n      <td>monkey_fetus_40_0923_ecm3.tif</td>\n      <td>0.7</td>\n      <td>0.693321</td>\n      <td>44</td>\n      <td>8</td>\n      <td>28</td>\n      <td>0.846154</td>\n      <td>0.611111</td>\n      <td>0.550000</td>\n      <td>0.709677</td>\n      <td>0.837110</td>\n      <td>0.594078</td>\n      <td>36.832860</td>\n      <td>monkey_12_12_2023_lr_0.005_epochs_400_pt_40_ga...</td>\n    </tr>\n    <tr>\n      <th>35</th>\n      <td>monkey_fetus_40_1035_bone2.tif</td>\n      <td>0.7</td>\n      <td>0.732508</td>\n      <td>65</td>\n      <td>24</td>\n      <td>45</td>\n      <td>0.730337</td>\n      <td>0.590909</td>\n      <td>0.485075</td>\n      <td>0.653266</td>\n      <td>0.835252</td>\n      <td>0.545642</td>\n      <td>54.291392</td>\n      <td>monkey_12_12_2023_lr_0.005_epochs_400_pt_40_ga...</td>\n    </tr>\n  </tbody>\n</table>\n</div>"
     },
     "execution_count": 95,
     "metadata": {},
     "output_type": "execute_result"
    }
   ],
   "source": [
    "dfs_t[0]"
   ],
   "metadata": {
    "collapsed": false,
    "ExecuteTime": {
     "end_time": "2024-04-04T22:39:04.917071300Z",
     "start_time": "2024-04-04T22:39:04.859070700Z"
    }
   },
   "id": "1de75a0982f194b4",
   "execution_count": 95
  },
  {
   "cell_type": "code",
   "outputs": [],
   "source": [
    "for df in dfs_t:\n",
    "    pq_nums_list = []\n",
    "    for index, row in df.iterrows():\n",
    "        pq = row['Pan Quality']\n",
    "        denom = row['TP']+1/2*row['FP']+1/2*row['FN']\n",
    "        pq_nums_list.append(pq*denom)\n",
    "    df['pq_num'] = pq_nums_list\n",
    "    #print(len(pq_nums_list))"
   ],
   "metadata": {
    "collapsed": false,
    "ExecuteTime": {
     "end_time": "2024-04-04T22:39:08.308993300Z",
     "start_time": "2024-04-04T22:39:08.218993500Z"
    }
   },
   "id": "a06aec36e6ce3338",
   "execution_count": 99
  },
  {
   "cell_type": "code",
   "outputs": [
    {
     "data": {
      "text/plain": "                                   Image  Tau       IoU   TP   FP   FN  \\\n0         monkey_fetus_40_0272_eyes1.tif  0.7  0.739823  153   28   45   \n1          monkey_fetus_40_0273_bone.tif  0.7  0.729419   32    5   24   \n2         monkey_fetus_40_0281_eyes2.tif  0.7  0.682934  130   50  111   \n3        monkey_fetus_40_0308_liver1.tif  0.7  0.807160  135   13   20   \n4         monkey_fetus_40_0323_ears1.tif  0.7  0.670261  110  108  122   \n5        monkey_fetus_40_0344_brain1.tif  0.7  0.763148  196   40   87   \n6        monkey_fetus_40_0380_heart1.tif  0.7  0.758650   71   12   20   \n7        monkey_fetus_40_0381_thymus.tif  0.7  0.810057  134   11   35   \n8         monkey_fetus_40_0426_lungs.tif  0.7  0.692953  114   64  147   \n9      monkey_fetus_40_0428_thyroid1.tif  0.7  0.748314   98   13   24   \n10       monkey_fetus_40_0451_heart2.tif  0.7  0.693792  105   50   82   \n11          monkey_fetus_40_0452_gi1.tif  0.7  0.647873   67   83  165   \n12       monkey_fetus_40_0471_kidney.tif  0.7  0.582517   54   96  180   \n13          monkey_fetus_40_0476_gi2.tif  0.7  0.668649   91   61  138   \n14       monkey_fetus_40_0483_brain2.tif  0.7  0.722459  141   51   97   \n15          monkey_fetus_40_0497_gi3.tif  0.7  0.698236  115   67  104   \n16      monkey_fetus_40_0502_adrenal.tif  0.7  0.775043  123   36   66   \n17   monkey_fetus_40_0505_mesokidney.tif  0.7  0.707672   82   56   98   \n18       monkey_fetus_40_0506_brain3.tif  0.7  0.709473  168  124  184   \n19     monkey_fetus_40_0508_thyroid2.tif  0.7  0.740137  146   58   97   \n20       monkey_fetus_40_0526_gonads.tif  0.7  0.645563   83  107  189   \n21      monkey_fetus_40_0600_thymus2.tif  0.7  0.794766  162   32   47   \n22         monkey_fetus_40_0601_ecm1.tif  0.7  0.750831   32    4   15   \n23       monkey_fetus_40_0603_brain4.tif  0.7  0.769063  189   26   59   \n24          monkey_fetus_40_0604_gi4.tif  0.7  0.737727   92   47   70   \n25         monkey_fetus_40_0664_ecm2.tif  0.7  0.738160   83   23   55   \n26       monkey_fetus_40_0698_liver2.tif  0.7  0.672966  106   56  111   \n27         monkey_fetus_40_0710_ear2.tif  0.7  0.625389   71   31   77   \n28          monkey_fetus_40_0717_gi6.tif  0.7  0.658828  102   59  120   \n29       monkey_fetus_40_0718_lungs2.tif  0.7  0.648570   79   40   78   \n30      monkey_fetus_40_0754_kidney2.tif  0.7  0.725935  154   95  132   \n31     monkey_fetus_40_0768_adrenal2.tif  0.7  0.648068   49    7   44   \n32      monkey_fetus_40_0790_gonads2.tif  0.7  0.684433  128   32   98   \n33  monkey_fetus_40_0844_mesokidney2.tif  0.7  0.714501   66   52   76   \n34         monkey_fetus_40_0923_ecm3.tif  0.7  0.693321   44    8   28   \n35        monkey_fetus_40_1035_bone2.tif  0.7  0.732508   65   24   45   \n\n    Precision    Recall  Avg Precision  F1 Score  Seg Quality  Pan Quality  \\\n0    0.845304  0.772727       0.676991  0.807388     0.846171     0.683188   \n1    0.864865  0.571429       0.524590  0.688172     0.842054     0.579478   \n2    0.722222  0.539419       0.446735  0.617577     0.813083     0.502141   \n3    0.912162  0.870968       0.803571  0.891089     0.863118     0.769115   \n4    0.504587  0.474138       0.323529  0.488889     0.792253     0.387324   \n5    0.830508  0.692580       0.606811  0.755299     0.845470     0.638583   \n6    0.855422  0.780220       0.689320  0.816092     0.825936     0.674039   \n7    0.924138  0.792899       0.744444  0.853503     0.852820     0.727884   \n8    0.640449  0.436782       0.350769  0.519362     0.805344     0.418265   \n9    0.882883  0.803279       0.725926  0.841202     0.844184     0.710129   \n10   0.677419  0.561497       0.443038  0.614035     0.811061     0.498020   \n11   0.446667  0.288793       0.212698  0.350785     0.793888     0.278484   \n12   0.360000  0.230769       0.163636  0.281250     0.807329     0.227061   \n13   0.598684  0.397380       0.313793  0.477690     0.824404     0.393810   \n14   0.734375  0.592437       0.487889  0.655814     0.823491     0.540057   \n15   0.631868  0.525114       0.402098  0.573566     0.815786     0.467907   \n16   0.773585  0.650794       0.546667  0.706897     0.857755     0.606344   \n17   0.594203  0.455556       0.347458  0.515723     0.822710     0.424291   \n18   0.575342  0.477273       0.352941  0.521739     0.803601     0.419270   \n19   0.715686  0.600823       0.485050  0.653244     0.830320     0.542402   \n20   0.436842  0.305147       0.218997  0.359307     0.803922     0.288855   \n21   0.835052  0.775120       0.672199  0.803970     0.854293     0.686826   \n22   0.888889  0.680851       0.627451  0.771084     0.845604     0.652032   \n23   0.879070  0.762097       0.689781  0.816415     0.834724     0.681481   \n24   0.661871  0.567901       0.440191  0.611296     0.831843     0.508502   \n25   0.783019  0.601449       0.515528  0.680328     0.837368     0.569685   \n26   0.654321  0.488479       0.388278  0.559367     0.830223     0.464399   \n27   0.696078  0.479730       0.396648  0.568000     0.823104     0.467523   \n28   0.633540  0.459459       0.362989  0.532637     0.805342     0.428955   \n29   0.663866  0.503185       0.401015  0.572464     0.791591     0.453157   \n30   0.618474  0.538462       0.404199  0.575701     0.823620     0.474159   \n31   0.875000  0.526882       0.490000  0.657718     0.873729     0.574668   \n32   0.800000  0.566372       0.496124  0.663212     0.841481     0.558081   \n33   0.559322  0.464789       0.340206  0.507692     0.821317     0.416976   \n34   0.846154  0.611111       0.550000  0.709677     0.837110     0.594078   \n35   0.730337  0.590909       0.485075  0.653266     0.835252     0.545642   \n\n        pq_num                                          pth_model  \n0   129.464200  monkey_12_12_2023_lr_0.005_epochs_400_pt_40_ga...  \n1    26.945714  monkey_12_12_2023_lr_0.005_epochs_400_pt_40_ga...  \n2   105.700744  monkey_12_12_2023_lr_0.005_epochs_400_pt_40_ga...  \n3   116.520888  monkey_12_12_2023_lr_0.005_epochs_400_pt_40_ga...  \n4    87.147882  monkey_12_12_2023_lr_0.005_epochs_400_pt_40_ga...  \n5   165.712190  monkey_12_12_2023_lr_0.005_epochs_400_pt_40_ga...  \n6    58.641430  monkey_12_12_2023_lr_0.005_epochs_400_pt_40_ga...  \n7   114.277853  monkey_12_12_2023_lr_0.005_epochs_400_pt_40_ga...  \n8    91.809198  monkey_12_12_2023_lr_0.005_epochs_400_pt_40_ga...  \n9    82.730081  monkey_12_12_2023_lr_0.005_epochs_400_pt_40_ga...  \n10   85.161421  monkey_12_12_2023_lr_0.005_epochs_400_pt_40_ga...  \n11   53.190520  monkey_12_12_2023_lr_0.005_epochs_400_pt_40_ga...  \n12   43.595742  monkey_12_12_2023_lr_0.005_epochs_400_pt_40_ga...  \n13   75.020803  monkey_12_12_2023_lr_0.005_epochs_400_pt_40_ga...  \n14  116.112195  monkey_12_12_2023_lr_0.005_epochs_400_pt_40_ga...  \n15   93.815334  monkey_12_12_2023_lr_0.005_epochs_400_pt_40_ga...  \n16  105.503904  monkey_12_12_2023_lr_0.005_epochs_400_pt_40_ga...  \n17   67.462256  monkey_12_12_2023_lr_0.005_epochs_400_pt_40_ga...  \n18  135.004988  monkey_12_12_2023_lr_0.005_epochs_400_pt_40_ga...  \n19  121.226755  monkey_12_12_2023_lr_0.005_epochs_400_pt_40_ga...  \n20   66.725562  monkey_12_12_2023_lr_0.005_epochs_400_pt_40_ga...  \n21  138.395445  monkey_12_12_2023_lr_0.005_epochs_400_pt_40_ga...  \n22   27.059325  monkey_12_12_2023_lr_0.005_epochs_400_pt_40_ga...  \n23  157.762780  monkey_12_12_2023_lr_0.005_epochs_400_pt_40_ga...  \n24   76.529565  monkey_12_12_2023_lr_0.005_epochs_400_pt_40_ga...  \n25   69.501573  monkey_12_12_2023_lr_0.005_epochs_400_pt_40_ga...  \n26   88.003640  monkey_12_12_2023_lr_0.005_epochs_400_pt_40_ga...  \n27   58.440379  monkey_12_12_2023_lr_0.005_epochs_400_pt_40_ga...  \n28   82.144878  monkey_12_12_2023_lr_0.005_epochs_400_pt_40_ga...  \n29   62.535702  monkey_12_12_2023_lr_0.005_epochs_400_pt_40_ga...  \n30  126.837461  monkey_12_12_2023_lr_0.005_epochs_400_pt_40_ga...  \n31   42.812734  monkey_12_12_2023_lr_0.005_epochs_400_pt_40_ga...  \n32  107.709620  monkey_12_12_2023_lr_0.005_epochs_400_pt_40_ga...  \n33   54.206928  monkey_12_12_2023_lr_0.005_epochs_400_pt_40_ga...  \n34   36.832860  monkey_12_12_2023_lr_0.005_epochs_400_pt_40_ga...  \n35   54.291392  monkey_12_12_2023_lr_0.005_epochs_400_pt_40_ga...  ",
      "text/html": "<div>\n<style scoped>\n    .dataframe tbody tr th:only-of-type {\n        vertical-align: middle;\n    }\n\n    .dataframe tbody tr th {\n        vertical-align: top;\n    }\n\n    .dataframe thead th {\n        text-align: right;\n    }\n</style>\n<table border=\"1\" class=\"dataframe\">\n  <thead>\n    <tr style=\"text-align: right;\">\n      <th></th>\n      <th>Image</th>\n      <th>Tau</th>\n      <th>IoU</th>\n      <th>TP</th>\n      <th>FP</th>\n      <th>FN</th>\n      <th>Precision</th>\n      <th>Recall</th>\n      <th>Avg Precision</th>\n      <th>F1 Score</th>\n      <th>Seg Quality</th>\n      <th>Pan Quality</th>\n      <th>pq_num</th>\n      <th>pth_model</th>\n    </tr>\n  </thead>\n  <tbody>\n    <tr>\n      <th>0</th>\n      <td>monkey_fetus_40_0272_eyes1.tif</td>\n      <td>0.7</td>\n      <td>0.739823</td>\n      <td>153</td>\n      <td>28</td>\n      <td>45</td>\n      <td>0.845304</td>\n      <td>0.772727</td>\n      <td>0.676991</td>\n      <td>0.807388</td>\n      <td>0.846171</td>\n      <td>0.683188</td>\n      <td>129.464200</td>\n      <td>monkey_12_12_2023_lr_0.005_epochs_400_pt_40_ga...</td>\n    </tr>\n    <tr>\n      <th>1</th>\n      <td>monkey_fetus_40_0273_bone.tif</td>\n      <td>0.7</td>\n      <td>0.729419</td>\n      <td>32</td>\n      <td>5</td>\n      <td>24</td>\n      <td>0.864865</td>\n      <td>0.571429</td>\n      <td>0.524590</td>\n      <td>0.688172</td>\n      <td>0.842054</td>\n      <td>0.579478</td>\n      <td>26.945714</td>\n      <td>monkey_12_12_2023_lr_0.005_epochs_400_pt_40_ga...</td>\n    </tr>\n    <tr>\n      <th>2</th>\n      <td>monkey_fetus_40_0281_eyes2.tif</td>\n      <td>0.7</td>\n      <td>0.682934</td>\n      <td>130</td>\n      <td>50</td>\n      <td>111</td>\n      <td>0.722222</td>\n      <td>0.539419</td>\n      <td>0.446735</td>\n      <td>0.617577</td>\n      <td>0.813083</td>\n      <td>0.502141</td>\n      <td>105.700744</td>\n      <td>monkey_12_12_2023_lr_0.005_epochs_400_pt_40_ga...</td>\n    </tr>\n    <tr>\n      <th>3</th>\n      <td>monkey_fetus_40_0308_liver1.tif</td>\n      <td>0.7</td>\n      <td>0.807160</td>\n      <td>135</td>\n      <td>13</td>\n      <td>20</td>\n      <td>0.912162</td>\n      <td>0.870968</td>\n      <td>0.803571</td>\n      <td>0.891089</td>\n      <td>0.863118</td>\n      <td>0.769115</td>\n      <td>116.520888</td>\n      <td>monkey_12_12_2023_lr_0.005_epochs_400_pt_40_ga...</td>\n    </tr>\n    <tr>\n      <th>4</th>\n      <td>monkey_fetus_40_0323_ears1.tif</td>\n      <td>0.7</td>\n      <td>0.670261</td>\n      <td>110</td>\n      <td>108</td>\n      <td>122</td>\n      <td>0.504587</td>\n      <td>0.474138</td>\n      <td>0.323529</td>\n      <td>0.488889</td>\n      <td>0.792253</td>\n      <td>0.387324</td>\n      <td>87.147882</td>\n      <td>monkey_12_12_2023_lr_0.005_epochs_400_pt_40_ga...</td>\n    </tr>\n    <tr>\n      <th>5</th>\n      <td>monkey_fetus_40_0344_brain1.tif</td>\n      <td>0.7</td>\n      <td>0.763148</td>\n      <td>196</td>\n      <td>40</td>\n      <td>87</td>\n      <td>0.830508</td>\n      <td>0.692580</td>\n      <td>0.606811</td>\n      <td>0.755299</td>\n      <td>0.845470</td>\n      <td>0.638583</td>\n      <td>165.712190</td>\n      <td>monkey_12_12_2023_lr_0.005_epochs_400_pt_40_ga...</td>\n    </tr>\n    <tr>\n      <th>6</th>\n      <td>monkey_fetus_40_0380_heart1.tif</td>\n      <td>0.7</td>\n      <td>0.758650</td>\n      <td>71</td>\n      <td>12</td>\n      <td>20</td>\n      <td>0.855422</td>\n      <td>0.780220</td>\n      <td>0.689320</td>\n      <td>0.816092</td>\n      <td>0.825936</td>\n      <td>0.674039</td>\n      <td>58.641430</td>\n      <td>monkey_12_12_2023_lr_0.005_epochs_400_pt_40_ga...</td>\n    </tr>\n    <tr>\n      <th>7</th>\n      <td>monkey_fetus_40_0381_thymus.tif</td>\n      <td>0.7</td>\n      <td>0.810057</td>\n      <td>134</td>\n      <td>11</td>\n      <td>35</td>\n      <td>0.924138</td>\n      <td>0.792899</td>\n      <td>0.744444</td>\n      <td>0.853503</td>\n      <td>0.852820</td>\n      <td>0.727884</td>\n      <td>114.277853</td>\n      <td>monkey_12_12_2023_lr_0.005_epochs_400_pt_40_ga...</td>\n    </tr>\n    <tr>\n      <th>8</th>\n      <td>monkey_fetus_40_0426_lungs.tif</td>\n      <td>0.7</td>\n      <td>0.692953</td>\n      <td>114</td>\n      <td>64</td>\n      <td>147</td>\n      <td>0.640449</td>\n      <td>0.436782</td>\n      <td>0.350769</td>\n      <td>0.519362</td>\n      <td>0.805344</td>\n      <td>0.418265</td>\n      <td>91.809198</td>\n      <td>monkey_12_12_2023_lr_0.005_epochs_400_pt_40_ga...</td>\n    </tr>\n    <tr>\n      <th>9</th>\n      <td>monkey_fetus_40_0428_thyroid1.tif</td>\n      <td>0.7</td>\n      <td>0.748314</td>\n      <td>98</td>\n      <td>13</td>\n      <td>24</td>\n      <td>0.882883</td>\n      <td>0.803279</td>\n      <td>0.725926</td>\n      <td>0.841202</td>\n      <td>0.844184</td>\n      <td>0.710129</td>\n      <td>82.730081</td>\n      <td>monkey_12_12_2023_lr_0.005_epochs_400_pt_40_ga...</td>\n    </tr>\n    <tr>\n      <th>10</th>\n      <td>monkey_fetus_40_0451_heart2.tif</td>\n      <td>0.7</td>\n      <td>0.693792</td>\n      <td>105</td>\n      <td>50</td>\n      <td>82</td>\n      <td>0.677419</td>\n      <td>0.561497</td>\n      <td>0.443038</td>\n      <td>0.614035</td>\n      <td>0.811061</td>\n      <td>0.498020</td>\n      <td>85.161421</td>\n      <td>monkey_12_12_2023_lr_0.005_epochs_400_pt_40_ga...</td>\n    </tr>\n    <tr>\n      <th>11</th>\n      <td>monkey_fetus_40_0452_gi1.tif</td>\n      <td>0.7</td>\n      <td>0.647873</td>\n      <td>67</td>\n      <td>83</td>\n      <td>165</td>\n      <td>0.446667</td>\n      <td>0.288793</td>\n      <td>0.212698</td>\n      <td>0.350785</td>\n      <td>0.793888</td>\n      <td>0.278484</td>\n      <td>53.190520</td>\n      <td>monkey_12_12_2023_lr_0.005_epochs_400_pt_40_ga...</td>\n    </tr>\n    <tr>\n      <th>12</th>\n      <td>monkey_fetus_40_0471_kidney.tif</td>\n      <td>0.7</td>\n      <td>0.582517</td>\n      <td>54</td>\n      <td>96</td>\n      <td>180</td>\n      <td>0.360000</td>\n      <td>0.230769</td>\n      <td>0.163636</td>\n      <td>0.281250</td>\n      <td>0.807329</td>\n      <td>0.227061</td>\n      <td>43.595742</td>\n      <td>monkey_12_12_2023_lr_0.005_epochs_400_pt_40_ga...</td>\n    </tr>\n    <tr>\n      <th>13</th>\n      <td>monkey_fetus_40_0476_gi2.tif</td>\n      <td>0.7</td>\n      <td>0.668649</td>\n      <td>91</td>\n      <td>61</td>\n      <td>138</td>\n      <td>0.598684</td>\n      <td>0.397380</td>\n      <td>0.313793</td>\n      <td>0.477690</td>\n      <td>0.824404</td>\n      <td>0.393810</td>\n      <td>75.020803</td>\n      <td>monkey_12_12_2023_lr_0.005_epochs_400_pt_40_ga...</td>\n    </tr>\n    <tr>\n      <th>14</th>\n      <td>monkey_fetus_40_0483_brain2.tif</td>\n      <td>0.7</td>\n      <td>0.722459</td>\n      <td>141</td>\n      <td>51</td>\n      <td>97</td>\n      <td>0.734375</td>\n      <td>0.592437</td>\n      <td>0.487889</td>\n      <td>0.655814</td>\n      <td>0.823491</td>\n      <td>0.540057</td>\n      <td>116.112195</td>\n      <td>monkey_12_12_2023_lr_0.005_epochs_400_pt_40_ga...</td>\n    </tr>\n    <tr>\n      <th>15</th>\n      <td>monkey_fetus_40_0497_gi3.tif</td>\n      <td>0.7</td>\n      <td>0.698236</td>\n      <td>115</td>\n      <td>67</td>\n      <td>104</td>\n      <td>0.631868</td>\n      <td>0.525114</td>\n      <td>0.402098</td>\n      <td>0.573566</td>\n      <td>0.815786</td>\n      <td>0.467907</td>\n      <td>93.815334</td>\n      <td>monkey_12_12_2023_lr_0.005_epochs_400_pt_40_ga...</td>\n    </tr>\n    <tr>\n      <th>16</th>\n      <td>monkey_fetus_40_0502_adrenal.tif</td>\n      <td>0.7</td>\n      <td>0.775043</td>\n      <td>123</td>\n      <td>36</td>\n      <td>66</td>\n      <td>0.773585</td>\n      <td>0.650794</td>\n      <td>0.546667</td>\n      <td>0.706897</td>\n      <td>0.857755</td>\n      <td>0.606344</td>\n      <td>105.503904</td>\n      <td>monkey_12_12_2023_lr_0.005_epochs_400_pt_40_ga...</td>\n    </tr>\n    <tr>\n      <th>17</th>\n      <td>monkey_fetus_40_0505_mesokidney.tif</td>\n      <td>0.7</td>\n      <td>0.707672</td>\n      <td>82</td>\n      <td>56</td>\n      <td>98</td>\n      <td>0.594203</td>\n      <td>0.455556</td>\n      <td>0.347458</td>\n      <td>0.515723</td>\n      <td>0.822710</td>\n      <td>0.424291</td>\n      <td>67.462256</td>\n      <td>monkey_12_12_2023_lr_0.005_epochs_400_pt_40_ga...</td>\n    </tr>\n    <tr>\n      <th>18</th>\n      <td>monkey_fetus_40_0506_brain3.tif</td>\n      <td>0.7</td>\n      <td>0.709473</td>\n      <td>168</td>\n      <td>124</td>\n      <td>184</td>\n      <td>0.575342</td>\n      <td>0.477273</td>\n      <td>0.352941</td>\n      <td>0.521739</td>\n      <td>0.803601</td>\n      <td>0.419270</td>\n      <td>135.004988</td>\n      <td>monkey_12_12_2023_lr_0.005_epochs_400_pt_40_ga...</td>\n    </tr>\n    <tr>\n      <th>19</th>\n      <td>monkey_fetus_40_0508_thyroid2.tif</td>\n      <td>0.7</td>\n      <td>0.740137</td>\n      <td>146</td>\n      <td>58</td>\n      <td>97</td>\n      <td>0.715686</td>\n      <td>0.600823</td>\n      <td>0.485050</td>\n      <td>0.653244</td>\n      <td>0.830320</td>\n      <td>0.542402</td>\n      <td>121.226755</td>\n      <td>monkey_12_12_2023_lr_0.005_epochs_400_pt_40_ga...</td>\n    </tr>\n    <tr>\n      <th>20</th>\n      <td>monkey_fetus_40_0526_gonads.tif</td>\n      <td>0.7</td>\n      <td>0.645563</td>\n      <td>83</td>\n      <td>107</td>\n      <td>189</td>\n      <td>0.436842</td>\n      <td>0.305147</td>\n      <td>0.218997</td>\n      <td>0.359307</td>\n      <td>0.803922</td>\n      <td>0.288855</td>\n      <td>66.725562</td>\n      <td>monkey_12_12_2023_lr_0.005_epochs_400_pt_40_ga...</td>\n    </tr>\n    <tr>\n      <th>21</th>\n      <td>monkey_fetus_40_0600_thymus2.tif</td>\n      <td>0.7</td>\n      <td>0.794766</td>\n      <td>162</td>\n      <td>32</td>\n      <td>47</td>\n      <td>0.835052</td>\n      <td>0.775120</td>\n      <td>0.672199</td>\n      <td>0.803970</td>\n      <td>0.854293</td>\n      <td>0.686826</td>\n      <td>138.395445</td>\n      <td>monkey_12_12_2023_lr_0.005_epochs_400_pt_40_ga...</td>\n    </tr>\n    <tr>\n      <th>22</th>\n      <td>monkey_fetus_40_0601_ecm1.tif</td>\n      <td>0.7</td>\n      <td>0.750831</td>\n      <td>32</td>\n      <td>4</td>\n      <td>15</td>\n      <td>0.888889</td>\n      <td>0.680851</td>\n      <td>0.627451</td>\n      <td>0.771084</td>\n      <td>0.845604</td>\n      <td>0.652032</td>\n      <td>27.059325</td>\n      <td>monkey_12_12_2023_lr_0.005_epochs_400_pt_40_ga...</td>\n    </tr>\n    <tr>\n      <th>23</th>\n      <td>monkey_fetus_40_0603_brain4.tif</td>\n      <td>0.7</td>\n      <td>0.769063</td>\n      <td>189</td>\n      <td>26</td>\n      <td>59</td>\n      <td>0.879070</td>\n      <td>0.762097</td>\n      <td>0.689781</td>\n      <td>0.816415</td>\n      <td>0.834724</td>\n      <td>0.681481</td>\n      <td>157.762780</td>\n      <td>monkey_12_12_2023_lr_0.005_epochs_400_pt_40_ga...</td>\n    </tr>\n    <tr>\n      <th>24</th>\n      <td>monkey_fetus_40_0604_gi4.tif</td>\n      <td>0.7</td>\n      <td>0.737727</td>\n      <td>92</td>\n      <td>47</td>\n      <td>70</td>\n      <td>0.661871</td>\n      <td>0.567901</td>\n      <td>0.440191</td>\n      <td>0.611296</td>\n      <td>0.831843</td>\n      <td>0.508502</td>\n      <td>76.529565</td>\n      <td>monkey_12_12_2023_lr_0.005_epochs_400_pt_40_ga...</td>\n    </tr>\n    <tr>\n      <th>25</th>\n      <td>monkey_fetus_40_0664_ecm2.tif</td>\n      <td>0.7</td>\n      <td>0.738160</td>\n      <td>83</td>\n      <td>23</td>\n      <td>55</td>\n      <td>0.783019</td>\n      <td>0.601449</td>\n      <td>0.515528</td>\n      <td>0.680328</td>\n      <td>0.837368</td>\n      <td>0.569685</td>\n      <td>69.501573</td>\n      <td>monkey_12_12_2023_lr_0.005_epochs_400_pt_40_ga...</td>\n    </tr>\n    <tr>\n      <th>26</th>\n      <td>monkey_fetus_40_0698_liver2.tif</td>\n      <td>0.7</td>\n      <td>0.672966</td>\n      <td>106</td>\n      <td>56</td>\n      <td>111</td>\n      <td>0.654321</td>\n      <td>0.488479</td>\n      <td>0.388278</td>\n      <td>0.559367</td>\n      <td>0.830223</td>\n      <td>0.464399</td>\n      <td>88.003640</td>\n      <td>monkey_12_12_2023_lr_0.005_epochs_400_pt_40_ga...</td>\n    </tr>\n    <tr>\n      <th>27</th>\n      <td>monkey_fetus_40_0710_ear2.tif</td>\n      <td>0.7</td>\n      <td>0.625389</td>\n      <td>71</td>\n      <td>31</td>\n      <td>77</td>\n      <td>0.696078</td>\n      <td>0.479730</td>\n      <td>0.396648</td>\n      <td>0.568000</td>\n      <td>0.823104</td>\n      <td>0.467523</td>\n      <td>58.440379</td>\n      <td>monkey_12_12_2023_lr_0.005_epochs_400_pt_40_ga...</td>\n    </tr>\n    <tr>\n      <th>28</th>\n      <td>monkey_fetus_40_0717_gi6.tif</td>\n      <td>0.7</td>\n      <td>0.658828</td>\n      <td>102</td>\n      <td>59</td>\n      <td>120</td>\n      <td>0.633540</td>\n      <td>0.459459</td>\n      <td>0.362989</td>\n      <td>0.532637</td>\n      <td>0.805342</td>\n      <td>0.428955</td>\n      <td>82.144878</td>\n      <td>monkey_12_12_2023_lr_0.005_epochs_400_pt_40_ga...</td>\n    </tr>\n    <tr>\n      <th>29</th>\n      <td>monkey_fetus_40_0718_lungs2.tif</td>\n      <td>0.7</td>\n      <td>0.648570</td>\n      <td>79</td>\n      <td>40</td>\n      <td>78</td>\n      <td>0.663866</td>\n      <td>0.503185</td>\n      <td>0.401015</td>\n      <td>0.572464</td>\n      <td>0.791591</td>\n      <td>0.453157</td>\n      <td>62.535702</td>\n      <td>monkey_12_12_2023_lr_0.005_epochs_400_pt_40_ga...</td>\n    </tr>\n    <tr>\n      <th>30</th>\n      <td>monkey_fetus_40_0754_kidney2.tif</td>\n      <td>0.7</td>\n      <td>0.725935</td>\n      <td>154</td>\n      <td>95</td>\n      <td>132</td>\n      <td>0.618474</td>\n      <td>0.538462</td>\n      <td>0.404199</td>\n      <td>0.575701</td>\n      <td>0.823620</td>\n      <td>0.474159</td>\n      <td>126.837461</td>\n      <td>monkey_12_12_2023_lr_0.005_epochs_400_pt_40_ga...</td>\n    </tr>\n    <tr>\n      <th>31</th>\n      <td>monkey_fetus_40_0768_adrenal2.tif</td>\n      <td>0.7</td>\n      <td>0.648068</td>\n      <td>49</td>\n      <td>7</td>\n      <td>44</td>\n      <td>0.875000</td>\n      <td>0.526882</td>\n      <td>0.490000</td>\n      <td>0.657718</td>\n      <td>0.873729</td>\n      <td>0.574668</td>\n      <td>42.812734</td>\n      <td>monkey_12_12_2023_lr_0.005_epochs_400_pt_40_ga...</td>\n    </tr>\n    <tr>\n      <th>32</th>\n      <td>monkey_fetus_40_0790_gonads2.tif</td>\n      <td>0.7</td>\n      <td>0.684433</td>\n      <td>128</td>\n      <td>32</td>\n      <td>98</td>\n      <td>0.800000</td>\n      <td>0.566372</td>\n      <td>0.496124</td>\n      <td>0.663212</td>\n      <td>0.841481</td>\n      <td>0.558081</td>\n      <td>107.709620</td>\n      <td>monkey_12_12_2023_lr_0.005_epochs_400_pt_40_ga...</td>\n    </tr>\n    <tr>\n      <th>33</th>\n      <td>monkey_fetus_40_0844_mesokidney2.tif</td>\n      <td>0.7</td>\n      <td>0.714501</td>\n      <td>66</td>\n      <td>52</td>\n      <td>76</td>\n      <td>0.559322</td>\n      <td>0.464789</td>\n      <td>0.340206</td>\n      <td>0.507692</td>\n      <td>0.821317</td>\n      <td>0.416976</td>\n      <td>54.206928</td>\n      <td>monkey_12_12_2023_lr_0.005_epochs_400_pt_40_ga...</td>\n    </tr>\n    <tr>\n      <th>34</th>\n      <td>monkey_fetus_40_0923_ecm3.tif</td>\n      <td>0.7</td>\n      <td>0.693321</td>\n      <td>44</td>\n      <td>8</td>\n      <td>28</td>\n      <td>0.846154</td>\n      <td>0.611111</td>\n      <td>0.550000</td>\n      <td>0.709677</td>\n      <td>0.837110</td>\n      <td>0.594078</td>\n      <td>36.832860</td>\n      <td>monkey_12_12_2023_lr_0.005_epochs_400_pt_40_ga...</td>\n    </tr>\n    <tr>\n      <th>35</th>\n      <td>monkey_fetus_40_1035_bone2.tif</td>\n      <td>0.7</td>\n      <td>0.732508</td>\n      <td>65</td>\n      <td>24</td>\n      <td>45</td>\n      <td>0.730337</td>\n      <td>0.590909</td>\n      <td>0.485075</td>\n      <td>0.653266</td>\n      <td>0.835252</td>\n      <td>0.545642</td>\n      <td>54.291392</td>\n      <td>monkey_12_12_2023_lr_0.005_epochs_400_pt_40_ga...</td>\n    </tr>\n  </tbody>\n</table>\n</div>"
     },
     "execution_count": 100,
     "metadata": {},
     "output_type": "execute_result"
    }
   ],
   "source": [
    "dfs_t[0]"
   ],
   "metadata": {
    "collapsed": false,
    "ExecuteTime": {
     "end_time": "2024-04-04T22:39:08.627193900Z",
     "start_time": "2024-04-04T22:39:08.602193800Z"
    }
   },
   "id": "8e2be691054b1d04",
   "execution_count": 100
  },
  {
   "cell_type": "code",
   "outputs": [],
   "source": [
    "model_pths = r'\\\\10.99.68.178\\andreex\\data\\Stardist\\12_12_hyperparameter_models'\n",
    "pths = os.listdir(model_pths)\n",
    "pths = [\"\".join([model_pths, '\\\\', pth]) for pth in pths if 'monkey' in pth]"
   ],
   "metadata": {
    "collapsed": false,
    "ExecuteTime": {
     "end_time": "2024-04-04T22:39:11.031063200Z",
     "start_time": "2024-04-04T22:39:10.999123Z"
    }
   },
   "id": "3b0eb6bbcf819290",
   "execution_count": 101
  },
  {
   "cell_type": "code",
   "outputs": [],
   "source": [
    "for i, df in enumerate(dfs_t):\n",
    "    df['pth_model'] = os.path.basename(pths[i])"
   ],
   "metadata": {
    "collapsed": false,
    "ExecuteTime": {
     "end_time": "2024-04-04T22:40:39.332465200Z",
     "start_time": "2024-04-04T22:40:39.290367200Z"
    }
   },
   "id": "a8cb0f15c746b440",
   "execution_count": 110
  },
  {
   "cell_type": "code",
   "outputs": [
    {
     "data": {
      "text/plain": "                                   Image  Tau       IoU   TP   FP   FN  \\\n0         monkey_fetus_40_0272_eyes1.tif  0.7  0.735249  151   29   47   \n1          monkey_fetus_40_0273_bone.tif  0.7  0.717400   30    9   26   \n2         monkey_fetus_40_0281_eyes2.tif  0.7  0.652658  125   43  116   \n3        monkey_fetus_40_0308_liver1.tif  0.7  0.825988  135   13   20   \n4         monkey_fetus_40_0323_ears1.tif  0.7  0.662554  107  113  125   \n5        monkey_fetus_40_0344_brain1.tif  0.7  0.766188  205   38   78   \n6        monkey_fetus_40_0380_heart1.tif  0.7  0.715520   64   12   27   \n7        monkey_fetus_40_0381_thymus.tif  0.7  0.794496  129   16   40   \n8         monkey_fetus_40_0426_lungs.tif  0.7  0.669217  105   63  156   \n9      monkey_fetus_40_0428_thyroid1.tif  0.7  0.728524   95   12   27   \n10       monkey_fetus_40_0451_heart2.tif  0.7  0.672989  104   52   83   \n11          monkey_fetus_40_0452_gi1.tif  0.7  0.613933   60   72  172   \n12       monkey_fetus_40_0471_kidney.tif  0.7  0.599541   54   84  180   \n13          monkey_fetus_40_0476_gi2.tif  0.7  0.659618   85   48  144   \n14       monkey_fetus_40_0483_brain2.tif  0.7  0.742069  148   54   90   \n15          monkey_fetus_40_0497_gi3.tif  0.7  0.684101  115   63  104   \n16      monkey_fetus_40_0502_adrenal.tif  0.7  0.778184  122   34   68   \n17   monkey_fetus_40_0505_mesokidney.tif  0.7  0.704984   84   53   96   \n18       monkey_fetus_40_0506_brain3.tif  0.7  0.721967  186  112  166   \n19     monkey_fetus_40_0508_thyroid2.tif  0.7  0.731230  146   51   97   \n20       monkey_fetus_40_0526_gonads.tif  0.7  0.597385   83   77  189   \n21      monkey_fetus_40_0600_thymus2.tif  0.7  0.796905  161   26   48   \n22         monkey_fetus_40_0601_ecm1.tif  0.7  0.756692   33    3   14   \n23       monkey_fetus_40_0603_brain4.tif  0.7  0.763853  186   30   62   \n24          monkey_fetus_40_0604_gi4.tif  0.7  0.721615   83   48   79   \n25         monkey_fetus_40_0664_ecm2.tif  0.7  0.733137   87   23   51   \n26       monkey_fetus_40_0698_liver2.tif  0.7  0.638614   99   49  118   \n27         monkey_fetus_40_0710_ear2.tif  0.7  0.610032   67   41   81   \n28          monkey_fetus_40_0717_gi6.tif  0.7  0.600075   84   50  138   \n29       monkey_fetus_40_0718_lungs2.tif  0.7  0.609129   67   47   90   \n30      monkey_fetus_40_0754_kidney2.tif  0.7  0.700856  153   85  133   \n31     monkey_fetus_40_0768_adrenal2.tif  0.7  0.577780   42    6   51   \n32      monkey_fetus_40_0790_gonads2.tif  0.7  0.614696  115   25  111   \n33  monkey_fetus_40_0844_mesokidney2.tif  0.7  0.701776   67   46   75   \n34         monkey_fetus_40_0923_ecm3.tif  0.7  0.683205   45    5   27   \n35        monkey_fetus_40_1035_bone2.tif  0.7  0.707804   65   17   45   \n\n    Precision    Recall  Avg Precision  F1 Score  Seg Quality  Pan Quality  \\\n0    0.838889  0.762626       0.665198  0.798942     0.844836     0.674975   \n1    0.769231  0.535714       0.461538  0.631579     0.843180     0.532535   \n2    0.744048  0.518672       0.440141  0.611247     0.817460     0.499670   \n3    0.912162  0.870968       0.803571  0.891089     0.860162     0.766481   \n4    0.486364  0.461207       0.310145  0.473451     0.792852     0.375377   \n5    0.843621  0.724382       0.638629  0.779468     0.836954     0.652379   \n6    0.842105  0.703297       0.621359  0.766467     0.824211     0.631730   \n7    0.889655  0.763314       0.697297  0.821656     0.854178     0.701841   \n8    0.625000  0.402299       0.324074  0.489510     0.809471     0.396244   \n9    0.887850  0.778689       0.708955  0.829694     0.848165     0.703718   \n10   0.666667  0.556150       0.435146  0.606414     0.810419     0.491449   \n11   0.454545  0.258621       0.197368  0.329670     0.809934     0.267011   \n12   0.391304  0.230769       0.169811  0.290323     0.798875     0.231932   \n13   0.639098  0.371179       0.306859  0.469613     0.826063     0.387930   \n14   0.732673  0.621849       0.506849  0.672727     0.826878     0.556264   \n15   0.646067  0.525114       0.407801  0.579345     0.816170     0.472844   \n16   0.782051  0.642105       0.544643  0.705202     0.849744     0.599241   \n17   0.613139  0.466667       0.360515  0.529968     0.821015     0.435112   \n18   0.624161  0.528409       0.400862  0.572308     0.805219     0.460833   \n19   0.741117  0.600823       0.496599  0.663636     0.824491     0.547162   \n20   0.518750  0.305147       0.237822  0.384259     0.797016     0.306261   \n21   0.860963  0.770335       0.685106  0.813131     0.855799     0.695877   \n22   0.916667  0.702128       0.660000  0.795181     0.845017     0.671941   \n23   0.861111  0.750000       0.669065  0.801724     0.832565     0.667488   \n24   0.633588  0.512346       0.395238  0.566553     0.826679     0.468357   \n25   0.790909  0.630435       0.540373  0.701613     0.829399     0.581917   \n26   0.668919  0.456221       0.372180  0.542466     0.824141     0.447068   \n27   0.620370  0.452703       0.354497  0.523438     0.812335     0.425207   \n28   0.626866  0.378378       0.308824  0.471910     0.814967     0.384591   \n29   0.587719  0.426752       0.328431  0.494465     0.797570     0.394370   \n30   0.642857  0.534965       0.412399  0.583969     0.818641     0.478061   \n31   0.875000  0.451613       0.424242  0.595745     0.871355     0.519105   \n32   0.821429  0.508850       0.458167  0.628415     0.847990     0.532890   \n33   0.592920  0.471831       0.356383  0.525490     0.816977     0.429314   \n34   0.900000  0.625000       0.584416  0.737705     0.831569     0.613453   \n35   0.792683  0.590909       0.511811  0.677083     0.816983     0.553165   \n\n        pq_num                                          pth_model  \n0   127.570287  monkey_12_12_2023_lr_0.0005_epochs_200_pt_20_g...  \n1    25.295405  monkey_12_12_2023_lr_0.0005_epochs_200_pt_20_g...  \n2   102.182528  monkey_12_12_2023_lr_0.0005_epochs_200_pt_20_g...  \n3   116.121901  monkey_12_12_2023_lr_0.0005_epochs_200_pt_20_g...  \n4    84.835130  monkey_12_12_2023_lr_0.0005_epochs_200_pt_20_g...  \n5   171.575606  monkey_12_12_2023_lr_0.0005_epochs_200_pt_20_g...  \n6    52.749477  monkey_12_12_2023_lr_0.0005_epochs_200_pt_20_g...  \n7   110.188981  monkey_12_12_2023_lr_0.0005_epochs_200_pt_20_g...  \n8    84.994426  monkey_12_12_2023_lr_0.0005_epochs_200_pt_20_g...  \n9    80.575681  monkey_12_12_2023_lr_0.0005_epochs_200_pt_20_g...  \n10   84.283558  monkey_12_12_2023_lr_0.0005_epochs_200_pt_20_g...  \n11   48.596050  monkey_12_12_2023_lr_0.0005_epochs_200_pt_20_g...  \n12   43.139262  monkey_12_12_2023_lr_0.0005_epochs_200_pt_20_g...  \n13   70.215345  monkey_12_12_2023_lr_0.0005_epochs_200_pt_20_g...  \n14  122.377974  monkey_12_12_2023_lr_0.0005_epochs_200_pt_20_g...  \n15   93.859592  monkey_12_12_2023_lr_0.0005_epochs_200_pt_20_g...  \n16  103.668755  monkey_12_12_2023_lr_0.0005_epochs_200_pt_20_g...  \n17   68.965282  monkey_12_12_2023_lr_0.0005_epochs_200_pt_20_g...  \n18  149.770729  monkey_12_12_2023_lr_0.0005_epochs_200_pt_20_g...  \n19  120.375711  monkey_12_12_2023_lr_0.0005_epochs_200_pt_20_g...  \n20   66.152326  monkey_12_12_2023_lr_0.0005_epochs_200_pt_20_g...  \n21  137.783690  monkey_12_12_2023_lr_0.0005_epochs_200_pt_20_g...  \n22   27.885563  monkey_12_12_2023_lr_0.0005_epochs_200_pt_20_g...  \n23  154.857179  monkey_12_12_2023_lr_0.0005_epochs_200_pt_20_g...  \n24   68.614369  monkey_12_12_2023_lr_0.0005_epochs_200_pt_20_g...  \n25   72.157751  monkey_12_12_2023_lr_0.0005_epochs_200_pt_20_g...  \n26   81.589970  monkey_12_12_2023_lr_0.0005_epochs_200_pt_20_g...  \n27   54.426432  monkey_12_12_2023_lr_0.0005_epochs_200_pt_20_g...  \n28   68.457216  monkey_12_12_2023_lr_0.0005_epochs_200_pt_20_g...  \n29   53.437188  monkey_12_12_2023_lr_0.0005_epochs_200_pt_20_g...  \n30  125.252049  monkey_12_12_2023_lr_0.0005_epochs_200_pt_20_g...  \n31   36.596897  monkey_12_12_2023_lr_0.0005_epochs_200_pt_20_g...  \n32   97.518818  monkey_12_12_2023_lr_0.0005_epochs_200_pt_20_g...  \n33   54.737475  monkey_12_12_2023_lr_0.0005_epochs_200_pt_20_g...  \n34   37.420612  monkey_12_12_2023_lr_0.0005_epochs_200_pt_20_g...  \n35   53.103884  monkey_12_12_2023_lr_0.0005_epochs_200_pt_20_g...  ",
      "text/html": "<div>\n<style scoped>\n    .dataframe tbody tr th:only-of-type {\n        vertical-align: middle;\n    }\n\n    .dataframe tbody tr th {\n        vertical-align: top;\n    }\n\n    .dataframe thead th {\n        text-align: right;\n    }\n</style>\n<table border=\"1\" class=\"dataframe\">\n  <thead>\n    <tr style=\"text-align: right;\">\n      <th></th>\n      <th>Image</th>\n      <th>Tau</th>\n      <th>IoU</th>\n      <th>TP</th>\n      <th>FP</th>\n      <th>FN</th>\n      <th>Precision</th>\n      <th>Recall</th>\n      <th>Avg Precision</th>\n      <th>F1 Score</th>\n      <th>Seg Quality</th>\n      <th>Pan Quality</th>\n      <th>pq_num</th>\n      <th>pth_model</th>\n    </tr>\n  </thead>\n  <tbody>\n    <tr>\n      <th>0</th>\n      <td>monkey_fetus_40_0272_eyes1.tif</td>\n      <td>0.7</td>\n      <td>0.735249</td>\n      <td>151</td>\n      <td>29</td>\n      <td>47</td>\n      <td>0.838889</td>\n      <td>0.762626</td>\n      <td>0.665198</td>\n      <td>0.798942</td>\n      <td>0.844836</td>\n      <td>0.674975</td>\n      <td>127.570287</td>\n      <td>monkey_12_12_2023_lr_0.0005_epochs_200_pt_20_g...</td>\n    </tr>\n    <tr>\n      <th>1</th>\n      <td>monkey_fetus_40_0273_bone.tif</td>\n      <td>0.7</td>\n      <td>0.717400</td>\n      <td>30</td>\n      <td>9</td>\n      <td>26</td>\n      <td>0.769231</td>\n      <td>0.535714</td>\n      <td>0.461538</td>\n      <td>0.631579</td>\n      <td>0.843180</td>\n      <td>0.532535</td>\n      <td>25.295405</td>\n      <td>monkey_12_12_2023_lr_0.0005_epochs_200_pt_20_g...</td>\n    </tr>\n    <tr>\n      <th>2</th>\n      <td>monkey_fetus_40_0281_eyes2.tif</td>\n      <td>0.7</td>\n      <td>0.652658</td>\n      <td>125</td>\n      <td>43</td>\n      <td>116</td>\n      <td>0.744048</td>\n      <td>0.518672</td>\n      <td>0.440141</td>\n      <td>0.611247</td>\n      <td>0.817460</td>\n      <td>0.499670</td>\n      <td>102.182528</td>\n      <td>monkey_12_12_2023_lr_0.0005_epochs_200_pt_20_g...</td>\n    </tr>\n    <tr>\n      <th>3</th>\n      <td>monkey_fetus_40_0308_liver1.tif</td>\n      <td>0.7</td>\n      <td>0.825988</td>\n      <td>135</td>\n      <td>13</td>\n      <td>20</td>\n      <td>0.912162</td>\n      <td>0.870968</td>\n      <td>0.803571</td>\n      <td>0.891089</td>\n      <td>0.860162</td>\n      <td>0.766481</td>\n      <td>116.121901</td>\n      <td>monkey_12_12_2023_lr_0.0005_epochs_200_pt_20_g...</td>\n    </tr>\n    <tr>\n      <th>4</th>\n      <td>monkey_fetus_40_0323_ears1.tif</td>\n      <td>0.7</td>\n      <td>0.662554</td>\n      <td>107</td>\n      <td>113</td>\n      <td>125</td>\n      <td>0.486364</td>\n      <td>0.461207</td>\n      <td>0.310145</td>\n      <td>0.473451</td>\n      <td>0.792852</td>\n      <td>0.375377</td>\n      <td>84.835130</td>\n      <td>monkey_12_12_2023_lr_0.0005_epochs_200_pt_20_g...</td>\n    </tr>\n    <tr>\n      <th>5</th>\n      <td>monkey_fetus_40_0344_brain1.tif</td>\n      <td>0.7</td>\n      <td>0.766188</td>\n      <td>205</td>\n      <td>38</td>\n      <td>78</td>\n      <td>0.843621</td>\n      <td>0.724382</td>\n      <td>0.638629</td>\n      <td>0.779468</td>\n      <td>0.836954</td>\n      <td>0.652379</td>\n      <td>171.575606</td>\n      <td>monkey_12_12_2023_lr_0.0005_epochs_200_pt_20_g...</td>\n    </tr>\n    <tr>\n      <th>6</th>\n      <td>monkey_fetus_40_0380_heart1.tif</td>\n      <td>0.7</td>\n      <td>0.715520</td>\n      <td>64</td>\n      <td>12</td>\n      <td>27</td>\n      <td>0.842105</td>\n      <td>0.703297</td>\n      <td>0.621359</td>\n      <td>0.766467</td>\n      <td>0.824211</td>\n      <td>0.631730</td>\n      <td>52.749477</td>\n      <td>monkey_12_12_2023_lr_0.0005_epochs_200_pt_20_g...</td>\n    </tr>\n    <tr>\n      <th>7</th>\n      <td>monkey_fetus_40_0381_thymus.tif</td>\n      <td>0.7</td>\n      <td>0.794496</td>\n      <td>129</td>\n      <td>16</td>\n      <td>40</td>\n      <td>0.889655</td>\n      <td>0.763314</td>\n      <td>0.697297</td>\n      <td>0.821656</td>\n      <td>0.854178</td>\n      <td>0.701841</td>\n      <td>110.188981</td>\n      <td>monkey_12_12_2023_lr_0.0005_epochs_200_pt_20_g...</td>\n    </tr>\n    <tr>\n      <th>8</th>\n      <td>monkey_fetus_40_0426_lungs.tif</td>\n      <td>0.7</td>\n      <td>0.669217</td>\n      <td>105</td>\n      <td>63</td>\n      <td>156</td>\n      <td>0.625000</td>\n      <td>0.402299</td>\n      <td>0.324074</td>\n      <td>0.489510</td>\n      <td>0.809471</td>\n      <td>0.396244</td>\n      <td>84.994426</td>\n      <td>monkey_12_12_2023_lr_0.0005_epochs_200_pt_20_g...</td>\n    </tr>\n    <tr>\n      <th>9</th>\n      <td>monkey_fetus_40_0428_thyroid1.tif</td>\n      <td>0.7</td>\n      <td>0.728524</td>\n      <td>95</td>\n      <td>12</td>\n      <td>27</td>\n      <td>0.887850</td>\n      <td>0.778689</td>\n      <td>0.708955</td>\n      <td>0.829694</td>\n      <td>0.848165</td>\n      <td>0.703718</td>\n      <td>80.575681</td>\n      <td>monkey_12_12_2023_lr_0.0005_epochs_200_pt_20_g...</td>\n    </tr>\n    <tr>\n      <th>10</th>\n      <td>monkey_fetus_40_0451_heart2.tif</td>\n      <td>0.7</td>\n      <td>0.672989</td>\n      <td>104</td>\n      <td>52</td>\n      <td>83</td>\n      <td>0.666667</td>\n      <td>0.556150</td>\n      <td>0.435146</td>\n      <td>0.606414</td>\n      <td>0.810419</td>\n      <td>0.491449</td>\n      <td>84.283558</td>\n      <td>monkey_12_12_2023_lr_0.0005_epochs_200_pt_20_g...</td>\n    </tr>\n    <tr>\n      <th>11</th>\n      <td>monkey_fetus_40_0452_gi1.tif</td>\n      <td>0.7</td>\n      <td>0.613933</td>\n      <td>60</td>\n      <td>72</td>\n      <td>172</td>\n      <td>0.454545</td>\n      <td>0.258621</td>\n      <td>0.197368</td>\n      <td>0.329670</td>\n      <td>0.809934</td>\n      <td>0.267011</td>\n      <td>48.596050</td>\n      <td>monkey_12_12_2023_lr_0.0005_epochs_200_pt_20_g...</td>\n    </tr>\n    <tr>\n      <th>12</th>\n      <td>monkey_fetus_40_0471_kidney.tif</td>\n      <td>0.7</td>\n      <td>0.599541</td>\n      <td>54</td>\n      <td>84</td>\n      <td>180</td>\n      <td>0.391304</td>\n      <td>0.230769</td>\n      <td>0.169811</td>\n      <td>0.290323</td>\n      <td>0.798875</td>\n      <td>0.231932</td>\n      <td>43.139262</td>\n      <td>monkey_12_12_2023_lr_0.0005_epochs_200_pt_20_g...</td>\n    </tr>\n    <tr>\n      <th>13</th>\n      <td>monkey_fetus_40_0476_gi2.tif</td>\n      <td>0.7</td>\n      <td>0.659618</td>\n      <td>85</td>\n      <td>48</td>\n      <td>144</td>\n      <td>0.639098</td>\n      <td>0.371179</td>\n      <td>0.306859</td>\n      <td>0.469613</td>\n      <td>0.826063</td>\n      <td>0.387930</td>\n      <td>70.215345</td>\n      <td>monkey_12_12_2023_lr_0.0005_epochs_200_pt_20_g...</td>\n    </tr>\n    <tr>\n      <th>14</th>\n      <td>monkey_fetus_40_0483_brain2.tif</td>\n      <td>0.7</td>\n      <td>0.742069</td>\n      <td>148</td>\n      <td>54</td>\n      <td>90</td>\n      <td>0.732673</td>\n      <td>0.621849</td>\n      <td>0.506849</td>\n      <td>0.672727</td>\n      <td>0.826878</td>\n      <td>0.556264</td>\n      <td>122.377974</td>\n      <td>monkey_12_12_2023_lr_0.0005_epochs_200_pt_20_g...</td>\n    </tr>\n    <tr>\n      <th>15</th>\n      <td>monkey_fetus_40_0497_gi3.tif</td>\n      <td>0.7</td>\n      <td>0.684101</td>\n      <td>115</td>\n      <td>63</td>\n      <td>104</td>\n      <td>0.646067</td>\n      <td>0.525114</td>\n      <td>0.407801</td>\n      <td>0.579345</td>\n      <td>0.816170</td>\n      <td>0.472844</td>\n      <td>93.859592</td>\n      <td>monkey_12_12_2023_lr_0.0005_epochs_200_pt_20_g...</td>\n    </tr>\n    <tr>\n      <th>16</th>\n      <td>monkey_fetus_40_0502_adrenal.tif</td>\n      <td>0.7</td>\n      <td>0.778184</td>\n      <td>122</td>\n      <td>34</td>\n      <td>68</td>\n      <td>0.782051</td>\n      <td>0.642105</td>\n      <td>0.544643</td>\n      <td>0.705202</td>\n      <td>0.849744</td>\n      <td>0.599241</td>\n      <td>103.668755</td>\n      <td>monkey_12_12_2023_lr_0.0005_epochs_200_pt_20_g...</td>\n    </tr>\n    <tr>\n      <th>17</th>\n      <td>monkey_fetus_40_0505_mesokidney.tif</td>\n      <td>0.7</td>\n      <td>0.704984</td>\n      <td>84</td>\n      <td>53</td>\n      <td>96</td>\n      <td>0.613139</td>\n      <td>0.466667</td>\n      <td>0.360515</td>\n      <td>0.529968</td>\n      <td>0.821015</td>\n      <td>0.435112</td>\n      <td>68.965282</td>\n      <td>monkey_12_12_2023_lr_0.0005_epochs_200_pt_20_g...</td>\n    </tr>\n    <tr>\n      <th>18</th>\n      <td>monkey_fetus_40_0506_brain3.tif</td>\n      <td>0.7</td>\n      <td>0.721967</td>\n      <td>186</td>\n      <td>112</td>\n      <td>166</td>\n      <td>0.624161</td>\n      <td>0.528409</td>\n      <td>0.400862</td>\n      <td>0.572308</td>\n      <td>0.805219</td>\n      <td>0.460833</td>\n      <td>149.770729</td>\n      <td>monkey_12_12_2023_lr_0.0005_epochs_200_pt_20_g...</td>\n    </tr>\n    <tr>\n      <th>19</th>\n      <td>monkey_fetus_40_0508_thyroid2.tif</td>\n      <td>0.7</td>\n      <td>0.731230</td>\n      <td>146</td>\n      <td>51</td>\n      <td>97</td>\n      <td>0.741117</td>\n      <td>0.600823</td>\n      <td>0.496599</td>\n      <td>0.663636</td>\n      <td>0.824491</td>\n      <td>0.547162</td>\n      <td>120.375711</td>\n      <td>monkey_12_12_2023_lr_0.0005_epochs_200_pt_20_g...</td>\n    </tr>\n    <tr>\n      <th>20</th>\n      <td>monkey_fetus_40_0526_gonads.tif</td>\n      <td>0.7</td>\n      <td>0.597385</td>\n      <td>83</td>\n      <td>77</td>\n      <td>189</td>\n      <td>0.518750</td>\n      <td>0.305147</td>\n      <td>0.237822</td>\n      <td>0.384259</td>\n      <td>0.797016</td>\n      <td>0.306261</td>\n      <td>66.152326</td>\n      <td>monkey_12_12_2023_lr_0.0005_epochs_200_pt_20_g...</td>\n    </tr>\n    <tr>\n      <th>21</th>\n      <td>monkey_fetus_40_0600_thymus2.tif</td>\n      <td>0.7</td>\n      <td>0.796905</td>\n      <td>161</td>\n      <td>26</td>\n      <td>48</td>\n      <td>0.860963</td>\n      <td>0.770335</td>\n      <td>0.685106</td>\n      <td>0.813131</td>\n      <td>0.855799</td>\n      <td>0.695877</td>\n      <td>137.783690</td>\n      <td>monkey_12_12_2023_lr_0.0005_epochs_200_pt_20_g...</td>\n    </tr>\n    <tr>\n      <th>22</th>\n      <td>monkey_fetus_40_0601_ecm1.tif</td>\n      <td>0.7</td>\n      <td>0.756692</td>\n      <td>33</td>\n      <td>3</td>\n      <td>14</td>\n      <td>0.916667</td>\n      <td>0.702128</td>\n      <td>0.660000</td>\n      <td>0.795181</td>\n      <td>0.845017</td>\n      <td>0.671941</td>\n      <td>27.885563</td>\n      <td>monkey_12_12_2023_lr_0.0005_epochs_200_pt_20_g...</td>\n    </tr>\n    <tr>\n      <th>23</th>\n      <td>monkey_fetus_40_0603_brain4.tif</td>\n      <td>0.7</td>\n      <td>0.763853</td>\n      <td>186</td>\n      <td>30</td>\n      <td>62</td>\n      <td>0.861111</td>\n      <td>0.750000</td>\n      <td>0.669065</td>\n      <td>0.801724</td>\n      <td>0.832565</td>\n      <td>0.667488</td>\n      <td>154.857179</td>\n      <td>monkey_12_12_2023_lr_0.0005_epochs_200_pt_20_g...</td>\n    </tr>\n    <tr>\n      <th>24</th>\n      <td>monkey_fetus_40_0604_gi4.tif</td>\n      <td>0.7</td>\n      <td>0.721615</td>\n      <td>83</td>\n      <td>48</td>\n      <td>79</td>\n      <td>0.633588</td>\n      <td>0.512346</td>\n      <td>0.395238</td>\n      <td>0.566553</td>\n      <td>0.826679</td>\n      <td>0.468357</td>\n      <td>68.614369</td>\n      <td>monkey_12_12_2023_lr_0.0005_epochs_200_pt_20_g...</td>\n    </tr>\n    <tr>\n      <th>25</th>\n      <td>monkey_fetus_40_0664_ecm2.tif</td>\n      <td>0.7</td>\n      <td>0.733137</td>\n      <td>87</td>\n      <td>23</td>\n      <td>51</td>\n      <td>0.790909</td>\n      <td>0.630435</td>\n      <td>0.540373</td>\n      <td>0.701613</td>\n      <td>0.829399</td>\n      <td>0.581917</td>\n      <td>72.157751</td>\n      <td>monkey_12_12_2023_lr_0.0005_epochs_200_pt_20_g...</td>\n    </tr>\n    <tr>\n      <th>26</th>\n      <td>monkey_fetus_40_0698_liver2.tif</td>\n      <td>0.7</td>\n      <td>0.638614</td>\n      <td>99</td>\n      <td>49</td>\n      <td>118</td>\n      <td>0.668919</td>\n      <td>0.456221</td>\n      <td>0.372180</td>\n      <td>0.542466</td>\n      <td>0.824141</td>\n      <td>0.447068</td>\n      <td>81.589970</td>\n      <td>monkey_12_12_2023_lr_0.0005_epochs_200_pt_20_g...</td>\n    </tr>\n    <tr>\n      <th>27</th>\n      <td>monkey_fetus_40_0710_ear2.tif</td>\n      <td>0.7</td>\n      <td>0.610032</td>\n      <td>67</td>\n      <td>41</td>\n      <td>81</td>\n      <td>0.620370</td>\n      <td>0.452703</td>\n      <td>0.354497</td>\n      <td>0.523438</td>\n      <td>0.812335</td>\n      <td>0.425207</td>\n      <td>54.426432</td>\n      <td>monkey_12_12_2023_lr_0.0005_epochs_200_pt_20_g...</td>\n    </tr>\n    <tr>\n      <th>28</th>\n      <td>monkey_fetus_40_0717_gi6.tif</td>\n      <td>0.7</td>\n      <td>0.600075</td>\n      <td>84</td>\n      <td>50</td>\n      <td>138</td>\n      <td>0.626866</td>\n      <td>0.378378</td>\n      <td>0.308824</td>\n      <td>0.471910</td>\n      <td>0.814967</td>\n      <td>0.384591</td>\n      <td>68.457216</td>\n      <td>monkey_12_12_2023_lr_0.0005_epochs_200_pt_20_g...</td>\n    </tr>\n    <tr>\n      <th>29</th>\n      <td>monkey_fetus_40_0718_lungs2.tif</td>\n      <td>0.7</td>\n      <td>0.609129</td>\n      <td>67</td>\n      <td>47</td>\n      <td>90</td>\n      <td>0.587719</td>\n      <td>0.426752</td>\n      <td>0.328431</td>\n      <td>0.494465</td>\n      <td>0.797570</td>\n      <td>0.394370</td>\n      <td>53.437188</td>\n      <td>monkey_12_12_2023_lr_0.0005_epochs_200_pt_20_g...</td>\n    </tr>\n    <tr>\n      <th>30</th>\n      <td>monkey_fetus_40_0754_kidney2.tif</td>\n      <td>0.7</td>\n      <td>0.700856</td>\n      <td>153</td>\n      <td>85</td>\n      <td>133</td>\n      <td>0.642857</td>\n      <td>0.534965</td>\n      <td>0.412399</td>\n      <td>0.583969</td>\n      <td>0.818641</td>\n      <td>0.478061</td>\n      <td>125.252049</td>\n      <td>monkey_12_12_2023_lr_0.0005_epochs_200_pt_20_g...</td>\n    </tr>\n    <tr>\n      <th>31</th>\n      <td>monkey_fetus_40_0768_adrenal2.tif</td>\n      <td>0.7</td>\n      <td>0.577780</td>\n      <td>42</td>\n      <td>6</td>\n      <td>51</td>\n      <td>0.875000</td>\n      <td>0.451613</td>\n      <td>0.424242</td>\n      <td>0.595745</td>\n      <td>0.871355</td>\n      <td>0.519105</td>\n      <td>36.596897</td>\n      <td>monkey_12_12_2023_lr_0.0005_epochs_200_pt_20_g...</td>\n    </tr>\n    <tr>\n      <th>32</th>\n      <td>monkey_fetus_40_0790_gonads2.tif</td>\n      <td>0.7</td>\n      <td>0.614696</td>\n      <td>115</td>\n      <td>25</td>\n      <td>111</td>\n      <td>0.821429</td>\n      <td>0.508850</td>\n      <td>0.458167</td>\n      <td>0.628415</td>\n      <td>0.847990</td>\n      <td>0.532890</td>\n      <td>97.518818</td>\n      <td>monkey_12_12_2023_lr_0.0005_epochs_200_pt_20_g...</td>\n    </tr>\n    <tr>\n      <th>33</th>\n      <td>monkey_fetus_40_0844_mesokidney2.tif</td>\n      <td>0.7</td>\n      <td>0.701776</td>\n      <td>67</td>\n      <td>46</td>\n      <td>75</td>\n      <td>0.592920</td>\n      <td>0.471831</td>\n      <td>0.356383</td>\n      <td>0.525490</td>\n      <td>0.816977</td>\n      <td>0.429314</td>\n      <td>54.737475</td>\n      <td>monkey_12_12_2023_lr_0.0005_epochs_200_pt_20_g...</td>\n    </tr>\n    <tr>\n      <th>34</th>\n      <td>monkey_fetus_40_0923_ecm3.tif</td>\n      <td>0.7</td>\n      <td>0.683205</td>\n      <td>45</td>\n      <td>5</td>\n      <td>27</td>\n      <td>0.900000</td>\n      <td>0.625000</td>\n      <td>0.584416</td>\n      <td>0.737705</td>\n      <td>0.831569</td>\n      <td>0.613453</td>\n      <td>37.420612</td>\n      <td>monkey_12_12_2023_lr_0.0005_epochs_200_pt_20_g...</td>\n    </tr>\n    <tr>\n      <th>35</th>\n      <td>monkey_fetus_40_1035_bone2.tif</td>\n      <td>0.7</td>\n      <td>0.707804</td>\n      <td>65</td>\n      <td>17</td>\n      <td>45</td>\n      <td>0.792683</td>\n      <td>0.590909</td>\n      <td>0.511811</td>\n      <td>0.677083</td>\n      <td>0.816983</td>\n      <td>0.553165</td>\n      <td>53.103884</td>\n      <td>monkey_12_12_2023_lr_0.0005_epochs_200_pt_20_g...</td>\n    </tr>\n  </tbody>\n</table>\n</div>"
     },
     "execution_count": 111,
     "metadata": {},
     "output_type": "execute_result"
    }
   ],
   "source": [
    "dfs_t[10]"
   ],
   "metadata": {
    "collapsed": false,
    "ExecuteTime": {
     "end_time": "2024-04-04T22:40:40.044673400Z",
     "start_time": "2024-04-04T22:40:40.016673300Z"
    }
   },
   "id": "4ba627ab5148aa28",
   "execution_count": 111
  },
  {
   "cell_type": "code",
   "outputs": [
    {
     "name": "stdout",
     "output_type": "stream",
     "text": [
      "skipped\n",
      "skipped\n",
      "skipped\n",
      "skipped\n",
      "skipped\n",
      "skipped\n",
      "skipped\n",
      "skipped\n",
      "skipped\n",
      "skipped\n",
      "skipped\n",
      "skipped\n"
     ]
    }
   ],
   "source": [
    "dfs_w_pq_num = []\n",
    "\n",
    "for df in dfs_t:\n",
    "    df2 = get_organ_f1(df)\n",
    "    dfs_w_pq_num.append(df2)"
   ],
   "metadata": {
    "collapsed": false,
    "ExecuteTime": {
     "end_time": "2024-04-04T22:40:43.374839200Z",
     "start_time": "2024-04-04T22:40:43.128657400Z"
    }
   },
   "id": "5f710e0b11217402",
   "execution_count": 112
  },
  {
   "cell_type": "code",
   "outputs": [
    {
     "data": {
      "text/plain": "         Organ   TP   FP   FN        AP    Recall  Precision        F1  \\\n0         eyes  284   73  155  0.554688  0.646925   0.795518  0.713568   \n1         bone   99   26   67  0.515625  0.596386   0.792000  0.680412   \n2        liver  240   77  132  0.534521  0.645161   0.757098  0.696662   \n3         ears  176  157  204  0.327747  0.463158   0.528529  0.493689   \n4        brain  702  262  419  0.507592  0.626227   0.728216  0.673381   \n5        heart  173   64  105  0.505848  0.622302   0.729958  0.671845   \n6       thymus  532  119  211  0.617169  0.716016   0.817204  0.763271   \n7        lungs  195  111  223  0.368620  0.466507   0.637255  0.538674   \n8           gi  451  323  613  0.325162  0.423872   0.582687  0.490751   \n9       kidney  205  189  315  0.289140  0.394231   0.520305  0.448578   \n10     adrenal  174   48  108  0.527273  0.617021   0.783784  0.690476   \n11  mesokidney  161  100  161  0.381517  0.500000   0.616858  0.552316   \n12      gonads  221  159  277  0.336377  0.443775   0.581579  0.503417   \n13         ecm  159   36   98  0.542662  0.618677   0.815385  0.703540   \n\n       PQ_nums                                          pth_model  \n0   234.505497  monkey_12_12_2023_lr_0.0005_epochs_100_pt_10_g...  \n1    82.092355  monkey_12_12_2023_lr_0.0005_epochs_100_pt_10_g...  \n2   201.291834  monkey_12_12_2023_lr_0.0005_epochs_100_pt_10_g...  \n3   141.245030  monkey_12_12_2023_lr_0.0005_epochs_100_pt_10_g...  \n4   579.614591  monkey_12_12_2023_lr_0.0005_epochs_100_pt_10_g...  \n5   140.422264  monkey_12_12_2023_lr_0.0005_epochs_100_pt_10_g...  \n6   446.047920  monkey_12_12_2023_lr_0.0005_epochs_100_pt_10_g...  \n7   155.826928  monkey_12_12_2023_lr_0.0005_epochs_100_pt_10_g...  \n8   366.553175  monkey_12_12_2023_lr_0.0005_epochs_100_pt_10_g...  \n9   165.061743  monkey_12_12_2023_lr_0.0005_epochs_100_pt_10_g...  \n10  148.125229  monkey_12_12_2023_lr_0.0005_epochs_100_pt_10_g...  \n11  130.981902  monkey_12_12_2023_lr_0.0005_epochs_100_pt_10_g...  \n12  181.047362  monkey_12_12_2023_lr_0.0005_epochs_100_pt_10_g...  \n13  132.350519  monkey_12_12_2023_lr_0.0005_epochs_100_pt_10_g...  ",
      "text/html": "<div>\n<style scoped>\n    .dataframe tbody tr th:only-of-type {\n        vertical-align: middle;\n    }\n\n    .dataframe tbody tr th {\n        vertical-align: top;\n    }\n\n    .dataframe thead th {\n        text-align: right;\n    }\n</style>\n<table border=\"1\" class=\"dataframe\">\n  <thead>\n    <tr style=\"text-align: right;\">\n      <th></th>\n      <th>Organ</th>\n      <th>TP</th>\n      <th>FP</th>\n      <th>FN</th>\n      <th>AP</th>\n      <th>Recall</th>\n      <th>Precision</th>\n      <th>F1</th>\n      <th>PQ_nums</th>\n      <th>pth_model</th>\n    </tr>\n  </thead>\n  <tbody>\n    <tr>\n      <th>0</th>\n      <td>eyes</td>\n      <td>284</td>\n      <td>73</td>\n      <td>155</td>\n      <td>0.554688</td>\n      <td>0.646925</td>\n      <td>0.795518</td>\n      <td>0.713568</td>\n      <td>234.505497</td>\n      <td>monkey_12_12_2023_lr_0.0005_epochs_100_pt_10_g...</td>\n    </tr>\n    <tr>\n      <th>1</th>\n      <td>bone</td>\n      <td>99</td>\n      <td>26</td>\n      <td>67</td>\n      <td>0.515625</td>\n      <td>0.596386</td>\n      <td>0.792000</td>\n      <td>0.680412</td>\n      <td>82.092355</td>\n      <td>monkey_12_12_2023_lr_0.0005_epochs_100_pt_10_g...</td>\n    </tr>\n    <tr>\n      <th>2</th>\n      <td>liver</td>\n      <td>240</td>\n      <td>77</td>\n      <td>132</td>\n      <td>0.534521</td>\n      <td>0.645161</td>\n      <td>0.757098</td>\n      <td>0.696662</td>\n      <td>201.291834</td>\n      <td>monkey_12_12_2023_lr_0.0005_epochs_100_pt_10_g...</td>\n    </tr>\n    <tr>\n      <th>3</th>\n      <td>ears</td>\n      <td>176</td>\n      <td>157</td>\n      <td>204</td>\n      <td>0.327747</td>\n      <td>0.463158</td>\n      <td>0.528529</td>\n      <td>0.493689</td>\n      <td>141.245030</td>\n      <td>monkey_12_12_2023_lr_0.0005_epochs_100_pt_10_g...</td>\n    </tr>\n    <tr>\n      <th>4</th>\n      <td>brain</td>\n      <td>702</td>\n      <td>262</td>\n      <td>419</td>\n      <td>0.507592</td>\n      <td>0.626227</td>\n      <td>0.728216</td>\n      <td>0.673381</td>\n      <td>579.614591</td>\n      <td>monkey_12_12_2023_lr_0.0005_epochs_100_pt_10_g...</td>\n    </tr>\n    <tr>\n      <th>5</th>\n      <td>heart</td>\n      <td>173</td>\n      <td>64</td>\n      <td>105</td>\n      <td>0.505848</td>\n      <td>0.622302</td>\n      <td>0.729958</td>\n      <td>0.671845</td>\n      <td>140.422264</td>\n      <td>monkey_12_12_2023_lr_0.0005_epochs_100_pt_10_g...</td>\n    </tr>\n    <tr>\n      <th>6</th>\n      <td>thymus</td>\n      <td>532</td>\n      <td>119</td>\n      <td>211</td>\n      <td>0.617169</td>\n      <td>0.716016</td>\n      <td>0.817204</td>\n      <td>0.763271</td>\n      <td>446.047920</td>\n      <td>monkey_12_12_2023_lr_0.0005_epochs_100_pt_10_g...</td>\n    </tr>\n    <tr>\n      <th>7</th>\n      <td>lungs</td>\n      <td>195</td>\n      <td>111</td>\n      <td>223</td>\n      <td>0.368620</td>\n      <td>0.466507</td>\n      <td>0.637255</td>\n      <td>0.538674</td>\n      <td>155.826928</td>\n      <td>monkey_12_12_2023_lr_0.0005_epochs_100_pt_10_g...</td>\n    </tr>\n    <tr>\n      <th>8</th>\n      <td>gi</td>\n      <td>451</td>\n      <td>323</td>\n      <td>613</td>\n      <td>0.325162</td>\n      <td>0.423872</td>\n      <td>0.582687</td>\n      <td>0.490751</td>\n      <td>366.553175</td>\n      <td>monkey_12_12_2023_lr_0.0005_epochs_100_pt_10_g...</td>\n    </tr>\n    <tr>\n      <th>9</th>\n      <td>kidney</td>\n      <td>205</td>\n      <td>189</td>\n      <td>315</td>\n      <td>0.289140</td>\n      <td>0.394231</td>\n      <td>0.520305</td>\n      <td>0.448578</td>\n      <td>165.061743</td>\n      <td>monkey_12_12_2023_lr_0.0005_epochs_100_pt_10_g...</td>\n    </tr>\n    <tr>\n      <th>10</th>\n      <td>adrenal</td>\n      <td>174</td>\n      <td>48</td>\n      <td>108</td>\n      <td>0.527273</td>\n      <td>0.617021</td>\n      <td>0.783784</td>\n      <td>0.690476</td>\n      <td>148.125229</td>\n      <td>monkey_12_12_2023_lr_0.0005_epochs_100_pt_10_g...</td>\n    </tr>\n    <tr>\n      <th>11</th>\n      <td>mesokidney</td>\n      <td>161</td>\n      <td>100</td>\n      <td>161</td>\n      <td>0.381517</td>\n      <td>0.500000</td>\n      <td>0.616858</td>\n      <td>0.552316</td>\n      <td>130.981902</td>\n      <td>monkey_12_12_2023_lr_0.0005_epochs_100_pt_10_g...</td>\n    </tr>\n    <tr>\n      <th>12</th>\n      <td>gonads</td>\n      <td>221</td>\n      <td>159</td>\n      <td>277</td>\n      <td>0.336377</td>\n      <td>0.443775</td>\n      <td>0.581579</td>\n      <td>0.503417</td>\n      <td>181.047362</td>\n      <td>monkey_12_12_2023_lr_0.0005_epochs_100_pt_10_g...</td>\n    </tr>\n    <tr>\n      <th>13</th>\n      <td>ecm</td>\n      <td>159</td>\n      <td>36</td>\n      <td>98</td>\n      <td>0.542662</td>\n      <td>0.618677</td>\n      <td>0.815385</td>\n      <td>0.703540</td>\n      <td>132.350519</td>\n      <td>monkey_12_12_2023_lr_0.0005_epochs_100_pt_10_g...</td>\n    </tr>\n  </tbody>\n</table>\n</div>"
     },
     "execution_count": 113,
     "metadata": {},
     "output_type": "execute_result"
    }
   ],
   "source": [
    "dfs_w_pq_num[1]"
   ],
   "metadata": {
    "collapsed": false,
    "ExecuteTime": {
     "end_time": "2024-04-04T22:40:44.835090200Z",
     "start_time": "2024-04-04T22:40:44.811089600Z"
    }
   },
   "id": "1a5d2d83ffff5eee",
   "execution_count": 113
  },
  {
   "cell_type": "code",
   "outputs": [
    {
     "name": "stdout",
     "output_type": "stream",
     "text": [
      "monkey_12_12_2023_lr_0.0005_epochs_100_pt_10_gaus_ratio_0\n",
      "monkey_12_12_2023_lr_0.0005_epochs_100_pt_10_gaus_ratio_0.1\n",
      "monkey_12_12_2023_lr_0.0005_epochs_100_pt_20_gaus_ratio_0\n",
      "monkey_12_12_2023_lr_0.0005_epochs_100_pt_20_gaus_ratio_0.1\n",
      "monkey_12_12_2023_lr_0.0005_epochs_100_pt_30_gaus_ratio_0\n",
      "monkey_12_12_2023_lr_0.0005_epochs_100_pt_30_gaus_ratio_0.1\n",
      "monkey_12_12_2023_lr_0.0005_epochs_100_pt_40_gaus_ratio_0\n",
      "monkey_12_12_2023_lr_0.0005_epochs_100_pt_40_gaus_ratio_0.1\n",
      "monkey_12_12_2023_lr_0.0005_epochs_200_pt_10_gaus_ratio_0\n",
      "monkey_12_12_2023_lr_0.0005_epochs_200_pt_10_gaus_ratio_0.1\n",
      "monkey_12_12_2023_lr_0.0005_epochs_200_pt_20_gaus_ratio_0\n",
      "monkey_12_12_2023_lr_0.0005_epochs_200_pt_20_gaus_ratio_0.1\n",
      "monkey_12_12_2023_lr_0.0005_epochs_200_pt_30_gaus_ratio_0\n",
      "monkey_12_12_2023_lr_0.0005_epochs_200_pt_30_gaus_ratio_0.1\n",
      "monkey_12_12_2023_lr_0.0005_epochs_200_pt_40_gaus_ratio_0\n",
      "monkey_12_12_2023_lr_0.0005_epochs_200_pt_40_gaus_ratio_0.1\n",
      "monkey_12_12_2023_lr_0.0005_epochs_400_pt_10_gaus_ratio_0\n",
      "monkey_12_12_2023_lr_0.0005_epochs_400_pt_10_gaus_ratio_0.1\n",
      "monkey_12_12_2023_lr_0.0005_epochs_400_pt_20_gaus_ratio_0\n",
      "monkey_12_12_2023_lr_0.0005_epochs_400_pt_20_gaus_ratio_0.1\n",
      "monkey_12_12_2023_lr_0.0005_epochs_400_pt_30_gaus_ratio_0\n",
      "monkey_12_12_2023_lr_0.0005_epochs_400_pt_30_gaus_ratio_0.1\n",
      "monkey_12_12_2023_lr_0.0005_epochs_400_pt_40_gaus_ratio_0\n",
      "monkey_12_12_2023_lr_0.0005_epochs_400_pt_40_gaus_ratio_0.1\n",
      "monkey_12_12_2023_lr_0.001_epochs_100_pt_10_gaus_ratio_0\n",
      "monkey_12_12_2023_lr_0.001_epochs_100_pt_10_gaus_ratio_0.1\n",
      "monkey_12_12_2023_lr_0.001_epochs_100_pt_20_gaus_ratio_0\n",
      "monkey_12_12_2023_lr_0.001_epochs_100_pt_20_gaus_ratio_0.1\n",
      "monkey_12_12_2023_lr_0.001_epochs_100_pt_30_gaus_ratio_0\n",
      "monkey_12_12_2023_lr_0.001_epochs_100_pt_30_gaus_ratio_0.1\n",
      "monkey_12_12_2023_lr_0.001_epochs_100_pt_40_gaus_ratio_0\n",
      "monkey_12_12_2023_lr_0.001_epochs_100_pt_40_gaus_ratio_0.1\n",
      "monkey_12_12_2023_lr_0.001_epochs_200_pt_10_gaus_ratio_0\n",
      "monkey_12_12_2023_lr_0.001_epochs_200_pt_10_gaus_ratio_0.1\n",
      "monkey_12_12_2023_lr_0.001_epochs_200_pt_20_gaus_ratio_0\n",
      "monkey_12_12_2023_lr_0.001_epochs_200_pt_20_gaus_ratio_0.1\n",
      "monkey_12_12_2023_lr_0.001_epochs_200_pt_30_gaus_ratio_0\n",
      "monkey_12_12_2023_lr_0.001_epochs_200_pt_30_gaus_ratio_0.1\n",
      "monkey_12_12_2023_lr_0.001_epochs_200_pt_40_gaus_ratio_0\n",
      "monkey_12_12_2023_lr_0.001_epochs_200_pt_40_gaus_ratio_0.1\n",
      "monkey_12_12_2023_lr_0.001_epochs_400_pt_10_gaus_ratio_0\n",
      "monkey_12_12_2023_lr_0.001_epochs_400_pt_10_gaus_ratio_0.1\n",
      "monkey_12_12_2023_lr_0.001_epochs_400_pt_20_gaus_ratio_0\n",
      "monkey_12_12_2023_lr_0.001_epochs_400_pt_20_gaus_ratio_0.1\n",
      "monkey_12_12_2023_lr_0.001_epochs_400_pt_30_gaus_ratio_0\n",
      "monkey_12_12_2023_lr_0.001_epochs_400_pt_30_gaus_ratio_0.1\n",
      "monkey_12_12_2023_lr_0.001_epochs_400_pt_40_gaus_ratio_0\n",
      "monkey_12_12_2023_lr_0.001_epochs_400_pt_40_gaus_ratio_0.1\n",
      "monkey_12_12_2023_lr_0.003_epochs_100_pt_10_gaus_ratio_0\n",
      "monkey_12_12_2023_lr_0.003_epochs_100_pt_10_gaus_ratio_0.1\n",
      "monkey_12_12_2023_lr_0.003_epochs_100_pt_20_gaus_ratio_0\n",
      "monkey_12_12_2023_lr_0.003_epochs_100_pt_20_gaus_ratio_0.1\n",
      "monkey_12_12_2023_lr_0.003_epochs_100_pt_30_gaus_ratio_0\n",
      "monkey_12_12_2023_lr_0.003_epochs_100_pt_30_gaus_ratio_0.1\n",
      "monkey_12_12_2023_lr_0.003_epochs_100_pt_40_gaus_ratio_0\n",
      "monkey_12_12_2023_lr_0.003_epochs_100_pt_40_gaus_ratio_0.1\n",
      "monkey_12_12_2023_lr_0.003_epochs_200_pt_10_gaus_ratio_0\n",
      "monkey_12_12_2023_lr_0.003_epochs_200_pt_10_gaus_ratio_0.1\n",
      "monkey_12_12_2023_lr_0.003_epochs_200_pt_20_gaus_ratio_0\n",
      "monkey_12_12_2023_lr_0.003_epochs_200_pt_20_gaus_ratio_0.1\n",
      "monkey_12_12_2023_lr_0.003_epochs_200_pt_30_gaus_ratio_0\n",
      "monkey_12_12_2023_lr_0.003_epochs_200_pt_30_gaus_ratio_0.1\n",
      "monkey_12_12_2023_lr_0.003_epochs_200_pt_40_gaus_ratio_0\n",
      "monkey_12_12_2023_lr_0.003_epochs_200_pt_40_gaus_ratio_0.1\n",
      "monkey_12_12_2023_lr_0.003_epochs_400_pt_10_gaus_ratio_0\n",
      "monkey_12_12_2023_lr_0.003_epochs_400_pt_10_gaus_ratio_0.1\n",
      "monkey_12_12_2023_lr_0.003_epochs_400_pt_20_gaus_ratio_0\n",
      "monkey_12_12_2023_lr_0.003_epochs_400_pt_20_gaus_ratio_0.1\n",
      "monkey_12_12_2023_lr_0.003_epochs_400_pt_30_gaus_ratio_0\n",
      "monkey_12_12_2023_lr_0.003_epochs_400_pt_30_gaus_ratio_0.1\n",
      "monkey_12_12_2023_lr_0.003_epochs_400_pt_40_gaus_ratio_0\n",
      "monkey_12_12_2023_lr_0.003_epochs_400_pt_40_gaus_ratio_0.1\n",
      "monkey_12_12_2023_lr_0.005_epochs_100_pt_10_gaus_ratio_0\n",
      "monkey_12_12_2023_lr_0.005_epochs_100_pt_10_gaus_ratio_0.1\n",
      "monkey_12_12_2023_lr_0.005_epochs_100_pt_20_gaus_ratio_0\n",
      "monkey_12_12_2023_lr_0.005_epochs_100_pt_20_gaus_ratio_0.1\n",
      "monkey_12_12_2023_lr_0.005_epochs_100_pt_30_gaus_ratio_0\n",
      "monkey_12_12_2023_lr_0.005_epochs_100_pt_30_gaus_ratio_0.1\n",
      "monkey_12_12_2023_lr_0.005_epochs_100_pt_40_gaus_ratio_0\n",
      "monkey_12_12_2023_lr_0.005_epochs_100_pt_40_gaus_ratio_0.1\n",
      "monkey_12_12_2023_lr_0.005_epochs_200_pt_10_gaus_ratio_0\n",
      "monkey_12_12_2023_lr_0.005_epochs_200_pt_10_gaus_ratio_0.1\n",
      "monkey_12_12_2023_lr_0.005_epochs_200_pt_20_gaus_ratio_0\n",
      "monkey_12_12_2023_lr_0.005_epochs_200_pt_20_gaus_ratio_0.1\n",
      "monkey_12_12_2023_lr_0.005_epochs_200_pt_30_gaus_ratio_0\n",
      "monkey_12_12_2023_lr_0.005_epochs_200_pt_30_gaus_ratio_0.1\n",
      "monkey_12_12_2023_lr_0.005_epochs_200_pt_40_gaus_ratio_0\n",
      "monkey_12_12_2023_lr_0.005_epochs_200_pt_40_gaus_ratio_0.1\n",
      "monkey_12_12_2023_lr_0.005_epochs_400_pt_10_gaus_ratio_0\n",
      "monkey_12_12_2023_lr_0.005_epochs_400_pt_10_gaus_ratio_0.1\n",
      "monkey_12_12_2023_lr_0.005_epochs_400_pt_20_gaus_ratio_0\n",
      "monkey_12_12_2023_lr_0.005_epochs_400_pt_20_gaus_ratio_0.1\n",
      "monkey_12_12_2023_lr_0.005_epochs_400_pt_30_gaus_ratio_0\n",
      "monkey_12_12_2023_lr_0.005_epochs_400_pt_30_gaus_ratio_0.1\n",
      "monkey_12_12_2023_lr_0.005_epochs_400_pt_40_gaus_ratio_0\n",
      "monkey_12_12_2023_lr_0.005_epochs_400_pt_40_gaus_ratio_0.1\n"
     ]
    }
   ],
   "source": [
    "for df in dfs_t:\n",
    "    print(df.iloc[0]['pth_model'])"
   ],
   "metadata": {
    "collapsed": false,
    "ExecuteTime": {
     "end_time": "2024-04-04T22:40:46.972911600Z",
     "start_time": "2024-04-04T22:40:46.943904100Z"
    }
   },
   "id": "6249c4b01b1ff9d7",
   "execution_count": 114
  },
  {
   "cell_type": "code",
   "outputs": [
    {
     "name": "stdout",
     "output_type": "stream",
     "text": [
      "monkey_12_12_2023_lr_0.0005_epochs_100_pt_10_gaus_ratio_0\n",
      "monkey_12_12_2023_lr_0.0005_epochs_100_pt_10_gaus_ratio_0.1\n",
      "monkey_12_12_2023_lr_0.0005_epochs_100_pt_20_gaus_ratio_0\n",
      "monkey_12_12_2023_lr_0.0005_epochs_100_pt_20_gaus_ratio_0.1\n",
      "monkey_12_12_2023_lr_0.0005_epochs_100_pt_30_gaus_ratio_0\n",
      "monkey_12_12_2023_lr_0.0005_epochs_100_pt_30_gaus_ratio_0.1\n",
      "monkey_12_12_2023_lr_0.0005_epochs_100_pt_40_gaus_ratio_0\n",
      "monkey_12_12_2023_lr_0.0005_epochs_100_pt_40_gaus_ratio_0.1\n",
      "monkey_12_12_2023_lr_0.0005_epochs_200_pt_10_gaus_ratio_0\n",
      "monkey_12_12_2023_lr_0.0005_epochs_200_pt_10_gaus_ratio_0.1\n",
      "monkey_12_12_2023_lr_0.0005_epochs_200_pt_20_gaus_ratio_0\n",
      "monkey_12_12_2023_lr_0.0005_epochs_200_pt_20_gaus_ratio_0.1\n",
      "monkey_12_12_2023_lr_0.0005_epochs_200_pt_30_gaus_ratio_0\n",
      "monkey_12_12_2023_lr_0.0005_epochs_200_pt_30_gaus_ratio_0.1\n",
      "monkey_12_12_2023_lr_0.0005_epochs_200_pt_40_gaus_ratio_0\n",
      "monkey_12_12_2023_lr_0.0005_epochs_200_pt_40_gaus_ratio_0.1\n",
      "monkey_12_12_2023_lr_0.0005_epochs_400_pt_10_gaus_ratio_0\n",
      "monkey_12_12_2023_lr_0.0005_epochs_400_pt_10_gaus_ratio_0.1\n",
      "monkey_12_12_2023_lr_0.0005_epochs_400_pt_20_gaus_ratio_0\n",
      "monkey_12_12_2023_lr_0.0005_epochs_400_pt_20_gaus_ratio_0.1\n",
      "monkey_12_12_2023_lr_0.0005_epochs_400_pt_30_gaus_ratio_0\n",
      "monkey_12_12_2023_lr_0.0005_epochs_400_pt_30_gaus_ratio_0.1\n",
      "monkey_12_12_2023_lr_0.0005_epochs_400_pt_40_gaus_ratio_0\n",
      "monkey_12_12_2023_lr_0.0005_epochs_400_pt_40_gaus_ratio_0.1\n",
      "monkey_12_12_2023_lr_0.001_epochs_100_pt_10_gaus_ratio_0\n",
      "monkey_12_12_2023_lr_0.001_epochs_100_pt_10_gaus_ratio_0.1\n",
      "monkey_12_12_2023_lr_0.001_epochs_100_pt_20_gaus_ratio_0\n",
      "monkey_12_12_2023_lr_0.001_epochs_100_pt_20_gaus_ratio_0.1\n",
      "monkey_12_12_2023_lr_0.001_epochs_100_pt_30_gaus_ratio_0\n",
      "monkey_12_12_2023_lr_0.001_epochs_100_pt_30_gaus_ratio_0.1\n",
      "monkey_12_12_2023_lr_0.001_epochs_100_pt_40_gaus_ratio_0\n",
      "monkey_12_12_2023_lr_0.001_epochs_100_pt_40_gaus_ratio_0.1\n",
      "monkey_12_12_2023_lr_0.001_epochs_200_pt_10_gaus_ratio_0\n",
      "monkey_12_12_2023_lr_0.001_epochs_200_pt_10_gaus_ratio_0.1\n",
      "monkey_12_12_2023_lr_0.001_epochs_200_pt_20_gaus_ratio_0\n",
      "monkey_12_12_2023_lr_0.001_epochs_200_pt_20_gaus_ratio_0.1\n",
      "monkey_12_12_2023_lr_0.001_epochs_200_pt_30_gaus_ratio_0\n",
      "monkey_12_12_2023_lr_0.001_epochs_200_pt_30_gaus_ratio_0.1\n",
      "monkey_12_12_2023_lr_0.001_epochs_200_pt_40_gaus_ratio_0\n",
      "monkey_12_12_2023_lr_0.001_epochs_200_pt_40_gaus_ratio_0.1\n",
      "monkey_12_12_2023_lr_0.001_epochs_400_pt_10_gaus_ratio_0\n",
      "monkey_12_12_2023_lr_0.001_epochs_400_pt_10_gaus_ratio_0.1\n",
      "monkey_12_12_2023_lr_0.001_epochs_400_pt_20_gaus_ratio_0\n",
      "monkey_12_12_2023_lr_0.001_epochs_400_pt_20_gaus_ratio_0.1\n",
      "monkey_12_12_2023_lr_0.001_epochs_400_pt_30_gaus_ratio_0\n",
      "monkey_12_12_2023_lr_0.001_epochs_400_pt_30_gaus_ratio_0.1\n",
      "monkey_12_12_2023_lr_0.001_epochs_400_pt_40_gaus_ratio_0\n",
      "monkey_12_12_2023_lr_0.001_epochs_400_pt_40_gaus_ratio_0.1\n",
      "monkey_12_12_2023_lr_0.003_epochs_100_pt_10_gaus_ratio_0\n",
      "monkey_12_12_2023_lr_0.003_epochs_100_pt_10_gaus_ratio_0.1\n",
      "monkey_12_12_2023_lr_0.003_epochs_100_pt_20_gaus_ratio_0\n",
      "monkey_12_12_2023_lr_0.003_epochs_100_pt_20_gaus_ratio_0.1\n",
      "monkey_12_12_2023_lr_0.003_epochs_100_pt_30_gaus_ratio_0\n",
      "monkey_12_12_2023_lr_0.003_epochs_100_pt_30_gaus_ratio_0.1\n",
      "monkey_12_12_2023_lr_0.003_epochs_100_pt_40_gaus_ratio_0\n",
      "monkey_12_12_2023_lr_0.003_epochs_100_pt_40_gaus_ratio_0.1\n",
      "monkey_12_12_2023_lr_0.003_epochs_200_pt_10_gaus_ratio_0\n",
      "monkey_12_12_2023_lr_0.003_epochs_200_pt_10_gaus_ratio_0.1\n",
      "monkey_12_12_2023_lr_0.003_epochs_200_pt_20_gaus_ratio_0\n",
      "monkey_12_12_2023_lr_0.003_epochs_200_pt_20_gaus_ratio_0.1\n",
      "monkey_12_12_2023_lr_0.003_epochs_200_pt_30_gaus_ratio_0\n",
      "monkey_12_12_2023_lr_0.003_epochs_200_pt_30_gaus_ratio_0.1\n",
      "monkey_12_12_2023_lr_0.003_epochs_200_pt_40_gaus_ratio_0\n",
      "monkey_12_12_2023_lr_0.003_epochs_200_pt_40_gaus_ratio_0.1\n",
      "monkey_12_12_2023_lr_0.003_epochs_400_pt_10_gaus_ratio_0\n",
      "monkey_12_12_2023_lr_0.003_epochs_400_pt_10_gaus_ratio_0.1\n",
      "monkey_12_12_2023_lr_0.003_epochs_400_pt_20_gaus_ratio_0\n",
      "monkey_12_12_2023_lr_0.003_epochs_400_pt_20_gaus_ratio_0.1\n",
      "monkey_12_12_2023_lr_0.003_epochs_400_pt_30_gaus_ratio_0\n",
      "monkey_12_12_2023_lr_0.003_epochs_400_pt_30_gaus_ratio_0.1\n",
      "monkey_12_12_2023_lr_0.003_epochs_400_pt_40_gaus_ratio_0\n",
      "monkey_12_12_2023_lr_0.003_epochs_400_pt_40_gaus_ratio_0.1\n",
      "monkey_12_12_2023_lr_0.005_epochs_100_pt_10_gaus_ratio_0\n",
      "0\n",
      "0\n",
      "0\n",
      "0\n",
      "monkey_12_12_2023_lr_0.005_epochs_100_pt_30_gaus_ratio_0.1\n",
      "monkey_12_12_2023_lr_0.005_epochs_100_pt_40_gaus_ratio_0\n",
      "0\n",
      "monkey_12_12_2023_lr_0.005_epochs_200_pt_10_gaus_ratio_0\n",
      "monkey_12_12_2023_lr_0.005_epochs_200_pt_10_gaus_ratio_0.1\n",
      "monkey_12_12_2023_lr_0.005_epochs_200_pt_20_gaus_ratio_0\n",
      "monkey_12_12_2023_lr_0.005_epochs_200_pt_20_gaus_ratio_0.1\n",
      "monkey_12_12_2023_lr_0.005_epochs_200_pt_30_gaus_ratio_0\n",
      "monkey_12_12_2023_lr_0.005_epochs_200_pt_30_gaus_ratio_0.1\n",
      "0\n",
      "0\n",
      "monkey_12_12_2023_lr_0.005_epochs_400_pt_10_gaus_ratio_0\n",
      "0\n",
      "0\n",
      "0\n",
      "monkey_12_12_2023_lr_0.005_epochs_400_pt_30_gaus_ratio_0\n",
      "0\n",
      "monkey_12_12_2023_lr_0.005_epochs_400_pt_40_gaus_ratio_0\n",
      "0\n"
     ]
    }
   ],
   "source": [
    "for df in dfs_w_pq_num:\n",
    "    if type(df) != int:\n",
    "        print(df.iloc[0]['pth_model'])\n",
    "    else:\n",
    "        print(df)"
   ],
   "metadata": {
    "collapsed": false,
    "ExecuteTime": {
     "end_time": "2024-04-04T22:41:17.984729400Z",
     "start_time": "2024-04-04T22:41:17.956454700Z"
    }
   },
   "id": "c5e9cc0f31ab4d50",
   "execution_count": 116
  },
  {
   "cell_type": "code",
   "outputs": [],
   "source": [],
   "metadata": {
    "collapsed": false
   },
   "id": "eb133a997aff9d3e"
  },
  {
   "cell_type": "code",
   "outputs": [
    {
     "data": {
      "text/plain": "         Organ   TP   FP   FN        AP    Recall  Precision        F1  \\\n0         eyes  284   73  155  0.554688  0.646925   0.795518  0.713568   \n1         bone   99   26   67  0.515625  0.596386   0.792000  0.680412   \n2        liver  240   77  132  0.534521  0.645161   0.757098  0.696662   \n3         ears  176  157  204  0.327747  0.463158   0.528529  0.493689   \n4        brain  702  262  419  0.507592  0.626227   0.728216  0.673381   \n5        heart  173   64  105  0.505848  0.622302   0.729958  0.671845   \n6       thymus  532  119  211  0.617169  0.716016   0.817204  0.763271   \n7        lungs  195  111  223  0.368620  0.466507   0.637255  0.538674   \n8           gi  451  323  613  0.325162  0.423872   0.582687  0.490751   \n9       kidney  205  189  315  0.289140  0.394231   0.520305  0.448578   \n10     adrenal  174   48  108  0.527273  0.617021   0.783784  0.690476   \n11  mesokidney  161  100  161  0.381517  0.500000   0.616858  0.552316   \n12      gonads  221  159  277  0.336377  0.443775   0.581579  0.503417   \n13         ecm  159   36   98  0.542662  0.618677   0.815385  0.703540   \n\n       PQ_nums                                          pth_model  \n0   234.505497  monkey_12_12_2023_lr_0.0005_epochs_100_pt_10_g...  \n1    82.092355  monkey_12_12_2023_lr_0.0005_epochs_100_pt_10_g...  \n2   201.291834  monkey_12_12_2023_lr_0.0005_epochs_100_pt_10_g...  \n3   141.245030  monkey_12_12_2023_lr_0.0005_epochs_100_pt_10_g...  \n4   579.614591  monkey_12_12_2023_lr_0.0005_epochs_100_pt_10_g...  \n5   140.422264  monkey_12_12_2023_lr_0.0005_epochs_100_pt_10_g...  \n6   446.047920  monkey_12_12_2023_lr_0.0005_epochs_100_pt_10_g...  \n7   155.826928  monkey_12_12_2023_lr_0.0005_epochs_100_pt_10_g...  \n8   366.553175  monkey_12_12_2023_lr_0.0005_epochs_100_pt_10_g...  \n9   165.061743  monkey_12_12_2023_lr_0.0005_epochs_100_pt_10_g...  \n10  148.125229  monkey_12_12_2023_lr_0.0005_epochs_100_pt_10_g...  \n11  130.981902  monkey_12_12_2023_lr_0.0005_epochs_100_pt_10_g...  \n12  181.047362  monkey_12_12_2023_lr_0.0005_epochs_100_pt_10_g...  \n13  132.350519  monkey_12_12_2023_lr_0.0005_epochs_100_pt_10_g...  ",
      "text/html": "<div>\n<style scoped>\n    .dataframe tbody tr th:only-of-type {\n        vertical-align: middle;\n    }\n\n    .dataframe tbody tr th {\n        vertical-align: top;\n    }\n\n    .dataframe thead th {\n        text-align: right;\n    }\n</style>\n<table border=\"1\" class=\"dataframe\">\n  <thead>\n    <tr style=\"text-align: right;\">\n      <th></th>\n      <th>Organ</th>\n      <th>TP</th>\n      <th>FP</th>\n      <th>FN</th>\n      <th>AP</th>\n      <th>Recall</th>\n      <th>Precision</th>\n      <th>F1</th>\n      <th>PQ_nums</th>\n      <th>pth_model</th>\n    </tr>\n  </thead>\n  <tbody>\n    <tr>\n      <th>0</th>\n      <td>eyes</td>\n      <td>284</td>\n      <td>73</td>\n      <td>155</td>\n      <td>0.554688</td>\n      <td>0.646925</td>\n      <td>0.795518</td>\n      <td>0.713568</td>\n      <td>234.505497</td>\n      <td>monkey_12_12_2023_lr_0.0005_epochs_100_pt_10_g...</td>\n    </tr>\n    <tr>\n      <th>1</th>\n      <td>bone</td>\n      <td>99</td>\n      <td>26</td>\n      <td>67</td>\n      <td>0.515625</td>\n      <td>0.596386</td>\n      <td>0.792000</td>\n      <td>0.680412</td>\n      <td>82.092355</td>\n      <td>monkey_12_12_2023_lr_0.0005_epochs_100_pt_10_g...</td>\n    </tr>\n    <tr>\n      <th>2</th>\n      <td>liver</td>\n      <td>240</td>\n      <td>77</td>\n      <td>132</td>\n      <td>0.534521</td>\n      <td>0.645161</td>\n      <td>0.757098</td>\n      <td>0.696662</td>\n      <td>201.291834</td>\n      <td>monkey_12_12_2023_lr_0.0005_epochs_100_pt_10_g...</td>\n    </tr>\n    <tr>\n      <th>3</th>\n      <td>ears</td>\n      <td>176</td>\n      <td>157</td>\n      <td>204</td>\n      <td>0.327747</td>\n      <td>0.463158</td>\n      <td>0.528529</td>\n      <td>0.493689</td>\n      <td>141.245030</td>\n      <td>monkey_12_12_2023_lr_0.0005_epochs_100_pt_10_g...</td>\n    </tr>\n    <tr>\n      <th>4</th>\n      <td>brain</td>\n      <td>702</td>\n      <td>262</td>\n      <td>419</td>\n      <td>0.507592</td>\n      <td>0.626227</td>\n      <td>0.728216</td>\n      <td>0.673381</td>\n      <td>579.614591</td>\n      <td>monkey_12_12_2023_lr_0.0005_epochs_100_pt_10_g...</td>\n    </tr>\n    <tr>\n      <th>5</th>\n      <td>heart</td>\n      <td>173</td>\n      <td>64</td>\n      <td>105</td>\n      <td>0.505848</td>\n      <td>0.622302</td>\n      <td>0.729958</td>\n      <td>0.671845</td>\n      <td>140.422264</td>\n      <td>monkey_12_12_2023_lr_0.0005_epochs_100_pt_10_g...</td>\n    </tr>\n    <tr>\n      <th>6</th>\n      <td>thymus</td>\n      <td>532</td>\n      <td>119</td>\n      <td>211</td>\n      <td>0.617169</td>\n      <td>0.716016</td>\n      <td>0.817204</td>\n      <td>0.763271</td>\n      <td>446.047920</td>\n      <td>monkey_12_12_2023_lr_0.0005_epochs_100_pt_10_g...</td>\n    </tr>\n    <tr>\n      <th>7</th>\n      <td>lungs</td>\n      <td>195</td>\n      <td>111</td>\n      <td>223</td>\n      <td>0.368620</td>\n      <td>0.466507</td>\n      <td>0.637255</td>\n      <td>0.538674</td>\n      <td>155.826928</td>\n      <td>monkey_12_12_2023_lr_0.0005_epochs_100_pt_10_g...</td>\n    </tr>\n    <tr>\n      <th>8</th>\n      <td>gi</td>\n      <td>451</td>\n      <td>323</td>\n      <td>613</td>\n      <td>0.325162</td>\n      <td>0.423872</td>\n      <td>0.582687</td>\n      <td>0.490751</td>\n      <td>366.553175</td>\n      <td>monkey_12_12_2023_lr_0.0005_epochs_100_pt_10_g...</td>\n    </tr>\n    <tr>\n      <th>9</th>\n      <td>kidney</td>\n      <td>205</td>\n      <td>189</td>\n      <td>315</td>\n      <td>0.289140</td>\n      <td>0.394231</td>\n      <td>0.520305</td>\n      <td>0.448578</td>\n      <td>165.061743</td>\n      <td>monkey_12_12_2023_lr_0.0005_epochs_100_pt_10_g...</td>\n    </tr>\n    <tr>\n      <th>10</th>\n      <td>adrenal</td>\n      <td>174</td>\n      <td>48</td>\n      <td>108</td>\n      <td>0.527273</td>\n      <td>0.617021</td>\n      <td>0.783784</td>\n      <td>0.690476</td>\n      <td>148.125229</td>\n      <td>monkey_12_12_2023_lr_0.0005_epochs_100_pt_10_g...</td>\n    </tr>\n    <tr>\n      <th>11</th>\n      <td>mesokidney</td>\n      <td>161</td>\n      <td>100</td>\n      <td>161</td>\n      <td>0.381517</td>\n      <td>0.500000</td>\n      <td>0.616858</td>\n      <td>0.552316</td>\n      <td>130.981902</td>\n      <td>monkey_12_12_2023_lr_0.0005_epochs_100_pt_10_g...</td>\n    </tr>\n    <tr>\n      <th>12</th>\n      <td>gonads</td>\n      <td>221</td>\n      <td>159</td>\n      <td>277</td>\n      <td>0.336377</td>\n      <td>0.443775</td>\n      <td>0.581579</td>\n      <td>0.503417</td>\n      <td>181.047362</td>\n      <td>monkey_12_12_2023_lr_0.0005_epochs_100_pt_10_g...</td>\n    </tr>\n    <tr>\n      <th>13</th>\n      <td>ecm</td>\n      <td>159</td>\n      <td>36</td>\n      <td>98</td>\n      <td>0.542662</td>\n      <td>0.618677</td>\n      <td>0.815385</td>\n      <td>0.703540</td>\n      <td>132.350519</td>\n      <td>monkey_12_12_2023_lr_0.0005_epochs_100_pt_10_g...</td>\n    </tr>\n  </tbody>\n</table>\n</div>"
     },
     "execution_count": 117,
     "metadata": {},
     "output_type": "execute_result"
    }
   ],
   "source": [
    "dfs_w_pq_num[1]"
   ],
   "metadata": {
    "collapsed": false,
    "ExecuteTime": {
     "end_time": "2024-04-04T22:42:12.129876Z",
     "start_time": "2024-04-04T22:42:12.094875900Z"
    }
   },
   "id": "aec2bb75a87398b4",
   "execution_count": 117
  },
  {
   "cell_type": "code",
   "outputs": [],
   "source": [
    "for df in dfs_w_pq_num:\n",
    "    PQs = []\n",
    "    \n",
    "    if type(df) != int:\n",
    "    \n",
    "        for index, row in df.iterrows():\n",
    "            pq_num = row['PQ_nums']\n",
    "            pq_denom = row['TP']+1/2*row['FP']+1/2*row['FN']\n",
    "            PQs.append(pq_num/pq_denom)\n",
    "        df['PQ'] = PQs"
   ],
   "metadata": {
    "collapsed": false,
    "ExecuteTime": {
     "end_time": "2024-04-04T22:46:53.175633600Z",
     "start_time": "2024-04-04T22:46:53.129633700Z"
    }
   },
   "id": "2069d382e6095d7a",
   "execution_count": 119
  },
  {
   "cell_type": "code",
   "outputs": [
    {
     "data": {
      "text/plain": "         Organ   TP   FP   FN        AP    Recall  Precision        F1  \\\n0         eyes  283   78  156  0.547389  0.644647   0.783934  0.707500   \n1         bone   97   29   69  0.497436  0.584337   0.769841  0.664384   \n2        liver  241   69  131  0.546485  0.647849   0.777419  0.706745   \n3         ears  181  139  199  0.348748  0.476316   0.565625  0.517143   \n4        brain  694  241  427  0.509545  0.619090   0.742246  0.675097   \n5        heart  176   62  102  0.517647  0.633094   0.739496  0.682171   \n6       thymus  540  114  203  0.630105  0.726783   0.825688  0.773085   \n7        lungs  193  104  225  0.369732  0.461722   0.649832  0.539860   \n8           gi  467  317  597  0.338161  0.438910   0.595663  0.505411   \n9       kidney  208  191  312  0.292546  0.400000   0.521303  0.452666   \n10     adrenal  172   43  110  0.529231  0.609929   0.800000  0.692153   \n11  mesokidney  148  108  174  0.344186  0.459627   0.578125  0.512111   \n12      gonads  211  139  287  0.331240  0.423695   0.602857  0.497642   \n13         ecm  159   35   98  0.544521  0.618677   0.819588  0.705100   \n\n       PQ_nums                                          pth_model        PQ  \n0   235.164944  monkey_12_12_2023_lr_0.0005_epochs_100_pt_10_g...  0.587912  \n1    81.237106  monkey_12_12_2023_lr_0.0005_epochs_100_pt_10_g...  0.556419  \n2   204.524528  monkey_12_12_2023_lr_0.0005_epochs_100_pt_10_g...  0.599779  \n3   145.588261  monkey_12_12_2023_lr_0.0005_epochs_100_pt_10_g...  0.415966  \n4   574.592153  monkey_12_12_2023_lr_0.0005_epochs_100_pt_10_g...  0.558942  \n5   143.802851  monkey_12_12_2023_lr_0.0005_epochs_100_pt_10_g...  0.557375  \n6   456.630135  monkey_12_12_2023_lr_0.0005_epochs_100_pt_10_g...  0.653730  \n7   154.344900  monkey_12_12_2023_lr_0.0005_epochs_100_pt_10_g...  0.431734  \n8   380.701100  monkey_12_12_2023_lr_0.0005_epochs_100_pt_10_g...  0.412014  \n9   170.433203  monkey_12_12_2023_lr_0.0005_epochs_100_pt_10_g...  0.370910  \n10  148.316637  monkey_12_12_2023_lr_0.0005_epochs_100_pt_10_g...  0.596848  \n11  121.669185  monkey_12_12_2023_lr_0.0005_epochs_100_pt_10_g...  0.421001  \n12  174.435182  monkey_12_12_2023_lr_0.0005_epochs_100_pt_10_g...  0.411404  \n13  133.393758  monkey_12_12_2023_lr_0.0005_epochs_100_pt_10_g...  0.591547  ",
      "text/html": "<div>\n<style scoped>\n    .dataframe tbody tr th:only-of-type {\n        vertical-align: middle;\n    }\n\n    .dataframe tbody tr th {\n        vertical-align: top;\n    }\n\n    .dataframe thead th {\n        text-align: right;\n    }\n</style>\n<table border=\"1\" class=\"dataframe\">\n  <thead>\n    <tr style=\"text-align: right;\">\n      <th></th>\n      <th>Organ</th>\n      <th>TP</th>\n      <th>FP</th>\n      <th>FN</th>\n      <th>AP</th>\n      <th>Recall</th>\n      <th>Precision</th>\n      <th>F1</th>\n      <th>PQ_nums</th>\n      <th>pth_model</th>\n      <th>PQ</th>\n    </tr>\n  </thead>\n  <tbody>\n    <tr>\n      <th>0</th>\n      <td>eyes</td>\n      <td>283</td>\n      <td>78</td>\n      <td>156</td>\n      <td>0.547389</td>\n      <td>0.644647</td>\n      <td>0.783934</td>\n      <td>0.707500</td>\n      <td>235.164944</td>\n      <td>monkey_12_12_2023_lr_0.0005_epochs_100_pt_10_g...</td>\n      <td>0.587912</td>\n    </tr>\n    <tr>\n      <th>1</th>\n      <td>bone</td>\n      <td>97</td>\n      <td>29</td>\n      <td>69</td>\n      <td>0.497436</td>\n      <td>0.584337</td>\n      <td>0.769841</td>\n      <td>0.664384</td>\n      <td>81.237106</td>\n      <td>monkey_12_12_2023_lr_0.0005_epochs_100_pt_10_g...</td>\n      <td>0.556419</td>\n    </tr>\n    <tr>\n      <th>2</th>\n      <td>liver</td>\n      <td>241</td>\n      <td>69</td>\n      <td>131</td>\n      <td>0.546485</td>\n      <td>0.647849</td>\n      <td>0.777419</td>\n      <td>0.706745</td>\n      <td>204.524528</td>\n      <td>monkey_12_12_2023_lr_0.0005_epochs_100_pt_10_g...</td>\n      <td>0.599779</td>\n    </tr>\n    <tr>\n      <th>3</th>\n      <td>ears</td>\n      <td>181</td>\n      <td>139</td>\n      <td>199</td>\n      <td>0.348748</td>\n      <td>0.476316</td>\n      <td>0.565625</td>\n      <td>0.517143</td>\n      <td>145.588261</td>\n      <td>monkey_12_12_2023_lr_0.0005_epochs_100_pt_10_g...</td>\n      <td>0.415966</td>\n    </tr>\n    <tr>\n      <th>4</th>\n      <td>brain</td>\n      <td>694</td>\n      <td>241</td>\n      <td>427</td>\n      <td>0.509545</td>\n      <td>0.619090</td>\n      <td>0.742246</td>\n      <td>0.675097</td>\n      <td>574.592153</td>\n      <td>monkey_12_12_2023_lr_0.0005_epochs_100_pt_10_g...</td>\n      <td>0.558942</td>\n    </tr>\n    <tr>\n      <th>5</th>\n      <td>heart</td>\n      <td>176</td>\n      <td>62</td>\n      <td>102</td>\n      <td>0.517647</td>\n      <td>0.633094</td>\n      <td>0.739496</td>\n      <td>0.682171</td>\n      <td>143.802851</td>\n      <td>monkey_12_12_2023_lr_0.0005_epochs_100_pt_10_g...</td>\n      <td>0.557375</td>\n    </tr>\n    <tr>\n      <th>6</th>\n      <td>thymus</td>\n      <td>540</td>\n      <td>114</td>\n      <td>203</td>\n      <td>0.630105</td>\n      <td>0.726783</td>\n      <td>0.825688</td>\n      <td>0.773085</td>\n      <td>456.630135</td>\n      <td>monkey_12_12_2023_lr_0.0005_epochs_100_pt_10_g...</td>\n      <td>0.653730</td>\n    </tr>\n    <tr>\n      <th>7</th>\n      <td>lungs</td>\n      <td>193</td>\n      <td>104</td>\n      <td>225</td>\n      <td>0.369732</td>\n      <td>0.461722</td>\n      <td>0.649832</td>\n      <td>0.539860</td>\n      <td>154.344900</td>\n      <td>monkey_12_12_2023_lr_0.0005_epochs_100_pt_10_g...</td>\n      <td>0.431734</td>\n    </tr>\n    <tr>\n      <th>8</th>\n      <td>gi</td>\n      <td>467</td>\n      <td>317</td>\n      <td>597</td>\n      <td>0.338161</td>\n      <td>0.438910</td>\n      <td>0.595663</td>\n      <td>0.505411</td>\n      <td>380.701100</td>\n      <td>monkey_12_12_2023_lr_0.0005_epochs_100_pt_10_g...</td>\n      <td>0.412014</td>\n    </tr>\n    <tr>\n      <th>9</th>\n      <td>kidney</td>\n      <td>208</td>\n      <td>191</td>\n      <td>312</td>\n      <td>0.292546</td>\n      <td>0.400000</td>\n      <td>0.521303</td>\n      <td>0.452666</td>\n      <td>170.433203</td>\n      <td>monkey_12_12_2023_lr_0.0005_epochs_100_pt_10_g...</td>\n      <td>0.370910</td>\n    </tr>\n    <tr>\n      <th>10</th>\n      <td>adrenal</td>\n      <td>172</td>\n      <td>43</td>\n      <td>110</td>\n      <td>0.529231</td>\n      <td>0.609929</td>\n      <td>0.800000</td>\n      <td>0.692153</td>\n      <td>148.316637</td>\n      <td>monkey_12_12_2023_lr_0.0005_epochs_100_pt_10_g...</td>\n      <td>0.596848</td>\n    </tr>\n    <tr>\n      <th>11</th>\n      <td>mesokidney</td>\n      <td>148</td>\n      <td>108</td>\n      <td>174</td>\n      <td>0.344186</td>\n      <td>0.459627</td>\n      <td>0.578125</td>\n      <td>0.512111</td>\n      <td>121.669185</td>\n      <td>monkey_12_12_2023_lr_0.0005_epochs_100_pt_10_g...</td>\n      <td>0.421001</td>\n    </tr>\n    <tr>\n      <th>12</th>\n      <td>gonads</td>\n      <td>211</td>\n      <td>139</td>\n      <td>287</td>\n      <td>0.331240</td>\n      <td>0.423695</td>\n      <td>0.602857</td>\n      <td>0.497642</td>\n      <td>174.435182</td>\n      <td>monkey_12_12_2023_lr_0.0005_epochs_100_pt_10_g...</td>\n      <td>0.411404</td>\n    </tr>\n    <tr>\n      <th>13</th>\n      <td>ecm</td>\n      <td>159</td>\n      <td>35</td>\n      <td>98</td>\n      <td>0.544521</td>\n      <td>0.618677</td>\n      <td>0.819588</td>\n      <td>0.705100</td>\n      <td>133.393758</td>\n      <td>monkey_12_12_2023_lr_0.0005_epochs_100_pt_10_g...</td>\n      <td>0.591547</td>\n    </tr>\n  </tbody>\n</table>\n</div>"
     },
     "execution_count": 120,
     "metadata": {},
     "output_type": "execute_result"
    }
   ],
   "source": [
    "dfs_w_pq_num[0]"
   ],
   "metadata": {
    "collapsed": false,
    "ExecuteTime": {
     "end_time": "2024-04-04T22:46:59.997944400Z",
     "start_time": "2024-04-04T22:46:59.973944600Z"
    }
   },
   "id": "615f0c582149a70a",
   "execution_count": 120
  },
  {
   "cell_type": "code",
   "outputs": [],
   "source": [
    "mPQs = []\n",
    "model_names = []\n",
    "for df in dfs_w_pq_num:\n",
    "    if type(df) != int:\n",
    "        \n",
    "        PQs = []\n",
    "    \n",
    "        for index, row in df.iterrows():\n",
    "            pq = row['PQ']\n",
    "            model_name = row['pth_model']\n",
    "            PQs.append(pq)\n",
    "        \n",
    "        mPQ = sum(PQs)/len(df)\n",
    "        mPQs.append(mPQ)\n",
    "        model_names.append(model_name)\n",
    "    else:\n",
    "        mPQs.append(0)\n",
    "        model_names.append('bad')"
   ],
   "metadata": {
    "collapsed": false,
    "ExecuteTime": {
     "end_time": "2024-04-04T22:58:45.284666800Z",
     "start_time": "2024-04-04T22:58:45.237666800Z"
    }
   },
   "id": "c381ee1fa533888a",
   "execution_count": 130
  },
  {
   "cell_type": "code",
   "outputs": [
    {
     "name": "stdout",
     "output_type": "stream",
     "text": [
      "24\n"
     ]
    }
   ],
   "source": [
    "print(np.argmax(mPQs))"
   ],
   "metadata": {
    "collapsed": false,
    "ExecuteTime": {
     "end_time": "2024-04-04T22:59:26.332458Z",
     "start_time": "2024-04-04T22:59:26.296458Z"
    }
   },
   "id": "e3e8e57f7fb73f63",
   "execution_count": 132
  },
  {
   "cell_type": "code",
   "outputs": [
    {
     "data": {
      "text/plain": "'monkey_12_12_2023_lr_0.001_epochs_100_pt_10_gaus_ratio_0'"
     },
     "execution_count": 133,
     "metadata": {},
     "output_type": "execute_result"
    }
   ],
   "source": [
    "model_names[24]"
   ],
   "metadata": {
    "collapsed": false,
    "ExecuteTime": {
     "end_time": "2024-04-04T22:59:34.757222500Z",
     "start_time": "2024-04-04T22:59:34.726222700Z"
    }
   },
   "id": "8fc6adc296f19006",
   "execution_count": 133
  },
  {
   "cell_type": "code",
   "outputs": [
    {
     "data": {
      "text/plain": "0.5244337820994244"
     },
     "execution_count": 134,
     "metadata": {},
     "output_type": "execute_result"
    }
   ],
   "source": [
    "mPQs[24]"
   ],
   "metadata": {
    "collapsed": false,
    "ExecuteTime": {
     "end_time": "2024-04-04T23:00:10.789252Z",
     "start_time": "2024-04-04T23:00:10.757251800Z"
    }
   },
   "id": "61bdbae865bd3fc8",
   "execution_count": 134
  },
  {
   "cell_type": "code",
   "outputs": [
    {
     "name": "stdout",
     "output_type": "stream",
     "text": [
      "0.5118271217707412 monkey_12_12_2023_lr_0.0005_epochs_100_pt_10_gaus_ratio_0\n",
      "0.5072043821192292 monkey_12_12_2023_lr_0.0005_epochs_100_pt_10_gaus_ratio_0.1\n",
      "0.5047008066399571 monkey_12_12_2023_lr_0.0005_epochs_100_pt_20_gaus_ratio_0\n",
      "0.509570690096272 monkey_12_12_2023_lr_0.0005_epochs_100_pt_20_gaus_ratio_0.1\n",
      "0.5042994553162863 monkey_12_12_2023_lr_0.0005_epochs_100_pt_30_gaus_ratio_0\n",
      "0.505324397212755 monkey_12_12_2023_lr_0.0005_epochs_100_pt_30_gaus_ratio_0.1\n",
      "0.498532273083106 monkey_12_12_2023_lr_0.0005_epochs_100_pt_40_gaus_ratio_0\n",
      "0.47730794761868894 monkey_12_12_2023_lr_0.0005_epochs_100_pt_40_gaus_ratio_0.1\n",
      "0.51602954761907 monkey_12_12_2023_lr_0.0005_epochs_200_pt_10_gaus_ratio_0\n",
      "0.5143715194896334 monkey_12_12_2023_lr_0.0005_epochs_200_pt_10_gaus_ratio_0.1\n",
      "0.5050994925406986 monkey_12_12_2023_lr_0.0005_epochs_200_pt_20_gaus_ratio_0\n",
      "0.5058018307847673 monkey_12_12_2023_lr_0.0005_epochs_200_pt_20_gaus_ratio_0.1\n",
      "0.4955207840911054 monkey_12_12_2023_lr_0.0005_epochs_200_pt_30_gaus_ratio_0\n",
      "0.49332091077114876 monkey_12_12_2023_lr_0.0005_epochs_200_pt_30_gaus_ratio_0.1\n",
      "0.5055012381030651 monkey_12_12_2023_lr_0.0005_epochs_200_pt_40_gaus_ratio_0\n",
      "0.5073758592982127 monkey_12_12_2023_lr_0.0005_epochs_200_pt_40_gaus_ratio_0.1\n",
      "0.5029232899205495 monkey_12_12_2023_lr_0.0005_epochs_400_pt_10_gaus_ratio_0\n",
      "0.4713856038901437 monkey_12_12_2023_lr_0.0005_epochs_400_pt_10_gaus_ratio_0.1\n",
      "0.4999491578361868 monkey_12_12_2023_lr_0.0005_epochs_400_pt_20_gaus_ratio_0\n",
      "0.5016805447183412 monkey_12_12_2023_lr_0.0005_epochs_400_pt_20_gaus_ratio_0.1\n",
      "0.46267257808984513 monkey_12_12_2023_lr_0.0005_epochs_400_pt_30_gaus_ratio_0\n",
      "0.49243161407900565 monkey_12_12_2023_lr_0.0005_epochs_400_pt_30_gaus_ratio_0.1\n",
      "0.5045434145769382 monkey_12_12_2023_lr_0.0005_epochs_400_pt_40_gaus_ratio_0\n",
      "0.48094218799404315 monkey_12_12_2023_lr_0.0005_epochs_400_pt_40_gaus_ratio_0.1\n",
      "0.5244337820994244 monkey_12_12_2023_lr_0.001_epochs_100_pt_10_gaus_ratio_0\n",
      "0.5039122190025279 monkey_12_12_2023_lr_0.001_epochs_100_pt_10_gaus_ratio_0.1\n",
      "0.5000781584450691 monkey_12_12_2023_lr_0.001_epochs_100_pt_20_gaus_ratio_0\n",
      "0.5012481533277511 monkey_12_12_2023_lr_0.001_epochs_100_pt_20_gaus_ratio_0.1\n",
      "0.5234734497222074 monkey_12_12_2023_lr_0.001_epochs_100_pt_30_gaus_ratio_0\n",
      "0.4927270816719208 monkey_12_12_2023_lr_0.001_epochs_100_pt_30_gaus_ratio_0.1\n",
      "0.5078680740608597 monkey_12_12_2023_lr_0.001_epochs_100_pt_40_gaus_ratio_0\n",
      "0.5055135680218371 monkey_12_12_2023_lr_0.001_epochs_100_pt_40_gaus_ratio_0.1\n",
      "0.5145815514161354 monkey_12_12_2023_lr_0.001_epochs_200_pt_10_gaus_ratio_0\n",
      "0.4939044539298716 monkey_12_12_2023_lr_0.001_epochs_200_pt_10_gaus_ratio_0.1\n",
      "0.5231514241385832 monkey_12_12_2023_lr_0.001_epochs_200_pt_20_gaus_ratio_0\n",
      "0.5002403579595328 monkey_12_12_2023_lr_0.001_epochs_200_pt_20_gaus_ratio_0.1\n",
      "0.4874253688263523 monkey_12_12_2023_lr_0.001_epochs_200_pt_30_gaus_ratio_0\n",
      "0.5017028198973061 monkey_12_12_2023_lr_0.001_epochs_200_pt_30_gaus_ratio_0.1\n",
      "0.5010318599223343 monkey_12_12_2023_lr_0.001_epochs_200_pt_40_gaus_ratio_0\n",
      "0.5150997431156258 monkey_12_12_2023_lr_0.001_epochs_200_pt_40_gaus_ratio_0.1\n",
      "0.5216247426835472 monkey_12_12_2023_lr_0.001_epochs_400_pt_10_gaus_ratio_0\n",
      "0.4992239958461883 monkey_12_12_2023_lr_0.001_epochs_400_pt_10_gaus_ratio_0.1\n",
      "0.5182414830180566 monkey_12_12_2023_lr_0.001_epochs_400_pt_20_gaus_ratio_0\n",
      "0.4950356855174683 monkey_12_12_2023_lr_0.001_epochs_400_pt_20_gaus_ratio_0.1\n",
      "0.5038212237093838 monkey_12_12_2023_lr_0.001_epochs_400_pt_30_gaus_ratio_0\n",
      "0.5089645087791637 monkey_12_12_2023_lr_0.001_epochs_400_pt_30_gaus_ratio_0.1\n",
      "0.5018481163052987 monkey_12_12_2023_lr_0.001_epochs_400_pt_40_gaus_ratio_0\n",
      "0.5019193067893848 monkey_12_12_2023_lr_0.001_epochs_400_pt_40_gaus_ratio_0.1\n",
      "0.5052032369874252 monkey_12_12_2023_lr_0.003_epochs_100_pt_10_gaus_ratio_0\n",
      "0.4932549013454257 monkey_12_12_2023_lr_0.003_epochs_100_pt_10_gaus_ratio_0.1\n",
      "0.4933194709677653 monkey_12_12_2023_lr_0.003_epochs_100_pt_20_gaus_ratio_0\n",
      "0.48402825382030695 monkey_12_12_2023_lr_0.003_epochs_100_pt_20_gaus_ratio_0.1\n",
      "0.4853498056762399 monkey_12_12_2023_lr_0.003_epochs_100_pt_30_gaus_ratio_0\n",
      "0.49472848817779874 monkey_12_12_2023_lr_0.003_epochs_100_pt_30_gaus_ratio_0.1\n",
      "0.48139940235434947 monkey_12_12_2023_lr_0.003_epochs_100_pt_40_gaus_ratio_0\n",
      "0.4804950758821485 monkey_12_12_2023_lr_0.003_epochs_100_pt_40_gaus_ratio_0.1\n",
      "0.47734402185838926 monkey_12_12_2023_lr_0.003_epochs_200_pt_10_gaus_ratio_0\n",
      "0.4974395012713166 monkey_12_12_2023_lr_0.003_epochs_200_pt_10_gaus_ratio_0.1\n",
      "0.5056854853964736 monkey_12_12_2023_lr_0.003_epochs_200_pt_20_gaus_ratio_0\n",
      "0.47719683407423047 monkey_12_12_2023_lr_0.003_epochs_200_pt_20_gaus_ratio_0.1\n",
      "0.5090187456124908 monkey_12_12_2023_lr_0.003_epochs_200_pt_30_gaus_ratio_0\n",
      "0.4677107935064489 monkey_12_12_2023_lr_0.003_epochs_200_pt_30_gaus_ratio_0.1\n",
      "0.4846318083648297 monkey_12_12_2023_lr_0.003_epochs_200_pt_40_gaus_ratio_0\n",
      "0.48349023075474423 monkey_12_12_2023_lr_0.003_epochs_200_pt_40_gaus_ratio_0.1\n",
      "0.5009237644374264 monkey_12_12_2023_lr_0.003_epochs_400_pt_10_gaus_ratio_0\n",
      "0.45728334067103715 monkey_12_12_2023_lr_0.003_epochs_400_pt_10_gaus_ratio_0.1\n",
      "0.47856461087317886 monkey_12_12_2023_lr_0.003_epochs_400_pt_20_gaus_ratio_0\n",
      "0.5006587116395402 monkey_12_12_2023_lr_0.003_epochs_400_pt_20_gaus_ratio_0.1\n",
      "0.4975445733674296 monkey_12_12_2023_lr_0.003_epochs_400_pt_30_gaus_ratio_0\n",
      "0.48259596748183897 monkey_12_12_2023_lr_0.003_epochs_400_pt_30_gaus_ratio_0.1\n",
      "0.4870663311828887 monkey_12_12_2023_lr_0.003_epochs_400_pt_40_gaus_ratio_0\n",
      "0.47311415907575954 monkey_12_12_2023_lr_0.003_epochs_400_pt_40_gaus_ratio_0.1\n",
      "0.46814270719435275 monkey_12_12_2023_lr_0.005_epochs_100_pt_10_gaus_ratio_0\n",
      "0 bad\n",
      "0 bad\n",
      "0 bad\n",
      "0 bad\n",
      "0.401321501866906 monkey_12_12_2023_lr_0.005_epochs_100_pt_30_gaus_ratio_0.1\n",
      "0.44412820593350716 monkey_12_12_2023_lr_0.005_epochs_100_pt_40_gaus_ratio_0\n",
      "0 bad\n",
      "0.4592284743884121 monkey_12_12_2023_lr_0.005_epochs_200_pt_10_gaus_ratio_0\n",
      "0.2650482898834307 monkey_12_12_2023_lr_0.005_epochs_200_pt_10_gaus_ratio_0.1\n",
      "0.4453179646907949 monkey_12_12_2023_lr_0.005_epochs_200_pt_20_gaus_ratio_0\n",
      "0.4571275438657882 monkey_12_12_2023_lr_0.005_epochs_200_pt_20_gaus_ratio_0.1\n",
      "0.45440419546926486 monkey_12_12_2023_lr_0.005_epochs_200_pt_30_gaus_ratio_0\n",
      "0.3911166311009283 monkey_12_12_2023_lr_0.005_epochs_200_pt_30_gaus_ratio_0.1\n",
      "0 bad\n",
      "0 bad\n",
      "0.42983502548387104 monkey_12_12_2023_lr_0.005_epochs_400_pt_10_gaus_ratio_0\n",
      "0 bad\n",
      "0 bad\n",
      "0 bad\n",
      "0.4565326556750201 monkey_12_12_2023_lr_0.005_epochs_400_pt_30_gaus_ratio_0\n",
      "0 bad\n",
      "0.4589755043547853 monkey_12_12_2023_lr_0.005_epochs_400_pt_40_gaus_ratio_0\n",
      "0 bad\n"
     ]
    }
   ],
   "source": [
    "for m, nm in zip(mPQs, model_names):\n",
    "    print(m, nm)"
   ],
   "metadata": {
    "collapsed": false,
    "ExecuteTime": {
     "end_time": "2024-04-04T22:59:07.698053900Z",
     "start_time": "2024-04-04T22:59:07.650053900Z"
    }
   },
   "id": "beac4775fbc8f5c7",
   "execution_count": 131
  },
  {
   "cell_type": "code",
   "outputs": [
    {
     "name": "stdout",
     "output_type": "stream",
     "text": [
      "96\n",
      "96\n"
     ]
    }
   ],
   "source": [
    "print(len(mPQs))\n",
    "print(len(model_names))"
   ],
   "metadata": {
    "collapsed": false,
    "ExecuteTime": {
     "end_time": "2024-04-04T23:01:24.889749Z",
     "start_time": "2024-04-04T23:01:24.861774100Z"
    }
   },
   "id": "3b937514ef2eb295",
   "execution_count": 136
  },
  {
   "cell_type": "code",
   "outputs": [
    {
     "name": "stdout",
     "output_type": "stream",
     "text": [
      "0.0005 100 10 0\n",
      "0.0005 100 10 0.1\n",
      "0.0005 100 20 0\n",
      "0.0005 100 20 0.1\n",
      "0.0005 100 30 0\n",
      "0.0005 100 30 0.1\n",
      "0.0005 100 40 0\n",
      "0.0005 100 40 0.1\n",
      "0.0005 200 10 0\n",
      "0.0005 200 10 0.1\n",
      "0.0005 200 20 0\n",
      "0.0005 200 20 0.1\n",
      "0.0005 200 30 0\n",
      "0.0005 200 30 0.1\n",
      "0.0005 200 40 0\n",
      "0.0005 200 40 0.1\n",
      "0.0005 400 10 0\n",
      "0.0005 400 10 0.1\n",
      "0.0005 400 20 0\n",
      "0.0005 400 20 0.1\n",
      "0.0005 400 30 0\n",
      "0.0005 400 30 0.1\n",
      "0.0005 400 40 0\n",
      "0.0005 400 40 0.1\n",
      "0.001 100 10 0\n",
      "0.001 100 10 0.1\n",
      "0.001 100 20 0\n",
      "0.001 100 20 0.1\n",
      "0.001 100 30 0\n",
      "0.001 100 30 0.1\n",
      "0.001 100 40 0\n",
      "0.001 100 40 0.1\n",
      "0.001 200 10 0\n",
      "0.001 200 10 0.1\n",
      "0.001 200 20 0\n",
      "0.001 200 20 0.1\n",
      "0.001 200 30 0\n",
      "0.001 200 30 0.1\n",
      "0.001 200 40 0\n",
      "0.001 200 40 0.1\n",
      "0.001 400 10 0\n",
      "0.001 400 10 0.1\n",
      "0.001 400 20 0\n",
      "0.001 400 20 0.1\n",
      "0.001 400 30 0\n",
      "0.001 400 30 0.1\n",
      "0.001 400 40 0\n",
      "0.001 400 40 0.1\n",
      "0.003 100 10 0\n",
      "0.003 100 10 0.1\n",
      "0.003 100 20 0\n",
      "0.003 100 20 0.1\n",
      "0.003 100 30 0\n",
      "0.003 100 30 0.1\n",
      "0.003 100 40 0\n",
      "0.003 100 40 0.1\n",
      "0.003 200 10 0\n",
      "0.003 200 10 0.1\n",
      "0.003 200 20 0\n",
      "0.003 200 20 0.1\n",
      "0.003 200 30 0\n",
      "0.003 200 30 0.1\n",
      "0.003 200 40 0\n",
      "0.003 200 40 0.1\n",
      "0.003 400 10 0\n",
      "0.003 400 10 0.1\n",
      "0.003 400 20 0\n",
      "0.003 400 20 0.1\n",
      "0.003 400 30 0\n",
      "0.003 400 30 0.1\n",
      "0.003 400 40 0\n",
      "0.003 400 40 0.1\n",
      "0.005 100 10 0\n",
      "0.005 100 10 0.1\n",
      "0.005 100 20 0\n",
      "0.005 100 20 0.1\n",
      "0.005 100 30 0\n",
      "0.005 100 30 0.1\n",
      "0.005 100 40 0\n",
      "0.005 100 40 0.1\n",
      "0.005 200 10 0\n",
      "0.005 200 10 0.1\n",
      "0.005 200 20 0\n",
      "0.005 200 20 0.1\n",
      "0.005 200 30 0\n",
      "0.005 200 30 0.1\n",
      "0.005 200 40 0\n",
      "0.005 200 40 0.1\n",
      "0.005 400 10 0\n",
      "0.005 400 10 0.1\n",
      "0.005 400 20 0\n",
      "0.005 400 20 0.1\n",
      "0.005 400 30 0\n",
      "0.005 400 30 0.1\n",
      "0.005 400 40 0\n",
      "0.005 400 40 0.1\n"
     ]
    }
   ],
   "source": [
    "lrs_list = []\n",
    "epochs_list = []\n",
    "patience_list = []\n",
    "gaus_ratio_list = []\n",
    "\n",
    "for pth in pths:\n",
    "    pth = pth.split('\\\\')[7:][0]\n",
    "    lr = pth.split('_')[5]\n",
    "    lrs_list.append(lr)\n",
    "    epochs = pth.split('_')[7]\n",
    "    epochs_list.append(epochs)\n",
    "    patience = pth.split('_')[9]\n",
    "    patience_list.append(patience)\n",
    "    gaus_ratio = pth.split('_')[12]\n",
    "    gaus_ratio_list.append(gaus_ratio)\n",
    "    print(lr,epochs,patience,gaus_ratio)"
   ],
   "metadata": {
    "collapsed": false,
    "ExecuteTime": {
     "end_time": "2024-04-04T23:03:25.863006100Z",
     "start_time": "2024-04-04T23:03:25.840006300Z"
    }
   },
   "id": "1b550ab99aa7562d",
   "execution_count": 146
  },
  {
   "cell_type": "code",
   "outputs": [
    {
     "name": "stdout",
     "output_type": "stream",
     "text": [
      "['monkey_12_12_2023_lr_0.0005_epochs_100_pt_10_gaus_ratio_0', 'monkey_12_12_2023_lr_0.0005_epochs_100_pt_10_gaus_ratio_0.1', 'monkey_12_12_2023_lr_0.0005_epochs_100_pt_20_gaus_ratio_0', 'monkey_12_12_2023_lr_0.0005_epochs_100_pt_20_gaus_ratio_0.1', 'monkey_12_12_2023_lr_0.0005_epochs_100_pt_30_gaus_ratio_0']\n"
     ]
    }
   ],
   "source": [
    "pth_models = [pth.split('\\\\')[7:][0] for pth in pths]\n",
    "print(pth_models[:5])"
   ],
   "metadata": {
    "collapsed": false,
    "ExecuteTime": {
     "end_time": "2024-04-04T23:04:41.224457Z",
     "start_time": "2024-04-04T23:04:41.203457100Z"
    }
   },
   "id": "5f1fdc127d353178",
   "execution_count": 151
  },
  {
   "cell_type": "code",
   "outputs": [],
   "source": [
    "lr_options = list(np.unique(lrs_list))\n",
    "epochs_options = list(np.unique(epochs_list))\n",
    "patience_options = list(np.unique(patience_list))\n",
    "gaus_ratio_options = list(np.unique(gaus_ratio_list))"
   ],
   "metadata": {
    "collapsed": false,
    "ExecuteTime": {
     "end_time": "2024-04-04T23:04:43.921912Z",
     "start_time": "2024-04-04T23:04:43.905911300Z"
    }
   },
   "id": "ca63e69b5ed89b73",
   "execution_count": 152
  },
  {
   "cell_type": "code",
   "outputs": [
    {
     "name": "stdout",
     "output_type": "stream",
     "text": [
      "['0.0005', '0.001', '0.003', '0.005']\n",
      "['100', '200', '400']\n",
      "['10', '20', '30', '40']\n",
      "['0', '0.1']\n"
     ]
    }
   ],
   "source": [
    "print(lr_options)\n",
    "print(epochs_options)\n",
    "print(patience_options)\n",
    "print(gaus_ratio_options)"
   ],
   "metadata": {
    "collapsed": false,
    "ExecuteTime": {
     "end_time": "2024-04-04T23:04:44.261268200Z",
     "start_time": "2024-04-04T23:04:44.237268400Z"
    }
   },
   "id": "dcb9b053a12fde9a",
   "execution_count": 153
  },
  {
   "cell_type": "code",
   "outputs": [],
   "source": [
    "total = len(lr_options)*len(epochs_options)*len(patience_options)*len(gaus_ratio_options)\n",
    "epochs_offset = total/len(gaus_ratio_options)/len(epochs_options)/len(lr_options)\n",
    "\n",
    "def get_xy_for_heatmap(lr, epochs, patience):\n",
    "    pt = str(patience)\n",
    "    epochs = str(epochs)\n",
    "    lr = str(lr)\n",
    "    \n",
    "    epoch_section = epochs_options.index(epochs)\n",
    "    lr_section = lr_options.index(lr)\n",
    "    \n",
    "    x = epochs_offset*epoch_section+lr_section\n",
    "    y = patience_options[::-1].index(pt)\n",
    "    \n",
    "    return int(x),int(y)"
   ],
   "metadata": {
    "collapsed": false,
    "ExecuteTime": {
     "end_time": "2024-04-04T23:04:45.311477200Z",
     "start_time": "2024-04-04T23:04:45.294477600Z"
    }
   },
   "id": "8ad0559f0fc0d08",
   "execution_count": 154
  },
  {
   "cell_type": "code",
   "outputs": [
    {
     "name": "stdout",
     "output_type": "stream",
     "text": [
      "0.0005 100 10 0\n",
      "0 3\n",
      "0.0005 100 10 0.1\n",
      "0 3\n",
      "0.0005 100 20 0\n",
      "0 2\n",
      "0.0005 100 20 0.1\n",
      "0 2\n",
      "0.0005 100 30 0\n",
      "0 1\n",
      "0.0005 100 30 0.1\n",
      "0 1\n",
      "0.0005 100 40 0\n",
      "0 0\n",
      "0.0005 100 40 0.1\n",
      "0 0\n",
      "0.0005 200 10 0\n",
      "4 3\n",
      "0.0005 200 10 0.1\n",
      "4 3\n",
      "0.0005 200 20 0\n",
      "4 2\n",
      "0.0005 200 20 0.1\n",
      "4 2\n",
      "0.0005 200 30 0\n",
      "4 1\n",
      "0.0005 200 30 0.1\n",
      "4 1\n",
      "0.0005 200 40 0\n",
      "4 0\n",
      "0.0005 200 40 0.1\n",
      "4 0\n",
      "0.0005 400 10 0\n",
      "8 3\n",
      "0.0005 400 10 0.1\n",
      "8 3\n",
      "0.0005 400 20 0\n",
      "8 2\n",
      "0.0005 400 20 0.1\n",
      "8 2\n",
      "0.0005 400 30 0\n",
      "8 1\n",
      "0.0005 400 30 0.1\n",
      "8 1\n",
      "0.0005 400 40 0\n",
      "8 0\n",
      "0.0005 400 40 0.1\n",
      "8 0\n",
      "0.001 100 10 0\n",
      "1 3\n",
      "0.001 100 10 0.1\n",
      "1 3\n",
      "0.001 100 20 0\n",
      "1 2\n",
      "0.001 100 20 0.1\n",
      "1 2\n",
      "0.001 100 30 0\n",
      "1 1\n",
      "0.001 100 30 0.1\n",
      "1 1\n",
      "0.001 100 40 0\n",
      "1 0\n",
      "0.001 100 40 0.1\n",
      "1 0\n",
      "0.001 200 10 0\n",
      "5 3\n",
      "0.001 200 10 0.1\n",
      "5 3\n",
      "0.001 200 20 0\n",
      "5 2\n",
      "0.001 200 20 0.1\n",
      "5 2\n",
      "0.001 200 30 0\n",
      "5 1\n",
      "0.001 200 30 0.1\n",
      "5 1\n",
      "0.001 200 40 0\n",
      "5 0\n",
      "0.001 200 40 0.1\n",
      "5 0\n",
      "0.001 400 10 0\n",
      "9 3\n",
      "0.001 400 10 0.1\n",
      "9 3\n",
      "0.001 400 20 0\n",
      "9 2\n",
      "0.001 400 20 0.1\n",
      "9 2\n",
      "0.001 400 30 0\n",
      "9 1\n",
      "0.001 400 30 0.1\n",
      "9 1\n",
      "0.001 400 40 0\n",
      "9 0\n",
      "0.001 400 40 0.1\n",
      "9 0\n",
      "0.003 100 10 0\n",
      "2 3\n",
      "0.003 100 10 0.1\n",
      "2 3\n",
      "0.003 100 20 0\n",
      "2 2\n",
      "0.003 100 20 0.1\n",
      "2 2\n",
      "0.003 100 30 0\n",
      "2 1\n",
      "0.003 100 30 0.1\n",
      "2 1\n",
      "0.003 100 40 0\n",
      "2 0\n",
      "0.003 100 40 0.1\n",
      "2 0\n",
      "0.003 200 10 0\n",
      "6 3\n",
      "0.003 200 10 0.1\n",
      "6 3\n",
      "0.003 200 20 0\n",
      "6 2\n",
      "0.003 200 20 0.1\n",
      "6 2\n",
      "0.003 200 30 0\n",
      "6 1\n",
      "0.003 200 30 0.1\n",
      "6 1\n",
      "0.003 200 40 0\n",
      "6 0\n",
      "0.003 200 40 0.1\n",
      "6 0\n",
      "0.003 400 10 0\n",
      "10 3\n",
      "0.003 400 10 0.1\n",
      "10 3\n",
      "0.003 400 20 0\n",
      "10 2\n",
      "0.003 400 20 0.1\n",
      "10 2\n",
      "0.003 400 30 0\n",
      "10 1\n",
      "0.003 400 30 0.1\n",
      "10 1\n",
      "0.003 400 40 0\n",
      "10 0\n",
      "0.003 400 40 0.1\n",
      "10 0\n",
      "0.005 100 10 0\n",
      "3 3\n",
      "0.005 100 10 0.1\n",
      "3 3\n",
      "0.005 100 20 0\n",
      "3 2\n",
      "0.005 100 20 0.1\n",
      "3 2\n",
      "0.005 100 30 0\n",
      "3 1\n",
      "0.005 100 30 0.1\n",
      "3 1\n",
      "0.005 100 40 0\n",
      "3 0\n",
      "0.005 100 40 0.1\n",
      "3 0\n",
      "0.005 200 10 0\n",
      "7 3\n",
      "0.005 200 10 0.1\n",
      "7 3\n",
      "0.005 200 20 0\n",
      "7 2\n",
      "0.005 200 20 0.1\n",
      "7 2\n",
      "0.005 200 30 0\n",
      "7 1\n",
      "0.005 200 30 0.1\n",
      "7 1\n",
      "0.005 200 40 0\n",
      "7 0\n",
      "0.005 200 40 0.1\n",
      "7 0\n",
      "0.005 400 10 0\n",
      "11 3\n",
      "0.005 400 10 0.1\n",
      "11 3\n",
      "0.005 400 20 0\n",
      "11 2\n",
      "0.005 400 20 0.1\n",
      "11 2\n",
      "0.005 400 30 0\n",
      "11 1\n",
      "0.005 400 30 0.1\n",
      "11 1\n",
      "0.005 400 40 0\n",
      "11 0\n",
      "0.005 400 40 0.1\n",
      "11 0\n"
     ]
    }
   ],
   "source": [
    "gaus_0_table = np.zeros(shape=(len(patience_options), len(lr_options)*len(epochs_options)))\n",
    "gaus_1_table = np.zeros(shape=(len(patience_options), len(lr_options)*len(epochs_options)))\n",
    "\n",
    "for i in range(len(pth_models)):\n",
    "    pth = pth_models[i]\n",
    "    mPQ = mPQs[i]\n",
    "    \n",
    "    lr = pth.split('_')[5]\n",
    "    epochs = pth.split('_')[7]\n",
    "    patience = pth.split('_')[9]\n",
    "    gaus_ratio = pth.split('_')[12]\n",
    "    \n",
    "    print(lr,epochs,patience,gaus_ratio)\n",
    "    \n",
    "    if gaus_ratio == '0':\n",
    "        x,y = get_xy_for_heatmap(lr, epochs, patience)\n",
    "        print(x,y)\n",
    "        gaus_0_table[y,x] = mPQ\n",
    "    else:\n",
    "        x,y = get_xy_for_heatmap(lr, epochs, patience)\n",
    "        print(x,y)\n",
    "        gaus_1_table[y,x] = mPQ"
   ],
   "metadata": {
    "collapsed": false,
    "ExecuteTime": {
     "end_time": "2024-04-04T23:05:13.606370300Z",
     "start_time": "2024-04-04T23:05:13.575494200Z"
    }
   },
   "id": "ddd8ac4d264f3b21",
   "execution_count": 157
  },
  {
   "cell_type": "code",
   "outputs": [],
   "source": [
    "import matplotlib.ticker as ticker"
   ],
   "metadata": {
    "collapsed": false,
    "ExecuteTime": {
     "end_time": "2024-04-04T23:05:16.802762Z",
     "start_time": "2024-04-04T23:05:16.776762200Z"
    }
   },
   "id": "4ccd36b4c584247",
   "execution_count": 158
  },
  {
   "cell_type": "code",
   "outputs": [],
   "source": [
    "exclude_cols = [0, 1, 2, 4, 5, 6, 8, 9, 10]"
   ],
   "metadata": {
    "collapsed": false,
    "ExecuteTime": {
     "end_time": "2024-04-04T23:05:18.555555500Z",
     "start_time": "2024-04-04T23:05:18.527554800Z"
    }
   },
   "id": "55ee6b40fbbaaf1a",
   "execution_count": 159
  },
  {
   "cell_type": "code",
   "outputs": [],
   "source": [
    "dat = np.vstack([gaus_0_table[:,exclude_cols],gaus_1_table[:,exclude_cols]])"
   ],
   "metadata": {
    "collapsed": false,
    "ExecuteTime": {
     "end_time": "2024-04-04T23:05:18.918682700Z",
     "start_time": "2024-04-04T23:05:18.889678600Z"
    }
   },
   "id": "594bedfa279038ab",
   "execution_count": 160
  },
  {
   "cell_type": "code",
   "outputs": [
    {
     "data": {
      "text/plain": "array([[0.49853227, 0.50786807, 0.4813994 , 0.50550124, 0.50103186,\n        0.48463181, 0.50454341, 0.50184812, 0.48706633],\n       [0.50429946, 0.52347345, 0.48534981, 0.49552078, 0.48742537,\n        0.50901875, 0.46267258, 0.50382122, 0.49754457],\n       [0.50470081, 0.50007816, 0.49331947, 0.50509949, 0.52315142,\n        0.50568549, 0.49994916, 0.51824148, 0.47856461],\n       [0.51182712, 0.52443378, 0.50520324, 0.51602955, 0.51458155,\n        0.47734402, 0.50292329, 0.52162474, 0.50092376],\n       [0.47730795, 0.50551357, 0.48049508, 0.50737586, 0.51509974,\n        0.48349023, 0.48094219, 0.50191931, 0.47311416],\n       [0.5053244 , 0.49272708, 0.49472849, 0.49332091, 0.50170282,\n        0.46771079, 0.49243161, 0.50896451, 0.48259597],\n       [0.50957069, 0.50124815, 0.48402825, 0.50580183, 0.50024036,\n        0.47719683, 0.50168054, 0.49503569, 0.50065871],\n       [0.50720438, 0.50391222, 0.4932549 , 0.51437152, 0.49390445,\n        0.4974395 , 0.4713856 , 0.499224  , 0.45728334]])"
     },
     "execution_count": 161,
     "metadata": {},
     "output_type": "execute_result"
    }
   ],
   "source": [
    "dat"
   ],
   "metadata": {
    "collapsed": false,
    "ExecuteTime": {
     "end_time": "2024-04-04T23:05:19.343649700Z",
     "start_time": "2024-04-04T23:05:19.312650Z"
    }
   },
   "id": "d8d5a3ab3d913c49",
   "execution_count": 161
  },
  {
   "cell_type": "code",
   "outputs": [
    {
     "data": {
      "text/plain": "['0.0005',\n '0.001',\n '0.003',\n '0.0005',\n '0.001',\n '0.003',\n '0.0005',\n '0.001',\n '0.003']"
     },
     "execution_count": 162,
     "metadata": {},
     "output_type": "execute_result"
    }
   ],
   "source": [
    "lr_options[0:3]*3"
   ],
   "metadata": {
    "collapsed": false,
    "ExecuteTime": {
     "end_time": "2024-04-04T23:05:21.965293700Z",
     "start_time": "2024-04-04T23:05:21.935293600Z"
    }
   },
   "id": "7825be8865cc08de",
   "execution_count": 162
  },
  {
   "cell_type": "code",
   "outputs": [
    {
     "data": {
      "text/plain": "<Figure size 1000x1000 with 1 Axes>",
      "image/png": "[encoded data removed]"
     },
     "metadata": {},
     "output_type": "display_data"
    }
   ],
   "source": [
    "fig, ax = plt.subplots(figsize=(10,10))\n",
    "#ax.imshow(dat, cmap='coolwarm', interpolation='nearest')\n",
    "#cmap_rev = plt.cm.get_cmap('summer')\n",
    "ax.imshow(dat, cmap='summer_r', interpolation='nearest')\n",
    "ax.grid(False)\n",
    "\n",
    "x_labs = lr_options[0:3]*3\n",
    "y_labs = patience_options[::-1]*2\n",
    "\n",
    "ax.set_xticks(np.arange(len(x_labs)))\n",
    "ax.set_xticklabels(x_labs,rotation=60)\n",
    "\n",
    "ax.set_yticks(np.arange(len(y_labs)))\n",
    "ax.set_yticklabels(y_labs)\n",
    "ax.set_xlabel('Learning Rate')\n",
    "ax.set_ylabel('Patience')\n",
    "\n",
    "lab = [\"100\", \"200\", \"300\"]\n",
    "\n",
    "#ax2 = ax.secondary_xaxis('bottom')\n",
    "ax2 = ax.secondary_xaxis(-0.13)\n",
    "ax2.tick_params('both', length=10, width=0, which='minor')\n",
    "ax2.tick_params('both', direction='in', which='major', labelsize=10, width=1, length=20)\n",
    "ax2.set_xticks([-.5, 2.5, 5.5, 8.5])\n",
    "ax2.xaxis.set_major_formatter(ticker.NullFormatter())\n",
    "\n",
    "ax2.xaxis.set_minor_locator(ticker.FixedLocator([1, 4, 7]))\n",
    "ax2.xaxis.set_minor_formatter(ticker.FixedFormatter(['100', '200', '400']))\n",
    "\n",
    "ax2.set_xlabel('Epochs')\n",
    "\n",
    "ax3 = ax.secondary_yaxis(-0.11)\n",
    "ax3.tick_params('both', length=10, width=0, which='minor')\n",
    "ax3.tick_params('both', direction='in', which='major', labelsize=10, width=1, length=20)\n",
    "ax3.set_yticks([-.5, 3.5, 7.5])\n",
    "ax3.yaxis.set_major_formatter(ticker.NullFormatter())\n",
    "\n",
    "ax3.yaxis.set_minor_locator(ticker.FixedLocator([1.5, 6.5]))\n",
    "ax3.yaxis.set_minor_formatter(ticker.FixedFormatter(['0', '0.1']))\n",
    "\n",
    "ax3.set_ylabel('Gaussian Smoothing Value')\n",
    "\n",
    "# Add annotations\n",
    "for i in range(len(y_labs)):\n",
    "    for j in range(len(x_labs)):\n",
    "        text = ax.text(j, i, round(dat[i, j], 3), ha='center', va='center', color='black',fontsize=12)\n",
    "\n",
    "\n",
    "\n",
    "plt.title('mPQ Scores of Models',fontsize=20)\n",
    "#plt.savefig(r'C:\\Users\\Donald\\PycharmProjects\\monkey_nuc_segment\\Segmentation_Analysis\\monkey\\thesis\\figs\\mPQ_heatmap.png', bbox_inches='tight')\n",
    "\n",
    "plt.show()"
   ],
   "metadata": {
    "collapsed": false,
    "ExecuteTime": {
     "end_time": "2024-04-05T21:03:43.954393Z",
     "start_time": "2024-04-05T21:03:43.740392500Z"
    }
   },
   "id": "65ac9f549f0ed654",
   "execution_count": 176
  },
  {
   "cell_type": "code",
   "outputs": [],
   "source": [],
   "metadata": {
    "collapsed": false
   },
   "id": "90ad9b24b24a6c54"
  },
  {
   "cell_type": "code",
   "outputs": [],
   "source": [],
   "metadata": {
    "collapsed": false
   },
   "id": "89c181f43728ae39"
  },
  {
   "cell_type": "code",
   "outputs": [],
   "source": [],
   "metadata": {
    "collapsed": false
   },
   "id": "6ebbd20dc6b6fa07"
  },
  {
   "cell_type": "code",
   "outputs": [],
   "source": [
    "\"glue = sns.load_dataset(\"glue\") #.pivot(index=\"Model\", columns=\"Task\", values=\"Score\")\n",
    "dat = pd.DataFrame(gaus_0_table) #.pivot(index=\"Model\", columns=\"Task\", values=\"Score\")\n",
    "glue"
   ],
   "metadata": {
    "collapsed": false,
    "ExecuteTime": {
     "start_time": "2024-04-03T17:58:29.568252400Z"
    }
   },
   "id": "1871564c04e39490",
   "execution_count": null
  },
  {
   "cell_type": "code",
   "outputs": [
    {
     "ename": "IndexError",
     "evalue": "only integers, slices (`:`), ellipsis (`...`), numpy.newaxis (`None`) and integer or boolean arrays are valid indices",
     "output_type": "error",
     "traceback": [
      "\u001B[1;31m---------------------------------------------------------------------------\u001B[0m",
      "\u001B[1;31mIndexError\u001B[0m                                Traceback (most recent call last)",
      "Cell \u001B[1;32mIn[51], line 1\u001B[0m\n\u001B[1;32m----> 1\u001B[0m dat[\u001B[38;5;124m'\u001B[39m\u001B[38;5;124mPatience\u001B[39m\u001B[38;5;124m'\u001B[39m] \u001B[38;5;241m=\u001B[39m np\u001B[38;5;241m.\u001B[39marray([\u001B[38;5;241m40\u001B[39m,\u001B[38;5;241m30\u001B[39m,\u001B[38;5;241m20\u001B[39m,\u001B[38;5;241m10\u001B[39m])\n\u001B[0;32m      2\u001B[0m dat\u001B[38;5;241m.\u001B[39mpivot(columns\u001B[38;5;241m=\u001B[39m\u001B[38;5;124m'\u001B[39m\u001B[38;5;124mPatience\u001B[39m\u001B[38;5;124m'\u001B[39m)\n",
      "\u001B[1;31mIndexError\u001B[0m: only integers, slices (`:`), ellipsis (`...`), numpy.newaxis (`None`) and integer or boolean arrays are valid indices"
     ]
    }
   ],
   "source": [
    "dat['Patience'] = np.array([40,30,20,10])\n",
    "dat.pivot(columns='Patience')"
   ],
   "metadata": {
    "collapsed": false,
    "ExecuteTime": {
     "end_time": "2024-04-03T18:28:52.956412300Z",
     "start_time": "2024-04-03T18:28:52.930116600Z"
    }
   },
   "id": "5729dc4557dc43ac",
   "execution_count": 51
  },
  {
   "cell_type": "code",
   "outputs": [
    {
     "ename": "TypeError",
     "evalue": "'<' not supported between instances of 'ellipsis' and 'ellipsis'",
     "output_type": "error",
     "traceback": [
      "\u001B[1;31m---------------------------------------------------------------------------\u001B[0m",
      "\u001B[1;31mTypeError\u001B[0m                                 Traceback (most recent call last)",
      "Cell \u001B[1;32mIn[52], line 13\u001B[0m\n\u001B[0;32m     10\u001B[0m new_x_labels \u001B[38;5;241m=\u001B[39m [\u001B[38;5;241m.\u001B[39m\u001B[38;5;241m.\u001B[39m\u001B[38;5;241m.\u001B[39m] \u001B[38;5;66;03m# List of new x-axis labels\u001B[39;00m\n\u001B[0;32m     11\u001B[0m new_x_ticks \u001B[38;5;241m=\u001B[39m [\u001B[38;5;241m.\u001B[39m\u001B[38;5;241m.\u001B[39m\u001B[38;5;241m.\u001B[39m] \u001B[38;5;66;03m# List of new x-axis tick positions\u001B[39;00m\n\u001B[1;32m---> 13\u001B[0m \u001B[43max2\u001B[49m\u001B[38;5;241;43m.\u001B[39;49m\u001B[43mset_xticks\u001B[49m\u001B[43m(\u001B[49m\u001B[43mnew_x_ticks\u001B[49m\u001B[43m)\u001B[49m\n\u001B[0;32m     14\u001B[0m ax2\u001B[38;5;241m.\u001B[39mset_xticklabels(new_x_labels, rotation\u001B[38;5;241m=\u001B[39m\u001B[38;5;241m60\u001B[39m)\n\u001B[0;32m     15\u001B[0m ax2\u001B[38;5;241m.\u001B[39mset_xlabel(\u001B[38;5;124m'\u001B[39m\u001B[38;5;124mNew X-axis label\u001B[39m\u001B[38;5;124m'\u001B[39m)\n",
      "File \u001B[1;32m~\\anaconda3\\envs\\monkey_nuc_segment_v6\\lib\\site-packages\\matplotlib\\axes\\_base.py:73\u001B[0m, in \u001B[0;36m_axis_method_wrapper.__set_name__.<locals>.wrapper\u001B[1;34m(self, *args, **kwargs)\u001B[0m\n\u001B[0;32m     72\u001B[0m \u001B[38;5;28;01mdef\u001B[39;00m \u001B[38;5;21mwrapper\u001B[39m(\u001B[38;5;28mself\u001B[39m, \u001B[38;5;241m*\u001B[39margs, \u001B[38;5;241m*\u001B[39m\u001B[38;5;241m*\u001B[39mkwargs):\n\u001B[1;32m---> 73\u001B[0m     \u001B[38;5;28;01mreturn\u001B[39;00m get_method(\u001B[38;5;28mself\u001B[39m)(\u001B[38;5;241m*\u001B[39margs, \u001B[38;5;241m*\u001B[39m\u001B[38;5;241m*\u001B[39mkwargs)\n",
      "File \u001B[1;32m~\\anaconda3\\envs\\monkey_nuc_segment_v6\\lib\\site-packages\\matplotlib\\axis.py:2138\u001B[0m, in \u001B[0;36mAxis.set_ticks\u001B[1;34m(self, ticks, labels, minor, **kwargs)\u001B[0m\n\u001B[0;32m   2133\u001B[0m     first_key \u001B[38;5;241m=\u001B[39m \u001B[38;5;28mnext\u001B[39m(\u001B[38;5;28miter\u001B[39m(kwargs))\n\u001B[0;32m   2134\u001B[0m     \u001B[38;5;28;01mraise\u001B[39;00m \u001B[38;5;167;01mValueError\u001B[39;00m(\n\u001B[0;32m   2135\u001B[0m         \u001B[38;5;124mf\u001B[39m\u001B[38;5;124m\"\u001B[39m\u001B[38;5;124mIncorrect use of keyword argument \u001B[39m\u001B[38;5;132;01m{\u001B[39;00mfirst_key\u001B[38;5;132;01m!r}\u001B[39;00m\u001B[38;5;124m. Keyword arguments \u001B[39m\u001B[38;5;124m\"\u001B[39m\n\u001B[0;32m   2136\u001B[0m         \u001B[38;5;124m\"\u001B[39m\u001B[38;5;124mother than \u001B[39m\u001B[38;5;124m'\u001B[39m\u001B[38;5;124mminor\u001B[39m\u001B[38;5;124m'\u001B[39m\u001B[38;5;124m modify the text labels and can only be used if \u001B[39m\u001B[38;5;124m\"\u001B[39m\n\u001B[0;32m   2137\u001B[0m         \u001B[38;5;124m\"\u001B[39m\u001B[38;5;124m'\u001B[39m\u001B[38;5;124mlabels\u001B[39m\u001B[38;5;124m'\u001B[39m\u001B[38;5;124m are passed as well.\u001B[39m\u001B[38;5;124m\"\u001B[39m)\n\u001B[1;32m-> 2138\u001B[0m result \u001B[38;5;241m=\u001B[39m \u001B[38;5;28;43mself\u001B[39;49m\u001B[38;5;241;43m.\u001B[39;49m\u001B[43m_set_tick_locations\u001B[49m\u001B[43m(\u001B[49m\u001B[43mticks\u001B[49m\u001B[43m,\u001B[49m\u001B[43m \u001B[49m\u001B[43mminor\u001B[49m\u001B[38;5;241;43m=\u001B[39;49m\u001B[43mminor\u001B[49m\u001B[43m)\u001B[49m\n\u001B[0;32m   2139\u001B[0m \u001B[38;5;28;01mif\u001B[39;00m labels \u001B[38;5;129;01mis\u001B[39;00m \u001B[38;5;129;01mnot\u001B[39;00m \u001B[38;5;28;01mNone\u001B[39;00m:\n\u001B[0;32m   2140\u001B[0m     \u001B[38;5;28mself\u001B[39m\u001B[38;5;241m.\u001B[39mset_ticklabels(labels, minor\u001B[38;5;241m=\u001B[39mminor, \u001B[38;5;241m*\u001B[39m\u001B[38;5;241m*\u001B[39mkwargs)\n",
      "File \u001B[1;32m~\\anaconda3\\envs\\monkey_nuc_segment_v6\\lib\\site-packages\\matplotlib\\axis.py:2082\u001B[0m, in \u001B[0;36mAxis._set_tick_locations\u001B[1;34m(self, ticks, minor)\u001B[0m\n\u001B[0;32m   2079\u001B[0m \u001B[38;5;28;01mif\u001B[39;00m \u001B[38;5;28mlen\u001B[39m(ticks):\n\u001B[0;32m   2080\u001B[0m     \u001B[38;5;28;01mfor\u001B[39;00m axis \u001B[38;5;129;01min\u001B[39;00m \u001B[38;5;28mself\u001B[39m\u001B[38;5;241m.\u001B[39m_get_shared_axis():\n\u001B[0;32m   2081\u001B[0m         \u001B[38;5;66;03m# set_view_interval maintains any preexisting inversion.\u001B[39;00m\n\u001B[1;32m-> 2082\u001B[0m         \u001B[43maxis\u001B[49m\u001B[38;5;241;43m.\u001B[39;49m\u001B[43mset_view_interval\u001B[49m\u001B[43m(\u001B[49m\u001B[38;5;28;43mmin\u001B[39;49m\u001B[43m(\u001B[49m\u001B[43mticks\u001B[49m\u001B[43m)\u001B[49m\u001B[43m,\u001B[49m\u001B[43m \u001B[49m\u001B[38;5;28;43mmax\u001B[39;49m\u001B[43m(\u001B[49m\u001B[43mticks\u001B[49m\u001B[43m)\u001B[49m\u001B[43m)\u001B[49m\n\u001B[0;32m   2083\u001B[0m \u001B[38;5;28mself\u001B[39m\u001B[38;5;241m.\u001B[39maxes\u001B[38;5;241m.\u001B[39mstale \u001B[38;5;241m=\u001B[39m \u001B[38;5;28;01mTrue\u001B[39;00m\n\u001B[0;32m   2084\u001B[0m \u001B[38;5;28;01mif\u001B[39;00m minor:\n",
      "File \u001B[1;32m~\\anaconda3\\envs\\monkey_nuc_segment_v6\\lib\\site-packages\\matplotlib\\axis.py:2276\u001B[0m, in \u001B[0;36m_make_getset_interval.<locals>.setter\u001B[1;34m(self, vmin, vmax, ignore)\u001B[0m\n\u001B[0;32m   2274\u001B[0m oldmin, oldmax \u001B[38;5;241m=\u001B[39m getter(\u001B[38;5;28mself\u001B[39m)\n\u001B[0;32m   2275\u001B[0m \u001B[38;5;28;01mif\u001B[39;00m oldmin \u001B[38;5;241m<\u001B[39m oldmax:\n\u001B[1;32m-> 2276\u001B[0m     setter(\u001B[38;5;28mself\u001B[39m, \u001B[38;5;28;43mmin\u001B[39;49m\u001B[43m(\u001B[49m\u001B[43mvmin\u001B[49m\u001B[43m,\u001B[49m\u001B[43m \u001B[49m\u001B[43mvmax\u001B[49m\u001B[43m,\u001B[49m\u001B[43m \u001B[49m\u001B[43moldmin\u001B[49m\u001B[43m)\u001B[49m, \u001B[38;5;28mmax\u001B[39m(vmin, vmax, oldmax),\n\u001B[0;32m   2277\u001B[0m            ignore\u001B[38;5;241m=\u001B[39m\u001B[38;5;28;01mTrue\u001B[39;00m)\n\u001B[0;32m   2278\u001B[0m \u001B[38;5;28;01melse\u001B[39;00m:\n\u001B[0;32m   2279\u001B[0m     setter(\u001B[38;5;28mself\u001B[39m, \u001B[38;5;28mmax\u001B[39m(vmin, vmax, oldmin), \u001B[38;5;28mmin\u001B[39m(vmin, vmax, oldmax),\n\u001B[0;32m   2280\u001B[0m            ignore\u001B[38;5;241m=\u001B[39m\u001B[38;5;28;01mTrue\u001B[39;00m)\n",
      "\u001B[1;31mTypeError\u001B[0m: '<' not supported between instances of 'ellipsis' and 'ellipsis'"
     ]
    },
    {
     "data": {
      "text/plain": "<Figure size 640x480 with 3 Axes>",
      "image/png": "[encoded data removed]"
     },
     "metadata": {},
     "output_type": "display_data"
    }
   ],
   "source": [
    "import seaborn as sns\n",
    "\n",
    "dat = gaus_0_table\n",
    "heatmap = sns.heatmap(dat,cmap='cool')\n",
    "heatmap.set_xlabel('X-axis label')\n",
    "heatmap.set_ylabel('Y-axis label')\n",
    "heatmap.set_xticklabels(x_labs,rotation=60)\n",
    "\n",
    "ax2 = plt.twiny()\n",
    "new_x_labels = [...] # List of new x-axis labels\n",
    "new_x_ticks = [...] # List of new x-axis tick positions\n",
    "\n",
    "ax2.set_xticks(new_x_ticks)\n",
    "ax2.set_xticklabels(new_x_labels, rotation=60)\n",
    "ax2.set_xlabel('New X-axis label')\n",
    "\n",
    "plt.show()\n"
   ],
   "metadata": {
    "collapsed": false,
    "ExecuteTime": {
     "end_time": "2024-04-03T18:28:54.123822700Z",
     "start_time": "2024-04-03T18:28:53.280509500Z"
    }
   },
   "id": "9f308cc06834ee95",
   "execution_count": 52
  },
  {
   "cell_type": "code",
   "outputs": [
    {
     "data": {
      "text/plain": "<Figure size 640x480 with 2 Axes>",
      "image/png": "[encoded data removed]"
     },
     "metadata": {},
     "output_type": "display_data"
    }
   ],
   "source": [
    "import numpy as np\n",
    "import matplotlib.pyplot as plt\n",
    "import matplotlib.ticker as ticker\n",
    "\n",
    "fig1, ax1 = plt.subplots(1)\n",
    "# Some data\n",
    "x = np.arange(1,6)\n",
    "y = np.random.random(len(x))\n",
    "\n",
    "# First X-axis\n",
    "ax1.plot(x, y)\n",
    "ax1.set_xticks(x)\n",
    "ax1.set_xticklabels(['dog', 'cat', 'horse', 'lizard', 'crocodile'])\n",
    "ax1.yaxis.set_label_text(\"Sample data\")\n",
    "\n",
    "# Second X-axis\n",
    "ax2 = ax1.twiny()\n",
    "\n",
    "ax2.spines[\"bottom\"].set_position((\"axes\", -0.10))\n",
    "ax2.tick_params('both', length=0, width=0, which='minor')\n",
    "ax2.tick_params('both', direction='in', which='major')\n",
    "ax2.xaxis.set_ticks_position(\"bottom\")\n",
    "ax2.xaxis.set_label_position(\"bottom\")\n",
    " \n",
    "ax2.set_xticks([0.0, 0.6, 1.0])\n",
    "ax2.xaxis.set_major_formatter(ticker.NullFormatter())\n",
    "ax2.xaxis.set_minor_locator(ticker.FixedLocator([0.3, 0.8]))\n",
    "ax2.xaxis.set_minor_formatter(ticker.FixedFormatter(['mammal', 'reptiles']))\n",
    "\n",
    "# Third X-axis\n",
    "# ax3 = ax1.twiny()\n",
    "# \n",
    "# ax3.spines[\"bottom\"].set_position((\"axes\", -0.20))\n",
    "# ax3.tick_params('both', length=0, width=0, which='minor')\n",
    "# ax3.tick_params('both', direction='in', which='major')\n",
    "# ax3.xaxis.set_ticks_position(\"bottom\")\n",
    "# ax3.xaxis.set_label_position(\"bottom\")\n",
    "# \n",
    "# ax3.set_xticks([0.0, 1.0])\n",
    "# ax3.xaxis.set_major_formatter(ticker.NullFormatter())\n",
    "# ax3.xaxis.set_minor_locator(ticker.FixedLocator([0.5]))\n",
    "# ax3.xaxis.set_minor_formatter(ticker.FixedFormatter(['vertebrates']))\n",
    "\n",
    "ax1.grid(True)\n",
    "plt.show()"
   ],
   "metadata": {
    "collapsed": false,
    "ExecuteTime": {
     "end_time": "2024-04-03T18:29:05.991056Z",
     "start_time": "2024-04-03T18:29:05.903549800Z"
    }
   },
   "id": "2bf1deb0115578b7",
   "execution_count": 54
  },
  {
   "cell_type": "code",
   "outputs": [],
   "source": [
    "fig, ax = plt.subplots(figsize=(12, 6))\n",
    "ax.imshow(gaus_0_table, cmap='hot', interpolation='nearest')\n",
    "\n",
    "x_labs = lr_options*3\n",
    "y_labs = patience_options[::-1]\n",
    "\n",
    "ax.set_xticks(np.arange(len(x_labs)))\n",
    "ax.set_xticklabels(x_labs,rotation=60)\n",
    "\n",
    "ax.set_yticks(np.arange(len(y_labs)))\n",
    "ax.set_yticklabels(y_labs)\n",
    "\n",
    "# Second X-axis\n",
    "ax2 = ax.twiny()\n",
    "# ax2.set_xlim(ax.get_xlim())\n",
    "# ax2.set_xticks(np.arange(len(x_labs)))\n",
    "# ax2.set_xticks(np.arange(len(x_labs)))\n",
    "\n",
    "#plt.xlabel('lr')\n",
    "#plt.ylabel('Patience')\n",
    "plt.title('Means for Gauss = 0')\n",
    "plt.subplots_adjust(left=0.1, right=0.9, bottom=0.2, top=0.9)\n",
    "\n",
    "plt.show()"
   ],
   "metadata": {
    "collapsed": false,
    "ExecuteTime": {
     "end_time": "2024-04-03T17:58:29.572252200Z",
     "start_time": "2024-04-03T17:58:29.571252600Z"
    }
   },
   "id": "10c682f06a9e8e5b",
   "execution_count": null
  },
  {
   "cell_type": "code",
   "outputs": [],
   "source": [
    "# ax2.spines[\"bottom\"].set_position((\"axes\", -0.2))\n",
    "# ax2.tick_params('both', length=0, width=0, which='minor')\n",
    "# ax2.tick_params('both', direction='in', which='major')\n",
    "# ax2.xaxis.set_ticks_position(\"bottom\")\n",
    "# ax2.xaxis.set_label_position(\"bottom\")\n",
    "# \n",
    "# ax2.set_xticks([0.0, 0.33, 0.66,10])\n",
    "# ax2.xaxis.set_major_formatter(ticker.NullFormatter())\n",
    "# ax2.xaxis.set_minor_locator(ticker.FixedLocator([0.33/2, 0.66/2, 1/2]))\n",
    "# ax2.xaxis.set_minor_formatter(ticker.FixedFormatter(['mammal', 'reptiles', 'hi']))\n"
   ],
   "metadata": {
    "collapsed": false,
    "ExecuteTime": {
     "start_time": "2024-04-03T17:58:29.571252600Z"
    }
   },
   "id": "ac91eac28703cceb"
  },
  {
   "cell_type": "code",
   "outputs": [],
   "source": [
    "len(lr_options*3)"
   ],
   "metadata": {
    "collapsed": false,
    "ExecuteTime": {
     "start_time": "2024-04-03T17:58:29.572252200Z"
    }
   },
   "id": "9ed960ee107d187f",
   "execution_count": null
  },
  {
   "cell_type": "code",
   "outputs": [],
   "source": [
    "gaus_1_table"
   ],
   "metadata": {
    "collapsed": false,
    "ExecuteTime": {
     "end_time": "2024-04-03T17:58:29.573775900Z",
     "start_time": "2024-04-03T17:58:29.573252100Z"
    }
   },
   "id": "c5fd61418e1557df",
   "execution_count": null
  },
  {
   "cell_type": "code",
   "outputs": [],
   "source": [
    "epochs_offset"
   ],
   "metadata": {
    "collapsed": false,
    "ExecuteTime": {
     "start_time": "2024-04-03T17:58:29.573775900Z"
    }
   },
   "id": "49a8d9f23c30265e",
   "execution_count": null
  },
  {
   "cell_type": "code",
   "outputs": [],
   "source": [
    "patience_options[::-1].index('10')"
   ],
   "metadata": {
    "collapsed": false,
    "ExecuteTime": {
     "end_time": "2024-04-03T17:58:29.574281500Z",
     "start_time": "2024-04-03T17:58:29.574281500Z"
    }
   },
   "id": "f5ef19df4559127b",
   "execution_count": null
  },
  {
   "cell_type": "code",
   "outputs": [],
   "source": [
    "print(pt_offset)\n",
    "print(epochs_offset)\n",
    "print(gaus_ratio_offset)"
   ],
   "metadata": {
    "collapsed": false,
    "ExecuteTime": {
     "end_time": "2024-04-03T17:58:29.574281500Z",
     "start_time": "2024-04-03T17:58:29.574281500Z"
    }
   },
   "id": "7294d9fb0f93e0ca",
   "execution_count": null
  },
  {
   "cell_type": "code",
   "outputs": [],
   "source": [],
   "metadata": {
    "collapsed": false,
    "ExecuteTime": {
     "end_time": "2024-04-03T17:58:29.577282Z",
     "start_time": "2024-04-03T17:58:29.575282Z"
    }
   },
   "id": "1e93061373c2a665"
  }
 ],
 "metadata": {
  "kernelspec": {
   "display_name": "Python 3",
   "language": "python",
   "name": "python3"
  },
  "language_info": {
   "codemirror_mode": {
    "name": "ipython",
    "version": 2
   },
   "file_extension": ".py",
   "mimetype": "text/x-python",
   "name": "python",
   "nbconvert_exporter": "python",
   "pygments_lexer": "ipython2",
   "version": "2.7.6"
  }
 },
 "nbformat": 4,
 "nbformat_minor": 5
}
