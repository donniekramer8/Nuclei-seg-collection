{
 "cells": [
  {
   "cell_type": "code",
   "execution_count": 1,
   "metadata": {
    "ExecuteTime": {
     "end_time": "2023-12-14T21:04:53.121552900Z",
     "start_time": "2023-12-14T21:04:52.551271700Z"
    },
    "collapsed": true
   },
   "outputs": [],
   "source": [
    "import sys\n",
    "sys.path.insert(1, r'C:\\Users\\Donald\\PycharmProjects\\monkey_nuc_segment\\stardist\\monkey')\n",
    "from scoring_for_donald import TileSetScorer, ScoringSubroutine"
   ]
  },
  {
   "cell_type": "code",
   "execution_count": 2,
   "metadata": {
    "ExecuteTime": {
     "end_time": "2023-12-14T21:04:56.283165100Z",
     "start_time": "2023-12-14T21:04:53.123549600Z"
    },
    "collapsed": false
   },
   "outputs": [],
   "source": [
    "from __future__ import print_function, unicode_literals, absolute_import, division\n",
    "import sys\n",
    "import numpy as np\n",
    "import matplotlib\n",
    "import json\n",
    "matplotlib.rcParams[\"image.interpolation\"] = 'nearest'\n",
    "import matplotlib.pyplot as plt\n",
    "import os\n",
    "from PIL import Image\n",
    "import tensorflow as tf\n",
    "from glob import glob\n",
    "from tqdm import tqdm\n",
    "from tifffile import imread\n",
    "import struct\n",
    "import pandas as pd\n",
    "import cv2\n",
    "from csbdeep.utils import Path, normalize\n",
    "from glob import glob\n",
    "\n",
    "from stardist import fill_label_holes, random_label_cmap, calculate_extents, gputools_available\n",
    "from stardist.models import Config2D, StarDist2D, StarDistData2D"
   ]
  },
  {
   "cell_type": "code",
   "execution_count": 3,
   "metadata": {
    "ExecuteTime": {
     "end_time": "2023-12-14T21:04:56.299143900Z",
     "start_time": "2023-12-14T21:04:56.282168400Z"
    },
    "collapsed": false
   },
   "outputs": [],
   "source": [
    "def load_model(model_path: str) -> StarDist2D:\n",
    "    # Load StarDist model weights, configurations, and thresholds\n",
    "    with open(model_path + '\\\\config.json', 'r') as f:\n",
    "        config = json.load(f)\n",
    "    with open(model_path + '\\\\thresholds.json', 'r') as f:\n",
    "        thresh = json.load(f)\n",
    "    model = StarDist2D(config=Config2D(**config), basedir=model_path, name='offshoot_model')\n",
    "    model.thresholds = thresh\n",
    "    print('Overriding defaults:', model.thresholds, '\\n')\n",
    "    model.load_weights(model_path + '\\\\weights_best.h5')\n",
    "    return model"
   ]
  },
  {
   "cell_type": "code",
   "execution_count": 4,
   "metadata": {
    "ExecuteTime": {
     "end_time": "2023-12-14T21:05:05.809640600Z",
     "start_time": "2023-12-14T21:04:56.297150500Z"
    },
    "collapsed": false
   },
   "outputs": [
    {
     "name": "stderr",
     "output_type": "stream",
     "text": [
      "base_model.py (149): output path for model already exists, files may be overwritten: \\\\10.99.68.178\\andreex\\data\\Stardist\\12_12_hyperparameter_models\\monkey_12_12_2023_lr_0.001_epochs_400_pt_10_gaus_ratio_0\\offshoot_model\n"
     ]
    },
    {
     "name": "stdout",
     "output_type": "stream",
     "text": [
      "Using default values: prob_thresh=0.5, nms_thresh=0.4.\n",
      "Overriding defaults: Thresholds(prob=0.6883699162882626, nms=0.3) \n",
      "\n"
     ]
    }
   ],
   "source": [
    "model = load_model(r'\\\\10.99.68.178\\andreex\\data\\Stardist\\12_12_hyperparameter_models\\monkey_12_12_2023_lr_0.001_epochs_400_pt_10_gaus_ratio_0')"
   ]
  },
  {
   "cell_type": "code",
   "execution_count": 5,
   "metadata": {
    "ExecuteTime": {
     "end_time": "2023-12-14T21:05:08.841297200Z",
     "start_time": "2023-12-14T21:05:05.812630500Z"
    },
    "collapsed": false
   },
   "outputs": [],
   "source": [
    "# load tile images and masks\n",
    "pthHE = r'\\\\10.99.68.178\\andreex\\data\\Stardist\\Testing\\monkey\\tiles'\n",
    "pthmasks = r'\\\\10.99.68.178\\andreex\\data\\Stardist\\Testing\\monkey\\qupath\\ground_truth\\masks'\n",
    "\n",
    "HE_tiles_pths = sorted(glob(os.path.join(pthHE,'*.tif')))\n",
    "mask_tiles_pths = sorted(glob(os.path.join(pthmasks,'*.tif')))\n",
    "\n",
    "HE_tiles = list(map(imread,HE_tiles_pths))\n",
    "mask_tiles = list(map(imread,mask_tiles_pths))\n",
    "\n",
    "HE_tiles_default = [normalize(x) for x in HE_tiles]  # just divide by 255 to get into (0,1) range\n",
    "mask_tiles_default = [fill_label_holes(y) for y in mask_tiles]  # fills holes in annotations if there are any\n",
    "\n",
    "HE_tiles = [x/255 for x in HE_tiles]  # just divide by 255 to get into (0,1) range\n",
    "mask_tiles = [fill_label_holes(y) for y in mask_tiles]  # fills holes in annotations if there are any"
   ]
  },
  {
   "cell_type": "code",
   "execution_count": 6,
   "metadata": {
    "ExecuteTime": {
     "end_time": "2023-12-14T21:05:08.856630Z",
     "start_time": "2023-12-14T21:05:08.842294Z"
    },
    "collapsed": false
   },
   "outputs": [],
   "source": [
    "def get_predictions(model):\n",
    "    mask_val_pred = [model.predict_instances(x, n_tiles=model._guess_n_tiles(x), show_tile_progress=False)[0]\n",
    "              for x in tqdm(HE_tiles)]\n",
    "\n",
    "    return mask_val_pred"
   ]
  },
  {
   "cell_type": "code",
   "execution_count": 7,
   "metadata": {
    "ExecuteTime": {
     "end_time": "2023-12-14T21:05:37.103915Z",
     "start_time": "2023-12-14T21:05:08.857626600Z"
    },
    "collapsed": false
   },
   "outputs": [
    {
     "name": "stderr",
     "output_type": "stream",
     "text": [
      "100%|██████████| 36/36 [00:03<00:00, 10.64it/s]\n",
      "scoring_for_donald.py (62): The behavior of DataFrame concatenation with empty or all-NA entries is deprecated. In a future version, this will no longer exclude empty or all-NA columns when determining the result dtypes. To retain the old behavior, exclude the relevant entries before the concat operation.\n",
      "scoring_for_donald.py (62): The behavior of DataFrame concatenation with empty or all-NA entries is deprecated. In a future version, this will no longer exclude empty or all-NA columns when determining the result dtypes. To retain the old behavior, exclude the relevant entries before the concat operation.\n",
      "scoring_for_donald.py (62): The behavior of DataFrame concatenation with empty or all-NA entries is deprecated. In a future version, this will no longer exclude empty or all-NA columns when determining the result dtypes. To retain the old behavior, exclude the relevant entries before the concat operation.\n",
      "scoring_for_donald.py (62): The behavior of DataFrame concatenation with empty or all-NA entries is deprecated. In a future version, this will no longer exclude empty or all-NA columns when determining the result dtypes. To retain the old behavior, exclude the relevant entries before the concat operation.\n",
      "scoring_for_donald.py (62): The behavior of DataFrame concatenation with empty or all-NA entries is deprecated. In a future version, this will no longer exclude empty or all-NA columns when determining the result dtypes. To retain the old behavior, exclude the relevant entries before the concat operation.\n",
      "scoring_for_donald.py (62): The behavior of DataFrame concatenation with empty or all-NA entries is deprecated. In a future version, this will no longer exclude empty or all-NA columns when determining the result dtypes. To retain the old behavior, exclude the relevant entries before the concat operation.\n",
      "scoring_for_donald.py (62): The behavior of DataFrame concatenation with empty or all-NA entries is deprecated. In a future version, this will no longer exclude empty or all-NA columns when determining the result dtypes. To retain the old behavior, exclude the relevant entries before the concat operation.\n"
     ]
    },
    {
     "ename": "KeyboardInterrupt",
     "evalue": "",
     "output_type": "error",
     "traceback": [
      "\u001B[1;31m---------------------------------------------------------------------------\u001B[0m",
      "\u001B[1;31mKeyboardInterrupt\u001B[0m                         Traceback (most recent call last)",
      "Cell \u001B[1;32mIn[7], line 14\u001B[0m\n\u001B[0;32m     11\u001B[0m     score \u001B[38;5;241m=\u001B[39m TileSetScorer(nms, mask_tiles, predictions, [tau])\n\u001B[0;32m     12\u001B[0m     scores\u001B[38;5;241m.\u001B[39mappend(score)\n\u001B[1;32m---> 14\u001B[0m results \u001B[38;5;241m=\u001B[39m [score\u001B[38;5;241m.\u001B[39mscore_set() \u001B[38;5;28;01mfor\u001B[39;00m score \u001B[38;5;129;01min\u001B[39;00m scores]\n",
      "Cell \u001B[1;32mIn[7], line 14\u001B[0m, in \u001B[0;36m<listcomp>\u001B[1;34m(.0)\u001B[0m\n\u001B[0;32m     11\u001B[0m     score \u001B[38;5;241m=\u001B[39m TileSetScorer(nms, mask_tiles, predictions, [tau])\n\u001B[0;32m     12\u001B[0m     scores\u001B[38;5;241m.\u001B[39mappend(score)\n\u001B[1;32m---> 14\u001B[0m results \u001B[38;5;241m=\u001B[39m [\u001B[43mscore\u001B[49m\u001B[38;5;241;43m.\u001B[39;49m\u001B[43mscore_set\u001B[49m\u001B[43m(\u001B[49m\u001B[43m)\u001B[49m \u001B[38;5;28;01mfor\u001B[39;00m score \u001B[38;5;129;01min\u001B[39;00m scores]\n",
      "File \u001B[1;32m~\\PycharmProjects\\monkey_nuc_segment\\stardist\\monkey\\scoring_for_donald.py:59\u001B[0m, in \u001B[0;36mTileSetScorer.score_set\u001B[1;34m(self)\u001B[0m\n\u001B[0;32m     57\u001B[0m results \u001B[38;5;241m=\u001B[39m {\u001B[38;5;124m'\u001B[39m\u001B[38;5;124mImage\u001B[39m\u001B[38;5;124m'\u001B[39m: [base_name], \u001B[38;5;124m'\u001B[39m\u001B[38;5;124mTau\u001B[39m\u001B[38;5;124m'\u001B[39m: [tau]}\n\u001B[0;32m     58\u001B[0m offset \u001B[38;5;241m=\u001B[39m \u001B[38;5;28mlen\u001B[39m(results)\n\u001B[1;32m---> 59\u001B[0m scores \u001B[38;5;241m=\u001B[39m \u001B[43mScoringSubroutine\u001B[49m\u001B[43m(\u001B[49m\u001B[43mgt\u001B[49m\u001B[43m,\u001B[49m\u001B[43m \u001B[49m\u001B[43mpred\u001B[49m\u001B[43m,\u001B[49m\u001B[43m \u001B[49m\u001B[43mtau\u001B[49m\u001B[43m)\u001B[49m\u001B[38;5;241m.\u001B[39mscores\n\u001B[0;32m     60\u001B[0m \u001B[38;5;28;01mfor\u001B[39;00m j, score \u001B[38;5;129;01min\u001B[39;00m \u001B[38;5;28menumerate\u001B[39m(scores):\n\u001B[0;32m     61\u001B[0m     results[columns[j \u001B[38;5;241m+\u001B[39m offset]] \u001B[38;5;241m=\u001B[39m score\n",
      "File \u001B[1;32m~\\PycharmProjects\\monkey_nuc_segment\\stardist\\monkey\\scoring_for_donald.py:80\u001B[0m, in \u001B[0;36mScoringSubroutine.__init__\u001B[1;34m(self, gt, pred, tau)\u001B[0m\n\u001B[0;32m     78\u001B[0m gt_centroids \u001B[38;5;241m=\u001B[39m \u001B[38;5;28mself\u001B[39m\u001B[38;5;241m.\u001B[39mfind_centroids(gt)\n\u001B[0;32m     79\u001B[0m pred_centroids \u001B[38;5;241m=\u001B[39m \u001B[38;5;28mself\u001B[39m\u001B[38;5;241m.\u001B[39mfind_centroids(pred)\n\u001B[1;32m---> 80\u001B[0m \u001B[38;5;28mself\u001B[39m\u001B[38;5;241m.\u001B[39mscores \u001B[38;5;241m=\u001B[39m \u001B[38;5;28;43mself\u001B[39;49m\u001B[38;5;241;43m.\u001B[39;49m\u001B[43mcalculate_scores\u001B[49m\u001B[43m(\u001B[49m\u001B[43mgt\u001B[49m\u001B[43m,\u001B[49m\u001B[43m \u001B[49m\u001B[43mpred\u001B[49m\u001B[43m,\u001B[49m\u001B[43m \u001B[49m\u001B[43mtau\u001B[49m\u001B[43m,\u001B[49m\u001B[43m \u001B[49m\u001B[43mgt_centroids\u001B[49m\u001B[43m,\u001B[49m\u001B[43m \u001B[49m\u001B[43mpred_centroids\u001B[49m\u001B[43m)\u001B[49m\n",
      "File \u001B[1;32m~\\PycharmProjects\\monkey_nuc_segment\\stardist\\monkey\\scoring_for_donald.py:98\u001B[0m, in \u001B[0;36mScoringSubroutine.calculate_scores\u001B[1;34m(self, gt, pred, tau, gt_centroids, pred_centroids)\u001B[0m\n\u001B[0;32m     96\u001B[0m iou \u001B[38;5;241m=\u001B[39m \u001B[38;5;28mself\u001B[39m\u001B[38;5;241m.\u001B[39mcalc_iou(gt, pred)\n\u001B[0;32m     97\u001B[0m tp, fp, seg_qual \u001B[38;5;241m=\u001B[39m \u001B[38;5;28mself\u001B[39m\u001B[38;5;241m.\u001B[39mcalc_tp_fp_sg(gt, pred, tau, pred_centroids)\n\u001B[1;32m---> 98\u001B[0m fn \u001B[38;5;241m=\u001B[39m \u001B[38;5;28;43mself\u001B[39;49m\u001B[38;5;241;43m.\u001B[39;49m\u001B[43mcalc_fn\u001B[49m\u001B[43m(\u001B[49m\u001B[43mgt\u001B[49m\u001B[43m,\u001B[49m\u001B[43m \u001B[49m\u001B[43mpred\u001B[49m\u001B[43m,\u001B[49m\u001B[43m \u001B[49m\u001B[43mtau\u001B[49m\u001B[43m,\u001B[49m\u001B[43m \u001B[49m\u001B[43mgt_centroids\u001B[49m\u001B[43m)\u001B[49m\n\u001B[0;32m     99\u001B[0m \u001B[38;5;28;01mif\u001B[39;00m \u001B[38;5;129;01mnot\u001B[39;00m tp:\n\u001B[0;32m    100\u001B[0m     precision, recall, avg_precision, f1 \u001B[38;5;241m=\u001B[39m \u001B[38;5;241m0\u001B[39m, \u001B[38;5;241m0\u001B[39m, \u001B[38;5;241m0\u001B[39m, \u001B[38;5;241m0\u001B[39m\n",
      "File \u001B[1;32m~\\PycharmProjects\\monkey_nuc_segment\\stardist\\monkey\\scoring_for_donald.py:149\u001B[0m, in \u001B[0;36mScoringSubroutine.calc_fn\u001B[1;34m(self, gt, pred, tau, gt_centroids)\u001B[0m\n\u001B[0;32m    147\u001B[0m binary_mask_gt \u001B[38;5;241m=\u001B[39m (gt \u001B[38;5;241m==\u001B[39m gt_val_at_gt_centroid)\n\u001B[0;32m    148\u001B[0m binary_mask_pred \u001B[38;5;241m=\u001B[39m (pred \u001B[38;5;241m==\u001B[39m pred_val_at_gt_centroid)\n\u001B[1;32m--> 149\u001B[0m iou \u001B[38;5;241m=\u001B[39m \u001B[38;5;28;43mself\u001B[39;49m\u001B[38;5;241;43m.\u001B[39;49m\u001B[43mcalc_iou\u001B[49m\u001B[43m(\u001B[49m\u001B[43mbinary_mask_gt\u001B[49m\u001B[43m,\u001B[49m\u001B[43m \u001B[49m\u001B[43mbinary_mask_pred\u001B[49m\u001B[43m)\u001B[49m\n\u001B[0;32m    150\u001B[0m \u001B[38;5;28;01mif\u001B[39;00m iou \u001B[38;5;241m<\u001B[39m tau:\n\u001B[0;32m    151\u001B[0m     fn \u001B[38;5;241m+\u001B[39m\u001B[38;5;241m=\u001B[39m \u001B[38;5;241m1\u001B[39m\n",
      "File \u001B[1;32m~\\PycharmProjects\\monkey_nuc_segment\\stardist\\monkey\\scoring_for_donald.py:114\u001B[0m, in \u001B[0;36mScoringSubroutine.calc_iou\u001B[1;34m(array1, array2)\u001B[0m\n\u001B[0;32m    112\u001B[0m intersection \u001B[38;5;241m=\u001B[39m np\u001B[38;5;241m.\u001B[39mlogical_and(array1, array2)\n\u001B[0;32m    113\u001B[0m union \u001B[38;5;241m=\u001B[39m np\u001B[38;5;241m.\u001B[39mlogical_or(array1, array2)\n\u001B[1;32m--> 114\u001B[0m intersection_area \u001B[38;5;241m=\u001B[39m \u001B[43mnp\u001B[49m\u001B[38;5;241;43m.\u001B[39;49m\u001B[43msum\u001B[49m\u001B[43m(\u001B[49m\u001B[43mintersection\u001B[49m\u001B[43m)\u001B[49m\n\u001B[0;32m    115\u001B[0m union_area \u001B[38;5;241m=\u001B[39m np\u001B[38;5;241m.\u001B[39msum(union)\n\u001B[0;32m    116\u001B[0m \u001B[38;5;28;01mreturn\u001B[39;00m intersection_area \u001B[38;5;241m/\u001B[39m union_area\n",
      "File \u001B[1;32m<__array_function__ internals>:180\u001B[0m, in \u001B[0;36msum\u001B[1;34m(*args, **kwargs)\u001B[0m\n",
      "File \u001B[1;32mc:\\Users\\Donald\\anaconda3\\envs\\monkey_nuc_segment_v6\\lib\\site-packages\\numpy\\core\\fromnumeric.py:2298\u001B[0m, in \u001B[0;36msum\u001B[1;34m(a, axis, dtype, out, keepdims, initial, where)\u001B[0m\n\u001B[0;32m   2295\u001B[0m         \u001B[38;5;28;01mreturn\u001B[39;00m out\n\u001B[0;32m   2296\u001B[0m     \u001B[38;5;28;01mreturn\u001B[39;00m res\n\u001B[1;32m-> 2298\u001B[0m \u001B[38;5;28;01mreturn\u001B[39;00m \u001B[43m_wrapreduction\u001B[49m\u001B[43m(\u001B[49m\u001B[43ma\u001B[49m\u001B[43m,\u001B[49m\u001B[43m \u001B[49m\u001B[43mnp\u001B[49m\u001B[38;5;241;43m.\u001B[39;49m\u001B[43madd\u001B[49m\u001B[43m,\u001B[49m\u001B[43m \u001B[49m\u001B[38;5;124;43m'\u001B[39;49m\u001B[38;5;124;43msum\u001B[39;49m\u001B[38;5;124;43m'\u001B[39;49m\u001B[43m,\u001B[49m\u001B[43m \u001B[49m\u001B[43maxis\u001B[49m\u001B[43m,\u001B[49m\u001B[43m \u001B[49m\u001B[43mdtype\u001B[49m\u001B[43m,\u001B[49m\u001B[43m \u001B[49m\u001B[43mout\u001B[49m\u001B[43m,\u001B[49m\u001B[43m \u001B[49m\u001B[43mkeepdims\u001B[49m\u001B[38;5;241;43m=\u001B[39;49m\u001B[43mkeepdims\u001B[49m\u001B[43m,\u001B[49m\n\u001B[0;32m   2299\u001B[0m \u001B[43m                      \u001B[49m\u001B[43minitial\u001B[49m\u001B[38;5;241;43m=\u001B[39;49m\u001B[43minitial\u001B[49m\u001B[43m,\u001B[49m\u001B[43m \u001B[49m\u001B[43mwhere\u001B[49m\u001B[38;5;241;43m=\u001B[39;49m\u001B[43mwhere\u001B[49m\u001B[43m)\u001B[49m\n",
      "File \u001B[1;32mc:\\Users\\Donald\\anaconda3\\envs\\monkey_nuc_segment_v6\\lib\\site-packages\\numpy\\core\\fromnumeric.py:86\u001B[0m, in \u001B[0;36m_wrapreduction\u001B[1;34m(obj, ufunc, method, axis, dtype, out, **kwargs)\u001B[0m\n\u001B[0;32m     83\u001B[0m         \u001B[38;5;28;01melse\u001B[39;00m:\n\u001B[0;32m     84\u001B[0m             \u001B[38;5;28;01mreturn\u001B[39;00m reduction(axis\u001B[38;5;241m=\u001B[39maxis, out\u001B[38;5;241m=\u001B[39mout, \u001B[38;5;241m*\u001B[39m\u001B[38;5;241m*\u001B[39mpasskwargs)\n\u001B[1;32m---> 86\u001B[0m \u001B[38;5;28;01mreturn\u001B[39;00m ufunc\u001B[38;5;241m.\u001B[39mreduce(obj, axis, dtype, out, \u001B[38;5;241m*\u001B[39m\u001B[38;5;241m*\u001B[39mpasskwargs)\n",
      "\u001B[1;31mKeyboardInterrupt\u001B[0m: "
     ]
    }
   ],
   "source": [
    "# variables for plotting and stuff\n",
    "nms = [os.path.basename(file) for file in HE_tiles_pths]\n",
    "\n",
    "taus = [0.5, 0.6, 0.7, 0.8, 0.9]\n",
    "\n",
    "'\n",
    "\n",
    "predictions = get_predictions(model)\n",
    "\n",
    "scores = []\n",
    "\n",
    "for tau in taus:\n",
    "    score = TileSetScorer(nms, mask_tiles, predictions, [tau])\n",
    "    scores.append(score)\n",
    "\n",
    "results = [score.score_set() for score in scores]"
   ]
  },
  {
   "cell_type": "code",
   "execution_count": null,
   "metadata": {
    "ExecuteTime": {
     "end_time": "2023-12-14T21:05:37.145192100Z",
     "start_time": "2023-12-14T21:05:37.104911700Z"
    }
   },
   "outputs": [
    {
     "data": {
      "text/html": [
       "<div>\n",
       "<style scoped>\n",
       "    .dataframe tbody tr th:only-of-type {\n",
       "        vertical-align: middle;\n",
       "    }\n",
       "\n",
       "    .dataframe tbody tr th {\n",
       "        vertical-align: top;\n",
       "    }\n",
       "\n",
       "    .dataframe thead th {\n",
       "        text-align: right;\n",
       "    }\n",
       "</style>\n",
       "<table border=\"1\" class=\"dataframe\">\n",
       "  <thead>\n",
       "    <tr style=\"text-align: right;\">\n",
       "      <th></th>\n",
       "      <th>Image</th>\n",
       "      <th>Tau</th>\n",
       "      <th>IoU</th>\n",
       "      <th>TP</th>\n",
       "      <th>FP</th>\n",
       "      <th>FN</th>\n",
       "      <th>Precision</th>\n",
       "      <th>Recall</th>\n",
       "      <th>Avg Precision</th>\n",
       "      <th>F1 Score</th>\n",
       "      <th>Seg Quality</th>\n",
       "      <th>Pan Quality</th>\n",
       "    </tr>\n",
       "  </thead>\n",
       "  <tbody>\n",
       "    <tr>\n",
       "      <th>0</th>\n",
       "      <td>monkey_fetus_40_0272_eyes1.tif</td>\n",
       "      <td>0.5</td>\n",
       "      <td>0.756306</td>\n",
       "      <td>170</td>\n",
       "      <td>16</td>\n",
       "      <td>28</td>\n",
       "      <td>0.913978</td>\n",
       "      <td>0.858586</td>\n",
       "      <td>0.794393</td>\n",
       "      <td>0.885417</td>\n",
       "      <td>0.825047</td>\n",
       "      <td>0.730511</td>\n",
       "    </tr>\n",
       "    <tr>\n",
       "      <th>1</th>\n",
       "      <td>monkey_fetus_40_0273_bone.tif</td>\n",
       "      <td>0.5</td>\n",
       "      <td>0.721545</td>\n",
       "      <td>40</td>\n",
       "      <td>6</td>\n",
       "      <td>16</td>\n",
       "      <td>0.869565</td>\n",
       "      <td>0.714286</td>\n",
       "      <td>0.645161</td>\n",
       "      <td>0.784314</td>\n",
       "      <td>0.789210</td>\n",
       "      <td>0.618988</td>\n",
       "    </tr>\n",
       "    <tr>\n",
       "      <th>2</th>\n",
       "      <td>monkey_fetus_40_0281_eyes2.tif</td>\n",
       "      <td>0.5</td>\n",
       "      <td>0.691126</td>\n",
       "      <td>170</td>\n",
       "      <td>15</td>\n",
       "      <td>71</td>\n",
       "      <td>0.918919</td>\n",
       "      <td>0.705394</td>\n",
       "      <td>0.664062</td>\n",
       "      <td>0.798122</td>\n",
       "      <td>0.764678</td>\n",
       "      <td>0.610306</td>\n",
       "    </tr>\n",
       "    <tr>\n",
       "      <th>3</th>\n",
       "      <td>monkey_fetus_40_0308_liver1.tif</td>\n",
       "      <td>0.5</td>\n",
       "      <td>0.813713</td>\n",
       "      <td>144</td>\n",
       "      <td>6</td>\n",
       "      <td>11</td>\n",
       "      <td>0.960000</td>\n",
       "      <td>0.929032</td>\n",
       "      <td>0.894410</td>\n",
       "      <td>0.944262</td>\n",
       "      <td>0.844399</td>\n",
       "      <td>0.797334</td>\n",
       "    </tr>\n",
       "    <tr>\n",
       "      <th>4</th>\n",
       "      <td>monkey_fetus_40_0323_ears1.tif</td>\n",
       "      <td>0.5</td>\n",
       "      <td>0.690478</td>\n",
       "      <td>180</td>\n",
       "      <td>54</td>\n",
       "      <td>52</td>\n",
       "      <td>0.769231</td>\n",
       "      <td>0.775862</td>\n",
       "      <td>0.629371</td>\n",
       "      <td>0.772532</td>\n",
       "      <td>0.732129</td>\n",
       "      <td>0.565593</td>\n",
       "    </tr>\n",
       "  </tbody>\n",
       "</table>\n",
       "</div>"
      ],
      "text/plain": [
       "                             Image  Tau       IoU   TP  FP  FN  Precision  \\\n",
       "0   monkey_fetus_40_0272_eyes1.tif  0.5  0.756306  170  16  28   0.913978   \n",
       "1    monkey_fetus_40_0273_bone.tif  0.5  0.721545   40   6  16   0.869565   \n",
       "2   monkey_fetus_40_0281_eyes2.tif  0.5  0.691126  170  15  71   0.918919   \n",
       "3  monkey_fetus_40_0308_liver1.tif  0.5  0.813713  144   6  11   0.960000   \n",
       "4   monkey_fetus_40_0323_ears1.tif  0.5  0.690478  180  54  52   0.769231   \n",
       "\n",
       "     Recall  Avg Precision  F1 Score  Seg Quality  Pan Quality  \n",
       "0  0.858586       0.794393  0.885417     0.825047     0.730511  \n",
       "1  0.714286       0.645161  0.784314     0.789210     0.618988  \n",
       "2  0.705394       0.664062  0.798122     0.764678     0.610306  \n",
       "3  0.929032       0.894410  0.944262     0.844399     0.797334  \n",
       "4  0.775862       0.629371  0.772532     0.732129     0.565593  "
      ]
     },
     "execution_count": 8,
     "metadata": {},
     "output_type": "execute_result"
    }
   ],
   "source": [
    "results[0].head()"
   ]
  },
  {
   "cell_type": "code",
   "execution_count": null,
   "metadata": {
    "ExecuteTime": {
     "end_time": "2023-12-14T21:05:37.196781Z",
     "start_time": "2023-12-14T21:05:37.135225500Z"
    },
    "collapsed": false
   },
   "outputs": [],
   "source": [
    "def find_first_unique_indices(lst):\n",
    "    unique_indices = {}\n",
    "    result = []\n",
    "\n",
    "    for i, value in enumerate(lst):\n",
    "        if value not in unique_indices:\n",
    "            unique_indices[value] = i\n",
    "\n",
    "    for value in lst:\n",
    "        result.append(unique_indices[value])\n",
    "\n",
    "    return result"
   ]
  },
  {
   "cell_type": "code",
   "execution_count": null,
   "metadata": {
    "ExecuteTime": {
     "end_time": "2023-12-14T21:05:37.205751600Z",
     "start_time": "2023-12-14T21:05:37.152168900Z"
    },
    "collapsed": false
   },
   "outputs": [],
   "source": [
    "def get_f1(tp, fp, fn):\n",
    "    precision = tp / (tp + fp)\n",
    "    recall = tp / (tp + fn)\n",
    "    avg_precision = tp / (tp + fp + fn)\n",
    "    f1 = 2 * precision * recall / (precision + recall)\n",
    "    return precision, recall, avg_precision, f1"
   ]
  },
  {
   "cell_type": "code",
   "execution_count": null,
   "metadata": {
    "ExecuteTime": {
     "end_time": "2023-12-14T21:05:37.216714300Z",
     "start_time": "2023-12-14T21:05:37.169871200Z"
    },
    "collapsed": false
   },
   "outputs": [],
   "source": [
    "def get_organ_f1(result):\n",
    "    names = result['Image']\n",
    "\n",
    "    names = [name.split(\".\")[0][21:] for name in names]\n",
    "\n",
    "    for i in range(len(names)):\n",
    "        #if len(names[i]) > 6:\n",
    "        names[i] = names[i][:2]\n",
    "\n",
    "    result_list = find_first_unique_indices(names)\n",
    "\n",
    "    f1_scores = result['F1 Score']\n",
    "\n",
    "    seen = []\n",
    "    names = []\n",
    "\n",
    "    raw_vals = result[['Image', 'TP', 'FP', 'FN', 'Avg Precision']]\n",
    "\n",
    "    TPs = [0 for _ in range(len(raw_vals))]\n",
    "    FPs = [0 for _ in range(len(raw_vals))]\n",
    "    FNs = [0 for _ in range(len(raw_vals))]\n",
    "    APs = [0 for _ in range(len(raw_vals))]\n",
    "\n",
    "    for i in range(len(raw_vals)):\n",
    "        row = raw_vals.iloc[i]\n",
    "        num = result_list[i]\n",
    "        if num not in seen:\n",
    "            names.append(raw_vals['Image'][i])\n",
    "            seen.append(num)\n",
    "\n",
    "        TPs[num] += row['TP']\n",
    "        FPs[num] += row['FP']\n",
    "        FNs[num] += row['FN']\n",
    "        APs[num] += row['Avg Precision']\n",
    "\n",
    "    organ_names = []\n",
    "    for i in range(len(names)):\n",
    "        nm = names[i][21:-4]\n",
    "        if nm[-1] == '1':\n",
    "            nm = nm[:-1]\n",
    "        organ_names.append(nm)\n",
    "\n",
    "    TPs = [val for val in TPs if val != 0]\n",
    "    FPs = [val for val in FPs if val != 0]\n",
    "    FNs = [val for val in FNs if val != 0]\n",
    "    APs = [val for val in APs if val != 0]\n",
    "\n",
    "    if [len(organ_names), len(TPs), len(FPs), len(FNs)] != [len(organ_names), len(organ_names), len(organ_names), len(organ_names)]:\n",
    "        print('skipped')\n",
    "        return 0\n",
    "\n",
    "    new_df = pd.DataFrame({'Organ': organ_names, 'TP': TPs, 'FP': FPs, 'FN': FNs, 'AP': APs})\n",
    "\n",
    "    precisions = []\n",
    "    recalls = []\n",
    "    f1s = []\n",
    "    APs = []\n",
    "\n",
    "    for i in range(len(new_df)):\n",
    "        row = new_df.iloc[i]\n",
    "\n",
    "        tp = row['TP']\n",
    "        fp = row['FP']\n",
    "        fn = row['FN']\n",
    "\n",
    "        precision, recall, avg_precision, f1 = get_f1(tp, fp, fn)\n",
    "        precisions.append(precision)\n",
    "        recalls.append(recall)\n",
    "        f1s.append(f1)\n",
    "        APs.append(avg_precision)\n",
    "\n",
    "    new_df['Recall'] = recalls\n",
    "    new_df['Precision'] = precisions\n",
    "    new_df['F1'] = f1s\n",
    "    new_df['AP'] = APs\n",
    "\n",
    "    return new_df"
   ]
  },
  {
   "cell_type": "code",
   "execution_count": null,
   "metadata": {
    "ExecuteTime": {
     "end_time": "2023-12-14T21:05:37.217711400Z",
     "start_time": "2023-12-14T21:05:37.196781Z"
    }
   },
   "outputs": [],
   "source": [
    "dfs = []\n",
    "for result in results:\n",
    "    df = get_organ_f1(result)\n",
    "    dfs.append(df)"
   ]
  },
  {
   "cell_type": "code",
   "execution_count": null,
   "metadata": {
    "ExecuteTime": {
     "end_time": "2023-12-14T21:05:37.217711400Z",
     "start_time": "2023-12-14T21:05:37.198774300Z"
    }
   },
   "outputs": [
    {
     "data": {
      "text/html": [
       "<div>\n",
       "<style scoped>\n",
       "    .dataframe tbody tr th:only-of-type {\n",
       "        vertical-align: middle;\n",
       "    }\n",
       "\n",
       "    .dataframe tbody tr th {\n",
       "        vertical-align: top;\n",
       "    }\n",
       "\n",
       "    .dataframe thead th {\n",
       "        text-align: right;\n",
       "    }\n",
       "</style>\n",
       "<table border=\"1\" class=\"dataframe\">\n",
       "  <thead>\n",
       "    <tr style=\"text-align: right;\">\n",
       "      <th></th>\n",
       "      <th>Organ</th>\n",
       "      <th>TP</th>\n",
       "      <th>FP</th>\n",
       "      <th>FN</th>\n",
       "      <th>AP</th>\n",
       "      <th>Recall</th>\n",
       "      <th>Precision</th>\n",
       "      <th>F1</th>\n",
       "    </tr>\n",
       "  </thead>\n",
       "  <tbody>\n",
       "    <tr>\n",
       "      <th>0</th>\n",
       "      <td>eyes</td>\n",
       "      <td>340</td>\n",
       "      <td>31</td>\n",
       "      <td>99</td>\n",
       "      <td>0.723404</td>\n",
       "      <td>0.774487</td>\n",
       "      <td>0.916442</td>\n",
       "      <td>0.839506</td>\n",
       "    </tr>\n",
       "    <tr>\n",
       "      <th>1</th>\n",
       "      <td>bone</td>\n",
       "      <td>117</td>\n",
       "      <td>11</td>\n",
       "      <td>49</td>\n",
       "      <td>0.661017</td>\n",
       "      <td>0.704819</td>\n",
       "      <td>0.914062</td>\n",
       "      <td>0.795918</td>\n",
       "    </tr>\n",
       "    <tr>\n",
       "      <th>2</th>\n",
       "      <td>liver</td>\n",
       "      <td>293</td>\n",
       "      <td>26</td>\n",
       "      <td>79</td>\n",
       "      <td>0.736181</td>\n",
       "      <td>0.787634</td>\n",
       "      <td>0.918495</td>\n",
       "      <td>0.848046</td>\n",
       "    </tr>\n",
       "    <tr>\n",
       "      <th>3</th>\n",
       "      <td>ears</td>\n",
       "      <td>274</td>\n",
       "      <td>70</td>\n",
       "      <td>106</td>\n",
       "      <td>0.608889</td>\n",
       "      <td>0.721053</td>\n",
       "      <td>0.796512</td>\n",
       "      <td>0.756906</td>\n",
       "    </tr>\n",
       "    <tr>\n",
       "      <th>4</th>\n",
       "      <td>brain</td>\n",
       "      <td>869</td>\n",
       "      <td>96</td>\n",
       "      <td>252</td>\n",
       "      <td>0.714051</td>\n",
       "      <td>0.775201</td>\n",
       "      <td>0.900518</td>\n",
       "      <td>0.833174</td>\n",
       "    </tr>\n",
       "  </tbody>\n",
       "</table>\n",
       "</div>"
      ],
      "text/plain": [
       "   Organ   TP  FP   FN        AP    Recall  Precision        F1\n",
       "0   eyes  340  31   99  0.723404  0.774487   0.916442  0.839506\n",
       "1   bone  117  11   49  0.661017  0.704819   0.914062  0.795918\n",
       "2  liver  293  26   79  0.736181  0.787634   0.918495  0.848046\n",
       "3   ears  274  70  106  0.608889  0.721053   0.796512  0.756906\n",
       "4  brain  869  96  252  0.714051  0.775201   0.900518  0.833174"
      ]
     },
     "execution_count": 13,
     "metadata": {},
     "output_type": "execute_result"
    }
   ],
   "source": [
    "dfs[0].head()"
   ]
  },
  {
   "cell_type": "code",
   "execution_count": null,
   "metadata": {
    "ExecuteTime": {
     "end_time": "2023-12-14T21:05:37.231664400Z",
     "start_time": "2023-12-14T21:05:37.216714300Z"
    }
   },
   "outputs": [],
   "source": [
    "def bulk_f1(df):    \n",
    "    tp = 0\n",
    "    fp = 0\n",
    "    fn = 0\n",
    "\n",
    "    for i in range(len(df)):\n",
    "        row = df.iloc[i]\n",
    "\n",
    "        tp += row['TP']\n",
    "        fp += row['FP']\n",
    "        fn += row['FN']\n",
    "\n",
    "    #print(tp)\n",
    "    #print(fp)\n",
    "    #print(fn)\n",
    "\n",
    "    precision, recall, avg_precision, f1 = get_f1(tp, fp, fn)\n",
    "\n",
    "    return f1"
   ]
  },
  {
   "cell_type": "code",
   "execution_count": null,
   "metadata": {
    "ExecuteTime": {
     "end_time": "2023-12-14T21:05:37.254587900Z",
     "start_time": "2023-12-14T21:05:37.230667800Z"
    }
   },
   "outputs": [],
   "source": [
    "def mean_avg_precision(df):    \n",
    "    MAP = 0\n",
    "\n",
    "    for i in range(len(df)):\n",
    "        row = df.iloc[i]\n",
    "\n",
    "        MAP += row['AP']\n",
    "\n",
    "    MAP = MAP/len(df)\n",
    "\n",
    "    return MAP"
   ]
  },
  {
   "cell_type": "code",
   "execution_count": null,
   "metadata": {
    "ExecuteTime": {
     "end_time": "2023-12-14T21:05:37.289470800Z",
     "start_time": "2023-12-14T21:05:37.245617400Z"
    }
   },
   "outputs": [],
   "source": [
    "f1s = []\n",
    "for df in dfs:\n",
    "    f1 = bulk_f1(df)\n",
    "    f1s.append(f1)"
   ]
  },
  {
   "cell_type": "code",
   "execution_count": null,
   "metadata": {
    "ExecuteTime": {
     "end_time": "2023-12-14T21:05:37.303424500Z",
     "start_time": "2023-12-14T21:05:37.260567600Z"
    }
   },
   "outputs": [],
   "source": [
    "mAPs = []\n",
    "for df in dfs:\n",
    "    mAP = mean_avg_precision(df)\n",
    "    mAPs.append(mAP)"
   ]
  },
  {
   "cell_type": "code",
   "execution_count": null,
   "metadata": {
    "ExecuteTime": {
     "end_time": "2023-12-14T21:05:37.304420600Z",
     "start_time": "2023-12-14T21:05:37.279504200Z"
    }
   },
   "outputs": [
    {
     "name": "stdout",
     "output_type": "stream",
     "text": [
      "[0.5, 0.6, 0.7, 0.8, 0.9]\n",
      "[0.6622550218559431, 0.5911165634917219, 0.4679371945161191, 0.2818643935075125, 0.040305406398221645]\n"
     ]
    }
   ],
   "source": [
    "print(taus)\n",
    "print(mAPs)"
   ]
  },
  {
   "cell_type": "code",
   "execution_count": null,
   "metadata": {
    "ExecuteTime": {
     "end_time": "2023-12-14T21:05:37.310400800Z",
     "start_time": "2023-12-14T21:05:37.293457500Z"
    }
   },
   "outputs": [
    {
     "name": "stdout",
     "output_type": "stream",
     "text": [
      "[0.5, 0.6, 0.7, 0.8, 0.9]\n",
      "[0.7909595431512908, 0.7355046240450342, 0.6261862634711276, 0.42355022922866564, 0.07431834633636289]\n"
     ]
    }
   ],
   "source": [
    "print(taus)\n",
    "print(f1s)"
   ]
  },
  {
   "cell_type": "code",
   "execution_count": null,
   "metadata": {
    "ExecuteTime": {
     "end_time": "2023-12-14T21:05:37.387183600Z",
     "start_time": "2023-12-14T21:05:37.309404Z"
    }
   },
   "outputs": [
    {
     "data": {
      "image/png": "[encoded data removed]",
      "text/plain": [
       "<Figure size 640x480 with 1 Axes>"
      ]
     },
     "metadata": {},
     "output_type": "display_data"
    }
   ],
   "source": [
    "plt.plot(taus, f1s, marker='o', linestyle='-')\n",
    "\n",
    "# Adding labels and title\n",
    "plt.xlabel('Tau')\n",
    "plt.ylabel('Accuracy: F1 Score')\n",
    "plt.title('Accuracy of our model')\n",
    "plt.xticks(taus)\n",
    "plt.ylim(0, 1)\n",
    "plt.grid('on')\n",
    "\n",
    "# Display the plot\n",
    "plt.show()"
   ]
  },
  {
   "cell_type": "code",
   "execution_count": null,
   "metadata": {
    "ExecuteTime": {
     "end_time": "2023-12-14T21:05:37.467894700Z",
     "start_time": "2023-12-14T21:05:37.388161400Z"
    }
   },
   "outputs": [
    {
     "data": {
      "image/png": "[encoded data removed]",
      "text/plain": [
       "<Figure size 640x480 with 1 Axes>"
      ]
     },
     "metadata": {},
     "output_type": "display_data"
    }
   ],
   "source": [
    "plt.plot(taus, mAPs, marker='o', linestyle='-')\n",
    "\n",
    "# Adding labels and title\n",
    "plt.xlabel('Tau')\n",
    "plt.ylabel('Accuracy: mAP')\n",
    "plt.title('Accuracy of old model')\n",
    "plt.xticks(taus)\n",
    "plt.ylim(0, 1)\n",
    "plt.grid('on')\n",
    "\n",
    "# Display the plot\n",
    "plt.show()"
   ]
  },
  {
   "cell_type": "code",
   "execution_count": null,
   "metadata": {
    "ExecuteTime": {
     "end_time": "2023-12-14T21:05:37.546916800Z",
     "start_time": "2023-12-14T21:05:37.466898200Z"
    }
   },
   "outputs": [
    {
     "name": "stdout",
     "output_type": "stream",
     "text": [
      "Area under the curve: 0.1692198365642436\n"
     ]
    }
   ],
   "source": [
    "import numpy as np\n",
    "from scipy import integrate\n",
    "\n",
    "area_under_curve = integrate.trapz(mAPs, taus)\n",
    "\n",
    "print(f\"Area under the curve: {area_under_curve}\")"
   ]
  },
  {
   "cell_type": "code",
   "execution_count": null,
   "metadata": {
    "ExecuteTime": {
     "end_time": "2023-12-14T21:05:37.547913500Z",
     "start_time": "2023-12-14T21:05:37.482844600Z"
    }
   },
   "outputs": [
    {
     "data": {
      "text/plain": [
       "0.4086957159539037"
      ]
     },
     "execution_count": 23,
     "metadata": {},
     "output_type": "execute_result"
    }
   ],
   "source": [
    "np.mean(mAPs)"
   ]
  },
  {
   "cell_type": "code",
   "execution_count": null,
   "metadata": {
    "ExecuteTime": {
     "end_time": "2023-12-14T21:05:37.547913500Z",
     "start_time": "2023-12-14T21:05:37.523993100Z"
    }
   },
   "outputs": [],
   "source": []
  }
 ],
 "metadata": {
  "kernelspec": {
   "display_name": "Python 3",
   "language": "python",
   "name": "python3"
  },
  "language_info": {
   "codemirror_mode": {
    "name": "ipython",
    "version": 3
   },
   "file_extension": ".py",
   "mimetype": "text/x-python",
   "name": "python",
   "nbconvert_exporter": "python",
   "pygments_lexer": "ipython3",
   "version": "3.9.18"
  }
 },
 "nbformat": 4,
 "nbformat_minor": 0
}
