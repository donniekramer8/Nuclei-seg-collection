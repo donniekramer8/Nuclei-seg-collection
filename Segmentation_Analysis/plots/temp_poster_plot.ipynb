{
 "cells": [
  {
   "cell_type": "code",
   "execution_count": 47,
   "metadata": {
    "collapsed": true,
    "ExecuteTime": {
     "end_time": "2023-12-08T22:59:56.521546300Z",
     "start_time": "2023-12-08T22:59:56.491848100Z"
    }
   },
   "outputs": [],
   "source": [
    "from scipy.io import loadmat\n",
    "import h5py\n",
    "import numpy as np\n",
    "import matplotlib.pyplot as plt"
   ]
  },
  {
   "cell_type": "code",
   "execution_count": 48,
   "outputs": [],
   "source": [
    "pth = r\"C:\\Users\\Donald\\Desktop\\cell_counts_bad3.mat\"\n",
    "\n",
    "try:\n",
    "    data = h5py.File(pth, 'r')\n",
    "except:\n",
    "    data = loadmat(pth)"
   ],
   "metadata": {
    "collapsed": false,
    "ExecuteTime": {
     "end_time": "2023-12-08T23:00:00.634117700Z",
     "start_time": "2023-12-08T23:00:00.610231800Z"
    }
   }
  },
  {
   "cell_type": "code",
   "execution_count": 53,
   "outputs": [],
   "source": [
    "counts = data['counts'][()]"
   ],
   "metadata": {
    "collapsed": false,
    "ExecuteTime": {
     "end_time": "2023-12-08T23:00:57.476455400Z",
     "start_time": "2023-12-08T23:00:57.465084400Z"
    }
   }
  },
  {
   "cell_type": "code",
   "execution_count": 57,
   "outputs": [],
   "source": [
    "titles = [\"BoneLimbs\",\n",
    "    \"BoneSpine\",\n",
    "    \"BoneRibs\",\n",
    "    \"BoneNotochord\",\n",
    "    \"BoneHyoid\",\n",
    "    \"BonePharyngeal/Head\",\n",
    "    \"BrainVentricular\",\n",
    "    \"BrainSubventricular\",\n",
    "    \"BrainMarginalLayer\",\n",
    "    \"BrainIntermediate\",\n",
    "    \"BrainCorticalPlate\",\n",
    "    \"BrainChoroidPlexus\",\n",
    "    \"BrainPituitary\",\n",
    "    \"BrainNeuralCanal\",\n",
    "    \"BrainGanglion\",\n",
    "    \"BrainNerve\",\n",
    "    \"EyeRPE\",\n",
    "    \"EyeOuterRetina\",\n",
    "    \"EyeInnerRetina\",\n",
    "    \"EyeLensEpithelium\",\n",
    "    \"EyeLensFibers\",\n",
    "    \"EyeNerve\",\n",
    "    \"EyeVasculature\",\n",
    "    \"EyeBP\",\n",
    "    \"HeartVentricularMyocardium\",\n",
    "    \"HeartAtria\",\n",
    "    \"HeartTrabeculae\",\n",
    "    \"HeartValves\",\n",
    "    \"HeartAorta\",\n",
    "    \"LungsBronchioles\",\n",
    "    \"LungsVasculature\",\n",
    "    \"LungsCollagen\",\n",
    "    \"GIEsophagus\",\n",
    "    \"GIStomach\",\n",
    "    \"GISmallIntestines\",\n",
    "    \"GILargeIntestines\",\n",
    "    \"GIGallbladderDucts\",\n",
    "    \"LiverBloodVessels\",\n",
    "    \"LiverLiverECM\",\n",
    "    \"LiverStroma\",\n",
    "    \"LiverGallbladder\",\n",
    "    \"AdrenalCortex\",\n",
    "    \"AdrenalFetalZone\",\n",
    "    \"AdrenalEndothelial\",\n",
    "    \"AdrenalUnknown\",\n",
    "    \"GonadCondensedMesenchyme\",\n",
    "    \"GonadEndothelial\",\n",
    "    \"KidneyUretericTree\",\n",
    "    \"KidneyrenalVesicle\",\n",
    "    \"KidneyCondensedMesenchyme\",\n",
    "    \"KidneyLooseStroma\",\n",
    "    \"MesokidneyGlomerulus\",\n",
    "    \"MesokidneyMesonephricTubule\",\n",
    "    \"MesokidneyBowmanCapsule\",\n",
    "    \"MesokidneyMesonephricDuct\",\n",
    "    \"MesokidneyParamesonephricDuct\",\n",
    "    \"CollagenSkinEpithelium\",\n",
    "    \"CollagenMesoderm\",\n",
    "    \"CollagenBloodVessels\",\n",
    "    \"CollagenMuscle\",\n",
    "    \"CollagenCondensedMesenchyme\",\n",
    "    \"EarCochlea\",\n",
    "    \"EarNerve\",\n",
    "    \"EarSemicircularCanals\",\n",
    "    \"EarCochlearDucts\",\n",
    "    \"ThymusThymus\",\n",
    "    \"ThyroidThyroid\",\n",
    "    \"ThyroidLobe\",\n",
    "    \"ThyroidIsthmus\",\n",
    "    \"Bladder\",\n",
    "    \"Skull\"]"
   ],
   "metadata": {
    "collapsed": false,
    "ExecuteTime": {
     "end_time": "2023-12-08T23:01:38.478345600Z",
     "start_time": "2023-12-08T23:01:38.461345700Z"
    }
   }
  },
  {
   "cell_type": "code",
   "execution_count": 58,
   "outputs": [
    {
     "data": {
      "text/plain": "array([[1.4638915e+07],\n       [1.1360942e+07],\n       [5.3315230e+06],\n       [2.0405600e+05],\n       [3.0169900e+05],\n       [1.3046291e+07],\n       [3.8565686e+07],\n       [1.8194793e+07],\n       [3.3477950e+06],\n       [4.2193811e+07],\n       [2.1665450e+06],\n       [2.2946660e+06],\n       [1.1753300e+05],\n       [2.3140600e+05],\n       [4.8043320e+06],\n       [2.1640470e+06],\n       [3.8826600e+05],\n       [1.4316080e+06],\n       [1.4338300e+05],\n       [7.9016000e+04],\n       [1.6607000e+04],\n       [1.0286000e+04],\n       [1.0980000e+04],\n       [1.3279000e+04],\n       [1.7810380e+06],\n       [8.7118800e+05],\n       [6.5905300e+05],\n       [1.8657900e+05],\n       [4.9281600e+05],\n       [7.1834300e+05],\n       [1.7556800e+05],\n       [4.4952650e+06],\n       [1.6938610e+06],\n       [5.3330600e+05],\n       [1.5568680e+06],\n       [3.0021100e+05],\n       [4.4056800e+05],\n       [7.5749100e+05],\n       [5.9011294e+07],\n       [4.2096900e+05],\n       [1.6729000e+04],\n       [9.5151100e+05],\n       [7.4477700e+05],\n       [8.8770000e+04],\n       [1.2551700e+05],\n       [2.0712300e+05],\n       [4.1842000e+05],\n       [1.9341000e+05],\n       [1.4605100e+05],\n       [4.7900400e+05],\n       [3.1384600e+05],\n       [1.5051400e+05],\n       [1.5376500e+05],\n       [6.5521000e+04],\n       [2.1174500e+05],\n       [1.6948000e+04],\n       [1.1176416e+07],\n       [9.9234118e+07],\n       [6.2008710e+06],\n       [3.3998767e+07],\n       [2.9757519e+07],\n       [3.1174800e+05],\n       [2.6761000e+05],\n       [2.6753400e+05],\n       [4.0223000e+04],\n       [5.9177900e+05],\n       [1.3798400e+05],\n       [1.4026700e+05],\n       [2.5313000e+04],\n       [6.3983000e+04],\n       [1.0951419e+07]])"
     },
     "execution_count": 58,
     "metadata": {},
     "output_type": "execute_result"
    }
   ],
   "source": [
    "counts"
   ],
   "metadata": {
    "collapsed": false,
    "ExecuteTime": {
     "end_time": "2023-12-08T23:01:40.899347800Z",
     "start_time": "2023-12-08T23:01:40.891348100Z"
    }
   }
  },
  {
   "cell_type": "code",
   "execution_count": 59,
   "outputs": [
    {
     "data": {
      "text/plain": "['BoneLimbs',\n 'BoneSpine',\n 'BoneRibs',\n 'BoneNotochord',\n 'BoneHyoid',\n 'BonePharyngeal/Head',\n 'BrainVentricular',\n 'BrainSubventricular',\n 'BrainMarginalLayer',\n 'BrainIntermediate',\n 'BrainCorticalPlate',\n 'BrainChoroidPlexus',\n 'BrainPituitary',\n 'BrainNeuralCanal',\n 'BrainGanglion',\n 'BrainNerve',\n 'EyeRPE',\n 'EyeOuterRetina',\n 'EyeInnerRetina',\n 'EyeLensEpithelium',\n 'EyeLensFibers',\n 'EyeNerve',\n 'EyeVasculature',\n 'EyeBP',\n 'HeartVentricularMyocardium',\n 'HeartAtria',\n 'HeartTrabeculae',\n 'HeartValves',\n 'HeartAorta',\n 'LungsBronchioles',\n 'LungsVasculature',\n 'LungsCollagen',\n 'GIEsophagus',\n 'GIStomach',\n 'GISmallIntestines',\n 'GILargeIntestines',\n 'GIGallbladderDucts',\n 'LiverBloodVessels',\n 'LiverLiverECM',\n 'LiverStroma',\n 'LiverGallbladder',\n 'AdrenalCortex',\n 'AdrenalFetalZone',\n 'AdrenalEndothelial',\n 'AdrenalUnknown',\n 'GonadCondensedMesenchyme',\n 'GonadEndothelial',\n 'KidneyUretericTree',\n 'KidneyrenalVesicle',\n 'KidneyCondensedMesenchyme',\n 'KidneyLooseStroma',\n 'MesokidneyGlomerulus',\n 'MesokidneyMesonephricTubule',\n 'MesokidneyBowmanCapsule',\n 'MesokidneyMesonephricDuct',\n 'MesokidneyParamesonephricDuct',\n 'CollagenSkinEpithelium',\n 'CollagenMesoderm',\n 'CollagenBloodVessels',\n 'CollagenMuscle',\n 'CollagenCondensedMesenchyme',\n 'EarCochlea',\n 'EarNerve',\n 'EarSemicircularCanals',\n 'EarCochlearDucts',\n 'ThymusThymus',\n 'ThyroidThyroid',\n 'ThyroidLobe',\n 'ThyroidIsthmus',\n 'Bladder',\n 'Skull']"
     },
     "execution_count": 59,
     "metadata": {},
     "output_type": "execute_result"
    }
   ],
   "source": [
    "titles"
   ],
   "metadata": {
    "collapsed": false,
    "ExecuteTime": {
     "end_time": "2023-12-08T23:01:42.398301Z",
     "start_time": "2023-12-08T23:01:42.364861700Z"
    }
   }
  },
  {
   "cell_type": "code",
   "execution_count": 60,
   "outputs": [
    {
     "name": "stdout",
     "output_type": "stream",
     "text": [
      "71\n",
      "71\n"
     ]
    }
   ],
   "source": [
    "print(len(counts))\n",
    "print(len(titles))"
   ],
   "metadata": {
    "collapsed": false,
    "ExecuteTime": {
     "end_time": "2023-12-08T23:01:53.920156200Z",
     "start_time": "2023-12-08T23:01:53.908156100Z"
    }
   }
  },
  {
   "cell_type": "code",
   "execution_count": 63,
   "outputs": [
    {
     "name": "stdout",
     "output_type": "stream",
     "text": [
      "<class 'list'>\n",
      "<class 'numpy.ndarray'>\n"
     ]
    }
   ],
   "source": [
    "print(type(titles))\n",
    "print(type(counts))"
   ],
   "metadata": {
    "collapsed": false,
    "ExecuteTime": {
     "end_time": "2023-12-08T23:03:14.623200Z",
     "start_time": "2023-12-08T23:03:14.615200100Z"
    }
   }
  },
  {
   "cell_type": "code",
   "execution_count": 66,
   "outputs": [],
   "source": [
    "counts2 = counts.tolist()"
   ],
   "metadata": {
    "collapsed": false,
    "ExecuteTime": {
     "end_time": "2023-12-08T23:04:03.125620Z",
     "start_time": "2023-12-08T23:04:03.116620Z"
    }
   }
  },
  {
   "cell_type": "code",
   "execution_count": 71,
   "outputs": [
    {
     "ename": "TypeError",
     "evalue": "only size-1 arrays can be converted to Python scalars",
     "output_type": "error",
     "traceback": [
      "\u001B[1;31m---------------------------------------------------------------------------\u001B[0m",
      "\u001B[1;31mTypeError\u001B[0m                                 Traceback (most recent call last)",
      "Cell \u001B[1;32mIn[71], line 1\u001B[0m\n\u001B[1;32m----> 1\u001B[0m \u001B[43mplt\u001B[49m\u001B[38;5;241;43m.\u001B[39;49m\u001B[43mbar\u001B[49m\u001B[43m(\u001B[49m\u001B[43mtitles\u001B[49m\u001B[43m,\u001B[49m\u001B[43m \u001B[49m\u001B[43mcounts\u001B[49m\u001B[38;5;241;43m.\u001B[39;49m\u001B[43mT\u001B[49m\u001B[43m)\u001B[49m\n",
      "File \u001B[1;32m~\\anaconda3\\envs\\monkey_nuc_segment_v6\\lib\\site-packages\\matplotlib\\pyplot.py:2742\u001B[0m, in \u001B[0;36mbar\u001B[1;34m(x, height, width, bottom, align, data, **kwargs)\u001B[0m\n\u001B[0;32m   2731\u001B[0m \u001B[38;5;129m@_copy_docstring_and_deprecators\u001B[39m(Axes\u001B[38;5;241m.\u001B[39mbar)\n\u001B[0;32m   2732\u001B[0m \u001B[38;5;28;01mdef\u001B[39;00m \u001B[38;5;21mbar\u001B[39m(\n\u001B[0;32m   2733\u001B[0m     x: \u001B[38;5;28mfloat\u001B[39m \u001B[38;5;241m|\u001B[39m ArrayLike,\n\u001B[1;32m   (...)\u001B[0m\n\u001B[0;32m   2740\u001B[0m     \u001B[38;5;241m*\u001B[39m\u001B[38;5;241m*\u001B[39mkwargs,\n\u001B[0;32m   2741\u001B[0m ) \u001B[38;5;241m-\u001B[39m\u001B[38;5;241m>\u001B[39m BarContainer:\n\u001B[1;32m-> 2742\u001B[0m     \u001B[38;5;28;01mreturn\u001B[39;00m gca()\u001B[38;5;241m.\u001B[39mbar(\n\u001B[0;32m   2743\u001B[0m         x,\n\u001B[0;32m   2744\u001B[0m         height,\n\u001B[0;32m   2745\u001B[0m         width\u001B[38;5;241m=\u001B[39mwidth,\n\u001B[0;32m   2746\u001B[0m         bottom\u001B[38;5;241m=\u001B[39mbottom,\n\u001B[0;32m   2747\u001B[0m         align\u001B[38;5;241m=\u001B[39malign,\n\u001B[0;32m   2748\u001B[0m         \u001B[38;5;241m*\u001B[39m\u001B[38;5;241m*\u001B[39m({\u001B[38;5;124m\"\u001B[39m\u001B[38;5;124mdata\u001B[39m\u001B[38;5;124m\"\u001B[39m: data} \u001B[38;5;28;01mif\u001B[39;00m data \u001B[38;5;129;01mis\u001B[39;00m \u001B[38;5;129;01mnot\u001B[39;00m \u001B[38;5;28;01mNone\u001B[39;00m \u001B[38;5;28;01melse\u001B[39;00m {}),\n\u001B[0;32m   2749\u001B[0m         \u001B[38;5;241m*\u001B[39m\u001B[38;5;241m*\u001B[39mkwargs,\n\u001B[0;32m   2750\u001B[0m     )\n",
      "File \u001B[1;32m~\\anaconda3\\envs\\monkey_nuc_segment_v6\\lib\\site-packages\\matplotlib\\__init__.py:1492\u001B[0m, in \u001B[0;36m_preprocess_data.<locals>.inner\u001B[1;34m(ax, data, *args, **kwargs)\u001B[0m\n\u001B[0;32m   1489\u001B[0m \u001B[38;5;129m@functools\u001B[39m\u001B[38;5;241m.\u001B[39mwraps(func)\n\u001B[0;32m   1490\u001B[0m \u001B[38;5;28;01mdef\u001B[39;00m \u001B[38;5;21minner\u001B[39m(ax, \u001B[38;5;241m*\u001B[39margs, data\u001B[38;5;241m=\u001B[39m\u001B[38;5;28;01mNone\u001B[39;00m, \u001B[38;5;241m*\u001B[39m\u001B[38;5;241m*\u001B[39mkwargs):\n\u001B[0;32m   1491\u001B[0m     \u001B[38;5;28;01mif\u001B[39;00m data \u001B[38;5;129;01mis\u001B[39;00m \u001B[38;5;28;01mNone\u001B[39;00m:\n\u001B[1;32m-> 1492\u001B[0m         \u001B[38;5;28;01mreturn\u001B[39;00m func(ax, \u001B[38;5;241m*\u001B[39m\u001B[38;5;28mmap\u001B[39m(sanitize_sequence, args), \u001B[38;5;241m*\u001B[39m\u001B[38;5;241m*\u001B[39mkwargs)\n\u001B[0;32m   1494\u001B[0m     bound \u001B[38;5;241m=\u001B[39m new_sig\u001B[38;5;241m.\u001B[39mbind(ax, \u001B[38;5;241m*\u001B[39margs, \u001B[38;5;241m*\u001B[39m\u001B[38;5;241m*\u001B[39mkwargs)\n\u001B[0;32m   1495\u001B[0m     auto_label \u001B[38;5;241m=\u001B[39m (bound\u001B[38;5;241m.\u001B[39marguments\u001B[38;5;241m.\u001B[39mget(label_namer)\n\u001B[0;32m   1496\u001B[0m                   \u001B[38;5;129;01mor\u001B[39;00m bound\u001B[38;5;241m.\u001B[39mkwargs\u001B[38;5;241m.\u001B[39mget(label_namer))\n",
      "File \u001B[1;32m~\\anaconda3\\envs\\monkey_nuc_segment_v6\\lib\\site-packages\\matplotlib\\axes\\_axes.py:2520\u001B[0m, in \u001B[0;36mAxes.bar\u001B[1;34m(self, x, height, width, bottom, align, **kwargs)\u001B[0m\n\u001B[0;32m   2517\u001B[0m args \u001B[38;5;241m=\u001B[39m \u001B[38;5;28mzip\u001B[39m(left, bottom, width, height, color, edgecolor, linewidth,\n\u001B[0;32m   2518\u001B[0m            hatch, patch_labels)\n\u001B[0;32m   2519\u001B[0m \u001B[38;5;28;01mfor\u001B[39;00m l, b, w, h, c, e, lw, htch, lbl \u001B[38;5;129;01min\u001B[39;00m args:\n\u001B[1;32m-> 2520\u001B[0m     r \u001B[38;5;241m=\u001B[39m \u001B[43mmpatches\u001B[49m\u001B[38;5;241;43m.\u001B[39;49m\u001B[43mRectangle\u001B[49m\u001B[43m(\u001B[49m\n\u001B[0;32m   2521\u001B[0m \u001B[43m        \u001B[49m\u001B[43mxy\u001B[49m\u001B[38;5;241;43m=\u001B[39;49m\u001B[43m(\u001B[49m\u001B[43ml\u001B[49m\u001B[43m,\u001B[49m\u001B[43m \u001B[49m\u001B[43mb\u001B[49m\u001B[43m)\u001B[49m\u001B[43m,\u001B[49m\u001B[43m \u001B[49m\u001B[43mwidth\u001B[49m\u001B[38;5;241;43m=\u001B[39;49m\u001B[43mw\u001B[49m\u001B[43m,\u001B[49m\u001B[43m \u001B[49m\u001B[43mheight\u001B[49m\u001B[38;5;241;43m=\u001B[39;49m\u001B[43mh\u001B[49m\u001B[43m,\u001B[49m\n\u001B[0;32m   2522\u001B[0m \u001B[43m        \u001B[49m\u001B[43mfacecolor\u001B[49m\u001B[38;5;241;43m=\u001B[39;49m\u001B[43mc\u001B[49m\u001B[43m,\u001B[49m\n\u001B[0;32m   2523\u001B[0m \u001B[43m        \u001B[49m\u001B[43medgecolor\u001B[49m\u001B[38;5;241;43m=\u001B[39;49m\u001B[43me\u001B[49m\u001B[43m,\u001B[49m\n\u001B[0;32m   2524\u001B[0m \u001B[43m        \u001B[49m\u001B[43mlinewidth\u001B[49m\u001B[38;5;241;43m=\u001B[39;49m\u001B[43mlw\u001B[49m\u001B[43m,\u001B[49m\n\u001B[0;32m   2525\u001B[0m \u001B[43m        \u001B[49m\u001B[43mlabel\u001B[49m\u001B[38;5;241;43m=\u001B[39;49m\u001B[43mlbl\u001B[49m\u001B[43m,\u001B[49m\n\u001B[0;32m   2526\u001B[0m \u001B[43m        \u001B[49m\u001B[43mhatch\u001B[49m\u001B[38;5;241;43m=\u001B[39;49m\u001B[43mhtch\u001B[49m\u001B[43m,\u001B[49m\n\u001B[0;32m   2527\u001B[0m \u001B[43m        \u001B[49m\u001B[43m)\u001B[49m\n\u001B[0;32m   2528\u001B[0m     r\u001B[38;5;241m.\u001B[39m_internal_update(kwargs)\n\u001B[0;32m   2529\u001B[0m     r\u001B[38;5;241m.\u001B[39mget_path()\u001B[38;5;241m.\u001B[39m_interpolation_steps \u001B[38;5;241m=\u001B[39m \u001B[38;5;241m100\u001B[39m\n",
      "File \u001B[1;32m~\\anaconda3\\envs\\monkey_nuc_segment_v6\\lib\\site-packages\\matplotlib\\patches.py:718\u001B[0m, in \u001B[0;36mRectangle.__init__\u001B[1;34m(self, xy, width, height, angle, rotation_point, **kwargs)\u001B[0m\n\u001B[0;32m    694\u001B[0m \u001B[38;5;129m@_docstring\u001B[39m\u001B[38;5;241m.\u001B[39mdedent_interpd\n\u001B[0;32m    695\u001B[0m \u001B[38;5;28;01mdef\u001B[39;00m \u001B[38;5;21m__init__\u001B[39m(\u001B[38;5;28mself\u001B[39m, xy, width, height, \u001B[38;5;241m*\u001B[39m,\n\u001B[0;32m    696\u001B[0m              angle\u001B[38;5;241m=\u001B[39m\u001B[38;5;241m0.0\u001B[39m, rotation_point\u001B[38;5;241m=\u001B[39m\u001B[38;5;124m'\u001B[39m\u001B[38;5;124mxy\u001B[39m\u001B[38;5;124m'\u001B[39m, \u001B[38;5;241m*\u001B[39m\u001B[38;5;241m*\u001B[39mkwargs):\n\u001B[0;32m    697\u001B[0m \u001B[38;5;250m    \u001B[39m\u001B[38;5;124;03m\"\"\"\u001B[39;00m\n\u001B[0;32m    698\u001B[0m \u001B[38;5;124;03m    Parameters\u001B[39;00m\n\u001B[0;32m    699\u001B[0m \u001B[38;5;124;03m    ----------\u001B[39;00m\n\u001B[1;32m   (...)\u001B[0m\n\u001B[0;32m    716\u001B[0m \u001B[38;5;124;03m        %(Patch:kwdoc)s\u001B[39;00m\n\u001B[0;32m    717\u001B[0m \u001B[38;5;124;03m    \"\"\"\u001B[39;00m\n\u001B[1;32m--> 718\u001B[0m     \u001B[38;5;28msuper\u001B[39m()\u001B[38;5;241m.\u001B[39m\u001B[38;5;21m__init__\u001B[39m(\u001B[38;5;241m*\u001B[39m\u001B[38;5;241m*\u001B[39mkwargs)\n\u001B[0;32m    719\u001B[0m     \u001B[38;5;28mself\u001B[39m\u001B[38;5;241m.\u001B[39m_x0 \u001B[38;5;241m=\u001B[39m xy[\u001B[38;5;241m0\u001B[39m]\n\u001B[0;32m    720\u001B[0m     \u001B[38;5;28mself\u001B[39m\u001B[38;5;241m.\u001B[39m_y0 \u001B[38;5;241m=\u001B[39m xy[\u001B[38;5;241m1\u001B[39m]\n",
      "File \u001B[1;32m~\\anaconda3\\envs\\monkey_nuc_segment_v6\\lib\\site-packages\\matplotlib\\patches.py:91\u001B[0m, in \u001B[0;36mPatch.__init__\u001B[1;34m(self, edgecolor, facecolor, color, linewidth, linestyle, antialiased, hatch, fill, capstyle, joinstyle, **kwargs)\u001B[0m\n\u001B[0;32m     88\u001B[0m \u001B[38;5;28mself\u001B[39m\u001B[38;5;241m.\u001B[39m_dash_pattern \u001B[38;5;241m=\u001B[39m (\u001B[38;5;241m0\u001B[39m, \u001B[38;5;28;01mNone\u001B[39;00m)  \u001B[38;5;66;03m# offset, dash (scaled by linewidth)\u001B[39;00m\n\u001B[0;32m     90\u001B[0m \u001B[38;5;28mself\u001B[39m\u001B[38;5;241m.\u001B[39mset_linestyle(linestyle)\n\u001B[1;32m---> 91\u001B[0m \u001B[38;5;28;43mself\u001B[39;49m\u001B[38;5;241;43m.\u001B[39;49m\u001B[43mset_linewidth\u001B[49m\u001B[43m(\u001B[49m\u001B[43mlinewidth\u001B[49m\u001B[43m)\u001B[49m\n\u001B[0;32m     92\u001B[0m \u001B[38;5;28mself\u001B[39m\u001B[38;5;241m.\u001B[39mset_antialiased(antialiased)\n\u001B[0;32m     93\u001B[0m \u001B[38;5;28mself\u001B[39m\u001B[38;5;241m.\u001B[39mset_hatch(hatch)\n",
      "File \u001B[1;32m~\\anaconda3\\envs\\monkey_nuc_segment_v6\\lib\\site-packages\\matplotlib\\patches.py:391\u001B[0m, in \u001B[0;36mPatch.set_linewidth\u001B[1;34m(self, w)\u001B[0m\n\u001B[0;32m    389\u001B[0m \u001B[38;5;28;01mif\u001B[39;00m w \u001B[38;5;129;01mis\u001B[39;00m \u001B[38;5;28;01mNone\u001B[39;00m:\n\u001B[0;32m    390\u001B[0m     w \u001B[38;5;241m=\u001B[39m mpl\u001B[38;5;241m.\u001B[39mrcParams[\u001B[38;5;124m'\u001B[39m\u001B[38;5;124mpatch.linewidth\u001B[39m\u001B[38;5;124m'\u001B[39m]\n\u001B[1;32m--> 391\u001B[0m \u001B[38;5;28mself\u001B[39m\u001B[38;5;241m.\u001B[39m_linewidth \u001B[38;5;241m=\u001B[39m \u001B[38;5;28;43mfloat\u001B[39;49m\u001B[43m(\u001B[49m\u001B[43mw\u001B[49m\u001B[43m)\u001B[49m\n\u001B[0;32m    392\u001B[0m \u001B[38;5;28mself\u001B[39m\u001B[38;5;241m.\u001B[39m_dash_pattern \u001B[38;5;241m=\u001B[39m mlines\u001B[38;5;241m.\u001B[39m_scale_dashes(\n\u001B[0;32m    393\u001B[0m     \u001B[38;5;241m*\u001B[39m\u001B[38;5;28mself\u001B[39m\u001B[38;5;241m.\u001B[39m_unscaled_dash_pattern, w)\n\u001B[0;32m    394\u001B[0m \u001B[38;5;28mself\u001B[39m\u001B[38;5;241m.\u001B[39mstale \u001B[38;5;241m=\u001B[39m \u001B[38;5;28;01mTrue\u001B[39;00m\n",
      "\u001B[1;31mTypeError\u001B[0m: only size-1 arrays can be converted to Python scalars"
     ]
    },
    {
     "data": {
      "text/plain": "<Figure size 640x480 with 1 Axes>",
      "image/png": "[encoded data removed]"
     },
     "metadata": {},
     "output_type": "display_data"
    }
   ],
   "source": [
    "plt.bar(titles, counts.T)"
   ],
   "metadata": {
    "collapsed": false,
    "ExecuteTime": {
     "end_time": "2023-12-08T23:04:33.099356800Z",
     "start_time": "2023-12-08T23:04:32.963538200Z"
    }
   }
  },
  {
   "cell_type": "code",
   "execution_count": 70,
   "outputs": [
    {
     "data": {
      "text/plain": "array([[1.4638915e+07, 1.1360942e+07, 5.3315230e+06, 2.0405600e+05,\n        3.0169900e+05, 1.3046291e+07, 3.8565686e+07, 1.8194793e+07,\n        3.3477950e+06, 4.2193811e+07, 2.1665450e+06, 2.2946660e+06,\n        1.1753300e+05, 2.3140600e+05, 4.8043320e+06, 2.1640470e+06,\n        3.8826600e+05, 1.4316080e+06, 1.4338300e+05, 7.9016000e+04,\n        1.6607000e+04, 1.0286000e+04, 1.0980000e+04, 1.3279000e+04,\n        1.7810380e+06, 8.7118800e+05, 6.5905300e+05, 1.8657900e+05,\n        4.9281600e+05, 7.1834300e+05, 1.7556800e+05, 4.4952650e+06,\n        1.6938610e+06, 5.3330600e+05, 1.5568680e+06, 3.0021100e+05,\n        4.4056800e+05, 7.5749100e+05, 5.9011294e+07, 4.2096900e+05,\n        1.6729000e+04, 9.5151100e+05, 7.4477700e+05, 8.8770000e+04,\n        1.2551700e+05, 2.0712300e+05, 4.1842000e+05, 1.9341000e+05,\n        1.4605100e+05, 4.7900400e+05, 3.1384600e+05, 1.5051400e+05,\n        1.5376500e+05, 6.5521000e+04, 2.1174500e+05, 1.6948000e+04,\n        1.1176416e+07, 9.9234118e+07, 6.2008710e+06, 3.3998767e+07,\n        2.9757519e+07, 3.1174800e+05, 2.6761000e+05, 2.6753400e+05,\n        4.0223000e+04, 5.9177900e+05, 1.3798400e+05, 1.4026700e+05,\n        2.5313000e+04, 6.3983000e+04, 1.0951419e+07]])"
     },
     "execution_count": 70,
     "metadata": {},
     "output_type": "execute_result"
    }
   ],
   "source": [
    "counts.T"
   ],
   "metadata": {
    "collapsed": false,
    "ExecuteTime": {
     "end_time": "2023-12-08T23:04:29.040565800Z",
     "start_time": "2023-12-08T23:04:29.015055600Z"
    }
   }
  },
  {
   "cell_type": "code",
   "execution_count": null,
   "outputs": [],
   "source": [],
   "metadata": {
    "collapsed": false
   }
  }
 ],
 "metadata": {
  "kernelspec": {
   "display_name": "Python 3",
   "language": "python",
   "name": "python3"
  },
  "language_info": {
   "codemirror_mode": {
    "name": "ipython",
    "version": 2
   },
   "file_extension": ".py",
   "mimetype": "text/x-python",
   "name": "python",
   "nbconvert_exporter": "python",
   "pygments_lexer": "ipython2",
   "version": "2.7.6"
  }
 },
 "nbformat": 4,
 "nbformat_minor": 0
}
