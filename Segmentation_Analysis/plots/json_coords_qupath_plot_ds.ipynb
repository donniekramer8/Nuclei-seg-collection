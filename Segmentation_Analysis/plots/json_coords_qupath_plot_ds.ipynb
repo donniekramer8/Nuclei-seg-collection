{
 "cells": [
  {
   "cell_type": "code",
   "execution_count": 63,
   "id": "initial_id",
   "metadata": {
    "collapsed": true,
    "ExecuteTime": {
     "end_time": "2024-02-12T16:34:34.545625300Z",
     "start_time": "2024-02-12T16:34:34.501625400Z"
    }
   },
   "outputs": [],
   "source": [
    "from tifffile import imread\n",
    "import os\n",
    "from matplotlib import pyplot as plt\n",
    "import json\n",
    "import geojson\n",
    "from scipy.io import loadmat\n",
    "import h5py\n",
    "import numpy as np"
   ]
  },
  {
   "cell_type": "code",
   "outputs": [],
   "source": [
    "# pth_WSI_segmentations = r'\\\\10.99.68.178\\andreex\\data\\Stardist\\PDAC model\\maybe_all_tiles_donald\\test_WSI\\StarDist_2_9_24\\json'\n",
    "pth_WSI_segmentations = r'\\\\10.99.68.178\\andre\\Eduarda PDAC\\immune_cell_pipeline\\star_dist_Donald_model\\StarDist_1_29_23\\json'"
   ],
   "metadata": {
    "collapsed": false,
    "ExecuteTime": {
     "end_time": "2024-02-12T19:18:14.647044600Z",
     "start_time": "2024-02-12T19:18:14.568045Z"
    }
   },
   "id": "46338febac5b93c3",
   "execution_count": 107
  },
  {
   "cell_type": "code",
   "outputs": [
    {
     "name": "stdout",
     "output_type": "stream",
     "text": [
      "['\\\\\\\\10.99.68.178\\\\andre\\\\Eduarda PDAC\\\\immune_cell_pipeline\\\\star_dist_Donald_model\\\\StarDist_1_29_23\\\\json\\\\OM1R_618.json', '\\\\\\\\10.99.68.178\\\\andre\\\\Eduarda PDAC\\\\immune_cell_pipeline\\\\star_dist_Donald_model\\\\StarDist_1_29_23\\\\json\\\\OM2R_786.json', '\\\\\\\\10.99.68.178\\\\andre\\\\Eduarda PDAC\\\\immune_cell_pipeline\\\\star_dist_Donald_model\\\\StarDist_1_29_23\\\\json\\\\YM1R_210.json', '\\\\\\\\10.99.68.178\\\\andre\\\\Eduarda PDAC\\\\immune_cell_pipeline\\\\star_dist_Donald_model\\\\StarDist_1_29_23\\\\json\\\\YM2R_326.json']\n"
     ]
    }
   ],
   "source": [
    "json_pth_list = sorted([os.path.join(pth_WSI_segmentations,file) for file in os.listdir(pth_WSI_segmentations) if file.endswith(\".json\")])\n",
    "print(json_pth_list)"
   ],
   "metadata": {
    "collapsed": false,
    "ExecuteTime": {
     "end_time": "2024-02-12T19:18:15.091044500Z",
     "start_time": "2024-02-12T19:18:15.074044700Z"
    }
   },
   "id": "824325fef43797ae",
   "execution_count": 108
  },
  {
   "cell_type": "code",
   "outputs": [],
   "source": [
    "ds = 4"
   ],
   "metadata": {
    "collapsed": false,
    "ExecuteTime": {
     "end_time": "2024-02-12T19:18:19.188044500Z",
     "start_time": "2024-02-12T19:18:19.175044500Z"
    }
   },
   "id": "57c26079fdf2319f",
   "execution_count": 109
  },
  {
   "cell_type": "code",
   "outputs": [],
   "source": [
    "def get_ds_data(segmentation_data, ds):\n",
    "    data_list = []\n",
    "    for data in segmentation_data:\n",
    "        centroid = data['centroid'][0]\n",
    "        contour = data['contour'][0]\n",
    "    \n",
    "        #print(centroid)\n",
    "        #print(contour)\n",
    "        \n",
    "        ds_centroid = [int(c/ds) for c in centroid]\n",
    "        ds_contour = [[value / ds for value in sublist] for sublist in contour]\n",
    "        ds_contour = [[round(x,2), round(y,2)] for x, y in zip(ds_contour[0], ds_contour[1])]\n",
    "        ds_contour = ds_contour[0:-1:4]  # make shape have 8 points instead of 32\n",
    "        \n",
    "        #print(ds_centroid)\n",
    "        #print(ds_contour)\n",
    "        \n",
    "        dat = [ds_centroid, ds_contour]\n",
    "        data_list.append(dat)\n",
    "    return data_list"
   ],
   "metadata": {
    "collapsed": false,
    "ExecuteTime": {
     "end_time": "2024-02-12T19:24:55.511583500Z",
     "start_time": "2024-02-12T19:24:55.504583100Z"
    }
   },
   "id": "1ac25708a229fc85",
   "execution_count": 121
  },
  {
   "cell_type": "code",
   "outputs": [
    {
     "data": {
      "text/plain": "[[10934.80623626709, 11201.97412109375],\n [10934.602432250977, 11201.95980834961],\n [10934.29800415039, 11202.050605773926],\n [10933.905174255371, 11202.094825744629],\n [10933.480262756348, 11202.01545715332],\n [10933.125137329102, 11201.776596069336],\n [10933.14151763916, 11201.369674682617],\n [10933.32804107666, 11201.0],\n [10933.693473815918, 11200.740112304688],\n [10933.970420837402, 11200.573532104492],\n [10934.10383605957, 11200.40119934082],\n [10934.290817260742, 11200.290817260742],\n [10934.43189239502, 11200.149772644043],\n [10934.66340637207, 11200.187393188477],\n [10934.818840026855, 11200.089263916016],\n [10935.0, 11200.0228805542],\n [10935.202194213867, 11199.98348236084],\n [10935.404571533203, 11200.02326965332],\n [10935.685974121094, 11199.973358154297],\n [10935.871322631836, 11200.128677368164],\n [10936.040771484375, 11200.304580688477],\n [10935.984008789062, 11200.592407226562],\n [10936.033126831055, 11200.794494628906],\n [10936.010818481445, 11201.0],\n [10935.888984680176, 11201.176834106445],\n [10935.76683807373, 11201.31763458252],\n [10935.799140930176, 11201.533966064453],\n [10935.634292602539, 11201.634292602539],\n [10935.498146057129, 11201.745529174805],\n [10935.290878295898, 11201.702239990234],\n [10935.158027648926, 11201.794471740723],\n [10935.0, 11201.919799804688]]"
     },
     "execution_count": 104,
     "metadata": {},
     "output_type": "execute_result"
    }
   ],
   "source": [
    "ds_contour"
   ],
   "metadata": {
    "collapsed": false,
    "ExecuteTime": {
     "end_time": "2024-02-12T19:01:22.506343600Z",
     "start_time": "2024-02-12T19:01:22.450343700Z"
    }
   },
   "id": "5149c849f203d452",
   "execution_count": 104
  },
  {
   "cell_type": "code",
   "outputs": [
    {
     "data": {
      "text/plain": "4.528985507246377"
     },
     "execution_count": 123,
     "metadata": {},
     "output_type": "execute_result"
    }
   ],
   "source": [
    "2/0.4416"
   ],
   "metadata": {
    "collapsed": false,
    "ExecuteTime": {
     "end_time": "2024-02-12T19:25:54.530711600Z",
     "start_time": "2024-02-12T19:25:54.525711300Z"
    }
   },
   "id": "f4b1688ee7203837",
   "execution_count": 123
  },
  {
   "cell_type": "code",
   "outputs": [
    {
     "name": "stdout",
     "output_type": "stream",
     "text": [
      "0 / 4\n",
      "OM1R_618.json\n",
      "Finished \\\\10.99.68.178\\andre\\Eduarda PDAC\\immune_cell_pipeline\\star_dist_Donald_model\\reduced_5x_geojsons\\OM1R_618.geojson\n",
      "1 / 4\n",
      "OM2R_786.json\n",
      "Finished \\\\10.99.68.178\\andre\\Eduarda PDAC\\immune_cell_pipeline\\star_dist_Donald_model\\reduced_5x_geojsons\\OM2R_786.geojson\n",
      "2 / 4\n",
      "YM1R_210.json\n",
      "Finished \\\\10.99.68.178\\andre\\Eduarda PDAC\\immune_cell_pipeline\\star_dist_Donald_model\\reduced_5x_geojsons\\YM1R_210.geojson\n",
      "3 / 4\n",
      "YM2R_326.json\n",
      "Finished \\\\10.99.68.178\\andre\\Eduarda PDAC\\immune_cell_pipeline\\star_dist_Donald_model\\reduced_5x_geojsons\\YM2R_326.geojson\n"
     ]
    }
   ],
   "source": [
    "# out_pth = r'\\\\10.99.68.178\\andreex\\data\\Stardist\\PDAC model\\maybe_all_tiles_donald\\test_WSI\\StarDist_2_9_24\\json\\partial_jsons'\n",
    "\n",
    "out_pth = r'\\\\10.99.68.178\\andre\\Eduarda PDAC\\immune_cell_pipeline\\star_dist_Donald_model\\reduced_5x_geojsons'\n",
    "\n",
    "# ds_amt = 4\n",
    "ds_amt = 2/0.4416\n",
    "\n",
    "for p, file in enumerate(json_pth_list):\n",
    "    nm = file.split('\\\\')[-1]\n",
    "    new_fn = os.path.join(out_pth, nm[:-5] + '.geojson')\n",
    "    print(f'{p} / {len(json_pth_list)}')\n",
    "    print(nm)\n",
    "    \n",
    "    if not os.path.exists(new_fn):\n",
    "    \n",
    "        segmentation_data = json.load(open(file))\n",
    "        \n",
    "        data_list = get_ds_data(segmentation_data, ds_amt)\n",
    "    \n",
    "        GEOdata = []\n",
    "        \n",
    "        for j, (centroid, contour) in enumerate(data_list):\n",
    "            \n",
    "            #if j == 100000:\n",
    "            #    break\n",
    "            \n",
    "            centroid = [centroid[0] + 0, centroid[1] + 0]\n",
    "            # xy coordinates are swapped, so I reverse them here with xy[::-1]\n",
    "            # note: add 1 to coords to fix 0 indexing vs 1 index offset\n",
    "            contour = [[coord+0 for coord in xy[::-1]] for xy in contour]  # Convert coordinates to integers\n",
    "            contour.append(contour[0]) # stardist doesn't close the circle, needed for qupath\n",
    "        \n",
    "            # Create a new dictionary for each contour\n",
    "            dict_data = {\n",
    "                \"type\": \"Feature\",\n",
    "                \"id\": \"PathCellObject\",\n",
    "                \"geometry\": {\n",
    "                    \"type\": \"Polygon\",\n",
    "                    \"coordinates\": [contour]\n",
    "                },\n",
    "                \"properties\": {\n",
    "                    'objectType': 'annotation',\n",
    "                    'classification': {'name': 'Nuclei', 'color': [97, 214, 59]}\n",
    "                }\n",
    "            }\n",
    "        \n",
    "            GEOdata.append(dict_data)\n",
    "        \n",
    "        with open(new_fn,'w') as outfile:\n",
    "            geojson.dump(GEOdata,outfile)\n",
    "        print('Finished',new_fn)\n",
    "    \n",
    "    else:\n",
    "        print(f'skipping {new_fn}')"
   ],
   "metadata": {
    "collapsed": false,
    "ExecuteTime": {
     "end_time": "2024-02-12T19:30:19.087439500Z",
     "start_time": "2024-02-12T19:26:06.066869900Z"
    }
   },
   "id": "17954b97009f1737",
   "execution_count": 124
  },
  {
   "cell_type": "code",
   "outputs": [],
   "source": [],
   "metadata": {
    "collapsed": false
   },
   "id": "42c73fee0db3df2a"
  }
 ],
 "metadata": {
  "kernelspec": {
   "display_name": "Python 3",
   "language": "python",
   "name": "python3"
  },
  "language_info": {
   "codemirror_mode": {
    "name": "ipython",
    "version": 2
   },
   "file_extension": ".py",
   "mimetype": "text/x-python",
   "name": "python",
   "nbconvert_exporter": "python",
   "pygments_lexer": "ipython2",
   "version": "2.7.6"
  }
 },
 "nbformat": 4,
 "nbformat_minor": 5
}
