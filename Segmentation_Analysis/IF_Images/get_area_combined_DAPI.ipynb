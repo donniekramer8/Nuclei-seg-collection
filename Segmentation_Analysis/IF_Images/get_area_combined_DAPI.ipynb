{
 "cells": [
  {
   "cell_type": "code",
   "execution_count": 1,
   "id": "initial_id",
   "metadata": {
    "collapsed": true,
    "ExecuteTime": {
     "end_time": "2024-02-27T14:56:13.650096Z",
     "start_time": "2024-02-27T14:56:11.723994300Z"
    }
   },
   "outputs": [],
   "source": [
    "import numpy as np\n",
    "import matplotlib.pyplot as plt\n",
    "from tifffile import imread\n",
    "from csbdeep.utils.tf import keras_import\n",
    "keras = keras_import()\n",
    "from stardist import random_label_cmap\n",
    "import os\n",
    "from glob import glob\n",
    "\n",
    "np.random.seed(0)\n",
    "cmap = random_label_cmap()"
   ]
  },
  {
   "cell_type": "code",
   "outputs": [],
   "source": [
    "pth = r'C:\\Users\\Donald\\Desktop\\AD_IF_Images\\AD brain tissue images_ImmunoFluorescence\\20231115_Shared\\5xFAD 12MO F3-1_IF slide1\\combined_ims'  # path of tif files\n",
    "WSIs = sorted(glob(f'{pth}\\*.tif'))"
   ],
   "metadata": {
    "collapsed": false,
    "ExecuteTime": {
     "end_time": "2024-02-27T14:56:18.578301700Z",
     "start_time": "2024-02-27T14:56:18.570301600Z"
    }
   },
   "id": "14152bc44d293300",
   "execution_count": 2
  },
  {
   "cell_type": "code",
   "outputs": [],
   "source": [
    "def show_image(img, crop_x, crop_y, tile_size, **kwargs):\n",
    "    fig, ax = plt.subplots(1, 2, figsize=(16, 8))\n",
    "    ax[0].imshow(img, **kwargs)\n",
    "    cropped_img = img[crop_y:crop_y+tile_size, crop_x:crop_x+tile_size]\n",
    "    ax[1].imshow(cropped_img, **kwargs)\n",
    "    ax[0].axis('off')\n",
    "    ax[1].axis('off')\n",
    "    plt.tight_layout()\n",
    "    plt.show()"
   ],
   "metadata": {
    "collapsed": false,
    "ExecuteTime": {
     "end_time": "2024-02-27T14:59:05.241138300Z",
     "start_time": "2024-02-27T14:59:05.225138300Z"
    }
   },
   "id": "bc2e5d16800ed81c",
   "execution_count": 3
  },
  {
   "cell_type": "code",
   "outputs": [
    {
     "name": "stdout",
     "output_type": "stream",
     "text": [
      "There are 4 registered models for 'StarDist2D':\n",
      "\n",
      "Name                  Alias(es)\n",
      "────                  ─────────\n",
      "'2D_versatile_fluo'   'Versatile (fluorescent nuclei)'\n",
      "'2D_versatile_he'     'Versatile (H&E nuclei)'\n",
      "'2D_paper_dsb2018'    'DSB 2018 (from StarDist 2D paper)'\n",
      "'2D_demo'             None\n",
      "Found model '2D_versatile_fluo' for 'StarDist2D'.\n",
      "Loading network weights from 'weights_best.h5'.\n",
      "Loading thresholds from 'thresholds.json'.\n",
      "Using default values: prob_thresh=0.479071, nms_thresh=0.3.\n"
     ]
    }
   ],
   "source": [
    "from stardist.models import StarDist2D\n",
    "\n",
    "# prints a list of available models\n",
    "StarDist2D.from_pretrained()\n",
    "\n",
    "# creates a pretrained model\n",
    "model = StarDist2D.from_pretrained('2D_versatile_fluo')"
   ],
   "metadata": {
    "collapsed": false,
    "ExecuteTime": {
     "end_time": "2024-02-27T14:59:24.313969700Z",
     "start_time": "2024-02-27T14:59:21.358973200Z"
    }
   },
   "id": "2d1666dc7c8352cb",
   "execution_count": 4
  },
  {
   "cell_type": "code",
   "outputs": [
    {
     "name": "stdout",
     "output_type": "stream",
     "text": [
      "effective: block_size=(4096, 4096), min_overlap=(128, 128), context=(128, 128)\n"
     ]
    },
    {
     "name": "stderr",
     "output_type": "stream",
     "text": [
      "100%|██████████| 24/24 [00:46<00:00,  1.96s/it]\n"
     ]
    }
   ],
   "source": [
    "# segment DAPI_Cy5 combined im\n",
    "img = imread(WSIs[0])\n",
    "img = img/255\n",
    "\n",
    "labels_Cy5, polys_Cy5 = model.predict_instances_big(img, axes='YX', block_size=4096, min_overlap=128, context=128, n_tiles=(4,4))"
   ],
   "metadata": {
    "collapsed": false,
    "ExecuteTime": {
     "end_time": "2024-02-27T15:01:43.489228Z",
     "start_time": "2024-02-27T15:00:53.889229300Z"
    }
   },
   "id": "5e81428170a8aed9",
   "execution_count": 6
  },
  {
   "cell_type": "code",
   "outputs": [
    {
     "name": "stdout",
     "output_type": "stream",
     "text": [
      "effective: block_size=(4096, 4096), min_overlap=(128, 128), context=(128, 128)\n"
     ]
    },
    {
     "name": "stderr",
     "output_type": "stream",
     "text": [
      "100%|██████████| 24/24 [00:49<00:00,  2.06s/it]\n"
     ]
    }
   ],
   "source": [
    "# segment DAPI_IBA combined im\n",
    "img = imread(WSIs[1])\n",
    "img = img/255\n",
    "\n",
    "labels_IBA, polys_IBA = model.predict_instances_big(img, axes='YX', block_size=4096, min_overlap=128, context=128, n_tiles=(4,4))"
   ],
   "metadata": {
    "collapsed": false,
    "ExecuteTime": {
     "end_time": "2024-02-27T15:02:33.710224700Z",
     "start_time": "2024-02-27T15:01:43.490228Z"
    }
   },
   "id": "2082cd95cc70f1f5",
   "execution_count": 7
  },
  {
   "cell_type": "code",
   "outputs": [
    {
     "data": {
      "text/plain": "['C:\\\\Users\\\\Donald\\\\Desktop\\\\AD_IF_Images\\\\AD brain tissue images_ImmunoFluorescence\\\\20231115_Shared\\\\5xFAD 12MO F3-1_IF slide1\\\\combined_ims\\\\DAPI_Cy5.tif',\n 'C:\\\\Users\\\\Donald\\\\Desktop\\\\AD_IF_Images\\\\AD brain tissue images_ImmunoFluorescence\\\\20231115_Shared\\\\5xFAD 12MO F3-1_IF slide1\\\\combined_ims\\\\DAPI_IBA.tif']"
     },
     "execution_count": 5,
     "metadata": {},
     "output_type": "execute_result"
    }
   ],
   "source": [
    "WSIs"
   ],
   "metadata": {
    "collapsed": false,
    "ExecuteTime": {
     "end_time": "2024-02-27T14:59:53.147933300Z",
     "start_time": "2024-02-27T14:59:53.136933400Z"
    }
   },
   "id": "4c862c988c299b89",
   "execution_count": 5
  },
  {
   "cell_type": "code",
   "outputs": [],
   "source": [
    "from scipy.io import loadmat\n",
    "import h5py\n",
    "\n",
    "def load_var_from_mat(mat_file_name, varname):\n",
    "    try:\n",
    "        data = loadmat(mat_file_name)\n",
    "        var = data[varname]\n",
    "    except:\n",
    "        data = h5py.File(mat_file_name, 'r')\n",
    "        var = data[varname][()]\n",
    "    return var"
   ],
   "metadata": {
    "collapsed": false,
    "ExecuteTime": {
     "end_time": "2024-02-27T15:02:33.742315300Z",
     "start_time": "2024-02-27T15:02:33.711224500Z"
    }
   },
   "id": "b02ffd702331db94",
   "execution_count": 8
  },
  {
   "cell_type": "code",
   "outputs": [],
   "source": [
    "pth = r'C:\\Users\\Donald\\Desktop\\AD_IF_Images\\AD brain tissue images_ImmunoFluorescence\\20231115_Shared\\5xFAD 12MO F3-1_IF slide1\\combined_ims\\coords_for_stardist'\n",
    "\n",
    "Cy5_coords = load_var_from_mat(os.path.join(pth, 'Cy5_coords.mat'), \"Cy5_coords\")\n",
    "\n",
    "IBA_coords = load_var_from_mat(os.path.join(pth, 'IBA_coords.mat'), \"IBA_coords\")"
   ],
   "metadata": {
    "collapsed": false,
    "ExecuteTime": {
     "end_time": "2024-02-27T15:04:09.859869500Z",
     "start_time": "2024-02-27T15:04:09.847869200Z"
    }
   },
   "id": "fcc9c9c9986fbefa",
   "execution_count": 9
  },
  {
   "cell_type": "code",
   "outputs": [],
   "source": [
    "adj_x_Cy5 = [x for x in Cy5_coords[:,0]]\n",
    "adj_y_Cy5 = [y for y in Cy5_coords[:,1]]\n",
    "adj_Cy5_coords = np.transpose(np.array([adj_x_Cy5, adj_y_Cy5]))\n",
    "\n",
    "adj_x_IBA = [x for x in IBA_coords[:,0]]\n",
    "adj_y_IBA = [y for y in IBA_coords[:,1]]\n",
    "adj_IBA_coords = np.transpose(np.array([adj_x_IBA, adj_y_IBA]))"
   ],
   "metadata": {
    "collapsed": false,
    "ExecuteTime": {
     "end_time": "2024-02-27T15:09:43.198832800Z",
     "start_time": "2024-02-27T15:09:43.188833100Z"
    }
   },
   "id": "fd919b71909ba6b0",
   "execution_count": 16
  },
  {
   "cell_type": "code",
   "outputs": [],
   "source": [
    "def is_point_encompassed(xy_point, set_of_points):\n",
    "    x, y = xy_point\n",
    "    min_x, max_x = min(point[0] for point in set_of_points), max(point[0] for point in set_of_points)\n",
    "    min_y, max_y = min(point[1] for point in set_of_points), max(point[1] for point in set_of_points)\n",
    "    return min_x <= x <= max_x and min_y <= y <= max_y"
   ],
   "metadata": {
    "collapsed": false,
    "ExecuteTime": {
     "end_time": "2024-02-27T15:09:48.016837Z",
     "start_time": "2024-02-27T15:09:48.007837700Z"
    }
   },
   "id": "d539508bfbb1d4fe",
   "execution_count": 17
  },
  {
   "cell_type": "code",
   "outputs": [
    {
     "name": "stdout",
     "output_type": "stream",
     "text": [
      "0 3772.912109375 3772.3267822265625\n",
      "17 3772.9813232421875 3772.173583984375\n",
      "54 4477.9288330078125 4476.66650390625\n",
      "57 4094.686767578125 4094.0263061523438\n",
      "59 4903.295166015625 4902.521240234375\n",
      "61 4075.304443359375 4074.2969970703125\n",
      "62 3976.2813110351562 3975.68408203125\n",
      "64 4806.51220703125 4805.0294189453125\n",
      "65 4272.179260253906 4271.1339111328125\n",
      "67 4207.4598388671875 4206.7015380859375\n",
      "68 4352.6402587890625 4351.695556640625\n",
      "69 4505.1885986328125 4504.2642822265625\n",
      "72 3824.4797973632812 3823.4819946289062\n",
      "73 4575.1524658203125 4574.6043701171875\n",
      "74 4144.0286865234375 4142.88916015625\n",
      "74 4144.0286865234375 4142.88916015625\n",
      "75 4097.178955078125 4096.7247314453125\n",
      "76 4233.422790527344 4232.8948974609375\n",
      "80 4598.877685546875 4598.4075927734375\n",
      "81 4311.4617919921875 4310.2733154296875\n",
      "81 4311.4617919921875 4310.2733154296875\n",
      "82 4053.21875 4052.6602172851562\n",
      "83 4626.7076416015625 4626.345947265625\n",
      "83 4626.7076416015625 4626.345947265625\n",
      "90 4898.115478515625 4896.8929443359375\n",
      "90 4898.115478515625 4896.8929443359375\n",
      "93 5084.197021484375 5083.0947265625\n",
      "94 4098.978759765625 4097.8994140625\n",
      "96 3874.90869140625 3873.7835388183594\n",
      "97 4457.3875732421875 4456.802001953125\n",
      "101 4161.425842285156 4159.7366943359375\n",
      "107 4340.0411376953125 4339.29541015625\n",
      "111 4481.3504638671875 4481.1162109375\n",
      "121 4176.42529296875 4174.8980712890625\n",
      "122 4732.990234375 4731.900146484375\n",
      "124 4191.627746582031 4191.0457763671875\n",
      "125 4690.0499267578125 4689.4781494140625\n",
      "128 4536.433349609375 4536.065673828125\n",
      "130 4745.9385986328125 4744.7740478515625\n",
      "145 4174.663818359375 4174.0399169921875\n",
      "169 4153.061462402344 4152.20556640625\n",
      "176 5128.9908447265625 5128.17236328125\n",
      "178 4941.1636962890625 4940.0672607421875\n",
      "180 4140.5670166015625 4139.9901123046875\n",
      "189 4230.039978027344 4229.034851074219\n"
     ]
    },
    {
     "ename": "KeyboardInterrupt",
     "evalue": "",
     "output_type": "error",
     "traceback": [
      "\u001B[1;31m---------------------------------------------------------------------------\u001B[0m",
      "\u001B[1;31mKeyboardInterrupt\u001B[0m                         Traceback (most recent call last)",
      "Cell \u001B[1;32mIn[18], line 22\u001B[0m\n\u001B[0;32m     19\u001B[0m in_tile\u001B[38;5;241m.\u001B[39mappend([xy])  \u001B[38;5;66;03m# just for testing, delete later probably\u001B[39;00m\n\u001B[0;32m     20\u001B[0m \u001B[38;5;28;01mfor\u001B[39;00m xy_cy5 \u001B[38;5;129;01min\u001B[39;00m adj_Cy5_coords:\n\u001B[1;32m---> 22\u001B[0m     \u001B[38;5;28;01mif\u001B[39;00m \u001B[43mis_point_encompassed\u001B[49m\u001B[43m(\u001B[49m\u001B[43mxy_cy5\u001B[49m\u001B[43m,\u001B[49m\u001B[43m \u001B[49m\u001B[43mxy\u001B[49m\u001B[43m)\u001B[49m:\n\u001B[0;32m     23\u001B[0m         in_tile_ind \u001B[38;5;241m=\u001B[39m \u001B[38;5;28mlen\u001B[39m(in_tile) \u001B[38;5;241m-\u001B[39m \u001B[38;5;241m1\u001B[39m\n\u001B[0;32m     24\u001B[0m         in_tile_inds\u001B[38;5;241m.\u001B[39mappend(in_tile_ind)\n",
      "Cell \u001B[1;32mIn[17], line 4\u001B[0m, in \u001B[0;36mis_point_encompassed\u001B[1;34m(xy_point, set_of_points)\u001B[0m\n\u001B[0;32m      2\u001B[0m x, y \u001B[38;5;241m=\u001B[39m xy_point\n\u001B[0;32m      3\u001B[0m min_x, max_x \u001B[38;5;241m=\u001B[39m \u001B[38;5;28mmin\u001B[39m(point[\u001B[38;5;241m0\u001B[39m] \u001B[38;5;28;01mfor\u001B[39;00m point \u001B[38;5;129;01min\u001B[39;00m set_of_points), \u001B[38;5;28mmax\u001B[39m(point[\u001B[38;5;241m0\u001B[39m] \u001B[38;5;28;01mfor\u001B[39;00m point \u001B[38;5;129;01min\u001B[39;00m set_of_points)\n\u001B[1;32m----> 4\u001B[0m min_y, max_y \u001B[38;5;241m=\u001B[39m \u001B[38;5;28;43mmin\u001B[39;49m\u001B[43m(\u001B[49m\u001B[43mpoint\u001B[49m\u001B[43m[\u001B[49m\u001B[38;5;241;43m1\u001B[39;49m\u001B[43m]\u001B[49m\u001B[43m \u001B[49m\u001B[38;5;28;43;01mfor\u001B[39;49;00m\u001B[43m \u001B[49m\u001B[43mpoint\u001B[49m\u001B[43m \u001B[49m\u001B[38;5;129;43;01min\u001B[39;49;00m\u001B[43m \u001B[49m\u001B[43mset_of_points\u001B[49m\u001B[43m)\u001B[49m, \u001B[38;5;28mmax\u001B[39m(point[\u001B[38;5;241m1\u001B[39m] \u001B[38;5;28;01mfor\u001B[39;00m point \u001B[38;5;129;01min\u001B[39;00m set_of_points)\n\u001B[0;32m      5\u001B[0m \u001B[38;5;28;01mreturn\u001B[39;00m min_x \u001B[38;5;241m<\u001B[39m\u001B[38;5;241m=\u001B[39m x \u001B[38;5;241m<\u001B[39m\u001B[38;5;241m=\u001B[39m max_x \u001B[38;5;129;01mand\u001B[39;00m min_y \u001B[38;5;241m<\u001B[39m\u001B[38;5;241m=\u001B[39m y \u001B[38;5;241m<\u001B[39m\u001B[38;5;241m=\u001B[39m max_y\n",
      "Cell \u001B[1;32mIn[17], line 4\u001B[0m, in \u001B[0;36m<genexpr>\u001B[1;34m(.0)\u001B[0m\n\u001B[0;32m      2\u001B[0m x, y \u001B[38;5;241m=\u001B[39m xy_point\n\u001B[0;32m      3\u001B[0m min_x, max_x \u001B[38;5;241m=\u001B[39m \u001B[38;5;28mmin\u001B[39m(point[\u001B[38;5;241m0\u001B[39m] \u001B[38;5;28;01mfor\u001B[39;00m point \u001B[38;5;129;01min\u001B[39;00m set_of_points), \u001B[38;5;28mmax\u001B[39m(point[\u001B[38;5;241m0\u001B[39m] \u001B[38;5;28;01mfor\u001B[39;00m point \u001B[38;5;129;01min\u001B[39;00m set_of_points)\n\u001B[1;32m----> 4\u001B[0m min_y, max_y \u001B[38;5;241m=\u001B[39m \u001B[38;5;28mmin\u001B[39m(point[\u001B[38;5;241m1\u001B[39m] \u001B[38;5;28;01mfor\u001B[39;00m point \u001B[38;5;129;01min\u001B[39;00m set_of_points), \u001B[38;5;28mmax\u001B[39m(point[\u001B[38;5;241m1\u001B[39m] \u001B[38;5;28;01mfor\u001B[39;00m point \u001B[38;5;129;01min\u001B[39;00m set_of_points)\n\u001B[0;32m      5\u001B[0m \u001B[38;5;28;01mreturn\u001B[39;00m min_x \u001B[38;5;241m<\u001B[39m\u001B[38;5;241m=\u001B[39m x \u001B[38;5;241m<\u001B[39m\u001B[38;5;241m=\u001B[39m max_x \u001B[38;5;129;01mand\u001B[39;00m min_y \u001B[38;5;241m<\u001B[39m\u001B[38;5;241m=\u001B[39m y \u001B[38;5;241m<\u001B[39m\u001B[38;5;241m=\u001B[39m max_y\n",
      "\u001B[1;31mKeyboardInterrupt\u001B[0m: "
     ]
    }
   ],
   "source": [
    "# for Cy5 coords:\n",
    "\n",
    "in_tile_inds = []\n",
    "poly_inds = []\n",
    "\n",
    "in_tile = []\n",
    "for num, i in enumerate(polys_Cy5['coord']):\n",
    "    xy = np.transpose(i)\n",
    "    # get centroids of poly\n",
    "    x_cent = np.mean(xy[1])  # reversed order, idk why\n",
    "    y_cent = np.mean(xy[0])\n",
    "    \n",
    "    # fix orientation of coordinates in matrix\n",
    "    x = [x for x in xy[:,0]]\n",
    "    y = [y for y in xy[:,1]]\n",
    "    xy = np.transpose(np.array([x, y]))[:, ::-1]\n",
    "\n",
    "    \n",
    "    in_tile.append([xy])  # just for testing, delete later probably\n",
    "    for xy_cy5 in adj_Cy5_coords:\n",
    "        \n",
    "        if is_point_encompassed(xy_cy5, xy):\n",
    "            in_tile_ind = len(in_tile) - 1\n",
    "            in_tile_inds.append(in_tile_ind)\n",
    "            \n",
    "            poly_inds.append(num)\n",
    "            print(num, x_cent, y_cent)"
   ],
   "metadata": {
    "collapsed": false,
    "ExecuteTime": {
     "end_time": "2024-02-27T15:11:33.267829800Z",
     "start_time": "2024-02-27T15:11:14.889559600Z"
    }
   },
   "id": "23292d80a9f49e57",
   "execution_count": 18
  },
  {
   "cell_type": "code",
   "outputs": [
    {
     "data": {
      "text/plain": "6862"
     },
     "execution_count": 19,
     "metadata": {},
     "output_type": "execute_result"
    }
   ],
   "source": [
    "len(adj_Cy5_coords)"
   ],
   "metadata": {
    "collapsed": false,
    "ExecuteTime": {
     "end_time": "2024-02-27T15:11:40.852568900Z",
     "start_time": "2024-02-27T15:11:40.841569100Z"
    }
   },
   "id": "68b4d158cb029045",
   "execution_count": 19
  },
  {
   "cell_type": "code",
   "outputs": [
    {
     "data": {
      "text/plain": "47109"
     },
     "execution_count": 20,
     "metadata": {},
     "output_type": "execute_result"
    }
   ],
   "source": [
    "len(polys_Cy5['coord'])"
   ],
   "metadata": {
    "collapsed": false,
    "ExecuteTime": {
     "end_time": "2024-02-27T15:11:52.647220Z",
     "start_time": "2024-02-27T15:11:52.628220200Z"
    }
   },
   "id": "1f4f9b24cc13b31b",
   "execution_count": 20
  },
  {
   "cell_type": "code",
   "outputs": [],
   "source": [],
   "metadata": {
    "collapsed": false
   },
   "id": "5ebfe01cec2f30dd"
  }
 ],
 "metadata": {
  "kernelspec": {
   "display_name": "Python 3",
   "language": "python",
   "name": "python3"
  },
  "language_info": {
   "codemirror_mode": {
    "name": "ipython",
    "version": 2
   },
   "file_extension": ".py",
   "mimetype": "text/x-python",
   "name": "python",
   "nbconvert_exporter": "python",
   "pygments_lexer": "ipython2",
   "version": "2.7.6"
  }
 },
 "nbformat": 4,
 "nbformat_minor": 5
}
