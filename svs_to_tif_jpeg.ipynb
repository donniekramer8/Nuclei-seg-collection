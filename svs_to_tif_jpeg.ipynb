{
 "cells": [
  {
   "cell_type": "code",
   "execution_count": 1,
   "metadata": {
    "collapsed": true
   },
   "outputs": [],
   "source": [
    "import os\n",
    "from PIL import Image\n",
    "import numpy as np\n",
    "\n",
    "openslide_path = r'C:\\Users\\Donald\\Documents\\openslide-win64-20230414\\bin'\n",
    "\n",
    "os.environ['PATH'] = openslide_path + \";\" + os.environ['PATH']\n",
    "# from openslide import OpenSlide\n",
    "\n",
    "\n",
    "if hasattr(os, 'add_dll_directory'):\n",
    "    # Python >= 3.8 on Windows\n",
    "    with os.add_dll_directory(openslide_path):\n",
    "        import openslide\n",
    "else:\n",
    "    import openslide\n",
    "from openslide import OpenSlide"
   ]
  },
  {
   "cell_type": "code",
   "execution_count": 3,
   "outputs": [],
   "source": [
    "pth_svs = r'\\\\10.99.68.178\\andreex\\data\\monkey fetus\\gestational 40\\1024tiles\\tiles'\n",
    "\n",
    "cropped_svs = [_ for _ in os.listdir(pth_svs) if _.endswith('svs')]"
   ],
   "metadata": {
    "collapsed": false,
    "ExecuteTime": {
     "end_time": "2023-10-23T16:37:29.368718600Z",
     "start_time": "2023-10-23T16:37:29.352713400Z"
    }
   }
  },
  {
   "cell_type": "code",
   "execution_count": 4,
   "outputs": [
    {
     "data": {
      "text/plain": "['monkey_fetus_40_0105_ecm.svs',\n 'monkey_fetus_40_0271_eye.svs',\n 'monkey_fetus_40_0400_spinalcord.svs',\n 'monkey_fetus_40_0420_brain.svs',\n 'monkey_fetus_40_0432_bone.svs',\n 'monkey_fetus_40_0450_heart.svs',\n 'monkey_fetus_40_0730_kidney.svs']"
     },
     "execution_count": 4,
     "metadata": {},
     "output_type": "execute_result"
    }
   ],
   "source": [
    "cropped_svs"
   ],
   "metadata": {
    "collapsed": false,
    "ExecuteTime": {
     "end_time": "2023-10-23T16:37:31.381390100Z",
     "start_time": "2023-10-23T16:37:31.373390100Z"
    }
   }
  },
  {
   "cell_type": "code",
   "execution_count": 8,
   "outputs": [],
   "source": [
    "outpth = r'\\\\10.99.68.178\\andreex\\data\\monkey fetus\\gestational 40\\1024tiles\\tiles\\jpegs'\n",
    "\n",
    "if not os.path.exists(outpth):\n",
    "    os.mkdir(outpth)\n",
    "\n",
    "for file in cropped_svs:\n",
    "    out_name = f'{os.path.join(outpth, file[:-4])}.jpeg'\n",
    "    if not os.path.exists(out_name):\n",
    "        file_name = os.path.join(pth_svs, file)\n",
    "        svs_slide = openslide.open_slide(file_name)\n",
    "        svs_width, svs_height = svs_slide.dimensions\n",
    "        region = svs_slide.read_region((0, 0), 0, (svs_width, svs_height))\n",
    "        image = Image.new('RGB', region.size)\n",
    "        image.paste(region, (0, 0))\n",
    "        image.save(out_name, 'JPEG')"
   ],
   "metadata": {
    "collapsed": false,
    "ExecuteTime": {
     "end_time": "2023-10-23T16:42:34.911746500Z",
     "start_time": "2023-10-23T16:42:33.849244400Z"
    }
   }
  },
  {
   "cell_type": "code",
   "execution_count": 9,
   "outputs": [],
   "source": [
    "outpth = r'\\\\10.99.68.178\\andreex\\data\\monkey fetus\\gestational 40\\1024tiles\\tiles\\tiffs'\n",
    "\n",
    "if not os.path.exists(outpth):\n",
    "    os.mkdir(outpth)\n",
    "\n",
    "for file in cropped_svs:\n",
    "    out_name = f'{os.path.join(outpth, file[:-4])}.tiff'\n",
    "    if not os.path.exists(out_name):\n",
    "        file_name = os.path.join(pth_svs, file)\n",
    "        svs_slide = openslide.open_slide(file_name)\n",
    "        svs_width, svs_height = svs_slide.dimensions\n",
    "        region = svs_slide.read_region((0, 0), 0, (svs_width, svs_height))\n",
    "        image = Image.new('RGB', region.size)\n",
    "        image.paste(region, (0, 0))\n",
    "        image.save(out_name, 'TIFF')"
   ],
   "metadata": {
    "collapsed": false,
    "ExecuteTime": {
     "end_time": "2023-10-23T16:42:51.987108900Z",
     "start_time": "2023-10-23T16:42:50.796048800Z"
    }
   }
  }
 ],
 "metadata": {
  "kernelspec": {
   "display_name": "Python 3",
   "language": "python",
   "name": "python3"
  },
  "language_info": {
   "codemirror_mode": {
    "name": "ipython",
    "version": 2
   },
   "file_extension": ".py",
   "mimetype": "text/x-python",
   "name": "python",
   "nbconvert_exporter": "python",
   "pygments_lexer": "ipython2",
   "version": "2.7.6"
  }
 },
 "nbformat": 4,
 "nbformat_minor": 0
}
